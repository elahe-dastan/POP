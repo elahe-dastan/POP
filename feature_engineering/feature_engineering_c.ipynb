{
 "cells": [
  {
   "cell_type": "code",
   "execution_count": 1,
   "metadata": {
    "collapsed": true,
    "pycharm": {
     "name": "#%%\n"
    }
   },
   "outputs": [],
   "source": [
    "import pandas as pd\n",
    "import numpy as np\n",
    "from sklearn.linear_model import LinearRegression\n",
    "from sklearn.metrics import mean_absolute_error, mean_squared_error, explained_variance_score, median_absolute_error, r2_score, mean_absolute_percentage_error\n",
    "from sklearn.model_selection import train_test_split\n",
    "from scipy.stats import *\n",
    "import h3\n",
    "from sklearn.preprocessing import OneHotEncoder\n",
    "from sklearn.compose import ColumnTransformer\n",
    "from datetime import datetime"
   ]
  },
  {
   "cell_type": "code",
   "execution_count": 2,
   "outputs": [
    {
     "data": {
      "text/plain": "       accepted_driver_id  passenger_id    source_lat    source_lng  \\\ncount        2.164000e+04  2.164000e+04  21640.000000  21640.000000   \nmean         2.014121e+06  2.350918e+07     35.694906     51.401833   \nstd          1.438191e+06  1.800039e+07      0.096689      0.142701   \nmin          2.140000e+02  6.370000e+02     35.209118     50.902416   \n25%          5.546260e+05  4.778300e+06     35.664794     51.331205   \n50%          1.998809e+06  2.356817e+07     35.724831     51.405758   \n75%          3.341234e+06  3.810790e+07     35.756205     51.468071   \nmax          4.321580e+06  5.728358e+07     35.832058     52.787960   \n\n       destination_lat  destination_lng           eta           ata  \\\ncount     21640.000000     21640.000000  21640.000000  21640.000000   \nmean         35.695767        51.398042    959.328420   1180.374122   \nstd           0.096236         0.150727    697.703745   1001.170375   \nmin          34.623146        50.670673      1.000000    120.000000   \n25%          35.663613        51.330386    455.000000    488.750000   \n50%          35.725157        51.404190    768.000000    871.000000   \n75%          35.755826        51.471036   1256.000000   1521.250000   \nmax          35.966866        52.776981   7160.000000  10212.000000   \n\n            ride_id     city  \ncount  2.164000e+04  21640.0  \nmean   4.916790e+09      1.0  \nstd    3.622046e+05      0.0  \nmin    4.916144e+09      1.0  \n25%    4.916470e+09      1.0  \n50%    4.916806e+09      1.0  \n75%    4.917168e+09      1.0  \nmax    4.917451e+09      1.0  ",
      "text/html": "<div>\n<style scoped>\n    .dataframe tbody tr th:only-of-type {\n        vertical-align: middle;\n    }\n\n    .dataframe tbody tr th {\n        vertical-align: top;\n    }\n\n    .dataframe thead th {\n        text-align: right;\n    }\n</style>\n<table border=\"1\" class=\"dataframe\">\n  <thead>\n    <tr style=\"text-align: right;\">\n      <th></th>\n      <th>accepted_driver_id</th>\n      <th>passenger_id</th>\n      <th>source_lat</th>\n      <th>source_lng</th>\n      <th>destination_lat</th>\n      <th>destination_lng</th>\n      <th>eta</th>\n      <th>ata</th>\n      <th>ride_id</th>\n      <th>city</th>\n    </tr>\n  </thead>\n  <tbody>\n    <tr>\n      <th>count</th>\n      <td>2.164000e+04</td>\n      <td>2.164000e+04</td>\n      <td>21640.000000</td>\n      <td>21640.000000</td>\n      <td>21640.000000</td>\n      <td>21640.000000</td>\n      <td>21640.000000</td>\n      <td>21640.000000</td>\n      <td>2.164000e+04</td>\n      <td>21640.0</td>\n    </tr>\n    <tr>\n      <th>mean</th>\n      <td>2.014121e+06</td>\n      <td>2.350918e+07</td>\n      <td>35.694906</td>\n      <td>51.401833</td>\n      <td>35.695767</td>\n      <td>51.398042</td>\n      <td>959.328420</td>\n      <td>1180.374122</td>\n      <td>4.916790e+09</td>\n      <td>1.0</td>\n    </tr>\n    <tr>\n      <th>std</th>\n      <td>1.438191e+06</td>\n      <td>1.800039e+07</td>\n      <td>0.096689</td>\n      <td>0.142701</td>\n      <td>0.096236</td>\n      <td>0.150727</td>\n      <td>697.703745</td>\n      <td>1001.170375</td>\n      <td>3.622046e+05</td>\n      <td>0.0</td>\n    </tr>\n    <tr>\n      <th>min</th>\n      <td>2.140000e+02</td>\n      <td>6.370000e+02</td>\n      <td>35.209118</td>\n      <td>50.902416</td>\n      <td>34.623146</td>\n      <td>50.670673</td>\n      <td>1.000000</td>\n      <td>120.000000</td>\n      <td>4.916144e+09</td>\n      <td>1.0</td>\n    </tr>\n    <tr>\n      <th>25%</th>\n      <td>5.546260e+05</td>\n      <td>4.778300e+06</td>\n      <td>35.664794</td>\n      <td>51.331205</td>\n      <td>35.663613</td>\n      <td>51.330386</td>\n      <td>455.000000</td>\n      <td>488.750000</td>\n      <td>4.916470e+09</td>\n      <td>1.0</td>\n    </tr>\n    <tr>\n      <th>50%</th>\n      <td>1.998809e+06</td>\n      <td>2.356817e+07</td>\n      <td>35.724831</td>\n      <td>51.405758</td>\n      <td>35.725157</td>\n      <td>51.404190</td>\n      <td>768.000000</td>\n      <td>871.000000</td>\n      <td>4.916806e+09</td>\n      <td>1.0</td>\n    </tr>\n    <tr>\n      <th>75%</th>\n      <td>3.341234e+06</td>\n      <td>3.810790e+07</td>\n      <td>35.756205</td>\n      <td>51.468071</td>\n      <td>35.755826</td>\n      <td>51.471036</td>\n      <td>1256.000000</td>\n      <td>1521.250000</td>\n      <td>4.917168e+09</td>\n      <td>1.0</td>\n    </tr>\n    <tr>\n      <th>max</th>\n      <td>4.321580e+06</td>\n      <td>5.728358e+07</td>\n      <td>35.832058</td>\n      <td>52.787960</td>\n      <td>35.966866</td>\n      <td>52.776981</td>\n      <td>7160.000000</td>\n      <td>10212.000000</td>\n      <td>4.917451e+09</td>\n      <td>1.0</td>\n    </tr>\n  </tbody>\n</table>\n</div>"
     },
     "execution_count": 2,
     "metadata": {},
     "output_type": "execute_result"
    }
   ],
   "source": [
    "columns = ['accepted_driver_id', 'created_at', 'passenger_id', 'source_lat',\n",
    "       'source_lng', 'destination_lat', 'destination_lng', 'eta', 'provider',\n",
    "       'ata', 'id', 'city']\n",
    "rides = pd.read_csv(\"../rides_2022-09-07_17to19.csv\", names=columns)\n",
    "rides.rename(columns={'id': 'ride_id'}, inplace=True)\n",
    "rides.describe()"
   ],
   "metadata": {
    "collapsed": false,
    "pycharm": {
     "name": "#%%\n"
    }
   }
  },
  {
   "cell_type": "code",
   "execution_count": 3,
   "outputs": [
    {
     "data": {
      "text/plain": "            ride_id     driver_id  a_t_a_result.arrival_a_t_a  \\\ncount  9.043440e+05  9.043440e+05               904344.000000   \nmean   4.916829e+09  2.386208e+06                  190.650374   \nstd    6.618209e+05  1.334830e+06                  154.364975   \nmin    4.719714e+09  4.300000e+01                    0.000000   \n25%    4.916407e+09  1.225052e+06                   90.000000   \n50%    4.916829e+09  2.450271e+06                  172.000000   \n75%    4.917255e+09  3.619625e+06                  266.000000   \nmax    4.917849e+09  4.321993e+06                19555.000000   \n\n       a_t_a_result.boarding_a_t_a  a_t_a_result.ride_a_t_a  \\\ncount                 9.043440e+05             9.043440e+05   \nmean                  1.321786e+16             4.776094e+07   \nstd                   4.936112e+17             1.744911e+09   \nmin                   0.000000e+00             1.000000e+00   \n25%                   8.000000e+00             4.260000e+02   \n50%                   3.600000e+01             7.320000e+02   \n75%                   1.250000e+02             1.260000e+03   \nmax                   1.844674e+19             6.379816e+10   \n\n       a_t_a_result.arrival_probe_result.probe.point.lat  \\\ncount                                      904344.000000   \nmean                                           34.570586   \nstd                                             2.563067   \nmin                                            25.277533   \n25%                                            32.678195   \n50%                                            35.705357   \n75%                                            36.254910   \nmax                                            39.652897   \n\n       a_t_a_result.arrival_probe_result.probe.point.lon  \\\ncount                                      904344.000000   \nmean                                           51.898873   \nstd                                             3.529245   \nmin                                            44.830383   \n25%                                            50.831985   \n50%                                            51.408218   \n75%                                            52.519666   \nmax                                            61.169842   \n\n       a_t_a_result.arrival_probe_result.probe.timestamp  \\\ncount                                       9.043440e+05   \nmean                                        2.223376e+15   \nstd                                         2.025071e+17   \nmin                                         1.662278e+09   \n25%                                         1.662556e+09   \n50%                                         1.662560e+09   \n75%                                         1.662563e+09   \nmax                                         1.844674e+19   \n\n       a_t_a_result.arrival_probe_result.confidence  \\\ncount                                 904344.000000   \nmean                                       0.730997   \nstd                                        0.342530   \nmin                                        0.000000   \n25%                                        0.591716   \n50%                                        0.769231   \n75%                                        1.000000   \nmax                                        1.000000   \n\n       a_t_a_result.arrival_probe_result.k_ring_level  ...  \\\ncount                                   904344.000000  ...   \nmean                                         1.171796  ...   \nstd                                          1.443084  ...   \nmin                                          0.000000  ...   \n25%                                          0.000000  ...   \n50%                                          1.000000  ...   \n75%                                          2.000000  ...   \nmax                                          4.000000  ...   \n\n       pickup_a_d_d_result.route_ratio  pickup_a_d_d_result.g_p_s_ratio  \\\ncount                    904344.000000                    904344.000000   \nmean                          0.000355                         0.014423   \nstd                           0.016809                         0.016305   \nmin                           0.000000                         0.000000   \n25%                           0.000000                         0.005263   \n50%                           0.000000                         0.011111   \n75%                           0.000000                         0.019608   \nmax                           1.000000                         1.000000   \n\n       ride_a_d_d_result.distance  ride_a_d_d_result.confidence  \\\ncount               904344.000000                 904344.000000   \nmean                    13.722454                      0.857881   \nstd                     31.896299                      0.190258   \nmin                      0.000000                      0.000000   \n25%                      4.634000                      0.742794   \n50%                      8.734000                      0.963577   \n75%                     16.544001                      1.000000   \nmax                  25057.876953                      1.000000   \n\n       ride_a_d_d_result.route_ratio  ride_a_d_d_result.g_p_s_ratio  \\\ncount                  904344.000000                  904344.000000   \nmean                        0.000103                       0.705383   \nstd                         0.004796                       0.352332   \nmin                         0.000000                       0.000000   \n25%                         0.000000                       0.452830   \n50%                         0.000000                       0.895294   \n75%                         0.000000                       0.985075   \nmax                         1.000000                       1.000000   \n\n       total_a_d_d_confidence  in_ride_allotment          e_d_d          hash  \ncount           904344.000000      904344.000000  904344.000000  9.043440e+05  \nmean                 0.867802           0.041309       8.421349  9.222961e+18  \nstd                  0.180274           0.303695      11.726985  5.326117e+18  \nmin                  0.000000           0.000000       0.000000  6.227536e+12  \n25%                  0.785107           0.000000       2.802000  4.611770e+18  \n50%                  0.961827           0.000000       5.228000  9.221640e+18  \n75%                  1.000000           0.000000       9.960000  1.383335e+19  \nmax                  1.000000          40.573002     713.307007  1.844674e+19  \n\n[8 rows x 42 columns]",
      "text/html": "<div>\n<style scoped>\n    .dataframe tbody tr th:only-of-type {\n        vertical-align: middle;\n    }\n\n    .dataframe tbody tr th {\n        vertical-align: top;\n    }\n\n    .dataframe thead th {\n        text-align: right;\n    }\n</style>\n<table border=\"1\" class=\"dataframe\">\n  <thead>\n    <tr style=\"text-align: right;\">\n      <th></th>\n      <th>ride_id</th>\n      <th>driver_id</th>\n      <th>a_t_a_result.arrival_a_t_a</th>\n      <th>a_t_a_result.boarding_a_t_a</th>\n      <th>a_t_a_result.ride_a_t_a</th>\n      <th>a_t_a_result.arrival_probe_result.probe.point.lat</th>\n      <th>a_t_a_result.arrival_probe_result.probe.point.lon</th>\n      <th>a_t_a_result.arrival_probe_result.probe.timestamp</th>\n      <th>a_t_a_result.arrival_probe_result.confidence</th>\n      <th>a_t_a_result.arrival_probe_result.k_ring_level</th>\n      <th>...</th>\n      <th>pickup_a_d_d_result.route_ratio</th>\n      <th>pickup_a_d_d_result.g_p_s_ratio</th>\n      <th>ride_a_d_d_result.distance</th>\n      <th>ride_a_d_d_result.confidence</th>\n      <th>ride_a_d_d_result.route_ratio</th>\n      <th>ride_a_d_d_result.g_p_s_ratio</th>\n      <th>total_a_d_d_confidence</th>\n      <th>in_ride_allotment</th>\n      <th>e_d_d</th>\n      <th>hash</th>\n    </tr>\n  </thead>\n  <tbody>\n    <tr>\n      <th>count</th>\n      <td>9.043440e+05</td>\n      <td>9.043440e+05</td>\n      <td>904344.000000</td>\n      <td>9.043440e+05</td>\n      <td>9.043440e+05</td>\n      <td>904344.000000</td>\n      <td>904344.000000</td>\n      <td>9.043440e+05</td>\n      <td>904344.000000</td>\n      <td>904344.000000</td>\n      <td>...</td>\n      <td>904344.000000</td>\n      <td>904344.000000</td>\n      <td>904344.000000</td>\n      <td>904344.000000</td>\n      <td>904344.000000</td>\n      <td>904344.000000</td>\n      <td>904344.000000</td>\n      <td>904344.000000</td>\n      <td>904344.000000</td>\n      <td>9.043440e+05</td>\n    </tr>\n    <tr>\n      <th>mean</th>\n      <td>4.916829e+09</td>\n      <td>2.386208e+06</td>\n      <td>190.650374</td>\n      <td>1.321786e+16</td>\n      <td>4.776094e+07</td>\n      <td>34.570586</td>\n      <td>51.898873</td>\n      <td>2.223376e+15</td>\n      <td>0.730997</td>\n      <td>1.171796</td>\n      <td>...</td>\n      <td>0.000355</td>\n      <td>0.014423</td>\n      <td>13.722454</td>\n      <td>0.857881</td>\n      <td>0.000103</td>\n      <td>0.705383</td>\n      <td>0.867802</td>\n      <td>0.041309</td>\n      <td>8.421349</td>\n      <td>9.222961e+18</td>\n    </tr>\n    <tr>\n      <th>std</th>\n      <td>6.618209e+05</td>\n      <td>1.334830e+06</td>\n      <td>154.364975</td>\n      <td>4.936112e+17</td>\n      <td>1.744911e+09</td>\n      <td>2.563067</td>\n      <td>3.529245</td>\n      <td>2.025071e+17</td>\n      <td>0.342530</td>\n      <td>1.443084</td>\n      <td>...</td>\n      <td>0.016809</td>\n      <td>0.016305</td>\n      <td>31.896299</td>\n      <td>0.190258</td>\n      <td>0.004796</td>\n      <td>0.352332</td>\n      <td>0.180274</td>\n      <td>0.303695</td>\n      <td>11.726985</td>\n      <td>5.326117e+18</td>\n    </tr>\n    <tr>\n      <th>min</th>\n      <td>4.719714e+09</td>\n      <td>4.300000e+01</td>\n      <td>0.000000</td>\n      <td>0.000000e+00</td>\n      <td>1.000000e+00</td>\n      <td>25.277533</td>\n      <td>44.830383</td>\n      <td>1.662278e+09</td>\n      <td>0.000000</td>\n      <td>0.000000</td>\n      <td>...</td>\n      <td>0.000000</td>\n      <td>0.000000</td>\n      <td>0.000000</td>\n      <td>0.000000</td>\n      <td>0.000000</td>\n      <td>0.000000</td>\n      <td>0.000000</td>\n      <td>0.000000</td>\n      <td>0.000000</td>\n      <td>6.227536e+12</td>\n    </tr>\n    <tr>\n      <th>25%</th>\n      <td>4.916407e+09</td>\n      <td>1.225052e+06</td>\n      <td>90.000000</td>\n      <td>8.000000e+00</td>\n      <td>4.260000e+02</td>\n      <td>32.678195</td>\n      <td>50.831985</td>\n      <td>1.662556e+09</td>\n      <td>0.591716</td>\n      <td>0.000000</td>\n      <td>...</td>\n      <td>0.000000</td>\n      <td>0.005263</td>\n      <td>4.634000</td>\n      <td>0.742794</td>\n      <td>0.000000</td>\n      <td>0.452830</td>\n      <td>0.785107</td>\n      <td>0.000000</td>\n      <td>2.802000</td>\n      <td>4.611770e+18</td>\n    </tr>\n    <tr>\n      <th>50%</th>\n      <td>4.916829e+09</td>\n      <td>2.450271e+06</td>\n      <td>172.000000</td>\n      <td>3.600000e+01</td>\n      <td>7.320000e+02</td>\n      <td>35.705357</td>\n      <td>51.408218</td>\n      <td>1.662560e+09</td>\n      <td>0.769231</td>\n      <td>1.000000</td>\n      <td>...</td>\n      <td>0.000000</td>\n      <td>0.011111</td>\n      <td>8.734000</td>\n      <td>0.963577</td>\n      <td>0.000000</td>\n      <td>0.895294</td>\n      <td>0.961827</td>\n      <td>0.000000</td>\n      <td>5.228000</td>\n      <td>9.221640e+18</td>\n    </tr>\n    <tr>\n      <th>75%</th>\n      <td>4.917255e+09</td>\n      <td>3.619625e+06</td>\n      <td>266.000000</td>\n      <td>1.250000e+02</td>\n      <td>1.260000e+03</td>\n      <td>36.254910</td>\n      <td>52.519666</td>\n      <td>1.662563e+09</td>\n      <td>1.000000</td>\n      <td>2.000000</td>\n      <td>...</td>\n      <td>0.000000</td>\n      <td>0.019608</td>\n      <td>16.544001</td>\n      <td>1.000000</td>\n      <td>0.000000</td>\n      <td>0.985075</td>\n      <td>1.000000</td>\n      <td>0.000000</td>\n      <td>9.960000</td>\n      <td>1.383335e+19</td>\n    </tr>\n    <tr>\n      <th>max</th>\n      <td>4.917849e+09</td>\n      <td>4.321993e+06</td>\n      <td>19555.000000</td>\n      <td>1.844674e+19</td>\n      <td>6.379816e+10</td>\n      <td>39.652897</td>\n      <td>61.169842</td>\n      <td>1.844674e+19</td>\n      <td>1.000000</td>\n      <td>4.000000</td>\n      <td>...</td>\n      <td>1.000000</td>\n      <td>1.000000</td>\n      <td>25057.876953</td>\n      <td>1.000000</td>\n      <td>1.000000</td>\n      <td>1.000000</td>\n      <td>1.000000</td>\n      <td>40.573002</td>\n      <td>713.307007</td>\n      <td>1.844674e+19</td>\n    </tr>\n  </tbody>\n</table>\n<p>8 rows × 42 columns</p>\n</div>"
     },
     "execution_count": 3,
     "metadata": {},
     "output_type": "execute_result"
    }
   ],
   "source": [
    "columns = ['ride_id','driver_id','a_t_a_result.arrival_a_t_a','a_t_a_result.boarding_a_t_a','a_t_a_result.ride_a_t_a','a_t_a_result.arrival_probe_result.probe.point.lat','a_t_a_result.arrival_probe_result.probe.point.lon','a_t_a_result.arrival_probe_result.probe.timestamp','a_t_a_result.arrival_probe_result.confidence','a_t_a_result.arrival_probe_result.h3_index', 'a_t_a_result.arrival_probe_result.k_ring_level','a_t_a_result.boarding_probe_result.probe.point.lat','a_t_a_result.boarding_probe_result.probe.point.lon','a_t_a_result.boarding_probe_result.probe.timestamp','a_t_a_result.boarding_probe_result.confidence','a_t_a_result.boarding_probe_result.h3_index','a_t_a_result.boarding_probe_result.k_ring_level','a_t_a_result.final_destination_probe_result.probe.point.lat','a_t_a_result.final_destination_probe_result.probe.point.lon','a_t_a_result.final_destination_probe_result.probe.timestamp','a_t_a_result.final_destination_probe_result.confidence','a_t_a_result.final_destination_probe_result.h3_index','a_t_a_result.final_destination_probe_result.k_ring_level','a_t_a_result.destination_probe_result.probe.point.lat','a_t_a_result.destination_probe_result.probe.point.lon','a_t_a_result.destination_probe_result.probe.timestamp','a_t_a_result.destination_probe_result.confidence','a_t_a_result.destination_probe_result.h3_index','a_t_a_result.destination_probe_result.k_ring_level','a_t_a_result.extra_destination_probe_result.probe.point.lat','a_t_a_result.extra_destination_probe_result.probe.point.lon','a_t_a_result.extra_destination_probe_result.probe.timestamp','a_t_a_result.extra_destination_probe_result.confidence','a_t_a_result.extra_destination_probe_result.h3_index','a_t_a_result.extra_destination_probe_result.k_ring_level','pickup_a_d_d_result.distance','pickup_a_d_d_result.confidence','pickup_a_d_d_result.route_ratio','pickup_a_d_d_result.g_p_s_ratio','ride_a_d_d_result.distance','ride_a_d_d_result.confidence','ride_a_d_d_result.route_ratio','ride_a_d_d_result.g_p_s_ratio','total_a_d_d_confidence','in_ride_allotment','e_d_d','clickhouse_time','hash']\n",
    "khatkesh = pd.read_csv(\"../khatkesh_2022-09-07_17to20.csv\", names=columns)\n",
    "khatkesh.describe()"
   ],
   "metadata": {
    "collapsed": false,
    "pycharm": {
     "name": "#%%\n"
    }
   }
  },
  {
   "cell_type": "code",
   "execution_count": 4,
   "outputs": [
    {
     "data": {
      "text/plain": "       accepted_driver_id  passenger_id    source_lat    source_lng  \\\ncount        2.164000e+04  2.164000e+04  21640.000000  21640.000000   \nmean         2.014121e+06  2.350918e+07     35.694906     51.401833   \nstd          1.438191e+06  1.800039e+07      0.096689      0.142701   \nmin          2.140000e+02  6.370000e+02     35.209118     50.902416   \n25%          5.546260e+05  4.778300e+06     35.664794     51.331205   \n50%          1.998809e+06  2.356817e+07     35.724831     51.405758   \n75%          3.341234e+06  3.810790e+07     35.756205     51.468071   \nmax          4.321580e+06  5.728358e+07     35.832058     52.787960   \n\n       destination_lat  destination_lng           eta           ata  \\\ncount     21640.000000     21640.000000  21640.000000  21640.000000   \nmean         35.695767        51.398042    959.328420   1180.374122   \nstd           0.096236         0.150727    697.703745   1001.170375   \nmin          34.623146        50.670673      1.000000    120.000000   \n25%          35.663613        51.330386    455.000000    488.750000   \n50%          35.725157        51.404190    768.000000    871.000000   \n75%          35.755826        51.471036   1256.000000   1521.250000   \nmax          35.966866        52.776981   7160.000000  10212.000000   \n\n            ride_id     city  ...  pickup_a_d_d_result.route_ratio  \\\ncount  2.164000e+04  21640.0  ...                     21640.000000   \nmean   4.916790e+09      1.0  ...                         0.000097   \nstd    3.622046e+05      0.0  ...                         0.007278   \nmin    4.916144e+09      1.0  ...                         0.000000   \n25%    4.916470e+09      1.0  ...                         0.000000   \n50%    4.916806e+09      1.0  ...                         0.000000   \n75%    4.917168e+09      1.0  ...                         0.000000   \nmax    4.917451e+09      1.0  ...                         1.000000   \n\n       pickup_a_d_d_result.g_p_s_ratio  ride_a_d_d_result.distance  \\\ncount                     21640.000000                21640.000000   \nmean                          0.013284                   14.196197   \nstd                           0.013235                   14.563214   \nmin                           0.000000                    0.000000   \n25%                           0.004926                    4.817000   \n50%                           0.009709                    9.597000   \n75%                           0.017857                   18.343750   \nmax                           0.500000                  208.685303   \n\n       ride_a_d_d_result.confidence  ride_a_d_d_result.route_ratio  \\\ncount                  21640.000000                   21640.000000   \nmean                       0.874834                       0.000072   \nstd                        0.174516                       0.002420   \nmin                        0.000000                       0.000000   \n25%                        0.799384                       0.000000   \n50%                        0.968930                       0.000000   \n75%                        1.000000                       0.000000   \nmax                        1.000000                       0.218497   \n\n       ride_a_d_d_result.g_p_s_ratio  total_a_d_d_confidence  \\\ncount                   21640.000000            21640.000000   \nmean                        0.731725                0.882592   \nstd                         0.332054                0.165147   \nmin                         0.000000                0.000000   \n25%                         0.540299                0.822309   \n50%                         0.909091                0.966240   \n75%                         0.982143                1.000000   \nmax                         1.000000                1.000000   \n\n       in_ride_allotment         e_d_d          hash  \ncount       21640.000000  21640.000000  2.164000e+04  \nmean            0.013974      8.582726  9.235779e+18  \nstd             0.145397      9.063319  5.317829e+18  \nmin             0.000000      0.230000  1.744850e+14  \n25%             0.000000      2.886000  4.707043e+18  \n50%             0.000000      5.764000  9.225572e+18  \n75%             0.000000     10.967250  1.383046e+19  \nmax             6.106000    146.891998  1.844594e+19  \n\n[8 rows x 51 columns]",
      "text/html": "<div>\n<style scoped>\n    .dataframe tbody tr th:only-of-type {\n        vertical-align: middle;\n    }\n\n    .dataframe tbody tr th {\n        vertical-align: top;\n    }\n\n    .dataframe thead th {\n        text-align: right;\n    }\n</style>\n<table border=\"1\" class=\"dataframe\">\n  <thead>\n    <tr style=\"text-align: right;\">\n      <th></th>\n      <th>accepted_driver_id</th>\n      <th>passenger_id</th>\n      <th>source_lat</th>\n      <th>source_lng</th>\n      <th>destination_lat</th>\n      <th>destination_lng</th>\n      <th>eta</th>\n      <th>ata</th>\n      <th>ride_id</th>\n      <th>city</th>\n      <th>...</th>\n      <th>pickup_a_d_d_result.route_ratio</th>\n      <th>pickup_a_d_d_result.g_p_s_ratio</th>\n      <th>ride_a_d_d_result.distance</th>\n      <th>ride_a_d_d_result.confidence</th>\n      <th>ride_a_d_d_result.route_ratio</th>\n      <th>ride_a_d_d_result.g_p_s_ratio</th>\n      <th>total_a_d_d_confidence</th>\n      <th>in_ride_allotment</th>\n      <th>e_d_d</th>\n      <th>hash</th>\n    </tr>\n  </thead>\n  <tbody>\n    <tr>\n      <th>count</th>\n      <td>2.164000e+04</td>\n      <td>2.164000e+04</td>\n      <td>21640.000000</td>\n      <td>21640.000000</td>\n      <td>21640.000000</td>\n      <td>21640.000000</td>\n      <td>21640.000000</td>\n      <td>21640.000000</td>\n      <td>2.164000e+04</td>\n      <td>21640.0</td>\n      <td>...</td>\n      <td>21640.000000</td>\n      <td>21640.000000</td>\n      <td>21640.000000</td>\n      <td>21640.000000</td>\n      <td>21640.000000</td>\n      <td>21640.000000</td>\n      <td>21640.000000</td>\n      <td>21640.000000</td>\n      <td>21640.000000</td>\n      <td>2.164000e+04</td>\n    </tr>\n    <tr>\n      <th>mean</th>\n      <td>2.014121e+06</td>\n      <td>2.350918e+07</td>\n      <td>35.694906</td>\n      <td>51.401833</td>\n      <td>35.695767</td>\n      <td>51.398042</td>\n      <td>959.328420</td>\n      <td>1180.374122</td>\n      <td>4.916790e+09</td>\n      <td>1.0</td>\n      <td>...</td>\n      <td>0.000097</td>\n      <td>0.013284</td>\n      <td>14.196197</td>\n      <td>0.874834</td>\n      <td>0.000072</td>\n      <td>0.731725</td>\n      <td>0.882592</td>\n      <td>0.013974</td>\n      <td>8.582726</td>\n      <td>9.235779e+18</td>\n    </tr>\n    <tr>\n      <th>std</th>\n      <td>1.438191e+06</td>\n      <td>1.800039e+07</td>\n      <td>0.096689</td>\n      <td>0.142701</td>\n      <td>0.096236</td>\n      <td>0.150727</td>\n      <td>697.703745</td>\n      <td>1001.170375</td>\n      <td>3.622046e+05</td>\n      <td>0.0</td>\n      <td>...</td>\n      <td>0.007278</td>\n      <td>0.013235</td>\n      <td>14.563214</td>\n      <td>0.174516</td>\n      <td>0.002420</td>\n      <td>0.332054</td>\n      <td>0.165147</td>\n      <td>0.145397</td>\n      <td>9.063319</td>\n      <td>5.317829e+18</td>\n    </tr>\n    <tr>\n      <th>min</th>\n      <td>2.140000e+02</td>\n      <td>6.370000e+02</td>\n      <td>35.209118</td>\n      <td>50.902416</td>\n      <td>34.623146</td>\n      <td>50.670673</td>\n      <td>1.000000</td>\n      <td>120.000000</td>\n      <td>4.916144e+09</td>\n      <td>1.0</td>\n      <td>...</td>\n      <td>0.000000</td>\n      <td>0.000000</td>\n      <td>0.000000</td>\n      <td>0.000000</td>\n      <td>0.000000</td>\n      <td>0.000000</td>\n      <td>0.000000</td>\n      <td>0.000000</td>\n      <td>0.230000</td>\n      <td>1.744850e+14</td>\n    </tr>\n    <tr>\n      <th>25%</th>\n      <td>5.546260e+05</td>\n      <td>4.778300e+06</td>\n      <td>35.664794</td>\n      <td>51.331205</td>\n      <td>35.663613</td>\n      <td>51.330386</td>\n      <td>455.000000</td>\n      <td>488.750000</td>\n      <td>4.916470e+09</td>\n      <td>1.0</td>\n      <td>...</td>\n      <td>0.000000</td>\n      <td>0.004926</td>\n      <td>4.817000</td>\n      <td>0.799384</td>\n      <td>0.000000</td>\n      <td>0.540299</td>\n      <td>0.822309</td>\n      <td>0.000000</td>\n      <td>2.886000</td>\n      <td>4.707043e+18</td>\n    </tr>\n    <tr>\n      <th>50%</th>\n      <td>1.998809e+06</td>\n      <td>2.356817e+07</td>\n      <td>35.724831</td>\n      <td>51.405758</td>\n      <td>35.725157</td>\n      <td>51.404190</td>\n      <td>768.000000</td>\n      <td>871.000000</td>\n      <td>4.916806e+09</td>\n      <td>1.0</td>\n      <td>...</td>\n      <td>0.000000</td>\n      <td>0.009709</td>\n      <td>9.597000</td>\n      <td>0.968930</td>\n      <td>0.000000</td>\n      <td>0.909091</td>\n      <td>0.966240</td>\n      <td>0.000000</td>\n      <td>5.764000</td>\n      <td>9.225572e+18</td>\n    </tr>\n    <tr>\n      <th>75%</th>\n      <td>3.341234e+06</td>\n      <td>3.810790e+07</td>\n      <td>35.756205</td>\n      <td>51.468071</td>\n      <td>35.755826</td>\n      <td>51.471036</td>\n      <td>1256.000000</td>\n      <td>1521.250000</td>\n      <td>4.917168e+09</td>\n      <td>1.0</td>\n      <td>...</td>\n      <td>0.000000</td>\n      <td>0.017857</td>\n      <td>18.343750</td>\n      <td>1.000000</td>\n      <td>0.000000</td>\n      <td>0.982143</td>\n      <td>1.000000</td>\n      <td>0.000000</td>\n      <td>10.967250</td>\n      <td>1.383046e+19</td>\n    </tr>\n    <tr>\n      <th>max</th>\n      <td>4.321580e+06</td>\n      <td>5.728358e+07</td>\n      <td>35.832058</td>\n      <td>52.787960</td>\n      <td>35.966866</td>\n      <td>52.776981</td>\n      <td>7160.000000</td>\n      <td>10212.000000</td>\n      <td>4.917451e+09</td>\n      <td>1.0</td>\n      <td>...</td>\n      <td>1.000000</td>\n      <td>0.500000</td>\n      <td>208.685303</td>\n      <td>1.000000</td>\n      <td>0.218497</td>\n      <td>1.000000</td>\n      <td>1.000000</td>\n      <td>6.106000</td>\n      <td>146.891998</td>\n      <td>1.844594e+19</td>\n    </tr>\n  </tbody>\n</table>\n<p>8 rows × 51 columns</p>\n</div>"
     },
     "execution_count": 4,
     "metadata": {},
     "output_type": "execute_result"
    }
   ],
   "source": [
    "rides_khatkesh = pd.merge(rides, khatkesh, on=\"ride_id\")\n",
    "rides_khatkesh.describe()"
   ],
   "metadata": {
    "collapsed": false,
    "pycharm": {
     "name": "#%%\n"
    }
   }
  },
  {
   "cell_type": "code",
   "execution_count": 5,
   "outputs": [
    {
     "data": {
      "text/plain": "       accepted_driver_id  passenger_id    source_lat    source_lng  \\\ncount        2.072200e+04  2.072200e+04  20722.000000  20722.000000   \nmean         2.012896e+06  2.332228e+07     35.695997     51.401132   \nstd          1.437859e+06  1.798630e+07      0.095773      0.139905   \nmin          2.140000e+02  6.370000e+02     35.209118     50.902416   \n25%          5.525532e+05  4.648918e+06     35.667142     51.331513   \n50%          1.998809e+06  2.324834e+07     35.725134     51.405533   \n75%          3.337930e+06  3.791717e+07     35.756536     51.466314   \nmax          4.321580e+06  5.728355e+07     35.829247     52.787960   \n\n       destination_lat  destination_lng           eta           ata  \\\ncount     20722.000000     20722.000000  20722.000000  20722.000000   \nmean         35.696876        51.397198    994.036724   1223.299151   \nstd           0.095282         0.148431    692.245732   1001.188162   \nmin          34.623146        50.670673    181.000000    120.000000   \n25%          35.665444        51.330924    490.250000    530.000000   \n50%          35.725451        51.403778    799.500000    914.000000   \n75%          35.756103        51.469666   1284.000000   1565.000000   \nmax          35.966866        52.776981   7160.000000  10212.000000   \n\n            ride_id     city  ...  pickup_a_d_d_result.route_ratio  \\\ncount  2.072200e+04  20722.0  ...                     20722.000000   \nmean   4.916788e+09      1.0  ...                         0.000102   \nstd    3.614905e+05      0.0  ...                         0.007438   \nmin    4.916144e+09      1.0  ...                         0.000000   \n25%    4.916469e+09      1.0  ...                         0.000000   \n50%    4.916803e+09      1.0  ...                         0.000000   \n75%    4.917162e+09      1.0  ...                         0.000000   \nmax    4.917427e+09      1.0  ...                         1.000000   \n\n       pickup_a_d_d_result.g_p_s_ratio  ride_a_d_d_result.distance  \\\ncount                     20722.000000                20722.000000   \nmean                          0.012138                   14.744160   \nstd                           0.009986                   14.639422   \nmin                           0.000000                    0.178000   \n25%                           0.004950                    5.299121   \n50%                           0.009524                   10.134500   \n75%                           0.016949                   18.877533   \nmax                           0.052632                  208.685303   \n\n       ride_a_d_d_result.confidence  ride_a_d_d_result.route_ratio  \\\ncount                  20722.000000                   20722.000000   \nmean                       0.875961                       0.000055   \nstd                        0.170699                       0.001651   \nmin                        0.000000                       0.000000   \n25%                        0.801997                       0.000000   \n50%                        0.967261                       0.000000   \n75%                        1.000000                       0.000000   \nmax                        1.000000                       0.136772   \n\n       ride_a_d_d_result.g_p_s_ratio  total_a_d_d_confidence  \\\ncount                   20722.000000            20722.000000   \nmean                        0.733544                0.883888   \nstd                         0.330188                0.161545   \nmin                         0.000000                0.056233   \n25%                         0.546479                0.823675   \n50%                         0.910714                0.965592   \n75%                         0.981308                1.000000   \nmax                         1.000000                1.000000   \n\n       in_ride_allotment         e_d_d          hash  \ncount       20722.000000  20722.000000  2.072200e+04  \nmean            0.013753      8.912575  9.221711e+18  \nstd             0.145405      9.117036  5.307986e+18  \nmin             0.000000      0.612000  1.744850e+14  \n25%             0.000000      3.167000  4.718672e+18  \n50%             0.000000      6.084000  9.205366e+18  \n75%             0.000000     11.271250  1.379651e+19  \nmax             6.106000    146.891998  1.844594e+19  \n\n[8 rows x 51 columns]",
      "text/html": "<div>\n<style scoped>\n    .dataframe tbody tr th:only-of-type {\n        vertical-align: middle;\n    }\n\n    .dataframe tbody tr th {\n        vertical-align: top;\n    }\n\n    .dataframe thead th {\n        text-align: right;\n    }\n</style>\n<table border=\"1\" class=\"dataframe\">\n  <thead>\n    <tr style=\"text-align: right;\">\n      <th></th>\n      <th>accepted_driver_id</th>\n      <th>passenger_id</th>\n      <th>source_lat</th>\n      <th>source_lng</th>\n      <th>destination_lat</th>\n      <th>destination_lng</th>\n      <th>eta</th>\n      <th>ata</th>\n      <th>ride_id</th>\n      <th>city</th>\n      <th>...</th>\n      <th>pickup_a_d_d_result.route_ratio</th>\n      <th>pickup_a_d_d_result.g_p_s_ratio</th>\n      <th>ride_a_d_d_result.distance</th>\n      <th>ride_a_d_d_result.confidence</th>\n      <th>ride_a_d_d_result.route_ratio</th>\n      <th>ride_a_d_d_result.g_p_s_ratio</th>\n      <th>total_a_d_d_confidence</th>\n      <th>in_ride_allotment</th>\n      <th>e_d_d</th>\n      <th>hash</th>\n    </tr>\n  </thead>\n  <tbody>\n    <tr>\n      <th>count</th>\n      <td>2.072200e+04</td>\n      <td>2.072200e+04</td>\n      <td>20722.000000</td>\n      <td>20722.000000</td>\n      <td>20722.000000</td>\n      <td>20722.000000</td>\n      <td>20722.000000</td>\n      <td>20722.000000</td>\n      <td>2.072200e+04</td>\n      <td>20722.0</td>\n      <td>...</td>\n      <td>20722.000000</td>\n      <td>20722.000000</td>\n      <td>20722.000000</td>\n      <td>20722.000000</td>\n      <td>20722.000000</td>\n      <td>20722.000000</td>\n      <td>20722.000000</td>\n      <td>20722.000000</td>\n      <td>20722.000000</td>\n      <td>2.072200e+04</td>\n    </tr>\n    <tr>\n      <th>mean</th>\n      <td>2.012896e+06</td>\n      <td>2.332228e+07</td>\n      <td>35.695997</td>\n      <td>51.401132</td>\n      <td>35.696876</td>\n      <td>51.397198</td>\n      <td>994.036724</td>\n      <td>1223.299151</td>\n      <td>4.916788e+09</td>\n      <td>1.0</td>\n      <td>...</td>\n      <td>0.000102</td>\n      <td>0.012138</td>\n      <td>14.744160</td>\n      <td>0.875961</td>\n      <td>0.000055</td>\n      <td>0.733544</td>\n      <td>0.883888</td>\n      <td>0.013753</td>\n      <td>8.912575</td>\n      <td>9.221711e+18</td>\n    </tr>\n    <tr>\n      <th>std</th>\n      <td>1.437859e+06</td>\n      <td>1.798630e+07</td>\n      <td>0.095773</td>\n      <td>0.139905</td>\n      <td>0.095282</td>\n      <td>0.148431</td>\n      <td>692.245732</td>\n      <td>1001.188162</td>\n      <td>3.614905e+05</td>\n      <td>0.0</td>\n      <td>...</td>\n      <td>0.007438</td>\n      <td>0.009986</td>\n      <td>14.639422</td>\n      <td>0.170699</td>\n      <td>0.001651</td>\n      <td>0.330188</td>\n      <td>0.161545</td>\n      <td>0.145405</td>\n      <td>9.117036</td>\n      <td>5.307986e+18</td>\n    </tr>\n    <tr>\n      <th>min</th>\n      <td>2.140000e+02</td>\n      <td>6.370000e+02</td>\n      <td>35.209118</td>\n      <td>50.902416</td>\n      <td>34.623146</td>\n      <td>50.670673</td>\n      <td>181.000000</td>\n      <td>120.000000</td>\n      <td>4.916144e+09</td>\n      <td>1.0</td>\n      <td>...</td>\n      <td>0.000000</td>\n      <td>0.000000</td>\n      <td>0.178000</td>\n      <td>0.000000</td>\n      <td>0.000000</td>\n      <td>0.000000</td>\n      <td>0.056233</td>\n      <td>0.000000</td>\n      <td>0.612000</td>\n      <td>1.744850e+14</td>\n    </tr>\n    <tr>\n      <th>25%</th>\n      <td>5.525532e+05</td>\n      <td>4.648918e+06</td>\n      <td>35.667142</td>\n      <td>51.331513</td>\n      <td>35.665444</td>\n      <td>51.330924</td>\n      <td>490.250000</td>\n      <td>530.000000</td>\n      <td>4.916469e+09</td>\n      <td>1.0</td>\n      <td>...</td>\n      <td>0.000000</td>\n      <td>0.004950</td>\n      <td>5.299121</td>\n      <td>0.801997</td>\n      <td>0.000000</td>\n      <td>0.546479</td>\n      <td>0.823675</td>\n      <td>0.000000</td>\n      <td>3.167000</td>\n      <td>4.718672e+18</td>\n    </tr>\n    <tr>\n      <th>50%</th>\n      <td>1.998809e+06</td>\n      <td>2.324834e+07</td>\n      <td>35.725134</td>\n      <td>51.405533</td>\n      <td>35.725451</td>\n      <td>51.403778</td>\n      <td>799.500000</td>\n      <td>914.000000</td>\n      <td>4.916803e+09</td>\n      <td>1.0</td>\n      <td>...</td>\n      <td>0.000000</td>\n      <td>0.009524</td>\n      <td>10.134500</td>\n      <td>0.967261</td>\n      <td>0.000000</td>\n      <td>0.910714</td>\n      <td>0.965592</td>\n      <td>0.000000</td>\n      <td>6.084000</td>\n      <td>9.205366e+18</td>\n    </tr>\n    <tr>\n      <th>75%</th>\n      <td>3.337930e+06</td>\n      <td>3.791717e+07</td>\n      <td>35.756536</td>\n      <td>51.466314</td>\n      <td>35.756103</td>\n      <td>51.469666</td>\n      <td>1284.000000</td>\n      <td>1565.000000</td>\n      <td>4.917162e+09</td>\n      <td>1.0</td>\n      <td>...</td>\n      <td>0.000000</td>\n      <td>0.016949</td>\n      <td>18.877533</td>\n      <td>1.000000</td>\n      <td>0.000000</td>\n      <td>0.981308</td>\n      <td>1.000000</td>\n      <td>0.000000</td>\n      <td>11.271250</td>\n      <td>1.379651e+19</td>\n    </tr>\n    <tr>\n      <th>max</th>\n      <td>4.321580e+06</td>\n      <td>5.728355e+07</td>\n      <td>35.829247</td>\n      <td>52.787960</td>\n      <td>35.966866</td>\n      <td>52.776981</td>\n      <td>7160.000000</td>\n      <td>10212.000000</td>\n      <td>4.917427e+09</td>\n      <td>1.0</td>\n      <td>...</td>\n      <td>1.000000</td>\n      <td>0.052632</td>\n      <td>208.685303</td>\n      <td>1.000000</td>\n      <td>0.136772</td>\n      <td>1.000000</td>\n      <td>1.000000</td>\n      <td>6.106000</td>\n      <td>146.891998</td>\n      <td>1.844594e+19</td>\n    </tr>\n  </tbody>\n</table>\n<p>8 rows × 51 columns</p>\n</div>"
     },
     "execution_count": 5,
     "metadata": {},
     "output_type": "execute_result"
    }
   ],
   "source": [
    "rides = rides_khatkesh[(rides_khatkesh['eta'] > 180) &\n",
    "                       (rides_khatkesh['eta'] < 10800) &\n",
    "                       (rides_khatkesh['a_t_a_result.ride_a_t_a'] > 180) &\n",
    "                       (rides_khatkesh['a_t_a_result.ride_a_t_a'] < 10800)]\n",
    "rides.describe()"
   ],
   "metadata": {
    "collapsed": false,
    "pycharm": {
     "name": "#%%\n"
    }
   }
  },
  {
   "cell_type": "code",
   "execution_count": 6,
   "outputs": [
    {
     "data": {
      "text/plain": "       accepted_driver_id  passenger_id    source_lat    source_lng  \\\ncount        1.792100e+04  1.792100e+04  17921.000000  17921.000000   \nmean         2.027443e+06  2.330538e+07     35.695309     51.400976   \nstd          1.440083e+06  1.798861e+07      0.096610      0.140641   \nmin          2.140000e+02  6.370000e+02     35.209118     50.902416   \n25%          5.658690e+05  4.638305e+06     35.665936     51.331089   \n50%          2.031946e+06  2.324436e+07     35.725250     51.404812   \n75%          3.350436e+06  3.792664e+07     35.756454     51.466881   \nmax          4.321580e+06  5.728355e+07     35.829247     52.787960   \n\n       destination_lat  destination_lng           eta           ata  \\\ncount     17921.000000     17921.000000  17921.000000  17921.000000   \nmean         35.696058        51.397198    985.030132   1211.580269   \nstd           0.096003         0.148787    684.459085    990.954555   \nmin          35.212894        50.670673    181.000000    120.000000   \n25%          35.664612        51.330353    487.000000    527.000000   \n50%          35.725208        51.402977    789.000000    906.000000   \n75%          35.756027        51.469852   1275.000000   1544.000000   \nmax          35.966866        52.776981   7160.000000  10212.000000   \n\n            ride_id     city  ...  pickup_a_d_d_result.route_ratio  \\\ncount  1.792100e+04  17921.0  ...                     17921.000000   \nmean   4.916789e+09      1.0  ...                         0.000089   \nstd    3.618643e+05      0.0  ...                         0.007673   \nmin    4.916144e+09      1.0  ...                         0.000000   \n25%    4.916469e+09      1.0  ...                         0.000000   \n50%    4.916805e+09      1.0  ...                         0.000000   \n75%    4.917165e+09      1.0  ...                         0.000000   \nmax    4.917415e+09      1.0  ...                         1.000000   \n\n       pickup_a_d_d_result.g_p_s_ratio  ride_a_d_d_result.distance  \\\ncount                     17921.000000                17921.000000   \nmean                          0.013050                   15.422408   \nstd                           0.009947                   14.972229   \nmin                           0.000000                    0.178000   \n25%                           0.005747                    5.632000   \n50%                           0.010309                   10.758000   \n75%                           0.017857                   19.841999   \nmax                           0.052632                  208.685303   \n\n       ride_a_d_d_result.confidence  ride_a_d_d_result.route_ratio  \\\ncount                  17921.000000                   17921.000000   \nmean                       0.931638                       0.000028   \nstd                        0.102409                       0.001019   \nmin                        0.600080                       0.000000   \n25%                        0.904499                       0.000000   \n50%                        0.983970                       0.000000   \n75%                        1.000000                       0.000000   \nmax                        1.000000                       0.069734   \n\n       ride_a_d_d_result.g_p_s_ratio  total_a_d_d_confidence  \\\ncount                   17921.000000            17921.000000   \nmean                        0.826441                0.936309   \nstd                         0.232236                0.092453   \nmin                         0.000000                0.407188   \n25%                         0.752475                0.902570   \n50%                         0.938650                0.981019   \n75%                         0.986577                1.000000   \nmax                         1.000000                1.000000   \n\n       in_ride_allotment         e_d_d          hash  \ncount       17921.000000  17921.000000  1.792100e+04  \nmean            0.015543      8.784296  9.220453e+18  \nstd             0.155156      8.880589  5.306038e+18  \nmin             0.000000      0.612000  1.744850e+14  \n25%             0.000000      3.140000  4.706854e+18  \n50%             0.000000      5.995000  9.218761e+18  \n75%             0.000000     11.175000  1.378909e+19  \nmax             6.106000    140.410995  1.844594e+19  \n\n[8 rows x 51 columns]",
      "text/html": "<div>\n<style scoped>\n    .dataframe tbody tr th:only-of-type {\n        vertical-align: middle;\n    }\n\n    .dataframe tbody tr th {\n        vertical-align: top;\n    }\n\n    .dataframe thead th {\n        text-align: right;\n    }\n</style>\n<table border=\"1\" class=\"dataframe\">\n  <thead>\n    <tr style=\"text-align: right;\">\n      <th></th>\n      <th>accepted_driver_id</th>\n      <th>passenger_id</th>\n      <th>source_lat</th>\n      <th>source_lng</th>\n      <th>destination_lat</th>\n      <th>destination_lng</th>\n      <th>eta</th>\n      <th>ata</th>\n      <th>ride_id</th>\n      <th>city</th>\n      <th>...</th>\n      <th>pickup_a_d_d_result.route_ratio</th>\n      <th>pickup_a_d_d_result.g_p_s_ratio</th>\n      <th>ride_a_d_d_result.distance</th>\n      <th>ride_a_d_d_result.confidence</th>\n      <th>ride_a_d_d_result.route_ratio</th>\n      <th>ride_a_d_d_result.g_p_s_ratio</th>\n      <th>total_a_d_d_confidence</th>\n      <th>in_ride_allotment</th>\n      <th>e_d_d</th>\n      <th>hash</th>\n    </tr>\n  </thead>\n  <tbody>\n    <tr>\n      <th>count</th>\n      <td>1.792100e+04</td>\n      <td>1.792100e+04</td>\n      <td>17921.000000</td>\n      <td>17921.000000</td>\n      <td>17921.000000</td>\n      <td>17921.000000</td>\n      <td>17921.000000</td>\n      <td>17921.000000</td>\n      <td>1.792100e+04</td>\n      <td>17921.0</td>\n      <td>...</td>\n      <td>17921.000000</td>\n      <td>17921.000000</td>\n      <td>17921.000000</td>\n      <td>17921.000000</td>\n      <td>17921.000000</td>\n      <td>17921.000000</td>\n      <td>17921.000000</td>\n      <td>17921.000000</td>\n      <td>17921.000000</td>\n      <td>1.792100e+04</td>\n    </tr>\n    <tr>\n      <th>mean</th>\n      <td>2.027443e+06</td>\n      <td>2.330538e+07</td>\n      <td>35.695309</td>\n      <td>51.400976</td>\n      <td>35.696058</td>\n      <td>51.397198</td>\n      <td>985.030132</td>\n      <td>1211.580269</td>\n      <td>4.916789e+09</td>\n      <td>1.0</td>\n      <td>...</td>\n      <td>0.000089</td>\n      <td>0.013050</td>\n      <td>15.422408</td>\n      <td>0.931638</td>\n      <td>0.000028</td>\n      <td>0.826441</td>\n      <td>0.936309</td>\n      <td>0.015543</td>\n      <td>8.784296</td>\n      <td>9.220453e+18</td>\n    </tr>\n    <tr>\n      <th>std</th>\n      <td>1.440083e+06</td>\n      <td>1.798861e+07</td>\n      <td>0.096610</td>\n      <td>0.140641</td>\n      <td>0.096003</td>\n      <td>0.148787</td>\n      <td>684.459085</td>\n      <td>990.954555</td>\n      <td>3.618643e+05</td>\n      <td>0.0</td>\n      <td>...</td>\n      <td>0.007673</td>\n      <td>0.009947</td>\n      <td>14.972229</td>\n      <td>0.102409</td>\n      <td>0.001019</td>\n      <td>0.232236</td>\n      <td>0.092453</td>\n      <td>0.155156</td>\n      <td>8.880589</td>\n      <td>5.306038e+18</td>\n    </tr>\n    <tr>\n      <th>min</th>\n      <td>2.140000e+02</td>\n      <td>6.370000e+02</td>\n      <td>35.209118</td>\n      <td>50.902416</td>\n      <td>35.212894</td>\n      <td>50.670673</td>\n      <td>181.000000</td>\n      <td>120.000000</td>\n      <td>4.916144e+09</td>\n      <td>1.0</td>\n      <td>...</td>\n      <td>0.000000</td>\n      <td>0.000000</td>\n      <td>0.178000</td>\n      <td>0.600080</td>\n      <td>0.000000</td>\n      <td>0.000000</td>\n      <td>0.407188</td>\n      <td>0.000000</td>\n      <td>0.612000</td>\n      <td>1.744850e+14</td>\n    </tr>\n    <tr>\n      <th>25%</th>\n      <td>5.658690e+05</td>\n      <td>4.638305e+06</td>\n      <td>35.665936</td>\n      <td>51.331089</td>\n      <td>35.664612</td>\n      <td>51.330353</td>\n      <td>487.000000</td>\n      <td>527.000000</td>\n      <td>4.916469e+09</td>\n      <td>1.0</td>\n      <td>...</td>\n      <td>0.000000</td>\n      <td>0.005747</td>\n      <td>5.632000</td>\n      <td>0.904499</td>\n      <td>0.000000</td>\n      <td>0.752475</td>\n      <td>0.902570</td>\n      <td>0.000000</td>\n      <td>3.140000</td>\n      <td>4.706854e+18</td>\n    </tr>\n    <tr>\n      <th>50%</th>\n      <td>2.031946e+06</td>\n      <td>2.324436e+07</td>\n      <td>35.725250</td>\n      <td>51.404812</td>\n      <td>35.725208</td>\n      <td>51.402977</td>\n      <td>789.000000</td>\n      <td>906.000000</td>\n      <td>4.916805e+09</td>\n      <td>1.0</td>\n      <td>...</td>\n      <td>0.000000</td>\n      <td>0.010309</td>\n      <td>10.758000</td>\n      <td>0.983970</td>\n      <td>0.000000</td>\n      <td>0.938650</td>\n      <td>0.981019</td>\n      <td>0.000000</td>\n      <td>5.995000</td>\n      <td>9.218761e+18</td>\n    </tr>\n    <tr>\n      <th>75%</th>\n      <td>3.350436e+06</td>\n      <td>3.792664e+07</td>\n      <td>35.756454</td>\n      <td>51.466881</td>\n      <td>35.756027</td>\n      <td>51.469852</td>\n      <td>1275.000000</td>\n      <td>1544.000000</td>\n      <td>4.917165e+09</td>\n      <td>1.0</td>\n      <td>...</td>\n      <td>0.000000</td>\n      <td>0.017857</td>\n      <td>19.841999</td>\n      <td>1.000000</td>\n      <td>0.000000</td>\n      <td>0.986577</td>\n      <td>1.000000</td>\n      <td>0.000000</td>\n      <td>11.175000</td>\n      <td>1.378909e+19</td>\n    </tr>\n    <tr>\n      <th>max</th>\n      <td>4.321580e+06</td>\n      <td>5.728355e+07</td>\n      <td>35.829247</td>\n      <td>52.787960</td>\n      <td>35.966866</td>\n      <td>52.776981</td>\n      <td>7160.000000</td>\n      <td>10212.000000</td>\n      <td>4.917415e+09</td>\n      <td>1.0</td>\n      <td>...</td>\n      <td>1.000000</td>\n      <td>0.052632</td>\n      <td>208.685303</td>\n      <td>1.000000</td>\n      <td>0.069734</td>\n      <td>1.000000</td>\n      <td>1.000000</td>\n      <td>6.106000</td>\n      <td>140.410995</td>\n      <td>1.844594e+19</td>\n    </tr>\n  </tbody>\n</table>\n<p>8 rows × 51 columns</p>\n</div>"
     },
     "execution_count": 6,
     "metadata": {},
     "output_type": "execute_result"
    }
   ],
   "source": [
    "rides = rides[rides['ride_a_d_d_result.confidence'] > 0.6]\n",
    "rides.describe()"
   ],
   "metadata": {
    "collapsed": false,
    "pycharm": {
     "name": "#%%\n"
    }
   }
  },
  {
   "cell_type": "code",
   "execution_count": 7,
   "outputs": [
    {
     "data": {
      "text/plain": "        eta   ata  a_t_a_result.ride_a_t_a           created_at  source_lat  \\\n0       216   264                      227  2022-09-07 19:10:22   35.688171   \n1       690   606                      576  2022-09-07 17:07:23   35.450420   \n2       539   661                      611  2022-09-07 19:29:16   35.668324   \n4      1948  1942                     2104  2022-09-07 18:28:36   35.788334   \n7       614   454                      439  2022-09-07 19:47:23   35.597797   \n...     ...   ...                      ...                  ...         ...   \n21635   198   850                      799  2022-09-07 19:36:23   35.742573   \n21636   479   311                      257  2022-09-07 18:31:30   35.743279   \n21637   499   516                      459  2022-09-07 17:33:19   35.348122   \n21638   249   337                      383  2022-09-07 19:00:18   35.558105   \n21639   625   657                      619  2022-09-07 17:03:34   35.719666   \n\n       source_lng  destination_lat  destination_lng   e_d_d  \\\n0       51.242744        35.688530        51.254330   1.661   \n1       50.983334        35.472977        51.068180  11.502   \n2       51.458286        35.682491        51.450005   3.054   \n4       51.375679        35.704464        51.386269  12.503   \n7       51.440342        35.607651        51.429901   6.171   \n...           ...              ...              ...     ...   \n21635   51.823948        35.741184        51.818558   4.185   \n21636   51.330570        35.738327        51.326656   2.528   \n21637   51.636688        35.326210        51.644871   3.041   \n21638   51.161251        35.554798        51.153976   1.297   \n21639   51.497513        35.742268        51.517689   5.821   \n\n           clickhouse_time  \n0      2022-09-07 19:18:17  \n1      2022-09-07 17:26:42  \n2      2022-09-07 19:44:19  \n4      2022-09-07 19:10:05  \n7      2022-09-07 19:59:02  \n...                    ...  \n21635  2022-09-07 19:52:16  \n21636  2022-09-07 18:40:45  \n21637  2022-09-07 17:44:56  \n21638  2022-09-07 19:12:30  \n21639  2022-09-07 17:23:16  \n\n[17921 rows x 10 columns]",
      "text/html": "<div>\n<style scoped>\n    .dataframe tbody tr th:only-of-type {\n        vertical-align: middle;\n    }\n\n    .dataframe tbody tr th {\n        vertical-align: top;\n    }\n\n    .dataframe thead th {\n        text-align: right;\n    }\n</style>\n<table border=\"1\" class=\"dataframe\">\n  <thead>\n    <tr style=\"text-align: right;\">\n      <th></th>\n      <th>eta</th>\n      <th>ata</th>\n      <th>a_t_a_result.ride_a_t_a</th>\n      <th>created_at</th>\n      <th>source_lat</th>\n      <th>source_lng</th>\n      <th>destination_lat</th>\n      <th>destination_lng</th>\n      <th>e_d_d</th>\n      <th>clickhouse_time</th>\n    </tr>\n  </thead>\n  <tbody>\n    <tr>\n      <th>0</th>\n      <td>216</td>\n      <td>264</td>\n      <td>227</td>\n      <td>2022-09-07 19:10:22</td>\n      <td>35.688171</td>\n      <td>51.242744</td>\n      <td>35.688530</td>\n      <td>51.254330</td>\n      <td>1.661</td>\n      <td>2022-09-07 19:18:17</td>\n    </tr>\n    <tr>\n      <th>1</th>\n      <td>690</td>\n      <td>606</td>\n      <td>576</td>\n      <td>2022-09-07 17:07:23</td>\n      <td>35.450420</td>\n      <td>50.983334</td>\n      <td>35.472977</td>\n      <td>51.068180</td>\n      <td>11.502</td>\n      <td>2022-09-07 17:26:42</td>\n    </tr>\n    <tr>\n      <th>2</th>\n      <td>539</td>\n      <td>661</td>\n      <td>611</td>\n      <td>2022-09-07 19:29:16</td>\n      <td>35.668324</td>\n      <td>51.458286</td>\n      <td>35.682491</td>\n      <td>51.450005</td>\n      <td>3.054</td>\n      <td>2022-09-07 19:44:19</td>\n    </tr>\n    <tr>\n      <th>4</th>\n      <td>1948</td>\n      <td>1942</td>\n      <td>2104</td>\n      <td>2022-09-07 18:28:36</td>\n      <td>35.788334</td>\n      <td>51.375679</td>\n      <td>35.704464</td>\n      <td>51.386269</td>\n      <td>12.503</td>\n      <td>2022-09-07 19:10:05</td>\n    </tr>\n    <tr>\n      <th>7</th>\n      <td>614</td>\n      <td>454</td>\n      <td>439</td>\n      <td>2022-09-07 19:47:23</td>\n      <td>35.597797</td>\n      <td>51.440342</td>\n      <td>35.607651</td>\n      <td>51.429901</td>\n      <td>6.171</td>\n      <td>2022-09-07 19:59:02</td>\n    </tr>\n    <tr>\n      <th>...</th>\n      <td>...</td>\n      <td>...</td>\n      <td>...</td>\n      <td>...</td>\n      <td>...</td>\n      <td>...</td>\n      <td>...</td>\n      <td>...</td>\n      <td>...</td>\n      <td>...</td>\n    </tr>\n    <tr>\n      <th>21635</th>\n      <td>198</td>\n      <td>850</td>\n      <td>799</td>\n      <td>2022-09-07 19:36:23</td>\n      <td>35.742573</td>\n      <td>51.823948</td>\n      <td>35.741184</td>\n      <td>51.818558</td>\n      <td>4.185</td>\n      <td>2022-09-07 19:52:16</td>\n    </tr>\n    <tr>\n      <th>21636</th>\n      <td>479</td>\n      <td>311</td>\n      <td>257</td>\n      <td>2022-09-07 18:31:30</td>\n      <td>35.743279</td>\n      <td>51.330570</td>\n      <td>35.738327</td>\n      <td>51.326656</td>\n      <td>2.528</td>\n      <td>2022-09-07 18:40:45</td>\n    </tr>\n    <tr>\n      <th>21637</th>\n      <td>499</td>\n      <td>516</td>\n      <td>459</td>\n      <td>2022-09-07 17:33:19</td>\n      <td>35.348122</td>\n      <td>51.636688</td>\n      <td>35.326210</td>\n      <td>51.644871</td>\n      <td>3.041</td>\n      <td>2022-09-07 17:44:56</td>\n    </tr>\n    <tr>\n      <th>21638</th>\n      <td>249</td>\n      <td>337</td>\n      <td>383</td>\n      <td>2022-09-07 19:00:18</td>\n      <td>35.558105</td>\n      <td>51.161251</td>\n      <td>35.554798</td>\n      <td>51.153976</td>\n      <td>1.297</td>\n      <td>2022-09-07 19:12:30</td>\n    </tr>\n    <tr>\n      <th>21639</th>\n      <td>625</td>\n      <td>657</td>\n      <td>619</td>\n      <td>2022-09-07 17:03:34</td>\n      <td>35.719666</td>\n      <td>51.497513</td>\n      <td>35.742268</td>\n      <td>51.517689</td>\n      <td>5.821</td>\n      <td>2022-09-07 17:23:16</td>\n    </tr>\n  </tbody>\n</table>\n<p>17921 rows × 10 columns</p>\n</div>"
     },
     "execution_count": 7,
     "metadata": {},
     "output_type": "execute_result"
    }
   ],
   "source": [
    "rides = rides[['eta', 'ata', 'a_t_a_result.ride_a_t_a', 'created_at', 'source_lat', 'source_lng', 'destination_lat', 'destination_lng', 'e_d_d', 'clickhouse_time']]\n",
    "rides"
   ],
   "metadata": {
    "collapsed": false,
    "pycharm": {
     "name": "#%%\n"
    }
   }
  },
  {
   "cell_type": "code",
   "execution_count": 8,
   "outputs": [],
   "source": [
    "rides['source_h3_4'] = rides.apply(lambda row: h3.geo_to_h3(row.source_lat, row.source_lng, 4), axis=1)\n",
    "rides['dest_h3_4'] = rides.apply(lambda row: h3.geo_to_h3(row.destination_lat, row.destination_lng, 4), axis=1)"
   ],
   "metadata": {
    "collapsed": false,
    "pycharm": {
     "name": "#%%\n"
    }
   }
  },
  {
   "cell_type": "code",
   "execution_count": 9,
   "outputs": [],
   "source": [
    "rides['hour'] = rides.apply(lambda row: datetime.strptime(row.created_at,\"%Y-%m-%d %H:%M:%S\").hour, axis=1)"
   ],
   "metadata": {
    "collapsed": false,
    "pycharm": {
     "name": "#%%\n"
    }
   }
  },
  {
   "cell_type": "code",
   "execution_count": 10,
   "outputs": [],
   "source": [
    "# , \"e_d_d\", , \"hour\"\n",
    "eta_edd_h3_hour = rides[[\"eta\", \"e_d_d\", \"source_h3_4\", \"dest_h3_4\"]]\n",
    "ata = rides[\"a_t_a_result.ride_a_t_a\"]"
   ],
   "metadata": {
    "collapsed": false,
    "pycharm": {
     "name": "#%%\n"
    }
   }
  },
  {
   "cell_type": "code",
   "execution_count": 12,
   "outputs": [
    {
     "name": "stdout",
     "output_type": "stream",
     "text": [
      "17024\n",
      "897\n"
     ]
    }
   ],
   "source": [
    "# eta_edd_h3_hour_train, eta_edd_h3_hour_test, ata_train, ata_test = train_test_split(eta_edd_h3_hour, ata, test_size=0.05, random_state=73)\n",
    "# print(len(eta_edd_h3_hour_train))\n",
    "# print(len(eta_edd_h3_hour_test))"
   ],
   "metadata": {
    "collapsed": false,
    "pycharm": {
     "name": "#%%\n"
    }
   }
  },
  {
   "cell_type": "code",
   "execution_count": 27,
   "outputs": [
    {
     "data": {
      "text/plain": "                eta         e_d_d          hour  source_h3_4_842cd59ffffffff  \\\ncount  17024.000000  17024.000000  17024.000000                 17024.000000   \nmean     985.351974      8.779119     18.000000                     0.003466   \nstd      685.621068      8.903845      0.820205                     0.058770   \nmin      181.000000      0.612000     17.000000                     0.000000   \n25%      487.000000      3.141000     17.000000                     0.000000   \n50%      790.000000      5.986000     18.000000                     0.000000   \n75%     1274.250000     11.164250     19.000000                     0.000000   \nmax     7160.000000    140.410995     19.000000                     1.000000   \n\n       source_h3_4_842cd5bffffffff  source_h3_4_842cf31ffffffff  \\\ncount                 17024.000000                 17024.000000   \nmean                      0.000352                     0.847509   \nstd                       0.018771                     0.359506   \nmin                       0.000000                     0.000000   \n25%                       0.000000                     1.000000   \n50%                       0.000000                     1.000000   \n75%                       0.000000                     1.000000   \nmax                       1.000000                     1.000000   \n\n       source_h3_4_842cf33ffffffff  source_h3_4_842cf35ffffffff  \\\ncount                 17024.000000                 17024.000000   \nmean                      0.019972                     0.053513   \nstd                       0.139907                     0.225060   \nmin                       0.000000                     0.000000   \n25%                       0.000000                     0.000000   \n50%                       0.000000                     0.000000   \n75%                       0.000000                     0.000000   \nmax                       1.000000                     1.000000   \n\n       source_h3_4_842cf37ffffffff  source_h3_4_842cf3dffffffff  \\\ncount                 17024.000000                 17024.000000   \nmean                      0.026668                     0.047580   \nstd                       0.161117                     0.212882   \nmin                       0.000000                     0.000000   \n25%                       0.000000                     0.000000   \n50%                       0.000000                     0.000000   \n75%                       0.000000                     0.000000   \nmax                       1.000000                     1.000000   \n\n       dest_h3_4_842cd59ffffffff  dest_h3_4_842cd5bffffffff  \\\ncount               17024.000000               17024.000000   \nmean                    0.002996                   0.000411   \nstd                     0.054653                   0.020274   \nmin                     0.000000                   0.000000   \n25%                     0.000000                   0.000000   \n50%                     0.000000                   0.000000   \n75%                     0.000000                   0.000000   \nmax                     1.000000                   1.000000   \n\n       dest_h3_4_842cf07ffffffff  dest_h3_4_842cf31ffffffff  \\\ncount               17024.000000               17024.000000   \nmean                    0.000117                   0.836172   \nstd                     0.010839                   0.370130   \nmin                     0.000000                   0.000000   \n25%                     0.000000                   1.000000   \n50%                     0.000000                   1.000000   \n75%                     0.000000                   1.000000   \nmax                     1.000000                   1.000000   \n\n       dest_h3_4_842cf33ffffffff  dest_h3_4_842cf35ffffffff  \\\ncount               17024.000000               17024.000000   \nmean                    0.020383                   0.050576   \nstd                     0.141311                   0.219136   \nmin                     0.000000                   0.000000   \n25%                     0.000000                   0.000000   \n50%                     0.000000                   0.000000   \n75%                     0.000000                   0.000000   \nmax                     1.000000                   1.000000   \n\n       dest_h3_4_842cf37ffffffff  dest_h3_4_842cf39ffffffff  \\\ncount               17024.000000               17024.000000   \nmean                    0.025963                   0.002408   \nstd                     0.159031                   0.049017   \nmin                     0.000000                   0.000000   \n25%                     0.000000                   0.000000   \n50%                     0.000000                   0.000000   \n75%                     0.000000                   0.000000   \nmax                     1.000000                   1.000000   \n\n       dest_h3_4_842cf3dffffffff  \ncount               17024.000000  \nmean                    0.060150  \nstd                     0.237772  \nmin                     0.000000  \n25%                     0.000000  \n50%                     0.000000  \n75%                     0.000000  \nmax                     1.000000  ",
      "text/html": "<div>\n<style scoped>\n    .dataframe tbody tr th:only-of-type {\n        vertical-align: middle;\n    }\n\n    .dataframe tbody tr th {\n        vertical-align: top;\n    }\n\n    .dataframe thead th {\n        text-align: right;\n    }\n</style>\n<table border=\"1\" class=\"dataframe\">\n  <thead>\n    <tr style=\"text-align: right;\">\n      <th></th>\n      <th>eta</th>\n      <th>e_d_d</th>\n      <th>hour</th>\n      <th>source_h3_4_842cd59ffffffff</th>\n      <th>source_h3_4_842cd5bffffffff</th>\n      <th>source_h3_4_842cf31ffffffff</th>\n      <th>source_h3_4_842cf33ffffffff</th>\n      <th>source_h3_4_842cf35ffffffff</th>\n      <th>source_h3_4_842cf37ffffffff</th>\n      <th>source_h3_4_842cf3dffffffff</th>\n      <th>dest_h3_4_842cd59ffffffff</th>\n      <th>dest_h3_4_842cd5bffffffff</th>\n      <th>dest_h3_4_842cf07ffffffff</th>\n      <th>dest_h3_4_842cf31ffffffff</th>\n      <th>dest_h3_4_842cf33ffffffff</th>\n      <th>dest_h3_4_842cf35ffffffff</th>\n      <th>dest_h3_4_842cf37ffffffff</th>\n      <th>dest_h3_4_842cf39ffffffff</th>\n      <th>dest_h3_4_842cf3dffffffff</th>\n    </tr>\n  </thead>\n  <tbody>\n    <tr>\n      <th>count</th>\n      <td>17024.000000</td>\n      <td>17024.000000</td>\n      <td>17024.000000</td>\n      <td>17024.000000</td>\n      <td>17024.000000</td>\n      <td>17024.000000</td>\n      <td>17024.000000</td>\n      <td>17024.000000</td>\n      <td>17024.000000</td>\n      <td>17024.000000</td>\n      <td>17024.000000</td>\n      <td>17024.000000</td>\n      <td>17024.000000</td>\n      <td>17024.000000</td>\n      <td>17024.000000</td>\n      <td>17024.000000</td>\n      <td>17024.000000</td>\n      <td>17024.000000</td>\n      <td>17024.000000</td>\n    </tr>\n    <tr>\n      <th>mean</th>\n      <td>985.351974</td>\n      <td>8.779119</td>\n      <td>18.000000</td>\n      <td>0.003466</td>\n      <td>0.000352</td>\n      <td>0.847509</td>\n      <td>0.019972</td>\n      <td>0.053513</td>\n      <td>0.026668</td>\n      <td>0.047580</td>\n      <td>0.002996</td>\n      <td>0.000411</td>\n      <td>0.000117</td>\n      <td>0.836172</td>\n      <td>0.020383</td>\n      <td>0.050576</td>\n      <td>0.025963</td>\n      <td>0.002408</td>\n      <td>0.060150</td>\n    </tr>\n    <tr>\n      <th>std</th>\n      <td>685.621068</td>\n      <td>8.903845</td>\n      <td>0.820205</td>\n      <td>0.058770</td>\n      <td>0.018771</td>\n      <td>0.359506</td>\n      <td>0.139907</td>\n      <td>0.225060</td>\n      <td>0.161117</td>\n      <td>0.212882</td>\n      <td>0.054653</td>\n      <td>0.020274</td>\n      <td>0.010839</td>\n      <td>0.370130</td>\n      <td>0.141311</td>\n      <td>0.219136</td>\n      <td>0.159031</td>\n      <td>0.049017</td>\n      <td>0.237772</td>\n    </tr>\n    <tr>\n      <th>min</th>\n      <td>181.000000</td>\n      <td>0.612000</td>\n      <td>17.000000</td>\n      <td>0.000000</td>\n      <td>0.000000</td>\n      <td>0.000000</td>\n      <td>0.000000</td>\n      <td>0.000000</td>\n      <td>0.000000</td>\n      <td>0.000000</td>\n      <td>0.000000</td>\n      <td>0.000000</td>\n      <td>0.000000</td>\n      <td>0.000000</td>\n      <td>0.000000</td>\n      <td>0.000000</td>\n      <td>0.000000</td>\n      <td>0.000000</td>\n      <td>0.000000</td>\n    </tr>\n    <tr>\n      <th>25%</th>\n      <td>487.000000</td>\n      <td>3.141000</td>\n      <td>17.000000</td>\n      <td>0.000000</td>\n      <td>0.000000</td>\n      <td>1.000000</td>\n      <td>0.000000</td>\n      <td>0.000000</td>\n      <td>0.000000</td>\n      <td>0.000000</td>\n      <td>0.000000</td>\n      <td>0.000000</td>\n      <td>0.000000</td>\n      <td>1.000000</td>\n      <td>0.000000</td>\n      <td>0.000000</td>\n      <td>0.000000</td>\n      <td>0.000000</td>\n      <td>0.000000</td>\n    </tr>\n    <tr>\n      <th>50%</th>\n      <td>790.000000</td>\n      <td>5.986000</td>\n      <td>18.000000</td>\n      <td>0.000000</td>\n      <td>0.000000</td>\n      <td>1.000000</td>\n      <td>0.000000</td>\n      <td>0.000000</td>\n      <td>0.000000</td>\n      <td>0.000000</td>\n      <td>0.000000</td>\n      <td>0.000000</td>\n      <td>0.000000</td>\n      <td>1.000000</td>\n      <td>0.000000</td>\n      <td>0.000000</td>\n      <td>0.000000</td>\n      <td>0.000000</td>\n      <td>0.000000</td>\n    </tr>\n    <tr>\n      <th>75%</th>\n      <td>1274.250000</td>\n      <td>11.164250</td>\n      <td>19.000000</td>\n      <td>0.000000</td>\n      <td>0.000000</td>\n      <td>1.000000</td>\n      <td>0.000000</td>\n      <td>0.000000</td>\n      <td>0.000000</td>\n      <td>0.000000</td>\n      <td>0.000000</td>\n      <td>0.000000</td>\n      <td>0.000000</td>\n      <td>1.000000</td>\n      <td>0.000000</td>\n      <td>0.000000</td>\n      <td>0.000000</td>\n      <td>0.000000</td>\n      <td>0.000000</td>\n    </tr>\n    <tr>\n      <th>max</th>\n      <td>7160.000000</td>\n      <td>140.410995</td>\n      <td>19.000000</td>\n      <td>1.000000</td>\n      <td>1.000000</td>\n      <td>1.000000</td>\n      <td>1.000000</td>\n      <td>1.000000</td>\n      <td>1.000000</td>\n      <td>1.000000</td>\n      <td>1.000000</td>\n      <td>1.000000</td>\n      <td>1.000000</td>\n      <td>1.000000</td>\n      <td>1.000000</td>\n      <td>1.000000</td>\n      <td>1.000000</td>\n      <td>1.000000</td>\n      <td>1.000000</td>\n    </tr>\n  </tbody>\n</table>\n</div>"
     },
     "execution_count": 27,
     "metadata": {},
     "output_type": "execute_result"
    }
   ],
   "source": [
    "# dummy_train_rides = pd.get_dummies(eta_edd_h3_hour_train, prefix={'source_h3_4':'source_h3_4',\n",
    "#                                                        'dest_h3_4':'dest_h3_4'},\n",
    "#                           drop_first=True)\n",
    "# dummy_train_rides.describe()"
   ],
   "metadata": {
    "collapsed": false,
    "pycharm": {
     "name": "#%%\n"
    }
   }
  },
  {
   "cell_type": "code",
   "execution_count": 28,
   "outputs": [
    {
     "name": "stderr",
     "output_type": "stream",
     "text": [
      "/var/folders/yq/707ysz_j3jlggmtk5clx13rm0000gn/T/ipykernel_13512/1070490425.py:7: UserWarning: Boolean Series key will be reindexed to match DataFrame index.\n",
      "  eta_edd_h3_hour_train = eta_edd_h3_hour_train[dummy_train_rides[col] == 0]\n"
     ]
    },
    {
     "data": {
      "text/plain": "                eta         e_d_d          hour\ncount  17015.000000  17015.000000  17015.000000\nmean     984.789480      8.764298     18.000000\nstd      682.806784      8.810351      0.820136\nmin      181.000000      0.612000     17.000000\n25%      488.000000      3.141000     17.000000\n50%      790.000000      5.987000     18.000000\n75%     1274.000000     11.164000     19.000000\nmax     4996.000000     89.037003     19.000000",
      "text/html": "<div>\n<style scoped>\n    .dataframe tbody tr th:only-of-type {\n        vertical-align: middle;\n    }\n\n    .dataframe tbody tr th {\n        vertical-align: top;\n    }\n\n    .dataframe thead th {\n        text-align: right;\n    }\n</style>\n<table border=\"1\" class=\"dataframe\">\n  <thead>\n    <tr style=\"text-align: right;\">\n      <th></th>\n      <th>eta</th>\n      <th>e_d_d</th>\n      <th>hour</th>\n    </tr>\n  </thead>\n  <tbody>\n    <tr>\n      <th>count</th>\n      <td>17015.000000</td>\n      <td>17015.000000</td>\n      <td>17015.000000</td>\n    </tr>\n    <tr>\n      <th>mean</th>\n      <td>984.789480</td>\n      <td>8.764298</td>\n      <td>18.000000</td>\n    </tr>\n    <tr>\n      <th>std</th>\n      <td>682.806784</td>\n      <td>8.810351</td>\n      <td>0.820136</td>\n    </tr>\n    <tr>\n      <th>min</th>\n      <td>181.000000</td>\n      <td>0.612000</td>\n      <td>17.000000</td>\n    </tr>\n    <tr>\n      <th>25%</th>\n      <td>488.000000</td>\n      <td>3.141000</td>\n      <td>17.000000</td>\n    </tr>\n    <tr>\n      <th>50%</th>\n      <td>790.000000</td>\n      <td>5.987000</td>\n      <td>18.000000</td>\n    </tr>\n    <tr>\n      <th>75%</th>\n      <td>1274.000000</td>\n      <td>11.164000</td>\n      <td>19.000000</td>\n    </tr>\n    <tr>\n      <th>max</th>\n      <td>4996.000000</td>\n      <td>89.037003</td>\n      <td>19.000000</td>\n    </tr>\n  </tbody>\n</table>\n</div>"
     },
     "execution_count": 28,
     "metadata": {},
     "output_type": "execute_result"
    }
   ],
   "source": [
    "# geo_noise = np.count_nonzero(dummy_train_rides, axis=0) < 10\n",
    "#\n",
    "# cols = dummy_train_rides.columns\n",
    "# for col, noise in zip(cols, geo_noise):\n",
    "#     if noise:\n",
    "#         # DOESN'T REINDEX\n",
    "#         eta_edd_h3_hour_train = eta_edd_h3_hour_train[dummy_train_rides[col] == 0]\n",
    "#         ata_train = ata_train[dummy_train_rides[col] == 0]\n",
    "#\n",
    "# eta_edd_h3_hour_train.describe()"
   ],
   "metadata": {
    "collapsed": false,
    "pycharm": {
     "name": "#%%\n"
    }
   }
  },
  {
   "cell_type": "code",
   "execution_count": 29,
   "outputs": [
    {
     "name": "stdout",
     "output_type": "stream",
     "text": [
      "[17024 17024 17024    59     6 14428   340   911   454   810    51     7\n",
      "     2 14235   347   861   442    41  1024]\n",
      "Index(['eta', 'e_d_d', 'hour', 'source_h3_4_842cd59ffffffff',\n",
      "       'source_h3_4_842cd5bffffffff', 'source_h3_4_842cf31ffffffff',\n",
      "       'source_h3_4_842cf33ffffffff', 'source_h3_4_842cf35ffffffff',\n",
      "       'source_h3_4_842cf37ffffffff', 'source_h3_4_842cf3dffffffff',\n",
      "       'dest_h3_4_842cd59ffffffff', 'dest_h3_4_842cd5bffffffff',\n",
      "       'dest_h3_4_842cf07ffffffff', 'dest_h3_4_842cf31ffffffff',\n",
      "       'dest_h3_4_842cf33ffffffff', 'dest_h3_4_842cf35ffffffff',\n",
      "       'dest_h3_4_842cf37ffffffff', 'dest_h3_4_842cf39ffffffff',\n",
      "       'dest_h3_4_842cf3dffffffff'],\n",
      "      dtype='object')\n"
     ]
    }
   ],
   "source": [
    "# print(np.count_nonzero(dummy_train_rides, axis=0))\n",
    "# print(dummy_train_rides.columns)"
   ],
   "metadata": {
    "collapsed": false,
    "pycharm": {
     "name": "#%%\n"
    }
   }
  },
  {
   "cell_type": "code",
   "execution_count": 30,
   "outputs": [],
   "source": [
    "# ohe = ColumnTransformer(\n",
    "#     [('OHE', OneHotEncoder(handle_unknown='ignore', sparse=False),['source_h3_4', 'dest_h3_4'])],\n",
    "#     remainder = 'passthrough'\n",
    "#     ).fit(eta_edd_h3_hour_train)"
   ],
   "metadata": {
    "collapsed": false,
    "pycharm": {
     "name": "#%%\n"
    }
   }
  },
  {
   "cell_type": "code",
   "execution_count": 31,
   "outputs": [],
   "source": [
    "# eta_edd_h3_hour_train_transformed = ohe.transform(eta_edd_h3_hour_train)"
   ],
   "metadata": {
    "collapsed": false,
    "pycharm": {
     "name": "#%%\n"
    }
   }
  },
  {
   "cell_type": "code",
   "execution_count": 32,
   "outputs": [],
   "source": [
    "# eta_edd_h3_hour_test_transformed = ohe.transform(eta_edd_h3_hour_test)"
   ],
   "metadata": {
    "collapsed": false,
    "pycharm": {
     "name": "#%%\n"
    }
   }
  },
  {
   "cell_type": "code",
   "execution_count": 33,
   "outputs": [],
   "source": [
    "# reg = LinearRegression().fit(eta_edd_h3_hour_train_transformed, ata_train)"
   ],
   "metadata": {
    "collapsed": false,
    "pycharm": {
     "name": "#%%\n"
    }
   }
  },
  {
   "cell_type": "code",
   "execution_count": 34,
   "outputs": [
    {
     "name": "stdout",
     "output_type": "stream",
     "text": [
      "[ -54.24779738  188.41495268  -33.65027002  124.50875181  -89.03181301\n",
      "  -86.6401199   -49.35370418   99.00226493 -130.2629327    -1.0106306\n",
      " -197.7024029     6.6005062    77.90278741  181.93631447  -36.46590682\n",
      "    1.41462893   -9.8332009   -99.6436114 ]\n",
      "1734.7242255538758\n"
     ]
    }
   ],
   "source": [
    "# print(reg.coef_)\n",
    "# print(reg.intercept_)"
   ],
   "metadata": {
    "collapsed": false,
    "pycharm": {
     "name": "#%%\n"
    }
   }
  },
  {
   "cell_type": "code",
   "execution_count": 35,
   "outputs": [],
   "source": [
    "# ata_train_pred = reg.predict(eta_edd_h3_hour_train_transformed)\n",
    "# ata_test_pred = reg.predict(eta_edd_h3_hour_test_transformed)"
   ],
   "metadata": {
    "collapsed": false,
    "pycharm": {
     "name": "#%%\n"
    }
   }
  },
  {
   "cell_type": "code",
   "execution_count": 36,
   "outputs": [
    {
     "data": {
      "text/plain": "array([[0.00000000e+00, 0.00000000e+00, 0.00000000e+00, ...,\n        3.24000000e+02, 1.96700001e+00, 1.80000000e+01],\n       [0.00000000e+00, 0.00000000e+00, 1.00000000e+00, ...,\n        5.89000000e+02, 7.10900021e+00, 1.70000000e+01],\n       [0.00000000e+00, 0.00000000e+00, 1.00000000e+00, ...,\n        1.20100000e+03, 7.93599987e+00, 1.80000000e+01],\n       ...,\n       [0.00000000e+00, 0.00000000e+00, 1.00000000e+00, ...,\n        1.48900000e+03, 1.47220001e+01, 1.90000000e+01],\n       [0.00000000e+00, 0.00000000e+00, 1.00000000e+00, ...,\n        3.86000000e+02, 1.68599999e+00, 1.90000000e+01],\n       [0.00000000e+00, 0.00000000e+00, 1.00000000e+00, ...,\n        1.30600000e+03, 1.36320000e+01, 1.80000000e+01]])"
     },
     "execution_count": 36,
     "metadata": {},
     "output_type": "execute_result"
    }
   ],
   "source": [
    "# eta_edd_h3_hour_train_transformed"
   ],
   "metadata": {
    "collapsed": false,
    "pycharm": {
     "name": "#%%\n"
    }
   }
  },
  {
   "cell_type": "code",
   "execution_count": 37,
   "outputs": [
    {
     "name": "stdout",
     "output_type": "stream",
     "text": [
      "ETA train MAE 282.2007640317367\n",
      "prediction train MAE 239.33373802397207\n",
      "ETA test MAE  278.0133779264214\n",
      "prediction test MAE 244.23609892246478\n",
      "ETA train MSE 240555.79124302085\n",
      "prediction train MSE 133363.80261080217\n",
      "ETA test MSE  290479.19509476033\n",
      "prediction test MSE 184992.84656882097\n",
      "ETA train explained_variance_score 0.8013651351429689\n",
      "prediction train explained_variance_score 0.8609091630246613\n",
      "ETA test explained_variance_score  0.7525599622257961\n",
      "prediction test explained_variance_score 0.812445523189655\n",
      "ETA train median_absolute_error 135.0\n",
      "prediction train median_absolute_error 160.5293926710724\n",
      "ETA test median_absolute_error  131.0\n",
      "prediction test median_absolute_error 163.47580574383073\n",
      "ETA train r2_score 0.7491140347812297\n",
      "prediction train r2_score 0.8609091630246613\n",
      "ETA test r2_score  0.7054884345188464\n",
      "prediction test r2_score 0.8124391220926338\n",
      "ETA train MAPE 0.2080388500806881\n",
      "prediction train MAPE 0.24096110751814095\n",
      "ETA test MAPE  0.20487941597678036\n",
      "prediction test MAPE 0.24501675997932926\n"
     ]
    }
   ],
   "source": [
    "# print(\"ETA train MAE\", mean_absolute_error(ata_train, eta_edd_h3_hour_train_transformed[:, 15]))\n",
    "# print(\"prediction train MAE\", mean_absolute_error(ata_train, ata_train_pred))\n",
    "#\n",
    "# print(\"ETA test MAE \", mean_absolute_error(ata_test, eta_edd_h3_hour_test_transformed[:, 15]))\n",
    "# print(\"prediction test MAE\", mean_absolute_error(ata_test, ata_test_pred))\n",
    "#\n",
    "#\n",
    "# print(\"ETA train MSE\", mean_squared_error(ata_train, eta_edd_h3_hour_train_transformed[:, 15]))\n",
    "# print(\"prediction train MSE\", mean_squared_error(ata_train, ata_train_pred))\n",
    "#\n",
    "# print(\"ETA test MSE \", mean_squared_error(ata_test, eta_edd_h3_hour_test_transformed[:, 15]))\n",
    "# print(\"prediction test MSE\", mean_squared_error(ata_test, ata_test_pred))\n",
    "#\n",
    "#\n",
    "# print(\"ETA train explained_variance_score\", explained_variance_score(ata_train, eta_edd_h3_hour_train_transformed[:, 15]))\n",
    "# print(\"prediction train explained_variance_score\", explained_variance_score(ata_train, ata_train_pred))\n",
    "#\n",
    "# print(\"ETA test explained_variance_score \", explained_variance_score(ata_test, eta_edd_h3_hour_test_transformed[:, 15]))\n",
    "# print(\"prediction test explained_variance_score\", explained_variance_score(ata_test, ata_test_pred))\n",
    "#\n",
    "#\n",
    "# print(\"ETA train median_absolute_error\", median_absolute_error(ata_train, eta_edd_h3_hour_train_transformed[:, 15]))\n",
    "# print(\"prediction train median_absolute_error\", median_absolute_error(ata_train, ata_train_pred))\n",
    "#\n",
    "# print(\"ETA test median_absolute_error \", median_absolute_error(ata_test, eta_edd_h3_hour_test_transformed[:, 15]))\n",
    "# print(\"prediction test median_absolute_error\", median_absolute_error(ata_test, ata_test_pred))\n",
    "#\n",
    "#\n",
    "# print(\"ETA train r2_score\", r2_score(ata_train, eta_edd_h3_hour_train_transformed[:, 15]))\n",
    "# print(\"prediction train r2_score\", r2_score(ata_train, ata_train_pred))\n",
    "#\n",
    "# print(\"ETA test r2_score \", r2_score(ata_test, eta_edd_h3_hour_test_transformed[:, 15]))\n",
    "# print(\"prediction test r2_score\", r2_score(ata_test, ata_test_pred))\n",
    "#\n",
    "#\n",
    "# print(\"ETA train MAPE\", mean_absolute_percentage_error(ata_train, eta_edd_h3_hour_train_transformed[:, 15]))\n",
    "# print(\"prediction train MAPE\", mean_absolute_percentage_error(ata_train, ata_train_pred))\n",
    "#\n",
    "# print(\"ETA test MAPE \", mean_absolute_percentage_error(ata_test, eta_edd_h3_hour_test_transformed[:, 15]))\n",
    "# print(\"prediction test MAPE\", mean_absolute_percentage_error(ata_test, ata_test_pred))"
   ],
   "metadata": {
    "collapsed": false,
    "pycharm": {
     "name": "#%%\n"
    }
   }
  },
  {
   "cell_type": "code",
   "execution_count": 11,
   "outputs": [
    {
     "data": {
      "text/plain": "        eta   ata  a_t_a_result.ride_a_t_a           created_at  source_lat  \\\n4      1948  1942                     2104  2022-09-07 18:28:36   35.788334   \n13     2034  2432                     2425  2022-09-07 18:52:05   35.769527   \n14     2755  3106                     3294  2022-09-07 18:20:23   35.646183   \n19     2688  2753                     2748  2022-09-07 18:31:32   35.728317   \n20     2668  2632                     2627  2022-09-07 18:24:03   35.747692   \n...     ...   ...                      ...                  ...         ...   \n21555  3027  3701                     3931  2022-09-07 17:16:50   35.638645   \n21581  1940  2084                     2086  2022-09-07 18:50:23   35.763355   \n21588  2881  3874                     3716  2022-09-07 17:47:31   35.633251   \n21606  2542  3706                     3684  2022-09-07 17:32:18   35.719128   \n21611  3139  3376                     3399  2022-09-07 17:11:11   35.771435   \n\n       source_lng  destination_lat  destination_lng      e_d_d  \\\n4       51.375679        35.704464        51.386269  12.503000   \n13      51.375660        35.749249        51.256992  17.659000   \n14      51.301712        35.715679        51.431812  22.749001   \n19      51.434978        35.724007        51.318825  12.726000   \n20      51.222412        35.684402        51.015369  28.212000   \n...           ...              ...              ...        ...   \n21555   51.364239        35.655308        51.055885  39.138000   \n21581   51.304192        35.743538        51.079121  29.125999   \n21588   51.381866        35.807922        51.464828  40.250999   \n21606   51.330307        35.784294        51.455704  21.486000   \n21611   51.345436        35.863976        50.973038  49.762001   \n\n           clickhouse_time      source_h3_4        dest_h3_4  hour  \n4      2022-09-07 19:10:05  842cf31ffffffff  842cf31ffffffff    18  \n13     2022-09-07 19:39:46  842cf31ffffffff  842cf31ffffffff    18  \n14     2022-09-07 19:30:40  842cf31ffffffff  842cf31ffffffff    18  \n19     2022-09-07 19:28:29  842cf31ffffffff  842cf31ffffffff    18  \n20     2022-09-07 19:12:30  842cf31ffffffff  842cf3dffffffff    18  \n...                    ...              ...              ...   ...  \n21555  2022-09-07 18:25:04  842cf31ffffffff  842cf3dffffffff    17  \n21581  2022-09-07 19:29:38  842cf31ffffffff  842cf3dffffffff    18  \n21588  2022-09-07 19:03:24  842cf31ffffffff  842cf31ffffffff    17  \n21606  2022-09-07 18:41:56  842cf31ffffffff  842cf31ffffffff    17  \n21611  2022-09-07 18:14:37  842cf31ffffffff  842cf39ffffffff    17  \n\n[2191 rows x 13 columns]",
      "text/html": "<div>\n<style scoped>\n    .dataframe tbody tr th:only-of-type {\n        vertical-align: middle;\n    }\n\n    .dataframe tbody tr th {\n        vertical-align: top;\n    }\n\n    .dataframe thead th {\n        text-align: right;\n    }\n</style>\n<table border=\"1\" class=\"dataframe\">\n  <thead>\n    <tr style=\"text-align: right;\">\n      <th></th>\n      <th>eta</th>\n      <th>ata</th>\n      <th>a_t_a_result.ride_a_t_a</th>\n      <th>created_at</th>\n      <th>source_lat</th>\n      <th>source_lng</th>\n      <th>destination_lat</th>\n      <th>destination_lng</th>\n      <th>e_d_d</th>\n      <th>clickhouse_time</th>\n      <th>source_h3_4</th>\n      <th>dest_h3_4</th>\n      <th>hour</th>\n    </tr>\n  </thead>\n  <tbody>\n    <tr>\n      <th>4</th>\n      <td>1948</td>\n      <td>1942</td>\n      <td>2104</td>\n      <td>2022-09-07 18:28:36</td>\n      <td>35.788334</td>\n      <td>51.375679</td>\n      <td>35.704464</td>\n      <td>51.386269</td>\n      <td>12.503000</td>\n      <td>2022-09-07 19:10:05</td>\n      <td>842cf31ffffffff</td>\n      <td>842cf31ffffffff</td>\n      <td>18</td>\n    </tr>\n    <tr>\n      <th>13</th>\n      <td>2034</td>\n      <td>2432</td>\n      <td>2425</td>\n      <td>2022-09-07 18:52:05</td>\n      <td>35.769527</td>\n      <td>51.375660</td>\n      <td>35.749249</td>\n      <td>51.256992</td>\n      <td>17.659000</td>\n      <td>2022-09-07 19:39:46</td>\n      <td>842cf31ffffffff</td>\n      <td>842cf31ffffffff</td>\n      <td>18</td>\n    </tr>\n    <tr>\n      <th>14</th>\n      <td>2755</td>\n      <td>3106</td>\n      <td>3294</td>\n      <td>2022-09-07 18:20:23</td>\n      <td>35.646183</td>\n      <td>51.301712</td>\n      <td>35.715679</td>\n      <td>51.431812</td>\n      <td>22.749001</td>\n      <td>2022-09-07 19:30:40</td>\n      <td>842cf31ffffffff</td>\n      <td>842cf31ffffffff</td>\n      <td>18</td>\n    </tr>\n    <tr>\n      <th>19</th>\n      <td>2688</td>\n      <td>2753</td>\n      <td>2748</td>\n      <td>2022-09-07 18:31:32</td>\n      <td>35.728317</td>\n      <td>51.434978</td>\n      <td>35.724007</td>\n      <td>51.318825</td>\n      <td>12.726000</td>\n      <td>2022-09-07 19:28:29</td>\n      <td>842cf31ffffffff</td>\n      <td>842cf31ffffffff</td>\n      <td>18</td>\n    </tr>\n    <tr>\n      <th>20</th>\n      <td>2668</td>\n      <td>2632</td>\n      <td>2627</td>\n      <td>2022-09-07 18:24:03</td>\n      <td>35.747692</td>\n      <td>51.222412</td>\n      <td>35.684402</td>\n      <td>51.015369</td>\n      <td>28.212000</td>\n      <td>2022-09-07 19:12:30</td>\n      <td>842cf31ffffffff</td>\n      <td>842cf3dffffffff</td>\n      <td>18</td>\n    </tr>\n    <tr>\n      <th>...</th>\n      <td>...</td>\n      <td>...</td>\n      <td>...</td>\n      <td>...</td>\n      <td>...</td>\n      <td>...</td>\n      <td>...</td>\n      <td>...</td>\n      <td>...</td>\n      <td>...</td>\n      <td>...</td>\n      <td>...</td>\n      <td>...</td>\n    </tr>\n    <tr>\n      <th>21555</th>\n      <td>3027</td>\n      <td>3701</td>\n      <td>3931</td>\n      <td>2022-09-07 17:16:50</td>\n      <td>35.638645</td>\n      <td>51.364239</td>\n      <td>35.655308</td>\n      <td>51.055885</td>\n      <td>39.138000</td>\n      <td>2022-09-07 18:25:04</td>\n      <td>842cf31ffffffff</td>\n      <td>842cf3dffffffff</td>\n      <td>17</td>\n    </tr>\n    <tr>\n      <th>21581</th>\n      <td>1940</td>\n      <td>2084</td>\n      <td>2086</td>\n      <td>2022-09-07 18:50:23</td>\n      <td>35.763355</td>\n      <td>51.304192</td>\n      <td>35.743538</td>\n      <td>51.079121</td>\n      <td>29.125999</td>\n      <td>2022-09-07 19:29:38</td>\n      <td>842cf31ffffffff</td>\n      <td>842cf3dffffffff</td>\n      <td>18</td>\n    </tr>\n    <tr>\n      <th>21588</th>\n      <td>2881</td>\n      <td>3874</td>\n      <td>3716</td>\n      <td>2022-09-07 17:47:31</td>\n      <td>35.633251</td>\n      <td>51.381866</td>\n      <td>35.807922</td>\n      <td>51.464828</td>\n      <td>40.250999</td>\n      <td>2022-09-07 19:03:24</td>\n      <td>842cf31ffffffff</td>\n      <td>842cf31ffffffff</td>\n      <td>17</td>\n    </tr>\n    <tr>\n      <th>21606</th>\n      <td>2542</td>\n      <td>3706</td>\n      <td>3684</td>\n      <td>2022-09-07 17:32:18</td>\n      <td>35.719128</td>\n      <td>51.330307</td>\n      <td>35.784294</td>\n      <td>51.455704</td>\n      <td>21.486000</td>\n      <td>2022-09-07 18:41:56</td>\n      <td>842cf31ffffffff</td>\n      <td>842cf31ffffffff</td>\n      <td>17</td>\n    </tr>\n    <tr>\n      <th>21611</th>\n      <td>3139</td>\n      <td>3376</td>\n      <td>3399</td>\n      <td>2022-09-07 17:11:11</td>\n      <td>35.771435</td>\n      <td>51.345436</td>\n      <td>35.863976</td>\n      <td>50.973038</td>\n      <td>49.762001</td>\n      <td>2022-09-07 18:14:37</td>\n      <td>842cf31ffffffff</td>\n      <td>842cf39ffffffff</td>\n      <td>17</td>\n    </tr>\n  </tbody>\n</table>\n<p>2191 rows × 13 columns</p>\n</div>"
     },
     "execution_count": 11,
     "metadata": {},
     "output_type": "execute_result"
    }
   ],
   "source": [
    "rides_p4 = rides[rides['eta'] > 1800]\n",
    "rides_p4"
   ],
   "metadata": {
    "collapsed": false,
    "pycharm": {
     "name": "#%%\n"
    }
   }
  },
  {
   "cell_type": "code",
   "execution_count": 12,
   "outputs": [
    {
     "data": {
      "text/plain": "               eta           ata  a_t_a_result.ride_a_t_a   source_lat  \\\ncount  2191.000000   2191.000000              2191.000000  2191.000000   \nmean   2425.805112   3148.674578              3163.753994    35.704695   \nstd     551.905195   1059.248791              1023.100914     0.093927   \nmin    1801.000000    577.000000               593.000000    35.299927   \n25%    2016.000000   2391.000000              2429.000000    35.674210   \n50%    2288.000000   2976.000000              2987.000000    35.728794   \n75%    2680.500000   3707.000000              3693.500000    35.767307   \nmax    7160.000000  10212.000000              9930.000000    35.829247   \n\n        source_lng  destination_lat  destination_lng        e_d_d         hour  \ncount  2191.000000      2191.000000      2191.000000  2191.000000  2191.000000  \nmean     51.390758        35.701461        51.355991    25.583150    17.642173  \nstd       0.118610         0.088278         0.174147    13.055328     0.616168  \nmin      50.911144        35.305145        50.670673     5.102000    17.000000  \n25%      51.335310        35.662163        51.306723    16.116000    17.000000  \n50%      51.402493        35.719696        51.386127    21.615000    18.000000  \n75%      51.443844        35.756796        51.455122    32.015999    18.000000  \nmax      51.909485        35.966866        52.776310   140.410995    19.000000  ",
      "text/html": "<div>\n<style scoped>\n    .dataframe tbody tr th:only-of-type {\n        vertical-align: middle;\n    }\n\n    .dataframe tbody tr th {\n        vertical-align: top;\n    }\n\n    .dataframe thead th {\n        text-align: right;\n    }\n</style>\n<table border=\"1\" class=\"dataframe\">\n  <thead>\n    <tr style=\"text-align: right;\">\n      <th></th>\n      <th>eta</th>\n      <th>ata</th>\n      <th>a_t_a_result.ride_a_t_a</th>\n      <th>source_lat</th>\n      <th>source_lng</th>\n      <th>destination_lat</th>\n      <th>destination_lng</th>\n      <th>e_d_d</th>\n      <th>hour</th>\n    </tr>\n  </thead>\n  <tbody>\n    <tr>\n      <th>count</th>\n      <td>2191.000000</td>\n      <td>2191.000000</td>\n      <td>2191.000000</td>\n      <td>2191.000000</td>\n      <td>2191.000000</td>\n      <td>2191.000000</td>\n      <td>2191.000000</td>\n      <td>2191.000000</td>\n      <td>2191.000000</td>\n    </tr>\n    <tr>\n      <th>mean</th>\n      <td>2425.805112</td>\n      <td>3148.674578</td>\n      <td>3163.753994</td>\n      <td>35.704695</td>\n      <td>51.390758</td>\n      <td>35.701461</td>\n      <td>51.355991</td>\n      <td>25.583150</td>\n      <td>17.642173</td>\n    </tr>\n    <tr>\n      <th>std</th>\n      <td>551.905195</td>\n      <td>1059.248791</td>\n      <td>1023.100914</td>\n      <td>0.093927</td>\n      <td>0.118610</td>\n      <td>0.088278</td>\n      <td>0.174147</td>\n      <td>13.055328</td>\n      <td>0.616168</td>\n    </tr>\n    <tr>\n      <th>min</th>\n      <td>1801.000000</td>\n      <td>577.000000</td>\n      <td>593.000000</td>\n      <td>35.299927</td>\n      <td>50.911144</td>\n      <td>35.305145</td>\n      <td>50.670673</td>\n      <td>5.102000</td>\n      <td>17.000000</td>\n    </tr>\n    <tr>\n      <th>25%</th>\n      <td>2016.000000</td>\n      <td>2391.000000</td>\n      <td>2429.000000</td>\n      <td>35.674210</td>\n      <td>51.335310</td>\n      <td>35.662163</td>\n      <td>51.306723</td>\n      <td>16.116000</td>\n      <td>17.000000</td>\n    </tr>\n    <tr>\n      <th>50%</th>\n      <td>2288.000000</td>\n      <td>2976.000000</td>\n      <td>2987.000000</td>\n      <td>35.728794</td>\n      <td>51.402493</td>\n      <td>35.719696</td>\n      <td>51.386127</td>\n      <td>21.615000</td>\n      <td>18.000000</td>\n    </tr>\n    <tr>\n      <th>75%</th>\n      <td>2680.500000</td>\n      <td>3707.000000</td>\n      <td>3693.500000</td>\n      <td>35.767307</td>\n      <td>51.443844</td>\n      <td>35.756796</td>\n      <td>51.455122</td>\n      <td>32.015999</td>\n      <td>18.000000</td>\n    </tr>\n    <tr>\n      <th>max</th>\n      <td>7160.000000</td>\n      <td>10212.000000</td>\n      <td>9930.000000</td>\n      <td>35.829247</td>\n      <td>51.909485</td>\n      <td>35.966866</td>\n      <td>52.776310</td>\n      <td>140.410995</td>\n      <td>19.000000</td>\n    </tr>\n  </tbody>\n</table>\n</div>"
     },
     "execution_count": 12,
     "metadata": {},
     "output_type": "execute_result"
    }
   ],
   "source": [
    "rides_p4.describe()"
   ],
   "metadata": {
    "collapsed": false,
    "pycharm": {
     "name": "#%%\n"
    }
   }
  },
  {
   "cell_type": "code",
   "execution_count": 35,
   "outputs": [],
   "source": [
    "# , \"e_d_d\",\n",
    "p4_eta_edd_h3_hour = rides_p4[[\"eta\", \"source_h3_4\", \"dest_h3_4\", \"hour\"]]\n",
    "p4_ata = rides_p4[\"a_t_a_result.ride_a_t_a\"]"
   ],
   "metadata": {
    "collapsed": false,
    "pycharm": {
     "name": "#%%\n"
    }
   }
  },
  {
   "cell_type": "code",
   "execution_count": 36,
   "outputs": [
    {
     "name": "stdout",
     "output_type": "stream",
     "text": [
      "2081\n",
      "110\n"
     ]
    }
   ],
   "source": [
    "p4_eta_edd_h3_hour_train, p4_eta_edd_h3_hour_test, p4_ata_train, p4_ata_test = train_test_split(p4_eta_edd_h3_hour, p4_ata, test_size=0.05, random_state=73)\n",
    "print(len(p4_eta_edd_h3_hour_train))\n",
    "print(len(p4_eta_edd_h3_hour_test))"
   ],
   "metadata": {
    "collapsed": false,
    "pycharm": {
     "name": "#%%\n"
    }
   }
  },
  {
   "cell_type": "code",
   "execution_count": 37,
   "outputs": [
    {
     "data": {
      "text/plain": "               eta         hour  source_h3_4_842cf31ffffffff  \\\ncount  2081.000000  2081.000000                  2081.000000   \nmean   2421.558385    17.639596                     0.871696   \nstd     550.668881     0.617726                     0.334508   \nmin    1801.000000    17.000000                     0.000000   \n25%    2013.000000    17.000000                     1.000000   \n50%    2285.000000    18.000000                     1.000000   \n75%    2676.000000    18.000000                     1.000000   \nmax    7160.000000    19.000000                     1.000000   \n\n       source_h3_4_842cf33ffffffff  source_h3_4_842cf35ffffffff  \\\ncount                  2081.000000                  2081.000000   \nmean                      0.015858                     0.049976   \nstd                       0.124955                     0.217948   \nmin                       0.000000                     0.000000   \n25%                       0.000000                     0.000000   \n50%                       0.000000                     0.000000   \n75%                       0.000000                     0.000000   \nmax                       1.000000                     1.000000   \n\n       source_h3_4_842cf37ffffffff  source_h3_4_842cf3dffffffff  \\\ncount                  2081.000000                  2081.000000   \nmean                      0.018741                     0.043248   \nstd                       0.135641                     0.203465   \nmin                       0.000000                     0.000000   \n25%                       0.000000                     0.000000   \n50%                       0.000000                     0.000000   \n75%                       0.000000                     0.000000   \nmax                       1.000000                     1.000000   \n\n       dest_h3_4_842cd5bffffffff  dest_h3_4_842cf07ffffffff  \\\ncount                2081.000000                2081.000000   \nmean                    0.000481                   0.000961   \nstd                     0.021921                   0.030994   \nmin                     0.000000                   0.000000   \n25%                     0.000000                   0.000000   \n50%                     0.000000                   0.000000   \n75%                     0.000000                   0.000000   \nmax                     1.000000                   1.000000   \n\n       dest_h3_4_842cf31ffffffff  dest_h3_4_842cf33ffffffff  \\\ncount                2081.000000                2081.000000   \nmean                    0.776550                   0.015377   \nstd                     0.416658                   0.123077   \nmin                     0.000000                   0.000000   \n25%                     1.000000                   0.000000   \n50%                     1.000000                   0.000000   \n75%                     1.000000                   0.000000   \nmax                     1.000000                   1.000000   \n\n       dest_h3_4_842cf35ffffffff  dest_h3_4_842cf37ffffffff  \\\ncount                 2081.00000                2081.000000   \nmean                     0.04421                   0.013455   \nstd                      0.20561                   0.115241   \nmin                      0.00000                   0.000000   \n25%                      0.00000                   0.000000   \n50%                      0.00000                   0.000000   \n75%                      0.00000                   0.000000   \nmax                      1.00000                   1.000000   \n\n       dest_h3_4_842cf39ffffffff  dest_h3_4_842cf3dffffffff  \ncount                2081.000000                2081.000000  \nmean                    0.019702                   0.127823  \nstd                     0.139008                   0.333973  \nmin                     0.000000                   0.000000  \n25%                     0.000000                   0.000000  \n50%                     0.000000                   0.000000  \n75%                     0.000000                   0.000000  \nmax                     1.000000                   1.000000  ",
      "text/html": "<div>\n<style scoped>\n    .dataframe tbody tr th:only-of-type {\n        vertical-align: middle;\n    }\n\n    .dataframe tbody tr th {\n        vertical-align: top;\n    }\n\n    .dataframe thead th {\n        text-align: right;\n    }\n</style>\n<table border=\"1\" class=\"dataframe\">\n  <thead>\n    <tr style=\"text-align: right;\">\n      <th></th>\n      <th>eta</th>\n      <th>hour</th>\n      <th>source_h3_4_842cf31ffffffff</th>\n      <th>source_h3_4_842cf33ffffffff</th>\n      <th>source_h3_4_842cf35ffffffff</th>\n      <th>source_h3_4_842cf37ffffffff</th>\n      <th>source_h3_4_842cf3dffffffff</th>\n      <th>dest_h3_4_842cd5bffffffff</th>\n      <th>dest_h3_4_842cf07ffffffff</th>\n      <th>dest_h3_4_842cf31ffffffff</th>\n      <th>dest_h3_4_842cf33ffffffff</th>\n      <th>dest_h3_4_842cf35ffffffff</th>\n      <th>dest_h3_4_842cf37ffffffff</th>\n      <th>dest_h3_4_842cf39ffffffff</th>\n      <th>dest_h3_4_842cf3dffffffff</th>\n    </tr>\n  </thead>\n  <tbody>\n    <tr>\n      <th>count</th>\n      <td>2081.000000</td>\n      <td>2081.000000</td>\n      <td>2081.000000</td>\n      <td>2081.000000</td>\n      <td>2081.000000</td>\n      <td>2081.000000</td>\n      <td>2081.000000</td>\n      <td>2081.000000</td>\n      <td>2081.000000</td>\n      <td>2081.000000</td>\n      <td>2081.000000</td>\n      <td>2081.00000</td>\n      <td>2081.000000</td>\n      <td>2081.000000</td>\n      <td>2081.000000</td>\n    </tr>\n    <tr>\n      <th>mean</th>\n      <td>2421.558385</td>\n      <td>17.639596</td>\n      <td>0.871696</td>\n      <td>0.015858</td>\n      <td>0.049976</td>\n      <td>0.018741</td>\n      <td>0.043248</td>\n      <td>0.000481</td>\n      <td>0.000961</td>\n      <td>0.776550</td>\n      <td>0.015377</td>\n      <td>0.04421</td>\n      <td>0.013455</td>\n      <td>0.019702</td>\n      <td>0.127823</td>\n    </tr>\n    <tr>\n      <th>std</th>\n      <td>550.668881</td>\n      <td>0.617726</td>\n      <td>0.334508</td>\n      <td>0.124955</td>\n      <td>0.217948</td>\n      <td>0.135641</td>\n      <td>0.203465</td>\n      <td>0.021921</td>\n      <td>0.030994</td>\n      <td>0.416658</td>\n      <td>0.123077</td>\n      <td>0.20561</td>\n      <td>0.115241</td>\n      <td>0.139008</td>\n      <td>0.333973</td>\n    </tr>\n    <tr>\n      <th>min</th>\n      <td>1801.000000</td>\n      <td>17.000000</td>\n      <td>0.000000</td>\n      <td>0.000000</td>\n      <td>0.000000</td>\n      <td>0.000000</td>\n      <td>0.000000</td>\n      <td>0.000000</td>\n      <td>0.000000</td>\n      <td>0.000000</td>\n      <td>0.000000</td>\n      <td>0.00000</td>\n      <td>0.000000</td>\n      <td>0.000000</td>\n      <td>0.000000</td>\n    </tr>\n    <tr>\n      <th>25%</th>\n      <td>2013.000000</td>\n      <td>17.000000</td>\n      <td>1.000000</td>\n      <td>0.000000</td>\n      <td>0.000000</td>\n      <td>0.000000</td>\n      <td>0.000000</td>\n      <td>0.000000</td>\n      <td>0.000000</td>\n      <td>1.000000</td>\n      <td>0.000000</td>\n      <td>0.00000</td>\n      <td>0.000000</td>\n      <td>0.000000</td>\n      <td>0.000000</td>\n    </tr>\n    <tr>\n      <th>50%</th>\n      <td>2285.000000</td>\n      <td>18.000000</td>\n      <td>1.000000</td>\n      <td>0.000000</td>\n      <td>0.000000</td>\n      <td>0.000000</td>\n      <td>0.000000</td>\n      <td>0.000000</td>\n      <td>0.000000</td>\n      <td>1.000000</td>\n      <td>0.000000</td>\n      <td>0.00000</td>\n      <td>0.000000</td>\n      <td>0.000000</td>\n      <td>0.000000</td>\n    </tr>\n    <tr>\n      <th>75%</th>\n      <td>2676.000000</td>\n      <td>18.000000</td>\n      <td>1.000000</td>\n      <td>0.000000</td>\n      <td>0.000000</td>\n      <td>0.000000</td>\n      <td>0.000000</td>\n      <td>0.000000</td>\n      <td>0.000000</td>\n      <td>1.000000</td>\n      <td>0.000000</td>\n      <td>0.00000</td>\n      <td>0.000000</td>\n      <td>0.000000</td>\n      <td>0.000000</td>\n    </tr>\n    <tr>\n      <th>max</th>\n      <td>7160.000000</td>\n      <td>19.000000</td>\n      <td>1.000000</td>\n      <td>1.000000</td>\n      <td>1.000000</td>\n      <td>1.000000</td>\n      <td>1.000000</td>\n      <td>1.000000</td>\n      <td>1.000000</td>\n      <td>1.000000</td>\n      <td>1.000000</td>\n      <td>1.00000</td>\n      <td>1.000000</td>\n      <td>1.000000</td>\n      <td>1.000000</td>\n    </tr>\n  </tbody>\n</table>\n</div>"
     },
     "execution_count": 37,
     "metadata": {},
     "output_type": "execute_result"
    }
   ],
   "source": [
    "p4_dummy_train_rides = pd.get_dummies(p4_eta_edd_h3_hour_train, prefix={'source_h3_4': 'source_h3_4',\n",
    "                                                             'dest_h3_4': 'dest_h3_4'},\n",
    "                                   drop_first=True)\n",
    "p4_dummy_train_rides.describe()"
   ],
   "metadata": {
    "collapsed": false,
    "pycharm": {
     "name": "#%%\n"
    }
   }
  },
  {
   "cell_type": "code",
   "execution_count": 38,
   "outputs": [
    {
     "name": "stderr",
     "output_type": "stream",
     "text": [
      "/var/folders/yq/707ysz_j3jlggmtk5clx13rm0000gn/T/ipykernel_1251/2658656946.py:7: UserWarning: Boolean Series key will be reindexed to match DataFrame index.\n",
      "  p4_eta_edd_h3_hour_train = p4_eta_edd_h3_hour_train[p4_dummy_train_rides[col] == 0]\n"
     ]
    },
    {
     "data": {
      "text/plain": "               eta         hour\ncount  2078.000000  2078.000000\nmean   2417.022618    17.640520\nstd     536.194724     0.617693\nmin    1801.000000    17.000000\n25%    2013.000000    17.000000\n50%    2284.500000    18.000000\n75%    2674.500000    18.000000\nmax    4996.000000    19.000000",
      "text/html": "<div>\n<style scoped>\n    .dataframe tbody tr th:only-of-type {\n        vertical-align: middle;\n    }\n\n    .dataframe tbody tr th {\n        vertical-align: top;\n    }\n\n    .dataframe thead th {\n        text-align: right;\n    }\n</style>\n<table border=\"1\" class=\"dataframe\">\n  <thead>\n    <tr style=\"text-align: right;\">\n      <th></th>\n      <th>eta</th>\n      <th>hour</th>\n    </tr>\n  </thead>\n  <tbody>\n    <tr>\n      <th>count</th>\n      <td>2078.000000</td>\n      <td>2078.000000</td>\n    </tr>\n    <tr>\n      <th>mean</th>\n      <td>2417.022618</td>\n      <td>17.640520</td>\n    </tr>\n    <tr>\n      <th>std</th>\n      <td>536.194724</td>\n      <td>0.617693</td>\n    </tr>\n    <tr>\n      <th>min</th>\n      <td>1801.000000</td>\n      <td>17.000000</td>\n    </tr>\n    <tr>\n      <th>25%</th>\n      <td>2013.000000</td>\n      <td>17.000000</td>\n    </tr>\n    <tr>\n      <th>50%</th>\n      <td>2284.500000</td>\n      <td>18.000000</td>\n    </tr>\n    <tr>\n      <th>75%</th>\n      <td>2674.500000</td>\n      <td>18.000000</td>\n    </tr>\n    <tr>\n      <th>max</th>\n      <td>4996.000000</td>\n      <td>19.000000</td>\n    </tr>\n  </tbody>\n</table>\n</div>"
     },
     "execution_count": 38,
     "metadata": {},
     "output_type": "execute_result"
    }
   ],
   "source": [
    "p4_geo_noise = np.count_nonzero(p4_dummy_train_rides, axis=0) < 10\n",
    "\n",
    "p4_cols = p4_dummy_train_rides.columns\n",
    "for col, noise in zip(p4_cols, p4_geo_noise):\n",
    "    if noise:\n",
    "        # DOESN'T REINDEX\n",
    "        p4_eta_edd_h3_hour_train = p4_eta_edd_h3_hour_train[p4_dummy_train_rides[col] == 0]\n",
    "        p4_ata_train = p4_ata_train[p4_dummy_train_rides[col] == 0]\n",
    "\n",
    "p4_eta_edd_h3_hour_train.describe()"
   ],
   "metadata": {
    "collapsed": false,
    "pycharm": {
     "name": "#%%\n"
    }
   }
  },
  {
   "cell_type": "code",
   "execution_count": 39,
   "outputs": [
    {
     "name": "stdout",
     "output_type": "stream",
     "text": [
      "[2081 2081 1814   33  104   39   90    1    2 1616   32   92   28   41\n",
      "  266]\n",
      "Index(['eta', 'hour', 'source_h3_4_842cf31ffffffff',\n",
      "       'source_h3_4_842cf33ffffffff', 'source_h3_4_842cf35ffffffff',\n",
      "       'source_h3_4_842cf37ffffffff', 'source_h3_4_842cf3dffffffff',\n",
      "       'dest_h3_4_842cd5bffffffff', 'dest_h3_4_842cf07ffffffff',\n",
      "       'dest_h3_4_842cf31ffffffff', 'dest_h3_4_842cf33ffffffff',\n",
      "       'dest_h3_4_842cf35ffffffff', 'dest_h3_4_842cf37ffffffff',\n",
      "       'dest_h3_4_842cf39ffffffff', 'dest_h3_4_842cf3dffffffff'],\n",
      "      dtype='object')\n"
     ]
    }
   ],
   "source": [
    "print(np.count_nonzero(p4_dummy_train_rides, axis=0))\n",
    "print(p4_dummy_train_rides.columns)"
   ],
   "metadata": {
    "collapsed": false,
    "pycharm": {
     "name": "#%%\n"
    }
   }
  },
  {
   "cell_type": "code",
   "execution_count": 40,
   "outputs": [],
   "source": [
    "p4_ohe = ColumnTransformer(\n",
    "    [('OHE', OneHotEncoder(handle_unknown='ignore', sparse=False), ['source_h3_4', 'dest_h3_4'])],\n",
    "    remainder='passthrough'\n",
    ").fit(p4_eta_edd_h3_hour_train)"
   ],
   "metadata": {
    "collapsed": false,
    "pycharm": {
     "name": "#%%\n"
    }
   }
  },
  {
   "cell_type": "code",
   "execution_count": 41,
   "outputs": [],
   "source": [
    "p4_eta_edd_h3_hour_train_transformed = p4_ohe.transform(p4_eta_edd_h3_hour_train)\n",
    "p4_eta_edd_h3_hour_test_transformed = p4_ohe.transform(p4_eta_edd_h3_hour_test)"
   ],
   "metadata": {
    "collapsed": false,
    "pycharm": {
     "name": "#%%\n"
    }
   }
  },
  {
   "cell_type": "code",
   "execution_count": 42,
   "outputs": [
    {
     "name": "stdout",
     "output_type": "stream",
     "text": [
      "[ 193.80608842  307.55735963  -36.15459385 -145.63361408 -258.54478093\n",
      "  -61.03045919 -373.19895841  381.34337198 -353.98614156   16.14755201\n",
      "  234.42520003  141.34158402  -46.07260806    1.38587456 -462.20694103]\n",
      "7416.846760447172\n"
     ]
    }
   ],
   "source": [
    "p4_reg = LinearRegression().fit(p4_eta_edd_h3_hour_train_transformed, p4_ata_train)\n",
    "print(p4_reg.coef_)\n",
    "print(p4_reg.intercept_)"
   ],
   "metadata": {
    "collapsed": false,
    "pycharm": {
     "name": "#%%\n"
    }
   }
  },
  {
   "cell_type": "code",
   "execution_count": 43,
   "outputs": [],
   "source": [
    "p4_ata_train_pred = p4_reg.predict(p4_eta_edd_h3_hour_train_transformed)\n",
    "p4_ata_test_pred = p4_reg.predict(p4_eta_edd_h3_hour_test_transformed)"
   ],
   "metadata": {
    "collapsed": false,
    "pycharm": {
     "name": "#%%\n"
    }
   }
  },
  {
   "cell_type": "code",
   "execution_count": 44,
   "outputs": [
    {
     "data": {
      "text/plain": "array([[0.000e+00, 1.000e+00, 0.000e+00, ..., 0.000e+00, 2.251e+03,\n        1.900e+01],\n       [0.000e+00, 1.000e+00, 0.000e+00, ..., 0.000e+00, 2.359e+03,\n        1.700e+01],\n       [0.000e+00, 1.000e+00, 0.000e+00, ..., 0.000e+00, 1.802e+03,\n        1.800e+01],\n       ...,\n       [0.000e+00, 1.000e+00, 0.000e+00, ..., 0.000e+00, 1.883e+03,\n        1.700e+01],\n       [0.000e+00, 0.000e+00, 0.000e+00, ..., 0.000e+00, 1.925e+03,\n        1.700e+01],\n       [0.000e+00, 1.000e+00, 0.000e+00, ..., 0.000e+00, 2.053e+03,\n        1.800e+01]])"
     },
     "execution_count": 44,
     "metadata": {},
     "output_type": "execute_result"
    }
   ],
   "source": [
    "p4_eta_edd_h3_hour_train_transformed"
   ],
   "metadata": {
    "collapsed": false,
    "pycharm": {
     "name": "#%%\n"
    }
   }
  },
  {
   "cell_type": "code",
   "execution_count": 45,
   "outputs": [
    {
     "name": "stdout",
     "output_type": "stream",
     "text": [
      "ETA train MAE 798.3893166506256\n",
      "prediction train MAE 471.54426573862924\n",
      "ETA test MAE  742.1545454545454\n",
      "prediction test MAE 468.09675937043033\n",
      "ETA train MSE 1111203.771414822\n",
      "prediction train MSE 411897.3359578221\n",
      "ETA test MSE  916444.5181818182\n",
      "prediction test MSE 340487.3503994411\n",
      "ETA train explained_variance_score 0.45018431996690533\n",
      "prediction train explained_variance_score 0.5981240278391844\n",
      "ETA test explained_variance_score  0.5547478416786853\n",
      "prediction test explained_variance_score 0.6667504536558913\n",
      "ETA train median_absolute_error 642.5\n",
      "prediction train median_absolute_error 370.7770537836168\n",
      "ETA test median_absolute_error  529.0\n",
      "prediction test median_absolute_error 401.7086228807973\n",
      "ETA train r2_score -0.08416844908126375\n",
      "prediction train r2_score 0.5981240278391844\n",
      "ETA test r2_score  0.09827939359543225\n",
      "prediction test r2_score 0.6649830360877815\n",
      "ETA train MAPE 0.22912438141911642\n",
      "prediction train MAPE 0.1599664856093615\n",
      "ETA test MAPE  0.2150539993104505\n",
      "prediction test MAPE 0.1624908308427688\n"
     ]
    }
   ],
   "source": [
    "print(\"ETA train MAE\", mean_absolute_error(p4_ata_train, p4_eta_edd_h3_hour_train_transformed[:, 13]))\n",
    "print(\"prediction train MAE\", mean_absolute_error(p4_ata_train, p4_ata_train_pred))\n",
    "\n",
    "print(\"ETA test MAE \", mean_absolute_error(p4_ata_test, p4_eta_edd_h3_hour_test_transformed[:, 13]))\n",
    "print(\"prediction test MAE\", mean_absolute_error(p4_ata_test, p4_ata_test_pred))\n",
    "\n",
    "print(\"ETA train MSE\", mean_squared_error(p4_ata_train, p4_eta_edd_h3_hour_train_transformed[:, 13]))\n",
    "print(\"prediction train MSE\", mean_squared_error(p4_ata_train, p4_ata_train_pred))\n",
    "\n",
    "print(\"ETA test MSE \", mean_squared_error(p4_ata_test, p4_eta_edd_h3_hour_test_transformed[:, 13]))\n",
    "print(\"prediction test MSE\", mean_squared_error(p4_ata_test, p4_ata_test_pred))\n",
    "\n",
    "print(\"ETA train explained_variance_score\", explained_variance_score(p4_ata_train, p4_eta_edd_h3_hour_train_transformed[:, 13]))\n",
    "print(\"prediction train explained_variance_score\", explained_variance_score(p4_ata_train, p4_ata_train_pred))\n",
    "\n",
    "print(\"ETA test explained_variance_score \", explained_variance_score(p4_ata_test, p4_eta_edd_h3_hour_test_transformed[:, 13]))\n",
    "print(\"prediction test explained_variance_score\", explained_variance_score(p4_ata_test, p4_ata_test_pred))\n",
    "\n",
    "print(\"ETA train median_absolute_error\", median_absolute_error(p4_ata_train, p4_eta_edd_h3_hour_train_transformed[:, 13]))\n",
    "print(\"prediction train median_absolute_error\", median_absolute_error(p4_ata_train, p4_ata_train_pred))\n",
    "\n",
    "print(\"ETA test median_absolute_error \", median_absolute_error(p4_ata_test, p4_eta_edd_h3_hour_test_transformed[:, 13]))\n",
    "print(\"prediction test median_absolute_error\", median_absolute_error(p4_ata_test, p4_ata_test_pred))\n",
    "\n",
    "print(\"ETA train r2_score\", r2_score(p4_ata_train, p4_eta_edd_h3_hour_train_transformed[:, 13]))\n",
    "print(\"prediction train r2_score\", r2_score(p4_ata_train, p4_ata_train_pred))\n",
    "\n",
    "print(\"ETA test r2_score \", r2_score(p4_ata_test, p4_eta_edd_h3_hour_test_transformed[:, 13]))\n",
    "print(\"prediction test r2_score\", r2_score(p4_ata_test, p4_ata_test_pred))\n",
    "\n",
    "print(\"ETA train MAPE\", mean_absolute_percentage_error(p4_ata_train, p4_eta_edd_h3_hour_train_transformed[:, 13]))\n",
    "print(\"prediction train MAPE\", mean_absolute_percentage_error(p4_ata_train, p4_ata_train_pred))\n",
    "\n",
    "print(\"ETA test MAPE \", mean_absolute_percentage_error(p4_ata_test, p4_eta_edd_h3_hour_test_transformed[:, 13]))\n",
    "print(\"prediction test MAPE\", mean_absolute_percentage_error(p4_ata_test, p4_ata_test_pred))"
   ],
   "metadata": {
    "collapsed": false,
    "pycharm": {
     "name": "#%%\n"
    }
   }
  },
  {
   "cell_type": "code",
   "execution_count": 1,
   "outputs": [
    {
     "name": "stdout",
     "output_type": "stream",
     "text": [
      "3341521,2022-09-07 19:10:22,17723801,35.68817138671875,51.24274444580078,35.68852996826172,51.254329681396484,216,smapp-same-dc,264,4917107579,1\r\n",
      "3955313,2022-09-07 17:07:23,11915471,35.45042037963867,50.983333587646484,35.47297668457031,51.068180084228516,690,smapp-same-dc,606,4916198765,1\r\n",
      "182694,2022-09-07 19:29:16,1488366,35.6683235168457,51.45828628540039,35.682491302490234,51.45000457763672,539,smapp-same-dc,661,4917246696,1\r\n",
      "2895740,2022-09-07 17:53:19,28913733,35.806636810302734,51.39913558959961,35.654701232910156,51.45022201538086,3446,smapp-same-dc,5007,4916535274,1\r\n",
      "770043,2022-09-07 18:28:36,129207,35.788333892822266,51.37567901611328,35.704463958740234,51.386268615722656,1948,smapp-same-dc,1942,4916803953,1\r\n",
      "843595,2022-09-07 19:01:13,466911,35.76164627075195,51.39791488647461,35.7697639465332,51.39655685424805,169,smapp-same-dc,141,4917041067,1\r\n",
      "4141159,2022-09-07 19:27:29,41101665,35.306297302246094,51.728370666503906,35.304649353027344,51.735328674316406,128,smapp-same-dc,291,4917232693,1\r\n",
      "1349767,2022-09-07 19:47:23,45219547,35.59779739379883,51.44034194946289,35.60765075683594,51.429901123046875,614,smapp-same-dc,454,4917383003,1\r\n",
      "4015343,2022-09-07 18:00:32,48887042,35.48114013671875,51.052207946777344,35.477935791015625,51.080631256103516,509,smapp-same-dc,1292,4916588360,1\r\n",
      "1037502,2022-09-07 17:13:40,31646452,35.59839630126953,51.42599868774414,35.598487854003906,51.44093704223633,382,smapp-same-dc,478,4916244769,1\r\n"
     ]
    }
   ],
   "source": [
    "!head ../big_query_24_07.csv"
   ],
   "metadata": {
    "collapsed": false,
    "pycharm": {
     "name": "#%%\n"
    }
   }
  },
  {
   "cell_type": "code",
   "execution_count": null,
   "outputs": [],
   "source": [],
   "metadata": {
    "collapsed": false,
    "pycharm": {
     "name": "#%%\n"
    }
   }
  }
 ],
 "metadata": {
  "kernelspec": {
   "display_name": "Python 3",
   "language": "python",
   "name": "python3"
  },
  "language_info": {
   "codemirror_mode": {
    "name": "ipython",
    "version": 2
   },
   "file_extension": ".py",
   "mimetype": "text/x-python",
   "name": "python",
   "nbconvert_exporter": "python",
   "pygments_lexer": "ipython2",
   "version": "2.7.6"
  }
 },
 "nbformat": 4,
 "nbformat_minor": 0
}