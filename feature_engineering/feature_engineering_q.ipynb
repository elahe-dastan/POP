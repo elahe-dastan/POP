{
 "cells": [
  {
   "cell_type": "code",
   "execution_count": 1,
   "metadata": {
    "collapsed": true,
    "pycharm": {
     "name": "#%%\n"
    }
   },
   "outputs": [],
   "source": [
    "import pandas as pd\n",
    "import numpy as np\n",
    "from sklearn.linear_model import LinearRegression\n",
    "from sklearn.metrics import mean_absolute_error, mean_squared_error, explained_variance_score, median_absolute_error, r2_score, mean_absolute_percentage_error\n",
    "from sklearn.model_selection import train_test_split\n",
    "from scipy.stats import *\n",
    "import h3\n",
    "from sklearn.preprocessing import OneHotEncoder\n",
    "from sklearn.compose import ColumnTransformer\n",
    "from datetime import datetime\n",
    "from math import floor\n",
    "import matplotlib.pyplot as plt\n",
    "import mlflow\n",
    "import mlflow.sklearn"
   ]
  },
  {
   "cell_type": "code",
   "execution_count": 2,
   "outputs": [],
   "source": [
    "ride_columns = ['accepted_driver_id', 'created_at', 'passenger_id', 'source_lat',\n",
    "       'source_lng', 'destination_lat', 'destination_lng', 'eta', 'provider',\n",
    "       'ata', 'id', 'city']\n",
    "\n",
    "khatkesh_columns = ['ride_id','driver_id','a_t_a_result.arrival_a_t_a','a_t_a_result.boarding_a_t_a','a_t_a_result.ride_a_t_a','a_t_a_result.arrival_probe_result.probe.point.lat','a_t_a_result.arrival_probe_result.probe.point.lon','a_t_a_result.arrival_probe_result.probe.timestamp','a_t_a_result.arrival_probe_result.confidence','a_t_a_result.arrival_probe_result.h3_index', 'a_t_a_result.arrival_probe_result.k_ring_level','a_t_a_result.boarding_probe_result.probe.point.lat','a_t_a_result.boarding_probe_result.probe.point.lon','a_t_a_result.boarding_probe_result.probe.timestamp','a_t_a_result.boarding_probe_result.confidence','a_t_a_result.boarding_probe_result.h3_index','a_t_a_result.boarding_probe_result.k_ring_level','a_t_a_result.final_destination_probe_result.probe.point.lat','a_t_a_result.final_destination_probe_result.probe.point.lon','a_t_a_result.final_destination_probe_result.probe.timestamp','a_t_a_result.final_destination_probe_result.confidence','a_t_a_result.final_destination_probe_result.h3_index','a_t_a_result.final_destination_probe_result.k_ring_level','a_t_a_result.destination_probe_result.probe.point.lat','a_t_a_result.destination_probe_result.probe.point.lon','a_t_a_result.destination_probe_result.probe.timestamp','a_t_a_result.destination_probe_result.confidence','a_t_a_result.destination_probe_result.h3_index','a_t_a_result.destination_probe_result.k_ring_level','a_t_a_result.extra_destination_probe_result.probe.point.lat','a_t_a_result.extra_destination_probe_result.probe.point.lon','a_t_a_result.extra_destination_probe_result.probe.timestamp','a_t_a_result.extra_destination_probe_result.confidence','a_t_a_result.extra_destination_probe_result.h3_index','a_t_a_result.extra_destination_probe_result.k_ring_level','pickup_a_d_d_result.distance','pickup_a_d_d_result.confidence','pickup_a_d_d_result.route_ratio','pickup_a_d_d_result.g_p_s_ratio','ride_a_d_d_result.distance','ride_a_d_d_result.confidence','ride_a_d_d_result.route_ratio','ride_a_d_d_result.g_p_s_ratio','total_a_d_d_confidence','in_ride_allotment','e_d_d','clickhouse_time','hash']\n",
    "\n",
    "train_dates = ['2022-08-02', '2022-08-03', '2022-08-04', '2022-08-05', '2022-08-06', '2022-08-07', '2022-08-08',\n",
    "               '2022-08-09', '2022-08-10', '2022-08-11', '2022-08-12', '2022-08-13', '2022-08-14', '2022-08-15',\n",
    "               '2022-08-16', '2022-08-17', '2022-08-18', '2022-08-19', '2022-08-20', '2022-08-21', '2022-08-22',\n",
    "               '2022-08-23', '2022-08-24', '2022-08-25', '2022-08-26', '2022-08-27', '2022-08-28', '2022-08-29',\n",
    "               '2022-08-30', '2022-08-31', '2022-09-01', '2022-09-02', '2022-09-03', '2022-09-04', '2022-09-05',\n",
    "               '2022-09-06', '2022-09-07', '2022-09-08', '2022-09-09', '2022-09-10']\n",
    "\n",
    "train_holidays = ['2022-08-07', '2022-08-08']\n",
    "\n",
    "test_dates = ['2022-09-11', '2022-09-12', '2022-09-13', '2022-09-14', '2022-09-15', '2022-09-16', '2022-09-17',\n",
    "              '2022-09-18', '2022-09-19', '2022-09-20', '2022-09-21', '2022-09-22', '2022-09-23', '2022-09-24',\n",
    "              '2022-09-25', '2022-09-26', '2022-09-27', '2022-09-28', '2022-09-29', '2022-09-30', '2022-10-01',\n",
    "              '2022-10-02', '2022-10-03', '2022-10-04', '2022-10-05', '2022-10-06', '2022-10-07', '2022-10-08',\n",
    "              '2022-10-09']\n",
    "\n",
    "test_holidays = ['2022-09-17', '2022-09-25', '2022-09-27', '2022-10-05']"
   ],
   "metadata": {
    "collapsed": false,
    "pycharm": {
     "name": "#%%\n"
    }
   }
  },
  {
   "cell_type": "code",
   "execution_count": 3,
   "outputs": [
    {
     "name": "stdout",
     "output_type": "stream",
     "text": [
      "<class 'pandas.core.frame.DataFrame'>\n",
      "RangeIndex: 4063341 entries, 0 to 4063340\n",
      "Data columns (total 59 columns):\n",
      " #   Column                                                       Dtype  \n",
      "---  ------                                                       -----  \n",
      " 0   accepted_driver_id                                           int64  \n",
      " 1   created_at                                                   object \n",
      " 2   passenger_id                                                 int64  \n",
      " 3   source_lat                                                   float64\n",
      " 4   source_lng                                                   float64\n",
      " 5   destination_lat                                              float64\n",
      " 6   destination_lng                                              float64\n",
      " 7   eta                                                          int64  \n",
      " 8   provider                                                     object \n",
      " 9   ata                                                          int64  \n",
      " 10  ride_id                                                      int64  \n",
      " 11  city                                                         int64  \n",
      " 12  driver_id                                                    int64  \n",
      " 13  a_t_a_result.arrival_a_t_a                                   int64  \n",
      " 14  a_t_a_result.boarding_a_t_a                                  float64\n",
      " 15  a_t_a_result.ride_a_t_a                                      int64  \n",
      " 16  a_t_a_result.arrival_probe_result.probe.point.lat            float64\n",
      " 17  a_t_a_result.arrival_probe_result.probe.point.lon            float64\n",
      " 18  a_t_a_result.arrival_probe_result.probe.timestamp            float64\n",
      " 19  a_t_a_result.arrival_probe_result.confidence                 float64\n",
      " 20  a_t_a_result.arrival_probe_result.h3_index                   object \n",
      " 21  a_t_a_result.arrival_probe_result.k_ring_level               int64  \n",
      " 22  a_t_a_result.boarding_probe_result.probe.point.lat           float64\n",
      " 23  a_t_a_result.boarding_probe_result.probe.point.lon           float64\n",
      " 24  a_t_a_result.boarding_probe_result.probe.timestamp           float64\n",
      " 25  a_t_a_result.boarding_probe_result.confidence                float64\n",
      " 26  a_t_a_result.boarding_probe_result.h3_index                  object \n",
      " 27  a_t_a_result.boarding_probe_result.k_ring_level              int64  \n",
      " 28  a_t_a_result.final_destination_probe_result.probe.point.lat  float64\n",
      " 29  a_t_a_result.final_destination_probe_result.probe.point.lon  float64\n",
      " 30  a_t_a_result.final_destination_probe_result.probe.timestamp  int64  \n",
      " 31  a_t_a_result.final_destination_probe_result.confidence       float64\n",
      " 32  a_t_a_result.final_destination_probe_result.h3_index         object \n",
      " 33  a_t_a_result.final_destination_probe_result.k_ring_level     int64  \n",
      " 34  a_t_a_result.destination_probe_result.probe.point.lat        float64\n",
      " 35  a_t_a_result.destination_probe_result.probe.point.lon        float64\n",
      " 36  a_t_a_result.destination_probe_result.probe.timestamp        float64\n",
      " 37  a_t_a_result.destination_probe_result.confidence             float64\n",
      " 38  a_t_a_result.destination_probe_result.h3_index               object \n",
      " 39  a_t_a_result.destination_probe_result.k_ring_level           int64  \n",
      " 40  a_t_a_result.extra_destination_probe_result.probe.point.lat  float64\n",
      " 41  a_t_a_result.extra_destination_probe_result.probe.point.lon  float64\n",
      " 42  a_t_a_result.extra_destination_probe_result.probe.timestamp  float64\n",
      " 43  a_t_a_result.extra_destination_probe_result.confidence       float64\n",
      " 44  a_t_a_result.extra_destination_probe_result.h3_index         float64\n",
      " 45  a_t_a_result.extra_destination_probe_result.k_ring_level     int64  \n",
      " 46  pickup_a_d_d_result.distance                                 float64\n",
      " 47  pickup_a_d_d_result.confidence                               float64\n",
      " 48  pickup_a_d_d_result.route_ratio                              float64\n",
      " 49  pickup_a_d_d_result.g_p_s_ratio                              float64\n",
      " 50  ride_a_d_d_result.distance                                   float64\n",
      " 51  ride_a_d_d_result.confidence                                 float64\n",
      " 52  ride_a_d_d_result.route_ratio                                float64\n",
      " 53  ride_a_d_d_result.g_p_s_ratio                                float64\n",
      " 54  total_a_d_d_confidence                                       float64\n",
      " 55  in_ride_allotment                                            float64\n",
      " 56  e_d_d                                                        float64\n",
      " 57  clickhouse_time                                              object \n",
      " 58  hash                                                         uint64 \n",
      "dtypes: float64(36), int64(15), object(7), uint64(1)\n",
      "memory usage: 1.8+ GB\n"
     ]
    }
   ],
   "source": [
    "rides_train = pd.read_csv('../rides_train.csv')\n",
    "rides_train.info()"
   ],
   "metadata": {
    "collapsed": false,
    "pycharm": {
     "name": "#%%\n"
    }
   }
  },
  {
   "cell_type": "code",
   "execution_count": 4,
   "outputs": [
    {
     "name": "stdout",
     "output_type": "stream",
     "text": [
      "<class 'pandas.core.frame.DataFrame'>\n",
      "RangeIndex: 2729988 entries, 0 to 2729987\n",
      "Data columns (total 59 columns):\n",
      " #   Column                                                       Dtype  \n",
      "---  ------                                                       -----  \n",
      " 0   accepted_driver_id                                           int64  \n",
      " 1   created_at                                                   object \n",
      " 2   passenger_id                                                 int64  \n",
      " 3   source_lat                                                   float64\n",
      " 4   source_lng                                                   float64\n",
      " 5   destination_lat                                              float64\n",
      " 6   destination_lng                                              float64\n",
      " 7   eta                                                          int64  \n",
      " 8   provider                                                     object \n",
      " 9   ata                                                          int64  \n",
      " 10  ride_id                                                      int64  \n",
      " 11  city                                                         int64  \n",
      " 12  driver_id                                                    int64  \n",
      " 13  a_t_a_result.arrival_a_t_a                                   int64  \n",
      " 14  a_t_a_result.boarding_a_t_a                                  float64\n",
      " 15  a_t_a_result.ride_a_t_a                                      int64  \n",
      " 16  a_t_a_result.arrival_probe_result.probe.point.lat            float64\n",
      " 17  a_t_a_result.arrival_probe_result.probe.point.lon            float64\n",
      " 18  a_t_a_result.arrival_probe_result.probe.timestamp            float64\n",
      " 19  a_t_a_result.arrival_probe_result.confidence                 float64\n",
      " 20  a_t_a_result.arrival_probe_result.h3_index                   object \n",
      " 21  a_t_a_result.arrival_probe_result.k_ring_level               int64  \n",
      " 22  a_t_a_result.boarding_probe_result.probe.point.lat           float64\n",
      " 23  a_t_a_result.boarding_probe_result.probe.point.lon           float64\n",
      " 24  a_t_a_result.boarding_probe_result.probe.timestamp           float64\n",
      " 25  a_t_a_result.boarding_probe_result.confidence                float64\n",
      " 26  a_t_a_result.boarding_probe_result.h3_index                  object \n",
      " 27  a_t_a_result.boarding_probe_result.k_ring_level              int64  \n",
      " 28  a_t_a_result.final_destination_probe_result.probe.point.lat  float64\n",
      " 29  a_t_a_result.final_destination_probe_result.probe.point.lon  float64\n",
      " 30  a_t_a_result.final_destination_probe_result.probe.timestamp  int64  \n",
      " 31  a_t_a_result.final_destination_probe_result.confidence       float64\n",
      " 32  a_t_a_result.final_destination_probe_result.h3_index         object \n",
      " 33  a_t_a_result.final_destination_probe_result.k_ring_level     int64  \n",
      " 34  a_t_a_result.destination_probe_result.probe.point.lat        float64\n",
      " 35  a_t_a_result.destination_probe_result.probe.point.lon        float64\n",
      " 36  a_t_a_result.destination_probe_result.probe.timestamp        float64\n",
      " 37  a_t_a_result.destination_probe_result.confidence             float64\n",
      " 38  a_t_a_result.destination_probe_result.h3_index               object \n",
      " 39  a_t_a_result.destination_probe_result.k_ring_level           int64  \n",
      " 40  a_t_a_result.extra_destination_probe_result.probe.point.lat  float64\n",
      " 41  a_t_a_result.extra_destination_probe_result.probe.point.lon  float64\n",
      " 42  a_t_a_result.extra_destination_probe_result.probe.timestamp  float64\n",
      " 43  a_t_a_result.extra_destination_probe_result.confidence       float64\n",
      " 44  a_t_a_result.extra_destination_probe_result.h3_index         float64\n",
      " 45  a_t_a_result.extra_destination_probe_result.k_ring_level     int64  \n",
      " 46  pickup_a_d_d_result.distance                                 float64\n",
      " 47  pickup_a_d_d_result.confidence                               float64\n",
      " 48  pickup_a_d_d_result.route_ratio                              float64\n",
      " 49  pickup_a_d_d_result.g_p_s_ratio                              float64\n",
      " 50  ride_a_d_d_result.distance                                   float64\n",
      " 51  ride_a_d_d_result.confidence                                 float64\n",
      " 52  ride_a_d_d_result.route_ratio                                float64\n",
      " 53  ride_a_d_d_result.g_p_s_ratio                                float64\n",
      " 54  total_a_d_d_confidence                                       float64\n",
      " 55  in_ride_allotment                                            float64\n",
      " 56  e_d_d                                                        float64\n",
      " 57  clickhouse_time                                              object \n",
      " 58  hash                                                         uint64 \n",
      "dtypes: float64(36), int64(15), object(7), uint64(1)\n",
      "memory usage: 1.2+ GB\n"
     ]
    }
   ],
   "source": [
    "rides_test = pd.read_csv('../rides_test.csv')\n",
    "rides_test.info()"
   ],
   "metadata": {
    "collapsed": false,
    "pycharm": {
     "name": "#%%\n"
    }
   }
  },
  {
   "cell_type": "code",
   "execution_count": null,
   "outputs": [],
   "source": [
    "rides_train_p1 = rides_train[rides_train['eta'] < 600]\n",
    "rides_train_p1"
   ],
   "metadata": {
    "collapsed": false,
    "pycharm": {
     "name": "#%%\n",
     "is_executing": true
    }
   }
  },
  {
   "cell_type": "code",
   "execution_count": null,
   "outputs": [],
   "source": [
    "rides_test_p1 = rides_test[(rides_test['eta'] < 600)]\n",
    "rides_test_p1"
   ],
   "metadata": {
    "collapsed": false,
    "pycharm": {
     "name": "#%%\n",
     "is_executing": true
    }
   }
  },
  {
   "cell_type": "markdown",
   "source": [
    "There are some duplicates in the data"
   ],
   "metadata": {
    "collapsed": false,
    "pycharm": {
     "name": "#%% md\n"
    }
   }
  },
  {
   "cell_type": "code",
   "execution_count": null,
   "outputs": [],
   "source": [
    "rides_train_p1 = rides_train_p1.drop_duplicates(subset=['ride_id', 'ata'])\n",
    "len(rides_train_p1)"
   ],
   "metadata": {
    "collapsed": false,
    "pycharm": {
     "name": "#%%\n",
     "is_executing": true
    }
   }
  },
  {
   "cell_type": "code",
   "execution_count": null,
   "outputs": [],
   "source": [
    "rides_test_p1 = rides_test_p1.drop_duplicates(subset=['ride_id', 'ata'])\n",
    "len(rides_test_p1)"
   ],
   "metadata": {
    "collapsed": false,
    "pycharm": {
     "name": "#%%\n",
     "is_executing": true
    }
   }
  },
  {
   "cell_type": "code",
   "execution_count": null,
   "outputs": [],
   "source": [
    "rides_train_p1 = rides_train_p1[(rides_train_p1['a_t_a_result.ride_a_t_a'] < 10800)]\n",
    "rides_train_p1.describe()"
   ],
   "metadata": {
    "collapsed": false,
    "pycharm": {
     "name": "#%%\n",
     "is_executing": true
    }
   }
  },
  {
   "cell_type": "code",
   "execution_count": null,
   "outputs": [],
   "source": [
    "rides_train_p1 = rides_train_p1[(rides_train_p1['a_t_a_result.destination_probe_result.confidence'] > 0) & (rides_train_p1['a_t_a_result.boarding_probe_result.confidence'] > 0)]\n",
    "rides_train_p1.describe()"
   ],
   "metadata": {
    "collapsed": false,
    "pycharm": {
     "name": "#%%\n",
     "is_executing": true
    }
   }
  },
  {
   "cell_type": "code",
   "execution_count": null,
   "outputs": [],
   "source": [
    "rides_test_p1 = rides_test_p1[(rides_test_p1['a_t_a_result.destination_probe_result.confidence'] > 0) & (rides_test_p1['a_t_a_result.boarding_probe_result.confidence'] > 0)]\n",
    "rides_test_p1.describe()"
   ],
   "metadata": {
    "collapsed": false,
    "pycharm": {
     "name": "#%%\n",
     "is_executing": true
    }
   }
  },
  {
   "cell_type": "code",
   "execution_count": null,
   "outputs": [],
   "source": [
    "rides_train_p1 = rides_train_p1[['eta', 'ata', 'a_t_a_result.ride_a_t_a', 'created_at', 'source_lat', 'source_lng', 'destination_lat', 'destination_lng', 'e_d_d', 'clickhouse_time']]\n",
    "rides_train_p1"
   ],
   "metadata": {
    "collapsed": false,
    "pycharm": {
     "name": "#%%\n",
     "is_executing": true
    }
   }
  },
  {
   "cell_type": "code",
   "execution_count": null,
   "outputs": [],
   "source": [
    "rides_test_p1 = rides_test_p1[['eta', 'ata', 'a_t_a_result.ride_a_t_a', 'created_at', 'source_lat', 'source_lng', 'destination_lat', 'destination_lng', 'e_d_d', 'clickhouse_time']]\n",
    "rides_test_p1"
   ],
   "metadata": {
    "collapsed": false,
    "pycharm": {
     "name": "#%%\n",
     "is_executing": true
    }
   }
  },
  {
   "cell_type": "code",
   "execution_count": null,
   "outputs": [],
   "source": [
    "rides_train_p1['source_h3_4'] = rides_train_p1.apply(lambda row: h3.geo_to_h3(row.source_lat, row.source_lng, 4), axis=1)\n",
    "rides_train_p1['dest_h3_4'] = rides_train_p1.apply(lambda row: h3.geo_to_h3(row.destination_lat, row.destination_lng, 4), axis=1)\n",
    "rides_train_p1['hour'] = rides_train_p1.apply(lambda row: ((datetime.timestamp(datetime.strptime(row.created_at,\"%Y-%m-%d %H:%M:%S\")) - 1662147000) % 604800) / 3600, axis=1)\n",
    "rides_train_p1['holiday'] = rides_train_p1.apply(lambda row: int(row.created_at.split()[0] in train_holidays), axis=1)\n",
    "rides_train_p1"
   ],
   "metadata": {
    "collapsed": false,
    "pycharm": {
     "name": "#%%\n",
     "is_executing": true
    }
   }
  },
  {
   "cell_type": "code",
   "execution_count": null,
   "outputs": [],
   "source": [
    "rides_test_p1['source_h3_4'] = rides_test_p1.apply(lambda row: h3.geo_to_h3(row.source_lat, row.source_lng, 4), axis=1)\n",
    "rides_test_p1['dest_h3_4'] = rides_test_p1.apply(lambda row: h3.geo_to_h3(row.destination_lat, row.destination_lng, 4), axis=1)\n",
    "rides_test_p1['hour'] = rides_test_p1.apply(lambda row: ((datetime.timestamp(datetime.strptime(row.created_at,\"%Y-%m-%d %H:%M:%S\")) - 1662147000) % 604800) / 3600, axis=1)\n",
    "rides_test_p1['holiday'] = rides_test_p1.apply(lambda row: int(row.created_at.split()[0] in test_holidays), axis=1)\n",
    "rides_test_p1"
   ],
   "metadata": {
    "collapsed": false,
    "pycharm": {
     "name": "#%%\n",
     "is_executing": true
    }
   }
  },
  {
   "cell_type": "code",
   "execution_count": null,
   "outputs": [],
   "source": [
    "train_p1_geo_x = rides_train_p1[[\"eta\", \"source_lat\", \"source_lng\", \"destination_lat\", \"destination_lng\", \"hour\", \"holiday\"]]\n",
    "train_p1_h3_x = rides_train_p1[[\"eta\", \"source_h3_4\", \"dest_h3_4\", \"hour\", \"holiday\"]]\n",
    "train_p1_geo_y = rides_train_p1[\"a_t_a_result.ride_a_t_a\"]\n",
    "train_p1_h3_y = rides_train_p1[\"a_t_a_result.ride_a_t_a\"]"
   ],
   "metadata": {
    "collapsed": false,
    "pycharm": {
     "name": "#%%\n",
     "is_executing": true
    }
   }
  },
  {
   "cell_type": "code",
   "execution_count": null,
   "outputs": [],
   "source": [
    "test_p1_geo_x = rides_test_p1[[\"eta\", \"source_lat\", \"source_lng\", \"destination_lat\", \"destination_lng\", \"hour\", \"holiday\"]]\n",
    "test_p1_h3_x = rides_test_p1[[\"eta\", \"source_h3_4\", \"dest_h3_4\", \"hour\", \"holiday\"]]\n",
    "test_p1_geo_y = rides_test_p1[\"a_t_a_result.ride_a_t_a\"]\n",
    "test_p1_h3_y = rides_test_p1[\"a_t_a_result.ride_a_t_a\"]"
   ],
   "metadata": {
    "collapsed": false,
    "pycharm": {
     "name": "#%%\n",
     "is_executing": true
    }
   }
  },
  {
   "cell_type": "code",
   "execution_count": null,
   "outputs": [],
   "source": [
    "dummy_train_rides = pd.get_dummies(train_p1_h3_x, prefix={'source_h3_4':'source_h3_4',\n",
    "                                                             'dest_h3_4':'dest_h3_4'})\n",
    "dummy_train_rides.describe()"
   ],
   "metadata": {
    "collapsed": false,
    "pycharm": {
     "name": "#%%\n",
     "is_executing": true
    }
   }
  },
  {
   "cell_type": "code",
   "execution_count": null,
   "outputs": [],
   "source": [
    "print(np.count_nonzero(dummy_train_rides, axis=0))\n",
    "print(dummy_train_rides.columns)"
   ],
   "metadata": {
    "collapsed": false,
    "pycharm": {
     "name": "#%%\n",
     "is_executing": true
    }
   }
  },
  {
   "cell_type": "code",
   "execution_count": null,
   "outputs": [],
   "source": [
    "geo_noise = np.count_nonzero(dummy_train_rides, axis=0) < 100\n",
    "\n",
    "cols = dummy_train_rides.columns\n",
    "for col, noise in zip(cols, geo_noise):\n",
    "    if noise:\n",
    "        # DOESN'T REINDEX\n",
    "        # remove the rows where rides_train_p1_x is in the noisy geo (geo is 1)\n",
    "        train_p1_h3_x = train_p1_h3_x[dummy_train_rides[col] == 0]\n",
    "        train_p1_h3_y = train_p1_h3_y[dummy_train_rides[col] == 0]\n",
    "\n",
    "train_p1_h3_x.describe()"
   ],
   "metadata": {
    "collapsed": false,
    "pycharm": {
     "name": "#%%\n",
     "is_executing": true
    }
   }
  },
  {
   "cell_type": "code",
   "execution_count": null,
   "outputs": [],
   "source": [
    "ohe = ColumnTransformer(\n",
    "    [('OHE', OneHotEncoder(handle_unknown='ignore', sparse=False),['source_h3_4', 'dest_h3_4'])],\n",
    "    remainder = 'passthrough'\n",
    "    ).fit(train_p1_h3_x)"
   ],
   "metadata": {
    "collapsed": false,
    "pycharm": {
     "name": "#%%\n",
     "is_executing": true
    }
   }
  },
  {
   "cell_type": "code",
   "execution_count": null,
   "outputs": [],
   "source": [
    "ohe.get_feature_names_out()"
   ],
   "metadata": {
    "collapsed": false,
    "pycharm": {
     "name": "#%%\n",
     "is_executing": true
    }
   }
  },
  {
   "cell_type": "code",
   "execution_count": null,
   "outputs": [],
   "source": [
    "train_p1_h3_x = ohe.transform(train_p1_h3_x)"
   ],
   "metadata": {
    "collapsed": false,
    "pycharm": {
     "name": "#%%\n",
     "is_executing": true
    }
   }
  },
  {
   "cell_type": "code",
   "execution_count": null,
   "outputs": [],
   "source": [
    "test_p1_h3_x = ohe.transform(test_p1_h3_x)"
   ],
   "metadata": {
    "collapsed": false,
    "pycharm": {
     "name": "#%%\n",
     "is_executing": true
    }
   }
  },
  {
   "cell_type": "code",
   "execution_count": null,
   "outputs": [],
   "source": [
    "reg_geo_p1 = LinearRegression().fit(train_p1_geo_x, train_p1_geo_y)"
   ],
   "metadata": {
    "collapsed": false,
    "pycharm": {
     "name": "#%%\n",
     "is_executing": true
    }
   }
  },
  {
   "cell_type": "code",
   "execution_count": null,
   "outputs": [],
   "source": [
    "print(reg_geo_p1.coef_)\n",
    "print(reg_geo_p1.intercept_)"
   ],
   "metadata": {
    "collapsed": false,
    "pycharm": {
     "name": "#%%\n",
     "is_executing": true
    }
   }
  },
  {
   "cell_type": "code",
   "execution_count": null,
   "outputs": [],
   "source": [
    "train_pred_geo = reg_geo_p1.predict(train_p1_geo_x)\n",
    "test_pred_geo = reg_geo_p1.predict(test_p1_geo_x)"
   ],
   "metadata": {
    "collapsed": false,
    "pycharm": {
     "name": "#%%\n",
     "is_executing": true
    }
   }
  },
  {
   "cell_type": "code",
   "execution_count": null,
   "outputs": [],
   "source": [
    "reg_h3_p1 = LinearRegression().fit(train_p1_h3_x, train_p1_h3_y)"
   ],
   "metadata": {
    "collapsed": false,
    "pycharm": {
     "name": "#%%\n",
     "is_executing": true
    }
   }
  },
  {
   "cell_type": "code",
   "execution_count": null,
   "outputs": [],
   "source": [
    "print(reg_h3_p1.coef_)\n",
    "print(reg_h3_p1.intercept_)"
   ],
   "metadata": {
    "collapsed": false,
    "pycharm": {
     "name": "#%%\n",
     "is_executing": true
    }
   }
  },
  {
   "cell_type": "code",
   "execution_count": null,
   "outputs": [],
   "source": [
    "train_pred_h3 = reg_h3_p1.predict(train_p1_h3_x)\n",
    "test_pred_h3 = reg_h3_p1.predict(test_p1_h3_x)"
   ],
   "metadata": {
    "collapsed": false,
    "pycharm": {
     "name": "#%%\n",
     "is_executing": true
    }
   }
  },
  {
   "cell_type": "code",
   "execution_count": null,
   "outputs": [],
   "source": [
    "known_h3_index = np.count_nonzero(test_p1_h3_x[:, 0:17], axis=1) == 2"
   ],
   "metadata": {
    "collapsed": false,
    "pycharm": {
     "name": "#%%\n",
     "is_executing": true
    }
   }
  },
  {
   "cell_type": "code",
   "execution_count": null,
   "outputs": [],
   "source": [
    "test_p1_h3_y = test_p1_h3_y[known_h3_index]\n",
    "test_p1_h3_x = test_p1_h3_x[known_h3_index]\n",
    "test_pred_h3 = test_pred_h3[known_h3_index]"
   ],
   "metadata": {
    "collapsed": false,
    "pycharm": {
     "name": "#%%\n",
     "is_executing": true
    }
   }
  },
  {
   "cell_type": "code",
   "execution_count": null,
   "outputs": [],
   "source": [
    "train_p1_geo_x"
   ],
   "metadata": {
    "collapsed": false,
    "pycharm": {
     "name": "#%%\n",
     "is_executing": true
    }
   }
  },
  {
   "cell_type": "code",
   "execution_count": 44,
   "outputs": [
    {
     "name": "stdout",
     "output_type": "stream",
     "text": [
      "ETA train MAE 328.5940455458648\n",
      "prediction train MAE 297.90919973258815\n",
      "ETA test MAE  334.4388657208343\n",
      "prediction test MAE 313.0926640552622\n",
      "ETA train MSE 267538.4672356914\n",
      "prediction train MSE 197278.02374889096\n",
      "ETA test MSE  307447.5143727894\n",
      "prediction test MSE 236500.08092897446\n",
      "ETA train explained_variance_score 0.17476575601716515\n",
      "prediction train explained_variance_score 0.19219475004177133\n",
      "ETA test explained_variance_score  0.15194470364736523\n",
      "prediction test explained_variance_score 0.17348450223625478\n",
      "ETA train median_absolute_error 205.0\n",
      "prediction train median_absolute_error 224.17002217840854\n",
      "ETA test median_absolute_error  197.0\n",
      "prediction test median_absolute_error 226.25554632038256\n",
      "ETA train r2_score -0.0955045792321001\n",
      "prediction train r2_score 0.19219475004177133\n",
      "ETA test r2_score  -0.07452246219765657\n",
      "prediction test r2_score 0.17343729453082235\n",
      "ETA train MAPE 0.16670909089984084\n",
      "prediction train MAPE 0.17256322803076857\n",
      "ETA test MAPE  0.16769182531397583\n",
      "prediction test MAPE 0.17992038496299556\n"
     ]
    }
   ],
   "source": [
    "print(\"ETA train MAE\", mean_absolute_error(train_p1_geo_y, train_p1_geo_x['eta']))\n",
    "print(\"prediction train MAE\", mean_absolute_error(train_p1_geo_y, train_pred_geo))\n",
    "\n",
    "print(\"ETA test MAE \", mean_absolute_error(test_p1_geo_y, test_p1_geo_x['eta']))\n",
    "print(\"prediction test MAE\", mean_absolute_error(test_p1_geo_y, test_pred_geo))\n",
    "\n",
    "\n",
    "print(\"ETA train MSE\", mean_squared_error(train_p1_geo_y, train_p1_geo_x['eta']))\n",
    "print(\"prediction train MSE\", mean_squared_error(train_p1_geo_y, train_pred_geo))\n",
    "\n",
    "print(\"ETA test MSE \", mean_squared_error(test_p1_geo_y, test_p1_geo_x['eta']))\n",
    "print(\"prediction test MSE\", mean_squared_error(test_p1_geo_y, test_pred_geo))\n",
    "\n",
    "\n",
    "print(\"ETA train explained_variance_score\", explained_variance_score(train_p1_geo_y, train_p1_geo_x['eta']))\n",
    "print(\"prediction train explained_variance_score\", explained_variance_score(train_p1_geo_y, train_pred_geo))\n",
    "\n",
    "print(\"ETA test explained_variance_score \", explained_variance_score(test_p1_geo_y, test_p1_geo_x['eta']))\n",
    "print(\"prediction test explained_variance_score\", explained_variance_score(test_p1_geo_y, test_pred_geo))\n",
    "\n",
    "\n",
    "print(\"ETA train median_absolute_error\", median_absolute_error(train_p1_geo_y, train_p1_geo_x['eta']))\n",
    "print(\"prediction train median_absolute_error\", median_absolute_error(train_p1_geo_y, train_pred_geo))\n",
    "\n",
    "print(\"ETA test median_absolute_error \", median_absolute_error(test_p1_geo_y, test_p1_geo_x['eta']))\n",
    "print(\"prediction test median_absolute_error\", median_absolute_error(test_p1_geo_y, test_pred_geo))\n",
    "\n",
    "\n",
    "print(\"ETA train r2_score\", r2_score(train_p1_geo_y, train_p1_geo_x['eta']))\n",
    "print(\"prediction train r2_score\", r2_score(train_p1_geo_y, train_pred_geo))\n",
    "\n",
    "print(\"ETA test r2_score \", r2_score(test_p1_geo_y, test_p1_geo_x['eta']))\n",
    "print(\"prediction test r2_score\", r2_score(test_p1_geo_y, test_pred_geo))\n",
    "\n",
    "\n",
    "print(\"ETA train MAPE\", mean_absolute_percentage_error(train_p1_geo_y, train_p1_geo_x['eta']))\n",
    "print(\"prediction train MAPE\", mean_absolute_percentage_error(train_p1_geo_y, train_pred_geo))\n",
    "\n",
    "print(\"ETA test MAPE \", mean_absolute_percentage_error(test_p1_geo_y, test_p1_geo_x['eta']))\n",
    "print(\"prediction test MAPE\", mean_absolute_percentage_error(test_p1_geo_y, test_pred_geo))"
   ],
   "metadata": {
    "collapsed": false,
    "pycharm": {
     "name": "#%%\n"
    }
   }
  },
  {
   "cell_type": "code",
   "execution_count": 46,
   "outputs": [
    {
     "name": "stdout",
     "output_type": "stream",
     "text": [
      "[ 0.95267888  0.03992745  0.01639903  0.14161629  0.07104881 -0.00869313\n",
      " -0.01985985]\n",
      "0.027375837176890544\n"
     ]
    }
   ],
   "source": [
    "train_p4_geo_x_normalized = (train_p4_geo_x - train_p4_geo_x.min()) / (train_p4_geo_x.max() - train_p4_geo_x.min())\n",
    "train_p4_geo_y_normalized = (train_p4_geo_y - train_p4_geo_y.min()) / (train_p4_geo_y.max() - train_p4_geo_y.min())\n",
    "# test_p4_geo_x_normalized = (test_p4_geo_x - train_p4_geo_x.min()) / (train_p4_geo_x.max() - train_p4_geo_x.min())\n",
    "# test_p4_geo_y_normalized = (test_p4_geo_y - train_p4_geo_y.min()) / (train_p4_geo_y.max() - train_p4_geo_y.min())\n",
    "\n",
    "reg_p4_geo_normalized = LinearRegression().fit(train_p4_geo_x_normalized, train_p4_geo_y_normalized)\n",
    "print(reg_p4_geo_normalized.coef_)\n",
    "print(reg_p4_geo_normalized.intercept_)"
   ],
   "metadata": {
    "collapsed": false,
    "pycharm": {
     "name": "#%%\n"
    }
   }
  },
  {
   "cell_type": "code",
   "execution_count": 39,
   "outputs": [
    {
     "name": "stdout",
     "output_type": "stream",
     "text": [
      "ETA train MAE 558.6899742605314\n",
      "prediction train MAE 468.32320172854264\n",
      "ETA test MAE  609.4802658229795\n",
      "prediction test MAE 532.3905549659162\n",
      "ETA train MSE 724259.5492995734\n",
      "prediction train MSE 474510.4137146755\n",
      "ETA test MSE  1005379.4640005743\n",
      "prediction test MSE 706504.3378821977\n",
      "ETA train explained_variance_score 0.5486781823287357\n",
      "prediction train explained_variance_score 0.5735345690702949\n",
      "ETA test explained_variance_score  0.4753275329161858\n",
      "prediction test explained_variance_score 0.5084530615897137\n",
      "ETA train median_absolute_error 353.0\n",
      "prediction train median_absolute_error 347.19482421875\n",
      "ETA test median_absolute_error  352.0\n",
      "prediction test median_absolute_error 366.8814697265625\n",
      "ETA train r2_score 0.3490729563150865\n",
      "prediction train r2_score 0.5735345690702917\n",
      "ETA test r2_score  0.2984759208241079\n",
      "prediction test r2_score 0.5070221515223838\n",
      "ETA train MAPE 0.16697790395524195\n",
      "prediction train MAPE 0.1610154609737745\n",
      "ETA test MAPE  0.1730999583791752\n",
      "prediction test MAPE 0.17448530280936583\n"
     ]
    }
   ],
   "source": [
    "print(\"ETA train MAE\", mean_absolute_error(train_p4_h3_y, train_p4_h3_x[:, 17]))\n",
    "print(\"prediction train MAE\", mean_absolute_error(train_p4_h3_y, train_pred_h3))\n",
    "\n",
    "print(\"ETA test MAE \", mean_absolute_error(test_p4_h3_y, test_p4_h3_x[:, 17]))\n",
    "print(\"prediction test MAE\", mean_absolute_error(test_p4_h3_y, test_pred_h3))\n",
    "\n",
    "\n",
    "print(\"ETA train MSE\", mean_squared_error(train_p4_h3_y, train_p4_h3_x[:, 17]))\n",
    "print(\"prediction train MSE\", mean_squared_error(train_p4_h3_y, train_pred_h3))\n",
    "\n",
    "print(\"ETA test MSE \", mean_squared_error(test_p4_h3_y, test_p4_h3_x[:, 17]))\n",
    "print(\"prediction test MSE\", mean_squared_error(test_p4_h3_y, test_pred_h3))\n",
    "\n",
    "\n",
    "print(\"ETA train explained_variance_score\", explained_variance_score(train_p4_h3_y, train_p4_h3_x[:, 17]))\n",
    "print(\"prediction train explained_variance_score\", explained_variance_score(train_p4_h3_y, train_pred_h3))\n",
    "\n",
    "print(\"ETA test explained_variance_score \", explained_variance_score(test_p4_h3_y, test_p4_h3_x[:, 17]))\n",
    "print(\"prediction test explained_variance_score\", explained_variance_score(test_p4_h3_y, test_pred_h3))\n",
    "\n",
    "\n",
    "print(\"ETA train median_absolute_error\", median_absolute_error(train_p4_h3_y, train_p4_h3_x[:, 17]))\n",
    "print(\"prediction train median_absolute_error\", median_absolute_error(train_p4_h3_y, train_pred_h3))\n",
    "\n",
    "print(\"ETA test median_absolute_error \", median_absolute_error(test_p4_h3_y, test_p4_h3_x[:, 17]))\n",
    "print(\"prediction test median_absolute_error\", median_absolute_error(test_p4_h3_y, test_pred_h3))\n",
    "\n",
    "\n",
    "print(\"ETA train r2_score\", r2_score(train_p4_h3_y, train_p4_h3_x[:, 17]))\n",
    "print(\"prediction train r2_score\", r2_score(train_p4_h3_y, train_pred_h3))\n",
    "\n",
    "print(\"ETA test r2_score \", r2_score(test_p4_h3_y, test_p4_h3_x[:, 17]))\n",
    "print(\"prediction test r2_score\", r2_score(test_p4_h3_y, test_pred_h3))\n",
    "\n",
    "\n",
    "print(\"ETA train MAPE\", mean_absolute_percentage_error(train_p4_h3_y, train_p4_h3_x[:, 17]))\n",
    "print(\"prediction train MAPE\", mean_absolute_percentage_error(train_p4_h3_y, train_pred_h3))\n",
    "\n",
    "print(\"ETA test MAPE \", mean_absolute_percentage_error(test_p4_h3_y, test_p4_h3_x[:, 17]))\n",
    "print(\"prediction test MAPE\", mean_absolute_percentage_error(test_p4_h3_y, test_pred_h3))"
   ],
   "metadata": {
    "collapsed": false,
    "pycharm": {
     "name": "#%%\n"
    }
   }
  },
  {
   "cell_type": "code",
   "execution_count": 47,
   "outputs": [
    {
     "name": "stdout",
     "output_type": "stream",
     "text": [
      "[ 3.38839243e+11  3.38839243e+11  3.38839244e+11  3.38839243e+11\n",
      "  3.38839243e+11  3.38839243e+11  3.38839243e+11 -1.81469415e+11\n",
      " -1.81469415e+11 -1.81469415e+11 -1.81469415e+11 -1.81469415e+11\n",
      " -1.81469415e+11 -1.81469415e+11 -1.81469415e+11 -1.81469415e+11\n",
      " -1.81469415e+11  1.10072538e+00 -4.58049363e-01 -1.50679642e+02]\n",
      "-17055362.3876918\n"
     ]
    }
   ],
   "source": [
    "train_p4_h3_x_normalized = (train_p4_h3_x - train_p4_h3_x.min()) / (train_p4_h3_x.max() - train_p4_h3_x.min())\n",
    "train_p4_h3_y_normalized = (train_p4_h3_y - train_p4_h3_y.min()) / (train_p4_h3_y.max() - train_p4_h3_y.min())\n",
    "# test_p4_h3_x_normalized = (test_p4_h3_x - train_p4_h3_x.min()) / (train_p4_h3_x.max() - train_p4_h3_x.min())\n",
    "# test_p4_h3_y_normalized = (test_p4_h3_y - train_p4_h3_y.min()) / (train_p4_h3_y.max() - train_p4_h3_y.min())\n",
    "\n",
    "reg_p4_h3_normalized = LinearRegression().fit(train_p4_h3_x_normalized, train_p4_h3_y_normalized)\n",
    "print(reg_p4_h3_normalized.coef_)\n",
    "print(reg_p4_h3_normalized.intercept_)"
   ],
   "metadata": {
    "collapsed": false,
    "pycharm": {
     "name": "#%%\n"
    }
   }
  },
  {
   "cell_type": "code",
   "execution_count": null,
   "outputs": [],
   "source": [
    "%set_env AWS_ACCESS_KEY_ID=SokXIEc1g9vNqCJt4CSObyk6vumoOOPQ\n",
    "%set_env AWS_SECRET_ACCESS_KEY=QNyTpGhFjUTYSP9VKmfhpUizwKr0t8gk\n",
    "%set_env MLFLOW_S3_ENDPOINT_URL=https://minio-clustered-smapp-storage.apps.private.teh-1.snappcloud.io\n",
    "\n",
    "# create experiment\n",
    "%set_env MLFLOW_TRACKING_URI=https://mlflow.apps.private.okd4.teh-1.snappcloud.io/\n",
    "# mlflow experiments create --experiment-name elahe\n",
    "\n",
    "# run script under experiment\n",
    "%set_env MLFLOW_EXPERIMENT_NAME=elahe\n",
    "# cd save/\n",
    "# python test.py"
   ],
   "metadata": {
    "collapsed": false,
    "pycharm": {
     "name": "#%%\n"
    }
   }
  },
  {
   "cell_type": "code",
   "execution_count": null,
   "outputs": [],
   "source": [
    "! echo $AWS_ACCESS_KEY_ID\n",
    "! echo $AWS_SECRET_ACCESS_KEY\n",
    "! echo $MLFLOW_S3_ENDPOINT_URL\n",
    "! echo $MLFLOW_TRACKING_URI\n",
    "! echo $MLFLOW_EXPERIMENT_NAME"
   ],
   "metadata": {
    "collapsed": false,
    "pycharm": {
     "name": "#%%\n"
    }
   }
  },
  {
   "cell_type": "code",
   "execution_count": null,
   "outputs": [],
   "source": [
    "# with mlflow.start_run(run_name=\"regression\") as run:\n",
    "#     # Log the sklearn model and register as version 1\n",
    "#     mlflow.sklearn.log_model(\n",
    "#         sk_model=reg_p4,\n",
    "#         artifact_path=\"regression\",\n",
    "#         registered_model_name=\"reg-model\"\n",
    "#     )"
   ],
   "metadata": {
    "collapsed": false,
    "pycharm": {
     "name": "#%%\n"
    }
   }
  },
  {
   "cell_type": "code",
   "execution_count": null,
   "outputs": [],
   "source": [
    "# with mlflow.start_run(run_name=\"YOUR_RUN_NAME\") as run:\n",
    "#     params = {\"n_estimators\": 5, \"random_state\": 42}\n",
    "#     sk_learn_rfr = RandomForestRegressor(**params)\n",
    "#\n",
    "#     # Log parameters and metrics using the MLflow APIs\n",
    "#     mlflow.log_params(params)\n",
    "#     mlflow.log_param(\"param_1\", randint(0, 100))\n",
    "#     mlflow.log_metrics({\"metric_1\": random(), \"metric_2\": random() + 1})\n",
    "#\n",
    "#     # Log the sklearn model and register as version 1\n",
    "#     mlflow.sklearn.log_model(\n",
    "#         sk_model=sk_learn_rfr,\n",
    "#         artifact_path=\"sklearn-model\",\n",
    "#         registered_model_name=\"sk-learn-random-forest-reg-model\"\n",
    "#     )"
   ],
   "metadata": {
    "collapsed": false,
    "pycharm": {
     "name": "#%%\n"
    }
   }
  }
 ],
 "metadata": {
  "kernelspec": {
   "display_name": "Python 3",
   "language": "python",
   "name": "python3"
  },
  "language_info": {
   "codemirror_mode": {
    "name": "ipython",
    "version": 2
   },
   "file_extension": ".py",
   "mimetype": "text/x-python",
   "name": "python",
   "nbconvert_exporter": "python",
   "pygments_lexer": "ipython2",
   "version": "2.7.6"
  }
 },
 "nbformat": 4,
 "nbformat_minor": 0
}