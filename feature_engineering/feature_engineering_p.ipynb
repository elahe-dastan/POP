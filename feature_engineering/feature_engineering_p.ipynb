{
 "cells": [
  {
   "cell_type": "code",
   "execution_count": 1,
   "metadata": {
    "collapsed": true,
    "pycharm": {
     "name": "#%%\n"
    }
   },
   "outputs": [],
   "source": [
    "import pandas as pd\n",
    "import numpy as np\n",
    "from sklearn.linear_model import LinearRegression\n",
    "from sklearn.metrics import mean_absolute_error, mean_squared_error, explained_variance_score, median_absolute_error, r2_score, mean_absolute_percentage_error\n",
    "from sklearn.model_selection import train_test_split\n",
    "from scipy.stats import *\n",
    "import h3\n",
    "from sklearn.preprocessing import OneHotEncoder\n",
    "from sklearn.compose import ColumnTransformer\n",
    "from datetime import datetime\n",
    "from math import floor\n",
    "import matplotlib.pyplot as plt\n",
    "import mlflow\n",
    "import mlflow.sklearn"
   ]
  },
  {
   "cell_type": "code",
   "execution_count": 2,
   "outputs": [],
   "source": [
    "ride_columns = ['accepted_driver_id', 'created_at', 'passenger_id', 'source_lat',\n",
    "       'source_lng', 'destination_lat', 'destination_lng', 'eta', 'provider',\n",
    "       'ata', 'id', 'city']\n",
    "\n",
    "khatkesh_columns = ['ride_id','driver_id','a_t_a_result.arrival_a_t_a','a_t_a_result.boarding_a_t_a','a_t_a_result.ride_a_t_a','a_t_a_result.arrival_probe_result.probe.point.lat','a_t_a_result.arrival_probe_result.probe.point.lon','a_t_a_result.arrival_probe_result.probe.timestamp','a_t_a_result.arrival_probe_result.confidence','a_t_a_result.arrival_probe_result.h3_index', 'a_t_a_result.arrival_probe_result.k_ring_level','a_t_a_result.boarding_probe_result.probe.point.lat','a_t_a_result.boarding_probe_result.probe.point.lon','a_t_a_result.boarding_probe_result.probe.timestamp','a_t_a_result.boarding_probe_result.confidence','a_t_a_result.boarding_probe_result.h3_index','a_t_a_result.boarding_probe_result.k_ring_level','a_t_a_result.final_destination_probe_result.probe.point.lat','a_t_a_result.final_destination_probe_result.probe.point.lon','a_t_a_result.final_destination_probe_result.probe.timestamp','a_t_a_result.final_destination_probe_result.confidence','a_t_a_result.final_destination_probe_result.h3_index','a_t_a_result.final_destination_probe_result.k_ring_level','a_t_a_result.destination_probe_result.probe.point.lat','a_t_a_result.destination_probe_result.probe.point.lon','a_t_a_result.destination_probe_result.probe.timestamp','a_t_a_result.destination_probe_result.confidence','a_t_a_result.destination_probe_result.h3_index','a_t_a_result.destination_probe_result.k_ring_level','a_t_a_result.extra_destination_probe_result.probe.point.lat','a_t_a_result.extra_destination_probe_result.probe.point.lon','a_t_a_result.extra_destination_probe_result.probe.timestamp','a_t_a_result.extra_destination_probe_result.confidence','a_t_a_result.extra_destination_probe_result.h3_index','a_t_a_result.extra_destination_probe_result.k_ring_level','pickup_a_d_d_result.distance','pickup_a_d_d_result.confidence','pickup_a_d_d_result.route_ratio','pickup_a_d_d_result.g_p_s_ratio','ride_a_d_d_result.distance','ride_a_d_d_result.confidence','ride_a_d_d_result.route_ratio','ride_a_d_d_result.g_p_s_ratio','total_a_d_d_confidence','in_ride_allotment','e_d_d','clickhouse_time','hash']\n",
    "\n",
    "train_dates = ['2022-08-02', '2022-08-03', '2022-08-04', '2022-08-05', '2022-08-06', '2022-08-07', '2022-08-08',\n",
    "               '2022-08-09', '2022-08-10', '2022-08-11', '2022-08-12', '2022-08-13', '2022-08-14', '2022-08-15',\n",
    "               '2022-08-16', '2022-08-17', '2022-08-18', '2022-08-19', '2022-08-20', '2022-08-21', '2022-08-22',\n",
    "               '2022-08-23', '2022-08-24', '2022-08-25', '2022-08-26', '2022-08-27', '2022-08-28', '2022-08-29',\n",
    "               '2022-08-30', '2022-08-31', '2022-09-01', '2022-09-02', '2022-09-03', '2022-09-04', '2022-09-05',\n",
    "               '2022-09-06', '2022-09-07', '2022-09-08', '2022-09-09', '2022-09-10']\n",
    "\n",
    "train_holidays = ['2022-08-07', '2022-08-08']\n",
    "\n",
    "test_dates = ['2022-09-11', '2022-09-12', '2022-09-13', '2022-09-14', '2022-09-15', '2022-09-16', '2022-09-17',\n",
    "              '2022-09-18', '2022-09-19', '2022-09-20', '2022-09-21', '2022-09-22', '2022-09-23', '2022-09-24',\n",
    "              '2022-09-25', '2022-09-26', '2022-09-27', '2022-09-28', '2022-09-29', '2022-09-30', '2022-10-01',\n",
    "              '2022-10-02', '2022-10-03', '2022-10-04', '2022-10-05', '2022-10-06', '2022-10-07', '2022-10-08',\n",
    "              '2022-10-09']\n",
    "\n",
    "test_holidays = ['2022-09-17', '2022-09-25', '2022-09-27', '2022-10-05']"
   ],
   "metadata": {
    "collapsed": false,
    "pycharm": {
     "name": "#%%\n"
    }
   }
  },
  {
   "cell_type": "code",
   "execution_count": 3,
   "outputs": [
    {
     "name": "stdout",
     "output_type": "stream",
     "text": [
      "<class 'pandas.core.frame.DataFrame'>\n",
      "RangeIndex: 4063341 entries, 0 to 4063340\n",
      "Data columns (total 59 columns):\n",
      " #   Column                                                       Dtype  \n",
      "---  ------                                                       -----  \n",
      " 0   accepted_driver_id                                           int64  \n",
      " 1   created_at                                                   object \n",
      " 2   passenger_id                                                 int64  \n",
      " 3   source_lat                                                   float64\n",
      " 4   source_lng                                                   float64\n",
      " 5   destination_lat                                              float64\n",
      " 6   destination_lng                                              float64\n",
      " 7   eta                                                          int64  \n",
      " 8   provider                                                     object \n",
      " 9   ata                                                          int64  \n",
      " 10  ride_id                                                      int64  \n",
      " 11  city                                                         int64  \n",
      " 12  driver_id                                                    int64  \n",
      " 13  a_t_a_result.arrival_a_t_a                                   int64  \n",
      " 14  a_t_a_result.boarding_a_t_a                                  float64\n",
      " 15  a_t_a_result.ride_a_t_a                                      int64  \n",
      " 16  a_t_a_result.arrival_probe_result.probe.point.lat            float64\n",
      " 17  a_t_a_result.arrival_probe_result.probe.point.lon            float64\n",
      " 18  a_t_a_result.arrival_probe_result.probe.timestamp            float64\n",
      " 19  a_t_a_result.arrival_probe_result.confidence                 float64\n",
      " 20  a_t_a_result.arrival_probe_result.h3_index                   object \n",
      " 21  a_t_a_result.arrival_probe_result.k_ring_level               int64  \n",
      " 22  a_t_a_result.boarding_probe_result.probe.point.lat           float64\n",
      " 23  a_t_a_result.boarding_probe_result.probe.point.lon           float64\n",
      " 24  a_t_a_result.boarding_probe_result.probe.timestamp           float64\n",
      " 25  a_t_a_result.boarding_probe_result.confidence                float64\n",
      " 26  a_t_a_result.boarding_probe_result.h3_index                  object \n",
      " 27  a_t_a_result.boarding_probe_result.k_ring_level              int64  \n",
      " 28  a_t_a_result.final_destination_probe_result.probe.point.lat  float64\n",
      " 29  a_t_a_result.final_destination_probe_result.probe.point.lon  float64\n",
      " 30  a_t_a_result.final_destination_probe_result.probe.timestamp  int64  \n",
      " 31  a_t_a_result.final_destination_probe_result.confidence       float64\n",
      " 32  a_t_a_result.final_destination_probe_result.h3_index         object \n",
      " 33  a_t_a_result.final_destination_probe_result.k_ring_level     int64  \n",
      " 34  a_t_a_result.destination_probe_result.probe.point.lat        float64\n",
      " 35  a_t_a_result.destination_probe_result.probe.point.lon        float64\n",
      " 36  a_t_a_result.destination_probe_result.probe.timestamp        float64\n",
      " 37  a_t_a_result.destination_probe_result.confidence             float64\n",
      " 38  a_t_a_result.destination_probe_result.h3_index               object \n",
      " 39  a_t_a_result.destination_probe_result.k_ring_level           int64  \n",
      " 40  a_t_a_result.extra_destination_probe_result.probe.point.lat  float64\n",
      " 41  a_t_a_result.extra_destination_probe_result.probe.point.lon  float64\n",
      " 42  a_t_a_result.extra_destination_probe_result.probe.timestamp  float64\n",
      " 43  a_t_a_result.extra_destination_probe_result.confidence       float64\n",
      " 44  a_t_a_result.extra_destination_probe_result.h3_index         float64\n",
      " 45  a_t_a_result.extra_destination_probe_result.k_ring_level     int64  \n",
      " 46  pickup_a_d_d_result.distance                                 float64\n",
      " 47  pickup_a_d_d_result.confidence                               float64\n",
      " 48  pickup_a_d_d_result.route_ratio                              float64\n",
      " 49  pickup_a_d_d_result.g_p_s_ratio                              float64\n",
      " 50  ride_a_d_d_result.distance                                   float64\n",
      " 51  ride_a_d_d_result.confidence                                 float64\n",
      " 52  ride_a_d_d_result.route_ratio                                float64\n",
      " 53  ride_a_d_d_result.g_p_s_ratio                                float64\n",
      " 54  total_a_d_d_confidence                                       float64\n",
      " 55  in_ride_allotment                                            float64\n",
      " 56  e_d_d                                                        float64\n",
      " 57  clickhouse_time                                              object \n",
      " 58  hash                                                         uint64 \n",
      "dtypes: float64(36), int64(15), object(7), uint64(1)\n",
      "memory usage: 1.8+ GB\n"
     ]
    }
   ],
   "source": [
    "rides_train = pd.read_csv('../rides_train.csv')\n",
    "rides_train.info()"
   ],
   "metadata": {
    "collapsed": false,
    "pycharm": {
     "name": "#%%\n"
    }
   }
  },
  {
   "cell_type": "code",
   "execution_count": 4,
   "outputs": [
    {
     "name": "stdout",
     "output_type": "stream",
     "text": [
      "<class 'pandas.core.frame.DataFrame'>\n",
      "RangeIndex: 2729988 entries, 0 to 2729987\n",
      "Data columns (total 59 columns):\n",
      " #   Column                                                       Dtype  \n",
      "---  ------                                                       -----  \n",
      " 0   accepted_driver_id                                           int64  \n",
      " 1   created_at                                                   object \n",
      " 2   passenger_id                                                 int64  \n",
      " 3   source_lat                                                   float64\n",
      " 4   source_lng                                                   float64\n",
      " 5   destination_lat                                              float64\n",
      " 6   destination_lng                                              float64\n",
      " 7   eta                                                          int64  \n",
      " 8   provider                                                     object \n",
      " 9   ata                                                          int64  \n",
      " 10  ride_id                                                      int64  \n",
      " 11  city                                                         int64  \n",
      " 12  driver_id                                                    int64  \n",
      " 13  a_t_a_result.arrival_a_t_a                                   int64  \n",
      " 14  a_t_a_result.boarding_a_t_a                                  float64\n",
      " 15  a_t_a_result.ride_a_t_a                                      int64  \n",
      " 16  a_t_a_result.arrival_probe_result.probe.point.lat            float64\n",
      " 17  a_t_a_result.arrival_probe_result.probe.point.lon            float64\n",
      " 18  a_t_a_result.arrival_probe_result.probe.timestamp            float64\n",
      " 19  a_t_a_result.arrival_probe_result.confidence                 float64\n",
      " 20  a_t_a_result.arrival_probe_result.h3_index                   object \n",
      " 21  a_t_a_result.arrival_probe_result.k_ring_level               int64  \n",
      " 22  a_t_a_result.boarding_probe_result.probe.point.lat           float64\n",
      " 23  a_t_a_result.boarding_probe_result.probe.point.lon           float64\n",
      " 24  a_t_a_result.boarding_probe_result.probe.timestamp           float64\n",
      " 25  a_t_a_result.boarding_probe_result.confidence                float64\n",
      " 26  a_t_a_result.boarding_probe_result.h3_index                  object \n",
      " 27  a_t_a_result.boarding_probe_result.k_ring_level              int64  \n",
      " 28  a_t_a_result.final_destination_probe_result.probe.point.lat  float64\n",
      " 29  a_t_a_result.final_destination_probe_result.probe.point.lon  float64\n",
      " 30  a_t_a_result.final_destination_probe_result.probe.timestamp  int64  \n",
      " 31  a_t_a_result.final_destination_probe_result.confidence       float64\n",
      " 32  a_t_a_result.final_destination_probe_result.h3_index         object \n",
      " 33  a_t_a_result.final_destination_probe_result.k_ring_level     int64  \n",
      " 34  a_t_a_result.destination_probe_result.probe.point.lat        float64\n",
      " 35  a_t_a_result.destination_probe_result.probe.point.lon        float64\n",
      " 36  a_t_a_result.destination_probe_result.probe.timestamp        float64\n",
      " 37  a_t_a_result.destination_probe_result.confidence             float64\n",
      " 38  a_t_a_result.destination_probe_result.h3_index               object \n",
      " 39  a_t_a_result.destination_probe_result.k_ring_level           int64  \n",
      " 40  a_t_a_result.extra_destination_probe_result.probe.point.lat  float64\n",
      " 41  a_t_a_result.extra_destination_probe_result.probe.point.lon  float64\n",
      " 42  a_t_a_result.extra_destination_probe_result.probe.timestamp  float64\n",
      " 43  a_t_a_result.extra_destination_probe_result.confidence       float64\n",
      " 44  a_t_a_result.extra_destination_probe_result.h3_index         float64\n",
      " 45  a_t_a_result.extra_destination_probe_result.k_ring_level     int64  \n",
      " 46  pickup_a_d_d_result.distance                                 float64\n",
      " 47  pickup_a_d_d_result.confidence                               float64\n",
      " 48  pickup_a_d_d_result.route_ratio                              float64\n",
      " 49  pickup_a_d_d_result.g_p_s_ratio                              float64\n",
      " 50  ride_a_d_d_result.distance                                   float64\n",
      " 51  ride_a_d_d_result.confidence                                 float64\n",
      " 52  ride_a_d_d_result.route_ratio                                float64\n",
      " 53  ride_a_d_d_result.g_p_s_ratio                                float64\n",
      " 54  total_a_d_d_confidence                                       float64\n",
      " 55  in_ride_allotment                                            float64\n",
      " 56  e_d_d                                                        float64\n",
      " 57  clickhouse_time                                              object \n",
      " 58  hash                                                         uint64 \n",
      "dtypes: float64(36), int64(15), object(7), uint64(1)\n",
      "memory usage: 1.2+ GB\n"
     ]
    }
   ],
   "source": [
    "rides_test = pd.read_csv('../rides_test.csv')\n",
    "rides_test.info()"
   ],
   "metadata": {
    "collapsed": false,
    "pycharm": {
     "name": "#%%\n"
    }
   }
  },
  {
   "cell_type": "code",
   "execution_count": 6,
   "outputs": [
    {
     "data": {
      "text/plain": "         accepted_driver_id           created_at  passenger_id  source_lat  \\\n2                    408918  2022-08-02 09:54:15       5213539   35.779682   \n9                     53191  2022-08-02 18:50:27        584403   35.727207   \n10                  1067390  2022-08-02 09:03:31      30326364   35.793903   \n11                  2965628  2022-08-02 08:12:13       3706933   35.784466   \n19                  3585225  2022-08-02 06:55:51      10865738   35.668488   \n...                     ...                  ...           ...         ...   \n4063328             2039638  2022-09-10 06:46:01      36290596   35.736115   \n4063329             1130885  2022-09-10 14:24:21       9395527   35.783543   \n4063331               72763  2022-09-10 12:56:23      33622661   35.706825   \n4063333             2876463  2022-09-10 14:42:19      39332253   35.695030   \n4063335              161428  2022-09-10 09:21:23      14342004   35.685905   \n\n         source_lng  destination_lat  destination_lng   eta       provider  \\\n2         51.418243        35.759449        51.411560   759  smapp-same-dc   \n9         51.414001        35.685680        51.417545  1013  smapp-same-dc   \n10        51.533375        35.746414        51.465214  1159  smapp-same-dc   \n11        51.469406        35.745651        51.574635   762  smapp-same-dc   \n19        51.471096        35.737984        51.507107  1088  smapp-same-dc   \n...             ...              ...              ...   ...            ...   \n4063328   51.313038        35.758835        51.443092  1187  smapp-same-dc   \n4063329   51.381916        35.802864        51.403702   631  smapp-same-dc   \n4063331   51.420853        35.716705        51.401714   638  smapp-same-dc   \n4063333   51.254135        35.716125        51.285088   781  smapp-same-dc   \n4063335   51.416969        35.709988        51.400574   672  smapp-same-dc   \n\n          ata  ...  pickup_a_d_d_result.g_p_s_ratio  \\\n2         604  ...                         0.017241   \n9        1033  ...                         0.009174   \n10       1122  ...                         0.000000   \n11       1112  ...                         0.000000   \n19       1324  ...                         0.006944   \n...       ...  ...                              ...   \n4063328  1503  ...                         0.006757   \n4063329   811  ...                         0.015625   \n4063331   550  ...                         0.000000   \n4063333  1271  ...                         0.008772   \n4063335  1106  ...                         0.009009   \n\n         ride_a_d_d_result.distance  ride_a_d_d_result.confidence  \\\n2                             5.497                      0.966254   \n9                            10.750                      0.897674   \n10                           13.055                      0.500000   \n11                           24.347                      0.978827   \n19                           31.246                      1.000000   \n...                             ...                           ...   \n4063328                      34.778                      0.980505   \n4063329                      13.448                      1.000000   \n4063331                       4.574                      0.773502   \n4063333                      23.270                      0.974860   \n4063335                       9.560                      1.000000   \n\n         ride_a_d_d_result.route_ratio  ride_a_d_d_result.g_p_s_ratio  \\\n2                                  0.0                       1.000000   \n9                                  0.0                       0.935780   \n10                                 0.0                       0.000000   \n11                                 0.0                       0.866071   \n19                                 0.0                       0.986111   \n...                                ...                            ...   \n4063328                            0.0                       0.972973   \n4063329                            0.0                       1.000000   \n4063331                            0.0                       0.500000   \n4063333                            0.0                       0.964912   \n4063335                            0.0                       0.990991   \n\n         total_a_d_d_confidence  in_ride_allotment      e_d_d  \\\n2                      0.862177                0.0   0.000000   \n9                      0.920802                0.0   0.000000   \n10                     0.450000                0.0   0.000000   \n11                     0.954214                0.0   0.000000   \n19                     1.000000                0.0   0.000000   \n...                         ...                ...        ...   \n4063328                0.984175                0.0  17.391001   \n4063329                1.000000                0.0   6.729000   \n4063331                0.696152                0.0   3.307000   \n4063333                0.978154                0.0  12.272000   \n4063335                1.000000                0.0   4.795000   \n\n             clickhouse_time                  hash  \n2        2022-08-02 10:08:24   2313090424092922132  \n9        2022-08-02 19:15:08   5451641608039862966  \n10       2022-08-02 09:27:25   4680654792485305243  \n11       2022-08-02 08:37:36   8567897489074288511  \n19       2022-08-02 07:28:51    729957630370450801  \n...                      ...                   ...  \n4063328  2022-09-10 07:19:37   1051319816819413442  \n4063329  2022-09-10 14:42:34   5503017915922955727  \n4063331  2022-09-10 13:09:02  13930658555766840196  \n4063333  2022-09-10 15:08:30   1923152195668709992  \n4063335  2022-09-10 09:41:10   4109069002042392928  \n\n[1483922 rows x 59 columns]",
      "text/html": "<div>\n<style scoped>\n    .dataframe tbody tr th:only-of-type {\n        vertical-align: middle;\n    }\n\n    .dataframe tbody tr th {\n        vertical-align: top;\n    }\n\n    .dataframe thead th {\n        text-align: right;\n    }\n</style>\n<table border=\"1\" class=\"dataframe\">\n  <thead>\n    <tr style=\"text-align: right;\">\n      <th></th>\n      <th>accepted_driver_id</th>\n      <th>created_at</th>\n      <th>passenger_id</th>\n      <th>source_lat</th>\n      <th>source_lng</th>\n      <th>destination_lat</th>\n      <th>destination_lng</th>\n      <th>eta</th>\n      <th>provider</th>\n      <th>ata</th>\n      <th>...</th>\n      <th>pickup_a_d_d_result.g_p_s_ratio</th>\n      <th>ride_a_d_d_result.distance</th>\n      <th>ride_a_d_d_result.confidence</th>\n      <th>ride_a_d_d_result.route_ratio</th>\n      <th>ride_a_d_d_result.g_p_s_ratio</th>\n      <th>total_a_d_d_confidence</th>\n      <th>in_ride_allotment</th>\n      <th>e_d_d</th>\n      <th>clickhouse_time</th>\n      <th>hash</th>\n    </tr>\n  </thead>\n  <tbody>\n    <tr>\n      <th>2</th>\n      <td>408918</td>\n      <td>2022-08-02 09:54:15</td>\n      <td>5213539</td>\n      <td>35.779682</td>\n      <td>51.418243</td>\n      <td>35.759449</td>\n      <td>51.411560</td>\n      <td>759</td>\n      <td>smapp-same-dc</td>\n      <td>604</td>\n      <td>...</td>\n      <td>0.017241</td>\n      <td>5.497</td>\n      <td>0.966254</td>\n      <td>0.0</td>\n      <td>1.000000</td>\n      <td>0.862177</td>\n      <td>0.0</td>\n      <td>0.000000</td>\n      <td>2022-08-02 10:08:24</td>\n      <td>2313090424092922132</td>\n    </tr>\n    <tr>\n      <th>9</th>\n      <td>53191</td>\n      <td>2022-08-02 18:50:27</td>\n      <td>584403</td>\n      <td>35.727207</td>\n      <td>51.414001</td>\n      <td>35.685680</td>\n      <td>51.417545</td>\n      <td>1013</td>\n      <td>smapp-same-dc</td>\n      <td>1033</td>\n      <td>...</td>\n      <td>0.009174</td>\n      <td>10.750</td>\n      <td>0.897674</td>\n      <td>0.0</td>\n      <td>0.935780</td>\n      <td>0.920802</td>\n      <td>0.0</td>\n      <td>0.000000</td>\n      <td>2022-08-02 19:15:08</td>\n      <td>5451641608039862966</td>\n    </tr>\n    <tr>\n      <th>10</th>\n      <td>1067390</td>\n      <td>2022-08-02 09:03:31</td>\n      <td>30326364</td>\n      <td>35.793903</td>\n      <td>51.533375</td>\n      <td>35.746414</td>\n      <td>51.465214</td>\n      <td>1159</td>\n      <td>smapp-same-dc</td>\n      <td>1122</td>\n      <td>...</td>\n      <td>0.000000</td>\n      <td>13.055</td>\n      <td>0.500000</td>\n      <td>0.0</td>\n      <td>0.000000</td>\n      <td>0.450000</td>\n      <td>0.0</td>\n      <td>0.000000</td>\n      <td>2022-08-02 09:27:25</td>\n      <td>4680654792485305243</td>\n    </tr>\n    <tr>\n      <th>11</th>\n      <td>2965628</td>\n      <td>2022-08-02 08:12:13</td>\n      <td>3706933</td>\n      <td>35.784466</td>\n      <td>51.469406</td>\n      <td>35.745651</td>\n      <td>51.574635</td>\n      <td>762</td>\n      <td>smapp-same-dc</td>\n      <td>1112</td>\n      <td>...</td>\n      <td>0.000000</td>\n      <td>24.347</td>\n      <td>0.978827</td>\n      <td>0.0</td>\n      <td>0.866071</td>\n      <td>0.954214</td>\n      <td>0.0</td>\n      <td>0.000000</td>\n      <td>2022-08-02 08:37:36</td>\n      <td>8567897489074288511</td>\n    </tr>\n    <tr>\n      <th>19</th>\n      <td>3585225</td>\n      <td>2022-08-02 06:55:51</td>\n      <td>10865738</td>\n      <td>35.668488</td>\n      <td>51.471096</td>\n      <td>35.737984</td>\n      <td>51.507107</td>\n      <td>1088</td>\n      <td>smapp-same-dc</td>\n      <td>1324</td>\n      <td>...</td>\n      <td>0.006944</td>\n      <td>31.246</td>\n      <td>1.000000</td>\n      <td>0.0</td>\n      <td>0.986111</td>\n      <td>1.000000</td>\n      <td>0.0</td>\n      <td>0.000000</td>\n      <td>2022-08-02 07:28:51</td>\n      <td>729957630370450801</td>\n    </tr>\n    <tr>\n      <th>...</th>\n      <td>...</td>\n      <td>...</td>\n      <td>...</td>\n      <td>...</td>\n      <td>...</td>\n      <td>...</td>\n      <td>...</td>\n      <td>...</td>\n      <td>...</td>\n      <td>...</td>\n      <td>...</td>\n      <td>...</td>\n      <td>...</td>\n      <td>...</td>\n      <td>...</td>\n      <td>...</td>\n      <td>...</td>\n      <td>...</td>\n      <td>...</td>\n      <td>...</td>\n      <td>...</td>\n    </tr>\n    <tr>\n      <th>4063328</th>\n      <td>2039638</td>\n      <td>2022-09-10 06:46:01</td>\n      <td>36290596</td>\n      <td>35.736115</td>\n      <td>51.313038</td>\n      <td>35.758835</td>\n      <td>51.443092</td>\n      <td>1187</td>\n      <td>smapp-same-dc</td>\n      <td>1503</td>\n      <td>...</td>\n      <td>0.006757</td>\n      <td>34.778</td>\n      <td>0.980505</td>\n      <td>0.0</td>\n      <td>0.972973</td>\n      <td>0.984175</td>\n      <td>0.0</td>\n      <td>17.391001</td>\n      <td>2022-09-10 07:19:37</td>\n      <td>1051319816819413442</td>\n    </tr>\n    <tr>\n      <th>4063329</th>\n      <td>1130885</td>\n      <td>2022-09-10 14:24:21</td>\n      <td>9395527</td>\n      <td>35.783543</td>\n      <td>51.381916</td>\n      <td>35.802864</td>\n      <td>51.403702</td>\n      <td>631</td>\n      <td>smapp-same-dc</td>\n      <td>811</td>\n      <td>...</td>\n      <td>0.015625</td>\n      <td>13.448</td>\n      <td>1.000000</td>\n      <td>0.0</td>\n      <td>1.000000</td>\n      <td>1.000000</td>\n      <td>0.0</td>\n      <td>6.729000</td>\n      <td>2022-09-10 14:42:34</td>\n      <td>5503017915922955727</td>\n    </tr>\n    <tr>\n      <th>4063331</th>\n      <td>72763</td>\n      <td>2022-09-10 12:56:23</td>\n      <td>33622661</td>\n      <td>35.706825</td>\n      <td>51.420853</td>\n      <td>35.716705</td>\n      <td>51.401714</td>\n      <td>638</td>\n      <td>smapp-same-dc</td>\n      <td>550</td>\n      <td>...</td>\n      <td>0.000000</td>\n      <td>4.574</td>\n      <td>0.773502</td>\n      <td>0.0</td>\n      <td>0.500000</td>\n      <td>0.696152</td>\n      <td>0.0</td>\n      <td>3.307000</td>\n      <td>2022-09-10 13:09:02</td>\n      <td>13930658555766840196</td>\n    </tr>\n    <tr>\n      <th>4063333</th>\n      <td>2876463</td>\n      <td>2022-09-10 14:42:19</td>\n      <td>39332253</td>\n      <td>35.695030</td>\n      <td>51.254135</td>\n      <td>35.716125</td>\n      <td>51.285088</td>\n      <td>781</td>\n      <td>smapp-same-dc</td>\n      <td>1271</td>\n      <td>...</td>\n      <td>0.008772</td>\n      <td>23.270</td>\n      <td>0.974860</td>\n      <td>0.0</td>\n      <td>0.964912</td>\n      <td>0.978154</td>\n      <td>0.0</td>\n      <td>12.272000</td>\n      <td>2022-09-10 15:08:30</td>\n      <td>1923152195668709992</td>\n    </tr>\n    <tr>\n      <th>4063335</th>\n      <td>161428</td>\n      <td>2022-09-10 09:21:23</td>\n      <td>14342004</td>\n      <td>35.685905</td>\n      <td>51.416969</td>\n      <td>35.709988</td>\n      <td>51.400574</td>\n      <td>672</td>\n      <td>smapp-same-dc</td>\n      <td>1106</td>\n      <td>...</td>\n      <td>0.009009</td>\n      <td>9.560</td>\n      <td>1.000000</td>\n      <td>0.0</td>\n      <td>0.990991</td>\n      <td>1.000000</td>\n      <td>0.0</td>\n      <td>4.795000</td>\n      <td>2022-09-10 09:41:10</td>\n      <td>4109069002042392928</td>\n    </tr>\n  </tbody>\n</table>\n<p>1483922 rows × 59 columns</p>\n</div>"
     },
     "execution_count": 6,
     "metadata": {},
     "output_type": "execute_result"
    }
   ],
   "source": [
    "rides_train_p2 = rides_train[(rides_train['eta'] >= 600) & (rides_train['eta'] < 1200)]\n",
    "rides_train_p2"
   ],
   "metadata": {
    "collapsed": false,
    "pycharm": {
     "name": "#%%\n"
    }
   }
  },
  {
   "cell_type": "code",
   "execution_count": 7,
   "outputs": [
    {
     "data": {
      "text/plain": "         accepted_driver_id           created_at  passenger_id  source_lat  \\\n0                   2014057  2022-09-11 11:24:07         49398   35.747234   \n1                   1391799  2022-09-11 18:11:25      35845971   35.700195   \n3                   3976967  2022-09-11 22:11:05      44963507   35.442017   \n7                    747553  2022-09-11 08:41:48      32278185   35.686687   \n8                    178820  2022-09-11 08:47:42      47663548   35.737583   \n...                     ...                  ...           ...         ...   \n2729979             2631962  2022-10-09 07:26:33      52511684   35.688557   \n2729981              441313  2022-10-09 11:07:50       5316811   35.722595   \n2729983               80573  2022-10-09 06:18:11       3282774   35.802494   \n2729984              409819  2022-10-09 18:09:08        218416   35.745148   \n2729985             3310304  2022-10-09 06:40:30      17568239   35.819561   \n\n         source_lng  destination_lat  destination_lng   eta       provider  \\\n0         51.398994        35.776882        51.351730   854  smapp-same-dc   \n1         51.331490        35.676605        51.313297   977  smapp-same-dc   \n3         51.564331        35.461838        51.656166  1067  smapp-same-dc   \n7         51.353626        35.676292        51.306538   661  smapp-same-dc   \n8         51.817417        35.716343        51.786205   767  smapp-same-dc   \n...             ...              ...              ...   ...            ...   \n2729979   51.241486        35.557350        51.250626  1185  smapp-same-dc   \n2729981   51.386192        35.694836        51.395294   708  smapp-same-dc   \n2729983   51.362171        35.772793        51.409565   747  smapp-same-dc   \n2729984   51.398754        35.775940        51.348122  1041  smapp-same-dc   \n2729985   51.492096        35.800598        51.520542   625  smapp-same-dc   \n\n          ata  ...  pickup_a_d_d_result.g_p_s_ratio  \\\n0         737  ...                         0.000000   \n1        2336  ...                         0.004149   \n3        1095  ...                         0.009259   \n7         689  ...                         0.014085   \n8         815  ...                         0.014286   \n...       ...  ...                              ...   \n2729979  1374  ...                         0.006623   \n2729981  1034  ...                         0.000000   \n2729983   978  ...                         0.006667   \n2729984  1672  ...                         0.005814   \n2729985   652  ...                         0.015625   \n\n         ride_a_d_d_result.distance  ride_a_d_d_result.confidence  \\\n0                         11.169000                      0.500000   \n1                         11.010000                      0.727702   \n3                         22.372000                      1.000000   \n7                          7.608000                      0.569532   \n8                         14.842000                      1.000000   \n...                             ...                           ...   \n2729979                   37.939999                      0.988271   \n2729981                    3.358000                      0.500000   \n2729983                   21.190001                      1.000000   \n2729984                   19.576000                      1.000000   \n2729985                   10.408000                      1.000000   \n\n         ride_a_d_d_result.route_ratio  ride_a_d_d_result.g_p_s_ratio  \\\n0                                  0.0                       0.000000   \n1                                  0.0                       0.273859   \n3                                  0.0                       1.000000   \n7                                  0.0                       0.112676   \n8                                  0.0                       0.985714   \n...                                ...                            ...   \n2729979                            0.0                       0.953642   \n2729981                            0.0                       0.000000   \n2729983                            0.0                       0.993333   \n2729984                            0.0                       0.988372   \n2729985                            0.0                       1.000000   \n\n         total_a_d_d_confidence  in_ride_allotment   e_d_d  \\\n0                      0.450000               0.00  11.161   \n1                      0.654932               0.00   7.444   \n3                      1.000000               0.00  11.072   \n7                      0.592628               0.00   6.406   \n8                      1.000000               0.00   7.461   \n...                         ...                ...     ...   \n2729979                0.989648               0.00  20.011   \n2729981                0.450000               0.00   3.346   \n2729983                1.000000               3.98   9.157   \n2729984                1.000000               0.00  11.953   \n2729985                1.000000               0.00   5.491   \n\n             clickhouse_time                  hash  \n0        2022-09-11 11:39:53   5137367095109055683  \n1        2022-09-11 19:07:47  10059080565474924133  \n3        2022-09-11 22:35:23  11510188098138702444  \n7        2022-09-11 09:00:15  14066967287691026815  \n8        2022-09-11 09:05:35   2262467388776729805  \n...                      ...                   ...  \n2729979  2022-10-09 08:42:35   8652886350700956763  \n2729981  2022-10-09 11:34:18    100947978219073146  \n2729983  2022-10-09 06:53:49   2386757117456033695  \n2729984  2022-10-09 18:40:16  16994287713772196650  \n2729985  2022-10-09 06:56:14  16861595548882244180  \n\n[1002450 rows x 59 columns]",
      "text/html": "<div>\n<style scoped>\n    .dataframe tbody tr th:only-of-type {\n        vertical-align: middle;\n    }\n\n    .dataframe tbody tr th {\n        vertical-align: top;\n    }\n\n    .dataframe thead th {\n        text-align: right;\n    }\n</style>\n<table border=\"1\" class=\"dataframe\">\n  <thead>\n    <tr style=\"text-align: right;\">\n      <th></th>\n      <th>accepted_driver_id</th>\n      <th>created_at</th>\n      <th>passenger_id</th>\n      <th>source_lat</th>\n      <th>source_lng</th>\n      <th>destination_lat</th>\n      <th>destination_lng</th>\n      <th>eta</th>\n      <th>provider</th>\n      <th>ata</th>\n      <th>...</th>\n      <th>pickup_a_d_d_result.g_p_s_ratio</th>\n      <th>ride_a_d_d_result.distance</th>\n      <th>ride_a_d_d_result.confidence</th>\n      <th>ride_a_d_d_result.route_ratio</th>\n      <th>ride_a_d_d_result.g_p_s_ratio</th>\n      <th>total_a_d_d_confidence</th>\n      <th>in_ride_allotment</th>\n      <th>e_d_d</th>\n      <th>clickhouse_time</th>\n      <th>hash</th>\n    </tr>\n  </thead>\n  <tbody>\n    <tr>\n      <th>0</th>\n      <td>2014057</td>\n      <td>2022-09-11 11:24:07</td>\n      <td>49398</td>\n      <td>35.747234</td>\n      <td>51.398994</td>\n      <td>35.776882</td>\n      <td>51.351730</td>\n      <td>854</td>\n      <td>smapp-same-dc</td>\n      <td>737</td>\n      <td>...</td>\n      <td>0.000000</td>\n      <td>11.169000</td>\n      <td>0.500000</td>\n      <td>0.0</td>\n      <td>0.000000</td>\n      <td>0.450000</td>\n      <td>0.00</td>\n      <td>11.161</td>\n      <td>2022-09-11 11:39:53</td>\n      <td>5137367095109055683</td>\n    </tr>\n    <tr>\n      <th>1</th>\n      <td>1391799</td>\n      <td>2022-09-11 18:11:25</td>\n      <td>35845971</td>\n      <td>35.700195</td>\n      <td>51.331490</td>\n      <td>35.676605</td>\n      <td>51.313297</td>\n      <td>977</td>\n      <td>smapp-same-dc</td>\n      <td>2336</td>\n      <td>...</td>\n      <td>0.004149</td>\n      <td>11.010000</td>\n      <td>0.727702</td>\n      <td>0.0</td>\n      <td>0.273859</td>\n      <td>0.654932</td>\n      <td>0.00</td>\n      <td>7.444</td>\n      <td>2022-09-11 19:07:47</td>\n      <td>10059080565474924133</td>\n    </tr>\n    <tr>\n      <th>3</th>\n      <td>3976967</td>\n      <td>2022-09-11 22:11:05</td>\n      <td>44963507</td>\n      <td>35.442017</td>\n      <td>51.564331</td>\n      <td>35.461838</td>\n      <td>51.656166</td>\n      <td>1067</td>\n      <td>smapp-same-dc</td>\n      <td>1095</td>\n      <td>...</td>\n      <td>0.009259</td>\n      <td>22.372000</td>\n      <td>1.000000</td>\n      <td>0.0</td>\n      <td>1.000000</td>\n      <td>1.000000</td>\n      <td>0.00</td>\n      <td>11.072</td>\n      <td>2022-09-11 22:35:23</td>\n      <td>11510188098138702444</td>\n    </tr>\n    <tr>\n      <th>7</th>\n      <td>747553</td>\n      <td>2022-09-11 08:41:48</td>\n      <td>32278185</td>\n      <td>35.686687</td>\n      <td>51.353626</td>\n      <td>35.676292</td>\n      <td>51.306538</td>\n      <td>661</td>\n      <td>smapp-same-dc</td>\n      <td>689</td>\n      <td>...</td>\n      <td>0.014085</td>\n      <td>7.608000</td>\n      <td>0.569532</td>\n      <td>0.0</td>\n      <td>0.112676</td>\n      <td>0.592628</td>\n      <td>0.00</td>\n      <td>6.406</td>\n      <td>2022-09-11 09:00:15</td>\n      <td>14066967287691026815</td>\n    </tr>\n    <tr>\n      <th>8</th>\n      <td>178820</td>\n      <td>2022-09-11 08:47:42</td>\n      <td>47663548</td>\n      <td>35.737583</td>\n      <td>51.817417</td>\n      <td>35.716343</td>\n      <td>51.786205</td>\n      <td>767</td>\n      <td>smapp-same-dc</td>\n      <td>815</td>\n      <td>...</td>\n      <td>0.014286</td>\n      <td>14.842000</td>\n      <td>1.000000</td>\n      <td>0.0</td>\n      <td>0.985714</td>\n      <td>1.000000</td>\n      <td>0.00</td>\n      <td>7.461</td>\n      <td>2022-09-11 09:05:35</td>\n      <td>2262467388776729805</td>\n    </tr>\n    <tr>\n      <th>...</th>\n      <td>...</td>\n      <td>...</td>\n      <td>...</td>\n      <td>...</td>\n      <td>...</td>\n      <td>...</td>\n      <td>...</td>\n      <td>...</td>\n      <td>...</td>\n      <td>...</td>\n      <td>...</td>\n      <td>...</td>\n      <td>...</td>\n      <td>...</td>\n      <td>...</td>\n      <td>...</td>\n      <td>...</td>\n      <td>...</td>\n      <td>...</td>\n      <td>...</td>\n      <td>...</td>\n    </tr>\n    <tr>\n      <th>2729979</th>\n      <td>2631962</td>\n      <td>2022-10-09 07:26:33</td>\n      <td>52511684</td>\n      <td>35.688557</td>\n      <td>51.241486</td>\n      <td>35.557350</td>\n      <td>51.250626</td>\n      <td>1185</td>\n      <td>smapp-same-dc</td>\n      <td>1374</td>\n      <td>...</td>\n      <td>0.006623</td>\n      <td>37.939999</td>\n      <td>0.988271</td>\n      <td>0.0</td>\n      <td>0.953642</td>\n      <td>0.989648</td>\n      <td>0.00</td>\n      <td>20.011</td>\n      <td>2022-10-09 08:42:35</td>\n      <td>8652886350700956763</td>\n    </tr>\n    <tr>\n      <th>2729981</th>\n      <td>441313</td>\n      <td>2022-10-09 11:07:50</td>\n      <td>5316811</td>\n      <td>35.722595</td>\n      <td>51.386192</td>\n      <td>35.694836</td>\n      <td>51.395294</td>\n      <td>708</td>\n      <td>smapp-same-dc</td>\n      <td>1034</td>\n      <td>...</td>\n      <td>0.000000</td>\n      <td>3.358000</td>\n      <td>0.500000</td>\n      <td>0.0</td>\n      <td>0.000000</td>\n      <td>0.450000</td>\n      <td>0.00</td>\n      <td>3.346</td>\n      <td>2022-10-09 11:34:18</td>\n      <td>100947978219073146</td>\n    </tr>\n    <tr>\n      <th>2729983</th>\n      <td>80573</td>\n      <td>2022-10-09 06:18:11</td>\n      <td>3282774</td>\n      <td>35.802494</td>\n      <td>51.362171</td>\n      <td>35.772793</td>\n      <td>51.409565</td>\n      <td>747</td>\n      <td>smapp-same-dc</td>\n      <td>978</td>\n      <td>...</td>\n      <td>0.006667</td>\n      <td>21.190001</td>\n      <td>1.000000</td>\n      <td>0.0</td>\n      <td>0.993333</td>\n      <td>1.000000</td>\n      <td>3.98</td>\n      <td>9.157</td>\n      <td>2022-10-09 06:53:49</td>\n      <td>2386757117456033695</td>\n    </tr>\n    <tr>\n      <th>2729984</th>\n      <td>409819</td>\n      <td>2022-10-09 18:09:08</td>\n      <td>218416</td>\n      <td>35.745148</td>\n      <td>51.398754</td>\n      <td>35.775940</td>\n      <td>51.348122</td>\n      <td>1041</td>\n      <td>smapp-same-dc</td>\n      <td>1672</td>\n      <td>...</td>\n      <td>0.005814</td>\n      <td>19.576000</td>\n      <td>1.000000</td>\n      <td>0.0</td>\n      <td>0.988372</td>\n      <td>1.000000</td>\n      <td>0.00</td>\n      <td>11.953</td>\n      <td>2022-10-09 18:40:16</td>\n      <td>16994287713772196650</td>\n    </tr>\n    <tr>\n      <th>2729985</th>\n      <td>3310304</td>\n      <td>2022-10-09 06:40:30</td>\n      <td>17568239</td>\n      <td>35.819561</td>\n      <td>51.492096</td>\n      <td>35.800598</td>\n      <td>51.520542</td>\n      <td>625</td>\n      <td>smapp-same-dc</td>\n      <td>652</td>\n      <td>...</td>\n      <td>0.015625</td>\n      <td>10.408000</td>\n      <td>1.000000</td>\n      <td>0.0</td>\n      <td>1.000000</td>\n      <td>1.000000</td>\n      <td>0.00</td>\n      <td>5.491</td>\n      <td>2022-10-09 06:56:14</td>\n      <td>16861595548882244180</td>\n    </tr>\n  </tbody>\n</table>\n<p>1002450 rows × 59 columns</p>\n</div>"
     },
     "execution_count": 7,
     "metadata": {},
     "output_type": "execute_result"
    }
   ],
   "source": [
    "rides_test_p2 = rides_test[(rides_test['eta'] >= 600) & (rides_test['eta'] < 1200)]\n",
    "rides_test_p2"
   ],
   "metadata": {
    "collapsed": false,
    "pycharm": {
     "name": "#%%\n"
    }
   }
  },
  {
   "cell_type": "markdown",
   "source": [
    "There are some duplicates in the data"
   ],
   "metadata": {
    "collapsed": false,
    "pycharm": {
     "name": "#%% md\n"
    }
   }
  },
  {
   "cell_type": "code",
   "execution_count": 8,
   "outputs": [
    {
     "data": {
      "text/plain": "1483456"
     },
     "execution_count": 8,
     "metadata": {},
     "output_type": "execute_result"
    }
   ],
   "source": [
    "rides_train_p2 = rides_train_p2.drop_duplicates(subset=['ride_id', 'ata'])\n",
    "len(rides_train_p2)"
   ],
   "metadata": {
    "collapsed": false,
    "pycharm": {
     "name": "#%%\n"
    }
   }
  },
  {
   "cell_type": "code",
   "execution_count": 9,
   "outputs": [
    {
     "data": {
      "text/plain": "1002411"
     },
     "execution_count": 9,
     "metadata": {},
     "output_type": "execute_result"
    }
   ],
   "source": [
    "rides_test_p2 = rides_test_p2.drop_duplicates(subset=['ride_id', 'ata'])\n",
    "len(rides_test_p2)"
   ],
   "metadata": {
    "collapsed": false,
    "pycharm": {
     "name": "#%%\n"
    }
   }
  },
  {
   "cell_type": "code",
   "execution_count": 10,
   "outputs": [
    {
     "data": {
      "text/plain": "       accepted_driver_id  passenger_id    source_lat    source_lng  \\\ncount        1.482198e+06  1.482198e+06  1.482198e+06  1.482198e+06   \nmean         1.804205e+06  2.171738e+07  3.571072e+01  5.140306e+01   \nstd          1.421937e+06  1.782715e+07  7.757467e-02  1.109245e-01   \nmin          0.000000e+00  3.200000e+01  3.517376e+01  5.090030e+01   \n25%          3.813600e+05  3.637001e+06  3.569078e+01  5.134870e+01   \n50%          1.621141e+06  2.039097e+07  3.572703e+01  5.140816e+01   \n75%          3.103450e+06  3.609751e+07  3.575837e+01  5.145697e+01   \nmax          4.330661e+06  5.737653e+07  3.583982e+01  5.279733e+01   \n\n       destination_lat  destination_lng           eta           ata  \\\ncount     1.482198e+06     1.482198e+06  1.482198e+06  1.482198e+06   \nmean      3.571117e+01     5.140223e+01  8.704163e+02  9.945292e+02   \nstd       7.747890e-02     1.114322e-01  1.703211e+02  3.867778e+02   \nmin       3.517174e+01     5.090020e+01  6.000000e+02  1.200000e+02   \n25%       3.569168e+01     5.134868e+01  7.220000e+02  7.510000e+02   \n50%       3.572750e+01     5.140788e+01  8.570000e+02  9.330000e+02   \n75%       3.575884e+01     5.145494e+01  1.011000e+03  1.155000e+03   \nmax       3.585350e+01     5.281633e+01  1.199000e+03  1.268200e+04   \n\n            ride_id       city  ...  pickup_a_d_d_result.route_ratio  \\\ncount  1.482198e+06  1482198.0  ...                     1.482198e+06   \nmean   4.822747e+09        1.0  ...                     1.524715e-04   \nstd    6.066049e+07        0.0  ...                     1.000942e-02   \nmin    4.714478e+09        1.0  ...                     0.000000e+00   \n25%    4.770465e+09        1.0  ...                     0.000000e+00   \n50%    4.824182e+09        1.0  ...                     0.000000e+00   \n75%    4.871744e+09        1.0  ...                     0.000000e+00   \nmax    4.933891e+09        1.0  ...                     1.000000e+00   \n\n       pickup_a_d_d_result.g_p_s_ratio  ride_a_d_d_result.distance  \\\ncount                     1.482198e+06                1.482198e+06   \nmean                      1.000983e-02                1.494397e+01   \nstd                       4.562369e-03                1.239521e+01   \nmin                       0.000000e+00                0.000000e+00   \n25%                       7.874016e-03                9.764000e+00   \n50%                       1.010101e-02                1.380700e+01   \n75%                       1.282051e-02                1.899400e+01   \nmax                       5.263158e-02                8.432877e+03   \n\n       ride_a_d_d_result.confidence  ride_a_d_d_result.route_ratio  \\\ncount                  1.482198e+06                   1.482198e+06   \nmean                   8.741344e-01                   3.600120e-05   \nstd                    1.732799e-01                   9.504525e-04   \nmin                    0.000000e+00                   0.000000e+00   \n25%                    8.024615e-01                   0.000000e+00   \n50%                    9.665777e-01                   0.000000e+00   \n75%                    1.000000e+00                   0.000000e+00   \nmax                    1.000000e+00                   1.383614e-01   \n\n       ride_a_d_d_result.g_p_s_ratio  total_a_d_d_confidence  \\\ncount                   1.482198e+06            1.482198e+06   \nmean                    7.462410e-01            8.820352e-01   \nstd                     3.313338e-01            1.645525e-01   \nmin                     0.000000e+00            0.000000e+00   \n25%                     5.672514e-01            8.243964e-01   \n50%                     9.295775e-01            9.665393e-01   \n75%                     9.905660e-01            1.000000e+00   \nmax                     1.000000e+00            1.000000e+00   \n\n       in_ride_allotment         e_d_d          hash  \ncount       1.482198e+06  1.482198e+06  1.482198e+06  \nmean        8.392331e-02  2.100558e+00  9.222813e+18  \nstd         6.122273e-01  4.110544e+00  5.321304e+18  \nmin         0.000000e+00  0.000000e+00  3.479688e+12  \n25%         0.000000e+00  0.000000e+00  4.620294e+18  \n50%         0.000000e+00  0.000000e+00  9.223497e+18  \n75%         0.000000e+00  0.000000e+00  1.383019e+19  \nmax         8.675999e+01  4.703500e+01  1.844674e+19  \n\n[8 rows x 52 columns]",
      "text/html": "<div>\n<style scoped>\n    .dataframe tbody tr th:only-of-type {\n        vertical-align: middle;\n    }\n\n    .dataframe tbody tr th {\n        vertical-align: top;\n    }\n\n    .dataframe thead th {\n        text-align: right;\n    }\n</style>\n<table border=\"1\" class=\"dataframe\">\n  <thead>\n    <tr style=\"text-align: right;\">\n      <th></th>\n      <th>accepted_driver_id</th>\n      <th>passenger_id</th>\n      <th>source_lat</th>\n      <th>source_lng</th>\n      <th>destination_lat</th>\n      <th>destination_lng</th>\n      <th>eta</th>\n      <th>ata</th>\n      <th>ride_id</th>\n      <th>city</th>\n      <th>...</th>\n      <th>pickup_a_d_d_result.route_ratio</th>\n      <th>pickup_a_d_d_result.g_p_s_ratio</th>\n      <th>ride_a_d_d_result.distance</th>\n      <th>ride_a_d_d_result.confidence</th>\n      <th>ride_a_d_d_result.route_ratio</th>\n      <th>ride_a_d_d_result.g_p_s_ratio</th>\n      <th>total_a_d_d_confidence</th>\n      <th>in_ride_allotment</th>\n      <th>e_d_d</th>\n      <th>hash</th>\n    </tr>\n  </thead>\n  <tbody>\n    <tr>\n      <th>count</th>\n      <td>1.482198e+06</td>\n      <td>1.482198e+06</td>\n      <td>1.482198e+06</td>\n      <td>1.482198e+06</td>\n      <td>1.482198e+06</td>\n      <td>1.482198e+06</td>\n      <td>1.482198e+06</td>\n      <td>1.482198e+06</td>\n      <td>1.482198e+06</td>\n      <td>1482198.0</td>\n      <td>...</td>\n      <td>1.482198e+06</td>\n      <td>1.482198e+06</td>\n      <td>1.482198e+06</td>\n      <td>1.482198e+06</td>\n      <td>1.482198e+06</td>\n      <td>1.482198e+06</td>\n      <td>1.482198e+06</td>\n      <td>1.482198e+06</td>\n      <td>1.482198e+06</td>\n      <td>1.482198e+06</td>\n    </tr>\n    <tr>\n      <th>mean</th>\n      <td>1.804205e+06</td>\n      <td>2.171738e+07</td>\n      <td>3.571072e+01</td>\n      <td>5.140306e+01</td>\n      <td>3.571117e+01</td>\n      <td>5.140223e+01</td>\n      <td>8.704163e+02</td>\n      <td>9.945292e+02</td>\n      <td>4.822747e+09</td>\n      <td>1.0</td>\n      <td>...</td>\n      <td>1.524715e-04</td>\n      <td>1.000983e-02</td>\n      <td>1.494397e+01</td>\n      <td>8.741344e-01</td>\n      <td>3.600120e-05</td>\n      <td>7.462410e-01</td>\n      <td>8.820352e-01</td>\n      <td>8.392331e-02</td>\n      <td>2.100558e+00</td>\n      <td>9.222813e+18</td>\n    </tr>\n    <tr>\n      <th>std</th>\n      <td>1.421937e+06</td>\n      <td>1.782715e+07</td>\n      <td>7.757467e-02</td>\n      <td>1.109245e-01</td>\n      <td>7.747890e-02</td>\n      <td>1.114322e-01</td>\n      <td>1.703211e+02</td>\n      <td>3.867778e+02</td>\n      <td>6.066049e+07</td>\n      <td>0.0</td>\n      <td>...</td>\n      <td>1.000942e-02</td>\n      <td>4.562369e-03</td>\n      <td>1.239521e+01</td>\n      <td>1.732799e-01</td>\n      <td>9.504525e-04</td>\n      <td>3.313338e-01</td>\n      <td>1.645525e-01</td>\n      <td>6.122273e-01</td>\n      <td>4.110544e+00</td>\n      <td>5.321304e+18</td>\n    </tr>\n    <tr>\n      <th>min</th>\n      <td>0.000000e+00</td>\n      <td>3.200000e+01</td>\n      <td>3.517376e+01</td>\n      <td>5.090030e+01</td>\n      <td>3.517174e+01</td>\n      <td>5.090020e+01</td>\n      <td>6.000000e+02</td>\n      <td>1.200000e+02</td>\n      <td>4.714478e+09</td>\n      <td>1.0</td>\n      <td>...</td>\n      <td>0.000000e+00</td>\n      <td>0.000000e+00</td>\n      <td>0.000000e+00</td>\n      <td>0.000000e+00</td>\n      <td>0.000000e+00</td>\n      <td>0.000000e+00</td>\n      <td>0.000000e+00</td>\n      <td>0.000000e+00</td>\n      <td>0.000000e+00</td>\n      <td>3.479688e+12</td>\n    </tr>\n    <tr>\n      <th>25%</th>\n      <td>3.813600e+05</td>\n      <td>3.637001e+06</td>\n      <td>3.569078e+01</td>\n      <td>5.134870e+01</td>\n      <td>3.569168e+01</td>\n      <td>5.134868e+01</td>\n      <td>7.220000e+02</td>\n      <td>7.510000e+02</td>\n      <td>4.770465e+09</td>\n      <td>1.0</td>\n      <td>...</td>\n      <td>0.000000e+00</td>\n      <td>7.874016e-03</td>\n      <td>9.764000e+00</td>\n      <td>8.024615e-01</td>\n      <td>0.000000e+00</td>\n      <td>5.672514e-01</td>\n      <td>8.243964e-01</td>\n      <td>0.000000e+00</td>\n      <td>0.000000e+00</td>\n      <td>4.620294e+18</td>\n    </tr>\n    <tr>\n      <th>50%</th>\n      <td>1.621141e+06</td>\n      <td>2.039097e+07</td>\n      <td>3.572703e+01</td>\n      <td>5.140816e+01</td>\n      <td>3.572750e+01</td>\n      <td>5.140788e+01</td>\n      <td>8.570000e+02</td>\n      <td>9.330000e+02</td>\n      <td>4.824182e+09</td>\n      <td>1.0</td>\n      <td>...</td>\n      <td>0.000000e+00</td>\n      <td>1.010101e-02</td>\n      <td>1.380700e+01</td>\n      <td>9.665777e-01</td>\n      <td>0.000000e+00</td>\n      <td>9.295775e-01</td>\n      <td>9.665393e-01</td>\n      <td>0.000000e+00</td>\n      <td>0.000000e+00</td>\n      <td>9.223497e+18</td>\n    </tr>\n    <tr>\n      <th>75%</th>\n      <td>3.103450e+06</td>\n      <td>3.609751e+07</td>\n      <td>3.575837e+01</td>\n      <td>5.145697e+01</td>\n      <td>3.575884e+01</td>\n      <td>5.145494e+01</td>\n      <td>1.011000e+03</td>\n      <td>1.155000e+03</td>\n      <td>4.871744e+09</td>\n      <td>1.0</td>\n      <td>...</td>\n      <td>0.000000e+00</td>\n      <td>1.282051e-02</td>\n      <td>1.899400e+01</td>\n      <td>1.000000e+00</td>\n      <td>0.000000e+00</td>\n      <td>9.905660e-01</td>\n      <td>1.000000e+00</td>\n      <td>0.000000e+00</td>\n      <td>0.000000e+00</td>\n      <td>1.383019e+19</td>\n    </tr>\n    <tr>\n      <th>max</th>\n      <td>4.330661e+06</td>\n      <td>5.737653e+07</td>\n      <td>3.583982e+01</td>\n      <td>5.279733e+01</td>\n      <td>3.585350e+01</td>\n      <td>5.281633e+01</td>\n      <td>1.199000e+03</td>\n      <td>1.268200e+04</td>\n      <td>4.933891e+09</td>\n      <td>1.0</td>\n      <td>...</td>\n      <td>1.000000e+00</td>\n      <td>5.263158e-02</td>\n      <td>8.432877e+03</td>\n      <td>1.000000e+00</td>\n      <td>1.383614e-01</td>\n      <td>1.000000e+00</td>\n      <td>1.000000e+00</td>\n      <td>8.675999e+01</td>\n      <td>4.703500e+01</td>\n      <td>1.844674e+19</td>\n    </tr>\n  </tbody>\n</table>\n<p>8 rows × 52 columns</p>\n</div>"
     },
     "execution_count": 10,
     "metadata": {},
     "output_type": "execute_result"
    }
   ],
   "source": [
    "rides_train_p2 = rides_train_p2[(rides_train_p2['a_t_a_result.ride_a_t_a'] > 180) &\n",
    "                                (rides_train_p2['a_t_a_result.ride_a_t_a'] < 10800)]\n",
    "rides_train_p2.describe()"
   ],
   "metadata": {
    "collapsed": false,
    "pycharm": {
     "name": "#%%\n"
    }
   }
  },
  {
   "cell_type": "code",
   "execution_count": 11,
   "outputs": [
    {
     "data": {
      "text/plain": "       accepted_driver_id  passenger_id     source_lat     source_lng  \\\ncount        9.065800e+05  9.065800e+05  906580.000000  906580.000000   \nmean         1.851133e+06  2.156039e+07      35.711987      51.403064   \nstd          1.433300e+06  1.779108e+07       0.076325       0.110533   \nmin          0.000000e+00  4.900000e+01      35.206142      50.900383   \n25%          4.078670e+05  3.549853e+06      35.692047      51.348618   \n50%          1.708776e+06  2.010816e+07      35.727703      51.408211   \n75%          3.178465e+06  3.590570e+07      35.758945      51.457214   \nmax          4.330661e+06  5.737538e+07      35.839825      52.793839   \n\n       destination_lat  destination_lng            eta            ata  \\\ncount    906580.000000    906580.000000  906580.000000  906580.000000   \nmean         35.712743        51.402181     869.374405    1013.314658   \nstd           0.076275         0.111088     170.274985     380.911892   \nmin          35.175785        50.900665     600.000000     120.000000   \n25%          35.692902        51.348824     721.000000     771.000000   \n50%          35.728825        51.407547     855.000000     952.000000   \n75%          35.759720        51.455956    1010.000000    1171.000000   \nmax          35.841194        52.791519    1199.000000   12682.000000   \n\n            ride_id      city  ...  pickup_a_d_d_result.route_ratio  \\\ncount  9.065800e+05  906580.0  ...                    906580.000000   \nmean   4.822600e+09       1.0  ...                         0.000071   \nstd    6.083004e+07       0.0  ...                         0.006356   \nmin    4.714478e+09       1.0  ...                         0.000000   \n25%    4.769845e+09       1.0  ...                         0.000000   \n50%    4.823460e+09       1.0  ...                         0.000000   \n75%    4.872254e+09       1.0  ...                         0.000000   \nmax    4.933891e+09       1.0  ...                         1.000000   \n\n       pickup_a_d_d_result.g_p_s_ratio  ride_a_d_d_result.distance  \\\ncount                    906580.000000               906580.000000   \nmean                          0.011114                   15.822600   \nstd                           0.003436                   11.349151   \nmin                           0.000935                    0.428000   \n25%                           0.008696                   10.688000   \n50%                           0.010638                   14.793000   \n75%                           0.013158                   19.950001   \nmax                           0.052632                 8432.876953   \n\n       ride_a_d_d_result.confidence  ride_a_d_d_result.route_ratio  \\\ncount                 906580.000000                  906580.000000   \nmean                       0.927236                       0.000021   \nstd                        0.130749                       0.000665   \nmin                        0.000000                       0.000000   \n25%                        0.925845                       0.000000   \n50%                        0.989349                       0.000000   \n75%                        1.000000                       0.000000   \nmax                        1.000000                       0.095434   \n\n       ride_a_d_d_result.g_p_s_ratio  total_a_d_d_confidence  \\\ncount                  906580.000000           906580.000000   \nmean                        0.860681                0.934179   \nstd                         0.238079                0.115209   \nmin                         0.006472                0.000000   \n25%                         0.850467                0.924569   \n50%                         0.975806                0.988141   \n75%                         1.000000                1.000000   \nmax                         1.000000                1.000000   \n\n       in_ride_allotment          e_d_d          hash  \ncount      906580.000000  906580.000000  9.065800e+05  \nmean            0.090931       2.137494  9.221702e+18  \nstd             0.632849       4.146516  5.321024e+18  \nmin             0.000000       0.000000  3.479688e+12  \n25%             0.000000       0.000000  4.621696e+18  \n50%             0.000000       0.000000  9.223621e+18  \n75%             0.000000       0.000000  1.382726e+19  \nmax            26.954994      47.035000  1.844672e+19  \n\n[8 rows x 52 columns]",
      "text/html": "<div>\n<style scoped>\n    .dataframe tbody tr th:only-of-type {\n        vertical-align: middle;\n    }\n\n    .dataframe tbody tr th {\n        vertical-align: top;\n    }\n\n    .dataframe thead th {\n        text-align: right;\n    }\n</style>\n<table border=\"1\" class=\"dataframe\">\n  <thead>\n    <tr style=\"text-align: right;\">\n      <th></th>\n      <th>accepted_driver_id</th>\n      <th>passenger_id</th>\n      <th>source_lat</th>\n      <th>source_lng</th>\n      <th>destination_lat</th>\n      <th>destination_lng</th>\n      <th>eta</th>\n      <th>ata</th>\n      <th>ride_id</th>\n      <th>city</th>\n      <th>...</th>\n      <th>pickup_a_d_d_result.route_ratio</th>\n      <th>pickup_a_d_d_result.g_p_s_ratio</th>\n      <th>ride_a_d_d_result.distance</th>\n      <th>ride_a_d_d_result.confidence</th>\n      <th>ride_a_d_d_result.route_ratio</th>\n      <th>ride_a_d_d_result.g_p_s_ratio</th>\n      <th>total_a_d_d_confidence</th>\n      <th>in_ride_allotment</th>\n      <th>e_d_d</th>\n      <th>hash</th>\n    </tr>\n  </thead>\n  <tbody>\n    <tr>\n      <th>count</th>\n      <td>9.065800e+05</td>\n      <td>9.065800e+05</td>\n      <td>906580.000000</td>\n      <td>906580.000000</td>\n      <td>906580.000000</td>\n      <td>906580.000000</td>\n      <td>906580.000000</td>\n      <td>906580.000000</td>\n      <td>9.065800e+05</td>\n      <td>906580.0</td>\n      <td>...</td>\n      <td>906580.000000</td>\n      <td>906580.000000</td>\n      <td>906580.000000</td>\n      <td>906580.000000</td>\n      <td>906580.000000</td>\n      <td>906580.000000</td>\n      <td>906580.000000</td>\n      <td>906580.000000</td>\n      <td>906580.000000</td>\n      <td>9.065800e+05</td>\n    </tr>\n    <tr>\n      <th>mean</th>\n      <td>1.851133e+06</td>\n      <td>2.156039e+07</td>\n      <td>35.711987</td>\n      <td>51.403064</td>\n      <td>35.712743</td>\n      <td>51.402181</td>\n      <td>869.374405</td>\n      <td>1013.314658</td>\n      <td>4.822600e+09</td>\n      <td>1.0</td>\n      <td>...</td>\n      <td>0.000071</td>\n      <td>0.011114</td>\n      <td>15.822600</td>\n      <td>0.927236</td>\n      <td>0.000021</td>\n      <td>0.860681</td>\n      <td>0.934179</td>\n      <td>0.090931</td>\n      <td>2.137494</td>\n      <td>9.221702e+18</td>\n    </tr>\n    <tr>\n      <th>std</th>\n      <td>1.433300e+06</td>\n      <td>1.779108e+07</td>\n      <td>0.076325</td>\n      <td>0.110533</td>\n      <td>0.076275</td>\n      <td>0.111088</td>\n      <td>170.274985</td>\n      <td>380.911892</td>\n      <td>6.083004e+07</td>\n      <td>0.0</td>\n      <td>...</td>\n      <td>0.006356</td>\n      <td>0.003436</td>\n      <td>11.349151</td>\n      <td>0.130749</td>\n      <td>0.000665</td>\n      <td>0.238079</td>\n      <td>0.115209</td>\n      <td>0.632849</td>\n      <td>4.146516</td>\n      <td>5.321024e+18</td>\n    </tr>\n    <tr>\n      <th>min</th>\n      <td>0.000000e+00</td>\n      <td>4.900000e+01</td>\n      <td>35.206142</td>\n      <td>50.900383</td>\n      <td>35.175785</td>\n      <td>50.900665</td>\n      <td>600.000000</td>\n      <td>120.000000</td>\n      <td>4.714478e+09</td>\n      <td>1.0</td>\n      <td>...</td>\n      <td>0.000000</td>\n      <td>0.000935</td>\n      <td>0.428000</td>\n      <td>0.000000</td>\n      <td>0.000000</td>\n      <td>0.006472</td>\n      <td>0.000000</td>\n      <td>0.000000</td>\n      <td>0.000000</td>\n      <td>3.479688e+12</td>\n    </tr>\n    <tr>\n      <th>25%</th>\n      <td>4.078670e+05</td>\n      <td>3.549853e+06</td>\n      <td>35.692047</td>\n      <td>51.348618</td>\n      <td>35.692902</td>\n      <td>51.348824</td>\n      <td>721.000000</td>\n      <td>771.000000</td>\n      <td>4.769845e+09</td>\n      <td>1.0</td>\n      <td>...</td>\n      <td>0.000000</td>\n      <td>0.008696</td>\n      <td>10.688000</td>\n      <td>0.925845</td>\n      <td>0.000000</td>\n      <td>0.850467</td>\n      <td>0.924569</td>\n      <td>0.000000</td>\n      <td>0.000000</td>\n      <td>4.621696e+18</td>\n    </tr>\n    <tr>\n      <th>50%</th>\n      <td>1.708776e+06</td>\n      <td>2.010816e+07</td>\n      <td>35.727703</td>\n      <td>51.408211</td>\n      <td>35.728825</td>\n      <td>51.407547</td>\n      <td>855.000000</td>\n      <td>952.000000</td>\n      <td>4.823460e+09</td>\n      <td>1.0</td>\n      <td>...</td>\n      <td>0.000000</td>\n      <td>0.010638</td>\n      <td>14.793000</td>\n      <td>0.989349</td>\n      <td>0.000000</td>\n      <td>0.975806</td>\n      <td>0.988141</td>\n      <td>0.000000</td>\n      <td>0.000000</td>\n      <td>9.223621e+18</td>\n    </tr>\n    <tr>\n      <th>75%</th>\n      <td>3.178465e+06</td>\n      <td>3.590570e+07</td>\n      <td>35.758945</td>\n      <td>51.457214</td>\n      <td>35.759720</td>\n      <td>51.455956</td>\n      <td>1010.000000</td>\n      <td>1171.000000</td>\n      <td>4.872254e+09</td>\n      <td>1.0</td>\n      <td>...</td>\n      <td>0.000000</td>\n      <td>0.013158</td>\n      <td>19.950001</td>\n      <td>1.000000</td>\n      <td>0.000000</td>\n      <td>1.000000</td>\n      <td>1.000000</td>\n      <td>0.000000</td>\n      <td>0.000000</td>\n      <td>1.382726e+19</td>\n    </tr>\n    <tr>\n      <th>max</th>\n      <td>4.330661e+06</td>\n      <td>5.737538e+07</td>\n      <td>35.839825</td>\n      <td>52.793839</td>\n      <td>35.841194</td>\n      <td>52.791519</td>\n      <td>1199.000000</td>\n      <td>12682.000000</td>\n      <td>4.933891e+09</td>\n      <td>1.0</td>\n      <td>...</td>\n      <td>1.000000</td>\n      <td>0.052632</td>\n      <td>8432.876953</td>\n      <td>1.000000</td>\n      <td>0.095434</td>\n      <td>1.000000</td>\n      <td>1.000000</td>\n      <td>26.954994</td>\n      <td>47.035000</td>\n      <td>1.844672e+19</td>\n    </tr>\n  </tbody>\n</table>\n<p>8 rows × 52 columns</p>\n</div>"
     },
     "execution_count": 11,
     "metadata": {},
     "output_type": "execute_result"
    }
   ],
   "source": [
    "rides_train_p2 = rides_train_p2[(rides_train_p2['a_t_a_result.destination_probe_result.confidence'] > 0) & (rides_train_p2['a_t_a_result.boarding_probe_result.confidence'] > 0)]\n",
    "rides_train_p2.describe()"
   ],
   "metadata": {
    "collapsed": false,
    "pycharm": {
     "name": "#%%\n"
    }
   }
  },
  {
   "cell_type": "code",
   "execution_count": 12,
   "outputs": [
    {
     "data": {
      "text/plain": "       accepted_driver_id  passenger_id     source_lat     source_lng  \\\ncount        6.222270e+05  6.222270e+05  622227.000000  622227.000000   \nmean         1.906119e+06  2.208102e+07      35.709644      51.403075   \nstd          1.470427e+06  1.803681e+07       0.078239       0.112598   \nmin          0.000000e+00  1.700000e+01      35.186165      50.900536   \n25%          4.254060e+05  3.765864e+06      35.689022      51.347374   \n50%          1.773074e+06  2.087629e+07      35.726734      51.407803   \n75%          3.261491e+06  3.649175e+07      35.758026      51.458729   \nmax          4.422059e+06  5.813857e+07      35.839855      52.778404   \n\n       destination_lat  destination_lng            eta            ata  \\\ncount    622227.000000    622227.000000  622227.000000  622227.000000   \nmean         35.710542        51.402358     867.782197    1012.403205   \nstd           0.078295         0.113354     169.791134     394.066216   \nmin          35.183189        50.871979     600.000000     120.000000   \n25%          35.690048        51.348095     720.000000     768.000000   \n50%          35.727859        51.407433     853.000000     947.000000   \n75%          35.759079        51.457523    1007.000000    1164.000000   \nmax          35.843197        52.797073    1199.000000   12334.000000   \n\n            ride_id      city  ...  pickup_a_d_d_result.route_ratio  \\\ncount  6.222270e+05  622227.0  ...                    622227.000000   \nmean   5.010023e+09       1.0  ...                         0.000069   \nstd    4.369267e+07       0.0  ...                         0.006185   \nmin    4.933925e+09       1.0  ...                         0.000000   \n25%    4.972128e+09       1.0  ...                         0.000000   \n50%    5.011286e+09       1.0  ...                         0.000000   \n75%    5.048147e+09       1.0  ...                         0.000000   \nmax    5.083647e+09       1.0  ...                         1.000000   \n\n       pickup_a_d_d_result.g_p_s_ratio  ride_a_d_d_result.distance  \\\ncount                    622227.000000               622227.000000   \nmean                          0.011174                   16.309521   \nstd                           0.003598                    8.096030   \nmin                           0.000650                    0.000000   \n25%                           0.008772                   11.013731   \n50%                           0.010753                   15.284000   \n75%                           0.013158                   20.614000   \nmax                           0.500000                 2599.429199   \n\n       ride_a_d_d_result.confidence  ride_a_d_d_result.route_ratio  \\\ncount                 622227.000000                  622227.000000   \nmean                       0.929128                       0.000019   \nstd                        0.129124                       0.000634   \nmin                        0.000000                       0.000000   \n25%                        0.929770                       0.000000   \n50%                        0.990241                       0.000000   \n75%                        1.000000                       0.000000   \nmax                        1.000000                       0.132202   \n\n       ride_a_d_d_result.g_p_s_ratio  total_a_d_d_confidence  \\\ncount                  622227.000000           622227.000000   \nmean                        0.867449                0.935625   \nstd                         0.234847                0.113758   \nmin                         0.004914                0.000000   \n25%                         0.865546                0.927801   \n50%                         0.979452                0.988894   \n75%                         1.000000                1.000000   \nmax                         1.000000                1.000000   \n\n       in_ride_allotment          e_d_d          hash  \ncount      622227.000000  622227.000000  6.222270e+05  \nmean            0.024346       9.060947  9.223734e+18  \nstd             0.237764       3.636680  5.324037e+18  \nmin             0.000000       0.362000  1.497174e+13  \n25%             0.000000       6.286000  4.610225e+18  \n50%             0.000000       8.550000  9.216589e+18  \n75%             0.000000      11.335000  1.383342e+19  \nmax            55.098999      56.626999  1.844674e+19  \n\n[8 rows x 52 columns]",
      "text/html": "<div>\n<style scoped>\n    .dataframe tbody tr th:only-of-type {\n        vertical-align: middle;\n    }\n\n    .dataframe tbody tr th {\n        vertical-align: top;\n    }\n\n    .dataframe thead th {\n        text-align: right;\n    }\n</style>\n<table border=\"1\" class=\"dataframe\">\n  <thead>\n    <tr style=\"text-align: right;\">\n      <th></th>\n      <th>accepted_driver_id</th>\n      <th>passenger_id</th>\n      <th>source_lat</th>\n      <th>source_lng</th>\n      <th>destination_lat</th>\n      <th>destination_lng</th>\n      <th>eta</th>\n      <th>ata</th>\n      <th>ride_id</th>\n      <th>city</th>\n      <th>...</th>\n      <th>pickup_a_d_d_result.route_ratio</th>\n      <th>pickup_a_d_d_result.g_p_s_ratio</th>\n      <th>ride_a_d_d_result.distance</th>\n      <th>ride_a_d_d_result.confidence</th>\n      <th>ride_a_d_d_result.route_ratio</th>\n      <th>ride_a_d_d_result.g_p_s_ratio</th>\n      <th>total_a_d_d_confidence</th>\n      <th>in_ride_allotment</th>\n      <th>e_d_d</th>\n      <th>hash</th>\n    </tr>\n  </thead>\n  <tbody>\n    <tr>\n      <th>count</th>\n      <td>6.222270e+05</td>\n      <td>6.222270e+05</td>\n      <td>622227.000000</td>\n      <td>622227.000000</td>\n      <td>622227.000000</td>\n      <td>622227.000000</td>\n      <td>622227.000000</td>\n      <td>622227.000000</td>\n      <td>6.222270e+05</td>\n      <td>622227.0</td>\n      <td>...</td>\n      <td>622227.000000</td>\n      <td>622227.000000</td>\n      <td>622227.000000</td>\n      <td>622227.000000</td>\n      <td>622227.000000</td>\n      <td>622227.000000</td>\n      <td>622227.000000</td>\n      <td>622227.000000</td>\n      <td>622227.000000</td>\n      <td>6.222270e+05</td>\n    </tr>\n    <tr>\n      <th>mean</th>\n      <td>1.906119e+06</td>\n      <td>2.208102e+07</td>\n      <td>35.709644</td>\n      <td>51.403075</td>\n      <td>35.710542</td>\n      <td>51.402358</td>\n      <td>867.782197</td>\n      <td>1012.403205</td>\n      <td>5.010023e+09</td>\n      <td>1.0</td>\n      <td>...</td>\n      <td>0.000069</td>\n      <td>0.011174</td>\n      <td>16.309521</td>\n      <td>0.929128</td>\n      <td>0.000019</td>\n      <td>0.867449</td>\n      <td>0.935625</td>\n      <td>0.024346</td>\n      <td>9.060947</td>\n      <td>9.223734e+18</td>\n    </tr>\n    <tr>\n      <th>std</th>\n      <td>1.470427e+06</td>\n      <td>1.803681e+07</td>\n      <td>0.078239</td>\n      <td>0.112598</td>\n      <td>0.078295</td>\n      <td>0.113354</td>\n      <td>169.791134</td>\n      <td>394.066216</td>\n      <td>4.369267e+07</td>\n      <td>0.0</td>\n      <td>...</td>\n      <td>0.006185</td>\n      <td>0.003598</td>\n      <td>8.096030</td>\n      <td>0.129124</td>\n      <td>0.000634</td>\n      <td>0.234847</td>\n      <td>0.113758</td>\n      <td>0.237764</td>\n      <td>3.636680</td>\n      <td>5.324037e+18</td>\n    </tr>\n    <tr>\n      <th>min</th>\n      <td>0.000000e+00</td>\n      <td>1.700000e+01</td>\n      <td>35.186165</td>\n      <td>50.900536</td>\n      <td>35.183189</td>\n      <td>50.871979</td>\n      <td>600.000000</td>\n      <td>120.000000</td>\n      <td>4.933925e+09</td>\n      <td>1.0</td>\n      <td>...</td>\n      <td>0.000000</td>\n      <td>0.000650</td>\n      <td>0.000000</td>\n      <td>0.000000</td>\n      <td>0.000000</td>\n      <td>0.004914</td>\n      <td>0.000000</td>\n      <td>0.000000</td>\n      <td>0.362000</td>\n      <td>1.497174e+13</td>\n    </tr>\n    <tr>\n      <th>25%</th>\n      <td>4.254060e+05</td>\n      <td>3.765864e+06</td>\n      <td>35.689022</td>\n      <td>51.347374</td>\n      <td>35.690048</td>\n      <td>51.348095</td>\n      <td>720.000000</td>\n      <td>768.000000</td>\n      <td>4.972128e+09</td>\n      <td>1.0</td>\n      <td>...</td>\n      <td>0.000000</td>\n      <td>0.008772</td>\n      <td>11.013731</td>\n      <td>0.929770</td>\n      <td>0.000000</td>\n      <td>0.865546</td>\n      <td>0.927801</td>\n      <td>0.000000</td>\n      <td>6.286000</td>\n      <td>4.610225e+18</td>\n    </tr>\n    <tr>\n      <th>50%</th>\n      <td>1.773074e+06</td>\n      <td>2.087629e+07</td>\n      <td>35.726734</td>\n      <td>51.407803</td>\n      <td>35.727859</td>\n      <td>51.407433</td>\n      <td>853.000000</td>\n      <td>947.000000</td>\n      <td>5.011286e+09</td>\n      <td>1.0</td>\n      <td>...</td>\n      <td>0.000000</td>\n      <td>0.010753</td>\n      <td>15.284000</td>\n      <td>0.990241</td>\n      <td>0.000000</td>\n      <td>0.979452</td>\n      <td>0.988894</td>\n      <td>0.000000</td>\n      <td>8.550000</td>\n      <td>9.216589e+18</td>\n    </tr>\n    <tr>\n      <th>75%</th>\n      <td>3.261491e+06</td>\n      <td>3.649175e+07</td>\n      <td>35.758026</td>\n      <td>51.458729</td>\n      <td>35.759079</td>\n      <td>51.457523</td>\n      <td>1007.000000</td>\n      <td>1164.000000</td>\n      <td>5.048147e+09</td>\n      <td>1.0</td>\n      <td>...</td>\n      <td>0.000000</td>\n      <td>0.013158</td>\n      <td>20.614000</td>\n      <td>1.000000</td>\n      <td>0.000000</td>\n      <td>1.000000</td>\n      <td>1.000000</td>\n      <td>0.000000</td>\n      <td>11.335000</td>\n      <td>1.383342e+19</td>\n    </tr>\n    <tr>\n      <th>max</th>\n      <td>4.422059e+06</td>\n      <td>5.813857e+07</td>\n      <td>35.839855</td>\n      <td>52.778404</td>\n      <td>35.843197</td>\n      <td>52.797073</td>\n      <td>1199.000000</td>\n      <td>12334.000000</td>\n      <td>5.083647e+09</td>\n      <td>1.0</td>\n      <td>...</td>\n      <td>1.000000</td>\n      <td>0.500000</td>\n      <td>2599.429199</td>\n      <td>1.000000</td>\n      <td>0.132202</td>\n      <td>1.000000</td>\n      <td>1.000000</td>\n      <td>55.098999</td>\n      <td>56.626999</td>\n      <td>1.844674e+19</td>\n    </tr>\n  </tbody>\n</table>\n<p>8 rows × 52 columns</p>\n</div>"
     },
     "execution_count": 12,
     "metadata": {},
     "output_type": "execute_result"
    }
   ],
   "source": [
    "rides_test_p2 = rides_test_p2[(rides_test_p2['a_t_a_result.destination_probe_result.confidence'] > 0) & (rides_test_p2['a_t_a_result.boarding_probe_result.confidence'] > 0)]\n",
    "rides_test_p2.describe()"
   ],
   "metadata": {
    "collapsed": false,
    "pycharm": {
     "name": "#%%\n"
    }
   }
  },
  {
   "cell_type": "code",
   "execution_count": 13,
   "outputs": [
    {
     "data": {
      "text/plain": "          eta   ata  a_t_a_result.ride_a_t_a           created_at  source_lat  \\\n2         759   604                      576  2022-08-02 09:54:15   35.779682   \n19       1088  1324                     1436  2022-08-02 06:55:51   35.668488   \n24        930  1637                     1327  2022-08-02 09:55:29   35.743820   \n27        783   982                      956  2022-08-02 19:58:17   35.753742   \n32        888   843                      810  2022-08-02 21:13:47   35.638977   \n...       ...   ...                      ...                  ...         ...   \n4063322  1140  4362                     4332  2022-09-10 17:12:02   35.675362   \n4063323   995   951                     1116  2022-09-10 22:35:28   35.682247   \n4063328  1187  1503                     1476  2022-09-10 06:46:01   35.736115   \n4063329   631   811                      634  2022-09-10 14:24:21   35.783543   \n4063333   781  1271                     1139  2022-09-10 14:42:19   35.695030   \n\n         source_lng  destination_lat  destination_lng      e_d_d  \\\n2         51.418243        35.759449        51.411560   0.000000   \n19        51.471096        35.737984        51.507107   0.000000   \n24        51.465885        35.758488        51.441872   0.000000   \n27        51.367241        35.735798        51.405380   0.000000   \n32        51.334576        35.671574        51.302036   0.000000   \n...             ...              ...              ...        ...   \n4063322   51.467590        35.727814        51.416153  23.992001   \n4063323   51.462456        35.641071        51.500271  10.609000   \n4063328   51.313038        35.758835        51.443092  17.391001   \n4063329   51.381916        35.802864        51.403702   6.729000   \n4063333   51.254135        35.716125        51.285088  12.272000   \n\n             clickhouse_time  \n2        2022-08-02 10:08:24  \n19       2022-08-02 07:28:51  \n24       2022-08-02 10:30:20  \n27       2022-08-02 20:23:58  \n32       2022-08-02 21:32:32  \n...                      ...  \n4063322  2022-09-10 18:29:51  \n4063323  2022-09-10 23:01:50  \n4063328  2022-09-10 07:19:37  \n4063329  2022-09-10 14:42:34  \n4063333  2022-09-10 15:08:30  \n\n[906580 rows x 10 columns]",
      "text/html": "<div>\n<style scoped>\n    .dataframe tbody tr th:only-of-type {\n        vertical-align: middle;\n    }\n\n    .dataframe tbody tr th {\n        vertical-align: top;\n    }\n\n    .dataframe thead th {\n        text-align: right;\n    }\n</style>\n<table border=\"1\" class=\"dataframe\">\n  <thead>\n    <tr style=\"text-align: right;\">\n      <th></th>\n      <th>eta</th>\n      <th>ata</th>\n      <th>a_t_a_result.ride_a_t_a</th>\n      <th>created_at</th>\n      <th>source_lat</th>\n      <th>source_lng</th>\n      <th>destination_lat</th>\n      <th>destination_lng</th>\n      <th>e_d_d</th>\n      <th>clickhouse_time</th>\n    </tr>\n  </thead>\n  <tbody>\n    <tr>\n      <th>2</th>\n      <td>759</td>\n      <td>604</td>\n      <td>576</td>\n      <td>2022-08-02 09:54:15</td>\n      <td>35.779682</td>\n      <td>51.418243</td>\n      <td>35.759449</td>\n      <td>51.411560</td>\n      <td>0.000000</td>\n      <td>2022-08-02 10:08:24</td>\n    </tr>\n    <tr>\n      <th>19</th>\n      <td>1088</td>\n      <td>1324</td>\n      <td>1436</td>\n      <td>2022-08-02 06:55:51</td>\n      <td>35.668488</td>\n      <td>51.471096</td>\n      <td>35.737984</td>\n      <td>51.507107</td>\n      <td>0.000000</td>\n      <td>2022-08-02 07:28:51</td>\n    </tr>\n    <tr>\n      <th>24</th>\n      <td>930</td>\n      <td>1637</td>\n      <td>1327</td>\n      <td>2022-08-02 09:55:29</td>\n      <td>35.743820</td>\n      <td>51.465885</td>\n      <td>35.758488</td>\n      <td>51.441872</td>\n      <td>0.000000</td>\n      <td>2022-08-02 10:30:20</td>\n    </tr>\n    <tr>\n      <th>27</th>\n      <td>783</td>\n      <td>982</td>\n      <td>956</td>\n      <td>2022-08-02 19:58:17</td>\n      <td>35.753742</td>\n      <td>51.367241</td>\n      <td>35.735798</td>\n      <td>51.405380</td>\n      <td>0.000000</td>\n      <td>2022-08-02 20:23:58</td>\n    </tr>\n    <tr>\n      <th>32</th>\n      <td>888</td>\n      <td>843</td>\n      <td>810</td>\n      <td>2022-08-02 21:13:47</td>\n      <td>35.638977</td>\n      <td>51.334576</td>\n      <td>35.671574</td>\n      <td>51.302036</td>\n      <td>0.000000</td>\n      <td>2022-08-02 21:32:32</td>\n    </tr>\n    <tr>\n      <th>...</th>\n      <td>...</td>\n      <td>...</td>\n      <td>...</td>\n      <td>...</td>\n      <td>...</td>\n      <td>...</td>\n      <td>...</td>\n      <td>...</td>\n      <td>...</td>\n      <td>...</td>\n    </tr>\n    <tr>\n      <th>4063322</th>\n      <td>1140</td>\n      <td>4362</td>\n      <td>4332</td>\n      <td>2022-09-10 17:12:02</td>\n      <td>35.675362</td>\n      <td>51.467590</td>\n      <td>35.727814</td>\n      <td>51.416153</td>\n      <td>23.992001</td>\n      <td>2022-09-10 18:29:51</td>\n    </tr>\n    <tr>\n      <th>4063323</th>\n      <td>995</td>\n      <td>951</td>\n      <td>1116</td>\n      <td>2022-09-10 22:35:28</td>\n      <td>35.682247</td>\n      <td>51.462456</td>\n      <td>35.641071</td>\n      <td>51.500271</td>\n      <td>10.609000</td>\n      <td>2022-09-10 23:01:50</td>\n    </tr>\n    <tr>\n      <th>4063328</th>\n      <td>1187</td>\n      <td>1503</td>\n      <td>1476</td>\n      <td>2022-09-10 06:46:01</td>\n      <td>35.736115</td>\n      <td>51.313038</td>\n      <td>35.758835</td>\n      <td>51.443092</td>\n      <td>17.391001</td>\n      <td>2022-09-10 07:19:37</td>\n    </tr>\n    <tr>\n      <th>4063329</th>\n      <td>631</td>\n      <td>811</td>\n      <td>634</td>\n      <td>2022-09-10 14:24:21</td>\n      <td>35.783543</td>\n      <td>51.381916</td>\n      <td>35.802864</td>\n      <td>51.403702</td>\n      <td>6.729000</td>\n      <td>2022-09-10 14:42:34</td>\n    </tr>\n    <tr>\n      <th>4063333</th>\n      <td>781</td>\n      <td>1271</td>\n      <td>1139</td>\n      <td>2022-09-10 14:42:19</td>\n      <td>35.695030</td>\n      <td>51.254135</td>\n      <td>35.716125</td>\n      <td>51.285088</td>\n      <td>12.272000</td>\n      <td>2022-09-10 15:08:30</td>\n    </tr>\n  </tbody>\n</table>\n<p>906580 rows × 10 columns</p>\n</div>"
     },
     "execution_count": 13,
     "metadata": {},
     "output_type": "execute_result"
    }
   ],
   "source": [
    "rides_train_p2 = rides_train_p2[['eta', 'ata', 'a_t_a_result.ride_a_t_a', 'created_at', 'source_lat', 'source_lng', 'destination_lat', 'destination_lng', 'e_d_d', 'clickhouse_time']]\n",
    "rides_train_p2"
   ],
   "metadata": {
    "collapsed": false,
    "pycharm": {
     "name": "#%%\n"
    }
   }
  },
  {
   "cell_type": "code",
   "execution_count": 14,
   "outputs": [
    {
     "data": {
      "text/plain": "          eta   ata  a_t_a_result.ride_a_t_a           created_at  source_lat  \\\n3        1067  1095                     1072  2022-09-11 22:11:05   35.442017   \n8         767   815                      696  2022-09-11 08:47:42   35.737583   \n10        798   826                      772  2022-09-11 12:47:43   35.735069   \n13        745   768                      736  2022-09-11 16:02:11   35.712906   \n16       1088  2192                     2203  2022-09-11 07:40:03   35.731453   \n...       ...   ...                      ...                  ...         ...   \n2729969  1118   871                      855  2022-10-09 20:28:09   35.717136   \n2729974  1027   832                      980  2022-10-09 16:25:23   35.759262   \n2729983   747   978                     1500  2022-10-09 06:18:11   35.802494   \n2729984  1041  1672                     1717  2022-10-09 18:09:08   35.745148   \n2729985   625   652                      632  2022-10-09 06:40:30   35.819561   \n\n         source_lng  destination_lat  destination_lng   e_d_d  \\\n3         51.564331        35.461838        51.656166  11.072   \n8         51.817417        35.716343        51.786205   7.461   \n10        51.860020        35.737427        51.817623   7.522   \n13        51.367687        35.759655        51.376125   7.483   \n16        51.521435        35.752289        51.441925  13.943   \n...             ...              ...              ...     ...   \n2729969   51.331192        35.775993        51.331837   9.915   \n2729974   51.329350        35.726742        51.324627   6.720   \n2729983   51.362171        35.772793        51.409565   9.157   \n2729984   51.398754        35.775940        51.348122  11.953   \n2729985   51.492096        35.800598        51.520542   5.491   \n\n             clickhouse_time  \n3        2022-09-11 22:35:23  \n8        2022-09-11 09:05:35  \n10       2022-09-11 13:04:42  \n13       2022-09-11 16:49:31  \n16       2022-09-11 08:20:56  \n...                      ...  \n2729969  2022-10-09 20:49:39  \n2729974  2022-10-09 16:49:19  \n2729983  2022-10-09 06:53:49  \n2729984  2022-10-09 18:40:16  \n2729985  2022-10-09 06:56:14  \n\n[622227 rows x 10 columns]",
      "text/html": "<div>\n<style scoped>\n    .dataframe tbody tr th:only-of-type {\n        vertical-align: middle;\n    }\n\n    .dataframe tbody tr th {\n        vertical-align: top;\n    }\n\n    .dataframe thead th {\n        text-align: right;\n    }\n</style>\n<table border=\"1\" class=\"dataframe\">\n  <thead>\n    <tr style=\"text-align: right;\">\n      <th></th>\n      <th>eta</th>\n      <th>ata</th>\n      <th>a_t_a_result.ride_a_t_a</th>\n      <th>created_at</th>\n      <th>source_lat</th>\n      <th>source_lng</th>\n      <th>destination_lat</th>\n      <th>destination_lng</th>\n      <th>e_d_d</th>\n      <th>clickhouse_time</th>\n    </tr>\n  </thead>\n  <tbody>\n    <tr>\n      <th>3</th>\n      <td>1067</td>\n      <td>1095</td>\n      <td>1072</td>\n      <td>2022-09-11 22:11:05</td>\n      <td>35.442017</td>\n      <td>51.564331</td>\n      <td>35.461838</td>\n      <td>51.656166</td>\n      <td>11.072</td>\n      <td>2022-09-11 22:35:23</td>\n    </tr>\n    <tr>\n      <th>8</th>\n      <td>767</td>\n      <td>815</td>\n      <td>696</td>\n      <td>2022-09-11 08:47:42</td>\n      <td>35.737583</td>\n      <td>51.817417</td>\n      <td>35.716343</td>\n      <td>51.786205</td>\n      <td>7.461</td>\n      <td>2022-09-11 09:05:35</td>\n    </tr>\n    <tr>\n      <th>10</th>\n      <td>798</td>\n      <td>826</td>\n      <td>772</td>\n      <td>2022-09-11 12:47:43</td>\n      <td>35.735069</td>\n      <td>51.860020</td>\n      <td>35.737427</td>\n      <td>51.817623</td>\n      <td>7.522</td>\n      <td>2022-09-11 13:04:42</td>\n    </tr>\n    <tr>\n      <th>13</th>\n      <td>745</td>\n      <td>768</td>\n      <td>736</td>\n      <td>2022-09-11 16:02:11</td>\n      <td>35.712906</td>\n      <td>51.367687</td>\n      <td>35.759655</td>\n      <td>51.376125</td>\n      <td>7.483</td>\n      <td>2022-09-11 16:49:31</td>\n    </tr>\n    <tr>\n      <th>16</th>\n      <td>1088</td>\n      <td>2192</td>\n      <td>2203</td>\n      <td>2022-09-11 07:40:03</td>\n      <td>35.731453</td>\n      <td>51.521435</td>\n      <td>35.752289</td>\n      <td>51.441925</td>\n      <td>13.943</td>\n      <td>2022-09-11 08:20:56</td>\n    </tr>\n    <tr>\n      <th>...</th>\n      <td>...</td>\n      <td>...</td>\n      <td>...</td>\n      <td>...</td>\n      <td>...</td>\n      <td>...</td>\n      <td>...</td>\n      <td>...</td>\n      <td>...</td>\n      <td>...</td>\n    </tr>\n    <tr>\n      <th>2729969</th>\n      <td>1118</td>\n      <td>871</td>\n      <td>855</td>\n      <td>2022-10-09 20:28:09</td>\n      <td>35.717136</td>\n      <td>51.331192</td>\n      <td>35.775993</td>\n      <td>51.331837</td>\n      <td>9.915</td>\n      <td>2022-10-09 20:49:39</td>\n    </tr>\n    <tr>\n      <th>2729974</th>\n      <td>1027</td>\n      <td>832</td>\n      <td>980</td>\n      <td>2022-10-09 16:25:23</td>\n      <td>35.759262</td>\n      <td>51.329350</td>\n      <td>35.726742</td>\n      <td>51.324627</td>\n      <td>6.720</td>\n      <td>2022-10-09 16:49:19</td>\n    </tr>\n    <tr>\n      <th>2729983</th>\n      <td>747</td>\n      <td>978</td>\n      <td>1500</td>\n      <td>2022-10-09 06:18:11</td>\n      <td>35.802494</td>\n      <td>51.362171</td>\n      <td>35.772793</td>\n      <td>51.409565</td>\n      <td>9.157</td>\n      <td>2022-10-09 06:53:49</td>\n    </tr>\n    <tr>\n      <th>2729984</th>\n      <td>1041</td>\n      <td>1672</td>\n      <td>1717</td>\n      <td>2022-10-09 18:09:08</td>\n      <td>35.745148</td>\n      <td>51.398754</td>\n      <td>35.775940</td>\n      <td>51.348122</td>\n      <td>11.953</td>\n      <td>2022-10-09 18:40:16</td>\n    </tr>\n    <tr>\n      <th>2729985</th>\n      <td>625</td>\n      <td>652</td>\n      <td>632</td>\n      <td>2022-10-09 06:40:30</td>\n      <td>35.819561</td>\n      <td>51.492096</td>\n      <td>35.800598</td>\n      <td>51.520542</td>\n      <td>5.491</td>\n      <td>2022-10-09 06:56:14</td>\n    </tr>\n  </tbody>\n</table>\n<p>622227 rows × 10 columns</p>\n</div>"
     },
     "execution_count": 14,
     "metadata": {},
     "output_type": "execute_result"
    }
   ],
   "source": [
    "rides_test_p2 = rides_test_p2[['eta', 'ata', 'a_t_a_result.ride_a_t_a', 'created_at', 'source_lat', 'source_lng', 'destination_lat', 'destination_lng', 'e_d_d', 'clickhouse_time']]\n",
    "rides_test_p2"
   ],
   "metadata": {
    "collapsed": false,
    "pycharm": {
     "name": "#%%\n"
    }
   }
  },
  {
   "cell_type": "code",
   "execution_count": 15,
   "outputs": [
    {
     "data": {
      "text/plain": "          eta   ata  a_t_a_result.ride_a_t_a           created_at  source_lat  \\\n2         759   604                      576  2022-08-02 09:54:15   35.779682   \n19       1088  1324                     1436  2022-08-02 06:55:51   35.668488   \n24        930  1637                     1327  2022-08-02 09:55:29   35.743820   \n27        783   982                      956  2022-08-02 19:58:17   35.753742   \n32        888   843                      810  2022-08-02 21:13:47   35.638977   \n...       ...   ...                      ...                  ...         ...   \n4063322  1140  4362                     4332  2022-09-10 17:12:02   35.675362   \n4063323   995   951                     1116  2022-09-10 22:35:28   35.682247   \n4063328  1187  1503                     1476  2022-09-10 06:46:01   35.736115   \n4063329   631   811                      634  2022-09-10 14:24:21   35.783543   \n4063333   781  1271                     1139  2022-09-10 14:42:19   35.695030   \n\n         source_lng  destination_lat  destination_lng      e_d_d  \\\n2         51.418243        35.759449        51.411560   0.000000   \n19        51.471096        35.737984        51.507107   0.000000   \n24        51.465885        35.758488        51.441872   0.000000   \n27        51.367241        35.735798        51.405380   0.000000   \n32        51.334576        35.671574        51.302036   0.000000   \n...             ...              ...              ...        ...   \n4063322   51.467590        35.727814        51.416153  23.992001   \n4063323   51.462456        35.641071        51.500271  10.609000   \n4063328   51.313038        35.758835        51.443092  17.391001   \n4063329   51.381916        35.802864        51.403702   6.729000   \n4063333   51.254135        35.716125        51.285088  12.272000   \n\n             clickhouse_time      source_h3_4        dest_h3_4       hour  \\\n2        2022-08-02 10:08:24  842cf31ffffffff  842cf31ffffffff  81.904167   \n19       2022-08-02 07:28:51  842cf31ffffffff  842cf31ffffffff  78.930833   \n24       2022-08-02 10:30:20  842cf31ffffffff  842cf31ffffffff  81.924722   \n27       2022-08-02 20:23:58  842cf31ffffffff  842cf31ffffffff  91.971389   \n32       2022-08-02 21:32:32  842cf31ffffffff  842cf31ffffffff  93.229722   \n...                      ...              ...              ...        ...   \n4063322  2022-09-10 18:29:51  842cf31ffffffff  842cf31ffffffff  17.200556   \n4063323  2022-09-10 23:01:50  842cf31ffffffff  842cf31ffffffff  22.591111   \n4063328  2022-09-10 07:19:37  842cf31ffffffff  842cf31ffffffff   6.766944   \n4063329  2022-09-10 14:42:34  842cf31ffffffff  842cf31ffffffff  14.405833   \n4063333  2022-09-10 15:08:30  842cf31ffffffff  842cf31ffffffff  14.705278   \n\n         holiday  \n2              0  \n19             0  \n24             0  \n27             0  \n32             0  \n...          ...  \n4063322        0  \n4063323        0  \n4063328        0  \n4063329        0  \n4063333        0  \n\n[906580 rows x 14 columns]",
      "text/html": "<div>\n<style scoped>\n    .dataframe tbody tr th:only-of-type {\n        vertical-align: middle;\n    }\n\n    .dataframe tbody tr th {\n        vertical-align: top;\n    }\n\n    .dataframe thead th {\n        text-align: right;\n    }\n</style>\n<table border=\"1\" class=\"dataframe\">\n  <thead>\n    <tr style=\"text-align: right;\">\n      <th></th>\n      <th>eta</th>\n      <th>ata</th>\n      <th>a_t_a_result.ride_a_t_a</th>\n      <th>created_at</th>\n      <th>source_lat</th>\n      <th>source_lng</th>\n      <th>destination_lat</th>\n      <th>destination_lng</th>\n      <th>e_d_d</th>\n      <th>clickhouse_time</th>\n      <th>source_h3_4</th>\n      <th>dest_h3_4</th>\n      <th>hour</th>\n      <th>holiday</th>\n    </tr>\n  </thead>\n  <tbody>\n    <tr>\n      <th>2</th>\n      <td>759</td>\n      <td>604</td>\n      <td>576</td>\n      <td>2022-08-02 09:54:15</td>\n      <td>35.779682</td>\n      <td>51.418243</td>\n      <td>35.759449</td>\n      <td>51.411560</td>\n      <td>0.000000</td>\n      <td>2022-08-02 10:08:24</td>\n      <td>842cf31ffffffff</td>\n      <td>842cf31ffffffff</td>\n      <td>81.904167</td>\n      <td>0</td>\n    </tr>\n    <tr>\n      <th>19</th>\n      <td>1088</td>\n      <td>1324</td>\n      <td>1436</td>\n      <td>2022-08-02 06:55:51</td>\n      <td>35.668488</td>\n      <td>51.471096</td>\n      <td>35.737984</td>\n      <td>51.507107</td>\n      <td>0.000000</td>\n      <td>2022-08-02 07:28:51</td>\n      <td>842cf31ffffffff</td>\n      <td>842cf31ffffffff</td>\n      <td>78.930833</td>\n      <td>0</td>\n    </tr>\n    <tr>\n      <th>24</th>\n      <td>930</td>\n      <td>1637</td>\n      <td>1327</td>\n      <td>2022-08-02 09:55:29</td>\n      <td>35.743820</td>\n      <td>51.465885</td>\n      <td>35.758488</td>\n      <td>51.441872</td>\n      <td>0.000000</td>\n      <td>2022-08-02 10:30:20</td>\n      <td>842cf31ffffffff</td>\n      <td>842cf31ffffffff</td>\n      <td>81.924722</td>\n      <td>0</td>\n    </tr>\n    <tr>\n      <th>27</th>\n      <td>783</td>\n      <td>982</td>\n      <td>956</td>\n      <td>2022-08-02 19:58:17</td>\n      <td>35.753742</td>\n      <td>51.367241</td>\n      <td>35.735798</td>\n      <td>51.405380</td>\n      <td>0.000000</td>\n      <td>2022-08-02 20:23:58</td>\n      <td>842cf31ffffffff</td>\n      <td>842cf31ffffffff</td>\n      <td>91.971389</td>\n      <td>0</td>\n    </tr>\n    <tr>\n      <th>32</th>\n      <td>888</td>\n      <td>843</td>\n      <td>810</td>\n      <td>2022-08-02 21:13:47</td>\n      <td>35.638977</td>\n      <td>51.334576</td>\n      <td>35.671574</td>\n      <td>51.302036</td>\n      <td>0.000000</td>\n      <td>2022-08-02 21:32:32</td>\n      <td>842cf31ffffffff</td>\n      <td>842cf31ffffffff</td>\n      <td>93.229722</td>\n      <td>0</td>\n    </tr>\n    <tr>\n      <th>...</th>\n      <td>...</td>\n      <td>...</td>\n      <td>...</td>\n      <td>...</td>\n      <td>...</td>\n      <td>...</td>\n      <td>...</td>\n      <td>...</td>\n      <td>...</td>\n      <td>...</td>\n      <td>...</td>\n      <td>...</td>\n      <td>...</td>\n      <td>...</td>\n    </tr>\n    <tr>\n      <th>4063322</th>\n      <td>1140</td>\n      <td>4362</td>\n      <td>4332</td>\n      <td>2022-09-10 17:12:02</td>\n      <td>35.675362</td>\n      <td>51.467590</td>\n      <td>35.727814</td>\n      <td>51.416153</td>\n      <td>23.992001</td>\n      <td>2022-09-10 18:29:51</td>\n      <td>842cf31ffffffff</td>\n      <td>842cf31ffffffff</td>\n      <td>17.200556</td>\n      <td>0</td>\n    </tr>\n    <tr>\n      <th>4063323</th>\n      <td>995</td>\n      <td>951</td>\n      <td>1116</td>\n      <td>2022-09-10 22:35:28</td>\n      <td>35.682247</td>\n      <td>51.462456</td>\n      <td>35.641071</td>\n      <td>51.500271</td>\n      <td>10.609000</td>\n      <td>2022-09-10 23:01:50</td>\n      <td>842cf31ffffffff</td>\n      <td>842cf31ffffffff</td>\n      <td>22.591111</td>\n      <td>0</td>\n    </tr>\n    <tr>\n      <th>4063328</th>\n      <td>1187</td>\n      <td>1503</td>\n      <td>1476</td>\n      <td>2022-09-10 06:46:01</td>\n      <td>35.736115</td>\n      <td>51.313038</td>\n      <td>35.758835</td>\n      <td>51.443092</td>\n      <td>17.391001</td>\n      <td>2022-09-10 07:19:37</td>\n      <td>842cf31ffffffff</td>\n      <td>842cf31ffffffff</td>\n      <td>6.766944</td>\n      <td>0</td>\n    </tr>\n    <tr>\n      <th>4063329</th>\n      <td>631</td>\n      <td>811</td>\n      <td>634</td>\n      <td>2022-09-10 14:24:21</td>\n      <td>35.783543</td>\n      <td>51.381916</td>\n      <td>35.802864</td>\n      <td>51.403702</td>\n      <td>6.729000</td>\n      <td>2022-09-10 14:42:34</td>\n      <td>842cf31ffffffff</td>\n      <td>842cf31ffffffff</td>\n      <td>14.405833</td>\n      <td>0</td>\n    </tr>\n    <tr>\n      <th>4063333</th>\n      <td>781</td>\n      <td>1271</td>\n      <td>1139</td>\n      <td>2022-09-10 14:42:19</td>\n      <td>35.695030</td>\n      <td>51.254135</td>\n      <td>35.716125</td>\n      <td>51.285088</td>\n      <td>12.272000</td>\n      <td>2022-09-10 15:08:30</td>\n      <td>842cf31ffffffff</td>\n      <td>842cf31ffffffff</td>\n      <td>14.705278</td>\n      <td>0</td>\n    </tr>\n  </tbody>\n</table>\n<p>906580 rows × 14 columns</p>\n</div>"
     },
     "execution_count": 15,
     "metadata": {},
     "output_type": "execute_result"
    }
   ],
   "source": [
    "rides_train_p2['source_h3_4'] = rides_train_p2.apply(lambda row: h3.geo_to_h3(row.source_lat, row.source_lng, 4), axis=1)\n",
    "rides_train_p2['dest_h3_4'] = rides_train_p2.apply(lambda row: h3.geo_to_h3(row.destination_lat, row.destination_lng, 4), axis=1)\n",
    "rides_train_p2['hour'] = rides_train_p2.apply(lambda row: ((datetime.timestamp(datetime.strptime(row.created_at,\"%Y-%m-%d %H:%M:%S\")) - 1662147000) % 604800) / 3600, axis=1)\n",
    "rides_train_p2['holiday'] = rides_train_p2.apply(lambda row: int(row.created_at.split()[0] in train_holidays), axis=1)\n",
    "rides_train_p2"
   ],
   "metadata": {
    "collapsed": false,
    "pycharm": {
     "name": "#%%\n"
    }
   }
  },
  {
   "cell_type": "code",
   "execution_count": 16,
   "outputs": [
    {
     "data": {
      "text/plain": "          eta   ata  a_t_a_result.ride_a_t_a           created_at  source_lat  \\\n3        1067  1095                     1072  2022-09-11 22:11:05   35.442017   \n8         767   815                      696  2022-09-11 08:47:42   35.737583   \n10        798   826                      772  2022-09-11 12:47:43   35.735069   \n13        745   768                      736  2022-09-11 16:02:11   35.712906   \n16       1088  2192                     2203  2022-09-11 07:40:03   35.731453   \n...       ...   ...                      ...                  ...         ...   \n2729969  1118   871                      855  2022-10-09 20:28:09   35.717136   \n2729974  1027   832                      980  2022-10-09 16:25:23   35.759262   \n2729983   747   978                     1500  2022-10-09 06:18:11   35.802494   \n2729984  1041  1672                     1717  2022-10-09 18:09:08   35.745148   \n2729985   625   652                      632  2022-10-09 06:40:30   35.819561   \n\n         source_lng  destination_lat  destination_lng   e_d_d  \\\n3         51.564331        35.461838        51.656166  11.072   \n8         51.817417        35.716343        51.786205   7.461   \n10        51.860020        35.737427        51.817623   7.522   \n13        51.367687        35.759655        51.376125   7.483   \n16        51.521435        35.752289        51.441925  13.943   \n...             ...              ...              ...     ...   \n2729969   51.331192        35.775993        51.331837   9.915   \n2729974   51.329350        35.726742        51.324627   6.720   \n2729983   51.362171        35.772793        51.409565   9.157   \n2729984   51.398754        35.775940        51.348122  11.953   \n2729985   51.492096        35.800598        51.520542   5.491   \n\n             clickhouse_time      source_h3_4        dest_h3_4       hour  \\\n3        2022-09-11 22:35:23  842cf35ffffffff  842cf37ffffffff  46.184722   \n8        2022-09-11 09:05:35  842cf33ffffffff  842cf33ffffffff  32.795000   \n10       2022-09-11 13:04:42  842cf33ffffffff  842cf33ffffffff  36.795278   \n13       2022-09-11 16:49:31  842cf31ffffffff  842cf31ffffffff  40.036389   \n16       2022-09-11 08:20:56  842cf31ffffffff  842cf31ffffffff  31.667500   \n...                      ...              ...              ...        ...   \n2729969  2022-10-09 20:49:39  842cf31ffffffff  842cf31ffffffff  45.469167   \n2729974  2022-10-09 16:49:19  842cf31ffffffff  842cf31ffffffff  41.423056   \n2729983  2022-10-09 06:53:49  842cf31ffffffff  842cf31ffffffff  31.303056   \n2729984  2022-10-09 18:40:16  842cf31ffffffff  842cf31ffffffff  43.152222   \n2729985  2022-10-09 06:56:14  842cf31ffffffff  842cf31ffffffff  31.675000   \n\n         holiday  \n3              0  \n8              0  \n10             0  \n13             0  \n16             0  \n...          ...  \n2729969        0  \n2729974        0  \n2729983        0  \n2729984        0  \n2729985        0  \n\n[622227 rows x 14 columns]",
      "text/html": "<div>\n<style scoped>\n    .dataframe tbody tr th:only-of-type {\n        vertical-align: middle;\n    }\n\n    .dataframe tbody tr th {\n        vertical-align: top;\n    }\n\n    .dataframe thead th {\n        text-align: right;\n    }\n</style>\n<table border=\"1\" class=\"dataframe\">\n  <thead>\n    <tr style=\"text-align: right;\">\n      <th></th>\n      <th>eta</th>\n      <th>ata</th>\n      <th>a_t_a_result.ride_a_t_a</th>\n      <th>created_at</th>\n      <th>source_lat</th>\n      <th>source_lng</th>\n      <th>destination_lat</th>\n      <th>destination_lng</th>\n      <th>e_d_d</th>\n      <th>clickhouse_time</th>\n      <th>source_h3_4</th>\n      <th>dest_h3_4</th>\n      <th>hour</th>\n      <th>holiday</th>\n    </tr>\n  </thead>\n  <tbody>\n    <tr>\n      <th>3</th>\n      <td>1067</td>\n      <td>1095</td>\n      <td>1072</td>\n      <td>2022-09-11 22:11:05</td>\n      <td>35.442017</td>\n      <td>51.564331</td>\n      <td>35.461838</td>\n      <td>51.656166</td>\n      <td>11.072</td>\n      <td>2022-09-11 22:35:23</td>\n      <td>842cf35ffffffff</td>\n      <td>842cf37ffffffff</td>\n      <td>46.184722</td>\n      <td>0</td>\n    </tr>\n    <tr>\n      <th>8</th>\n      <td>767</td>\n      <td>815</td>\n      <td>696</td>\n      <td>2022-09-11 08:47:42</td>\n      <td>35.737583</td>\n      <td>51.817417</td>\n      <td>35.716343</td>\n      <td>51.786205</td>\n      <td>7.461</td>\n      <td>2022-09-11 09:05:35</td>\n      <td>842cf33ffffffff</td>\n      <td>842cf33ffffffff</td>\n      <td>32.795000</td>\n      <td>0</td>\n    </tr>\n    <tr>\n      <th>10</th>\n      <td>798</td>\n      <td>826</td>\n      <td>772</td>\n      <td>2022-09-11 12:47:43</td>\n      <td>35.735069</td>\n      <td>51.860020</td>\n      <td>35.737427</td>\n      <td>51.817623</td>\n      <td>7.522</td>\n      <td>2022-09-11 13:04:42</td>\n      <td>842cf33ffffffff</td>\n      <td>842cf33ffffffff</td>\n      <td>36.795278</td>\n      <td>0</td>\n    </tr>\n    <tr>\n      <th>13</th>\n      <td>745</td>\n      <td>768</td>\n      <td>736</td>\n      <td>2022-09-11 16:02:11</td>\n      <td>35.712906</td>\n      <td>51.367687</td>\n      <td>35.759655</td>\n      <td>51.376125</td>\n      <td>7.483</td>\n      <td>2022-09-11 16:49:31</td>\n      <td>842cf31ffffffff</td>\n      <td>842cf31ffffffff</td>\n      <td>40.036389</td>\n      <td>0</td>\n    </tr>\n    <tr>\n      <th>16</th>\n      <td>1088</td>\n      <td>2192</td>\n      <td>2203</td>\n      <td>2022-09-11 07:40:03</td>\n      <td>35.731453</td>\n      <td>51.521435</td>\n      <td>35.752289</td>\n      <td>51.441925</td>\n      <td>13.943</td>\n      <td>2022-09-11 08:20:56</td>\n      <td>842cf31ffffffff</td>\n      <td>842cf31ffffffff</td>\n      <td>31.667500</td>\n      <td>0</td>\n    </tr>\n    <tr>\n      <th>...</th>\n      <td>...</td>\n      <td>...</td>\n      <td>...</td>\n      <td>...</td>\n      <td>...</td>\n      <td>...</td>\n      <td>...</td>\n      <td>...</td>\n      <td>...</td>\n      <td>...</td>\n      <td>...</td>\n      <td>...</td>\n      <td>...</td>\n      <td>...</td>\n    </tr>\n    <tr>\n      <th>2729969</th>\n      <td>1118</td>\n      <td>871</td>\n      <td>855</td>\n      <td>2022-10-09 20:28:09</td>\n      <td>35.717136</td>\n      <td>51.331192</td>\n      <td>35.775993</td>\n      <td>51.331837</td>\n      <td>9.915</td>\n      <td>2022-10-09 20:49:39</td>\n      <td>842cf31ffffffff</td>\n      <td>842cf31ffffffff</td>\n      <td>45.469167</td>\n      <td>0</td>\n    </tr>\n    <tr>\n      <th>2729974</th>\n      <td>1027</td>\n      <td>832</td>\n      <td>980</td>\n      <td>2022-10-09 16:25:23</td>\n      <td>35.759262</td>\n      <td>51.329350</td>\n      <td>35.726742</td>\n      <td>51.324627</td>\n      <td>6.720</td>\n      <td>2022-10-09 16:49:19</td>\n      <td>842cf31ffffffff</td>\n      <td>842cf31ffffffff</td>\n      <td>41.423056</td>\n      <td>0</td>\n    </tr>\n    <tr>\n      <th>2729983</th>\n      <td>747</td>\n      <td>978</td>\n      <td>1500</td>\n      <td>2022-10-09 06:18:11</td>\n      <td>35.802494</td>\n      <td>51.362171</td>\n      <td>35.772793</td>\n      <td>51.409565</td>\n      <td>9.157</td>\n      <td>2022-10-09 06:53:49</td>\n      <td>842cf31ffffffff</td>\n      <td>842cf31ffffffff</td>\n      <td>31.303056</td>\n      <td>0</td>\n    </tr>\n    <tr>\n      <th>2729984</th>\n      <td>1041</td>\n      <td>1672</td>\n      <td>1717</td>\n      <td>2022-10-09 18:09:08</td>\n      <td>35.745148</td>\n      <td>51.398754</td>\n      <td>35.775940</td>\n      <td>51.348122</td>\n      <td>11.953</td>\n      <td>2022-10-09 18:40:16</td>\n      <td>842cf31ffffffff</td>\n      <td>842cf31ffffffff</td>\n      <td>43.152222</td>\n      <td>0</td>\n    </tr>\n    <tr>\n      <th>2729985</th>\n      <td>625</td>\n      <td>652</td>\n      <td>632</td>\n      <td>2022-10-09 06:40:30</td>\n      <td>35.819561</td>\n      <td>51.492096</td>\n      <td>35.800598</td>\n      <td>51.520542</td>\n      <td>5.491</td>\n      <td>2022-10-09 06:56:14</td>\n      <td>842cf31ffffffff</td>\n      <td>842cf31ffffffff</td>\n      <td>31.675000</td>\n      <td>0</td>\n    </tr>\n  </tbody>\n</table>\n<p>622227 rows × 14 columns</p>\n</div>"
     },
     "execution_count": 16,
     "metadata": {},
     "output_type": "execute_result"
    }
   ],
   "source": [
    "rides_test_p2['source_h3_4'] = rides_test_p2.apply(lambda row: h3.geo_to_h3(row.source_lat, row.source_lng, 4), axis=1)\n",
    "rides_test_p2['dest_h3_4'] = rides_test_p2.apply(lambda row: h3.geo_to_h3(row.destination_lat, row.destination_lng, 4), axis=1)\n",
    "rides_test_p2['hour'] = rides_test_p2.apply(lambda row: ((datetime.timestamp(datetime.strptime(row.created_at,\"%Y-%m-%d %H:%M:%S\")) - 1662147000) % 604800) / 3600, axis=1)\n",
    "rides_test_p2['holiday'] = rides_test_p2.apply(lambda row: int(row.created_at.split()[0] in test_holidays), axis=1)\n",
    "rides_test_p2"
   ],
   "metadata": {
    "collapsed": false,
    "pycharm": {
     "name": "#%%\n"
    }
   }
  },
  {
   "cell_type": "code",
   "execution_count": 17,
   "outputs": [],
   "source": [
    "train_p2_geo_x = rides_train_p2[[\"eta\", \"source_lat\", \"source_lng\", \"destination_lat\", \"destination_lng\", \"hour\", \"holiday\"]]\n",
    "train_p2_h3_x = rides_train_p2[[\"eta\", \"source_h3_4\", \"dest_h3_4\", \"hour\", \"holiday\"]]\n",
    "train_p2_geo_y = rides_train_p2[\"a_t_a_result.ride_a_t_a\"]\n",
    "train_p2_h3_y = rides_train_p2[\"a_t_a_result.ride_a_t_a\"]"
   ],
   "metadata": {
    "collapsed": false,
    "pycharm": {
     "name": "#%%\n"
    }
   }
  },
  {
   "cell_type": "code",
   "execution_count": 18,
   "outputs": [],
   "source": [
    "test_p2_geo_x = rides_test_p2[[\"eta\", \"source_lat\", \"source_lng\", \"destination_lat\", \"destination_lng\", \"hour\", \"holiday\"]]\n",
    "test_p2_h3_x = rides_test_p2[[\"eta\", \"source_h3_4\", \"dest_h3_4\", \"hour\", \"holiday\"]]\n",
    "test_p2_geo_y = rides_test_p2[\"a_t_a_result.ride_a_t_a\"]\n",
    "test_p2_h3_y = rides_test_p2[\"a_t_a_result.ride_a_t_a\"]"
   ],
   "metadata": {
    "collapsed": false,
    "pycharm": {
     "name": "#%%\n"
    }
   }
  },
  {
   "cell_type": "code",
   "execution_count": 19,
   "outputs": [
    {
     "data": {
      "text/plain": "                 eta           hour        holiday  \\\ncount  906580.000000  906580.000000  906580.000000   \nmean      869.374405      82.669705       0.020807   \nstd       170.274985      46.614441       0.142737   \nmin       600.000000       0.001389       0.000000   \n25%       721.000000      40.240278       0.000000   \n50%       855.000000      85.841667       0.000000   \n75%      1010.000000     117.402500       0.000000   \nmax      1199.000000     167.777222       1.000000   \n\n       source_h3_4_842cd4bffffffff  source_h3_4_842cd59ffffffff  \\\ncount                906580.000000                906580.000000   \nmean                      0.000415                     0.001190   \nstd                       0.020361                     0.034479   \nmin                       0.000000                     0.000000   \n25%                       0.000000                     0.000000   \n50%                       0.000000                     0.000000   \n75%                       0.000000                     0.000000   \nmax                       1.000000                     1.000000   \n\n       source_h3_4_842cd5bffffffff  source_h3_4_842cf31ffffffff  \\\ncount                906580.000000                906580.000000   \nmean                      0.000003                     0.916016   \nstd                       0.001819                     0.277364   \nmin                       0.000000                     0.000000   \n25%                       0.000000                     1.000000   \n50%                       0.000000                     1.000000   \n75%                       0.000000                     1.000000   \nmax                       1.000000                     1.000000   \n\n       source_h3_4_842cf33ffffffff  source_h3_4_842cf35ffffffff  \\\ncount                906580.000000                906580.000000   \nmean                      0.013120                     0.028867   \nstd                       0.113787                     0.167432   \nmin                       0.000000                     0.000000   \n25%                       0.000000                     0.000000   \n50%                       0.000000                     0.000000   \n75%                       0.000000                     0.000000   \nmax                       1.000000                     1.000000   \n\n       source_h3_4_842cf37ffffffff  source_h3_4_842cf3dffffffff  \\\ncount                906580.000000                906580.000000   \nmean                      0.013185                     0.027204   \nstd                       0.114065                     0.162679   \nmin                       0.000000                     0.000000   \n25%                       0.000000                     0.000000   \n50%                       0.000000                     0.000000   \n75%                       0.000000                     0.000000   \nmax                       1.000000                     1.000000   \n\n       dest_h3_4_842cd4bffffffff  dest_h3_4_842cd59ffffffff  \\\ncount              906580.000000              906580.000000   \nmean                    0.000627                   0.001142   \nstd                     0.025023                   0.033769   \nmin                     0.000000                   0.000000   \n25%                     0.000000                   0.000000   \n50%                     0.000000                   0.000000   \n75%                     0.000000                   0.000000   \nmax                     1.000000                   1.000000   \n\n       dest_h3_4_842cd5bffffffff  dest_h3_4_842cf31ffffffff  \\\ncount              906580.000000              906580.000000   \nmean                    0.000003                   0.914442   \nstd                     0.001819                   0.279710   \nmin                     0.000000                   0.000000   \n25%                     0.000000                   1.000000   \n50%                     0.000000                   1.000000   \n75%                     0.000000                   1.000000   \nmax                     1.000000                   1.000000   \n\n       dest_h3_4_842cf33ffffffff  dest_h3_4_842cf35ffffffff  \\\ncount              906580.000000              906580.000000   \nmean                    0.013163                   0.028246   \nstd                     0.113971                   0.165674   \nmin                     0.000000                   0.000000   \n25%                     0.000000                   0.000000   \n50%                     0.000000                   0.000000   \n75%                     0.000000                   0.000000   \nmax                     1.000000                   1.000000   \n\n       dest_h3_4_842cf37ffffffff  dest_h3_4_842cf39ffffffff  \\\ncount              906580.000000              906580.000000   \nmean                    0.013134                   0.000017   \nstd                     0.113849                   0.004068   \nmin                     0.000000                   0.000000   \n25%                     0.000000                   0.000000   \n50%                     0.000000                   0.000000   \n75%                     0.000000                   0.000000   \nmax                     1.000000                   1.000000   \n\n       dest_h3_4_842cf3dffffffff  \ncount              906580.000000  \nmean                    0.029227  \nstd                     0.168444  \nmin                     0.000000  \n25%                     0.000000  \n50%                     0.000000  \n75%                     0.000000  \nmax                     1.000000  ",
      "text/html": "<div>\n<style scoped>\n    .dataframe tbody tr th:only-of-type {\n        vertical-align: middle;\n    }\n\n    .dataframe tbody tr th {\n        vertical-align: top;\n    }\n\n    .dataframe thead th {\n        text-align: right;\n    }\n</style>\n<table border=\"1\" class=\"dataframe\">\n  <thead>\n    <tr style=\"text-align: right;\">\n      <th></th>\n      <th>eta</th>\n      <th>hour</th>\n      <th>holiday</th>\n      <th>source_h3_4_842cd4bffffffff</th>\n      <th>source_h3_4_842cd59ffffffff</th>\n      <th>source_h3_4_842cd5bffffffff</th>\n      <th>source_h3_4_842cf31ffffffff</th>\n      <th>source_h3_4_842cf33ffffffff</th>\n      <th>source_h3_4_842cf35ffffffff</th>\n      <th>source_h3_4_842cf37ffffffff</th>\n      <th>source_h3_4_842cf3dffffffff</th>\n      <th>dest_h3_4_842cd4bffffffff</th>\n      <th>dest_h3_4_842cd59ffffffff</th>\n      <th>dest_h3_4_842cd5bffffffff</th>\n      <th>dest_h3_4_842cf31ffffffff</th>\n      <th>dest_h3_4_842cf33ffffffff</th>\n      <th>dest_h3_4_842cf35ffffffff</th>\n      <th>dest_h3_4_842cf37ffffffff</th>\n      <th>dest_h3_4_842cf39ffffffff</th>\n      <th>dest_h3_4_842cf3dffffffff</th>\n    </tr>\n  </thead>\n  <tbody>\n    <tr>\n      <th>count</th>\n      <td>906580.000000</td>\n      <td>906580.000000</td>\n      <td>906580.000000</td>\n      <td>906580.000000</td>\n      <td>906580.000000</td>\n      <td>906580.000000</td>\n      <td>906580.000000</td>\n      <td>906580.000000</td>\n      <td>906580.000000</td>\n      <td>906580.000000</td>\n      <td>906580.000000</td>\n      <td>906580.000000</td>\n      <td>906580.000000</td>\n      <td>906580.000000</td>\n      <td>906580.000000</td>\n      <td>906580.000000</td>\n      <td>906580.000000</td>\n      <td>906580.000000</td>\n      <td>906580.000000</td>\n      <td>906580.000000</td>\n    </tr>\n    <tr>\n      <th>mean</th>\n      <td>869.374405</td>\n      <td>82.669705</td>\n      <td>0.020807</td>\n      <td>0.000415</td>\n      <td>0.001190</td>\n      <td>0.000003</td>\n      <td>0.916016</td>\n      <td>0.013120</td>\n      <td>0.028867</td>\n      <td>0.013185</td>\n      <td>0.027204</td>\n      <td>0.000627</td>\n      <td>0.001142</td>\n      <td>0.000003</td>\n      <td>0.914442</td>\n      <td>0.013163</td>\n      <td>0.028246</td>\n      <td>0.013134</td>\n      <td>0.000017</td>\n      <td>0.029227</td>\n    </tr>\n    <tr>\n      <th>std</th>\n      <td>170.274985</td>\n      <td>46.614441</td>\n      <td>0.142737</td>\n      <td>0.020361</td>\n      <td>0.034479</td>\n      <td>0.001819</td>\n      <td>0.277364</td>\n      <td>0.113787</td>\n      <td>0.167432</td>\n      <td>0.114065</td>\n      <td>0.162679</td>\n      <td>0.025023</td>\n      <td>0.033769</td>\n      <td>0.001819</td>\n      <td>0.279710</td>\n      <td>0.113971</td>\n      <td>0.165674</td>\n      <td>0.113849</td>\n      <td>0.004068</td>\n      <td>0.168444</td>\n    </tr>\n    <tr>\n      <th>min</th>\n      <td>600.000000</td>\n      <td>0.001389</td>\n      <td>0.000000</td>\n      <td>0.000000</td>\n      <td>0.000000</td>\n      <td>0.000000</td>\n      <td>0.000000</td>\n      <td>0.000000</td>\n      <td>0.000000</td>\n      <td>0.000000</td>\n      <td>0.000000</td>\n      <td>0.000000</td>\n      <td>0.000000</td>\n      <td>0.000000</td>\n      <td>0.000000</td>\n      <td>0.000000</td>\n      <td>0.000000</td>\n      <td>0.000000</td>\n      <td>0.000000</td>\n      <td>0.000000</td>\n    </tr>\n    <tr>\n      <th>25%</th>\n      <td>721.000000</td>\n      <td>40.240278</td>\n      <td>0.000000</td>\n      <td>0.000000</td>\n      <td>0.000000</td>\n      <td>0.000000</td>\n      <td>1.000000</td>\n      <td>0.000000</td>\n      <td>0.000000</td>\n      <td>0.000000</td>\n      <td>0.000000</td>\n      <td>0.000000</td>\n      <td>0.000000</td>\n      <td>0.000000</td>\n      <td>1.000000</td>\n      <td>0.000000</td>\n      <td>0.000000</td>\n      <td>0.000000</td>\n      <td>0.000000</td>\n      <td>0.000000</td>\n    </tr>\n    <tr>\n      <th>50%</th>\n      <td>855.000000</td>\n      <td>85.841667</td>\n      <td>0.000000</td>\n      <td>0.000000</td>\n      <td>0.000000</td>\n      <td>0.000000</td>\n      <td>1.000000</td>\n      <td>0.000000</td>\n      <td>0.000000</td>\n      <td>0.000000</td>\n      <td>0.000000</td>\n      <td>0.000000</td>\n      <td>0.000000</td>\n      <td>0.000000</td>\n      <td>1.000000</td>\n      <td>0.000000</td>\n      <td>0.000000</td>\n      <td>0.000000</td>\n      <td>0.000000</td>\n      <td>0.000000</td>\n    </tr>\n    <tr>\n      <th>75%</th>\n      <td>1010.000000</td>\n      <td>117.402500</td>\n      <td>0.000000</td>\n      <td>0.000000</td>\n      <td>0.000000</td>\n      <td>0.000000</td>\n      <td>1.000000</td>\n      <td>0.000000</td>\n      <td>0.000000</td>\n      <td>0.000000</td>\n      <td>0.000000</td>\n      <td>0.000000</td>\n      <td>0.000000</td>\n      <td>0.000000</td>\n      <td>1.000000</td>\n      <td>0.000000</td>\n      <td>0.000000</td>\n      <td>0.000000</td>\n      <td>0.000000</td>\n      <td>0.000000</td>\n    </tr>\n    <tr>\n      <th>max</th>\n      <td>1199.000000</td>\n      <td>167.777222</td>\n      <td>1.000000</td>\n      <td>1.000000</td>\n      <td>1.000000</td>\n      <td>1.000000</td>\n      <td>1.000000</td>\n      <td>1.000000</td>\n      <td>1.000000</td>\n      <td>1.000000</td>\n      <td>1.000000</td>\n      <td>1.000000</td>\n      <td>1.000000</td>\n      <td>1.000000</td>\n      <td>1.000000</td>\n      <td>1.000000</td>\n      <td>1.000000</td>\n      <td>1.000000</td>\n      <td>1.000000</td>\n      <td>1.000000</td>\n    </tr>\n  </tbody>\n</table>\n</div>"
     },
     "execution_count": 19,
     "metadata": {},
     "output_type": "execute_result"
    }
   ],
   "source": [
    "dummy_train_rides = pd.get_dummies(train_p2_h3_x, prefix={'source_h3_4':'source_h3_4',\n",
    "                                                             'dest_h3_4':'dest_h3_4'})\n",
    "dummy_train_rides.describe()"
   ],
   "metadata": {
    "collapsed": false,
    "pycharm": {
     "name": "#%%\n"
    }
   }
  },
  {
   "cell_type": "code",
   "execution_count": 20,
   "outputs": [
    {
     "name": "stdout",
     "output_type": "stream",
     "text": [
      "[906580 906580  18863    376   1079      3 830442  11894  26170  11953\n",
      "  24663    568   1035      3 829015  11933  25607  11907     15  26497]\n",
      "Index(['eta', 'hour', 'holiday', 'source_h3_4_842cd4bffffffff',\n",
      "       'source_h3_4_842cd59ffffffff', 'source_h3_4_842cd5bffffffff',\n",
      "       'source_h3_4_842cf31ffffffff', 'source_h3_4_842cf33ffffffff',\n",
      "       'source_h3_4_842cf35ffffffff', 'source_h3_4_842cf37ffffffff',\n",
      "       'source_h3_4_842cf3dffffffff', 'dest_h3_4_842cd4bffffffff',\n",
      "       'dest_h3_4_842cd59ffffffff', 'dest_h3_4_842cd5bffffffff',\n",
      "       'dest_h3_4_842cf31ffffffff', 'dest_h3_4_842cf33ffffffff',\n",
      "       'dest_h3_4_842cf35ffffffff', 'dest_h3_4_842cf37ffffffff',\n",
      "       'dest_h3_4_842cf39ffffffff', 'dest_h3_4_842cf3dffffffff'],\n",
      "      dtype='object')\n"
     ]
    }
   ],
   "source": [
    "print(np.count_nonzero(dummy_train_rides, axis=0))\n",
    "print(dummy_train_rides.columns)"
   ],
   "metadata": {
    "collapsed": false,
    "pycharm": {
     "name": "#%%\n"
    }
   }
  },
  {
   "cell_type": "code",
   "execution_count": 21,
   "outputs": [
    {
     "name": "stderr",
     "output_type": "stream",
     "text": [
      "/var/folders/yq/707ysz_j3jlggmtk5clx13rm0000gn/T/ipykernel_72112/3620287408.py:8: UserWarning: Boolean Series key will be reindexed to match DataFrame index.\n",
      "  train_p2_h3_x = train_p2_h3_x[dummy_train_rides[col] == 0]\n"
     ]
    },
    {
     "data": {
      "text/plain": "                 eta           hour        holiday\ncount  906562.000000  906562.000000  906562.000000\nmean      869.371288      82.669818       0.020806\nstd       170.273111      46.614555       0.142735\nmin       600.000000       0.001389       0.000000\n25%       721.000000      40.240278       0.000000\n50%       855.000000      85.841667       0.000000\n75%      1010.000000     117.402986       0.000000\nmax      1199.000000     167.777222       1.000000",
      "text/html": "<div>\n<style scoped>\n    .dataframe tbody tr th:only-of-type {\n        vertical-align: middle;\n    }\n\n    .dataframe tbody tr th {\n        vertical-align: top;\n    }\n\n    .dataframe thead th {\n        text-align: right;\n    }\n</style>\n<table border=\"1\" class=\"dataframe\">\n  <thead>\n    <tr style=\"text-align: right;\">\n      <th></th>\n      <th>eta</th>\n      <th>hour</th>\n      <th>holiday</th>\n    </tr>\n  </thead>\n  <tbody>\n    <tr>\n      <th>count</th>\n      <td>906562.000000</td>\n      <td>906562.000000</td>\n      <td>906562.000000</td>\n    </tr>\n    <tr>\n      <th>mean</th>\n      <td>869.371288</td>\n      <td>82.669818</td>\n      <td>0.020806</td>\n    </tr>\n    <tr>\n      <th>std</th>\n      <td>170.273111</td>\n      <td>46.614555</td>\n      <td>0.142735</td>\n    </tr>\n    <tr>\n      <th>min</th>\n      <td>600.000000</td>\n      <td>0.001389</td>\n      <td>0.000000</td>\n    </tr>\n    <tr>\n      <th>25%</th>\n      <td>721.000000</td>\n      <td>40.240278</td>\n      <td>0.000000</td>\n    </tr>\n    <tr>\n      <th>50%</th>\n      <td>855.000000</td>\n      <td>85.841667</td>\n      <td>0.000000</td>\n    </tr>\n    <tr>\n      <th>75%</th>\n      <td>1010.000000</td>\n      <td>117.402986</td>\n      <td>0.000000</td>\n    </tr>\n    <tr>\n      <th>max</th>\n      <td>1199.000000</td>\n      <td>167.777222</td>\n      <td>1.000000</td>\n    </tr>\n  </tbody>\n</table>\n</div>"
     },
     "execution_count": 21,
     "metadata": {},
     "output_type": "execute_result"
    }
   ],
   "source": [
    "geo_noise = np.count_nonzero(dummy_train_rides, axis=0) < 100\n",
    "\n",
    "cols = dummy_train_rides.columns\n",
    "for col, noise in zip(cols, geo_noise):\n",
    "    if noise:\n",
    "        # DOESN'T REINDEX\n",
    "        # remove the rows where rides_train_p2_x is in the noisy geo (geo is 1)\n",
    "        train_p2_h3_x = train_p2_h3_x[dummy_train_rides[col] == 0]\n",
    "        train_p2_h3_y = train_p2_h3_y[dummy_train_rides[col] == 0]\n",
    "\n",
    "train_p2_h3_x.describe()"
   ],
   "metadata": {
    "collapsed": false,
    "pycharm": {
     "name": "#%%\n"
    }
   }
  },
  {
   "cell_type": "code",
   "execution_count": 22,
   "outputs": [],
   "source": [
    "ohe = ColumnTransformer(\n",
    "    [('OHE', OneHotEncoder(handle_unknown='ignore', sparse=False),['source_h3_4', 'dest_h3_4'])],\n",
    "    remainder = 'passthrough'\n",
    "    ).fit(train_p2_h3_x)"
   ],
   "metadata": {
    "collapsed": false,
    "pycharm": {
     "name": "#%%\n"
    }
   }
  },
  {
   "cell_type": "code",
   "execution_count": 23,
   "outputs": [
    {
     "data": {
      "text/plain": "array(['OHE__source_h3_4_842cd4bffffffff',\n       'OHE__source_h3_4_842cd59ffffffff',\n       'OHE__source_h3_4_842cf31ffffffff',\n       'OHE__source_h3_4_842cf33ffffffff',\n       'OHE__source_h3_4_842cf35ffffffff',\n       'OHE__source_h3_4_842cf37ffffffff',\n       'OHE__source_h3_4_842cf3dffffffff',\n       'OHE__dest_h3_4_842cd4bffffffff', 'OHE__dest_h3_4_842cd59ffffffff',\n       'OHE__dest_h3_4_842cf31ffffffff', 'OHE__dest_h3_4_842cf33ffffffff',\n       'OHE__dest_h3_4_842cf35ffffffff', 'OHE__dest_h3_4_842cf37ffffffff',\n       'OHE__dest_h3_4_842cf3dffffffff', 'remainder__eta',\n       'remainder__hour', 'remainder__holiday'], dtype=object)"
     },
     "execution_count": 23,
     "metadata": {},
     "output_type": "execute_result"
    }
   ],
   "source": [
    "ohe.get_feature_names_out()"
   ],
   "metadata": {
    "collapsed": false,
    "pycharm": {
     "name": "#%%\n"
    }
   }
  },
  {
   "cell_type": "code",
   "execution_count": 24,
   "outputs": [],
   "source": [
    "train_p2_h3_x = ohe.transform(train_p2_h3_x)"
   ],
   "metadata": {
    "collapsed": false,
    "pycharm": {
     "name": "#%%\n"
    }
   }
  },
  {
   "cell_type": "code",
   "execution_count": 25,
   "outputs": [],
   "source": [
    "test_p2_h3_x = ohe.transform(test_p2_h3_x)"
   ],
   "metadata": {
    "collapsed": false,
    "pycharm": {
     "name": "#%%\n"
    }
   }
  },
  {
   "cell_type": "code",
   "execution_count": 26,
   "outputs": [],
   "source": [
    "reg_geo_p2 = LinearRegression().fit(train_p2_geo_x, train_p2_geo_y)"
   ],
   "metadata": {
    "collapsed": false,
    "pycharm": {
     "name": "#%%\n"
    }
   }
  },
  {
   "cell_type": "code",
   "execution_count": 27,
   "outputs": [
    {
     "name": "stdout",
     "output_type": "stream",
     "text": [
      "[  1.20311512 -44.048468    20.0090256  205.23249916  34.36445879\n",
      "  -0.28966438 -29.90940304]\n",
      "-8584.249072201364\n"
     ]
    }
   ],
   "source": [
    "print(reg_geo_p2.coef_)\n",
    "print(reg_geo_p2.intercept_)"
   ],
   "metadata": {
    "collapsed": false,
    "pycharm": {
     "name": "#%%\n"
    }
   }
  },
  {
   "cell_type": "code",
   "execution_count": 28,
   "outputs": [],
   "source": [
    "train_pred_geo = reg_geo_p2.predict(train_p2_geo_x)\n",
    "test_pred_geo = reg_geo_p2.predict(test_p2_geo_x)"
   ],
   "metadata": {
    "collapsed": false,
    "pycharm": {
     "name": "#%%\n"
    }
   }
  },
  {
   "cell_type": "code",
   "execution_count": 29,
   "outputs": [],
   "source": [
    "reg_h3_p2 = LinearRegression().fit(train_p2_h3_x, train_p2_h3_y)"
   ],
   "metadata": {
    "collapsed": false,
    "pycharm": {
     "name": "#%%\n"
    }
   }
  },
  {
   "cell_type": "code",
   "execution_count": 30,
   "outputs": [
    {
     "name": "stdout",
     "output_type": "stream",
     "text": [
      "[-1.17315119e+11 -1.17315119e+11 -1.17315119e+11 -1.17315119e+11\n",
      " -1.17315119e+11 -1.17315119e+11 -1.17315119e+11 -9.81033836e+10\n",
      " -9.81033835e+10 -9.81033836e+10 -9.81033836e+10 -9.81033836e+10\n",
      " -9.81033836e+10 -9.81033836e+10  1.20414930e+00 -2.92968484e-01\n",
      " -3.09155959e+01]\n",
      "215418502656.19525\n"
     ]
    }
   ],
   "source": [
    "print(reg_h3_p2.coef_)\n",
    "print(reg_h3_p2.intercept_)"
   ],
   "metadata": {
    "collapsed": false,
    "pycharm": {
     "name": "#%%\n"
    }
   }
  },
  {
   "cell_type": "code",
   "execution_count": 31,
   "outputs": [],
   "source": [
    "train_pred_h3 = reg_h3_p2.predict(train_p2_h3_x)\n",
    "test_pred_h3 = reg_h3_p2.predict(test_p2_h3_x)"
   ],
   "metadata": {
    "collapsed": false,
    "pycharm": {
     "name": "#%%\n"
    }
   }
  },
  {
   "cell_type": "code",
   "execution_count": 32,
   "outputs": [],
   "source": [
    "known_h3_index = np.count_nonzero(test_p2_h3_x[:, 0:17], axis=1) == 2"
   ],
   "metadata": {
    "collapsed": false,
    "pycharm": {
     "name": "#%%\n"
    }
   }
  },
  {
   "cell_type": "code",
   "execution_count": 33,
   "outputs": [],
   "source": [
    "test_p2_h3_y = test_p2_h3_y[known_h3_index]\n",
    "test_p2_h3_x = test_p2_h3_x[known_h3_index]\n",
    "test_pred_h3 = test_pred_h3[known_h3_index]"
   ],
   "metadata": {
    "collapsed": false,
    "pycharm": {
     "name": "#%%\n"
    }
   }
  },
  {
   "cell_type": "code",
   "execution_count": 34,
   "outputs": [
    {
     "data": {
      "text/plain": "          eta  source_lat  source_lng  destination_lat  destination_lng  \\\n2         759   35.779682   51.418243        35.759449        51.411560   \n19       1088   35.668488   51.471096        35.737984        51.507107   \n24        930   35.743820   51.465885        35.758488        51.441872   \n27        783   35.753742   51.367241        35.735798        51.405380   \n32        888   35.638977   51.334576        35.671574        51.302036   \n...       ...         ...         ...              ...              ...   \n4063322  1140   35.675362   51.467590        35.727814        51.416153   \n4063323   995   35.682247   51.462456        35.641071        51.500271   \n4063328  1187   35.736115   51.313038        35.758835        51.443092   \n4063329   631   35.783543   51.381916        35.802864        51.403702   \n4063333   781   35.695030   51.254135        35.716125        51.285088   \n\n              hour  holiday  \n2        81.904167        0  \n19       78.930833        0  \n24       81.924722        0  \n27       91.971389        0  \n32       93.229722        0  \n...            ...      ...  \n4063322  17.200556        0  \n4063323  22.591111        0  \n4063328   6.766944        0  \n4063329  14.405833        0  \n4063333  14.705278        0  \n\n[906580 rows x 7 columns]",
      "text/html": "<div>\n<style scoped>\n    .dataframe tbody tr th:only-of-type {\n        vertical-align: middle;\n    }\n\n    .dataframe tbody tr th {\n        vertical-align: top;\n    }\n\n    .dataframe thead th {\n        text-align: right;\n    }\n</style>\n<table border=\"1\" class=\"dataframe\">\n  <thead>\n    <tr style=\"text-align: right;\">\n      <th></th>\n      <th>eta</th>\n      <th>source_lat</th>\n      <th>source_lng</th>\n      <th>destination_lat</th>\n      <th>destination_lng</th>\n      <th>hour</th>\n      <th>holiday</th>\n    </tr>\n  </thead>\n  <tbody>\n    <tr>\n      <th>2</th>\n      <td>759</td>\n      <td>35.779682</td>\n      <td>51.418243</td>\n      <td>35.759449</td>\n      <td>51.411560</td>\n      <td>81.904167</td>\n      <td>0</td>\n    </tr>\n    <tr>\n      <th>19</th>\n      <td>1088</td>\n      <td>35.668488</td>\n      <td>51.471096</td>\n      <td>35.737984</td>\n      <td>51.507107</td>\n      <td>78.930833</td>\n      <td>0</td>\n    </tr>\n    <tr>\n      <th>24</th>\n      <td>930</td>\n      <td>35.743820</td>\n      <td>51.465885</td>\n      <td>35.758488</td>\n      <td>51.441872</td>\n      <td>81.924722</td>\n      <td>0</td>\n    </tr>\n    <tr>\n      <th>27</th>\n      <td>783</td>\n      <td>35.753742</td>\n      <td>51.367241</td>\n      <td>35.735798</td>\n      <td>51.405380</td>\n      <td>91.971389</td>\n      <td>0</td>\n    </tr>\n    <tr>\n      <th>32</th>\n      <td>888</td>\n      <td>35.638977</td>\n      <td>51.334576</td>\n      <td>35.671574</td>\n      <td>51.302036</td>\n      <td>93.229722</td>\n      <td>0</td>\n    </tr>\n    <tr>\n      <th>...</th>\n      <td>...</td>\n      <td>...</td>\n      <td>...</td>\n      <td>...</td>\n      <td>...</td>\n      <td>...</td>\n      <td>...</td>\n    </tr>\n    <tr>\n      <th>4063322</th>\n      <td>1140</td>\n      <td>35.675362</td>\n      <td>51.467590</td>\n      <td>35.727814</td>\n      <td>51.416153</td>\n      <td>17.200556</td>\n      <td>0</td>\n    </tr>\n    <tr>\n      <th>4063323</th>\n      <td>995</td>\n      <td>35.682247</td>\n      <td>51.462456</td>\n      <td>35.641071</td>\n      <td>51.500271</td>\n      <td>22.591111</td>\n      <td>0</td>\n    </tr>\n    <tr>\n      <th>4063328</th>\n      <td>1187</td>\n      <td>35.736115</td>\n      <td>51.313038</td>\n      <td>35.758835</td>\n      <td>51.443092</td>\n      <td>6.766944</td>\n      <td>0</td>\n    </tr>\n    <tr>\n      <th>4063329</th>\n      <td>631</td>\n      <td>35.783543</td>\n      <td>51.381916</td>\n      <td>35.802864</td>\n      <td>51.403702</td>\n      <td>14.405833</td>\n      <td>0</td>\n    </tr>\n    <tr>\n      <th>4063333</th>\n      <td>781</td>\n      <td>35.695030</td>\n      <td>51.254135</td>\n      <td>35.716125</td>\n      <td>51.285088</td>\n      <td>14.705278</td>\n      <td>0</td>\n    </tr>\n  </tbody>\n</table>\n<p>906580 rows × 7 columns</p>\n</div>"
     },
     "execution_count": 34,
     "metadata": {},
     "output_type": "execute_result"
    }
   ],
   "source": [
    "train_p2_geo_x"
   ],
   "metadata": {
    "collapsed": false,
    "pycharm": {
     "name": "#%%\n"
    }
   }
  },
  {
   "cell_type": "code",
   "execution_count": 35,
   "outputs": [
    {
     "name": "stdout",
     "output_type": "stream",
     "text": [
      "ETA train MAE 181.1573429813144\n",
      "prediction train MAE 177.55149375080015\n",
      "ETA test MAE  182.14698815705523\n",
      "prediction test MAE 181.01447786079595\n",
      "ETA train MSE 93722.89682543185\n",
      "prediction train MSE 77895.36257470411\n",
      "ETA test MSE  102572.98804455608\n",
      "prediction test MSE 86905.54962074457\n",
      "ETA train explained_variance_score 0.339926594598459\n",
      "prediction train explained_variance_score 0.3536449294103323\n",
      "ETA test explained_variance_score  0.3115969693696259\n",
      "prediction test explained_variance_score 0.3253427331027492\n",
      "ETA train median_absolute_error 108.0\n",
      "prediction train median_absolute_error 129.96738825080502\n",
      "ETA test median_absolute_error  106.0\n",
      "prediction test median_absolute_error 129.8712364018029\n",
      "ETA train r2_score 0.22231224566964858\n",
      "prediction train r2_score 0.3536449294103323\n",
      "ETA test r2_score  0.20370830568559584\n",
      "prediction test r2_score 0.325337316655269\n",
      "ETA train MAPE 0.16111555184589296\n",
      "prediction train MAPE 0.1782277015090005\n",
      "ETA test MAPE  0.16145966180090804\n",
      "prediction test MAPE 0.18100687806320154\n"
     ]
    }
   ],
   "source": [
    "print(\"ETA train MAE\", mean_absolute_error(train_p2_geo_y, train_p2_geo_x['eta']))\n",
    "print(\"prediction train MAE\", mean_absolute_error(train_p2_geo_y, train_pred_geo))\n",
    "\n",
    "print(\"ETA test MAE \", mean_absolute_error(test_p2_geo_y, test_p2_geo_x['eta']))\n",
    "print(\"prediction test MAE\", mean_absolute_error(test_p2_geo_y, test_pred_geo))\n",
    "\n",
    "\n",
    "print(\"ETA train MSE\", mean_squared_error(train_p2_geo_y, train_p2_geo_x['eta']))\n",
    "print(\"prediction train MSE\", mean_squared_error(train_p2_geo_y, train_pred_geo))\n",
    "\n",
    "print(\"ETA test MSE \", mean_squared_error(test_p2_geo_y, test_p2_geo_x['eta']))\n",
    "print(\"prediction test MSE\", mean_squared_error(test_p2_geo_y, test_pred_geo))\n",
    "\n",
    "\n",
    "print(\"ETA train explained_variance_score\", explained_variance_score(train_p2_geo_y, train_p2_geo_x['eta']))\n",
    "print(\"prediction train explained_variance_score\", explained_variance_score(train_p2_geo_y, train_pred_geo))\n",
    "\n",
    "print(\"ETA test explained_variance_score \", explained_variance_score(test_p2_geo_y, test_p2_geo_x['eta']))\n",
    "print(\"prediction test explained_variance_score\", explained_variance_score(test_p2_geo_y, test_pred_geo))\n",
    "\n",
    "\n",
    "print(\"ETA train median_absolute_error\", median_absolute_error(train_p2_geo_y, train_p2_geo_x['eta']))\n",
    "print(\"prediction train median_absolute_error\", median_absolute_error(train_p2_geo_y, train_pred_geo))\n",
    "\n",
    "print(\"ETA test median_absolute_error \", median_absolute_error(test_p2_geo_y, test_p2_geo_x['eta']))\n",
    "print(\"prediction test median_absolute_error\", median_absolute_error(test_p2_geo_y, test_pred_geo))\n",
    "\n",
    "\n",
    "print(\"ETA train r2_score\", r2_score(train_p2_geo_y, train_p2_geo_x['eta']))\n",
    "print(\"prediction train r2_score\", r2_score(train_p2_geo_y, train_pred_geo))\n",
    "\n",
    "print(\"ETA test r2_score \", r2_score(test_p2_geo_y, test_p2_geo_x['eta']))\n",
    "print(\"prediction test r2_score\", r2_score(test_p2_geo_y, test_pred_geo))\n",
    "\n",
    "\n",
    "print(\"ETA train MAPE\", mean_absolute_percentage_error(train_p2_geo_y, train_p2_geo_x['eta']))\n",
    "print(\"prediction train MAPE\", mean_absolute_percentage_error(train_p2_geo_y, train_pred_geo))\n",
    "\n",
    "print(\"ETA test MAPE \", mean_absolute_percentage_error(test_p2_geo_y, test_p2_geo_x['eta']))\n",
    "print(\"prediction test MAPE\", mean_absolute_percentage_error(test_p2_geo_y, test_pred_geo))"
   ],
   "metadata": {
    "collapsed": false,
    "pycharm": {
     "name": "#%%\n"
    }
   }
  },
  {
   "cell_type": "code",
   "execution_count": 46,
   "outputs": [
    {
     "name": "stdout",
     "output_type": "stream",
     "text": [
      "[ 0.95267888  0.03992745  0.01639903  0.14161629  0.07104881 -0.00869313\n",
      " -0.01985985]\n",
      "0.027375837176890544\n"
     ]
    }
   ],
   "source": [
    "train_p4_geo_x_normalized = (train_p4_geo_x - train_p4_geo_x.min()) / (train_p4_geo_x.max() - train_p4_geo_x.min())\n",
    "train_p4_geo_y_normalized = (train_p4_geo_y - train_p4_geo_y.min()) / (train_p4_geo_y.max() - train_p4_geo_y.min())\n",
    "# test_p4_geo_x_normalized = (test_p4_geo_x - train_p4_geo_x.min()) / (train_p4_geo_x.max() - train_p4_geo_x.min())\n",
    "# test_p4_geo_y_normalized = (test_p4_geo_y - train_p4_geo_y.min()) / (train_p4_geo_y.max() - train_p4_geo_y.min())\n",
    "\n",
    "reg_p4_geo_normalized = LinearRegression().fit(train_p4_geo_x_normalized, train_p4_geo_y_normalized)\n",
    "print(reg_p4_geo_normalized.coef_)\n",
    "print(reg_p4_geo_normalized.intercept_)"
   ],
   "metadata": {
    "collapsed": false,
    "pycharm": {
     "name": "#%%\n"
    }
   }
  },
  {
   "cell_type": "code",
   "execution_count": 39,
   "outputs": [
    {
     "name": "stdout",
     "output_type": "stream",
     "text": [
      "ETA train MAE 558.6899742605314\n",
      "prediction train MAE 468.32320172854264\n",
      "ETA test MAE  609.4802658229795\n",
      "prediction test MAE 532.3905549659162\n",
      "ETA train MSE 724259.5492995734\n",
      "prediction train MSE 474510.4137146755\n",
      "ETA test MSE  1005379.4640005743\n",
      "prediction test MSE 706504.3378821977\n",
      "ETA train explained_variance_score 0.5486781823287357\n",
      "prediction train explained_variance_score 0.5735345690702949\n",
      "ETA test explained_variance_score  0.4753275329161858\n",
      "prediction test explained_variance_score 0.5084530615897137\n",
      "ETA train median_absolute_error 353.0\n",
      "prediction train median_absolute_error 347.19482421875\n",
      "ETA test median_absolute_error  352.0\n",
      "prediction test median_absolute_error 366.8814697265625\n",
      "ETA train r2_score 0.3490729563150865\n",
      "prediction train r2_score 0.5735345690702917\n",
      "ETA test r2_score  0.2984759208241079\n",
      "prediction test r2_score 0.5070221515223838\n",
      "ETA train MAPE 0.16697790395524195\n",
      "prediction train MAPE 0.1610154609737745\n",
      "ETA test MAPE  0.1730999583791752\n",
      "prediction test MAPE 0.17448530280936583\n"
     ]
    }
   ],
   "source": [
    "print(\"ETA train MAE\", mean_absolute_error(train_p4_h3_y, train_p4_h3_x[:, 17]))\n",
    "print(\"prediction train MAE\", mean_absolute_error(train_p4_h3_y, train_pred_h3))\n",
    "\n",
    "print(\"ETA test MAE \", mean_absolute_error(test_p4_h3_y, test_p4_h3_x[:, 17]))\n",
    "print(\"prediction test MAE\", mean_absolute_error(test_p4_h3_y, test_pred_h3))\n",
    "\n",
    "\n",
    "print(\"ETA train MSE\", mean_squared_error(train_p4_h3_y, train_p4_h3_x[:, 17]))\n",
    "print(\"prediction train MSE\", mean_squared_error(train_p4_h3_y, train_pred_h3))\n",
    "\n",
    "print(\"ETA test MSE \", mean_squared_error(test_p4_h3_y, test_p4_h3_x[:, 17]))\n",
    "print(\"prediction test MSE\", mean_squared_error(test_p4_h3_y, test_pred_h3))\n",
    "\n",
    "\n",
    "print(\"ETA train explained_variance_score\", explained_variance_score(train_p4_h3_y, train_p4_h3_x[:, 17]))\n",
    "print(\"prediction train explained_variance_score\", explained_variance_score(train_p4_h3_y, train_pred_h3))\n",
    "\n",
    "print(\"ETA test explained_variance_score \", explained_variance_score(test_p4_h3_y, test_p4_h3_x[:, 17]))\n",
    "print(\"prediction test explained_variance_score\", explained_variance_score(test_p4_h3_y, test_pred_h3))\n",
    "\n",
    "\n",
    "print(\"ETA train median_absolute_error\", median_absolute_error(train_p4_h3_y, train_p4_h3_x[:, 17]))\n",
    "print(\"prediction train median_absolute_error\", median_absolute_error(train_p4_h3_y, train_pred_h3))\n",
    "\n",
    "print(\"ETA test median_absolute_error \", median_absolute_error(test_p4_h3_y, test_p4_h3_x[:, 17]))\n",
    "print(\"prediction test median_absolute_error\", median_absolute_error(test_p4_h3_y, test_pred_h3))\n",
    "\n",
    "\n",
    "print(\"ETA train r2_score\", r2_score(train_p4_h3_y, train_p4_h3_x[:, 17]))\n",
    "print(\"prediction train r2_score\", r2_score(train_p4_h3_y, train_pred_h3))\n",
    "\n",
    "print(\"ETA test r2_score \", r2_score(test_p4_h3_y, test_p4_h3_x[:, 17]))\n",
    "print(\"prediction test r2_score\", r2_score(test_p4_h3_y, test_pred_h3))\n",
    "\n",
    "\n",
    "print(\"ETA train MAPE\", mean_absolute_percentage_error(train_p4_h3_y, train_p4_h3_x[:, 17]))\n",
    "print(\"prediction train MAPE\", mean_absolute_percentage_error(train_p4_h3_y, train_pred_h3))\n",
    "\n",
    "print(\"ETA test MAPE \", mean_absolute_percentage_error(test_p4_h3_y, test_p4_h3_x[:, 17]))\n",
    "print(\"prediction test MAPE\", mean_absolute_percentage_error(test_p4_h3_y, test_pred_h3))"
   ],
   "metadata": {
    "collapsed": false,
    "pycharm": {
     "name": "#%%\n"
    }
   }
  },
  {
   "cell_type": "code",
   "execution_count": 47,
   "outputs": [
    {
     "name": "stdout",
     "output_type": "stream",
     "text": [
      "[ 3.38839243e+11  3.38839243e+11  3.38839244e+11  3.38839243e+11\n",
      "  3.38839243e+11  3.38839243e+11  3.38839243e+11 -1.81469415e+11\n",
      " -1.81469415e+11 -1.81469415e+11 -1.81469415e+11 -1.81469415e+11\n",
      " -1.81469415e+11 -1.81469415e+11 -1.81469415e+11 -1.81469415e+11\n",
      " -1.81469415e+11  1.10072538e+00 -4.58049363e-01 -1.50679642e+02]\n",
      "-17055362.3876918\n"
     ]
    }
   ],
   "source": [
    "train_p4_h3_x_normalized = (train_p4_h3_x - train_p4_h3_x.min()) / (train_p4_h3_x.max() - train_p4_h3_x.min())\n",
    "train_p4_h3_y_normalized = (train_p4_h3_y - train_p4_h3_y.min()) / (train_p4_h3_y.max() - train_p4_h3_y.min())\n",
    "# test_p4_h3_x_normalized = (test_p4_h3_x - train_p4_h3_x.min()) / (train_p4_h3_x.max() - train_p4_h3_x.min())\n",
    "# test_p4_h3_y_normalized = (test_p4_h3_y - train_p4_h3_y.min()) / (train_p4_h3_y.max() - train_p4_h3_y.min())\n",
    "\n",
    "reg_p4_h3_normalized = LinearRegression().fit(train_p4_h3_x_normalized, train_p4_h3_y_normalized)\n",
    "print(reg_p4_h3_normalized.coef_)\n",
    "print(reg_p4_h3_normalized.intercept_)"
   ],
   "metadata": {
    "collapsed": false,
    "pycharm": {
     "name": "#%%\n"
    }
   }
  },
  {
   "cell_type": "code",
   "execution_count": null,
   "outputs": [],
   "source": [
    "%set_env AWS_ACCESS_KEY_ID=SokXIEc1g9vNqCJt4CSObyk6vumoOOPQ\n",
    "%set_env AWS_SECRET_ACCESS_KEY=QNyTpGhFjUTYSP9VKmfhpUizwKr0t8gk\n",
    "%set_env MLFLOW_S3_ENDPOINT_URL=https://minio-clustered-smapp-storage.apps.private.teh-1.snappcloud.io\n",
    "\n",
    "# create experiment\n",
    "%set_env MLFLOW_TRACKING_URI=https://mlflow.apps.private.okd4.teh-1.snappcloud.io/\n",
    "# mlflow experiments create --experiment-name elahe\n",
    "\n",
    "# run script under experiment\n",
    "%set_env MLFLOW_EXPERIMENT_NAME=elahe\n",
    "# cd save/\n",
    "# python test.py"
   ],
   "metadata": {
    "collapsed": false,
    "pycharm": {
     "name": "#%%\n"
    }
   }
  },
  {
   "cell_type": "code",
   "execution_count": null,
   "outputs": [],
   "source": [
    "! echo $AWS_ACCESS_KEY_ID\n",
    "! echo $AWS_SECRET_ACCESS_KEY\n",
    "! echo $MLFLOW_S3_ENDPOINT_URL\n",
    "! echo $MLFLOW_TRACKING_URI\n",
    "! echo $MLFLOW_EXPERIMENT_NAME"
   ],
   "metadata": {
    "collapsed": false,
    "pycharm": {
     "name": "#%%\n"
    }
   }
  },
  {
   "cell_type": "code",
   "execution_count": null,
   "outputs": [],
   "source": [
    "# with mlflow.start_run(run_name=\"regression\") as run:\n",
    "#     # Log the sklearn model and register as version 1\n",
    "#     mlflow.sklearn.log_model(\n",
    "#         sk_model=reg_p4,\n",
    "#         artifact_path=\"regression\",\n",
    "#         registered_model_name=\"reg-model\"\n",
    "#     )"
   ],
   "metadata": {
    "collapsed": false,
    "pycharm": {
     "name": "#%%\n"
    }
   }
  },
  {
   "cell_type": "code",
   "execution_count": null,
   "outputs": [],
   "source": [
    "# with mlflow.start_run(run_name=\"YOUR_RUN_NAME\") as run:\n",
    "#     params = {\"n_estimators\": 5, \"random_state\": 42}\n",
    "#     sk_learn_rfr = RandomForestRegressor(**params)\n",
    "#\n",
    "#     # Log parameters and metrics using the MLflow APIs\n",
    "#     mlflow.log_params(params)\n",
    "#     mlflow.log_param(\"param_1\", randint(0, 100))\n",
    "#     mlflow.log_metrics({\"metric_1\": random(), \"metric_2\": random() + 1})\n",
    "#\n",
    "#     # Log the sklearn model and register as version 1\n",
    "#     mlflow.sklearn.log_model(\n",
    "#         sk_model=sk_learn_rfr,\n",
    "#         artifact_path=\"sklearn-model\",\n",
    "#         registered_model_name=\"sk-learn-random-forest-reg-model\"\n",
    "#     )"
   ],
   "metadata": {
    "collapsed": false,
    "pycharm": {
     "name": "#%%\n"
    }
   }
  }
 ],
 "metadata": {
  "kernelspec": {
   "display_name": "Python 3",
   "language": "python",
   "name": "python3"
  },
  "language_info": {
   "codemirror_mode": {
    "name": "ipython",
    "version": 2
   },
   "file_extension": ".py",
   "mimetype": "text/x-python",
   "name": "python",
   "nbconvert_exporter": "python",
   "pygments_lexer": "ipython2",
   "version": "2.7.6"
  }
 },
 "nbformat": 4,
 "nbformat_minor": 0
}