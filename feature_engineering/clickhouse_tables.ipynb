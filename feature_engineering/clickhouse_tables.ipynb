{
 "cells": [
  {
   "cell_type": "code",
   "execution_count": 1,
   "outputs": [],
   "source": [
    "import pandas as pd\n",
    "import numpy as np\n",
    "from sklearn.linear_model import LinearRegression\n",
    "from sklearn.metrics import mean_absolute_error, mean_squared_error, explained_variance_score, median_absolute_error, r2_score, mean_absolute_percentage_error\n",
    "from sklearn.model_selection import train_test_split\n",
    "from scipy.stats import *\n",
    "import h3\n",
    "from sklearn.preprocessing import OneHotEncoder\n",
    "from sklearn.compose import ColumnTransformer\n",
    "from datetime import datetime\n",
    "from math import floor\n",
    "import matplotlib.pyplot as plt\n",
    "import mlflow\n",
    "import mlflow.sklearn"
   ],
   "metadata": {
    "collapsed": false,
    "pycharm": {
     "name": "#%%\n"
    }
   }
  },
  {
   "cell_type": "code",
   "execution_count": 2,
   "outputs": [],
   "source": [
    "ride_events_columns = ['id', 'ride_id', 'event_type', 'additional_info', 'created_at', 'created_date', 'updated_at', 'airflow_time', 'clickhouse_time', 'pipeline_type', 'pipeline_interval', 'kafka_time', 'kafka_offset']"
   ],
   "metadata": {
    "collapsed": false,
    "pycharm": {
     "name": "#%%\n"
    }
   }
  },
  {
   "cell_type": "code",
   "execution_count": null,
   "outputs": [],
   "source": [
    "[(19247398085, 5611345001, 2, None, datetime.datetime(2023, 1, 4, 9, 59, 48), datetime.date(2023, 1, 4), datetime.datetime(2023, 1, 4, 9, 59, 48), None, datetime.datetime(2023, 1, 4, 10, 0, 20), 'stream', '', datetime.datetime(2023, 1, 4, 9, 59, 51), 4164253065),\n",
    " (19247428314, 5611345001, 3, None, datetime.datetime(2023, 1, 4, 10, 1, 13), datetime.date(2023, 1, 4), datetime.datetime(2023, 1, 4, 10, 1, 13), None, datetime.datetime(2023, 1, 4, 10, 1, 55), 'stream', '', datetime.datetime(2023, 1, 4, 10, 1, 15), 4164989892),\n",
    " (19247511014, 5611345001, 4, None, datetime.datetime(2023, 1, 4, 10, 5, 6), datetime.date(2023, 1, 4), datetime.datetime(2023, 1, 4, 10, 5, 6), None, datetime.datetime(2023, 1, 4, 10, 6, 26), 'stream', '', datetime.datetime(2023, 1, 4, 10, 5, 7), 4164309677),\n",
    " (19248771031, 5611345001, 5, None, datetime.datetime(2023, 1, 4, 11, 4, 22), datetime.date(2023, 1, 4), datetime.datetime(2023, 1, 4, 11, 4, 22), None, datetime.datetime(2023, 1, 4, 11, 4, 36), 'stream', '', datetime.datetime(2023, 1, 4, 11, 4, 24), 4165660998),\n",
    " (19247805050, 5611345001, 16, None, datetime.datetime(2023, 1, 4, 10, 19, 9), datetime.date(2023, 1, 4), datetime.datetime(2023, 1, 4, 10, 19, 9), None, datetime.datetime(2023, 1, 4, 10, 20, 8), 'stream', '', datetime.datetime(2023, 1, 4, 10, 19, 12), 4164456731)]\n"
   ],
   "metadata": {
    "collapsed": false,
    "pycharm": {
     "name": "#%%\n"
    }
   }
  },
  {
   "cell_type": "code",
   "execution_count": null,
   "outputs": [],
   "source": [],
   "metadata": {
    "collapsed": false,
    "pycharm": {
     "name": "#%%\n"
    }
   }
  },
  {
   "cell_type": "code",
   "execution_count": null,
   "outputs": [],
   "source": [
    "rides_view_columns = ['id', 'passenger_id', 'accepted_driver_id', 'origin_lat', 'origin_lng', 'origin_place_id', 'origin_details', 'origin_formatted_address', 'destination_lat', 'destination_lng', 'destination_place_id', 'destination_details', 'destination_formatted_address', 'is_dest_in_even_odd', 'is_dest_in_traffic_zone', 'is_origin_in_traffic_zone', 'is_origin_in_even_odd', 'estimated_duration', 'real_duration', 'estimated_distance', 'final_price', 'trip_price', 'service_type', 'sub_service_type', 'human_readable_id', 'latest_ride_status', 'ride_voucher_id', 'free_ride_id', 'driver_subsidize_value', 'passenger_subsidize_value', 'need_fare_review', 'is_fare_review_done', 'extra_destination_even_odd', 'extra_destination_main_congestion', 'extra_destination_formatted_address', 'extra_destination_lng', 'extra_destination_lat', 'waiting_price', 'waiting', 'extra_destination_price', 'round_trip_price', 'services_price', 'is_passenger_first_ride', 'created_at', 'created_date', 'updated_at', 'airflow_time', 'clickhouse_time', 'kafka_time', 'kafka_offset', 'pipeline_type', 'pipeline_interval']"
   ],
   "metadata": {
    "collapsed": false,
    "pycharm": {
     "name": "#%%\n"
    }
   }
  },
  {
   "cell_type": "code",
   "execution_count": null,
   "outputs": [],
   "source": [
    "[(5611345001, 41495058, 34520, 35.70654296875, 51.413570404052734, 0, '', 'تهران، ولیعصر، آیت الله طالقانی بعد از حافظ، خدمات بیمه رستمی', 35.75969696044922, 51.41564178466797, 0, '', 'تهران، ونک، بزرگراه شهید حقانی، بلوار نلسون ماندلا، پدیدار، بانک پاسارگاد', 0, 0, 1, 0, 30, 64, 16470, 745000, 0, 1, None, 'SNP-230104-34686-6681', 5, 0, 0, 111750.0, 0.0, 0, 0, 0, 0, '', 0.0, 0.0, 1, '20m-25m', 0, 236484, 0, 0, datetime.datetime(2023, 1, 4, 9, 58, 59), datetime.date(2023, 1, 4), datetime.datetime(2023, 1, 4, 11, 4, 22), None, datetime.datetime(2023, 1, 4, 11, 4, 39), datetime.datetime(2023, 1, 4, 11, 4, 24), 782064271, 'stream', '')]"
   ],
   "metadata": {
    "collapsed": false,
    "pycharm": {
     "name": "#%%\n"
    }
   }
  }
 ],
 "metadata": {
  "kernelspec": {
   "display_name": "Python 3",
   "language": "python",
   "name": "python3"
  },
  "language_info": {
   "codemirror_mode": {
    "name": "ipython",
    "version": 2
   },
   "file_extension": ".py",
   "mimetype": "text/x-python",
   "name": "python",
   "nbconvert_exporter": "python",
   "pygments_lexer": "ipython2",
   "version": "2.7.6"
  }
 },
 "nbformat": 4,
 "nbformat_minor": 0
}