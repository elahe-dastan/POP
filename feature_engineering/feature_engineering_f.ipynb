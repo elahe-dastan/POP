{
 "cells": [
  {
   "cell_type": "code",
   "execution_count": 61,
   "metadata": {
    "collapsed": true,
    "pycharm": {
     "name": "#%%\n"
    }
   },
   "outputs": [],
   "source": [
    "import pandas as pd\n",
    "import numpy as np\n",
    "from sklearn.linear_model import LinearRegression\n",
    "from sklearn.metrics import mean_absolute_error, mean_squared_error, explained_variance_score, median_absolute_error, r2_score, mean_absolute_percentage_error\n",
    "from sklearn.model_selection import train_test_split\n",
    "from scipy.stats import *\n",
    "import h3\n",
    "from sklearn.preprocessing import OneHotEncoder\n",
    "from sklearn.compose import ColumnTransformer\n",
    "from datetime import datetime"
   ]
  },
  {
   "cell_type": "code",
   "execution_count": 62,
   "outputs": [],
   "source": [
    "ride_columns = ['accepted_driver_id', 'created_at', 'passenger_id', 'source_lat',\n",
    "       'source_lng', 'destination_lat', 'destination_lng', 'eta', 'provider',\n",
    "       'ata', 'id', 'city']\n",
    "\n",
    "khatkesh_columns = ['ride_id','driver_id','a_t_a_result.arrival_a_t_a','a_t_a_result.boarding_a_t_a','a_t_a_result.ride_a_t_a','a_t_a_result.arrival_probe_result.probe.point.lat','a_t_a_result.arrival_probe_result.probe.point.lon','a_t_a_result.arrival_probe_result.probe.timestamp','a_t_a_result.arrival_probe_result.confidence','a_t_a_result.arrival_probe_result.h3_index', 'a_t_a_result.arrival_probe_result.k_ring_level','a_t_a_result.boarding_probe_result.probe.point.lat','a_t_a_result.boarding_probe_result.probe.point.lon','a_t_a_result.boarding_probe_result.probe.timestamp','a_t_a_result.boarding_probe_result.confidence','a_t_a_result.boarding_probe_result.h3_index','a_t_a_result.boarding_probe_result.k_ring_level','a_t_a_result.final_destination_probe_result.probe.point.lat','a_t_a_result.final_destination_probe_result.probe.point.lon','a_t_a_result.final_destination_probe_result.probe.timestamp','a_t_a_result.final_destination_probe_result.confidence','a_t_a_result.final_destination_probe_result.h3_index','a_t_a_result.final_destination_probe_result.k_ring_level','a_t_a_result.destination_probe_result.probe.point.lat','a_t_a_result.destination_probe_result.probe.point.lon','a_t_a_result.destination_probe_result.probe.timestamp','a_t_a_result.destination_probe_result.confidence','a_t_a_result.destination_probe_result.h3_index','a_t_a_result.destination_probe_result.k_ring_level','a_t_a_result.extra_destination_probe_result.probe.point.lat','a_t_a_result.extra_destination_probe_result.probe.point.lon','a_t_a_result.extra_destination_probe_result.probe.timestamp','a_t_a_result.extra_destination_probe_result.confidence','a_t_a_result.extra_destination_probe_result.h3_index','a_t_a_result.extra_destination_probe_result.k_ring_level','pickup_a_d_d_result.distance','pickup_a_d_d_result.confidence','pickup_a_d_d_result.route_ratio','pickup_a_d_d_result.g_p_s_ratio','ride_a_d_d_result.distance','ride_a_d_d_result.confidence','ride_a_d_d_result.route_ratio','ride_a_d_d_result.g_p_s_ratio','total_a_d_d_confidence','in_ride_allotment','e_d_d','clickhouse_time','hash']\n"
   ],
   "metadata": {
    "collapsed": false,
    "pycharm": {
     "name": "#%%\n"
    }
   }
  },
  {
   "cell_type": "code",
   "execution_count": 63,
   "outputs": [
    {
     "data": {
      "text/plain": "       accepted_driver_id  passenger_id     source_lat     source_lng  \\\ncount        1.596830e+05  1.596830e+05  159683.000000  159683.000000   \nmean         1.868788e+06  2.278562e+07      35.698257      51.403706   \nstd          1.445439e+06  1.803592e+07       0.090250       0.134872   \nmin          1.700000e+01  7.300000e+01      35.206379      50.900906   \n25%          4.257585e+05  4.296193e+06      35.671185      51.337521   \n50%          1.717339e+06  2.221839e+07      35.723324      51.407818   \n75%          3.169017e+06  3.718564e+07      35.755314      51.464214   \nmax          4.406427e+06  5.802538e+07      35.838417      52.796253   \n\n       destination_lat  destination_lng            eta            ata  \\\ncount    159683.000000    159683.000000  159683.000000  159683.000000   \nmean         35.699582        51.395934    1087.637720    1450.095439   \nstd           0.092109         0.147025     815.242177    1435.581328   \nmin          32.704700        49.693703       5.000000     120.000000   \n25%          35.672188        51.333807     493.000000     536.000000   \n50%          35.723465        51.406910     865.000000    1004.000000   \n75%          35.755663        51.463354    1451.000000    1840.000000   \nmax          37.119347        54.964043   15176.000000   33442.000000   \n\n            ride_id      city  \ncount  1.596830e+05  159683.0  \nmean   5.057335e+09       1.0  \nstd    1.639342e+06       0.0  \nmin    5.054181e+09       1.0  \n25%    5.055863e+09       1.0  \n50%    5.057867e+09       1.0  \n75%    5.058542e+09       1.0  \nmax    5.060301e+09       1.0  ",
      "text/html": "<div>\n<style scoped>\n    .dataframe tbody tr th:only-of-type {\n        vertical-align: middle;\n    }\n\n    .dataframe tbody tr th {\n        vertical-align: top;\n    }\n\n    .dataframe thead th {\n        text-align: right;\n    }\n</style>\n<table border=\"1\" class=\"dataframe\">\n  <thead>\n    <tr style=\"text-align: right;\">\n      <th></th>\n      <th>accepted_driver_id</th>\n      <th>passenger_id</th>\n      <th>source_lat</th>\n      <th>source_lng</th>\n      <th>destination_lat</th>\n      <th>destination_lng</th>\n      <th>eta</th>\n      <th>ata</th>\n      <th>ride_id</th>\n      <th>city</th>\n    </tr>\n  </thead>\n  <tbody>\n    <tr>\n      <th>count</th>\n      <td>1.596830e+05</td>\n      <td>1.596830e+05</td>\n      <td>159683.000000</td>\n      <td>159683.000000</td>\n      <td>159683.000000</td>\n      <td>159683.000000</td>\n      <td>159683.000000</td>\n      <td>159683.000000</td>\n      <td>1.596830e+05</td>\n      <td>159683.0</td>\n    </tr>\n    <tr>\n      <th>mean</th>\n      <td>1.868788e+06</td>\n      <td>2.278562e+07</td>\n      <td>35.698257</td>\n      <td>51.403706</td>\n      <td>35.699582</td>\n      <td>51.395934</td>\n      <td>1087.637720</td>\n      <td>1450.095439</td>\n      <td>5.057335e+09</td>\n      <td>1.0</td>\n    </tr>\n    <tr>\n      <th>std</th>\n      <td>1.445439e+06</td>\n      <td>1.803592e+07</td>\n      <td>0.090250</td>\n      <td>0.134872</td>\n      <td>0.092109</td>\n      <td>0.147025</td>\n      <td>815.242177</td>\n      <td>1435.581328</td>\n      <td>1.639342e+06</td>\n      <td>0.0</td>\n    </tr>\n    <tr>\n      <th>min</th>\n      <td>1.700000e+01</td>\n      <td>7.300000e+01</td>\n      <td>35.206379</td>\n      <td>50.900906</td>\n      <td>32.704700</td>\n      <td>49.693703</td>\n      <td>5.000000</td>\n      <td>120.000000</td>\n      <td>5.054181e+09</td>\n      <td>1.0</td>\n    </tr>\n    <tr>\n      <th>25%</th>\n      <td>4.257585e+05</td>\n      <td>4.296193e+06</td>\n      <td>35.671185</td>\n      <td>51.337521</td>\n      <td>35.672188</td>\n      <td>51.333807</td>\n      <td>493.000000</td>\n      <td>536.000000</td>\n      <td>5.055863e+09</td>\n      <td>1.0</td>\n    </tr>\n    <tr>\n      <th>50%</th>\n      <td>1.717339e+06</td>\n      <td>2.221839e+07</td>\n      <td>35.723324</td>\n      <td>51.407818</td>\n      <td>35.723465</td>\n      <td>51.406910</td>\n      <td>865.000000</td>\n      <td>1004.000000</td>\n      <td>5.057867e+09</td>\n      <td>1.0</td>\n    </tr>\n    <tr>\n      <th>75%</th>\n      <td>3.169017e+06</td>\n      <td>3.718564e+07</td>\n      <td>35.755314</td>\n      <td>51.464214</td>\n      <td>35.755663</td>\n      <td>51.463354</td>\n      <td>1451.000000</td>\n      <td>1840.000000</td>\n      <td>5.058542e+09</td>\n      <td>1.0</td>\n    </tr>\n    <tr>\n      <th>max</th>\n      <td>4.406427e+06</td>\n      <td>5.802538e+07</td>\n      <td>35.838417</td>\n      <td>52.796253</td>\n      <td>37.119347</td>\n      <td>54.964043</td>\n      <td>15176.000000</td>\n      <td>33442.000000</td>\n      <td>5.060301e+09</td>\n      <td>1.0</td>\n    </tr>\n  </tbody>\n</table>\n</div>"
     },
     "execution_count": 63,
     "metadata": {},
     "output_type": "execute_result"
    }
   ],
   "source": [
    "rides = pd.read_csv(\"../rides_oct_04.csv\", names=ride_columns)\n",
    "rides.rename(columns={'id': 'ride_id'}, inplace=True)\n",
    "rides.describe()"
   ],
   "metadata": {
    "collapsed": false,
    "pycharm": {
     "name": "#%%\n"
    }
   }
  },
  {
   "cell_type": "code",
   "execution_count": 64,
   "outputs": [
    {
     "data": {
      "text/plain": "            ride_id     driver_id  a_t_a_result.arrival_a_t_a  \\\ncount  2.618660e+06  2.618660e+06                2.618660e+06   \nmean   5.056956e+09  2.304882e+06                1.825271e+02   \nstd    1.934576e+06  1.388276e+06                1.455708e+02   \nmin    4.909169e+09  1.900000e+01                0.000000e+00   \n25%    5.055321e+09  1.056697e+06                8.900000e+01   \n50%    5.056470e+09  2.316600e+06                1.630000e+02   \n75%    5.059059e+09  3.579686e+06                2.510000e+02   \nmax    5.060302e+09  4.406555e+06                1.302400e+04   \n\n       a_t_a_result.boarding_a_t_a  a_t_a_result.ride_a_t_a  \\\ncount                 2.618660e+06             2.618660e+06   \nmean                  1.245440e+16             4.551262e+07   \nstd                   4.791536e+17             1.703405e+09   \nmin                   0.000000e+00             1.000000e+00   \n25%                   8.000000e+00             4.150000e+02   \n50%                   3.600000e+01             7.130000e+02   \n75%                   1.210000e+02             1.213000e+03   \nmax                   1.844674e+19             6.380051e+10   \n\n       a_t_a_result.arrival_probe_result.probe.point.lat  \\\ncount                                       2.618660e+06   \nmean                                        3.461026e+01   \nstd                                         2.485676e+00   \nmin                                         2.527766e+01   \n25%                                         3.271202e+01   \n50%                                         3.570702e+01   \n75%                                         3.618736e+01   \nmax                                         3.966209e+01   \n\n       a_t_a_result.arrival_probe_result.probe.point.lon  \\\ncount                                       2.618660e+06   \nmean                                        5.201785e+01   \nstd                                         3.399691e+00   \nmin                                         4.483287e+01   \n25%                                         5.090458e+01   \n50%                                         5.141611e+01   \n75%                                         5.250969e+01   \nmax                                         6.117037e+01   \n\n       a_t_a_result.arrival_probe_result.probe.timestamp  \\\ncount                                       2.618660e+06   \nmean                                        2.063995e+15   \nstd                                         1.951146e+17   \nmin                                         1.664541e+09   \n25%                                         1.664864e+09   \n50%                                         1.664875e+09   \n75%                                         1.664897e+09   \nmax                                         1.844674e+19   \n\n       a_t_a_result.arrival_probe_result.confidence  \\\ncount                                  2.618660e+06   \nmean                                   7.529954e-01   \nstd                                    3.303889e-01   \nmin                                    0.000000e+00   \n25%                                    7.692308e-01   \n50%                                    7.692308e-01   \n75%                                    1.000000e+00   \nmax                                    1.000000e+00   \n\n       a_t_a_result.arrival_probe_result.k_ring_level  ...  \\\ncount                                    2.618660e+06  ...   \nmean                                     1.078977e+00  ...   \nstd                                      1.398187e+00  ...   \nmin                                      0.000000e+00  ...   \n25%                                      0.000000e+00  ...   \n50%                                      1.000000e+00  ...   \n75%                                      1.000000e+00  ...   \nmax                                      4.000000e+00  ...   \n\n       pickup_a_d_d_result.route_ratio  pickup_a_d_d_result.g_p_s_ratio  \\\ncount                     2.618660e+06                     2.618660e+06   \nmean                      3.827068e-04                     1.541872e-02   \nstd                       1.770072e-02                     1.751480e-02   \nmin                       0.000000e+00                     0.000000e+00   \n25%                       0.000000e+00                     5.988024e-03   \n50%                       0.000000e+00                     1.176471e-02   \n75%                       0.000000e+00                     2.083333e-02   \nmax                       1.000000e+00                     1.000000e+00   \n\n       ride_a_d_d_result.distance  ride_a_d_d_result.confidence  \\\ncount                2.618660e+06                  2.618660e+06   \nmean                 1.482863e+01                  8.681529e-01   \nstd                  2.739082e+01                  1.872764e-01   \nmin                  0.000000e+00                  0.000000e+00   \n25%                  4.984000e+00                  7.800452e-01   \n50%                  9.536000e+00                  9.743628e-01   \n75%                  1.812500e+01                  1.000000e+00   \nmax                  2.411975e+04                  1.000000e+00   \n\n       ride_a_d_d_result.route_ratio  ride_a_d_d_result.g_p_s_ratio  \\\ncount                   2.618660e+06                   2.618660e+06   \nmean                    1.422473e-04                   7.432016e-01   \nstd                     5.702591e-03                   3.420945e-01   \nmin                     0.000000e+00                   0.000000e+00   \n25%                     0.000000e+00                   5.573770e-01   \n50%                     0.000000e+00                   9.352518e-01   \n75%                     0.000000e+00                   1.000000e+00   \nmax                     1.000000e+00                   1.000000e+00   \n\n       total_a_d_d_confidence  in_ride_allotment         e_d_d          hash  \ncount            2.618660e+06       2.618660e+06  2.618660e+06  2.618660e+06  \nmean             8.774527e-01       3.985876e-02  9.016624e+00  9.230223e+18  \nstd              1.761965e-01       5.874980e-01  1.255118e+01  5.326241e+18  \nmin              0.000000e+00       0.000000e+00  0.000000e+00  1.117813e+13  \n25%              8.131230e-01       0.000000e+00  2.972000e+00  4.616146e+18  \n50%              9.710467e-01       0.000000e+00  5.655000e+00  9.234145e+18  \n75%              1.000000e+00       0.000000e+00  1.078300e+01  1.384798e+19  \nmax              1.000000e+00       5.679475e+02  8.299960e+02  1.844674e+19  \n\n[8 rows x 42 columns]",
      "text/html": "<div>\n<style scoped>\n    .dataframe tbody tr th:only-of-type {\n        vertical-align: middle;\n    }\n\n    .dataframe tbody tr th {\n        vertical-align: top;\n    }\n\n    .dataframe thead th {\n        text-align: right;\n    }\n</style>\n<table border=\"1\" class=\"dataframe\">\n  <thead>\n    <tr style=\"text-align: right;\">\n      <th></th>\n      <th>ride_id</th>\n      <th>driver_id</th>\n      <th>a_t_a_result.arrival_a_t_a</th>\n      <th>a_t_a_result.boarding_a_t_a</th>\n      <th>a_t_a_result.ride_a_t_a</th>\n      <th>a_t_a_result.arrival_probe_result.probe.point.lat</th>\n      <th>a_t_a_result.arrival_probe_result.probe.point.lon</th>\n      <th>a_t_a_result.arrival_probe_result.probe.timestamp</th>\n      <th>a_t_a_result.arrival_probe_result.confidence</th>\n      <th>a_t_a_result.arrival_probe_result.k_ring_level</th>\n      <th>...</th>\n      <th>pickup_a_d_d_result.route_ratio</th>\n      <th>pickup_a_d_d_result.g_p_s_ratio</th>\n      <th>ride_a_d_d_result.distance</th>\n      <th>ride_a_d_d_result.confidence</th>\n      <th>ride_a_d_d_result.route_ratio</th>\n      <th>ride_a_d_d_result.g_p_s_ratio</th>\n      <th>total_a_d_d_confidence</th>\n      <th>in_ride_allotment</th>\n      <th>e_d_d</th>\n      <th>hash</th>\n    </tr>\n  </thead>\n  <tbody>\n    <tr>\n      <th>count</th>\n      <td>2.618660e+06</td>\n      <td>2.618660e+06</td>\n      <td>2.618660e+06</td>\n      <td>2.618660e+06</td>\n      <td>2.618660e+06</td>\n      <td>2.618660e+06</td>\n      <td>2.618660e+06</td>\n      <td>2.618660e+06</td>\n      <td>2.618660e+06</td>\n      <td>2.618660e+06</td>\n      <td>...</td>\n      <td>2.618660e+06</td>\n      <td>2.618660e+06</td>\n      <td>2.618660e+06</td>\n      <td>2.618660e+06</td>\n      <td>2.618660e+06</td>\n      <td>2.618660e+06</td>\n      <td>2.618660e+06</td>\n      <td>2.618660e+06</td>\n      <td>2.618660e+06</td>\n      <td>2.618660e+06</td>\n    </tr>\n    <tr>\n      <th>mean</th>\n      <td>5.056956e+09</td>\n      <td>2.304882e+06</td>\n      <td>1.825271e+02</td>\n      <td>1.245440e+16</td>\n      <td>4.551262e+07</td>\n      <td>3.461026e+01</td>\n      <td>5.201785e+01</td>\n      <td>2.063995e+15</td>\n      <td>7.529954e-01</td>\n      <td>1.078977e+00</td>\n      <td>...</td>\n      <td>3.827068e-04</td>\n      <td>1.541872e-02</td>\n      <td>1.482863e+01</td>\n      <td>8.681529e-01</td>\n      <td>1.422473e-04</td>\n      <td>7.432016e-01</td>\n      <td>8.774527e-01</td>\n      <td>3.985876e-02</td>\n      <td>9.016624e+00</td>\n      <td>9.230223e+18</td>\n    </tr>\n    <tr>\n      <th>std</th>\n      <td>1.934576e+06</td>\n      <td>1.388276e+06</td>\n      <td>1.455708e+02</td>\n      <td>4.791536e+17</td>\n      <td>1.703405e+09</td>\n      <td>2.485676e+00</td>\n      <td>3.399691e+00</td>\n      <td>1.951146e+17</td>\n      <td>3.303889e-01</td>\n      <td>1.398187e+00</td>\n      <td>...</td>\n      <td>1.770072e-02</td>\n      <td>1.751480e-02</td>\n      <td>2.739082e+01</td>\n      <td>1.872764e-01</td>\n      <td>5.702591e-03</td>\n      <td>3.420945e-01</td>\n      <td>1.761965e-01</td>\n      <td>5.874980e-01</td>\n      <td>1.255118e+01</td>\n      <td>5.326241e+18</td>\n    </tr>\n    <tr>\n      <th>min</th>\n      <td>4.909169e+09</td>\n      <td>1.900000e+01</td>\n      <td>0.000000e+00</td>\n      <td>0.000000e+00</td>\n      <td>1.000000e+00</td>\n      <td>2.527766e+01</td>\n      <td>4.483287e+01</td>\n      <td>1.664541e+09</td>\n      <td>0.000000e+00</td>\n      <td>0.000000e+00</td>\n      <td>...</td>\n      <td>0.000000e+00</td>\n      <td>0.000000e+00</td>\n      <td>0.000000e+00</td>\n      <td>0.000000e+00</td>\n      <td>0.000000e+00</td>\n      <td>0.000000e+00</td>\n      <td>0.000000e+00</td>\n      <td>0.000000e+00</td>\n      <td>0.000000e+00</td>\n      <td>1.117813e+13</td>\n    </tr>\n    <tr>\n      <th>25%</th>\n      <td>5.055321e+09</td>\n      <td>1.056697e+06</td>\n      <td>8.900000e+01</td>\n      <td>8.000000e+00</td>\n      <td>4.150000e+02</td>\n      <td>3.271202e+01</td>\n      <td>5.090458e+01</td>\n      <td>1.664864e+09</td>\n      <td>7.692308e-01</td>\n      <td>0.000000e+00</td>\n      <td>...</td>\n      <td>0.000000e+00</td>\n      <td>5.988024e-03</td>\n      <td>4.984000e+00</td>\n      <td>7.800452e-01</td>\n      <td>0.000000e+00</td>\n      <td>5.573770e-01</td>\n      <td>8.131230e-01</td>\n      <td>0.000000e+00</td>\n      <td>2.972000e+00</td>\n      <td>4.616146e+18</td>\n    </tr>\n    <tr>\n      <th>50%</th>\n      <td>5.056470e+09</td>\n      <td>2.316600e+06</td>\n      <td>1.630000e+02</td>\n      <td>3.600000e+01</td>\n      <td>7.130000e+02</td>\n      <td>3.570702e+01</td>\n      <td>5.141611e+01</td>\n      <td>1.664875e+09</td>\n      <td>7.692308e-01</td>\n      <td>1.000000e+00</td>\n      <td>...</td>\n      <td>0.000000e+00</td>\n      <td>1.176471e-02</td>\n      <td>9.536000e+00</td>\n      <td>9.743628e-01</td>\n      <td>0.000000e+00</td>\n      <td>9.352518e-01</td>\n      <td>9.710467e-01</td>\n      <td>0.000000e+00</td>\n      <td>5.655000e+00</td>\n      <td>9.234145e+18</td>\n    </tr>\n    <tr>\n      <th>75%</th>\n      <td>5.059059e+09</td>\n      <td>3.579686e+06</td>\n      <td>2.510000e+02</td>\n      <td>1.210000e+02</td>\n      <td>1.213000e+03</td>\n      <td>3.618736e+01</td>\n      <td>5.250969e+01</td>\n      <td>1.664897e+09</td>\n      <td>1.000000e+00</td>\n      <td>1.000000e+00</td>\n      <td>...</td>\n      <td>0.000000e+00</td>\n      <td>2.083333e-02</td>\n      <td>1.812500e+01</td>\n      <td>1.000000e+00</td>\n      <td>0.000000e+00</td>\n      <td>1.000000e+00</td>\n      <td>1.000000e+00</td>\n      <td>0.000000e+00</td>\n      <td>1.078300e+01</td>\n      <td>1.384798e+19</td>\n    </tr>\n    <tr>\n      <th>max</th>\n      <td>5.060302e+09</td>\n      <td>4.406555e+06</td>\n      <td>1.302400e+04</td>\n      <td>1.844674e+19</td>\n      <td>6.380051e+10</td>\n      <td>3.966209e+01</td>\n      <td>6.117037e+01</td>\n      <td>1.844674e+19</td>\n      <td>1.000000e+00</td>\n      <td>4.000000e+00</td>\n      <td>...</td>\n      <td>1.000000e+00</td>\n      <td>1.000000e+00</td>\n      <td>2.411975e+04</td>\n      <td>1.000000e+00</td>\n      <td>1.000000e+00</td>\n      <td>1.000000e+00</td>\n      <td>1.000000e+00</td>\n      <td>5.679475e+02</td>\n      <td>8.299960e+02</td>\n      <td>1.844674e+19</td>\n    </tr>\n  </tbody>\n</table>\n<p>8 rows × 42 columns</p>\n</div>"
     },
     "execution_count": 64,
     "metadata": {},
     "output_type": "execute_result"
    }
   ],
   "source": [
    "khatkesh = pd.read_csv(\"../khatkesh_oct_04.csv\", names=khatkesh_columns)\n",
    "khatkesh.describe()"
   ],
   "metadata": {
    "collapsed": false,
    "pycharm": {
     "name": "#%%\n"
    }
   }
  },
  {
   "cell_type": "code",
   "execution_count": 65,
   "outputs": [
    {
     "data": {
      "text/plain": "       accepted_driver_id  passenger_id     source_lat     source_lng  \\\ncount        1.221010e+05  1.221010e+05  122101.000000  122101.000000   \nmean         1.848439e+06  2.268182e+07      35.698826      51.404283   \nstd          1.444548e+06  1.805134e+07       0.089296       0.134039   \nmin          1.900000e+01  7.300000e+01      35.206379      50.901119   \n25%          4.092120e+05  4.211474e+06      35.672398      51.339085   \n50%          1.675282e+06  2.198736e+07      35.723095      51.408333   \n75%          3.143467e+06  3.706758e+07      35.755032      51.464085   \nmax          4.406427e+06  5.802527e+07      35.838417      52.788544   \n\n       destination_lat  destination_lng            eta            ata  \\\ncount    122101.000000    122101.000000  122101.000000  122101.000000   \nmean         35.700340        51.396544    1065.450586    1369.975676   \nstd           0.092039         0.146207     818.484466    1410.361303   \nmin          32.704700        49.693703       5.000000     120.000000   \n25%          35.674412        51.335281     480.000000     517.000000   \n50%          35.723587        51.407761     838.000000     949.000000   \n75%          35.755920        51.461910    1403.000000    1699.000000   \nmax          37.119347        54.964043   15176.000000   33442.000000   \n\n            ride_id      city  ...  pickup_a_d_d_result.route_ratio  \\\ncount  1.221010e+05  122101.0  ...                     122101.00000   \nmean   5.057093e+09       1.0  ...                          0.00017   \nstd    1.774106e+06       0.0  ...                          0.01040   \nmin    5.054181e+09       1.0  ...                          0.00000   \n25%    5.055473e+09       1.0  ...                          0.00000   \n50%    5.056936e+09       1.0  ...                          0.00000   \n75%    5.058268e+09       1.0  ...                          0.00000   \nmax    5.060301e+09       1.0  ...                          1.00000   \n\n       pickup_a_d_d_result.g_p_s_ratio  ride_a_d_d_result.distance  \\\ncount                    122101.000000               122101.000000   \nmean                          0.013061                   18.118966   \nstd                           0.014301                   19.821617   \nmin                           0.000000                    0.000000   \n25%                           0.004651                    5.659000   \n50%                           0.009259                   12.074000   \n75%                           0.017241                   23.447001   \nmax                           0.500000                  542.096558   \n\n       ride_a_d_d_result.confidence  ride_a_d_d_result.route_ratio  \\\ncount                 122101.000000                  122101.000000   \nmean                       0.880607                       0.000102   \nstd                        0.172613                       0.004783   \nmin                        0.000000                       0.000000   \n25%                        0.818201                       0.000000   \n50%                        0.974527                       0.000000   \n75%                        1.000000                       0.000000   \nmax                        1.000000                       1.000000   \n\n       ride_a_d_d_result.g_p_s_ratio  total_a_d_d_confidence  \\\ncount                  122101.000000           122101.000000   \nmean                        0.760535                0.888471   \nstd                         0.325205                0.162250   \nmin                         0.000000                0.000000   \n25%                         0.612903                0.838723   \n50%                         0.939394                0.972232   \n75%                         1.000000                1.000000   \nmax                         1.000000                1.000000   \n\n       in_ride_allotment          e_d_d          hash  \ncount      122101.000000  122101.000000  1.221010e+05  \nmean            0.022346      10.700909  9.250468e+18  \nstd             0.219012      12.028427  5.322481e+18  \nmin             0.000000       0.185000  1.685138e+14  \n25%             0.000000       3.354000  4.623859e+18  \n50%             0.000000       7.202000  9.263763e+18  \n75%             0.000000      13.623000  1.388126e+19  \nmax            25.559000     428.690002  1.844668e+19  \n\n[8 rows x 51 columns]",
      "text/html": "<div>\n<style scoped>\n    .dataframe tbody tr th:only-of-type {\n        vertical-align: middle;\n    }\n\n    .dataframe tbody tr th {\n        vertical-align: top;\n    }\n\n    .dataframe thead th {\n        text-align: right;\n    }\n</style>\n<table border=\"1\" class=\"dataframe\">\n  <thead>\n    <tr style=\"text-align: right;\">\n      <th></th>\n      <th>accepted_driver_id</th>\n      <th>passenger_id</th>\n      <th>source_lat</th>\n      <th>source_lng</th>\n      <th>destination_lat</th>\n      <th>destination_lng</th>\n      <th>eta</th>\n      <th>ata</th>\n      <th>ride_id</th>\n      <th>city</th>\n      <th>...</th>\n      <th>pickup_a_d_d_result.route_ratio</th>\n      <th>pickup_a_d_d_result.g_p_s_ratio</th>\n      <th>ride_a_d_d_result.distance</th>\n      <th>ride_a_d_d_result.confidence</th>\n      <th>ride_a_d_d_result.route_ratio</th>\n      <th>ride_a_d_d_result.g_p_s_ratio</th>\n      <th>total_a_d_d_confidence</th>\n      <th>in_ride_allotment</th>\n      <th>e_d_d</th>\n      <th>hash</th>\n    </tr>\n  </thead>\n  <tbody>\n    <tr>\n      <th>count</th>\n      <td>1.221010e+05</td>\n      <td>1.221010e+05</td>\n      <td>122101.000000</td>\n      <td>122101.000000</td>\n      <td>122101.000000</td>\n      <td>122101.000000</td>\n      <td>122101.000000</td>\n      <td>122101.000000</td>\n      <td>1.221010e+05</td>\n      <td>122101.0</td>\n      <td>...</td>\n      <td>122101.00000</td>\n      <td>122101.000000</td>\n      <td>122101.000000</td>\n      <td>122101.000000</td>\n      <td>122101.000000</td>\n      <td>122101.000000</td>\n      <td>122101.000000</td>\n      <td>122101.000000</td>\n      <td>122101.000000</td>\n      <td>1.221010e+05</td>\n    </tr>\n    <tr>\n      <th>mean</th>\n      <td>1.848439e+06</td>\n      <td>2.268182e+07</td>\n      <td>35.698826</td>\n      <td>51.404283</td>\n      <td>35.700340</td>\n      <td>51.396544</td>\n      <td>1065.450586</td>\n      <td>1369.975676</td>\n      <td>5.057093e+09</td>\n      <td>1.0</td>\n      <td>...</td>\n      <td>0.00017</td>\n      <td>0.013061</td>\n      <td>18.118966</td>\n      <td>0.880607</td>\n      <td>0.000102</td>\n      <td>0.760535</td>\n      <td>0.888471</td>\n      <td>0.022346</td>\n      <td>10.700909</td>\n      <td>9.250468e+18</td>\n    </tr>\n    <tr>\n      <th>std</th>\n      <td>1.444548e+06</td>\n      <td>1.805134e+07</td>\n      <td>0.089296</td>\n      <td>0.134039</td>\n      <td>0.092039</td>\n      <td>0.146207</td>\n      <td>818.484466</td>\n      <td>1410.361303</td>\n      <td>1.774106e+06</td>\n      <td>0.0</td>\n      <td>...</td>\n      <td>0.01040</td>\n      <td>0.014301</td>\n      <td>19.821617</td>\n      <td>0.172613</td>\n      <td>0.004783</td>\n      <td>0.325205</td>\n      <td>0.162250</td>\n      <td>0.219012</td>\n      <td>12.028427</td>\n      <td>5.322481e+18</td>\n    </tr>\n    <tr>\n      <th>min</th>\n      <td>1.900000e+01</td>\n      <td>7.300000e+01</td>\n      <td>35.206379</td>\n      <td>50.901119</td>\n      <td>32.704700</td>\n      <td>49.693703</td>\n      <td>5.000000</td>\n      <td>120.000000</td>\n      <td>5.054181e+09</td>\n      <td>1.0</td>\n      <td>...</td>\n      <td>0.00000</td>\n      <td>0.000000</td>\n      <td>0.000000</td>\n      <td>0.000000</td>\n      <td>0.000000</td>\n      <td>0.000000</td>\n      <td>0.000000</td>\n      <td>0.000000</td>\n      <td>0.185000</td>\n      <td>1.685138e+14</td>\n    </tr>\n    <tr>\n      <th>25%</th>\n      <td>4.092120e+05</td>\n      <td>4.211474e+06</td>\n      <td>35.672398</td>\n      <td>51.339085</td>\n      <td>35.674412</td>\n      <td>51.335281</td>\n      <td>480.000000</td>\n      <td>517.000000</td>\n      <td>5.055473e+09</td>\n      <td>1.0</td>\n      <td>...</td>\n      <td>0.00000</td>\n      <td>0.004651</td>\n      <td>5.659000</td>\n      <td>0.818201</td>\n      <td>0.000000</td>\n      <td>0.612903</td>\n      <td>0.838723</td>\n      <td>0.000000</td>\n      <td>3.354000</td>\n      <td>4.623859e+18</td>\n    </tr>\n    <tr>\n      <th>50%</th>\n      <td>1.675282e+06</td>\n      <td>2.198736e+07</td>\n      <td>35.723095</td>\n      <td>51.408333</td>\n      <td>35.723587</td>\n      <td>51.407761</td>\n      <td>838.000000</td>\n      <td>949.000000</td>\n      <td>5.056936e+09</td>\n      <td>1.0</td>\n      <td>...</td>\n      <td>0.00000</td>\n      <td>0.009259</td>\n      <td>12.074000</td>\n      <td>0.974527</td>\n      <td>0.000000</td>\n      <td>0.939394</td>\n      <td>0.972232</td>\n      <td>0.000000</td>\n      <td>7.202000</td>\n      <td>9.263763e+18</td>\n    </tr>\n    <tr>\n      <th>75%</th>\n      <td>3.143467e+06</td>\n      <td>3.706758e+07</td>\n      <td>35.755032</td>\n      <td>51.464085</td>\n      <td>35.755920</td>\n      <td>51.461910</td>\n      <td>1403.000000</td>\n      <td>1699.000000</td>\n      <td>5.058268e+09</td>\n      <td>1.0</td>\n      <td>...</td>\n      <td>0.00000</td>\n      <td>0.017241</td>\n      <td>23.447001</td>\n      <td>1.000000</td>\n      <td>0.000000</td>\n      <td>1.000000</td>\n      <td>1.000000</td>\n      <td>0.000000</td>\n      <td>13.623000</td>\n      <td>1.388126e+19</td>\n    </tr>\n    <tr>\n      <th>max</th>\n      <td>4.406427e+06</td>\n      <td>5.802527e+07</td>\n      <td>35.838417</td>\n      <td>52.788544</td>\n      <td>37.119347</td>\n      <td>54.964043</td>\n      <td>15176.000000</td>\n      <td>33442.000000</td>\n      <td>5.060301e+09</td>\n      <td>1.0</td>\n      <td>...</td>\n      <td>1.00000</td>\n      <td>0.500000</td>\n      <td>542.096558</td>\n      <td>1.000000</td>\n      <td>1.000000</td>\n      <td>1.000000</td>\n      <td>1.000000</td>\n      <td>25.559000</td>\n      <td>428.690002</td>\n      <td>1.844668e+19</td>\n    </tr>\n  </tbody>\n</table>\n<p>8 rows × 51 columns</p>\n</div>"
     },
     "execution_count": 65,
     "metadata": {},
     "output_type": "execute_result"
    }
   ],
   "source": [
    "rides_khatkesh = pd.merge(rides, khatkesh, on=\"ride_id\")\n",
    "rides_khatkesh.describe()"
   ],
   "metadata": {
    "collapsed": false,
    "pycharm": {
     "name": "#%%\n"
    }
   }
  },
  {
   "cell_type": "code",
   "execution_count": 66,
   "outputs": [
    {
     "name": "stdout",
     "output_type": "stream",
     "text": [
      "<class 'pandas.core.frame.DataFrame'>\n",
      "Int64Index: 122101 entries, 0 to 122100\n",
      "Data columns (total 59 columns):\n",
      " #   Column                                                       Non-Null Count   Dtype  \n",
      "---  ------                                                       --------------   -----  \n",
      " 0   accepted_driver_id                                           122101 non-null  int64  \n",
      " 1   created_at                                                   122101 non-null  object \n",
      " 2   passenger_id                                                 122101 non-null  int64  \n",
      " 3   source_lat                                                   122101 non-null  float64\n",
      " 4   source_lng                                                   122101 non-null  float64\n",
      " 5   destination_lat                                              122101 non-null  float64\n",
      " 6   destination_lng                                              122101 non-null  float64\n",
      " 7   eta                                                          122101 non-null  int64  \n",
      " 8   provider                                                     122101 non-null  object \n",
      " 9   ata                                                          122101 non-null  int64  \n",
      " 10  ride_id                                                      122101 non-null  int64  \n",
      " 11  city                                                         122101 non-null  int64  \n",
      " 12  driver_id                                                    122101 non-null  int64  \n",
      " 13  a_t_a_result.arrival_a_t_a                                   122101 non-null  int64  \n",
      " 14  a_t_a_result.boarding_a_t_a                                  122101 non-null  float64\n",
      " 15  a_t_a_result.ride_a_t_a                                      122101 non-null  int64  \n",
      " 16  a_t_a_result.arrival_probe_result.probe.point.lat            122101 non-null  float64\n",
      " 17  a_t_a_result.arrival_probe_result.probe.point.lon            122101 non-null  float64\n",
      " 18  a_t_a_result.arrival_probe_result.probe.timestamp            122101 non-null  float64\n",
      " 19  a_t_a_result.arrival_probe_result.confidence                 122101 non-null  float64\n",
      " 20  a_t_a_result.arrival_probe_result.h3_index                   122101 non-null  object \n",
      " 21  a_t_a_result.arrival_probe_result.k_ring_level               122101 non-null  int64  \n",
      " 22  a_t_a_result.boarding_probe_result.probe.point.lat           122101 non-null  float64\n",
      " 23  a_t_a_result.boarding_probe_result.probe.point.lon           122101 non-null  float64\n",
      " 24  a_t_a_result.boarding_probe_result.probe.timestamp           122101 non-null  float64\n",
      " 25  a_t_a_result.boarding_probe_result.confidence                122101 non-null  float64\n",
      " 26  a_t_a_result.boarding_probe_result.h3_index                  122101 non-null  object \n",
      " 27  a_t_a_result.boarding_probe_result.k_ring_level              122101 non-null  int64  \n",
      " 28  a_t_a_result.final_destination_probe_result.probe.point.lat  122101 non-null  float64\n",
      " 29  a_t_a_result.final_destination_probe_result.probe.point.lon  122101 non-null  float64\n",
      " 30  a_t_a_result.final_destination_probe_result.probe.timestamp  122101 non-null  int64  \n",
      " 31  a_t_a_result.final_destination_probe_result.confidence       122101 non-null  float64\n",
      " 32  a_t_a_result.final_destination_probe_result.h3_index         122101 non-null  object \n",
      " 33  a_t_a_result.final_destination_probe_result.k_ring_level     122101 non-null  int64  \n",
      " 34  a_t_a_result.destination_probe_result.probe.point.lat        122101 non-null  float64\n",
      " 35  a_t_a_result.destination_probe_result.probe.point.lon        122101 non-null  float64\n",
      " 36  a_t_a_result.destination_probe_result.probe.timestamp        122101 non-null  float64\n",
      " 37  a_t_a_result.destination_probe_result.confidence             122101 non-null  float64\n",
      " 38  a_t_a_result.destination_probe_result.h3_index               122101 non-null  object \n",
      " 39  a_t_a_result.destination_probe_result.k_ring_level           122101 non-null  int64  \n",
      " 40  a_t_a_result.extra_destination_probe_result.probe.point.lat  122101 non-null  float64\n",
      " 41  a_t_a_result.extra_destination_probe_result.probe.point.lon  122101 non-null  float64\n",
      " 42  a_t_a_result.extra_destination_probe_result.probe.timestamp  122101 non-null  float64\n",
      " 43  a_t_a_result.extra_destination_probe_result.confidence       122101 non-null  float64\n",
      " 44  a_t_a_result.extra_destination_probe_result.h3_index         0 non-null       object \n",
      " 45  a_t_a_result.extra_destination_probe_result.k_ring_level     122101 non-null  int64  \n",
      " 46  pickup_a_d_d_result.distance                                 122101 non-null  float64\n",
      " 47  pickup_a_d_d_result.confidence                               122101 non-null  float64\n",
      " 48  pickup_a_d_d_result.route_ratio                              122101 non-null  float64\n",
      " 49  pickup_a_d_d_result.g_p_s_ratio                              122101 non-null  float64\n",
      " 50  ride_a_d_d_result.distance                                   122101 non-null  float64\n",
      " 51  ride_a_d_d_result.confidence                                 122101 non-null  float64\n",
      " 52  ride_a_d_d_result.route_ratio                                122101 non-null  float64\n",
      " 53  ride_a_d_d_result.g_p_s_ratio                                122101 non-null  float64\n",
      " 54  total_a_d_d_confidence                                       122101 non-null  float64\n",
      " 55  in_ride_allotment                                            122101 non-null  float64\n",
      " 56  e_d_d                                                        122101 non-null  float64\n",
      " 57  clickhouse_time                                              122101 non-null  object \n",
      " 58  hash                                                         122101 non-null  uint64 \n",
      "dtypes: float64(35), int64(15), object(8), uint64(1)\n",
      "memory usage: 55.9+ MB\n"
     ]
    }
   ],
   "source": [
    "rides_khatkesh.info()"
   ],
   "metadata": {
    "collapsed": false,
    "pycharm": {
     "name": "#%%\n"
    }
   }
  },
  {
   "cell_type": "code",
   "execution_count": 67,
   "outputs": [
    {
     "data": {
      "text/plain": "       accepted_driver_id  passenger_id     source_lat     source_lng  \\\ncount        1.172100e+05  1.172100e+05  117210.000000  117210.000000   \nmean         1.846706e+06  2.253535e+07      35.699750      51.403570   \nstd          1.444982e+06  1.803087e+07       0.088387       0.131211   \nmin          1.900000e+01  7.300000e+01      35.206379      50.901119   \n25%          4.078960e+05  4.110960e+06      35.673932      51.339566   \n50%          1.671606e+06  2.175792e+07      35.723377      51.407991   \n75%          3.141986e+06  3.688783e+07      35.755412      51.463031   \nmax          4.406310e+06  5.802492e+07      35.838417      52.788544   \n\n       destination_lat  destination_lng            eta            ata  \\\ncount    117210.000000    117210.000000  117210.000000  117210.000000   \nmean         35.701313        51.396052    1094.207969    1394.639459   \nstd           0.090134         0.142281     795.929743    1323.197451   \nmin          34.558254        49.693703     181.000000     120.000000   \n25%          35.675755        51.335709     516.000000     556.000000   \n50%          35.723804        51.407660     869.000000     988.000000   \n75%          35.756298        51.461098    1430.000000    1738.000000   \nmax          36.312389        52.802269    8821.000000   17940.000000   \n\n            ride_id      city  ...  pickup_a_d_d_result.route_ratio  \\\ncount  1.172100e+05  117210.0  ...                    117210.000000   \nmean   5.057084e+09       1.0  ...                         0.000172   \nstd    1.776459e+06       0.0  ...                         0.010589   \nmin    5.054181e+09       1.0  ...                         0.000000   \n25%    5.055463e+09       1.0  ...                         0.000000   \n50%    5.056915e+09       1.0  ...                         0.000000   \n75%    5.058268e+09       1.0  ...                         0.000000   \nmax    5.060291e+09       1.0  ...                         1.000000   \n\n       pickup_a_d_d_result.g_p_s_ratio  ride_a_d_d_result.distance  \\\ncount                    117210.000000               117210.000000   \nmean                          0.011837                   18.577904   \nstd                           0.010077                   19.183291   \nmin                           0.000000                    0.000000   \n25%                           0.004651                    6.222500   \n50%                           0.009009                   12.674000   \n75%                           0.016393                   23.970940   \nmax                           0.052632                  542.096558   \n\n       ride_a_d_d_result.confidence  ride_a_d_d_result.route_ratio  \\\ncount                 117210.000000                  117210.000000   \nmean                       0.881868                       0.000073   \nstd                        0.168554                       0.002022   \nmin                        0.000000                       0.000000   \n25%                        0.820218                       0.000000   \n50%                        0.973128                       0.000000   \n75%                        1.000000                       0.000000   \nmax                        1.000000                       0.191184   \n\n       ride_a_d_d_result.g_p_s_ratio  total_a_d_d_confidence  \\\ncount                  117210.000000           117210.000000   \nmean                        0.761221                0.889860   \nstd                         0.324149                0.158415   \nmin                         0.000000                0.000000   \n25%                         0.615385                0.839719   \n50%                         0.939394                0.971658   \n75%                         1.000000                1.000000   \nmax                         1.000000                1.000000   \n\n       in_ride_allotment          e_d_d          hash  \ncount      117210.000000  117210.000000  1.172100e+05  \nmean            0.022584      10.963545  9.248494e+18  \nstd             0.221471      11.560952  5.319462e+18  \nmin             0.000000       0.523000  1.685138e+14  \n25%             0.000000       3.691000  4.626157e+18  \n50%             0.000000       7.550000  9.259164e+18  \n75%             0.000000      13.905000  1.387600e+19  \nmax            25.559000     230.001007  1.844668e+19  \n\n[8 rows x 51 columns]",
      "text/html": "<div>\n<style scoped>\n    .dataframe tbody tr th:only-of-type {\n        vertical-align: middle;\n    }\n\n    .dataframe tbody tr th {\n        vertical-align: top;\n    }\n\n    .dataframe thead th {\n        text-align: right;\n    }\n</style>\n<table border=\"1\" class=\"dataframe\">\n  <thead>\n    <tr style=\"text-align: right;\">\n      <th></th>\n      <th>accepted_driver_id</th>\n      <th>passenger_id</th>\n      <th>source_lat</th>\n      <th>source_lng</th>\n      <th>destination_lat</th>\n      <th>destination_lng</th>\n      <th>eta</th>\n      <th>ata</th>\n      <th>ride_id</th>\n      <th>city</th>\n      <th>...</th>\n      <th>pickup_a_d_d_result.route_ratio</th>\n      <th>pickup_a_d_d_result.g_p_s_ratio</th>\n      <th>ride_a_d_d_result.distance</th>\n      <th>ride_a_d_d_result.confidence</th>\n      <th>ride_a_d_d_result.route_ratio</th>\n      <th>ride_a_d_d_result.g_p_s_ratio</th>\n      <th>total_a_d_d_confidence</th>\n      <th>in_ride_allotment</th>\n      <th>e_d_d</th>\n      <th>hash</th>\n    </tr>\n  </thead>\n  <tbody>\n    <tr>\n      <th>count</th>\n      <td>1.172100e+05</td>\n      <td>1.172100e+05</td>\n      <td>117210.000000</td>\n      <td>117210.000000</td>\n      <td>117210.000000</td>\n      <td>117210.000000</td>\n      <td>117210.000000</td>\n      <td>117210.000000</td>\n      <td>1.172100e+05</td>\n      <td>117210.0</td>\n      <td>...</td>\n      <td>117210.000000</td>\n      <td>117210.000000</td>\n      <td>117210.000000</td>\n      <td>117210.000000</td>\n      <td>117210.000000</td>\n      <td>117210.000000</td>\n      <td>117210.000000</td>\n      <td>117210.000000</td>\n      <td>117210.000000</td>\n      <td>1.172100e+05</td>\n    </tr>\n    <tr>\n      <th>mean</th>\n      <td>1.846706e+06</td>\n      <td>2.253535e+07</td>\n      <td>35.699750</td>\n      <td>51.403570</td>\n      <td>35.701313</td>\n      <td>51.396052</td>\n      <td>1094.207969</td>\n      <td>1394.639459</td>\n      <td>5.057084e+09</td>\n      <td>1.0</td>\n      <td>...</td>\n      <td>0.000172</td>\n      <td>0.011837</td>\n      <td>18.577904</td>\n      <td>0.881868</td>\n      <td>0.000073</td>\n      <td>0.761221</td>\n      <td>0.889860</td>\n      <td>0.022584</td>\n      <td>10.963545</td>\n      <td>9.248494e+18</td>\n    </tr>\n    <tr>\n      <th>std</th>\n      <td>1.444982e+06</td>\n      <td>1.803087e+07</td>\n      <td>0.088387</td>\n      <td>0.131211</td>\n      <td>0.090134</td>\n      <td>0.142281</td>\n      <td>795.929743</td>\n      <td>1323.197451</td>\n      <td>1.776459e+06</td>\n      <td>0.0</td>\n      <td>...</td>\n      <td>0.010589</td>\n      <td>0.010077</td>\n      <td>19.183291</td>\n      <td>0.168554</td>\n      <td>0.002022</td>\n      <td>0.324149</td>\n      <td>0.158415</td>\n      <td>0.221471</td>\n      <td>11.560952</td>\n      <td>5.319462e+18</td>\n    </tr>\n    <tr>\n      <th>min</th>\n      <td>1.900000e+01</td>\n      <td>7.300000e+01</td>\n      <td>35.206379</td>\n      <td>50.901119</td>\n      <td>34.558254</td>\n      <td>49.693703</td>\n      <td>181.000000</td>\n      <td>120.000000</td>\n      <td>5.054181e+09</td>\n      <td>1.0</td>\n      <td>...</td>\n      <td>0.000000</td>\n      <td>0.000000</td>\n      <td>0.000000</td>\n      <td>0.000000</td>\n      <td>0.000000</td>\n      <td>0.000000</td>\n      <td>0.000000</td>\n      <td>0.000000</td>\n      <td>0.523000</td>\n      <td>1.685138e+14</td>\n    </tr>\n    <tr>\n      <th>25%</th>\n      <td>4.078960e+05</td>\n      <td>4.110960e+06</td>\n      <td>35.673932</td>\n      <td>51.339566</td>\n      <td>35.675755</td>\n      <td>51.335709</td>\n      <td>516.000000</td>\n      <td>556.000000</td>\n      <td>5.055463e+09</td>\n      <td>1.0</td>\n      <td>...</td>\n      <td>0.000000</td>\n      <td>0.004651</td>\n      <td>6.222500</td>\n      <td>0.820218</td>\n      <td>0.000000</td>\n      <td>0.615385</td>\n      <td>0.839719</td>\n      <td>0.000000</td>\n      <td>3.691000</td>\n      <td>4.626157e+18</td>\n    </tr>\n    <tr>\n      <th>50%</th>\n      <td>1.671606e+06</td>\n      <td>2.175792e+07</td>\n      <td>35.723377</td>\n      <td>51.407991</td>\n      <td>35.723804</td>\n      <td>51.407660</td>\n      <td>869.000000</td>\n      <td>988.000000</td>\n      <td>5.056915e+09</td>\n      <td>1.0</td>\n      <td>...</td>\n      <td>0.000000</td>\n      <td>0.009009</td>\n      <td>12.674000</td>\n      <td>0.973128</td>\n      <td>0.000000</td>\n      <td>0.939394</td>\n      <td>0.971658</td>\n      <td>0.000000</td>\n      <td>7.550000</td>\n      <td>9.259164e+18</td>\n    </tr>\n    <tr>\n      <th>75%</th>\n      <td>3.141986e+06</td>\n      <td>3.688783e+07</td>\n      <td>35.755412</td>\n      <td>51.463031</td>\n      <td>35.756298</td>\n      <td>51.461098</td>\n      <td>1430.000000</td>\n      <td>1738.000000</td>\n      <td>5.058268e+09</td>\n      <td>1.0</td>\n      <td>...</td>\n      <td>0.000000</td>\n      <td>0.016393</td>\n      <td>23.970940</td>\n      <td>1.000000</td>\n      <td>0.000000</td>\n      <td>1.000000</td>\n      <td>1.000000</td>\n      <td>0.000000</td>\n      <td>13.905000</td>\n      <td>1.387600e+19</td>\n    </tr>\n    <tr>\n      <th>max</th>\n      <td>4.406310e+06</td>\n      <td>5.802492e+07</td>\n      <td>35.838417</td>\n      <td>52.788544</td>\n      <td>36.312389</td>\n      <td>52.802269</td>\n      <td>8821.000000</td>\n      <td>17940.000000</td>\n      <td>5.060291e+09</td>\n      <td>1.0</td>\n      <td>...</td>\n      <td>1.000000</td>\n      <td>0.052632</td>\n      <td>542.096558</td>\n      <td>1.000000</td>\n      <td>0.191184</td>\n      <td>1.000000</td>\n      <td>1.000000</td>\n      <td>25.559000</td>\n      <td>230.001007</td>\n      <td>1.844668e+19</td>\n    </tr>\n  </tbody>\n</table>\n<p>8 rows × 51 columns</p>\n</div>"
     },
     "execution_count": 67,
     "metadata": {},
     "output_type": "execute_result"
    }
   ],
   "source": [
    "rides = rides_khatkesh[(rides_khatkesh['eta'] > 180) &\n",
    "                       (rides_khatkesh['eta'] < 10800) &\n",
    "                       (rides_khatkesh['a_t_a_result.ride_a_t_a'] > 180) &\n",
    "                       (rides_khatkesh['a_t_a_result.ride_a_t_a'] < 10800)]\n",
    "rides.describe()"
   ],
   "metadata": {
    "collapsed": false,
    "pycharm": {
     "name": "#%%\n"
    }
   }
  },
  {
   "cell_type": "code",
   "execution_count": 68,
   "outputs": [
    {
     "data": {
      "text/plain": "       accepted_driver_id  passenger_id     source_lat     source_lng  \\\ncount        1.021940e+05  1.021940e+05  102194.000000  102194.000000   \nmean         1.863446e+06  2.258200e+07      35.699514      51.403379   \nstd          1.449697e+06  1.803634e+07       0.088678       0.131883   \nmin          1.900000e+01  7.300000e+01      35.206379      50.901119   \n25%          4.182768e+05  4.143118e+06      35.673505      51.338925   \n50%          1.701136e+06  2.183119e+07      35.723434      51.407566   \n75%          3.173230e+06  3.695319e+07      35.755352      51.463180   \nmax          4.406310e+06  5.802474e+07      35.838417      52.788544   \n\n       destination_lat  destination_lng            eta            ata  \\\ncount    102194.000000    102194.000000  102194.000000  102194.000000   \nmean         35.701099        51.396188    1087.362291    1388.560004   \nstd           0.090034         0.142668     791.141944    1322.846472   \nmin          34.558254        49.693703     181.000000     120.000000   \n25%          35.675600        51.335473     512.000000     553.000000   \n50%          35.723843        51.407345     862.000000     980.000000   \n75%          35.756321        51.461009    1422.000000    1727.000000   \nmax          36.312389        52.802269    8821.000000   17940.000000   \n\n            ride_id      city  ...  pickup_a_d_d_result.route_ratio  \\\ncount  1.021940e+05  102194.0  ...                    102194.000000   \nmean   5.057090e+09       1.0  ...                         0.000121   \nstd    1.777394e+06       0.0  ...                         0.008674   \nmin    5.054181e+09       1.0  ...                         0.000000   \n25%    5.055469e+09       1.0  ...                         0.000000   \n50%    5.056925e+09       1.0  ...                         0.000000   \n75%    5.058271e+09       1.0  ...                         0.000000   \nmax    5.060290e+09       1.0  ...                         1.000000   \n\n       pickup_a_d_d_result.g_p_s_ratio  ride_a_d_d_result.distance  \\\ncount                    102194.000000               102194.000000   \nmean                          0.012527                   19.437858   \nstd                           0.010096                   19.550887   \nmin                           0.000000                    0.110000   \n25%                           0.005208                    6.590000   \n50%                           0.009615                   13.480000   \n75%                           0.017241                   25.157184   \nmax                           0.052632                  266.164520   \n\n       ride_a_d_d_result.confidence  ride_a_d_d_result.route_ratio  \\\ncount                 102194.000000                  102194.000000   \nmean                       0.935077                       0.000046   \nstd                        0.100745                       0.001585   \nmin                        0.600020                       0.000000   \n25%                        0.912788                       0.000000   \n50%                        0.987267                       0.000000   \n75%                        1.000000                       0.000000   \nmax                        1.000000                       0.191184   \n\n       ride_a_d_d_result.g_p_s_ratio  total_a_d_d_confidence  \\\ncount                  102194.000000           102194.000000   \nmean                        0.849696                0.939513   \nstd                         0.224284                0.091194   \nmin                         0.000000                0.089628   \n25%                         0.803922                0.911339   \n50%                         0.960630                0.984862   \n75%                         1.000000                1.000000   \nmax                         1.000000                1.000000   \n\n       in_ride_allotment          e_d_d          hash  \ncount      102194.000000  102194.000000  1.021940e+05  \nmean            0.025052      10.850133  9.242493e+18  \nstd             0.234276      11.373110  5.322035e+18  \nmin             0.000000       0.523000  1.685138e+14  \n25%             0.000000       3.661000  4.620490e+18  \n50%             0.000000       7.455000  9.249190e+18  \n75%             0.000000      13.800000  1.387153e+19  \nmax            25.559000     230.001007  1.844668e+19  \n\n[8 rows x 51 columns]",
      "text/html": "<div>\n<style scoped>\n    .dataframe tbody tr th:only-of-type {\n        vertical-align: middle;\n    }\n\n    .dataframe tbody tr th {\n        vertical-align: top;\n    }\n\n    .dataframe thead th {\n        text-align: right;\n    }\n</style>\n<table border=\"1\" class=\"dataframe\">\n  <thead>\n    <tr style=\"text-align: right;\">\n      <th></th>\n      <th>accepted_driver_id</th>\n      <th>passenger_id</th>\n      <th>source_lat</th>\n      <th>source_lng</th>\n      <th>destination_lat</th>\n      <th>destination_lng</th>\n      <th>eta</th>\n      <th>ata</th>\n      <th>ride_id</th>\n      <th>city</th>\n      <th>...</th>\n      <th>pickup_a_d_d_result.route_ratio</th>\n      <th>pickup_a_d_d_result.g_p_s_ratio</th>\n      <th>ride_a_d_d_result.distance</th>\n      <th>ride_a_d_d_result.confidence</th>\n      <th>ride_a_d_d_result.route_ratio</th>\n      <th>ride_a_d_d_result.g_p_s_ratio</th>\n      <th>total_a_d_d_confidence</th>\n      <th>in_ride_allotment</th>\n      <th>e_d_d</th>\n      <th>hash</th>\n    </tr>\n  </thead>\n  <tbody>\n    <tr>\n      <th>count</th>\n      <td>1.021940e+05</td>\n      <td>1.021940e+05</td>\n      <td>102194.000000</td>\n      <td>102194.000000</td>\n      <td>102194.000000</td>\n      <td>102194.000000</td>\n      <td>102194.000000</td>\n      <td>102194.000000</td>\n      <td>1.021940e+05</td>\n      <td>102194.0</td>\n      <td>...</td>\n      <td>102194.000000</td>\n      <td>102194.000000</td>\n      <td>102194.000000</td>\n      <td>102194.000000</td>\n      <td>102194.000000</td>\n      <td>102194.000000</td>\n      <td>102194.000000</td>\n      <td>102194.000000</td>\n      <td>102194.000000</td>\n      <td>1.021940e+05</td>\n    </tr>\n    <tr>\n      <th>mean</th>\n      <td>1.863446e+06</td>\n      <td>2.258200e+07</td>\n      <td>35.699514</td>\n      <td>51.403379</td>\n      <td>35.701099</td>\n      <td>51.396188</td>\n      <td>1087.362291</td>\n      <td>1388.560004</td>\n      <td>5.057090e+09</td>\n      <td>1.0</td>\n      <td>...</td>\n      <td>0.000121</td>\n      <td>0.012527</td>\n      <td>19.437858</td>\n      <td>0.935077</td>\n      <td>0.000046</td>\n      <td>0.849696</td>\n      <td>0.939513</td>\n      <td>0.025052</td>\n      <td>10.850133</td>\n      <td>9.242493e+18</td>\n    </tr>\n    <tr>\n      <th>std</th>\n      <td>1.449697e+06</td>\n      <td>1.803634e+07</td>\n      <td>0.088678</td>\n      <td>0.131883</td>\n      <td>0.090034</td>\n      <td>0.142668</td>\n      <td>791.141944</td>\n      <td>1322.846472</td>\n      <td>1.777394e+06</td>\n      <td>0.0</td>\n      <td>...</td>\n      <td>0.008674</td>\n      <td>0.010096</td>\n      <td>19.550887</td>\n      <td>0.100745</td>\n      <td>0.001585</td>\n      <td>0.224284</td>\n      <td>0.091194</td>\n      <td>0.234276</td>\n      <td>11.373110</td>\n      <td>5.322035e+18</td>\n    </tr>\n    <tr>\n      <th>min</th>\n      <td>1.900000e+01</td>\n      <td>7.300000e+01</td>\n      <td>35.206379</td>\n      <td>50.901119</td>\n      <td>34.558254</td>\n      <td>49.693703</td>\n      <td>181.000000</td>\n      <td>120.000000</td>\n      <td>5.054181e+09</td>\n      <td>1.0</td>\n      <td>...</td>\n      <td>0.000000</td>\n      <td>0.000000</td>\n      <td>0.110000</td>\n      <td>0.600020</td>\n      <td>0.000000</td>\n      <td>0.000000</td>\n      <td>0.089628</td>\n      <td>0.000000</td>\n      <td>0.523000</td>\n      <td>1.685138e+14</td>\n    </tr>\n    <tr>\n      <th>25%</th>\n      <td>4.182768e+05</td>\n      <td>4.143118e+06</td>\n      <td>35.673505</td>\n      <td>51.338925</td>\n      <td>35.675600</td>\n      <td>51.335473</td>\n      <td>512.000000</td>\n      <td>553.000000</td>\n      <td>5.055469e+09</td>\n      <td>1.0</td>\n      <td>...</td>\n      <td>0.000000</td>\n      <td>0.005208</td>\n      <td>6.590000</td>\n      <td>0.912788</td>\n      <td>0.000000</td>\n      <td>0.803922</td>\n      <td>0.911339</td>\n      <td>0.000000</td>\n      <td>3.661000</td>\n      <td>4.620490e+18</td>\n    </tr>\n    <tr>\n      <th>50%</th>\n      <td>1.701136e+06</td>\n      <td>2.183119e+07</td>\n      <td>35.723434</td>\n      <td>51.407566</td>\n      <td>35.723843</td>\n      <td>51.407345</td>\n      <td>862.000000</td>\n      <td>980.000000</td>\n      <td>5.056925e+09</td>\n      <td>1.0</td>\n      <td>...</td>\n      <td>0.000000</td>\n      <td>0.009615</td>\n      <td>13.480000</td>\n      <td>0.987267</td>\n      <td>0.000000</td>\n      <td>0.960630</td>\n      <td>0.984862</td>\n      <td>0.000000</td>\n      <td>7.455000</td>\n      <td>9.249190e+18</td>\n    </tr>\n    <tr>\n      <th>75%</th>\n      <td>3.173230e+06</td>\n      <td>3.695319e+07</td>\n      <td>35.755352</td>\n      <td>51.463180</td>\n      <td>35.756321</td>\n      <td>51.461009</td>\n      <td>1422.000000</td>\n      <td>1727.000000</td>\n      <td>5.058271e+09</td>\n      <td>1.0</td>\n      <td>...</td>\n      <td>0.000000</td>\n      <td>0.017241</td>\n      <td>25.157184</td>\n      <td>1.000000</td>\n      <td>0.000000</td>\n      <td>1.000000</td>\n      <td>1.000000</td>\n      <td>0.000000</td>\n      <td>13.800000</td>\n      <td>1.387153e+19</td>\n    </tr>\n    <tr>\n      <th>max</th>\n      <td>4.406310e+06</td>\n      <td>5.802474e+07</td>\n      <td>35.838417</td>\n      <td>52.788544</td>\n      <td>36.312389</td>\n      <td>52.802269</td>\n      <td>8821.000000</td>\n      <td>17940.000000</td>\n      <td>5.060290e+09</td>\n      <td>1.0</td>\n      <td>...</td>\n      <td>1.000000</td>\n      <td>0.052632</td>\n      <td>266.164520</td>\n      <td>1.000000</td>\n      <td>0.191184</td>\n      <td>1.000000</td>\n      <td>1.000000</td>\n      <td>25.559000</td>\n      <td>230.001007</td>\n      <td>1.844668e+19</td>\n    </tr>\n  </tbody>\n</table>\n<p>8 rows × 51 columns</p>\n</div>"
     },
     "execution_count": 68,
     "metadata": {},
     "output_type": "execute_result"
    }
   ],
   "source": [
    "rides = rides[rides['ride_a_d_d_result.confidence'] > 0.6]\n",
    "rides.describe()"
   ],
   "metadata": {
    "collapsed": false,
    "pycharm": {
     "name": "#%%\n"
    }
   }
  },
  {
   "cell_type": "code",
   "execution_count": 69,
   "outputs": [
    {
     "data": {
      "text/plain": "         eta   ata  a_t_a_result.ride_a_t_a           created_at  source_lat  \\\n0        540   652                      628  2022-10-04 06:41:07   35.718605   \n3       1080  1022                     1014  2022-10-04 22:30:15   35.760494   \n5       1731  2187                     2124  2022-10-04 09:29:24   35.809593   \n6        251   224                      305  2022-10-04 12:23:53   35.476460   \n7       3254  4100                     3942  2022-10-04 09:56:09   35.740150   \n...      ...   ...                      ...                  ...         ...   \n122096  1705  2028                     1980  2022-10-04 09:16:34   35.655773   \n122097  1180  1804                     1740  2022-10-04 18:12:47   35.769585   \n122098  1339  1818                     1878  2022-10-04 16:40:43   35.710297   \n122099   514   523                      444  2022-10-04 16:52:36   35.467590   \n122100   451   446                      375  2022-10-04 22:56:29   35.662762   \n\n        source_lng  destination_lat  destination_lng      e_d_d  \\\n0        51.374298        35.766651        51.369968   6.972000   \n3        51.332432        35.693172        51.375931  14.971000   \n5        51.466549        35.690689        51.431351  18.278999   \n6        51.689724        35.470181        51.696487   1.532000   \n7        51.135941        35.775536        51.452332  40.798000   \n...            ...              ...              ...        ...   \n122096   51.357216        35.689842        51.411938  10.438000   \n122097   51.478344        35.742477        51.496120   7.216000   \n122098   51.373901        35.671623        51.408840   7.547000   \n122099   50.937931        35.484200        50.948490   3.712000   \n122100   51.422638        35.659447        51.398293   2.912000   \n\n            clickhouse_time  \n0       2022-10-04 06:56:31  \n3       2022-10-04 22:50:52  \n5       2022-10-04 10:11:39  \n6       2022-10-04 12:45:21  \n7       2022-10-04 11:10:44  \n...                     ...  \n122096  2022-10-04 09:54:44  \n122097  2022-10-04 18:55:29  \n122098  2022-10-04 18:30:21  \n122099  2022-10-04 18:13:43  \n122100  2022-10-04 23:09:44  \n\n[102194 rows x 10 columns]",
      "text/html": "<div>\n<style scoped>\n    .dataframe tbody tr th:only-of-type {\n        vertical-align: middle;\n    }\n\n    .dataframe tbody tr th {\n        vertical-align: top;\n    }\n\n    .dataframe thead th {\n        text-align: right;\n    }\n</style>\n<table border=\"1\" class=\"dataframe\">\n  <thead>\n    <tr style=\"text-align: right;\">\n      <th></th>\n      <th>eta</th>\n      <th>ata</th>\n      <th>a_t_a_result.ride_a_t_a</th>\n      <th>created_at</th>\n      <th>source_lat</th>\n      <th>source_lng</th>\n      <th>destination_lat</th>\n      <th>destination_lng</th>\n      <th>e_d_d</th>\n      <th>clickhouse_time</th>\n    </tr>\n  </thead>\n  <tbody>\n    <tr>\n      <th>0</th>\n      <td>540</td>\n      <td>652</td>\n      <td>628</td>\n      <td>2022-10-04 06:41:07</td>\n      <td>35.718605</td>\n      <td>51.374298</td>\n      <td>35.766651</td>\n      <td>51.369968</td>\n      <td>6.972000</td>\n      <td>2022-10-04 06:56:31</td>\n    </tr>\n    <tr>\n      <th>3</th>\n      <td>1080</td>\n      <td>1022</td>\n      <td>1014</td>\n      <td>2022-10-04 22:30:15</td>\n      <td>35.760494</td>\n      <td>51.332432</td>\n      <td>35.693172</td>\n      <td>51.375931</td>\n      <td>14.971000</td>\n      <td>2022-10-04 22:50:52</td>\n    </tr>\n    <tr>\n      <th>5</th>\n      <td>1731</td>\n      <td>2187</td>\n      <td>2124</td>\n      <td>2022-10-04 09:29:24</td>\n      <td>35.809593</td>\n      <td>51.466549</td>\n      <td>35.690689</td>\n      <td>51.431351</td>\n      <td>18.278999</td>\n      <td>2022-10-04 10:11:39</td>\n    </tr>\n    <tr>\n      <th>6</th>\n      <td>251</td>\n      <td>224</td>\n      <td>305</td>\n      <td>2022-10-04 12:23:53</td>\n      <td>35.476460</td>\n      <td>51.689724</td>\n      <td>35.470181</td>\n      <td>51.696487</td>\n      <td>1.532000</td>\n      <td>2022-10-04 12:45:21</td>\n    </tr>\n    <tr>\n      <th>7</th>\n      <td>3254</td>\n      <td>4100</td>\n      <td>3942</td>\n      <td>2022-10-04 09:56:09</td>\n      <td>35.740150</td>\n      <td>51.135941</td>\n      <td>35.775536</td>\n      <td>51.452332</td>\n      <td>40.798000</td>\n      <td>2022-10-04 11:10:44</td>\n    </tr>\n    <tr>\n      <th>...</th>\n      <td>...</td>\n      <td>...</td>\n      <td>...</td>\n      <td>...</td>\n      <td>...</td>\n      <td>...</td>\n      <td>...</td>\n      <td>...</td>\n      <td>...</td>\n      <td>...</td>\n    </tr>\n    <tr>\n      <th>122096</th>\n      <td>1705</td>\n      <td>2028</td>\n      <td>1980</td>\n      <td>2022-10-04 09:16:34</td>\n      <td>35.655773</td>\n      <td>51.357216</td>\n      <td>35.689842</td>\n      <td>51.411938</td>\n      <td>10.438000</td>\n      <td>2022-10-04 09:54:44</td>\n    </tr>\n    <tr>\n      <th>122097</th>\n      <td>1180</td>\n      <td>1804</td>\n      <td>1740</td>\n      <td>2022-10-04 18:12:47</td>\n      <td>35.769585</td>\n      <td>51.478344</td>\n      <td>35.742477</td>\n      <td>51.496120</td>\n      <td>7.216000</td>\n      <td>2022-10-04 18:55:29</td>\n    </tr>\n    <tr>\n      <th>122098</th>\n      <td>1339</td>\n      <td>1818</td>\n      <td>1878</td>\n      <td>2022-10-04 16:40:43</td>\n      <td>35.710297</td>\n      <td>51.373901</td>\n      <td>35.671623</td>\n      <td>51.408840</td>\n      <td>7.547000</td>\n      <td>2022-10-04 18:30:21</td>\n    </tr>\n    <tr>\n      <th>122099</th>\n      <td>514</td>\n      <td>523</td>\n      <td>444</td>\n      <td>2022-10-04 16:52:36</td>\n      <td>35.467590</td>\n      <td>50.937931</td>\n      <td>35.484200</td>\n      <td>50.948490</td>\n      <td>3.712000</td>\n      <td>2022-10-04 18:13:43</td>\n    </tr>\n    <tr>\n      <th>122100</th>\n      <td>451</td>\n      <td>446</td>\n      <td>375</td>\n      <td>2022-10-04 22:56:29</td>\n      <td>35.662762</td>\n      <td>51.422638</td>\n      <td>35.659447</td>\n      <td>51.398293</td>\n      <td>2.912000</td>\n      <td>2022-10-04 23:09:44</td>\n    </tr>\n  </tbody>\n</table>\n<p>102194 rows × 10 columns</p>\n</div>"
     },
     "execution_count": 69,
     "metadata": {},
     "output_type": "execute_result"
    }
   ],
   "source": [
    "rides = rides[['eta', 'ata', 'a_t_a_result.ride_a_t_a', 'created_at', 'source_lat', 'source_lng', 'destination_lat', 'destination_lng', 'e_d_d', 'clickhouse_time']]\n",
    "rides"
   ],
   "metadata": {
    "collapsed": false,
    "pycharm": {
     "name": "#%%\n"
    }
   }
  },
  {
   "cell_type": "code",
   "execution_count": 70,
   "outputs": [],
   "source": [
    "rides['source_h3_4'] = rides.apply(lambda row: h3.geo_to_h3(row.source_lat, row.source_lng, 4), axis=1)\n",
    "rides['dest_h3_4'] = rides.apply(lambda row: h3.geo_to_h3(row.destination_lat, row.destination_lng, 4), axis=1)"
   ],
   "metadata": {
    "collapsed": false,
    "pycharm": {
     "name": "#%%\n"
    }
   }
  },
  {
   "cell_type": "code",
   "execution_count": 71,
   "outputs": [
    {
     "name": "stdout",
     "output_type": "stream",
     "text": [
      "timestamp = 1664853067.0\n"
     ]
    }
   ],
   "source": [
    "timestamp = datetime.timestamp(datetime.strptime(rides.created_at[0],\"%Y-%m-%d %H:%M:%S\"))\n",
    "print(\"timestamp =\", timestamp)"
   ],
   "metadata": {
    "collapsed": false,
    "pycharm": {
     "name": "#%%\n"
    }
   }
  },
  {
   "cell_type": "code",
   "execution_count": 72,
   "outputs": [],
   "source": [
    "rides['hour'] = rides.apply(lambda row: ((datetime.timestamp(datetime.strptime(row.created_at,\"%Y-%m-%d %H:%M:%S\")) - 1662147000) % 604800) / 3600, axis=1)"
   ],
   "metadata": {
    "collapsed": false,
    "pycharm": {
     "name": "#%%\n"
    }
   }
  },
  {
   "cell_type": "code",
   "execution_count": 56,
   "outputs": [],
   "source": [
    "# eta_edd_h3_hour = rides[[\"eta\", \"e_d_d\", \"source_h3_4\", \"dest_h3_4\", \"hour\"]]\n",
    "# ata = rides[\"a_t_a_result.ride_a_t_a\"]"
   ],
   "metadata": {
    "collapsed": false,
    "pycharm": {
     "name": "#%%\n"
    }
   }
  },
  {
   "cell_type": "code",
   "execution_count": 57,
   "outputs": [],
   "source": [
    "# eta_edd_h3_hour_train, eta_edd_h3_hour_test, ata_train, ata_test = train_test_split(eta_edd_h3_hour, ata, test_size=0.05, random_state=73)\n",
    "# print(len(eta_edd_h3_hour_train))\n",
    "# print(len(eta_edd_h3_hour_test))"
   ],
   "metadata": {
    "collapsed": false,
    "pycharm": {
     "name": "#%%\n"
    }
   }
  },
  {
   "cell_type": "code",
   "execution_count": 58,
   "outputs": [],
   "source": [
    "# dummy_train_rides = pd.get_dummies(eta_edd_h3_hour_train, prefix={'source_h3_4':'source_h3_4',\n",
    "#                                                        'dest_h3_4':'dest_h3_4'},\n",
    "#                           drop_first=True)\n",
    "# dummy_train_rides.describe()"
   ],
   "metadata": {
    "collapsed": false,
    "pycharm": {
     "name": "#%%\n"
    }
   }
  },
  {
   "cell_type": "code",
   "execution_count": 59,
   "outputs": [],
   "source": [
    "# geo_noise = np.count_nonzero(dummy_train_rides, axis=0) < 10\n",
    "#\n",
    "# cols = dummy_train_rides.columns\n",
    "# for col, noise in zip(cols, geo_noise):\n",
    "#     if noise:\n",
    "#         # DOESN'T REINDEX\n",
    "#         eta_edd_h3_hour_train = eta_edd_h3_hour_train[dummy_train_rides[col] == 0]\n",
    "#         ata_train = ata_train[dummy_train_rides[col] == 0]\n",
    "#\n",
    "# eta_edd_h3_hour_train.describe()"
   ],
   "metadata": {
    "collapsed": false,
    "pycharm": {
     "name": "#%%\n"
    }
   }
  },
  {
   "cell_type": "code",
   "execution_count": 60,
   "outputs": [],
   "source": [
    "# print(np.count_nonzero(dummy_train_rides, axis=0))\n",
    "# print(dummy_train_rides.columns)"
   ],
   "metadata": {
    "collapsed": false,
    "pycharm": {
     "name": "#%%\n"
    }
   }
  },
  {
   "cell_type": "code",
   "execution_count": 61,
   "outputs": [],
   "source": [
    "# ohe = ColumnTransformer(\n",
    "#     [('OHE', OneHotEncoder(handle_unknown='ignore', sparse=False),['source_h3_4', 'dest_h3_4'])],\n",
    "#     remainder = 'passthrough'\n",
    "#     ).fit(eta_edd_h3_hour_train)"
   ],
   "metadata": {
    "collapsed": false,
    "pycharm": {
     "name": "#%%\n"
    }
   }
  },
  {
   "cell_type": "code",
   "execution_count": 62,
   "outputs": [],
   "source": [
    "# eta_edd_h3_hour_train_transformed = ohe.transform(eta_edd_h3_hour_train)"
   ],
   "metadata": {
    "collapsed": false,
    "pycharm": {
     "name": "#%%\n"
    }
   }
  },
  {
   "cell_type": "code",
   "execution_count": 63,
   "outputs": [],
   "source": [
    "# eta_edd_h3_hour_test_transformed = ohe.transform(eta_edd_h3_hour_test)"
   ],
   "metadata": {
    "collapsed": false,
    "pycharm": {
     "name": "#%%\n"
    }
   }
  },
  {
   "cell_type": "code",
   "execution_count": 64,
   "outputs": [],
   "source": [
    "# reg = LinearRegression().fit(eta_edd_h3_hour_train_transformed, ata_train)"
   ],
   "metadata": {
    "collapsed": false,
    "pycharm": {
     "name": "#%%\n"
    }
   }
  },
  {
   "cell_type": "code",
   "execution_count": 65,
   "outputs": [],
   "source": [
    "# print(reg.coef_)\n",
    "# print(reg.intercept_)"
   ],
   "metadata": {
    "collapsed": false,
    "pycharm": {
     "name": "#%%\n"
    }
   }
  },
  {
   "cell_type": "code",
   "execution_count": 66,
   "outputs": [],
   "source": [
    "# ata_train_pred = reg.predict(eta_edd_h3_hour_train_transformed)\n",
    "# ata_test_pred = reg.predict(eta_edd_h3_hour_test_transformed)"
   ],
   "metadata": {
    "collapsed": false,
    "pycharm": {
     "name": "#%%\n"
    }
   }
  },
  {
   "cell_type": "code",
   "execution_count": 67,
   "outputs": [],
   "source": [
    "# eta_edd_h3_hour_train_transformed"
   ],
   "metadata": {
    "collapsed": false,
    "pycharm": {
     "name": "#%%\n"
    }
   }
  },
  {
   "cell_type": "code",
   "execution_count": 68,
   "outputs": [],
   "source": [
    "# print(\"ETA train MAE\", mean_absolute_error(ata_train, eta_edd_h3_hour_train_transformed[:, 15]))\n",
    "# print(\"prediction train MAE\", mean_absolute_error(ata_train, ata_train_pred))\n",
    "#\n",
    "# print(\"ETA test MAE \", mean_absolute_error(ata_test, eta_edd_h3_hour_test_transformed[:, 15]))\n",
    "# print(\"prediction test MAE\", mean_absolute_error(ata_test, ata_test_pred))\n",
    "#\n",
    "#\n",
    "# print(\"ETA train MSE\", mean_squared_error(ata_train, eta_edd_h3_hour_train_transformed[:, 15]))\n",
    "# print(\"prediction train MSE\", mean_squared_error(ata_train, ata_train_pred))\n",
    "#\n",
    "# print(\"ETA test MSE \", mean_squared_error(ata_test, eta_edd_h3_hour_test_transformed[:, 15]))\n",
    "# print(\"prediction test MSE\", mean_squared_error(ata_test, ata_test_pred))\n",
    "#\n",
    "#\n",
    "# print(\"ETA train explained_variance_score\", explained_variance_score(ata_train, eta_edd_h3_hour_train_transformed[:, 15]))\n",
    "# print(\"prediction train explained_variance_score\", explained_variance_score(ata_train, ata_train_pred))\n",
    "#\n",
    "# print(\"ETA test explained_variance_score \", explained_variance_score(ata_test, eta_edd_h3_hour_test_transformed[:, 15]))\n",
    "# print(\"prediction test explained_variance_score\", explained_variance_score(ata_test, ata_test_pred))\n",
    "#\n",
    "#\n",
    "# print(\"ETA train median_absolute_error\", median_absolute_error(ata_train, eta_edd_h3_hour_train_transformed[:, 15]))\n",
    "# print(\"prediction train median_absolute_error\", median_absolute_error(ata_train, ata_train_pred))\n",
    "#\n",
    "# print(\"ETA test median_absolute_error \", median_absolute_error(ata_test, eta_edd_h3_hour_test_transformed[:, 15]))\n",
    "# print(\"prediction test median_absolute_error\", median_absolute_error(ata_test, ata_test_pred))\n",
    "#\n",
    "#\n",
    "# print(\"ETA train r2_score\", r2_score(ata_train, eta_edd_h3_hour_train_transformed[:, 15]))\n",
    "# print(\"prediction train r2_score\", r2_score(ata_train, ata_train_pred))\n",
    "#\n",
    "# print(\"ETA test r2_score \", r2_score(ata_test, eta_edd_h3_hour_test_transformed[:, 15]))\n",
    "# print(\"prediction test r2_score\", r2_score(ata_test, ata_test_pred))\n",
    "#\n",
    "#\n",
    "# print(\"ETA train MAPE\", mean_absolute_percentage_error(ata_train, eta_edd_h3_hour_train_transformed[:, 15]))\n",
    "# print(\"prediction train MAPE\", mean_absolute_percentage_error(ata_train, ata_train_pred))\n",
    "#\n",
    "# print(\"ETA test MAPE \", mean_absolute_percentage_error(ata_test, eta_edd_h3_hour_test_transformed[:, 15]))\n",
    "# print(\"prediction test MAPE\", mean_absolute_percentage_error(ata_test, ata_test_pred))"
   ],
   "metadata": {
    "collapsed": false,
    "pycharm": {
     "name": "#%%\n"
    }
   }
  },
  {
   "cell_type": "code",
   "execution_count": 73,
   "outputs": [
    {
     "data": {
      "text/plain": "         eta   ata  a_t_a_result.ride_a_t_a           created_at  source_lat  \\\n7       3254  4100                     3942  2022-10-04 09:56:09   35.740150   \n10      2188  2162                     2150  2022-10-04 09:21:41   35.762886   \n30      2693  2828                     2620  2022-10-04 15:45:12   35.641914   \n41      2151  3251                     3135  2022-10-04 10:15:55   35.665176   \n48      2009  2147                     2136  2022-10-04 10:02:15   35.740749   \n...      ...   ...                      ...                  ...         ...   \n122075  2566  2938                     2961  2022-10-04 16:29:02   35.644901   \n122081  1952  4446                     4336  2022-10-04 18:10:56   35.766682   \n122090  4909  9081                     9155  2022-10-04 17:03:03   35.743797   \n122093  1839  1740                     1747  2022-10-04 20:31:15   35.768658   \n122094  2553  3771                     3732  2022-10-04 18:12:30   35.807266   \n\n        source_lng  destination_lat  destination_lng      e_d_d  \\\n7        51.135941        35.775536        51.452332  40.798000   \n10       51.316708        35.759953        51.409832  15.738000   \n30       51.423805        35.805260        51.522381  28.052000   \n41       51.352268        35.754646        51.410664  16.480000   \n48       51.259422        35.733589        51.406292  19.128000   \n...            ...              ...              ...        ...   \n122075   51.301132        35.681496        51.019985  33.886002   \n122081   51.477768        35.761921        51.405621   8.847000   \n122090   51.366341        36.045437        50.544521  92.845001   \n122093   51.477840        35.721954        51.516163  12.486000   \n122094   51.428707        35.759602        51.334877  15.642000   \n\n            clickhouse_time      source_h3_4        dest_h3_4       hour  \n7       2022-10-04 11:10:44  842cf3dffffffff  842cf31ffffffff  82.935833  \n10      2022-10-04 10:01:25  842cf31ffffffff  842cf31ffffffff  82.361389  \n30      2022-10-04 17:19:29  842cf31ffffffff  842cf31ffffffff  88.753333  \n41      2022-10-04 11:19:05  842cf31ffffffff  842cf31ffffffff  83.265278  \n48      2022-10-04 10:42:07  842cf31ffffffff  842cf31ffffffff  83.037500  \n...                     ...              ...              ...        ...  \n122075  2022-10-04 18:36:45  842cf31ffffffff  842cf3dffffffff  89.483889  \n122081  2022-10-04 20:26:34  842cf31ffffffff  842cf31ffffffff  91.182222  \n122090  2022-10-04 20:39:49  842cf31ffffffff  842cf07ffffffff  90.050833  \n122093  2022-10-04 21:31:44  842cf31ffffffff  842cf31ffffffff  93.520833  \n122094  2022-10-04 19:55:13  842cf31ffffffff  842cf31ffffffff  91.208333  \n\n[16126 rows x 13 columns]",
      "text/html": "<div>\n<style scoped>\n    .dataframe tbody tr th:only-of-type {\n        vertical-align: middle;\n    }\n\n    .dataframe tbody tr th {\n        vertical-align: top;\n    }\n\n    .dataframe thead th {\n        text-align: right;\n    }\n</style>\n<table border=\"1\" class=\"dataframe\">\n  <thead>\n    <tr style=\"text-align: right;\">\n      <th></th>\n      <th>eta</th>\n      <th>ata</th>\n      <th>a_t_a_result.ride_a_t_a</th>\n      <th>created_at</th>\n      <th>source_lat</th>\n      <th>source_lng</th>\n      <th>destination_lat</th>\n      <th>destination_lng</th>\n      <th>e_d_d</th>\n      <th>clickhouse_time</th>\n      <th>source_h3_4</th>\n      <th>dest_h3_4</th>\n      <th>hour</th>\n    </tr>\n  </thead>\n  <tbody>\n    <tr>\n      <th>7</th>\n      <td>3254</td>\n      <td>4100</td>\n      <td>3942</td>\n      <td>2022-10-04 09:56:09</td>\n      <td>35.740150</td>\n      <td>51.135941</td>\n      <td>35.775536</td>\n      <td>51.452332</td>\n      <td>40.798000</td>\n      <td>2022-10-04 11:10:44</td>\n      <td>842cf3dffffffff</td>\n      <td>842cf31ffffffff</td>\n      <td>82.935833</td>\n    </tr>\n    <tr>\n      <th>10</th>\n      <td>2188</td>\n      <td>2162</td>\n      <td>2150</td>\n      <td>2022-10-04 09:21:41</td>\n      <td>35.762886</td>\n      <td>51.316708</td>\n      <td>35.759953</td>\n      <td>51.409832</td>\n      <td>15.738000</td>\n      <td>2022-10-04 10:01:25</td>\n      <td>842cf31ffffffff</td>\n      <td>842cf31ffffffff</td>\n      <td>82.361389</td>\n    </tr>\n    <tr>\n      <th>30</th>\n      <td>2693</td>\n      <td>2828</td>\n      <td>2620</td>\n      <td>2022-10-04 15:45:12</td>\n      <td>35.641914</td>\n      <td>51.423805</td>\n      <td>35.805260</td>\n      <td>51.522381</td>\n      <td>28.052000</td>\n      <td>2022-10-04 17:19:29</td>\n      <td>842cf31ffffffff</td>\n      <td>842cf31ffffffff</td>\n      <td>88.753333</td>\n    </tr>\n    <tr>\n      <th>41</th>\n      <td>2151</td>\n      <td>3251</td>\n      <td>3135</td>\n      <td>2022-10-04 10:15:55</td>\n      <td>35.665176</td>\n      <td>51.352268</td>\n      <td>35.754646</td>\n      <td>51.410664</td>\n      <td>16.480000</td>\n      <td>2022-10-04 11:19:05</td>\n      <td>842cf31ffffffff</td>\n      <td>842cf31ffffffff</td>\n      <td>83.265278</td>\n    </tr>\n    <tr>\n      <th>48</th>\n      <td>2009</td>\n      <td>2147</td>\n      <td>2136</td>\n      <td>2022-10-04 10:02:15</td>\n      <td>35.740749</td>\n      <td>51.259422</td>\n      <td>35.733589</td>\n      <td>51.406292</td>\n      <td>19.128000</td>\n      <td>2022-10-04 10:42:07</td>\n      <td>842cf31ffffffff</td>\n      <td>842cf31ffffffff</td>\n      <td>83.037500</td>\n    </tr>\n    <tr>\n      <th>...</th>\n      <td>...</td>\n      <td>...</td>\n      <td>...</td>\n      <td>...</td>\n      <td>...</td>\n      <td>...</td>\n      <td>...</td>\n      <td>...</td>\n      <td>...</td>\n      <td>...</td>\n      <td>...</td>\n      <td>...</td>\n      <td>...</td>\n    </tr>\n    <tr>\n      <th>122075</th>\n      <td>2566</td>\n      <td>2938</td>\n      <td>2961</td>\n      <td>2022-10-04 16:29:02</td>\n      <td>35.644901</td>\n      <td>51.301132</td>\n      <td>35.681496</td>\n      <td>51.019985</td>\n      <td>33.886002</td>\n      <td>2022-10-04 18:36:45</td>\n      <td>842cf31ffffffff</td>\n      <td>842cf3dffffffff</td>\n      <td>89.483889</td>\n    </tr>\n    <tr>\n      <th>122081</th>\n      <td>1952</td>\n      <td>4446</td>\n      <td>4336</td>\n      <td>2022-10-04 18:10:56</td>\n      <td>35.766682</td>\n      <td>51.477768</td>\n      <td>35.761921</td>\n      <td>51.405621</td>\n      <td>8.847000</td>\n      <td>2022-10-04 20:26:34</td>\n      <td>842cf31ffffffff</td>\n      <td>842cf31ffffffff</td>\n      <td>91.182222</td>\n    </tr>\n    <tr>\n      <th>122090</th>\n      <td>4909</td>\n      <td>9081</td>\n      <td>9155</td>\n      <td>2022-10-04 17:03:03</td>\n      <td>35.743797</td>\n      <td>51.366341</td>\n      <td>36.045437</td>\n      <td>50.544521</td>\n      <td>92.845001</td>\n      <td>2022-10-04 20:39:49</td>\n      <td>842cf31ffffffff</td>\n      <td>842cf07ffffffff</td>\n      <td>90.050833</td>\n    </tr>\n    <tr>\n      <th>122093</th>\n      <td>1839</td>\n      <td>1740</td>\n      <td>1747</td>\n      <td>2022-10-04 20:31:15</td>\n      <td>35.768658</td>\n      <td>51.477840</td>\n      <td>35.721954</td>\n      <td>51.516163</td>\n      <td>12.486000</td>\n      <td>2022-10-04 21:31:44</td>\n      <td>842cf31ffffffff</td>\n      <td>842cf31ffffffff</td>\n      <td>93.520833</td>\n    </tr>\n    <tr>\n      <th>122094</th>\n      <td>2553</td>\n      <td>3771</td>\n      <td>3732</td>\n      <td>2022-10-04 18:12:30</td>\n      <td>35.807266</td>\n      <td>51.428707</td>\n      <td>35.759602</td>\n      <td>51.334877</td>\n      <td>15.642000</td>\n      <td>2022-10-04 19:55:13</td>\n      <td>842cf31ffffffff</td>\n      <td>842cf31ffffffff</td>\n      <td>91.208333</td>\n    </tr>\n  </tbody>\n</table>\n<p>16126 rows × 13 columns</p>\n</div>"
     },
     "execution_count": 73,
     "metadata": {},
     "output_type": "execute_result"
    }
   ],
   "source": [
    "rides_p4 = rides[rides['eta'] > 1800]\n",
    "rides_p4"
   ],
   "metadata": {
    "collapsed": false,
    "pycharm": {
     "name": "#%%\n"
    }
   }
  },
  {
   "cell_type": "code",
   "execution_count": 74,
   "outputs": [
    {
     "data": {
      "text/plain": "                eta           ata  a_t_a_result.ride_a_t_a    source_lat  \\\ncount  16126.000000  16126.000000             16126.000000  16126.000000   \nmean    2555.397247   3570.344227              3563.611993     35.695432   \nstd      692.453222   1757.983104              1711.870353      0.095370   \nmin     1801.000000    515.000000               461.000000     35.210945   \n25%     2041.000000   2353.250000              2364.000000     35.659060   \n50%     2374.000000   3051.000000              3049.000000     35.723452   \n75%     2869.000000   4230.750000              4221.750000     35.759588   \nmax     8821.000000  17940.000000             10793.000000     35.831814   \n\n         source_lng  destination_lat  destination_lng         e_d_d  \\\ncount  16126.000000     16126.000000     16126.000000  16126.000000   \nmean      51.398392        35.701529        51.355102     29.029813   \nstd        0.137800         0.103537         0.186716     16.590768   \nmin       50.901119        34.558254        49.693703      5.375000   \n25%       51.330444        35.666199        51.303111     17.631500   \n50%       51.406178        35.722916        51.396646     23.852500   \n75%       51.462046        35.762365        51.454096     36.397749   \nmax       52.782028        36.312389        52.771801    230.001007   \n\n               hour  \ncount  16126.000000  \nmean      87.973391  \nstd        4.622675  \nmin       73.008889  \n25%       83.702778  \n50%       89.487778  \n75%       91.450417  \nmax       96.319722  ",
      "text/html": "<div>\n<style scoped>\n    .dataframe tbody tr th:only-of-type {\n        vertical-align: middle;\n    }\n\n    .dataframe tbody tr th {\n        vertical-align: top;\n    }\n\n    .dataframe thead th {\n        text-align: right;\n    }\n</style>\n<table border=\"1\" class=\"dataframe\">\n  <thead>\n    <tr style=\"text-align: right;\">\n      <th></th>\n      <th>eta</th>\n      <th>ata</th>\n      <th>a_t_a_result.ride_a_t_a</th>\n      <th>source_lat</th>\n      <th>source_lng</th>\n      <th>destination_lat</th>\n      <th>destination_lng</th>\n      <th>e_d_d</th>\n      <th>hour</th>\n    </tr>\n  </thead>\n  <tbody>\n    <tr>\n      <th>count</th>\n      <td>16126.000000</td>\n      <td>16126.000000</td>\n      <td>16126.000000</td>\n      <td>16126.000000</td>\n      <td>16126.000000</td>\n      <td>16126.000000</td>\n      <td>16126.000000</td>\n      <td>16126.000000</td>\n      <td>16126.000000</td>\n    </tr>\n    <tr>\n      <th>mean</th>\n      <td>2555.397247</td>\n      <td>3570.344227</td>\n      <td>3563.611993</td>\n      <td>35.695432</td>\n      <td>51.398392</td>\n      <td>35.701529</td>\n      <td>51.355102</td>\n      <td>29.029813</td>\n      <td>87.973391</td>\n    </tr>\n    <tr>\n      <th>std</th>\n      <td>692.453222</td>\n      <td>1757.983104</td>\n      <td>1711.870353</td>\n      <td>0.095370</td>\n      <td>0.137800</td>\n      <td>0.103537</td>\n      <td>0.186716</td>\n      <td>16.590768</td>\n      <td>4.622675</td>\n    </tr>\n    <tr>\n      <th>min</th>\n      <td>1801.000000</td>\n      <td>515.000000</td>\n      <td>461.000000</td>\n      <td>35.210945</td>\n      <td>50.901119</td>\n      <td>34.558254</td>\n      <td>49.693703</td>\n      <td>5.375000</td>\n      <td>73.008889</td>\n    </tr>\n    <tr>\n      <th>25%</th>\n      <td>2041.000000</td>\n      <td>2353.250000</td>\n      <td>2364.000000</td>\n      <td>35.659060</td>\n      <td>51.330444</td>\n      <td>35.666199</td>\n      <td>51.303111</td>\n      <td>17.631500</td>\n      <td>83.702778</td>\n    </tr>\n    <tr>\n      <th>50%</th>\n      <td>2374.000000</td>\n      <td>3051.000000</td>\n      <td>3049.000000</td>\n      <td>35.723452</td>\n      <td>51.406178</td>\n      <td>35.722916</td>\n      <td>51.396646</td>\n      <td>23.852500</td>\n      <td>89.487778</td>\n    </tr>\n    <tr>\n      <th>75%</th>\n      <td>2869.000000</td>\n      <td>4230.750000</td>\n      <td>4221.750000</td>\n      <td>35.759588</td>\n      <td>51.462046</td>\n      <td>35.762365</td>\n      <td>51.454096</td>\n      <td>36.397749</td>\n      <td>91.450417</td>\n    </tr>\n    <tr>\n      <th>max</th>\n      <td>8821.000000</td>\n      <td>17940.000000</td>\n      <td>10793.000000</td>\n      <td>35.831814</td>\n      <td>52.782028</td>\n      <td>36.312389</td>\n      <td>52.771801</td>\n      <td>230.001007</td>\n      <td>96.319722</td>\n    </tr>\n  </tbody>\n</table>\n</div>"
     },
     "execution_count": 74,
     "metadata": {},
     "output_type": "execute_result"
    }
   ],
   "source": [
    "rides_p4.describe()"
   ],
   "metadata": {
    "collapsed": false,
    "pycharm": {
     "name": "#%%\n"
    }
   }
  },
  {
   "cell_type": "code",
   "execution_count": 75,
   "outputs": [],
   "source": [
    "p4_eta_edd_h3_hour = rides_p4[[\"eta\", \"e_d_d\", \"source_h3_4\", \"dest_h3_4\", \"hour\"]]\n",
    "p4_ata = rides_p4[\"a_t_a_result.ride_a_t_a\"]"
   ],
   "metadata": {
    "collapsed": false,
    "pycharm": {
     "name": "#%%\n"
    }
   }
  },
  {
   "cell_type": "code",
   "execution_count": 76,
   "outputs": [
    {
     "name": "stdout",
     "output_type": "stream",
     "text": [
      "15319\n",
      "807\n"
     ]
    }
   ],
   "source": [
    "p4_eta_edd_h3_hour_train, p4_eta_edd_h3_hour_test, p4_ata_train, p4_ata_test = train_test_split(p4_eta_edd_h3_hour, p4_ata, test_size=0.05, random_state=73)\n",
    "print(len(p4_eta_edd_h3_hour_train))\n",
    "print(len(p4_eta_edd_h3_hour_test))"
   ],
   "metadata": {
    "collapsed": false,
    "pycharm": {
     "name": "#%%\n"
    }
   }
  },
  {
   "cell_type": "code",
   "execution_count": 82,
   "outputs": [
    {
     "data": {
      "text/plain": "120598    3056\n84018     3369\n111821    3004\n46934     2127\n49435     2230\n          ... \n103304    1464\n64714     6163\n30218     1854\n62917     3551\n37870     2226\nName: a_t_a_result.ride_a_t_a, Length: 15319, dtype: int64"
     },
     "execution_count": 82,
     "metadata": {},
     "output_type": "execute_result"
    }
   ],
   "source": [
    "p4_ata_train"
   ],
   "metadata": {
    "collapsed": false,
    "pycharm": {
     "name": "#%%\n"
    }
   }
  },
  {
   "cell_type": "code",
   "execution_count": 83,
   "outputs": [
    {
     "data": {
      "text/plain": "1096.8490110320517"
     },
     "execution_count": 83,
     "metadata": {},
     "output_type": "execute_result"
    }
   ],
   "source": [
    "mean_absolute_error(p4_eta_edd_h3_hour_train['eta'], p4_ata_train)"
   ],
   "metadata": {
    "collapsed": false,
    "pycharm": {
     "name": "#%%\n"
    }
   }
  },
  {
   "cell_type": "code",
   "execution_count": 41,
   "outputs": [],
   "source": [
    "# p4_eta_edd_h3_hour_train = rides_p4_train[[\"eta\", \"e_d_d\", \"source_h3_4\", \"dest_h3_4\", \"hour\"]]\n",
    "# p4_ata_train = rides_p4_train[\"a_t_a_result.ride_a_t_a\"]\n",
    "#\n",
    "# p4_eta_edd_h3_hour_test = rides_p4_test[[\"eta\", \"e_d_d\", \"source_h3_4\", \"dest_h3_4\", \"hour\"]]\n",
    "# p4_ata_test = rides_p4_test[\"a_t_a_result.ride_a_t_a\"]"
   ],
   "metadata": {
    "collapsed": false,
    "pycharm": {
     "name": "#%%\n"
    }
   }
  },
  {
   "cell_type": "code",
   "execution_count": 42,
   "outputs": [
    {
     "data": {
      "text/plain": "                eta         e_d_d          hour  source_h3_4_842cd59ffffffff  \\\ncount  15319.000000  15319.000000  15319.000000                 15319.000000   \nmean    2555.642927     29.056679     87.978512                     0.001763   \nstd      692.766737     16.625739      4.620244                     0.041947   \nmin     1801.000000      5.375000     73.008889                     0.000000   \n25%     2040.000000     17.648000     83.714306                     0.000000   \n50%     2376.000000     23.875000     89.491389                     0.000000   \n75%     2868.000000     36.408501     91.452917                     0.000000   \nmax     8821.000000    230.001007     96.319722                     1.000000   \n\n       source_h3_4_842cd5bffffffff  source_h3_4_842cf31ffffffff  \\\ncount                 15319.000000                 15319.000000   \nmean                      0.000131                     0.840003   \nstd                       0.011426                     0.366616   \nmin                       0.000000                     0.000000   \n25%                       0.000000                     1.000000   \n50%                       0.000000                     1.000000   \n75%                       0.000000                     1.000000   \nmax                       1.000000                     1.000000   \n\n       source_h3_4_842cf33ffffffff  source_h3_4_842cf35ffffffff  \\\ncount                 15319.000000                 15319.000000   \nmean                      0.021085                     0.056727   \nstd                       0.143672                     0.231328   \nmin                       0.000000                     0.000000   \n25%                       0.000000                     0.000000   \n50%                       0.000000                     0.000000   \n75%                       0.000000                     0.000000   \nmax                       1.000000                     1.000000   \n\n       source_h3_4_842cf37ffffffff  source_h3_4_842cf3dffffffff  ...  \\\ncount                 15319.000000                 15319.000000  ...   \nmean                      0.025459                     0.054246  ...   \nstd                       0.157518                     0.226511  ...   \nmin                       0.000000                     0.000000  ...   \n25%                       0.000000                     0.000000  ...   \n50%                       0.000000                     0.000000  ...   \n75%                       0.000000                     0.000000  ...   \nmax                       1.000000                     1.000000  ...   \n\n       dest_h3_4_842cf0dffffffff  dest_h3_4_842cf21ffffffff  \\\ncount               15319.000000               15319.000000   \nmean                    0.000065                   0.000065   \nstd                     0.008080                   0.008080   \nmin                     0.000000                   0.000000   \n25%                     0.000000                   0.000000   \n50%                     0.000000                   0.000000   \n75%                     0.000000                   0.000000   \nmax                     1.000000                   1.000000   \n\n       dest_h3_4_842cf23ffffffff  dest_h3_4_842cf27ffffffff  \\\ncount               15319.000000               15319.000000   \nmean                    0.000065                   0.001110   \nstd                     0.008080                   0.033295   \nmin                     0.000000                   0.000000   \n25%                     0.000000                   0.000000   \n50%                     0.000000                   0.000000   \n75%                     0.000000                   0.000000   \nmax                     1.000000                   1.000000   \n\n       dest_h3_4_842cf31ffffffff  dest_h3_4_842cf33ffffffff  \\\ncount               15319.000000               15319.000000   \nmean                    0.756512                   0.018082   \nstd                     0.429201                   0.133253   \nmin                     0.000000                   0.000000   \n25%                     1.000000                   0.000000   \n50%                     1.000000                   0.000000   \n75%                     1.000000                   0.000000   \nmax                     1.000000                   1.000000   \n\n       dest_h3_4_842cf35ffffffff  dest_h3_4_842cf37ffffffff  \\\ncount               15319.000000               15319.000000   \nmean                    0.047914                   0.020106   \nstd                     0.213592                   0.140367   \nmin                     0.000000                   0.000000   \n25%                     0.000000                   0.000000   \n50%                     0.000000                   0.000000   \n75%                     0.000000                   0.000000   \nmax                     1.000000                   1.000000   \n\n       dest_h3_4_842cf39ffffffff  dest_h3_4_842cf3dffffffff  \ncount               15319.000000               15319.000000  \nmean                    0.017168                   0.131275  \nstd                     0.129902                   0.337712  \nmin                     0.000000                   0.000000  \n25%                     0.000000                   0.000000  \n50%                     0.000000                   0.000000  \n75%                     0.000000                   0.000000  \nmax                     1.000000                   1.000000  \n\n[8 rows x 27 columns]",
      "text/html": "<div>\n<style scoped>\n    .dataframe tbody tr th:only-of-type {\n        vertical-align: middle;\n    }\n\n    .dataframe tbody tr th {\n        vertical-align: top;\n    }\n\n    .dataframe thead th {\n        text-align: right;\n    }\n</style>\n<table border=\"1\" class=\"dataframe\">\n  <thead>\n    <tr style=\"text-align: right;\">\n      <th></th>\n      <th>eta</th>\n      <th>e_d_d</th>\n      <th>hour</th>\n      <th>source_h3_4_842cd59ffffffff</th>\n      <th>source_h3_4_842cd5bffffffff</th>\n      <th>source_h3_4_842cf31ffffffff</th>\n      <th>source_h3_4_842cf33ffffffff</th>\n      <th>source_h3_4_842cf35ffffffff</th>\n      <th>source_h3_4_842cf37ffffffff</th>\n      <th>source_h3_4_842cf3dffffffff</th>\n      <th>...</th>\n      <th>dest_h3_4_842cf0dffffffff</th>\n      <th>dest_h3_4_842cf21ffffffff</th>\n      <th>dest_h3_4_842cf23ffffffff</th>\n      <th>dest_h3_4_842cf27ffffffff</th>\n      <th>dest_h3_4_842cf31ffffffff</th>\n      <th>dest_h3_4_842cf33ffffffff</th>\n      <th>dest_h3_4_842cf35ffffffff</th>\n      <th>dest_h3_4_842cf37ffffffff</th>\n      <th>dest_h3_4_842cf39ffffffff</th>\n      <th>dest_h3_4_842cf3dffffffff</th>\n    </tr>\n  </thead>\n  <tbody>\n    <tr>\n      <th>count</th>\n      <td>15319.000000</td>\n      <td>15319.000000</td>\n      <td>15319.000000</td>\n      <td>15319.000000</td>\n      <td>15319.000000</td>\n      <td>15319.000000</td>\n      <td>15319.000000</td>\n      <td>15319.000000</td>\n      <td>15319.000000</td>\n      <td>15319.000000</td>\n      <td>...</td>\n      <td>15319.000000</td>\n      <td>15319.000000</td>\n      <td>15319.000000</td>\n      <td>15319.000000</td>\n      <td>15319.000000</td>\n      <td>15319.000000</td>\n      <td>15319.000000</td>\n      <td>15319.000000</td>\n      <td>15319.000000</td>\n      <td>15319.000000</td>\n    </tr>\n    <tr>\n      <th>mean</th>\n      <td>2555.642927</td>\n      <td>29.056679</td>\n      <td>87.978512</td>\n      <td>0.001763</td>\n      <td>0.000131</td>\n      <td>0.840003</td>\n      <td>0.021085</td>\n      <td>0.056727</td>\n      <td>0.025459</td>\n      <td>0.054246</td>\n      <td>...</td>\n      <td>0.000065</td>\n      <td>0.000065</td>\n      <td>0.000065</td>\n      <td>0.001110</td>\n      <td>0.756512</td>\n      <td>0.018082</td>\n      <td>0.047914</td>\n      <td>0.020106</td>\n      <td>0.017168</td>\n      <td>0.131275</td>\n    </tr>\n    <tr>\n      <th>std</th>\n      <td>692.766737</td>\n      <td>16.625739</td>\n      <td>4.620244</td>\n      <td>0.041947</td>\n      <td>0.011426</td>\n      <td>0.366616</td>\n      <td>0.143672</td>\n      <td>0.231328</td>\n      <td>0.157518</td>\n      <td>0.226511</td>\n      <td>...</td>\n      <td>0.008080</td>\n      <td>0.008080</td>\n      <td>0.008080</td>\n      <td>0.033295</td>\n      <td>0.429201</td>\n      <td>0.133253</td>\n      <td>0.213592</td>\n      <td>0.140367</td>\n      <td>0.129902</td>\n      <td>0.337712</td>\n    </tr>\n    <tr>\n      <th>min</th>\n      <td>1801.000000</td>\n      <td>5.375000</td>\n      <td>73.008889</td>\n      <td>0.000000</td>\n      <td>0.000000</td>\n      <td>0.000000</td>\n      <td>0.000000</td>\n      <td>0.000000</td>\n      <td>0.000000</td>\n      <td>0.000000</td>\n      <td>...</td>\n      <td>0.000000</td>\n      <td>0.000000</td>\n      <td>0.000000</td>\n      <td>0.000000</td>\n      <td>0.000000</td>\n      <td>0.000000</td>\n      <td>0.000000</td>\n      <td>0.000000</td>\n      <td>0.000000</td>\n      <td>0.000000</td>\n    </tr>\n    <tr>\n      <th>25%</th>\n      <td>2040.000000</td>\n      <td>17.648000</td>\n      <td>83.714306</td>\n      <td>0.000000</td>\n      <td>0.000000</td>\n      <td>1.000000</td>\n      <td>0.000000</td>\n      <td>0.000000</td>\n      <td>0.000000</td>\n      <td>0.000000</td>\n      <td>...</td>\n      <td>0.000000</td>\n      <td>0.000000</td>\n      <td>0.000000</td>\n      <td>0.000000</td>\n      <td>1.000000</td>\n      <td>0.000000</td>\n      <td>0.000000</td>\n      <td>0.000000</td>\n      <td>0.000000</td>\n      <td>0.000000</td>\n    </tr>\n    <tr>\n      <th>50%</th>\n      <td>2376.000000</td>\n      <td>23.875000</td>\n      <td>89.491389</td>\n      <td>0.000000</td>\n      <td>0.000000</td>\n      <td>1.000000</td>\n      <td>0.000000</td>\n      <td>0.000000</td>\n      <td>0.000000</td>\n      <td>0.000000</td>\n      <td>...</td>\n      <td>0.000000</td>\n      <td>0.000000</td>\n      <td>0.000000</td>\n      <td>0.000000</td>\n      <td>1.000000</td>\n      <td>0.000000</td>\n      <td>0.000000</td>\n      <td>0.000000</td>\n      <td>0.000000</td>\n      <td>0.000000</td>\n    </tr>\n    <tr>\n      <th>75%</th>\n      <td>2868.000000</td>\n      <td>36.408501</td>\n      <td>91.452917</td>\n      <td>0.000000</td>\n      <td>0.000000</td>\n      <td>1.000000</td>\n      <td>0.000000</td>\n      <td>0.000000</td>\n      <td>0.000000</td>\n      <td>0.000000</td>\n      <td>...</td>\n      <td>0.000000</td>\n      <td>0.000000</td>\n      <td>0.000000</td>\n      <td>0.000000</td>\n      <td>1.000000</td>\n      <td>0.000000</td>\n      <td>0.000000</td>\n      <td>0.000000</td>\n      <td>0.000000</td>\n      <td>0.000000</td>\n    </tr>\n    <tr>\n      <th>max</th>\n      <td>8821.000000</td>\n      <td>230.001007</td>\n      <td>96.319722</td>\n      <td>1.000000</td>\n      <td>1.000000</td>\n      <td>1.000000</td>\n      <td>1.000000</td>\n      <td>1.000000</td>\n      <td>1.000000</td>\n      <td>1.000000</td>\n      <td>...</td>\n      <td>1.000000</td>\n      <td>1.000000</td>\n      <td>1.000000</td>\n      <td>1.000000</td>\n      <td>1.000000</td>\n      <td>1.000000</td>\n      <td>1.000000</td>\n      <td>1.000000</td>\n      <td>1.000000</td>\n      <td>1.000000</td>\n    </tr>\n  </tbody>\n</table>\n<p>8 rows × 27 columns</p>\n</div>"
     },
     "execution_count": 42,
     "metadata": {},
     "output_type": "execute_result"
    }
   ],
   "source": [
    "p4_dummy_train_rides = pd.get_dummies(p4_eta_edd_h3_hour_train, prefix={'source_h3_4': 'source_h3_4',\n",
    "                                                             'dest_h3_4': 'dest_h3_4'},\n",
    "                                   drop_first=True)\n",
    "p4_dummy_train_rides.describe()"
   ],
   "metadata": {
    "collapsed": false,
    "pycharm": {
     "name": "#%%\n"
    }
   }
  },
  {
   "cell_type": "code",
   "execution_count": 43,
   "outputs": [
    {
     "name": "stderr",
     "output_type": "stream",
     "text": [
      "/var/folders/yq/707ysz_j3jlggmtk5clx13rm0000gn/T/ipykernel_49551/3944072537.py:7: UserWarning: Boolean Series key will be reindexed to match DataFrame index.\n",
      "  p4_eta_edd_h3_hour_train = p4_eta_edd_h3_hour_train[p4_dummy_train_rides[col] == 0]\n"
     ]
    },
    {
     "data": {
      "text/plain": "                eta         e_d_d          hour\ncount  15291.000000  15291.000000  15291.000000\nmean    2551.027533     28.919506     87.978256\nstd      679.590029     16.156415      4.621644\nmin     1801.000000      5.375000     73.008889\n25%     2040.000000     17.635000     83.712500\n50%     2375.000000     23.850000     89.491944\n75%     2866.000000     36.341000     91.454861\nmax     7752.000000    170.723999     96.319722",
      "text/html": "<div>\n<style scoped>\n    .dataframe tbody tr th:only-of-type {\n        vertical-align: middle;\n    }\n\n    .dataframe tbody tr th {\n        vertical-align: top;\n    }\n\n    .dataframe thead th {\n        text-align: right;\n    }\n</style>\n<table border=\"1\" class=\"dataframe\">\n  <thead>\n    <tr style=\"text-align: right;\">\n      <th></th>\n      <th>eta</th>\n      <th>e_d_d</th>\n      <th>hour</th>\n    </tr>\n  </thead>\n  <tbody>\n    <tr>\n      <th>count</th>\n      <td>15291.000000</td>\n      <td>15291.000000</td>\n      <td>15291.000000</td>\n    </tr>\n    <tr>\n      <th>mean</th>\n      <td>2551.027533</td>\n      <td>28.919506</td>\n      <td>87.978256</td>\n    </tr>\n    <tr>\n      <th>std</th>\n      <td>679.590029</td>\n      <td>16.156415</td>\n      <td>4.621644</td>\n    </tr>\n    <tr>\n      <th>min</th>\n      <td>1801.000000</td>\n      <td>5.375000</td>\n      <td>73.008889</td>\n    </tr>\n    <tr>\n      <th>25%</th>\n      <td>2040.000000</td>\n      <td>17.635000</td>\n      <td>83.712500</td>\n    </tr>\n    <tr>\n      <th>50%</th>\n      <td>2375.000000</td>\n      <td>23.850000</td>\n      <td>89.491944</td>\n    </tr>\n    <tr>\n      <th>75%</th>\n      <td>2866.000000</td>\n      <td>36.341000</td>\n      <td>91.454861</td>\n    </tr>\n    <tr>\n      <th>max</th>\n      <td>7752.000000</td>\n      <td>170.723999</td>\n      <td>96.319722</td>\n    </tr>\n  </tbody>\n</table>\n</div>"
     },
     "execution_count": 43,
     "metadata": {},
     "output_type": "execute_result"
    }
   ],
   "source": [
    "p4_geo_noise = np.count_nonzero(p4_dummy_train_rides, axis=0) < 12\n",
    "\n",
    "p4_cols = p4_dummy_train_rides.columns\n",
    "for col, noise in zip(p4_cols, p4_geo_noise):\n",
    "    if noise:\n",
    "        # DOESN'T REINDEX\n",
    "        p4_eta_edd_h3_hour_train = p4_eta_edd_h3_hour_train[p4_dummy_train_rides[col] == 0]\n",
    "        p4_ata_train = p4_ata_train[p4_dummy_train_rides[col] == 0]\n",
    "\n",
    "p4_eta_edd_h3_hour_train.describe()"
   ],
   "metadata": {
    "collapsed": false,
    "pycharm": {
     "name": "#%%\n"
    }
   }
  },
  {
   "cell_type": "code",
   "execution_count": 44,
   "outputs": [
    {
     "name": "stdout",
     "output_type": "stream",
     "text": [
      "[15319 15319 15319    27     2 12868   323   869   390   831    10     1\n",
      "    30     1    10     1    59     1     1     1    17 11589   277   734\n",
      "   308   263  2011]\n",
      "Index(['eta', 'e_d_d', 'hour', 'source_h3_4_842cd59ffffffff',\n",
      "       'source_h3_4_842cd5bffffffff', 'source_h3_4_842cf31ffffffff',\n",
      "       'source_h3_4_842cf33ffffffff', 'source_h3_4_842cf35ffffffff',\n",
      "       'source_h3_4_842cf37ffffffff', 'source_h3_4_842cf3dffffffff',\n",
      "       'dest_h3_4_842cd4bffffffff', 'dest_h3_4_842cd4dffffffff',\n",
      "       'dest_h3_4_842cd59ffffffff', 'dest_h3_4_842cd5bffffffff',\n",
      "       'dest_h3_4_842cf01ffffffff', 'dest_h3_4_842cf05ffffffff',\n",
      "       'dest_h3_4_842cf07ffffffff', 'dest_h3_4_842cf0dffffffff',\n",
      "       'dest_h3_4_842cf21ffffffff', 'dest_h3_4_842cf23ffffffff',\n",
      "       'dest_h3_4_842cf27ffffffff', 'dest_h3_4_842cf31ffffffff',\n",
      "       'dest_h3_4_842cf33ffffffff', 'dest_h3_4_842cf35ffffffff',\n",
      "       'dest_h3_4_842cf37ffffffff', 'dest_h3_4_842cf39ffffffff',\n",
      "       'dest_h3_4_842cf3dffffffff'],\n",
      "      dtype='object')\n"
     ]
    }
   ],
   "source": [
    "print(np.count_nonzero(p4_dummy_train_rides, axis=0))\n",
    "print(p4_dummy_train_rides.columns)"
   ],
   "metadata": {
    "collapsed": false,
    "pycharm": {
     "name": "#%%\n"
    }
   }
  },
  {
   "cell_type": "code",
   "execution_count": 45,
   "outputs": [],
   "source": [
    "p4_ohe = ColumnTransformer(\n",
    "    [('OHE', OneHotEncoder(handle_unknown='ignore', sparse=False), ['source_h3_4', 'dest_h3_4'])],\n",
    "    remainder='passthrough'\n",
    ").fit(p4_eta_edd_h3_hour_train)"
   ],
   "metadata": {
    "collapsed": false,
    "pycharm": {
     "name": "#%%\n"
    }
   }
  },
  {
   "cell_type": "code",
   "execution_count": 46,
   "outputs": [],
   "source": [
    "p4_eta_edd_h3_hour_train_transformed = p4_ohe.transform(p4_eta_edd_h3_hour_train)\n",
    "p4_eta_edd_h3_hour_test_transformed = p4_ohe.transform(p4_eta_edd_h3_hour_test)"
   ],
   "metadata": {
    "collapsed": false,
    "pycharm": {
     "name": "#%%\n"
    }
   }
  },
  {
   "cell_type": "code",
   "execution_count": 48,
   "outputs": [],
   "source": [
    "p4_eta_train = p4_eta_edd_h3_hour_train_transformed[:, 17]\n",
    "p4_eta_test = p4_eta_edd_h3_hour_test_transformed[:, 17]"
   ],
   "metadata": {
    "collapsed": false,
    "pycharm": {
     "name": "#%%\n"
    }
   }
  },
  {
   "cell_type": "code",
   "execution_count": null,
   "outputs": [],
   "source": [
    "print(a)\n",
    "# [[ 0  1  2  3]\n",
    "#  [ 4  5  6  7]\n",
    "#  [ 8  9 10 11]]\n",
    "\n",
    "a_del = np.delete(a, 1, 0)\n",
    "print(a_del)\n",
    "# [[ 0  1  2  3]\n",
    "#  [ 8  9 10 11]]\n",
    "\n",
    "print(a)\n",
    "# [[ 0  1  2  3]\n",
    "#  [ 4  5  6  7]\n",
    "#  [ 8  9 10 11]]"
   ],
   "metadata": {
    "collapsed": false,
    "pycharm": {
     "name": "#%%\n"
    }
   }
  },
  {
   "cell_type": "code",
   "execution_count": 51,
   "outputs": [
    {
     "data": {
      "text/plain": "array([[ 0.        ,  0.        ,  1.        , ...,  0.        ,\n         0.        , 91.10444444],\n       [ 0.        ,  0.        ,  1.        , ...,  0.        ,\n         0.        , 88.56777778],\n       [ 0.        ,  0.        ,  1.        , ...,  0.        ,\n         0.        , 92.84583333],\n       ...,\n       [ 0.        ,  0.        ,  1.        , ...,  0.        ,\n         0.        , 92.66805556],\n       [ 0.        ,  0.        ,  1.        , ...,  0.        ,\n         0.        , 94.59444444],\n       [ 0.        ,  0.        ,  1.        , ...,  0.        ,\n         0.        , 86.48611111]])"
     },
     "execution_count": 51,
     "metadata": {},
     "output_type": "execute_result"
    }
   ],
   "source": [
    "p4_eta_edd_h3_hour_train_transformed = np.delete(p4_eta_edd_h3_hour_train_transformed, 17, 1)\n",
    "p4_eta_edd_h3_hour_train_transformed"
   ],
   "metadata": {
    "collapsed": false,
    "pycharm": {
     "name": "#%%\n"
    }
   }
  },
  {
   "cell_type": "code",
   "execution_count": 53,
   "outputs": [
    {
     "data": {
      "text/plain": "array([[ 0.        ,  0.        ,  1.        , ...,  0.        ,\n         0.        , 91.16722222],\n       [ 0.        ,  0.        ,  0.        , ...,  0.        ,\n         0.        , 81.54611111],\n       [ 0.        ,  0.        ,  1.        , ...,  0.        ,\n         0.        , 91.33194444],\n       ...,\n       [ 0.        ,  0.        ,  1.        , ...,  0.        ,\n         0.        , 92.44777778],\n       [ 0.        ,  0.        ,  1.        , ...,  0.        ,\n         0.        , 89.03111111],\n       [ 0.        ,  0.        ,  1.        , ...,  0.        ,\n         0.        , 83.83361111]])"
     },
     "execution_count": 53,
     "metadata": {},
     "output_type": "execute_result"
    }
   ],
   "source": [
    "p4_eta_edd_h3_hour_test_transformed = np.delete(p4_eta_edd_h3_hour_test_transformed, 17, 1)\n",
    "p4_eta_edd_h3_hour_test_transformed"
   ],
   "metadata": {
    "collapsed": false,
    "pycharm": {
     "name": "#%%\n"
    }
   }
  },
  {
   "cell_type": "code",
   "execution_count": 54,
   "outputs": [
    {
     "name": "stdout",
     "output_type": "stream",
     "text": [
      "[ 9.34934995e+13  9.34934995e+13  9.34934995e+13  9.34934995e+13\n",
      "  9.34934995e+13  9.34934995e+13  9.34934995e+13 -1.95399795e+13\n",
      " -1.95399795e+13 -1.95399795e+13 -1.95399795e+13 -1.95399795e+13\n",
      " -1.95399795e+13 -1.95399795e+13 -1.95399795e+13 -1.95399795e+13\n",
      " -1.95399795e+13  7.19873408e+01]\n",
      "-73953520000957.69\n"
     ]
    }
   ],
   "source": [
    "p4_reg = LinearRegression().fit(p4_eta_edd_h3_hour_train_transformed, p4_ata_train)\n",
    "print(p4_reg.coef_)\n",
    "print(p4_reg.intercept_)"
   ],
   "metadata": {
    "collapsed": false,
    "pycharm": {
     "name": "#%%\n"
    }
   }
  },
  {
   "cell_type": "code",
   "execution_count": 55,
   "outputs": [],
   "source": [
    "p4_ata_train_pred = p4_reg.predict(p4_eta_edd_h3_hour_train_transformed)\n",
    "p4_ata_test_pred = p4_reg.predict(p4_eta_edd_h3_hour_test_transformed)"
   ],
   "metadata": {
    "collapsed": false,
    "pycharm": {
     "name": "#%%\n"
    }
   }
  },
  {
   "cell_type": "code",
   "execution_count": 56,
   "outputs": [
    {
     "data": {
      "text/plain": "array([[ 0.        ,  0.        ,  1.        , ...,  0.        ,\n         0.        , 91.10444444],\n       [ 0.        ,  0.        ,  1.        , ...,  0.        ,\n         0.        , 88.56777778],\n       [ 0.        ,  0.        ,  1.        , ...,  0.        ,\n         0.        , 92.84583333],\n       ...,\n       [ 0.        ,  0.        ,  1.        , ...,  0.        ,\n         0.        , 92.66805556],\n       [ 0.        ,  0.        ,  1.        , ...,  0.        ,\n         0.        , 94.59444444],\n       [ 0.        ,  0.        ,  1.        , ...,  0.        ,\n         0.        , 86.48611111]])"
     },
     "execution_count": 56,
     "metadata": {},
     "output_type": "execute_result"
    }
   ],
   "source": [
    "p4_eta_edd_h3_hour_train_transformed"
   ],
   "metadata": {
    "collapsed": false,
    "pycharm": {
     "name": "#%%\n"
    }
   }
  },
  {
   "cell_type": "code",
   "execution_count": 60,
   "outputs": [
    {
     "data": {
      "text/plain": "array([3599.96875 , 3417.375   , 3725.328125, ..., 3712.53125 ,\n       3851.21875 , 3267.515625])"
     },
     "execution_count": 60,
     "metadata": {},
     "output_type": "execute_result"
    }
   ],
   "source": [
    "p4_ata_train_pred"
   ],
   "metadata": {
    "collapsed": false,
    "pycharm": {
     "name": "#%%\n"
    }
   }
  },
  {
   "cell_type": "code",
   "execution_count": 57,
   "outputs": [
    {
     "name": "stdout",
     "output_type": "stream",
     "text": [
      "ETA train MAE 1096.6753645935516\n",
      "prediction train MAE 1198.4045087796744\n",
      "ETA test MAE  1017.3717472118959\n",
      "prediction test MAE 1096.3314745972739\n",
      "ETA train MSE 2879023.7464521616\n",
      "prediction train MSE 2609790.4033374283\n",
      "ETA test MSE  2307514.3531598514\n",
      "prediction test MSE 2098373.512541023\n",
      "ETA train explained_variance_score 0.3672894395217836\n",
      "prediction train explained_variance_score 0.11021918168176859\n",
      "ETA test explained_variance_score  0.4237578642132125\n",
      "prediction test explained_variance_score 0.1518122240857832\n",
      "ETA train median_absolute_error 603.0\n",
      "prediction train median_absolute_error 933.125\n",
      "ETA test median_absolute_error  585.0\n",
      "prediction test median_absolute_error 881.15625\n",
      "ETA train r2_score 0.018426880794469414\n",
      "prediction train r2_score 0.11021918112576257\n",
      "ETA test r2_score  0.06591351865297645\n",
      "prediction test r2_score 0.15057415430713184\n",
      "ETA train MAPE 0.24710578169673528\n",
      "prediction train MAPE 0.3717299392613257\n",
      "ETA test MAPE  0.23854190142192694\n",
      "prediction test MAPE 0.3473023668297498\n"
     ]
    }
   ],
   "source": [
    "print(\"ETA train MAE\", mean_absolute_error(p4_ata_train, p4_eta_train))\n",
    "print(\"prediction train MAE\", mean_absolute_error(p4_ata_train, p4_ata_train_pred))\n",
    "\n",
    "print(\"ETA test MAE \", mean_absolute_error(p4_ata_test, p4_eta_test))\n",
    "print(\"prediction test MAE\", mean_absolute_error(p4_ata_test, p4_ata_test_pred))\n",
    "\n",
    "print(\"ETA train MSE\", mean_squared_error(p4_ata_train, p4_eta_train))\n",
    "print(\"prediction train MSE\", mean_squared_error(p4_ata_train, p4_ata_train_pred))\n",
    "\n",
    "print(\"ETA test MSE \", mean_squared_error(p4_ata_test, p4_eta_test))\n",
    "print(\"prediction test MSE\", mean_squared_error(p4_ata_test, p4_ata_test_pred))\n",
    "\n",
    "print(\"ETA train explained_variance_score\", explained_variance_score(p4_ata_train, p4_eta_train))\n",
    "print(\"prediction train explained_variance_score\", explained_variance_score(p4_ata_train, p4_ata_train_pred))\n",
    "\n",
    "print(\"ETA test explained_variance_score \", explained_variance_score(p4_ata_test, p4_eta_test))\n",
    "print(\"prediction test explained_variance_score\", explained_variance_score(p4_ata_test, p4_ata_test_pred))\n",
    "\n",
    "print(\"ETA train median_absolute_error\", median_absolute_error(p4_ata_train, p4_eta_train))\n",
    "print(\"prediction train median_absolute_error\", median_absolute_error(p4_ata_train, p4_ata_train_pred))\n",
    "\n",
    "print(\"ETA test median_absolute_error \", median_absolute_error(p4_ata_test, p4_eta_test))\n",
    "print(\"prediction test median_absolute_error\", median_absolute_error(p4_ata_test, p4_ata_test_pred))\n",
    "\n",
    "print(\"ETA train r2_score\", r2_score(p4_ata_train, p4_eta_train))\n",
    "print(\"prediction train r2_score\", r2_score(p4_ata_train, p4_ata_train_pred))\n",
    "\n",
    "print(\"ETA test r2_score \", r2_score(p4_ata_test, p4_eta_test))\n",
    "print(\"prediction test r2_score\", r2_score(p4_ata_test, p4_ata_test_pred))\n",
    "\n",
    "print(\"ETA train MAPE\", mean_absolute_percentage_error(p4_ata_train, p4_eta_train))\n",
    "print(\"prediction train MAPE\", mean_absolute_percentage_error(p4_ata_train, p4_ata_train_pred))\n",
    "\n",
    "print(\"ETA test MAPE \", mean_absolute_percentage_error(p4_ata_test, p4_eta_test))\n",
    "print(\"prediction test MAPE\", mean_absolute_percentage_error(p4_ata_test, p4_ata_test_pred))"
   ],
   "metadata": {
    "collapsed": false,
    "pycharm": {
     "name": "#%%\n"
    }
   }
  },
  {
   "cell_type": "code",
   "execution_count": 105,
   "outputs": [
    {
     "data": {
      "text/plain": "<AxesSubplot: >"
     },
     "execution_count": 105,
     "metadata": {},
     "output_type": "execute_result"
    },
    {
     "data": {
      "text/plain": "<Figure size 640x480 with 1 Axes>",
      "image/png": "[encoded data removed]"
     },
     "metadata": {},
     "output_type": "display_data"
    }
   ],
   "source": [
    "p4_ata_train.hist(bins=100)"
   ],
   "metadata": {
    "collapsed": false,
    "pycharm": {
     "name": "#%%\n"
    }
   }
  },
  {
   "cell_type": "code",
   "execution_count": 108,
   "outputs": [
    {
     "data": {
      "text/plain": "<AxesSubplot: >"
     },
     "execution_count": 108,
     "metadata": {},
     "output_type": "execute_result"
    },
    {
     "data": {
      "text/plain": "<Figure size 640x480 with 1 Axes>",
      "image/png": "[encoded data removed]"
     },
     "metadata": {},
     "output_type": "display_data"
    }
   ],
   "source": [
    "pd.Series(p4_eta_edd_h3_hour_train_transformed[:, 17]).hist(bins=100)"
   ],
   "metadata": {
    "collapsed": false,
    "pycharm": {
     "name": "#%%\n"
    }
   }
  },
  {
   "cell_type": "code",
   "execution_count": 109,
   "outputs": [
    {
     "ename": "ValueError",
     "evalue": "Grouper for '100' not 1-dimensional",
     "output_type": "error",
     "traceback": [
      "\u001B[0;31m---------------------------------------------------------------------------\u001B[0m",
      "\u001B[0;31mValueError\u001B[0m                                Traceback (most recent call last)",
      "Cell \u001B[0;32mIn [109], line 1\u001B[0m\n\u001B[0;32m----> 1\u001B[0m pd\u001B[38;5;241m.\u001B[39mSeries(p4_ata_train_pred)\u001B[38;5;241m.\u001B[39mhist(\u001B[38;5;241m100\u001B[39m)\n",
      "File \u001B[0;32m~/.local/share/virtualenvs/POP-wXztIGuF/lib/python3.9/site-packages/pandas/plotting/_core.py:106\u001B[0m, in \u001B[0;36mhist_series\u001B[0;34m(self, by, ax, grid, xlabelsize, xrot, ylabelsize, yrot, figsize, bins, backend, legend, **kwargs)\u001B[0m\n\u001B[1;32m     54\u001B[0m \u001B[38;5;124;03m\"\"\"\u001B[39;00m\n\u001B[1;32m     55\u001B[0m \u001B[38;5;124;03mDraw histogram of the input series using matplotlib.\u001B[39;00m\n\u001B[1;32m     56\u001B[0m \n\u001B[0;32m   (...)\u001B[0m\n\u001B[1;32m    103\u001B[0m \u001B[38;5;124;03mmatplotlib.axes.Axes.hist : Plot a histogram using matplotlib.\u001B[39;00m\n\u001B[1;32m    104\u001B[0m \u001B[38;5;124;03m\"\"\"\u001B[39;00m\n\u001B[1;32m    105\u001B[0m plot_backend \u001B[38;5;241m=\u001B[39m _get_plot_backend(backend)\n\u001B[0;32m--> 106\u001B[0m \u001B[38;5;28;01mreturn\u001B[39;00m \u001B[43mplot_backend\u001B[49m\u001B[38;5;241;43m.\u001B[39;49m\u001B[43mhist_series\u001B[49m\u001B[43m(\u001B[49m\n\u001B[1;32m    107\u001B[0m \u001B[43m    \u001B[49m\u001B[38;5;28;43mself\u001B[39;49m\u001B[43m,\u001B[49m\n\u001B[1;32m    108\u001B[0m \u001B[43m    \u001B[49m\u001B[43mby\u001B[49m\u001B[38;5;241;43m=\u001B[39;49m\u001B[43mby\u001B[49m\u001B[43m,\u001B[49m\n\u001B[1;32m    109\u001B[0m \u001B[43m    \u001B[49m\u001B[43max\u001B[49m\u001B[38;5;241;43m=\u001B[39;49m\u001B[43max\u001B[49m\u001B[43m,\u001B[49m\n\u001B[1;32m    110\u001B[0m \u001B[43m    \u001B[49m\u001B[43mgrid\u001B[49m\u001B[38;5;241;43m=\u001B[39;49m\u001B[43mgrid\u001B[49m\u001B[43m,\u001B[49m\n\u001B[1;32m    111\u001B[0m \u001B[43m    \u001B[49m\u001B[43mxlabelsize\u001B[49m\u001B[38;5;241;43m=\u001B[39;49m\u001B[43mxlabelsize\u001B[49m\u001B[43m,\u001B[49m\n\u001B[1;32m    112\u001B[0m \u001B[43m    \u001B[49m\u001B[43mxrot\u001B[49m\u001B[38;5;241;43m=\u001B[39;49m\u001B[43mxrot\u001B[49m\u001B[43m,\u001B[49m\n\u001B[1;32m    113\u001B[0m \u001B[43m    \u001B[49m\u001B[43mylabelsize\u001B[49m\u001B[38;5;241;43m=\u001B[39;49m\u001B[43mylabelsize\u001B[49m\u001B[43m,\u001B[49m\n\u001B[1;32m    114\u001B[0m \u001B[43m    \u001B[49m\u001B[43myrot\u001B[49m\u001B[38;5;241;43m=\u001B[39;49m\u001B[43myrot\u001B[49m\u001B[43m,\u001B[49m\n\u001B[1;32m    115\u001B[0m \u001B[43m    \u001B[49m\u001B[43mfigsize\u001B[49m\u001B[38;5;241;43m=\u001B[39;49m\u001B[43mfigsize\u001B[49m\u001B[43m,\u001B[49m\n\u001B[1;32m    116\u001B[0m \u001B[43m    \u001B[49m\u001B[43mbins\u001B[49m\u001B[38;5;241;43m=\u001B[39;49m\u001B[43mbins\u001B[49m\u001B[43m,\u001B[49m\n\u001B[1;32m    117\u001B[0m \u001B[43m    \u001B[49m\u001B[43mlegend\u001B[49m\u001B[38;5;241;43m=\u001B[39;49m\u001B[43mlegend\u001B[49m\u001B[43m,\u001B[49m\n\u001B[1;32m    118\u001B[0m \u001B[43m    \u001B[49m\u001B[38;5;241;43m*\u001B[39;49m\u001B[38;5;241;43m*\u001B[39;49m\u001B[43mkwargs\u001B[49m\u001B[43m,\u001B[49m\n\u001B[1;32m    119\u001B[0m \u001B[43m\u001B[49m\u001B[43m)\u001B[49m\n",
      "File \u001B[0;32m~/.local/share/virtualenvs/POP-wXztIGuF/lib/python3.9/site-packages/pandas/plotting/_matplotlib/hist.py:426\u001B[0m, in \u001B[0;36mhist_series\u001B[0;34m(self, by, ax, grid, xlabelsize, xrot, ylabelsize, yrot, figsize, bins, legend, **kwds)\u001B[0m\n\u001B[1;32m    421\u001B[0m     \u001B[38;5;28;01mif\u001B[39;00m \u001B[38;5;124m\"\u001B[39m\u001B[38;5;124mfigure\u001B[39m\u001B[38;5;124m\"\u001B[39m \u001B[38;5;129;01min\u001B[39;00m kwds:\n\u001B[1;32m    422\u001B[0m         \u001B[38;5;28;01mraise\u001B[39;00m \u001B[38;5;167;01mValueError\u001B[39;00m(\n\u001B[1;32m    423\u001B[0m             \u001B[38;5;124m\"\u001B[39m\u001B[38;5;124mCannot pass \u001B[39m\u001B[38;5;124m'\u001B[39m\u001B[38;5;124mfigure\u001B[39m\u001B[38;5;124m'\u001B[39m\u001B[38;5;124m when using the \u001B[39m\u001B[38;5;124m\"\u001B[39m\n\u001B[1;32m    424\u001B[0m             \u001B[38;5;124m\"\u001B[39m\u001B[38;5;124m'\u001B[39m\u001B[38;5;124mby\u001B[39m\u001B[38;5;124m'\u001B[39m\u001B[38;5;124m argument, since a new \u001B[39m\u001B[38;5;124m'\u001B[39m\u001B[38;5;124mFigure\u001B[39m\u001B[38;5;124m'\u001B[39m\u001B[38;5;124m instance will be created\u001B[39m\u001B[38;5;124m\"\u001B[39m\n\u001B[1;32m    425\u001B[0m         )\n\u001B[0;32m--> 426\u001B[0m     axes \u001B[38;5;241m=\u001B[39m \u001B[43m_grouped_hist\u001B[49m\u001B[43m(\u001B[49m\n\u001B[1;32m    427\u001B[0m \u001B[43m        \u001B[49m\u001B[38;5;28;43mself\u001B[39;49m\u001B[43m,\u001B[49m\n\u001B[1;32m    428\u001B[0m \u001B[43m        \u001B[49m\u001B[43mby\u001B[49m\u001B[38;5;241;43m=\u001B[39;49m\u001B[43mby\u001B[49m\u001B[43m,\u001B[49m\n\u001B[1;32m    429\u001B[0m \u001B[43m        \u001B[49m\u001B[43max\u001B[49m\u001B[38;5;241;43m=\u001B[39;49m\u001B[43max\u001B[49m\u001B[43m,\u001B[49m\n\u001B[1;32m    430\u001B[0m \u001B[43m        \u001B[49m\u001B[43mgrid\u001B[49m\u001B[38;5;241;43m=\u001B[39;49m\u001B[43mgrid\u001B[49m\u001B[43m,\u001B[49m\n\u001B[1;32m    431\u001B[0m \u001B[43m        \u001B[49m\u001B[43mfigsize\u001B[49m\u001B[38;5;241;43m=\u001B[39;49m\u001B[43mfigsize\u001B[49m\u001B[43m,\u001B[49m\n\u001B[1;32m    432\u001B[0m \u001B[43m        \u001B[49m\u001B[43mbins\u001B[49m\u001B[38;5;241;43m=\u001B[39;49m\u001B[43mbins\u001B[49m\u001B[43m,\u001B[49m\n\u001B[1;32m    433\u001B[0m \u001B[43m        \u001B[49m\u001B[43mxlabelsize\u001B[49m\u001B[38;5;241;43m=\u001B[39;49m\u001B[43mxlabelsize\u001B[49m\u001B[43m,\u001B[49m\n\u001B[1;32m    434\u001B[0m \u001B[43m        \u001B[49m\u001B[43mxrot\u001B[49m\u001B[38;5;241;43m=\u001B[39;49m\u001B[43mxrot\u001B[49m\u001B[43m,\u001B[49m\n\u001B[1;32m    435\u001B[0m \u001B[43m        \u001B[49m\u001B[43mylabelsize\u001B[49m\u001B[38;5;241;43m=\u001B[39;49m\u001B[43mylabelsize\u001B[49m\u001B[43m,\u001B[49m\n\u001B[1;32m    436\u001B[0m \u001B[43m        \u001B[49m\u001B[43myrot\u001B[49m\u001B[38;5;241;43m=\u001B[39;49m\u001B[43myrot\u001B[49m\u001B[43m,\u001B[49m\n\u001B[1;32m    437\u001B[0m \u001B[43m        \u001B[49m\u001B[43mlegend\u001B[49m\u001B[38;5;241;43m=\u001B[39;49m\u001B[43mlegend\u001B[49m\u001B[43m,\u001B[49m\n\u001B[1;32m    438\u001B[0m \u001B[43m        \u001B[49m\u001B[38;5;241;43m*\u001B[39;49m\u001B[38;5;241;43m*\u001B[39;49m\u001B[43mkwds\u001B[49m\u001B[43m,\u001B[49m\n\u001B[1;32m    439\u001B[0m \u001B[43m    \u001B[49m\u001B[43m)\u001B[49m\n\u001B[1;32m    441\u001B[0m \u001B[38;5;28;01mif\u001B[39;00m \u001B[38;5;28mhasattr\u001B[39m(axes, \u001B[38;5;124m\"\u001B[39m\u001B[38;5;124mndim\u001B[39m\u001B[38;5;124m\"\u001B[39m):\n\u001B[1;32m    442\u001B[0m     \u001B[38;5;28;01mif\u001B[39;00m axes\u001B[38;5;241m.\u001B[39mndim \u001B[38;5;241m==\u001B[39m \u001B[38;5;241m1\u001B[39m \u001B[38;5;129;01mand\u001B[39;00m \u001B[38;5;28mlen\u001B[39m(axes) \u001B[38;5;241m==\u001B[39m \u001B[38;5;241m1\u001B[39m:\n",
      "File \u001B[0;32m~/.local/share/virtualenvs/POP-wXztIGuF/lib/python3.9/site-packages/pandas/plotting/_matplotlib/hist.py:352\u001B[0m, in \u001B[0;36m_grouped_hist\u001B[0;34m(data, column, by, ax, bins, figsize, layout, sharex, sharey, rot, grid, xlabelsize, xrot, ylabelsize, yrot, legend, **kwargs)\u001B[0m\n\u001B[1;32m    349\u001B[0m \u001B[38;5;28;01mif\u001B[39;00m xrot \u001B[38;5;129;01mis\u001B[39;00m \u001B[38;5;28;01mNone\u001B[39;00m:\n\u001B[1;32m    350\u001B[0m     xrot \u001B[38;5;241m=\u001B[39m rot\n\u001B[0;32m--> 352\u001B[0m fig, axes \u001B[38;5;241m=\u001B[39m \u001B[43m_grouped_plot\u001B[49m\u001B[43m(\u001B[49m\n\u001B[1;32m    353\u001B[0m \u001B[43m    \u001B[49m\u001B[43mplot_group\u001B[49m\u001B[43m,\u001B[49m\n\u001B[1;32m    354\u001B[0m \u001B[43m    \u001B[49m\u001B[43mdata\u001B[49m\u001B[43m,\u001B[49m\n\u001B[1;32m    355\u001B[0m \u001B[43m    \u001B[49m\u001B[43mcolumn\u001B[49m\u001B[38;5;241;43m=\u001B[39;49m\u001B[43mcolumn\u001B[49m\u001B[43m,\u001B[49m\n\u001B[1;32m    356\u001B[0m \u001B[43m    \u001B[49m\u001B[43mby\u001B[49m\u001B[38;5;241;43m=\u001B[39;49m\u001B[43mby\u001B[49m\u001B[43m,\u001B[49m\n\u001B[1;32m    357\u001B[0m \u001B[43m    \u001B[49m\u001B[43msharex\u001B[49m\u001B[38;5;241;43m=\u001B[39;49m\u001B[43msharex\u001B[49m\u001B[43m,\u001B[49m\n\u001B[1;32m    358\u001B[0m \u001B[43m    \u001B[49m\u001B[43msharey\u001B[49m\u001B[38;5;241;43m=\u001B[39;49m\u001B[43msharey\u001B[49m\u001B[43m,\u001B[49m\n\u001B[1;32m    359\u001B[0m \u001B[43m    \u001B[49m\u001B[43max\u001B[49m\u001B[38;5;241;43m=\u001B[39;49m\u001B[43max\u001B[49m\u001B[43m,\u001B[49m\n\u001B[1;32m    360\u001B[0m \u001B[43m    \u001B[49m\u001B[43mfigsize\u001B[49m\u001B[38;5;241;43m=\u001B[39;49m\u001B[43mfigsize\u001B[49m\u001B[43m,\u001B[49m\n\u001B[1;32m    361\u001B[0m \u001B[43m    \u001B[49m\u001B[43mlayout\u001B[49m\u001B[38;5;241;43m=\u001B[39;49m\u001B[43mlayout\u001B[49m\u001B[43m,\u001B[49m\n\u001B[1;32m    362\u001B[0m \u001B[43m    \u001B[49m\u001B[43mrot\u001B[49m\u001B[38;5;241;43m=\u001B[39;49m\u001B[43mrot\u001B[49m\u001B[43m,\u001B[49m\n\u001B[1;32m    363\u001B[0m \u001B[43m\u001B[49m\u001B[43m)\u001B[49m\n\u001B[1;32m    365\u001B[0m set_ticks_props(\n\u001B[1;32m    366\u001B[0m     axes, xlabelsize\u001B[38;5;241m=\u001B[39mxlabelsize, xrot\u001B[38;5;241m=\u001B[39mxrot, ylabelsize\u001B[38;5;241m=\u001B[39mylabelsize, yrot\u001B[38;5;241m=\u001B[39myrot\n\u001B[1;32m    367\u001B[0m )\n\u001B[1;32m    369\u001B[0m maybe_adjust_figure(\n\u001B[1;32m    370\u001B[0m     fig, bottom\u001B[38;5;241m=\u001B[39m\u001B[38;5;241m0.15\u001B[39m, top\u001B[38;5;241m=\u001B[39m\u001B[38;5;241m0.9\u001B[39m, left\u001B[38;5;241m=\u001B[39m\u001B[38;5;241m0.1\u001B[39m, right\u001B[38;5;241m=\u001B[39m\u001B[38;5;241m0.9\u001B[39m, hspace\u001B[38;5;241m=\u001B[39m\u001B[38;5;241m0.5\u001B[39m, wspace\u001B[38;5;241m=\u001B[39m\u001B[38;5;241m0.3\u001B[39m\n\u001B[1;32m    371\u001B[0m )\n",
      "File \u001B[0;32m~/.local/share/virtualenvs/POP-wXztIGuF/lib/python3.9/site-packages/pandas/plotting/_matplotlib/hist.py:272\u001B[0m, in \u001B[0;36m_grouped_plot\u001B[0;34m(plotf, data, column, by, numeric_only, figsize, sharex, sharey, layout, rot, ax, **kwargs)\u001B[0m\n\u001B[1;32m    265\u001B[0m \u001B[38;5;28;01mif\u001B[39;00m figsize \u001B[38;5;241m==\u001B[39m \u001B[38;5;124m\"\u001B[39m\u001B[38;5;124mdefault\u001B[39m\u001B[38;5;124m\"\u001B[39m:\n\u001B[1;32m    266\u001B[0m     \u001B[38;5;66;03m# allowed to specify mpl default with 'default'\u001B[39;00m\n\u001B[1;32m    267\u001B[0m     \u001B[38;5;28;01mraise\u001B[39;00m \u001B[38;5;167;01mValueError\u001B[39;00m(\n\u001B[1;32m    268\u001B[0m         \u001B[38;5;124m\"\u001B[39m\u001B[38;5;124mfigsize=\u001B[39m\u001B[38;5;124m'\u001B[39m\u001B[38;5;124mdefault\u001B[39m\u001B[38;5;124m'\u001B[39m\u001B[38;5;124m is no longer supported. \u001B[39m\u001B[38;5;124m\"\u001B[39m\n\u001B[1;32m    269\u001B[0m         \u001B[38;5;124m\"\u001B[39m\u001B[38;5;124mSpecify figure size by tuple instead\u001B[39m\u001B[38;5;124m\"\u001B[39m\n\u001B[1;32m    270\u001B[0m     )\n\u001B[0;32m--> 272\u001B[0m grouped \u001B[38;5;241m=\u001B[39m \u001B[43mdata\u001B[49m\u001B[38;5;241;43m.\u001B[39;49m\u001B[43mgroupby\u001B[49m\u001B[43m(\u001B[49m\u001B[43mby\u001B[49m\u001B[43m)\u001B[49m\n\u001B[1;32m    273\u001B[0m \u001B[38;5;28;01mif\u001B[39;00m column \u001B[38;5;129;01mis\u001B[39;00m \u001B[38;5;129;01mnot\u001B[39;00m \u001B[38;5;28;01mNone\u001B[39;00m:\n\u001B[1;32m    274\u001B[0m     grouped \u001B[38;5;241m=\u001B[39m grouped[column]\n",
      "File \u001B[0;32m~/.local/share/virtualenvs/POP-wXztIGuF/lib/python3.9/site-packages/pandas/core/series.py:2079\u001B[0m, in \u001B[0;36mSeries.groupby\u001B[0;34m(self, by, axis, level, as_index, sort, group_keys, squeeze, observed, dropna)\u001B[0m\n\u001B[1;32m   2076\u001B[0m     \u001B[38;5;28;01mraise\u001B[39;00m \u001B[38;5;167;01mTypeError\u001B[39;00m(\u001B[38;5;124m\"\u001B[39m\u001B[38;5;124mYou have to supply one of \u001B[39m\u001B[38;5;124m'\u001B[39m\u001B[38;5;124mby\u001B[39m\u001B[38;5;124m'\u001B[39m\u001B[38;5;124m and \u001B[39m\u001B[38;5;124m'\u001B[39m\u001B[38;5;124mlevel\u001B[39m\u001B[38;5;124m'\u001B[39m\u001B[38;5;124m\"\u001B[39m)\n\u001B[1;32m   2077\u001B[0m axis \u001B[38;5;241m=\u001B[39m \u001B[38;5;28mself\u001B[39m\u001B[38;5;241m.\u001B[39m_get_axis_number(axis)\n\u001B[0;32m-> 2079\u001B[0m \u001B[38;5;28;01mreturn\u001B[39;00m \u001B[43mSeriesGroupBy\u001B[49m\u001B[43m(\u001B[49m\n\u001B[1;32m   2080\u001B[0m \u001B[43m    \u001B[49m\u001B[43mobj\u001B[49m\u001B[38;5;241;43m=\u001B[39;49m\u001B[38;5;28;43mself\u001B[39;49m\u001B[43m,\u001B[49m\n\u001B[1;32m   2081\u001B[0m \u001B[43m    \u001B[49m\u001B[43mkeys\u001B[49m\u001B[38;5;241;43m=\u001B[39;49m\u001B[43mby\u001B[49m\u001B[43m,\u001B[49m\n\u001B[1;32m   2082\u001B[0m \u001B[43m    \u001B[49m\u001B[43maxis\u001B[49m\u001B[38;5;241;43m=\u001B[39;49m\u001B[43maxis\u001B[49m\u001B[43m,\u001B[49m\n\u001B[1;32m   2083\u001B[0m \u001B[43m    \u001B[49m\u001B[43mlevel\u001B[49m\u001B[38;5;241;43m=\u001B[39;49m\u001B[43mlevel\u001B[49m\u001B[43m,\u001B[49m\n\u001B[1;32m   2084\u001B[0m \u001B[43m    \u001B[49m\u001B[43mas_index\u001B[49m\u001B[38;5;241;43m=\u001B[39;49m\u001B[43mas_index\u001B[49m\u001B[43m,\u001B[49m\n\u001B[1;32m   2085\u001B[0m \u001B[43m    \u001B[49m\u001B[43msort\u001B[49m\u001B[38;5;241;43m=\u001B[39;49m\u001B[43msort\u001B[49m\u001B[43m,\u001B[49m\n\u001B[1;32m   2086\u001B[0m \u001B[43m    \u001B[49m\u001B[43mgroup_keys\u001B[49m\u001B[38;5;241;43m=\u001B[39;49m\u001B[43mgroup_keys\u001B[49m\u001B[43m,\u001B[49m\n\u001B[1;32m   2087\u001B[0m \u001B[43m    \u001B[49m\u001B[43msqueeze\u001B[49m\u001B[38;5;241;43m=\u001B[39;49m\u001B[43msqueeze\u001B[49m\u001B[43m,\u001B[49m\n\u001B[1;32m   2088\u001B[0m \u001B[43m    \u001B[49m\u001B[43mobserved\u001B[49m\u001B[38;5;241;43m=\u001B[39;49m\u001B[43mobserved\u001B[49m\u001B[43m,\u001B[49m\n\u001B[1;32m   2089\u001B[0m \u001B[43m    \u001B[49m\u001B[43mdropna\u001B[49m\u001B[38;5;241;43m=\u001B[39;49m\u001B[43mdropna\u001B[49m\u001B[43m,\u001B[49m\n\u001B[1;32m   2090\u001B[0m \u001B[43m\u001B[49m\u001B[43m)\u001B[49m\n",
      "File \u001B[0;32m~/.local/share/virtualenvs/POP-wXztIGuF/lib/python3.9/site-packages/pandas/core/groupby/groupby.py:959\u001B[0m, in \u001B[0;36mGroupBy.__init__\u001B[0;34m(self, obj, keys, axis, level, grouper, exclusions, selection, as_index, sort, group_keys, squeeze, observed, mutated, dropna)\u001B[0m\n\u001B[1;32m    956\u001B[0m \u001B[38;5;28;01mif\u001B[39;00m grouper \u001B[38;5;129;01mis\u001B[39;00m \u001B[38;5;28;01mNone\u001B[39;00m:\n\u001B[1;32m    957\u001B[0m     \u001B[38;5;28;01mfrom\u001B[39;00m \u001B[38;5;21;01mpandas\u001B[39;00m\u001B[38;5;21;01m.\u001B[39;00m\u001B[38;5;21;01mcore\u001B[39;00m\u001B[38;5;21;01m.\u001B[39;00m\u001B[38;5;21;01mgroupby\u001B[39;00m\u001B[38;5;21;01m.\u001B[39;00m\u001B[38;5;21;01mgrouper\u001B[39;00m \u001B[38;5;28;01mimport\u001B[39;00m get_grouper\n\u001B[0;32m--> 959\u001B[0m     grouper, exclusions, obj \u001B[38;5;241m=\u001B[39m \u001B[43mget_grouper\u001B[49m\u001B[43m(\u001B[49m\n\u001B[1;32m    960\u001B[0m \u001B[43m        \u001B[49m\u001B[43mobj\u001B[49m\u001B[43m,\u001B[49m\n\u001B[1;32m    961\u001B[0m \u001B[43m        \u001B[49m\u001B[43mkeys\u001B[49m\u001B[43m,\u001B[49m\n\u001B[1;32m    962\u001B[0m \u001B[43m        \u001B[49m\u001B[43maxis\u001B[49m\u001B[38;5;241;43m=\u001B[39;49m\u001B[43maxis\u001B[49m\u001B[43m,\u001B[49m\n\u001B[1;32m    963\u001B[0m \u001B[43m        \u001B[49m\u001B[43mlevel\u001B[49m\u001B[38;5;241;43m=\u001B[39;49m\u001B[43mlevel\u001B[49m\u001B[43m,\u001B[49m\n\u001B[1;32m    964\u001B[0m \u001B[43m        \u001B[49m\u001B[43msort\u001B[49m\u001B[38;5;241;43m=\u001B[39;49m\u001B[43msort\u001B[49m\u001B[43m,\u001B[49m\n\u001B[1;32m    965\u001B[0m \u001B[43m        \u001B[49m\u001B[43mobserved\u001B[49m\u001B[38;5;241;43m=\u001B[39;49m\u001B[43mobserved\u001B[49m\u001B[43m,\u001B[49m\n\u001B[1;32m    966\u001B[0m \u001B[43m        \u001B[49m\u001B[43mmutated\u001B[49m\u001B[38;5;241;43m=\u001B[39;49m\u001B[38;5;28;43mself\u001B[39;49m\u001B[38;5;241;43m.\u001B[39;49m\u001B[43mmutated\u001B[49m\u001B[43m,\u001B[49m\n\u001B[1;32m    967\u001B[0m \u001B[43m        \u001B[49m\u001B[43mdropna\u001B[49m\u001B[38;5;241;43m=\u001B[39;49m\u001B[38;5;28;43mself\u001B[39;49m\u001B[38;5;241;43m.\u001B[39;49m\u001B[43mdropna\u001B[49m\u001B[43m,\u001B[49m\n\u001B[1;32m    968\u001B[0m \u001B[43m    \u001B[49m\u001B[43m)\u001B[49m\n\u001B[1;32m    970\u001B[0m \u001B[38;5;28mself\u001B[39m\u001B[38;5;241m.\u001B[39mobj \u001B[38;5;241m=\u001B[39m obj\n\u001B[1;32m    971\u001B[0m \u001B[38;5;28mself\u001B[39m\u001B[38;5;241m.\u001B[39maxis \u001B[38;5;241m=\u001B[39m obj\u001B[38;5;241m.\u001B[39m_get_axis_number(axis)\n",
      "File \u001B[0;32m~/.local/share/virtualenvs/POP-wXztIGuF/lib/python3.9/site-packages/pandas/core/groupby/grouper.py:884\u001B[0m, in \u001B[0;36mget_grouper\u001B[0;34m(obj, key, axis, level, sort, observed, mutated, validate, dropna)\u001B[0m\n\u001B[1;32m    880\u001B[0m     in_axis, name, gpr \u001B[38;5;241m=\u001B[39m \u001B[38;5;28;01mTrue\u001B[39;00m, gpr, obj[gpr]\n\u001B[1;32m    881\u001B[0m     \u001B[38;5;28;01mif\u001B[39;00m gpr\u001B[38;5;241m.\u001B[39mndim \u001B[38;5;241m!=\u001B[39m \u001B[38;5;241m1\u001B[39m:\n\u001B[1;32m    882\u001B[0m         \u001B[38;5;66;03m# non-unique columns; raise here to get the name in the\u001B[39;00m\n\u001B[1;32m    883\u001B[0m         \u001B[38;5;66;03m# exception message\u001B[39;00m\n\u001B[0;32m--> 884\u001B[0m         \u001B[38;5;28;01mraise\u001B[39;00m \u001B[38;5;167;01mValueError\u001B[39;00m(\u001B[38;5;124mf\u001B[39m\u001B[38;5;124m\"\u001B[39m\u001B[38;5;124mGrouper for \u001B[39m\u001B[38;5;124m'\u001B[39m\u001B[38;5;132;01m{\u001B[39;00mname\u001B[38;5;132;01m}\u001B[39;00m\u001B[38;5;124m'\u001B[39m\u001B[38;5;124m not 1-dimensional\u001B[39m\u001B[38;5;124m\"\u001B[39m)\n\u001B[1;32m    885\u001B[0m     exclusions\u001B[38;5;241m.\u001B[39madd(name)\n\u001B[1;32m    886\u001B[0m \u001B[38;5;28;01melif\u001B[39;00m obj\u001B[38;5;241m.\u001B[39m_is_level_reference(gpr, axis\u001B[38;5;241m=\u001B[39maxis):\n",
      "\u001B[0;31mValueError\u001B[0m: Grouper for '100' not 1-dimensional"
     ]
    }
   ],
   "source": [
    "pd.Series(p4_ata_train_pred).hist(bins=100)"
   ],
   "metadata": {
    "collapsed": false,
    "pycharm": {
     "name": "#%%\n"
    }
   }
  },
  {
   "cell_type": "code",
   "execution_count": null,
   "outputs": [],
   "source": [],
   "metadata": {
    "collapsed": false,
    "pycharm": {
     "name": "#%%\n"
    }
   }
  }
 ],
 "metadata": {
  "kernelspec": {
   "display_name": "Python 3",
   "language": "python",
   "name": "python3"
  },
  "language_info": {
   "codemirror_mode": {
    "name": "ipython",
    "version": 2
   },
   "file_extension": ".py",
   "mimetype": "text/x-python",
   "name": "python",
   "nbconvert_exporter": "python",
   "pygments_lexer": "ipython2",
   "version": "2.7.6"
  }
 },
 "nbformat": 4,
 "nbformat_minor": 0
}