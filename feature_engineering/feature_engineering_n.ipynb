{
 "cells": [
  {
   "cell_type": "code",
   "execution_count": 1,
   "metadata": {
    "collapsed": true,
    "pycharm": {
     "name": "#%%\n"
    }
   },
   "outputs": [],
   "source": [
    "import pandas as pd\n",
    "import numpy as np\n",
    "from sklearn.linear_model import LinearRegression\n",
    "from sklearn.metrics import mean_absolute_error, mean_squared_error, explained_variance_score, median_absolute_error, r2_score, mean_absolute_percentage_error\n",
    "from sklearn.model_selection import train_test_split\n",
    "from scipy.stats import *\n",
    "import h3\n",
    "from sklearn.preprocessing import OneHotEncoder\n",
    "from sklearn.compose import ColumnTransformer\n",
    "from datetime import datetime\n",
    "from math import floor\n",
    "import matplotlib.pyplot as plt\n",
    "import mlflow\n",
    "import mlflow.sklearn"
   ]
  },
  {
   "cell_type": "code",
   "execution_count": 2,
   "outputs": [],
   "source": [
    "ride_columns = ['accepted_driver_id', 'created_at', 'passenger_id', 'source_lat',\n",
    "       'source_lng', 'destination_lat', 'destination_lng', 'eta', 'provider',\n",
    "       'ata', 'id', 'city']\n",
    "\n",
    "khatkesh_columns = ['ride_id','driver_id','a_t_a_result.arrival_a_t_a','a_t_a_result.boarding_a_t_a','a_t_a_result.ride_a_t_a','a_t_a_result.arrival_probe_result.probe.point.lat','a_t_a_result.arrival_probe_result.probe.point.lon','a_t_a_result.arrival_probe_result.probe.timestamp','a_t_a_result.arrival_probe_result.confidence','a_t_a_result.arrival_probe_result.h3_index', 'a_t_a_result.arrival_probe_result.k_ring_level','a_t_a_result.boarding_probe_result.probe.point.lat','a_t_a_result.boarding_probe_result.probe.point.lon','a_t_a_result.boarding_probe_result.probe.timestamp','a_t_a_result.boarding_probe_result.confidence','a_t_a_result.boarding_probe_result.h3_index','a_t_a_result.boarding_probe_result.k_ring_level','a_t_a_result.final_destination_probe_result.probe.point.lat','a_t_a_result.final_destination_probe_result.probe.point.lon','a_t_a_result.final_destination_probe_result.probe.timestamp','a_t_a_result.final_destination_probe_result.confidence','a_t_a_result.final_destination_probe_result.h3_index','a_t_a_result.final_destination_probe_result.k_ring_level','a_t_a_result.destination_probe_result.probe.point.lat','a_t_a_result.destination_probe_result.probe.point.lon','a_t_a_result.destination_probe_result.probe.timestamp','a_t_a_result.destination_probe_result.confidence','a_t_a_result.destination_probe_result.h3_index','a_t_a_result.destination_probe_result.k_ring_level','a_t_a_result.extra_destination_probe_result.probe.point.lat','a_t_a_result.extra_destination_probe_result.probe.point.lon','a_t_a_result.extra_destination_probe_result.probe.timestamp','a_t_a_result.extra_destination_probe_result.confidence','a_t_a_result.extra_destination_probe_result.h3_index','a_t_a_result.extra_destination_probe_result.k_ring_level','pickup_a_d_d_result.distance','pickup_a_d_d_result.confidence','pickup_a_d_d_result.route_ratio','pickup_a_d_d_result.g_p_s_ratio','ride_a_d_d_result.distance','ride_a_d_d_result.confidence','ride_a_d_d_result.route_ratio','ride_a_d_d_result.g_p_s_ratio','total_a_d_d_confidence','in_ride_allotment','e_d_d','clickhouse_time','hash']\n",
    "\n",
    "train_dates = ['2022-08-02', '2022-08-03', '2022-08-04', '2022-08-05', '2022-08-06', '2022-08-07', '2022-08-08',\n",
    "               '2022-08-09', '2022-08-10', '2022-08-11', '2022-08-12', '2022-08-13', '2022-08-14', '2022-08-15',\n",
    "               '2022-08-16', '2022-08-17', '2022-08-18', '2022-08-19', '2022-08-20', '2022-08-21', '2022-08-22',\n",
    "               '2022-08-23', '2022-08-24', '2022-08-25', '2022-08-26', '2022-08-27', '2022-08-28', '2022-08-29',\n",
    "               '2022-08-30', '2022-08-31', '2022-09-01', '2022-09-02', '2022-09-03', '2022-09-04', '2022-09-05',\n",
    "               '2022-09-06', '2022-09-07', '2022-09-08', '2022-09-09', '2022-09-10']\n",
    "\n",
    "train_holidays = ['2022-08-07', '2022-08-08']\n",
    "\n",
    "test_dates = ['2022-09-11', '2022-09-12', '2022-09-13', '2022-09-14', '2022-09-15', '2022-09-16', '2022-09-17',\n",
    "              '2022-09-18', '2022-09-19', '2022-09-20', '2022-09-21', '2022-09-22', '2022-09-23', '2022-09-24',\n",
    "              '2022-09-25', '2022-09-26', '2022-09-27', '2022-09-28', '2022-09-29', '2022-09-30', '2022-10-01',\n",
    "              '2022-10-02', '2022-10-03', '2022-10-04', '2022-10-05', '2022-10-06', '2022-10-07', '2022-10-08',\n",
    "              '2022-10-09']\n",
    "\n",
    "test_holidays = ['2022-09-17', '2022-09-25', '2022-09-27', '2022-10-05']"
   ],
   "metadata": {
    "collapsed": false,
    "pycharm": {
     "name": "#%%\n"
    }
   }
  },
  {
   "cell_type": "code",
   "execution_count": 3,
   "outputs": [
    {
     "name": "stdout",
     "output_type": "stream",
     "text": [
      "<class 'pandas.core.frame.DataFrame'>\n",
      "RangeIndex: 4063341 entries, 0 to 4063340\n",
      "Data columns (total 59 columns):\n",
      " #   Column                                                       Dtype  \n",
      "---  ------                                                       -----  \n",
      " 0   accepted_driver_id                                           int64  \n",
      " 1   created_at                                                   object \n",
      " 2   passenger_id                                                 int64  \n",
      " 3   source_lat                                                   float64\n",
      " 4   source_lng                                                   float64\n",
      " 5   destination_lat                                              float64\n",
      " 6   destination_lng                                              float64\n",
      " 7   eta                                                          int64  \n",
      " 8   provider                                                     object \n",
      " 9   ata                                                          int64  \n",
      " 10  ride_id                                                      int64  \n",
      " 11  city                                                         int64  \n",
      " 12  driver_id                                                    int64  \n",
      " 13  a_t_a_result.arrival_a_t_a                                   int64  \n",
      " 14  a_t_a_result.boarding_a_t_a                                  float64\n",
      " 15  a_t_a_result.ride_a_t_a                                      int64  \n",
      " 16  a_t_a_result.arrival_probe_result.probe.point.lat            float64\n",
      " 17  a_t_a_result.arrival_probe_result.probe.point.lon            float64\n",
      " 18  a_t_a_result.arrival_probe_result.probe.timestamp            float64\n",
      " 19  a_t_a_result.arrival_probe_result.confidence                 float64\n",
      " 20  a_t_a_result.arrival_probe_result.h3_index                   object \n",
      " 21  a_t_a_result.arrival_probe_result.k_ring_level               int64  \n",
      " 22  a_t_a_result.boarding_probe_result.probe.point.lat           float64\n",
      " 23  a_t_a_result.boarding_probe_result.probe.point.lon           float64\n",
      " 24  a_t_a_result.boarding_probe_result.probe.timestamp           float64\n",
      " 25  a_t_a_result.boarding_probe_result.confidence                float64\n",
      " 26  a_t_a_result.boarding_probe_result.h3_index                  object \n",
      " 27  a_t_a_result.boarding_probe_result.k_ring_level              int64  \n",
      " 28  a_t_a_result.final_destination_probe_result.probe.point.lat  float64\n",
      " 29  a_t_a_result.final_destination_probe_result.probe.point.lon  float64\n",
      " 30  a_t_a_result.final_destination_probe_result.probe.timestamp  int64  \n",
      " 31  a_t_a_result.final_destination_probe_result.confidence       float64\n",
      " 32  a_t_a_result.final_destination_probe_result.h3_index         object \n",
      " 33  a_t_a_result.final_destination_probe_result.k_ring_level     int64  \n",
      " 34  a_t_a_result.destination_probe_result.probe.point.lat        float64\n",
      " 35  a_t_a_result.destination_probe_result.probe.point.lon        float64\n",
      " 36  a_t_a_result.destination_probe_result.probe.timestamp        float64\n",
      " 37  a_t_a_result.destination_probe_result.confidence             float64\n",
      " 38  a_t_a_result.destination_probe_result.h3_index               object \n",
      " 39  a_t_a_result.destination_probe_result.k_ring_level           int64  \n",
      " 40  a_t_a_result.extra_destination_probe_result.probe.point.lat  float64\n",
      " 41  a_t_a_result.extra_destination_probe_result.probe.point.lon  float64\n",
      " 42  a_t_a_result.extra_destination_probe_result.probe.timestamp  float64\n",
      " 43  a_t_a_result.extra_destination_probe_result.confidence       float64\n",
      " 44  a_t_a_result.extra_destination_probe_result.h3_index         float64\n",
      " 45  a_t_a_result.extra_destination_probe_result.k_ring_level     int64  \n",
      " 46  pickup_a_d_d_result.distance                                 float64\n",
      " 47  pickup_a_d_d_result.confidence                               float64\n",
      " 48  pickup_a_d_d_result.route_ratio                              float64\n",
      " 49  pickup_a_d_d_result.g_p_s_ratio                              float64\n",
      " 50  ride_a_d_d_result.distance                                   float64\n",
      " 51  ride_a_d_d_result.confidence                                 float64\n",
      " 52  ride_a_d_d_result.route_ratio                                float64\n",
      " 53  ride_a_d_d_result.g_p_s_ratio                                float64\n",
      " 54  total_a_d_d_confidence                                       float64\n",
      " 55  in_ride_allotment                                            float64\n",
      " 56  e_d_d                                                        float64\n",
      " 57  clickhouse_time                                              object \n",
      " 58  hash                                                         uint64 \n",
      "dtypes: float64(36), int64(15), object(7), uint64(1)\n",
      "memory usage: 1.8+ GB\n"
     ]
    }
   ],
   "source": [
    "train = pd.read_csv('../rides_train.csv')\n",
    "train.info()"
   ],
   "metadata": {
    "collapsed": false,
    "pycharm": {
     "name": "#%%\n"
    }
   }
  },
  {
   "cell_type": "code",
   "execution_count": 4,
   "outputs": [
    {
     "name": "stdout",
     "output_type": "stream",
     "text": [
      "<class 'pandas.core.frame.DataFrame'>\n",
      "RangeIndex: 2729988 entries, 0 to 2729987\n",
      "Data columns (total 59 columns):\n",
      " #   Column                                                       Dtype  \n",
      "---  ------                                                       -----  \n",
      " 0   accepted_driver_id                                           int64  \n",
      " 1   created_at                                                   object \n",
      " 2   passenger_id                                                 int64  \n",
      " 3   source_lat                                                   float64\n",
      " 4   source_lng                                                   float64\n",
      " 5   destination_lat                                              float64\n",
      " 6   destination_lng                                              float64\n",
      " 7   eta                                                          int64  \n",
      " 8   provider                                                     object \n",
      " 9   ata                                                          int64  \n",
      " 10  ride_id                                                      int64  \n",
      " 11  city                                                         int64  \n",
      " 12  driver_id                                                    int64  \n",
      " 13  a_t_a_result.arrival_a_t_a                                   int64  \n",
      " 14  a_t_a_result.boarding_a_t_a                                  float64\n",
      " 15  a_t_a_result.ride_a_t_a                                      int64  \n",
      " 16  a_t_a_result.arrival_probe_result.probe.point.lat            float64\n",
      " 17  a_t_a_result.arrival_probe_result.probe.point.lon            float64\n",
      " 18  a_t_a_result.arrival_probe_result.probe.timestamp            float64\n",
      " 19  a_t_a_result.arrival_probe_result.confidence                 float64\n",
      " 20  a_t_a_result.arrival_probe_result.h3_index                   object \n",
      " 21  a_t_a_result.arrival_probe_result.k_ring_level               int64  \n",
      " 22  a_t_a_result.boarding_probe_result.probe.point.lat           float64\n",
      " 23  a_t_a_result.boarding_probe_result.probe.point.lon           float64\n",
      " 24  a_t_a_result.boarding_probe_result.probe.timestamp           float64\n",
      " 25  a_t_a_result.boarding_probe_result.confidence                float64\n",
      " 26  a_t_a_result.boarding_probe_result.h3_index                  object \n",
      " 27  a_t_a_result.boarding_probe_result.k_ring_level              int64  \n",
      " 28  a_t_a_result.final_destination_probe_result.probe.point.lat  float64\n",
      " 29  a_t_a_result.final_destination_probe_result.probe.point.lon  float64\n",
      " 30  a_t_a_result.final_destination_probe_result.probe.timestamp  int64  \n",
      " 31  a_t_a_result.final_destination_probe_result.confidence       float64\n",
      " 32  a_t_a_result.final_destination_probe_result.h3_index         object \n",
      " 33  a_t_a_result.final_destination_probe_result.k_ring_level     int64  \n",
      " 34  a_t_a_result.destination_probe_result.probe.point.lat        float64\n",
      " 35  a_t_a_result.destination_probe_result.probe.point.lon        float64\n",
      " 36  a_t_a_result.destination_probe_result.probe.timestamp        float64\n",
      " 37  a_t_a_result.destination_probe_result.confidence             float64\n",
      " 38  a_t_a_result.destination_probe_result.h3_index               object \n",
      " 39  a_t_a_result.destination_probe_result.k_ring_level           int64  \n",
      " 40  a_t_a_result.extra_destination_probe_result.probe.point.lat  float64\n",
      " 41  a_t_a_result.extra_destination_probe_result.probe.point.lon  float64\n",
      " 42  a_t_a_result.extra_destination_probe_result.probe.timestamp  float64\n",
      " 43  a_t_a_result.extra_destination_probe_result.confidence       float64\n",
      " 44  a_t_a_result.extra_destination_probe_result.h3_index         float64\n",
      " 45  a_t_a_result.extra_destination_probe_result.k_ring_level     int64  \n",
      " 46  pickup_a_d_d_result.distance                                 float64\n",
      " 47  pickup_a_d_d_result.confidence                               float64\n",
      " 48  pickup_a_d_d_result.route_ratio                              float64\n",
      " 49  pickup_a_d_d_result.g_p_s_ratio                              float64\n",
      " 50  ride_a_d_d_result.distance                                   float64\n",
      " 51  ride_a_d_d_result.confidence                                 float64\n",
      " 52  ride_a_d_d_result.route_ratio                                float64\n",
      " 53  ride_a_d_d_result.g_p_s_ratio                                float64\n",
      " 54  total_a_d_d_confidence                                       float64\n",
      " 55  in_ride_allotment                                            float64\n",
      " 56  e_d_d                                                        float64\n",
      " 57  clickhouse_time                                              object \n",
      " 58  hash                                                         uint64 \n",
      "dtypes: float64(36), int64(15), object(7), uint64(1)\n",
      "memory usage: 1.2+ GB\n"
     ]
    }
   ],
   "source": [
    "test = pd.read_csv('../rides_test.csv')\n",
    "test.info()"
   ],
   "metadata": {
    "collapsed": false,
    "pycharm": {
     "name": "#%%\n"
    }
   }
  },
  {
   "cell_type": "code",
   "execution_count": 5,
   "outputs": [
    {
     "data": {
      "text/plain": "         accepted_driver_id           created_at  passenger_id  source_lat  \\\n1                   1630622  2022-08-02 21:19:50      24944157   35.753071   \n16                  1733850  2022-08-02 18:48:21      18113917   35.801170   \n21                  2942776  2022-08-02 20:09:35      15340963   35.617275   \n40                  2731688  2022-08-02 20:55:26       2043592   35.759720   \n41                   558365  2022-08-02 10:07:26      38602549   35.544151   \n...                     ...                  ...           ...         ...   \n4063308             4100368  2022-09-10 08:43:43      23085905   35.686737   \n4063311             2360511  2022-09-10 00:53:09      24484463   35.667233   \n4063332             2779592  2022-09-10 15:04:43      43527985   35.588966   \n4063336                3629  2022-09-10 10:59:52      28110479   35.683701   \n4063338             1219670  2022-09-10 10:39:55      26714466   35.677460   \n\n         source_lng  destination_lat  destination_lng   eta       provider  \\\n1         51.364353        35.801231        51.452614  1886  smapp-same-dc   \n16        51.417953        35.774540        51.331562  2204  smapp-same-dc   \n21        51.488651        35.724304        51.501282  2083  smapp-same-dc   \n40        51.262569        35.725605        51.444698  2185  smapp-same-dc   \n41        51.222370        35.753899        51.145321  2532  smapp-same-dc   \n...             ...              ...              ...   ...            ...   \n4063308   51.378422        35.766529        51.479244  1903  smapp-same-dc   \n4063311   51.344719        35.846325        51.005749  2427  smapp-same-dc   \n4063332   51.422379        35.733543        51.345242  1969  smapp-same-dc   \n4063336   51.372459        35.799290        51.477062  2052  smapp-same-dc   \n4063338   51.236629        35.709362        51.404461  1856  smapp-same-dc   \n\n          ata  ...  pickup_a_d_d_result.g_p_s_ratio  \\\n1        1678  ...                         0.005714   \n16       2581  ...                         0.003676   \n21       1833  ...                         0.005525   \n40       2293  ...                         0.004405   \n41       2571  ...                         0.003413   \n...       ...  ...                              ...   \n4063308  2247  ...                         0.004386   \n4063311  2220  ...                         0.003953   \n4063332  2221  ...                         0.004444   \n4063336  2532  ...                         0.003021   \n4063338  2357  ...                         0.004566   \n\n         ride_a_d_d_result.distance  ride_a_d_d_result.confidence  \\\n1                         28.000000                      0.973821   \n16                        13.838000                      0.617575   \n21                        33.257999                      0.966835   \n40                        43.938831                      0.976005   \n41                        47.014339                      0.495764   \n...                             ...                           ...   \n4063308                   30.699947                      0.897787   \n4063311                   52.319000                      0.652545   \n4063332                   40.393002                      0.519409   \n4063336                   22.107664                      0.439463   \n4063338                   36.530998                      0.939490   \n\n         ride_a_d_d_result.route_ratio  ride_a_d_d_result.g_p_s_ratio  \\\n1                                  0.0                       0.840000   \n16                                 0.0                       0.102941   \n21                                 0.0                       0.878453   \n40                                 0.0                       0.973568   \n41                                 0.0                       0.071672   \n...                                ...                            ...   \n4063308                            0.0                       0.951754   \n4063311                            0.0                       0.162055   \n4063332                            0.0                       0.066667   \n4063336                            0.0                       0.063444   \n4063338                            0.0                       0.648402   \n\n         total_a_d_d_confidence  in_ride_allotment      e_d_d  \\\n1                      0.978096                0.0   0.000000   \n16                     0.684035                0.0   0.000000   \n21                     0.971940                0.0   0.000000   \n40                     0.979931                0.0   0.000000   \n41                     0.496288                0.0   0.000000   \n...                         ...                ...        ...   \n4063308                0.912274                0.0  20.017000   \n4063311                0.698573                0.0  44.632999   \n4063332                0.532460                0.0  28.209999   \n4063336                0.501275                0.0  24.957001   \n4063338                0.951781                0.0  19.000000   \n\n             clickhouse_time                  hash  \n1        2022-08-02 21:54:54  17518631764082474900  \n16       2022-08-02 19:40:51   6718141937521421034  \n21       2022-08-02 20:45:39   9118069446153719521  \n40       2022-08-02 21:43:43   4640629599265281559  \n41       2022-08-02 10:55:30  15347317208377558354  \n...                      ...                   ...  \n4063308  2022-09-10 09:34:47   6285336365528391845  \n4063311  2022-09-10 01:38:42   5982922617154083351  \n4063332  2022-09-10 15:50:30  16403387582631044042  \n4063336  2022-09-10 12:05:12   4744731905255557123  \n4063338  2022-09-10 11:26:09  10148973690789245740  \n\n[515151 rows x 59 columns]",
      "text/html": "<div>\n<style scoped>\n    .dataframe tbody tr th:only-of-type {\n        vertical-align: middle;\n    }\n\n    .dataframe tbody tr th {\n        vertical-align: top;\n    }\n\n    .dataframe thead th {\n        text-align: right;\n    }\n</style>\n<table border=\"1\" class=\"dataframe\">\n  <thead>\n    <tr style=\"text-align: right;\">\n      <th></th>\n      <th>accepted_driver_id</th>\n      <th>created_at</th>\n      <th>passenger_id</th>\n      <th>source_lat</th>\n      <th>source_lng</th>\n      <th>destination_lat</th>\n      <th>destination_lng</th>\n      <th>eta</th>\n      <th>provider</th>\n      <th>ata</th>\n      <th>...</th>\n      <th>pickup_a_d_d_result.g_p_s_ratio</th>\n      <th>ride_a_d_d_result.distance</th>\n      <th>ride_a_d_d_result.confidence</th>\n      <th>ride_a_d_d_result.route_ratio</th>\n      <th>ride_a_d_d_result.g_p_s_ratio</th>\n      <th>total_a_d_d_confidence</th>\n      <th>in_ride_allotment</th>\n      <th>e_d_d</th>\n      <th>clickhouse_time</th>\n      <th>hash</th>\n    </tr>\n  </thead>\n  <tbody>\n    <tr>\n      <th>1</th>\n      <td>1630622</td>\n      <td>2022-08-02 21:19:50</td>\n      <td>24944157</td>\n      <td>35.753071</td>\n      <td>51.364353</td>\n      <td>35.801231</td>\n      <td>51.452614</td>\n      <td>1886</td>\n      <td>smapp-same-dc</td>\n      <td>1678</td>\n      <td>...</td>\n      <td>0.005714</td>\n      <td>28.000000</td>\n      <td>0.973821</td>\n      <td>0.0</td>\n      <td>0.840000</td>\n      <td>0.978096</td>\n      <td>0.0</td>\n      <td>0.000000</td>\n      <td>2022-08-02 21:54:54</td>\n      <td>17518631764082474900</td>\n    </tr>\n    <tr>\n      <th>16</th>\n      <td>1733850</td>\n      <td>2022-08-02 18:48:21</td>\n      <td>18113917</td>\n      <td>35.801170</td>\n      <td>51.417953</td>\n      <td>35.774540</td>\n      <td>51.331562</td>\n      <td>2204</td>\n      <td>smapp-same-dc</td>\n      <td>2581</td>\n      <td>...</td>\n      <td>0.003676</td>\n      <td>13.838000</td>\n      <td>0.617575</td>\n      <td>0.0</td>\n      <td>0.102941</td>\n      <td>0.684035</td>\n      <td>0.0</td>\n      <td>0.000000</td>\n      <td>2022-08-02 19:40:51</td>\n      <td>6718141937521421034</td>\n    </tr>\n    <tr>\n      <th>21</th>\n      <td>2942776</td>\n      <td>2022-08-02 20:09:35</td>\n      <td>15340963</td>\n      <td>35.617275</td>\n      <td>51.488651</td>\n      <td>35.724304</td>\n      <td>51.501282</td>\n      <td>2083</td>\n      <td>smapp-same-dc</td>\n      <td>1833</td>\n      <td>...</td>\n      <td>0.005525</td>\n      <td>33.257999</td>\n      <td>0.966835</td>\n      <td>0.0</td>\n      <td>0.878453</td>\n      <td>0.971940</td>\n      <td>0.0</td>\n      <td>0.000000</td>\n      <td>2022-08-02 20:45:39</td>\n      <td>9118069446153719521</td>\n    </tr>\n    <tr>\n      <th>40</th>\n      <td>2731688</td>\n      <td>2022-08-02 20:55:26</td>\n      <td>2043592</td>\n      <td>35.759720</td>\n      <td>51.262569</td>\n      <td>35.725605</td>\n      <td>51.444698</td>\n      <td>2185</td>\n      <td>smapp-same-dc</td>\n      <td>2293</td>\n      <td>...</td>\n      <td>0.004405</td>\n      <td>43.938831</td>\n      <td>0.976005</td>\n      <td>0.0</td>\n      <td>0.973568</td>\n      <td>0.979931</td>\n      <td>0.0</td>\n      <td>0.000000</td>\n      <td>2022-08-02 21:43:43</td>\n      <td>4640629599265281559</td>\n    </tr>\n    <tr>\n      <th>41</th>\n      <td>558365</td>\n      <td>2022-08-02 10:07:26</td>\n      <td>38602549</td>\n      <td>35.544151</td>\n      <td>51.222370</td>\n      <td>35.753899</td>\n      <td>51.145321</td>\n      <td>2532</td>\n      <td>smapp-same-dc</td>\n      <td>2571</td>\n      <td>...</td>\n      <td>0.003413</td>\n      <td>47.014339</td>\n      <td>0.495764</td>\n      <td>0.0</td>\n      <td>0.071672</td>\n      <td>0.496288</td>\n      <td>0.0</td>\n      <td>0.000000</td>\n      <td>2022-08-02 10:55:30</td>\n      <td>15347317208377558354</td>\n    </tr>\n    <tr>\n      <th>...</th>\n      <td>...</td>\n      <td>...</td>\n      <td>...</td>\n      <td>...</td>\n      <td>...</td>\n      <td>...</td>\n      <td>...</td>\n      <td>...</td>\n      <td>...</td>\n      <td>...</td>\n      <td>...</td>\n      <td>...</td>\n      <td>...</td>\n      <td>...</td>\n      <td>...</td>\n      <td>...</td>\n      <td>...</td>\n      <td>...</td>\n      <td>...</td>\n      <td>...</td>\n      <td>...</td>\n    </tr>\n    <tr>\n      <th>4063308</th>\n      <td>4100368</td>\n      <td>2022-09-10 08:43:43</td>\n      <td>23085905</td>\n      <td>35.686737</td>\n      <td>51.378422</td>\n      <td>35.766529</td>\n      <td>51.479244</td>\n      <td>1903</td>\n      <td>smapp-same-dc</td>\n      <td>2247</td>\n      <td>...</td>\n      <td>0.004386</td>\n      <td>30.699947</td>\n      <td>0.897787</td>\n      <td>0.0</td>\n      <td>0.951754</td>\n      <td>0.912274</td>\n      <td>0.0</td>\n      <td>20.017000</td>\n      <td>2022-09-10 09:34:47</td>\n      <td>6285336365528391845</td>\n    </tr>\n    <tr>\n      <th>4063311</th>\n      <td>2360511</td>\n      <td>2022-09-10 00:53:09</td>\n      <td>24484463</td>\n      <td>35.667233</td>\n      <td>51.344719</td>\n      <td>35.846325</td>\n      <td>51.005749</td>\n      <td>2427</td>\n      <td>smapp-same-dc</td>\n      <td>2220</td>\n      <td>...</td>\n      <td>0.003953</td>\n      <td>52.319000</td>\n      <td>0.652545</td>\n      <td>0.0</td>\n      <td>0.162055</td>\n      <td>0.698573</td>\n      <td>0.0</td>\n      <td>44.632999</td>\n      <td>2022-09-10 01:38:42</td>\n      <td>5982922617154083351</td>\n    </tr>\n    <tr>\n      <th>4063332</th>\n      <td>2779592</td>\n      <td>2022-09-10 15:04:43</td>\n      <td>43527985</td>\n      <td>35.588966</td>\n      <td>51.422379</td>\n      <td>35.733543</td>\n      <td>51.345242</td>\n      <td>1969</td>\n      <td>smapp-same-dc</td>\n      <td>2221</td>\n      <td>...</td>\n      <td>0.004444</td>\n      <td>40.393002</td>\n      <td>0.519409</td>\n      <td>0.0</td>\n      <td>0.066667</td>\n      <td>0.532460</td>\n      <td>0.0</td>\n      <td>28.209999</td>\n      <td>2022-09-10 15:50:30</td>\n      <td>16403387582631044042</td>\n    </tr>\n    <tr>\n      <th>4063336</th>\n      <td>3629</td>\n      <td>2022-09-10 10:59:52</td>\n      <td>28110479</td>\n      <td>35.683701</td>\n      <td>51.372459</td>\n      <td>35.799290</td>\n      <td>51.477062</td>\n      <td>2052</td>\n      <td>smapp-same-dc</td>\n      <td>2532</td>\n      <td>...</td>\n      <td>0.003021</td>\n      <td>22.107664</td>\n      <td>0.439463</td>\n      <td>0.0</td>\n      <td>0.063444</td>\n      <td>0.501275</td>\n      <td>0.0</td>\n      <td>24.957001</td>\n      <td>2022-09-10 12:05:12</td>\n      <td>4744731905255557123</td>\n    </tr>\n    <tr>\n      <th>4063338</th>\n      <td>1219670</td>\n      <td>2022-09-10 10:39:55</td>\n      <td>26714466</td>\n      <td>35.677460</td>\n      <td>51.236629</td>\n      <td>35.709362</td>\n      <td>51.404461</td>\n      <td>1856</td>\n      <td>smapp-same-dc</td>\n      <td>2357</td>\n      <td>...</td>\n      <td>0.004566</td>\n      <td>36.530998</td>\n      <td>0.939490</td>\n      <td>0.0</td>\n      <td>0.648402</td>\n      <td>0.951781</td>\n      <td>0.0</td>\n      <td>19.000000</td>\n      <td>2022-09-10 11:26:09</td>\n      <td>10148973690789245740</td>\n    </tr>\n  </tbody>\n</table>\n<p>515151 rows × 59 columns</p>\n</div>"
     },
     "execution_count": 5,
     "metadata": {},
     "output_type": "execute_result"
    }
   ],
   "source": [
    "train_p4 = train[train['eta'] >= 1800]\n",
    "train_p4"
   ],
   "metadata": {
    "collapsed": false,
    "pycharm": {
     "name": "#%%\n"
    }
   }
  },
  {
   "cell_type": "code",
   "execution_count": 6,
   "outputs": [
    {
     "data": {
      "text/plain": "         accepted_driver_id           created_at  passenger_id  source_lat  \\\n6                    276394  2022-09-11 12:25:04       1130420   35.780571   \n17                  3564404  2022-09-11 20:54:38      20882457   35.640404   \n20                  2972216  2022-09-11 07:07:26      41413761   35.356205   \n23                  4288367  2022-09-11 22:03:11      47543504   35.351887   \n24                   785560  2022-09-11 09:02:41      21514168   35.720486   \n...                     ...                  ...           ...         ...   \n2729963              983182  2022-10-09 14:43:23      20553284   35.721123   \n2729966               35629  2022-10-09 15:54:14       3406353   35.764214   \n2729968             4373409  2022-10-09 12:37:31       2737984   35.775448   \n2729976             4180315  2022-10-09 09:28:07      38218151   35.735134   \n2729986             3234851  2022-10-09 19:16:07      17780582   35.792358   \n\n         source_lng  destination_lat  destination_lng   eta       provider  \\\n6         51.356174        35.628082        51.351501  1894  smapp-same-dc   \n17        51.416351        35.768814        51.276939  2944  smapp-same-dc   \n20        51.641312        35.601074        51.435585  2472  smapp-same-dc   \n23        51.645844        35.599098        51.442066  2364  smapp-same-dc   \n24        51.309761        35.796368        51.514473  2362  smapp-same-dc   \n...             ...              ...              ...   ...            ...   \n2729963   51.510109        35.521900        51.249054  2660  smapp-same-dc   \n2729966   51.475269        35.750290        51.286972  2004  smapp-same-dc   \n2729968   51.384750        35.719559        51.607353  2170  smapp-same-dc   \n2729976   51.420135        35.485798        51.686787  3134  smapp-same-dc   \n2729986   51.417782        35.714901        51.436726  2466  smapp-same-dc   \n\n          ata  ...  pickup_a_d_d_result.g_p_s_ratio  \\\n6        1963  ...                         0.005051   \n17       2778  ...                         0.003559   \n20       2877  ...                         0.003610   \n23       2719  ...                         0.004000   \n24       2410  ...                         0.004425   \n...       ...  ...                              ...   \n2729963  6153  ...                         0.001706   \n2729966  3809  ...                         0.002632   \n2729968  2953  ...                         0.003378   \n2729976  4588  ...                         0.002364   \n2729986  1786  ...                         0.005618   \n\n         ride_a_d_d_result.distance  ride_a_d_d_result.confidence  \\\n6                         25.871000                      0.558019   \n17                        65.590630                      0.834837   \n20                        40.578999                      0.546872   \n23                        65.080360                      0.888148   \n24                        27.839001                      0.568824   \n...                             ...                           ...   \n2729963                  128.636993                      0.981323   \n2729966                   40.758999                      0.984237   \n2729968                   52.777908                      0.911451   \n2729976                   85.375381                      0.988441   \n2729986                   19.742496                      0.958010   \n\n         ride_a_d_d_result.route_ratio  ride_a_d_d_result.g_p_s_ratio  \\\n6                                  0.0                       0.146465   \n17                                 0.0                       0.868327   \n20                                 0.0                       0.104693   \n23                                 0.0                       0.896000   \n24                                 0.0                       0.092920   \n...                                ...                            ...   \n2729963                            0.0                       0.998294   \n2729966                            0.0                       0.984211   \n2729968                            0.0                       0.891892   \n2729976                            0.0                       0.978723   \n2729986                            0.0                       0.926966   \n\n         total_a_d_d_confidence  in_ride_allotment      e_d_d  \\\n6                      0.610596              0.000  25.691999   \n17                     0.857004              0.000  40.091000   \n20                     0.609309              0.000  38.662998   \n23                     0.906676              0.000  38.363998   \n24                     0.653371              0.000  28.323000   \n...                         ...                ...        ...   \n2729963                0.983652              0.000  43.882999   \n2729966                0.986524              0.000  19.643000   \n2729968                0.924451              1.448  29.955999   \n2729976                0.989872              0.000  43.558998   \n2729986                0.856640              0.000  11.315000   \n\n             clickhouse_time                  hash  \n6        2022-09-11 13:00:48   9344030596630141528  \n17       2022-09-11 22:09:37  13862046135803300111  \n20       2022-09-11 08:02:38   5652449490027755269  \n23       2022-09-11 23:02:15   9004574699344913211  \n24       2022-09-11 09:50:47  17365459658581884520  \n...                      ...                   ...  \n2729963  2022-10-09 16:35:42  11470021632531286296  \n2729966  2022-10-09 17:08:56   5916495388916790202  \n2729968  2022-10-09 13:36:01  12320934774556909350  \n2729976  2022-10-09 10:55:43  11953691384932500369  \n2729986  2022-10-09 19:52:31   1672620268371026195  \n\n[332086 rows x 59 columns]",
      "text/html": "<div>\n<style scoped>\n    .dataframe tbody tr th:only-of-type {\n        vertical-align: middle;\n    }\n\n    .dataframe tbody tr th {\n        vertical-align: top;\n    }\n\n    .dataframe thead th {\n        text-align: right;\n    }\n</style>\n<table border=\"1\" class=\"dataframe\">\n  <thead>\n    <tr style=\"text-align: right;\">\n      <th></th>\n      <th>accepted_driver_id</th>\n      <th>created_at</th>\n      <th>passenger_id</th>\n      <th>source_lat</th>\n      <th>source_lng</th>\n      <th>destination_lat</th>\n      <th>destination_lng</th>\n      <th>eta</th>\n      <th>provider</th>\n      <th>ata</th>\n      <th>...</th>\n      <th>pickup_a_d_d_result.g_p_s_ratio</th>\n      <th>ride_a_d_d_result.distance</th>\n      <th>ride_a_d_d_result.confidence</th>\n      <th>ride_a_d_d_result.route_ratio</th>\n      <th>ride_a_d_d_result.g_p_s_ratio</th>\n      <th>total_a_d_d_confidence</th>\n      <th>in_ride_allotment</th>\n      <th>e_d_d</th>\n      <th>clickhouse_time</th>\n      <th>hash</th>\n    </tr>\n  </thead>\n  <tbody>\n    <tr>\n      <th>6</th>\n      <td>276394</td>\n      <td>2022-09-11 12:25:04</td>\n      <td>1130420</td>\n      <td>35.780571</td>\n      <td>51.356174</td>\n      <td>35.628082</td>\n      <td>51.351501</td>\n      <td>1894</td>\n      <td>smapp-same-dc</td>\n      <td>1963</td>\n      <td>...</td>\n      <td>0.005051</td>\n      <td>25.871000</td>\n      <td>0.558019</td>\n      <td>0.0</td>\n      <td>0.146465</td>\n      <td>0.610596</td>\n      <td>0.000</td>\n      <td>25.691999</td>\n      <td>2022-09-11 13:00:48</td>\n      <td>9344030596630141528</td>\n    </tr>\n    <tr>\n      <th>17</th>\n      <td>3564404</td>\n      <td>2022-09-11 20:54:38</td>\n      <td>20882457</td>\n      <td>35.640404</td>\n      <td>51.416351</td>\n      <td>35.768814</td>\n      <td>51.276939</td>\n      <td>2944</td>\n      <td>smapp-same-dc</td>\n      <td>2778</td>\n      <td>...</td>\n      <td>0.003559</td>\n      <td>65.590630</td>\n      <td>0.834837</td>\n      <td>0.0</td>\n      <td>0.868327</td>\n      <td>0.857004</td>\n      <td>0.000</td>\n      <td>40.091000</td>\n      <td>2022-09-11 22:09:37</td>\n      <td>13862046135803300111</td>\n    </tr>\n    <tr>\n      <th>20</th>\n      <td>2972216</td>\n      <td>2022-09-11 07:07:26</td>\n      <td>41413761</td>\n      <td>35.356205</td>\n      <td>51.641312</td>\n      <td>35.601074</td>\n      <td>51.435585</td>\n      <td>2472</td>\n      <td>smapp-same-dc</td>\n      <td>2877</td>\n      <td>...</td>\n      <td>0.003610</td>\n      <td>40.578999</td>\n      <td>0.546872</td>\n      <td>0.0</td>\n      <td>0.104693</td>\n      <td>0.609309</td>\n      <td>0.000</td>\n      <td>38.662998</td>\n      <td>2022-09-11 08:02:38</td>\n      <td>5652449490027755269</td>\n    </tr>\n    <tr>\n      <th>23</th>\n      <td>4288367</td>\n      <td>2022-09-11 22:03:11</td>\n      <td>47543504</td>\n      <td>35.351887</td>\n      <td>51.645844</td>\n      <td>35.599098</td>\n      <td>51.442066</td>\n      <td>2364</td>\n      <td>smapp-same-dc</td>\n      <td>2719</td>\n      <td>...</td>\n      <td>0.004000</td>\n      <td>65.080360</td>\n      <td>0.888148</td>\n      <td>0.0</td>\n      <td>0.896000</td>\n      <td>0.906676</td>\n      <td>0.000</td>\n      <td>38.363998</td>\n      <td>2022-09-11 23:02:15</td>\n      <td>9004574699344913211</td>\n    </tr>\n    <tr>\n      <th>24</th>\n      <td>785560</td>\n      <td>2022-09-11 09:02:41</td>\n      <td>21514168</td>\n      <td>35.720486</td>\n      <td>51.309761</td>\n      <td>35.796368</td>\n      <td>51.514473</td>\n      <td>2362</td>\n      <td>smapp-same-dc</td>\n      <td>2410</td>\n      <td>...</td>\n      <td>0.004425</td>\n      <td>27.839001</td>\n      <td>0.568824</td>\n      <td>0.0</td>\n      <td>0.092920</td>\n      <td>0.653371</td>\n      <td>0.000</td>\n      <td>28.323000</td>\n      <td>2022-09-11 09:50:47</td>\n      <td>17365459658581884520</td>\n    </tr>\n    <tr>\n      <th>...</th>\n      <td>...</td>\n      <td>...</td>\n      <td>...</td>\n      <td>...</td>\n      <td>...</td>\n      <td>...</td>\n      <td>...</td>\n      <td>...</td>\n      <td>...</td>\n      <td>...</td>\n      <td>...</td>\n      <td>...</td>\n      <td>...</td>\n      <td>...</td>\n      <td>...</td>\n      <td>...</td>\n      <td>...</td>\n      <td>...</td>\n      <td>...</td>\n      <td>...</td>\n      <td>...</td>\n    </tr>\n    <tr>\n      <th>2729963</th>\n      <td>983182</td>\n      <td>2022-10-09 14:43:23</td>\n      <td>20553284</td>\n      <td>35.721123</td>\n      <td>51.510109</td>\n      <td>35.521900</td>\n      <td>51.249054</td>\n      <td>2660</td>\n      <td>smapp-same-dc</td>\n      <td>6153</td>\n      <td>...</td>\n      <td>0.001706</td>\n      <td>128.636993</td>\n      <td>0.981323</td>\n      <td>0.0</td>\n      <td>0.998294</td>\n      <td>0.983652</td>\n      <td>0.000</td>\n      <td>43.882999</td>\n      <td>2022-10-09 16:35:42</td>\n      <td>11470021632531286296</td>\n    </tr>\n    <tr>\n      <th>2729966</th>\n      <td>35629</td>\n      <td>2022-10-09 15:54:14</td>\n      <td>3406353</td>\n      <td>35.764214</td>\n      <td>51.475269</td>\n      <td>35.750290</td>\n      <td>51.286972</td>\n      <td>2004</td>\n      <td>smapp-same-dc</td>\n      <td>3809</td>\n      <td>...</td>\n      <td>0.002632</td>\n      <td>40.758999</td>\n      <td>0.984237</td>\n      <td>0.0</td>\n      <td>0.984211</td>\n      <td>0.986524</td>\n      <td>0.000</td>\n      <td>19.643000</td>\n      <td>2022-10-09 17:08:56</td>\n      <td>5916495388916790202</td>\n    </tr>\n    <tr>\n      <th>2729968</th>\n      <td>4373409</td>\n      <td>2022-10-09 12:37:31</td>\n      <td>2737984</td>\n      <td>35.775448</td>\n      <td>51.384750</td>\n      <td>35.719559</td>\n      <td>51.607353</td>\n      <td>2170</td>\n      <td>smapp-same-dc</td>\n      <td>2953</td>\n      <td>...</td>\n      <td>0.003378</td>\n      <td>52.777908</td>\n      <td>0.911451</td>\n      <td>0.0</td>\n      <td>0.891892</td>\n      <td>0.924451</td>\n      <td>1.448</td>\n      <td>29.955999</td>\n      <td>2022-10-09 13:36:01</td>\n      <td>12320934774556909350</td>\n    </tr>\n    <tr>\n      <th>2729976</th>\n      <td>4180315</td>\n      <td>2022-10-09 09:28:07</td>\n      <td>38218151</td>\n      <td>35.735134</td>\n      <td>51.420135</td>\n      <td>35.485798</td>\n      <td>51.686787</td>\n      <td>3134</td>\n      <td>smapp-same-dc</td>\n      <td>4588</td>\n      <td>...</td>\n      <td>0.002364</td>\n      <td>85.375381</td>\n      <td>0.988441</td>\n      <td>0.0</td>\n      <td>0.978723</td>\n      <td>0.989872</td>\n      <td>0.000</td>\n      <td>43.558998</td>\n      <td>2022-10-09 10:55:43</td>\n      <td>11953691384932500369</td>\n    </tr>\n    <tr>\n      <th>2729986</th>\n      <td>3234851</td>\n      <td>2022-10-09 19:16:07</td>\n      <td>17780582</td>\n      <td>35.792358</td>\n      <td>51.417782</td>\n      <td>35.714901</td>\n      <td>51.436726</td>\n      <td>2466</td>\n      <td>smapp-same-dc</td>\n      <td>1786</td>\n      <td>...</td>\n      <td>0.005618</td>\n      <td>19.742496</td>\n      <td>0.958010</td>\n      <td>0.0</td>\n      <td>0.926966</td>\n      <td>0.856640</td>\n      <td>0.000</td>\n      <td>11.315000</td>\n      <td>2022-10-09 19:52:31</td>\n      <td>1672620268371026195</td>\n    </tr>\n  </tbody>\n</table>\n<p>332086 rows × 59 columns</p>\n</div>"
     },
     "execution_count": 6,
     "metadata": {},
     "output_type": "execute_result"
    }
   ],
   "source": [
    "test_p4 = test[test['eta'] >= 1800]\n",
    "test_p4"
   ],
   "metadata": {
    "collapsed": false,
    "pycharm": {
     "name": "#%%\n"
    }
   }
  },
  {
   "cell_type": "markdown",
   "source": [
    "There are some duplicates in the data"
   ],
   "metadata": {
    "collapsed": false,
    "pycharm": {
     "name": "#%% md\n"
    }
   }
  },
  {
   "cell_type": "code",
   "execution_count": 7,
   "outputs": [
    {
     "data": {
      "text/plain": "514839"
     },
     "execution_count": 7,
     "metadata": {},
     "output_type": "execute_result"
    }
   ],
   "source": [
    "train_p4 = train_p4.drop_duplicates(subset=['ride_id', 'ata'])\n",
    "len(train_p4)"
   ],
   "metadata": {
    "collapsed": false,
    "pycharm": {
     "name": "#%%\n"
    }
   }
  },
  {
   "cell_type": "code",
   "execution_count": 8,
   "outputs": [
    {
     "data": {
      "text/plain": "332061"
     },
     "execution_count": 8,
     "metadata": {},
     "output_type": "execute_result"
    }
   ],
   "source": [
    "test_p4 = test_p4.drop_duplicates(subset=['ride_id', 'ata'])\n",
    "len(test_p4)"
   ],
   "metadata": {
    "collapsed": false,
    "pycharm": {
     "name": "#%%\n"
    }
   }
  },
  {
   "cell_type": "code",
   "execution_count": 9,
   "outputs": [
    {
     "data": {
      "text/plain": "       accepted_driver_id  passenger_id     source_lat     source_lng  \\\ncount        5.132660e+05  5.132660e+05  513266.000000  513266.000000   \nmean         2.052076e+06  2.542970e+07      35.682093      51.396489   \nstd          1.384086e+06  1.822361e+07       0.104089       0.152049   \nmin          0.000000e+00  1.100000e+01      35.186329      50.900448   \n25%          6.983410e+05  6.466300e+06      35.641220      51.321495   \n50%          2.115911e+06  2.626258e+07      35.713772      51.402451   \n75%          3.293086e+06  4.086694e+07      35.754856      51.461155   \nmax          4.330826e+06  5.737685e+07      35.839874      52.794945   \n\n       destination_lat  destination_lng            eta            ata  \\\ncount    513266.000000    513266.000000  513266.000000  513266.000000   \nmean         35.693895        51.340904    2496.019686    2995.289856   \nstd           0.107322         0.205802     694.146171    1170.603664   \nmin          33.992180        49.698254    1800.000000     206.000000   \n25%          35.654217        51.243610    2002.000000    2225.000000   \n50%          35.717728        51.387814    2286.000000    2716.000000   \n75%          35.759948        51.454262    2767.000000    3456.000000   \nmax          36.656895        53.376816   10528.000000   28079.000000   \n\n            ride_id      city  ...  pickup_a_d_d_result.route_ratio  \\\ncount  5.132660e+05  513266.0  ...                    513266.000000   \nmean   4.827573e+09       1.0  ...                         0.000193   \nstd    5.961566e+07       0.0  ...                         0.011157   \nmin    4.714479e+09       1.0  ...                         0.000000   \n25%    4.778560e+09       1.0  ...                         0.000000   \n50%    4.829735e+09       1.0  ...                         0.000000   \n75%    4.874188e+09       1.0  ...                         0.000000   \nmax    4.933844e+09       1.0  ...                         1.000000   \n\n       pickup_a_d_d_result.g_p_s_ratio  ride_a_d_d_result.distance  \\\ncount                    513266.000000               513266.000000   \nmean                          0.003340                   51.976315   \nstd                           0.001517                   28.525724   \nmin                           0.000000                    0.000000   \n25%                           0.002564                   33.532001   \n50%                           0.003472                   46.855902   \n75%                           0.004329                   64.639000   \nmax                           0.045455                 8428.820312   \n\n       ride_a_d_d_result.confidence  ride_a_d_d_result.route_ratio  \\\ncount                 513266.000000                  513266.000000   \nmean                       0.824027                       0.000012   \nstd                        0.168117                       0.000284   \nmin                        0.000000                       0.000000   \n25%                        0.711429                       0.000000   \n50%                        0.890067                       0.000000   \n75%                        0.959883                       0.000000   \nmax                        1.000000                       0.023997   \n\n       ride_a_d_d_result.g_p_s_ratio  total_a_d_d_confidence  \\\ncount                  513266.000000           513266.000000   \nmean                        0.698335                0.835393   \nstd                         0.331778                0.160291   \nmin                         0.000000                0.000000   \n25%                         0.460481                0.737998   \n50%                         0.860759                0.896658   \n75%                         0.964758                0.962513   \nmax                         1.000000                1.000000   \n\n       in_ride_allotment          e_d_d          hash  \ncount      513266.000000  513266.000000  5.132660e+05  \nmean            0.055390       8.390746  9.217479e+18  \nstd             1.149136      16.564012  5.325390e+18  \nmin             0.000000       0.000000  2.162610e+12  \n25%             0.000000       0.000000  4.606262e+18  \n50%             0.000000       0.000000  9.217168e+18  \n75%             0.000000      12.464750  1.382594e+19  \nmax           732.436646     192.143997  1.844667e+19  \n\n[8 rows x 52 columns]",
      "text/html": "<div>\n<style scoped>\n    .dataframe tbody tr th:only-of-type {\n        vertical-align: middle;\n    }\n\n    .dataframe tbody tr th {\n        vertical-align: top;\n    }\n\n    .dataframe thead th {\n        text-align: right;\n    }\n</style>\n<table border=\"1\" class=\"dataframe\">\n  <thead>\n    <tr style=\"text-align: right;\">\n      <th></th>\n      <th>accepted_driver_id</th>\n      <th>passenger_id</th>\n      <th>source_lat</th>\n      <th>source_lng</th>\n      <th>destination_lat</th>\n      <th>destination_lng</th>\n      <th>eta</th>\n      <th>ata</th>\n      <th>ride_id</th>\n      <th>city</th>\n      <th>...</th>\n      <th>pickup_a_d_d_result.route_ratio</th>\n      <th>pickup_a_d_d_result.g_p_s_ratio</th>\n      <th>ride_a_d_d_result.distance</th>\n      <th>ride_a_d_d_result.confidence</th>\n      <th>ride_a_d_d_result.route_ratio</th>\n      <th>ride_a_d_d_result.g_p_s_ratio</th>\n      <th>total_a_d_d_confidence</th>\n      <th>in_ride_allotment</th>\n      <th>e_d_d</th>\n      <th>hash</th>\n    </tr>\n  </thead>\n  <tbody>\n    <tr>\n      <th>count</th>\n      <td>5.132660e+05</td>\n      <td>5.132660e+05</td>\n      <td>513266.000000</td>\n      <td>513266.000000</td>\n      <td>513266.000000</td>\n      <td>513266.000000</td>\n      <td>513266.000000</td>\n      <td>513266.000000</td>\n      <td>5.132660e+05</td>\n      <td>513266.0</td>\n      <td>...</td>\n      <td>513266.000000</td>\n      <td>513266.000000</td>\n      <td>513266.000000</td>\n      <td>513266.000000</td>\n      <td>513266.000000</td>\n      <td>513266.000000</td>\n      <td>513266.000000</td>\n      <td>513266.000000</td>\n      <td>513266.000000</td>\n      <td>5.132660e+05</td>\n    </tr>\n    <tr>\n      <th>mean</th>\n      <td>2.052076e+06</td>\n      <td>2.542970e+07</td>\n      <td>35.682093</td>\n      <td>51.396489</td>\n      <td>35.693895</td>\n      <td>51.340904</td>\n      <td>2496.019686</td>\n      <td>2995.289856</td>\n      <td>4.827573e+09</td>\n      <td>1.0</td>\n      <td>...</td>\n      <td>0.000193</td>\n      <td>0.003340</td>\n      <td>51.976315</td>\n      <td>0.824027</td>\n      <td>0.000012</td>\n      <td>0.698335</td>\n      <td>0.835393</td>\n      <td>0.055390</td>\n      <td>8.390746</td>\n      <td>9.217479e+18</td>\n    </tr>\n    <tr>\n      <th>std</th>\n      <td>1.384086e+06</td>\n      <td>1.822361e+07</td>\n      <td>0.104089</td>\n      <td>0.152049</td>\n      <td>0.107322</td>\n      <td>0.205802</td>\n      <td>694.146171</td>\n      <td>1170.603664</td>\n      <td>5.961566e+07</td>\n      <td>0.0</td>\n      <td>...</td>\n      <td>0.011157</td>\n      <td>0.001517</td>\n      <td>28.525724</td>\n      <td>0.168117</td>\n      <td>0.000284</td>\n      <td>0.331778</td>\n      <td>0.160291</td>\n      <td>1.149136</td>\n      <td>16.564012</td>\n      <td>5.325390e+18</td>\n    </tr>\n    <tr>\n      <th>min</th>\n      <td>0.000000e+00</td>\n      <td>1.100000e+01</td>\n      <td>35.186329</td>\n      <td>50.900448</td>\n      <td>33.992180</td>\n      <td>49.698254</td>\n      <td>1800.000000</td>\n      <td>206.000000</td>\n      <td>4.714479e+09</td>\n      <td>1.0</td>\n      <td>...</td>\n      <td>0.000000</td>\n      <td>0.000000</td>\n      <td>0.000000</td>\n      <td>0.000000</td>\n      <td>0.000000</td>\n      <td>0.000000</td>\n      <td>0.000000</td>\n      <td>0.000000</td>\n      <td>0.000000</td>\n      <td>2.162610e+12</td>\n    </tr>\n    <tr>\n      <th>25%</th>\n      <td>6.983410e+05</td>\n      <td>6.466300e+06</td>\n      <td>35.641220</td>\n      <td>51.321495</td>\n      <td>35.654217</td>\n      <td>51.243610</td>\n      <td>2002.000000</td>\n      <td>2225.000000</td>\n      <td>4.778560e+09</td>\n      <td>1.0</td>\n      <td>...</td>\n      <td>0.000000</td>\n      <td>0.002564</td>\n      <td>33.532001</td>\n      <td>0.711429</td>\n      <td>0.000000</td>\n      <td>0.460481</td>\n      <td>0.737998</td>\n      <td>0.000000</td>\n      <td>0.000000</td>\n      <td>4.606262e+18</td>\n    </tr>\n    <tr>\n      <th>50%</th>\n      <td>2.115911e+06</td>\n      <td>2.626258e+07</td>\n      <td>35.713772</td>\n      <td>51.402451</td>\n      <td>35.717728</td>\n      <td>51.387814</td>\n      <td>2286.000000</td>\n      <td>2716.000000</td>\n      <td>4.829735e+09</td>\n      <td>1.0</td>\n      <td>...</td>\n      <td>0.000000</td>\n      <td>0.003472</td>\n      <td>46.855902</td>\n      <td>0.890067</td>\n      <td>0.000000</td>\n      <td>0.860759</td>\n      <td>0.896658</td>\n      <td>0.000000</td>\n      <td>0.000000</td>\n      <td>9.217168e+18</td>\n    </tr>\n    <tr>\n      <th>75%</th>\n      <td>3.293086e+06</td>\n      <td>4.086694e+07</td>\n      <td>35.754856</td>\n      <td>51.461155</td>\n      <td>35.759948</td>\n      <td>51.454262</td>\n      <td>2767.000000</td>\n      <td>3456.000000</td>\n      <td>4.874188e+09</td>\n      <td>1.0</td>\n      <td>...</td>\n      <td>0.000000</td>\n      <td>0.004329</td>\n      <td>64.639000</td>\n      <td>0.959883</td>\n      <td>0.000000</td>\n      <td>0.964758</td>\n      <td>0.962513</td>\n      <td>0.000000</td>\n      <td>12.464750</td>\n      <td>1.382594e+19</td>\n    </tr>\n    <tr>\n      <th>max</th>\n      <td>4.330826e+06</td>\n      <td>5.737685e+07</td>\n      <td>35.839874</td>\n      <td>52.794945</td>\n      <td>36.656895</td>\n      <td>53.376816</td>\n      <td>10528.000000</td>\n      <td>28079.000000</td>\n      <td>4.933844e+09</td>\n      <td>1.0</td>\n      <td>...</td>\n      <td>1.000000</td>\n      <td>0.045455</td>\n      <td>8428.820312</td>\n      <td>1.000000</td>\n      <td>0.023997</td>\n      <td>1.000000</td>\n      <td>1.000000</td>\n      <td>732.436646</td>\n      <td>192.143997</td>\n      <td>1.844667e+19</td>\n    </tr>\n  </tbody>\n</table>\n<p>8 rows × 52 columns</p>\n</div>"
     },
     "execution_count": 9,
     "metadata": {},
     "output_type": "execute_result"
    }
   ],
   "source": [
    "train_p4 = train_p4[(train_p4['eta'] < 10800) &\n",
    "                                (train_p4['a_t_a_result.ride_a_t_a'] > 180) &\n",
    "                                (train_p4['a_t_a_result.ride_a_t_a'] < 10800)]\n",
    "train_p4.describe()"
   ],
   "metadata": {
    "collapsed": false,
    "pycharm": {
     "name": "#%%\n"
    }
   }
  },
  {
   "cell_type": "code",
   "execution_count": 10,
   "outputs": [
    {
     "data": {
      "text/plain": "       accepted_driver_id  passenger_id     source_lat     source_lng  \\\ncount        3.005900e+05  3.005900e+05  300590.000000  300590.000000   \nmean         2.090127e+06  2.514243e+07      35.681823      51.395616   \nstd          1.390057e+06  1.817933e+07       0.103246       0.150645   \nmin          9.000000e+00  3.900000e+01      35.186329      50.900448   \n25%          7.344300e+05  6.178774e+06      35.640427      51.320942   \n50%          2.172354e+06  2.581722e+07      35.712662      51.401926   \n75%          3.346744e+06  4.037015e+07      35.754234      51.460594   \nmax          4.329674e+06  5.737685e+07      35.839859      52.792675   \n\n       destination_lat  destination_lng            eta            ata  \\\ncount    300590.000000    300590.000000  300590.000000  300590.000000   \nmean         35.696726        51.338996    2486.910027    3019.860025   \nstd           0.105668         0.206233     680.419884    1167.588165   \nmin          33.992180        49.698254    1800.000000     206.000000   \n25%          35.657173        51.240823    2000.000000    2252.000000   \n50%          35.720802        51.385429    2281.000000    2740.000000   \n75%          35.761931        51.455318    2756.000000    3475.000000   \nmax          36.648926        53.376816   10050.000000   21433.000000   \n\n            ride_id      city  ...  pickup_a_d_d_result.route_ratio  \\\ncount  3.005900e+05  300590.0  ...                    300590.000000   \nmean   4.827441e+09       1.0  ...                         0.000100   \nstd    5.967997e+07       0.0  ...                         0.007807   \nmin    4.714479e+09       1.0  ...                         0.000000   \n25%    4.778458e+09       1.0  ...                         0.000000   \n50%    4.829144e+09       1.0  ...                         0.000000   \n75%    4.874889e+09       1.0  ...                         0.000000   \nmax    4.933844e+09       1.0  ...                         1.000000   \n\n       pickup_a_d_d_result.g_p_s_ratio  ride_a_d_d_result.distance  \\\ncount                    300590.000000               300590.000000   \nmean                          0.003735                   54.267730   \nstd                           0.001130                   29.873212   \nmin                           0.000639                    0.000000   \n25%                           0.002933                   35.993999   \n50%                           0.003704                   49.177559   \n75%                           0.004484                   66.921204   \nmax                           0.045455                 8428.820312   \n\n       ride_a_d_d_result.confidence  ride_a_d_d_result.route_ratio  \\\ncount                 300590.000000                  300590.000000   \nmean                       0.867368                       0.000007   \nstd                        0.143336                       0.000211   \nmin                        0.000000                       0.000000   \n25%                        0.811881                       0.000000   \n50%                        0.922584                       0.000000   \n75%                        0.971709                       0.000000   \nmax                        1.000000                       0.021793   \n\n       ride_a_d_d_result.g_p_s_ratio  total_a_d_d_confidence  \\\ncount                  300590.000000           300590.000000   \nmean                        0.795466                0.879437   \nstd                         0.267691                0.129902   \nmin                         0.002597                0.000000   \n25%                         0.730630                0.830110   \n50%                         0.920732                0.928255   \n75%                         0.978814                0.973644   \nmax                         1.000000                1.000000   \n\n       in_ride_allotment          e_d_d          hash  \ncount      300590.000000  300590.000000  3.005900e+05  \nmean            0.059098       8.480502  9.220756e+18  \nstd             0.546860      16.585314  5.328382e+18  \nmin             0.000000       0.000000  2.381146e+13  \n25%             0.000000       0.000000  4.599420e+18  \n50%             0.000000       0.000000  9.228543e+18  \n75%             0.000000      13.287000  1.383482e+19  \nmax            24.836000     192.143997  1.844667e+19  \n\n[8 rows x 52 columns]",
      "text/html": "<div>\n<style scoped>\n    .dataframe tbody tr th:only-of-type {\n        vertical-align: middle;\n    }\n\n    .dataframe tbody tr th {\n        vertical-align: top;\n    }\n\n    .dataframe thead th {\n        text-align: right;\n    }\n</style>\n<table border=\"1\" class=\"dataframe\">\n  <thead>\n    <tr style=\"text-align: right;\">\n      <th></th>\n      <th>accepted_driver_id</th>\n      <th>passenger_id</th>\n      <th>source_lat</th>\n      <th>source_lng</th>\n      <th>destination_lat</th>\n      <th>destination_lng</th>\n      <th>eta</th>\n      <th>ata</th>\n      <th>ride_id</th>\n      <th>city</th>\n      <th>...</th>\n      <th>pickup_a_d_d_result.route_ratio</th>\n      <th>pickup_a_d_d_result.g_p_s_ratio</th>\n      <th>ride_a_d_d_result.distance</th>\n      <th>ride_a_d_d_result.confidence</th>\n      <th>ride_a_d_d_result.route_ratio</th>\n      <th>ride_a_d_d_result.g_p_s_ratio</th>\n      <th>total_a_d_d_confidence</th>\n      <th>in_ride_allotment</th>\n      <th>e_d_d</th>\n      <th>hash</th>\n    </tr>\n  </thead>\n  <tbody>\n    <tr>\n      <th>count</th>\n      <td>3.005900e+05</td>\n      <td>3.005900e+05</td>\n      <td>300590.000000</td>\n      <td>300590.000000</td>\n      <td>300590.000000</td>\n      <td>300590.000000</td>\n      <td>300590.000000</td>\n      <td>300590.000000</td>\n      <td>3.005900e+05</td>\n      <td>300590.0</td>\n      <td>...</td>\n      <td>300590.000000</td>\n      <td>300590.000000</td>\n      <td>300590.000000</td>\n      <td>300590.000000</td>\n      <td>300590.000000</td>\n      <td>300590.000000</td>\n      <td>300590.000000</td>\n      <td>300590.000000</td>\n      <td>300590.000000</td>\n      <td>3.005900e+05</td>\n    </tr>\n    <tr>\n      <th>mean</th>\n      <td>2.090127e+06</td>\n      <td>2.514243e+07</td>\n      <td>35.681823</td>\n      <td>51.395616</td>\n      <td>35.696726</td>\n      <td>51.338996</td>\n      <td>2486.910027</td>\n      <td>3019.860025</td>\n      <td>4.827441e+09</td>\n      <td>1.0</td>\n      <td>...</td>\n      <td>0.000100</td>\n      <td>0.003735</td>\n      <td>54.267730</td>\n      <td>0.867368</td>\n      <td>0.000007</td>\n      <td>0.795466</td>\n      <td>0.879437</td>\n      <td>0.059098</td>\n      <td>8.480502</td>\n      <td>9.220756e+18</td>\n    </tr>\n    <tr>\n      <th>std</th>\n      <td>1.390057e+06</td>\n      <td>1.817933e+07</td>\n      <td>0.103246</td>\n      <td>0.150645</td>\n      <td>0.105668</td>\n      <td>0.206233</td>\n      <td>680.419884</td>\n      <td>1167.588165</td>\n      <td>5.967997e+07</td>\n      <td>0.0</td>\n      <td>...</td>\n      <td>0.007807</td>\n      <td>0.001130</td>\n      <td>29.873212</td>\n      <td>0.143336</td>\n      <td>0.000211</td>\n      <td>0.267691</td>\n      <td>0.129902</td>\n      <td>0.546860</td>\n      <td>16.585314</td>\n      <td>5.328382e+18</td>\n    </tr>\n    <tr>\n      <th>min</th>\n      <td>9.000000e+00</td>\n      <td>3.900000e+01</td>\n      <td>35.186329</td>\n      <td>50.900448</td>\n      <td>33.992180</td>\n      <td>49.698254</td>\n      <td>1800.000000</td>\n      <td>206.000000</td>\n      <td>4.714479e+09</td>\n      <td>1.0</td>\n      <td>...</td>\n      <td>0.000000</td>\n      <td>0.000639</td>\n      <td>0.000000</td>\n      <td>0.000000</td>\n      <td>0.000000</td>\n      <td>0.002597</td>\n      <td>0.000000</td>\n      <td>0.000000</td>\n      <td>0.000000</td>\n      <td>2.381146e+13</td>\n    </tr>\n    <tr>\n      <th>25%</th>\n      <td>7.344300e+05</td>\n      <td>6.178774e+06</td>\n      <td>35.640427</td>\n      <td>51.320942</td>\n      <td>35.657173</td>\n      <td>51.240823</td>\n      <td>2000.000000</td>\n      <td>2252.000000</td>\n      <td>4.778458e+09</td>\n      <td>1.0</td>\n      <td>...</td>\n      <td>0.000000</td>\n      <td>0.002933</td>\n      <td>35.993999</td>\n      <td>0.811881</td>\n      <td>0.000000</td>\n      <td>0.730630</td>\n      <td>0.830110</td>\n      <td>0.000000</td>\n      <td>0.000000</td>\n      <td>4.599420e+18</td>\n    </tr>\n    <tr>\n      <th>50%</th>\n      <td>2.172354e+06</td>\n      <td>2.581722e+07</td>\n      <td>35.712662</td>\n      <td>51.401926</td>\n      <td>35.720802</td>\n      <td>51.385429</td>\n      <td>2281.000000</td>\n      <td>2740.000000</td>\n      <td>4.829144e+09</td>\n      <td>1.0</td>\n      <td>...</td>\n      <td>0.000000</td>\n      <td>0.003704</td>\n      <td>49.177559</td>\n      <td>0.922584</td>\n      <td>0.000000</td>\n      <td>0.920732</td>\n      <td>0.928255</td>\n      <td>0.000000</td>\n      <td>0.000000</td>\n      <td>9.228543e+18</td>\n    </tr>\n    <tr>\n      <th>75%</th>\n      <td>3.346744e+06</td>\n      <td>4.037015e+07</td>\n      <td>35.754234</td>\n      <td>51.460594</td>\n      <td>35.761931</td>\n      <td>51.455318</td>\n      <td>2756.000000</td>\n      <td>3475.000000</td>\n      <td>4.874889e+09</td>\n      <td>1.0</td>\n      <td>...</td>\n      <td>0.000000</td>\n      <td>0.004484</td>\n      <td>66.921204</td>\n      <td>0.971709</td>\n      <td>0.000000</td>\n      <td>0.978814</td>\n      <td>0.973644</td>\n      <td>0.000000</td>\n      <td>13.287000</td>\n      <td>1.383482e+19</td>\n    </tr>\n    <tr>\n      <th>max</th>\n      <td>4.329674e+06</td>\n      <td>5.737685e+07</td>\n      <td>35.839859</td>\n      <td>52.792675</td>\n      <td>36.648926</td>\n      <td>53.376816</td>\n      <td>10050.000000</td>\n      <td>21433.000000</td>\n      <td>4.933844e+09</td>\n      <td>1.0</td>\n      <td>...</td>\n      <td>1.000000</td>\n      <td>0.045455</td>\n      <td>8428.820312</td>\n      <td>1.000000</td>\n      <td>0.021793</td>\n      <td>1.000000</td>\n      <td>1.000000</td>\n      <td>24.836000</td>\n      <td>192.143997</td>\n      <td>1.844667e+19</td>\n    </tr>\n  </tbody>\n</table>\n<p>8 rows × 52 columns</p>\n</div>"
     },
     "execution_count": 10,
     "metadata": {},
     "output_type": "execute_result"
    }
   ],
   "source": [
    "train_p4 = train_p4[(train_p4['a_t_a_result.destination_probe_result.confidence'] > 0) & (train_p4['a_t_a_result.boarding_probe_result.confidence'] > 0)]\n",
    "train_p4.describe()"
   ],
   "metadata": {
    "collapsed": false,
    "pycharm": {
     "name": "#%%\n"
    }
   }
  },
  {
   "cell_type": "code",
   "execution_count": 11,
   "outputs": [],
   "source": [
    "test_p4 = test_p4[test_p4['eta'] < 10800]"
   ],
   "metadata": {
    "collapsed": false,
    "pycharm": {
     "name": "#%%\n"
    }
   }
  },
  {
   "cell_type": "code",
   "execution_count": 12,
   "outputs": [
    {
     "data": {
      "text/plain": "       accepted_driver_id  passenger_id     source_lat     source_lng  \\\ncount        1.953600e+05  1.953600e+05  195360.000000  195360.000000   \nmean         2.139469e+06  2.583420e+07      35.675916      51.396343   \nstd          1.422076e+06  1.841180e+07       0.106800       0.157862   \nmin          4.300000e+01  2.130000e+02      35.189159      50.900494   \n25%          7.571800e+05  6.708485e+06      35.632419      51.316971   \n50%          2.205670e+06  2.690674e+07      35.707644      51.401264   \n75%          3.420708e+06  4.133328e+07      35.752201      51.464753   \nmax          4.421542e+06  5.813654e+07      35.839844      52.796974   \n\n       destination_lat  destination_lng            eta            ata  \\\ncount    195360.000000    195360.000000  195360.000000  195360.000000   \nmean         35.692138        51.334464    2508.695874    3076.418515   \nstd           0.113097         0.216631     704.423363    1312.656665   \nmin          33.983345        49.689377    1800.000000     347.000000   \n25%          35.650723        51.221844    2004.000000    2235.750000   \n50%          35.718204        51.380756    2296.000000    2744.000000   \n75%          35.760426        51.457687    2794.000000    3534.000000   \nmax          36.715931        53.440346   10751.000000   21204.000000   \n\n            ride_id      city  ...  pickup_a_d_d_result.route_ratio  \\\ncount  1.953600e+05  195360.0  ...                    195360.000000   \nmean   5.011913e+09       1.0  ...                         0.000055   \nstd    4.444763e+07       0.0  ...                         0.004800   \nmin    4.933927e+09       1.0  ...                         0.000000   \n25%    4.973141e+09       1.0  ...                         0.000000   \n50%    5.013574e+09       1.0  ...                         0.000000   \n75%    5.051772e+09       1.0  ...                         0.000000   \nmax    5.083611e+09       1.0  ...                         1.000000   \n\n       pickup_a_d_d_result.g_p_s_ratio  ride_a_d_d_result.distance  \\\ncount                    195360.000000               195360.000000   \nmean                          0.003731                   56.923652   \nstd                           0.001191                   26.951837   \nmin                           0.000428                    2.235000   \n25%                           0.002882                   37.938000   \n50%                           0.003704                   51.812128   \n75%                           0.004525                   70.071522   \nmax                           0.035714                  417.749268   \n\n       ride_a_d_d_result.confidence  ride_a_d_d_result.route_ratio  \\\ncount                 195360.000000                  195360.000000   \nmean                       0.869934                       0.000006   \nstd                        0.143132                       0.000169   \nmin                        0.000000                       0.000000   \n25%                        0.815446                       0.000000   \n50%                        0.926238                       0.000000   \n75%                        0.974197                       0.000000   \nmax                        1.000000                       0.021603   \n\n       ride_a_d_d_result.g_p_s_ratio  total_a_d_d_confidence  \\\ncount                  195360.000000           195360.000000   \nmean                        0.810518                0.881741   \nstd                         0.266531                0.129500   \nmin                         0.002063                0.000000   \n25%                         0.768061                0.832882   \n50%                         0.936782                0.931694   \n75%                         0.984190                0.975832   \nmax                         1.000000                1.000000   \n\n       in_ride_allotment          e_d_d          hash  \ncount      195360.000000  195360.000000  1.953600e+05  \nmean            0.020453      34.204856  9.234726e+18  \nstd             0.267203      17.218847  5.331731e+18  \nmin             0.000000       1.485000  4.035099e+13  \n25%             0.000000      21.618750  4.596387e+18  \n50%             0.000000      30.615000  9.265194e+18  \n75%             0.000000      43.045249  1.386457e+19  \nmax            51.702080     290.472992  1.844673e+19  \n\n[8 rows x 52 columns]",
      "text/html": "<div>\n<style scoped>\n    .dataframe tbody tr th:only-of-type {\n        vertical-align: middle;\n    }\n\n    .dataframe tbody tr th {\n        vertical-align: top;\n    }\n\n    .dataframe thead th {\n        text-align: right;\n    }\n</style>\n<table border=\"1\" class=\"dataframe\">\n  <thead>\n    <tr style=\"text-align: right;\">\n      <th></th>\n      <th>accepted_driver_id</th>\n      <th>passenger_id</th>\n      <th>source_lat</th>\n      <th>source_lng</th>\n      <th>destination_lat</th>\n      <th>destination_lng</th>\n      <th>eta</th>\n      <th>ata</th>\n      <th>ride_id</th>\n      <th>city</th>\n      <th>...</th>\n      <th>pickup_a_d_d_result.route_ratio</th>\n      <th>pickup_a_d_d_result.g_p_s_ratio</th>\n      <th>ride_a_d_d_result.distance</th>\n      <th>ride_a_d_d_result.confidence</th>\n      <th>ride_a_d_d_result.route_ratio</th>\n      <th>ride_a_d_d_result.g_p_s_ratio</th>\n      <th>total_a_d_d_confidence</th>\n      <th>in_ride_allotment</th>\n      <th>e_d_d</th>\n      <th>hash</th>\n    </tr>\n  </thead>\n  <tbody>\n    <tr>\n      <th>count</th>\n      <td>1.953600e+05</td>\n      <td>1.953600e+05</td>\n      <td>195360.000000</td>\n      <td>195360.000000</td>\n      <td>195360.000000</td>\n      <td>195360.000000</td>\n      <td>195360.000000</td>\n      <td>195360.000000</td>\n      <td>1.953600e+05</td>\n      <td>195360.0</td>\n      <td>...</td>\n      <td>195360.000000</td>\n      <td>195360.000000</td>\n      <td>195360.000000</td>\n      <td>195360.000000</td>\n      <td>195360.000000</td>\n      <td>195360.000000</td>\n      <td>195360.000000</td>\n      <td>195360.000000</td>\n      <td>195360.000000</td>\n      <td>1.953600e+05</td>\n    </tr>\n    <tr>\n      <th>mean</th>\n      <td>2.139469e+06</td>\n      <td>2.583420e+07</td>\n      <td>35.675916</td>\n      <td>51.396343</td>\n      <td>35.692138</td>\n      <td>51.334464</td>\n      <td>2508.695874</td>\n      <td>3076.418515</td>\n      <td>5.011913e+09</td>\n      <td>1.0</td>\n      <td>...</td>\n      <td>0.000055</td>\n      <td>0.003731</td>\n      <td>56.923652</td>\n      <td>0.869934</td>\n      <td>0.000006</td>\n      <td>0.810518</td>\n      <td>0.881741</td>\n      <td>0.020453</td>\n      <td>34.204856</td>\n      <td>9.234726e+18</td>\n    </tr>\n    <tr>\n      <th>std</th>\n      <td>1.422076e+06</td>\n      <td>1.841180e+07</td>\n      <td>0.106800</td>\n      <td>0.157862</td>\n      <td>0.113097</td>\n      <td>0.216631</td>\n      <td>704.423363</td>\n      <td>1312.656665</td>\n      <td>4.444763e+07</td>\n      <td>0.0</td>\n      <td>...</td>\n      <td>0.004800</td>\n      <td>0.001191</td>\n      <td>26.951837</td>\n      <td>0.143132</td>\n      <td>0.000169</td>\n      <td>0.266531</td>\n      <td>0.129500</td>\n      <td>0.267203</td>\n      <td>17.218847</td>\n      <td>5.331731e+18</td>\n    </tr>\n    <tr>\n      <th>min</th>\n      <td>4.300000e+01</td>\n      <td>2.130000e+02</td>\n      <td>35.189159</td>\n      <td>50.900494</td>\n      <td>33.983345</td>\n      <td>49.689377</td>\n      <td>1800.000000</td>\n      <td>347.000000</td>\n      <td>4.933927e+09</td>\n      <td>1.0</td>\n      <td>...</td>\n      <td>0.000000</td>\n      <td>0.000428</td>\n      <td>2.235000</td>\n      <td>0.000000</td>\n      <td>0.000000</td>\n      <td>0.002063</td>\n      <td>0.000000</td>\n      <td>0.000000</td>\n      <td>1.485000</td>\n      <td>4.035099e+13</td>\n    </tr>\n    <tr>\n      <th>25%</th>\n      <td>7.571800e+05</td>\n      <td>6.708485e+06</td>\n      <td>35.632419</td>\n      <td>51.316971</td>\n      <td>35.650723</td>\n      <td>51.221844</td>\n      <td>2004.000000</td>\n      <td>2235.750000</td>\n      <td>4.973141e+09</td>\n      <td>1.0</td>\n      <td>...</td>\n      <td>0.000000</td>\n      <td>0.002882</td>\n      <td>37.938000</td>\n      <td>0.815446</td>\n      <td>0.000000</td>\n      <td>0.768061</td>\n      <td>0.832882</td>\n      <td>0.000000</td>\n      <td>21.618750</td>\n      <td>4.596387e+18</td>\n    </tr>\n    <tr>\n      <th>50%</th>\n      <td>2.205670e+06</td>\n      <td>2.690674e+07</td>\n      <td>35.707644</td>\n      <td>51.401264</td>\n      <td>35.718204</td>\n      <td>51.380756</td>\n      <td>2296.000000</td>\n      <td>2744.000000</td>\n      <td>5.013574e+09</td>\n      <td>1.0</td>\n      <td>...</td>\n      <td>0.000000</td>\n      <td>0.003704</td>\n      <td>51.812128</td>\n      <td>0.926238</td>\n      <td>0.000000</td>\n      <td>0.936782</td>\n      <td>0.931694</td>\n      <td>0.000000</td>\n      <td>30.615000</td>\n      <td>9.265194e+18</td>\n    </tr>\n    <tr>\n      <th>75%</th>\n      <td>3.420708e+06</td>\n      <td>4.133328e+07</td>\n      <td>35.752201</td>\n      <td>51.464753</td>\n      <td>35.760426</td>\n      <td>51.457687</td>\n      <td>2794.000000</td>\n      <td>3534.000000</td>\n      <td>5.051772e+09</td>\n      <td>1.0</td>\n      <td>...</td>\n      <td>0.000000</td>\n      <td>0.004525</td>\n      <td>70.071522</td>\n      <td>0.974197</td>\n      <td>0.000000</td>\n      <td>0.984190</td>\n      <td>0.975832</td>\n      <td>0.000000</td>\n      <td>43.045249</td>\n      <td>1.386457e+19</td>\n    </tr>\n    <tr>\n      <th>max</th>\n      <td>4.421542e+06</td>\n      <td>5.813654e+07</td>\n      <td>35.839844</td>\n      <td>52.796974</td>\n      <td>36.715931</td>\n      <td>53.440346</td>\n      <td>10751.000000</td>\n      <td>21204.000000</td>\n      <td>5.083611e+09</td>\n      <td>1.0</td>\n      <td>...</td>\n      <td>1.000000</td>\n      <td>0.035714</td>\n      <td>417.749268</td>\n      <td>1.000000</td>\n      <td>0.021603</td>\n      <td>1.000000</td>\n      <td>1.000000</td>\n      <td>51.702080</td>\n      <td>290.472992</td>\n      <td>1.844673e+19</td>\n    </tr>\n  </tbody>\n</table>\n<p>8 rows × 52 columns</p>\n</div>"
     },
     "execution_count": 12,
     "metadata": {},
     "output_type": "execute_result"
    }
   ],
   "source": [
    "test_p4 = test_p4[(test_p4['a_t_a_result.destination_probe_result.confidence'] > 0) & (test_p4['a_t_a_result.boarding_probe_result.confidence'] > 0)]\n",
    "test_p4.describe()"
   ],
   "metadata": {
    "collapsed": false,
    "pycharm": {
     "name": "#%%\n"
    }
   }
  },
  {
   "cell_type": "code",
   "execution_count": 13,
   "outputs": [
    {
     "data": {
      "text/plain": "          eta   ata  a_t_a_result.ride_a_t_a           created_at  source_lat  \\\n21       2083  1833                     1808  2022-08-02 20:09:35   35.617275   \n40       2185  2293                     2265  2022-08-02 20:55:26   35.759720   \n58       2273  2305                     2260  2022-08-02 20:00:03   35.721745   \n74       2142  2144                     2041  2022-08-02 07:47:16   35.673149   \n85       2027  2028                     1996  2022-08-02 21:34:16   35.751251   \n...       ...   ...                      ...                  ...         ...   \n4063236  2142  2065                     2084  2022-09-10 09:14:13   35.737068   \n4063306  1824  1795                     1785  2022-09-10 17:27:22   35.768711   \n4063308  1903  2247                     2276  2022-09-10 08:43:43   35.686737   \n4063332  1969  2221                     2245  2022-09-10 15:04:43   35.588966   \n4063338  1856  2357                     2188  2022-09-10 10:39:55   35.677460   \n\n         source_lng  destination_lat  destination_lng      e_d_d  \\\n21        51.488651        35.724304        51.501282   0.000000   \n40        51.262569        35.725605        51.444698   0.000000   \n58        51.335915        35.767059        51.456818   0.000000   \n74        51.405518        35.746445        51.447365   0.000000   \n85        51.815495        35.749458        51.518780   0.000000   \n...             ...              ...              ...        ...   \n4063236   51.293900        35.790359        51.493561  27.850000   \n4063306   51.768398        35.749062        51.517361  32.625000   \n4063308   51.378422        35.766529        51.479244  20.017000   \n4063332   51.422379        35.733543        51.345242  28.209999   \n4063338   51.236629        35.709362        51.404461  19.000000   \n\n             clickhouse_time  \n21       2022-08-02 20:45:39  \n40       2022-08-02 21:43:43  \n58       2022-08-02 20:48:05  \n74       2022-08-02 08:30:58  \n85       2022-08-02 22:20:48  \n...                      ...  \n4063236  2022-09-10 10:00:34  \n4063306  2022-09-10 18:05:34  \n4063308  2022-09-10 09:34:47  \n4063332  2022-09-10 15:50:30  \n4063338  2022-09-10 11:26:09  \n\n[300590 rows x 10 columns]",
      "text/html": "<div>\n<style scoped>\n    .dataframe tbody tr th:only-of-type {\n        vertical-align: middle;\n    }\n\n    .dataframe tbody tr th {\n        vertical-align: top;\n    }\n\n    .dataframe thead th {\n        text-align: right;\n    }\n</style>\n<table border=\"1\" class=\"dataframe\">\n  <thead>\n    <tr style=\"text-align: right;\">\n      <th></th>\n      <th>eta</th>\n      <th>ata</th>\n      <th>a_t_a_result.ride_a_t_a</th>\n      <th>created_at</th>\n      <th>source_lat</th>\n      <th>source_lng</th>\n      <th>destination_lat</th>\n      <th>destination_lng</th>\n      <th>e_d_d</th>\n      <th>clickhouse_time</th>\n    </tr>\n  </thead>\n  <tbody>\n    <tr>\n      <th>21</th>\n      <td>2083</td>\n      <td>1833</td>\n      <td>1808</td>\n      <td>2022-08-02 20:09:35</td>\n      <td>35.617275</td>\n      <td>51.488651</td>\n      <td>35.724304</td>\n      <td>51.501282</td>\n      <td>0.000000</td>\n      <td>2022-08-02 20:45:39</td>\n    </tr>\n    <tr>\n      <th>40</th>\n      <td>2185</td>\n      <td>2293</td>\n      <td>2265</td>\n      <td>2022-08-02 20:55:26</td>\n      <td>35.759720</td>\n      <td>51.262569</td>\n      <td>35.725605</td>\n      <td>51.444698</td>\n      <td>0.000000</td>\n      <td>2022-08-02 21:43:43</td>\n    </tr>\n    <tr>\n      <th>58</th>\n      <td>2273</td>\n      <td>2305</td>\n      <td>2260</td>\n      <td>2022-08-02 20:00:03</td>\n      <td>35.721745</td>\n      <td>51.335915</td>\n      <td>35.767059</td>\n      <td>51.456818</td>\n      <td>0.000000</td>\n      <td>2022-08-02 20:48:05</td>\n    </tr>\n    <tr>\n      <th>74</th>\n      <td>2142</td>\n      <td>2144</td>\n      <td>2041</td>\n      <td>2022-08-02 07:47:16</td>\n      <td>35.673149</td>\n      <td>51.405518</td>\n      <td>35.746445</td>\n      <td>51.447365</td>\n      <td>0.000000</td>\n      <td>2022-08-02 08:30:58</td>\n    </tr>\n    <tr>\n      <th>85</th>\n      <td>2027</td>\n      <td>2028</td>\n      <td>1996</td>\n      <td>2022-08-02 21:34:16</td>\n      <td>35.751251</td>\n      <td>51.815495</td>\n      <td>35.749458</td>\n      <td>51.518780</td>\n      <td>0.000000</td>\n      <td>2022-08-02 22:20:48</td>\n    </tr>\n    <tr>\n      <th>...</th>\n      <td>...</td>\n      <td>...</td>\n      <td>...</td>\n      <td>...</td>\n      <td>...</td>\n      <td>...</td>\n      <td>...</td>\n      <td>...</td>\n      <td>...</td>\n      <td>...</td>\n    </tr>\n    <tr>\n      <th>4063236</th>\n      <td>2142</td>\n      <td>2065</td>\n      <td>2084</td>\n      <td>2022-09-10 09:14:13</td>\n      <td>35.737068</td>\n      <td>51.293900</td>\n      <td>35.790359</td>\n      <td>51.493561</td>\n      <td>27.850000</td>\n      <td>2022-09-10 10:00:34</td>\n    </tr>\n    <tr>\n      <th>4063306</th>\n      <td>1824</td>\n      <td>1795</td>\n      <td>1785</td>\n      <td>2022-09-10 17:27:22</td>\n      <td>35.768711</td>\n      <td>51.768398</td>\n      <td>35.749062</td>\n      <td>51.517361</td>\n      <td>32.625000</td>\n      <td>2022-09-10 18:05:34</td>\n    </tr>\n    <tr>\n      <th>4063308</th>\n      <td>1903</td>\n      <td>2247</td>\n      <td>2276</td>\n      <td>2022-09-10 08:43:43</td>\n      <td>35.686737</td>\n      <td>51.378422</td>\n      <td>35.766529</td>\n      <td>51.479244</td>\n      <td>20.017000</td>\n      <td>2022-09-10 09:34:47</td>\n    </tr>\n    <tr>\n      <th>4063332</th>\n      <td>1969</td>\n      <td>2221</td>\n      <td>2245</td>\n      <td>2022-09-10 15:04:43</td>\n      <td>35.588966</td>\n      <td>51.422379</td>\n      <td>35.733543</td>\n      <td>51.345242</td>\n      <td>28.209999</td>\n      <td>2022-09-10 15:50:30</td>\n    </tr>\n    <tr>\n      <th>4063338</th>\n      <td>1856</td>\n      <td>2357</td>\n      <td>2188</td>\n      <td>2022-09-10 10:39:55</td>\n      <td>35.677460</td>\n      <td>51.236629</td>\n      <td>35.709362</td>\n      <td>51.404461</td>\n      <td>19.000000</td>\n      <td>2022-09-10 11:26:09</td>\n    </tr>\n  </tbody>\n</table>\n<p>300590 rows × 10 columns</p>\n</div>"
     },
     "execution_count": 13,
     "metadata": {},
     "output_type": "execute_result"
    }
   ],
   "source": [
    "train_p4 = train_p4[['eta', 'ata', 'a_t_a_result.ride_a_t_a', 'created_at', 'source_lat', 'source_lng', 'destination_lat', 'destination_lng', 'e_d_d', 'clickhouse_time']]\n",
    "train_p4"
   ],
   "metadata": {
    "collapsed": false,
    "pycharm": {
     "name": "#%%\n"
    }
   }
  },
  {
   "cell_type": "code",
   "execution_count": 14,
   "outputs": [
    {
     "data": {
      "text/plain": "          eta   ata  a_t_a_result.ride_a_t_a           created_at  source_lat  \\\n20       2472  2877                     2762  2022-09-11 07:07:26   35.356205   \n23       2364  2719                     2491  2022-09-11 22:03:11   35.351887   \n24       2362  2410                     2258  2022-09-11 09:02:41   35.720486   \n28       2436  2816                     3452  2022-09-11 14:17:32   35.635067   \n36       2132  2491                     2592  2022-09-11 12:36:45   35.774742   \n...       ...   ...                      ...                  ...         ...   \n2729960  2190  5258                     5217  2022-10-09 06:55:00   35.628559   \n2729963  2660  6153                     5852  2022-10-09 14:43:23   35.721123   \n2729966  2004  3809                     3793  2022-10-09 15:54:14   35.764214   \n2729968  2170  2953                     2956  2022-10-09 12:37:31   35.775448   \n2729976  3134  4588                     4224  2022-10-09 09:28:07   35.735134   \n\n         source_lng  destination_lat  destination_lng      e_d_d  \\\n20        51.641312        35.601074        51.435585  38.662998   \n23        51.645844        35.599098        51.442066  38.363998   \n24        51.309761        35.796368        51.514473  28.323000   \n28        51.381229        35.780197        51.467113  30.767000   \n36        51.369663        35.672554        51.479824  29.271000   \n...             ...              ...              ...        ...   \n2729960   51.404385        35.796116        51.475918  25.430000   \n2729963   51.510109        35.521900        51.249054  43.882999   \n2729966   51.475269        35.750290        51.286972  19.643000   \n2729968   51.384750        35.719559        51.607353  29.955999   \n2729976   51.420135        35.485798        51.686787  43.558998   \n\n             clickhouse_time  \n20       2022-09-11 08:02:38  \n23       2022-09-11 23:02:15  \n24       2022-09-11 09:50:47  \n28       2022-09-11 15:24:33  \n36       2022-09-11 13:26:27  \n...                      ...  \n2729960  2022-10-09 09:37:49  \n2729963  2022-10-09 16:35:42  \n2729966  2022-10-09 17:08:56  \n2729968  2022-10-09 13:36:01  \n2729976  2022-10-09 10:55:43  \n\n[195360 rows x 10 columns]",
      "text/html": "<div>\n<style scoped>\n    .dataframe tbody tr th:only-of-type {\n        vertical-align: middle;\n    }\n\n    .dataframe tbody tr th {\n        vertical-align: top;\n    }\n\n    .dataframe thead th {\n        text-align: right;\n    }\n</style>\n<table border=\"1\" class=\"dataframe\">\n  <thead>\n    <tr style=\"text-align: right;\">\n      <th></th>\n      <th>eta</th>\n      <th>ata</th>\n      <th>a_t_a_result.ride_a_t_a</th>\n      <th>created_at</th>\n      <th>source_lat</th>\n      <th>source_lng</th>\n      <th>destination_lat</th>\n      <th>destination_lng</th>\n      <th>e_d_d</th>\n      <th>clickhouse_time</th>\n    </tr>\n  </thead>\n  <tbody>\n    <tr>\n      <th>20</th>\n      <td>2472</td>\n      <td>2877</td>\n      <td>2762</td>\n      <td>2022-09-11 07:07:26</td>\n      <td>35.356205</td>\n      <td>51.641312</td>\n      <td>35.601074</td>\n      <td>51.435585</td>\n      <td>38.662998</td>\n      <td>2022-09-11 08:02:38</td>\n    </tr>\n    <tr>\n      <th>23</th>\n      <td>2364</td>\n      <td>2719</td>\n      <td>2491</td>\n      <td>2022-09-11 22:03:11</td>\n      <td>35.351887</td>\n      <td>51.645844</td>\n      <td>35.599098</td>\n      <td>51.442066</td>\n      <td>38.363998</td>\n      <td>2022-09-11 23:02:15</td>\n    </tr>\n    <tr>\n      <th>24</th>\n      <td>2362</td>\n      <td>2410</td>\n      <td>2258</td>\n      <td>2022-09-11 09:02:41</td>\n      <td>35.720486</td>\n      <td>51.309761</td>\n      <td>35.796368</td>\n      <td>51.514473</td>\n      <td>28.323000</td>\n      <td>2022-09-11 09:50:47</td>\n    </tr>\n    <tr>\n      <th>28</th>\n      <td>2436</td>\n      <td>2816</td>\n      <td>3452</td>\n      <td>2022-09-11 14:17:32</td>\n      <td>35.635067</td>\n      <td>51.381229</td>\n      <td>35.780197</td>\n      <td>51.467113</td>\n      <td>30.767000</td>\n      <td>2022-09-11 15:24:33</td>\n    </tr>\n    <tr>\n      <th>36</th>\n      <td>2132</td>\n      <td>2491</td>\n      <td>2592</td>\n      <td>2022-09-11 12:36:45</td>\n      <td>35.774742</td>\n      <td>51.369663</td>\n      <td>35.672554</td>\n      <td>51.479824</td>\n      <td>29.271000</td>\n      <td>2022-09-11 13:26:27</td>\n    </tr>\n    <tr>\n      <th>...</th>\n      <td>...</td>\n      <td>...</td>\n      <td>...</td>\n      <td>...</td>\n      <td>...</td>\n      <td>...</td>\n      <td>...</td>\n      <td>...</td>\n      <td>...</td>\n      <td>...</td>\n    </tr>\n    <tr>\n      <th>2729960</th>\n      <td>2190</td>\n      <td>5258</td>\n      <td>5217</td>\n      <td>2022-10-09 06:55:00</td>\n      <td>35.628559</td>\n      <td>51.404385</td>\n      <td>35.796116</td>\n      <td>51.475918</td>\n      <td>25.430000</td>\n      <td>2022-10-09 09:37:49</td>\n    </tr>\n    <tr>\n      <th>2729963</th>\n      <td>2660</td>\n      <td>6153</td>\n      <td>5852</td>\n      <td>2022-10-09 14:43:23</td>\n      <td>35.721123</td>\n      <td>51.510109</td>\n      <td>35.521900</td>\n      <td>51.249054</td>\n      <td>43.882999</td>\n      <td>2022-10-09 16:35:42</td>\n    </tr>\n    <tr>\n      <th>2729966</th>\n      <td>2004</td>\n      <td>3809</td>\n      <td>3793</td>\n      <td>2022-10-09 15:54:14</td>\n      <td>35.764214</td>\n      <td>51.475269</td>\n      <td>35.750290</td>\n      <td>51.286972</td>\n      <td>19.643000</td>\n      <td>2022-10-09 17:08:56</td>\n    </tr>\n    <tr>\n      <th>2729968</th>\n      <td>2170</td>\n      <td>2953</td>\n      <td>2956</td>\n      <td>2022-10-09 12:37:31</td>\n      <td>35.775448</td>\n      <td>51.384750</td>\n      <td>35.719559</td>\n      <td>51.607353</td>\n      <td>29.955999</td>\n      <td>2022-10-09 13:36:01</td>\n    </tr>\n    <tr>\n      <th>2729976</th>\n      <td>3134</td>\n      <td>4588</td>\n      <td>4224</td>\n      <td>2022-10-09 09:28:07</td>\n      <td>35.735134</td>\n      <td>51.420135</td>\n      <td>35.485798</td>\n      <td>51.686787</td>\n      <td>43.558998</td>\n      <td>2022-10-09 10:55:43</td>\n    </tr>\n  </tbody>\n</table>\n<p>195360 rows × 10 columns</p>\n</div>"
     },
     "execution_count": 14,
     "metadata": {},
     "output_type": "execute_result"
    }
   ],
   "source": [
    "test_p4 = test_p4[['eta', 'ata', 'a_t_a_result.ride_a_t_a', 'created_at', 'source_lat', 'source_lng', 'destination_lat', 'destination_lng', 'e_d_d', 'clickhouse_time']]\n",
    "test_p4"
   ],
   "metadata": {
    "collapsed": false,
    "pycharm": {
     "name": "#%%\n"
    }
   }
  },
  {
   "cell_type": "code",
   "execution_count": 15,
   "outputs": [
    {
     "data": {
      "text/plain": "          eta   ata  a_t_a_result.ride_a_t_a           created_at  source_lat  \\\n21       2083  1833                     1808  2022-08-02 20:09:35   35.617275   \n40       2185  2293                     2265  2022-08-02 20:55:26   35.759720   \n58       2273  2305                     2260  2022-08-02 20:00:03   35.721745   \n74       2142  2144                     2041  2022-08-02 07:47:16   35.673149   \n85       2027  2028                     1996  2022-08-02 21:34:16   35.751251   \n...       ...   ...                      ...                  ...         ...   \n4063236  2142  2065                     2084  2022-09-10 09:14:13   35.737068   \n4063306  1824  1795                     1785  2022-09-10 17:27:22   35.768711   \n4063308  1903  2247                     2276  2022-09-10 08:43:43   35.686737   \n4063332  1969  2221                     2245  2022-09-10 15:04:43   35.588966   \n4063338  1856  2357                     2188  2022-09-10 10:39:55   35.677460   \n\n         source_lng  destination_lat  destination_lng      e_d_d  \\\n21        51.488651        35.724304        51.501282   0.000000   \n40        51.262569        35.725605        51.444698   0.000000   \n58        51.335915        35.767059        51.456818   0.000000   \n74        51.405518        35.746445        51.447365   0.000000   \n85        51.815495        35.749458        51.518780   0.000000   \n...             ...              ...              ...        ...   \n4063236   51.293900        35.790359        51.493561  27.850000   \n4063306   51.768398        35.749062        51.517361  32.625000   \n4063308   51.378422        35.766529        51.479244  20.017000   \n4063332   51.422379        35.733543        51.345242  28.209999   \n4063338   51.236629        35.709362        51.404461  19.000000   \n\n             clickhouse_time       hour  holiday  \n21       2022-08-02 20:45:39  92.159722        0  \n40       2022-08-02 21:43:43  92.923889        0  \n58       2022-08-02 20:48:05  92.000833        0  \n74       2022-08-02 08:30:58  79.787778        0  \n85       2022-08-02 22:20:48  93.571111        0  \n...                      ...        ...      ...  \n4063236  2022-09-10 10:00:34   9.236944        0  \n4063306  2022-09-10 18:05:34  17.456111        0  \n4063308  2022-09-10 09:34:47   8.728611        0  \n4063332  2022-09-10 15:50:30  15.078611        0  \n4063338  2022-09-10 11:26:09  10.665278        0  \n\n[300590 rows x 12 columns]",
      "text/html": "<div>\n<style scoped>\n    .dataframe tbody tr th:only-of-type {\n        vertical-align: middle;\n    }\n\n    .dataframe tbody tr th {\n        vertical-align: top;\n    }\n\n    .dataframe thead th {\n        text-align: right;\n    }\n</style>\n<table border=\"1\" class=\"dataframe\">\n  <thead>\n    <tr style=\"text-align: right;\">\n      <th></th>\n      <th>eta</th>\n      <th>ata</th>\n      <th>a_t_a_result.ride_a_t_a</th>\n      <th>created_at</th>\n      <th>source_lat</th>\n      <th>source_lng</th>\n      <th>destination_lat</th>\n      <th>destination_lng</th>\n      <th>e_d_d</th>\n      <th>clickhouse_time</th>\n      <th>hour</th>\n      <th>holiday</th>\n    </tr>\n  </thead>\n  <tbody>\n    <tr>\n      <th>21</th>\n      <td>2083</td>\n      <td>1833</td>\n      <td>1808</td>\n      <td>2022-08-02 20:09:35</td>\n      <td>35.617275</td>\n      <td>51.488651</td>\n      <td>35.724304</td>\n      <td>51.501282</td>\n      <td>0.000000</td>\n      <td>2022-08-02 20:45:39</td>\n      <td>92.159722</td>\n      <td>0</td>\n    </tr>\n    <tr>\n      <th>40</th>\n      <td>2185</td>\n      <td>2293</td>\n      <td>2265</td>\n      <td>2022-08-02 20:55:26</td>\n      <td>35.759720</td>\n      <td>51.262569</td>\n      <td>35.725605</td>\n      <td>51.444698</td>\n      <td>0.000000</td>\n      <td>2022-08-02 21:43:43</td>\n      <td>92.923889</td>\n      <td>0</td>\n    </tr>\n    <tr>\n      <th>58</th>\n      <td>2273</td>\n      <td>2305</td>\n      <td>2260</td>\n      <td>2022-08-02 20:00:03</td>\n      <td>35.721745</td>\n      <td>51.335915</td>\n      <td>35.767059</td>\n      <td>51.456818</td>\n      <td>0.000000</td>\n      <td>2022-08-02 20:48:05</td>\n      <td>92.000833</td>\n      <td>0</td>\n    </tr>\n    <tr>\n      <th>74</th>\n      <td>2142</td>\n      <td>2144</td>\n      <td>2041</td>\n      <td>2022-08-02 07:47:16</td>\n      <td>35.673149</td>\n      <td>51.405518</td>\n      <td>35.746445</td>\n      <td>51.447365</td>\n      <td>0.000000</td>\n      <td>2022-08-02 08:30:58</td>\n      <td>79.787778</td>\n      <td>0</td>\n    </tr>\n    <tr>\n      <th>85</th>\n      <td>2027</td>\n      <td>2028</td>\n      <td>1996</td>\n      <td>2022-08-02 21:34:16</td>\n      <td>35.751251</td>\n      <td>51.815495</td>\n      <td>35.749458</td>\n      <td>51.518780</td>\n      <td>0.000000</td>\n      <td>2022-08-02 22:20:48</td>\n      <td>93.571111</td>\n      <td>0</td>\n    </tr>\n    <tr>\n      <th>...</th>\n      <td>...</td>\n      <td>...</td>\n      <td>...</td>\n      <td>...</td>\n      <td>...</td>\n      <td>...</td>\n      <td>...</td>\n      <td>...</td>\n      <td>...</td>\n      <td>...</td>\n      <td>...</td>\n      <td>...</td>\n    </tr>\n    <tr>\n      <th>4063236</th>\n      <td>2142</td>\n      <td>2065</td>\n      <td>2084</td>\n      <td>2022-09-10 09:14:13</td>\n      <td>35.737068</td>\n      <td>51.293900</td>\n      <td>35.790359</td>\n      <td>51.493561</td>\n      <td>27.850000</td>\n      <td>2022-09-10 10:00:34</td>\n      <td>9.236944</td>\n      <td>0</td>\n    </tr>\n    <tr>\n      <th>4063306</th>\n      <td>1824</td>\n      <td>1795</td>\n      <td>1785</td>\n      <td>2022-09-10 17:27:22</td>\n      <td>35.768711</td>\n      <td>51.768398</td>\n      <td>35.749062</td>\n      <td>51.517361</td>\n      <td>32.625000</td>\n      <td>2022-09-10 18:05:34</td>\n      <td>17.456111</td>\n      <td>0</td>\n    </tr>\n    <tr>\n      <th>4063308</th>\n      <td>1903</td>\n      <td>2247</td>\n      <td>2276</td>\n      <td>2022-09-10 08:43:43</td>\n      <td>35.686737</td>\n      <td>51.378422</td>\n      <td>35.766529</td>\n      <td>51.479244</td>\n      <td>20.017000</td>\n      <td>2022-09-10 09:34:47</td>\n      <td>8.728611</td>\n      <td>0</td>\n    </tr>\n    <tr>\n      <th>4063332</th>\n      <td>1969</td>\n      <td>2221</td>\n      <td>2245</td>\n      <td>2022-09-10 15:04:43</td>\n      <td>35.588966</td>\n      <td>51.422379</td>\n      <td>35.733543</td>\n      <td>51.345242</td>\n      <td>28.209999</td>\n      <td>2022-09-10 15:50:30</td>\n      <td>15.078611</td>\n      <td>0</td>\n    </tr>\n    <tr>\n      <th>4063338</th>\n      <td>1856</td>\n      <td>2357</td>\n      <td>2188</td>\n      <td>2022-09-10 10:39:55</td>\n      <td>35.677460</td>\n      <td>51.236629</td>\n      <td>35.709362</td>\n      <td>51.404461</td>\n      <td>19.000000</td>\n      <td>2022-09-10 11:26:09</td>\n      <td>10.665278</td>\n      <td>0</td>\n    </tr>\n  </tbody>\n</table>\n<p>300590 rows × 12 columns</p>\n</div>"
     },
     "execution_count": 15,
     "metadata": {},
     "output_type": "execute_result"
    }
   ],
   "source": [
    "train_p4['hour'] = train_p4.apply(lambda row: ((datetime.timestamp(datetime.strptime(row.created_at,\"%Y-%m-%d %H:%M:%S\")) - 1662147000) % 604800) / 3600, axis=1)\n",
    "train_p4['holiday'] = train_p4.apply(lambda row: int(row.created_at.split()[0] in train_holidays), axis=1)\n",
    "train_p4"
   ],
   "metadata": {
    "collapsed": false,
    "pycharm": {
     "name": "#%%\n"
    }
   }
  },
  {
   "cell_type": "code",
   "execution_count": 16,
   "outputs": [
    {
     "data": {
      "text/plain": "          eta   ata  a_t_a_result.ride_a_t_a           created_at  source_lat  \\\n20       2472  2877                     2762  2022-09-11 07:07:26   35.356205   \n23       2364  2719                     2491  2022-09-11 22:03:11   35.351887   \n24       2362  2410                     2258  2022-09-11 09:02:41   35.720486   \n28       2436  2816                     3452  2022-09-11 14:17:32   35.635067   \n36       2132  2491                     2592  2022-09-11 12:36:45   35.774742   \n...       ...   ...                      ...                  ...         ...   \n2729960  2190  5258                     5217  2022-10-09 06:55:00   35.628559   \n2729963  2660  6153                     5852  2022-10-09 14:43:23   35.721123   \n2729966  2004  3809                     3793  2022-10-09 15:54:14   35.764214   \n2729968  2170  2953                     2956  2022-10-09 12:37:31   35.775448   \n2729976  3134  4588                     4224  2022-10-09 09:28:07   35.735134   \n\n         source_lng  destination_lat  destination_lng      e_d_d  \\\n20        51.641312        35.601074        51.435585  38.662998   \n23        51.645844        35.599098        51.442066  38.363998   \n24        51.309761        35.796368        51.514473  28.323000   \n28        51.381229        35.780197        51.467113  30.767000   \n36        51.369663        35.672554        51.479824  29.271000   \n...             ...              ...              ...        ...   \n2729960   51.404385        35.796116        51.475918  25.430000   \n2729963   51.510109        35.521900        51.249054  43.882999   \n2729966   51.475269        35.750290        51.286972  19.643000   \n2729968   51.384750        35.719559        51.607353  29.955999   \n2729976   51.420135        35.485798        51.686787  43.558998   \n\n             clickhouse_time       hour  holiday  \n20       2022-09-11 08:02:38  31.123889        0  \n23       2022-09-11 23:02:15  46.053056        0  \n24       2022-09-11 09:50:47  33.044722        0  \n28       2022-09-11 15:24:33  38.292222        0  \n36       2022-09-11 13:26:27  36.612500        0  \n...                      ...        ...      ...  \n2729960  2022-10-09 09:37:49  31.916667        0  \n2729963  2022-10-09 16:35:42  39.723056        0  \n2729966  2022-10-09 17:08:56  40.903889        0  \n2729968  2022-10-09 13:36:01  37.625278        0  \n2729976  2022-10-09 10:55:43  34.468611        0  \n\n[195360 rows x 12 columns]",
      "text/html": "<div>\n<style scoped>\n    .dataframe tbody tr th:only-of-type {\n        vertical-align: middle;\n    }\n\n    .dataframe tbody tr th {\n        vertical-align: top;\n    }\n\n    .dataframe thead th {\n        text-align: right;\n    }\n</style>\n<table border=\"1\" class=\"dataframe\">\n  <thead>\n    <tr style=\"text-align: right;\">\n      <th></th>\n      <th>eta</th>\n      <th>ata</th>\n      <th>a_t_a_result.ride_a_t_a</th>\n      <th>created_at</th>\n      <th>source_lat</th>\n      <th>source_lng</th>\n      <th>destination_lat</th>\n      <th>destination_lng</th>\n      <th>e_d_d</th>\n      <th>clickhouse_time</th>\n      <th>hour</th>\n      <th>holiday</th>\n    </tr>\n  </thead>\n  <tbody>\n    <tr>\n      <th>20</th>\n      <td>2472</td>\n      <td>2877</td>\n      <td>2762</td>\n      <td>2022-09-11 07:07:26</td>\n      <td>35.356205</td>\n      <td>51.641312</td>\n      <td>35.601074</td>\n      <td>51.435585</td>\n      <td>38.662998</td>\n      <td>2022-09-11 08:02:38</td>\n      <td>31.123889</td>\n      <td>0</td>\n    </tr>\n    <tr>\n      <th>23</th>\n      <td>2364</td>\n      <td>2719</td>\n      <td>2491</td>\n      <td>2022-09-11 22:03:11</td>\n      <td>35.351887</td>\n      <td>51.645844</td>\n      <td>35.599098</td>\n      <td>51.442066</td>\n      <td>38.363998</td>\n      <td>2022-09-11 23:02:15</td>\n      <td>46.053056</td>\n      <td>0</td>\n    </tr>\n    <tr>\n      <th>24</th>\n      <td>2362</td>\n      <td>2410</td>\n      <td>2258</td>\n      <td>2022-09-11 09:02:41</td>\n      <td>35.720486</td>\n      <td>51.309761</td>\n      <td>35.796368</td>\n      <td>51.514473</td>\n      <td>28.323000</td>\n      <td>2022-09-11 09:50:47</td>\n      <td>33.044722</td>\n      <td>0</td>\n    </tr>\n    <tr>\n      <th>28</th>\n      <td>2436</td>\n      <td>2816</td>\n      <td>3452</td>\n      <td>2022-09-11 14:17:32</td>\n      <td>35.635067</td>\n      <td>51.381229</td>\n      <td>35.780197</td>\n      <td>51.467113</td>\n      <td>30.767000</td>\n      <td>2022-09-11 15:24:33</td>\n      <td>38.292222</td>\n      <td>0</td>\n    </tr>\n    <tr>\n      <th>36</th>\n      <td>2132</td>\n      <td>2491</td>\n      <td>2592</td>\n      <td>2022-09-11 12:36:45</td>\n      <td>35.774742</td>\n      <td>51.369663</td>\n      <td>35.672554</td>\n      <td>51.479824</td>\n      <td>29.271000</td>\n      <td>2022-09-11 13:26:27</td>\n      <td>36.612500</td>\n      <td>0</td>\n    </tr>\n    <tr>\n      <th>...</th>\n      <td>...</td>\n      <td>...</td>\n      <td>...</td>\n      <td>...</td>\n      <td>...</td>\n      <td>...</td>\n      <td>...</td>\n      <td>...</td>\n      <td>...</td>\n      <td>...</td>\n      <td>...</td>\n      <td>...</td>\n    </tr>\n    <tr>\n      <th>2729960</th>\n      <td>2190</td>\n      <td>5258</td>\n      <td>5217</td>\n      <td>2022-10-09 06:55:00</td>\n      <td>35.628559</td>\n      <td>51.404385</td>\n      <td>35.796116</td>\n      <td>51.475918</td>\n      <td>25.430000</td>\n      <td>2022-10-09 09:37:49</td>\n      <td>31.916667</td>\n      <td>0</td>\n    </tr>\n    <tr>\n      <th>2729963</th>\n      <td>2660</td>\n      <td>6153</td>\n      <td>5852</td>\n      <td>2022-10-09 14:43:23</td>\n      <td>35.721123</td>\n      <td>51.510109</td>\n      <td>35.521900</td>\n      <td>51.249054</td>\n      <td>43.882999</td>\n      <td>2022-10-09 16:35:42</td>\n      <td>39.723056</td>\n      <td>0</td>\n    </tr>\n    <tr>\n      <th>2729966</th>\n      <td>2004</td>\n      <td>3809</td>\n      <td>3793</td>\n      <td>2022-10-09 15:54:14</td>\n      <td>35.764214</td>\n      <td>51.475269</td>\n      <td>35.750290</td>\n      <td>51.286972</td>\n      <td>19.643000</td>\n      <td>2022-10-09 17:08:56</td>\n      <td>40.903889</td>\n      <td>0</td>\n    </tr>\n    <tr>\n      <th>2729968</th>\n      <td>2170</td>\n      <td>2953</td>\n      <td>2956</td>\n      <td>2022-10-09 12:37:31</td>\n      <td>35.775448</td>\n      <td>51.384750</td>\n      <td>35.719559</td>\n      <td>51.607353</td>\n      <td>29.955999</td>\n      <td>2022-10-09 13:36:01</td>\n      <td>37.625278</td>\n      <td>0</td>\n    </tr>\n    <tr>\n      <th>2729976</th>\n      <td>3134</td>\n      <td>4588</td>\n      <td>4224</td>\n      <td>2022-10-09 09:28:07</td>\n      <td>35.735134</td>\n      <td>51.420135</td>\n      <td>35.485798</td>\n      <td>51.686787</td>\n      <td>43.558998</td>\n      <td>2022-10-09 10:55:43</td>\n      <td>34.468611</td>\n      <td>0</td>\n    </tr>\n  </tbody>\n</table>\n<p>195360 rows × 12 columns</p>\n</div>"
     },
     "execution_count": 16,
     "metadata": {},
     "output_type": "execute_result"
    }
   ],
   "source": [
    "test_p4['hour'] = test_p4.apply(lambda row: ((datetime.timestamp(datetime.strptime(row.created_at,\"%Y-%m-%d %H:%M:%S\")) - 1662147000) % 604800) / 3600, axis=1)\n",
    "test_p4['holiday'] = test_p4.apply(lambda row: int(row.created_at.split()[0] in test_holidays), axis=1)\n",
    "test_p4"
   ],
   "metadata": {
    "collapsed": false,
    "pycharm": {
     "name": "#%%\n"
    }
   }
  },
  {
   "cell_type": "code",
   "execution_count": 17,
   "outputs": [],
   "source": [
    "train_p4_geo_x = train_p4[[\"eta\", \"source_lat\", \"source_lng\", \"destination_lat\", \"destination_lng\", \"hour\", \"holiday\"]]\n",
    "train_p4_geo_y = train_p4[\"a_t_a_result.ride_a_t_a\"]"
   ],
   "metadata": {
    "collapsed": false,
    "pycharm": {
     "name": "#%%\n"
    }
   }
  },
  {
   "cell_type": "code",
   "execution_count": 18,
   "outputs": [],
   "source": [
    "test_p4_geo_x = test_p4[[\"eta\", \"source_lat\", \"source_lng\", \"destination_lat\", \"destination_lng\", \"hour\", \"holiday\"]]\n",
    "test_p4_geo_y = test_p4[\"a_t_a_result.ride_a_t_a\"]"
   ],
   "metadata": {
    "collapsed": false,
    "pycharm": {
     "name": "#%%\n"
    }
   }
  },
  {
   "cell_type": "code",
   "execution_count": 21,
   "outputs": [
    {
     "name": "stderr",
     "output_type": "stream",
     "text": [
      "/var/folders/yq/707ysz_j3jlggmtk5clx13rm0000gn/T/ipykernel_27541/3183332429.py:1: SettingWithCopyWarning: \n",
      "A value is trying to be set on a copy of a slice from a DataFrame.\n",
      "Try using .loc[row_indexer,col_indexer] = value instead\n",
      "\n",
      "See the caveats in the documentation: https://pandas.pydata.org/pandas-docs/stable/user_guide/indexing.html#returning-a-view-versus-a-copy\n",
      "  train_p4_geo_x['hour'] = train_p4_geo_x['hour'] % 24\n",
      "/var/folders/yq/707ysz_j3jlggmtk5clx13rm0000gn/T/ipykernel_27541/3183332429.py:2: SettingWithCopyWarning: \n",
      "A value is trying to be set on a copy of a slice from a DataFrame.\n",
      "Try using .loc[row_indexer,col_indexer] = value instead\n",
      "\n",
      "See the caveats in the documentation: https://pandas.pydata.org/pandas-docs/stable/user_guide/indexing.html#returning-a-view-versus-a-copy\n",
      "  test_p4_geo_x['hour'] = test_p4_geo_x['hour'] % 24\n"
     ]
    },
    {
     "data": {
      "text/plain": "          eta  source_lat  source_lng  destination_lat  destination_lng  \\\n21       2083   35.617275   51.488651        35.724304        51.501282   \n40       2185   35.759720   51.262569        35.725605        51.444698   \n58       2273   35.721745   51.335915        35.767059        51.456818   \n74       2142   35.673149   51.405518        35.746445        51.447365   \n85       2027   35.751251   51.815495        35.749458        51.518780   \n...       ...         ...         ...              ...              ...   \n4063236  2142   35.737068   51.293900        35.790359        51.493561   \n4063306  1824   35.768711   51.768398        35.749062        51.517361   \n4063308  1903   35.686737   51.378422        35.766529        51.479244   \n4063332  1969   35.588966   51.422379        35.733543        51.345242   \n4063338  1856   35.677460   51.236629        35.709362        51.404461   \n\n              hour  holiday  \n21       20.159722        0  \n40       20.923889        0  \n58       20.000833        0  \n74        7.787778        0  \n85       21.571111        0  \n...            ...      ...  \n4063236   9.236944        0  \n4063306  17.456111        0  \n4063308   8.728611        0  \n4063332  15.078611        0  \n4063338  10.665278        0  \n\n[300590 rows x 7 columns]",
      "text/html": "<div>\n<style scoped>\n    .dataframe tbody tr th:only-of-type {\n        vertical-align: middle;\n    }\n\n    .dataframe tbody tr th {\n        vertical-align: top;\n    }\n\n    .dataframe thead th {\n        text-align: right;\n    }\n</style>\n<table border=\"1\" class=\"dataframe\">\n  <thead>\n    <tr style=\"text-align: right;\">\n      <th></th>\n      <th>eta</th>\n      <th>source_lat</th>\n      <th>source_lng</th>\n      <th>destination_lat</th>\n      <th>destination_lng</th>\n      <th>hour</th>\n      <th>holiday</th>\n    </tr>\n  </thead>\n  <tbody>\n    <tr>\n      <th>21</th>\n      <td>2083</td>\n      <td>35.617275</td>\n      <td>51.488651</td>\n      <td>35.724304</td>\n      <td>51.501282</td>\n      <td>20.159722</td>\n      <td>0</td>\n    </tr>\n    <tr>\n      <th>40</th>\n      <td>2185</td>\n      <td>35.759720</td>\n      <td>51.262569</td>\n      <td>35.725605</td>\n      <td>51.444698</td>\n      <td>20.923889</td>\n      <td>0</td>\n    </tr>\n    <tr>\n      <th>58</th>\n      <td>2273</td>\n      <td>35.721745</td>\n      <td>51.335915</td>\n      <td>35.767059</td>\n      <td>51.456818</td>\n      <td>20.000833</td>\n      <td>0</td>\n    </tr>\n    <tr>\n      <th>74</th>\n      <td>2142</td>\n      <td>35.673149</td>\n      <td>51.405518</td>\n      <td>35.746445</td>\n      <td>51.447365</td>\n      <td>7.787778</td>\n      <td>0</td>\n    </tr>\n    <tr>\n      <th>85</th>\n      <td>2027</td>\n      <td>35.751251</td>\n      <td>51.815495</td>\n      <td>35.749458</td>\n      <td>51.518780</td>\n      <td>21.571111</td>\n      <td>0</td>\n    </tr>\n    <tr>\n      <th>...</th>\n      <td>...</td>\n      <td>...</td>\n      <td>...</td>\n      <td>...</td>\n      <td>...</td>\n      <td>...</td>\n      <td>...</td>\n    </tr>\n    <tr>\n      <th>4063236</th>\n      <td>2142</td>\n      <td>35.737068</td>\n      <td>51.293900</td>\n      <td>35.790359</td>\n      <td>51.493561</td>\n      <td>9.236944</td>\n      <td>0</td>\n    </tr>\n    <tr>\n      <th>4063306</th>\n      <td>1824</td>\n      <td>35.768711</td>\n      <td>51.768398</td>\n      <td>35.749062</td>\n      <td>51.517361</td>\n      <td>17.456111</td>\n      <td>0</td>\n    </tr>\n    <tr>\n      <th>4063308</th>\n      <td>1903</td>\n      <td>35.686737</td>\n      <td>51.378422</td>\n      <td>35.766529</td>\n      <td>51.479244</td>\n      <td>8.728611</td>\n      <td>0</td>\n    </tr>\n    <tr>\n      <th>4063332</th>\n      <td>1969</td>\n      <td>35.588966</td>\n      <td>51.422379</td>\n      <td>35.733543</td>\n      <td>51.345242</td>\n      <td>15.078611</td>\n      <td>0</td>\n    </tr>\n    <tr>\n      <th>4063338</th>\n      <td>1856</td>\n      <td>35.677460</td>\n      <td>51.236629</td>\n      <td>35.709362</td>\n      <td>51.404461</td>\n      <td>10.665278</td>\n      <td>0</td>\n    </tr>\n  </tbody>\n</table>\n<p>300590 rows × 7 columns</p>\n</div>"
     },
     "execution_count": 21,
     "metadata": {},
     "output_type": "execute_result"
    }
   ],
   "source": [
    "train_p4_geo_x['hour'] = train_p4_geo_x['hour'] % 24\n",
    "test_p4_geo_x['hour'] = test_p4_geo_x['hour'] % 24"
   ],
   "metadata": {
    "collapsed": false,
    "pycharm": {
     "name": "#%%\n"
    }
   }
  },
  {
   "cell_type": "code",
   "execution_count": 23,
   "outputs": [],
   "source": [
    "first_x = train_p4_geo_x[(train_p4_geo_x['hour'] < 6.5) | (train_p4_geo_x['hour'] > 23)]\n",
    "first_y = train_p4_geo_y[(train_p4_geo_x['hour'] < 6.5) | (train_p4_geo_x['hour'] > 23)]\n",
    "\n",
    "second_x = train_p4_geo_x[(train_p4_geo_x['hour'] > 6.5) & (train_p4_geo_x['hour'] < 23)]\n",
    "second_y = train_p4_geo_y[(train_p4_geo_x['hour'] > 6.5) & (train_p4_geo_x['hour'] < 23)]"
   ],
   "metadata": {
    "collapsed": false,
    "pycharm": {
     "name": "#%%\n"
    }
   }
  },
  {
   "cell_type": "code",
   "execution_count": 25,
   "outputs": [],
   "source": [
    "reg_first_p4 = LinearRegression().fit(first_x, first_y)\n",
    "reg_second_p4 = LinearRegression().fit(second_x, second_y)"
   ],
   "metadata": {
    "collapsed": false,
    "pycharm": {
     "name": "#%%\n"
    }
   }
  },
  {
   "cell_type": "code",
   "execution_count": 26,
   "outputs": [
    {
     "name": "stdout",
     "output_type": "stream",
     "text": [
      "[   1.01430841 -442.64416401  158.41578121  220.16947733   36.27985656\n",
      "   -7.63334469   -4.7490451 ]\n",
      "-1909.0996283407426\n",
      "[   1.22592675  705.23370022   88.98100326  558.14963141  200.29642642\n",
      "   -4.72235508 -189.92845048]\n",
      "-59948.291997675944\n"
     ]
    }
   ],
   "source": [
    "print(reg_first_p4.coef_)\n",
    "print(reg_first_p4.intercept_)\n",
    "\n",
    "print(reg_second_p4.coef_)\n",
    "print(reg_second_p4.intercept_)"
   ],
   "metadata": {
    "collapsed": false,
    "pycharm": {
     "name": "#%%\n"
    }
   }
  },
  {
   "cell_type": "code",
   "execution_count": 27,
   "outputs": [
    {
     "name": "stderr",
     "output_type": "stream",
     "text": [
      "/var/folders/yq/707ysz_j3jlggmtk5clx13rm0000gn/T/ipykernel_27541/1855433611.py:1: SettingWithCopyWarning: \n",
      "A value is trying to be set on a copy of a slice from a DataFrame.\n",
      "Try using .loc[row_indexer,col_indexer] = value instead\n",
      "\n",
      "See the caveats in the documentation: https://pandas.pydata.org/pandas-docs/stable/user_guide/indexing.html#returning-a-view-versus-a-copy\n",
      "  train_p4_geo_x['pred'] = 0\n"
     ]
    },
    {
     "data": {
      "text/plain": "          eta  source_lat  source_lng  destination_lat  destination_lng  \\\n21       2083   35.617275   51.488651        35.724304        51.501282   \n40       2185   35.759720   51.262569        35.725605        51.444698   \n58       2273   35.721745   51.335915        35.767059        51.456818   \n74       2142   35.673149   51.405518        35.746445        51.447365   \n85       2027   35.751251   51.815495        35.749458        51.518780   \n...       ...         ...         ...              ...              ...   \n4063236  2142   35.737068   51.293900        35.790359        51.493561   \n4063306  1824   35.768711   51.768398        35.749062        51.517361   \n4063308  1903   35.686737   51.378422        35.766529        51.479244   \n4063332  1969   35.588966   51.422379        35.733543        51.345242   \n4063338  1856   35.677460   51.236629        35.709362        51.404461   \n\n              hour  holiday  pred  \n21       20.159722        0     0  \n40       20.923889        0     0  \n58       20.000833        0     0  \n74        7.787778        0     0  \n85       21.571111        0     0  \n...            ...      ...   ...  \n4063236   9.236944        0     0  \n4063306  17.456111        0     0  \n4063308   8.728611        0     0  \n4063332  15.078611        0     0  \n4063338  10.665278        0     0  \n\n[300590 rows x 8 columns]",
      "text/html": "<div>\n<style scoped>\n    .dataframe tbody tr th:only-of-type {\n        vertical-align: middle;\n    }\n\n    .dataframe tbody tr th {\n        vertical-align: top;\n    }\n\n    .dataframe thead th {\n        text-align: right;\n    }\n</style>\n<table border=\"1\" class=\"dataframe\">\n  <thead>\n    <tr style=\"text-align: right;\">\n      <th></th>\n      <th>eta</th>\n      <th>source_lat</th>\n      <th>source_lng</th>\n      <th>destination_lat</th>\n      <th>destination_lng</th>\n      <th>hour</th>\n      <th>holiday</th>\n      <th>pred</th>\n    </tr>\n  </thead>\n  <tbody>\n    <tr>\n      <th>21</th>\n      <td>2083</td>\n      <td>35.617275</td>\n      <td>51.488651</td>\n      <td>35.724304</td>\n      <td>51.501282</td>\n      <td>20.159722</td>\n      <td>0</td>\n      <td>0</td>\n    </tr>\n    <tr>\n      <th>40</th>\n      <td>2185</td>\n      <td>35.759720</td>\n      <td>51.262569</td>\n      <td>35.725605</td>\n      <td>51.444698</td>\n      <td>20.923889</td>\n      <td>0</td>\n      <td>0</td>\n    </tr>\n    <tr>\n      <th>58</th>\n      <td>2273</td>\n      <td>35.721745</td>\n      <td>51.335915</td>\n      <td>35.767059</td>\n      <td>51.456818</td>\n      <td>20.000833</td>\n      <td>0</td>\n      <td>0</td>\n    </tr>\n    <tr>\n      <th>74</th>\n      <td>2142</td>\n      <td>35.673149</td>\n      <td>51.405518</td>\n      <td>35.746445</td>\n      <td>51.447365</td>\n      <td>7.787778</td>\n      <td>0</td>\n      <td>0</td>\n    </tr>\n    <tr>\n      <th>85</th>\n      <td>2027</td>\n      <td>35.751251</td>\n      <td>51.815495</td>\n      <td>35.749458</td>\n      <td>51.518780</td>\n      <td>21.571111</td>\n      <td>0</td>\n      <td>0</td>\n    </tr>\n    <tr>\n      <th>...</th>\n      <td>...</td>\n      <td>...</td>\n      <td>...</td>\n      <td>...</td>\n      <td>...</td>\n      <td>...</td>\n      <td>...</td>\n      <td>...</td>\n    </tr>\n    <tr>\n      <th>4063236</th>\n      <td>2142</td>\n      <td>35.737068</td>\n      <td>51.293900</td>\n      <td>35.790359</td>\n      <td>51.493561</td>\n      <td>9.236944</td>\n      <td>0</td>\n      <td>0</td>\n    </tr>\n    <tr>\n      <th>4063306</th>\n      <td>1824</td>\n      <td>35.768711</td>\n      <td>51.768398</td>\n      <td>35.749062</td>\n      <td>51.517361</td>\n      <td>17.456111</td>\n      <td>0</td>\n      <td>0</td>\n    </tr>\n    <tr>\n      <th>4063308</th>\n      <td>1903</td>\n      <td>35.686737</td>\n      <td>51.378422</td>\n      <td>35.766529</td>\n      <td>51.479244</td>\n      <td>8.728611</td>\n      <td>0</td>\n      <td>0</td>\n    </tr>\n    <tr>\n      <th>4063332</th>\n      <td>1969</td>\n      <td>35.588966</td>\n      <td>51.422379</td>\n      <td>35.733543</td>\n      <td>51.345242</td>\n      <td>15.078611</td>\n      <td>0</td>\n      <td>0</td>\n    </tr>\n    <tr>\n      <th>4063338</th>\n      <td>1856</td>\n      <td>35.677460</td>\n      <td>51.236629</td>\n      <td>35.709362</td>\n      <td>51.404461</td>\n      <td>10.665278</td>\n      <td>0</td>\n      <td>0</td>\n    </tr>\n  </tbody>\n</table>\n<p>300590 rows × 8 columns</p>\n</div>"
     },
     "execution_count": 27,
     "metadata": {},
     "output_type": "execute_result"
    }
   ],
   "source": [
    "train_p4_geo_x['pred'] = 0\n",
    "train_p4_geo_x"
   ],
   "metadata": {
    "collapsed": false,
    "pycharm": {
     "name": "#%%\n"
    }
   }
  },
  {
   "cell_type": "code",
   "execution_count": 76,
   "outputs": [
    {
     "name": "stderr",
     "output_type": "stream",
     "text": [
      "/var/folders/yq/707ysz_j3jlggmtk5clx13rm0000gn/T/ipykernel_27541/2874482938.py:1: SettingWithCopyWarning: \n",
      "A value is trying to be set on a copy of a slice from a DataFrame\n",
      "\n",
      "See the caveats in the documentation: https://pandas.pydata.org/pandas-docs/stable/user_guide/indexing.html#returning-a-view-versus-a-copy\n",
      "  train_p4_geo_x['pred'][(train_p4_geo_x['hour'] < 6.5) | (train_p4_geo_x['hour'] > 23)] = reg_first_p4.predict(train_p4_geo_x[[\"eta\", \"source_lat\", \"source_lng\", \"destination_lat\", \"destination_lng\", \"hour\", \"holiday\"]][(train_p4_geo_x['hour'] < 6.5) | (train_p4_geo_x['hour'] > 23)])\n",
      "/var/folders/yq/707ysz_j3jlggmtk5clx13rm0000gn/T/ipykernel_27541/2874482938.py:1: SettingWithCopyWarning: \n",
      "A value is trying to be set on a copy of a slice from a DataFrame\n",
      "\n",
      "See the caveats in the documentation: https://pandas.pydata.org/pandas-docs/stable/user_guide/indexing.html#returning-a-view-versus-a-copy\n",
      "  train_p4_geo_x['pred'][(train_p4_geo_x['hour'] < 6.5) | (train_p4_geo_x['hour'] > 23)] = reg_first_p4.predict(train_p4_geo_x[[\"eta\", \"source_lat\", \"source_lng\", \"destination_lat\", \"destination_lng\", \"hour\", \"holiday\"]][(train_p4_geo_x['hour'] < 6.5) | (train_p4_geo_x['hour'] > 23)])\n"
     ]
    }
   ],
   "source": [
    "train_p4_geo_x['pred'][(train_p4_geo_x['hour'] < 6.5) | (train_p4_geo_x['hour'] > 23)] = reg_first_p4.predict(train_p4_geo_x[[\"eta\", \"source_lat\", \"source_lng\", \"destination_lat\", \"destination_lng\", \"hour\", \"holiday\"]][(train_p4_geo_x['hour'] < 6.5) | (train_p4_geo_x['hour'] > 23)])"
   ],
   "metadata": {
    "collapsed": false,
    "pycharm": {
     "name": "#%%\n"
    }
   }
  },
  {
   "cell_type": "code",
   "execution_count": 79,
   "outputs": [
    {
     "name": "stderr",
     "output_type": "stream",
     "text": [
      "/var/folders/yq/707ysz_j3jlggmtk5clx13rm0000gn/T/ipykernel_27541/2868974358.py:1: SettingWithCopyWarning: \n",
      "A value is trying to be set on a copy of a slice from a DataFrame\n",
      "\n",
      "See the caveats in the documentation: https://pandas.pydata.org/pandas-docs/stable/user_guide/indexing.html#returning-a-view-versus-a-copy\n",
      "  train_p4_geo_x['pred'][(train_p4_geo_x['hour'] > 6.5) & (train_p4_geo_x['hour'] < 23)] = reg_second_p4.predict(train_p4_geo_x[[\"eta\", \"source_lat\", \"source_lng\", \"destination_lat\", \"destination_lng\", \"hour\", \"holiday\"]][(train_p4_geo_x['hour'] > 6.5) & (train_p4_geo_x['hour'] < 23)])\n",
      "/var/folders/yq/707ysz_j3jlggmtk5clx13rm0000gn/T/ipykernel_27541/2868974358.py:1: SettingWithCopyWarning: \n",
      "A value is trying to be set on a copy of a slice from a DataFrame\n",
      "\n",
      "See the caveats in the documentation: https://pandas.pydata.org/pandas-docs/stable/user_guide/indexing.html#returning-a-view-versus-a-copy\n",
      "  train_p4_geo_x['pred'][(train_p4_geo_x['hour'] > 6.5) & (train_p4_geo_x['hour'] < 23)] = reg_second_p4.predict(train_p4_geo_x[[\"eta\", \"source_lat\", \"source_lng\", \"destination_lat\", \"destination_lng\", \"hour\", \"holiday\"]][(train_p4_geo_x['hour'] > 6.5) & (train_p4_geo_x['hour'] < 23)])\n"
     ]
    }
   ],
   "source": [
    "train_p4_geo_x['pred'][(train_p4_geo_x['hour'] > 6.5) & (train_p4_geo_x['hour'] < 23)] = reg_second_p4.predict(train_p4_geo_x[[\"eta\", \"source_lat\", \"source_lng\", \"destination_lat\", \"destination_lng\", \"hour\", \"holiday\"]][(train_p4_geo_x['hour'] > 6.5) & (train_p4_geo_x['hour'] < 23)])"
   ],
   "metadata": {
    "collapsed": false,
    "pycharm": {
     "name": "#%%\n"
    }
   }
  },
  {
   "cell_type": "code",
   "execution_count": 80,
   "outputs": [
    {
     "data": {
      "text/plain": "21         2465.156629\n40         2656.324836\n58         2773.875407\n74         2629.476184\n85         2530.951420\n              ...     \n4063236    2691.542617\n4063306    2309.137729\n4063308    2356.803836\n4063332    2297.436969\n4063338    2223.993532\nName: pred, Length: 300590, dtype: float64"
     },
     "execution_count": 80,
     "metadata": {},
     "output_type": "execute_result"
    }
   ],
   "source": [
    "train_p4_geo_x['pred']"
   ],
   "metadata": {
    "collapsed": false,
    "pycharm": {
     "name": "#%%\n"
    }
   }
  },
  {
   "cell_type": "code",
   "execution_count": 81,
   "outputs": [
    {
     "name": "stdout",
     "output_type": "stream",
     "text": [
      "ETA train MAE 559.1245583685419\n",
      "prediction train MAE 468.1259342068722\n",
      "ETA train MSE 725204.4950297747\n",
      "prediction train MSE 472135.34022498614\n",
      "ETA train explained_variance_score 0.5549098531235372\n",
      "prediction train explained_variance_score 0.5819591144686023\n",
      "ETA train median_absolute_error 354.0\n",
      "prediction train median_absolute_error 349.21222678736285\n",
      "ETA train r2_score 0.3578851158459555\n",
      "prediction train r2_score 0.581959114468602\n",
      "ETA train MAPE 0.1669508370795257\n",
      "prediction train MAPE 0.1603888535739989\n"
     ]
    }
   ],
   "source": [
    "print(\"ETA train MAE\", mean_absolute_error(train_p4_geo_y, train_p4_geo_x['eta']))\n",
    "print(\"prediction train MAE\", mean_absolute_error(train_p4_geo_y, train_p4_geo_x['pred']))\n",
    "\n",
    "# print(\"ETA test MAE \", mean_absolute_error(test_inside_y, test_inside_x['eta']))\n",
    "# print(\"prediction test MAE\", mean_absolute_error(test_inside_y, test_pred_geo))\n",
    "\n",
    "\n",
    "print(\"ETA train MSE\", mean_squared_error(train_p4_geo_y, train_p4_geo_x['eta']))\n",
    "print(\"prediction train MSE\", mean_squared_error(train_p4_geo_y, train_p4_geo_x['pred']))\n",
    "\n",
    "# print(\"ETA test MSE \", mean_squared_error(test_inside_y, test_inside_x['eta']))\n",
    "# print(\"prediction test MSE\", mean_squared_error(test_inside_y, test_pred_geo))\n",
    "\n",
    "\n",
    "print(\"ETA train explained_variance_score\", explained_variance_score(train_p4_geo_y, train_p4_geo_x['eta']))\n",
    "print(\"prediction train explained_variance_score\", explained_variance_score(train_p4_geo_y, train_p4_geo_x['pred']))\n",
    "\n",
    "# print(\"ETA test explained_variance_score \", explained_variance_score(test_inside_y, test_inside_x['eta']))\n",
    "# print(\"prediction test explained_variance_score\", explained_variance_score(test_inside_y, test_pred_geo))\n",
    "\n",
    "\n",
    "print(\"ETA train median_absolute_error\", median_absolute_error(train_p4_geo_y, train_p4_geo_x['eta']))\n",
    "print(\"prediction train median_absolute_error\", median_absolute_error(train_p4_geo_y, train_p4_geo_x['pred']))\n",
    "\n",
    "# print(\"ETA test median_absolute_error \", median_absolute_error(test_inside_y, test_inside_x['eta']))\n",
    "# print(\"prediction test median_absolute_error\", median_absolute_error(test_inside_y, test_pred_geo))\n",
    "\n",
    "\n",
    "print(\"ETA train r2_score\", r2_score(train_p4_geo_y, train_p4_geo_x['eta']))\n",
    "print(\"prediction train r2_score\", r2_score(train_p4_geo_y, train_p4_geo_x['pred']))\n",
    "\n",
    "# print(\"ETA test r2_score \", r2_score(test_inside_y, test_inside_x['eta']))\n",
    "# print(\"prediction test r2_score\", r2_score(test_inside_y, test_pred_geo))\n",
    "\n",
    "\n",
    "print(\"ETA train MAPE\", mean_absolute_percentage_error(train_p4_geo_y, train_p4_geo_x['eta']))\n",
    "print(\"prediction train MAPE\", mean_absolute_percentage_error(train_p4_geo_y, train_p4_geo_x['pred']))\n",
    "\n",
    "# print(\"ETA test MAPE \", mean_absolute_percentage_error(test_inside_y, test_inside_x['eta']))\n",
    "# print(\"prediction test MAPE\", mean_absolute_percentage_error(test_inside_y, test_pred_geo))"
   ],
   "metadata": {
    "collapsed": false,
    "pycharm": {
     "name": "#%%\n"
    }
   }
  },
  {
   "cell_type": "code",
   "execution_count": 46,
   "outputs": [
    {
     "name": "stdout",
     "output_type": "stream",
     "text": [
      "[ 0.95267888  0.03992745  0.01639903  0.14161629  0.07104881 -0.00869313\n",
      " -0.01985985]\n",
      "0.027375837176890544\n"
     ]
    }
   ],
   "source": [
    "train_p4_geo_x_normalized = (train_p4_geo_x - train_p4_geo_x.min()) / (train_p4_geo_x.max() - train_p4_geo_x.min())\n",
    "train_p4_geo_y_normalized = (train_p4_geo_y - train_p4_geo_y.min()) / (train_p4_geo_y.max() - train_p4_geo_y.min())\n",
    "# test_p4_geo_x_normalized = (test_p4_geo_x - train_p4_geo_x.min()) / (train_p4_geo_x.max() - train_p4_geo_x.min())\n",
    "# test_p4_geo_y_normalized = (test_p4_geo_y - train_p4_geo_y.min()) / (train_p4_geo_y.max() - train_p4_geo_y.min())\n",
    "\n",
    "reg_p4_geo_normalized = LinearRegression().fit(train_p4_geo_x_normalized, train_p4_geo_y_normalized)\n",
    "print(reg_p4_geo_normalized.coef_)\n",
    "print(reg_p4_geo_normalized.intercept_)"
   ],
   "metadata": {
    "collapsed": false,
    "pycharm": {
     "name": "#%%\n"
    }
   }
  },
  {
   "cell_type": "code",
   "execution_count": 39,
   "outputs": [
    {
     "name": "stdout",
     "output_type": "stream",
     "text": [
      "ETA train MAE 558.6899742605314\n",
      "prediction train MAE 468.32320172854264\n",
      "ETA test MAE  609.4802658229795\n",
      "prediction test MAE 532.3905549659162\n",
      "ETA train MSE 724259.5492995734\n",
      "prediction train MSE 474510.4137146755\n",
      "ETA test MSE  1005379.4640005743\n",
      "prediction test MSE 706504.3378821977\n",
      "ETA train explained_variance_score 0.5486781823287357\n",
      "prediction train explained_variance_score 0.5735345690702949\n",
      "ETA test explained_variance_score  0.4753275329161858\n",
      "prediction test explained_variance_score 0.5084530615897137\n",
      "ETA train median_absolute_error 353.0\n",
      "prediction train median_absolute_error 347.19482421875\n",
      "ETA test median_absolute_error  352.0\n",
      "prediction test median_absolute_error 366.8814697265625\n",
      "ETA train r2_score 0.3490729563150865\n",
      "prediction train r2_score 0.5735345690702917\n",
      "ETA test r2_score  0.2984759208241079\n",
      "prediction test r2_score 0.5070221515223838\n",
      "ETA train MAPE 0.16697790395524195\n",
      "prediction train MAPE 0.1610154609737745\n",
      "ETA test MAPE  0.1730999583791752\n",
      "prediction test MAPE 0.17448530280936583\n"
     ]
    }
   ],
   "source": [
    "print(\"ETA train MAE\", mean_absolute_error(train_p4_h3_y, train_p4_h3_x[:, 17]))\n",
    "print(\"prediction train MAE\", mean_absolute_error(train_p4_h3_y, train_pred_h3))\n",
    "\n",
    "print(\"ETA test MAE \", mean_absolute_error(test_p4_h3_y, test_p4_h3_x[:, 17]))\n",
    "print(\"prediction test MAE\", mean_absolute_error(test_p4_h3_y, test_pred_h3))\n",
    "\n",
    "\n",
    "print(\"ETA train MSE\", mean_squared_error(train_p4_h3_y, train_p4_h3_x[:, 17]))\n",
    "print(\"prediction train MSE\", mean_squared_error(train_p4_h3_y, train_pred_h3))\n",
    "\n",
    "print(\"ETA test MSE \", mean_squared_error(test_p4_h3_y, test_p4_h3_x[:, 17]))\n",
    "print(\"prediction test MSE\", mean_squared_error(test_p4_h3_y, test_pred_h3))\n",
    "\n",
    "\n",
    "print(\"ETA train explained_variance_score\", explained_variance_score(train_p4_h3_y, train_p4_h3_x[:, 17]))\n",
    "print(\"prediction train explained_variance_score\", explained_variance_score(train_p4_h3_y, train_pred_h3))\n",
    "\n",
    "print(\"ETA test explained_variance_score \", explained_variance_score(test_p4_h3_y, test_p4_h3_x[:, 17]))\n",
    "print(\"prediction test explained_variance_score\", explained_variance_score(test_p4_h3_y, test_pred_h3))\n",
    "\n",
    "\n",
    "print(\"ETA train median_absolute_error\", median_absolute_error(train_p4_h3_y, train_p4_h3_x[:, 17]))\n",
    "print(\"prediction train median_absolute_error\", median_absolute_error(train_p4_h3_y, train_pred_h3))\n",
    "\n",
    "print(\"ETA test median_absolute_error \", median_absolute_error(test_p4_h3_y, test_p4_h3_x[:, 17]))\n",
    "print(\"prediction test median_absolute_error\", median_absolute_error(test_p4_h3_y, test_pred_h3))\n",
    "\n",
    "\n",
    "print(\"ETA train r2_score\", r2_score(train_p4_h3_y, train_p4_h3_x[:, 17]))\n",
    "print(\"prediction train r2_score\", r2_score(train_p4_h3_y, train_pred_h3))\n",
    "\n",
    "print(\"ETA test r2_score \", r2_score(test_p4_h3_y, test_p4_h3_x[:, 17]))\n",
    "print(\"prediction test r2_score\", r2_score(test_p4_h3_y, test_pred_h3))\n",
    "\n",
    "\n",
    "print(\"ETA train MAPE\", mean_absolute_percentage_error(train_p4_h3_y, train_p4_h3_x[:, 17]))\n",
    "print(\"prediction train MAPE\", mean_absolute_percentage_error(train_p4_h3_y, train_pred_h3))\n",
    "\n",
    "print(\"ETA test MAPE \", mean_absolute_percentage_error(test_p4_h3_y, test_p4_h3_x[:, 17]))\n",
    "print(\"prediction test MAPE\", mean_absolute_percentage_error(test_p4_h3_y, test_pred_h3))"
   ],
   "metadata": {
    "collapsed": false,
    "pycharm": {
     "name": "#%%\n"
    }
   }
  },
  {
   "cell_type": "code",
   "execution_count": 47,
   "outputs": [
    {
     "name": "stdout",
     "output_type": "stream",
     "text": [
      "[ 3.38839243e+11  3.38839243e+11  3.38839244e+11  3.38839243e+11\n",
      "  3.38839243e+11  3.38839243e+11  3.38839243e+11 -1.81469415e+11\n",
      " -1.81469415e+11 -1.81469415e+11 -1.81469415e+11 -1.81469415e+11\n",
      " -1.81469415e+11 -1.81469415e+11 -1.81469415e+11 -1.81469415e+11\n",
      " -1.81469415e+11  1.10072538e+00 -4.58049363e-01 -1.50679642e+02]\n",
      "-17055362.3876918\n"
     ]
    }
   ],
   "source": [
    "train_p4_h3_x_normalized = (train_p4_h3_x - train_p4_h3_x.min()) / (train_p4_h3_x.max() - train_p4_h3_x.min())\n",
    "train_p4_h3_y_normalized = (train_p4_h3_y - train_p4_h3_y.min()) / (train_p4_h3_y.max() - train_p4_h3_y.min())\n",
    "# test_p4_h3_x_normalized = (test_p4_h3_x - train_p4_h3_x.min()) / (train_p4_h3_x.max() - train_p4_h3_x.min())\n",
    "# test_p4_h3_y_normalized = (test_p4_h3_y - train_p4_h3_y.min()) / (train_p4_h3_y.max() - train_p4_h3_y.min())\n",
    "\n",
    "reg_p4_h3_normalized = LinearRegression().fit(train_p4_h3_x_normalized, train_p4_h3_y_normalized)\n",
    "print(reg_p4_h3_normalized.coef_)\n",
    "print(reg_p4_h3_normalized.intercept_)"
   ],
   "metadata": {
    "collapsed": false,
    "pycharm": {
     "name": "#%%\n"
    }
   }
  },
  {
   "cell_type": "code",
   "execution_count": null,
   "outputs": [],
   "source": [
    "%set_env AWS_ACCESS_KEY_ID=SokXIEc1g9vNqCJt4CSObyk6vumoOOPQ\n",
    "%set_env AWS_SECRET_ACCESS_KEY=QNyTpGhFjUTYSP9VKmfhpUizwKr0t8gk\n",
    "%set_env MLFLOW_S3_ENDPOINT_URL=https://minio-clustered-smapp-storage.apps.private.teh-1.snappcloud.io\n",
    "\n",
    "# create experiment\n",
    "%set_env MLFLOW_TRACKING_URI=https://mlflow.apps.private.okd4.teh-1.snappcloud.io/\n",
    "# mlflow experiments create --experiment-name elahe\n",
    "\n",
    "# run script under experiment\n",
    "%set_env MLFLOW_EXPERIMENT_NAME=elahe\n",
    "# cd save/\n",
    "# python test.py"
   ],
   "metadata": {
    "collapsed": false,
    "pycharm": {
     "name": "#%%\n"
    }
   }
  },
  {
   "cell_type": "code",
   "execution_count": null,
   "outputs": [],
   "source": [
    "! echo $AWS_ACCESS_KEY_ID\n",
    "! echo $AWS_SECRET_ACCESS_KEY\n",
    "! echo $MLFLOW_S3_ENDPOINT_URL\n",
    "! echo $MLFLOW_TRACKING_URI\n",
    "! echo $MLFLOW_EXPERIMENT_NAME"
   ],
   "metadata": {
    "collapsed": false,
    "pycharm": {
     "name": "#%%\n"
    }
   }
  },
  {
   "cell_type": "code",
   "execution_count": null,
   "outputs": [],
   "source": [
    "# with mlflow.start_run(run_name=\"regression\") as run:\n",
    "#     # Log the sklearn model and register as version 1\n",
    "#     mlflow.sklearn.log_model(\n",
    "#         sk_model=reg_p4,\n",
    "#         artifact_path=\"regression\",\n",
    "#         registered_model_name=\"reg-model\"\n",
    "#     )"
   ],
   "metadata": {
    "collapsed": false,
    "pycharm": {
     "name": "#%%\n"
    }
   }
  },
  {
   "cell_type": "code",
   "execution_count": null,
   "outputs": [],
   "source": [
    "# with mlflow.start_run(run_name=\"YOUR_RUN_NAME\") as run:\n",
    "#     params = {\"n_estimators\": 5, \"random_state\": 42}\n",
    "#     sk_learn_rfr = RandomForestRegressor(**params)\n",
    "#\n",
    "#     # Log parameters and metrics using the MLflow APIs\n",
    "#     mlflow.log_params(params)\n",
    "#     mlflow.log_param(\"param_1\", randint(0, 100))\n",
    "#     mlflow.log_metrics({\"metric_1\": random(), \"metric_2\": random() + 1})\n",
    "#\n",
    "#     # Log the sklearn model and register as version 1\n",
    "#     mlflow.sklearn.log_model(\n",
    "#         sk_model=sk_learn_rfr,\n",
    "#         artifact_path=\"sklearn-model\",\n",
    "#         registered_model_name=\"sk-learn-random-forest-reg-model\"\n",
    "#     )"
   ],
   "metadata": {
    "collapsed": false,
    "pycharm": {
     "name": "#%%\n"
    }
   }
  }
 ],
 "metadata": {
  "kernelspec": {
   "display_name": "Python 3",
   "language": "python",
   "name": "python3"
  },
  "language_info": {
   "codemirror_mode": {
    "name": "ipython",
    "version": 2
   },
   "file_extension": ".py",
   "mimetype": "text/x-python",
   "name": "python",
   "nbconvert_exporter": "python",
   "pygments_lexer": "ipython2",
   "version": "2.7.6"
  }
 },
 "nbformat": 4,
 "nbformat_minor": 0
}