{
 "cells": [
  {
   "cell_type": "code",
   "execution_count": 1,
   "metadata": {
    "collapsed": true,
    "pycharm": {
     "name": "#%%\n"
    }
   },
   "outputs": [],
   "source": [
    "import pandas as pd\n",
    "import numpy as np\n",
    "from sklearn.linear_model import LinearRegression\n",
    "from sklearn.metrics import mean_absolute_error, mean_squared_error, explained_variance_score, median_absolute_error, r2_score, mean_absolute_percentage_error\n",
    "from sklearn.model_selection import train_test_split\n",
    "from scipy.stats import *\n",
    "import h3\n",
    "from sklearn.preprocessing import OneHotEncoder\n",
    "from sklearn.compose import ColumnTransformer\n",
    "from datetime import datetime\n",
    "from math import floor\n",
    "import matplotlib.pyplot as plt\n",
    "import mlflow\n",
    "import mlflow.sklearn"
   ]
  },
  {
   "cell_type": "code",
   "execution_count": 2,
   "outputs": [],
   "source": [
    "ride_columns = ['accepted_driver_id', 'created_at', 'passenger_id', 'source_lat',\n",
    "       'source_lng', 'destination_lat', 'destination_lng', 'eta', 'provider',\n",
    "       'ata', 'id', 'city']\n",
    "\n",
    "khatkesh_columns = ['ride_id','driver_id','a_t_a_result.arrival_a_t_a','a_t_a_result.boarding_a_t_a','a_t_a_result.ride_a_t_a','a_t_a_result.arrival_probe_result.probe.point.lat','a_t_a_result.arrival_probe_result.probe.point.lon','a_t_a_result.arrival_probe_result.probe.timestamp','a_t_a_result.arrival_probe_result.confidence','a_t_a_result.arrival_probe_result.h3_index', 'a_t_a_result.arrival_probe_result.k_ring_level','a_t_a_result.boarding_probe_result.probe.point.lat','a_t_a_result.boarding_probe_result.probe.point.lon','a_t_a_result.boarding_probe_result.probe.timestamp','a_t_a_result.boarding_probe_result.confidence','a_t_a_result.boarding_probe_result.h3_index','a_t_a_result.boarding_probe_result.k_ring_level','a_t_a_result.final_destination_probe_result.probe.point.lat','a_t_a_result.final_destination_probe_result.probe.point.lon','a_t_a_result.final_destination_probe_result.probe.timestamp','a_t_a_result.final_destination_probe_result.confidence','a_t_a_result.final_destination_probe_result.h3_index','a_t_a_result.final_destination_probe_result.k_ring_level','a_t_a_result.destination_probe_result.probe.point.lat','a_t_a_result.destination_probe_result.probe.point.lon','a_t_a_result.destination_probe_result.probe.timestamp','a_t_a_result.destination_probe_result.confidence','a_t_a_result.destination_probe_result.h3_index','a_t_a_result.destination_probe_result.k_ring_level','a_t_a_result.extra_destination_probe_result.probe.point.lat','a_t_a_result.extra_destination_probe_result.probe.point.lon','a_t_a_result.extra_destination_probe_result.probe.timestamp','a_t_a_result.extra_destination_probe_result.confidence','a_t_a_result.extra_destination_probe_result.h3_index','a_t_a_result.extra_destination_probe_result.k_ring_level','pickup_a_d_d_result.distance','pickup_a_d_d_result.confidence','pickup_a_d_d_result.route_ratio','pickup_a_d_d_result.g_p_s_ratio','ride_a_d_d_result.distance','ride_a_d_d_result.confidence','ride_a_d_d_result.route_ratio','ride_a_d_d_result.g_p_s_ratio','total_a_d_d_confidence','in_ride_allotment','e_d_d','clickhouse_time','hash']\n",
    "\n",
    "train_dates = ['2022-08-02', '2022-08-03', '2022-08-04', '2022-08-05', '2022-08-06', '2022-08-07', '2022-08-08',\n",
    "               '2022-08-09', '2022-08-10', '2022-08-11', '2022-08-12', '2022-08-13', '2022-08-14', '2022-08-15',\n",
    "               '2022-08-16', '2022-08-17', '2022-08-18', '2022-08-19', '2022-08-20', '2022-08-21', '2022-08-22',\n",
    "               '2022-08-23', '2022-08-24', '2022-08-25', '2022-08-26', '2022-08-27', '2022-08-28', '2022-08-29',\n",
    "               '2022-08-30', '2022-08-31', '2022-09-01', '2022-09-02', '2022-09-03', '2022-09-04', '2022-09-05',\n",
    "               '2022-09-06', '2022-09-07', '2022-09-08', '2022-09-09', '2022-09-10']\n",
    "\n",
    "train_holidays = ['2022-08-07', '2022-08-08']\n",
    "\n",
    "test_dates = ['2022-09-11', '2022-09-12', '2022-09-13', '2022-09-14', '2022-09-15', '2022-09-16', '2022-09-17',\n",
    "              '2022-09-18', '2022-09-19', '2022-09-20', '2022-09-21', '2022-09-22', '2022-09-23', '2022-09-24',\n",
    "              '2022-09-25', '2022-09-26', '2022-09-27', '2022-09-28', '2022-09-29', '2022-09-30', '2022-10-01',\n",
    "              '2022-10-02', '2022-10-03', '2022-10-04', '2022-10-05', '2022-10-06', '2022-10-07', '2022-10-08',\n",
    "              '2022-10-09']\n",
    "\n",
    "test_holidays = ['2022-09-17', '2022-09-25', '2022-09-27', '2022-10-05']"
   ],
   "metadata": {
    "collapsed": false,
    "pycharm": {
     "name": "#%%\n"
    }
   }
  },
  {
   "cell_type": "code",
   "execution_count": 3,
   "outputs": [],
   "source": [
    "# for iddate, date in enumerate(train_dates):\n",
    "#     header = False\n",
    "#     rides_df = pd.read_csv('../rides_' + date + '.csv', names=ride_columns)\n",
    "#     rides_df.rename(columns={'id': 'ride_id'}, inplace=True)\n",
    "#\n",
    "#     files = ['../khatkesh_' + date + '_.csv']\n",
    "#     if iddate+1 != len(train_dates):\n",
    "#         files.append('../khatkesh_' + train_dates[iddate+1] + '_.csv')\n",
    "#     # THE IGNORE INDEX IS WRONG MAYBE\n",
    "#     khatkesh_df = pd.concat((pd.read_csv(f, names=khatkesh_columns) for f in files), ignore_index=True)\n",
    "#\n",
    "#     rides_khatkesh = pd.merge(rides_df, khatkesh_df, on=\"ride_id\")\n",
    "#\n",
    "#     print(len(rides_df))\n",
    "#     print(date)\n",
    "#     print(len(rides_khatkesh))\n",
    "#\n",
    "#     if iddate == 0:\n",
    "#         header = True\n",
    "#\n",
    "#     rides_khatkesh.to_csv('../rides_train.csv', mode='a', header=header, index=False)"
   ],
   "metadata": {
    "collapsed": false,
    "pycharm": {
     "name": "#%%\n"
    }
   }
  },
  {
   "cell_type": "code",
   "execution_count": 4,
   "outputs": [
    {
     "name": "stdout",
     "output_type": "stream",
     "text": [
      "<class 'pandas.core.frame.DataFrame'>\n",
      "RangeIndex: 4063341 entries, 0 to 4063340\n",
      "Data columns (total 59 columns):\n",
      " #   Column                                                       Dtype  \n",
      "---  ------                                                       -----  \n",
      " 0   accepted_driver_id                                           int64  \n",
      " 1   created_at                                                   object \n",
      " 2   passenger_id                                                 int64  \n",
      " 3   source_lat                                                   float64\n",
      " 4   source_lng                                                   float64\n",
      " 5   destination_lat                                              float64\n",
      " 6   destination_lng                                              float64\n",
      " 7   eta                                                          int64  \n",
      " 8   provider                                                     object \n",
      " 9   ata                                                          int64  \n",
      " 10  ride_id                                                      int64  \n",
      " 11  city                                                         int64  \n",
      " 12  driver_id                                                    int64  \n",
      " 13  a_t_a_result.arrival_a_t_a                                   int64  \n",
      " 14  a_t_a_result.boarding_a_t_a                                  float64\n",
      " 15  a_t_a_result.ride_a_t_a                                      int64  \n",
      " 16  a_t_a_result.arrival_probe_result.probe.point.lat            float64\n",
      " 17  a_t_a_result.arrival_probe_result.probe.point.lon            float64\n",
      " 18  a_t_a_result.arrival_probe_result.probe.timestamp            float64\n",
      " 19  a_t_a_result.arrival_probe_result.confidence                 float64\n",
      " 20  a_t_a_result.arrival_probe_result.h3_index                   object \n",
      " 21  a_t_a_result.arrival_probe_result.k_ring_level               int64  \n",
      " 22  a_t_a_result.boarding_probe_result.probe.point.lat           float64\n",
      " 23  a_t_a_result.boarding_probe_result.probe.point.lon           float64\n",
      " 24  a_t_a_result.boarding_probe_result.probe.timestamp           float64\n",
      " 25  a_t_a_result.boarding_probe_result.confidence                float64\n",
      " 26  a_t_a_result.boarding_probe_result.h3_index                  object \n",
      " 27  a_t_a_result.boarding_probe_result.k_ring_level              int64  \n",
      " 28  a_t_a_result.final_destination_probe_result.probe.point.lat  float64\n",
      " 29  a_t_a_result.final_destination_probe_result.probe.point.lon  float64\n",
      " 30  a_t_a_result.final_destination_probe_result.probe.timestamp  int64  \n",
      " 31  a_t_a_result.final_destination_probe_result.confidence       float64\n",
      " 32  a_t_a_result.final_destination_probe_result.h3_index         object \n",
      " 33  a_t_a_result.final_destination_probe_result.k_ring_level     int64  \n",
      " 34  a_t_a_result.destination_probe_result.probe.point.lat        float64\n",
      " 35  a_t_a_result.destination_probe_result.probe.point.lon        float64\n",
      " 36  a_t_a_result.destination_probe_result.probe.timestamp        float64\n",
      " 37  a_t_a_result.destination_probe_result.confidence             float64\n",
      " 38  a_t_a_result.destination_probe_result.h3_index               object \n",
      " 39  a_t_a_result.destination_probe_result.k_ring_level           int64  \n",
      " 40  a_t_a_result.extra_destination_probe_result.probe.point.lat  float64\n",
      " 41  a_t_a_result.extra_destination_probe_result.probe.point.lon  float64\n",
      " 42  a_t_a_result.extra_destination_probe_result.probe.timestamp  float64\n",
      " 43  a_t_a_result.extra_destination_probe_result.confidence       float64\n",
      " 44  a_t_a_result.extra_destination_probe_result.h3_index         float64\n",
      " 45  a_t_a_result.extra_destination_probe_result.k_ring_level     int64  \n",
      " 46  pickup_a_d_d_result.distance                                 float64\n",
      " 47  pickup_a_d_d_result.confidence                               float64\n",
      " 48  pickup_a_d_d_result.route_ratio                              float64\n",
      " 49  pickup_a_d_d_result.g_p_s_ratio                              float64\n",
      " 50  ride_a_d_d_result.distance                                   float64\n",
      " 51  ride_a_d_d_result.confidence                                 float64\n",
      " 52  ride_a_d_d_result.route_ratio                                float64\n",
      " 53  ride_a_d_d_result.g_p_s_ratio                                float64\n",
      " 54  total_a_d_d_confidence                                       float64\n",
      " 55  in_ride_allotment                                            float64\n",
      " 56  e_d_d                                                        float64\n",
      " 57  clickhouse_time                                              object \n",
      " 58  hash                                                         uint64 \n",
      "dtypes: float64(36), int64(15), object(7), uint64(1)\n",
      "memory usage: 1.8+ GB\n"
     ]
    }
   ],
   "source": [
    "rides_train = pd.read_csv('../rides_train.csv')\n",
    "rides_train.info()"
   ],
   "metadata": {
    "collapsed": false,
    "pycharm": {
     "name": "#%%\n"
    }
   }
  },
  {
   "cell_type": "code",
   "execution_count": 5,
   "outputs": [
    {
     "name": "stdout",
     "output_type": "stream",
     "text": [
      "<class 'pandas.core.frame.DataFrame'>\n",
      "RangeIndex: 2729988 entries, 0 to 2729987\n",
      "Data columns (total 59 columns):\n",
      " #   Column                                                       Dtype  \n",
      "---  ------                                                       -----  \n",
      " 0   accepted_driver_id                                           int64  \n",
      " 1   created_at                                                   object \n",
      " 2   passenger_id                                                 int64  \n",
      " 3   source_lat                                                   float64\n",
      " 4   source_lng                                                   float64\n",
      " 5   destination_lat                                              float64\n",
      " 6   destination_lng                                              float64\n",
      " 7   eta                                                          int64  \n",
      " 8   provider                                                     object \n",
      " 9   ata                                                          int64  \n",
      " 10  ride_id                                                      int64  \n",
      " 11  city                                                         int64  \n",
      " 12  driver_id                                                    int64  \n",
      " 13  a_t_a_result.arrival_a_t_a                                   int64  \n",
      " 14  a_t_a_result.boarding_a_t_a                                  float64\n",
      " 15  a_t_a_result.ride_a_t_a                                      int64  \n",
      " 16  a_t_a_result.arrival_probe_result.probe.point.lat            float64\n",
      " 17  a_t_a_result.arrival_probe_result.probe.point.lon            float64\n",
      " 18  a_t_a_result.arrival_probe_result.probe.timestamp            float64\n",
      " 19  a_t_a_result.arrival_probe_result.confidence                 float64\n",
      " 20  a_t_a_result.arrival_probe_result.h3_index                   object \n",
      " 21  a_t_a_result.arrival_probe_result.k_ring_level               int64  \n",
      " 22  a_t_a_result.boarding_probe_result.probe.point.lat           float64\n",
      " 23  a_t_a_result.boarding_probe_result.probe.point.lon           float64\n",
      " 24  a_t_a_result.boarding_probe_result.probe.timestamp           float64\n",
      " 25  a_t_a_result.boarding_probe_result.confidence                float64\n",
      " 26  a_t_a_result.boarding_probe_result.h3_index                  object \n",
      " 27  a_t_a_result.boarding_probe_result.k_ring_level              int64  \n",
      " 28  a_t_a_result.final_destination_probe_result.probe.point.lat  float64\n",
      " 29  a_t_a_result.final_destination_probe_result.probe.point.lon  float64\n",
      " 30  a_t_a_result.final_destination_probe_result.probe.timestamp  int64  \n",
      " 31  a_t_a_result.final_destination_probe_result.confidence       float64\n",
      " 32  a_t_a_result.final_destination_probe_result.h3_index         object \n",
      " 33  a_t_a_result.final_destination_probe_result.k_ring_level     int64  \n",
      " 34  a_t_a_result.destination_probe_result.probe.point.lat        float64\n",
      " 35  a_t_a_result.destination_probe_result.probe.point.lon        float64\n",
      " 36  a_t_a_result.destination_probe_result.probe.timestamp        float64\n",
      " 37  a_t_a_result.destination_probe_result.confidence             float64\n",
      " 38  a_t_a_result.destination_probe_result.h3_index               object \n",
      " 39  a_t_a_result.destination_probe_result.k_ring_level           int64  \n",
      " 40  a_t_a_result.extra_destination_probe_result.probe.point.lat  float64\n",
      " 41  a_t_a_result.extra_destination_probe_result.probe.point.lon  float64\n",
      " 42  a_t_a_result.extra_destination_probe_result.probe.timestamp  float64\n",
      " 43  a_t_a_result.extra_destination_probe_result.confidence       float64\n",
      " 44  a_t_a_result.extra_destination_probe_result.h3_index         float64\n",
      " 45  a_t_a_result.extra_destination_probe_result.k_ring_level     int64  \n",
      " 46  pickup_a_d_d_result.distance                                 float64\n",
      " 47  pickup_a_d_d_result.confidence                               float64\n",
      " 48  pickup_a_d_d_result.route_ratio                              float64\n",
      " 49  pickup_a_d_d_result.g_p_s_ratio                              float64\n",
      " 50  ride_a_d_d_result.distance                                   float64\n",
      " 51  ride_a_d_d_result.confidence                                 float64\n",
      " 52  ride_a_d_d_result.route_ratio                                float64\n",
      " 53  ride_a_d_d_result.g_p_s_ratio                                float64\n",
      " 54  total_a_d_d_confidence                                       float64\n",
      " 55  in_ride_allotment                                            float64\n",
      " 56  e_d_d                                                        float64\n",
      " 57  clickhouse_time                                              object \n",
      " 58  hash                                                         uint64 \n",
      "dtypes: float64(36), int64(15), object(7), uint64(1)\n",
      "memory usage: 1.2+ GB\n"
     ]
    }
   ],
   "source": [
    "rides_test = pd.read_csv('../rides_test.csv')\n",
    "rides_test.info()"
   ],
   "metadata": {
    "collapsed": false,
    "pycharm": {
     "name": "#%%\n"
    }
   }
  },
  {
   "cell_type": "code",
   "execution_count": 6,
   "outputs": [
    {
     "data": {
      "text/plain": "         accepted_driver_id           created_at  passenger_id  source_lat  \\\n1                   1630622  2022-08-02 21:19:50      24944157   35.753071   \n16                  1733850  2022-08-02 18:48:21      18113917   35.801170   \n21                  2942776  2022-08-02 20:09:35      15340963   35.617275   \n40                  2731688  2022-08-02 20:55:26       2043592   35.759720   \n41                   558365  2022-08-02 10:07:26      38602549   35.544151   \n...                     ...                  ...           ...         ...   \n4063308             4100368  2022-09-10 08:43:43      23085905   35.686737   \n4063311             2360511  2022-09-10 00:53:09      24484463   35.667233   \n4063332             2779592  2022-09-10 15:04:43      43527985   35.588966   \n4063336                3629  2022-09-10 10:59:52      28110479   35.683701   \n4063338             1219670  2022-09-10 10:39:55      26714466   35.677460   \n\n         source_lng  destination_lat  destination_lng   eta       provider  \\\n1         51.364353        35.801231        51.452614  1886  smapp-same-dc   \n16        51.417953        35.774540        51.331562  2204  smapp-same-dc   \n21        51.488651        35.724304        51.501282  2083  smapp-same-dc   \n40        51.262569        35.725605        51.444698  2185  smapp-same-dc   \n41        51.222370        35.753899        51.145321  2532  smapp-same-dc   \n...             ...              ...              ...   ...            ...   \n4063308   51.378422        35.766529        51.479244  1903  smapp-same-dc   \n4063311   51.344719        35.846325        51.005749  2427  smapp-same-dc   \n4063332   51.422379        35.733543        51.345242  1969  smapp-same-dc   \n4063336   51.372459        35.799290        51.477062  2052  smapp-same-dc   \n4063338   51.236629        35.709362        51.404461  1856  smapp-same-dc   \n\n          ata  ...  pickup_a_d_d_result.g_p_s_ratio  \\\n1        1678  ...                         0.005714   \n16       2581  ...                         0.003676   \n21       1833  ...                         0.005525   \n40       2293  ...                         0.004405   \n41       2571  ...                         0.003413   \n...       ...  ...                              ...   \n4063308  2247  ...                         0.004386   \n4063311  2220  ...                         0.003953   \n4063332  2221  ...                         0.004444   \n4063336  2532  ...                         0.003021   \n4063338  2357  ...                         0.004566   \n\n         ride_a_d_d_result.distance  ride_a_d_d_result.confidence  \\\n1                         28.000000                      0.973821   \n16                        13.838000                      0.617575   \n21                        33.257999                      0.966835   \n40                        43.938831                      0.976005   \n41                        47.014339                      0.495764   \n...                             ...                           ...   \n4063308                   30.699947                      0.897787   \n4063311                   52.319000                      0.652545   \n4063332                   40.393002                      0.519409   \n4063336                   22.107664                      0.439463   \n4063338                   36.530998                      0.939490   \n\n         ride_a_d_d_result.route_ratio  ride_a_d_d_result.g_p_s_ratio  \\\n1                                  0.0                       0.840000   \n16                                 0.0                       0.102941   \n21                                 0.0                       0.878453   \n40                                 0.0                       0.973568   \n41                                 0.0                       0.071672   \n...                                ...                            ...   \n4063308                            0.0                       0.951754   \n4063311                            0.0                       0.162055   \n4063332                            0.0                       0.066667   \n4063336                            0.0                       0.063444   \n4063338                            0.0                       0.648402   \n\n         total_a_d_d_confidence  in_ride_allotment      e_d_d  \\\n1                      0.978096                0.0   0.000000   \n16                     0.684035                0.0   0.000000   \n21                     0.971940                0.0   0.000000   \n40                     0.979931                0.0   0.000000   \n41                     0.496288                0.0   0.000000   \n...                         ...                ...        ...   \n4063308                0.912274                0.0  20.017000   \n4063311                0.698573                0.0  44.632999   \n4063332                0.532460                0.0  28.209999   \n4063336                0.501275                0.0  24.957001   \n4063338                0.951781                0.0  19.000000   \n\n             clickhouse_time                  hash  \n1        2022-08-02 21:54:54  17518631764082474900  \n16       2022-08-02 19:40:51   6718141937521421034  \n21       2022-08-02 20:45:39   9118069446153719521  \n40       2022-08-02 21:43:43   4640629599265281559  \n41       2022-08-02 10:55:30  15347317208377558354  \n...                      ...                   ...  \n4063308  2022-09-10 09:34:47   6285336365528391845  \n4063311  2022-09-10 01:38:42   5982922617154083351  \n4063332  2022-09-10 15:50:30  16403387582631044042  \n4063336  2022-09-10 12:05:12   4744731905255557123  \n4063338  2022-09-10 11:26:09  10148973690789245740  \n\n[515151 rows x 59 columns]",
      "text/html": "<div>\n<style scoped>\n    .dataframe tbody tr th:only-of-type {\n        vertical-align: middle;\n    }\n\n    .dataframe tbody tr th {\n        vertical-align: top;\n    }\n\n    .dataframe thead th {\n        text-align: right;\n    }\n</style>\n<table border=\"1\" class=\"dataframe\">\n  <thead>\n    <tr style=\"text-align: right;\">\n      <th></th>\n      <th>accepted_driver_id</th>\n      <th>created_at</th>\n      <th>passenger_id</th>\n      <th>source_lat</th>\n      <th>source_lng</th>\n      <th>destination_lat</th>\n      <th>destination_lng</th>\n      <th>eta</th>\n      <th>provider</th>\n      <th>ata</th>\n      <th>...</th>\n      <th>pickup_a_d_d_result.g_p_s_ratio</th>\n      <th>ride_a_d_d_result.distance</th>\n      <th>ride_a_d_d_result.confidence</th>\n      <th>ride_a_d_d_result.route_ratio</th>\n      <th>ride_a_d_d_result.g_p_s_ratio</th>\n      <th>total_a_d_d_confidence</th>\n      <th>in_ride_allotment</th>\n      <th>e_d_d</th>\n      <th>clickhouse_time</th>\n      <th>hash</th>\n    </tr>\n  </thead>\n  <tbody>\n    <tr>\n      <th>1</th>\n      <td>1630622</td>\n      <td>2022-08-02 21:19:50</td>\n      <td>24944157</td>\n      <td>35.753071</td>\n      <td>51.364353</td>\n      <td>35.801231</td>\n      <td>51.452614</td>\n      <td>1886</td>\n      <td>smapp-same-dc</td>\n      <td>1678</td>\n      <td>...</td>\n      <td>0.005714</td>\n      <td>28.000000</td>\n      <td>0.973821</td>\n      <td>0.0</td>\n      <td>0.840000</td>\n      <td>0.978096</td>\n      <td>0.0</td>\n      <td>0.000000</td>\n      <td>2022-08-02 21:54:54</td>\n      <td>17518631764082474900</td>\n    </tr>\n    <tr>\n      <th>16</th>\n      <td>1733850</td>\n      <td>2022-08-02 18:48:21</td>\n      <td>18113917</td>\n      <td>35.801170</td>\n      <td>51.417953</td>\n      <td>35.774540</td>\n      <td>51.331562</td>\n      <td>2204</td>\n      <td>smapp-same-dc</td>\n      <td>2581</td>\n      <td>...</td>\n      <td>0.003676</td>\n      <td>13.838000</td>\n      <td>0.617575</td>\n      <td>0.0</td>\n      <td>0.102941</td>\n      <td>0.684035</td>\n      <td>0.0</td>\n      <td>0.000000</td>\n      <td>2022-08-02 19:40:51</td>\n      <td>6718141937521421034</td>\n    </tr>\n    <tr>\n      <th>21</th>\n      <td>2942776</td>\n      <td>2022-08-02 20:09:35</td>\n      <td>15340963</td>\n      <td>35.617275</td>\n      <td>51.488651</td>\n      <td>35.724304</td>\n      <td>51.501282</td>\n      <td>2083</td>\n      <td>smapp-same-dc</td>\n      <td>1833</td>\n      <td>...</td>\n      <td>0.005525</td>\n      <td>33.257999</td>\n      <td>0.966835</td>\n      <td>0.0</td>\n      <td>0.878453</td>\n      <td>0.971940</td>\n      <td>0.0</td>\n      <td>0.000000</td>\n      <td>2022-08-02 20:45:39</td>\n      <td>9118069446153719521</td>\n    </tr>\n    <tr>\n      <th>40</th>\n      <td>2731688</td>\n      <td>2022-08-02 20:55:26</td>\n      <td>2043592</td>\n      <td>35.759720</td>\n      <td>51.262569</td>\n      <td>35.725605</td>\n      <td>51.444698</td>\n      <td>2185</td>\n      <td>smapp-same-dc</td>\n      <td>2293</td>\n      <td>...</td>\n      <td>0.004405</td>\n      <td>43.938831</td>\n      <td>0.976005</td>\n      <td>0.0</td>\n      <td>0.973568</td>\n      <td>0.979931</td>\n      <td>0.0</td>\n      <td>0.000000</td>\n      <td>2022-08-02 21:43:43</td>\n      <td>4640629599265281559</td>\n    </tr>\n    <tr>\n      <th>41</th>\n      <td>558365</td>\n      <td>2022-08-02 10:07:26</td>\n      <td>38602549</td>\n      <td>35.544151</td>\n      <td>51.222370</td>\n      <td>35.753899</td>\n      <td>51.145321</td>\n      <td>2532</td>\n      <td>smapp-same-dc</td>\n      <td>2571</td>\n      <td>...</td>\n      <td>0.003413</td>\n      <td>47.014339</td>\n      <td>0.495764</td>\n      <td>0.0</td>\n      <td>0.071672</td>\n      <td>0.496288</td>\n      <td>0.0</td>\n      <td>0.000000</td>\n      <td>2022-08-02 10:55:30</td>\n      <td>15347317208377558354</td>\n    </tr>\n    <tr>\n      <th>...</th>\n      <td>...</td>\n      <td>...</td>\n      <td>...</td>\n      <td>...</td>\n      <td>...</td>\n      <td>...</td>\n      <td>...</td>\n      <td>...</td>\n      <td>...</td>\n      <td>...</td>\n      <td>...</td>\n      <td>...</td>\n      <td>...</td>\n      <td>...</td>\n      <td>...</td>\n      <td>...</td>\n      <td>...</td>\n      <td>...</td>\n      <td>...</td>\n      <td>...</td>\n      <td>...</td>\n    </tr>\n    <tr>\n      <th>4063308</th>\n      <td>4100368</td>\n      <td>2022-09-10 08:43:43</td>\n      <td>23085905</td>\n      <td>35.686737</td>\n      <td>51.378422</td>\n      <td>35.766529</td>\n      <td>51.479244</td>\n      <td>1903</td>\n      <td>smapp-same-dc</td>\n      <td>2247</td>\n      <td>...</td>\n      <td>0.004386</td>\n      <td>30.699947</td>\n      <td>0.897787</td>\n      <td>0.0</td>\n      <td>0.951754</td>\n      <td>0.912274</td>\n      <td>0.0</td>\n      <td>20.017000</td>\n      <td>2022-09-10 09:34:47</td>\n      <td>6285336365528391845</td>\n    </tr>\n    <tr>\n      <th>4063311</th>\n      <td>2360511</td>\n      <td>2022-09-10 00:53:09</td>\n      <td>24484463</td>\n      <td>35.667233</td>\n      <td>51.344719</td>\n      <td>35.846325</td>\n      <td>51.005749</td>\n      <td>2427</td>\n      <td>smapp-same-dc</td>\n      <td>2220</td>\n      <td>...</td>\n      <td>0.003953</td>\n      <td>52.319000</td>\n      <td>0.652545</td>\n      <td>0.0</td>\n      <td>0.162055</td>\n      <td>0.698573</td>\n      <td>0.0</td>\n      <td>44.632999</td>\n      <td>2022-09-10 01:38:42</td>\n      <td>5982922617154083351</td>\n    </tr>\n    <tr>\n      <th>4063332</th>\n      <td>2779592</td>\n      <td>2022-09-10 15:04:43</td>\n      <td>43527985</td>\n      <td>35.588966</td>\n      <td>51.422379</td>\n      <td>35.733543</td>\n      <td>51.345242</td>\n      <td>1969</td>\n      <td>smapp-same-dc</td>\n      <td>2221</td>\n      <td>...</td>\n      <td>0.004444</td>\n      <td>40.393002</td>\n      <td>0.519409</td>\n      <td>0.0</td>\n      <td>0.066667</td>\n      <td>0.532460</td>\n      <td>0.0</td>\n      <td>28.209999</td>\n      <td>2022-09-10 15:50:30</td>\n      <td>16403387582631044042</td>\n    </tr>\n    <tr>\n      <th>4063336</th>\n      <td>3629</td>\n      <td>2022-09-10 10:59:52</td>\n      <td>28110479</td>\n      <td>35.683701</td>\n      <td>51.372459</td>\n      <td>35.799290</td>\n      <td>51.477062</td>\n      <td>2052</td>\n      <td>smapp-same-dc</td>\n      <td>2532</td>\n      <td>...</td>\n      <td>0.003021</td>\n      <td>22.107664</td>\n      <td>0.439463</td>\n      <td>0.0</td>\n      <td>0.063444</td>\n      <td>0.501275</td>\n      <td>0.0</td>\n      <td>24.957001</td>\n      <td>2022-09-10 12:05:12</td>\n      <td>4744731905255557123</td>\n    </tr>\n    <tr>\n      <th>4063338</th>\n      <td>1219670</td>\n      <td>2022-09-10 10:39:55</td>\n      <td>26714466</td>\n      <td>35.677460</td>\n      <td>51.236629</td>\n      <td>35.709362</td>\n      <td>51.404461</td>\n      <td>1856</td>\n      <td>smapp-same-dc</td>\n      <td>2357</td>\n      <td>...</td>\n      <td>0.004566</td>\n      <td>36.530998</td>\n      <td>0.939490</td>\n      <td>0.0</td>\n      <td>0.648402</td>\n      <td>0.951781</td>\n      <td>0.0</td>\n      <td>19.000000</td>\n      <td>2022-09-10 11:26:09</td>\n      <td>10148973690789245740</td>\n    </tr>\n  </tbody>\n</table>\n<p>515151 rows × 59 columns</p>\n</div>"
     },
     "execution_count": 6,
     "metadata": {},
     "output_type": "execute_result"
    }
   ],
   "source": [
    "rides_train_p4 = rides_train[rides_train['eta'] >= 1800]\n",
    "rides_train_p4"
   ],
   "metadata": {
    "collapsed": false,
    "pycharm": {
     "name": "#%%\n"
    }
   }
  },
  {
   "cell_type": "code",
   "execution_count": 7,
   "outputs": [
    {
     "data": {
      "text/plain": "         accepted_driver_id           created_at  passenger_id  source_lat  \\\n6                    276394  2022-09-11 12:25:04       1130420   35.780571   \n17                  3564404  2022-09-11 20:54:38      20882457   35.640404   \n20                  2972216  2022-09-11 07:07:26      41413761   35.356205   \n23                  4288367  2022-09-11 22:03:11      47543504   35.351887   \n24                   785560  2022-09-11 09:02:41      21514168   35.720486   \n...                     ...                  ...           ...         ...   \n2729963              983182  2022-10-09 14:43:23      20553284   35.721123   \n2729966               35629  2022-10-09 15:54:14       3406353   35.764214   \n2729968             4373409  2022-10-09 12:37:31       2737984   35.775448   \n2729976             4180315  2022-10-09 09:28:07      38218151   35.735134   \n2729986             3234851  2022-10-09 19:16:07      17780582   35.792358   \n\n         source_lng  destination_lat  destination_lng   eta       provider  \\\n6         51.356174        35.628082        51.351501  1894  smapp-same-dc   \n17        51.416351        35.768814        51.276939  2944  smapp-same-dc   \n20        51.641312        35.601074        51.435585  2472  smapp-same-dc   \n23        51.645844        35.599098        51.442066  2364  smapp-same-dc   \n24        51.309761        35.796368        51.514473  2362  smapp-same-dc   \n...             ...              ...              ...   ...            ...   \n2729963   51.510109        35.521900        51.249054  2660  smapp-same-dc   \n2729966   51.475269        35.750290        51.286972  2004  smapp-same-dc   \n2729968   51.384750        35.719559        51.607353  2170  smapp-same-dc   \n2729976   51.420135        35.485798        51.686787  3134  smapp-same-dc   \n2729986   51.417782        35.714901        51.436726  2466  smapp-same-dc   \n\n          ata  ...  pickup_a_d_d_result.g_p_s_ratio  \\\n6        1963  ...                         0.005051   \n17       2778  ...                         0.003559   \n20       2877  ...                         0.003610   \n23       2719  ...                         0.004000   \n24       2410  ...                         0.004425   \n...       ...  ...                              ...   \n2729963  6153  ...                         0.001706   \n2729966  3809  ...                         0.002632   \n2729968  2953  ...                         0.003378   \n2729976  4588  ...                         0.002364   \n2729986  1786  ...                         0.005618   \n\n         ride_a_d_d_result.distance  ride_a_d_d_result.confidence  \\\n6                         25.871000                      0.558019   \n17                        65.590630                      0.834837   \n20                        40.578999                      0.546872   \n23                        65.080360                      0.888148   \n24                        27.839001                      0.568824   \n...                             ...                           ...   \n2729963                  128.636993                      0.981323   \n2729966                   40.758999                      0.984237   \n2729968                   52.777908                      0.911451   \n2729976                   85.375381                      0.988441   \n2729986                   19.742496                      0.958010   \n\n         ride_a_d_d_result.route_ratio  ride_a_d_d_result.g_p_s_ratio  \\\n6                                  0.0                       0.146465   \n17                                 0.0                       0.868327   \n20                                 0.0                       0.104693   \n23                                 0.0                       0.896000   \n24                                 0.0                       0.092920   \n...                                ...                            ...   \n2729963                            0.0                       0.998294   \n2729966                            0.0                       0.984211   \n2729968                            0.0                       0.891892   \n2729976                            0.0                       0.978723   \n2729986                            0.0                       0.926966   \n\n         total_a_d_d_confidence  in_ride_allotment      e_d_d  \\\n6                      0.610596              0.000  25.691999   \n17                     0.857004              0.000  40.091000   \n20                     0.609309              0.000  38.662998   \n23                     0.906676              0.000  38.363998   \n24                     0.653371              0.000  28.323000   \n...                         ...                ...        ...   \n2729963                0.983652              0.000  43.882999   \n2729966                0.986524              0.000  19.643000   \n2729968                0.924451              1.448  29.955999   \n2729976                0.989872              0.000  43.558998   \n2729986                0.856640              0.000  11.315000   \n\n             clickhouse_time                  hash  \n6        2022-09-11 13:00:48   9344030596630141528  \n17       2022-09-11 22:09:37  13862046135803300111  \n20       2022-09-11 08:02:38   5652449490027755269  \n23       2022-09-11 23:02:15   9004574699344913211  \n24       2022-09-11 09:50:47  17365459658581884520  \n...                      ...                   ...  \n2729963  2022-10-09 16:35:42  11470021632531286296  \n2729966  2022-10-09 17:08:56   5916495388916790202  \n2729968  2022-10-09 13:36:01  12320934774556909350  \n2729976  2022-10-09 10:55:43  11953691384932500369  \n2729986  2022-10-09 19:52:31   1672620268371026195  \n\n[332086 rows x 59 columns]",
      "text/html": "<div>\n<style scoped>\n    .dataframe tbody tr th:only-of-type {\n        vertical-align: middle;\n    }\n\n    .dataframe tbody tr th {\n        vertical-align: top;\n    }\n\n    .dataframe thead th {\n        text-align: right;\n    }\n</style>\n<table border=\"1\" class=\"dataframe\">\n  <thead>\n    <tr style=\"text-align: right;\">\n      <th></th>\n      <th>accepted_driver_id</th>\n      <th>created_at</th>\n      <th>passenger_id</th>\n      <th>source_lat</th>\n      <th>source_lng</th>\n      <th>destination_lat</th>\n      <th>destination_lng</th>\n      <th>eta</th>\n      <th>provider</th>\n      <th>ata</th>\n      <th>...</th>\n      <th>pickup_a_d_d_result.g_p_s_ratio</th>\n      <th>ride_a_d_d_result.distance</th>\n      <th>ride_a_d_d_result.confidence</th>\n      <th>ride_a_d_d_result.route_ratio</th>\n      <th>ride_a_d_d_result.g_p_s_ratio</th>\n      <th>total_a_d_d_confidence</th>\n      <th>in_ride_allotment</th>\n      <th>e_d_d</th>\n      <th>clickhouse_time</th>\n      <th>hash</th>\n    </tr>\n  </thead>\n  <tbody>\n    <tr>\n      <th>6</th>\n      <td>276394</td>\n      <td>2022-09-11 12:25:04</td>\n      <td>1130420</td>\n      <td>35.780571</td>\n      <td>51.356174</td>\n      <td>35.628082</td>\n      <td>51.351501</td>\n      <td>1894</td>\n      <td>smapp-same-dc</td>\n      <td>1963</td>\n      <td>...</td>\n      <td>0.005051</td>\n      <td>25.871000</td>\n      <td>0.558019</td>\n      <td>0.0</td>\n      <td>0.146465</td>\n      <td>0.610596</td>\n      <td>0.000</td>\n      <td>25.691999</td>\n      <td>2022-09-11 13:00:48</td>\n      <td>9344030596630141528</td>\n    </tr>\n    <tr>\n      <th>17</th>\n      <td>3564404</td>\n      <td>2022-09-11 20:54:38</td>\n      <td>20882457</td>\n      <td>35.640404</td>\n      <td>51.416351</td>\n      <td>35.768814</td>\n      <td>51.276939</td>\n      <td>2944</td>\n      <td>smapp-same-dc</td>\n      <td>2778</td>\n      <td>...</td>\n      <td>0.003559</td>\n      <td>65.590630</td>\n      <td>0.834837</td>\n      <td>0.0</td>\n      <td>0.868327</td>\n      <td>0.857004</td>\n      <td>0.000</td>\n      <td>40.091000</td>\n      <td>2022-09-11 22:09:37</td>\n      <td>13862046135803300111</td>\n    </tr>\n    <tr>\n      <th>20</th>\n      <td>2972216</td>\n      <td>2022-09-11 07:07:26</td>\n      <td>41413761</td>\n      <td>35.356205</td>\n      <td>51.641312</td>\n      <td>35.601074</td>\n      <td>51.435585</td>\n      <td>2472</td>\n      <td>smapp-same-dc</td>\n      <td>2877</td>\n      <td>...</td>\n      <td>0.003610</td>\n      <td>40.578999</td>\n      <td>0.546872</td>\n      <td>0.0</td>\n      <td>0.104693</td>\n      <td>0.609309</td>\n      <td>0.000</td>\n      <td>38.662998</td>\n      <td>2022-09-11 08:02:38</td>\n      <td>5652449490027755269</td>\n    </tr>\n    <tr>\n      <th>23</th>\n      <td>4288367</td>\n      <td>2022-09-11 22:03:11</td>\n      <td>47543504</td>\n      <td>35.351887</td>\n      <td>51.645844</td>\n      <td>35.599098</td>\n      <td>51.442066</td>\n      <td>2364</td>\n      <td>smapp-same-dc</td>\n      <td>2719</td>\n      <td>...</td>\n      <td>0.004000</td>\n      <td>65.080360</td>\n      <td>0.888148</td>\n      <td>0.0</td>\n      <td>0.896000</td>\n      <td>0.906676</td>\n      <td>0.000</td>\n      <td>38.363998</td>\n      <td>2022-09-11 23:02:15</td>\n      <td>9004574699344913211</td>\n    </tr>\n    <tr>\n      <th>24</th>\n      <td>785560</td>\n      <td>2022-09-11 09:02:41</td>\n      <td>21514168</td>\n      <td>35.720486</td>\n      <td>51.309761</td>\n      <td>35.796368</td>\n      <td>51.514473</td>\n      <td>2362</td>\n      <td>smapp-same-dc</td>\n      <td>2410</td>\n      <td>...</td>\n      <td>0.004425</td>\n      <td>27.839001</td>\n      <td>0.568824</td>\n      <td>0.0</td>\n      <td>0.092920</td>\n      <td>0.653371</td>\n      <td>0.000</td>\n      <td>28.323000</td>\n      <td>2022-09-11 09:50:47</td>\n      <td>17365459658581884520</td>\n    </tr>\n    <tr>\n      <th>...</th>\n      <td>...</td>\n      <td>...</td>\n      <td>...</td>\n      <td>...</td>\n      <td>...</td>\n      <td>...</td>\n      <td>...</td>\n      <td>...</td>\n      <td>...</td>\n      <td>...</td>\n      <td>...</td>\n      <td>...</td>\n      <td>...</td>\n      <td>...</td>\n      <td>...</td>\n      <td>...</td>\n      <td>...</td>\n      <td>...</td>\n      <td>...</td>\n      <td>...</td>\n      <td>...</td>\n    </tr>\n    <tr>\n      <th>2729963</th>\n      <td>983182</td>\n      <td>2022-10-09 14:43:23</td>\n      <td>20553284</td>\n      <td>35.721123</td>\n      <td>51.510109</td>\n      <td>35.521900</td>\n      <td>51.249054</td>\n      <td>2660</td>\n      <td>smapp-same-dc</td>\n      <td>6153</td>\n      <td>...</td>\n      <td>0.001706</td>\n      <td>128.636993</td>\n      <td>0.981323</td>\n      <td>0.0</td>\n      <td>0.998294</td>\n      <td>0.983652</td>\n      <td>0.000</td>\n      <td>43.882999</td>\n      <td>2022-10-09 16:35:42</td>\n      <td>11470021632531286296</td>\n    </tr>\n    <tr>\n      <th>2729966</th>\n      <td>35629</td>\n      <td>2022-10-09 15:54:14</td>\n      <td>3406353</td>\n      <td>35.764214</td>\n      <td>51.475269</td>\n      <td>35.750290</td>\n      <td>51.286972</td>\n      <td>2004</td>\n      <td>smapp-same-dc</td>\n      <td>3809</td>\n      <td>...</td>\n      <td>0.002632</td>\n      <td>40.758999</td>\n      <td>0.984237</td>\n      <td>0.0</td>\n      <td>0.984211</td>\n      <td>0.986524</td>\n      <td>0.000</td>\n      <td>19.643000</td>\n      <td>2022-10-09 17:08:56</td>\n      <td>5916495388916790202</td>\n    </tr>\n    <tr>\n      <th>2729968</th>\n      <td>4373409</td>\n      <td>2022-10-09 12:37:31</td>\n      <td>2737984</td>\n      <td>35.775448</td>\n      <td>51.384750</td>\n      <td>35.719559</td>\n      <td>51.607353</td>\n      <td>2170</td>\n      <td>smapp-same-dc</td>\n      <td>2953</td>\n      <td>...</td>\n      <td>0.003378</td>\n      <td>52.777908</td>\n      <td>0.911451</td>\n      <td>0.0</td>\n      <td>0.891892</td>\n      <td>0.924451</td>\n      <td>1.448</td>\n      <td>29.955999</td>\n      <td>2022-10-09 13:36:01</td>\n      <td>12320934774556909350</td>\n    </tr>\n    <tr>\n      <th>2729976</th>\n      <td>4180315</td>\n      <td>2022-10-09 09:28:07</td>\n      <td>38218151</td>\n      <td>35.735134</td>\n      <td>51.420135</td>\n      <td>35.485798</td>\n      <td>51.686787</td>\n      <td>3134</td>\n      <td>smapp-same-dc</td>\n      <td>4588</td>\n      <td>...</td>\n      <td>0.002364</td>\n      <td>85.375381</td>\n      <td>0.988441</td>\n      <td>0.0</td>\n      <td>0.978723</td>\n      <td>0.989872</td>\n      <td>0.000</td>\n      <td>43.558998</td>\n      <td>2022-10-09 10:55:43</td>\n      <td>11953691384932500369</td>\n    </tr>\n    <tr>\n      <th>2729986</th>\n      <td>3234851</td>\n      <td>2022-10-09 19:16:07</td>\n      <td>17780582</td>\n      <td>35.792358</td>\n      <td>51.417782</td>\n      <td>35.714901</td>\n      <td>51.436726</td>\n      <td>2466</td>\n      <td>smapp-same-dc</td>\n      <td>1786</td>\n      <td>...</td>\n      <td>0.005618</td>\n      <td>19.742496</td>\n      <td>0.958010</td>\n      <td>0.0</td>\n      <td>0.926966</td>\n      <td>0.856640</td>\n      <td>0.000</td>\n      <td>11.315000</td>\n      <td>2022-10-09 19:52:31</td>\n      <td>1672620268371026195</td>\n    </tr>\n  </tbody>\n</table>\n<p>332086 rows × 59 columns</p>\n</div>"
     },
     "execution_count": 7,
     "metadata": {},
     "output_type": "execute_result"
    }
   ],
   "source": [
    "rides_test_p4 = rides_test[rides_test['eta'] >= 1800]\n",
    "rides_test_p4"
   ],
   "metadata": {
    "collapsed": false,
    "pycharm": {
     "name": "#%%\n"
    }
   }
  },
  {
   "cell_type": "markdown",
   "source": [
    "There are some duplicates in the data"
   ],
   "metadata": {
    "collapsed": false,
    "pycharm": {
     "name": "#%% md\n"
    }
   }
  },
  {
   "cell_type": "code",
   "execution_count": 8,
   "outputs": [
    {
     "data": {
      "text/plain": "514839"
     },
     "execution_count": 8,
     "metadata": {},
     "output_type": "execute_result"
    }
   ],
   "source": [
    "rides_train_p4 = rides_train_p4.drop_duplicates(subset=['ride_id', 'ata'])\n",
    "len(rides_train_p4)"
   ],
   "metadata": {
    "collapsed": false,
    "pycharm": {
     "name": "#%%\n"
    }
   }
  },
  {
   "cell_type": "code",
   "execution_count": 9,
   "outputs": [
    {
     "data": {
      "text/plain": "332061"
     },
     "execution_count": 9,
     "metadata": {},
     "output_type": "execute_result"
    }
   ],
   "source": [
    "rides_test_p4 = rides_test_p4.drop_duplicates(subset=['ride_id', 'ata'])\n",
    "len(rides_test_p4)"
   ],
   "metadata": {
    "collapsed": false,
    "pycharm": {
     "name": "#%%\n"
    }
   }
  },
  {
   "cell_type": "code",
   "execution_count": 10,
   "outputs": [],
   "source": [
    "# for iddate, date in enumerate(test_dates):\n",
    "#     header = False\n",
    "#     rides_df = pd.read_csv('../rides_' + date + '.csv', names=ride_columns)\n",
    "#     rides_df.rename(columns={'id': 'ride_id'}, inplace=True)\n",
    "#\n",
    "#     files = ['../khatkesh_' + date + '_.csv']\n",
    "#     if iddate+1 != len(test_dates):\n",
    "#         files.append('../khatkesh_' + test_dates[iddate+1] + '_.csv')\n",
    "#     # THE IGNORE INDEX IS WRONG MAYBE\n",
    "#     khatkesh_df = pd.concat((pd.read_csv(f, names=khatkesh_columns) for f in files), ignore_index=True)\n",
    "#\n",
    "#     rides_khatkesh = pd.merge(rides_df, khatkesh_df, on=\"ride_id\")\n",
    "#\n",
    "#     print(len(rides_df))\n",
    "#     print(date)\n",
    "#     print(len(rides_khatkesh))\n",
    "#\n",
    "#     if iddate == 0:\n",
    "#         header = True\n",
    "#\n",
    "#     rides_khatkesh.to_csv('../rides_test.csv', mode='a', header=header, index=False)"
   ],
   "metadata": {
    "collapsed": false,
    "pycharm": {
     "name": "#%%\n"
    }
   }
  },
  {
   "cell_type": "code",
   "execution_count": 11,
   "outputs": [
    {
     "data": {
      "text/plain": "       accepted_driver_id  passenger_id     source_lat     source_lng  \\\ncount        5.132660e+05  5.132660e+05  513266.000000  513266.000000   \nmean         2.052076e+06  2.542970e+07      35.682093      51.396489   \nstd          1.384086e+06  1.822361e+07       0.104089       0.152049   \nmin          0.000000e+00  1.100000e+01      35.186329      50.900448   \n25%          6.983410e+05  6.466300e+06      35.641220      51.321495   \n50%          2.115911e+06  2.626258e+07      35.713772      51.402451   \n75%          3.293086e+06  4.086694e+07      35.754856      51.461155   \nmax          4.330826e+06  5.737685e+07      35.839874      52.794945   \n\n       destination_lat  destination_lng            eta            ata  \\\ncount    513266.000000    513266.000000  513266.000000  513266.000000   \nmean         35.693895        51.340904    2496.019686    2995.289856   \nstd           0.107322         0.205802     694.146171    1170.603664   \nmin          33.992180        49.698254    1800.000000     206.000000   \n25%          35.654217        51.243610    2002.000000    2225.000000   \n50%          35.717728        51.387814    2286.000000    2716.000000   \n75%          35.759948        51.454262    2767.000000    3456.000000   \nmax          36.656895        53.376816   10528.000000   28079.000000   \n\n            ride_id      city  ...  pickup_a_d_d_result.route_ratio  \\\ncount  5.132660e+05  513266.0  ...                    513266.000000   \nmean   4.827573e+09       1.0  ...                         0.000193   \nstd    5.961566e+07       0.0  ...                         0.011157   \nmin    4.714479e+09       1.0  ...                         0.000000   \n25%    4.778560e+09       1.0  ...                         0.000000   \n50%    4.829735e+09       1.0  ...                         0.000000   \n75%    4.874188e+09       1.0  ...                         0.000000   \nmax    4.933844e+09       1.0  ...                         1.000000   \n\n       pickup_a_d_d_result.g_p_s_ratio  ride_a_d_d_result.distance  \\\ncount                    513266.000000               513266.000000   \nmean                          0.003340                   51.976315   \nstd                           0.001517                   28.525724   \nmin                           0.000000                    0.000000   \n25%                           0.002564                   33.532001   \n50%                           0.003472                   46.855902   \n75%                           0.004329                   64.639000   \nmax                           0.045455                 8428.820312   \n\n       ride_a_d_d_result.confidence  ride_a_d_d_result.route_ratio  \\\ncount                 513266.000000                  513266.000000   \nmean                       0.824027                       0.000012   \nstd                        0.168117                       0.000284   \nmin                        0.000000                       0.000000   \n25%                        0.711429                       0.000000   \n50%                        0.890067                       0.000000   \n75%                        0.959883                       0.000000   \nmax                        1.000000                       0.023997   \n\n       ride_a_d_d_result.g_p_s_ratio  total_a_d_d_confidence  \\\ncount                  513266.000000           513266.000000   \nmean                        0.698335                0.835393   \nstd                         0.331778                0.160291   \nmin                         0.000000                0.000000   \n25%                         0.460481                0.737998   \n50%                         0.860759                0.896658   \n75%                         0.964758                0.962513   \nmax                         1.000000                1.000000   \n\n       in_ride_allotment          e_d_d          hash  \ncount      513266.000000  513266.000000  5.132660e+05  \nmean            0.055390       8.390746  9.217479e+18  \nstd             1.149136      16.564012  5.325390e+18  \nmin             0.000000       0.000000  2.162610e+12  \n25%             0.000000       0.000000  4.606262e+18  \n50%             0.000000       0.000000  9.217168e+18  \n75%             0.000000      12.464750  1.382594e+19  \nmax           732.436646     192.143997  1.844667e+19  \n\n[8 rows x 52 columns]",
      "text/html": "<div>\n<style scoped>\n    .dataframe tbody tr th:only-of-type {\n        vertical-align: middle;\n    }\n\n    .dataframe tbody tr th {\n        vertical-align: top;\n    }\n\n    .dataframe thead th {\n        text-align: right;\n    }\n</style>\n<table border=\"1\" class=\"dataframe\">\n  <thead>\n    <tr style=\"text-align: right;\">\n      <th></th>\n      <th>accepted_driver_id</th>\n      <th>passenger_id</th>\n      <th>source_lat</th>\n      <th>source_lng</th>\n      <th>destination_lat</th>\n      <th>destination_lng</th>\n      <th>eta</th>\n      <th>ata</th>\n      <th>ride_id</th>\n      <th>city</th>\n      <th>...</th>\n      <th>pickup_a_d_d_result.route_ratio</th>\n      <th>pickup_a_d_d_result.g_p_s_ratio</th>\n      <th>ride_a_d_d_result.distance</th>\n      <th>ride_a_d_d_result.confidence</th>\n      <th>ride_a_d_d_result.route_ratio</th>\n      <th>ride_a_d_d_result.g_p_s_ratio</th>\n      <th>total_a_d_d_confidence</th>\n      <th>in_ride_allotment</th>\n      <th>e_d_d</th>\n      <th>hash</th>\n    </tr>\n  </thead>\n  <tbody>\n    <tr>\n      <th>count</th>\n      <td>5.132660e+05</td>\n      <td>5.132660e+05</td>\n      <td>513266.000000</td>\n      <td>513266.000000</td>\n      <td>513266.000000</td>\n      <td>513266.000000</td>\n      <td>513266.000000</td>\n      <td>513266.000000</td>\n      <td>5.132660e+05</td>\n      <td>513266.0</td>\n      <td>...</td>\n      <td>513266.000000</td>\n      <td>513266.000000</td>\n      <td>513266.000000</td>\n      <td>513266.000000</td>\n      <td>513266.000000</td>\n      <td>513266.000000</td>\n      <td>513266.000000</td>\n      <td>513266.000000</td>\n      <td>513266.000000</td>\n      <td>5.132660e+05</td>\n    </tr>\n    <tr>\n      <th>mean</th>\n      <td>2.052076e+06</td>\n      <td>2.542970e+07</td>\n      <td>35.682093</td>\n      <td>51.396489</td>\n      <td>35.693895</td>\n      <td>51.340904</td>\n      <td>2496.019686</td>\n      <td>2995.289856</td>\n      <td>4.827573e+09</td>\n      <td>1.0</td>\n      <td>...</td>\n      <td>0.000193</td>\n      <td>0.003340</td>\n      <td>51.976315</td>\n      <td>0.824027</td>\n      <td>0.000012</td>\n      <td>0.698335</td>\n      <td>0.835393</td>\n      <td>0.055390</td>\n      <td>8.390746</td>\n      <td>9.217479e+18</td>\n    </tr>\n    <tr>\n      <th>std</th>\n      <td>1.384086e+06</td>\n      <td>1.822361e+07</td>\n      <td>0.104089</td>\n      <td>0.152049</td>\n      <td>0.107322</td>\n      <td>0.205802</td>\n      <td>694.146171</td>\n      <td>1170.603664</td>\n      <td>5.961566e+07</td>\n      <td>0.0</td>\n      <td>...</td>\n      <td>0.011157</td>\n      <td>0.001517</td>\n      <td>28.525724</td>\n      <td>0.168117</td>\n      <td>0.000284</td>\n      <td>0.331778</td>\n      <td>0.160291</td>\n      <td>1.149136</td>\n      <td>16.564012</td>\n      <td>5.325390e+18</td>\n    </tr>\n    <tr>\n      <th>min</th>\n      <td>0.000000e+00</td>\n      <td>1.100000e+01</td>\n      <td>35.186329</td>\n      <td>50.900448</td>\n      <td>33.992180</td>\n      <td>49.698254</td>\n      <td>1800.000000</td>\n      <td>206.000000</td>\n      <td>4.714479e+09</td>\n      <td>1.0</td>\n      <td>...</td>\n      <td>0.000000</td>\n      <td>0.000000</td>\n      <td>0.000000</td>\n      <td>0.000000</td>\n      <td>0.000000</td>\n      <td>0.000000</td>\n      <td>0.000000</td>\n      <td>0.000000</td>\n      <td>0.000000</td>\n      <td>2.162610e+12</td>\n    </tr>\n    <tr>\n      <th>25%</th>\n      <td>6.983410e+05</td>\n      <td>6.466300e+06</td>\n      <td>35.641220</td>\n      <td>51.321495</td>\n      <td>35.654217</td>\n      <td>51.243610</td>\n      <td>2002.000000</td>\n      <td>2225.000000</td>\n      <td>4.778560e+09</td>\n      <td>1.0</td>\n      <td>...</td>\n      <td>0.000000</td>\n      <td>0.002564</td>\n      <td>33.532001</td>\n      <td>0.711429</td>\n      <td>0.000000</td>\n      <td>0.460481</td>\n      <td>0.737998</td>\n      <td>0.000000</td>\n      <td>0.000000</td>\n      <td>4.606262e+18</td>\n    </tr>\n    <tr>\n      <th>50%</th>\n      <td>2.115911e+06</td>\n      <td>2.626258e+07</td>\n      <td>35.713772</td>\n      <td>51.402451</td>\n      <td>35.717728</td>\n      <td>51.387814</td>\n      <td>2286.000000</td>\n      <td>2716.000000</td>\n      <td>4.829735e+09</td>\n      <td>1.0</td>\n      <td>...</td>\n      <td>0.000000</td>\n      <td>0.003472</td>\n      <td>46.855902</td>\n      <td>0.890067</td>\n      <td>0.000000</td>\n      <td>0.860759</td>\n      <td>0.896658</td>\n      <td>0.000000</td>\n      <td>0.000000</td>\n      <td>9.217168e+18</td>\n    </tr>\n    <tr>\n      <th>75%</th>\n      <td>3.293086e+06</td>\n      <td>4.086694e+07</td>\n      <td>35.754856</td>\n      <td>51.461155</td>\n      <td>35.759948</td>\n      <td>51.454262</td>\n      <td>2767.000000</td>\n      <td>3456.000000</td>\n      <td>4.874188e+09</td>\n      <td>1.0</td>\n      <td>...</td>\n      <td>0.000000</td>\n      <td>0.004329</td>\n      <td>64.639000</td>\n      <td>0.959883</td>\n      <td>0.000000</td>\n      <td>0.964758</td>\n      <td>0.962513</td>\n      <td>0.000000</td>\n      <td>12.464750</td>\n      <td>1.382594e+19</td>\n    </tr>\n    <tr>\n      <th>max</th>\n      <td>4.330826e+06</td>\n      <td>5.737685e+07</td>\n      <td>35.839874</td>\n      <td>52.794945</td>\n      <td>36.656895</td>\n      <td>53.376816</td>\n      <td>10528.000000</td>\n      <td>28079.000000</td>\n      <td>4.933844e+09</td>\n      <td>1.0</td>\n      <td>...</td>\n      <td>1.000000</td>\n      <td>0.045455</td>\n      <td>8428.820312</td>\n      <td>1.000000</td>\n      <td>0.023997</td>\n      <td>1.000000</td>\n      <td>1.000000</td>\n      <td>732.436646</td>\n      <td>192.143997</td>\n      <td>1.844667e+19</td>\n    </tr>\n  </tbody>\n</table>\n<p>8 rows × 52 columns</p>\n</div>"
     },
     "execution_count": 11,
     "metadata": {},
     "output_type": "execute_result"
    }
   ],
   "source": [
    "rides_train_p4 = rides_train_p4[(rides_train_p4['eta'] > 180) &\n",
    "                                (rides_train_p4['eta'] < 10800) &\n",
    "                                (rides_train_p4['a_t_a_result.ride_a_t_a'] > 180) &\n",
    "                                (rides_train_p4['a_t_a_result.ride_a_t_a'] < 10800)]\n",
    "rides_train_p4.describe()"
   ],
   "metadata": {
    "collapsed": false,
    "pycharm": {
     "name": "#%%\n"
    }
   }
  },
  {
   "cell_type": "code",
   "execution_count": 12,
   "outputs": [
    {
     "data": {
      "text/plain": "       accepted_driver_id  passenger_id     source_lat     source_lng  \\\ncount        4.294170e+05  4.294170e+05  429417.000000  429417.000000   \nmean         2.068551e+06  2.536035e+07      35.682763      51.396537   \nstd          1.388070e+06  1.822495e+07       0.103548       0.150756   \nmin          0.000000e+00  1.100000e+01      35.186329      50.900448   \n25%          7.129390e+05  6.376887e+06      35.642231      51.321552   \n50%          2.136973e+06  2.613987e+07      35.714275      51.402256   \n75%          3.318065e+06  4.077141e+07      35.755016      51.461029   \nmax          4.330826e+06  5.737685e+07      35.839859      52.794945   \n\n       destination_lat  destination_lng            eta            ata  \\\ncount    429417.000000    429417.000000  429417.000000  429417.000000   \nmean         35.694780        51.341683    2488.431424    2989.498520   \nstd           0.105379         0.203733     686.953959    1160.621526   \nmin          34.527206        49.698254    1800.000000     206.000000   \n25%          35.655174        51.246811    2000.000000    2223.000000   \n50%          35.718239        51.388309    2280.000000    2712.000000   \n75%          35.760185        51.454212    2755.000000    3450.000000   \nmax          36.650635        52.890411   10528.000000   24731.000000   \n\n            ride_id      city  ...  pickup_a_d_d_result.route_ratio  \\\ncount  4.294170e+05  429417.0  ...                    429417.000000   \nmean   4.827887e+09       1.0  ...                         0.000138   \nstd    5.947612e+07       0.0  ...                         0.009316   \nmin    4.714479e+09       1.0  ...                         0.000000   \n25%    4.778853e+09       1.0  ...                         0.000000   \n50%    4.830384e+09       1.0  ...                         0.000000   \n75%    4.874500e+09       1.0  ...                         0.000000   \nmax    4.933844e+09       1.0  ...                         1.000000   \n\n       pickup_a_d_d_result.g_p_s_ratio  ride_a_d_d_result.distance  \\\ncount                    429417.000000               429417.000000   \nmean                          0.003502                   54.882286   \nstd                           0.001374                   25.905670   \nmin                           0.000000                    0.518000   \n25%                           0.002732                   36.233002   \n50%                           0.003571                   49.673256   \n75%                           0.004405                   67.780228   \nmax                           0.045455                  313.610565   \n\n       ride_a_d_d_result.confidence  ride_a_d_d_result.route_ratio  \\\ncount                 429417.000000                  429417.000000   \nmean                       0.883479                       0.000006   \nstd                        0.106526                       0.000164   \nmin                        0.600000                       0.000000   \n25%                        0.823008                       0.000000   \n50%                        0.918558                       0.000000   \n75%                        0.968288                       0.000000   \nmax                        1.000000                       0.021476   \n\n       ride_a_d_d_result.g_p_s_ratio  total_a_d_d_confidence  \\\ncount                  429417.000000           429417.000000   \nmean                        0.805651                0.892133   \nstd                         0.228164                0.098338   \nmin                         0.019928                0.071867   \n25%                         0.718876                0.836533   \n50%                         0.906890                0.923619   \n75%                         0.972763                0.970292   \nmax                         1.000000                1.000000   \n\n       in_ride_allotment          e_d_d          hash  \ncount      429417.000000  429417.000000  4.294170e+05  \nmean            0.062530       8.359469  9.216641e+18  \nstd             1.249484      16.432228  5.324820e+18  \nmin             0.000000       0.000000  2.162610e+12  \n25%             0.000000       0.000000  4.601857e+18  \n50%             0.000000       0.000000  9.213324e+18  \n75%             0.000000      12.726000  1.382504e+19  \nmax           732.436646     192.143997  1.844667e+19  \n\n[8 rows x 52 columns]",
      "text/html": "<div>\n<style scoped>\n    .dataframe tbody tr th:only-of-type {\n        vertical-align: middle;\n    }\n\n    .dataframe tbody tr th {\n        vertical-align: top;\n    }\n\n    .dataframe thead th {\n        text-align: right;\n    }\n</style>\n<table border=\"1\" class=\"dataframe\">\n  <thead>\n    <tr style=\"text-align: right;\">\n      <th></th>\n      <th>accepted_driver_id</th>\n      <th>passenger_id</th>\n      <th>source_lat</th>\n      <th>source_lng</th>\n      <th>destination_lat</th>\n      <th>destination_lng</th>\n      <th>eta</th>\n      <th>ata</th>\n      <th>ride_id</th>\n      <th>city</th>\n      <th>...</th>\n      <th>pickup_a_d_d_result.route_ratio</th>\n      <th>pickup_a_d_d_result.g_p_s_ratio</th>\n      <th>ride_a_d_d_result.distance</th>\n      <th>ride_a_d_d_result.confidence</th>\n      <th>ride_a_d_d_result.route_ratio</th>\n      <th>ride_a_d_d_result.g_p_s_ratio</th>\n      <th>total_a_d_d_confidence</th>\n      <th>in_ride_allotment</th>\n      <th>e_d_d</th>\n      <th>hash</th>\n    </tr>\n  </thead>\n  <tbody>\n    <tr>\n      <th>count</th>\n      <td>4.294170e+05</td>\n      <td>4.294170e+05</td>\n      <td>429417.000000</td>\n      <td>429417.000000</td>\n      <td>429417.000000</td>\n      <td>429417.000000</td>\n      <td>429417.000000</td>\n      <td>429417.000000</td>\n      <td>4.294170e+05</td>\n      <td>429417.0</td>\n      <td>...</td>\n      <td>429417.000000</td>\n      <td>429417.000000</td>\n      <td>429417.000000</td>\n      <td>429417.000000</td>\n      <td>429417.000000</td>\n      <td>429417.000000</td>\n      <td>429417.000000</td>\n      <td>429417.000000</td>\n      <td>429417.000000</td>\n      <td>4.294170e+05</td>\n    </tr>\n    <tr>\n      <th>mean</th>\n      <td>2.068551e+06</td>\n      <td>2.536035e+07</td>\n      <td>35.682763</td>\n      <td>51.396537</td>\n      <td>35.694780</td>\n      <td>51.341683</td>\n      <td>2488.431424</td>\n      <td>2989.498520</td>\n      <td>4.827887e+09</td>\n      <td>1.0</td>\n      <td>...</td>\n      <td>0.000138</td>\n      <td>0.003502</td>\n      <td>54.882286</td>\n      <td>0.883479</td>\n      <td>0.000006</td>\n      <td>0.805651</td>\n      <td>0.892133</td>\n      <td>0.062530</td>\n      <td>8.359469</td>\n      <td>9.216641e+18</td>\n    </tr>\n    <tr>\n      <th>std</th>\n      <td>1.388070e+06</td>\n      <td>1.822495e+07</td>\n      <td>0.103548</td>\n      <td>0.150756</td>\n      <td>0.105379</td>\n      <td>0.203733</td>\n      <td>686.953959</td>\n      <td>1160.621526</td>\n      <td>5.947612e+07</td>\n      <td>0.0</td>\n      <td>...</td>\n      <td>0.009316</td>\n      <td>0.001374</td>\n      <td>25.905670</td>\n      <td>0.106526</td>\n      <td>0.000164</td>\n      <td>0.228164</td>\n      <td>0.098338</td>\n      <td>1.249484</td>\n      <td>16.432228</td>\n      <td>5.324820e+18</td>\n    </tr>\n    <tr>\n      <th>min</th>\n      <td>0.000000e+00</td>\n      <td>1.100000e+01</td>\n      <td>35.186329</td>\n      <td>50.900448</td>\n      <td>34.527206</td>\n      <td>49.698254</td>\n      <td>1800.000000</td>\n      <td>206.000000</td>\n      <td>4.714479e+09</td>\n      <td>1.0</td>\n      <td>...</td>\n      <td>0.000000</td>\n      <td>0.000000</td>\n      <td>0.518000</td>\n      <td>0.600000</td>\n      <td>0.000000</td>\n      <td>0.019928</td>\n      <td>0.071867</td>\n      <td>0.000000</td>\n      <td>0.000000</td>\n      <td>2.162610e+12</td>\n    </tr>\n    <tr>\n      <th>25%</th>\n      <td>7.129390e+05</td>\n      <td>6.376887e+06</td>\n      <td>35.642231</td>\n      <td>51.321552</td>\n      <td>35.655174</td>\n      <td>51.246811</td>\n      <td>2000.000000</td>\n      <td>2223.000000</td>\n      <td>4.778853e+09</td>\n      <td>1.0</td>\n      <td>...</td>\n      <td>0.000000</td>\n      <td>0.002732</td>\n      <td>36.233002</td>\n      <td>0.823008</td>\n      <td>0.000000</td>\n      <td>0.718876</td>\n      <td>0.836533</td>\n      <td>0.000000</td>\n      <td>0.000000</td>\n      <td>4.601857e+18</td>\n    </tr>\n    <tr>\n      <th>50%</th>\n      <td>2.136973e+06</td>\n      <td>2.613987e+07</td>\n      <td>35.714275</td>\n      <td>51.402256</td>\n      <td>35.718239</td>\n      <td>51.388309</td>\n      <td>2280.000000</td>\n      <td>2712.000000</td>\n      <td>4.830384e+09</td>\n      <td>1.0</td>\n      <td>...</td>\n      <td>0.000000</td>\n      <td>0.003571</td>\n      <td>49.673256</td>\n      <td>0.918558</td>\n      <td>0.000000</td>\n      <td>0.906890</td>\n      <td>0.923619</td>\n      <td>0.000000</td>\n      <td>0.000000</td>\n      <td>9.213324e+18</td>\n    </tr>\n    <tr>\n      <th>75%</th>\n      <td>3.318065e+06</td>\n      <td>4.077141e+07</td>\n      <td>35.755016</td>\n      <td>51.461029</td>\n      <td>35.760185</td>\n      <td>51.454212</td>\n      <td>2755.000000</td>\n      <td>3450.000000</td>\n      <td>4.874500e+09</td>\n      <td>1.0</td>\n      <td>...</td>\n      <td>0.000000</td>\n      <td>0.004405</td>\n      <td>67.780228</td>\n      <td>0.968288</td>\n      <td>0.000000</td>\n      <td>0.972763</td>\n      <td>0.970292</td>\n      <td>0.000000</td>\n      <td>12.726000</td>\n      <td>1.382504e+19</td>\n    </tr>\n    <tr>\n      <th>max</th>\n      <td>4.330826e+06</td>\n      <td>5.737685e+07</td>\n      <td>35.839859</td>\n      <td>52.794945</td>\n      <td>36.650635</td>\n      <td>52.890411</td>\n      <td>10528.000000</td>\n      <td>24731.000000</td>\n      <td>4.933844e+09</td>\n      <td>1.0</td>\n      <td>...</td>\n      <td>1.000000</td>\n      <td>0.045455</td>\n      <td>313.610565</td>\n      <td>1.000000</td>\n      <td>0.021476</td>\n      <td>1.000000</td>\n      <td>1.000000</td>\n      <td>732.436646</td>\n      <td>192.143997</td>\n      <td>1.844667e+19</td>\n    </tr>\n  </tbody>\n</table>\n<p>8 rows × 52 columns</p>\n</div>"
     },
     "execution_count": 12,
     "metadata": {},
     "output_type": "execute_result"
    }
   ],
   "source": [
    "rides_train_p4 = rides_train_p4[rides_train_p4['ride_a_d_d_result.confidence'] > 0.6]\n",
    "rides_train_p4.describe()"
   ],
   "metadata": {
    "collapsed": false,
    "pycharm": {
     "name": "#%%\n"
    }
   }
  },
  {
   "cell_type": "code",
   "execution_count": 13,
   "outputs": [
    {
     "data": {
      "text/plain": "       accepted_driver_id  passenger_id     source_lat     source_lng  \\\ncount        2.788430e+05  2.788430e+05  278843.000000  278843.000000   \nmean         2.116232e+06  2.609059e+07      35.676287      51.397066   \nstd          1.418592e+06  1.845365e+07       0.107658       0.157915   \nmin          4.000000e+01  4.900000e+01      35.189159      50.900494   \n25%          7.343055e+05  7.001014e+06      35.632809      51.317381   \n50%          2.178018e+06  2.721694e+07      35.708900      51.401840   \n75%          3.385968e+06  4.166389e+07      35.753109      51.465429   \nmax          4.421542e+06  5.813654e+07      35.839905      52.796974   \n\n       destination_lat  destination_lng            eta            ata  \\\ncount    278843.000000    278843.000000  278843.000000  278843.000000   \nmean         35.689944        51.337101    2516.283145    3073.855410   \nstd           0.115357         0.216338     739.017837    1397.028177   \nmin          32.670967        47.098091    1800.000000     197.000000   \n25%          35.648270        51.226746    2004.000000    2209.000000   \n50%          35.714710        51.382637    2298.000000    2725.000000   \n75%          35.758526        51.456905    2800.000000    3530.000000   \nmax          37.795307        53.601524   19173.000000   42949.000000   \n\n            ride_id      city  ...  pickup_a_d_d_result.route_ratio  \\\ncount  2.788430e+05  278843.0  ...                    278843.000000   \nmean   5.011934e+09       1.0  ...                         0.000098   \nstd    4.430596e+07       0.0  ...                         0.007260   \nmin    4.933925e+09       1.0  ...                         0.000000   \n25%    4.973497e+09       1.0  ...                         0.000000   \n50%    5.013222e+09       1.0  ...                         0.000000   \n75%    5.051641e+09       1.0  ...                         0.000000   \nmax    5.083611e+09       1.0  ...                         1.000000   \n\n       pickup_a_d_d_result.g_p_s_ratio  ride_a_d_d_result.distance  \\\ncount                    278843.000000               278843.000000   \nmean                          0.003499                   58.027782   \nstd                           0.001417                   28.392361   \nmin                           0.000000                    1.536007   \n25%                           0.002674                   38.513920   \n50%                           0.003559                   52.609707   \n75%                           0.004425                   71.319210   \nmax                           0.047619                  634.343750   \n\n       ride_a_d_d_result.confidence  ride_a_d_d_result.route_ratio  \\\ncount                 278843.000000                  278843.000000   \nmean                       0.886101                       0.000006   \nstd                        0.106474                       0.000168   \nmin                        0.600000                       0.000000   \n25%                        0.826009                       0.000000   \n50%                        0.922212                       0.000000   \n75%                        0.970838                       0.000000   \nmax                        1.000000                       0.015040   \n\n       ride_a_d_d_result.g_p_s_ratio  total_a_d_d_confidence  \\\ncount                  278843.000000           278843.000000   \nmean                        0.821759                0.894554   \nstd                         0.225150                0.098159   \nmin                         0.002274                0.069230   \n25%                         0.753846                0.839193   \n50%                         0.925072                0.927093   \n75%                         0.978723                0.972556   \nmax                         1.000000                1.000000   \n\n       in_ride_allotment          e_d_d          hash  \ncount      278843.000000  278843.000000  2.788430e+05  \nmean            0.021714      34.136089  9.237461e+18  \nstd             0.273325      17.917391  5.330637e+18  \nmin             0.000000       0.330000  1.176974e+13  \n25%             0.000000      21.434000  4.608636e+18  \n50%             0.000000      30.336000  9.252629e+18  \n75%             0.000000      42.875000  1.386298e+19  \nmax            51.702080     517.880005  1.844673e+19  \n\n[8 rows x 52 columns]",
      "text/html": "<div>\n<style scoped>\n    .dataframe tbody tr th:only-of-type {\n        vertical-align: middle;\n    }\n\n    .dataframe tbody tr th {\n        vertical-align: top;\n    }\n\n    .dataframe thead th {\n        text-align: right;\n    }\n</style>\n<table border=\"1\" class=\"dataframe\">\n  <thead>\n    <tr style=\"text-align: right;\">\n      <th></th>\n      <th>accepted_driver_id</th>\n      <th>passenger_id</th>\n      <th>source_lat</th>\n      <th>source_lng</th>\n      <th>destination_lat</th>\n      <th>destination_lng</th>\n      <th>eta</th>\n      <th>ata</th>\n      <th>ride_id</th>\n      <th>city</th>\n      <th>...</th>\n      <th>pickup_a_d_d_result.route_ratio</th>\n      <th>pickup_a_d_d_result.g_p_s_ratio</th>\n      <th>ride_a_d_d_result.distance</th>\n      <th>ride_a_d_d_result.confidence</th>\n      <th>ride_a_d_d_result.route_ratio</th>\n      <th>ride_a_d_d_result.g_p_s_ratio</th>\n      <th>total_a_d_d_confidence</th>\n      <th>in_ride_allotment</th>\n      <th>e_d_d</th>\n      <th>hash</th>\n    </tr>\n  </thead>\n  <tbody>\n    <tr>\n      <th>count</th>\n      <td>2.788430e+05</td>\n      <td>2.788430e+05</td>\n      <td>278843.000000</td>\n      <td>278843.000000</td>\n      <td>278843.000000</td>\n      <td>278843.000000</td>\n      <td>278843.000000</td>\n      <td>278843.000000</td>\n      <td>2.788430e+05</td>\n      <td>278843.0</td>\n      <td>...</td>\n      <td>278843.000000</td>\n      <td>278843.000000</td>\n      <td>278843.000000</td>\n      <td>278843.000000</td>\n      <td>278843.000000</td>\n      <td>278843.000000</td>\n      <td>278843.000000</td>\n      <td>278843.000000</td>\n      <td>278843.000000</td>\n      <td>2.788430e+05</td>\n    </tr>\n    <tr>\n      <th>mean</th>\n      <td>2.116232e+06</td>\n      <td>2.609059e+07</td>\n      <td>35.676287</td>\n      <td>51.397066</td>\n      <td>35.689944</td>\n      <td>51.337101</td>\n      <td>2516.283145</td>\n      <td>3073.855410</td>\n      <td>5.011934e+09</td>\n      <td>1.0</td>\n      <td>...</td>\n      <td>0.000098</td>\n      <td>0.003499</td>\n      <td>58.027782</td>\n      <td>0.886101</td>\n      <td>0.000006</td>\n      <td>0.821759</td>\n      <td>0.894554</td>\n      <td>0.021714</td>\n      <td>34.136089</td>\n      <td>9.237461e+18</td>\n    </tr>\n    <tr>\n      <th>std</th>\n      <td>1.418592e+06</td>\n      <td>1.845365e+07</td>\n      <td>0.107658</td>\n      <td>0.157915</td>\n      <td>0.115357</td>\n      <td>0.216338</td>\n      <td>739.017837</td>\n      <td>1397.028177</td>\n      <td>4.430596e+07</td>\n      <td>0.0</td>\n      <td>...</td>\n      <td>0.007260</td>\n      <td>0.001417</td>\n      <td>28.392361</td>\n      <td>0.106474</td>\n      <td>0.000168</td>\n      <td>0.225150</td>\n      <td>0.098159</td>\n      <td>0.273325</td>\n      <td>17.917391</td>\n      <td>5.330637e+18</td>\n    </tr>\n    <tr>\n      <th>min</th>\n      <td>4.000000e+01</td>\n      <td>4.900000e+01</td>\n      <td>35.189159</td>\n      <td>50.900494</td>\n      <td>32.670967</td>\n      <td>47.098091</td>\n      <td>1800.000000</td>\n      <td>197.000000</td>\n      <td>4.933925e+09</td>\n      <td>1.0</td>\n      <td>...</td>\n      <td>0.000000</td>\n      <td>0.000000</td>\n      <td>1.536007</td>\n      <td>0.600000</td>\n      <td>0.000000</td>\n      <td>0.002274</td>\n      <td>0.069230</td>\n      <td>0.000000</td>\n      <td>0.330000</td>\n      <td>1.176974e+13</td>\n    </tr>\n    <tr>\n      <th>25%</th>\n      <td>7.343055e+05</td>\n      <td>7.001014e+06</td>\n      <td>35.632809</td>\n      <td>51.317381</td>\n      <td>35.648270</td>\n      <td>51.226746</td>\n      <td>2004.000000</td>\n      <td>2209.000000</td>\n      <td>4.973497e+09</td>\n      <td>1.0</td>\n      <td>...</td>\n      <td>0.000000</td>\n      <td>0.002674</td>\n      <td>38.513920</td>\n      <td>0.826009</td>\n      <td>0.000000</td>\n      <td>0.753846</td>\n      <td>0.839193</td>\n      <td>0.000000</td>\n      <td>21.434000</td>\n      <td>4.608636e+18</td>\n    </tr>\n    <tr>\n      <th>50%</th>\n      <td>2.178018e+06</td>\n      <td>2.721694e+07</td>\n      <td>35.708900</td>\n      <td>51.401840</td>\n      <td>35.714710</td>\n      <td>51.382637</td>\n      <td>2298.000000</td>\n      <td>2725.000000</td>\n      <td>5.013222e+09</td>\n      <td>1.0</td>\n      <td>...</td>\n      <td>0.000000</td>\n      <td>0.003559</td>\n      <td>52.609707</td>\n      <td>0.922212</td>\n      <td>0.000000</td>\n      <td>0.925072</td>\n      <td>0.927093</td>\n      <td>0.000000</td>\n      <td>30.336000</td>\n      <td>9.252629e+18</td>\n    </tr>\n    <tr>\n      <th>75%</th>\n      <td>3.385968e+06</td>\n      <td>4.166389e+07</td>\n      <td>35.753109</td>\n      <td>51.465429</td>\n      <td>35.758526</td>\n      <td>51.456905</td>\n      <td>2800.000000</td>\n      <td>3530.000000</td>\n      <td>5.051641e+09</td>\n      <td>1.0</td>\n      <td>...</td>\n      <td>0.000000</td>\n      <td>0.004425</td>\n      <td>71.319210</td>\n      <td>0.970838</td>\n      <td>0.000000</td>\n      <td>0.978723</td>\n      <td>0.972556</td>\n      <td>0.000000</td>\n      <td>42.875000</td>\n      <td>1.386298e+19</td>\n    </tr>\n    <tr>\n      <th>max</th>\n      <td>4.421542e+06</td>\n      <td>5.813654e+07</td>\n      <td>35.839905</td>\n      <td>52.796974</td>\n      <td>37.795307</td>\n      <td>53.601524</td>\n      <td>19173.000000</td>\n      <td>42949.000000</td>\n      <td>5.083611e+09</td>\n      <td>1.0</td>\n      <td>...</td>\n      <td>1.000000</td>\n      <td>0.047619</td>\n      <td>634.343750</td>\n      <td>1.000000</td>\n      <td>0.015040</td>\n      <td>1.000000</td>\n      <td>1.000000</td>\n      <td>51.702080</td>\n      <td>517.880005</td>\n      <td>1.844673e+19</td>\n    </tr>\n  </tbody>\n</table>\n<p>8 rows × 52 columns</p>\n</div>"
     },
     "execution_count": 13,
     "metadata": {},
     "output_type": "execute_result"
    }
   ],
   "source": [
    "rides_test_p4 = rides_test_p4[rides_test_p4['ride_a_d_d_result.confidence'] > 0.6]\n",
    "rides_test_p4.describe()"
   ],
   "metadata": {
    "collapsed": false,
    "pycharm": {
     "name": "#%%\n"
    }
   }
  },
  {
   "cell_type": "code",
   "execution_count": 14,
   "outputs": [
    {
     "data": {
      "text/plain": "          eta   ata  a_t_a_result.ride_a_t_a           created_at  source_lat  \\\n1        1886  1678                     1686  2022-08-02 21:19:50   35.753071   \n16       2204  2581                     2673  2022-08-02 18:48:21   35.801170   \n21       2083  1833                     1808  2022-08-02 20:09:35   35.617275   \n40       2185  2293                     2265  2022-08-02 20:55:26   35.759720   \n58       2273  2305                     2260  2022-08-02 20:00:03   35.721745   \n...       ...   ...                      ...                  ...         ...   \n4063291  2106  2353                     2325  2022-09-10 18:06:42   35.718906   \n4063306  1824  1795                     1785  2022-09-10 17:27:22   35.768711   \n4063308  1903  2247                     2276  2022-09-10 08:43:43   35.686737   \n4063311  2427  2220                     2202  2022-09-10 00:53:09   35.667233   \n4063338  1856  2357                     2188  2022-09-10 10:39:55   35.677460   \n\n         source_lng  destination_lat  destination_lng      e_d_d  \\\n1         51.364353        35.801231        51.452614   0.000000   \n16        51.417953        35.774540        51.331562   0.000000   \n21        51.488651        35.724304        51.501282   0.000000   \n40        51.262569        35.725605        51.444698   0.000000   \n58        51.335915        35.767059        51.456818   0.000000   \n...             ...              ...              ...        ...   \n4063291   51.183876        35.767773        50.962521  26.833000   \n4063306   51.768398        35.749062        51.517361  32.625000   \n4063308   51.378422        35.766529        51.479244  20.017000   \n4063311   51.344719        35.846325        51.005749  44.632999   \n4063338   51.236629        35.709362        51.404461  19.000000   \n\n             clickhouse_time  \n1        2022-08-02 21:54:54  \n16       2022-08-02 19:40:51  \n21       2022-08-02 20:45:39  \n40       2022-08-02 21:43:43  \n58       2022-08-02 20:48:05  \n...                      ...  \n4063291  2022-09-10 18:51:40  \n4063306  2022-09-10 18:05:34  \n4063308  2022-09-10 09:34:47  \n4063311  2022-09-10 01:38:42  \n4063338  2022-09-10 11:26:09  \n\n[429417 rows x 10 columns]",
      "text/html": "<div>\n<style scoped>\n    .dataframe tbody tr th:only-of-type {\n        vertical-align: middle;\n    }\n\n    .dataframe tbody tr th {\n        vertical-align: top;\n    }\n\n    .dataframe thead th {\n        text-align: right;\n    }\n</style>\n<table border=\"1\" class=\"dataframe\">\n  <thead>\n    <tr style=\"text-align: right;\">\n      <th></th>\n      <th>eta</th>\n      <th>ata</th>\n      <th>a_t_a_result.ride_a_t_a</th>\n      <th>created_at</th>\n      <th>source_lat</th>\n      <th>source_lng</th>\n      <th>destination_lat</th>\n      <th>destination_lng</th>\n      <th>e_d_d</th>\n      <th>clickhouse_time</th>\n    </tr>\n  </thead>\n  <tbody>\n    <tr>\n      <th>1</th>\n      <td>1886</td>\n      <td>1678</td>\n      <td>1686</td>\n      <td>2022-08-02 21:19:50</td>\n      <td>35.753071</td>\n      <td>51.364353</td>\n      <td>35.801231</td>\n      <td>51.452614</td>\n      <td>0.000000</td>\n      <td>2022-08-02 21:54:54</td>\n    </tr>\n    <tr>\n      <th>16</th>\n      <td>2204</td>\n      <td>2581</td>\n      <td>2673</td>\n      <td>2022-08-02 18:48:21</td>\n      <td>35.801170</td>\n      <td>51.417953</td>\n      <td>35.774540</td>\n      <td>51.331562</td>\n      <td>0.000000</td>\n      <td>2022-08-02 19:40:51</td>\n    </tr>\n    <tr>\n      <th>21</th>\n      <td>2083</td>\n      <td>1833</td>\n      <td>1808</td>\n      <td>2022-08-02 20:09:35</td>\n      <td>35.617275</td>\n      <td>51.488651</td>\n      <td>35.724304</td>\n      <td>51.501282</td>\n      <td>0.000000</td>\n      <td>2022-08-02 20:45:39</td>\n    </tr>\n    <tr>\n      <th>40</th>\n      <td>2185</td>\n      <td>2293</td>\n      <td>2265</td>\n      <td>2022-08-02 20:55:26</td>\n      <td>35.759720</td>\n      <td>51.262569</td>\n      <td>35.725605</td>\n      <td>51.444698</td>\n      <td>0.000000</td>\n      <td>2022-08-02 21:43:43</td>\n    </tr>\n    <tr>\n      <th>58</th>\n      <td>2273</td>\n      <td>2305</td>\n      <td>2260</td>\n      <td>2022-08-02 20:00:03</td>\n      <td>35.721745</td>\n      <td>51.335915</td>\n      <td>35.767059</td>\n      <td>51.456818</td>\n      <td>0.000000</td>\n      <td>2022-08-02 20:48:05</td>\n    </tr>\n    <tr>\n      <th>...</th>\n      <td>...</td>\n      <td>...</td>\n      <td>...</td>\n      <td>...</td>\n      <td>...</td>\n      <td>...</td>\n      <td>...</td>\n      <td>...</td>\n      <td>...</td>\n      <td>...</td>\n    </tr>\n    <tr>\n      <th>4063291</th>\n      <td>2106</td>\n      <td>2353</td>\n      <td>2325</td>\n      <td>2022-09-10 18:06:42</td>\n      <td>35.718906</td>\n      <td>51.183876</td>\n      <td>35.767773</td>\n      <td>50.962521</td>\n      <td>26.833000</td>\n      <td>2022-09-10 18:51:40</td>\n    </tr>\n    <tr>\n      <th>4063306</th>\n      <td>1824</td>\n      <td>1795</td>\n      <td>1785</td>\n      <td>2022-09-10 17:27:22</td>\n      <td>35.768711</td>\n      <td>51.768398</td>\n      <td>35.749062</td>\n      <td>51.517361</td>\n      <td>32.625000</td>\n      <td>2022-09-10 18:05:34</td>\n    </tr>\n    <tr>\n      <th>4063308</th>\n      <td>1903</td>\n      <td>2247</td>\n      <td>2276</td>\n      <td>2022-09-10 08:43:43</td>\n      <td>35.686737</td>\n      <td>51.378422</td>\n      <td>35.766529</td>\n      <td>51.479244</td>\n      <td>20.017000</td>\n      <td>2022-09-10 09:34:47</td>\n    </tr>\n    <tr>\n      <th>4063311</th>\n      <td>2427</td>\n      <td>2220</td>\n      <td>2202</td>\n      <td>2022-09-10 00:53:09</td>\n      <td>35.667233</td>\n      <td>51.344719</td>\n      <td>35.846325</td>\n      <td>51.005749</td>\n      <td>44.632999</td>\n      <td>2022-09-10 01:38:42</td>\n    </tr>\n    <tr>\n      <th>4063338</th>\n      <td>1856</td>\n      <td>2357</td>\n      <td>2188</td>\n      <td>2022-09-10 10:39:55</td>\n      <td>35.677460</td>\n      <td>51.236629</td>\n      <td>35.709362</td>\n      <td>51.404461</td>\n      <td>19.000000</td>\n      <td>2022-09-10 11:26:09</td>\n    </tr>\n  </tbody>\n</table>\n<p>429417 rows × 10 columns</p>\n</div>"
     },
     "execution_count": 14,
     "metadata": {},
     "output_type": "execute_result"
    }
   ],
   "source": [
    "rides_train_p4 = rides_train_p4[['eta', 'ata', 'a_t_a_result.ride_a_t_a', 'created_at', 'source_lat', 'source_lng', 'destination_lat', 'destination_lng', 'e_d_d', 'clickhouse_time']]\n",
    "rides_train_p4"
   ],
   "metadata": {
    "collapsed": false,
    "pycharm": {
     "name": "#%%\n"
    }
   }
  },
  {
   "cell_type": "code",
   "execution_count": 15,
   "outputs": [
    {
     "data": {
      "text/plain": "          eta   ata  a_t_a_result.ride_a_t_a           created_at  source_lat  \\\n17       2944  2778                     2750  2022-09-11 20:54:38   35.640404   \n23       2364  2719                     2491  2022-09-11 22:03:11   35.351887   \n28       2436  2816                     3452  2022-09-11 14:17:32   35.635067   \n36       2132  2491                     2592  2022-09-11 12:36:45   35.774742   \n40       2776  2386                     2333  2022-09-11 15:26:48   35.373806   \n...       ...   ...                      ...                  ...         ...   \n2729963  2660  6153                     5852  2022-10-09 14:43:23   35.721123   \n2729966  2004  3809                     3793  2022-10-09 15:54:14   35.764214   \n2729968  2170  2953                     2956  2022-10-09 12:37:31   35.775448   \n2729976  3134  4588                     4224  2022-10-09 09:28:07   35.735134   \n2729986  2466  1786                     1777  2022-10-09 19:16:07   35.792358   \n\n         source_lng  destination_lat  destination_lng      e_d_d  \\\n17        51.416351        35.768814        51.276939  40.091000   \n23        51.645844        35.599098        51.442066  38.363998   \n28        51.381229        35.780197        51.467113  30.767000   \n36        51.369663        35.672554        51.479824  29.271000   \n40        51.234982        35.590813        51.437553  44.577999   \n...             ...              ...              ...        ...   \n2729963   51.510109        35.521900        51.249054  43.882999   \n2729966   51.475269        35.750290        51.286972  19.643000   \n2729968   51.384750        35.719559        51.607353  29.955999   \n2729976   51.420135        35.485798        51.686787  43.558998   \n2729986   51.417782        35.714901        51.436726  11.315000   \n\n             clickhouse_time  \n17       2022-09-11 22:09:37  \n23       2022-09-11 23:02:15  \n28       2022-09-11 15:24:33  \n36       2022-09-11 13:26:27  \n40       2022-09-11 16:34:11  \n...                      ...  \n2729963  2022-10-09 16:35:42  \n2729966  2022-10-09 17:08:56  \n2729968  2022-10-09 13:36:01  \n2729976  2022-10-09 10:55:43  \n2729986  2022-10-09 19:52:31  \n\n[278843 rows x 10 columns]",
      "text/html": "<div>\n<style scoped>\n    .dataframe tbody tr th:only-of-type {\n        vertical-align: middle;\n    }\n\n    .dataframe tbody tr th {\n        vertical-align: top;\n    }\n\n    .dataframe thead th {\n        text-align: right;\n    }\n</style>\n<table border=\"1\" class=\"dataframe\">\n  <thead>\n    <tr style=\"text-align: right;\">\n      <th></th>\n      <th>eta</th>\n      <th>ata</th>\n      <th>a_t_a_result.ride_a_t_a</th>\n      <th>created_at</th>\n      <th>source_lat</th>\n      <th>source_lng</th>\n      <th>destination_lat</th>\n      <th>destination_lng</th>\n      <th>e_d_d</th>\n      <th>clickhouse_time</th>\n    </tr>\n  </thead>\n  <tbody>\n    <tr>\n      <th>17</th>\n      <td>2944</td>\n      <td>2778</td>\n      <td>2750</td>\n      <td>2022-09-11 20:54:38</td>\n      <td>35.640404</td>\n      <td>51.416351</td>\n      <td>35.768814</td>\n      <td>51.276939</td>\n      <td>40.091000</td>\n      <td>2022-09-11 22:09:37</td>\n    </tr>\n    <tr>\n      <th>23</th>\n      <td>2364</td>\n      <td>2719</td>\n      <td>2491</td>\n      <td>2022-09-11 22:03:11</td>\n      <td>35.351887</td>\n      <td>51.645844</td>\n      <td>35.599098</td>\n      <td>51.442066</td>\n      <td>38.363998</td>\n      <td>2022-09-11 23:02:15</td>\n    </tr>\n    <tr>\n      <th>28</th>\n      <td>2436</td>\n      <td>2816</td>\n      <td>3452</td>\n      <td>2022-09-11 14:17:32</td>\n      <td>35.635067</td>\n      <td>51.381229</td>\n      <td>35.780197</td>\n      <td>51.467113</td>\n      <td>30.767000</td>\n      <td>2022-09-11 15:24:33</td>\n    </tr>\n    <tr>\n      <th>36</th>\n      <td>2132</td>\n      <td>2491</td>\n      <td>2592</td>\n      <td>2022-09-11 12:36:45</td>\n      <td>35.774742</td>\n      <td>51.369663</td>\n      <td>35.672554</td>\n      <td>51.479824</td>\n      <td>29.271000</td>\n      <td>2022-09-11 13:26:27</td>\n    </tr>\n    <tr>\n      <th>40</th>\n      <td>2776</td>\n      <td>2386</td>\n      <td>2333</td>\n      <td>2022-09-11 15:26:48</td>\n      <td>35.373806</td>\n      <td>51.234982</td>\n      <td>35.590813</td>\n      <td>51.437553</td>\n      <td>44.577999</td>\n      <td>2022-09-11 16:34:11</td>\n    </tr>\n    <tr>\n      <th>...</th>\n      <td>...</td>\n      <td>...</td>\n      <td>...</td>\n      <td>...</td>\n      <td>...</td>\n      <td>...</td>\n      <td>...</td>\n      <td>...</td>\n      <td>...</td>\n      <td>...</td>\n    </tr>\n    <tr>\n      <th>2729963</th>\n      <td>2660</td>\n      <td>6153</td>\n      <td>5852</td>\n      <td>2022-10-09 14:43:23</td>\n      <td>35.721123</td>\n      <td>51.510109</td>\n      <td>35.521900</td>\n      <td>51.249054</td>\n      <td>43.882999</td>\n      <td>2022-10-09 16:35:42</td>\n    </tr>\n    <tr>\n      <th>2729966</th>\n      <td>2004</td>\n      <td>3809</td>\n      <td>3793</td>\n      <td>2022-10-09 15:54:14</td>\n      <td>35.764214</td>\n      <td>51.475269</td>\n      <td>35.750290</td>\n      <td>51.286972</td>\n      <td>19.643000</td>\n      <td>2022-10-09 17:08:56</td>\n    </tr>\n    <tr>\n      <th>2729968</th>\n      <td>2170</td>\n      <td>2953</td>\n      <td>2956</td>\n      <td>2022-10-09 12:37:31</td>\n      <td>35.775448</td>\n      <td>51.384750</td>\n      <td>35.719559</td>\n      <td>51.607353</td>\n      <td>29.955999</td>\n      <td>2022-10-09 13:36:01</td>\n    </tr>\n    <tr>\n      <th>2729976</th>\n      <td>3134</td>\n      <td>4588</td>\n      <td>4224</td>\n      <td>2022-10-09 09:28:07</td>\n      <td>35.735134</td>\n      <td>51.420135</td>\n      <td>35.485798</td>\n      <td>51.686787</td>\n      <td>43.558998</td>\n      <td>2022-10-09 10:55:43</td>\n    </tr>\n    <tr>\n      <th>2729986</th>\n      <td>2466</td>\n      <td>1786</td>\n      <td>1777</td>\n      <td>2022-10-09 19:16:07</td>\n      <td>35.792358</td>\n      <td>51.417782</td>\n      <td>35.714901</td>\n      <td>51.436726</td>\n      <td>11.315000</td>\n      <td>2022-10-09 19:52:31</td>\n    </tr>\n  </tbody>\n</table>\n<p>278843 rows × 10 columns</p>\n</div>"
     },
     "execution_count": 15,
     "metadata": {},
     "output_type": "execute_result"
    }
   ],
   "source": [
    "rides_test_p4 = rides_test_p4[['eta', 'ata', 'a_t_a_result.ride_a_t_a', 'created_at', 'source_lat', 'source_lng', 'destination_lat', 'destination_lng', 'e_d_d', 'clickhouse_time']]\n",
    "rides_test_p4"
   ],
   "metadata": {
    "collapsed": false,
    "pycharm": {
     "name": "#%%\n"
    }
   }
  },
  {
   "cell_type": "code",
   "execution_count": 16,
   "outputs": [
    {
     "data": {
      "text/plain": "          eta   ata  a_t_a_result.ride_a_t_a           created_at  source_lat  \\\n1        1886  1678                     1686  2022-08-02 21:19:50   35.753071   \n16       2204  2581                     2673  2022-08-02 18:48:21   35.801170   \n21       2083  1833                     1808  2022-08-02 20:09:35   35.617275   \n40       2185  2293                     2265  2022-08-02 20:55:26   35.759720   \n58       2273  2305                     2260  2022-08-02 20:00:03   35.721745   \n...       ...   ...                      ...                  ...         ...   \n4063291  2106  2353                     2325  2022-09-10 18:06:42   35.718906   \n4063306  1824  1795                     1785  2022-09-10 17:27:22   35.768711   \n4063308  1903  2247                     2276  2022-09-10 08:43:43   35.686737   \n4063311  2427  2220                     2202  2022-09-10 00:53:09   35.667233   \n4063338  1856  2357                     2188  2022-09-10 10:39:55   35.677460   \n\n         source_lng  destination_lat  destination_lng      e_d_d  \\\n1         51.364353        35.801231        51.452614   0.000000   \n16        51.417953        35.774540        51.331562   0.000000   \n21        51.488651        35.724304        51.501282   0.000000   \n40        51.262569        35.725605        51.444698   0.000000   \n58        51.335915        35.767059        51.456818   0.000000   \n...             ...              ...              ...        ...   \n4063291   51.183876        35.767773        50.962521  26.833000   \n4063306   51.768398        35.749062        51.517361  32.625000   \n4063308   51.378422        35.766529        51.479244  20.017000   \n4063311   51.344719        35.846325        51.005749  44.632999   \n4063338   51.236629        35.709362        51.404461  19.000000   \n\n             clickhouse_time      source_h3_4        dest_h3_4       hour  \\\n1        2022-08-02 21:54:54  842cf31ffffffff  842cf31ffffffff  93.330556   \n16       2022-08-02 19:40:51  842cf31ffffffff  842cf31ffffffff  90.805833   \n21       2022-08-02 20:45:39  842cf31ffffffff  842cf31ffffffff  92.159722   \n40       2022-08-02 21:43:43  842cf31ffffffff  842cf31ffffffff  92.923889   \n58       2022-08-02 20:48:05  842cf31ffffffff  842cf31ffffffff  92.000833   \n...                      ...              ...              ...        ...   \n4063291  2022-09-10 18:51:40  842cf31ffffffff  842cf3dffffffff  18.111667   \n4063306  2022-09-10 18:05:34  842cf33ffffffff  842cf31ffffffff  17.456111   \n4063308  2022-09-10 09:34:47  842cf31ffffffff  842cf31ffffffff   8.728611   \n4063311  2022-09-10 01:38:42  842cf31ffffffff  842cf39ffffffff   0.885833   \n4063338  2022-09-10 11:26:09  842cf31ffffffff  842cf31ffffffff  10.665278   \n\n         holiday  \n1              0  \n16             0  \n21             0  \n40             0  \n58             0  \n...          ...  \n4063291        0  \n4063306        0  \n4063308        0  \n4063311        0  \n4063338        0  \n\n[429417 rows x 14 columns]",
      "text/html": "<div>\n<style scoped>\n    .dataframe tbody tr th:only-of-type {\n        vertical-align: middle;\n    }\n\n    .dataframe tbody tr th {\n        vertical-align: top;\n    }\n\n    .dataframe thead th {\n        text-align: right;\n    }\n</style>\n<table border=\"1\" class=\"dataframe\">\n  <thead>\n    <tr style=\"text-align: right;\">\n      <th></th>\n      <th>eta</th>\n      <th>ata</th>\n      <th>a_t_a_result.ride_a_t_a</th>\n      <th>created_at</th>\n      <th>source_lat</th>\n      <th>source_lng</th>\n      <th>destination_lat</th>\n      <th>destination_lng</th>\n      <th>e_d_d</th>\n      <th>clickhouse_time</th>\n      <th>source_h3_4</th>\n      <th>dest_h3_4</th>\n      <th>hour</th>\n      <th>holiday</th>\n    </tr>\n  </thead>\n  <tbody>\n    <tr>\n      <th>1</th>\n      <td>1886</td>\n      <td>1678</td>\n      <td>1686</td>\n      <td>2022-08-02 21:19:50</td>\n      <td>35.753071</td>\n      <td>51.364353</td>\n      <td>35.801231</td>\n      <td>51.452614</td>\n      <td>0.000000</td>\n      <td>2022-08-02 21:54:54</td>\n      <td>842cf31ffffffff</td>\n      <td>842cf31ffffffff</td>\n      <td>93.330556</td>\n      <td>0</td>\n    </tr>\n    <tr>\n      <th>16</th>\n      <td>2204</td>\n      <td>2581</td>\n      <td>2673</td>\n      <td>2022-08-02 18:48:21</td>\n      <td>35.801170</td>\n      <td>51.417953</td>\n      <td>35.774540</td>\n      <td>51.331562</td>\n      <td>0.000000</td>\n      <td>2022-08-02 19:40:51</td>\n      <td>842cf31ffffffff</td>\n      <td>842cf31ffffffff</td>\n      <td>90.805833</td>\n      <td>0</td>\n    </tr>\n    <tr>\n      <th>21</th>\n      <td>2083</td>\n      <td>1833</td>\n      <td>1808</td>\n      <td>2022-08-02 20:09:35</td>\n      <td>35.617275</td>\n      <td>51.488651</td>\n      <td>35.724304</td>\n      <td>51.501282</td>\n      <td>0.000000</td>\n      <td>2022-08-02 20:45:39</td>\n      <td>842cf31ffffffff</td>\n      <td>842cf31ffffffff</td>\n      <td>92.159722</td>\n      <td>0</td>\n    </tr>\n    <tr>\n      <th>40</th>\n      <td>2185</td>\n      <td>2293</td>\n      <td>2265</td>\n      <td>2022-08-02 20:55:26</td>\n      <td>35.759720</td>\n      <td>51.262569</td>\n      <td>35.725605</td>\n      <td>51.444698</td>\n      <td>0.000000</td>\n      <td>2022-08-02 21:43:43</td>\n      <td>842cf31ffffffff</td>\n      <td>842cf31ffffffff</td>\n      <td>92.923889</td>\n      <td>0</td>\n    </tr>\n    <tr>\n      <th>58</th>\n      <td>2273</td>\n      <td>2305</td>\n      <td>2260</td>\n      <td>2022-08-02 20:00:03</td>\n      <td>35.721745</td>\n      <td>51.335915</td>\n      <td>35.767059</td>\n      <td>51.456818</td>\n      <td>0.000000</td>\n      <td>2022-08-02 20:48:05</td>\n      <td>842cf31ffffffff</td>\n      <td>842cf31ffffffff</td>\n      <td>92.000833</td>\n      <td>0</td>\n    </tr>\n    <tr>\n      <th>...</th>\n      <td>...</td>\n      <td>...</td>\n      <td>...</td>\n      <td>...</td>\n      <td>...</td>\n      <td>...</td>\n      <td>...</td>\n      <td>...</td>\n      <td>...</td>\n      <td>...</td>\n      <td>...</td>\n      <td>...</td>\n      <td>...</td>\n      <td>...</td>\n    </tr>\n    <tr>\n      <th>4063291</th>\n      <td>2106</td>\n      <td>2353</td>\n      <td>2325</td>\n      <td>2022-09-10 18:06:42</td>\n      <td>35.718906</td>\n      <td>51.183876</td>\n      <td>35.767773</td>\n      <td>50.962521</td>\n      <td>26.833000</td>\n      <td>2022-09-10 18:51:40</td>\n      <td>842cf31ffffffff</td>\n      <td>842cf3dffffffff</td>\n      <td>18.111667</td>\n      <td>0</td>\n    </tr>\n    <tr>\n      <th>4063306</th>\n      <td>1824</td>\n      <td>1795</td>\n      <td>1785</td>\n      <td>2022-09-10 17:27:22</td>\n      <td>35.768711</td>\n      <td>51.768398</td>\n      <td>35.749062</td>\n      <td>51.517361</td>\n      <td>32.625000</td>\n      <td>2022-09-10 18:05:34</td>\n      <td>842cf33ffffffff</td>\n      <td>842cf31ffffffff</td>\n      <td>17.456111</td>\n      <td>0</td>\n    </tr>\n    <tr>\n      <th>4063308</th>\n      <td>1903</td>\n      <td>2247</td>\n      <td>2276</td>\n      <td>2022-09-10 08:43:43</td>\n      <td>35.686737</td>\n      <td>51.378422</td>\n      <td>35.766529</td>\n      <td>51.479244</td>\n      <td>20.017000</td>\n      <td>2022-09-10 09:34:47</td>\n      <td>842cf31ffffffff</td>\n      <td>842cf31ffffffff</td>\n      <td>8.728611</td>\n      <td>0</td>\n    </tr>\n    <tr>\n      <th>4063311</th>\n      <td>2427</td>\n      <td>2220</td>\n      <td>2202</td>\n      <td>2022-09-10 00:53:09</td>\n      <td>35.667233</td>\n      <td>51.344719</td>\n      <td>35.846325</td>\n      <td>51.005749</td>\n      <td>44.632999</td>\n      <td>2022-09-10 01:38:42</td>\n      <td>842cf31ffffffff</td>\n      <td>842cf39ffffffff</td>\n      <td>0.885833</td>\n      <td>0</td>\n    </tr>\n    <tr>\n      <th>4063338</th>\n      <td>1856</td>\n      <td>2357</td>\n      <td>2188</td>\n      <td>2022-09-10 10:39:55</td>\n      <td>35.677460</td>\n      <td>51.236629</td>\n      <td>35.709362</td>\n      <td>51.404461</td>\n      <td>19.000000</td>\n      <td>2022-09-10 11:26:09</td>\n      <td>842cf31ffffffff</td>\n      <td>842cf31ffffffff</td>\n      <td>10.665278</td>\n      <td>0</td>\n    </tr>\n  </tbody>\n</table>\n<p>429417 rows × 14 columns</p>\n</div>"
     },
     "execution_count": 16,
     "metadata": {},
     "output_type": "execute_result"
    }
   ],
   "source": [
    "rides_train_p4['source_h3_4'] = rides_train_p4.apply(lambda row: h3.geo_to_h3(row.source_lat, row.source_lng, 4), axis=1)\n",
    "rides_train_p4['dest_h3_4'] = rides_train_p4.apply(lambda row: h3.geo_to_h3(row.destination_lat, row.destination_lng, 4), axis=1)\n",
    "rides_train_p4['hour'] = rides_train_p4.apply(lambda row: ((datetime.timestamp(datetime.strptime(row.created_at,\"%Y-%m-%d %H:%M:%S\")) - 1662147000) % 604800) / 3600, axis=1)\n",
    "rides_train_p4['holiday'] = rides_train_p4.apply(lambda row: int(row.created_at.split()[0] in train_holidays), axis=1)\n",
    "rides_train_p4"
   ],
   "metadata": {
    "collapsed": false,
    "pycharm": {
     "name": "#%%\n"
    }
   }
  },
  {
   "cell_type": "code",
   "execution_count": 17,
   "outputs": [
    {
     "data": {
      "text/plain": "          eta   ata  a_t_a_result.ride_a_t_a           created_at  source_lat  \\\n17       2944  2778                     2750  2022-09-11 20:54:38   35.640404   \n23       2364  2719                     2491  2022-09-11 22:03:11   35.351887   \n28       2436  2816                     3452  2022-09-11 14:17:32   35.635067   \n36       2132  2491                     2592  2022-09-11 12:36:45   35.774742   \n40       2776  2386                     2333  2022-09-11 15:26:48   35.373806   \n...       ...   ...                      ...                  ...         ...   \n2729963  2660  6153                     5852  2022-10-09 14:43:23   35.721123   \n2729966  2004  3809                     3793  2022-10-09 15:54:14   35.764214   \n2729968  2170  2953                     2956  2022-10-09 12:37:31   35.775448   \n2729976  3134  4588                     4224  2022-10-09 09:28:07   35.735134   \n2729986  2466  1786                     1777  2022-10-09 19:16:07   35.792358   \n\n         source_lng  destination_lat  destination_lng      e_d_d  \\\n17        51.416351        35.768814        51.276939  40.091000   \n23        51.645844        35.599098        51.442066  38.363998   \n28        51.381229        35.780197        51.467113  30.767000   \n36        51.369663        35.672554        51.479824  29.271000   \n40        51.234982        35.590813        51.437553  44.577999   \n...             ...              ...              ...        ...   \n2729963   51.510109        35.521900        51.249054  43.882999   \n2729966   51.475269        35.750290        51.286972  19.643000   \n2729968   51.384750        35.719559        51.607353  29.955999   \n2729976   51.420135        35.485798        51.686787  43.558998   \n2729986   51.417782        35.714901        51.436726  11.315000   \n\n             clickhouse_time      source_h3_4        dest_h3_4       hour  \\\n17       2022-09-11 22:09:37  842cf31ffffffff  842cf31ffffffff  44.910556   \n23       2022-09-11 23:02:15  842cf37ffffffff  842cf31ffffffff  46.053056   \n28       2022-09-11 15:24:33  842cf31ffffffff  842cf31ffffffff  38.292222   \n36       2022-09-11 13:26:27  842cf31ffffffff  842cf31ffffffff  36.612500   \n40       2022-09-11 16:34:11  842cf35ffffffff  842cf31ffffffff  39.446667   \n...                      ...              ...              ...        ...   \n2729963  2022-10-09 16:35:42  842cf31ffffffff  842cf35ffffffff  39.723056   \n2729966  2022-10-09 17:08:56  842cf31ffffffff  842cf31ffffffff  40.903889   \n2729968  2022-10-09 13:36:01  842cf31ffffffff  842cf31ffffffff  37.625278   \n2729976  2022-10-09 10:55:43  842cf31ffffffff  842cf37ffffffff  34.468611   \n2729986  2022-10-09 19:52:31  842cf31ffffffff  842cf31ffffffff  44.268611   \n\n         holiday  \n17             0  \n23             0  \n28             0  \n36             0  \n40             0  \n...          ...  \n2729963        0  \n2729966        0  \n2729968        0  \n2729976        0  \n2729986        0  \n\n[278843 rows x 14 columns]",
      "text/html": "<div>\n<style scoped>\n    .dataframe tbody tr th:only-of-type {\n        vertical-align: middle;\n    }\n\n    .dataframe tbody tr th {\n        vertical-align: top;\n    }\n\n    .dataframe thead th {\n        text-align: right;\n    }\n</style>\n<table border=\"1\" class=\"dataframe\">\n  <thead>\n    <tr style=\"text-align: right;\">\n      <th></th>\n      <th>eta</th>\n      <th>ata</th>\n      <th>a_t_a_result.ride_a_t_a</th>\n      <th>created_at</th>\n      <th>source_lat</th>\n      <th>source_lng</th>\n      <th>destination_lat</th>\n      <th>destination_lng</th>\n      <th>e_d_d</th>\n      <th>clickhouse_time</th>\n      <th>source_h3_4</th>\n      <th>dest_h3_4</th>\n      <th>hour</th>\n      <th>holiday</th>\n    </tr>\n  </thead>\n  <tbody>\n    <tr>\n      <th>17</th>\n      <td>2944</td>\n      <td>2778</td>\n      <td>2750</td>\n      <td>2022-09-11 20:54:38</td>\n      <td>35.640404</td>\n      <td>51.416351</td>\n      <td>35.768814</td>\n      <td>51.276939</td>\n      <td>40.091000</td>\n      <td>2022-09-11 22:09:37</td>\n      <td>842cf31ffffffff</td>\n      <td>842cf31ffffffff</td>\n      <td>44.910556</td>\n      <td>0</td>\n    </tr>\n    <tr>\n      <th>23</th>\n      <td>2364</td>\n      <td>2719</td>\n      <td>2491</td>\n      <td>2022-09-11 22:03:11</td>\n      <td>35.351887</td>\n      <td>51.645844</td>\n      <td>35.599098</td>\n      <td>51.442066</td>\n      <td>38.363998</td>\n      <td>2022-09-11 23:02:15</td>\n      <td>842cf37ffffffff</td>\n      <td>842cf31ffffffff</td>\n      <td>46.053056</td>\n      <td>0</td>\n    </tr>\n    <tr>\n      <th>28</th>\n      <td>2436</td>\n      <td>2816</td>\n      <td>3452</td>\n      <td>2022-09-11 14:17:32</td>\n      <td>35.635067</td>\n      <td>51.381229</td>\n      <td>35.780197</td>\n      <td>51.467113</td>\n      <td>30.767000</td>\n      <td>2022-09-11 15:24:33</td>\n      <td>842cf31ffffffff</td>\n      <td>842cf31ffffffff</td>\n      <td>38.292222</td>\n      <td>0</td>\n    </tr>\n    <tr>\n      <th>36</th>\n      <td>2132</td>\n      <td>2491</td>\n      <td>2592</td>\n      <td>2022-09-11 12:36:45</td>\n      <td>35.774742</td>\n      <td>51.369663</td>\n      <td>35.672554</td>\n      <td>51.479824</td>\n      <td>29.271000</td>\n      <td>2022-09-11 13:26:27</td>\n      <td>842cf31ffffffff</td>\n      <td>842cf31ffffffff</td>\n      <td>36.612500</td>\n      <td>0</td>\n    </tr>\n    <tr>\n      <th>40</th>\n      <td>2776</td>\n      <td>2386</td>\n      <td>2333</td>\n      <td>2022-09-11 15:26:48</td>\n      <td>35.373806</td>\n      <td>51.234982</td>\n      <td>35.590813</td>\n      <td>51.437553</td>\n      <td>44.577999</td>\n      <td>2022-09-11 16:34:11</td>\n      <td>842cf35ffffffff</td>\n      <td>842cf31ffffffff</td>\n      <td>39.446667</td>\n      <td>0</td>\n    </tr>\n    <tr>\n      <th>...</th>\n      <td>...</td>\n      <td>...</td>\n      <td>...</td>\n      <td>...</td>\n      <td>...</td>\n      <td>...</td>\n      <td>...</td>\n      <td>...</td>\n      <td>...</td>\n      <td>...</td>\n      <td>...</td>\n      <td>...</td>\n      <td>...</td>\n      <td>...</td>\n    </tr>\n    <tr>\n      <th>2729963</th>\n      <td>2660</td>\n      <td>6153</td>\n      <td>5852</td>\n      <td>2022-10-09 14:43:23</td>\n      <td>35.721123</td>\n      <td>51.510109</td>\n      <td>35.521900</td>\n      <td>51.249054</td>\n      <td>43.882999</td>\n      <td>2022-10-09 16:35:42</td>\n      <td>842cf31ffffffff</td>\n      <td>842cf35ffffffff</td>\n      <td>39.723056</td>\n      <td>0</td>\n    </tr>\n    <tr>\n      <th>2729966</th>\n      <td>2004</td>\n      <td>3809</td>\n      <td>3793</td>\n      <td>2022-10-09 15:54:14</td>\n      <td>35.764214</td>\n      <td>51.475269</td>\n      <td>35.750290</td>\n      <td>51.286972</td>\n      <td>19.643000</td>\n      <td>2022-10-09 17:08:56</td>\n      <td>842cf31ffffffff</td>\n      <td>842cf31ffffffff</td>\n      <td>40.903889</td>\n      <td>0</td>\n    </tr>\n    <tr>\n      <th>2729968</th>\n      <td>2170</td>\n      <td>2953</td>\n      <td>2956</td>\n      <td>2022-10-09 12:37:31</td>\n      <td>35.775448</td>\n      <td>51.384750</td>\n      <td>35.719559</td>\n      <td>51.607353</td>\n      <td>29.955999</td>\n      <td>2022-10-09 13:36:01</td>\n      <td>842cf31ffffffff</td>\n      <td>842cf31ffffffff</td>\n      <td>37.625278</td>\n      <td>0</td>\n    </tr>\n    <tr>\n      <th>2729976</th>\n      <td>3134</td>\n      <td>4588</td>\n      <td>4224</td>\n      <td>2022-10-09 09:28:07</td>\n      <td>35.735134</td>\n      <td>51.420135</td>\n      <td>35.485798</td>\n      <td>51.686787</td>\n      <td>43.558998</td>\n      <td>2022-10-09 10:55:43</td>\n      <td>842cf31ffffffff</td>\n      <td>842cf37ffffffff</td>\n      <td>34.468611</td>\n      <td>0</td>\n    </tr>\n    <tr>\n      <th>2729986</th>\n      <td>2466</td>\n      <td>1786</td>\n      <td>1777</td>\n      <td>2022-10-09 19:16:07</td>\n      <td>35.792358</td>\n      <td>51.417782</td>\n      <td>35.714901</td>\n      <td>51.436726</td>\n      <td>11.315000</td>\n      <td>2022-10-09 19:52:31</td>\n      <td>842cf31ffffffff</td>\n      <td>842cf31ffffffff</td>\n      <td>44.268611</td>\n      <td>0</td>\n    </tr>\n  </tbody>\n</table>\n<p>278843 rows × 14 columns</p>\n</div>"
     },
     "execution_count": 17,
     "metadata": {},
     "output_type": "execute_result"
    }
   ],
   "source": [
    "rides_test_p4['source_h3_4'] = rides_test_p4.apply(lambda row: h3.geo_to_h3(row.source_lat, row.source_lng, 4), axis=1)\n",
    "rides_test_p4['dest_h3_4'] = rides_test_p4.apply(lambda row: h3.geo_to_h3(row.destination_lat, row.destination_lng, 4), axis=1)\n",
    "rides_test_p4['hour'] = rides_test_p4.apply(lambda row: ((datetime.timestamp(datetime.strptime(row.created_at,\"%Y-%m-%d %H:%M:%S\")) - 1662147000) % 604800) / 3600, axis=1)\n",
    "rides_test_p4['holiday'] = rides_test_p4.apply(lambda row: int(row.created_at.split()[0] in test_holidays), axis=1)\n",
    "rides_test_p4"
   ],
   "metadata": {
    "collapsed": false,
    "pycharm": {
     "name": "#%%\n"
    }
   }
  },
  {
   "cell_type": "code",
   "execution_count": 18,
   "outputs": [],
   "source": [
    "# , \"e_d_d\"\n",
    "rides_train_p4_x = rides_train_p4[[\"eta\", \"source_h3_4\", \"dest_h3_4\", \"hour\", \"holiday\"]]\n",
    "rides_train_p4_y = rides_train_p4[\"a_t_a_result.ride_a_t_a\"]"
   ],
   "metadata": {
    "collapsed": false,
    "pycharm": {
     "name": "#%%\n"
    }
   }
  },
  {
   "cell_type": "code",
   "execution_count": 19,
   "outputs": [],
   "source": [
    "# , \"e_d_d\"\n",
    "rides_test_p4_x = rides_test_p4[[\"eta\", \"source_h3_4\", \"dest_h3_4\", \"hour\", \"holiday\"]]\n",
    "rides_test_p4_y = rides_test_p4[\"a_t_a_result.ride_a_t_a\"]"
   ],
   "metadata": {
    "collapsed": false,
    "pycharm": {
     "name": "#%%\n"
    }
   }
  },
  {
   "cell_type": "code",
   "execution_count": 20,
   "outputs": [
    {
     "data": {
      "text/plain": "                 eta           hour        holiday  \\\ncount  429417.000000  429417.000000  429417.000000   \nmean     2488.431424      82.662780       0.013341   \nstd       686.953959      44.530640       0.114732   \nmin      1800.000000       0.001389       0.000000   \n25%      2000.000000      43.219167       0.000000   \n50%      2280.000000      86.279722       0.000000   \n75%      2755.000000     115.541389       0.000000   \nmax     10528.000000     167.413889       1.000000   \n\n       source_h3_4_842cd4bffffffff  source_h3_4_842cd59ffffffff  \\\ncount                429417.000000                429417.000000   \nmean                      0.000759                     0.002408   \nstd                       0.027543                     0.049011   \nmin                       0.000000                     0.000000   \n25%                       0.000000                     0.000000   \n50%                       0.000000                     0.000000   \n75%                       0.000000                     0.000000   \nmax                       1.000000                     1.000000   \n\n       source_h3_4_842cd5bffffffff  source_h3_4_842cf31ffffffff  \\\ncount                429417.000000                429417.000000   \nmean                      0.000079                     0.792789   \nstd                       0.008898                     0.405309   \nmin                       0.000000                     0.000000   \n25%                       0.000000                     1.000000   \n50%                       0.000000                     1.000000   \n75%                       0.000000                     1.000000   \nmax                       1.000000                     1.000000   \n\n       source_h3_4_842cf33ffffffff  source_h3_4_842cf35ffffffff  \\\ncount                429417.000000                429417.000000   \nmean                      0.030120                     0.075577   \nstd                       0.170917                     0.264320   \nmin                       0.000000                     0.000000   \n25%                       0.000000                     0.000000   \n50%                       0.000000                     0.000000   \n75%                       0.000000                     0.000000   \nmax                       1.000000                     1.000000   \n\n       source_h3_4_842cf37ffffffff  ...  dest_h3_4_842cf21ffffffff  \\\ncount                429417.000000  ...              429417.000000   \nmean                      0.033098  ...                   0.000102   \nstd                       0.178894  ...                   0.010122   \nmin                       0.000000  ...                   0.000000   \n25%                       0.000000  ...                   0.000000   \n50%                       0.000000  ...                   0.000000   \n75%                       0.000000  ...                   0.000000   \nmax                       1.000000  ...                   1.000000   \n\n       dest_h3_4_842cf23ffffffff  dest_h3_4_842cf25ffffffff  \\\ncount              429417.000000              429417.000000   \nmean                    0.000002                   0.000002   \nstd                     0.001526                   0.001526   \nmin                     0.000000                   0.000000   \n25%                     0.000000                   0.000000   \n50%                     0.000000                   0.000000   \n75%                     0.000000                   0.000000   \nmax                     1.000000                   1.000000   \n\n       dest_h3_4_842cf27ffffffff  dest_h3_4_842cf31ffffffff  \\\ncount              429417.000000              429417.000000   \nmean                    0.000389                   0.694095   \nstd                     0.019717                   0.460790   \nmin                     0.000000                   0.000000   \n25%                     0.000000                   0.000000   \n50%                     0.000000                   1.000000   \n75%                     0.000000                   1.000000   \nmax                     1.000000                   1.000000   \n\n       dest_h3_4_842cf33ffffffff  dest_h3_4_842cf35ffffffff  \\\ncount              429417.000000              429417.000000   \nmean                    0.022500                   0.060366   \nstd                     0.148304                   0.238163   \nmin                     0.000000                   0.000000   \n25%                     0.000000                   0.000000   \n50%                     0.000000                   0.000000   \n75%                     0.000000                   0.000000   \nmax                     1.000000                   1.000000   \n\n       dest_h3_4_842cf37ffffffff  dest_h3_4_842cf39ffffffff  \\\ncount               429417.00000              429417.000000   \nmean                     0.02512                   0.024161   \nstd                      0.15649                   0.153548   \nmin                      0.00000                   0.000000   \n25%                      0.00000                   0.000000   \n50%                      0.00000                   0.000000   \n75%                      0.00000                   0.000000   \nmax                      1.00000                   1.000000   \n\n       dest_h3_4_842cf3dffffffff  \ncount              429417.000000  \nmean                    0.164761  \nstd                     0.370965  \nmin                     0.000000  \n25%                     0.000000  \n50%                     0.000000  \n75%                     0.000000  \nmax                     1.000000  \n\n[8 rows x 35 columns]",
      "text/html": "<div>\n<style scoped>\n    .dataframe tbody tr th:only-of-type {\n        vertical-align: middle;\n    }\n\n    .dataframe tbody tr th {\n        vertical-align: top;\n    }\n\n    .dataframe thead th {\n        text-align: right;\n    }\n</style>\n<table border=\"1\" class=\"dataframe\">\n  <thead>\n    <tr style=\"text-align: right;\">\n      <th></th>\n      <th>eta</th>\n      <th>hour</th>\n      <th>holiday</th>\n      <th>source_h3_4_842cd4bffffffff</th>\n      <th>source_h3_4_842cd59ffffffff</th>\n      <th>source_h3_4_842cd5bffffffff</th>\n      <th>source_h3_4_842cf31ffffffff</th>\n      <th>source_h3_4_842cf33ffffffff</th>\n      <th>source_h3_4_842cf35ffffffff</th>\n      <th>source_h3_4_842cf37ffffffff</th>\n      <th>...</th>\n      <th>dest_h3_4_842cf21ffffffff</th>\n      <th>dest_h3_4_842cf23ffffffff</th>\n      <th>dest_h3_4_842cf25ffffffff</th>\n      <th>dest_h3_4_842cf27ffffffff</th>\n      <th>dest_h3_4_842cf31ffffffff</th>\n      <th>dest_h3_4_842cf33ffffffff</th>\n      <th>dest_h3_4_842cf35ffffffff</th>\n      <th>dest_h3_4_842cf37ffffffff</th>\n      <th>dest_h3_4_842cf39ffffffff</th>\n      <th>dest_h3_4_842cf3dffffffff</th>\n    </tr>\n  </thead>\n  <tbody>\n    <tr>\n      <th>count</th>\n      <td>429417.000000</td>\n      <td>429417.000000</td>\n      <td>429417.000000</td>\n      <td>429417.000000</td>\n      <td>429417.000000</td>\n      <td>429417.000000</td>\n      <td>429417.000000</td>\n      <td>429417.000000</td>\n      <td>429417.000000</td>\n      <td>429417.000000</td>\n      <td>...</td>\n      <td>429417.000000</td>\n      <td>429417.000000</td>\n      <td>429417.000000</td>\n      <td>429417.000000</td>\n      <td>429417.000000</td>\n      <td>429417.000000</td>\n      <td>429417.000000</td>\n      <td>429417.00000</td>\n      <td>429417.000000</td>\n      <td>429417.000000</td>\n    </tr>\n    <tr>\n      <th>mean</th>\n      <td>2488.431424</td>\n      <td>82.662780</td>\n      <td>0.013341</td>\n      <td>0.000759</td>\n      <td>0.002408</td>\n      <td>0.000079</td>\n      <td>0.792789</td>\n      <td>0.030120</td>\n      <td>0.075577</td>\n      <td>0.033098</td>\n      <td>...</td>\n      <td>0.000102</td>\n      <td>0.000002</td>\n      <td>0.000002</td>\n      <td>0.000389</td>\n      <td>0.694095</td>\n      <td>0.022500</td>\n      <td>0.060366</td>\n      <td>0.02512</td>\n      <td>0.024161</td>\n      <td>0.164761</td>\n    </tr>\n    <tr>\n      <th>std</th>\n      <td>686.953959</td>\n      <td>44.530640</td>\n      <td>0.114732</td>\n      <td>0.027543</td>\n      <td>0.049011</td>\n      <td>0.008898</td>\n      <td>0.405309</td>\n      <td>0.170917</td>\n      <td>0.264320</td>\n      <td>0.178894</td>\n      <td>...</td>\n      <td>0.010122</td>\n      <td>0.001526</td>\n      <td>0.001526</td>\n      <td>0.019717</td>\n      <td>0.460790</td>\n      <td>0.148304</td>\n      <td>0.238163</td>\n      <td>0.15649</td>\n      <td>0.153548</td>\n      <td>0.370965</td>\n    </tr>\n    <tr>\n      <th>min</th>\n      <td>1800.000000</td>\n      <td>0.001389</td>\n      <td>0.000000</td>\n      <td>0.000000</td>\n      <td>0.000000</td>\n      <td>0.000000</td>\n      <td>0.000000</td>\n      <td>0.000000</td>\n      <td>0.000000</td>\n      <td>0.000000</td>\n      <td>...</td>\n      <td>0.000000</td>\n      <td>0.000000</td>\n      <td>0.000000</td>\n      <td>0.000000</td>\n      <td>0.000000</td>\n      <td>0.000000</td>\n      <td>0.000000</td>\n      <td>0.00000</td>\n      <td>0.000000</td>\n      <td>0.000000</td>\n    </tr>\n    <tr>\n      <th>25%</th>\n      <td>2000.000000</td>\n      <td>43.219167</td>\n      <td>0.000000</td>\n      <td>0.000000</td>\n      <td>0.000000</td>\n      <td>0.000000</td>\n      <td>1.000000</td>\n      <td>0.000000</td>\n      <td>0.000000</td>\n      <td>0.000000</td>\n      <td>...</td>\n      <td>0.000000</td>\n      <td>0.000000</td>\n      <td>0.000000</td>\n      <td>0.000000</td>\n      <td>0.000000</td>\n      <td>0.000000</td>\n      <td>0.000000</td>\n      <td>0.00000</td>\n      <td>0.000000</td>\n      <td>0.000000</td>\n    </tr>\n    <tr>\n      <th>50%</th>\n      <td>2280.000000</td>\n      <td>86.279722</td>\n      <td>0.000000</td>\n      <td>0.000000</td>\n      <td>0.000000</td>\n      <td>0.000000</td>\n      <td>1.000000</td>\n      <td>0.000000</td>\n      <td>0.000000</td>\n      <td>0.000000</td>\n      <td>...</td>\n      <td>0.000000</td>\n      <td>0.000000</td>\n      <td>0.000000</td>\n      <td>0.000000</td>\n      <td>1.000000</td>\n      <td>0.000000</td>\n      <td>0.000000</td>\n      <td>0.00000</td>\n      <td>0.000000</td>\n      <td>0.000000</td>\n    </tr>\n    <tr>\n      <th>75%</th>\n      <td>2755.000000</td>\n      <td>115.541389</td>\n      <td>0.000000</td>\n      <td>0.000000</td>\n      <td>0.000000</td>\n      <td>0.000000</td>\n      <td>1.000000</td>\n      <td>0.000000</td>\n      <td>0.000000</td>\n      <td>0.000000</td>\n      <td>...</td>\n      <td>0.000000</td>\n      <td>0.000000</td>\n      <td>0.000000</td>\n      <td>0.000000</td>\n      <td>1.000000</td>\n      <td>0.000000</td>\n      <td>0.000000</td>\n      <td>0.00000</td>\n      <td>0.000000</td>\n      <td>0.000000</td>\n    </tr>\n    <tr>\n      <th>max</th>\n      <td>10528.000000</td>\n      <td>167.413889</td>\n      <td>1.000000</td>\n      <td>1.000000</td>\n      <td>1.000000</td>\n      <td>1.000000</td>\n      <td>1.000000</td>\n      <td>1.000000</td>\n      <td>1.000000</td>\n      <td>1.000000</td>\n      <td>...</td>\n      <td>1.000000</td>\n      <td>1.000000</td>\n      <td>1.000000</td>\n      <td>1.000000</td>\n      <td>1.000000</td>\n      <td>1.000000</td>\n      <td>1.000000</td>\n      <td>1.00000</td>\n      <td>1.000000</td>\n      <td>1.000000</td>\n    </tr>\n  </tbody>\n</table>\n<p>8 rows × 35 columns</p>\n</div>"
     },
     "execution_count": 20,
     "metadata": {},
     "output_type": "execute_result"
    }
   ],
   "source": [
    "dummy_train_rides = pd.get_dummies(rides_train_p4_x, prefix={'source_h3_4':'source_h3_4',\n",
    "                                                             'dest_h3_4':'dest_h3_4'})\n",
    "dummy_train_rides.describe()"
   ],
   "metadata": {
    "collapsed": false,
    "pycharm": {
     "name": "#%%\n"
    }
   }
  },
  {
   "cell_type": "code",
   "execution_count": 21,
   "outputs": [
    {
     "data": {
      "text/plain": "          eta       hour  holiday  source_h3_4_842cd4bffffffff  \\\n1        1886  93.330556        0                            0   \n16       2204  90.805833        0                            0   \n21       2083  92.159722        0                            0   \n40       2185  92.923889        0                            0   \n58       2273  92.000833        0                            0   \n...       ...        ...      ...                          ...   \n4063291  2106  18.111667        0                            0   \n4063306  1824  17.456111        0                            0   \n4063308  1903   8.728611        0                            0   \n4063311  2427   0.885833        0                            0   \n4063338  1856  10.665278        0                            0   \n\n         source_h3_4_842cd59ffffffff  source_h3_4_842cd5bffffffff  \\\n1                                  0                            0   \n16                                 0                            0   \n21                                 0                            0   \n40                                 0                            0   \n58                                 0                            0   \n...                              ...                          ...   \n4063291                            0                            0   \n4063306                            0                            0   \n4063308                            0                            0   \n4063311                            0                            0   \n4063338                            0                            0   \n\n         source_h3_4_842cf31ffffffff  source_h3_4_842cf33ffffffff  \\\n1                                  1                            0   \n16                                 1                            0   \n21                                 1                            0   \n40                                 1                            0   \n58                                 1                            0   \n...                              ...                          ...   \n4063291                            1                            0   \n4063306                            0                            1   \n4063308                            1                            0   \n4063311                            1                            0   \n4063338                            1                            0   \n\n         source_h3_4_842cf35ffffffff  source_h3_4_842cf37ffffffff  ...  \\\n1                                  0                            0  ...   \n16                                 0                            0  ...   \n21                                 0                            0  ...   \n40                                 0                            0  ...   \n58                                 0                            0  ...   \n...                              ...                          ...  ...   \n4063291                            0                            0  ...   \n4063306                            0                            0  ...   \n4063308                            0                            0  ...   \n4063311                            0                            0  ...   \n4063338                            0                            0  ...   \n\n         dest_h3_4_842cf21ffffffff  dest_h3_4_842cf23ffffffff  \\\n1                                0                          0   \n16                               0                          0   \n21                               0                          0   \n40                               0                          0   \n58                               0                          0   \n...                            ...                        ...   \n4063291                          0                          0   \n4063306                          0                          0   \n4063308                          0                          0   \n4063311                          0                          0   \n4063338                          0                          0   \n\n         dest_h3_4_842cf25ffffffff  dest_h3_4_842cf27ffffffff  \\\n1                                0                          0   \n16                               0                          0   \n21                               0                          0   \n40                               0                          0   \n58                               0                          0   \n...                            ...                        ...   \n4063291                          0                          0   \n4063306                          0                          0   \n4063308                          0                          0   \n4063311                          0                          0   \n4063338                          0                          0   \n\n         dest_h3_4_842cf31ffffffff  dest_h3_4_842cf33ffffffff  \\\n1                                1                          0   \n16                               1                          0   \n21                               1                          0   \n40                               1                          0   \n58                               1                          0   \n...                            ...                        ...   \n4063291                          0                          0   \n4063306                          1                          0   \n4063308                          1                          0   \n4063311                          0                          0   \n4063338                          1                          0   \n\n         dest_h3_4_842cf35ffffffff  dest_h3_4_842cf37ffffffff  \\\n1                                0                          0   \n16                               0                          0   \n21                               0                          0   \n40                               0                          0   \n58                               0                          0   \n...                            ...                        ...   \n4063291                          0                          0   \n4063306                          0                          0   \n4063308                          0                          0   \n4063311                          0                          0   \n4063338                          0                          0   \n\n         dest_h3_4_842cf39ffffffff  dest_h3_4_842cf3dffffffff  \n1                                0                          0  \n16                               0                          0  \n21                               0                          0  \n40                               0                          0  \n58                               0                          0  \n...                            ...                        ...  \n4063291                          0                          1  \n4063306                          0                          0  \n4063308                          0                          0  \n4063311                          1                          0  \n4063338                          0                          0  \n\n[429417 rows x 35 columns]",
      "text/html": "<div>\n<style scoped>\n    .dataframe tbody tr th:only-of-type {\n        vertical-align: middle;\n    }\n\n    .dataframe tbody tr th {\n        vertical-align: top;\n    }\n\n    .dataframe thead th {\n        text-align: right;\n    }\n</style>\n<table border=\"1\" class=\"dataframe\">\n  <thead>\n    <tr style=\"text-align: right;\">\n      <th></th>\n      <th>eta</th>\n      <th>hour</th>\n      <th>holiday</th>\n      <th>source_h3_4_842cd4bffffffff</th>\n      <th>source_h3_4_842cd59ffffffff</th>\n      <th>source_h3_4_842cd5bffffffff</th>\n      <th>source_h3_4_842cf31ffffffff</th>\n      <th>source_h3_4_842cf33ffffffff</th>\n      <th>source_h3_4_842cf35ffffffff</th>\n      <th>source_h3_4_842cf37ffffffff</th>\n      <th>...</th>\n      <th>dest_h3_4_842cf21ffffffff</th>\n      <th>dest_h3_4_842cf23ffffffff</th>\n      <th>dest_h3_4_842cf25ffffffff</th>\n      <th>dest_h3_4_842cf27ffffffff</th>\n      <th>dest_h3_4_842cf31ffffffff</th>\n      <th>dest_h3_4_842cf33ffffffff</th>\n      <th>dest_h3_4_842cf35ffffffff</th>\n      <th>dest_h3_4_842cf37ffffffff</th>\n      <th>dest_h3_4_842cf39ffffffff</th>\n      <th>dest_h3_4_842cf3dffffffff</th>\n    </tr>\n  </thead>\n  <tbody>\n    <tr>\n      <th>1</th>\n      <td>1886</td>\n      <td>93.330556</td>\n      <td>0</td>\n      <td>0</td>\n      <td>0</td>\n      <td>0</td>\n      <td>1</td>\n      <td>0</td>\n      <td>0</td>\n      <td>0</td>\n      <td>...</td>\n      <td>0</td>\n      <td>0</td>\n      <td>0</td>\n      <td>0</td>\n      <td>1</td>\n      <td>0</td>\n      <td>0</td>\n      <td>0</td>\n      <td>0</td>\n      <td>0</td>\n    </tr>\n    <tr>\n      <th>16</th>\n      <td>2204</td>\n      <td>90.805833</td>\n      <td>0</td>\n      <td>0</td>\n      <td>0</td>\n      <td>0</td>\n      <td>1</td>\n      <td>0</td>\n      <td>0</td>\n      <td>0</td>\n      <td>...</td>\n      <td>0</td>\n      <td>0</td>\n      <td>0</td>\n      <td>0</td>\n      <td>1</td>\n      <td>0</td>\n      <td>0</td>\n      <td>0</td>\n      <td>0</td>\n      <td>0</td>\n    </tr>\n    <tr>\n      <th>21</th>\n      <td>2083</td>\n      <td>92.159722</td>\n      <td>0</td>\n      <td>0</td>\n      <td>0</td>\n      <td>0</td>\n      <td>1</td>\n      <td>0</td>\n      <td>0</td>\n      <td>0</td>\n      <td>...</td>\n      <td>0</td>\n      <td>0</td>\n      <td>0</td>\n      <td>0</td>\n      <td>1</td>\n      <td>0</td>\n      <td>0</td>\n      <td>0</td>\n      <td>0</td>\n      <td>0</td>\n    </tr>\n    <tr>\n      <th>40</th>\n      <td>2185</td>\n      <td>92.923889</td>\n      <td>0</td>\n      <td>0</td>\n      <td>0</td>\n      <td>0</td>\n      <td>1</td>\n      <td>0</td>\n      <td>0</td>\n      <td>0</td>\n      <td>...</td>\n      <td>0</td>\n      <td>0</td>\n      <td>0</td>\n      <td>0</td>\n      <td>1</td>\n      <td>0</td>\n      <td>0</td>\n      <td>0</td>\n      <td>0</td>\n      <td>0</td>\n    </tr>\n    <tr>\n      <th>58</th>\n      <td>2273</td>\n      <td>92.000833</td>\n      <td>0</td>\n      <td>0</td>\n      <td>0</td>\n      <td>0</td>\n      <td>1</td>\n      <td>0</td>\n      <td>0</td>\n      <td>0</td>\n      <td>...</td>\n      <td>0</td>\n      <td>0</td>\n      <td>0</td>\n      <td>0</td>\n      <td>1</td>\n      <td>0</td>\n      <td>0</td>\n      <td>0</td>\n      <td>0</td>\n      <td>0</td>\n    </tr>\n    <tr>\n      <th>...</th>\n      <td>...</td>\n      <td>...</td>\n      <td>...</td>\n      <td>...</td>\n      <td>...</td>\n      <td>...</td>\n      <td>...</td>\n      <td>...</td>\n      <td>...</td>\n      <td>...</td>\n      <td>...</td>\n      <td>...</td>\n      <td>...</td>\n      <td>...</td>\n      <td>...</td>\n      <td>...</td>\n      <td>...</td>\n      <td>...</td>\n      <td>...</td>\n      <td>...</td>\n      <td>...</td>\n    </tr>\n    <tr>\n      <th>4063291</th>\n      <td>2106</td>\n      <td>18.111667</td>\n      <td>0</td>\n      <td>0</td>\n      <td>0</td>\n      <td>0</td>\n      <td>1</td>\n      <td>0</td>\n      <td>0</td>\n      <td>0</td>\n      <td>...</td>\n      <td>0</td>\n      <td>0</td>\n      <td>0</td>\n      <td>0</td>\n      <td>0</td>\n      <td>0</td>\n      <td>0</td>\n      <td>0</td>\n      <td>0</td>\n      <td>1</td>\n    </tr>\n    <tr>\n      <th>4063306</th>\n      <td>1824</td>\n      <td>17.456111</td>\n      <td>0</td>\n      <td>0</td>\n      <td>0</td>\n      <td>0</td>\n      <td>0</td>\n      <td>1</td>\n      <td>0</td>\n      <td>0</td>\n      <td>...</td>\n      <td>0</td>\n      <td>0</td>\n      <td>0</td>\n      <td>0</td>\n      <td>1</td>\n      <td>0</td>\n      <td>0</td>\n      <td>0</td>\n      <td>0</td>\n      <td>0</td>\n    </tr>\n    <tr>\n      <th>4063308</th>\n      <td>1903</td>\n      <td>8.728611</td>\n      <td>0</td>\n      <td>0</td>\n      <td>0</td>\n      <td>0</td>\n      <td>1</td>\n      <td>0</td>\n      <td>0</td>\n      <td>0</td>\n      <td>...</td>\n      <td>0</td>\n      <td>0</td>\n      <td>0</td>\n      <td>0</td>\n      <td>1</td>\n      <td>0</td>\n      <td>0</td>\n      <td>0</td>\n      <td>0</td>\n      <td>0</td>\n    </tr>\n    <tr>\n      <th>4063311</th>\n      <td>2427</td>\n      <td>0.885833</td>\n      <td>0</td>\n      <td>0</td>\n      <td>0</td>\n      <td>0</td>\n      <td>1</td>\n      <td>0</td>\n      <td>0</td>\n      <td>0</td>\n      <td>...</td>\n      <td>0</td>\n      <td>0</td>\n      <td>0</td>\n      <td>0</td>\n      <td>0</td>\n      <td>0</td>\n      <td>0</td>\n      <td>0</td>\n      <td>1</td>\n      <td>0</td>\n    </tr>\n    <tr>\n      <th>4063338</th>\n      <td>1856</td>\n      <td>10.665278</td>\n      <td>0</td>\n      <td>0</td>\n      <td>0</td>\n      <td>0</td>\n      <td>1</td>\n      <td>0</td>\n      <td>0</td>\n      <td>0</td>\n      <td>...</td>\n      <td>0</td>\n      <td>0</td>\n      <td>0</td>\n      <td>0</td>\n      <td>1</td>\n      <td>0</td>\n      <td>0</td>\n      <td>0</td>\n      <td>0</td>\n      <td>0</td>\n    </tr>\n  </tbody>\n</table>\n<p>429417 rows × 35 columns</p>\n</div>"
     },
     "execution_count": 21,
     "metadata": {},
     "output_type": "execute_result"
    }
   ],
   "source": [
    "dummy_train_rides"
   ],
   "metadata": {
    "collapsed": false,
    "pycharm": {
     "name": "#%%\n"
    }
   }
  },
  {
   "cell_type": "code",
   "execution_count": 22,
   "outputs": [
    {
     "name": "stdout",
     "output_type": "stream",
     "text": [
      "[429417 429417   5729    326   1034     34 340437  12934  32454  14213\n",
      "  27985     27      1      2      1    412      1    856     56    147\n",
      "    105   2037      1      2      3     44      1      1    167 298056\n",
      "   9662  25922  10787  10375  70751]\n",
      "Index(['eta', 'hour', 'holiday', 'source_h3_4_842cd4bffffffff',\n",
      "       'source_h3_4_842cd59ffffffff', 'source_h3_4_842cd5bffffffff',\n",
      "       'source_h3_4_842cf31ffffffff', 'source_h3_4_842cf33ffffffff',\n",
      "       'source_h3_4_842cf35ffffffff', 'source_h3_4_842cf37ffffffff',\n",
      "       'source_h3_4_842cf3dffffffff', 'dest_h3_4_842c89bffffffff',\n",
      "       'dest_h3_4_842cc61ffffffff', 'dest_h3_4_842cc63ffffffff',\n",
      "       'dest_h3_4_842cc67ffffffff', 'dest_h3_4_842cd4bffffffff',\n",
      "       'dest_h3_4_842cd4dffffffff', 'dest_h3_4_842cd59ffffffff',\n",
      "       'dest_h3_4_842cd5bffffffff', 'dest_h3_4_842cf01ffffffff',\n",
      "       'dest_h3_4_842cf05ffffffff', 'dest_h3_4_842cf07ffffffff',\n",
      "       'dest_h3_4_842cf09ffffffff', 'dest_h3_4_842cf0dffffffff',\n",
      "       'dest_h3_4_842cf17ffffffff', 'dest_h3_4_842cf21ffffffff',\n",
      "       'dest_h3_4_842cf23ffffffff', 'dest_h3_4_842cf25ffffffff',\n",
      "       'dest_h3_4_842cf27ffffffff', 'dest_h3_4_842cf31ffffffff',\n",
      "       'dest_h3_4_842cf33ffffffff', 'dest_h3_4_842cf35ffffffff',\n",
      "       'dest_h3_4_842cf37ffffffff', 'dest_h3_4_842cf39ffffffff',\n",
      "       'dest_h3_4_842cf3dffffffff'],\n",
      "      dtype='object')\n"
     ]
    }
   ],
   "source": [
    "print(np.count_nonzero(dummy_train_rides, axis=0))\n",
    "print(dummy_train_rides.columns)"
   ],
   "metadata": {
    "collapsed": false,
    "pycharm": {
     "name": "#%%\n"
    }
   }
  },
  {
   "cell_type": "code",
   "execution_count": 23,
   "outputs": [
    {
     "name": "stderr",
     "output_type": "stream",
     "text": [
      "/var/folders/yq/707ysz_j3jlggmtk5clx13rm0000gn/T/ipykernel_53857/1973543715.py:8: UserWarning: Boolean Series key will be reindexed to match DataFrame index.\n",
      "  rides_train_p4_x = rides_train_p4_x[dummy_train_rides[col] == 0]\n"
     ]
    },
    {
     "data": {
      "text/plain": "                 eta           hour        holiday\ncount  429245.000000  429245.000000  429245.000000\nmean     2486.922401      82.660741       0.013333\nstd       682.280550      44.528344       0.114695\nmin      1800.000000       0.001389       0.000000\n25%      1999.000000      43.219722       0.000000\n50%      2280.000000      86.278611       0.000000\n75%      2754.000000     115.539167       0.000000\nmax     10333.000000     167.413889       1.000000",
      "text/html": "<div>\n<style scoped>\n    .dataframe tbody tr th:only-of-type {\n        vertical-align: middle;\n    }\n\n    .dataframe tbody tr th {\n        vertical-align: top;\n    }\n\n    .dataframe thead th {\n        text-align: right;\n    }\n</style>\n<table border=\"1\" class=\"dataframe\">\n  <thead>\n    <tr style=\"text-align: right;\">\n      <th></th>\n      <th>eta</th>\n      <th>hour</th>\n      <th>holiday</th>\n    </tr>\n  </thead>\n  <tbody>\n    <tr>\n      <th>count</th>\n      <td>429245.000000</td>\n      <td>429245.000000</td>\n      <td>429245.000000</td>\n    </tr>\n    <tr>\n      <th>mean</th>\n      <td>2486.922401</td>\n      <td>82.660741</td>\n      <td>0.013333</td>\n    </tr>\n    <tr>\n      <th>std</th>\n      <td>682.280550</td>\n      <td>44.528344</td>\n      <td>0.114695</td>\n    </tr>\n    <tr>\n      <th>min</th>\n      <td>1800.000000</td>\n      <td>0.001389</td>\n      <td>0.000000</td>\n    </tr>\n    <tr>\n      <th>25%</th>\n      <td>1999.000000</td>\n      <td>43.219722</td>\n      <td>0.000000</td>\n    </tr>\n    <tr>\n      <th>50%</th>\n      <td>2280.000000</td>\n      <td>86.278611</td>\n      <td>0.000000</td>\n    </tr>\n    <tr>\n      <th>75%</th>\n      <td>2754.000000</td>\n      <td>115.539167</td>\n      <td>0.000000</td>\n    </tr>\n    <tr>\n      <th>max</th>\n      <td>10333.000000</td>\n      <td>167.413889</td>\n      <td>1.000000</td>\n    </tr>\n  </tbody>\n</table>\n</div>"
     },
     "execution_count": 23,
     "metadata": {},
     "output_type": "execute_result"
    }
   ],
   "source": [
    "geo_noise = np.count_nonzero(dummy_train_rides, axis=0) < 100\n",
    "\n",
    "cols = dummy_train_rides.columns\n",
    "for col, noise in zip(cols, geo_noise):\n",
    "    if noise:\n",
    "        # DOESN'T REINDEX\n",
    "        # remove the rows where rides_train_p4_x is in the noisy geo (geo is 1)\n",
    "        rides_train_p4_x = rides_train_p4_x[dummy_train_rides[col] == 0]\n",
    "        rides_train_p4_y = rides_train_p4_y[dummy_train_rides[col] == 0]\n",
    "\n",
    "rides_train_p4_x.describe()"
   ],
   "metadata": {
    "collapsed": false,
    "pycharm": {
     "name": "#%%\n"
    }
   }
  },
  {
   "cell_type": "code",
   "execution_count": 24,
   "outputs": [],
   "source": [
    "ohe = ColumnTransformer(\n",
    "    [('OHE', OneHotEncoder(handle_unknown='ignore', sparse=False),['source_h3_4', 'dest_h3_4'])],\n",
    "    remainder = 'passthrough'\n",
    "    ).fit(rides_train_p4_x)"
   ],
   "metadata": {
    "collapsed": false,
    "pycharm": {
     "name": "#%%\n"
    }
   }
  },
  {
   "cell_type": "code",
   "execution_count": 25,
   "outputs": [],
   "source": [
    "rides_train_p4_x = ohe.transform(rides_train_p4_x)"
   ],
   "metadata": {
    "collapsed": false,
    "pycharm": {
     "name": "#%%\n"
    }
   }
  },
  {
   "cell_type": "code",
   "execution_count": 26,
   "outputs": [],
   "source": [
    "rides_test_p4_x = ohe.transform(rides_test_p4_x)"
   ],
   "metadata": {
    "collapsed": false,
    "pycharm": {
     "name": "#%%\n"
    }
   }
  },
  {
   "cell_type": "code",
   "execution_count": 27,
   "outputs": [],
   "source": [
    "reg_p4 = LinearRegression().fit(rides_train_p4_x, rides_train_p4_y)"
   ],
   "metadata": {
    "collapsed": false,
    "pycharm": {
     "name": "#%%\n"
    }
   }
  },
  {
   "cell_type": "code",
   "execution_count": 28,
   "outputs": [
    {
     "name": "stdout",
     "output_type": "stream",
     "text": [
      "[-6.18320117e+11 -6.18320117e+11 -6.18320117e+11 -6.18320117e+11\n",
      " -6.18320117e+11 -6.18320117e+11 -6.18320117e+11 -2.74586512e+10\n",
      " -2.74586512e+10 -2.74586514e+10 -2.74586514e+10 -2.74586512e+10\n",
      " -2.74586511e+10 -2.74586510e+10 -2.74586512e+10 -2.74586512e+10\n",
      " -2.74586512e+10 -2.74586512e+10 -2.74586512e+10  1.24164941e+00\n",
      " -5.56984845e-01 -1.74760729e+02]\n",
      "645778768066.081\n"
     ]
    }
   ],
   "source": [
    "print(reg_p4.coef_)\n",
    "print(reg_p4.intercept_)"
   ],
   "metadata": {
    "collapsed": false,
    "pycharm": {
     "name": "#%%\n"
    }
   }
  },
  {
   "cell_type": "code",
   "execution_count": 29,
   "outputs": [],
   "source": [
    "ata_train_pred = reg_p4.predict(rides_train_p4_x)\n",
    "ata_test_pred = reg_p4.predict(rides_test_p4_x)"
   ],
   "metadata": {
    "collapsed": false,
    "pycharm": {
     "name": "#%%\n"
    }
   }
  },
  {
   "cell_type": "code",
   "execution_count": 30,
   "outputs": [
    {
     "data": {
      "text/plain": "array([[0.00000000e+00, 0.00000000e+00, 1.00000000e+00, ...,\n        1.88600000e+03, 9.33305556e+01, 0.00000000e+00],\n       [0.00000000e+00, 0.00000000e+00, 1.00000000e+00, ...,\n        2.20400000e+03, 9.08058333e+01, 0.00000000e+00],\n       [0.00000000e+00, 0.00000000e+00, 1.00000000e+00, ...,\n        2.08300000e+03, 9.21597222e+01, 0.00000000e+00],\n       ...,\n       [0.00000000e+00, 0.00000000e+00, 1.00000000e+00, ...,\n        1.90300000e+03, 8.72861111e+00, 0.00000000e+00],\n       [0.00000000e+00, 0.00000000e+00, 1.00000000e+00, ...,\n        2.42700000e+03, 8.85833333e-01, 0.00000000e+00],\n       [0.00000000e+00, 0.00000000e+00, 1.00000000e+00, ...,\n        1.85600000e+03, 1.06652778e+01, 0.00000000e+00]])"
     },
     "execution_count": 30,
     "metadata": {},
     "output_type": "execute_result"
    }
   ],
   "source": [
    "rides_train_p4_x"
   ],
   "metadata": {
    "collapsed": false,
    "pycharm": {
     "name": "#%%\n"
    }
   }
  },
  {
   "cell_type": "code",
   "execution_count": 31,
   "outputs": [
    {
     "data": {
      "text/plain": "array([[0.00000000e+00, 0.00000000e+00, 1.00000000e+00, ...,\n        2.94400000e+03, 4.49105556e+01, 0.00000000e+00],\n       [0.00000000e+00, 0.00000000e+00, 0.00000000e+00, ...,\n        2.36400000e+03, 4.60530556e+01, 0.00000000e+00],\n       [0.00000000e+00, 0.00000000e+00, 1.00000000e+00, ...,\n        2.43600000e+03, 3.82922222e+01, 0.00000000e+00],\n       ...,\n       [0.00000000e+00, 0.00000000e+00, 1.00000000e+00, ...,\n        2.17000000e+03, 3.76252778e+01, 0.00000000e+00],\n       [0.00000000e+00, 0.00000000e+00, 1.00000000e+00, ...,\n        3.13400000e+03, 3.44686111e+01, 0.00000000e+00],\n       [0.00000000e+00, 0.00000000e+00, 1.00000000e+00, ...,\n        2.46600000e+03, 4.42686111e+01, 0.00000000e+00]])"
     },
     "execution_count": 31,
     "metadata": {},
     "output_type": "execute_result"
    }
   ],
   "source": [
    "rides_test_p4_x"
   ],
   "metadata": {
    "collapsed": false,
    "pycharm": {
     "name": "#%%\n"
    }
   }
  },
  {
   "cell_type": "code",
   "execution_count": 32,
   "outputs": [],
   "source": [
    "known_h3_index = np.count_nonzero(rides_test_p4_x[:, 0:19], axis=1) == 2"
   ],
   "metadata": {
    "collapsed": false,
    "pycharm": {
     "name": "#%%\n"
    }
   }
  },
  {
   "cell_type": "code",
   "execution_count": 33,
   "outputs": [],
   "source": [
    "rides_test_p4_y = rides_test_p4_y[known_h3_index]\n",
    "rides_test_p4_x = rides_test_p4_x[known_h3_index]\n",
    "ata_test_pred = ata_test_pred[known_h3_index]"
   ],
   "metadata": {
    "collapsed": false,
    "pycharm": {
     "name": "#%%\n"
    }
   }
  },
  {
   "cell_type": "code",
   "execution_count": 34,
   "outputs": [
    {
     "name": "stdout",
     "output_type": "stream",
     "text": [
      "ETA train MAE 575.1119500518352\n",
      "prediction train MAE 489.41091498789615\n",
      "ETA test MAE  645.6624997306634\n",
      "prediction test MAE 569.5134385275646\n",
      "ETA train MSE 785765.7346154294\n",
      "prediction train MSE 531914.7455786973\n",
      "ETA test MSE  1241260.4869066516\n",
      "prediction test MSE 915273.5672203418\n",
      "ETA train explained_variance_score 0.5266295979749661\n",
      "prediction train explained_variance_score 0.5483682364563501\n",
      "ETA test explained_variance_score  0.42734882811263286\n",
      "prediction test explained_variance_score 0.45615540286535783\n",
      "ETA train median_absolute_error 360.0\n",
      "prediction train median_absolute_error 361.2681884765625\n",
      "ETA test median_absolute_error  361.0\n",
      "prediction test median_absolute_error 384.10772705078125\n",
      "ETA train r2_score 0.33283149714064053\n",
      "prediction train r2_score 0.5483682364563265\n",
      "ETA test r2_score  0.25891869281902413\n",
      "prediction test r2_score 0.45354569908672493\n",
      "ETA train MAPE 0.1713865630773278\n",
      "prediction train MAPE 0.16881770947649563\n",
      "ETA test MAPE  0.17962034673930158\n",
      "prediction test MAPE 0.18348817345628055\n"
     ]
    }
   ],
   "source": [
    "print(\"ETA train MAE\", mean_absolute_error(rides_train_p4_y, rides_train_p4_x[:, 19]))\n",
    "print(\"prediction train MAE\", mean_absolute_error(rides_train_p4_y, ata_train_pred))\n",
    "\n",
    "print(\"ETA test MAE \", mean_absolute_error(rides_test_p4_y, rides_test_p4_x[:, 19]))\n",
    "print(\"prediction test MAE\", mean_absolute_error(rides_test_p4_y, ata_test_pred))\n",
    "\n",
    "\n",
    "print(\"ETA train MSE\", mean_squared_error(rides_train_p4_y, rides_train_p4_x[:, 19]))\n",
    "print(\"prediction train MSE\", mean_squared_error(rides_train_p4_y, ata_train_pred))\n",
    "\n",
    "print(\"ETA test MSE \", mean_squared_error(rides_test_p4_y, rides_test_p4_x[:, 19]))\n",
    "print(\"prediction test MSE\", mean_squared_error(rides_test_p4_y, ata_test_pred))\n",
    "\n",
    "\n",
    "print(\"ETA train explained_variance_score\", explained_variance_score(rides_train_p4_y, rides_train_p4_x[:, 19]))\n",
    "print(\"prediction train explained_variance_score\", explained_variance_score(rides_train_p4_y, ata_train_pred))\n",
    "\n",
    "print(\"ETA test explained_variance_score \", explained_variance_score(rides_test_p4_y, rides_test_p4_x[:, 19]))\n",
    "print(\"prediction test explained_variance_score\", explained_variance_score(rides_test_p4_y, ata_test_pred))\n",
    "\n",
    "\n",
    "print(\"ETA train median_absolute_error\", median_absolute_error(rides_train_p4_y, rides_train_p4_x[:, 19]))\n",
    "print(\"prediction train median_absolute_error\", median_absolute_error(rides_train_p4_y, ata_train_pred))\n",
    "\n",
    "print(\"ETA test median_absolute_error \", median_absolute_error(rides_test_p4_y, rides_test_p4_x[:, 19]))\n",
    "print(\"prediction test median_absolute_error\", median_absolute_error(rides_test_p4_y, ata_test_pred))\n",
    "\n",
    "\n",
    "print(\"ETA train r2_score\", r2_score(rides_train_p4_y, rides_train_p4_x[:, 19]))\n",
    "print(\"prediction train r2_score\", r2_score(rides_train_p4_y, ata_train_pred))\n",
    "\n",
    "print(\"ETA test r2_score \", r2_score(rides_test_p4_y, rides_test_p4_x[:, 19]))\n",
    "print(\"prediction test r2_score\", r2_score(rides_test_p4_y, ata_test_pred))\n",
    "\n",
    "\n",
    "print(\"ETA train MAPE\", mean_absolute_percentage_error(rides_train_p4_y, rides_train_p4_x[:, 19]))\n",
    "print(\"prediction train MAPE\", mean_absolute_percentage_error(rides_train_p4_y, ata_train_pred))\n",
    "\n",
    "print(\"ETA test MAPE \", mean_absolute_percentage_error(rides_test_p4_y, rides_test_p4_x[:, 19]))\n",
    "print(\"prediction test MAPE\", mean_absolute_percentage_error(rides_test_p4_y, ata_test_pred))"
   ],
   "metadata": {
    "collapsed": false,
    "pycharm": {
     "name": "#%%\n"
    }
   }
  },
  {
   "cell_type": "code",
   "execution_count": 35,
   "outputs": [
    {
     "data": {
      "text/plain": "array([[0.00000000e+00, 0.00000000e+00, 1.00000000e+00, ...,\n        2.94400000e+03, 4.49105556e+01, 0.00000000e+00],\n       [0.00000000e+00, 0.00000000e+00, 0.00000000e+00, ...,\n        2.36400000e+03, 4.60530556e+01, 0.00000000e+00],\n       [0.00000000e+00, 0.00000000e+00, 1.00000000e+00, ...,\n        2.43600000e+03, 3.82922222e+01, 0.00000000e+00],\n       ...,\n       [0.00000000e+00, 0.00000000e+00, 1.00000000e+00, ...,\n        2.17000000e+03, 3.76252778e+01, 0.00000000e+00],\n       [0.00000000e+00, 0.00000000e+00, 1.00000000e+00, ...,\n        3.13400000e+03, 3.44686111e+01, 0.00000000e+00],\n       [0.00000000e+00, 0.00000000e+00, 1.00000000e+00, ...,\n        2.46600000e+03, 4.42686111e+01, 0.00000000e+00]])"
     },
     "execution_count": 35,
     "metadata": {},
     "output_type": "execute_result"
    }
   ],
   "source": [
    "rides_test_p4_x"
   ],
   "metadata": {
    "collapsed": false,
    "pycharm": {
     "name": "#%%\n"
    }
   }
  },
  {
   "cell_type": "code",
   "execution_count": 36,
   "outputs": [
    {
     "data": {
      "text/plain": "17         2750\n23         2491\n28         3452\n36         2592\n40         2333\n           ... \n2729963    5852\n2729966    3793\n2729968    2956\n2729976    4224\n2729986    1777\nName: a_t_a_result.ride_a_t_a, Length: 278462, dtype: int64"
     },
     "execution_count": 36,
     "metadata": {},
     "output_type": "execute_result"
    }
   ],
   "source": [
    "rides_test_p4_y"
   ],
   "metadata": {
    "collapsed": false,
    "pycharm": {
     "name": "#%%\n"
    }
   }
  },
  {
   "cell_type": "code",
   "execution_count": 37,
   "outputs": [
    {
     "data": {
      "text/plain": "array([18447.91271973, 14112.20068359, 11727.28125   , 10946.9185791 ,\n       12987.01611328, 11284.06079102, 17923.04980469])"
     },
     "execution_count": 37,
     "metadata": {},
     "output_type": "execute_result"
    }
   ],
   "source": [
    "ata_test_pred[ata_test_pred > 10800]"
   ],
   "metadata": {
    "collapsed": false,
    "pycharm": {
     "name": "#%%\n"
    }
   }
  },
  {
   "cell_type": "code",
   "execution_count": 38,
   "outputs": [
    {
     "data": {
      "text/plain": "278459"
     },
     "execution_count": 38,
     "metadata": {},
     "output_type": "execute_result"
    }
   ],
   "source": [
    "test_index = (rides_test_p4_x[:, 19] > 180) & (rides_test_p4_x[:, 19] < 10800) & (rides_test_p4_x[:, 19] > 180) & (rides_test_p4_x[:, 19] < 10800)\n",
    "\n",
    "rides_test_p4_x_1 = rides_test_p4_x[test_index]\n",
    "rides_test_p4_y_1 = rides_test_p4_y[test_index]\n",
    "ata_test_pred_1 = ata_test_pred[test_index]\n",
    "\n",
    "len(rides_test_p4_x_1)"
   ],
   "metadata": {
    "collapsed": false,
    "pycharm": {
     "name": "#%%\n"
    }
   }
  },
  {
   "cell_type": "code",
   "execution_count": 40,
   "outputs": [
    {
     "data": {
      "text/plain": "278462"
     },
     "execution_count": 40,
     "metadata": {},
     "output_type": "execute_result"
    }
   ],
   "source": [
    "len(rides_test_p4_x)"
   ],
   "metadata": {
    "collapsed": false,
    "pycharm": {
     "name": "#%%\n"
    }
   }
  },
  {
   "cell_type": "code",
   "execution_count": 39,
   "outputs": [
    {
     "name": "stdout",
     "output_type": "stream",
     "text": [
      "ETA train MAE 575.1119500518352\n",
      "prediction train MAE 489.41091498789615\n",
      "ETA test MAE  645.5327031986756\n",
      "prediction test MAE 569.3480690372899\n",
      "ETA train MSE 785765.7346154294\n",
      "prediction train MSE 531914.7455786973\n",
      "ETA test MSE  1239502.2766978263\n",
      "prediction test MSE 912498.826481177\n",
      "ETA train explained_variance_score 0.5266295979749661\n",
      "prediction train explained_variance_score 0.5483682364563501\n",
      "ETA test explained_variance_score  0.42847781571937504\n",
      "prediction test explained_variance_score 0.457815109890635\n",
      "ETA train median_absolute_error 360.0\n",
      "prediction train median_absolute_error 361.2681884765625\n",
      "ETA test median_absolute_error  361.0\n",
      "prediction test median_absolute_error 384.1033935546875\n",
      "ETA train r2_score 0.33283149714064053\n",
      "prediction train r2_score 0.5483682364563265\n",
      "ETA test r2_score  0.25995403281527163\n",
      "prediction test r2_score 0.45519174164226317\n",
      "ETA train MAPE 0.1713865630773278\n",
      "prediction train MAPE 0.16881770947649563\n",
      "ETA test MAPE  0.17941801156079604\n",
      "prediction test MAPE 0.18323432881370133\n"
     ]
    }
   ],
   "source": [
    "print(\"ETA train MAE\", mean_absolute_error(rides_train_p4_y, rides_train_p4_x[:, 19]))\n",
    "print(\"prediction train MAE\", mean_absolute_error(rides_train_p4_y, ata_train_pred))\n",
    "\n",
    "print(\"ETA test MAE \", mean_absolute_error(rides_test_p4_y_1, rides_test_p4_x_1[:, 19]))\n",
    "print(\"prediction test MAE\", mean_absolute_error(rides_test_p4_y_1, ata_test_pred_1))\n",
    "\n",
    "\n",
    "print(\"ETA train MSE\", mean_squared_error(rides_train_p4_y, rides_train_p4_x[:, 19]))\n",
    "print(\"prediction train MSE\", mean_squared_error(rides_train_p4_y, ata_train_pred))\n",
    "\n",
    "print(\"ETA test MSE \", mean_squared_error(rides_test_p4_y_1, rides_test_p4_x_1[:, 19]))\n",
    "print(\"prediction test MSE\", mean_squared_error(rides_test_p4_y_1, ata_test_pred_1))\n",
    "\n",
    "\n",
    "print(\"ETA train explained_variance_score\", explained_variance_score(rides_train_p4_y, rides_train_p4_x[:, 19]))\n",
    "print(\"prediction train explained_variance_score\", explained_variance_score(rides_train_p4_y, ata_train_pred))\n",
    "\n",
    "print(\"ETA test explained_variance_score \", explained_variance_score(rides_test_p4_y_1, rides_test_p4_x_1[:, 19]))\n",
    "print(\"prediction test explained_variance_score\", explained_variance_score(rides_test_p4_y_1, ata_test_pred_1))\n",
    "\n",
    "\n",
    "print(\"ETA train median_absolute_error\", median_absolute_error(rides_train_p4_y, rides_train_p4_x[:, 19]))\n",
    "print(\"prediction train median_absolute_error\", median_absolute_error(rides_train_p4_y, ata_train_pred))\n",
    "\n",
    "print(\"ETA test median_absolute_error \", median_absolute_error(rides_test_p4_y_1, rides_test_p4_x_1[:, 19]))\n",
    "print(\"prediction test median_absolute_error\", median_absolute_error(rides_test_p4_y_1, ata_test_pred_1))\n",
    "\n",
    "\n",
    "print(\"ETA train r2_score\", r2_score(rides_train_p4_y, rides_train_p4_x[:, 19]))\n",
    "print(\"prediction train r2_score\", r2_score(rides_train_p4_y, ata_train_pred))\n",
    "\n",
    "print(\"ETA test r2_score \", r2_score(rides_test_p4_y_1, rides_test_p4_x_1[:, 19]))\n",
    "print(\"prediction test r2_score\", r2_score(rides_test_p4_y_1, ata_test_pred_1))\n",
    "\n",
    "\n",
    "print(\"ETA train MAPE\", mean_absolute_percentage_error(rides_train_p4_y, rides_train_p4_x[:, 19]))\n",
    "print(\"prediction train MAPE\", mean_absolute_percentage_error(rides_train_p4_y, ata_train_pred))\n",
    "\n",
    "print(\"ETA test MAPE \", mean_absolute_percentage_error(rides_test_p4_y_1, rides_test_p4_x_1[:, 19]))\n",
    "print(\"prediction test MAPE\", mean_absolute_percentage_error(rides_test_p4_y_1, ata_test_pred_1))"
   ],
   "metadata": {
    "collapsed": false,
    "pycharm": {
     "name": "#%%\n"
    }
   }
  },
  {
   "cell_type": "code",
   "execution_count": 69,
   "outputs": [
    {
     "name": "stdout",
     "output_type": "stream",
     "text": [
      "env: AWS_ACCESS_KEY_ID=SokXIEc1g9vNqCJt4CSObyk6vumoOOPQ\n",
      "env: AWS_SECRET_ACCESS_KEY=QNyTpGhFjUTYSP9VKmfhpUizwKr0t8gk\n",
      "env: MLFLOW_S3_ENDPOINT_URL=https://minio-clustered-smapp-storage.apps.private.teh-1.snappcloud.io\n",
      "env: MLFLOW_TRACKING_URI=https://mlflow.apps.private.okd4.teh-1.snappcloud.io/\n",
      "env: MLFLOW_EXPERIMENT_NAME=elahe\n"
     ]
    }
   ],
   "source": [
    "%set_env AWS_ACCESS_KEY_ID=SokXIEc1g9vNqCJt4CSObyk6vumoOOPQ\n",
    "%set_env AWS_SECRET_ACCESS_KEY=QNyTpGhFjUTYSP9VKmfhpUizwKr0t8gk\n",
    "%set_env MLFLOW_S3_ENDPOINT_URL=https://minio-clustered-smapp-storage.apps.private.teh-1.snappcloud.io\n",
    "\n",
    "# create experiment\n",
    "%set_env MLFLOW_TRACKING_URI=https://mlflow.apps.private.okd4.teh-1.snappcloud.io/\n",
    "# mlflow experiments create --experiment-name elahe\n",
    "\n",
    "# run script under experiment\n",
    "%set_env MLFLOW_EXPERIMENT_NAME=elahe\n",
    "# cd save/\n",
    "# python test.py"
   ],
   "metadata": {
    "collapsed": false,
    "pycharm": {
     "name": "#%%\n"
    }
   }
  },
  {
   "cell_type": "code",
   "execution_count": 72,
   "outputs": [
    {
     "name": "stdout",
     "output_type": "stream",
     "text": [
      "SokXIEc1g9vNqCJt4CSObyk6vumoOOPQ\r\n",
      "QNyTpGhFjUTYSP9VKmfhpUizwKr0t8gk\r\n",
      "https://minio-clustered-smapp-storage.apps.private.teh-1.snappcloud.io\r\n",
      "https://mlflow.apps.private.okd4.teh-1.snappcloud.io/\r\n",
      "elahe\r\n"
     ]
    }
   ],
   "source": [
    "! echo $AWS_ACCESS_KEY_ID\n",
    "! echo $AWS_SECRET_ACCESS_KEY\n",
    "! echo $MLFLOW_S3_ENDPOINT_URL\n",
    "! echo $MLFLOW_TRACKING_URI\n",
    "! echo $MLFLOW_EXPERIMENT_NAME"
   ],
   "metadata": {
    "collapsed": false,
    "pycharm": {
     "name": "#%%\n"
    }
   }
  },
  {
   "cell_type": "code",
   "execution_count": 75,
   "outputs": [
    {
     "name": "stderr",
     "output_type": "stream",
     "text": [
      "Registered model 'reg-model' already exists. Creating a new version of this model...\n",
      "2022/10/28 21:07:28 INFO mlflow.tracking._model_registry.client: Waiting up to 300 seconds for model version to finish creation.                     Model name: reg-model, version 2\n",
      "Created version '2' of model 'reg-model'.\n"
     ]
    }
   ],
   "source": [
    "with mlflow.start_run(run_name=\"regression\") as run:\n",
    "    # Log the sklearn model and register as version 1\n",
    "    mlflow.sklearn.log_model(\n",
    "        sk_model=reg_p4,\n",
    "        artifact_path=\"regression\",\n",
    "        registered_model_name=\"reg-model\"\n",
    "    )"
   ],
   "metadata": {
    "collapsed": false,
    "pycharm": {
     "name": "#%%\n"
    }
   }
  },
  {
   "cell_type": "code",
   "execution_count": null,
   "outputs": [],
   "source": [],
   "metadata": {
    "collapsed": false,
    "pycharm": {
     "name": "#%%\n"
    }
   }
  },
  {
   "cell_type": "code",
   "execution_count": null,
   "outputs": [],
   "source": [
    "# with mlflow.start_run(run_name=\"YOUR_RUN_NAME\") as run:\n",
    "#     params = {\"n_estimators\": 5, \"random_state\": 42}\n",
    "#     sk_learn_rfr = RandomForestRegressor(**params)\n",
    "#\n",
    "#     # Log parameters and metrics using the MLflow APIs\n",
    "#     mlflow.log_params(params)\n",
    "#     mlflow.log_param(\"param_1\", randint(0, 100))\n",
    "#     mlflow.log_metrics({\"metric_1\": random(), \"metric_2\": random() + 1})\n",
    "#\n",
    "#     # Log the sklearn model and register as version 1\n",
    "#     mlflow.sklearn.log_model(\n",
    "#         sk_model=sk_learn_rfr,\n",
    "#         artifact_path=\"sklearn-model\",\n",
    "#         registered_model_name=\"sk-learn-random-forest-reg-model\"\n",
    "#     )"
   ],
   "metadata": {
    "collapsed": false,
    "pycharm": {
     "name": "#%%\n"
    }
   }
  },
  {
   "cell_type": "code",
   "execution_count": null,
   "outputs": [],
   "source": [],
   "metadata": {
    "collapsed": false,
    "pycharm": {
     "name": "#%%\n"
    }
   }
  },
  {
   "cell_type": "code",
   "execution_count": null,
   "outputs": [],
   "source": [],
   "metadata": {
    "collapsed": false,
    "pycharm": {
     "name": "#%%\n"
    }
   }
  }
 ],
 "metadata": {
  "kernelspec": {
   "display_name": "Python 3",
   "language": "python",
   "name": "python3"
  },
  "language_info": {
   "codemirror_mode": {
    "name": "ipython",
    "version": 2
   },
   "file_extension": ".py",
   "mimetype": "text/x-python",
   "name": "python",
   "nbconvert_exporter": "python",
   "pygments_lexer": "ipython2",
   "version": "2.7.6"
  }
 },
 "nbformat": 4,
 "nbformat_minor": 0
}