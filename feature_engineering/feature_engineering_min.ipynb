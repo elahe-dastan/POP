{
 "cells": [
  {
   "cell_type": "code",
   "execution_count": 1,
   "metadata": {
    "collapsed": true,
    "pycharm": {
     "name": "#%%\n"
    }
   },
   "outputs": [],
   "source": [
    "import pandas as pd\n",
    "import numpy as np\n",
    "from sklearn.linear_model import LinearRegression\n",
    "from sklearn.metrics import mean_absolute_error, mean_squared_error, explained_variance_score, median_absolute_error, r2_score, mean_absolute_percentage_error\n",
    "from sklearn.model_selection import train_test_split\n",
    "from scipy.stats import *\n",
    "import h3\n",
    "from sklearn.preprocessing import OneHotEncoder\n",
    "from sklearn.compose import ColumnTransformer\n",
    "from datetime import datetime\n",
    "from math import floor\n",
    "import matplotlib.pyplot as plt\n",
    "import mlflow\n",
    "import mlflow.sklearn"
   ]
  },
  {
   "cell_type": "code",
   "execution_count": 2,
   "outputs": [],
   "source": [
    "ride_columns = ['accepted_driver_id', 'created_at', 'passenger_id', 'source_lat',\n",
    "       'source_lng', 'destination_lat', 'destination_lng', 'eta', 'provider',\n",
    "       'ata', 'id', 'city']\n",
    "\n",
    "khatkesh_columns = ['ride_id','driver_id','a_t_a_result.arrival_a_t_a','a_t_a_result.boarding_a_t_a','a_t_a_result.ride_a_t_a','a_t_a_result.arrival_probe_result.probe.point.lat','a_t_a_result.arrival_probe_result.probe.point.lon','a_t_a_result.arrival_probe_result.probe.timestamp','a_t_a_result.arrival_probe_result.confidence','a_t_a_result.arrival_probe_result.h3_index', 'a_t_a_result.arrival_probe_result.k_ring_level','a_t_a_result.boarding_probe_result.probe.point.lat','a_t_a_result.boarding_probe_result.probe.point.lon','a_t_a_result.boarding_probe_result.probe.timestamp','a_t_a_result.boarding_probe_result.confidence','a_t_a_result.boarding_probe_result.h3_index','a_t_a_result.boarding_probe_result.k_ring_level','a_t_a_result.final_destination_probe_result.probe.point.lat','a_t_a_result.final_destination_probe_result.probe.point.lon','a_t_a_result.final_destination_probe_result.probe.timestamp','a_t_a_result.final_destination_probe_result.confidence','a_t_a_result.final_destination_probe_result.h3_index','a_t_a_result.final_destination_probe_result.k_ring_level','a_t_a_result.destination_probe_result.probe.point.lat','a_t_a_result.destination_probe_result.probe.point.lon','a_t_a_result.destination_probe_result.probe.timestamp','a_t_a_result.destination_probe_result.confidence','a_t_a_result.destination_probe_result.h3_index','a_t_a_result.destination_probe_result.k_ring_level','a_t_a_result.extra_destination_probe_result.probe.point.lat','a_t_a_result.extra_destination_probe_result.probe.point.lon','a_t_a_result.extra_destination_probe_result.probe.timestamp','a_t_a_result.extra_destination_probe_result.confidence','a_t_a_result.extra_destination_probe_result.h3_index','a_t_a_result.extra_destination_probe_result.k_ring_level','pickup_a_d_d_result.distance','pickup_a_d_d_result.confidence','pickup_a_d_d_result.route_ratio','pickup_a_d_d_result.g_p_s_ratio','ride_a_d_d_result.distance','ride_a_d_d_result.confidence','ride_a_d_d_result.route_ratio','ride_a_d_d_result.g_p_s_ratio','total_a_d_d_confidence','in_ride_allotment','e_d_d','clickhouse_time','hash']\n",
    "\n",
    "train_dates = ['2022-08-02', '2022-08-03', '2022-08-04', '2022-08-05', '2022-08-06', '2022-08-07', '2022-08-08',\n",
    "               '2022-08-09', '2022-08-10', '2022-08-11', '2022-08-12', '2022-08-13', '2022-08-14', '2022-08-15',\n",
    "               '2022-08-16', '2022-08-17', '2022-08-18', '2022-08-19', '2022-08-20', '2022-08-21', '2022-08-22',\n",
    "               '2022-08-23', '2022-08-24', '2022-08-25', '2022-08-26', '2022-08-27', '2022-08-28', '2022-08-29',\n",
    "               '2022-08-30', '2022-08-31', '2022-09-01', '2022-09-02', '2022-09-03', '2022-09-04', '2022-09-05',\n",
    "               '2022-09-06', '2022-09-07', '2022-09-08', '2022-09-09', '2022-09-10']\n",
    "\n",
    "train_holidays = ['2022-08-07', '2022-08-08']\n",
    "\n",
    "test_dates = ['2022-09-11', '2022-09-12', '2022-09-13', '2022-09-14', '2022-09-15', '2022-09-16', '2022-09-17',\n",
    "              '2022-09-18', '2022-09-19', '2022-09-20', '2022-09-21', '2022-09-22', '2022-09-23', '2022-09-24',\n",
    "              '2022-09-25', '2022-09-26', '2022-09-27', '2022-09-28', '2022-09-29', '2022-09-30', '2022-10-01',\n",
    "              '2022-10-02', '2022-10-03', '2022-10-04', '2022-10-05', '2022-10-06', '2022-10-07', '2022-10-08',\n",
    "              '2022-10-09']\n",
    "\n",
    "test_holidays = ['2022-09-17', '2022-09-25', '2022-09-27', '2022-10-05']"
   ],
   "metadata": {
    "collapsed": false,
    "pycharm": {
     "name": "#%%\n"
    }
   }
  },
  {
   "cell_type": "code",
   "execution_count": 3,
   "outputs": [
    {
     "name": "stdout",
     "output_type": "stream",
     "text": [
      "<class 'pandas.core.frame.DataFrame'>\n",
      "RangeIndex: 4063341 entries, 0 to 4063340\n",
      "Data columns (total 59 columns):\n",
      " #   Column                                                       Dtype  \n",
      "---  ------                                                       -----  \n",
      " 0   accepted_driver_id                                           int64  \n",
      " 1   created_at                                                   object \n",
      " 2   passenger_id                                                 int64  \n",
      " 3   source_lat                                                   float64\n",
      " 4   source_lng                                                   float64\n",
      " 5   destination_lat                                              float64\n",
      " 6   destination_lng                                              float64\n",
      " 7   eta                                                          int64  \n",
      " 8   provider                                                     object \n",
      " 9   ata                                                          int64  \n",
      " 10  ride_id                                                      int64  \n",
      " 11  city                                                         int64  \n",
      " 12  driver_id                                                    int64  \n",
      " 13  a_t_a_result.arrival_a_t_a                                   int64  \n",
      " 14  a_t_a_result.boarding_a_t_a                                  float64\n",
      " 15  a_t_a_result.ride_a_t_a                                      int64  \n",
      " 16  a_t_a_result.arrival_probe_result.probe.point.lat            float64\n",
      " 17  a_t_a_result.arrival_probe_result.probe.point.lon            float64\n",
      " 18  a_t_a_result.arrival_probe_result.probe.timestamp            float64\n",
      " 19  a_t_a_result.arrival_probe_result.confidence                 float64\n",
      " 20  a_t_a_result.arrival_probe_result.h3_index                   object \n",
      " 21  a_t_a_result.arrival_probe_result.k_ring_level               int64  \n",
      " 22  a_t_a_result.boarding_probe_result.probe.point.lat           float64\n",
      " 23  a_t_a_result.boarding_probe_result.probe.point.lon           float64\n",
      " 24  a_t_a_result.boarding_probe_result.probe.timestamp           float64\n",
      " 25  a_t_a_result.boarding_probe_result.confidence                float64\n",
      " 26  a_t_a_result.boarding_probe_result.h3_index                  object \n",
      " 27  a_t_a_result.boarding_probe_result.k_ring_level              int64  \n",
      " 28  a_t_a_result.final_destination_probe_result.probe.point.lat  float64\n",
      " 29  a_t_a_result.final_destination_probe_result.probe.point.lon  float64\n",
      " 30  a_t_a_result.final_destination_probe_result.probe.timestamp  int64  \n",
      " 31  a_t_a_result.final_destination_probe_result.confidence       float64\n",
      " 32  a_t_a_result.final_destination_probe_result.h3_index         object \n",
      " 33  a_t_a_result.final_destination_probe_result.k_ring_level     int64  \n",
      " 34  a_t_a_result.destination_probe_result.probe.point.lat        float64\n",
      " 35  a_t_a_result.destination_probe_result.probe.point.lon        float64\n",
      " 36  a_t_a_result.destination_probe_result.probe.timestamp        float64\n",
      " 37  a_t_a_result.destination_probe_result.confidence             float64\n",
      " 38  a_t_a_result.destination_probe_result.h3_index               object \n",
      " 39  a_t_a_result.destination_probe_result.k_ring_level           int64  \n",
      " 40  a_t_a_result.extra_destination_probe_result.probe.point.lat  float64\n",
      " 41  a_t_a_result.extra_destination_probe_result.probe.point.lon  float64\n",
      " 42  a_t_a_result.extra_destination_probe_result.probe.timestamp  float64\n",
      " 43  a_t_a_result.extra_destination_probe_result.confidence       float64\n",
      " 44  a_t_a_result.extra_destination_probe_result.h3_index         float64\n",
      " 45  a_t_a_result.extra_destination_probe_result.k_ring_level     int64  \n",
      " 46  pickup_a_d_d_result.distance                                 float64\n",
      " 47  pickup_a_d_d_result.confidence                               float64\n",
      " 48  pickup_a_d_d_result.route_ratio                              float64\n",
      " 49  pickup_a_d_d_result.g_p_s_ratio                              float64\n",
      " 50  ride_a_d_d_result.distance                                   float64\n",
      " 51  ride_a_d_d_result.confidence                                 float64\n",
      " 52  ride_a_d_d_result.route_ratio                                float64\n",
      " 53  ride_a_d_d_result.g_p_s_ratio                                float64\n",
      " 54  total_a_d_d_confidence                                       float64\n",
      " 55  in_ride_allotment                                            float64\n",
      " 56  e_d_d                                                        float64\n",
      " 57  clickhouse_time                                              object \n",
      " 58  hash                                                         uint64 \n",
      "dtypes: float64(36), int64(15), object(7), uint64(1)\n",
      "memory usage: 1.8+ GB\n"
     ]
    }
   ],
   "source": [
    "rides_train = pd.read_csv('../rides_train.csv')\n",
    "rides_train.info()"
   ],
   "metadata": {
    "collapsed": false,
    "pycharm": {
     "name": "#%%\n"
    }
   }
  },
  {
   "cell_type": "code",
   "execution_count": 4,
   "outputs": [
    {
     "name": "stdout",
     "output_type": "stream",
     "text": [
      "<class 'pandas.core.frame.DataFrame'>\n",
      "RangeIndex: 2729988 entries, 0 to 2729987\n",
      "Data columns (total 59 columns):\n",
      " #   Column                                                       Dtype  \n",
      "---  ------                                                       -----  \n",
      " 0   accepted_driver_id                                           int64  \n",
      " 1   created_at                                                   object \n",
      " 2   passenger_id                                                 int64  \n",
      " 3   source_lat                                                   float64\n",
      " 4   source_lng                                                   float64\n",
      " 5   destination_lat                                              float64\n",
      " 6   destination_lng                                              float64\n",
      " 7   eta                                                          int64  \n",
      " 8   provider                                                     object \n",
      " 9   ata                                                          int64  \n",
      " 10  ride_id                                                      int64  \n",
      " 11  city                                                         int64  \n",
      " 12  driver_id                                                    int64  \n",
      " 13  a_t_a_result.arrival_a_t_a                                   int64  \n",
      " 14  a_t_a_result.boarding_a_t_a                                  float64\n",
      " 15  a_t_a_result.ride_a_t_a                                      int64  \n",
      " 16  a_t_a_result.arrival_probe_result.probe.point.lat            float64\n",
      " 17  a_t_a_result.arrival_probe_result.probe.point.lon            float64\n",
      " 18  a_t_a_result.arrival_probe_result.probe.timestamp            float64\n",
      " 19  a_t_a_result.arrival_probe_result.confidence                 float64\n",
      " 20  a_t_a_result.arrival_probe_result.h3_index                   object \n",
      " 21  a_t_a_result.arrival_probe_result.k_ring_level               int64  \n",
      " 22  a_t_a_result.boarding_probe_result.probe.point.lat           float64\n",
      " 23  a_t_a_result.boarding_probe_result.probe.point.lon           float64\n",
      " 24  a_t_a_result.boarding_probe_result.probe.timestamp           float64\n",
      " 25  a_t_a_result.boarding_probe_result.confidence                float64\n",
      " 26  a_t_a_result.boarding_probe_result.h3_index                  object \n",
      " 27  a_t_a_result.boarding_probe_result.k_ring_level              int64  \n",
      " 28  a_t_a_result.final_destination_probe_result.probe.point.lat  float64\n",
      " 29  a_t_a_result.final_destination_probe_result.probe.point.lon  float64\n",
      " 30  a_t_a_result.final_destination_probe_result.probe.timestamp  int64  \n",
      " 31  a_t_a_result.final_destination_probe_result.confidence       float64\n",
      " 32  a_t_a_result.final_destination_probe_result.h3_index         object \n",
      " 33  a_t_a_result.final_destination_probe_result.k_ring_level     int64  \n",
      " 34  a_t_a_result.destination_probe_result.probe.point.lat        float64\n",
      " 35  a_t_a_result.destination_probe_result.probe.point.lon        float64\n",
      " 36  a_t_a_result.destination_probe_result.probe.timestamp        float64\n",
      " 37  a_t_a_result.destination_probe_result.confidence             float64\n",
      " 38  a_t_a_result.destination_probe_result.h3_index               object \n",
      " 39  a_t_a_result.destination_probe_result.k_ring_level           int64  \n",
      " 40  a_t_a_result.extra_destination_probe_result.probe.point.lat  float64\n",
      " 41  a_t_a_result.extra_destination_probe_result.probe.point.lon  float64\n",
      " 42  a_t_a_result.extra_destination_probe_result.probe.timestamp  float64\n",
      " 43  a_t_a_result.extra_destination_probe_result.confidence       float64\n",
      " 44  a_t_a_result.extra_destination_probe_result.h3_index         float64\n",
      " 45  a_t_a_result.extra_destination_probe_result.k_ring_level     int64  \n",
      " 46  pickup_a_d_d_result.distance                                 float64\n",
      " 47  pickup_a_d_d_result.confidence                               float64\n",
      " 48  pickup_a_d_d_result.route_ratio                              float64\n",
      " 49  pickup_a_d_d_result.g_p_s_ratio                              float64\n",
      " 50  ride_a_d_d_result.distance                                   float64\n",
      " 51  ride_a_d_d_result.confidence                                 float64\n",
      " 52  ride_a_d_d_result.route_ratio                                float64\n",
      " 53  ride_a_d_d_result.g_p_s_ratio                                float64\n",
      " 54  total_a_d_d_confidence                                       float64\n",
      " 55  in_ride_allotment                                            float64\n",
      " 56  e_d_d                                                        float64\n",
      " 57  clickhouse_time                                              object \n",
      " 58  hash                                                         uint64 \n",
      "dtypes: float64(36), int64(15), object(7), uint64(1)\n",
      "memory usage: 1.2+ GB\n"
     ]
    }
   ],
   "source": [
    "rides_test = pd.read_csv('../rides_test.csv')\n",
    "rides_test.info()"
   ],
   "metadata": {
    "collapsed": false,
    "pycharm": {
     "name": "#%%\n"
    }
   }
  },
  {
   "cell_type": "code",
   "execution_count": 9,
   "outputs": [
    {
     "data": {
      "text/plain": "         accepted_driver_id           created_at  passenger_id  source_lat  \\\n163                 3381644  2022-08-02 17:21:15      17292919   35.738861   \n378                 3663159  2022-08-02 17:16:42       1632623   35.799671   \n723                 3490903  2022-08-02 17:09:18      29694343   35.579037   \n1745                2214114  2022-08-02 20:33:26      47320206   35.780285   \n1949                1257544  2022-08-02 15:46:39      32979623   35.640430   \n...                     ...                  ...           ...         ...   \n4055819              301634  2022-09-10 16:28:22       5173366   35.717476   \n4058408             3454779  2022-09-10 18:08:00       3409769   35.739578   \n4058854             3489267  2022-09-10 11:11:39      26353053   35.742908   \n4059897               95667  2022-09-10 16:59:54       2474904   35.797501   \n4062086             2372089  2022-09-10 19:58:49      36059884   35.674553   \n\n         source_lng  destination_lat  destination_lng   eta       provider  \\\n163       51.488377        35.743332        51.571125   863  smapp-same-dc   \n378       51.437275        35.808762        51.459133   610  smapp-same-dc   \n723       51.486729        35.372143        51.612598  2356  smapp-same-dc   \n1745      51.375587        35.740623        51.823898  4140  smapp-same-dc   \n1949      51.450829        35.732574        51.592113  1657  smapp-same-dc   \n...             ...              ...              ...   ...            ...   \n4055819   51.490105        35.752327        51.263584  2095  smapp-same-dc   \n4058408   51.472683        35.596123        51.445324  1652  smapp-same-dc   \n4058854   51.783337        35.817005        51.442070  2759  smapp-same-dc   \n4059897   51.460590        35.704105        51.305275  2114  smapp-same-dc   \n4062086   51.346210        35.538162        51.229626  1957  smapp-same-dc   \n\n          ata  ...  pickup_a_d_d_result.g_p_s_ratio  \\\n163       845  ...                         0.000000   \n378       633  ...                         0.000000   \n723      3790  ...                         0.000000   \n1745     3752  ...                         0.001490   \n1949     2048  ...                         0.002342   \n...       ...  ...                              ...   \n4055819  2215  ...                         0.002169   \n4058408  2906  ...                         0.000000   \n4058854  2798  ...                         0.001880   \n4059897  1434  ...                         0.002342   \n4062086  5083  ...                         0.001318   \n\n         ride_a_d_d_result.distance  ride_a_d_d_result.confidence  \\\n163                        7.484460                      0.000000   \n378                        2.215154                      0.000000   \n723                       25.673012                      0.000000   \n1745                      73.065002                      0.671423   \n1949                      47.762001                      0.988945   \n...                             ...                           ...   \n4055819                   55.514000                      1.000000   \n4058408                   16.141077                      0.000000   \n4058854                   63.567001                      0.789474   \n4059897                   53.491001                      0.921286   \n4062086                   24.530001                      0.527599   \n\n         ride_a_d_d_result.route_ratio  ride_a_d_d_result.g_p_s_ratio  \\\n163                                0.0                       0.000000   \n378                                0.0                       0.000000   \n723                                0.0                       0.000000   \n1745                               0.0                       0.269747   \n1949                               0.0                       0.555035   \n...                                ...                            ...   \n4055819                            0.0                       0.993492   \n4058408                            0.0                       0.000000   \n4058854                            0.0                       0.313910   \n4059897                            0.0                       0.793911   \n4062086                            0.0                       0.036891   \n\n         total_a_d_d_confidence  in_ride_allotment      e_d_d  \\\n163                    0.000000                0.0   0.000000   \n378                    0.000000                0.0   0.000000   \n723                    0.000000                0.0   0.000000   \n1745                   0.689947                0.0   0.000000   \n1949                   0.990500                0.0   0.000000   \n...                         ...                ...        ...   \n4055819                1.000000                0.0  26.069000   \n4058408                0.000000                0.0  21.320000   \n4058854                0.811543                0.0  41.224998   \n4059897                0.932501                0.0  23.295000   \n4062086                0.637762                0.0  22.434000   \n\n             clickhouse_time                  hash  \n163      2022-08-02 18:37:52   5528156935681518094  \n378      2022-08-02 18:37:52   2889677726077809410  \n723      2022-08-02 18:35:11   6528913712507247559  \n1745     2022-08-02 22:37:22    884179906846734231  \n1949     2022-08-02 17:03:33  16344145484622314507  \n...                      ...                   ...  \n4055819  2022-09-10 18:05:34   2003657252863128950  \n4058408  2022-09-10 19:05:16  16253873571958063879  \n4058854  2022-09-10 12:41:46   5186798029532232596  \n4059897  2022-09-10 18:17:29   3664452582758626753  \n4062086  2022-09-10 22:11:24   4503525934733439064  \n\n[4657 rows x 59 columns]",
      "text/html": "<div>\n<style scoped>\n    .dataframe tbody tr th:only-of-type {\n        vertical-align: middle;\n    }\n\n    .dataframe tbody tr th {\n        vertical-align: top;\n    }\n\n    .dataframe thead th {\n        text-align: right;\n    }\n</style>\n<table border=\"1\" class=\"dataframe\">\n  <thead>\n    <tr style=\"text-align: right;\">\n      <th></th>\n      <th>accepted_driver_id</th>\n      <th>created_at</th>\n      <th>passenger_id</th>\n      <th>source_lat</th>\n      <th>source_lng</th>\n      <th>destination_lat</th>\n      <th>destination_lng</th>\n      <th>eta</th>\n      <th>provider</th>\n      <th>ata</th>\n      <th>...</th>\n      <th>pickup_a_d_d_result.g_p_s_ratio</th>\n      <th>ride_a_d_d_result.distance</th>\n      <th>ride_a_d_d_result.confidence</th>\n      <th>ride_a_d_d_result.route_ratio</th>\n      <th>ride_a_d_d_result.g_p_s_ratio</th>\n      <th>total_a_d_d_confidence</th>\n      <th>in_ride_allotment</th>\n      <th>e_d_d</th>\n      <th>clickhouse_time</th>\n      <th>hash</th>\n    </tr>\n  </thead>\n  <tbody>\n    <tr>\n      <th>163</th>\n      <td>3381644</td>\n      <td>2022-08-02 17:21:15</td>\n      <td>17292919</td>\n      <td>35.738861</td>\n      <td>51.488377</td>\n      <td>35.743332</td>\n      <td>51.571125</td>\n      <td>863</td>\n      <td>smapp-same-dc</td>\n      <td>845</td>\n      <td>...</td>\n      <td>0.000000</td>\n      <td>7.484460</td>\n      <td>0.000000</td>\n      <td>0.0</td>\n      <td>0.000000</td>\n      <td>0.000000</td>\n      <td>0.0</td>\n      <td>0.000000</td>\n      <td>2022-08-02 18:37:52</td>\n      <td>5528156935681518094</td>\n    </tr>\n    <tr>\n      <th>378</th>\n      <td>3663159</td>\n      <td>2022-08-02 17:16:42</td>\n      <td>1632623</td>\n      <td>35.799671</td>\n      <td>51.437275</td>\n      <td>35.808762</td>\n      <td>51.459133</td>\n      <td>610</td>\n      <td>smapp-same-dc</td>\n      <td>633</td>\n      <td>...</td>\n      <td>0.000000</td>\n      <td>2.215154</td>\n      <td>0.000000</td>\n      <td>0.0</td>\n      <td>0.000000</td>\n      <td>0.000000</td>\n      <td>0.0</td>\n      <td>0.000000</td>\n      <td>2022-08-02 18:37:52</td>\n      <td>2889677726077809410</td>\n    </tr>\n    <tr>\n      <th>723</th>\n      <td>3490903</td>\n      <td>2022-08-02 17:09:18</td>\n      <td>29694343</td>\n      <td>35.579037</td>\n      <td>51.486729</td>\n      <td>35.372143</td>\n      <td>51.612598</td>\n      <td>2356</td>\n      <td>smapp-same-dc</td>\n      <td>3790</td>\n      <td>...</td>\n      <td>0.000000</td>\n      <td>25.673012</td>\n      <td>0.000000</td>\n      <td>0.0</td>\n      <td>0.000000</td>\n      <td>0.000000</td>\n      <td>0.0</td>\n      <td>0.000000</td>\n      <td>2022-08-02 18:35:11</td>\n      <td>6528913712507247559</td>\n    </tr>\n    <tr>\n      <th>1745</th>\n      <td>2214114</td>\n      <td>2022-08-02 20:33:26</td>\n      <td>47320206</td>\n      <td>35.780285</td>\n      <td>51.375587</td>\n      <td>35.740623</td>\n      <td>51.823898</td>\n      <td>4140</td>\n      <td>smapp-same-dc</td>\n      <td>3752</td>\n      <td>...</td>\n      <td>0.001490</td>\n      <td>73.065002</td>\n      <td>0.671423</td>\n      <td>0.0</td>\n      <td>0.269747</td>\n      <td>0.689947</td>\n      <td>0.0</td>\n      <td>0.000000</td>\n      <td>2022-08-02 22:37:22</td>\n      <td>884179906846734231</td>\n    </tr>\n    <tr>\n      <th>1949</th>\n      <td>1257544</td>\n      <td>2022-08-02 15:46:39</td>\n      <td>32979623</td>\n      <td>35.640430</td>\n      <td>51.450829</td>\n      <td>35.732574</td>\n      <td>51.592113</td>\n      <td>1657</td>\n      <td>smapp-same-dc</td>\n      <td>2048</td>\n      <td>...</td>\n      <td>0.002342</td>\n      <td>47.762001</td>\n      <td>0.988945</td>\n      <td>0.0</td>\n      <td>0.555035</td>\n      <td>0.990500</td>\n      <td>0.0</td>\n      <td>0.000000</td>\n      <td>2022-08-02 17:03:33</td>\n      <td>16344145484622314507</td>\n    </tr>\n    <tr>\n      <th>...</th>\n      <td>...</td>\n      <td>...</td>\n      <td>...</td>\n      <td>...</td>\n      <td>...</td>\n      <td>...</td>\n      <td>...</td>\n      <td>...</td>\n      <td>...</td>\n      <td>...</td>\n      <td>...</td>\n      <td>...</td>\n      <td>...</td>\n      <td>...</td>\n      <td>...</td>\n      <td>...</td>\n      <td>...</td>\n      <td>...</td>\n      <td>...</td>\n      <td>...</td>\n      <td>...</td>\n    </tr>\n    <tr>\n      <th>4055819</th>\n      <td>301634</td>\n      <td>2022-09-10 16:28:22</td>\n      <td>5173366</td>\n      <td>35.717476</td>\n      <td>51.490105</td>\n      <td>35.752327</td>\n      <td>51.263584</td>\n      <td>2095</td>\n      <td>smapp-same-dc</td>\n      <td>2215</td>\n      <td>...</td>\n      <td>0.002169</td>\n      <td>55.514000</td>\n      <td>1.000000</td>\n      <td>0.0</td>\n      <td>0.993492</td>\n      <td>1.000000</td>\n      <td>0.0</td>\n      <td>26.069000</td>\n      <td>2022-09-10 18:05:34</td>\n      <td>2003657252863128950</td>\n    </tr>\n    <tr>\n      <th>4058408</th>\n      <td>3454779</td>\n      <td>2022-09-10 18:08:00</td>\n      <td>3409769</td>\n      <td>35.739578</td>\n      <td>51.472683</td>\n      <td>35.596123</td>\n      <td>51.445324</td>\n      <td>1652</td>\n      <td>smapp-same-dc</td>\n      <td>2906</td>\n      <td>...</td>\n      <td>0.000000</td>\n      <td>16.141077</td>\n      <td>0.000000</td>\n      <td>0.0</td>\n      <td>0.000000</td>\n      <td>0.000000</td>\n      <td>0.0</td>\n      <td>21.320000</td>\n      <td>2022-09-10 19:05:16</td>\n      <td>16253873571958063879</td>\n    </tr>\n    <tr>\n      <th>4058854</th>\n      <td>3489267</td>\n      <td>2022-09-10 11:11:39</td>\n      <td>26353053</td>\n      <td>35.742908</td>\n      <td>51.783337</td>\n      <td>35.817005</td>\n      <td>51.442070</td>\n      <td>2759</td>\n      <td>smapp-same-dc</td>\n      <td>2798</td>\n      <td>...</td>\n      <td>0.001880</td>\n      <td>63.567001</td>\n      <td>0.789474</td>\n      <td>0.0</td>\n      <td>0.313910</td>\n      <td>0.811543</td>\n      <td>0.0</td>\n      <td>41.224998</td>\n      <td>2022-09-10 12:41:46</td>\n      <td>5186798029532232596</td>\n    </tr>\n    <tr>\n      <th>4059897</th>\n      <td>95667</td>\n      <td>2022-09-10 16:59:54</td>\n      <td>2474904</td>\n      <td>35.797501</td>\n      <td>51.460590</td>\n      <td>35.704105</td>\n      <td>51.305275</td>\n      <td>2114</td>\n      <td>smapp-same-dc</td>\n      <td>1434</td>\n      <td>...</td>\n      <td>0.002342</td>\n      <td>53.491001</td>\n      <td>0.921286</td>\n      <td>0.0</td>\n      <td>0.793911</td>\n      <td>0.932501</td>\n      <td>0.0</td>\n      <td>23.295000</td>\n      <td>2022-09-10 18:17:29</td>\n      <td>3664452582758626753</td>\n    </tr>\n    <tr>\n      <th>4062086</th>\n      <td>2372089</td>\n      <td>2022-09-10 19:58:49</td>\n      <td>36059884</td>\n      <td>35.674553</td>\n      <td>51.346210</td>\n      <td>35.538162</td>\n      <td>51.229626</td>\n      <td>1957</td>\n      <td>smapp-same-dc</td>\n      <td>5083</td>\n      <td>...</td>\n      <td>0.001318</td>\n      <td>24.530001</td>\n      <td>0.527599</td>\n      <td>0.0</td>\n      <td>0.036891</td>\n      <td>0.637762</td>\n      <td>0.0</td>\n      <td>22.434000</td>\n      <td>2022-09-10 22:11:24</td>\n      <td>4503525934733439064</td>\n    </tr>\n  </tbody>\n</table>\n<p>4657 rows × 59 columns</p>\n</div>"
     },
     "execution_count": 9,
     "metadata": {},
     "output_type": "execute_result"
    }
   ],
   "source": [
    "rides_train[(abs(rides_train['eta'] - rides_train['a_t_a_result.ride_a_t_a']) > 1800) & (abs(rides_train['ata'] - rides_train['a_t_a_result.ride_a_t_a']) > 1800)]"
   ],
   "metadata": {
    "collapsed": false,
    "pycharm": {
     "name": "#%%\n"
    }
   }
  },
  {
   "cell_type": "code",
   "execution_count": 5,
   "outputs": [
    {
     "data": {
      "text/plain": "         accepted_driver_id           created_at  passenger_id  source_lat  \\\n4                   1389231  2022-08-02 08:34:03       7470502   35.760803   \n7                   2728438  2022-08-02 07:57:27      46320838   35.551586   \n8                   3929597  2022-08-02 14:30:25      50000201   35.417717   \n14                  1747330  2022-08-02 15:10:14      14512880   35.768822   \n17                  3225425  2022-08-02 14:27:08      37976832   35.748501   \n...                     ...                  ...           ...         ...   \n4063317             3600338  2022-09-10 13:22:41      45600791   35.310020   \n4063318              721503  2022-09-10 02:05:49      18806359   35.719933   \n4063330             2547634  2022-09-10 14:17:31      18081143   35.720974   \n4063337             2368196  2022-09-10 15:42:45       5676377   35.724361   \n4063340               45964  2022-09-10 11:29:32      49876941   35.668186   \n\n         source_lng  destination_lat  destination_lng   eta       provider  \\\n4         51.412613        35.680412        51.406525  1295  smapp-same-dc   \n7         51.251617        35.647949        51.399227  1721  smapp-same-dc   \n8         51.795067        35.465965        51.675755  1230  smapp-same-dc   \n14        51.305519        35.765411        51.442303  1641  smapp-same-dc   \n17        51.373596        35.784950        51.459675  1419  smapp-same-dc   \n...             ...              ...              ...   ...            ...   \n4063317   51.730579        35.423836        51.585243  1565  smapp-same-dc   \n4063318   51.335495        35.727440        51.526875  1344  smapp-same-dc   \n4063330   51.498474        35.708061        51.401943  1301  smapp-same-dc   \n4063337   51.402294        35.794140        51.472240  1239  smapp-same-dc   \n4063340   51.361591        35.750282        51.294250  1247  smapp-same-dc   \n\n          ata  ...  pickup_a_d_d_result.g_p_s_ratio  \\\n4        1320  ...                         0.007752   \n7        1726  ...                         0.006329   \n8        1048  ...                         0.009901   \n14       2785  ...                         0.003663   \n17       2136  ...                         0.004292   \n...       ...  ...                              ...   \n4063317  1638  ...                         0.006329   \n4063318  1139  ...                         0.004975   \n4063330  1487  ...                         0.006944   \n4063337  1567  ...                         0.006452   \n4063340  1484  ...                         0.007246   \n\n         ride_a_d_d_result.distance  ride_a_d_d_result.confidence  \\\n4                         24.997999                      1.000000   \n7                         46.188000                      1.000000   \n8                         26.224001                      0.950122   \n14                        41.141998                      1.000000   \n17                        22.626093                      0.769841   \n...                             ...                           ...   \n4063317                   30.001736                      0.768606   \n4063318                   24.430000                      0.594638   \n4063330                   20.761999                      0.992727   \n4063337                   33.134998                      0.877245   \n4063340                   27.271835                      0.928870   \n\n         ride_a_d_d_result.route_ratio  ride_a_d_d_result.g_p_s_ratio  \\\n4                                  0.0                       0.976744   \n7                                  0.0                       1.000000   \n8                                  0.0                       1.000000   \n14                                 0.0                       0.963370   \n17                                 0.0                       0.545064   \n...                                ...                            ...   \n4063317                            0.0                       0.506329   \n4063318                            0.0                       0.079602   \n4063330                            0.0                       0.937500   \n4063337                            0.0                       0.748387   \n4063340                            0.0                       0.942029   \n\n         total_a_d_d_confidence  in_ride_allotment   e_d_d  \\\n4                      1.000000                0.0   0.000   \n7                      1.000000                0.0   0.000   \n8                      0.957399                0.0   0.000   \n14                     1.000000                0.0   0.000   \n17                     0.810101                0.0   0.000   \n...                         ...                ...     ...   \n4063317                0.734278                0.0  21.211   \n4063318                0.591892                0.0  22.188   \n4063330                0.982424                0.0  10.682   \n4063337                0.893184                0.0  14.393   \n4063340                0.938147                0.0  15.186   \n\n             clickhouse_time                  hash  \n4        2022-08-02 09:01:23  16898267108648726188  \n7        2022-08-02 08:29:58  10312041573682854014  \n8        2022-08-02 14:52:35   5706011284955171486  \n14       2022-08-02 16:09:17   8400418949954600245  \n17       2022-08-02 15:15:30   6831010361265584132  \n...                      ...                   ...  \n4063317  2022-09-10 13:57:58  13937156972589334868  \n4063318  2022-09-10 02:38:12   8941506555186050771  \n4063330  2022-09-10 14:51:03  15050861885246709008  \n4063337  2022-09-10 16:13:23  15480662044417010408  \n4063340  2022-09-10 11:56:31   2515673701687260333  \n\n[699188 rows x 59 columns]",
      "text/html": "<div>\n<style scoped>\n    .dataframe tbody tr th:only-of-type {\n        vertical-align: middle;\n    }\n\n    .dataframe tbody tr th {\n        vertical-align: top;\n    }\n\n    .dataframe thead th {\n        text-align: right;\n    }\n</style>\n<table border=\"1\" class=\"dataframe\">\n  <thead>\n    <tr style=\"text-align: right;\">\n      <th></th>\n      <th>accepted_driver_id</th>\n      <th>created_at</th>\n      <th>passenger_id</th>\n      <th>source_lat</th>\n      <th>source_lng</th>\n      <th>destination_lat</th>\n      <th>destination_lng</th>\n      <th>eta</th>\n      <th>provider</th>\n      <th>ata</th>\n      <th>...</th>\n      <th>pickup_a_d_d_result.g_p_s_ratio</th>\n      <th>ride_a_d_d_result.distance</th>\n      <th>ride_a_d_d_result.confidence</th>\n      <th>ride_a_d_d_result.route_ratio</th>\n      <th>ride_a_d_d_result.g_p_s_ratio</th>\n      <th>total_a_d_d_confidence</th>\n      <th>in_ride_allotment</th>\n      <th>e_d_d</th>\n      <th>clickhouse_time</th>\n      <th>hash</th>\n    </tr>\n  </thead>\n  <tbody>\n    <tr>\n      <th>4</th>\n      <td>1389231</td>\n      <td>2022-08-02 08:34:03</td>\n      <td>7470502</td>\n      <td>35.760803</td>\n      <td>51.412613</td>\n      <td>35.680412</td>\n      <td>51.406525</td>\n      <td>1295</td>\n      <td>smapp-same-dc</td>\n      <td>1320</td>\n      <td>...</td>\n      <td>0.007752</td>\n      <td>24.997999</td>\n      <td>1.000000</td>\n      <td>0.0</td>\n      <td>0.976744</td>\n      <td>1.000000</td>\n      <td>0.0</td>\n      <td>0.000</td>\n      <td>2022-08-02 09:01:23</td>\n      <td>16898267108648726188</td>\n    </tr>\n    <tr>\n      <th>7</th>\n      <td>2728438</td>\n      <td>2022-08-02 07:57:27</td>\n      <td>46320838</td>\n      <td>35.551586</td>\n      <td>51.251617</td>\n      <td>35.647949</td>\n      <td>51.399227</td>\n      <td>1721</td>\n      <td>smapp-same-dc</td>\n      <td>1726</td>\n      <td>...</td>\n      <td>0.006329</td>\n      <td>46.188000</td>\n      <td>1.000000</td>\n      <td>0.0</td>\n      <td>1.000000</td>\n      <td>1.000000</td>\n      <td>0.0</td>\n      <td>0.000</td>\n      <td>2022-08-02 08:29:58</td>\n      <td>10312041573682854014</td>\n    </tr>\n    <tr>\n      <th>8</th>\n      <td>3929597</td>\n      <td>2022-08-02 14:30:25</td>\n      <td>50000201</td>\n      <td>35.417717</td>\n      <td>51.795067</td>\n      <td>35.465965</td>\n      <td>51.675755</td>\n      <td>1230</td>\n      <td>smapp-same-dc</td>\n      <td>1048</td>\n      <td>...</td>\n      <td>0.009901</td>\n      <td>26.224001</td>\n      <td>0.950122</td>\n      <td>0.0</td>\n      <td>1.000000</td>\n      <td>0.957399</td>\n      <td>0.0</td>\n      <td>0.000</td>\n      <td>2022-08-02 14:52:35</td>\n      <td>5706011284955171486</td>\n    </tr>\n    <tr>\n      <th>14</th>\n      <td>1747330</td>\n      <td>2022-08-02 15:10:14</td>\n      <td>14512880</td>\n      <td>35.768822</td>\n      <td>51.305519</td>\n      <td>35.765411</td>\n      <td>51.442303</td>\n      <td>1641</td>\n      <td>smapp-same-dc</td>\n      <td>2785</td>\n      <td>...</td>\n      <td>0.003663</td>\n      <td>41.141998</td>\n      <td>1.000000</td>\n      <td>0.0</td>\n      <td>0.963370</td>\n      <td>1.000000</td>\n      <td>0.0</td>\n      <td>0.000</td>\n      <td>2022-08-02 16:09:17</td>\n      <td>8400418949954600245</td>\n    </tr>\n    <tr>\n      <th>17</th>\n      <td>3225425</td>\n      <td>2022-08-02 14:27:08</td>\n      <td>37976832</td>\n      <td>35.748501</td>\n      <td>51.373596</td>\n      <td>35.784950</td>\n      <td>51.459675</td>\n      <td>1419</td>\n      <td>smapp-same-dc</td>\n      <td>2136</td>\n      <td>...</td>\n      <td>0.004292</td>\n      <td>22.626093</td>\n      <td>0.769841</td>\n      <td>0.0</td>\n      <td>0.545064</td>\n      <td>0.810101</td>\n      <td>0.0</td>\n      <td>0.000</td>\n      <td>2022-08-02 15:15:30</td>\n      <td>6831010361265584132</td>\n    </tr>\n    <tr>\n      <th>...</th>\n      <td>...</td>\n      <td>...</td>\n      <td>...</td>\n      <td>...</td>\n      <td>...</td>\n      <td>...</td>\n      <td>...</td>\n      <td>...</td>\n      <td>...</td>\n      <td>...</td>\n      <td>...</td>\n      <td>...</td>\n      <td>...</td>\n      <td>...</td>\n      <td>...</td>\n      <td>...</td>\n      <td>...</td>\n      <td>...</td>\n      <td>...</td>\n      <td>...</td>\n      <td>...</td>\n    </tr>\n    <tr>\n      <th>4063317</th>\n      <td>3600338</td>\n      <td>2022-09-10 13:22:41</td>\n      <td>45600791</td>\n      <td>35.310020</td>\n      <td>51.730579</td>\n      <td>35.423836</td>\n      <td>51.585243</td>\n      <td>1565</td>\n      <td>smapp-same-dc</td>\n      <td>1638</td>\n      <td>...</td>\n      <td>0.006329</td>\n      <td>30.001736</td>\n      <td>0.768606</td>\n      <td>0.0</td>\n      <td>0.506329</td>\n      <td>0.734278</td>\n      <td>0.0</td>\n      <td>21.211</td>\n      <td>2022-09-10 13:57:58</td>\n      <td>13937156972589334868</td>\n    </tr>\n    <tr>\n      <th>4063318</th>\n      <td>721503</td>\n      <td>2022-09-10 02:05:49</td>\n      <td>18806359</td>\n      <td>35.719933</td>\n      <td>51.335495</td>\n      <td>35.727440</td>\n      <td>51.526875</td>\n      <td>1344</td>\n      <td>smapp-same-dc</td>\n      <td>1139</td>\n      <td>...</td>\n      <td>0.004975</td>\n      <td>24.430000</td>\n      <td>0.594638</td>\n      <td>0.0</td>\n      <td>0.079602</td>\n      <td>0.591892</td>\n      <td>0.0</td>\n      <td>22.188</td>\n      <td>2022-09-10 02:38:12</td>\n      <td>8941506555186050771</td>\n    </tr>\n    <tr>\n      <th>4063330</th>\n      <td>2547634</td>\n      <td>2022-09-10 14:17:31</td>\n      <td>18081143</td>\n      <td>35.720974</td>\n      <td>51.498474</td>\n      <td>35.708061</td>\n      <td>51.401943</td>\n      <td>1301</td>\n      <td>smapp-same-dc</td>\n      <td>1487</td>\n      <td>...</td>\n      <td>0.006944</td>\n      <td>20.761999</td>\n      <td>0.992727</td>\n      <td>0.0</td>\n      <td>0.937500</td>\n      <td>0.982424</td>\n      <td>0.0</td>\n      <td>10.682</td>\n      <td>2022-09-10 14:51:03</td>\n      <td>15050861885246709008</td>\n    </tr>\n    <tr>\n      <th>4063337</th>\n      <td>2368196</td>\n      <td>2022-09-10 15:42:45</td>\n      <td>5676377</td>\n      <td>35.724361</td>\n      <td>51.402294</td>\n      <td>35.794140</td>\n      <td>51.472240</td>\n      <td>1239</td>\n      <td>smapp-same-dc</td>\n      <td>1567</td>\n      <td>...</td>\n      <td>0.006452</td>\n      <td>33.134998</td>\n      <td>0.877245</td>\n      <td>0.0</td>\n      <td>0.748387</td>\n      <td>0.893184</td>\n      <td>0.0</td>\n      <td>14.393</td>\n      <td>2022-09-10 16:13:23</td>\n      <td>15480662044417010408</td>\n    </tr>\n    <tr>\n      <th>4063340</th>\n      <td>45964</td>\n      <td>2022-09-10 11:29:32</td>\n      <td>49876941</td>\n      <td>35.668186</td>\n      <td>51.361591</td>\n      <td>35.750282</td>\n      <td>51.294250</td>\n      <td>1247</td>\n      <td>smapp-same-dc</td>\n      <td>1484</td>\n      <td>...</td>\n      <td>0.007246</td>\n      <td>27.271835</td>\n      <td>0.928870</td>\n      <td>0.0</td>\n      <td>0.942029</td>\n      <td>0.938147</td>\n      <td>0.0</td>\n      <td>15.186</td>\n      <td>2022-09-10 11:56:31</td>\n      <td>2515673701687260333</td>\n    </tr>\n  </tbody>\n</table>\n<p>699188 rows × 59 columns</p>\n</div>"
     },
     "execution_count": 5,
     "metadata": {},
     "output_type": "execute_result"
    }
   ],
   "source": [
    "rides_train_p1 = rides_train[(rides_train['eta'] < 1800) & (rides_train['eta'] >= 1200)]\n",
    "rides_train_p1"
   ],
   "metadata": {
    "collapsed": false,
    "pycharm": {
     "name": "#%%\n"
    }
   }
  },
  {
   "cell_type": "code",
   "execution_count": 6,
   "outputs": [
    {
     "name": "stderr",
     "output_type": "stream",
     "text": [
      "/var/folders/yq/707ysz_j3jlggmtk5clx13rm0000gn/T/ipykernel_57775/3561066352.py:1: UserWarning: Boolean Series key will be reindexed to match DataFrame index.\n",
      "  rides_test_p1 = rides_test[(rides_train['eta'] < 1800) & (rides_train['eta'] >= 1200)]\n"
     ]
    },
    {
     "data": {
      "text/plain": "         accepted_driver_id           created_at  passenger_id  source_lat  \\\n4                   2255413  2022-09-11 16:18:50      13204345   35.754002   \n7                    747553  2022-09-11 08:41:48      32278185   35.686687   \n8                    178820  2022-09-11 08:47:42      47663548   35.737583   \n14                   995872  2022-09-11 10:37:12      28136537   35.792473   \n17                  3564404  2022-09-11 20:54:38      20882457   35.640404   \n...                     ...                  ...           ...         ...   \n2729959              142695  2022-10-09 13:27:47       2630964   35.689465   \n2729961             1009979  2022-10-09 13:29:46      20463806   35.735298   \n2729964             2903607  2022-10-09 08:29:31      47375945   35.806316   \n2729965             3391701  2022-10-09 15:26:58      25438077   35.757008   \n2729972              239912  2022-10-09 10:35:34        821295   35.725483   \n\n         source_lng  destination_lat  destination_lng   eta       provider  \\\n4         51.502956        35.633537        51.494732  1586  smapp-same-dc   \n7         51.353626        35.676292        51.306538   661  smapp-same-dc   \n8         51.817417        35.716343        51.786205   767  smapp-same-dc   \n14        51.425320        35.698429        51.456745  1708  smapp-same-dc   \n17        51.416351        35.768814        51.276939  2944  smapp-same-dc   \n...             ...              ...              ...   ...            ...   \n2729959   51.463215        35.680313        51.469929   320  smapp-same-dc   \n2729961   51.317776        35.680313        51.388023  1253  smapp-same-dc   \n2729964   51.475018        35.806435        51.449356   656  smapp-same-dc   \n2729965   51.248936        35.755554        51.219669   496  smapp-same-dc   \n2729972   51.419994        35.699039        51.396088   933  smapp-same-dc   \n\n          ata  ...  pickup_a_d_d_result.g_p_s_ratio  \\\n4        1663  ...                         0.005952   \n7         689  ...                         0.014085   \n8         815  ...                         0.014286   \n14       2254  ...                         0.004484   \n17       2778  ...                         0.003559   \n...       ...  ...                              ...   \n2729959   302  ...                         0.000000   \n2729961  1612  ...                         0.006289   \n2729964   913  ...                         0.011494   \n2729965   469  ...                         0.020833   \n2729972   922  ...                         0.010526   \n\n         ride_a_d_d_result.distance  ride_a_d_d_result.confidence  \\\n4                         29.419765                      0.887584   \n7                          7.608000                      0.569532   \n8                         14.842000                      1.000000   \n14                        31.429775                      0.955925   \n17                        65.590630                      0.834837   \n...                             ...                           ...   \n2729959                    1.674000                      0.500000   \n2729961                   28.757999                      0.960011   \n2729964                    6.884000                      1.000000   \n2729965                    7.808000                      0.979124   \n2729972                   10.362000                      1.000000   \n\n         ride_a_d_d_result.route_ratio  ride_a_d_d_result.g_p_s_ratio  \\\n4                                  0.0                       0.779762   \n7                                  0.0                       0.112676   \n8                                  0.0                       0.985714   \n14                                 0.0                       0.959641   \n17                                 0.0                       0.868327   \n...                                ...                            ...   \n2729959                            0.0                       0.000000   \n2729961                            0.0                       0.911950   \n2729964                            0.0                       0.896552   \n2729965                            0.0                       0.791667   \n2729972                            0.0                       0.831579   \n\n         total_a_d_d_confidence  in_ride_allotment      e_d_d  \\\n4                      0.887654              0.000  17.757999   \n7                      0.592628              0.000   6.406000   \n8                      1.000000              0.000   7.461000   \n14                     0.942513              0.412  19.094999   \n17                     0.857004              0.000  40.091000   \n...                         ...                ...        ...   \n2729959                0.500000              0.000   1.515000   \n2729961                0.966451              0.000  14.957000   \n2729964                1.000000              0.000   3.729000   \n2729965                0.982049              0.000   4.083000   \n2729972                1.000000              0.000   5.900000   \n\n             clickhouse_time                  hash  \n4        2022-09-11 18:07:01   3093743379629491928  \n7        2022-09-11 09:00:15  14066967287691026815  \n8        2022-09-11 09:05:35   2262467388776729805  \n14       2022-09-11 11:21:00   6241151625673717460  \n17       2022-09-11 22:09:37  13862046135803300111  \n...                      ...                   ...  \n2729959  2022-10-09 13:37:26  15103678060787255565  \n2729961  2022-10-09 14:02:58  16088522187439589912  \n2729964  2022-10-09 10:02:04   9571084981216949739  \n2729965  2022-10-09 15:38:52   5403978073619711955  \n2729972  2022-10-09 10:57:03  11715841616622899890  \n\n[467688 rows x 59 columns]",
      "text/html": "<div>\n<style scoped>\n    .dataframe tbody tr th:only-of-type {\n        vertical-align: middle;\n    }\n\n    .dataframe tbody tr th {\n        vertical-align: top;\n    }\n\n    .dataframe thead th {\n        text-align: right;\n    }\n</style>\n<table border=\"1\" class=\"dataframe\">\n  <thead>\n    <tr style=\"text-align: right;\">\n      <th></th>\n      <th>accepted_driver_id</th>\n      <th>created_at</th>\n      <th>passenger_id</th>\n      <th>source_lat</th>\n      <th>source_lng</th>\n      <th>destination_lat</th>\n      <th>destination_lng</th>\n      <th>eta</th>\n      <th>provider</th>\n      <th>ata</th>\n      <th>...</th>\n      <th>pickup_a_d_d_result.g_p_s_ratio</th>\n      <th>ride_a_d_d_result.distance</th>\n      <th>ride_a_d_d_result.confidence</th>\n      <th>ride_a_d_d_result.route_ratio</th>\n      <th>ride_a_d_d_result.g_p_s_ratio</th>\n      <th>total_a_d_d_confidence</th>\n      <th>in_ride_allotment</th>\n      <th>e_d_d</th>\n      <th>clickhouse_time</th>\n      <th>hash</th>\n    </tr>\n  </thead>\n  <tbody>\n    <tr>\n      <th>4</th>\n      <td>2255413</td>\n      <td>2022-09-11 16:18:50</td>\n      <td>13204345</td>\n      <td>35.754002</td>\n      <td>51.502956</td>\n      <td>35.633537</td>\n      <td>51.494732</td>\n      <td>1586</td>\n      <td>smapp-same-dc</td>\n      <td>1663</td>\n      <td>...</td>\n      <td>0.005952</td>\n      <td>29.419765</td>\n      <td>0.887584</td>\n      <td>0.0</td>\n      <td>0.779762</td>\n      <td>0.887654</td>\n      <td>0.000</td>\n      <td>17.757999</td>\n      <td>2022-09-11 18:07:01</td>\n      <td>3093743379629491928</td>\n    </tr>\n    <tr>\n      <th>7</th>\n      <td>747553</td>\n      <td>2022-09-11 08:41:48</td>\n      <td>32278185</td>\n      <td>35.686687</td>\n      <td>51.353626</td>\n      <td>35.676292</td>\n      <td>51.306538</td>\n      <td>661</td>\n      <td>smapp-same-dc</td>\n      <td>689</td>\n      <td>...</td>\n      <td>0.014085</td>\n      <td>7.608000</td>\n      <td>0.569532</td>\n      <td>0.0</td>\n      <td>0.112676</td>\n      <td>0.592628</td>\n      <td>0.000</td>\n      <td>6.406000</td>\n      <td>2022-09-11 09:00:15</td>\n      <td>14066967287691026815</td>\n    </tr>\n    <tr>\n      <th>8</th>\n      <td>178820</td>\n      <td>2022-09-11 08:47:42</td>\n      <td>47663548</td>\n      <td>35.737583</td>\n      <td>51.817417</td>\n      <td>35.716343</td>\n      <td>51.786205</td>\n      <td>767</td>\n      <td>smapp-same-dc</td>\n      <td>815</td>\n      <td>...</td>\n      <td>0.014286</td>\n      <td>14.842000</td>\n      <td>1.000000</td>\n      <td>0.0</td>\n      <td>0.985714</td>\n      <td>1.000000</td>\n      <td>0.000</td>\n      <td>7.461000</td>\n      <td>2022-09-11 09:05:35</td>\n      <td>2262467388776729805</td>\n    </tr>\n    <tr>\n      <th>14</th>\n      <td>995872</td>\n      <td>2022-09-11 10:37:12</td>\n      <td>28136537</td>\n      <td>35.792473</td>\n      <td>51.425320</td>\n      <td>35.698429</td>\n      <td>51.456745</td>\n      <td>1708</td>\n      <td>smapp-same-dc</td>\n      <td>2254</td>\n      <td>...</td>\n      <td>0.004484</td>\n      <td>31.429775</td>\n      <td>0.955925</td>\n      <td>0.0</td>\n      <td>0.959641</td>\n      <td>0.942513</td>\n      <td>0.412</td>\n      <td>19.094999</td>\n      <td>2022-09-11 11:21:00</td>\n      <td>6241151625673717460</td>\n    </tr>\n    <tr>\n      <th>17</th>\n      <td>3564404</td>\n      <td>2022-09-11 20:54:38</td>\n      <td>20882457</td>\n      <td>35.640404</td>\n      <td>51.416351</td>\n      <td>35.768814</td>\n      <td>51.276939</td>\n      <td>2944</td>\n      <td>smapp-same-dc</td>\n      <td>2778</td>\n      <td>...</td>\n      <td>0.003559</td>\n      <td>65.590630</td>\n      <td>0.834837</td>\n      <td>0.0</td>\n      <td>0.868327</td>\n      <td>0.857004</td>\n      <td>0.000</td>\n      <td>40.091000</td>\n      <td>2022-09-11 22:09:37</td>\n      <td>13862046135803300111</td>\n    </tr>\n    <tr>\n      <th>...</th>\n      <td>...</td>\n      <td>...</td>\n      <td>...</td>\n      <td>...</td>\n      <td>...</td>\n      <td>...</td>\n      <td>...</td>\n      <td>...</td>\n      <td>...</td>\n      <td>...</td>\n      <td>...</td>\n      <td>...</td>\n      <td>...</td>\n      <td>...</td>\n      <td>...</td>\n      <td>...</td>\n      <td>...</td>\n      <td>...</td>\n      <td>...</td>\n      <td>...</td>\n      <td>...</td>\n    </tr>\n    <tr>\n      <th>2729959</th>\n      <td>142695</td>\n      <td>2022-10-09 13:27:47</td>\n      <td>2630964</td>\n      <td>35.689465</td>\n      <td>51.463215</td>\n      <td>35.680313</td>\n      <td>51.469929</td>\n      <td>320</td>\n      <td>smapp-same-dc</td>\n      <td>302</td>\n      <td>...</td>\n      <td>0.000000</td>\n      <td>1.674000</td>\n      <td>0.500000</td>\n      <td>0.0</td>\n      <td>0.000000</td>\n      <td>0.500000</td>\n      <td>0.000</td>\n      <td>1.515000</td>\n      <td>2022-10-09 13:37:26</td>\n      <td>15103678060787255565</td>\n    </tr>\n    <tr>\n      <th>2729961</th>\n      <td>1009979</td>\n      <td>2022-10-09 13:29:46</td>\n      <td>20463806</td>\n      <td>35.735298</td>\n      <td>51.317776</td>\n      <td>35.680313</td>\n      <td>51.388023</td>\n      <td>1253</td>\n      <td>smapp-same-dc</td>\n      <td>1612</td>\n      <td>...</td>\n      <td>0.006289</td>\n      <td>28.757999</td>\n      <td>0.960011</td>\n      <td>0.0</td>\n      <td>0.911950</td>\n      <td>0.966451</td>\n      <td>0.000</td>\n      <td>14.957000</td>\n      <td>2022-10-09 14:02:58</td>\n      <td>16088522187439589912</td>\n    </tr>\n    <tr>\n      <th>2729964</th>\n      <td>2903607</td>\n      <td>2022-10-09 08:29:31</td>\n      <td>47375945</td>\n      <td>35.806316</td>\n      <td>51.475018</td>\n      <td>35.806435</td>\n      <td>51.449356</td>\n      <td>656</td>\n      <td>smapp-same-dc</td>\n      <td>913</td>\n      <td>...</td>\n      <td>0.011494</td>\n      <td>6.884000</td>\n      <td>1.000000</td>\n      <td>0.0</td>\n      <td>0.896552</td>\n      <td>1.000000</td>\n      <td>0.000</td>\n      <td>3.729000</td>\n      <td>2022-10-09 10:02:04</td>\n      <td>9571084981216949739</td>\n    </tr>\n    <tr>\n      <th>2729965</th>\n      <td>3391701</td>\n      <td>2022-10-09 15:26:58</td>\n      <td>25438077</td>\n      <td>35.757008</td>\n      <td>51.248936</td>\n      <td>35.755554</td>\n      <td>51.219669</td>\n      <td>496</td>\n      <td>smapp-same-dc</td>\n      <td>469</td>\n      <td>...</td>\n      <td>0.020833</td>\n      <td>7.808000</td>\n      <td>0.979124</td>\n      <td>0.0</td>\n      <td>0.791667</td>\n      <td>0.982049</td>\n      <td>0.000</td>\n      <td>4.083000</td>\n      <td>2022-10-09 15:38:52</td>\n      <td>5403978073619711955</td>\n    </tr>\n    <tr>\n      <th>2729972</th>\n      <td>239912</td>\n      <td>2022-10-09 10:35:34</td>\n      <td>821295</td>\n      <td>35.725483</td>\n      <td>51.419994</td>\n      <td>35.699039</td>\n      <td>51.396088</td>\n      <td>933</td>\n      <td>smapp-same-dc</td>\n      <td>922</td>\n      <td>...</td>\n      <td>0.010526</td>\n      <td>10.362000</td>\n      <td>1.000000</td>\n      <td>0.0</td>\n      <td>0.831579</td>\n      <td>1.000000</td>\n      <td>0.000</td>\n      <td>5.900000</td>\n      <td>2022-10-09 10:57:03</td>\n      <td>11715841616622899890</td>\n    </tr>\n  </tbody>\n</table>\n<p>467688 rows × 59 columns</p>\n</div>"
     },
     "execution_count": 6,
     "metadata": {},
     "output_type": "execute_result"
    }
   ],
   "source": [
    "rides_test_p1 = rides_test[(rides_train['eta'] < 1800) & (rides_train['eta'] >= 1200)]\n",
    "rides_test_p1"
   ],
   "metadata": {
    "collapsed": false,
    "pycharm": {
     "name": "#%%\n"
    }
   }
  },
  {
   "cell_type": "markdown",
   "source": [
    "There are some duplicates in the data"
   ],
   "metadata": {
    "collapsed": false,
    "pycharm": {
     "name": "#%% md\n"
    }
   }
  },
  {
   "cell_type": "code",
   "execution_count": 7,
   "outputs": [
    {
     "data": {
      "text/plain": "698924"
     },
     "execution_count": 7,
     "metadata": {},
     "output_type": "execute_result"
    }
   ],
   "source": [
    "rides_train_p1 = rides_train_p1.drop_duplicates(subset=['ride_id', 'ata'])\n",
    "len(rides_train_p1)"
   ],
   "metadata": {
    "collapsed": false,
    "pycharm": {
     "name": "#%%\n"
    }
   }
  },
  {
   "cell_type": "code",
   "execution_count": 8,
   "outputs": [
    {
     "data": {
      "text/plain": "467678"
     },
     "execution_count": 8,
     "metadata": {},
     "output_type": "execute_result"
    }
   ],
   "source": [
    "rides_test_p1 = rides_test_p1.drop_duplicates(subset=['ride_id', 'ata'])\n",
    "len(rides_test_p1)"
   ],
   "metadata": {
    "collapsed": false,
    "pycharm": {
     "name": "#%%\n"
    }
   }
  },
  {
   "cell_type": "code",
   "execution_count": 9,
   "outputs": [
    {
     "data": {
      "text/plain": "       accepted_driver_id  passenger_id     source_lat     source_lng  \\\ncount        6.982730e+05  6.982730e+05  698273.000000  698273.000000   \nmean         1.857425e+06  2.168748e+07      35.710892      51.399349   \nstd          1.409676e+06  1.787583e+07       0.074141       0.100507   \nmin          9.000000e+00  7.600000e+01      35.178387      50.901024   \n25%          4.473740e+05  3.664565e+06      35.681526      51.349072   \n50%          1.746312e+06  2.015608e+07      35.723850      51.407139   \n75%          3.138573e+06  3.603966e+07      35.759724      51.453903   \nmax          4.330757e+06  5.737754e+07      35.839870      52.107700   \n\n       destination_lat  destination_lng            eta            ata  \\\ncount    698273.000000    698273.000000  698273.000000  698273.000000   \nmean         35.712309        51.395568    1456.448922    1725.063978   \nstd           0.073240         0.106259     169.848034     575.790389   \nmin          35.173473        50.764294    1200.000000     124.000000   \n25%          35.685211        51.349880    1308.000000    1386.000000   \n50%          35.724022        51.408184    1436.000000    1624.000000   \n75%          35.760132        51.449703    1594.000000    1930.000000   \nmax          35.943981        52.106018    1799.000000   20274.000000   \n\n            ride_id      city  ...  pickup_a_d_d_result.route_ratio  \\\ncount  6.982730e+05  698273.0  ...                    698273.000000   \nmean   4.824418e+09       1.0  ...                         0.000156   \nstd    6.012160e+07       0.0  ...                         0.009760   \nmin    4.714480e+09       1.0  ...                         0.000000   \n25%    4.774177e+09       1.0  ...                         0.000000   \n50%    4.825935e+09       1.0  ...                         0.000000   \n75%    4.872342e+09       1.0  ...                         0.000000   \nmax    4.933870e+09       1.0  ...                         1.000000   \n\n       pickup_a_d_d_result.g_p_s_ratio  ride_a_d_d_result.distance  \\\ncount                    698273.000000               698273.000000   \nmean                          0.005586                   26.897149   \nstd                           0.002384                   10.485326   \nmin                           0.000000                    0.000000   \n25%                           0.004717                   19.203861   \n50%                           0.005882                   25.814985   \n75%                           0.006993                   33.271999   \nmax                           0.500000                 1042.181519   \n\n       ride_a_d_d_result.confidence  ride_a_d_d_result.route_ratio  \\\ncount                 698273.000000                  698273.000000   \nmean                       0.854432                       0.000019   \nstd                        0.172798                       0.000484   \nmin                        0.000000                       0.000000   \n25%                        0.756829                       0.000000   \n50%                        0.937934                       0.000000   \n75%                        0.987221                       0.000000   \nmax                        1.000000                       0.072162   \n\n       ride_a_d_d_result.g_p_s_ratio  total_a_d_d_confidence  \\\ncount                  698273.000000           698273.000000   \nmean                        0.719289                0.863478   \nstd                         0.333527                0.164499   \nmin                         0.000000                0.000000   \n25%                         0.500000                0.781659   \n50%                         0.893443                0.940534   \n75%                         0.979310                0.987554   \nmax                         1.000000                1.000000   \n\n       in_ride_allotment          e_d_d          hash  \ncount      698273.000000  698273.000000  6.982730e+05  \nmean            0.074900       3.885671  9.220944e+18  \nstd             0.608508       7.312144  5.324659e+18  \nmin             0.000000       0.000000  7.692488e+13  \n25%             0.000000       0.000000  4.613067e+18  \n50%             0.000000       0.000000  9.214285e+18  \n75%             0.000000       0.000000  1.383868e+19  \nmax            84.599289      69.930000  1.844674e+19  \n\n[8 rows x 52 columns]",
      "text/html": "<div>\n<style scoped>\n    .dataframe tbody tr th:only-of-type {\n        vertical-align: middle;\n    }\n\n    .dataframe tbody tr th {\n        vertical-align: top;\n    }\n\n    .dataframe thead th {\n        text-align: right;\n    }\n</style>\n<table border=\"1\" class=\"dataframe\">\n  <thead>\n    <tr style=\"text-align: right;\">\n      <th></th>\n      <th>accepted_driver_id</th>\n      <th>passenger_id</th>\n      <th>source_lat</th>\n      <th>source_lng</th>\n      <th>destination_lat</th>\n      <th>destination_lng</th>\n      <th>eta</th>\n      <th>ata</th>\n      <th>ride_id</th>\n      <th>city</th>\n      <th>...</th>\n      <th>pickup_a_d_d_result.route_ratio</th>\n      <th>pickup_a_d_d_result.g_p_s_ratio</th>\n      <th>ride_a_d_d_result.distance</th>\n      <th>ride_a_d_d_result.confidence</th>\n      <th>ride_a_d_d_result.route_ratio</th>\n      <th>ride_a_d_d_result.g_p_s_ratio</th>\n      <th>total_a_d_d_confidence</th>\n      <th>in_ride_allotment</th>\n      <th>e_d_d</th>\n      <th>hash</th>\n    </tr>\n  </thead>\n  <tbody>\n    <tr>\n      <th>count</th>\n      <td>6.982730e+05</td>\n      <td>6.982730e+05</td>\n      <td>698273.000000</td>\n      <td>698273.000000</td>\n      <td>698273.000000</td>\n      <td>698273.000000</td>\n      <td>698273.000000</td>\n      <td>698273.000000</td>\n      <td>6.982730e+05</td>\n      <td>698273.0</td>\n      <td>...</td>\n      <td>698273.000000</td>\n      <td>698273.000000</td>\n      <td>698273.000000</td>\n      <td>698273.000000</td>\n      <td>698273.000000</td>\n      <td>698273.000000</td>\n      <td>698273.000000</td>\n      <td>698273.000000</td>\n      <td>698273.000000</td>\n      <td>6.982730e+05</td>\n    </tr>\n    <tr>\n      <th>mean</th>\n      <td>1.857425e+06</td>\n      <td>2.168748e+07</td>\n      <td>35.710892</td>\n      <td>51.399349</td>\n      <td>35.712309</td>\n      <td>51.395568</td>\n      <td>1456.448922</td>\n      <td>1725.063978</td>\n      <td>4.824418e+09</td>\n      <td>1.0</td>\n      <td>...</td>\n      <td>0.000156</td>\n      <td>0.005586</td>\n      <td>26.897149</td>\n      <td>0.854432</td>\n      <td>0.000019</td>\n      <td>0.719289</td>\n      <td>0.863478</td>\n      <td>0.074900</td>\n      <td>3.885671</td>\n      <td>9.220944e+18</td>\n    </tr>\n    <tr>\n      <th>std</th>\n      <td>1.409676e+06</td>\n      <td>1.787583e+07</td>\n      <td>0.074141</td>\n      <td>0.100507</td>\n      <td>0.073240</td>\n      <td>0.106259</td>\n      <td>169.848034</td>\n      <td>575.790389</td>\n      <td>6.012160e+07</td>\n      <td>0.0</td>\n      <td>...</td>\n      <td>0.009760</td>\n      <td>0.002384</td>\n      <td>10.485326</td>\n      <td>0.172798</td>\n      <td>0.000484</td>\n      <td>0.333527</td>\n      <td>0.164499</td>\n      <td>0.608508</td>\n      <td>7.312144</td>\n      <td>5.324659e+18</td>\n    </tr>\n    <tr>\n      <th>min</th>\n      <td>9.000000e+00</td>\n      <td>7.600000e+01</td>\n      <td>35.178387</td>\n      <td>50.901024</td>\n      <td>35.173473</td>\n      <td>50.764294</td>\n      <td>1200.000000</td>\n      <td>124.000000</td>\n      <td>4.714480e+09</td>\n      <td>1.0</td>\n      <td>...</td>\n      <td>0.000000</td>\n      <td>0.000000</td>\n      <td>0.000000</td>\n      <td>0.000000</td>\n      <td>0.000000</td>\n      <td>0.000000</td>\n      <td>0.000000</td>\n      <td>0.000000</td>\n      <td>0.000000</td>\n      <td>7.692488e+13</td>\n    </tr>\n    <tr>\n      <th>25%</th>\n      <td>4.473740e+05</td>\n      <td>3.664565e+06</td>\n      <td>35.681526</td>\n      <td>51.349072</td>\n      <td>35.685211</td>\n      <td>51.349880</td>\n      <td>1308.000000</td>\n      <td>1386.000000</td>\n      <td>4.774177e+09</td>\n      <td>1.0</td>\n      <td>...</td>\n      <td>0.000000</td>\n      <td>0.004717</td>\n      <td>19.203861</td>\n      <td>0.756829</td>\n      <td>0.000000</td>\n      <td>0.500000</td>\n      <td>0.781659</td>\n      <td>0.000000</td>\n      <td>0.000000</td>\n      <td>4.613067e+18</td>\n    </tr>\n    <tr>\n      <th>50%</th>\n      <td>1.746312e+06</td>\n      <td>2.015608e+07</td>\n      <td>35.723850</td>\n      <td>51.407139</td>\n      <td>35.724022</td>\n      <td>51.408184</td>\n      <td>1436.000000</td>\n      <td>1624.000000</td>\n      <td>4.825935e+09</td>\n      <td>1.0</td>\n      <td>...</td>\n      <td>0.000000</td>\n      <td>0.005882</td>\n      <td>25.814985</td>\n      <td>0.937934</td>\n      <td>0.000000</td>\n      <td>0.893443</td>\n      <td>0.940534</td>\n      <td>0.000000</td>\n      <td>0.000000</td>\n      <td>9.214285e+18</td>\n    </tr>\n    <tr>\n      <th>75%</th>\n      <td>3.138573e+06</td>\n      <td>3.603966e+07</td>\n      <td>35.759724</td>\n      <td>51.453903</td>\n      <td>35.760132</td>\n      <td>51.449703</td>\n      <td>1594.000000</td>\n      <td>1930.000000</td>\n      <td>4.872342e+09</td>\n      <td>1.0</td>\n      <td>...</td>\n      <td>0.000000</td>\n      <td>0.006993</td>\n      <td>33.271999</td>\n      <td>0.987221</td>\n      <td>0.000000</td>\n      <td>0.979310</td>\n      <td>0.987554</td>\n      <td>0.000000</td>\n      <td>0.000000</td>\n      <td>1.383868e+19</td>\n    </tr>\n    <tr>\n      <th>max</th>\n      <td>4.330757e+06</td>\n      <td>5.737754e+07</td>\n      <td>35.839870</td>\n      <td>52.107700</td>\n      <td>35.943981</td>\n      <td>52.106018</td>\n      <td>1799.000000</td>\n      <td>20274.000000</td>\n      <td>4.933870e+09</td>\n      <td>1.0</td>\n      <td>...</td>\n      <td>1.000000</td>\n      <td>0.500000</td>\n      <td>1042.181519</td>\n      <td>1.000000</td>\n      <td>0.072162</td>\n      <td>1.000000</td>\n      <td>1.000000</td>\n      <td>84.599289</td>\n      <td>69.930000</td>\n      <td>1.844674e+19</td>\n    </tr>\n  </tbody>\n</table>\n<p>8 rows × 52 columns</p>\n</div>"
     },
     "execution_count": 9,
     "metadata": {},
     "output_type": "execute_result"
    }
   ],
   "source": [
    "rides_train_p1 = rides_train_p1[(rides_train_p1['a_t_a_result.ride_a_t_a'] < 10800)]\n",
    "rides_train_p1.describe()"
   ],
   "metadata": {
    "collapsed": false,
    "pycharm": {
     "name": "#%%\n"
    }
   }
  },
  {
   "cell_type": "code",
   "execution_count": 10,
   "outputs": [
    {
     "data": {
      "text/plain": "       accepted_driver_id  passenger_id     source_lat     source_lng  \\\ncount        4.186150e+05  4.186150e+05  418615.000000  418615.000000   \nmean         1.903595e+06  2.147731e+07      35.711474      51.399069   \nstd          1.419568e+06  1.783545e+07       0.073310       0.100062   \nmin          9.000000e+00  7.600000e+01      35.178387      50.901024   \n25%          4.738330e+05  3.543161e+06      35.681633      51.348881   \n50%          1.824698e+06  1.978329e+07      35.724007      51.406883   \n75%          3.207710e+06  3.578205e+07      35.759916      51.453754   \nmax          4.330757e+06  5.737754e+07      35.839024      52.107700   \n\n       destination_lat  destination_lng            eta            ata  \\\ncount    418615.000000    418615.000000  418615.000000  418615.000000   \nmean         35.713951        51.395514    1455.527726    1748.031867   \nstd           0.072303         0.106199     169.782330     567.417564   \nmin          35.173473        50.764294    1200.000000     143.000000   \n25%          35.686920        51.350353    1307.000000    1412.000000   \n50%          35.725761        51.407803    1435.000000    1646.000000   \n75%          35.761288        51.450859    1592.000000    1950.000000   \nmax          35.943981        52.103642    1799.000000   20274.000000   \n\n            ride_id      city  ...  pickup_a_d_d_result.route_ratio  \\\ncount  4.186150e+05  418615.0  ...                    418615.000000   \nmean   4.824397e+09       1.0  ...                         0.000076   \nstd    6.024950e+07       0.0  ...                         0.006515   \nmin    4.714480e+09       1.0  ...                         0.000000   \n25%    4.773912e+09       1.0  ...                         0.000000   \n50%    4.825453e+09       1.0  ...                         0.000000   \n75%    4.872820e+09       1.0  ...                         0.000000   \nmax    4.933870e+09       1.0  ...                         1.000000   \n\n       pickup_a_d_d_result.g_p_s_ratio  ride_a_d_d_result.distance  \\\ncount                    418615.000000               418615.000000   \nmean                          0.006219                   28.394249   \nstd                           0.001722                   10.024591   \nmin                           0.000904                    0.000000   \n25%                           0.005208                   21.094000   \n50%                           0.006135                   27.466999   \n75%                           0.007143                   34.560001   \nmax                           0.500000                  260.281769   \n\n       ride_a_d_d_result.confidence  ride_a_d_d_result.route_ratio  \\\ncount                 418615.000000                  418615.000000   \nmean                       0.904064                       0.000011   \nstd                        0.137932                       0.000339   \nmin                        0.000000                       0.000000   \n25%                        0.883405                       0.000000   \n50%                        0.964323                       0.000000   \n75%                        0.994926                       0.000000   \nmax                        1.000000                       0.048962   \n\n       ride_a_d_d_result.g_p_s_ratio  total_a_d_d_confidence  \\\ncount                  418615.000000           418615.000000   \nmean                        0.826222                0.913169   \nstd                         0.255498                0.123153   \nmin                         0.003937                0.000000   \n25%                         0.784946                0.890993   \n50%                         0.948617                0.965939   \n75%                         0.992308                0.994692   \nmax                         1.000000                1.000000   \n\n       in_ride_allotment          e_d_d          hash  \ncount      418615.000000  418615.000000  4.186150e+05  \nmean            0.081312       3.960818  9.213934e+18  \nstd             0.623836       7.372828  5.324953e+18  \nmin             0.000000       0.000000  7.692488e+13  \n25%             0.000000       0.000000  4.606591e+18  \n50%             0.000000       0.000000  9.200861e+18  \n75%             0.000000       0.000000  1.383483e+19  \nmax            22.429001      66.652000  1.844674e+19  \n\n[8 rows x 52 columns]",
      "text/html": "<div>\n<style scoped>\n    .dataframe tbody tr th:only-of-type {\n        vertical-align: middle;\n    }\n\n    .dataframe tbody tr th {\n        vertical-align: top;\n    }\n\n    .dataframe thead th {\n        text-align: right;\n    }\n</style>\n<table border=\"1\" class=\"dataframe\">\n  <thead>\n    <tr style=\"text-align: right;\">\n      <th></th>\n      <th>accepted_driver_id</th>\n      <th>passenger_id</th>\n      <th>source_lat</th>\n      <th>source_lng</th>\n      <th>destination_lat</th>\n      <th>destination_lng</th>\n      <th>eta</th>\n      <th>ata</th>\n      <th>ride_id</th>\n      <th>city</th>\n      <th>...</th>\n      <th>pickup_a_d_d_result.route_ratio</th>\n      <th>pickup_a_d_d_result.g_p_s_ratio</th>\n      <th>ride_a_d_d_result.distance</th>\n      <th>ride_a_d_d_result.confidence</th>\n      <th>ride_a_d_d_result.route_ratio</th>\n      <th>ride_a_d_d_result.g_p_s_ratio</th>\n      <th>total_a_d_d_confidence</th>\n      <th>in_ride_allotment</th>\n      <th>e_d_d</th>\n      <th>hash</th>\n    </tr>\n  </thead>\n  <tbody>\n    <tr>\n      <th>count</th>\n      <td>4.186150e+05</td>\n      <td>4.186150e+05</td>\n      <td>418615.000000</td>\n      <td>418615.000000</td>\n      <td>418615.000000</td>\n      <td>418615.000000</td>\n      <td>418615.000000</td>\n      <td>418615.000000</td>\n      <td>4.186150e+05</td>\n      <td>418615.0</td>\n      <td>...</td>\n      <td>418615.000000</td>\n      <td>418615.000000</td>\n      <td>418615.000000</td>\n      <td>418615.000000</td>\n      <td>418615.000000</td>\n      <td>418615.000000</td>\n      <td>418615.000000</td>\n      <td>418615.000000</td>\n      <td>418615.000000</td>\n      <td>4.186150e+05</td>\n    </tr>\n    <tr>\n      <th>mean</th>\n      <td>1.903595e+06</td>\n      <td>2.147731e+07</td>\n      <td>35.711474</td>\n      <td>51.399069</td>\n      <td>35.713951</td>\n      <td>51.395514</td>\n      <td>1455.527726</td>\n      <td>1748.031867</td>\n      <td>4.824397e+09</td>\n      <td>1.0</td>\n      <td>...</td>\n      <td>0.000076</td>\n      <td>0.006219</td>\n      <td>28.394249</td>\n      <td>0.904064</td>\n      <td>0.000011</td>\n      <td>0.826222</td>\n      <td>0.913169</td>\n      <td>0.081312</td>\n      <td>3.960818</td>\n      <td>9.213934e+18</td>\n    </tr>\n    <tr>\n      <th>std</th>\n      <td>1.419568e+06</td>\n      <td>1.783545e+07</td>\n      <td>0.073310</td>\n      <td>0.100062</td>\n      <td>0.072303</td>\n      <td>0.106199</td>\n      <td>169.782330</td>\n      <td>567.417564</td>\n      <td>6.024950e+07</td>\n      <td>0.0</td>\n      <td>...</td>\n      <td>0.006515</td>\n      <td>0.001722</td>\n      <td>10.024591</td>\n      <td>0.137932</td>\n      <td>0.000339</td>\n      <td>0.255498</td>\n      <td>0.123153</td>\n      <td>0.623836</td>\n      <td>7.372828</td>\n      <td>5.324953e+18</td>\n    </tr>\n    <tr>\n      <th>min</th>\n      <td>9.000000e+00</td>\n      <td>7.600000e+01</td>\n      <td>35.178387</td>\n      <td>50.901024</td>\n      <td>35.173473</td>\n      <td>50.764294</td>\n      <td>1200.000000</td>\n      <td>143.000000</td>\n      <td>4.714480e+09</td>\n      <td>1.0</td>\n      <td>...</td>\n      <td>0.000000</td>\n      <td>0.000904</td>\n      <td>0.000000</td>\n      <td>0.000000</td>\n      <td>0.000000</td>\n      <td>0.003937</td>\n      <td>0.000000</td>\n      <td>0.000000</td>\n      <td>0.000000</td>\n      <td>7.692488e+13</td>\n    </tr>\n    <tr>\n      <th>25%</th>\n      <td>4.738330e+05</td>\n      <td>3.543161e+06</td>\n      <td>35.681633</td>\n      <td>51.348881</td>\n      <td>35.686920</td>\n      <td>51.350353</td>\n      <td>1307.000000</td>\n      <td>1412.000000</td>\n      <td>4.773912e+09</td>\n      <td>1.0</td>\n      <td>...</td>\n      <td>0.000000</td>\n      <td>0.005208</td>\n      <td>21.094000</td>\n      <td>0.883405</td>\n      <td>0.000000</td>\n      <td>0.784946</td>\n      <td>0.890993</td>\n      <td>0.000000</td>\n      <td>0.000000</td>\n      <td>4.606591e+18</td>\n    </tr>\n    <tr>\n      <th>50%</th>\n      <td>1.824698e+06</td>\n      <td>1.978329e+07</td>\n      <td>35.724007</td>\n      <td>51.406883</td>\n      <td>35.725761</td>\n      <td>51.407803</td>\n      <td>1435.000000</td>\n      <td>1646.000000</td>\n      <td>4.825453e+09</td>\n      <td>1.0</td>\n      <td>...</td>\n      <td>0.000000</td>\n      <td>0.006135</td>\n      <td>27.466999</td>\n      <td>0.964323</td>\n      <td>0.000000</td>\n      <td>0.948617</td>\n      <td>0.965939</td>\n      <td>0.000000</td>\n      <td>0.000000</td>\n      <td>9.200861e+18</td>\n    </tr>\n    <tr>\n      <th>75%</th>\n      <td>3.207710e+06</td>\n      <td>3.578205e+07</td>\n      <td>35.759916</td>\n      <td>51.453754</td>\n      <td>35.761288</td>\n      <td>51.450859</td>\n      <td>1592.000000</td>\n      <td>1950.000000</td>\n      <td>4.872820e+09</td>\n      <td>1.0</td>\n      <td>...</td>\n      <td>0.000000</td>\n      <td>0.007143</td>\n      <td>34.560001</td>\n      <td>0.994926</td>\n      <td>0.000000</td>\n      <td>0.992308</td>\n      <td>0.994692</td>\n      <td>0.000000</td>\n      <td>0.000000</td>\n      <td>1.383483e+19</td>\n    </tr>\n    <tr>\n      <th>max</th>\n      <td>4.330757e+06</td>\n      <td>5.737754e+07</td>\n      <td>35.839024</td>\n      <td>52.107700</td>\n      <td>35.943981</td>\n      <td>52.103642</td>\n      <td>1799.000000</td>\n      <td>20274.000000</td>\n      <td>4.933870e+09</td>\n      <td>1.0</td>\n      <td>...</td>\n      <td>1.000000</td>\n      <td>0.500000</td>\n      <td>260.281769</td>\n      <td>1.000000</td>\n      <td>0.048962</td>\n      <td>1.000000</td>\n      <td>1.000000</td>\n      <td>22.429001</td>\n      <td>66.652000</td>\n      <td>1.844674e+19</td>\n    </tr>\n  </tbody>\n</table>\n<p>8 rows × 52 columns</p>\n</div>"
     },
     "execution_count": 10,
     "metadata": {},
     "output_type": "execute_result"
    }
   ],
   "source": [
    "rides_train_p1 = rides_train_p1[(rides_train_p1['a_t_a_result.destination_probe_result.confidence'] > 0) & (rides_train_p1['a_t_a_result.boarding_probe_result.confidence'] > 0)]\n",
    "rides_train_p1.describe()"
   ],
   "metadata": {
    "collapsed": false,
    "pycharm": {
     "name": "#%%\n"
    }
   }
  },
  {
   "cell_type": "code",
   "execution_count": 11,
   "outputs": [
    {
     "data": {
      "text/plain": "       accepted_driver_id  passenger_id     source_lat     source_lng  \\\ncount        2.881490e+05  2.881490e+05  288149.000000  288149.000000   \nmean         1.967032e+06  2.346865e+07      35.695922      51.403784   \nstd          1.464824e+06  1.813843e+07       0.091833       0.135358   \nmin          9.000000e+00  3.800000e+01      35.204285      50.900341   \n25%          4.810610e+05  4.669793e+06      35.666069      51.337864   \n50%          1.895929e+06  2.338855e+07      35.721897      51.407692   \n75%          3.312968e+06  3.805059e+07      35.754482      51.464634   \nmax          4.422331e+06  5.813857e+07      35.839817      52.805283   \n\n       destination_lat  destination_lng            eta            ata  \\\ncount    288149.000000    288149.000000  288149.000000  288149.000000   \nmean         35.698728        51.395736     985.687027    1180.564059   \nstd           0.092653         0.147434     720.668197    1009.135740   \nmin          34.102810        49.580978       1.000000     120.000000   \n25%          35.669971        51.335136     478.000000     525.000000   \n50%          35.723518        51.406719     803.000000     901.000000   \n75%          35.756237        51.462963    1279.000000    1503.000000   \nmax          37.294868        53.395916   13406.000000   19435.000000   \n\n            ride_id      city  ...  pickup_a_d_d_result.route_ratio  \\\ncount  2.881490e+05  288149.0  ...                    288149.000000   \nmean   5.011295e+09       1.0  ...                         0.000062   \nstd    4.389831e+07       0.0  ...                         0.005613   \nmin    4.933927e+09       1.0  ...                         0.000000   \n25%    4.973610e+09       1.0  ...                         0.000000   \n50%    5.012743e+09       1.0  ...                         0.000000   \n75%    5.049485e+09       1.0  ...                         0.000000   \nmax    5.083661e+09       1.0  ...                         1.000000   \n\n       pickup_a_d_d_result.g_p_s_ratio  ride_a_d_d_result.distance  \\\ncount                    288149.000000               288149.000000   \nmean                          0.015431                   19.486701   \nstd                           0.015654                   19.502212   \nmin                           0.000514                    0.000000   \n25%                           0.006757                    6.496000   \n50%                           0.011236                   13.736000   \n75%                           0.019231                   25.582104   \nmax                           1.000000                  727.451294   \n\n       ride_a_d_d_result.confidence  ride_a_d_d_result.route_ratio  \\\ncount                 288149.000000                  288149.000000   \nmean                       0.927463                       0.000026   \nstd                        0.131347                       0.001119   \nmin                        0.000000                       0.000000   \n25%                        0.923397                       0.000000   \n50%                        0.993789                       0.000000   \n75%                        1.000000                       0.000000   \nmax                        1.000000                       0.157182   \n\n       ride_a_d_d_result.g_p_s_ratio  total_a_d_d_confidence  \\\ncount                  288149.000000           288149.000000   \nmean                        0.866547                0.933955   \nstd                         0.233325                0.115441   \nmin                         0.003425                0.000000   \n25%                         0.861111                0.920487   \n50%                         0.977612                0.990108   \n75%                         1.000000                1.000000   \nmax                         1.000000                1.000000   \n\n       in_ride_allotment          e_d_d          hash  \ncount      288149.000000  288149.000000  2.881490e+05  \nmean            0.023619      11.144522  9.205157e+18  \nstd             0.223795      11.706380  5.323730e+18  \nmin             0.000000       0.174000  1.492987e+13  \n25%             0.000000       3.638000  4.586824e+18  \n50%             0.000000       7.750000  9.188908e+18  \n75%             0.000000      14.273000  1.381175e+19  \nmax            21.841000     325.363007  1.844674e+19  \n\n[8 rows x 52 columns]",
      "text/html": "<div>\n<style scoped>\n    .dataframe tbody tr th:only-of-type {\n        vertical-align: middle;\n    }\n\n    .dataframe tbody tr th {\n        vertical-align: top;\n    }\n\n    .dataframe thead th {\n        text-align: right;\n    }\n</style>\n<table border=\"1\" class=\"dataframe\">\n  <thead>\n    <tr style=\"text-align: right;\">\n      <th></th>\n      <th>accepted_driver_id</th>\n      <th>passenger_id</th>\n      <th>source_lat</th>\n      <th>source_lng</th>\n      <th>destination_lat</th>\n      <th>destination_lng</th>\n      <th>eta</th>\n      <th>ata</th>\n      <th>ride_id</th>\n      <th>city</th>\n      <th>...</th>\n      <th>pickup_a_d_d_result.route_ratio</th>\n      <th>pickup_a_d_d_result.g_p_s_ratio</th>\n      <th>ride_a_d_d_result.distance</th>\n      <th>ride_a_d_d_result.confidence</th>\n      <th>ride_a_d_d_result.route_ratio</th>\n      <th>ride_a_d_d_result.g_p_s_ratio</th>\n      <th>total_a_d_d_confidence</th>\n      <th>in_ride_allotment</th>\n      <th>e_d_d</th>\n      <th>hash</th>\n    </tr>\n  </thead>\n  <tbody>\n    <tr>\n      <th>count</th>\n      <td>2.881490e+05</td>\n      <td>2.881490e+05</td>\n      <td>288149.000000</td>\n      <td>288149.000000</td>\n      <td>288149.000000</td>\n      <td>288149.000000</td>\n      <td>288149.000000</td>\n      <td>288149.000000</td>\n      <td>2.881490e+05</td>\n      <td>288149.0</td>\n      <td>...</td>\n      <td>288149.000000</td>\n      <td>288149.000000</td>\n      <td>288149.000000</td>\n      <td>288149.000000</td>\n      <td>288149.000000</td>\n      <td>288149.000000</td>\n      <td>288149.000000</td>\n      <td>288149.000000</td>\n      <td>288149.000000</td>\n      <td>2.881490e+05</td>\n    </tr>\n    <tr>\n      <th>mean</th>\n      <td>1.967032e+06</td>\n      <td>2.346865e+07</td>\n      <td>35.695922</td>\n      <td>51.403784</td>\n      <td>35.698728</td>\n      <td>51.395736</td>\n      <td>985.687027</td>\n      <td>1180.564059</td>\n      <td>5.011295e+09</td>\n      <td>1.0</td>\n      <td>...</td>\n      <td>0.000062</td>\n      <td>0.015431</td>\n      <td>19.486701</td>\n      <td>0.927463</td>\n      <td>0.000026</td>\n      <td>0.866547</td>\n      <td>0.933955</td>\n      <td>0.023619</td>\n      <td>11.144522</td>\n      <td>9.205157e+18</td>\n    </tr>\n    <tr>\n      <th>std</th>\n      <td>1.464824e+06</td>\n      <td>1.813843e+07</td>\n      <td>0.091833</td>\n      <td>0.135358</td>\n      <td>0.092653</td>\n      <td>0.147434</td>\n      <td>720.668197</td>\n      <td>1009.135740</td>\n      <td>4.389831e+07</td>\n      <td>0.0</td>\n      <td>...</td>\n      <td>0.005613</td>\n      <td>0.015654</td>\n      <td>19.502212</td>\n      <td>0.131347</td>\n      <td>0.001119</td>\n      <td>0.233325</td>\n      <td>0.115441</td>\n      <td>0.223795</td>\n      <td>11.706380</td>\n      <td>5.323730e+18</td>\n    </tr>\n    <tr>\n      <th>min</th>\n      <td>9.000000e+00</td>\n      <td>3.800000e+01</td>\n      <td>35.204285</td>\n      <td>50.900341</td>\n      <td>34.102810</td>\n      <td>49.580978</td>\n      <td>1.000000</td>\n      <td>120.000000</td>\n      <td>4.933927e+09</td>\n      <td>1.0</td>\n      <td>...</td>\n      <td>0.000000</td>\n      <td>0.000514</td>\n      <td>0.000000</td>\n      <td>0.000000</td>\n      <td>0.000000</td>\n      <td>0.003425</td>\n      <td>0.000000</td>\n      <td>0.000000</td>\n      <td>0.174000</td>\n      <td>1.492987e+13</td>\n    </tr>\n    <tr>\n      <th>25%</th>\n      <td>4.810610e+05</td>\n      <td>4.669793e+06</td>\n      <td>35.666069</td>\n      <td>51.337864</td>\n      <td>35.669971</td>\n      <td>51.335136</td>\n      <td>478.000000</td>\n      <td>525.000000</td>\n      <td>4.973610e+09</td>\n      <td>1.0</td>\n      <td>...</td>\n      <td>0.000000</td>\n      <td>0.006757</td>\n      <td>6.496000</td>\n      <td>0.923397</td>\n      <td>0.000000</td>\n      <td>0.861111</td>\n      <td>0.920487</td>\n      <td>0.000000</td>\n      <td>3.638000</td>\n      <td>4.586824e+18</td>\n    </tr>\n    <tr>\n      <th>50%</th>\n      <td>1.895929e+06</td>\n      <td>2.338855e+07</td>\n      <td>35.721897</td>\n      <td>51.407692</td>\n      <td>35.723518</td>\n      <td>51.406719</td>\n      <td>803.000000</td>\n      <td>901.000000</td>\n      <td>5.012743e+09</td>\n      <td>1.0</td>\n      <td>...</td>\n      <td>0.000000</td>\n      <td>0.011236</td>\n      <td>13.736000</td>\n      <td>0.993789</td>\n      <td>0.000000</td>\n      <td>0.977612</td>\n      <td>0.990108</td>\n      <td>0.000000</td>\n      <td>7.750000</td>\n      <td>9.188908e+18</td>\n    </tr>\n    <tr>\n      <th>75%</th>\n      <td>3.312968e+06</td>\n      <td>3.805059e+07</td>\n      <td>35.754482</td>\n      <td>51.464634</td>\n      <td>35.756237</td>\n      <td>51.462963</td>\n      <td>1279.000000</td>\n      <td>1503.000000</td>\n      <td>5.049485e+09</td>\n      <td>1.0</td>\n      <td>...</td>\n      <td>0.000000</td>\n      <td>0.019231</td>\n      <td>25.582104</td>\n      <td>1.000000</td>\n      <td>0.000000</td>\n      <td>1.000000</td>\n      <td>1.000000</td>\n      <td>0.000000</td>\n      <td>14.273000</td>\n      <td>1.381175e+19</td>\n    </tr>\n    <tr>\n      <th>max</th>\n      <td>4.422331e+06</td>\n      <td>5.813857e+07</td>\n      <td>35.839817</td>\n      <td>52.805283</td>\n      <td>37.294868</td>\n      <td>53.395916</td>\n      <td>13406.000000</td>\n      <td>19435.000000</td>\n      <td>5.083661e+09</td>\n      <td>1.0</td>\n      <td>...</td>\n      <td>1.000000</td>\n      <td>1.000000</td>\n      <td>727.451294</td>\n      <td>1.000000</td>\n      <td>0.157182</td>\n      <td>1.000000</td>\n      <td>1.000000</td>\n      <td>21.841000</td>\n      <td>325.363007</td>\n      <td>1.844674e+19</td>\n    </tr>\n  </tbody>\n</table>\n<p>8 rows × 52 columns</p>\n</div>"
     },
     "execution_count": 11,
     "metadata": {},
     "output_type": "execute_result"
    }
   ],
   "source": [
    "rides_test_p1 = rides_test_p1[(rides_test_p1['a_t_a_result.destination_probe_result.confidence'] > 0) & (rides_test_p1['a_t_a_result.boarding_probe_result.confidence'] > 0)]\n",
    "rides_test_p1.describe()"
   ],
   "metadata": {
    "collapsed": false,
    "pycharm": {
     "name": "#%%\n"
    }
   }
  },
  {
   "cell_type": "code",
   "execution_count": 12,
   "outputs": [],
   "source": [
    "rides_with_id = rides_train_p1"
   ],
   "metadata": {
    "collapsed": false,
    "pycharm": {
     "name": "#%%\n"
    }
   }
  },
  {
   "cell_type": "code",
   "execution_count": 13,
   "outputs": [
    {
     "data": {
      "text/plain": "          eta   ata  a_t_a_result.ride_a_t_a           created_at  source_lat  \\\n4        1295  1320                     1288  2022-08-02 08:34:03   35.760803   \n7        1721  1726                     1580  2022-08-02 07:57:27   35.551586   \n8        1230  1048                     1004  2022-08-02 14:30:25   35.417717   \n14       1641  2785                     2727  2022-08-02 15:10:14   35.768822   \n18       1390  2010                     1964  2022-08-02 11:08:50   35.730118   \n...       ...   ...                      ...                  ...         ...   \n4063264  1712  1875                     1830  2022-09-10 12:24:51   35.669792   \n4063317  1565  1638                     1579  2022-09-10 13:22:41   35.310020   \n4063330  1301  1487                     1435  2022-09-10 14:17:31   35.720974   \n4063337  1239  1567                     1544  2022-09-10 15:42:45   35.724361   \n4063340  1247  1484                     1380  2022-09-10 11:29:32   35.668186   \n\n         source_lng  destination_lat  destination_lng   e_d_d  \\\n4         51.412613        35.680412        51.406525   0.000   \n7         51.251617        35.647949        51.399227   0.000   \n8         51.795067        35.465965        51.675755   0.000   \n14        51.305519        35.765411        51.442303   0.000   \n18        51.382473        35.758369        51.441551   0.000   \n...             ...              ...              ...     ...   \n4063264   51.302319        35.685867        51.414448  13.342   \n4063317   51.730579        35.423836        51.585243  21.211   \n4063330   51.498474        35.708061        51.401943  10.682   \n4063337   51.402294        35.794140        51.472240  14.393   \n4063340   51.361591        35.750282        51.294250  15.186   \n\n             clickhouse_time  \n4        2022-08-02 09:01:23  \n7        2022-08-02 08:29:58  \n8        2022-08-02 14:52:35  \n14       2022-08-02 16:09:17  \n18       2022-08-02 12:05:23  \n...                      ...  \n4063264  2022-09-10 13:04:13  \n4063317  2022-09-10 13:57:58  \n4063330  2022-09-10 14:51:03  \n4063337  2022-09-10 16:13:23  \n4063340  2022-09-10 11:56:31  \n\n[418615 rows x 10 columns]",
      "text/html": "<div>\n<style scoped>\n    .dataframe tbody tr th:only-of-type {\n        vertical-align: middle;\n    }\n\n    .dataframe tbody tr th {\n        vertical-align: top;\n    }\n\n    .dataframe thead th {\n        text-align: right;\n    }\n</style>\n<table border=\"1\" class=\"dataframe\">\n  <thead>\n    <tr style=\"text-align: right;\">\n      <th></th>\n      <th>eta</th>\n      <th>ata</th>\n      <th>a_t_a_result.ride_a_t_a</th>\n      <th>created_at</th>\n      <th>source_lat</th>\n      <th>source_lng</th>\n      <th>destination_lat</th>\n      <th>destination_lng</th>\n      <th>e_d_d</th>\n      <th>clickhouse_time</th>\n    </tr>\n  </thead>\n  <tbody>\n    <tr>\n      <th>4</th>\n      <td>1295</td>\n      <td>1320</td>\n      <td>1288</td>\n      <td>2022-08-02 08:34:03</td>\n      <td>35.760803</td>\n      <td>51.412613</td>\n      <td>35.680412</td>\n      <td>51.406525</td>\n      <td>0.000</td>\n      <td>2022-08-02 09:01:23</td>\n    </tr>\n    <tr>\n      <th>7</th>\n      <td>1721</td>\n      <td>1726</td>\n      <td>1580</td>\n      <td>2022-08-02 07:57:27</td>\n      <td>35.551586</td>\n      <td>51.251617</td>\n      <td>35.647949</td>\n      <td>51.399227</td>\n      <td>0.000</td>\n      <td>2022-08-02 08:29:58</td>\n    </tr>\n    <tr>\n      <th>8</th>\n      <td>1230</td>\n      <td>1048</td>\n      <td>1004</td>\n      <td>2022-08-02 14:30:25</td>\n      <td>35.417717</td>\n      <td>51.795067</td>\n      <td>35.465965</td>\n      <td>51.675755</td>\n      <td>0.000</td>\n      <td>2022-08-02 14:52:35</td>\n    </tr>\n    <tr>\n      <th>14</th>\n      <td>1641</td>\n      <td>2785</td>\n      <td>2727</td>\n      <td>2022-08-02 15:10:14</td>\n      <td>35.768822</td>\n      <td>51.305519</td>\n      <td>35.765411</td>\n      <td>51.442303</td>\n      <td>0.000</td>\n      <td>2022-08-02 16:09:17</td>\n    </tr>\n    <tr>\n      <th>18</th>\n      <td>1390</td>\n      <td>2010</td>\n      <td>1964</td>\n      <td>2022-08-02 11:08:50</td>\n      <td>35.730118</td>\n      <td>51.382473</td>\n      <td>35.758369</td>\n      <td>51.441551</td>\n      <td>0.000</td>\n      <td>2022-08-02 12:05:23</td>\n    </tr>\n    <tr>\n      <th>...</th>\n      <td>...</td>\n      <td>...</td>\n      <td>...</td>\n      <td>...</td>\n      <td>...</td>\n      <td>...</td>\n      <td>...</td>\n      <td>...</td>\n      <td>...</td>\n      <td>...</td>\n    </tr>\n    <tr>\n      <th>4063264</th>\n      <td>1712</td>\n      <td>1875</td>\n      <td>1830</td>\n      <td>2022-09-10 12:24:51</td>\n      <td>35.669792</td>\n      <td>51.302319</td>\n      <td>35.685867</td>\n      <td>51.414448</td>\n      <td>13.342</td>\n      <td>2022-09-10 13:04:13</td>\n    </tr>\n    <tr>\n      <th>4063317</th>\n      <td>1565</td>\n      <td>1638</td>\n      <td>1579</td>\n      <td>2022-09-10 13:22:41</td>\n      <td>35.310020</td>\n      <td>51.730579</td>\n      <td>35.423836</td>\n      <td>51.585243</td>\n      <td>21.211</td>\n      <td>2022-09-10 13:57:58</td>\n    </tr>\n    <tr>\n      <th>4063330</th>\n      <td>1301</td>\n      <td>1487</td>\n      <td>1435</td>\n      <td>2022-09-10 14:17:31</td>\n      <td>35.720974</td>\n      <td>51.498474</td>\n      <td>35.708061</td>\n      <td>51.401943</td>\n      <td>10.682</td>\n      <td>2022-09-10 14:51:03</td>\n    </tr>\n    <tr>\n      <th>4063337</th>\n      <td>1239</td>\n      <td>1567</td>\n      <td>1544</td>\n      <td>2022-09-10 15:42:45</td>\n      <td>35.724361</td>\n      <td>51.402294</td>\n      <td>35.794140</td>\n      <td>51.472240</td>\n      <td>14.393</td>\n      <td>2022-09-10 16:13:23</td>\n    </tr>\n    <tr>\n      <th>4063340</th>\n      <td>1247</td>\n      <td>1484</td>\n      <td>1380</td>\n      <td>2022-09-10 11:29:32</td>\n      <td>35.668186</td>\n      <td>51.361591</td>\n      <td>35.750282</td>\n      <td>51.294250</td>\n      <td>15.186</td>\n      <td>2022-09-10 11:56:31</td>\n    </tr>\n  </tbody>\n</table>\n<p>418615 rows × 10 columns</p>\n</div>"
     },
     "execution_count": 13,
     "metadata": {},
     "output_type": "execute_result"
    }
   ],
   "source": [
    "rides_train_p1 = rides_train_p1[['eta', 'ata', 'a_t_a_result.ride_a_t_a', 'created_at', 'source_lat', 'source_lng', 'destination_lat', 'destination_lng', 'e_d_d', 'clickhouse_time']]\n",
    "rides_train_p1"
   ],
   "metadata": {
    "collapsed": false,
    "pycharm": {
     "name": "#%%\n"
    }
   }
  },
  {
   "cell_type": "code",
   "execution_count": 14,
   "outputs": [
    {
     "data": {
      "text/plain": "          eta   ata  a_t_a_result.ride_a_t_a           created_at  source_lat  \\\n4        1586  1663                     1672  2022-09-11 16:18:50   35.754002   \n8         767   815                      696  2022-09-11 08:47:42   35.737583   \n14       1708  2254                     2224  2022-09-11 10:37:12   35.792473   \n18       1092  1224                     1401  2022-09-11 15:37:23   35.799767   \n20       2472  2877                     2762  2022-09-11 07:07:26   35.356205   \n...       ...   ...                      ...                  ...         ...   \n2729940   493   571                      636  2022-10-09 19:41:26   35.703400   \n2729944   491   455                      424  2022-10-09 14:13:09   35.732574   \n2729945   467   916                      908  2022-10-09 12:31:56   35.780022   \n2729949   877  1003                      975  2022-10-09 12:34:24   35.731308   \n2729964   656   913                      867  2022-10-09 08:29:31   35.806316   \n\n         source_lng  destination_lat  destination_lng      e_d_d  \\\n4         51.502956        35.633537        51.494732  17.757999   \n8         51.817417        35.716343        51.786205   7.461000   \n14        51.425320        35.698429        51.456745  19.094999   \n18        51.500786        35.817673        51.438400   7.260000   \n20        51.641312        35.601074        51.435585  38.662998   \n...             ...              ...              ...        ...   \n2729940   51.322357        35.704979        51.331409   3.440000   \n2729944   51.920444        35.733791        51.895199   4.697000   \n2729945   51.311806        35.775215        51.330162   7.538000   \n2729949   51.440887        35.792816        51.489731  10.590000   \n2729964   51.475018        35.806435        51.449356   3.729000   \n\n             clickhouse_time  \n4        2022-09-11 18:07:01  \n8        2022-09-11 09:05:35  \n14       2022-09-11 11:21:00  \n18       2022-09-11 16:16:49  \n20       2022-09-11 08:02:38  \n...                      ...  \n2729940  2022-10-09 19:57:58  \n2729944  2022-10-09 14:29:09  \n2729945  2022-10-09 12:54:54  \n2729949  2022-10-09 12:56:15  \n2729964  2022-10-09 10:02:04  \n\n[288149 rows x 10 columns]",
      "text/html": "<div>\n<style scoped>\n    .dataframe tbody tr th:only-of-type {\n        vertical-align: middle;\n    }\n\n    .dataframe tbody tr th {\n        vertical-align: top;\n    }\n\n    .dataframe thead th {\n        text-align: right;\n    }\n</style>\n<table border=\"1\" class=\"dataframe\">\n  <thead>\n    <tr style=\"text-align: right;\">\n      <th></th>\n      <th>eta</th>\n      <th>ata</th>\n      <th>a_t_a_result.ride_a_t_a</th>\n      <th>created_at</th>\n      <th>source_lat</th>\n      <th>source_lng</th>\n      <th>destination_lat</th>\n      <th>destination_lng</th>\n      <th>e_d_d</th>\n      <th>clickhouse_time</th>\n    </tr>\n  </thead>\n  <tbody>\n    <tr>\n      <th>4</th>\n      <td>1586</td>\n      <td>1663</td>\n      <td>1672</td>\n      <td>2022-09-11 16:18:50</td>\n      <td>35.754002</td>\n      <td>51.502956</td>\n      <td>35.633537</td>\n      <td>51.494732</td>\n      <td>17.757999</td>\n      <td>2022-09-11 18:07:01</td>\n    </tr>\n    <tr>\n      <th>8</th>\n      <td>767</td>\n      <td>815</td>\n      <td>696</td>\n      <td>2022-09-11 08:47:42</td>\n      <td>35.737583</td>\n      <td>51.817417</td>\n      <td>35.716343</td>\n      <td>51.786205</td>\n      <td>7.461000</td>\n      <td>2022-09-11 09:05:35</td>\n    </tr>\n    <tr>\n      <th>14</th>\n      <td>1708</td>\n      <td>2254</td>\n      <td>2224</td>\n      <td>2022-09-11 10:37:12</td>\n      <td>35.792473</td>\n      <td>51.425320</td>\n      <td>35.698429</td>\n      <td>51.456745</td>\n      <td>19.094999</td>\n      <td>2022-09-11 11:21:00</td>\n    </tr>\n    <tr>\n      <th>18</th>\n      <td>1092</td>\n      <td>1224</td>\n      <td>1401</td>\n      <td>2022-09-11 15:37:23</td>\n      <td>35.799767</td>\n      <td>51.500786</td>\n      <td>35.817673</td>\n      <td>51.438400</td>\n      <td>7.260000</td>\n      <td>2022-09-11 16:16:49</td>\n    </tr>\n    <tr>\n      <th>20</th>\n      <td>2472</td>\n      <td>2877</td>\n      <td>2762</td>\n      <td>2022-09-11 07:07:26</td>\n      <td>35.356205</td>\n      <td>51.641312</td>\n      <td>35.601074</td>\n      <td>51.435585</td>\n      <td>38.662998</td>\n      <td>2022-09-11 08:02:38</td>\n    </tr>\n    <tr>\n      <th>...</th>\n      <td>...</td>\n      <td>...</td>\n      <td>...</td>\n      <td>...</td>\n      <td>...</td>\n      <td>...</td>\n      <td>...</td>\n      <td>...</td>\n      <td>...</td>\n      <td>...</td>\n    </tr>\n    <tr>\n      <th>2729940</th>\n      <td>493</td>\n      <td>571</td>\n      <td>636</td>\n      <td>2022-10-09 19:41:26</td>\n      <td>35.703400</td>\n      <td>51.322357</td>\n      <td>35.704979</td>\n      <td>51.331409</td>\n      <td>3.440000</td>\n      <td>2022-10-09 19:57:58</td>\n    </tr>\n    <tr>\n      <th>2729944</th>\n      <td>491</td>\n      <td>455</td>\n      <td>424</td>\n      <td>2022-10-09 14:13:09</td>\n      <td>35.732574</td>\n      <td>51.920444</td>\n      <td>35.733791</td>\n      <td>51.895199</td>\n      <td>4.697000</td>\n      <td>2022-10-09 14:29:09</td>\n    </tr>\n    <tr>\n      <th>2729945</th>\n      <td>467</td>\n      <td>916</td>\n      <td>908</td>\n      <td>2022-10-09 12:31:56</td>\n      <td>35.780022</td>\n      <td>51.311806</td>\n      <td>35.775215</td>\n      <td>51.330162</td>\n      <td>7.538000</td>\n      <td>2022-10-09 12:54:54</td>\n    </tr>\n    <tr>\n      <th>2729949</th>\n      <td>877</td>\n      <td>1003</td>\n      <td>975</td>\n      <td>2022-10-09 12:34:24</td>\n      <td>35.731308</td>\n      <td>51.440887</td>\n      <td>35.792816</td>\n      <td>51.489731</td>\n      <td>10.590000</td>\n      <td>2022-10-09 12:56:15</td>\n    </tr>\n    <tr>\n      <th>2729964</th>\n      <td>656</td>\n      <td>913</td>\n      <td>867</td>\n      <td>2022-10-09 08:29:31</td>\n      <td>35.806316</td>\n      <td>51.475018</td>\n      <td>35.806435</td>\n      <td>51.449356</td>\n      <td>3.729000</td>\n      <td>2022-10-09 10:02:04</td>\n    </tr>\n  </tbody>\n</table>\n<p>288149 rows × 10 columns</p>\n</div>"
     },
     "execution_count": 14,
     "metadata": {},
     "output_type": "execute_result"
    }
   ],
   "source": [
    "rides_test_p1 = rides_test_p1[['eta', 'ata', 'a_t_a_result.ride_a_t_a', 'created_at', 'source_lat', 'source_lng', 'destination_lat', 'destination_lng', 'e_d_d', 'clickhouse_time']]\n",
    "rides_test_p1"
   ],
   "metadata": {
    "collapsed": false,
    "pycharm": {
     "name": "#%%\n"
    }
   }
  },
  {
   "cell_type": "code",
   "execution_count": 15,
   "outputs": [
    {
     "name": "stderr",
     "output_type": "stream",
     "text": [
      "/var/folders/yq/707ysz_j3jlggmtk5clx13rm0000gn/T/ipykernel_57775/1174177227.py:3: SettingWithCopyWarning: \n",
      "A value is trying to be set on a copy of a slice from a DataFrame.\n",
      "Try using .loc[row_indexer,col_indexer] = value instead\n",
      "\n",
      "See the caveats in the documentation: https://pandas.pydata.org/pandas-docs/stable/user_guide/indexing.html#returning-a-view-versus-a-copy\n",
      "  rides_train_p1['hour'] = rides_train_p1.apply(lambda row: ((datetime.timestamp(datetime.strptime(row.created_at,\"%Y-%m-%d %H:%M:%S\")) - 1662147000) % 604800) / 3600, axis=1)\n",
      "/var/folders/yq/707ysz_j3jlggmtk5clx13rm0000gn/T/ipykernel_57775/1174177227.py:4: SettingWithCopyWarning: \n",
      "A value is trying to be set on a copy of a slice from a DataFrame.\n",
      "Try using .loc[row_indexer,col_indexer] = value instead\n",
      "\n",
      "See the caveats in the documentation: https://pandas.pydata.org/pandas-docs/stable/user_guide/indexing.html#returning-a-view-versus-a-copy\n",
      "  rides_train_p1['holiday'] = rides_train_p1.apply(lambda row: int(row.created_at.split()[0] in train_holidays), axis=1)\n"
     ]
    },
    {
     "data": {
      "text/plain": "          eta   ata  a_t_a_result.ride_a_t_a           created_at  source_lat  \\\n4        1295  1320                     1288  2022-08-02 08:34:03   35.760803   \n7        1721  1726                     1580  2022-08-02 07:57:27   35.551586   \n8        1230  1048                     1004  2022-08-02 14:30:25   35.417717   \n14       1641  2785                     2727  2022-08-02 15:10:14   35.768822   \n18       1390  2010                     1964  2022-08-02 11:08:50   35.730118   \n...       ...   ...                      ...                  ...         ...   \n4063264  1712  1875                     1830  2022-09-10 12:24:51   35.669792   \n4063317  1565  1638                     1579  2022-09-10 13:22:41   35.310020   \n4063330  1301  1487                     1435  2022-09-10 14:17:31   35.720974   \n4063337  1239  1567                     1544  2022-09-10 15:42:45   35.724361   \n4063340  1247  1484                     1380  2022-09-10 11:29:32   35.668186   \n\n         source_lng  destination_lat  destination_lng   e_d_d  \\\n4         51.412613        35.680412        51.406525   0.000   \n7         51.251617        35.647949        51.399227   0.000   \n8         51.795067        35.465965        51.675755   0.000   \n14        51.305519        35.765411        51.442303   0.000   \n18        51.382473        35.758369        51.441551   0.000   \n...             ...              ...              ...     ...   \n4063264   51.302319        35.685867        51.414448  13.342   \n4063317   51.730579        35.423836        51.585243  21.211   \n4063330   51.498474        35.708061        51.401943  10.682   \n4063337   51.402294        35.794140        51.472240  14.393   \n4063340   51.361591        35.750282        51.294250  15.186   \n\n             clickhouse_time       hour  holiday  \n4        2022-08-02 09:01:23  80.567500        0  \n7        2022-08-02 08:29:58  79.957500        0  \n8        2022-08-02 14:52:35  86.506944        0  \n14       2022-08-02 16:09:17  87.170556        0  \n18       2022-08-02 12:05:23  83.147222        0  \n...                      ...        ...      ...  \n4063264  2022-09-10 13:04:13  12.414167        0  \n4063317  2022-09-10 13:57:58  13.378056        0  \n4063330  2022-09-10 14:51:03  14.291944        0  \n4063337  2022-09-10 16:13:23  15.712500        0  \n4063340  2022-09-10 11:56:31  11.492222        0  \n\n[418615 rows x 12 columns]",
      "text/html": "<div>\n<style scoped>\n    .dataframe tbody tr th:only-of-type {\n        vertical-align: middle;\n    }\n\n    .dataframe tbody tr th {\n        vertical-align: top;\n    }\n\n    .dataframe thead th {\n        text-align: right;\n    }\n</style>\n<table border=\"1\" class=\"dataframe\">\n  <thead>\n    <tr style=\"text-align: right;\">\n      <th></th>\n      <th>eta</th>\n      <th>ata</th>\n      <th>a_t_a_result.ride_a_t_a</th>\n      <th>created_at</th>\n      <th>source_lat</th>\n      <th>source_lng</th>\n      <th>destination_lat</th>\n      <th>destination_lng</th>\n      <th>e_d_d</th>\n      <th>clickhouse_time</th>\n      <th>hour</th>\n      <th>holiday</th>\n    </tr>\n  </thead>\n  <tbody>\n    <tr>\n      <th>4</th>\n      <td>1295</td>\n      <td>1320</td>\n      <td>1288</td>\n      <td>2022-08-02 08:34:03</td>\n      <td>35.760803</td>\n      <td>51.412613</td>\n      <td>35.680412</td>\n      <td>51.406525</td>\n      <td>0.000</td>\n      <td>2022-08-02 09:01:23</td>\n      <td>80.567500</td>\n      <td>0</td>\n    </tr>\n    <tr>\n      <th>7</th>\n      <td>1721</td>\n      <td>1726</td>\n      <td>1580</td>\n      <td>2022-08-02 07:57:27</td>\n      <td>35.551586</td>\n      <td>51.251617</td>\n      <td>35.647949</td>\n      <td>51.399227</td>\n      <td>0.000</td>\n      <td>2022-08-02 08:29:58</td>\n      <td>79.957500</td>\n      <td>0</td>\n    </tr>\n    <tr>\n      <th>8</th>\n      <td>1230</td>\n      <td>1048</td>\n      <td>1004</td>\n      <td>2022-08-02 14:30:25</td>\n      <td>35.417717</td>\n      <td>51.795067</td>\n      <td>35.465965</td>\n      <td>51.675755</td>\n      <td>0.000</td>\n      <td>2022-08-02 14:52:35</td>\n      <td>86.506944</td>\n      <td>0</td>\n    </tr>\n    <tr>\n      <th>14</th>\n      <td>1641</td>\n      <td>2785</td>\n      <td>2727</td>\n      <td>2022-08-02 15:10:14</td>\n      <td>35.768822</td>\n      <td>51.305519</td>\n      <td>35.765411</td>\n      <td>51.442303</td>\n      <td>0.000</td>\n      <td>2022-08-02 16:09:17</td>\n      <td>87.170556</td>\n      <td>0</td>\n    </tr>\n    <tr>\n      <th>18</th>\n      <td>1390</td>\n      <td>2010</td>\n      <td>1964</td>\n      <td>2022-08-02 11:08:50</td>\n      <td>35.730118</td>\n      <td>51.382473</td>\n      <td>35.758369</td>\n      <td>51.441551</td>\n      <td>0.000</td>\n      <td>2022-08-02 12:05:23</td>\n      <td>83.147222</td>\n      <td>0</td>\n    </tr>\n    <tr>\n      <th>...</th>\n      <td>...</td>\n      <td>...</td>\n      <td>...</td>\n      <td>...</td>\n      <td>...</td>\n      <td>...</td>\n      <td>...</td>\n      <td>...</td>\n      <td>...</td>\n      <td>...</td>\n      <td>...</td>\n      <td>...</td>\n    </tr>\n    <tr>\n      <th>4063264</th>\n      <td>1712</td>\n      <td>1875</td>\n      <td>1830</td>\n      <td>2022-09-10 12:24:51</td>\n      <td>35.669792</td>\n      <td>51.302319</td>\n      <td>35.685867</td>\n      <td>51.414448</td>\n      <td>13.342</td>\n      <td>2022-09-10 13:04:13</td>\n      <td>12.414167</td>\n      <td>0</td>\n    </tr>\n    <tr>\n      <th>4063317</th>\n      <td>1565</td>\n      <td>1638</td>\n      <td>1579</td>\n      <td>2022-09-10 13:22:41</td>\n      <td>35.310020</td>\n      <td>51.730579</td>\n      <td>35.423836</td>\n      <td>51.585243</td>\n      <td>21.211</td>\n      <td>2022-09-10 13:57:58</td>\n      <td>13.378056</td>\n      <td>0</td>\n    </tr>\n    <tr>\n      <th>4063330</th>\n      <td>1301</td>\n      <td>1487</td>\n      <td>1435</td>\n      <td>2022-09-10 14:17:31</td>\n      <td>35.720974</td>\n      <td>51.498474</td>\n      <td>35.708061</td>\n      <td>51.401943</td>\n      <td>10.682</td>\n      <td>2022-09-10 14:51:03</td>\n      <td>14.291944</td>\n      <td>0</td>\n    </tr>\n    <tr>\n      <th>4063337</th>\n      <td>1239</td>\n      <td>1567</td>\n      <td>1544</td>\n      <td>2022-09-10 15:42:45</td>\n      <td>35.724361</td>\n      <td>51.402294</td>\n      <td>35.794140</td>\n      <td>51.472240</td>\n      <td>14.393</td>\n      <td>2022-09-10 16:13:23</td>\n      <td>15.712500</td>\n      <td>0</td>\n    </tr>\n    <tr>\n      <th>4063340</th>\n      <td>1247</td>\n      <td>1484</td>\n      <td>1380</td>\n      <td>2022-09-10 11:29:32</td>\n      <td>35.668186</td>\n      <td>51.361591</td>\n      <td>35.750282</td>\n      <td>51.294250</td>\n      <td>15.186</td>\n      <td>2022-09-10 11:56:31</td>\n      <td>11.492222</td>\n      <td>0</td>\n    </tr>\n  </tbody>\n</table>\n<p>418615 rows × 12 columns</p>\n</div>"
     },
     "execution_count": 15,
     "metadata": {},
     "output_type": "execute_result"
    }
   ],
   "source": [
    "# rides_train_p1['source_h3_4'] = rides_train_p1.apply(lambda row: h3.geo_to_h3(row.source_lat, row.source_lng, 4), axis=1)\n",
    "# rides_train_p1['dest_h3_4'] = rides_train_p1.apply(lambda row: h3.geo_to_h3(row.destination_lat, row.destination_lng, 4), axis=1)\n",
    "rides_train_p1['hour'] = rides_train_p1.apply(lambda row: ((datetime.timestamp(datetime.strptime(row.created_at,\"%Y-%m-%d %H:%M:%S\")) - 1662147000) % 604800) / 3600, axis=1)\n",
    "rides_train_p1['holiday'] = rides_train_p1.apply(lambda row: int(row.created_at.split()[0] in train_holidays), axis=1)\n",
    "rides_train_p1"
   ],
   "metadata": {
    "collapsed": false,
    "pycharm": {
     "name": "#%%\n"
    }
   }
  },
  {
   "cell_type": "code",
   "execution_count": 16,
   "outputs": [
    {
     "data": {
      "text/plain": "          eta   ata  a_t_a_result.ride_a_t_a           created_at  source_lat  \\\n4        1586  1663                     1672  2022-09-11 16:18:50   35.754002   \n8         767   815                      696  2022-09-11 08:47:42   35.737583   \n14       1708  2254                     2224  2022-09-11 10:37:12   35.792473   \n18       1092  1224                     1401  2022-09-11 15:37:23   35.799767   \n20       2472  2877                     2762  2022-09-11 07:07:26   35.356205   \n...       ...   ...                      ...                  ...         ...   \n2729940   493   571                      636  2022-10-09 19:41:26   35.703400   \n2729944   491   455                      424  2022-10-09 14:13:09   35.732574   \n2729945   467   916                      908  2022-10-09 12:31:56   35.780022   \n2729949   877  1003                      975  2022-10-09 12:34:24   35.731308   \n2729964   656   913                      867  2022-10-09 08:29:31   35.806316   \n\n         source_lng  destination_lat  destination_lng      e_d_d  \\\n4         51.502956        35.633537        51.494732  17.757999   \n8         51.817417        35.716343        51.786205   7.461000   \n14        51.425320        35.698429        51.456745  19.094999   \n18        51.500786        35.817673        51.438400   7.260000   \n20        51.641312        35.601074        51.435585  38.662998   \n...             ...              ...              ...        ...   \n2729940   51.322357        35.704979        51.331409   3.440000   \n2729944   51.920444        35.733791        51.895199   4.697000   \n2729945   51.311806        35.775215        51.330162   7.538000   \n2729949   51.440887        35.792816        51.489731  10.590000   \n2729964   51.475018        35.806435        51.449356   3.729000   \n\n             clickhouse_time       hour  holiday  \n4        2022-09-11 18:07:01  40.313889        0  \n8        2022-09-11 09:05:35  32.795000        0  \n14       2022-09-11 11:21:00  34.620000        0  \n18       2022-09-11 16:16:49  39.623056        0  \n20       2022-09-11 08:02:38  31.123889        0  \n...                      ...        ...      ...  \n2729940  2022-10-09 19:57:58  44.690556        0  \n2729944  2022-10-09 14:29:09  39.219167        0  \n2729945  2022-10-09 12:54:54  37.532222        0  \n2729949  2022-10-09 12:56:15  37.573333        0  \n2729964  2022-10-09 10:02:04  33.491944        0  \n\n[288149 rows x 12 columns]",
      "text/html": "<div>\n<style scoped>\n    .dataframe tbody tr th:only-of-type {\n        vertical-align: middle;\n    }\n\n    .dataframe tbody tr th {\n        vertical-align: top;\n    }\n\n    .dataframe thead th {\n        text-align: right;\n    }\n</style>\n<table border=\"1\" class=\"dataframe\">\n  <thead>\n    <tr style=\"text-align: right;\">\n      <th></th>\n      <th>eta</th>\n      <th>ata</th>\n      <th>a_t_a_result.ride_a_t_a</th>\n      <th>created_at</th>\n      <th>source_lat</th>\n      <th>source_lng</th>\n      <th>destination_lat</th>\n      <th>destination_lng</th>\n      <th>e_d_d</th>\n      <th>clickhouse_time</th>\n      <th>hour</th>\n      <th>holiday</th>\n    </tr>\n  </thead>\n  <tbody>\n    <tr>\n      <th>4</th>\n      <td>1586</td>\n      <td>1663</td>\n      <td>1672</td>\n      <td>2022-09-11 16:18:50</td>\n      <td>35.754002</td>\n      <td>51.502956</td>\n      <td>35.633537</td>\n      <td>51.494732</td>\n      <td>17.757999</td>\n      <td>2022-09-11 18:07:01</td>\n      <td>40.313889</td>\n      <td>0</td>\n    </tr>\n    <tr>\n      <th>8</th>\n      <td>767</td>\n      <td>815</td>\n      <td>696</td>\n      <td>2022-09-11 08:47:42</td>\n      <td>35.737583</td>\n      <td>51.817417</td>\n      <td>35.716343</td>\n      <td>51.786205</td>\n      <td>7.461000</td>\n      <td>2022-09-11 09:05:35</td>\n      <td>32.795000</td>\n      <td>0</td>\n    </tr>\n    <tr>\n      <th>14</th>\n      <td>1708</td>\n      <td>2254</td>\n      <td>2224</td>\n      <td>2022-09-11 10:37:12</td>\n      <td>35.792473</td>\n      <td>51.425320</td>\n      <td>35.698429</td>\n      <td>51.456745</td>\n      <td>19.094999</td>\n      <td>2022-09-11 11:21:00</td>\n      <td>34.620000</td>\n      <td>0</td>\n    </tr>\n    <tr>\n      <th>18</th>\n      <td>1092</td>\n      <td>1224</td>\n      <td>1401</td>\n      <td>2022-09-11 15:37:23</td>\n      <td>35.799767</td>\n      <td>51.500786</td>\n      <td>35.817673</td>\n      <td>51.438400</td>\n      <td>7.260000</td>\n      <td>2022-09-11 16:16:49</td>\n      <td>39.623056</td>\n      <td>0</td>\n    </tr>\n    <tr>\n      <th>20</th>\n      <td>2472</td>\n      <td>2877</td>\n      <td>2762</td>\n      <td>2022-09-11 07:07:26</td>\n      <td>35.356205</td>\n      <td>51.641312</td>\n      <td>35.601074</td>\n      <td>51.435585</td>\n      <td>38.662998</td>\n      <td>2022-09-11 08:02:38</td>\n      <td>31.123889</td>\n      <td>0</td>\n    </tr>\n    <tr>\n      <th>...</th>\n      <td>...</td>\n      <td>...</td>\n      <td>...</td>\n      <td>...</td>\n      <td>...</td>\n      <td>...</td>\n      <td>...</td>\n      <td>...</td>\n      <td>...</td>\n      <td>...</td>\n      <td>...</td>\n      <td>...</td>\n    </tr>\n    <tr>\n      <th>2729940</th>\n      <td>493</td>\n      <td>571</td>\n      <td>636</td>\n      <td>2022-10-09 19:41:26</td>\n      <td>35.703400</td>\n      <td>51.322357</td>\n      <td>35.704979</td>\n      <td>51.331409</td>\n      <td>3.440000</td>\n      <td>2022-10-09 19:57:58</td>\n      <td>44.690556</td>\n      <td>0</td>\n    </tr>\n    <tr>\n      <th>2729944</th>\n      <td>491</td>\n      <td>455</td>\n      <td>424</td>\n      <td>2022-10-09 14:13:09</td>\n      <td>35.732574</td>\n      <td>51.920444</td>\n      <td>35.733791</td>\n      <td>51.895199</td>\n      <td>4.697000</td>\n      <td>2022-10-09 14:29:09</td>\n      <td>39.219167</td>\n      <td>0</td>\n    </tr>\n    <tr>\n      <th>2729945</th>\n      <td>467</td>\n      <td>916</td>\n      <td>908</td>\n      <td>2022-10-09 12:31:56</td>\n      <td>35.780022</td>\n      <td>51.311806</td>\n      <td>35.775215</td>\n      <td>51.330162</td>\n      <td>7.538000</td>\n      <td>2022-10-09 12:54:54</td>\n      <td>37.532222</td>\n      <td>0</td>\n    </tr>\n    <tr>\n      <th>2729949</th>\n      <td>877</td>\n      <td>1003</td>\n      <td>975</td>\n      <td>2022-10-09 12:34:24</td>\n      <td>35.731308</td>\n      <td>51.440887</td>\n      <td>35.792816</td>\n      <td>51.489731</td>\n      <td>10.590000</td>\n      <td>2022-10-09 12:56:15</td>\n      <td>37.573333</td>\n      <td>0</td>\n    </tr>\n    <tr>\n      <th>2729964</th>\n      <td>656</td>\n      <td>913</td>\n      <td>867</td>\n      <td>2022-10-09 08:29:31</td>\n      <td>35.806316</td>\n      <td>51.475018</td>\n      <td>35.806435</td>\n      <td>51.449356</td>\n      <td>3.729000</td>\n      <td>2022-10-09 10:02:04</td>\n      <td>33.491944</td>\n      <td>0</td>\n    </tr>\n  </tbody>\n</table>\n<p>288149 rows × 12 columns</p>\n</div>"
     },
     "execution_count": 16,
     "metadata": {},
     "output_type": "execute_result"
    }
   ],
   "source": [
    "# rides_test_p1['source_h3_4'] = rides_test_p1.apply(lambda row: h3.geo_to_h3(row.source_lat, row.source_lng, 4), axis=1)\n",
    "# rides_test_p1['dest_h3_4'] = rides_test_p1.apply(lambda row: h3.geo_to_h3(row.destination_lat, row.destination_lng, 4), axis=1)\n",
    "rides_test_p1['hour'] = rides_test_p1.apply(lambda row: ((datetime.timestamp(datetime.strptime(row.created_at,\"%Y-%m-%d %H:%M:%S\")) - 1662147000) % 604800) / 3600, axis=1)\n",
    "rides_test_p1['holiday'] = rides_test_p1.apply(lambda row: int(row.created_at.split()[0] in test_holidays), axis=1)\n",
    "rides_test_p1"
   ],
   "metadata": {
    "collapsed": false,
    "pycharm": {
     "name": "#%%\n"
    }
   }
  },
  {
   "cell_type": "code",
   "execution_count": 17,
   "outputs": [],
   "source": [
    "train_p1_geo_x = rides_train_p1[[\"eta\", \"source_lat\", \"source_lng\", \"destination_lat\", \"destination_lng\", \"hour\", \"holiday\"]]\n",
    "# train_p1_h3_x = rides_train_p1[[\"eta\", \"source_h3_4\", \"dest_h3_4\", \"hour\", \"holiday\"]]\n",
    "train_p1_geo_y = rides_train_p1[\"a_t_a_result.ride_a_t_a\"]\n",
    "# train_p1_h3_y = rides_train_p1[\"a_t_a_result.ride_a_t_a\"]"
   ],
   "metadata": {
    "collapsed": false,
    "pycharm": {
     "name": "#%%\n"
    }
   }
  },
  {
   "cell_type": "code",
   "execution_count": 18,
   "outputs": [],
   "source": [
    "test_p1_geo_x = rides_test_p1[[\"eta\", \"source_lat\", \"source_lng\", \"destination_lat\", \"destination_lng\", \"hour\", \"holiday\"]]\n",
    "# test_p1_h3_x = rides_test_p1[[\"eta\", \"source_h3_4\", \"dest_h3_4\", \"hour\", \"holiday\"]]\n",
    "test_p1_geo_y = rides_test_p1[\"a_t_a_result.ride_a_t_a\"]\n",
    "# test_p1_h3_y = rides_test_p1[\"a_t_a_result.ride_a_t_a\"]"
   ],
   "metadata": {
    "collapsed": false,
    "pycharm": {
     "name": "#%%\n"
    }
   }
  },
  {
   "cell_type": "code",
   "execution_count": 19,
   "outputs": [],
   "source": [
    "# dummy_train_rides = pd.get_dummies(train_p1_h3_x, prefix={'source_h3_4':'source_h3_4',\n",
    "#                                                              'dest_h3_4':'dest_h3_4'})\n",
    "# dummy_train_rides.describe()"
   ],
   "metadata": {
    "collapsed": false,
    "pycharm": {
     "name": "#%%\n"
    }
   }
  },
  {
   "cell_type": "code",
   "execution_count": 20,
   "outputs": [],
   "source": [
    "# print(np.count_nonzero(dummy_train_rides, axis=0))\n",
    "# print(dummy_train_rides.columns)"
   ],
   "metadata": {
    "collapsed": false,
    "pycharm": {
     "name": "#%%\n"
    }
   }
  },
  {
   "cell_type": "code",
   "execution_count": 21,
   "outputs": [],
   "source": [
    "# geo_noise = np.count_nonzero(dummy_train_rides, axis=0) < 100\n",
    "#\n",
    "# cols = dummy_train_rides.columns\n",
    "# for col, noise in zip(cols, geo_noise):\n",
    "#     if noise:\n",
    "#         # DOESN'T REINDEX\n",
    "#         # remove the rows where rides_train_p1_x is in the noisy geo (geo is 1)\n",
    "#         train_p1_h3_x = train_p1_h3_x[dummy_train_rides[col] == 0]\n",
    "#         train_p1_h3_y = train_p1_h3_y[dummy_train_rides[col] == 0]\n",
    "#\n",
    "# train_p1_h3_x.describe()"
   ],
   "metadata": {
    "collapsed": false,
    "pycharm": {
     "name": "#%%\n"
    }
   }
  },
  {
   "cell_type": "code",
   "execution_count": 22,
   "outputs": [],
   "source": [
    "# ohe = ColumnTransformer(\n",
    "#     [('OHE', OneHotEncoder(handle_unknown='ignore', sparse=False),['source_h3_4', 'dest_h3_4'])],\n",
    "#     remainder = 'passthrough'\n",
    "#     ).fit(train_p1_h3_x)"
   ],
   "metadata": {
    "collapsed": false,
    "pycharm": {
     "name": "#%%\n"
    }
   }
  },
  {
   "cell_type": "code",
   "execution_count": 23,
   "outputs": [],
   "source": [
    "# ohe.get_feature_names_out()"
   ],
   "metadata": {
    "collapsed": false,
    "pycharm": {
     "name": "#%%\n"
    }
   }
  },
  {
   "cell_type": "code",
   "execution_count": 24,
   "outputs": [],
   "source": [
    "# train_p1_h3_x = ohe.transform(train_p1_h3_x)"
   ],
   "metadata": {
    "collapsed": false,
    "pycharm": {
     "name": "#%%\n"
    }
   }
  },
  {
   "cell_type": "code",
   "execution_count": 25,
   "outputs": [],
   "source": [
    "# test_p1_h3_x = ohe.transform(test_p1_h3_x)"
   ],
   "metadata": {
    "collapsed": false,
    "pycharm": {
     "name": "#%%\n"
    }
   }
  },
  {
   "cell_type": "code",
   "execution_count": 50,
   "outputs": [],
   "source": [
    "rational_index = abs(train_p1_geo_x['eta'] - train_p1_geo_y) < 1800"
   ],
   "metadata": {
    "collapsed": false,
    "pycharm": {
     "name": "#%%\n"
    }
   }
  },
  {
   "cell_type": "code",
   "execution_count": 51,
   "outputs": [],
   "source": [
    "train_p1_geo_x = train_p1_geo_x[rational_index]\n",
    "train_p1_geo_y = train_p1_geo_y[rational_index]"
   ],
   "metadata": {
    "collapsed": false,
    "pycharm": {
     "name": "#%%\n"
    }
   }
  },
  {
   "cell_type": "code",
   "execution_count": 52,
   "outputs": [],
   "source": [
    "test_rational_index = abs(test_p1_geo_x['eta'] - test_p1_geo_y) < 1800\n",
    "test_p1_geo_x = test_p1_geo_x[test_rational_index]\n",
    "test_p1_geo_y = test_p1_geo_y[test_rational_index]"
   ],
   "metadata": {
    "collapsed": false,
    "pycharm": {
     "name": "#%%\n"
    }
   }
  },
  {
   "cell_type": "code",
   "execution_count": 53,
   "outputs": [],
   "source": [
    "train_eta = train_p1_geo_x['eta']\n",
    "test_eta = test_p1_geo_x['eta']\n",
    "\n",
    "# train_p1_geo_x = train_p1_geo_x[[\"source_lat\", \"source_lng\", \"destination_lat\", \"destination_lng\", \"hour\", \"holiday\"]]\n",
    "# test_p1_geo_x = test_p1_geo_x[[\"source_lat\", \"source_lng\", \"destination_lat\", \"destination_lng\", \"hour\", \"holiday\"]]"
   ],
   "metadata": {
    "collapsed": false,
    "pycharm": {
     "name": "#%%\n"
    }
   }
  },
  {
   "cell_type": "code",
   "execution_count": 54,
   "outputs": [],
   "source": [
    "reg_geo_p1 = LinearRegression().fit(train_p1_geo_x, train_p1_geo_y)"
   ],
   "metadata": {
    "collapsed": false,
    "pycharm": {
     "name": "#%%\n"
    }
   }
  },
  {
   "cell_type": "code",
   "execution_count": 55,
   "outputs": [
    {
     "name": "stdout",
     "output_type": "stream",
     "text": [
      "[  1.19995579  60.52077663  19.45155019 429.49508629  84.08659027\n",
      "  -0.43249748 -77.01206346]\n",
      "-22844.89730651855\n"
     ]
    }
   ],
   "source": [
    "print(reg_geo_p1.coef_)\n",
    "print(reg_geo_p1.intercept_)"
   ],
   "metadata": {
    "collapsed": false,
    "pycharm": {
     "name": "#%%\n"
    }
   }
  },
  {
   "cell_type": "code",
   "execution_count": 56,
   "outputs": [],
   "source": [
    "train_pred_geo = reg_geo_p1.predict(train_p1_geo_x)\n",
    "test_pred_geo = reg_geo_p1.predict(test_p1_geo_x)"
   ],
   "metadata": {
    "collapsed": false,
    "pycharm": {
     "name": "#%%\n"
    }
   }
  },
  {
   "cell_type": "code",
   "execution_count": 57,
   "outputs": [
    {
     "name": "stdout",
     "output_type": "stream",
     "text": [
      "ETA train MAE 303.05601677797216\n",
      "prediction train MAE 270.0441347116858\n",
      "ETA test MAE  198.93715245801377\n",
      "prediction test MAE 197.72842098826686\n",
      "ETA train MSE 186311.40376344605\n",
      "prediction train MSE 130232.03449502192\n",
      "ETA test MSE  109690.4659505515\n",
      "prediction test MSE 86595.15998340784\n",
      "ETA train explained_variance_score 0.22988020895077965\n",
      "prediction train explained_variance_score 0.24686168720432022\n",
      "ETA test explained_variance_score  0.8693451809315293\n",
      "prediction test explained_variance_score 0.8768978838276482\n",
      "ETA train median_absolute_error 202.0\n",
      "prediction train median_absolute_error 211.7969343737459\n",
      "ETA test median_absolute_error  103.0\n",
      "prediction test median_absolute_error 130.12398476009366\n",
      "ETA train r2_score -0.07744808586523355\n",
      "prediction train r2_score 0.2468616872043201\n",
      "ETA test r2_score  0.8438239267452461\n",
      "prediction test r2_score 0.8767067681600286\n",
      "ETA train MAPE 0.1617958423506161\n",
      "prediction train MAPE 0.1630260834281298\n",
      "ETA test MAPE  0.18084430516321362\n",
      "prediction test MAPE 0.2158734826585\n"
     ]
    }
   ],
   "source": [
    "print(\"ETA train MAE\", mean_absolute_error(train_p1_geo_y, train_eta))\n",
    "print(\"prediction train MAE\", mean_absolute_error(train_p1_geo_y, train_pred_geo))\n",
    "\n",
    "print(\"ETA test MAE \", mean_absolute_error(test_p1_geo_y, test_eta))\n",
    "print(\"prediction test MAE\", mean_absolute_error(test_p1_geo_y, test_pred_geo))\n",
    "\n",
    "\n",
    "print(\"ETA train MSE\", mean_squared_error(train_p1_geo_y, train_eta))\n",
    "print(\"prediction train MSE\", mean_squared_error(train_p1_geo_y, train_pred_geo))\n",
    "\n",
    "print(\"ETA test MSE \", mean_squared_error(test_p1_geo_y, test_eta))\n",
    "print(\"prediction test MSE\", mean_squared_error(test_p1_geo_y, test_pred_geo))\n",
    "\n",
    "\n",
    "print(\"ETA train explained_variance_score\", explained_variance_score(train_p1_geo_y, train_eta))\n",
    "print(\"prediction train explained_variance_score\", explained_variance_score(train_p1_geo_y, train_pred_geo))\n",
    "\n",
    "print(\"ETA test explained_variance_score \", explained_variance_score(test_p1_geo_y, test_eta))\n",
    "print(\"prediction test explained_variance_score\", explained_variance_score(test_p1_geo_y, test_pred_geo))\n",
    "\n",
    "\n",
    "print(\"ETA train median_absolute_error\", median_absolute_error(train_p1_geo_y, train_eta))\n",
    "print(\"prediction train median_absolute_error\", median_absolute_error(train_p1_geo_y, train_pred_geo))\n",
    "\n",
    "print(\"ETA test median_absolute_error \", median_absolute_error(test_p1_geo_y, test_eta))\n",
    "print(\"prediction test median_absolute_error\", median_absolute_error(test_p1_geo_y, test_pred_geo))\n",
    "\n",
    "\n",
    "print(\"ETA train r2_score\", r2_score(train_p1_geo_y, train_eta))\n",
    "print(\"prediction train r2_score\", r2_score(train_p1_geo_y, train_pred_geo))\n",
    "\n",
    "print(\"ETA test r2_score \", r2_score(test_p1_geo_y, test_eta))\n",
    "print(\"prediction test r2_score\", r2_score(test_p1_geo_y, test_pred_geo))\n",
    "\n",
    "\n",
    "print(\"ETA train MAPE\", mean_absolute_percentage_error(train_p1_geo_y, train_eta))\n",
    "print(\"prediction train MAPE\", mean_absolute_percentage_error(train_p1_geo_y, train_pred_geo))\n",
    "\n",
    "print(\"ETA test MAPE \", mean_absolute_percentage_error(test_p1_geo_y, test_eta))\n",
    "print(\"prediction test MAPE\", mean_absolute_percentage_error(test_p1_geo_y, test_pred_geo))"
   ],
   "metadata": {
    "collapsed": false,
    "pycharm": {
     "name": "#%%\n"
    }
   }
  },
  {
   "cell_type": "code",
   "execution_count": 58,
   "outputs": [
    {
     "data": {
      "text/plain": "KNeighborsRegressor(n_neighbors=50)",
      "text/html": "<style>#sk-container-id-2 {color: black;background-color: white;}#sk-container-id-2 pre{padding: 0;}#sk-container-id-2 div.sk-toggleable {background-color: white;}#sk-container-id-2 label.sk-toggleable__label {cursor: pointer;display: block;width: 100%;margin-bottom: 0;padding: 0.3em;box-sizing: border-box;text-align: center;}#sk-container-id-2 label.sk-toggleable__label-arrow:before {content: \"▸\";float: left;margin-right: 0.25em;color: #696969;}#sk-container-id-2 label.sk-toggleable__label-arrow:hover:before {color: black;}#sk-container-id-2 div.sk-estimator:hover label.sk-toggleable__label-arrow:before {color: black;}#sk-container-id-2 div.sk-toggleable__content {max-height: 0;max-width: 0;overflow: hidden;text-align: left;background-color: #f0f8ff;}#sk-container-id-2 div.sk-toggleable__content pre {margin: 0.2em;color: black;border-radius: 0.25em;background-color: #f0f8ff;}#sk-container-id-2 input.sk-toggleable__control:checked~div.sk-toggleable__content {max-height: 200px;max-width: 100%;overflow: auto;}#sk-container-id-2 input.sk-toggleable__control:checked~label.sk-toggleable__label-arrow:before {content: \"▾\";}#sk-container-id-2 div.sk-estimator input.sk-toggleable__control:checked~label.sk-toggleable__label {background-color: #d4ebff;}#sk-container-id-2 div.sk-label input.sk-toggleable__control:checked~label.sk-toggleable__label {background-color: #d4ebff;}#sk-container-id-2 input.sk-hidden--visually {border: 0;clip: rect(1px 1px 1px 1px);clip: rect(1px, 1px, 1px, 1px);height: 1px;margin: -1px;overflow: hidden;padding: 0;position: absolute;width: 1px;}#sk-container-id-2 div.sk-estimator {font-family: monospace;background-color: #f0f8ff;border: 1px dotted black;border-radius: 0.25em;box-sizing: border-box;margin-bottom: 0.5em;}#sk-container-id-2 div.sk-estimator:hover {background-color: #d4ebff;}#sk-container-id-2 div.sk-parallel-item::after {content: \"\";width: 100%;border-bottom: 1px solid gray;flex-grow: 1;}#sk-container-id-2 div.sk-label:hover label.sk-toggleable__label {background-color: #d4ebff;}#sk-container-id-2 div.sk-serial::before {content: \"\";position: absolute;border-left: 1px solid gray;box-sizing: border-box;top: 0;bottom: 0;left: 50%;z-index: 0;}#sk-container-id-2 div.sk-serial {display: flex;flex-direction: column;align-items: center;background-color: white;padding-right: 0.2em;padding-left: 0.2em;position: relative;}#sk-container-id-2 div.sk-item {position: relative;z-index: 1;}#sk-container-id-2 div.sk-parallel {display: flex;align-items: stretch;justify-content: center;background-color: white;position: relative;}#sk-container-id-2 div.sk-item::before, #sk-container-id-2 div.sk-parallel-item::before {content: \"\";position: absolute;border-left: 1px solid gray;box-sizing: border-box;top: 0;bottom: 0;left: 50%;z-index: -1;}#sk-container-id-2 div.sk-parallel-item {display: flex;flex-direction: column;z-index: 1;position: relative;background-color: white;}#sk-container-id-2 div.sk-parallel-item:first-child::after {align-self: flex-end;width: 50%;}#sk-container-id-2 div.sk-parallel-item:last-child::after {align-self: flex-start;width: 50%;}#sk-container-id-2 div.sk-parallel-item:only-child::after {width: 0;}#sk-container-id-2 div.sk-dashed-wrapped {border: 1px dashed gray;margin: 0 0.4em 0.5em 0.4em;box-sizing: border-box;padding-bottom: 0.4em;background-color: white;}#sk-container-id-2 div.sk-label label {font-family: monospace;font-weight: bold;display: inline-block;line-height: 1.2em;}#sk-container-id-2 div.sk-label-container {text-align: center;}#sk-container-id-2 div.sk-container {/* jupyter's `normalize.less` sets `[hidden] { display: none; }` but bootstrap.min.css set `[hidden] { display: none !important; }` so we also need the `!important` here to be able to override the default hidden behavior on the sphinx rendered scikit-learn.org. See: https://github.com/scikit-learn/scikit-learn/issues/21755 */display: inline-block !important;position: relative;}#sk-container-id-2 div.sk-text-repr-fallback {display: none;}</style><div id=\"sk-container-id-2\" class=\"sk-top-container\"><div class=\"sk-text-repr-fallback\"><pre>KNeighborsRegressor(n_neighbors=50)</pre><b>In a Jupyter environment, please rerun this cell to show the HTML representation or trust the notebook. <br />On GitHub, the HTML representation is unable to render, please try loading this page with nbviewer.org.</b></div><div class=\"sk-container\" hidden><div class=\"sk-item\"><div class=\"sk-estimator sk-toggleable\"><input class=\"sk-toggleable__control sk-hidden--visually\" id=\"sk-estimator-id-2\" type=\"checkbox\" checked><label for=\"sk-estimator-id-2\" class=\"sk-toggleable__label sk-toggleable__label-arrow\">KNeighborsRegressor</label><div class=\"sk-toggleable__content\"><pre>KNeighborsRegressor(n_neighbors=50)</pre></div></div></div></div></div>"
     },
     "execution_count": 58,
     "metadata": {},
     "output_type": "execute_result"
    }
   ],
   "source": [
    "from sklearn.neighbors import KNeighborsRegressor\n",
    "neigh = KNeighborsRegressor(n_neighbors=50)\n",
    "neigh.fit(train_p1_geo_x, train_p1_geo_y)"
   ],
   "metadata": {
    "collapsed": false,
    "pycharm": {
     "name": "#%%\n"
    }
   }
  },
  {
   "cell_type": "code",
   "execution_count": 59,
   "outputs": [],
   "source": [
    "train_knn_pred_geo = neigh.predict(train_p1_geo_x)"
   ],
   "metadata": {
    "collapsed": false,
    "pycharm": {
     "name": "#%%\n"
    }
   }
  },
  {
   "cell_type": "code",
   "execution_count": 60,
   "outputs": [],
   "source": [
    "test_knn_pred_geo = neigh.predict(test_p1_geo_x)"
   ],
   "metadata": {
    "collapsed": false,
    "pycharm": {
     "name": "#%%\n"
    }
   }
  },
  {
   "cell_type": "code",
   "execution_count": 61,
   "outputs": [
    {
     "name": "stdout",
     "output_type": "stream",
     "text": [
      "ETA train MAE 303.05601677797216\n",
      "prediction train MAE 248.65587185533832\n",
      "ETA test MAE  198.93715245801377\n",
      "prediction test MAE 647.6301651329711\n",
      "ETA train MSE 186311.40376344605\n",
      "prediction train MSE 110606.5244008862\n",
      "ETA test MSE  109690.4659505515\n",
      "prediction test MSE 608931.0242283179\n",
      "ETA train explained_variance_score 0.22988020895077965\n",
      "prediction train explained_variance_score 0.3603903523829256\n",
      "ETA test explained_variance_score  0.8693451809315293\n",
      "prediction test explained_variance_score 0.3848412842899378\n",
      "ETA train median_absolute_error 202.0\n",
      "prediction train median_absolute_error 194.1199999999999\n",
      "ETA test median_absolute_error  103.0\n",
      "prediction test median_absolute_error 628.02\n",
      "ETA train r2_score -0.07744808586523355\n",
      "prediction train r2_score 0.36035698517278536\n",
      "ETA test r2_score  0.8438239267452461\n",
      "prediction test r2_score 0.13301073686891396\n",
      "ETA train MAPE 0.1617958423506161\n",
      "prediction train MAPE 0.14968560751150273\n",
      "ETA test MAPE  0.18084430516321362\n",
      "prediction test MAPE 1.344012981865643\n"
     ]
    }
   ],
   "source": [
    "print(\"ETA train MAE\", mean_absolute_error(train_p1_geo_y, train_eta))\n",
    "print(\"prediction train MAE\", mean_absolute_error(train_p1_geo_y, train_knn_pred_geo))\n",
    "\n",
    "print(\"ETA test MAE \", mean_absolute_error(test_p1_geo_y, test_eta))\n",
    "print(\"prediction test MAE\", mean_absolute_error(test_p1_geo_y, test_knn_pred_geo))\n",
    "\n",
    "\n",
    "print(\"ETA train MSE\", mean_squared_error(train_p1_geo_y, train_eta))\n",
    "print(\"prediction train MSE\", mean_squared_error(train_p1_geo_y, train_knn_pred_geo))\n",
    "\n",
    "print(\"ETA test MSE \", mean_squared_error(test_p1_geo_y, test_eta))\n",
    "print(\"prediction test MSE\", mean_squared_error(test_p1_geo_y, test_knn_pred_geo))\n",
    "\n",
    "\n",
    "print(\"ETA train explained_variance_score\", explained_variance_score(train_p1_geo_y, train_eta))\n",
    "print(\"prediction train explained_variance_score\", explained_variance_score(train_p1_geo_y, train_knn_pred_geo))\n",
    "\n",
    "print(\"ETA test explained_variance_score \", explained_variance_score(test_p1_geo_y, test_eta))\n",
    "print(\"prediction test explained_variance_score\", explained_variance_score(test_p1_geo_y, test_knn_pred_geo))\n",
    "\n",
    "\n",
    "print(\"ETA train median_absolute_error\", median_absolute_error(train_p1_geo_y, train_eta))\n",
    "print(\"prediction train median_absolute_error\", median_absolute_error(train_p1_geo_y, train_knn_pred_geo))\n",
    "\n",
    "print(\"ETA test median_absolute_error \", median_absolute_error(test_p1_geo_y, test_eta))\n",
    "print(\"prediction test median_absolute_error\", median_absolute_error(test_p1_geo_y, test_knn_pred_geo))\n",
    "\n",
    "\n",
    "print(\"ETA train r2_score\", r2_score(train_p1_geo_y, train_eta))\n",
    "print(\"prediction train r2_score\", r2_score(train_p1_geo_y, train_knn_pred_geo))\n",
    "\n",
    "print(\"ETA test r2_score \", r2_score(test_p1_geo_y, test_eta))\n",
    "print(\"prediction test r2_score\", r2_score(test_p1_geo_y, test_knn_pred_geo))\n",
    "\n",
    "\n",
    "print(\"ETA train MAPE\", mean_absolute_percentage_error(train_p1_geo_y, train_eta))\n",
    "print(\"prediction train MAPE\", mean_absolute_percentage_error(train_p1_geo_y, train_knn_pred_geo))\n",
    "\n",
    "print(\"ETA test MAPE \", mean_absolute_percentage_error(test_p1_geo_y, test_eta))\n",
    "print(\"prediction test MAPE\", mean_absolute_percentage_error(test_p1_geo_y, test_knn_pred_geo))"
   ],
   "metadata": {
    "collapsed": false,
    "pycharm": {
     "name": "#%%\n"
    }
   }
  },
  {
   "cell_type": "code",
   "execution_count": null,
   "outputs": [],
   "source": [
    "from sklearn.svm import SVR\n",
    "from sklearn.pipeline import make_pipeline\n",
    "from sklearn.preprocessing import StandardScaler\n",
    "import numpy as np\n",
    "regr = make_pipeline(StandardScaler(), SVR(C=1.0, epsilon=0.2))\n",
    "regr.fit(train_p1_geo_x, train_p1_geo_y)"
   ],
   "metadata": {
    "collapsed": false,
    "pycharm": {
     "name": "#%%\n",
     "is_executing": true
    }
   }
  },
  {
   "cell_type": "code",
   "execution_count": null,
   "outputs": [],
   "source": [
    "train_svm_pred_geo = regr.predict(train_p1_geo_x)\n",
    "test_svm_pred_geo = regr.predict(test_p1_geo_x)"
   ],
   "metadata": {
    "collapsed": false,
    "pycharm": {
     "name": "#%%\n",
     "is_executing": true
    }
   }
  },
  {
   "cell_type": "code",
   "execution_count": null,
   "outputs": [],
   "source": [
    "print(\"ETA train MAE\", mean_absolute_error(train_p1_geo_y, train_eta))\n",
    "print(\"prediction train MAE\", mean_absolute_error(train_p1_geo_y, train_svm_pred_geo))\n",
    "\n",
    "print(\"ETA test MAE \", mean_absolute_error(test_p1_geo_y, test_eta))\n",
    "print(\"prediction test MAE\", mean_absolute_error(test_p1_geo_y, test_svm_pred_geo))\n",
    "\n",
    "\n",
    "print(\"ETA train MSE\", mean_squared_error(train_p1_geo_y, train_eta))\n",
    "print(\"prediction train MSE\", mean_squared_error(train_p1_geo_y, train_svm_pred_geo))\n",
    "\n",
    "print(\"ETA test MSE \", mean_squared_error(test_p1_geo_y, test_eta))\n",
    "print(\"prediction test MSE\", mean_squared_error(test_p1_geo_y, test_svm_pred_geo))\n",
    "\n",
    "\n",
    "print(\"ETA train explained_variance_score\", explained_variance_score(train_p1_geo_y, train_eta))\n",
    "print(\"prediction train explained_variance_score\", explained_variance_score(train_p1_geo_y, train_svm_pred_geo))\n",
    "\n",
    "print(\"ETA test explained_variance_score \", explained_variance_score(test_p1_geo_y, test_eta))\n",
    "print(\"prediction test explained_variance_score\", explained_variance_score(test_p1_geo_y, test_svm_pred_geo))\n",
    "\n",
    "\n",
    "print(\"ETA train median_absolute_error\", median_absolute_error(train_p1_geo_y, train_eta))\n",
    "print(\"prediction train median_absolute_error\", median_absolute_error(train_p1_geo_y, train_svm_pred_geo))\n",
    "\n",
    "print(\"ETA test median_absolute_error \", median_absolute_error(test_p1_geo_y, test_eta))\n",
    "print(\"prediction test median_absolute_error\", median_absolute_error(test_p1_geo_y, test_svm_pred_geo))\n",
    "\n",
    "\n",
    "print(\"ETA train r2_score\", r2_score(train_p1_geo_y, train_eta))\n",
    "print(\"prediction train r2_score\", r2_score(train_p1_geo_y, train_svm_pred_geo))\n",
    "\n",
    "print(\"ETA test r2_score \", r2_score(test_p1_geo_y, test_eta))\n",
    "print(\"prediction test r2_score\", r2_score(test_p1_geo_y, test_svm_pred_geo))\n",
    "\n",
    "\n",
    "print(\"ETA train MAPE\", mean_absolute_percentage_error(train_p1_geo_y, train_eta))\n",
    "print(\"prediction train MAPE\", mean_absolute_percentage_error(train_p1_geo_y, train_svm_pred_geo))\n",
    "\n",
    "print(\"ETA test MAPE \", mean_absolute_percentage_error(test_p1_geo_y, test_eta))\n",
    "print(\"prediction test MAPE\", mean_absolute_percentage_error(test_p1_geo_y, test_svm_pred_geo))"
   ],
   "metadata": {
    "collapsed": false,
    "pycharm": {
     "name": "#%%\n",
     "is_executing": true
    }
   }
  },
  {
   "cell_type": "code",
   "execution_count": 62,
   "outputs": [
    {
     "data": {
      "text/plain": "<matplotlib.collections.PathCollection at 0x30318b640>"
     },
     "execution_count": 62,
     "metadata": {},
     "output_type": "execute_result"
    },
    {
     "data": {
      "text/plain": "<Figure size 640x480 with 1 Axes>",
      "image/png": "[encoded data removed]"
     },
     "metadata": {},
     "output_type": "display_data"
    }
   ],
   "source": [
    "plt.scatter(train_eta, train_p1_geo_y)"
   ],
   "metadata": {
    "collapsed": false,
    "pycharm": {
     "name": "#%%\n"
    }
   }
  },
  {
   "cell_type": "code",
   "execution_count": 63,
   "outputs": [],
   "source": [
    "import seaborn as sns"
   ],
   "metadata": {
    "collapsed": false,
    "pycharm": {
     "name": "#%%\n"
    }
   }
  },
  {
   "cell_type": "code",
   "execution_count": 64,
   "outputs": [
    {
     "data": {
      "text/plain": "<AxesSubplot: ylabel='Count'>"
     },
     "execution_count": 64,
     "metadata": {},
     "output_type": "execute_result"
    },
    {
     "data": {
      "text/plain": "<Figure size 640x480 with 1 Axes>",
      "image/png": "[encoded data removed]"
     },
     "metadata": {},
     "output_type": "display_data"
    }
   ],
   "source": [
    "eta_err = train_p1_geo_x['eta'] - train_p1_geo_y\n",
    "sns.histplot(eta_err)"
   ],
   "metadata": {
    "collapsed": false,
    "pycharm": {
     "name": "#%%\n"
    }
   }
  },
  {
   "cell_type": "code",
   "execution_count": 65,
   "outputs": [
    {
     "name": "stdout",
     "output_type": "stream",
     "text": [
      "-230.52753964955687\n",
      "364.9229767864145\n",
      "1.959038628268726\n",
      "-1.1453677343051023\n"
     ]
    }
   ],
   "source": [
    "print(eta_err.mean())\n",
    "print(eta_err.std())\n",
    "print(eta_err.kurtosis())\n",
    "print(eta_err.skew())"
   ],
   "metadata": {
    "collapsed": false,
    "pycharm": {
     "name": "#%%\n"
    }
   }
  },
  {
   "cell_type": "code",
   "execution_count": 66,
   "outputs": [
    {
     "data": {
      "text/plain": "<AxesSubplot: xlabel='a_t_a_result.ride_a_t_a', ylabel='Count'>"
     },
     "execution_count": 66,
     "metadata": {},
     "output_type": "execute_result"
    },
    {
     "data": {
      "text/plain": "<Figure size 640x480 with 1 Axes>",
      "image/png": "[encoded data removed]"
     },
     "metadata": {},
     "output_type": "display_data"
    }
   ],
   "source": [
    "pred_err = train_pred_geo - train_p1_geo_y\n",
    "sns.histplot(pred_err)"
   ],
   "metadata": {
    "collapsed": false,
    "pycharm": {
     "name": "#%%\n"
    }
   }
  },
  {
   "cell_type": "code",
   "execution_count": 67,
   "outputs": [
    {
     "name": "stdout",
     "output_type": "stream",
     "text": [
      "-7.815383634135306e-13\n",
      "360.8771940150293\n",
      "1.8983215137755232\n",
      "-1.0628900359362234\n"
     ]
    }
   ],
   "source": [
    "print(pred_err.mean())\n",
    "print(pred_err.std())\n",
    "print(pred_err.kurtosis())\n",
    "print(pred_err.skew())"
   ],
   "metadata": {
    "collapsed": false,
    "pycharm": {
     "name": "#%%\n"
    }
   }
  },
  {
   "cell_type": "code",
   "execution_count": 154,
   "outputs": [],
   "source": [
    "reg_h3_p1 = LinearRegression().fit(train_p1_h3_x, train_p1_h3_y)"
   ],
   "metadata": {
    "collapsed": false,
    "pycharm": {
     "name": "#%%\n"
    }
   }
  },
  {
   "cell_type": "code",
   "execution_count": 155,
   "outputs": [
    {
     "name": "stdout",
     "output_type": "stream",
     "text": [
      "[ 1.26783627e+10  1.26783627e+10  3.36497938e+11  1.26783627e+10\n",
      "  1.26783627e+10  1.26783627e+10  1.26783627e+10  1.26783627e+10\n",
      " -2.61619424e+09 -2.61619425e+09 -3.26435770e+11 -2.61619425e+09\n",
      " -2.61619425e+09 -2.61619425e+09 -2.61619424e+09 -2.61619425e+09\n",
      "  9.86321442e-01 -2.57691789e-02  8.68180725e+00]\n",
      "-10062168381.208202\n"
     ]
    }
   ],
   "source": [
    "print(reg_h3_p1.coef_)\n",
    "print(reg_h3_p1.intercept_)"
   ],
   "metadata": {
    "collapsed": false,
    "pycharm": {
     "name": "#%%\n"
    }
   }
  },
  {
   "cell_type": "code",
   "execution_count": 156,
   "outputs": [],
   "source": [
    "train_pred_h3 = reg_h3_p1.predict(train_p1_h3_x)\n",
    "test_pred_h3 = reg_h3_p1.predict(test_p1_h3_x)"
   ],
   "metadata": {
    "collapsed": false,
    "pycharm": {
     "name": "#%%\n"
    }
   }
  },
  {
   "cell_type": "code",
   "execution_count": 157,
   "outputs": [],
   "source": [
    "known_h3_index = np.count_nonzero(test_p1_h3_x[:, 0:17], axis=1) == 2"
   ],
   "metadata": {
    "collapsed": false,
    "pycharm": {
     "name": "#%%\n"
    }
   }
  },
  {
   "cell_type": "code",
   "execution_count": 158,
   "outputs": [],
   "source": [
    "test_p1_h3_y = test_p1_h3_y[known_h3_index]\n",
    "test_p1_h3_x = test_p1_h3_x[known_h3_index]\n",
    "test_pred_h3 = test_pred_h3[known_h3_index]"
   ],
   "metadata": {
    "collapsed": false,
    "pycharm": {
     "name": "#%%\n"
    }
   }
  },
  {
   "cell_type": "code",
   "execution_count": 158,
   "outputs": [],
   "source": [],
   "metadata": {
    "collapsed": false,
    "pycharm": {
     "name": "#%%\n"
    }
   }
  },
  {
   "cell_type": "code",
   "execution_count": 45,
   "outputs": [
    {
     "data": {
      "text/plain": "          eta       seldon   ata  eta - ata  seldon - ata\n2976     1526  1836.110116  4156      -2630  -2319.889884\n3358     1678  2006.297146  3904      -2226  -1897.702854\n4773     1331  1572.528030  3843      -2512  -2270.471970\n6554     1668  1976.782710  4060      -2392  -2083.217290\n8386     1334  1450.304367  3802      -2468  -2351.695633\n...       ...          ...   ...        ...           ...\n4042946  1750  2124.569817  4674      -2924  -2549.430183\n4044773  1773  2162.366582  4176      -2403  -2013.633418\n4049608  1626  1969.847027  4132      -2506  -2162.152973\n4051682  1641  2036.224360  5930      -4289  -3893.775640\n4057734  1702  1983.840546  4183      -2481  -2199.159454\n\n[2563 rows x 5 columns]",
      "text/html": "<div>\n<style scoped>\n    .dataframe tbody tr th:only-of-type {\n        vertical-align: middle;\n    }\n\n    .dataframe tbody tr th {\n        vertical-align: top;\n    }\n\n    .dataframe thead th {\n        text-align: right;\n    }\n</style>\n<table border=\"1\" class=\"dataframe\">\n  <thead>\n    <tr style=\"text-align: right;\">\n      <th></th>\n      <th>eta</th>\n      <th>seldon</th>\n      <th>ata</th>\n      <th>eta - ata</th>\n      <th>seldon - ata</th>\n    </tr>\n  </thead>\n  <tbody>\n    <tr>\n      <th>2976</th>\n      <td>1526</td>\n      <td>1836.110116</td>\n      <td>4156</td>\n      <td>-2630</td>\n      <td>-2319.889884</td>\n    </tr>\n    <tr>\n      <th>3358</th>\n      <td>1678</td>\n      <td>2006.297146</td>\n      <td>3904</td>\n      <td>-2226</td>\n      <td>-1897.702854</td>\n    </tr>\n    <tr>\n      <th>4773</th>\n      <td>1331</td>\n      <td>1572.528030</td>\n      <td>3843</td>\n      <td>-2512</td>\n      <td>-2270.471970</td>\n    </tr>\n    <tr>\n      <th>6554</th>\n      <td>1668</td>\n      <td>1976.782710</td>\n      <td>4060</td>\n      <td>-2392</td>\n      <td>-2083.217290</td>\n    </tr>\n    <tr>\n      <th>8386</th>\n      <td>1334</td>\n      <td>1450.304367</td>\n      <td>3802</td>\n      <td>-2468</td>\n      <td>-2351.695633</td>\n    </tr>\n    <tr>\n      <th>...</th>\n      <td>...</td>\n      <td>...</td>\n      <td>...</td>\n      <td>...</td>\n      <td>...</td>\n    </tr>\n    <tr>\n      <th>4042946</th>\n      <td>1750</td>\n      <td>2124.569817</td>\n      <td>4674</td>\n      <td>-2924</td>\n      <td>-2549.430183</td>\n    </tr>\n    <tr>\n      <th>4044773</th>\n      <td>1773</td>\n      <td>2162.366582</td>\n      <td>4176</td>\n      <td>-2403</td>\n      <td>-2013.633418</td>\n    </tr>\n    <tr>\n      <th>4049608</th>\n      <td>1626</td>\n      <td>1969.847027</td>\n      <td>4132</td>\n      <td>-2506</td>\n      <td>-2162.152973</td>\n    </tr>\n    <tr>\n      <th>4051682</th>\n      <td>1641</td>\n      <td>2036.224360</td>\n      <td>5930</td>\n      <td>-4289</td>\n      <td>-3893.775640</td>\n    </tr>\n    <tr>\n      <th>4057734</th>\n      <td>1702</td>\n      <td>1983.840546</td>\n      <td>4183</td>\n      <td>-2481</td>\n      <td>-2199.159454</td>\n    </tr>\n  </tbody>\n</table>\n<p>2563 rows × 5 columns</p>\n</div>"
     },
     "execution_count": 45,
     "metadata": {},
     "output_type": "execute_result"
    }
   ],
   "source": [
    "d = {'eta': train_p1_geo_x['eta'], 'seldon': train_pred_geo, 'ata': train_p1_geo_y, 'eta - ata': train_p1_geo_x['eta'] - train_p1_geo_y, 'seldon - ata': train_pred_geo - train_p1_geo_y}\n",
    "df = pd.DataFrame(data=d)\n",
    "df[abs(df['eta - ata']) > 2200]"
   ],
   "metadata": {
    "collapsed": false,
    "pycharm": {
     "name": "#%%\n"
    }
   }
  },
  {
   "cell_type": "code",
   "execution_count": 49,
   "outputs": [
    {
     "data": {
      "text/plain": "accepted_driver_id                                                          798945\ncreated_at                                                     2022-08-02 07:30:31\npassenger_id                                                              15448941\nsource_lat                                                                35.69907\nsource_lng                                                               51.396088\ndestination_lat                                                          35.739376\ndestination_lng                                                          51.147438\neta                                                                           1679\nprovider                                                             smapp-same-dc\nata                                                                          10758\nride_id                                                                 4714926571\ncity                                                                             1\ndriver_id                                                                   798945\na_t_a_result.arrival_a_t_a                                                     167\na_t_a_result.boarding_a_t_a                                                    3.0\na_t_a_result.ride_a_t_a                                                      10723\na_t_a_result.arrival_probe_result.probe.point.lat                        35.699108\na_t_a_result.arrival_probe_result.probe.point.lon                        51.396076\na_t_a_result.arrival_probe_result.probe.timestamp                     1659409427.0\na_t_a_result.arrival_probe_result.confidence                                   1.0\na_t_a_result.arrival_probe_result.h3_index                         8c2cf3016ad27ff\na_t_a_result.arrival_probe_result.k_ring_level                                   0\na_t_a_result.boarding_probe_result.probe.point.lat                       35.699108\na_t_a_result.boarding_probe_result.probe.point.lon                       51.396076\na_t_a_result.boarding_probe_result.probe.timestamp                    1659409430.0\na_t_a_result.boarding_probe_result.confidence                                  1.0\na_t_a_result.boarding_probe_result.h3_index                        8c2cf3016ad27ff\na_t_a_result.boarding_probe_result.k_ring_level                                  0\na_t_a_result.final_destination_probe_result.probe.point.lat               35.69907\na_t_a_result.final_destination_probe_result.probe.point.lon              51.396088\na_t_a_result.final_destination_probe_result.probe.timestamp             1659420301\na_t_a_result.final_destination_probe_result.confidence                         0.0\na_t_a_result.final_destination_probe_result.h3_index               8c2cf3016ad27ff\na_t_a_result.final_destination_probe_result.k_ring_level                         4\na_t_a_result.destination_probe_result.probe.point.lat                    35.738976\na_t_a_result.destination_probe_result.probe.point.lon                    51.147354\na_t_a_result.destination_probe_result.probe.timestamp                 1659411779.0\na_t_a_result.destination_probe_result.confidence                          0.591716\na_t_a_result.destination_probe_result.h3_index                     8c2cf3c4ea5e3ff\na_t_a_result.destination_probe_result.k_ring_level                               2\na_t_a_result.extra_destination_probe_result.probe.point.lat                    0.0\na_t_a_result.extra_destination_probe_result.probe.point.lon                    0.0\na_t_a_result.extra_destination_probe_result.probe.timestamp                    0.0\na_t_a_result.extra_destination_probe_result.confidence                         0.0\na_t_a_result.extra_destination_probe_result.h3_index                           NaN\na_t_a_result.extra_destination_probe_result.k_ring_level                         0\npickup_a_d_d_result.distance                                                 1.098\npickup_a_d_d_result.confidence                                                 1.0\npickup_a_d_d_result.route_ratio                                                0.0\npickup_a_d_d_result.g_p_s_ratio                                           0.000919\nride_a_d_d_result.distance                                               90.528732\nride_a_d_d_result.confidence                                              0.907817\nride_a_d_d_result.route_ratio                                                  0.0\nride_a_d_d_result.g_p_s_ratio                                              0.66636\ntotal_a_d_d_confidence                                                    0.917919\nin_ride_allotment                                                              0.0\ne_d_d                                                                          0.0\nclickhouse_time                                                2022-08-02 10:33:29\nhash                                                           8802838757405480920\nName: 38985, dtype: object"
     },
     "execution_count": 49,
     "metadata": {},
     "output_type": "execute_result"
    }
   ],
   "source": [
    "rides_with_id.loc[38985]"
   ],
   "metadata": {
    "collapsed": false,
    "pycharm": {
     "name": "#%%\n"
    }
   }
  },
  {
   "cell_type": "code",
   "execution_count": 111,
   "outputs": [
    {
     "data": {
      "text/plain": "3476.0"
     },
     "execution_count": 111,
     "metadata": {},
     "output_type": "execute_result"
    }
   ],
   "source": [
    "1659450530 - 1659447054.0"
   ],
   "metadata": {
    "collapsed": false,
    "pycharm": {
     "name": "#%%\n"
    }
   }
  },
  {
   "cell_type": "code",
   "execution_count": 100,
   "outputs": [
    {
     "data": {
      "text/plain": "602"
     },
     "execution_count": 100,
     "metadata": {},
     "output_type": "execute_result"
    }
   ],
   "source": [
    "train_p1_geo_y.loc[5]"
   ],
   "metadata": {
    "collapsed": false,
    "pycharm": {
     "name": "#%%\n"
    }
   }
  },
  {
   "cell_type": "code",
   "execution_count": 85,
   "outputs": [
    {
     "data": {
      "text/plain": "accepted_driver_id                                                          272800\ncreated_at                                                     2022-08-02 14:30:46\npassenger_id                                                              23145890\nsource_lat                                                               35.795856\nsource_lng                                                               51.451664\ndestination_lat                                                          35.810123\ndestination_lng                                                          51.459946\neta                                                                            506\nprovider                                                             smapp-same-dc\nata                                                                           1261\nride_id                                                                 4717549146\ncity                                                                             1\ndriver_id                                                                   272800\na_t_a_result.arrival_a_t_a                                                     222\na_t_a_result.boarding_a_t_a                                                    1.0\na_t_a_result.ride_a_t_a                                                       1871\na_t_a_result.arrival_probe_result.probe.point.lat                        35.795773\na_t_a_result.arrival_probe_result.probe.point.lon                        51.451824\na_t_a_result.arrival_probe_result.probe.timestamp                     1659434747.0\na_t_a_result.arrival_probe_result.confidence                                   1.0\na_t_a_result.arrival_probe_result.h3_index                         8c2cf300cd6bbff\na_t_a_result.arrival_probe_result.k_ring_level                                   0\na_t_a_result.boarding_probe_result.probe.point.lat                       35.795773\na_t_a_result.boarding_probe_result.probe.point.lon                       51.451824\na_t_a_result.boarding_probe_result.probe.timestamp                    1659434748.0\na_t_a_result.boarding_probe_result.confidence                                  1.0\na_t_a_result.boarding_probe_result.h3_index                        8c2cf300cd6bbff\na_t_a_result.boarding_probe_result.k_ring_level                                  0\na_t_a_result.final_destination_probe_result.probe.point.lat              35.809639\na_t_a_result.final_destination_probe_result.probe.point.lon              51.459507\na_t_a_result.final_destination_probe_result.probe.timestamp             1659436619\na_t_a_result.final_destination_probe_result.confidence                    0.350128\na_t_a_result.final_destination_probe_result.h3_index               8c2cf302b7a6bff\na_t_a_result.final_destination_probe_result.k_ring_level                         4\na_t_a_result.destination_probe_result.probe.point.lat                    35.809639\na_t_a_result.destination_probe_result.probe.point.lon                    51.459507\na_t_a_result.destination_probe_result.probe.timestamp                 1659436619.0\na_t_a_result.destination_probe_result.confidence                          0.350128\na_t_a_result.destination_probe_result.h3_index                     8c2cf302b7a6bff\na_t_a_result.destination_probe_result.k_ring_level                               4\na_t_a_result.extra_destination_probe_result.probe.point.lat                    0.0\na_t_a_result.extra_destination_probe_result.probe.point.lon                    0.0\na_t_a_result.extra_destination_probe_result.probe.timestamp                    0.0\na_t_a_result.extra_destination_probe_result.confidence                         0.0\na_t_a_result.extra_destination_probe_result.h3_index                           NaN\na_t_a_result.extra_destination_probe_result.k_ring_level                         0\npickup_a_d_d_result.distance                                                 1.558\npickup_a_d_d_result.confidence                                                 1.0\npickup_a_d_d_result.route_ratio                                                0.0\npickup_a_d_d_result.g_p_s_ratio                                           0.005319\nride_a_d_d_result.distance                                                   5.162\nride_a_d_d_result.confidence                                                   1.0\nride_a_d_d_result.route_ratio                                                  0.0\nride_a_d_d_result.g_p_s_ratio                                                  1.0\ntotal_a_d_d_confidence                                                         1.0\nin_ride_allotment                                                              0.0\ne_d_d                                                                          0.0\nclickhouse_time                                                2022-08-02 15:07:46\nhash                                                           6269035811203202785\nName: 1168, dtype: object"
     },
     "execution_count": 85,
     "metadata": {},
     "output_type": "execute_result"
    }
   ],
   "source": [
    "rides_with_id.loc[1168]"
   ],
   "metadata": {
    "collapsed": false,
    "pycharm": {
     "name": "#%%\n"
    }
   }
  },
  {
   "cell_type": "code",
   "execution_count": 160,
   "outputs": [],
   "source": [],
   "metadata": {
    "collapsed": false,
    "pycharm": {
     "name": "#%%\n"
    }
   }
  },
  {
   "cell_type": "code",
   "execution_count": 163,
   "outputs": [
    {
     "name": "stdout",
     "output_type": "stream",
     "text": [
      "ETA train MAE 1700.089602299952\n",
      "prediction train MAE 391.8828847826638\n",
      "ETA test MAE  1694.576439790576\n",
      "prediction test MAE 380.4741775617792\n",
      "ETA train MSE 3238072.5486344034\n",
      "prediction train MSE 341481.57597539\n",
      "ETA test MSE  3154440.089528796\n",
      "prediction test MSE 280567.6058180186\n",
      "ETA train explained_variance_score 0.07859980641326159\n",
      "prediction train explained_variance_score 0.09525520688694078\n",
      "ETA test explained_variance_score  0.09515334409077303\n",
      "prediction test explained_variance_score 0.10264539398016503\n",
      "ETA train median_absolute_error 1522.0\n",
      "prediction train median_absolute_error 320.54520771353054\n",
      "ETA test median_absolute_error  1525.0\n",
      "prediction test median_absolute_error 320.9049128872866\n",
      "ETA train r2_score -7.579172301554692\n",
      "prediction train r2_score 0.09525520688694078\n",
      "ETA test r2_score  -9.091132059069732\n",
      "prediction test r2_score 0.10245727246334457\n",
      "ETA train MAPE 0.7916681339449584\n",
      "prediction train MAPE 0.17171132174216008\n",
      "ETA test MAPE  0.7898949720861153\n",
      "prediction test MAPE 0.16996273925933755\n"
     ]
    }
   ],
   "source": [
    "print(\"ETA train MAE\", mean_absolute_error(train_p1_geo_y, train_p1_geo_x['eta']))\n",
    "print(\"prediction train MAE\", mean_absolute_error(train_p1_geo_y, train_pred_geo))\n",
    "\n",
    "print(\"ETA test MAE \", mean_absolute_error(test_p1_geo_y, test_p1_geo_x['eta']))\n",
    "print(\"prediction test MAE\", mean_absolute_error(test_p1_geo_y, test_pred_geo))\n",
    "\n",
    "\n",
    "print(\"ETA train MSE\", mean_squared_error(train_p1_geo_y, train_p1_geo_x['eta']))\n",
    "print(\"prediction train MSE\", mean_squared_error(train_p1_geo_y, train_pred_geo))\n",
    "\n",
    "print(\"ETA test MSE \", mean_squared_error(test_p1_geo_y, test_p1_geo_x['eta']))\n",
    "print(\"prediction test MSE\", mean_squared_error(test_p1_geo_y, test_pred_geo))\n",
    "\n",
    "\n",
    "print(\"ETA train explained_variance_score\", explained_variance_score(train_p1_geo_y, train_p1_geo_x['eta']))\n",
    "print(\"prediction train explained_variance_score\", explained_variance_score(train_p1_geo_y, train_pred_geo))\n",
    "\n",
    "print(\"ETA test explained_variance_score \", explained_variance_score(test_p1_geo_y, test_p1_geo_x['eta']))\n",
    "print(\"prediction test explained_variance_score\", explained_variance_score(test_p1_geo_y, test_pred_geo))\n",
    "\n",
    "\n",
    "print(\"ETA train median_absolute_error\", median_absolute_error(train_p1_geo_y, train_p1_geo_x['eta']))\n",
    "print(\"prediction train median_absolute_error\", median_absolute_error(train_p1_geo_y, train_pred_geo))\n",
    "\n",
    "print(\"ETA test median_absolute_error \", median_absolute_error(test_p1_geo_y, test_p1_geo_x['eta']))\n",
    "print(\"prediction test median_absolute_error\", median_absolute_error(test_p1_geo_y, test_pred_geo))\n",
    "\n",
    "\n",
    "print(\"ETA train r2_score\", r2_score(train_p1_geo_y, train_p1_geo_x['eta']))\n",
    "print(\"prediction train r2_score\", r2_score(train_p1_geo_y, train_pred_geo))\n",
    "\n",
    "print(\"ETA test r2_score \", r2_score(test_p1_geo_y, test_p1_geo_x['eta']))\n",
    "print(\"prediction test r2_score\", r2_score(test_p1_geo_y, test_pred_geo))\n",
    "\n",
    "\n",
    "print(\"ETA train MAPE\", mean_absolute_percentage_error(train_p1_geo_y, train_p1_geo_x['eta']))\n",
    "print(\"prediction train MAPE\", mean_absolute_percentage_error(train_p1_geo_y, train_pred_geo))\n",
    "\n",
    "print(\"ETA test MAPE \", mean_absolute_percentage_error(test_p1_geo_y, test_p1_geo_x['eta']))\n",
    "print(\"prediction test MAPE\", mean_absolute_percentage_error(test_p1_geo_y, test_pred_geo))"
   ],
   "metadata": {
    "collapsed": false,
    "pycharm": {
     "name": "#%%\n"
    }
   }
  },
  {
   "cell_type": "code",
   "execution_count": 46,
   "outputs": [
    {
     "name": "stdout",
     "output_type": "stream",
     "text": [
      "[ 0.95267888  0.03992745  0.01639903  0.14161629  0.07104881 -0.00869313\n",
      " -0.01985985]\n",
      "0.027375837176890544\n"
     ]
    }
   ],
   "source": [
    "train_p4_geo_x_normalized = (train_p4_geo_x - train_p4_geo_x.min()) / (train_p4_geo_x.max() - train_p4_geo_x.min())\n",
    "train_p4_geo_y_normalized = (train_p4_geo_y - train_p4_geo_y.min()) / (train_p4_geo_y.max() - train_p4_geo_y.min())\n",
    "# test_p4_geo_x_normalized = (test_p4_geo_x - train_p4_geo_x.min()) / (train_p4_geo_x.max() - train_p4_geo_x.min())\n",
    "# test_p4_geo_y_normalized = (test_p4_geo_y - train_p4_geo_y.min()) / (train_p4_geo_y.max() - train_p4_geo_y.min())\n",
    "\n",
    "reg_p4_geo_normalized = LinearRegression().fit(train_p4_geo_x_normalized, train_p4_geo_y_normalized)\n",
    "print(reg_p4_geo_normalized.coef_)\n",
    "print(reg_p4_geo_normalized.intercept_)"
   ],
   "metadata": {
    "collapsed": false,
    "pycharm": {
     "name": "#%%\n"
    }
   }
  },
  {
   "cell_type": "code",
   "execution_count": 39,
   "outputs": [
    {
     "name": "stdout",
     "output_type": "stream",
     "text": [
      "ETA train MAE 558.6899742605314\n",
      "prediction train MAE 468.32320172854264\n",
      "ETA test MAE  609.4802658229795\n",
      "prediction test MAE 532.3905549659162\n",
      "ETA train MSE 724259.5492995734\n",
      "prediction train MSE 474510.4137146755\n",
      "ETA test MSE  1005379.4640005743\n",
      "prediction test MSE 706504.3378821977\n",
      "ETA train explained_variance_score 0.5486781823287357\n",
      "prediction train explained_variance_score 0.5735345690702949\n",
      "ETA test explained_variance_score  0.4753275329161858\n",
      "prediction test explained_variance_score 0.5084530615897137\n",
      "ETA train median_absolute_error 353.0\n",
      "prediction train median_absolute_error 347.19482421875\n",
      "ETA test median_absolute_error  352.0\n",
      "prediction test median_absolute_error 366.8814697265625\n",
      "ETA train r2_score 0.3490729563150865\n",
      "prediction train r2_score 0.5735345690702917\n",
      "ETA test r2_score  0.2984759208241079\n",
      "prediction test r2_score 0.5070221515223838\n",
      "ETA train MAPE 0.16697790395524195\n",
      "prediction train MAPE 0.1610154609737745\n",
      "ETA test MAPE  0.1730999583791752\n",
      "prediction test MAPE 0.17448530280936583\n"
     ]
    }
   ],
   "source": [
    "print(\"ETA train MAE\", mean_absolute_error(train_p4_h3_y, train_p4_h3_x[:, 17]))\n",
    "print(\"prediction train MAE\", mean_absolute_error(train_p4_h3_y, train_pred_h3))\n",
    "\n",
    "print(\"ETA test MAE \", mean_absolute_error(test_p4_h3_y, test_p4_h3_x[:, 17]))\n",
    "print(\"prediction test MAE\", mean_absolute_error(test_p4_h3_y, test_pred_h3))\n",
    "\n",
    "\n",
    "print(\"ETA train MSE\", mean_squared_error(train_p4_h3_y, train_p4_h3_x[:, 17]))\n",
    "print(\"prediction train MSE\", mean_squared_error(train_p4_h3_y, train_pred_h3))\n",
    "\n",
    "print(\"ETA test MSE \", mean_squared_error(test_p4_h3_y, test_p4_h3_x[:, 17]))\n",
    "print(\"prediction test MSE\", mean_squared_error(test_p4_h3_y, test_pred_h3))\n",
    "\n",
    "\n",
    "print(\"ETA train explained_variance_score\", explained_variance_score(train_p4_h3_y, train_p4_h3_x[:, 17]))\n",
    "print(\"prediction train explained_variance_score\", explained_variance_score(train_p4_h3_y, train_pred_h3))\n",
    "\n",
    "print(\"ETA test explained_variance_score \", explained_variance_score(test_p4_h3_y, test_p4_h3_x[:, 17]))\n",
    "print(\"prediction test explained_variance_score\", explained_variance_score(test_p4_h3_y, test_pred_h3))\n",
    "\n",
    "\n",
    "print(\"ETA train median_absolute_error\", median_absolute_error(train_p4_h3_y, train_p4_h3_x[:, 17]))\n",
    "print(\"prediction train median_absolute_error\", median_absolute_error(train_p4_h3_y, train_pred_h3))\n",
    "\n",
    "print(\"ETA test median_absolute_error \", median_absolute_error(test_p4_h3_y, test_p4_h3_x[:, 17]))\n",
    "print(\"prediction test median_absolute_error\", median_absolute_error(test_p4_h3_y, test_pred_h3))\n",
    "\n",
    "\n",
    "print(\"ETA train r2_score\", r2_score(train_p4_h3_y, train_p4_h3_x[:, 17]))\n",
    "print(\"prediction train r2_score\", r2_score(train_p4_h3_y, train_pred_h3))\n",
    "\n",
    "print(\"ETA test r2_score \", r2_score(test_p4_h3_y, test_p4_h3_x[:, 17]))\n",
    "print(\"prediction test r2_score\", r2_score(test_p4_h3_y, test_pred_h3))\n",
    "\n",
    "\n",
    "print(\"ETA train MAPE\", mean_absolute_percentage_error(train_p4_h3_y, train_p4_h3_x[:, 17]))\n",
    "print(\"prediction train MAPE\", mean_absolute_percentage_error(train_p4_h3_y, train_pred_h3))\n",
    "\n",
    "print(\"ETA test MAPE \", mean_absolute_percentage_error(test_p4_h3_y, test_p4_h3_x[:, 17]))\n",
    "print(\"prediction test MAPE\", mean_absolute_percentage_error(test_p4_h3_y, test_pred_h3))"
   ],
   "metadata": {
    "collapsed": false,
    "pycharm": {
     "name": "#%%\n"
    }
   }
  },
  {
   "cell_type": "code",
   "execution_count": 47,
   "outputs": [
    {
     "name": "stdout",
     "output_type": "stream",
     "text": [
      "[ 3.38839243e+11  3.38839243e+11  3.38839244e+11  3.38839243e+11\n",
      "  3.38839243e+11  3.38839243e+11  3.38839243e+11 -1.81469415e+11\n",
      " -1.81469415e+11 -1.81469415e+11 -1.81469415e+11 -1.81469415e+11\n",
      " -1.81469415e+11 -1.81469415e+11 -1.81469415e+11 -1.81469415e+11\n",
      " -1.81469415e+11  1.10072538e+00 -4.58049363e-01 -1.50679642e+02]\n",
      "-17055362.3876918\n"
     ]
    }
   ],
   "source": [
    "train_p4_h3_x_normalized = (train_p4_h3_x - train_p4_h3_x.min()) / (train_p4_h3_x.max() - train_p4_h3_x.min())\n",
    "train_p4_h3_y_normalized = (train_p4_h3_y - train_p4_h3_y.min()) / (train_p4_h3_y.max() - train_p4_h3_y.min())\n",
    "# test_p4_h3_x_normalized = (test_p4_h3_x - train_p4_h3_x.min()) / (train_p4_h3_x.max() - train_p4_h3_x.min())\n",
    "# test_p4_h3_y_normalized = (test_p4_h3_y - train_p4_h3_y.min()) / (train_p4_h3_y.max() - train_p4_h3_y.min())\n",
    "\n",
    "reg_p4_h3_normalized = LinearRegression().fit(train_p4_h3_x_normalized, train_p4_h3_y_normalized)\n",
    "print(reg_p4_h3_normalized.coef_)\n",
    "print(reg_p4_h3_normalized.intercept_)"
   ],
   "metadata": {
    "collapsed": false,
    "pycharm": {
     "name": "#%%\n"
    }
   }
  },
  {
   "cell_type": "code",
   "execution_count": null,
   "outputs": [],
   "source": [
    "%set_env AWS_ACCESS_KEY_ID=SokXIEc1g9vNqCJt4CSObyk6vumoOOPQ\n",
    "%set_env AWS_SECRET_ACCESS_KEY=QNyTpGhFjUTYSP9VKmfhpUizwKr0t8gk\n",
    "%set_env MLFLOW_S3_ENDPOINT_URL=https://minio-clustered-smapp-storage.apps.private.teh-1.snappcloud.io\n",
    "\n",
    "# create experiment\n",
    "%set_env MLFLOW_TRACKING_URI=https://mlflow.apps.private.okd4.teh-1.snappcloud.io/\n",
    "# mlflow experiments create --experiment-name elahe\n",
    "\n",
    "# run script under experiment\n",
    "%set_env MLFLOW_EXPERIMENT_NAME=elahe\n",
    "# cd save/\n",
    "# python test.py"
   ],
   "metadata": {
    "collapsed": false,
    "pycharm": {
     "name": "#%%\n"
    }
   }
  },
  {
   "cell_type": "code",
   "execution_count": null,
   "outputs": [],
   "source": [
    "! echo $AWS_ACCESS_KEY_ID\n",
    "! echo $AWS_SECRET_ACCESS_KEY\n",
    "! echo $MLFLOW_S3_ENDPOINT_URL\n",
    "! echo $MLFLOW_TRACKING_URI\n",
    "! echo $MLFLOW_EXPERIMENT_NAME"
   ],
   "metadata": {
    "collapsed": false,
    "pycharm": {
     "name": "#%%\n"
    }
   }
  },
  {
   "cell_type": "code",
   "execution_count": null,
   "outputs": [],
   "source": [
    "# with mlflow.start_run(run_name=\"regression\") as run:\n",
    "#     # Log the sklearn model and register as version 1\n",
    "#     mlflow.sklearn.log_model(\n",
    "#         sk_model=reg_p4,\n",
    "#         artifact_path=\"regression\",\n",
    "#         registered_model_name=\"reg-model\"\n",
    "#     )"
   ],
   "metadata": {
    "collapsed": false,
    "pycharm": {
     "name": "#%%\n"
    }
   }
  },
  {
   "cell_type": "code",
   "execution_count": null,
   "outputs": [],
   "source": [
    "# with mlflow.start_run(run_name=\"YOUR_RUN_NAME\") as run:\n",
    "#     params = {\"n_estimators\": 5, \"random_state\": 42}\n",
    "#     sk_learn_rfr = RandomForestRegressor(**params)\n",
    "#\n",
    "#     # Log parameters and metrics using the MLflow APIs\n",
    "#     mlflow.log_params(params)\n",
    "#     mlflow.log_param(\"param_1\", randint(0, 100))\n",
    "#     mlflow.log_metrics({\"metric_1\": random(), \"metric_2\": random() + 1})\n",
    "#\n",
    "#     # Log the sklearn model and register as version 1\n",
    "#     mlflow.sklearn.log_model(\n",
    "#         sk_model=sk_learn_rfr,\n",
    "#         artifact_path=\"sklearn-model\",\n",
    "#         registered_model_name=\"sk-learn-random-forest-reg-model\"\n",
    "#     )"
   ],
   "metadata": {
    "collapsed": false,
    "pycharm": {
     "name": "#%%\n"
    }
   }
  }
 ],
 "metadata": {
  "kernelspec": {
   "display_name": "Python 3",
   "language": "python",
   "name": "python3"
  },
  "language_info": {
   "codemirror_mode": {
    "name": "ipython",
    "version": 2
   },
   "file_extension": ".py",
   "mimetype": "text/x-python",
   "name": "python",
   "nbconvert_exporter": "python",
   "pygments_lexer": "ipython2",
   "version": "2.7.6"
  }
 },
 "nbformat": 4,
 "nbformat_minor": 0
}