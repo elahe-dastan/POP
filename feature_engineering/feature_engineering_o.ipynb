{
 "cells": [
  {
   "cell_type": "code",
   "execution_count": 1,
   "metadata": {
    "collapsed": true,
    "pycharm": {
     "name": "#%%\n"
    }
   },
   "outputs": [],
   "source": [
    "import pandas as pd\n",
    "import numpy as np\n",
    "from sklearn.linear_model import LinearRegression\n",
    "from sklearn.metrics import mean_absolute_error, mean_squared_error, explained_variance_score, median_absolute_error, r2_score, mean_absolute_percentage_error\n",
    "from sklearn.model_selection import train_test_split\n",
    "from scipy.stats import *\n",
    "import h3\n",
    "from sklearn.preprocessing import OneHotEncoder\n",
    "from sklearn.compose import ColumnTransformer\n",
    "from datetime import datetime\n",
    "from math import floor\n",
    "import matplotlib.pyplot as plt\n",
    "import mlflow\n",
    "import mlflow.sklearn"
   ]
  },
  {
   "cell_type": "code",
   "execution_count": 2,
   "outputs": [],
   "source": [
    "ride_columns = ['accepted_driver_id', 'created_at', 'passenger_id', 'source_lat',\n",
    "       'source_lng', 'destination_lat', 'destination_lng', 'eta', 'provider',\n",
    "       'ata', 'id', 'city']\n",
    "\n",
    "khatkesh_columns = ['ride_id','driver_id','a_t_a_result.arrival_a_t_a','a_t_a_result.boarding_a_t_a','a_t_a_result.ride_a_t_a','a_t_a_result.arrival_probe_result.probe.point.lat','a_t_a_result.arrival_probe_result.probe.point.lon','a_t_a_result.arrival_probe_result.probe.timestamp','a_t_a_result.arrival_probe_result.confidence','a_t_a_result.arrival_probe_result.h3_index', 'a_t_a_result.arrival_probe_result.k_ring_level','a_t_a_result.boarding_probe_result.probe.point.lat','a_t_a_result.boarding_probe_result.probe.point.lon','a_t_a_result.boarding_probe_result.probe.timestamp','a_t_a_result.boarding_probe_result.confidence','a_t_a_result.boarding_probe_result.h3_index','a_t_a_result.boarding_probe_result.k_ring_level','a_t_a_result.final_destination_probe_result.probe.point.lat','a_t_a_result.final_destination_probe_result.probe.point.lon','a_t_a_result.final_destination_probe_result.probe.timestamp','a_t_a_result.final_destination_probe_result.confidence','a_t_a_result.final_destination_probe_result.h3_index','a_t_a_result.final_destination_probe_result.k_ring_level','a_t_a_result.destination_probe_result.probe.point.lat','a_t_a_result.destination_probe_result.probe.point.lon','a_t_a_result.destination_probe_result.probe.timestamp','a_t_a_result.destination_probe_result.confidence','a_t_a_result.destination_probe_result.h3_index','a_t_a_result.destination_probe_result.k_ring_level','a_t_a_result.extra_destination_probe_result.probe.point.lat','a_t_a_result.extra_destination_probe_result.probe.point.lon','a_t_a_result.extra_destination_probe_result.probe.timestamp','a_t_a_result.extra_destination_probe_result.confidence','a_t_a_result.extra_destination_probe_result.h3_index','a_t_a_result.extra_destination_probe_result.k_ring_level','pickup_a_d_d_result.distance','pickup_a_d_d_result.confidence','pickup_a_d_d_result.route_ratio','pickup_a_d_d_result.g_p_s_ratio','ride_a_d_d_result.distance','ride_a_d_d_result.confidence','ride_a_d_d_result.route_ratio','ride_a_d_d_result.g_p_s_ratio','total_a_d_d_confidence','in_ride_allotment','e_d_d','clickhouse_time','hash']\n",
    "\n",
    "train_dates = ['2022-08-02', '2022-08-03', '2022-08-04', '2022-08-05', '2022-08-06', '2022-08-07', '2022-08-08',\n",
    "               '2022-08-09', '2022-08-10', '2022-08-11', '2022-08-12', '2022-08-13', '2022-08-14', '2022-08-15',\n",
    "               '2022-08-16', '2022-08-17', '2022-08-18', '2022-08-19', '2022-08-20', '2022-08-21', '2022-08-22',\n",
    "               '2022-08-23', '2022-08-24', '2022-08-25', '2022-08-26', '2022-08-27', '2022-08-28', '2022-08-29',\n",
    "               '2022-08-30', '2022-08-31', '2022-09-01', '2022-09-02', '2022-09-03', '2022-09-04', '2022-09-05',\n",
    "               '2022-09-06', '2022-09-07', '2022-09-08', '2022-09-09', '2022-09-10']\n",
    "\n",
    "train_holidays = ['2022-08-07', '2022-08-08']\n",
    "\n",
    "test_dates = ['2022-09-11', '2022-09-12', '2022-09-13', '2022-09-14', '2022-09-15', '2022-09-16', '2022-09-17',\n",
    "              '2022-09-18', '2022-09-19', '2022-09-20', '2022-09-21', '2022-09-22', '2022-09-23', '2022-09-24',\n",
    "              '2022-09-25', '2022-09-26', '2022-09-27', '2022-09-28', '2022-09-29', '2022-09-30', '2022-10-01',\n",
    "              '2022-10-02', '2022-10-03', '2022-10-04', '2022-10-05', '2022-10-06', '2022-10-07', '2022-10-08',\n",
    "              '2022-10-09']\n",
    "\n",
    "test_holidays = ['2022-09-17', '2022-09-25', '2022-09-27', '2022-10-05']"
   ],
   "metadata": {
    "collapsed": false,
    "pycharm": {
     "name": "#%%\n"
    }
   }
  },
  {
   "cell_type": "code",
   "execution_count": 3,
   "outputs": [
    {
     "name": "stdout",
     "output_type": "stream",
     "text": [
      "<class 'pandas.core.frame.DataFrame'>\n",
      "RangeIndex: 4063341 entries, 0 to 4063340\n",
      "Data columns (total 59 columns):\n",
      " #   Column                                                       Dtype  \n",
      "---  ------                                                       -----  \n",
      " 0   accepted_driver_id                                           int64  \n",
      " 1   created_at                                                   object \n",
      " 2   passenger_id                                                 int64  \n",
      " 3   source_lat                                                   float64\n",
      " 4   source_lng                                                   float64\n",
      " 5   destination_lat                                              float64\n",
      " 6   destination_lng                                              float64\n",
      " 7   eta                                                          int64  \n",
      " 8   provider                                                     object \n",
      " 9   ata                                                          int64  \n",
      " 10  ride_id                                                      int64  \n",
      " 11  city                                                         int64  \n",
      " 12  driver_id                                                    int64  \n",
      " 13  a_t_a_result.arrival_a_t_a                                   int64  \n",
      " 14  a_t_a_result.boarding_a_t_a                                  float64\n",
      " 15  a_t_a_result.ride_a_t_a                                      int64  \n",
      " 16  a_t_a_result.arrival_probe_result.probe.point.lat            float64\n",
      " 17  a_t_a_result.arrival_probe_result.probe.point.lon            float64\n",
      " 18  a_t_a_result.arrival_probe_result.probe.timestamp            float64\n",
      " 19  a_t_a_result.arrival_probe_result.confidence                 float64\n",
      " 20  a_t_a_result.arrival_probe_result.h3_index                   object \n",
      " 21  a_t_a_result.arrival_probe_result.k_ring_level               int64  \n",
      " 22  a_t_a_result.boarding_probe_result.probe.point.lat           float64\n",
      " 23  a_t_a_result.boarding_probe_result.probe.point.lon           float64\n",
      " 24  a_t_a_result.boarding_probe_result.probe.timestamp           float64\n",
      " 25  a_t_a_result.boarding_probe_result.confidence                float64\n",
      " 26  a_t_a_result.boarding_probe_result.h3_index                  object \n",
      " 27  a_t_a_result.boarding_probe_result.k_ring_level              int64  \n",
      " 28  a_t_a_result.final_destination_probe_result.probe.point.lat  float64\n",
      " 29  a_t_a_result.final_destination_probe_result.probe.point.lon  float64\n",
      " 30  a_t_a_result.final_destination_probe_result.probe.timestamp  int64  \n",
      " 31  a_t_a_result.final_destination_probe_result.confidence       float64\n",
      " 32  a_t_a_result.final_destination_probe_result.h3_index         object \n",
      " 33  a_t_a_result.final_destination_probe_result.k_ring_level     int64  \n",
      " 34  a_t_a_result.destination_probe_result.probe.point.lat        float64\n",
      " 35  a_t_a_result.destination_probe_result.probe.point.lon        float64\n",
      " 36  a_t_a_result.destination_probe_result.probe.timestamp        float64\n",
      " 37  a_t_a_result.destination_probe_result.confidence             float64\n",
      " 38  a_t_a_result.destination_probe_result.h3_index               object \n",
      " 39  a_t_a_result.destination_probe_result.k_ring_level           int64  \n",
      " 40  a_t_a_result.extra_destination_probe_result.probe.point.lat  float64\n",
      " 41  a_t_a_result.extra_destination_probe_result.probe.point.lon  float64\n",
      " 42  a_t_a_result.extra_destination_probe_result.probe.timestamp  float64\n",
      " 43  a_t_a_result.extra_destination_probe_result.confidence       float64\n",
      " 44  a_t_a_result.extra_destination_probe_result.h3_index         float64\n",
      " 45  a_t_a_result.extra_destination_probe_result.k_ring_level     int64  \n",
      " 46  pickup_a_d_d_result.distance                                 float64\n",
      " 47  pickup_a_d_d_result.confidence                               float64\n",
      " 48  pickup_a_d_d_result.route_ratio                              float64\n",
      " 49  pickup_a_d_d_result.g_p_s_ratio                              float64\n",
      " 50  ride_a_d_d_result.distance                                   float64\n",
      " 51  ride_a_d_d_result.confidence                                 float64\n",
      " 52  ride_a_d_d_result.route_ratio                                float64\n",
      " 53  ride_a_d_d_result.g_p_s_ratio                                float64\n",
      " 54  total_a_d_d_confidence                                       float64\n",
      " 55  in_ride_allotment                                            float64\n",
      " 56  e_d_d                                                        float64\n",
      " 57  clickhouse_time                                              object \n",
      " 58  hash                                                         uint64 \n",
      "dtypes: float64(36), int64(15), object(7), uint64(1)\n",
      "memory usage: 1.8+ GB\n"
     ]
    }
   ],
   "source": [
    "rides_train = pd.read_csv('../rides_train.csv')\n",
    "rides_train.info()"
   ],
   "metadata": {
    "collapsed": false,
    "pycharm": {
     "name": "#%%\n"
    }
   }
  },
  {
   "cell_type": "code",
   "execution_count": 4,
   "outputs": [
    {
     "name": "stdout",
     "output_type": "stream",
     "text": [
      "<class 'pandas.core.frame.DataFrame'>\n",
      "RangeIndex: 2729988 entries, 0 to 2729987\n",
      "Data columns (total 59 columns):\n",
      " #   Column                                                       Dtype  \n",
      "---  ------                                                       -----  \n",
      " 0   accepted_driver_id                                           int64  \n",
      " 1   created_at                                                   object \n",
      " 2   passenger_id                                                 int64  \n",
      " 3   source_lat                                                   float64\n",
      " 4   source_lng                                                   float64\n",
      " 5   destination_lat                                              float64\n",
      " 6   destination_lng                                              float64\n",
      " 7   eta                                                          int64  \n",
      " 8   provider                                                     object \n",
      " 9   ata                                                          int64  \n",
      " 10  ride_id                                                      int64  \n",
      " 11  city                                                         int64  \n",
      " 12  driver_id                                                    int64  \n",
      " 13  a_t_a_result.arrival_a_t_a                                   int64  \n",
      " 14  a_t_a_result.boarding_a_t_a                                  float64\n",
      " 15  a_t_a_result.ride_a_t_a                                      int64  \n",
      " 16  a_t_a_result.arrival_probe_result.probe.point.lat            float64\n",
      " 17  a_t_a_result.arrival_probe_result.probe.point.lon            float64\n",
      " 18  a_t_a_result.arrival_probe_result.probe.timestamp            float64\n",
      " 19  a_t_a_result.arrival_probe_result.confidence                 float64\n",
      " 20  a_t_a_result.arrival_probe_result.h3_index                   object \n",
      " 21  a_t_a_result.arrival_probe_result.k_ring_level               int64  \n",
      " 22  a_t_a_result.boarding_probe_result.probe.point.lat           float64\n",
      " 23  a_t_a_result.boarding_probe_result.probe.point.lon           float64\n",
      " 24  a_t_a_result.boarding_probe_result.probe.timestamp           float64\n",
      " 25  a_t_a_result.boarding_probe_result.confidence                float64\n",
      " 26  a_t_a_result.boarding_probe_result.h3_index                  object \n",
      " 27  a_t_a_result.boarding_probe_result.k_ring_level              int64  \n",
      " 28  a_t_a_result.final_destination_probe_result.probe.point.lat  float64\n",
      " 29  a_t_a_result.final_destination_probe_result.probe.point.lon  float64\n",
      " 30  a_t_a_result.final_destination_probe_result.probe.timestamp  int64  \n",
      " 31  a_t_a_result.final_destination_probe_result.confidence       float64\n",
      " 32  a_t_a_result.final_destination_probe_result.h3_index         object \n",
      " 33  a_t_a_result.final_destination_probe_result.k_ring_level     int64  \n",
      " 34  a_t_a_result.destination_probe_result.probe.point.lat        float64\n",
      " 35  a_t_a_result.destination_probe_result.probe.point.lon        float64\n",
      " 36  a_t_a_result.destination_probe_result.probe.timestamp        float64\n",
      " 37  a_t_a_result.destination_probe_result.confidence             float64\n",
      " 38  a_t_a_result.destination_probe_result.h3_index               object \n",
      " 39  a_t_a_result.destination_probe_result.k_ring_level           int64  \n",
      " 40  a_t_a_result.extra_destination_probe_result.probe.point.lat  float64\n",
      " 41  a_t_a_result.extra_destination_probe_result.probe.point.lon  float64\n",
      " 42  a_t_a_result.extra_destination_probe_result.probe.timestamp  float64\n",
      " 43  a_t_a_result.extra_destination_probe_result.confidence       float64\n",
      " 44  a_t_a_result.extra_destination_probe_result.h3_index         float64\n",
      " 45  a_t_a_result.extra_destination_probe_result.k_ring_level     int64  \n",
      " 46  pickup_a_d_d_result.distance                                 float64\n",
      " 47  pickup_a_d_d_result.confidence                               float64\n",
      " 48  pickup_a_d_d_result.route_ratio                              float64\n",
      " 49  pickup_a_d_d_result.g_p_s_ratio                              float64\n",
      " 50  ride_a_d_d_result.distance                                   float64\n",
      " 51  ride_a_d_d_result.confidence                                 float64\n",
      " 52  ride_a_d_d_result.route_ratio                                float64\n",
      " 53  ride_a_d_d_result.g_p_s_ratio                                float64\n",
      " 54  total_a_d_d_confidence                                       float64\n",
      " 55  in_ride_allotment                                            float64\n",
      " 56  e_d_d                                                        float64\n",
      " 57  clickhouse_time                                              object \n",
      " 58  hash                                                         uint64 \n",
      "dtypes: float64(36), int64(15), object(7), uint64(1)\n",
      "memory usage: 1.2+ GB\n"
     ]
    }
   ],
   "source": [
    "rides_test = pd.read_csv('../rides_test.csv')\n",
    "rides_test.info()"
   ],
   "metadata": {
    "collapsed": false,
    "pycharm": {
     "name": "#%%\n"
    }
   }
  },
  {
   "cell_type": "code",
   "execution_count": 6,
   "outputs": [
    {
     "data": {
      "text/plain": "         accepted_driver_id           created_at  passenger_id  source_lat  \\\n4                   1389231  2022-08-02 08:34:03       7470502   35.760803   \n7                   2728438  2022-08-02 07:57:27      46320838   35.551586   \n8                   3929597  2022-08-02 14:30:25      50000201   35.417717   \n14                  1747330  2022-08-02 15:10:14      14512880   35.768822   \n17                  3225425  2022-08-02 14:27:08      37976832   35.748501   \n...                     ...                  ...           ...         ...   \n4063317             3600338  2022-09-10 13:22:41      45600791   35.310020   \n4063318              721503  2022-09-10 02:05:49      18806359   35.719933   \n4063330             2547634  2022-09-10 14:17:31      18081143   35.720974   \n4063337             2368196  2022-09-10 15:42:45       5676377   35.724361   \n4063340               45964  2022-09-10 11:29:32      49876941   35.668186   \n\n         source_lng  destination_lat  destination_lng   eta       provider  \\\n4         51.412613        35.680412        51.406525  1295  smapp-same-dc   \n7         51.251617        35.647949        51.399227  1721  smapp-same-dc   \n8         51.795067        35.465965        51.675755  1230  smapp-same-dc   \n14        51.305519        35.765411        51.442303  1641  smapp-same-dc   \n17        51.373596        35.784950        51.459675  1419  smapp-same-dc   \n...             ...              ...              ...   ...            ...   \n4063317   51.730579        35.423836        51.585243  1565  smapp-same-dc   \n4063318   51.335495        35.727440        51.526875  1344  smapp-same-dc   \n4063330   51.498474        35.708061        51.401943  1301  smapp-same-dc   \n4063337   51.402294        35.794140        51.472240  1239  smapp-same-dc   \n4063340   51.361591        35.750282        51.294250  1247  smapp-same-dc   \n\n          ata  ...  pickup_a_d_d_result.g_p_s_ratio  \\\n4        1320  ...                         0.007752   \n7        1726  ...                         0.006329   \n8        1048  ...                         0.009901   \n14       2785  ...                         0.003663   \n17       2136  ...                         0.004292   \n...       ...  ...                              ...   \n4063317  1638  ...                         0.006329   \n4063318  1139  ...                         0.004975   \n4063330  1487  ...                         0.006944   \n4063337  1567  ...                         0.006452   \n4063340  1484  ...                         0.007246   \n\n         ride_a_d_d_result.distance  ride_a_d_d_result.confidence  \\\n4                         24.997999                      1.000000   \n7                         46.188000                      1.000000   \n8                         26.224001                      0.950122   \n14                        41.141998                      1.000000   \n17                        22.626093                      0.769841   \n...                             ...                           ...   \n4063317                   30.001736                      0.768606   \n4063318                   24.430000                      0.594638   \n4063330                   20.761999                      0.992727   \n4063337                   33.134998                      0.877245   \n4063340                   27.271835                      0.928870   \n\n         ride_a_d_d_result.route_ratio  ride_a_d_d_result.g_p_s_ratio  \\\n4                                  0.0                       0.976744   \n7                                  0.0                       1.000000   \n8                                  0.0                       1.000000   \n14                                 0.0                       0.963370   \n17                                 0.0                       0.545064   \n...                                ...                            ...   \n4063317                            0.0                       0.506329   \n4063318                            0.0                       0.079602   \n4063330                            0.0                       0.937500   \n4063337                            0.0                       0.748387   \n4063340                            0.0                       0.942029   \n\n         total_a_d_d_confidence  in_ride_allotment   e_d_d  \\\n4                      1.000000                0.0   0.000   \n7                      1.000000                0.0   0.000   \n8                      0.957399                0.0   0.000   \n14                     1.000000                0.0   0.000   \n17                     0.810101                0.0   0.000   \n...                         ...                ...     ...   \n4063317                0.734278                0.0  21.211   \n4063318                0.591892                0.0  22.188   \n4063330                0.982424                0.0  10.682   \n4063337                0.893184                0.0  14.393   \n4063340                0.938147                0.0  15.186   \n\n             clickhouse_time                  hash  \n4        2022-08-02 09:01:23  16898267108648726188  \n7        2022-08-02 08:29:58  10312041573682854014  \n8        2022-08-02 14:52:35   5706011284955171486  \n14       2022-08-02 16:09:17   8400418949954600245  \n17       2022-08-02 15:15:30   6831010361265584132  \n...                      ...                   ...  \n4063317  2022-09-10 13:57:58  13937156972589334868  \n4063318  2022-09-10 02:38:12   8941506555186050771  \n4063330  2022-09-10 14:51:03  15050861885246709008  \n4063337  2022-09-10 16:13:23  15480662044417010408  \n4063340  2022-09-10 11:56:31   2515673701687260333  \n\n[699188 rows x 59 columns]",
      "text/html": "<div>\n<style scoped>\n    .dataframe tbody tr th:only-of-type {\n        vertical-align: middle;\n    }\n\n    .dataframe tbody tr th {\n        vertical-align: top;\n    }\n\n    .dataframe thead th {\n        text-align: right;\n    }\n</style>\n<table border=\"1\" class=\"dataframe\">\n  <thead>\n    <tr style=\"text-align: right;\">\n      <th></th>\n      <th>accepted_driver_id</th>\n      <th>created_at</th>\n      <th>passenger_id</th>\n      <th>source_lat</th>\n      <th>source_lng</th>\n      <th>destination_lat</th>\n      <th>destination_lng</th>\n      <th>eta</th>\n      <th>provider</th>\n      <th>ata</th>\n      <th>...</th>\n      <th>pickup_a_d_d_result.g_p_s_ratio</th>\n      <th>ride_a_d_d_result.distance</th>\n      <th>ride_a_d_d_result.confidence</th>\n      <th>ride_a_d_d_result.route_ratio</th>\n      <th>ride_a_d_d_result.g_p_s_ratio</th>\n      <th>total_a_d_d_confidence</th>\n      <th>in_ride_allotment</th>\n      <th>e_d_d</th>\n      <th>clickhouse_time</th>\n      <th>hash</th>\n    </tr>\n  </thead>\n  <tbody>\n    <tr>\n      <th>4</th>\n      <td>1389231</td>\n      <td>2022-08-02 08:34:03</td>\n      <td>7470502</td>\n      <td>35.760803</td>\n      <td>51.412613</td>\n      <td>35.680412</td>\n      <td>51.406525</td>\n      <td>1295</td>\n      <td>smapp-same-dc</td>\n      <td>1320</td>\n      <td>...</td>\n      <td>0.007752</td>\n      <td>24.997999</td>\n      <td>1.000000</td>\n      <td>0.0</td>\n      <td>0.976744</td>\n      <td>1.000000</td>\n      <td>0.0</td>\n      <td>0.000</td>\n      <td>2022-08-02 09:01:23</td>\n      <td>16898267108648726188</td>\n    </tr>\n    <tr>\n      <th>7</th>\n      <td>2728438</td>\n      <td>2022-08-02 07:57:27</td>\n      <td>46320838</td>\n      <td>35.551586</td>\n      <td>51.251617</td>\n      <td>35.647949</td>\n      <td>51.399227</td>\n      <td>1721</td>\n      <td>smapp-same-dc</td>\n      <td>1726</td>\n      <td>...</td>\n      <td>0.006329</td>\n      <td>46.188000</td>\n      <td>1.000000</td>\n      <td>0.0</td>\n      <td>1.000000</td>\n      <td>1.000000</td>\n      <td>0.0</td>\n      <td>0.000</td>\n      <td>2022-08-02 08:29:58</td>\n      <td>10312041573682854014</td>\n    </tr>\n    <tr>\n      <th>8</th>\n      <td>3929597</td>\n      <td>2022-08-02 14:30:25</td>\n      <td>50000201</td>\n      <td>35.417717</td>\n      <td>51.795067</td>\n      <td>35.465965</td>\n      <td>51.675755</td>\n      <td>1230</td>\n      <td>smapp-same-dc</td>\n      <td>1048</td>\n      <td>...</td>\n      <td>0.009901</td>\n      <td>26.224001</td>\n      <td>0.950122</td>\n      <td>0.0</td>\n      <td>1.000000</td>\n      <td>0.957399</td>\n      <td>0.0</td>\n      <td>0.000</td>\n      <td>2022-08-02 14:52:35</td>\n      <td>5706011284955171486</td>\n    </tr>\n    <tr>\n      <th>14</th>\n      <td>1747330</td>\n      <td>2022-08-02 15:10:14</td>\n      <td>14512880</td>\n      <td>35.768822</td>\n      <td>51.305519</td>\n      <td>35.765411</td>\n      <td>51.442303</td>\n      <td>1641</td>\n      <td>smapp-same-dc</td>\n      <td>2785</td>\n      <td>...</td>\n      <td>0.003663</td>\n      <td>41.141998</td>\n      <td>1.000000</td>\n      <td>0.0</td>\n      <td>0.963370</td>\n      <td>1.000000</td>\n      <td>0.0</td>\n      <td>0.000</td>\n      <td>2022-08-02 16:09:17</td>\n      <td>8400418949954600245</td>\n    </tr>\n    <tr>\n      <th>17</th>\n      <td>3225425</td>\n      <td>2022-08-02 14:27:08</td>\n      <td>37976832</td>\n      <td>35.748501</td>\n      <td>51.373596</td>\n      <td>35.784950</td>\n      <td>51.459675</td>\n      <td>1419</td>\n      <td>smapp-same-dc</td>\n      <td>2136</td>\n      <td>...</td>\n      <td>0.004292</td>\n      <td>22.626093</td>\n      <td>0.769841</td>\n      <td>0.0</td>\n      <td>0.545064</td>\n      <td>0.810101</td>\n      <td>0.0</td>\n      <td>0.000</td>\n      <td>2022-08-02 15:15:30</td>\n      <td>6831010361265584132</td>\n    </tr>\n    <tr>\n      <th>...</th>\n      <td>...</td>\n      <td>...</td>\n      <td>...</td>\n      <td>...</td>\n      <td>...</td>\n      <td>...</td>\n      <td>...</td>\n      <td>...</td>\n      <td>...</td>\n      <td>...</td>\n      <td>...</td>\n      <td>...</td>\n      <td>...</td>\n      <td>...</td>\n      <td>...</td>\n      <td>...</td>\n      <td>...</td>\n      <td>...</td>\n      <td>...</td>\n      <td>...</td>\n      <td>...</td>\n    </tr>\n    <tr>\n      <th>4063317</th>\n      <td>3600338</td>\n      <td>2022-09-10 13:22:41</td>\n      <td>45600791</td>\n      <td>35.310020</td>\n      <td>51.730579</td>\n      <td>35.423836</td>\n      <td>51.585243</td>\n      <td>1565</td>\n      <td>smapp-same-dc</td>\n      <td>1638</td>\n      <td>...</td>\n      <td>0.006329</td>\n      <td>30.001736</td>\n      <td>0.768606</td>\n      <td>0.0</td>\n      <td>0.506329</td>\n      <td>0.734278</td>\n      <td>0.0</td>\n      <td>21.211</td>\n      <td>2022-09-10 13:57:58</td>\n      <td>13937156972589334868</td>\n    </tr>\n    <tr>\n      <th>4063318</th>\n      <td>721503</td>\n      <td>2022-09-10 02:05:49</td>\n      <td>18806359</td>\n      <td>35.719933</td>\n      <td>51.335495</td>\n      <td>35.727440</td>\n      <td>51.526875</td>\n      <td>1344</td>\n      <td>smapp-same-dc</td>\n      <td>1139</td>\n      <td>...</td>\n      <td>0.004975</td>\n      <td>24.430000</td>\n      <td>0.594638</td>\n      <td>0.0</td>\n      <td>0.079602</td>\n      <td>0.591892</td>\n      <td>0.0</td>\n      <td>22.188</td>\n      <td>2022-09-10 02:38:12</td>\n      <td>8941506555186050771</td>\n    </tr>\n    <tr>\n      <th>4063330</th>\n      <td>2547634</td>\n      <td>2022-09-10 14:17:31</td>\n      <td>18081143</td>\n      <td>35.720974</td>\n      <td>51.498474</td>\n      <td>35.708061</td>\n      <td>51.401943</td>\n      <td>1301</td>\n      <td>smapp-same-dc</td>\n      <td>1487</td>\n      <td>...</td>\n      <td>0.006944</td>\n      <td>20.761999</td>\n      <td>0.992727</td>\n      <td>0.0</td>\n      <td>0.937500</td>\n      <td>0.982424</td>\n      <td>0.0</td>\n      <td>10.682</td>\n      <td>2022-09-10 14:51:03</td>\n      <td>15050861885246709008</td>\n    </tr>\n    <tr>\n      <th>4063337</th>\n      <td>2368196</td>\n      <td>2022-09-10 15:42:45</td>\n      <td>5676377</td>\n      <td>35.724361</td>\n      <td>51.402294</td>\n      <td>35.794140</td>\n      <td>51.472240</td>\n      <td>1239</td>\n      <td>smapp-same-dc</td>\n      <td>1567</td>\n      <td>...</td>\n      <td>0.006452</td>\n      <td>33.134998</td>\n      <td>0.877245</td>\n      <td>0.0</td>\n      <td>0.748387</td>\n      <td>0.893184</td>\n      <td>0.0</td>\n      <td>14.393</td>\n      <td>2022-09-10 16:13:23</td>\n      <td>15480662044417010408</td>\n    </tr>\n    <tr>\n      <th>4063340</th>\n      <td>45964</td>\n      <td>2022-09-10 11:29:32</td>\n      <td>49876941</td>\n      <td>35.668186</td>\n      <td>51.361591</td>\n      <td>35.750282</td>\n      <td>51.294250</td>\n      <td>1247</td>\n      <td>smapp-same-dc</td>\n      <td>1484</td>\n      <td>...</td>\n      <td>0.007246</td>\n      <td>27.271835</td>\n      <td>0.928870</td>\n      <td>0.0</td>\n      <td>0.942029</td>\n      <td>0.938147</td>\n      <td>0.0</td>\n      <td>15.186</td>\n      <td>2022-09-10 11:56:31</td>\n      <td>2515673701687260333</td>\n    </tr>\n  </tbody>\n</table>\n<p>699188 rows × 59 columns</p>\n</div>"
     },
     "execution_count": 6,
     "metadata": {},
     "output_type": "execute_result"
    }
   ],
   "source": [
    "rides_train_p3 = rides_train[(rides_train['eta'] >= 1200) & (rides_train['eta'] < 1800)]\n",
    "rides_train_p3"
   ],
   "metadata": {
    "collapsed": false,
    "pycharm": {
     "name": "#%%\n"
    }
   }
  },
  {
   "cell_type": "code",
   "execution_count": 7,
   "outputs": [
    {
     "data": {
      "text/plain": "         accepted_driver_id           created_at  passenger_id  source_lat  \\\n4                   2255413  2022-09-11 16:18:50      13204345   35.754002   \n9                   1835396  2022-09-11 08:00:59      53997073   35.706886   \n14                   995872  2022-09-11 10:37:12      28136537   35.792473   \n26                  1551060  2022-09-11 07:58:38      41732133   35.639339   \n32                  4096383  2022-09-11 07:03:23        684714   35.720085   \n...                     ...                  ...           ...         ...   \n2729961             1009979  2022-10-09 13:29:46      20463806   35.735298   \n2729962              658795  2022-10-09 15:03:36        130209   35.807129   \n2729973              108962  2022-10-09 11:41:52         19648   35.770760   \n2729978              233709  2022-10-09 19:53:50       9499000   35.800331   \n2729980             2158276  2022-10-09 16:41:49       5499291   35.806198   \n\n         source_lng  destination_lat  destination_lng   eta       provider  \\\n4         51.502956        35.633537        51.494732  1586  smapp-same-dc   \n9         51.198895        35.734352        51.351475  1409  smapp-same-dc   \n14        51.425320        35.698429        51.456745  1708  smapp-same-dc   \n26        51.357048        35.687080        51.414032  1284  smapp-same-dc   \n32        51.301212        35.710041        51.175381  1275  smapp-same-dc   \n...             ...              ...              ...   ...            ...   \n2729961   51.317776        35.680313        51.388023  1253  smapp-same-dc   \n2729962   51.428375        35.721817        51.440979  1690  smapp-same-dc   \n2729973   51.352173        35.711819        51.408939  1581  smapp-same-dc   \n2729978   51.489254        35.755852        51.543327  1312  smapp-same-dc   \n2729980   51.467262        35.804634        51.433849  1328  smapp-same-dc   \n\n          ata  ...  pickup_a_d_d_result.g_p_s_ratio  \\\n4        1663  ...                         0.005952   \n9        2047  ...                         0.004386   \n14       2254  ...                         0.004484   \n26       1643  ...                         0.006173   \n32       1435  ...                         0.006944   \n...       ...  ...                              ...   \n2729961  1612  ...                         0.006289   \n2729962  2673  ...                         0.003774   \n2729973  1624  ...                         0.005952   \n2729978  1202  ...                         0.000000   \n2729980   948  ...                         0.008403   \n\n         ride_a_d_d_result.distance  ride_a_d_d_result.confidence  \\\n4                         29.419765                      0.887584   \n9                         36.624611                      0.966836   \n14                        31.429775                      0.955925   \n26                        16.183001                      0.739202   \n32                        34.138000                      0.968188   \n...                             ...                           ...   \n2729961                   28.757999                      0.960011   \n2729962                   27.115614                      0.692608   \n2729973                   31.447001                      0.988059   \n2729978                   12.179000                      0.500000   \n2729980                    8.242000                      1.000000   \n\n         ride_a_d_d_result.route_ratio  ride_a_d_d_result.g_p_s_ratio  \\\n4                                  0.0                       0.779762   \n9                                  0.0                       0.864035   \n14                                 0.0                       0.959641   \n26                                 0.0                       0.469136   \n32                                 0.0                       0.979167   \n...                                ...                            ...   \n2729961                            0.0                       0.911950   \n2729962                            0.0                       0.554717   \n2729973                            0.0                       0.958333   \n2729978                            0.0                       0.000000   \n2729980                            0.0                       0.789916   \n\n         total_a_d_d_confidence  in_ride_allotment      e_d_d  \\\n4                      0.887654              0.000  17.757999   \n9                      0.971825              0.000  19.396999   \n14                     0.942513              0.412  19.094999   \n26                     0.801064              0.000  11.752000   \n32                     0.972344              0.000  18.556000   \n...                         ...                ...        ...   \n2729961                0.966451              0.000  14.957000   \n2729962                0.699067              0.000  12.689000   \n2729973                0.989762              0.000  14.896000   \n2729978                0.450000              0.000  12.179000   \n2729980                1.000000              0.000   5.599000   \n\n             clickhouse_time                  hash  \n4        2022-09-11 18:07:01   3093743379629491928  \n9        2022-09-11 08:42:53   2284898990298444222  \n14       2022-09-11 11:21:00   6241151625673717460  \n26       2022-09-11 08:35:17   8035995659418123778  \n32       2022-09-11 07:32:28   5890795519639149617  \n...                      ...                   ...  \n2729961  2022-10-09 14:02:58  16088522187439589912  \n2729962  2022-10-09 16:00:13  14193172852111088267  \n2729973  2022-10-09 12:13:46  15613762872068344084  \n2729978  2022-10-09 20:20:12  12251248972094970402  \n2729980  2022-10-09 17:04:42   8302667781094538941  \n\n[459110 rows x 59 columns]",
      "text/html": "<div>\n<style scoped>\n    .dataframe tbody tr th:only-of-type {\n        vertical-align: middle;\n    }\n\n    .dataframe tbody tr th {\n        vertical-align: top;\n    }\n\n    .dataframe thead th {\n        text-align: right;\n    }\n</style>\n<table border=\"1\" class=\"dataframe\">\n  <thead>\n    <tr style=\"text-align: right;\">\n      <th></th>\n      <th>accepted_driver_id</th>\n      <th>created_at</th>\n      <th>passenger_id</th>\n      <th>source_lat</th>\n      <th>source_lng</th>\n      <th>destination_lat</th>\n      <th>destination_lng</th>\n      <th>eta</th>\n      <th>provider</th>\n      <th>ata</th>\n      <th>...</th>\n      <th>pickup_a_d_d_result.g_p_s_ratio</th>\n      <th>ride_a_d_d_result.distance</th>\n      <th>ride_a_d_d_result.confidence</th>\n      <th>ride_a_d_d_result.route_ratio</th>\n      <th>ride_a_d_d_result.g_p_s_ratio</th>\n      <th>total_a_d_d_confidence</th>\n      <th>in_ride_allotment</th>\n      <th>e_d_d</th>\n      <th>clickhouse_time</th>\n      <th>hash</th>\n    </tr>\n  </thead>\n  <tbody>\n    <tr>\n      <th>4</th>\n      <td>2255413</td>\n      <td>2022-09-11 16:18:50</td>\n      <td>13204345</td>\n      <td>35.754002</td>\n      <td>51.502956</td>\n      <td>35.633537</td>\n      <td>51.494732</td>\n      <td>1586</td>\n      <td>smapp-same-dc</td>\n      <td>1663</td>\n      <td>...</td>\n      <td>0.005952</td>\n      <td>29.419765</td>\n      <td>0.887584</td>\n      <td>0.0</td>\n      <td>0.779762</td>\n      <td>0.887654</td>\n      <td>0.000</td>\n      <td>17.757999</td>\n      <td>2022-09-11 18:07:01</td>\n      <td>3093743379629491928</td>\n    </tr>\n    <tr>\n      <th>9</th>\n      <td>1835396</td>\n      <td>2022-09-11 08:00:59</td>\n      <td>53997073</td>\n      <td>35.706886</td>\n      <td>51.198895</td>\n      <td>35.734352</td>\n      <td>51.351475</td>\n      <td>1409</td>\n      <td>smapp-same-dc</td>\n      <td>2047</td>\n      <td>...</td>\n      <td>0.004386</td>\n      <td>36.624611</td>\n      <td>0.966836</td>\n      <td>0.0</td>\n      <td>0.864035</td>\n      <td>0.971825</td>\n      <td>0.000</td>\n      <td>19.396999</td>\n      <td>2022-09-11 08:42:53</td>\n      <td>2284898990298444222</td>\n    </tr>\n    <tr>\n      <th>14</th>\n      <td>995872</td>\n      <td>2022-09-11 10:37:12</td>\n      <td>28136537</td>\n      <td>35.792473</td>\n      <td>51.425320</td>\n      <td>35.698429</td>\n      <td>51.456745</td>\n      <td>1708</td>\n      <td>smapp-same-dc</td>\n      <td>2254</td>\n      <td>...</td>\n      <td>0.004484</td>\n      <td>31.429775</td>\n      <td>0.955925</td>\n      <td>0.0</td>\n      <td>0.959641</td>\n      <td>0.942513</td>\n      <td>0.412</td>\n      <td>19.094999</td>\n      <td>2022-09-11 11:21:00</td>\n      <td>6241151625673717460</td>\n    </tr>\n    <tr>\n      <th>26</th>\n      <td>1551060</td>\n      <td>2022-09-11 07:58:38</td>\n      <td>41732133</td>\n      <td>35.639339</td>\n      <td>51.357048</td>\n      <td>35.687080</td>\n      <td>51.414032</td>\n      <td>1284</td>\n      <td>smapp-same-dc</td>\n      <td>1643</td>\n      <td>...</td>\n      <td>0.006173</td>\n      <td>16.183001</td>\n      <td>0.739202</td>\n      <td>0.0</td>\n      <td>0.469136</td>\n      <td>0.801064</td>\n      <td>0.000</td>\n      <td>11.752000</td>\n      <td>2022-09-11 08:35:17</td>\n      <td>8035995659418123778</td>\n    </tr>\n    <tr>\n      <th>32</th>\n      <td>4096383</td>\n      <td>2022-09-11 07:03:23</td>\n      <td>684714</td>\n      <td>35.720085</td>\n      <td>51.301212</td>\n      <td>35.710041</td>\n      <td>51.175381</td>\n      <td>1275</td>\n      <td>smapp-same-dc</td>\n      <td>1435</td>\n      <td>...</td>\n      <td>0.006944</td>\n      <td>34.138000</td>\n      <td>0.968188</td>\n      <td>0.0</td>\n      <td>0.979167</td>\n      <td>0.972344</td>\n      <td>0.000</td>\n      <td>18.556000</td>\n      <td>2022-09-11 07:32:28</td>\n      <td>5890795519639149617</td>\n    </tr>\n    <tr>\n      <th>...</th>\n      <td>...</td>\n      <td>...</td>\n      <td>...</td>\n      <td>...</td>\n      <td>...</td>\n      <td>...</td>\n      <td>...</td>\n      <td>...</td>\n      <td>...</td>\n      <td>...</td>\n      <td>...</td>\n      <td>...</td>\n      <td>...</td>\n      <td>...</td>\n      <td>...</td>\n      <td>...</td>\n      <td>...</td>\n      <td>...</td>\n      <td>...</td>\n      <td>...</td>\n      <td>...</td>\n    </tr>\n    <tr>\n      <th>2729961</th>\n      <td>1009979</td>\n      <td>2022-10-09 13:29:46</td>\n      <td>20463806</td>\n      <td>35.735298</td>\n      <td>51.317776</td>\n      <td>35.680313</td>\n      <td>51.388023</td>\n      <td>1253</td>\n      <td>smapp-same-dc</td>\n      <td>1612</td>\n      <td>...</td>\n      <td>0.006289</td>\n      <td>28.757999</td>\n      <td>0.960011</td>\n      <td>0.0</td>\n      <td>0.911950</td>\n      <td>0.966451</td>\n      <td>0.000</td>\n      <td>14.957000</td>\n      <td>2022-10-09 14:02:58</td>\n      <td>16088522187439589912</td>\n    </tr>\n    <tr>\n      <th>2729962</th>\n      <td>658795</td>\n      <td>2022-10-09 15:03:36</td>\n      <td>130209</td>\n      <td>35.807129</td>\n      <td>51.428375</td>\n      <td>35.721817</td>\n      <td>51.440979</td>\n      <td>1690</td>\n      <td>smapp-same-dc</td>\n      <td>2673</td>\n      <td>...</td>\n      <td>0.003774</td>\n      <td>27.115614</td>\n      <td>0.692608</td>\n      <td>0.0</td>\n      <td>0.554717</td>\n      <td>0.699067</td>\n      <td>0.000</td>\n      <td>12.689000</td>\n      <td>2022-10-09 16:00:13</td>\n      <td>14193172852111088267</td>\n    </tr>\n    <tr>\n      <th>2729973</th>\n      <td>108962</td>\n      <td>2022-10-09 11:41:52</td>\n      <td>19648</td>\n      <td>35.770760</td>\n      <td>51.352173</td>\n      <td>35.711819</td>\n      <td>51.408939</td>\n      <td>1581</td>\n      <td>smapp-same-dc</td>\n      <td>1624</td>\n      <td>...</td>\n      <td>0.005952</td>\n      <td>31.447001</td>\n      <td>0.988059</td>\n      <td>0.0</td>\n      <td>0.958333</td>\n      <td>0.989762</td>\n      <td>0.000</td>\n      <td>14.896000</td>\n      <td>2022-10-09 12:13:46</td>\n      <td>15613762872068344084</td>\n    </tr>\n    <tr>\n      <th>2729978</th>\n      <td>233709</td>\n      <td>2022-10-09 19:53:50</td>\n      <td>9499000</td>\n      <td>35.800331</td>\n      <td>51.489254</td>\n      <td>35.755852</td>\n      <td>51.543327</td>\n      <td>1312</td>\n      <td>smapp-same-dc</td>\n      <td>1202</td>\n      <td>...</td>\n      <td>0.000000</td>\n      <td>12.179000</td>\n      <td>0.500000</td>\n      <td>0.0</td>\n      <td>0.000000</td>\n      <td>0.450000</td>\n      <td>0.000</td>\n      <td>12.179000</td>\n      <td>2022-10-09 20:20:12</td>\n      <td>12251248972094970402</td>\n    </tr>\n    <tr>\n      <th>2729980</th>\n      <td>2158276</td>\n      <td>2022-10-09 16:41:49</td>\n      <td>5499291</td>\n      <td>35.806198</td>\n      <td>51.467262</td>\n      <td>35.804634</td>\n      <td>51.433849</td>\n      <td>1328</td>\n      <td>smapp-same-dc</td>\n      <td>948</td>\n      <td>...</td>\n      <td>0.008403</td>\n      <td>8.242000</td>\n      <td>1.000000</td>\n      <td>0.0</td>\n      <td>0.789916</td>\n      <td>1.000000</td>\n      <td>0.000</td>\n      <td>5.599000</td>\n      <td>2022-10-09 17:04:42</td>\n      <td>8302667781094538941</td>\n    </tr>\n  </tbody>\n</table>\n<p>459110 rows × 59 columns</p>\n</div>"
     },
     "execution_count": 7,
     "metadata": {},
     "output_type": "execute_result"
    }
   ],
   "source": [
    "rides_test_p3 = rides_test[(rides_test['eta'] >= 1200) & (rides_test['eta'] < 1800)]\n",
    "rides_test_p3"
   ],
   "metadata": {
    "collapsed": false,
    "pycharm": {
     "name": "#%%\n"
    }
   }
  },
  {
   "cell_type": "markdown",
   "source": [
    "There are some duplicates in the data"
   ],
   "metadata": {
    "collapsed": false,
    "pycharm": {
     "name": "#%% md\n"
    }
   }
  },
  {
   "cell_type": "code",
   "execution_count": 8,
   "outputs": [
    {
     "data": {
      "text/plain": "698924"
     },
     "execution_count": 8,
     "metadata": {},
     "output_type": "execute_result"
    }
   ],
   "source": [
    "rides_train_p3 = rides_train_p3.drop_duplicates(subset=['ride_id', 'ata'])\n",
    "len(rides_train_p3)"
   ],
   "metadata": {
    "collapsed": false,
    "pycharm": {
     "name": "#%%\n"
    }
   }
  },
  {
   "cell_type": "code",
   "execution_count": 9,
   "outputs": [
    {
     "data": {
      "text/plain": "459060"
     },
     "execution_count": 9,
     "metadata": {},
     "output_type": "execute_result"
    }
   ],
   "source": [
    "rides_test_p3 = rides_test_p3.drop_duplicates(subset=['ride_id', 'ata'])\n",
    "len(rides_test_p3)"
   ],
   "metadata": {
    "collapsed": false,
    "pycharm": {
     "name": "#%%\n"
    }
   }
  },
  {
   "cell_type": "code",
   "execution_count": 10,
   "outputs": [
    {
     "data": {
      "text/plain": "       accepted_driver_id  passenger_id     source_lat     source_lng  \\\ncount        6.982510e+05  6.982510e+05  698251.000000  698251.000000   \nmean         1.857428e+06  2.168731e+07      35.710893      51.399347   \nstd          1.409675e+06  1.787587e+07       0.074141       0.100507   \nmin          9.000000e+00  7.600000e+01      35.178387      50.901024   \n25%          4.474170e+05  3.664554e+06      35.681526      51.349068   \n50%          1.746312e+06  2.015598e+07      35.723850      51.407139   \n75%          3.138568e+06  3.603966e+07      35.759724      51.453899   \nmax          4.330757e+06  5.737754e+07      35.839870      52.107700   \n\n       destination_lat  destination_lng            eta            ata  \\\ncount    698251.000000    698251.000000  698251.000000  698251.000000   \nmean         35.712309        51.395567    1456.451147    1725.102250   \nstd           0.073239         0.106259     169.848543     575.757119   \nmin          35.173473        50.764294    1200.000000     143.000000   \n25%          35.685211        51.349876    1308.000000    1386.000000   \n50%          35.724022        51.408180    1436.000000    1624.000000   \n75%          35.760132        51.449703    1594.000000    1930.000000   \nmax          35.943981        52.106018    1799.000000   20274.000000   \n\n            ride_id      city  ...  pickup_a_d_d_result.route_ratio  \\\ncount  6.982510e+05  698251.0  ...                    698251.000000   \nmean   4.824418e+09       1.0  ...                         0.000156   \nstd    6.012178e+07       0.0  ...                         0.009760   \nmin    4.714480e+09       1.0  ...                         0.000000   \n25%    4.774177e+09       1.0  ...                         0.000000   \n50%    4.825935e+09       1.0  ...                         0.000000   \n75%    4.872342e+09       1.0  ...                         0.000000   \nmax    4.933870e+09       1.0  ...                         1.000000   \n\n       pickup_a_d_d_result.g_p_s_ratio  ride_a_d_d_result.distance  \\\ncount                    698251.000000               698251.000000   \nmean                          0.005585                   26.897764   \nstd                           0.002304                   10.484821   \nmin                           0.000000                    1.398000   \n25%                           0.004717                   19.204000   \n50%                           0.005882                   25.815001   \n75%                           0.006993                   33.271999   \nmax                           0.052632                 1042.181519   \n\n       ride_a_d_d_result.confidence  ride_a_d_d_result.route_ratio  \\\ncount                 698251.000000                  698251.000000   \nmean                       0.854451                       0.000019   \nstd                        0.172755                       0.000484   \nmin                        0.000000                       0.000000   \n25%                        0.756863                       0.000000   \n50%                        0.937937                       0.000000   \n75%                        0.987221                       0.000000   \nmax                        1.000000                       0.072162   \n\n       ride_a_d_d_result.g_p_s_ratio  total_a_d_d_confidence  \\\ncount                  698251.000000           698251.000000   \nmean                        0.719288                0.863490   \nstd                         0.333526                0.164481   \nmin                         0.000000                0.000000   \n25%                         0.500000                0.781687   \n50%                         0.893443                0.940537   \n75%                         0.979310                0.987554   \nmax                         1.000000                1.000000   \n\n       in_ride_allotment          e_d_d          hash  \ncount      698251.000000  698251.000000  6.982510e+05  \nmean            0.074902       3.885754  9.220974e+18  \nstd             0.608518       7.312222  5.324649e+18  \nmin             0.000000       0.000000  7.692488e+13  \n25%             0.000000       0.000000  4.613144e+18  \n50%             0.000000       0.000000  9.214321e+18  \n75%             0.000000       0.000000  1.383870e+19  \nmax            84.599289      69.930000  1.844674e+19  \n\n[8 rows x 52 columns]",
      "text/html": "<div>\n<style scoped>\n    .dataframe tbody tr th:only-of-type {\n        vertical-align: middle;\n    }\n\n    .dataframe tbody tr th {\n        vertical-align: top;\n    }\n\n    .dataframe thead th {\n        text-align: right;\n    }\n</style>\n<table border=\"1\" class=\"dataframe\">\n  <thead>\n    <tr style=\"text-align: right;\">\n      <th></th>\n      <th>accepted_driver_id</th>\n      <th>passenger_id</th>\n      <th>source_lat</th>\n      <th>source_lng</th>\n      <th>destination_lat</th>\n      <th>destination_lng</th>\n      <th>eta</th>\n      <th>ata</th>\n      <th>ride_id</th>\n      <th>city</th>\n      <th>...</th>\n      <th>pickup_a_d_d_result.route_ratio</th>\n      <th>pickup_a_d_d_result.g_p_s_ratio</th>\n      <th>ride_a_d_d_result.distance</th>\n      <th>ride_a_d_d_result.confidence</th>\n      <th>ride_a_d_d_result.route_ratio</th>\n      <th>ride_a_d_d_result.g_p_s_ratio</th>\n      <th>total_a_d_d_confidence</th>\n      <th>in_ride_allotment</th>\n      <th>e_d_d</th>\n      <th>hash</th>\n    </tr>\n  </thead>\n  <tbody>\n    <tr>\n      <th>count</th>\n      <td>6.982510e+05</td>\n      <td>6.982510e+05</td>\n      <td>698251.000000</td>\n      <td>698251.000000</td>\n      <td>698251.000000</td>\n      <td>698251.000000</td>\n      <td>698251.000000</td>\n      <td>698251.000000</td>\n      <td>6.982510e+05</td>\n      <td>698251.0</td>\n      <td>...</td>\n      <td>698251.000000</td>\n      <td>698251.000000</td>\n      <td>698251.000000</td>\n      <td>698251.000000</td>\n      <td>698251.000000</td>\n      <td>698251.000000</td>\n      <td>698251.000000</td>\n      <td>698251.000000</td>\n      <td>698251.000000</td>\n      <td>6.982510e+05</td>\n    </tr>\n    <tr>\n      <th>mean</th>\n      <td>1.857428e+06</td>\n      <td>2.168731e+07</td>\n      <td>35.710893</td>\n      <td>51.399347</td>\n      <td>35.712309</td>\n      <td>51.395567</td>\n      <td>1456.451147</td>\n      <td>1725.102250</td>\n      <td>4.824418e+09</td>\n      <td>1.0</td>\n      <td>...</td>\n      <td>0.000156</td>\n      <td>0.005585</td>\n      <td>26.897764</td>\n      <td>0.854451</td>\n      <td>0.000019</td>\n      <td>0.719288</td>\n      <td>0.863490</td>\n      <td>0.074902</td>\n      <td>3.885754</td>\n      <td>9.220974e+18</td>\n    </tr>\n    <tr>\n      <th>std</th>\n      <td>1.409675e+06</td>\n      <td>1.787587e+07</td>\n      <td>0.074141</td>\n      <td>0.100507</td>\n      <td>0.073239</td>\n      <td>0.106259</td>\n      <td>169.848543</td>\n      <td>575.757119</td>\n      <td>6.012178e+07</td>\n      <td>0.0</td>\n      <td>...</td>\n      <td>0.009760</td>\n      <td>0.002304</td>\n      <td>10.484821</td>\n      <td>0.172755</td>\n      <td>0.000484</td>\n      <td>0.333526</td>\n      <td>0.164481</td>\n      <td>0.608518</td>\n      <td>7.312222</td>\n      <td>5.324649e+18</td>\n    </tr>\n    <tr>\n      <th>min</th>\n      <td>9.000000e+00</td>\n      <td>7.600000e+01</td>\n      <td>35.178387</td>\n      <td>50.901024</td>\n      <td>35.173473</td>\n      <td>50.764294</td>\n      <td>1200.000000</td>\n      <td>143.000000</td>\n      <td>4.714480e+09</td>\n      <td>1.0</td>\n      <td>...</td>\n      <td>0.000000</td>\n      <td>0.000000</td>\n      <td>1.398000</td>\n      <td>0.000000</td>\n      <td>0.000000</td>\n      <td>0.000000</td>\n      <td>0.000000</td>\n      <td>0.000000</td>\n      <td>0.000000</td>\n      <td>7.692488e+13</td>\n    </tr>\n    <tr>\n      <th>25%</th>\n      <td>4.474170e+05</td>\n      <td>3.664554e+06</td>\n      <td>35.681526</td>\n      <td>51.349068</td>\n      <td>35.685211</td>\n      <td>51.349876</td>\n      <td>1308.000000</td>\n      <td>1386.000000</td>\n      <td>4.774177e+09</td>\n      <td>1.0</td>\n      <td>...</td>\n      <td>0.000000</td>\n      <td>0.004717</td>\n      <td>19.204000</td>\n      <td>0.756863</td>\n      <td>0.000000</td>\n      <td>0.500000</td>\n      <td>0.781687</td>\n      <td>0.000000</td>\n      <td>0.000000</td>\n      <td>4.613144e+18</td>\n    </tr>\n    <tr>\n      <th>50%</th>\n      <td>1.746312e+06</td>\n      <td>2.015598e+07</td>\n      <td>35.723850</td>\n      <td>51.407139</td>\n      <td>35.724022</td>\n      <td>51.408180</td>\n      <td>1436.000000</td>\n      <td>1624.000000</td>\n      <td>4.825935e+09</td>\n      <td>1.0</td>\n      <td>...</td>\n      <td>0.000000</td>\n      <td>0.005882</td>\n      <td>25.815001</td>\n      <td>0.937937</td>\n      <td>0.000000</td>\n      <td>0.893443</td>\n      <td>0.940537</td>\n      <td>0.000000</td>\n      <td>0.000000</td>\n      <td>9.214321e+18</td>\n    </tr>\n    <tr>\n      <th>75%</th>\n      <td>3.138568e+06</td>\n      <td>3.603966e+07</td>\n      <td>35.759724</td>\n      <td>51.453899</td>\n      <td>35.760132</td>\n      <td>51.449703</td>\n      <td>1594.000000</td>\n      <td>1930.000000</td>\n      <td>4.872342e+09</td>\n      <td>1.0</td>\n      <td>...</td>\n      <td>0.000000</td>\n      <td>0.006993</td>\n      <td>33.271999</td>\n      <td>0.987221</td>\n      <td>0.000000</td>\n      <td>0.979310</td>\n      <td>0.987554</td>\n      <td>0.000000</td>\n      <td>0.000000</td>\n      <td>1.383870e+19</td>\n    </tr>\n    <tr>\n      <th>max</th>\n      <td>4.330757e+06</td>\n      <td>5.737754e+07</td>\n      <td>35.839870</td>\n      <td>52.107700</td>\n      <td>35.943981</td>\n      <td>52.106018</td>\n      <td>1799.000000</td>\n      <td>20274.000000</td>\n      <td>4.933870e+09</td>\n      <td>1.0</td>\n      <td>...</td>\n      <td>1.000000</td>\n      <td>0.052632</td>\n      <td>1042.181519</td>\n      <td>1.000000</td>\n      <td>0.072162</td>\n      <td>1.000000</td>\n      <td>1.000000</td>\n      <td>84.599289</td>\n      <td>69.930000</td>\n      <td>1.844674e+19</td>\n    </tr>\n  </tbody>\n</table>\n<p>8 rows × 52 columns</p>\n</div>"
     },
     "execution_count": 10,
     "metadata": {},
     "output_type": "execute_result"
    }
   ],
   "source": [
    "rides_train_p3 = rides_train_p3[(rides_train_p3['a_t_a_result.ride_a_t_a'] > 180) &\n",
    "                                (rides_train_p3['a_t_a_result.ride_a_t_a'] < 10800)]\n",
    "rides_train_p3.describe()"
   ],
   "metadata": {
    "collapsed": false,
    "pycharm": {
     "name": "#%%\n"
    }
   }
  },
  {
   "cell_type": "code",
   "execution_count": 11,
   "outputs": [
    {
     "data": {
      "text/plain": "       accepted_driver_id  passenger_id     source_lat     source_lng  \\\ncount        4.186110e+05  4.186110e+05  418611.000000  418611.000000   \nmean         1.903604e+06  2.147733e+07      35.711474      51.399068   \nstd          1.419565e+06  1.783546e+07       0.073310       0.100062   \nmin          9.000000e+00  7.600000e+01      35.178387      50.901024   \n25%          4.738330e+05  3.543176e+06      35.681633      51.348881   \n50%          1.824698e+06  1.978329e+07      35.724007      51.406883   \n75%          3.207710e+06  3.578205e+07      35.759914      51.453754   \nmax          4.330757e+06  5.737754e+07      35.839024      52.107700   \n\n       destination_lat  destination_lng            eta            ata  \\\ncount    418611.000000    418611.000000  418611.000000  418611.000000   \nmean         35.713951        51.395514    1455.527270    1748.044648   \nstd           0.072304         0.106199     169.783044     567.404541   \nmin          35.173473        50.764294    1200.000000     143.000000   \n25%          35.686920        51.350353    1307.000000    1412.000000   \n50%          35.725761        51.407803    1435.000000    1646.000000   \n75%          35.761288        51.450859    1592.000000    1950.000000   \nmax          35.943981        52.103642    1799.000000   20274.000000   \n\n            ride_id      city  ...  pickup_a_d_d_result.route_ratio  \\\ncount  4.186110e+05  418611.0  ...                    418611.000000   \nmean   4.824397e+09       1.0  ...                         0.000076   \nstd    6.024931e+07       0.0  ...                         0.006515   \nmin    4.714480e+09       1.0  ...                         0.000000   \n25%    4.773912e+09       1.0  ...                         0.000000   \n50%    4.825453e+09       1.0  ...                         0.000000   \n75%    4.872820e+09       1.0  ...                         0.000000   \nmax    4.933870e+09       1.0  ...                         1.000000   \n\n       pickup_a_d_d_result.g_p_s_ratio  ride_a_d_d_result.distance  \\\ncount                    418611.000000               418611.000000   \nmean                          0.006217                   28.394496   \nstd                           0.001535                   10.024319   \nmin                           0.000904                    1.398000   \n25%                           0.005208                   21.094999   \n50%                           0.006135                   27.467377   \n75%                           0.007143                   34.560001   \nmax                           0.052632                  260.281769   \n\n       ride_a_d_d_result.confidence  ride_a_d_d_result.route_ratio  \\\ncount                 418611.000000                  418611.000000   \nmean                       0.904068                       0.000011   \nstd                        0.137919                       0.000339   \nmin                        0.000000                       0.000000   \n25%                        0.883406                       0.000000   \n50%                        0.964323                       0.000000   \n75%                        0.994926                       0.000000   \nmax                        1.000000                       0.048962   \n\n       ride_a_d_d_result.g_p_s_ratio  total_a_d_d_confidence  \\\ncount                  418611.000000           418611.000000   \nmean                        0.826220                0.913170   \nstd                         0.255499                0.123150   \nmin                         0.003937                0.000000   \n25%                         0.784946                0.890993   \n50%                         0.948617                0.965939   \n75%                         0.992308                0.994692   \nmax                         1.000000                1.000000   \n\n       in_ride_allotment          e_d_d          hash  \ncount      418611.000000  418611.000000  4.186110e+05  \nmean            0.081313       3.960848  9.213893e+18  \nstd             0.623839       7.372856  5.324936e+18  \nmin             0.000000       0.000000  7.692488e+13  \n25%             0.000000       0.000000  4.606591e+18  \n50%             0.000000       0.000000  9.200858e+18  \n75%             0.000000       0.000000  1.383479e+19  \nmax            22.429001      66.652000  1.844674e+19  \n\n[8 rows x 52 columns]",
      "text/html": "<div>\n<style scoped>\n    .dataframe tbody tr th:only-of-type {\n        vertical-align: middle;\n    }\n\n    .dataframe tbody tr th {\n        vertical-align: top;\n    }\n\n    .dataframe thead th {\n        text-align: right;\n    }\n</style>\n<table border=\"1\" class=\"dataframe\">\n  <thead>\n    <tr style=\"text-align: right;\">\n      <th></th>\n      <th>accepted_driver_id</th>\n      <th>passenger_id</th>\n      <th>source_lat</th>\n      <th>source_lng</th>\n      <th>destination_lat</th>\n      <th>destination_lng</th>\n      <th>eta</th>\n      <th>ata</th>\n      <th>ride_id</th>\n      <th>city</th>\n      <th>...</th>\n      <th>pickup_a_d_d_result.route_ratio</th>\n      <th>pickup_a_d_d_result.g_p_s_ratio</th>\n      <th>ride_a_d_d_result.distance</th>\n      <th>ride_a_d_d_result.confidence</th>\n      <th>ride_a_d_d_result.route_ratio</th>\n      <th>ride_a_d_d_result.g_p_s_ratio</th>\n      <th>total_a_d_d_confidence</th>\n      <th>in_ride_allotment</th>\n      <th>e_d_d</th>\n      <th>hash</th>\n    </tr>\n  </thead>\n  <tbody>\n    <tr>\n      <th>count</th>\n      <td>4.186110e+05</td>\n      <td>4.186110e+05</td>\n      <td>418611.000000</td>\n      <td>418611.000000</td>\n      <td>418611.000000</td>\n      <td>418611.000000</td>\n      <td>418611.000000</td>\n      <td>418611.000000</td>\n      <td>4.186110e+05</td>\n      <td>418611.0</td>\n      <td>...</td>\n      <td>418611.000000</td>\n      <td>418611.000000</td>\n      <td>418611.000000</td>\n      <td>418611.000000</td>\n      <td>418611.000000</td>\n      <td>418611.000000</td>\n      <td>418611.000000</td>\n      <td>418611.000000</td>\n      <td>418611.000000</td>\n      <td>4.186110e+05</td>\n    </tr>\n    <tr>\n      <th>mean</th>\n      <td>1.903604e+06</td>\n      <td>2.147733e+07</td>\n      <td>35.711474</td>\n      <td>51.399068</td>\n      <td>35.713951</td>\n      <td>51.395514</td>\n      <td>1455.527270</td>\n      <td>1748.044648</td>\n      <td>4.824397e+09</td>\n      <td>1.0</td>\n      <td>...</td>\n      <td>0.000076</td>\n      <td>0.006217</td>\n      <td>28.394496</td>\n      <td>0.904068</td>\n      <td>0.000011</td>\n      <td>0.826220</td>\n      <td>0.913170</td>\n      <td>0.081313</td>\n      <td>3.960848</td>\n      <td>9.213893e+18</td>\n    </tr>\n    <tr>\n      <th>std</th>\n      <td>1.419565e+06</td>\n      <td>1.783546e+07</td>\n      <td>0.073310</td>\n      <td>0.100062</td>\n      <td>0.072304</td>\n      <td>0.106199</td>\n      <td>169.783044</td>\n      <td>567.404541</td>\n      <td>6.024931e+07</td>\n      <td>0.0</td>\n      <td>...</td>\n      <td>0.006515</td>\n      <td>0.001535</td>\n      <td>10.024319</td>\n      <td>0.137919</td>\n      <td>0.000339</td>\n      <td>0.255499</td>\n      <td>0.123150</td>\n      <td>0.623839</td>\n      <td>7.372856</td>\n      <td>5.324936e+18</td>\n    </tr>\n    <tr>\n      <th>min</th>\n      <td>9.000000e+00</td>\n      <td>7.600000e+01</td>\n      <td>35.178387</td>\n      <td>50.901024</td>\n      <td>35.173473</td>\n      <td>50.764294</td>\n      <td>1200.000000</td>\n      <td>143.000000</td>\n      <td>4.714480e+09</td>\n      <td>1.0</td>\n      <td>...</td>\n      <td>0.000000</td>\n      <td>0.000904</td>\n      <td>1.398000</td>\n      <td>0.000000</td>\n      <td>0.000000</td>\n      <td>0.003937</td>\n      <td>0.000000</td>\n      <td>0.000000</td>\n      <td>0.000000</td>\n      <td>7.692488e+13</td>\n    </tr>\n    <tr>\n      <th>25%</th>\n      <td>4.738330e+05</td>\n      <td>3.543176e+06</td>\n      <td>35.681633</td>\n      <td>51.348881</td>\n      <td>35.686920</td>\n      <td>51.350353</td>\n      <td>1307.000000</td>\n      <td>1412.000000</td>\n      <td>4.773912e+09</td>\n      <td>1.0</td>\n      <td>...</td>\n      <td>0.000000</td>\n      <td>0.005208</td>\n      <td>21.094999</td>\n      <td>0.883406</td>\n      <td>0.000000</td>\n      <td>0.784946</td>\n      <td>0.890993</td>\n      <td>0.000000</td>\n      <td>0.000000</td>\n      <td>4.606591e+18</td>\n    </tr>\n    <tr>\n      <th>50%</th>\n      <td>1.824698e+06</td>\n      <td>1.978329e+07</td>\n      <td>35.724007</td>\n      <td>51.406883</td>\n      <td>35.725761</td>\n      <td>51.407803</td>\n      <td>1435.000000</td>\n      <td>1646.000000</td>\n      <td>4.825453e+09</td>\n      <td>1.0</td>\n      <td>...</td>\n      <td>0.000000</td>\n      <td>0.006135</td>\n      <td>27.467377</td>\n      <td>0.964323</td>\n      <td>0.000000</td>\n      <td>0.948617</td>\n      <td>0.965939</td>\n      <td>0.000000</td>\n      <td>0.000000</td>\n      <td>9.200858e+18</td>\n    </tr>\n    <tr>\n      <th>75%</th>\n      <td>3.207710e+06</td>\n      <td>3.578205e+07</td>\n      <td>35.759914</td>\n      <td>51.453754</td>\n      <td>35.761288</td>\n      <td>51.450859</td>\n      <td>1592.000000</td>\n      <td>1950.000000</td>\n      <td>4.872820e+09</td>\n      <td>1.0</td>\n      <td>...</td>\n      <td>0.000000</td>\n      <td>0.007143</td>\n      <td>34.560001</td>\n      <td>0.994926</td>\n      <td>0.000000</td>\n      <td>0.992308</td>\n      <td>0.994692</td>\n      <td>0.000000</td>\n      <td>0.000000</td>\n      <td>1.383479e+19</td>\n    </tr>\n    <tr>\n      <th>max</th>\n      <td>4.330757e+06</td>\n      <td>5.737754e+07</td>\n      <td>35.839024</td>\n      <td>52.107700</td>\n      <td>35.943981</td>\n      <td>52.103642</td>\n      <td>1799.000000</td>\n      <td>20274.000000</td>\n      <td>4.933870e+09</td>\n      <td>1.0</td>\n      <td>...</td>\n      <td>1.000000</td>\n      <td>0.052632</td>\n      <td>260.281769</td>\n      <td>1.000000</td>\n      <td>0.048962</td>\n      <td>1.000000</td>\n      <td>1.000000</td>\n      <td>22.429001</td>\n      <td>66.652000</td>\n      <td>1.844674e+19</td>\n    </tr>\n  </tbody>\n</table>\n<p>8 rows × 52 columns</p>\n</div>"
     },
     "execution_count": 11,
     "metadata": {},
     "output_type": "execute_result"
    }
   ],
   "source": [
    "rides_train_p3 = rides_train_p3[(rides_train_p3['a_t_a_result.destination_probe_result.confidence'] > 0) & (rides_train_p3['a_t_a_result.boarding_probe_result.confidence'] > 0)]\n",
    "rides_train_p3.describe()"
   ],
   "metadata": {
    "collapsed": false,
    "pycharm": {
     "name": "#%%\n"
    }
   }
  },
  {
   "cell_type": "code",
   "execution_count": 12,
   "outputs": [
    {
     "data": {
      "text/plain": "       accepted_driver_id  passenger_id     source_lat     source_lng  \\\ncount        2.779210e+05  2.779210e+05  277921.000000  277921.000000   \nmean         1.950764e+06  2.206443e+07      35.707878      51.398545   \nstd          1.456583e+06  1.806766e+07       0.076061       0.103353   \nmin          9.000000e+00  1.700000e+01      35.181488      50.900341   \n25%          4.854630e+05  3.826310e+06      35.676189      51.345062   \n50%          1.874054e+06  2.066421e+07      35.722034      51.405483   \n75%          3.280994e+06  3.648022e+07      35.758289      51.455685   \nmax          4.420741e+06  5.813752e+07      35.839840      52.081783   \n\n       destination_lat  destination_lng            eta            ata  \\\ncount    277921.000000    277921.000000  277921.000000  277921.000000   \nmean         35.710745        51.395072    1453.748680    1745.764156   \nstd           0.075421         0.110683     169.292906     605.452738   \nmin          35.168644        50.867809    1200.000000     128.000000   \n25%          35.681149        51.346260    1306.000000    1397.000000   \n50%          35.724213        51.407406    1432.000000    1629.000000   \n75%          35.760063        51.453274    1589.000000    1932.000000   \nmax          35.896008        52.107143    1799.000000   18031.000000   \n\n            ride_id      city  ...  pickup_a_d_d_result.route_ratio  \\\ncount  2.779210e+05  277921.0  ...                    277921.000000   \nmean   5.010238e+09       1.0  ...                         0.000057   \nstd    4.404517e+07       0.0  ...                         0.005579   \nmin    4.933925e+09       1.0  ...                         0.000000   \n25%    4.972242e+09       1.0  ...                         0.000000   \n50%    5.011284e+09       1.0  ...                         0.000000   \n75%    5.048534e+09       1.0  ...                         0.000000   \nmax    5.083628e+09       1.0  ...                         1.000000   \n\n       pickup_a_d_d_result.g_p_s_ratio  ride_a_d_d_result.distance  \\\ncount                    277921.000000               277921.000000   \nmean                          0.006274                   29.568464   \nstd                           0.001610                   10.869953   \nmin                           0.000630                    0.124000   \n25%                           0.005263                   21.969000   \n50%                           0.006211                   28.691999   \n75%                           0.007246                   36.049297   \nmax                           0.066667                 1277.150391   \n\n       ride_a_d_d_result.confidence  ride_a_d_d_result.route_ratio  \\\ncount                 277921.000000                  277921.000000   \nmean                       0.905545                       0.000010   \nstd                        0.137264                       0.000304   \nmin                        0.000000                       0.000000   \n25%                        0.888027                       0.000000   \n50%                        0.965700                       0.000000   \n75%                        0.995148                       0.000000   \nmax                        1.000000                       0.036465   \n\n       ride_a_d_d_result.g_p_s_ratio  total_a_d_d_confidence  \\\ncount                  277921.000000           277921.000000   \nmean                        0.835038                0.914267   \nstd                         0.254168                0.122694   \nmin                         0.004914                0.000000   \n25%                         0.813433                0.894490   \n50%                         0.955882                0.967212   \n75%                         0.993590                0.994865   \nmax                         1.000000                1.000000   \n\n       in_ride_allotment          e_d_d          hash  \ncount      277921.000000  277921.000000  2.779210e+05  \nmean            0.023702      16.671833  9.232512e+18  \nstd             0.241595       5.479094  5.329329e+18  \nmin             0.000000       0.421000  1.492987e+13  \n25%             0.000000      12.729000  4.613929e+18  \n50%             0.000000      16.070000  9.233618e+18  \n75%             0.000000      19.937000  1.384941e+19  \nmax            40.013607      90.994003  1.844671e+19  \n\n[8 rows x 52 columns]",
      "text/html": "<div>\n<style scoped>\n    .dataframe tbody tr th:only-of-type {\n        vertical-align: middle;\n    }\n\n    .dataframe tbody tr th {\n        vertical-align: top;\n    }\n\n    .dataframe thead th {\n        text-align: right;\n    }\n</style>\n<table border=\"1\" class=\"dataframe\">\n  <thead>\n    <tr style=\"text-align: right;\">\n      <th></th>\n      <th>accepted_driver_id</th>\n      <th>passenger_id</th>\n      <th>source_lat</th>\n      <th>source_lng</th>\n      <th>destination_lat</th>\n      <th>destination_lng</th>\n      <th>eta</th>\n      <th>ata</th>\n      <th>ride_id</th>\n      <th>city</th>\n      <th>...</th>\n      <th>pickup_a_d_d_result.route_ratio</th>\n      <th>pickup_a_d_d_result.g_p_s_ratio</th>\n      <th>ride_a_d_d_result.distance</th>\n      <th>ride_a_d_d_result.confidence</th>\n      <th>ride_a_d_d_result.route_ratio</th>\n      <th>ride_a_d_d_result.g_p_s_ratio</th>\n      <th>total_a_d_d_confidence</th>\n      <th>in_ride_allotment</th>\n      <th>e_d_d</th>\n      <th>hash</th>\n    </tr>\n  </thead>\n  <tbody>\n    <tr>\n      <th>count</th>\n      <td>2.779210e+05</td>\n      <td>2.779210e+05</td>\n      <td>277921.000000</td>\n      <td>277921.000000</td>\n      <td>277921.000000</td>\n      <td>277921.000000</td>\n      <td>277921.000000</td>\n      <td>277921.000000</td>\n      <td>2.779210e+05</td>\n      <td>277921.0</td>\n      <td>...</td>\n      <td>277921.000000</td>\n      <td>277921.000000</td>\n      <td>277921.000000</td>\n      <td>277921.000000</td>\n      <td>277921.000000</td>\n      <td>277921.000000</td>\n      <td>277921.000000</td>\n      <td>277921.000000</td>\n      <td>277921.000000</td>\n      <td>2.779210e+05</td>\n    </tr>\n    <tr>\n      <th>mean</th>\n      <td>1.950764e+06</td>\n      <td>2.206443e+07</td>\n      <td>35.707878</td>\n      <td>51.398545</td>\n      <td>35.710745</td>\n      <td>51.395072</td>\n      <td>1453.748680</td>\n      <td>1745.764156</td>\n      <td>5.010238e+09</td>\n      <td>1.0</td>\n      <td>...</td>\n      <td>0.000057</td>\n      <td>0.006274</td>\n      <td>29.568464</td>\n      <td>0.905545</td>\n      <td>0.000010</td>\n      <td>0.835038</td>\n      <td>0.914267</td>\n      <td>0.023702</td>\n      <td>16.671833</td>\n      <td>9.232512e+18</td>\n    </tr>\n    <tr>\n      <th>std</th>\n      <td>1.456583e+06</td>\n      <td>1.806766e+07</td>\n      <td>0.076061</td>\n      <td>0.103353</td>\n      <td>0.075421</td>\n      <td>0.110683</td>\n      <td>169.292906</td>\n      <td>605.452738</td>\n      <td>4.404517e+07</td>\n      <td>0.0</td>\n      <td>...</td>\n      <td>0.005579</td>\n      <td>0.001610</td>\n      <td>10.869953</td>\n      <td>0.137264</td>\n      <td>0.000304</td>\n      <td>0.254168</td>\n      <td>0.122694</td>\n      <td>0.241595</td>\n      <td>5.479094</td>\n      <td>5.329329e+18</td>\n    </tr>\n    <tr>\n      <th>min</th>\n      <td>9.000000e+00</td>\n      <td>1.700000e+01</td>\n      <td>35.181488</td>\n      <td>50.900341</td>\n      <td>35.168644</td>\n      <td>50.867809</td>\n      <td>1200.000000</td>\n      <td>128.000000</td>\n      <td>4.933925e+09</td>\n      <td>1.0</td>\n      <td>...</td>\n      <td>0.000000</td>\n      <td>0.000630</td>\n      <td>0.124000</td>\n      <td>0.000000</td>\n      <td>0.000000</td>\n      <td>0.004914</td>\n      <td>0.000000</td>\n      <td>0.000000</td>\n      <td>0.421000</td>\n      <td>1.492987e+13</td>\n    </tr>\n    <tr>\n      <th>25%</th>\n      <td>4.854630e+05</td>\n      <td>3.826310e+06</td>\n      <td>35.676189</td>\n      <td>51.345062</td>\n      <td>35.681149</td>\n      <td>51.346260</td>\n      <td>1306.000000</td>\n      <td>1397.000000</td>\n      <td>4.972242e+09</td>\n      <td>1.0</td>\n      <td>...</td>\n      <td>0.000000</td>\n      <td>0.005263</td>\n      <td>21.969000</td>\n      <td>0.888027</td>\n      <td>0.000000</td>\n      <td>0.813433</td>\n      <td>0.894490</td>\n      <td>0.000000</td>\n      <td>12.729000</td>\n      <td>4.613929e+18</td>\n    </tr>\n    <tr>\n      <th>50%</th>\n      <td>1.874054e+06</td>\n      <td>2.066421e+07</td>\n      <td>35.722034</td>\n      <td>51.405483</td>\n      <td>35.724213</td>\n      <td>51.407406</td>\n      <td>1432.000000</td>\n      <td>1629.000000</td>\n      <td>5.011284e+09</td>\n      <td>1.0</td>\n      <td>...</td>\n      <td>0.000000</td>\n      <td>0.006211</td>\n      <td>28.691999</td>\n      <td>0.965700</td>\n      <td>0.000000</td>\n      <td>0.955882</td>\n      <td>0.967212</td>\n      <td>0.000000</td>\n      <td>16.070000</td>\n      <td>9.233618e+18</td>\n    </tr>\n    <tr>\n      <th>75%</th>\n      <td>3.280994e+06</td>\n      <td>3.648022e+07</td>\n      <td>35.758289</td>\n      <td>51.455685</td>\n      <td>35.760063</td>\n      <td>51.453274</td>\n      <td>1589.000000</td>\n      <td>1932.000000</td>\n      <td>5.048534e+09</td>\n      <td>1.0</td>\n      <td>...</td>\n      <td>0.000000</td>\n      <td>0.007246</td>\n      <td>36.049297</td>\n      <td>0.995148</td>\n      <td>0.000000</td>\n      <td>0.993590</td>\n      <td>0.994865</td>\n      <td>0.000000</td>\n      <td>19.937000</td>\n      <td>1.384941e+19</td>\n    </tr>\n    <tr>\n      <th>max</th>\n      <td>4.420741e+06</td>\n      <td>5.813752e+07</td>\n      <td>35.839840</td>\n      <td>52.081783</td>\n      <td>35.896008</td>\n      <td>52.107143</td>\n      <td>1799.000000</td>\n      <td>18031.000000</td>\n      <td>5.083628e+09</td>\n      <td>1.0</td>\n      <td>...</td>\n      <td>1.000000</td>\n      <td>0.066667</td>\n      <td>1277.150391</td>\n      <td>1.000000</td>\n      <td>0.036465</td>\n      <td>1.000000</td>\n      <td>1.000000</td>\n      <td>40.013607</td>\n      <td>90.994003</td>\n      <td>1.844671e+19</td>\n    </tr>\n  </tbody>\n</table>\n<p>8 rows × 52 columns</p>\n</div>"
     },
     "execution_count": 12,
     "metadata": {},
     "output_type": "execute_result"
    }
   ],
   "source": [
    "rides_test_p3 = rides_test_p3[(rides_test_p3['a_t_a_result.destination_probe_result.confidence'] > 0) & (rides_test_p3['a_t_a_result.boarding_probe_result.confidence'] > 0)]\n",
    "rides_test_p3.describe()"
   ],
   "metadata": {
    "collapsed": false,
    "pycharm": {
     "name": "#%%\n"
    }
   }
  },
  {
   "cell_type": "code",
   "execution_count": 13,
   "outputs": [
    {
     "data": {
      "text/plain": "          eta   ata  a_t_a_result.ride_a_t_a           created_at  source_lat  \\\n4        1295  1320                     1288  2022-08-02 08:34:03   35.760803   \n7        1721  1726                     1580  2022-08-02 07:57:27   35.551586   \n8        1230  1048                     1004  2022-08-02 14:30:25   35.417717   \n14       1641  2785                     2727  2022-08-02 15:10:14   35.768822   \n18       1390  2010                     1964  2022-08-02 11:08:50   35.730118   \n...       ...   ...                      ...                  ...         ...   \n4063264  1712  1875                     1830  2022-09-10 12:24:51   35.669792   \n4063317  1565  1638                     1579  2022-09-10 13:22:41   35.310020   \n4063330  1301  1487                     1435  2022-09-10 14:17:31   35.720974   \n4063337  1239  1567                     1544  2022-09-10 15:42:45   35.724361   \n4063340  1247  1484                     1380  2022-09-10 11:29:32   35.668186   \n\n         source_lng  destination_lat  destination_lng   e_d_d  \\\n4         51.412613        35.680412        51.406525   0.000   \n7         51.251617        35.647949        51.399227   0.000   \n8         51.795067        35.465965        51.675755   0.000   \n14        51.305519        35.765411        51.442303   0.000   \n18        51.382473        35.758369        51.441551   0.000   \n...             ...              ...              ...     ...   \n4063264   51.302319        35.685867        51.414448  13.342   \n4063317   51.730579        35.423836        51.585243  21.211   \n4063330   51.498474        35.708061        51.401943  10.682   \n4063337   51.402294        35.794140        51.472240  14.393   \n4063340   51.361591        35.750282        51.294250  15.186   \n\n             clickhouse_time  \n4        2022-08-02 09:01:23  \n7        2022-08-02 08:29:58  \n8        2022-08-02 14:52:35  \n14       2022-08-02 16:09:17  \n18       2022-08-02 12:05:23  \n...                      ...  \n4063264  2022-09-10 13:04:13  \n4063317  2022-09-10 13:57:58  \n4063330  2022-09-10 14:51:03  \n4063337  2022-09-10 16:13:23  \n4063340  2022-09-10 11:56:31  \n\n[418611 rows x 10 columns]",
      "text/html": "<div>\n<style scoped>\n    .dataframe tbody tr th:only-of-type {\n        vertical-align: middle;\n    }\n\n    .dataframe tbody tr th {\n        vertical-align: top;\n    }\n\n    .dataframe thead th {\n        text-align: right;\n    }\n</style>\n<table border=\"1\" class=\"dataframe\">\n  <thead>\n    <tr style=\"text-align: right;\">\n      <th></th>\n      <th>eta</th>\n      <th>ata</th>\n      <th>a_t_a_result.ride_a_t_a</th>\n      <th>created_at</th>\n      <th>source_lat</th>\n      <th>source_lng</th>\n      <th>destination_lat</th>\n      <th>destination_lng</th>\n      <th>e_d_d</th>\n      <th>clickhouse_time</th>\n    </tr>\n  </thead>\n  <tbody>\n    <tr>\n      <th>4</th>\n      <td>1295</td>\n      <td>1320</td>\n      <td>1288</td>\n      <td>2022-08-02 08:34:03</td>\n      <td>35.760803</td>\n      <td>51.412613</td>\n      <td>35.680412</td>\n      <td>51.406525</td>\n      <td>0.000</td>\n      <td>2022-08-02 09:01:23</td>\n    </tr>\n    <tr>\n      <th>7</th>\n      <td>1721</td>\n      <td>1726</td>\n      <td>1580</td>\n      <td>2022-08-02 07:57:27</td>\n      <td>35.551586</td>\n      <td>51.251617</td>\n      <td>35.647949</td>\n      <td>51.399227</td>\n      <td>0.000</td>\n      <td>2022-08-02 08:29:58</td>\n    </tr>\n    <tr>\n      <th>8</th>\n      <td>1230</td>\n      <td>1048</td>\n      <td>1004</td>\n      <td>2022-08-02 14:30:25</td>\n      <td>35.417717</td>\n      <td>51.795067</td>\n      <td>35.465965</td>\n      <td>51.675755</td>\n      <td>0.000</td>\n      <td>2022-08-02 14:52:35</td>\n    </tr>\n    <tr>\n      <th>14</th>\n      <td>1641</td>\n      <td>2785</td>\n      <td>2727</td>\n      <td>2022-08-02 15:10:14</td>\n      <td>35.768822</td>\n      <td>51.305519</td>\n      <td>35.765411</td>\n      <td>51.442303</td>\n      <td>0.000</td>\n      <td>2022-08-02 16:09:17</td>\n    </tr>\n    <tr>\n      <th>18</th>\n      <td>1390</td>\n      <td>2010</td>\n      <td>1964</td>\n      <td>2022-08-02 11:08:50</td>\n      <td>35.730118</td>\n      <td>51.382473</td>\n      <td>35.758369</td>\n      <td>51.441551</td>\n      <td>0.000</td>\n      <td>2022-08-02 12:05:23</td>\n    </tr>\n    <tr>\n      <th>...</th>\n      <td>...</td>\n      <td>...</td>\n      <td>...</td>\n      <td>...</td>\n      <td>...</td>\n      <td>...</td>\n      <td>...</td>\n      <td>...</td>\n      <td>...</td>\n      <td>...</td>\n    </tr>\n    <tr>\n      <th>4063264</th>\n      <td>1712</td>\n      <td>1875</td>\n      <td>1830</td>\n      <td>2022-09-10 12:24:51</td>\n      <td>35.669792</td>\n      <td>51.302319</td>\n      <td>35.685867</td>\n      <td>51.414448</td>\n      <td>13.342</td>\n      <td>2022-09-10 13:04:13</td>\n    </tr>\n    <tr>\n      <th>4063317</th>\n      <td>1565</td>\n      <td>1638</td>\n      <td>1579</td>\n      <td>2022-09-10 13:22:41</td>\n      <td>35.310020</td>\n      <td>51.730579</td>\n      <td>35.423836</td>\n      <td>51.585243</td>\n      <td>21.211</td>\n      <td>2022-09-10 13:57:58</td>\n    </tr>\n    <tr>\n      <th>4063330</th>\n      <td>1301</td>\n      <td>1487</td>\n      <td>1435</td>\n      <td>2022-09-10 14:17:31</td>\n      <td>35.720974</td>\n      <td>51.498474</td>\n      <td>35.708061</td>\n      <td>51.401943</td>\n      <td>10.682</td>\n      <td>2022-09-10 14:51:03</td>\n    </tr>\n    <tr>\n      <th>4063337</th>\n      <td>1239</td>\n      <td>1567</td>\n      <td>1544</td>\n      <td>2022-09-10 15:42:45</td>\n      <td>35.724361</td>\n      <td>51.402294</td>\n      <td>35.794140</td>\n      <td>51.472240</td>\n      <td>14.393</td>\n      <td>2022-09-10 16:13:23</td>\n    </tr>\n    <tr>\n      <th>4063340</th>\n      <td>1247</td>\n      <td>1484</td>\n      <td>1380</td>\n      <td>2022-09-10 11:29:32</td>\n      <td>35.668186</td>\n      <td>51.361591</td>\n      <td>35.750282</td>\n      <td>51.294250</td>\n      <td>15.186</td>\n      <td>2022-09-10 11:56:31</td>\n    </tr>\n  </tbody>\n</table>\n<p>418611 rows × 10 columns</p>\n</div>"
     },
     "execution_count": 13,
     "metadata": {},
     "output_type": "execute_result"
    }
   ],
   "source": [
    "rides_train_p3 = rides_train_p3[['eta', 'ata', 'a_t_a_result.ride_a_t_a', 'created_at', 'source_lat', 'source_lng', 'destination_lat', 'destination_lng', 'e_d_d', 'clickhouse_time']]\n",
    "rides_train_p3"
   ],
   "metadata": {
    "collapsed": false,
    "pycharm": {
     "name": "#%%\n"
    }
   }
  },
  {
   "cell_type": "code",
   "execution_count": 14,
   "outputs": [
    {
     "data": {
      "text/plain": "          eta   ata  a_t_a_result.ride_a_t_a           created_at  source_lat  \\\n4        1586  1663                     1672  2022-09-11 16:18:50   35.754002   \n14       1708  2254                     2224  2022-09-11 10:37:12   35.792473   \n32       1275  1435                     1436  2022-09-11 07:03:23   35.720085   \n34       1389  1729                     1685  2022-09-11 08:14:49   35.684532   \n46       1432  1450                     1556  2022-09-11 12:16:11   35.765507   \n...       ...   ...                      ...                  ...         ...   \n2729932  1605  1964                     1888  2022-10-09 11:23:07   35.718967   \n2729934  1508  1672                     1620  2022-10-09 11:43:55   35.661739   \n2729939  1783  1984                     1932  2022-10-09 20:13:35   35.774361   \n2729953  1762  2073                     2231  2022-10-09 18:35:58   35.628841   \n2729980  1328   948                     1188  2022-10-09 16:41:49   35.806198   \n\n         source_lng  destination_lat  destination_lng      e_d_d  \\\n4         51.502956        35.633537        51.494732  17.757999   \n14        51.425320        35.698429        51.456745  19.094999   \n32        51.301212        35.710041        51.175381  18.556000   \n34        51.409050        35.756382        51.395046  11.348000   \n46        51.418747        35.710609        51.315659  18.350000   \n...             ...              ...              ...        ...   \n2729932   51.314106        35.742729        51.408863  13.023000   \n2729934   51.383343        35.787380        51.375748  18.952999   \n2729939   51.377525        35.692543        51.365459  12.733000   \n2729953   51.337055        35.557434        51.229160  14.194000   \n2729980   51.467262        35.804634        51.433849   5.599000   \n\n             clickhouse_time  \n4        2022-09-11 18:07:01  \n14       2022-09-11 11:21:00  \n32       2022-09-11 07:32:28  \n34       2022-09-11 08:52:25  \n46       2022-09-11 12:47:13  \n...                      ...  \n2729932  2022-10-09 12:01:00  \n2729934  2022-10-09 12:18:13  \n2729939  2022-10-09 20:51:04  \n2729953  2022-10-09 19:16:11  \n2729980  2022-10-09 17:04:42  \n\n[277921 rows x 10 columns]",
      "text/html": "<div>\n<style scoped>\n    .dataframe tbody tr th:only-of-type {\n        vertical-align: middle;\n    }\n\n    .dataframe tbody tr th {\n        vertical-align: top;\n    }\n\n    .dataframe thead th {\n        text-align: right;\n    }\n</style>\n<table border=\"1\" class=\"dataframe\">\n  <thead>\n    <tr style=\"text-align: right;\">\n      <th></th>\n      <th>eta</th>\n      <th>ata</th>\n      <th>a_t_a_result.ride_a_t_a</th>\n      <th>created_at</th>\n      <th>source_lat</th>\n      <th>source_lng</th>\n      <th>destination_lat</th>\n      <th>destination_lng</th>\n      <th>e_d_d</th>\n      <th>clickhouse_time</th>\n    </tr>\n  </thead>\n  <tbody>\n    <tr>\n      <th>4</th>\n      <td>1586</td>\n      <td>1663</td>\n      <td>1672</td>\n      <td>2022-09-11 16:18:50</td>\n      <td>35.754002</td>\n      <td>51.502956</td>\n      <td>35.633537</td>\n      <td>51.494732</td>\n      <td>17.757999</td>\n      <td>2022-09-11 18:07:01</td>\n    </tr>\n    <tr>\n      <th>14</th>\n      <td>1708</td>\n      <td>2254</td>\n      <td>2224</td>\n      <td>2022-09-11 10:37:12</td>\n      <td>35.792473</td>\n      <td>51.425320</td>\n      <td>35.698429</td>\n      <td>51.456745</td>\n      <td>19.094999</td>\n      <td>2022-09-11 11:21:00</td>\n    </tr>\n    <tr>\n      <th>32</th>\n      <td>1275</td>\n      <td>1435</td>\n      <td>1436</td>\n      <td>2022-09-11 07:03:23</td>\n      <td>35.720085</td>\n      <td>51.301212</td>\n      <td>35.710041</td>\n      <td>51.175381</td>\n      <td>18.556000</td>\n      <td>2022-09-11 07:32:28</td>\n    </tr>\n    <tr>\n      <th>34</th>\n      <td>1389</td>\n      <td>1729</td>\n      <td>1685</td>\n      <td>2022-09-11 08:14:49</td>\n      <td>35.684532</td>\n      <td>51.409050</td>\n      <td>35.756382</td>\n      <td>51.395046</td>\n      <td>11.348000</td>\n      <td>2022-09-11 08:52:25</td>\n    </tr>\n    <tr>\n      <th>46</th>\n      <td>1432</td>\n      <td>1450</td>\n      <td>1556</td>\n      <td>2022-09-11 12:16:11</td>\n      <td>35.765507</td>\n      <td>51.418747</td>\n      <td>35.710609</td>\n      <td>51.315659</td>\n      <td>18.350000</td>\n      <td>2022-09-11 12:47:13</td>\n    </tr>\n    <tr>\n      <th>...</th>\n      <td>...</td>\n      <td>...</td>\n      <td>...</td>\n      <td>...</td>\n      <td>...</td>\n      <td>...</td>\n      <td>...</td>\n      <td>...</td>\n      <td>...</td>\n      <td>...</td>\n    </tr>\n    <tr>\n      <th>2729932</th>\n      <td>1605</td>\n      <td>1964</td>\n      <td>1888</td>\n      <td>2022-10-09 11:23:07</td>\n      <td>35.718967</td>\n      <td>51.314106</td>\n      <td>35.742729</td>\n      <td>51.408863</td>\n      <td>13.023000</td>\n      <td>2022-10-09 12:01:00</td>\n    </tr>\n    <tr>\n      <th>2729934</th>\n      <td>1508</td>\n      <td>1672</td>\n      <td>1620</td>\n      <td>2022-10-09 11:43:55</td>\n      <td>35.661739</td>\n      <td>51.383343</td>\n      <td>35.787380</td>\n      <td>51.375748</td>\n      <td>18.952999</td>\n      <td>2022-10-09 12:18:13</td>\n    </tr>\n    <tr>\n      <th>2729939</th>\n      <td>1783</td>\n      <td>1984</td>\n      <td>1932</td>\n      <td>2022-10-09 20:13:35</td>\n      <td>35.774361</td>\n      <td>51.377525</td>\n      <td>35.692543</td>\n      <td>51.365459</td>\n      <td>12.733000</td>\n      <td>2022-10-09 20:51:04</td>\n    </tr>\n    <tr>\n      <th>2729953</th>\n      <td>1762</td>\n      <td>2073</td>\n      <td>2231</td>\n      <td>2022-10-09 18:35:58</td>\n      <td>35.628841</td>\n      <td>51.337055</td>\n      <td>35.557434</td>\n      <td>51.229160</td>\n      <td>14.194000</td>\n      <td>2022-10-09 19:16:11</td>\n    </tr>\n    <tr>\n      <th>2729980</th>\n      <td>1328</td>\n      <td>948</td>\n      <td>1188</td>\n      <td>2022-10-09 16:41:49</td>\n      <td>35.806198</td>\n      <td>51.467262</td>\n      <td>35.804634</td>\n      <td>51.433849</td>\n      <td>5.599000</td>\n      <td>2022-10-09 17:04:42</td>\n    </tr>\n  </tbody>\n</table>\n<p>277921 rows × 10 columns</p>\n</div>"
     },
     "execution_count": 14,
     "metadata": {},
     "output_type": "execute_result"
    }
   ],
   "source": [
    "rides_test_p3 = rides_test_p3[['eta', 'ata', 'a_t_a_result.ride_a_t_a', 'created_at', 'source_lat', 'source_lng', 'destination_lat', 'destination_lng', 'e_d_d', 'clickhouse_time']]\n",
    "rides_test_p3"
   ],
   "metadata": {
    "collapsed": false,
    "pycharm": {
     "name": "#%%\n"
    }
   }
  },
  {
   "cell_type": "code",
   "execution_count": 15,
   "outputs": [
    {
     "name": "stderr",
     "output_type": "stream",
     "text": [
      "/var/folders/yq/707ysz_j3jlggmtk5clx13rm0000gn/T/ipykernel_66006/3194429310.py:1: SettingWithCopyWarning: \n",
      "A value is trying to be set on a copy of a slice from a DataFrame.\n",
      "Try using .loc[row_indexer,col_indexer] = value instead\n",
      "\n",
      "See the caveats in the documentation: https://pandas.pydata.org/pandas-docs/stable/user_guide/indexing.html#returning-a-view-versus-a-copy\n",
      "  rides_train_p3['source_h3_4'] = rides_train_p3.apply(lambda row: h3.geo_to_h3(row.source_lat, row.source_lng, 4), axis=1)\n",
      "/var/folders/yq/707ysz_j3jlggmtk5clx13rm0000gn/T/ipykernel_66006/3194429310.py:2: SettingWithCopyWarning: \n",
      "A value is trying to be set on a copy of a slice from a DataFrame.\n",
      "Try using .loc[row_indexer,col_indexer] = value instead\n",
      "\n",
      "See the caveats in the documentation: https://pandas.pydata.org/pandas-docs/stable/user_guide/indexing.html#returning-a-view-versus-a-copy\n",
      "  rides_train_p3['dest_h3_4'] = rides_train_p3.apply(lambda row: h3.geo_to_h3(row.destination_lat, row.destination_lng, 4), axis=1)\n",
      "/var/folders/yq/707ysz_j3jlggmtk5clx13rm0000gn/T/ipykernel_66006/3194429310.py:3: SettingWithCopyWarning: \n",
      "A value is trying to be set on a copy of a slice from a DataFrame.\n",
      "Try using .loc[row_indexer,col_indexer] = value instead\n",
      "\n",
      "See the caveats in the documentation: https://pandas.pydata.org/pandas-docs/stable/user_guide/indexing.html#returning-a-view-versus-a-copy\n",
      "  rides_train_p3['hour'] = rides_train_p3.apply(lambda row: ((datetime.timestamp(datetime.strptime(row.created_at,\"%Y-%m-%d %H:%M:%S\")) - 1662147000) % 604800) / 3600, axis=1)\n",
      "/var/folders/yq/707ysz_j3jlggmtk5clx13rm0000gn/T/ipykernel_66006/3194429310.py:4: SettingWithCopyWarning: \n",
      "A value is trying to be set on a copy of a slice from a DataFrame.\n",
      "Try using .loc[row_indexer,col_indexer] = value instead\n",
      "\n",
      "See the caveats in the documentation: https://pandas.pydata.org/pandas-docs/stable/user_guide/indexing.html#returning-a-view-versus-a-copy\n",
      "  rides_train_p3['holiday'] = rides_train_p3.apply(lambda row: int(row.created_at.split()[0] in train_holidays), axis=1)\n"
     ]
    },
    {
     "data": {
      "text/plain": "          eta   ata  a_t_a_result.ride_a_t_a           created_at  source_lat  \\\n4        1295  1320                     1288  2022-08-02 08:34:03   35.760803   \n7        1721  1726                     1580  2022-08-02 07:57:27   35.551586   \n8        1230  1048                     1004  2022-08-02 14:30:25   35.417717   \n14       1641  2785                     2727  2022-08-02 15:10:14   35.768822   \n18       1390  2010                     1964  2022-08-02 11:08:50   35.730118   \n...       ...   ...                      ...                  ...         ...   \n4063264  1712  1875                     1830  2022-09-10 12:24:51   35.669792   \n4063317  1565  1638                     1579  2022-09-10 13:22:41   35.310020   \n4063330  1301  1487                     1435  2022-09-10 14:17:31   35.720974   \n4063337  1239  1567                     1544  2022-09-10 15:42:45   35.724361   \n4063340  1247  1484                     1380  2022-09-10 11:29:32   35.668186   \n\n         source_lng  destination_lat  destination_lng   e_d_d  \\\n4         51.412613        35.680412        51.406525   0.000   \n7         51.251617        35.647949        51.399227   0.000   \n8         51.795067        35.465965        51.675755   0.000   \n14        51.305519        35.765411        51.442303   0.000   \n18        51.382473        35.758369        51.441551   0.000   \n...             ...              ...              ...     ...   \n4063264   51.302319        35.685867        51.414448  13.342   \n4063317   51.730579        35.423836        51.585243  21.211   \n4063330   51.498474        35.708061        51.401943  10.682   \n4063337   51.402294        35.794140        51.472240  14.393   \n4063340   51.361591        35.750282        51.294250  15.186   \n\n             clickhouse_time      source_h3_4        dest_h3_4       hour  \\\n4        2022-08-02 09:01:23  842cf31ffffffff  842cf31ffffffff  80.567500   \n7        2022-08-02 08:29:58  842cf35ffffffff  842cf31ffffffff  79.957500   \n8        2022-08-02 14:52:35  842cf37ffffffff  842cf37ffffffff  86.506944   \n14       2022-08-02 16:09:17  842cf31ffffffff  842cf31ffffffff  87.170556   \n18       2022-08-02 12:05:23  842cf31ffffffff  842cf31ffffffff  83.147222   \n...                      ...              ...              ...        ...   \n4063264  2022-09-10 13:04:13  842cf31ffffffff  842cf31ffffffff  12.414167   \n4063317  2022-09-10 13:57:58  842cf37ffffffff  842cf35ffffffff  13.378056   \n4063330  2022-09-10 14:51:03  842cf31ffffffff  842cf31ffffffff  14.291944   \n4063337  2022-09-10 16:13:23  842cf31ffffffff  842cf31ffffffff  15.712500   \n4063340  2022-09-10 11:56:31  842cf31ffffffff  842cf31ffffffff  11.492222   \n\n         holiday  \n4              0  \n7              0  \n8              0  \n14             0  \n18             0  \n...          ...  \n4063264        0  \n4063317        0  \n4063330        0  \n4063337        0  \n4063340        0  \n\n[418611 rows x 14 columns]",
      "text/html": "<div>\n<style scoped>\n    .dataframe tbody tr th:only-of-type {\n        vertical-align: middle;\n    }\n\n    .dataframe tbody tr th {\n        vertical-align: top;\n    }\n\n    .dataframe thead th {\n        text-align: right;\n    }\n</style>\n<table border=\"1\" class=\"dataframe\">\n  <thead>\n    <tr style=\"text-align: right;\">\n      <th></th>\n      <th>eta</th>\n      <th>ata</th>\n      <th>a_t_a_result.ride_a_t_a</th>\n      <th>created_at</th>\n      <th>source_lat</th>\n      <th>source_lng</th>\n      <th>destination_lat</th>\n      <th>destination_lng</th>\n      <th>e_d_d</th>\n      <th>clickhouse_time</th>\n      <th>source_h3_4</th>\n      <th>dest_h3_4</th>\n      <th>hour</th>\n      <th>holiday</th>\n    </tr>\n  </thead>\n  <tbody>\n    <tr>\n      <th>4</th>\n      <td>1295</td>\n      <td>1320</td>\n      <td>1288</td>\n      <td>2022-08-02 08:34:03</td>\n      <td>35.760803</td>\n      <td>51.412613</td>\n      <td>35.680412</td>\n      <td>51.406525</td>\n      <td>0.000</td>\n      <td>2022-08-02 09:01:23</td>\n      <td>842cf31ffffffff</td>\n      <td>842cf31ffffffff</td>\n      <td>80.567500</td>\n      <td>0</td>\n    </tr>\n    <tr>\n      <th>7</th>\n      <td>1721</td>\n      <td>1726</td>\n      <td>1580</td>\n      <td>2022-08-02 07:57:27</td>\n      <td>35.551586</td>\n      <td>51.251617</td>\n      <td>35.647949</td>\n      <td>51.399227</td>\n      <td>0.000</td>\n      <td>2022-08-02 08:29:58</td>\n      <td>842cf35ffffffff</td>\n      <td>842cf31ffffffff</td>\n      <td>79.957500</td>\n      <td>0</td>\n    </tr>\n    <tr>\n      <th>8</th>\n      <td>1230</td>\n      <td>1048</td>\n      <td>1004</td>\n      <td>2022-08-02 14:30:25</td>\n      <td>35.417717</td>\n      <td>51.795067</td>\n      <td>35.465965</td>\n      <td>51.675755</td>\n      <td>0.000</td>\n      <td>2022-08-02 14:52:35</td>\n      <td>842cf37ffffffff</td>\n      <td>842cf37ffffffff</td>\n      <td>86.506944</td>\n      <td>0</td>\n    </tr>\n    <tr>\n      <th>14</th>\n      <td>1641</td>\n      <td>2785</td>\n      <td>2727</td>\n      <td>2022-08-02 15:10:14</td>\n      <td>35.768822</td>\n      <td>51.305519</td>\n      <td>35.765411</td>\n      <td>51.442303</td>\n      <td>0.000</td>\n      <td>2022-08-02 16:09:17</td>\n      <td>842cf31ffffffff</td>\n      <td>842cf31ffffffff</td>\n      <td>87.170556</td>\n      <td>0</td>\n    </tr>\n    <tr>\n      <th>18</th>\n      <td>1390</td>\n      <td>2010</td>\n      <td>1964</td>\n      <td>2022-08-02 11:08:50</td>\n      <td>35.730118</td>\n      <td>51.382473</td>\n      <td>35.758369</td>\n      <td>51.441551</td>\n      <td>0.000</td>\n      <td>2022-08-02 12:05:23</td>\n      <td>842cf31ffffffff</td>\n      <td>842cf31ffffffff</td>\n      <td>83.147222</td>\n      <td>0</td>\n    </tr>\n    <tr>\n      <th>...</th>\n      <td>...</td>\n      <td>...</td>\n      <td>...</td>\n      <td>...</td>\n      <td>...</td>\n      <td>...</td>\n      <td>...</td>\n      <td>...</td>\n      <td>...</td>\n      <td>...</td>\n      <td>...</td>\n      <td>...</td>\n      <td>...</td>\n      <td>...</td>\n    </tr>\n    <tr>\n      <th>4063264</th>\n      <td>1712</td>\n      <td>1875</td>\n      <td>1830</td>\n      <td>2022-09-10 12:24:51</td>\n      <td>35.669792</td>\n      <td>51.302319</td>\n      <td>35.685867</td>\n      <td>51.414448</td>\n      <td>13.342</td>\n      <td>2022-09-10 13:04:13</td>\n      <td>842cf31ffffffff</td>\n      <td>842cf31ffffffff</td>\n      <td>12.414167</td>\n      <td>0</td>\n    </tr>\n    <tr>\n      <th>4063317</th>\n      <td>1565</td>\n      <td>1638</td>\n      <td>1579</td>\n      <td>2022-09-10 13:22:41</td>\n      <td>35.310020</td>\n      <td>51.730579</td>\n      <td>35.423836</td>\n      <td>51.585243</td>\n      <td>21.211</td>\n      <td>2022-09-10 13:57:58</td>\n      <td>842cf37ffffffff</td>\n      <td>842cf35ffffffff</td>\n      <td>13.378056</td>\n      <td>0</td>\n    </tr>\n    <tr>\n      <th>4063330</th>\n      <td>1301</td>\n      <td>1487</td>\n      <td>1435</td>\n      <td>2022-09-10 14:17:31</td>\n      <td>35.720974</td>\n      <td>51.498474</td>\n      <td>35.708061</td>\n      <td>51.401943</td>\n      <td>10.682</td>\n      <td>2022-09-10 14:51:03</td>\n      <td>842cf31ffffffff</td>\n      <td>842cf31ffffffff</td>\n      <td>14.291944</td>\n      <td>0</td>\n    </tr>\n    <tr>\n      <th>4063337</th>\n      <td>1239</td>\n      <td>1567</td>\n      <td>1544</td>\n      <td>2022-09-10 15:42:45</td>\n      <td>35.724361</td>\n      <td>51.402294</td>\n      <td>35.794140</td>\n      <td>51.472240</td>\n      <td>14.393</td>\n      <td>2022-09-10 16:13:23</td>\n      <td>842cf31ffffffff</td>\n      <td>842cf31ffffffff</td>\n      <td>15.712500</td>\n      <td>0</td>\n    </tr>\n    <tr>\n      <th>4063340</th>\n      <td>1247</td>\n      <td>1484</td>\n      <td>1380</td>\n      <td>2022-09-10 11:29:32</td>\n      <td>35.668186</td>\n      <td>51.361591</td>\n      <td>35.750282</td>\n      <td>51.294250</td>\n      <td>15.186</td>\n      <td>2022-09-10 11:56:31</td>\n      <td>842cf31ffffffff</td>\n      <td>842cf31ffffffff</td>\n      <td>11.492222</td>\n      <td>0</td>\n    </tr>\n  </tbody>\n</table>\n<p>418611 rows × 14 columns</p>\n</div>"
     },
     "execution_count": 15,
     "metadata": {},
     "output_type": "execute_result"
    }
   ],
   "source": [
    "rides_train_p3['source_h3_4'] = rides_train_p3.apply(lambda row: h3.geo_to_h3(row.source_lat, row.source_lng, 4), axis=1)\n",
    "rides_train_p3['dest_h3_4'] = rides_train_p3.apply(lambda row: h3.geo_to_h3(row.destination_lat, row.destination_lng, 4), axis=1)\n",
    "rides_train_p3['hour'] = rides_train_p3.apply(lambda row: ((datetime.timestamp(datetime.strptime(row.created_at,\"%Y-%m-%d %H:%M:%S\")) - 1662147000) % 604800) / 3600, axis=1)\n",
    "rides_train_p3['holiday'] = rides_train_p3.apply(lambda row: int(row.created_at.split()[0] in train_holidays), axis=1)\n",
    "rides_train_p3"
   ],
   "metadata": {
    "collapsed": false,
    "pycharm": {
     "name": "#%%\n"
    }
   }
  },
  {
   "cell_type": "code",
   "execution_count": 16,
   "outputs": [
    {
     "name": "stderr",
     "output_type": "stream",
     "text": [
      "/var/folders/yq/707ysz_j3jlggmtk5clx13rm0000gn/T/ipykernel_66006/2202409818.py:1: SettingWithCopyWarning: \n",
      "A value is trying to be set on a copy of a slice from a DataFrame.\n",
      "Try using .loc[row_indexer,col_indexer] = value instead\n",
      "\n",
      "See the caveats in the documentation: https://pandas.pydata.org/pandas-docs/stable/user_guide/indexing.html#returning-a-view-versus-a-copy\n",
      "  rides_test_p3['source_h3_4'] = rides_test_p3.apply(lambda row: h3.geo_to_h3(row.source_lat, row.source_lng, 4), axis=1)\n",
      "/var/folders/yq/707ysz_j3jlggmtk5clx13rm0000gn/T/ipykernel_66006/2202409818.py:2: SettingWithCopyWarning: \n",
      "A value is trying to be set on a copy of a slice from a DataFrame.\n",
      "Try using .loc[row_indexer,col_indexer] = value instead\n",
      "\n",
      "See the caveats in the documentation: https://pandas.pydata.org/pandas-docs/stable/user_guide/indexing.html#returning-a-view-versus-a-copy\n",
      "  rides_test_p3['dest_h3_4'] = rides_test_p3.apply(lambda row: h3.geo_to_h3(row.destination_lat, row.destination_lng, 4), axis=1)\n",
      "/var/folders/yq/707ysz_j3jlggmtk5clx13rm0000gn/T/ipykernel_66006/2202409818.py:3: SettingWithCopyWarning: \n",
      "A value is trying to be set on a copy of a slice from a DataFrame.\n",
      "Try using .loc[row_indexer,col_indexer] = value instead\n",
      "\n",
      "See the caveats in the documentation: https://pandas.pydata.org/pandas-docs/stable/user_guide/indexing.html#returning-a-view-versus-a-copy\n",
      "  rides_test_p3['hour'] = rides_test_p3.apply(lambda row: ((datetime.timestamp(datetime.strptime(row.created_at,\"%Y-%m-%d %H:%M:%S\")) - 1662147000) % 604800) / 3600, axis=1)\n",
      "/var/folders/yq/707ysz_j3jlggmtk5clx13rm0000gn/T/ipykernel_66006/2202409818.py:4: SettingWithCopyWarning: \n",
      "A value is trying to be set on a copy of a slice from a DataFrame.\n",
      "Try using .loc[row_indexer,col_indexer] = value instead\n",
      "\n",
      "See the caveats in the documentation: https://pandas.pydata.org/pandas-docs/stable/user_guide/indexing.html#returning-a-view-versus-a-copy\n",
      "  rides_test_p3['holiday'] = rides_test_p3.apply(lambda row: int(row.created_at.split()[0] in test_holidays), axis=1)\n"
     ]
    },
    {
     "data": {
      "text/plain": "          eta   ata  a_t_a_result.ride_a_t_a           created_at  source_lat  \\\n4        1586  1663                     1672  2022-09-11 16:18:50   35.754002   \n14       1708  2254                     2224  2022-09-11 10:37:12   35.792473   \n32       1275  1435                     1436  2022-09-11 07:03:23   35.720085   \n34       1389  1729                     1685  2022-09-11 08:14:49   35.684532   \n46       1432  1450                     1556  2022-09-11 12:16:11   35.765507   \n...       ...   ...                      ...                  ...         ...   \n2729932  1605  1964                     1888  2022-10-09 11:23:07   35.718967   \n2729934  1508  1672                     1620  2022-10-09 11:43:55   35.661739   \n2729939  1783  1984                     1932  2022-10-09 20:13:35   35.774361   \n2729953  1762  2073                     2231  2022-10-09 18:35:58   35.628841   \n2729980  1328   948                     1188  2022-10-09 16:41:49   35.806198   \n\n         source_lng  destination_lat  destination_lng      e_d_d  \\\n4         51.502956        35.633537        51.494732  17.757999   \n14        51.425320        35.698429        51.456745  19.094999   \n32        51.301212        35.710041        51.175381  18.556000   \n34        51.409050        35.756382        51.395046  11.348000   \n46        51.418747        35.710609        51.315659  18.350000   \n...             ...              ...              ...        ...   \n2729932   51.314106        35.742729        51.408863  13.023000   \n2729934   51.383343        35.787380        51.375748  18.952999   \n2729939   51.377525        35.692543        51.365459  12.733000   \n2729953   51.337055        35.557434        51.229160  14.194000   \n2729980   51.467262        35.804634        51.433849   5.599000   \n\n             clickhouse_time      source_h3_4        dest_h3_4       hour  \\\n4        2022-09-11 18:07:01  842cf31ffffffff  842cf31ffffffff  40.313889   \n14       2022-09-11 11:21:00  842cf31ffffffff  842cf31ffffffff  34.620000   \n32       2022-09-11 07:32:28  842cf31ffffffff  842cf3dffffffff  31.056389   \n34       2022-09-11 08:52:25  842cf31ffffffff  842cf31ffffffff  32.246944   \n46       2022-09-11 12:47:13  842cf31ffffffff  842cf31ffffffff  36.269722   \n...                      ...              ...              ...        ...   \n2729932  2022-10-09 12:01:00  842cf31ffffffff  842cf31ffffffff  36.385278   \n2729934  2022-10-09 12:18:13  842cf31ffffffff  842cf31ffffffff  36.731944   \n2729939  2022-10-09 20:51:04  842cf31ffffffff  842cf31ffffffff  45.226389   \n2729953  2022-10-09 19:16:11  842cf31ffffffff  842cf35ffffffff  43.599444   \n2729980  2022-10-09 17:04:42  842cf31ffffffff  842cf31ffffffff  41.696944   \n\n         holiday  \n4              0  \n14             0  \n32             0  \n34             0  \n46             0  \n...          ...  \n2729932        0  \n2729934        0  \n2729939        0  \n2729953        0  \n2729980        0  \n\n[277921 rows x 14 columns]",
      "text/html": "<div>\n<style scoped>\n    .dataframe tbody tr th:only-of-type {\n        vertical-align: middle;\n    }\n\n    .dataframe tbody tr th {\n        vertical-align: top;\n    }\n\n    .dataframe thead th {\n        text-align: right;\n    }\n</style>\n<table border=\"1\" class=\"dataframe\">\n  <thead>\n    <tr style=\"text-align: right;\">\n      <th></th>\n      <th>eta</th>\n      <th>ata</th>\n      <th>a_t_a_result.ride_a_t_a</th>\n      <th>created_at</th>\n      <th>source_lat</th>\n      <th>source_lng</th>\n      <th>destination_lat</th>\n      <th>destination_lng</th>\n      <th>e_d_d</th>\n      <th>clickhouse_time</th>\n      <th>source_h3_4</th>\n      <th>dest_h3_4</th>\n      <th>hour</th>\n      <th>holiday</th>\n    </tr>\n  </thead>\n  <tbody>\n    <tr>\n      <th>4</th>\n      <td>1586</td>\n      <td>1663</td>\n      <td>1672</td>\n      <td>2022-09-11 16:18:50</td>\n      <td>35.754002</td>\n      <td>51.502956</td>\n      <td>35.633537</td>\n      <td>51.494732</td>\n      <td>17.757999</td>\n      <td>2022-09-11 18:07:01</td>\n      <td>842cf31ffffffff</td>\n      <td>842cf31ffffffff</td>\n      <td>40.313889</td>\n      <td>0</td>\n    </tr>\n    <tr>\n      <th>14</th>\n      <td>1708</td>\n      <td>2254</td>\n      <td>2224</td>\n      <td>2022-09-11 10:37:12</td>\n      <td>35.792473</td>\n      <td>51.425320</td>\n      <td>35.698429</td>\n      <td>51.456745</td>\n      <td>19.094999</td>\n      <td>2022-09-11 11:21:00</td>\n      <td>842cf31ffffffff</td>\n      <td>842cf31ffffffff</td>\n      <td>34.620000</td>\n      <td>0</td>\n    </tr>\n    <tr>\n      <th>32</th>\n      <td>1275</td>\n      <td>1435</td>\n      <td>1436</td>\n      <td>2022-09-11 07:03:23</td>\n      <td>35.720085</td>\n      <td>51.301212</td>\n      <td>35.710041</td>\n      <td>51.175381</td>\n      <td>18.556000</td>\n      <td>2022-09-11 07:32:28</td>\n      <td>842cf31ffffffff</td>\n      <td>842cf3dffffffff</td>\n      <td>31.056389</td>\n      <td>0</td>\n    </tr>\n    <tr>\n      <th>34</th>\n      <td>1389</td>\n      <td>1729</td>\n      <td>1685</td>\n      <td>2022-09-11 08:14:49</td>\n      <td>35.684532</td>\n      <td>51.409050</td>\n      <td>35.756382</td>\n      <td>51.395046</td>\n      <td>11.348000</td>\n      <td>2022-09-11 08:52:25</td>\n      <td>842cf31ffffffff</td>\n      <td>842cf31ffffffff</td>\n      <td>32.246944</td>\n      <td>0</td>\n    </tr>\n    <tr>\n      <th>46</th>\n      <td>1432</td>\n      <td>1450</td>\n      <td>1556</td>\n      <td>2022-09-11 12:16:11</td>\n      <td>35.765507</td>\n      <td>51.418747</td>\n      <td>35.710609</td>\n      <td>51.315659</td>\n      <td>18.350000</td>\n      <td>2022-09-11 12:47:13</td>\n      <td>842cf31ffffffff</td>\n      <td>842cf31ffffffff</td>\n      <td>36.269722</td>\n      <td>0</td>\n    </tr>\n    <tr>\n      <th>...</th>\n      <td>...</td>\n      <td>...</td>\n      <td>...</td>\n      <td>...</td>\n      <td>...</td>\n      <td>...</td>\n      <td>...</td>\n      <td>...</td>\n      <td>...</td>\n      <td>...</td>\n      <td>...</td>\n      <td>...</td>\n      <td>...</td>\n      <td>...</td>\n    </tr>\n    <tr>\n      <th>2729932</th>\n      <td>1605</td>\n      <td>1964</td>\n      <td>1888</td>\n      <td>2022-10-09 11:23:07</td>\n      <td>35.718967</td>\n      <td>51.314106</td>\n      <td>35.742729</td>\n      <td>51.408863</td>\n      <td>13.023000</td>\n      <td>2022-10-09 12:01:00</td>\n      <td>842cf31ffffffff</td>\n      <td>842cf31ffffffff</td>\n      <td>36.385278</td>\n      <td>0</td>\n    </tr>\n    <tr>\n      <th>2729934</th>\n      <td>1508</td>\n      <td>1672</td>\n      <td>1620</td>\n      <td>2022-10-09 11:43:55</td>\n      <td>35.661739</td>\n      <td>51.383343</td>\n      <td>35.787380</td>\n      <td>51.375748</td>\n      <td>18.952999</td>\n      <td>2022-10-09 12:18:13</td>\n      <td>842cf31ffffffff</td>\n      <td>842cf31ffffffff</td>\n      <td>36.731944</td>\n      <td>0</td>\n    </tr>\n    <tr>\n      <th>2729939</th>\n      <td>1783</td>\n      <td>1984</td>\n      <td>1932</td>\n      <td>2022-10-09 20:13:35</td>\n      <td>35.774361</td>\n      <td>51.377525</td>\n      <td>35.692543</td>\n      <td>51.365459</td>\n      <td>12.733000</td>\n      <td>2022-10-09 20:51:04</td>\n      <td>842cf31ffffffff</td>\n      <td>842cf31ffffffff</td>\n      <td>45.226389</td>\n      <td>0</td>\n    </tr>\n    <tr>\n      <th>2729953</th>\n      <td>1762</td>\n      <td>2073</td>\n      <td>2231</td>\n      <td>2022-10-09 18:35:58</td>\n      <td>35.628841</td>\n      <td>51.337055</td>\n      <td>35.557434</td>\n      <td>51.229160</td>\n      <td>14.194000</td>\n      <td>2022-10-09 19:16:11</td>\n      <td>842cf31ffffffff</td>\n      <td>842cf35ffffffff</td>\n      <td>43.599444</td>\n      <td>0</td>\n    </tr>\n    <tr>\n      <th>2729980</th>\n      <td>1328</td>\n      <td>948</td>\n      <td>1188</td>\n      <td>2022-10-09 16:41:49</td>\n      <td>35.806198</td>\n      <td>51.467262</td>\n      <td>35.804634</td>\n      <td>51.433849</td>\n      <td>5.599000</td>\n      <td>2022-10-09 17:04:42</td>\n      <td>842cf31ffffffff</td>\n      <td>842cf31ffffffff</td>\n      <td>41.696944</td>\n      <td>0</td>\n    </tr>\n  </tbody>\n</table>\n<p>277921 rows × 14 columns</p>\n</div>"
     },
     "execution_count": 16,
     "metadata": {},
     "output_type": "execute_result"
    }
   ],
   "source": [
    "rides_test_p3['source_h3_4'] = rides_test_p3.apply(lambda row: h3.geo_to_h3(row.source_lat, row.source_lng, 4), axis=1)\n",
    "rides_test_p3['dest_h3_4'] = rides_test_p3.apply(lambda row: h3.geo_to_h3(row.destination_lat, row.destination_lng, 4), axis=1)\n",
    "rides_test_p3['hour'] = rides_test_p3.apply(lambda row: ((datetime.timestamp(datetime.strptime(row.created_at,\"%Y-%m-%d %H:%M:%S\")) - 1662147000) % 604800) / 3600, axis=1)\n",
    "rides_test_p3['holiday'] = rides_test_p3.apply(lambda row: int(row.created_at.split()[0] in test_holidays), axis=1)\n",
    "rides_test_p3"
   ],
   "metadata": {
    "collapsed": false,
    "pycharm": {
     "name": "#%%\n"
    }
   }
  },
  {
   "cell_type": "code",
   "execution_count": 26,
   "outputs": [],
   "source": [
    "train_p3_geo_x = rides_train_p3[[\"eta\", \"source_lat\", \"source_lng\", \"destination_lat\", \"destination_lng\", \"hour\", \"holiday\"]]\n",
    "train_p3_h3_x = rides_train_p3[[\"eta\", \"source_h3_4\", \"dest_h3_4\", \"hour\", \"holiday\"]]\n",
    "train_p3_geo_y = rides_train_p3[\"a_t_a_result.ride_a_t_a\"]\n",
    "train_p3_h3_y = rides_train_p3[\"a_t_a_result.ride_a_t_a\"]"
   ],
   "metadata": {
    "collapsed": false,
    "pycharm": {
     "name": "#%%\n"
    }
   }
  },
  {
   "cell_type": "code",
   "execution_count": 27,
   "outputs": [],
   "source": [
    "test_p3_geo_x = rides_test_p3[[\"eta\", \"source_lat\", \"source_lng\", \"destination_lat\", \"destination_lng\", \"hour\", \"holiday\"]]\n",
    "test_p3_h3_x = rides_test_p3[[\"eta\", \"source_h3_4\", \"dest_h3_4\", \"hour\", \"holiday\"]]\n",
    "test_p3_geo_y = rides_test_p3[\"a_t_a_result.ride_a_t_a\"]\n",
    "test_p3_h3_y = rides_test_p3[\"a_t_a_result.ride_a_t_a\"]"
   ],
   "metadata": {
    "collapsed": false,
    "pycharm": {
     "name": "#%%\n"
    }
   }
  },
  {
   "cell_type": "code",
   "execution_count": 28,
   "outputs": [
    {
     "data": {
      "text/plain": "                 eta           hour        holiday  \\\ncount  418611.000000  418611.000000  418611.000000   \nmean     1455.527270      82.690465       0.016753   \nstd       169.783044      45.894171       0.128345   \nmin      1200.000000       0.008889       0.000000   \n25%      1307.000000      40.830556       0.000000   \n50%      1435.000000      85.934444       0.000000   \n75%      1592.000000     116.331667       0.000000   \nmax      1799.000000     167.586111       1.000000   \n\n       source_h3_4_842cd4bffffffff  source_h3_4_842cd59ffffffff  \\\ncount                418611.000000                418611.000000   \nmean                      0.000344                     0.000437   \nstd                       0.018544                     0.020904   \nmin                       0.000000                     0.000000   \n25%                       0.000000                     0.000000   \n50%                       0.000000                     0.000000   \n75%                       0.000000                     0.000000   \nmax                       1.000000                     1.000000   \n\n       source_h3_4_842cf31ffffffff  source_h3_4_842cf33ffffffff  \\\ncount                418611.000000                418611.000000   \nmean                      0.926932                     0.006242   \nstd                       0.260248                     0.078760   \nmin                       0.000000                     0.000000   \n25%                       1.000000                     0.000000   \n50%                       1.000000                     0.000000   \n75%                       1.000000                     0.000000   \nmax                       1.000000                     1.000000   \n\n       source_h3_4_842cf35ffffffff  source_h3_4_842cf37ffffffff  \\\ncount                418611.000000                418611.000000   \nmean                      0.028661                     0.009823   \nstd                       0.166853                     0.098623   \nmin                       0.000000                     0.000000   \n25%                       0.000000                     0.000000   \n50%                       0.000000                     0.000000   \n75%                       0.000000                     0.000000   \nmax                       1.000000                     1.000000   \n\n       source_h3_4_842cf3dffffffff  dest_h3_4_842cd4bffffffff  \\\ncount                418611.000000              418611.000000   \nmean                      0.027560                   0.000389   \nstd                       0.163709                   0.019729   \nmin                       0.000000                   0.000000   \n25%                       0.000000                   0.000000   \n50%                       0.000000                   0.000000   \n75%                       0.000000                   0.000000   \nmax                       1.000000                   1.000000   \n\n       dest_h3_4_842cd59ffffffff  dest_h3_4_842cf07ffffffff  \\\ncount              418611.000000              418611.000000   \nmean                    0.000528                   0.000002   \nstd                     0.022971                   0.001546   \nmin                     0.000000                   0.000000   \n25%                     0.000000                   0.000000   \n50%                     0.000000                   0.000000   \n75%                     0.000000                   0.000000   \nmax                     1.000000                   1.000000   \n\n       dest_h3_4_842cf23ffffffff  dest_h3_4_842cf31ffffffff  \\\ncount              418611.000000              418611.000000   \nmean                    0.000005                   0.914943   \nstd                     0.002186                   0.278968   \nmin                     0.000000                   0.000000   \n25%                     0.000000                   1.000000   \n50%                     0.000000                   1.000000   \n75%                     0.000000                   1.000000   \nmax                     1.000000                   1.000000   \n\n       dest_h3_4_842cf33ffffffff  dest_h3_4_842cf35ffffffff  \\\ncount              418611.000000              418611.000000   \nmean                    0.005396                   0.028392   \nstd                     0.073262                   0.166089   \nmin                     0.000000                   0.000000   \n25%                     0.000000                   0.000000   \n50%                     0.000000                   0.000000   \n75%                     0.000000                   0.000000   \nmax                     1.000000                   1.000000   \n\n       dest_h3_4_842cf37ffffffff  dest_h3_4_842cf39ffffffff  \\\ncount              418611.000000              418611.000000   \nmean                    0.009149                   0.000755   \nstd                     0.095214                   0.027465   \nmin                     0.000000                   0.000000   \n25%                     0.000000                   0.000000   \n50%                     0.000000                   0.000000   \n75%                     0.000000                   0.000000   \nmax                     1.000000                   1.000000   \n\n       dest_h3_4_842cf3dffffffff  \ncount              418611.000000  \nmean                    0.040441  \nstd                     0.196991  \nmin                     0.000000  \n25%                     0.000000  \n50%                     0.000000  \n75%                     0.000000  \nmax                     1.000000  ",
      "text/html": "<div>\n<style scoped>\n    .dataframe tbody tr th:only-of-type {\n        vertical-align: middle;\n    }\n\n    .dataframe tbody tr th {\n        vertical-align: top;\n    }\n\n    .dataframe thead th {\n        text-align: right;\n    }\n</style>\n<table border=\"1\" class=\"dataframe\">\n  <thead>\n    <tr style=\"text-align: right;\">\n      <th></th>\n      <th>eta</th>\n      <th>hour</th>\n      <th>holiday</th>\n      <th>source_h3_4_842cd4bffffffff</th>\n      <th>source_h3_4_842cd59ffffffff</th>\n      <th>source_h3_4_842cf31ffffffff</th>\n      <th>source_h3_4_842cf33ffffffff</th>\n      <th>source_h3_4_842cf35ffffffff</th>\n      <th>source_h3_4_842cf37ffffffff</th>\n      <th>source_h3_4_842cf3dffffffff</th>\n      <th>dest_h3_4_842cd4bffffffff</th>\n      <th>dest_h3_4_842cd59ffffffff</th>\n      <th>dest_h3_4_842cf07ffffffff</th>\n      <th>dest_h3_4_842cf23ffffffff</th>\n      <th>dest_h3_4_842cf31ffffffff</th>\n      <th>dest_h3_4_842cf33ffffffff</th>\n      <th>dest_h3_4_842cf35ffffffff</th>\n      <th>dest_h3_4_842cf37ffffffff</th>\n      <th>dest_h3_4_842cf39ffffffff</th>\n      <th>dest_h3_4_842cf3dffffffff</th>\n    </tr>\n  </thead>\n  <tbody>\n    <tr>\n      <th>count</th>\n      <td>418611.000000</td>\n      <td>418611.000000</td>\n      <td>418611.000000</td>\n      <td>418611.000000</td>\n      <td>418611.000000</td>\n      <td>418611.000000</td>\n      <td>418611.000000</td>\n      <td>418611.000000</td>\n      <td>418611.000000</td>\n      <td>418611.000000</td>\n      <td>418611.000000</td>\n      <td>418611.000000</td>\n      <td>418611.000000</td>\n      <td>418611.000000</td>\n      <td>418611.000000</td>\n      <td>418611.000000</td>\n      <td>418611.000000</td>\n      <td>418611.000000</td>\n      <td>418611.000000</td>\n      <td>418611.000000</td>\n    </tr>\n    <tr>\n      <th>mean</th>\n      <td>1455.527270</td>\n      <td>82.690465</td>\n      <td>0.016753</td>\n      <td>0.000344</td>\n      <td>0.000437</td>\n      <td>0.926932</td>\n      <td>0.006242</td>\n      <td>0.028661</td>\n      <td>0.009823</td>\n      <td>0.027560</td>\n      <td>0.000389</td>\n      <td>0.000528</td>\n      <td>0.000002</td>\n      <td>0.000005</td>\n      <td>0.914943</td>\n      <td>0.005396</td>\n      <td>0.028392</td>\n      <td>0.009149</td>\n      <td>0.000755</td>\n      <td>0.040441</td>\n    </tr>\n    <tr>\n      <th>std</th>\n      <td>169.783044</td>\n      <td>45.894171</td>\n      <td>0.128345</td>\n      <td>0.018544</td>\n      <td>0.020904</td>\n      <td>0.260248</td>\n      <td>0.078760</td>\n      <td>0.166853</td>\n      <td>0.098623</td>\n      <td>0.163709</td>\n      <td>0.019729</td>\n      <td>0.022971</td>\n      <td>0.001546</td>\n      <td>0.002186</td>\n      <td>0.278968</td>\n      <td>0.073262</td>\n      <td>0.166089</td>\n      <td>0.095214</td>\n      <td>0.027465</td>\n      <td>0.196991</td>\n    </tr>\n    <tr>\n      <th>min</th>\n      <td>1200.000000</td>\n      <td>0.008889</td>\n      <td>0.000000</td>\n      <td>0.000000</td>\n      <td>0.000000</td>\n      <td>0.000000</td>\n      <td>0.000000</td>\n      <td>0.000000</td>\n      <td>0.000000</td>\n      <td>0.000000</td>\n      <td>0.000000</td>\n      <td>0.000000</td>\n      <td>0.000000</td>\n      <td>0.000000</td>\n      <td>0.000000</td>\n      <td>0.000000</td>\n      <td>0.000000</td>\n      <td>0.000000</td>\n      <td>0.000000</td>\n      <td>0.000000</td>\n    </tr>\n    <tr>\n      <th>25%</th>\n      <td>1307.000000</td>\n      <td>40.830556</td>\n      <td>0.000000</td>\n      <td>0.000000</td>\n      <td>0.000000</td>\n      <td>1.000000</td>\n      <td>0.000000</td>\n      <td>0.000000</td>\n      <td>0.000000</td>\n      <td>0.000000</td>\n      <td>0.000000</td>\n      <td>0.000000</td>\n      <td>0.000000</td>\n      <td>0.000000</td>\n      <td>1.000000</td>\n      <td>0.000000</td>\n      <td>0.000000</td>\n      <td>0.000000</td>\n      <td>0.000000</td>\n      <td>0.000000</td>\n    </tr>\n    <tr>\n      <th>50%</th>\n      <td>1435.000000</td>\n      <td>85.934444</td>\n      <td>0.000000</td>\n      <td>0.000000</td>\n      <td>0.000000</td>\n      <td>1.000000</td>\n      <td>0.000000</td>\n      <td>0.000000</td>\n      <td>0.000000</td>\n      <td>0.000000</td>\n      <td>0.000000</td>\n      <td>0.000000</td>\n      <td>0.000000</td>\n      <td>0.000000</td>\n      <td>1.000000</td>\n      <td>0.000000</td>\n      <td>0.000000</td>\n      <td>0.000000</td>\n      <td>0.000000</td>\n      <td>0.000000</td>\n    </tr>\n    <tr>\n      <th>75%</th>\n      <td>1592.000000</td>\n      <td>116.331667</td>\n      <td>0.000000</td>\n      <td>0.000000</td>\n      <td>0.000000</td>\n      <td>1.000000</td>\n      <td>0.000000</td>\n      <td>0.000000</td>\n      <td>0.000000</td>\n      <td>0.000000</td>\n      <td>0.000000</td>\n      <td>0.000000</td>\n      <td>0.000000</td>\n      <td>0.000000</td>\n      <td>1.000000</td>\n      <td>0.000000</td>\n      <td>0.000000</td>\n      <td>0.000000</td>\n      <td>0.000000</td>\n      <td>0.000000</td>\n    </tr>\n    <tr>\n      <th>max</th>\n      <td>1799.000000</td>\n      <td>167.586111</td>\n      <td>1.000000</td>\n      <td>1.000000</td>\n      <td>1.000000</td>\n      <td>1.000000</td>\n      <td>1.000000</td>\n      <td>1.000000</td>\n      <td>1.000000</td>\n      <td>1.000000</td>\n      <td>1.000000</td>\n      <td>1.000000</td>\n      <td>1.000000</td>\n      <td>1.000000</td>\n      <td>1.000000</td>\n      <td>1.000000</td>\n      <td>1.000000</td>\n      <td>1.000000</td>\n      <td>1.000000</td>\n      <td>1.000000</td>\n    </tr>\n  </tbody>\n</table>\n</div>"
     },
     "execution_count": 28,
     "metadata": {},
     "output_type": "execute_result"
    }
   ],
   "source": [
    "dummy_train_rides = pd.get_dummies(train_p3_h3_x, prefix={'source_h3_4':'source_h3_4',\n",
    "                                                             'dest_h3_4':'dest_h3_4'})\n",
    "dummy_train_rides.describe()"
   ],
   "metadata": {
    "collapsed": false,
    "pycharm": {
     "name": "#%%\n"
    }
   }
  },
  {
   "cell_type": "code",
   "execution_count": 29,
   "outputs": [
    {
     "name": "stdout",
     "output_type": "stream",
     "text": [
      "[418611 418611   7013    144    183 388024   2613  11998   4112  11537\n",
      "    163    221      1      2 383005   2259  11885   3830    316  16929]\n",
      "Index(['eta', 'hour', 'holiday', 'source_h3_4_842cd4bffffffff',\n",
      "       'source_h3_4_842cd59ffffffff', 'source_h3_4_842cf31ffffffff',\n",
      "       'source_h3_4_842cf33ffffffff', 'source_h3_4_842cf35ffffffff',\n",
      "       'source_h3_4_842cf37ffffffff', 'source_h3_4_842cf3dffffffff',\n",
      "       'dest_h3_4_842cd4bffffffff', 'dest_h3_4_842cd59ffffffff',\n",
      "       'dest_h3_4_842cf07ffffffff', 'dest_h3_4_842cf23ffffffff',\n",
      "       'dest_h3_4_842cf31ffffffff', 'dest_h3_4_842cf33ffffffff',\n",
      "       'dest_h3_4_842cf35ffffffff', 'dest_h3_4_842cf37ffffffff',\n",
      "       'dest_h3_4_842cf39ffffffff', 'dest_h3_4_842cf3dffffffff'],\n",
      "      dtype='object')\n"
     ]
    }
   ],
   "source": [
    "print(np.count_nonzero(dummy_train_rides, axis=0))\n",
    "print(dummy_train_rides.columns)"
   ],
   "metadata": {
    "collapsed": false,
    "pycharm": {
     "name": "#%%\n"
    }
   }
  },
  {
   "cell_type": "code",
   "execution_count": 30,
   "outputs": [
    {
     "name": "stderr",
     "output_type": "stream",
     "text": [
      "/var/folders/yq/707ysz_j3jlggmtk5clx13rm0000gn/T/ipykernel_66006/3649512923.py:8: UserWarning: Boolean Series key will be reindexed to match DataFrame index.\n",
      "  train_p3_h3_x = train_p3_h3_x[dummy_train_rides[col] == 0]\n"
     ]
    },
    {
     "data": {
      "text/plain": "                 eta           hour        holiday\ncount  418608.000000  418608.000000  418608.000000\nmean     1455.525575      82.690440       0.016751\nstd       169.782417      45.894241       0.128336\nmin      1200.000000       0.008889       0.000000\n25%      1307.000000      40.830278       0.000000\n50%      1435.000000      85.934306       0.000000\n75%      1592.000000     116.331667       0.000000\nmax      1799.000000     167.586111       1.000000",
      "text/html": "<div>\n<style scoped>\n    .dataframe tbody tr th:only-of-type {\n        vertical-align: middle;\n    }\n\n    .dataframe tbody tr th {\n        vertical-align: top;\n    }\n\n    .dataframe thead th {\n        text-align: right;\n    }\n</style>\n<table border=\"1\" class=\"dataframe\">\n  <thead>\n    <tr style=\"text-align: right;\">\n      <th></th>\n      <th>eta</th>\n      <th>hour</th>\n      <th>holiday</th>\n    </tr>\n  </thead>\n  <tbody>\n    <tr>\n      <th>count</th>\n      <td>418608.000000</td>\n      <td>418608.000000</td>\n      <td>418608.000000</td>\n    </tr>\n    <tr>\n      <th>mean</th>\n      <td>1455.525575</td>\n      <td>82.690440</td>\n      <td>0.016751</td>\n    </tr>\n    <tr>\n      <th>std</th>\n      <td>169.782417</td>\n      <td>45.894241</td>\n      <td>0.128336</td>\n    </tr>\n    <tr>\n      <th>min</th>\n      <td>1200.000000</td>\n      <td>0.008889</td>\n      <td>0.000000</td>\n    </tr>\n    <tr>\n      <th>25%</th>\n      <td>1307.000000</td>\n      <td>40.830278</td>\n      <td>0.000000</td>\n    </tr>\n    <tr>\n      <th>50%</th>\n      <td>1435.000000</td>\n      <td>85.934306</td>\n      <td>0.000000</td>\n    </tr>\n    <tr>\n      <th>75%</th>\n      <td>1592.000000</td>\n      <td>116.331667</td>\n      <td>0.000000</td>\n    </tr>\n    <tr>\n      <th>max</th>\n      <td>1799.000000</td>\n      <td>167.586111</td>\n      <td>1.000000</td>\n    </tr>\n  </tbody>\n</table>\n</div>"
     },
     "execution_count": 30,
     "metadata": {},
     "output_type": "execute_result"
    }
   ],
   "source": [
    "geo_noise = np.count_nonzero(dummy_train_rides, axis=0) < 100\n",
    "\n",
    "cols = dummy_train_rides.columns\n",
    "for col, noise in zip(cols, geo_noise):\n",
    "    if noise:\n",
    "        # DOESN'T REINDEX\n",
    "        # remove the rows where rides_train_p3_x is in the noisy geo (geo is 1)\n",
    "        train_p3_h3_x = train_p3_h3_x[dummy_train_rides[col] == 0]\n",
    "        train_p3_h3_y = train_p3_h3_y[dummy_train_rides[col] == 0]\n",
    "\n",
    "train_p3_h3_x.describe()"
   ],
   "metadata": {
    "collapsed": false,
    "pycharm": {
     "name": "#%%\n"
    }
   }
  },
  {
   "cell_type": "code",
   "execution_count": 31,
   "outputs": [],
   "source": [
    "ohe = ColumnTransformer(\n",
    "    [('OHE', OneHotEncoder(handle_unknown='ignore', sparse=False),['source_h3_4', 'dest_h3_4'])],\n",
    "    remainder = 'passthrough'\n",
    "    ).fit(train_p3_h3_x)"
   ],
   "metadata": {
    "collapsed": false,
    "pycharm": {
     "name": "#%%\n"
    }
   }
  },
  {
   "cell_type": "code",
   "execution_count": 32,
   "outputs": [
    {
     "data": {
      "text/plain": "array(['OHE__source_h3_4_842cd4bffffffff',\n       'OHE__source_h3_4_842cd59ffffffff',\n       'OHE__source_h3_4_842cf31ffffffff',\n       'OHE__source_h3_4_842cf33ffffffff',\n       'OHE__source_h3_4_842cf35ffffffff',\n       'OHE__source_h3_4_842cf37ffffffff',\n       'OHE__source_h3_4_842cf3dffffffff',\n       'OHE__dest_h3_4_842cd4bffffffff', 'OHE__dest_h3_4_842cd59ffffffff',\n       'OHE__dest_h3_4_842cf31ffffffff', 'OHE__dest_h3_4_842cf33ffffffff',\n       'OHE__dest_h3_4_842cf35ffffffff', 'OHE__dest_h3_4_842cf37ffffffff',\n       'OHE__dest_h3_4_842cf39ffffffff', 'OHE__dest_h3_4_842cf3dffffffff',\n       'remainder__eta', 'remainder__hour', 'remainder__holiday'],\n      dtype=object)"
     },
     "execution_count": 32,
     "metadata": {},
     "output_type": "execute_result"
    }
   ],
   "source": [
    "ohe.get_feature_names_out()"
   ],
   "metadata": {
    "collapsed": false,
    "pycharm": {
     "name": "#%%\n"
    }
   }
  },
  {
   "cell_type": "code",
   "execution_count": 33,
   "outputs": [],
   "source": [
    "train_p3_h3_x = ohe.transform(train_p3_h3_x)"
   ],
   "metadata": {
    "collapsed": false,
    "pycharm": {
     "name": "#%%\n"
    }
   }
  },
  {
   "cell_type": "code",
   "execution_count": 34,
   "outputs": [],
   "source": [
    "test_p3_h3_x = ohe.transform(test_p3_h3_x)"
   ],
   "metadata": {
    "collapsed": false,
    "pycharm": {
     "name": "#%%\n"
    }
   }
  },
  {
   "cell_type": "code",
   "execution_count": 35,
   "outputs": [],
   "source": [
    "reg_geo_p3 = LinearRegression().fit(train_p3_geo_x, train_p3_geo_y)"
   ],
   "metadata": {
    "collapsed": false,
    "pycharm": {
     "name": "#%%\n"
    }
   }
  },
  {
   "cell_type": "code",
   "execution_count": 36,
   "outputs": [
    {
     "name": "stdout",
     "output_type": "stream",
     "text": [
      "[  1.25130281 135.20598499  24.93671027 451.76374288  84.72800247\n",
      "  -0.5420216  -85.75198965]\n",
      "-26661.645050796564\n"
     ]
    }
   ],
   "source": [
    "print(reg_geo_p3.coef_)\n",
    "print(reg_geo_p3.intercept_)"
   ],
   "metadata": {
    "collapsed": false,
    "pycharm": {
     "name": "#%%\n"
    }
   }
  },
  {
   "cell_type": "code",
   "execution_count": 37,
   "outputs": [],
   "source": [
    "train_pred_geo = reg_geo_p3.predict(train_p3_geo_x)\n",
    "test_pred_geo = reg_geo_p3.predict(test_p3_geo_x)"
   ],
   "metadata": {
    "collapsed": false,
    "pycharm": {
     "name": "#%%\n"
    }
   }
  },
  {
   "cell_type": "code",
   "execution_count": 38,
   "outputs": [],
   "source": [
    "reg_h3_p3 = LinearRegression().fit(train_p3_h3_x, train_p3_h3_y)"
   ],
   "metadata": {
    "collapsed": false,
    "pycharm": {
     "name": "#%%\n"
    }
   }
  },
  {
   "cell_type": "code",
   "execution_count": 39,
   "outputs": [
    {
     "name": "stdout",
     "output_type": "stream",
     "text": [
      "[-7.42906563e+11 -7.42906563e+11 -7.42906563e+11 -7.42906563e+11\n",
      " -7.42906563e+11 -7.42906563e+11 -7.42906563e+11  2.25564338e+11\n",
      "  2.25564338e+11  2.25564338e+11  2.25564338e+11  2.25564338e+11\n",
      "  2.25564338e+11  2.25564338e+11  2.25564338e+11  1.25261658e+00\n",
      " -5.54887253e-01 -8.74726453e+01]\n",
      "517342225087.9334\n"
     ]
    }
   ],
   "source": [
    "print(reg_h3_p3.coef_)\n",
    "print(reg_h3_p3.intercept_)"
   ],
   "metadata": {
    "collapsed": false,
    "pycharm": {
     "name": "#%%\n"
    }
   }
  },
  {
   "cell_type": "code",
   "execution_count": 40,
   "outputs": [],
   "source": [
    "train_pred_h3 = reg_h3_p3.predict(train_p3_h3_x)\n",
    "test_pred_h3 = reg_h3_p3.predict(test_p3_h3_x)"
   ],
   "metadata": {
    "collapsed": false,
    "pycharm": {
     "name": "#%%\n"
    }
   }
  },
  {
   "cell_type": "code",
   "execution_count": 41,
   "outputs": [],
   "source": [
    "known_h3_index = np.count_nonzero(test_p3_h3_x[:, 0:17], axis=1) == 2"
   ],
   "metadata": {
    "collapsed": false,
    "pycharm": {
     "name": "#%%\n"
    }
   }
  },
  {
   "cell_type": "code",
   "execution_count": 42,
   "outputs": [],
   "source": [
    "test_p3_h3_y = test_p3_h3_y[known_h3_index]\n",
    "test_p3_h3_x = test_p3_h3_x[known_h3_index]\n",
    "test_pred_h3 = test_pred_h3[known_h3_index]"
   ],
   "metadata": {
    "collapsed": false,
    "pycharm": {
     "name": "#%%\n"
    }
   }
  },
  {
   "cell_type": "code",
   "execution_count": 43,
   "outputs": [
    {
     "data": {
      "text/plain": "          eta  source_lat  source_lng  destination_lat  destination_lng  \\\n4        1295   35.760803   51.412613        35.680412        51.406525   \n7        1721   35.551586   51.251617        35.647949        51.399227   \n8        1230   35.417717   51.795067        35.465965        51.675755   \n14       1641   35.768822   51.305519        35.765411        51.442303   \n18       1390   35.730118   51.382473        35.758369        51.441551   \n...       ...         ...         ...              ...              ...   \n4063264  1712   35.669792   51.302319        35.685867        51.414448   \n4063317  1565   35.310020   51.730579        35.423836        51.585243   \n4063330  1301   35.720974   51.498474        35.708061        51.401943   \n4063337  1239   35.724361   51.402294        35.794140        51.472240   \n4063340  1247   35.668186   51.361591        35.750282        51.294250   \n\n              hour  holiday  \n4        80.567500        0  \n7        79.957500        0  \n8        86.506944        0  \n14       87.170556        0  \n18       83.147222        0  \n...            ...      ...  \n4063264  12.414167        0  \n4063317  13.378056        0  \n4063330  14.291944        0  \n4063337  15.712500        0  \n4063340  11.492222        0  \n\n[418611 rows x 7 columns]",
      "text/html": "<div>\n<style scoped>\n    .dataframe tbody tr th:only-of-type {\n        vertical-align: middle;\n    }\n\n    .dataframe tbody tr th {\n        vertical-align: top;\n    }\n\n    .dataframe thead th {\n        text-align: right;\n    }\n</style>\n<table border=\"1\" class=\"dataframe\">\n  <thead>\n    <tr style=\"text-align: right;\">\n      <th></th>\n      <th>eta</th>\n      <th>source_lat</th>\n      <th>source_lng</th>\n      <th>destination_lat</th>\n      <th>destination_lng</th>\n      <th>hour</th>\n      <th>holiday</th>\n    </tr>\n  </thead>\n  <tbody>\n    <tr>\n      <th>4</th>\n      <td>1295</td>\n      <td>35.760803</td>\n      <td>51.412613</td>\n      <td>35.680412</td>\n      <td>51.406525</td>\n      <td>80.567500</td>\n      <td>0</td>\n    </tr>\n    <tr>\n      <th>7</th>\n      <td>1721</td>\n      <td>35.551586</td>\n      <td>51.251617</td>\n      <td>35.647949</td>\n      <td>51.399227</td>\n      <td>79.957500</td>\n      <td>0</td>\n    </tr>\n    <tr>\n      <th>8</th>\n      <td>1230</td>\n      <td>35.417717</td>\n      <td>51.795067</td>\n      <td>35.465965</td>\n      <td>51.675755</td>\n      <td>86.506944</td>\n      <td>0</td>\n    </tr>\n    <tr>\n      <th>14</th>\n      <td>1641</td>\n      <td>35.768822</td>\n      <td>51.305519</td>\n      <td>35.765411</td>\n      <td>51.442303</td>\n      <td>87.170556</td>\n      <td>0</td>\n    </tr>\n    <tr>\n      <th>18</th>\n      <td>1390</td>\n      <td>35.730118</td>\n      <td>51.382473</td>\n      <td>35.758369</td>\n      <td>51.441551</td>\n      <td>83.147222</td>\n      <td>0</td>\n    </tr>\n    <tr>\n      <th>...</th>\n      <td>...</td>\n      <td>...</td>\n      <td>...</td>\n      <td>...</td>\n      <td>...</td>\n      <td>...</td>\n      <td>...</td>\n    </tr>\n    <tr>\n      <th>4063264</th>\n      <td>1712</td>\n      <td>35.669792</td>\n      <td>51.302319</td>\n      <td>35.685867</td>\n      <td>51.414448</td>\n      <td>12.414167</td>\n      <td>0</td>\n    </tr>\n    <tr>\n      <th>4063317</th>\n      <td>1565</td>\n      <td>35.310020</td>\n      <td>51.730579</td>\n      <td>35.423836</td>\n      <td>51.585243</td>\n      <td>13.378056</td>\n      <td>0</td>\n    </tr>\n    <tr>\n      <th>4063330</th>\n      <td>1301</td>\n      <td>35.720974</td>\n      <td>51.498474</td>\n      <td>35.708061</td>\n      <td>51.401943</td>\n      <td>14.291944</td>\n      <td>0</td>\n    </tr>\n    <tr>\n      <th>4063337</th>\n      <td>1239</td>\n      <td>35.724361</td>\n      <td>51.402294</td>\n      <td>35.794140</td>\n      <td>51.472240</td>\n      <td>15.712500</td>\n      <td>0</td>\n    </tr>\n    <tr>\n      <th>4063340</th>\n      <td>1247</td>\n      <td>35.668186</td>\n      <td>51.361591</td>\n      <td>35.750282</td>\n      <td>51.294250</td>\n      <td>11.492222</td>\n      <td>0</td>\n    </tr>\n  </tbody>\n</table>\n<p>418611 rows × 7 columns</p>\n</div>"
     },
     "execution_count": 43,
     "metadata": {},
     "output_type": "execute_result"
    }
   ],
   "source": [
    "train_p3_geo_x"
   ],
   "metadata": {
    "collapsed": false,
    "pycharm": {
     "name": "#%%\n"
    }
   }
  },
  {
   "cell_type": "code",
   "execution_count": 44,
   "outputs": [
    {
     "name": "stdout",
     "output_type": "stream",
     "text": [
      "ETA train MAE 328.5940455458648\n",
      "prediction train MAE 297.90919973258815\n",
      "ETA test MAE  334.4388657208343\n",
      "prediction test MAE 313.0926640552622\n",
      "ETA train MSE 267538.4672356914\n",
      "prediction train MSE 197278.02374889096\n",
      "ETA test MSE  307447.5143727894\n",
      "prediction test MSE 236500.08092897446\n",
      "ETA train explained_variance_score 0.17476575601716515\n",
      "prediction train explained_variance_score 0.19219475004177133\n",
      "ETA test explained_variance_score  0.15194470364736523\n",
      "prediction test explained_variance_score 0.17348450223625478\n",
      "ETA train median_absolute_error 205.0\n",
      "prediction train median_absolute_error 224.17002217840854\n",
      "ETA test median_absolute_error  197.0\n",
      "prediction test median_absolute_error 226.25554632038256\n",
      "ETA train r2_score -0.0955045792321001\n",
      "prediction train r2_score 0.19219475004177133\n",
      "ETA test r2_score  -0.07452246219765657\n",
      "prediction test r2_score 0.17343729453082235\n",
      "ETA train MAPE 0.16670909089984084\n",
      "prediction train MAPE 0.17256322803076857\n",
      "ETA test MAPE  0.16769182531397583\n",
      "prediction test MAPE 0.17992038496299556\n"
     ]
    }
   ],
   "source": [
    "print(\"ETA train MAE\", mean_absolute_error(train_p3_geo_y, train_p3_geo_x['eta']))\n",
    "print(\"prediction train MAE\", mean_absolute_error(train_p3_geo_y, train_pred_geo))\n",
    "\n",
    "print(\"ETA test MAE \", mean_absolute_error(test_p3_geo_y, test_p3_geo_x['eta']))\n",
    "print(\"prediction test MAE\", mean_absolute_error(test_p3_geo_y, test_pred_geo))\n",
    "\n",
    "\n",
    "print(\"ETA train MSE\", mean_squared_error(train_p3_geo_y, train_p3_geo_x['eta']))\n",
    "print(\"prediction train MSE\", mean_squared_error(train_p3_geo_y, train_pred_geo))\n",
    "\n",
    "print(\"ETA test MSE \", mean_squared_error(test_p3_geo_y, test_p3_geo_x['eta']))\n",
    "print(\"prediction test MSE\", mean_squared_error(test_p3_geo_y, test_pred_geo))\n",
    "\n",
    "\n",
    "print(\"ETA train explained_variance_score\", explained_variance_score(train_p3_geo_y, train_p3_geo_x['eta']))\n",
    "print(\"prediction train explained_variance_score\", explained_variance_score(train_p3_geo_y, train_pred_geo))\n",
    "\n",
    "print(\"ETA test explained_variance_score \", explained_variance_score(test_p3_geo_y, test_p3_geo_x['eta']))\n",
    "print(\"prediction test explained_variance_score\", explained_variance_score(test_p3_geo_y, test_pred_geo))\n",
    "\n",
    "\n",
    "print(\"ETA train median_absolute_error\", median_absolute_error(train_p3_geo_y, train_p3_geo_x['eta']))\n",
    "print(\"prediction train median_absolute_error\", median_absolute_error(train_p3_geo_y, train_pred_geo))\n",
    "\n",
    "print(\"ETA test median_absolute_error \", median_absolute_error(test_p3_geo_y, test_p3_geo_x['eta']))\n",
    "print(\"prediction test median_absolute_error\", median_absolute_error(test_p3_geo_y, test_pred_geo))\n",
    "\n",
    "\n",
    "print(\"ETA train r2_score\", r2_score(train_p3_geo_y, train_p3_geo_x['eta']))\n",
    "print(\"prediction train r2_score\", r2_score(train_p3_geo_y, train_pred_geo))\n",
    "\n",
    "print(\"ETA test r2_score \", r2_score(test_p3_geo_y, test_p3_geo_x['eta']))\n",
    "print(\"prediction test r2_score\", r2_score(test_p3_geo_y, test_pred_geo))\n",
    "\n",
    "\n",
    "print(\"ETA train MAPE\", mean_absolute_percentage_error(train_p3_geo_y, train_p3_geo_x['eta']))\n",
    "print(\"prediction train MAPE\", mean_absolute_percentage_error(train_p3_geo_y, train_pred_geo))\n",
    "\n",
    "print(\"ETA test MAPE \", mean_absolute_percentage_error(test_p3_geo_y, test_p3_geo_x['eta']))\n",
    "print(\"prediction test MAPE\", mean_absolute_percentage_error(test_p3_geo_y, test_pred_geo))"
   ],
   "metadata": {
    "collapsed": false,
    "pycharm": {
     "name": "#%%\n"
    }
   }
  },
  {
   "cell_type": "code",
   "execution_count": 46,
   "outputs": [
    {
     "name": "stdout",
     "output_type": "stream",
     "text": [
      "[ 0.95267888  0.03992745  0.01639903  0.14161629  0.07104881 -0.00869313\n",
      " -0.01985985]\n",
      "0.027375837176890544\n"
     ]
    }
   ],
   "source": [
    "train_p4_geo_x_normalized = (train_p4_geo_x - train_p4_geo_x.min()) / (train_p4_geo_x.max() - train_p4_geo_x.min())\n",
    "train_p4_geo_y_normalized = (train_p4_geo_y - train_p4_geo_y.min()) / (train_p4_geo_y.max() - train_p4_geo_y.min())\n",
    "# test_p4_geo_x_normalized = (test_p4_geo_x - train_p4_geo_x.min()) / (train_p4_geo_x.max() - train_p4_geo_x.min())\n",
    "# test_p4_geo_y_normalized = (test_p4_geo_y - train_p4_geo_y.min()) / (train_p4_geo_y.max() - train_p4_geo_y.min())\n",
    "\n",
    "reg_p4_geo_normalized = LinearRegression().fit(train_p4_geo_x_normalized, train_p4_geo_y_normalized)\n",
    "print(reg_p4_geo_normalized.coef_)\n",
    "print(reg_p4_geo_normalized.intercept_)"
   ],
   "metadata": {
    "collapsed": false,
    "pycharm": {
     "name": "#%%\n"
    }
   }
  },
  {
   "cell_type": "code",
   "execution_count": 39,
   "outputs": [
    {
     "name": "stdout",
     "output_type": "stream",
     "text": [
      "ETA train MAE 558.6899742605314\n",
      "prediction train MAE 468.32320172854264\n",
      "ETA test MAE  609.4802658229795\n",
      "prediction test MAE 532.3905549659162\n",
      "ETA train MSE 724259.5492995734\n",
      "prediction train MSE 474510.4137146755\n",
      "ETA test MSE  1005379.4640005743\n",
      "prediction test MSE 706504.3378821977\n",
      "ETA train explained_variance_score 0.5486781823287357\n",
      "prediction train explained_variance_score 0.5735345690702949\n",
      "ETA test explained_variance_score  0.4753275329161858\n",
      "prediction test explained_variance_score 0.5084530615897137\n",
      "ETA train median_absolute_error 353.0\n",
      "prediction train median_absolute_error 347.19482421875\n",
      "ETA test median_absolute_error  352.0\n",
      "prediction test median_absolute_error 366.8814697265625\n",
      "ETA train r2_score 0.3490729563150865\n",
      "prediction train r2_score 0.5735345690702917\n",
      "ETA test r2_score  0.2984759208241079\n",
      "prediction test r2_score 0.5070221515223838\n",
      "ETA train MAPE 0.16697790395524195\n",
      "prediction train MAPE 0.1610154609737745\n",
      "ETA test MAPE  0.1730999583791752\n",
      "prediction test MAPE 0.17448530280936583\n"
     ]
    }
   ],
   "source": [
    "print(\"ETA train MAE\", mean_absolute_error(train_p4_h3_y, train_p4_h3_x[:, 17]))\n",
    "print(\"prediction train MAE\", mean_absolute_error(train_p4_h3_y, train_pred_h3))\n",
    "\n",
    "print(\"ETA test MAE \", mean_absolute_error(test_p4_h3_y, test_p4_h3_x[:, 17]))\n",
    "print(\"prediction test MAE\", mean_absolute_error(test_p4_h3_y, test_pred_h3))\n",
    "\n",
    "\n",
    "print(\"ETA train MSE\", mean_squared_error(train_p4_h3_y, train_p4_h3_x[:, 17]))\n",
    "print(\"prediction train MSE\", mean_squared_error(train_p4_h3_y, train_pred_h3))\n",
    "\n",
    "print(\"ETA test MSE \", mean_squared_error(test_p4_h3_y, test_p4_h3_x[:, 17]))\n",
    "print(\"prediction test MSE\", mean_squared_error(test_p4_h3_y, test_pred_h3))\n",
    "\n",
    "\n",
    "print(\"ETA train explained_variance_score\", explained_variance_score(train_p4_h3_y, train_p4_h3_x[:, 17]))\n",
    "print(\"prediction train explained_variance_score\", explained_variance_score(train_p4_h3_y, train_pred_h3))\n",
    "\n",
    "print(\"ETA test explained_variance_score \", explained_variance_score(test_p4_h3_y, test_p4_h3_x[:, 17]))\n",
    "print(\"prediction test explained_variance_score\", explained_variance_score(test_p4_h3_y, test_pred_h3))\n",
    "\n",
    "\n",
    "print(\"ETA train median_absolute_error\", median_absolute_error(train_p4_h3_y, train_p4_h3_x[:, 17]))\n",
    "print(\"prediction train median_absolute_error\", median_absolute_error(train_p4_h3_y, train_pred_h3))\n",
    "\n",
    "print(\"ETA test median_absolute_error \", median_absolute_error(test_p4_h3_y, test_p4_h3_x[:, 17]))\n",
    "print(\"prediction test median_absolute_error\", median_absolute_error(test_p4_h3_y, test_pred_h3))\n",
    "\n",
    "\n",
    "print(\"ETA train r2_score\", r2_score(train_p4_h3_y, train_p4_h3_x[:, 17]))\n",
    "print(\"prediction train r2_score\", r2_score(train_p4_h3_y, train_pred_h3))\n",
    "\n",
    "print(\"ETA test r2_score \", r2_score(test_p4_h3_y, test_p4_h3_x[:, 17]))\n",
    "print(\"prediction test r2_score\", r2_score(test_p4_h3_y, test_pred_h3))\n",
    "\n",
    "\n",
    "print(\"ETA train MAPE\", mean_absolute_percentage_error(train_p4_h3_y, train_p4_h3_x[:, 17]))\n",
    "print(\"prediction train MAPE\", mean_absolute_percentage_error(train_p4_h3_y, train_pred_h3))\n",
    "\n",
    "print(\"ETA test MAPE \", mean_absolute_percentage_error(test_p4_h3_y, test_p4_h3_x[:, 17]))\n",
    "print(\"prediction test MAPE\", mean_absolute_percentage_error(test_p4_h3_y, test_pred_h3))"
   ],
   "metadata": {
    "collapsed": false,
    "pycharm": {
     "name": "#%%\n"
    }
   }
  },
  {
   "cell_type": "code",
   "execution_count": 47,
   "outputs": [
    {
     "name": "stdout",
     "output_type": "stream",
     "text": [
      "[ 3.38839243e+11  3.38839243e+11  3.38839244e+11  3.38839243e+11\n",
      "  3.38839243e+11  3.38839243e+11  3.38839243e+11 -1.81469415e+11\n",
      " -1.81469415e+11 -1.81469415e+11 -1.81469415e+11 -1.81469415e+11\n",
      " -1.81469415e+11 -1.81469415e+11 -1.81469415e+11 -1.81469415e+11\n",
      " -1.81469415e+11  1.10072538e+00 -4.58049363e-01 -1.50679642e+02]\n",
      "-17055362.3876918\n"
     ]
    }
   ],
   "source": [
    "train_p4_h3_x_normalized = (train_p4_h3_x - train_p4_h3_x.min()) / (train_p4_h3_x.max() - train_p4_h3_x.min())\n",
    "train_p4_h3_y_normalized = (train_p4_h3_y - train_p4_h3_y.min()) / (train_p4_h3_y.max() - train_p4_h3_y.min())\n",
    "# test_p4_h3_x_normalized = (test_p4_h3_x - train_p4_h3_x.min()) / (train_p4_h3_x.max() - train_p4_h3_x.min())\n",
    "# test_p4_h3_y_normalized = (test_p4_h3_y - train_p4_h3_y.min()) / (train_p4_h3_y.max() - train_p4_h3_y.min())\n",
    "\n",
    "reg_p4_h3_normalized = LinearRegression().fit(train_p4_h3_x_normalized, train_p4_h3_y_normalized)\n",
    "print(reg_p4_h3_normalized.coef_)\n",
    "print(reg_p4_h3_normalized.intercept_)"
   ],
   "metadata": {
    "collapsed": false,
    "pycharm": {
     "name": "#%%\n"
    }
   }
  },
  {
   "cell_type": "code",
   "execution_count": null,
   "outputs": [],
   "source": [
    "%set_env AWS_ACCESS_KEY_ID=SokXIEc1g9vNqCJt4CSObyk6vumoOOPQ\n",
    "%set_env AWS_SECRET_ACCESS_KEY=QNyTpGhFjUTYSP9VKmfhpUizwKr0t8gk\n",
    "%set_env MLFLOW_S3_ENDPOINT_URL=https://minio-clustered-smapp-storage.apps.private.teh-1.snappcloud.io\n",
    "\n",
    "# create experiment\n",
    "%set_env MLFLOW_TRACKING_URI=https://mlflow.apps.private.okd4.teh-1.snappcloud.io/\n",
    "# mlflow experiments create --experiment-name elahe\n",
    "\n",
    "# run script under experiment\n",
    "%set_env MLFLOW_EXPERIMENT_NAME=elahe\n",
    "# cd save/\n",
    "# python test.py"
   ],
   "metadata": {
    "collapsed": false,
    "pycharm": {
     "name": "#%%\n"
    }
   }
  },
  {
   "cell_type": "code",
   "execution_count": null,
   "outputs": [],
   "source": [
    "! echo $AWS_ACCESS_KEY_ID\n",
    "! echo $AWS_SECRET_ACCESS_KEY\n",
    "! echo $MLFLOW_S3_ENDPOINT_URL\n",
    "! echo $MLFLOW_TRACKING_URI\n",
    "! echo $MLFLOW_EXPERIMENT_NAME"
   ],
   "metadata": {
    "collapsed": false,
    "pycharm": {
     "name": "#%%\n"
    }
   }
  },
  {
   "cell_type": "code",
   "execution_count": null,
   "outputs": [],
   "source": [
    "# with mlflow.start_run(run_name=\"regression\") as run:\n",
    "#     # Log the sklearn model and register as version 1\n",
    "#     mlflow.sklearn.log_model(\n",
    "#         sk_model=reg_p4,\n",
    "#         artifact_path=\"regression\",\n",
    "#         registered_model_name=\"reg-model\"\n",
    "#     )"
   ],
   "metadata": {
    "collapsed": false,
    "pycharm": {
     "name": "#%%\n"
    }
   }
  },
  {
   "cell_type": "code",
   "execution_count": null,
   "outputs": [],
   "source": [
    "# with mlflow.start_run(run_name=\"YOUR_RUN_NAME\") as run:\n",
    "#     params = {\"n_estimators\": 5, \"random_state\": 42}\n",
    "#     sk_learn_rfr = RandomForestRegressor(**params)\n",
    "#\n",
    "#     # Log parameters and metrics using the MLflow APIs\n",
    "#     mlflow.log_params(params)\n",
    "#     mlflow.log_param(\"param_1\", randint(0, 100))\n",
    "#     mlflow.log_metrics({\"metric_1\": random(), \"metric_2\": random() + 1})\n",
    "#\n",
    "#     # Log the sklearn model and register as version 1\n",
    "#     mlflow.sklearn.log_model(\n",
    "#         sk_model=sk_learn_rfr,\n",
    "#         artifact_path=\"sklearn-model\",\n",
    "#         registered_model_name=\"sk-learn-random-forest-reg-model\"\n",
    "#     )"
   ],
   "metadata": {
    "collapsed": false,
    "pycharm": {
     "name": "#%%\n"
    }
   }
  }
 ],
 "metadata": {
  "kernelspec": {
   "display_name": "Python 3",
   "language": "python",
   "name": "python3"
  },
  "language_info": {
   "codemirror_mode": {
    "name": "ipython",
    "version": 2
   },
   "file_extension": ".py",
   "mimetype": "text/x-python",
   "name": "python",
   "nbconvert_exporter": "python",
   "pygments_lexer": "ipython2",
   "version": "2.7.6"
  }
 },
 "nbformat": 4,
 "nbformat_minor": 0
}