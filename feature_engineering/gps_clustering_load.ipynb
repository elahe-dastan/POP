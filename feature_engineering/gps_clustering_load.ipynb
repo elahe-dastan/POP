{
 "cells": [
  {
   "cell_type": "code",
   "execution_count": 1,
   "metadata": {
    "collapsed": true,
    "pycharm": {
     "name": "#%%\n"
    }
   },
   "outputs": [],
   "source": [
    "import pandas as pd\n",
    "import numpy as np\n",
    "from sklearn.linear_model import LinearRegression\n",
    "from sklearn.metrics import mean_absolute_error, mean_squared_error, explained_variance_score, median_absolute_error, r2_score, mean_absolute_percentage_error\n",
    "from sklearn.model_selection import train_test_split\n",
    "from scipy.stats import *\n",
    "import h3\n",
    "from sklearn.preprocessing import OneHotEncoder\n",
    "from sklearn.compose import ColumnTransformer\n",
    "from datetime import datetime\n",
    "from math import floor\n",
    "import matplotlib.pyplot as plt\n",
    "import mlflow\n",
    "import mlflow.sklearn\n",
    "from statistics import mean\n",
    "from sklearn.neighbors import KNeighborsRegressor"
   ]
  },
  {
   "cell_type": "code",
   "execution_count": 2,
   "outputs": [],
   "source": [
    "khatkesh_columns = ['ride_id', 'driver_id', 'a_t_a_result.arrival_a_t_a', 'a_t_a_result.boarding_a_t_a', 'a_t_a_result.ride_a_t_a', 'a_t_a_result.arrival_probe_result.probe.point.lat', 'a_t_a_result.arrival_probe_result.probe.point.lon', 'a_t_a_result.arrival_probe_result.probe.timestamp', 'a_t_a_result.arrival_probe_result.confidence', 'a_t_a_result.arrival_probe_result.h3_index', 'a_t_a_result.arrival_probe_result.k_ring_level', 'a_t_a_result.boarding_probe_result.probe.point.lat', 'a_t_a_result.boarding_probe_result.probe.point.lon', 'a_t_a_result.boarding_probe_result.probe.timestamp', 'a_t_a_result.boarding_probe_result.confidence', 'a_t_a_result.boarding_probe_result.h3_index', 'a_t_a_result.boarding_probe_result.k_ring_level', 'a_t_a_result.final_destination_probe_result.probe.point.lat', 'a_t_a_result.final_destination_probe_result.probe.point.lon', 'a_t_a_result.final_destination_probe_result.probe.timestamp', 'a_t_a_result.final_destination_probe_result.confidence', 'a_t_a_result.final_destination_probe_result.h3_index', 'a_t_a_result.final_destination_probe_result.k_ring_level',' a_t_a_result.destination_probe_result.probe.point.lat', 'a_t_a_result.destination_probe_result.probe.point.lon', 'a_t_a_result.destination_probe_result.probe.timestamp', 'a_t_a_result.destination_probe_result.confidence', 'a_t_a_result.destination_probe_result.h3_index', 'a_t_a_result.destination_probe_result.k_ring_level', 'a_t_a_result.extra_destination_probe_result.probe.point.lat', 'a_t_a_result.extra_destination_probe_result.probe.point.lon', 'a_t_a_result.extra_destination_probe_result.probe.timestamp', 'a_t_a_result.extra_destination_probe_result.confidence', 'a_t_a_result.extra_destination_probe_result.h3_index', 'a_t_a_result.extra_destination_probe_result.k_ring_level', 'pickup_a_d_d_result.distance', 'pickup_a_d_d_result.confidence', 'pickup_a_d_d_result.route_ratio', 'pickup_a_d_d_result.g_p_s_ratio', 'ride_a_d_d_result.distance', 'ride_a_d_d_result.confidence', 'ride_a_d_d_result.route_ratio', 'ride_a_d_d_result.g_p_s_ratio', 'total_a_d_d_confidence', 'in_ride_allotment', 'e_d_d', 'allotment_time', 'accept_time', 'clickhouse_time', 'hash']"
   ],
   "metadata": {
    "collapsed": false,
    "pycharm": {
     "name": "#%%\n"
    }
   }
  },
  {
   "cell_type": "code",
   "execution_count": 3,
   "outputs": [],
   "source": [
    "train_dates = ['2023-01-01', '2023-01-02', '2023-01-03', '2023-01-04']"
   ],
   "metadata": {
    "collapsed": false,
    "pycharm": {
     "name": "#%%\n"
    }
   }
  },
  {
   "cell_type": "code",
   "execution_count": 4,
   "outputs": [
    {
     "data": {
      "text/plain": "            ride_id  driver_id  a_t_a_result.arrival_a_t_a  \\\n0        5587737228    2161673                           0   \n1        5587591271    2161890                           0   \n2        5587917951    2162403                           0   \n3        5587490491    2162626                           0   \n4        5588244658    2162841                           0   \n...             ...        ...                         ...   \n2444296  5617067631    2909988                           0   \n2444297  5617041547    3701760                         287   \n2444298  5614036632    3701967                           0   \n2444299  5614212655    2911858                           0   \n2444300  5617093398    2913644                         181   \n\n         a_t_a_result.boarding_a_t_a  a_t_a_result.ride_a_t_a  \\\n0                       2.530000e+02                      555   \n1                       2.120000e+02                      549   \n2                       1.844674e+19              63808095089   \n3                       1.844674e+19              63808092982   \n4                       6.380810e+10                      667   \n...                              ...                      ...   \n2444296                 1.844674e+19              63808460886   \n2444297                 2.000000e+00                     1830   \n2444298                 0.000000e+00              63808433522   \n2444299                 1.844674e+19              63808433610   \n2444300                 3.000000e+01                      752   \n\n         a_t_a_result.arrival_probe_result.probe.point.lat  \\\n0                                                38.069263   \n1                                                34.626175   \n2                                                35.725441   \n3                                                36.274330   \n4                                                36.307671   \n...                                                    ...   \n2444296                                          35.761482   \n2444297                                          35.787815   \n2444298                                          31.345924   \n2444299                                          38.227600   \n2444300                                          34.147873   \n\n         a_t_a_result.arrival_probe_result.probe.point.lon  \\\n0                                                46.255939   \n1                                                50.917072   \n2                                                51.388359   \n3                                                59.617714   \n4                                                59.640919   \n...                                                    ...   \n2444296                                          51.394924   \n2444297                                          50.861763   \n2444298                                          48.718929   \n2444299                                          48.306931   \n2444300                                          49.726109   \n\n         a_t_a_result.arrival_probe_result.probe.timestamp  \\\n0                                             1.672495e+09   \n1                                             1.672494e+09   \n2                                             1.672496e+09   \n3                                             1.672494e+09   \n4                                             1.844674e+19   \n...                                                    ...   \n2444296                                       1.672863e+09   \n2444297                                       1.672862e+09   \n2444298                                       1.844674e+19   \n2444299                                       1.672836e+09   \n2444300                                       1.672863e+09   \n\n         a_t_a_result.arrival_probe_result.confidence  \\\n0                                                 0.0   \n1                                                 0.0   \n2                                                 0.0   \n3                                                 0.0   \n4                                                 0.0   \n...                                               ...   \n2444296                                           0.0   \n2444297                                           1.0   \n2444298                                           0.0   \n2444299                                           0.0   \n2444300                                           1.0   \n\n        a_t_a_result.arrival_probe_result.h3_index  ...  \\\n0                                  8c2c1c624ccd5ff  ...   \n1                                  8c2cf269c66c7ff  ...   \n2                                  8c2cf3014a72bff  ...   \n3                                  8c43608ebb0abff  ...   \n4                                  8c4360bb4a1edff  ...   \n...                                            ...  ...   \n2444296                            8c2cf300449e7ff  ...   \n2444297                            8c2cf3d624767ff  ...   \n2444298                            8c2c9dca09647ff  ...   \n2444299                            8c2c194c48367ff  ...   \n2444300                            8c2c8d71cccb3ff  ...   \n\n         ride_a_d_d_result.confidence  ride_a_d_d_result.route_ratio  \\\n0                            0.500000                            0.0   \n1                            0.500000                            0.0   \n2                            0.000000                            0.0   \n3                            0.000000                            0.0   \n4                            0.500000                            0.0   \n...                               ...                            ...   \n2444296                      0.000000                            0.0   \n2444297                      1.000000                            0.0   \n2444298                      0.000000                            0.0   \n2444299                      0.000000                            0.0   \n2444300                      0.988656                            0.0   \n\n         ride_a_d_d_result.g_p_s_ratio  total_a_d_d_confidence  \\\n0                             0.000000                0.450000   \n1                             0.000000                0.450000   \n2                             0.000000                0.000000   \n3                             0.000000                0.000000   \n4                             0.000000                0.450000   \n...                                ...                     ...   \n2444296                       0.000000                0.000000   \n2444297                       1.000000                1.000000   \n2444298                       0.000000                0.000000   \n2444299                       0.000000                0.000000   \n2444300                       0.871795                0.990048   \n\n         in_ride_allotment      e_d_d  allotment_time   accept_time  \\\n0                      0.0  15.300000             0.0  1.672495e+09   \n1                      0.0  12.960000             0.0  1.672494e+09   \n2                      0.0  11.323000             0.0  1.672496e+09   \n3                      0.0  23.070999             0.0  1.672494e+09   \n4                      0.0   2.018000             0.0  1.844674e+19   \n...                    ...        ...             ...           ...   \n2444296                0.0  13.608000             0.0  1.672863e+09   \n2444297                0.0  16.267000             0.0  1.672862e+09   \n2444298                0.0   8.833000             0.0  1.844674e+19   \n2444299                0.0   1.980000             0.0  1.672836e+09   \n2444300                0.0   7.141000             0.0  1.672863e+09   \n\n             clickhouse_time                  hash  \n0        2023-01-01 00:00:37   3253544644586005851  \n1        2023-01-01 00:01:49   4274608410283198763  \n2        2023-01-01 00:00:37    634209464890668541  \n3        2023-01-01 00:04:12  12923008145912004440  \n4        2023-01-01 00:05:25  10678463226377223070  \n...                      ...                   ...  \n2444296  2023-01-04 23:59:33  17385418123558899791  \n2444297  2023-01-04 23:59:33  16738494056738467025  \n2444298  2023-01-04 23:56:06  18075128956234825057  \n2444299  2023-01-04 23:57:16  11827370204204240146  \n2444300  2023-01-04 23:59:33  16776017845002668810  \n\n[15057529 rows x 50 columns]",
      "text/html": "<div>\n<style scoped>\n    .dataframe tbody tr th:only-of-type {\n        vertical-align: middle;\n    }\n\n    .dataframe tbody tr th {\n        vertical-align: top;\n    }\n\n    .dataframe thead th {\n        text-align: right;\n    }\n</style>\n<table border=\"1\" class=\"dataframe\">\n  <thead>\n    <tr style=\"text-align: right;\">\n      <th></th>\n      <th>ride_id</th>\n      <th>driver_id</th>\n      <th>a_t_a_result.arrival_a_t_a</th>\n      <th>a_t_a_result.boarding_a_t_a</th>\n      <th>a_t_a_result.ride_a_t_a</th>\n      <th>a_t_a_result.arrival_probe_result.probe.point.lat</th>\n      <th>a_t_a_result.arrival_probe_result.probe.point.lon</th>\n      <th>a_t_a_result.arrival_probe_result.probe.timestamp</th>\n      <th>a_t_a_result.arrival_probe_result.confidence</th>\n      <th>a_t_a_result.arrival_probe_result.h3_index</th>\n      <th>...</th>\n      <th>ride_a_d_d_result.confidence</th>\n      <th>ride_a_d_d_result.route_ratio</th>\n      <th>ride_a_d_d_result.g_p_s_ratio</th>\n      <th>total_a_d_d_confidence</th>\n      <th>in_ride_allotment</th>\n      <th>e_d_d</th>\n      <th>allotment_time</th>\n      <th>accept_time</th>\n      <th>clickhouse_time</th>\n      <th>hash</th>\n    </tr>\n  </thead>\n  <tbody>\n    <tr>\n      <th>0</th>\n      <td>5587737228</td>\n      <td>2161673</td>\n      <td>0</td>\n      <td>2.530000e+02</td>\n      <td>555</td>\n      <td>38.069263</td>\n      <td>46.255939</td>\n      <td>1.672495e+09</td>\n      <td>0.0</td>\n      <td>8c2c1c624ccd5ff</td>\n      <td>...</td>\n      <td>0.500000</td>\n      <td>0.0</td>\n      <td>0.000000</td>\n      <td>0.450000</td>\n      <td>0.0</td>\n      <td>15.300000</td>\n      <td>0.0</td>\n      <td>1.672495e+09</td>\n      <td>2023-01-01 00:00:37</td>\n      <td>3253544644586005851</td>\n    </tr>\n    <tr>\n      <th>1</th>\n      <td>5587591271</td>\n      <td>2161890</td>\n      <td>0</td>\n      <td>2.120000e+02</td>\n      <td>549</td>\n      <td>34.626175</td>\n      <td>50.917072</td>\n      <td>1.672494e+09</td>\n      <td>0.0</td>\n      <td>8c2cf269c66c7ff</td>\n      <td>...</td>\n      <td>0.500000</td>\n      <td>0.0</td>\n      <td>0.000000</td>\n      <td>0.450000</td>\n      <td>0.0</td>\n      <td>12.960000</td>\n      <td>0.0</td>\n      <td>1.672494e+09</td>\n      <td>2023-01-01 00:01:49</td>\n      <td>4274608410283198763</td>\n    </tr>\n    <tr>\n      <th>2</th>\n      <td>5587917951</td>\n      <td>2162403</td>\n      <td>0</td>\n      <td>1.844674e+19</td>\n      <td>63808095089</td>\n      <td>35.725441</td>\n      <td>51.388359</td>\n      <td>1.672496e+09</td>\n      <td>0.0</td>\n      <td>8c2cf3014a72bff</td>\n      <td>...</td>\n      <td>0.000000</td>\n      <td>0.0</td>\n      <td>0.000000</td>\n      <td>0.000000</td>\n      <td>0.0</td>\n      <td>11.323000</td>\n      <td>0.0</td>\n      <td>1.672496e+09</td>\n      <td>2023-01-01 00:00:37</td>\n      <td>634209464890668541</td>\n    </tr>\n    <tr>\n      <th>3</th>\n      <td>5587490491</td>\n      <td>2162626</td>\n      <td>0</td>\n      <td>1.844674e+19</td>\n      <td>63808092982</td>\n      <td>36.274330</td>\n      <td>59.617714</td>\n      <td>1.672494e+09</td>\n      <td>0.0</td>\n      <td>8c43608ebb0abff</td>\n      <td>...</td>\n      <td>0.000000</td>\n      <td>0.0</td>\n      <td>0.000000</td>\n      <td>0.000000</td>\n      <td>0.0</td>\n      <td>23.070999</td>\n      <td>0.0</td>\n      <td>1.672494e+09</td>\n      <td>2023-01-01 00:04:12</td>\n      <td>12923008145912004440</td>\n    </tr>\n    <tr>\n      <th>4</th>\n      <td>5588244658</td>\n      <td>2162841</td>\n      <td>0</td>\n      <td>6.380810e+10</td>\n      <td>667</td>\n      <td>36.307671</td>\n      <td>59.640919</td>\n      <td>1.844674e+19</td>\n      <td>0.0</td>\n      <td>8c4360bb4a1edff</td>\n      <td>...</td>\n      <td>0.500000</td>\n      <td>0.0</td>\n      <td>0.000000</td>\n      <td>0.450000</td>\n      <td>0.0</td>\n      <td>2.018000</td>\n      <td>0.0</td>\n      <td>1.844674e+19</td>\n      <td>2023-01-01 00:05:25</td>\n      <td>10678463226377223070</td>\n    </tr>\n    <tr>\n      <th>...</th>\n      <td>...</td>\n      <td>...</td>\n      <td>...</td>\n      <td>...</td>\n      <td>...</td>\n      <td>...</td>\n      <td>...</td>\n      <td>...</td>\n      <td>...</td>\n      <td>...</td>\n      <td>...</td>\n      <td>...</td>\n      <td>...</td>\n      <td>...</td>\n      <td>...</td>\n      <td>...</td>\n      <td>...</td>\n      <td>...</td>\n      <td>...</td>\n      <td>...</td>\n      <td>...</td>\n    </tr>\n    <tr>\n      <th>2444296</th>\n      <td>5617067631</td>\n      <td>2909988</td>\n      <td>0</td>\n      <td>1.844674e+19</td>\n      <td>63808460886</td>\n      <td>35.761482</td>\n      <td>51.394924</td>\n      <td>1.672863e+09</td>\n      <td>0.0</td>\n      <td>8c2cf300449e7ff</td>\n      <td>...</td>\n      <td>0.000000</td>\n      <td>0.0</td>\n      <td>0.000000</td>\n      <td>0.000000</td>\n      <td>0.0</td>\n      <td>13.608000</td>\n      <td>0.0</td>\n      <td>1.672863e+09</td>\n      <td>2023-01-04 23:59:33</td>\n      <td>17385418123558899791</td>\n    </tr>\n    <tr>\n      <th>2444297</th>\n      <td>5617041547</td>\n      <td>3701760</td>\n      <td>287</td>\n      <td>2.000000e+00</td>\n      <td>1830</td>\n      <td>35.787815</td>\n      <td>50.861763</td>\n      <td>1.672862e+09</td>\n      <td>1.0</td>\n      <td>8c2cf3d624767ff</td>\n      <td>...</td>\n      <td>1.000000</td>\n      <td>0.0</td>\n      <td>1.000000</td>\n      <td>1.000000</td>\n      <td>0.0</td>\n      <td>16.267000</td>\n      <td>0.0</td>\n      <td>1.672862e+09</td>\n      <td>2023-01-04 23:59:33</td>\n      <td>16738494056738467025</td>\n    </tr>\n    <tr>\n      <th>2444298</th>\n      <td>5614036632</td>\n      <td>3701967</td>\n      <td>0</td>\n      <td>0.000000e+00</td>\n      <td>63808433522</td>\n      <td>31.345924</td>\n      <td>48.718929</td>\n      <td>1.844674e+19</td>\n      <td>0.0</td>\n      <td>8c2c9dca09647ff</td>\n      <td>...</td>\n      <td>0.000000</td>\n      <td>0.0</td>\n      <td>0.000000</td>\n      <td>0.000000</td>\n      <td>0.0</td>\n      <td>8.833000</td>\n      <td>0.0</td>\n      <td>1.844674e+19</td>\n      <td>2023-01-04 23:56:06</td>\n      <td>18075128956234825057</td>\n    </tr>\n    <tr>\n      <th>2444299</th>\n      <td>5614212655</td>\n      <td>2911858</td>\n      <td>0</td>\n      <td>1.844674e+19</td>\n      <td>63808433610</td>\n      <td>38.227600</td>\n      <td>48.306931</td>\n      <td>1.672836e+09</td>\n      <td>0.0</td>\n      <td>8c2c194c48367ff</td>\n      <td>...</td>\n      <td>0.000000</td>\n      <td>0.0</td>\n      <td>0.000000</td>\n      <td>0.000000</td>\n      <td>0.0</td>\n      <td>1.980000</td>\n      <td>0.0</td>\n      <td>1.672836e+09</td>\n      <td>2023-01-04 23:57:16</td>\n      <td>11827370204204240146</td>\n    </tr>\n    <tr>\n      <th>2444300</th>\n      <td>5617093398</td>\n      <td>2913644</td>\n      <td>181</td>\n      <td>3.000000e+01</td>\n      <td>752</td>\n      <td>34.147873</td>\n      <td>49.726109</td>\n      <td>1.672863e+09</td>\n      <td>1.0</td>\n      <td>8c2c8d71cccb3ff</td>\n      <td>...</td>\n      <td>0.988656</td>\n      <td>0.0</td>\n      <td>0.871795</td>\n      <td>0.990048</td>\n      <td>0.0</td>\n      <td>7.141000</td>\n      <td>0.0</td>\n      <td>1.672863e+09</td>\n      <td>2023-01-04 23:59:33</td>\n      <td>16776017845002668810</td>\n    </tr>\n  </tbody>\n</table>\n<p>15057529 rows × 50 columns</p>\n</div>"
     },
     "execution_count": 4,
     "metadata": {},
     "output_type": "execute_result"
    }
   ],
   "source": [
    "khatkesh_df = pd.concat((pd.read_csv('../khatkesh_' + d + '_.csv', names=khatkesh_columns) for d in train_dates))\n",
    "khatkesh_df"
   ],
   "metadata": {
    "collapsed": false,
    "pycharm": {
     "name": "#%%\n"
    }
   }
  },
  {
   "cell_type": "markdown",
   "source": [
    "There are some duplicates in the data\n",
    "**MAYBE WE ARE KEEPING THE WRONG ROWS**"
   ],
   "metadata": {
    "collapsed": false,
    "pycharm": {
     "name": "#%% md\n"
    }
   }
  },
  {
   "cell_type": "code",
   "execution_count": 5,
   "outputs": [
    {
     "data": {
      "text/plain": "12510708"
     },
     "execution_count": 5,
     "metadata": {},
     "output_type": "execute_result"
    }
   ],
   "source": [
    "khatkesh_df = khatkesh_df.drop_duplicates(subset=['ride_id', 'a_t_a_result.ride_a_t_a'])\n",
    "len(khatkesh_df)"
   ],
   "metadata": {
    "collapsed": false,
    "pycharm": {
     "name": "#%%\n"
    }
   }
  },
  {
   "cell_type": "markdown",
   "source": [
    "We only work with the data that we are confident about the ATA"
   ],
   "metadata": {
    "collapsed": false,
    "pycharm": {
     "name": "#%% md\n"
    }
   }
  },
  {
   "cell_type": "code",
   "execution_count": 6,
   "outputs": [
    {
     "data": {
      "text/plain": "            ride_id  driver_id  a_t_a_result.arrival_a_t_a  \\\n22       5588329037    2171139                         115   \n38       5588308483    2178977                          51   \n40       5588038088    2179919                         379   \n42       5588231492    2180864                          22   \n57       5588081717    2186412                         195   \n...             ...        ...                         ...   \n2444273  5617064217    4668034                         116   \n2444283  5616939314    3030241                         213   \n2444287  5617106478    4400023                         131   \n2444295  5616960010    2909462                         329   \n2444297  5617041547    3701760                         287   \n\n         a_t_a_result.boarding_a_t_a  a_t_a_result.ride_a_t_a  \\\n22                               4.0                      236   \n38                               0.0                      628   \n40                              36.0                      715   \n42                               8.0                      652   \n57                              42.0                      469   \n...                              ...                      ...   \n2444273                        351.0                      916   \n2444283                          4.0                     3364   \n2444287                         84.0                      212   \n2444295                         44.0                     1842   \n2444297                          2.0                     1830   \n\n         a_t_a_result.arrival_probe_result.probe.point.lat  \\\n22                                               36.286480   \n38                                               36.309143   \n40                                               31.884789   \n42                                               34.082855   \n57                                               31.832134   \n...                                                    ...   \n2444273                                          31.916067   \n2444283                                          35.516766   \n2444287                                          36.280865   \n2444295                                          29.446220   \n2444297                                          35.787815   \n\n         a_t_a_result.arrival_probe_result.probe.point.lon  \\\n22                                               59.610023   \n38                                               59.472126   \n40                                               54.345654   \n42                                               49.706772   \n57                                               54.378353   \n...                                                    ...   \n2444273                                          54.373272   \n2444283                                          51.154713   \n2444287                                          49.993206   \n2444295                                          55.697697   \n2444297                                          50.861763   \n\n         a_t_a_result.arrival_probe_result.probe.timestamp  \\\n22                                            1.672500e+09   \n38                                            1.672500e+09   \n40                                            1.672498e+09   \n42                                            1.672499e+09   \n57                                            1.672498e+09   \n...                                                    ...   \n2444273                                       1.672863e+09   \n2444283                                       1.672860e+09   \n2444287                                       1.672864e+09   \n2444295                                       1.672861e+09   \n2444297                                       1.672862e+09   \n\n         a_t_a_result.arrival_probe_result.confidence  \\\n22                                           0.591716   \n38                                           1.000000   \n40                                           0.350128   \n42                                           1.000000   \n57                                           1.000000   \n...                                               ...   \n2444273                                      0.769231   \n2444283                                      1.000000   \n2444287                                      0.769231   \n2444295                                      0.769231   \n2444297                                      1.000000   \n\n        a_t_a_result.arrival_probe_result.h3_index  ...  \\\n22                                 8c43608e91a01ff  ...   \n38                                 8c4360809d903ff  ...   \n40                                 8c432e8f63889ff  ...   \n42                                 8c2c8d7a104c1ff  ...   \n57                                 8c432e88b3811ff  ...   \n...                                            ...  ...   \n2444273                            8c432e8f1856bff  ...   \n2444283                            8c2cf3cd16a45ff  ...   \n2444287                            8c2cf01293851ff  ...   \n2444295                            8c430391c086dff  ...   \n2444297                            8c2cf3d624767ff  ...   \n\n         ride_a_d_d_result.confidence  ride_a_d_d_result.route_ratio  \\\n22                           1.000000                            0.0   \n38                           0.575673                            0.0   \n40                           0.827889                            0.0   \n42                           1.000000                            0.0   \n57                           1.000000                            0.0   \n...                               ...                            ...   \n2444273                      0.957483                            0.0   \n2444283                      0.869115                            0.0   \n2444287                      1.000000                            0.0   \n2444295                      0.970132                            0.0   \n2444297                      1.000000                            0.0   \n\n         ride_a_d_d_result.g_p_s_ratio  total_a_d_d_confidence  \\\n22                            0.958333                0.884177   \n38                            0.158730                0.518106   \n40                            0.805556                0.858298   \n42                            1.000000                1.000000   \n57                            0.914894                1.000000   \n...                                ...                     ...   \n2444273                       0.913043                0.963321   \n2444283                       0.946588                0.884703   \n2444287                       1.000000                1.000000   \n2444295                       0.918919                0.980072   \n2444297                       1.000000                1.000000   \n\n         in_ride_allotment   e_d_d  allotment_time   accept_time  \\\n22                   0.000   0.969             0.0  1.672500e+09   \n38                   0.000   7.127             0.0  1.672500e+09   \n40                   0.000   9.410             0.0  1.672497e+09   \n42                   0.000   2.059             0.0  1.672499e+09   \n57                   0.000   3.948             0.0  1.672498e+09   \n...                    ...     ...             ...           ...   \n2444273              0.000   8.912             0.0  1.672862e+09   \n2444283              0.000  50.861             0.0  1.672860e+09   \n2444287              0.000   0.681             0.0  1.672863e+09   \n2444295              3.646   4.945           191.0  1.672860e+09   \n2444297              0.000  16.267             0.0  1.672862e+09   \n\n             clickhouse_time                  hash  \n22       2023-01-01 00:02:57  12578648305080645191  \n38       2023-01-01 00:05:25  15408813415602945483  \n40       2023-01-01 00:05:25  12780378572809757550  \n42       2023-01-01 00:01:49   2925408390312839644  \n57       2023-01-01 00:01:49  11432841189254269889  \n...                      ...                   ...  \n2444273  2023-01-04 23:57:16   5082892337309271587  \n2444283  2023-01-04 23:59:33   8719832094409092419  \n2444287  2023-01-04 23:56:06  12679993341374806958  \n2444295  2023-01-04 23:57:16  16437214378447209594  \n2444297  2023-01-04 23:59:33  16738494056738467025  \n\n[5635681 rows x 50 columns]",
      "text/html": "<div>\n<style scoped>\n    .dataframe tbody tr th:only-of-type {\n        vertical-align: middle;\n    }\n\n    .dataframe tbody tr th {\n        vertical-align: top;\n    }\n\n    .dataframe thead th {\n        text-align: right;\n    }\n</style>\n<table border=\"1\" class=\"dataframe\">\n  <thead>\n    <tr style=\"text-align: right;\">\n      <th></th>\n      <th>ride_id</th>\n      <th>driver_id</th>\n      <th>a_t_a_result.arrival_a_t_a</th>\n      <th>a_t_a_result.boarding_a_t_a</th>\n      <th>a_t_a_result.ride_a_t_a</th>\n      <th>a_t_a_result.arrival_probe_result.probe.point.lat</th>\n      <th>a_t_a_result.arrival_probe_result.probe.point.lon</th>\n      <th>a_t_a_result.arrival_probe_result.probe.timestamp</th>\n      <th>a_t_a_result.arrival_probe_result.confidence</th>\n      <th>a_t_a_result.arrival_probe_result.h3_index</th>\n      <th>...</th>\n      <th>ride_a_d_d_result.confidence</th>\n      <th>ride_a_d_d_result.route_ratio</th>\n      <th>ride_a_d_d_result.g_p_s_ratio</th>\n      <th>total_a_d_d_confidence</th>\n      <th>in_ride_allotment</th>\n      <th>e_d_d</th>\n      <th>allotment_time</th>\n      <th>accept_time</th>\n      <th>clickhouse_time</th>\n      <th>hash</th>\n    </tr>\n  </thead>\n  <tbody>\n    <tr>\n      <th>22</th>\n      <td>5588329037</td>\n      <td>2171139</td>\n      <td>115</td>\n      <td>4.0</td>\n      <td>236</td>\n      <td>36.286480</td>\n      <td>59.610023</td>\n      <td>1.672500e+09</td>\n      <td>0.591716</td>\n      <td>8c43608e91a01ff</td>\n      <td>...</td>\n      <td>1.000000</td>\n      <td>0.0</td>\n      <td>0.958333</td>\n      <td>0.884177</td>\n      <td>0.000</td>\n      <td>0.969</td>\n      <td>0.0</td>\n      <td>1.672500e+09</td>\n      <td>2023-01-01 00:02:57</td>\n      <td>12578648305080645191</td>\n    </tr>\n    <tr>\n      <th>38</th>\n      <td>5588308483</td>\n      <td>2178977</td>\n      <td>51</td>\n      <td>0.0</td>\n      <td>628</td>\n      <td>36.309143</td>\n      <td>59.472126</td>\n      <td>1.672500e+09</td>\n      <td>1.000000</td>\n      <td>8c4360809d903ff</td>\n      <td>...</td>\n      <td>0.575673</td>\n      <td>0.0</td>\n      <td>0.158730</td>\n      <td>0.518106</td>\n      <td>0.000</td>\n      <td>7.127</td>\n      <td>0.0</td>\n      <td>1.672500e+09</td>\n      <td>2023-01-01 00:05:25</td>\n      <td>15408813415602945483</td>\n    </tr>\n    <tr>\n      <th>40</th>\n      <td>5588038088</td>\n      <td>2179919</td>\n      <td>379</td>\n      <td>36.0</td>\n      <td>715</td>\n      <td>31.884789</td>\n      <td>54.345654</td>\n      <td>1.672498e+09</td>\n      <td>0.350128</td>\n      <td>8c432e8f63889ff</td>\n      <td>...</td>\n      <td>0.827889</td>\n      <td>0.0</td>\n      <td>0.805556</td>\n      <td>0.858298</td>\n      <td>0.000</td>\n      <td>9.410</td>\n      <td>0.0</td>\n      <td>1.672497e+09</td>\n      <td>2023-01-01 00:05:25</td>\n      <td>12780378572809757550</td>\n    </tr>\n    <tr>\n      <th>42</th>\n      <td>5588231492</td>\n      <td>2180864</td>\n      <td>22</td>\n      <td>8.0</td>\n      <td>652</td>\n      <td>34.082855</td>\n      <td>49.706772</td>\n      <td>1.672499e+09</td>\n      <td>1.000000</td>\n      <td>8c2c8d7a104c1ff</td>\n      <td>...</td>\n      <td>1.000000</td>\n      <td>0.0</td>\n      <td>1.000000</td>\n      <td>1.000000</td>\n      <td>0.000</td>\n      <td>2.059</td>\n      <td>0.0</td>\n      <td>1.672499e+09</td>\n      <td>2023-01-01 00:01:49</td>\n      <td>2925408390312839644</td>\n    </tr>\n    <tr>\n      <th>57</th>\n      <td>5588081717</td>\n      <td>2186412</td>\n      <td>195</td>\n      <td>42.0</td>\n      <td>469</td>\n      <td>31.832134</td>\n      <td>54.378353</td>\n      <td>1.672498e+09</td>\n      <td>1.000000</td>\n      <td>8c432e88b3811ff</td>\n      <td>...</td>\n      <td>1.000000</td>\n      <td>0.0</td>\n      <td>0.914894</td>\n      <td>1.000000</td>\n      <td>0.000</td>\n      <td>3.948</td>\n      <td>0.0</td>\n      <td>1.672498e+09</td>\n      <td>2023-01-01 00:01:49</td>\n      <td>11432841189254269889</td>\n    </tr>\n    <tr>\n      <th>...</th>\n      <td>...</td>\n      <td>...</td>\n      <td>...</td>\n      <td>...</td>\n      <td>...</td>\n      <td>...</td>\n      <td>...</td>\n      <td>...</td>\n      <td>...</td>\n      <td>...</td>\n      <td>...</td>\n      <td>...</td>\n      <td>...</td>\n      <td>...</td>\n      <td>...</td>\n      <td>...</td>\n      <td>...</td>\n      <td>...</td>\n      <td>...</td>\n      <td>...</td>\n      <td>...</td>\n    </tr>\n    <tr>\n      <th>2444273</th>\n      <td>5617064217</td>\n      <td>4668034</td>\n      <td>116</td>\n      <td>351.0</td>\n      <td>916</td>\n      <td>31.916067</td>\n      <td>54.373272</td>\n      <td>1.672863e+09</td>\n      <td>0.769231</td>\n      <td>8c432e8f1856bff</td>\n      <td>...</td>\n      <td>0.957483</td>\n      <td>0.0</td>\n      <td>0.913043</td>\n      <td>0.963321</td>\n      <td>0.000</td>\n      <td>8.912</td>\n      <td>0.0</td>\n      <td>1.672862e+09</td>\n      <td>2023-01-04 23:57:16</td>\n      <td>5082892337309271587</td>\n    </tr>\n    <tr>\n      <th>2444283</th>\n      <td>5616939314</td>\n      <td>3030241</td>\n      <td>213</td>\n      <td>4.0</td>\n      <td>3364</td>\n      <td>35.516766</td>\n      <td>51.154713</td>\n      <td>1.672860e+09</td>\n      <td>1.000000</td>\n      <td>8c2cf3cd16a45ff</td>\n      <td>...</td>\n      <td>0.869115</td>\n      <td>0.0</td>\n      <td>0.946588</td>\n      <td>0.884703</td>\n      <td>0.000</td>\n      <td>50.861</td>\n      <td>0.0</td>\n      <td>1.672860e+09</td>\n      <td>2023-01-04 23:59:33</td>\n      <td>8719832094409092419</td>\n    </tr>\n    <tr>\n      <th>2444287</th>\n      <td>5617106478</td>\n      <td>4400023</td>\n      <td>131</td>\n      <td>84.0</td>\n      <td>212</td>\n      <td>36.280865</td>\n      <td>49.993206</td>\n      <td>1.672864e+09</td>\n      <td>0.769231</td>\n      <td>8c2cf01293851ff</td>\n      <td>...</td>\n      <td>1.000000</td>\n      <td>0.0</td>\n      <td>1.000000</td>\n      <td>1.000000</td>\n      <td>0.000</td>\n      <td>0.681</td>\n      <td>0.0</td>\n      <td>1.672863e+09</td>\n      <td>2023-01-04 23:56:06</td>\n      <td>12679993341374806958</td>\n    </tr>\n    <tr>\n      <th>2444295</th>\n      <td>5616960010</td>\n      <td>2909462</td>\n      <td>329</td>\n      <td>44.0</td>\n      <td>1842</td>\n      <td>29.446220</td>\n      <td>55.697697</td>\n      <td>1.672861e+09</td>\n      <td>0.769231</td>\n      <td>8c430391c086dff</td>\n      <td>...</td>\n      <td>0.970132</td>\n      <td>0.0</td>\n      <td>0.918919</td>\n      <td>0.980072</td>\n      <td>3.646</td>\n      <td>4.945</td>\n      <td>191.0</td>\n      <td>1.672860e+09</td>\n      <td>2023-01-04 23:57:16</td>\n      <td>16437214378447209594</td>\n    </tr>\n    <tr>\n      <th>2444297</th>\n      <td>5617041547</td>\n      <td>3701760</td>\n      <td>287</td>\n      <td>2.0</td>\n      <td>1830</td>\n      <td>35.787815</td>\n      <td>50.861763</td>\n      <td>1.672862e+09</td>\n      <td>1.000000</td>\n      <td>8c2cf3d624767ff</td>\n      <td>...</td>\n      <td>1.000000</td>\n      <td>0.0</td>\n      <td>1.000000</td>\n      <td>1.000000</td>\n      <td>0.000</td>\n      <td>16.267</td>\n      <td>0.0</td>\n      <td>1.672862e+09</td>\n      <td>2023-01-04 23:59:33</td>\n      <td>16738494056738467025</td>\n    </tr>\n  </tbody>\n</table>\n<p>5635681 rows × 50 columns</p>\n</div>"
     },
     "execution_count": 6,
     "metadata": {},
     "output_type": "execute_result"
    }
   ],
   "source": [
    "khatkesh_df = khatkesh_df[(khatkesh_df['a_t_a_result.final_destination_probe_result.confidence'] > 0) & (khatkesh_df['a_t_a_result.boarding_probe_result.confidence'] > 0)]\n",
    "khatkesh_df"
   ],
   "metadata": {
    "collapsed": false,
    "pycharm": {
     "name": "#%%\n"
    }
   }
  },
  {
   "cell_type": "markdown",
   "source": [
    "We leave out the rides which have an extra destination"
   ],
   "metadata": {
    "collapsed": false,
    "pycharm": {
     "name": "#%% md\n"
    }
   }
  },
  {
   "cell_type": "code",
   "execution_count": 7,
   "outputs": [
    {
     "data": {
      "text/plain": "            ride_id  driver_id  a_t_a_result.arrival_a_t_a  \\\n22       5588329037    2171139                         115   \n38       5588308483    2178977                          51   \n40       5588038088    2179919                         379   \n42       5588231492    2180864                          22   \n57       5588081717    2186412                         195   \n...             ...        ...                         ...   \n2444273  5617064217    4668034                         116   \n2444283  5616939314    3030241                         213   \n2444287  5617106478    4400023                         131   \n2444295  5616960010    2909462                         329   \n2444297  5617041547    3701760                         287   \n\n         a_t_a_result.boarding_a_t_a  a_t_a_result.ride_a_t_a  \\\n22                               4.0                      236   \n38                               0.0                      628   \n40                              36.0                      715   \n42                               8.0                      652   \n57                              42.0                      469   \n...                              ...                      ...   \n2444273                        351.0                      916   \n2444283                          4.0                     3364   \n2444287                         84.0                      212   \n2444295                         44.0                     1842   \n2444297                          2.0                     1830   \n\n         a_t_a_result.arrival_probe_result.probe.point.lat  \\\n22                                               36.286480   \n38                                               36.309143   \n40                                               31.884789   \n42                                               34.082855   \n57                                               31.832134   \n...                                                    ...   \n2444273                                          31.916067   \n2444283                                          35.516766   \n2444287                                          36.280865   \n2444295                                          29.446220   \n2444297                                          35.787815   \n\n         a_t_a_result.arrival_probe_result.probe.point.lon  \\\n22                                               59.610023   \n38                                               59.472126   \n40                                               54.345654   \n42                                               49.706772   \n57                                               54.378353   \n...                                                    ...   \n2444273                                          54.373272   \n2444283                                          51.154713   \n2444287                                          49.993206   \n2444295                                          55.697697   \n2444297                                          50.861763   \n\n         a_t_a_result.arrival_probe_result.probe.timestamp  \\\n22                                            1.672500e+09   \n38                                            1.672500e+09   \n40                                            1.672498e+09   \n42                                            1.672499e+09   \n57                                            1.672498e+09   \n...                                                    ...   \n2444273                                       1.672863e+09   \n2444283                                       1.672860e+09   \n2444287                                       1.672864e+09   \n2444295                                       1.672861e+09   \n2444297                                       1.672862e+09   \n\n         a_t_a_result.arrival_probe_result.confidence  \\\n22                                           0.591716   \n38                                           1.000000   \n40                                           0.350128   \n42                                           1.000000   \n57                                           1.000000   \n...                                               ...   \n2444273                                      0.769231   \n2444283                                      1.000000   \n2444287                                      0.769231   \n2444295                                      0.769231   \n2444297                                      1.000000   \n\n        a_t_a_result.arrival_probe_result.h3_index  ...  \\\n22                                 8c43608e91a01ff  ...   \n38                                 8c4360809d903ff  ...   \n40                                 8c432e8f63889ff  ...   \n42                                 8c2c8d7a104c1ff  ...   \n57                                 8c432e88b3811ff  ...   \n...                                            ...  ...   \n2444273                            8c432e8f1856bff  ...   \n2444283                            8c2cf3cd16a45ff  ...   \n2444287                            8c2cf01293851ff  ...   \n2444295                            8c430391c086dff  ...   \n2444297                            8c2cf3d624767ff  ...   \n\n         ride_a_d_d_result.confidence  ride_a_d_d_result.route_ratio  \\\n22                           1.000000                            0.0   \n38                           0.575673                            0.0   \n40                           0.827889                            0.0   \n42                           1.000000                            0.0   \n57                           1.000000                            0.0   \n...                               ...                            ...   \n2444273                      0.957483                            0.0   \n2444283                      0.869115                            0.0   \n2444287                      1.000000                            0.0   \n2444295                      0.970132                            0.0   \n2444297                      1.000000                            0.0   \n\n         ride_a_d_d_result.g_p_s_ratio  total_a_d_d_confidence  \\\n22                            0.958333                0.884177   \n38                            0.158730                0.518106   \n40                            0.805556                0.858298   \n42                            1.000000                1.000000   \n57                            0.914894                1.000000   \n...                                ...                     ...   \n2444273                       0.913043                0.963321   \n2444283                       0.946588                0.884703   \n2444287                       1.000000                1.000000   \n2444295                       0.918919                0.980072   \n2444297                       1.000000                1.000000   \n\n         in_ride_allotment   e_d_d  allotment_time   accept_time  \\\n22                   0.000   0.969             0.0  1.672500e+09   \n38                   0.000   7.127             0.0  1.672500e+09   \n40                   0.000   9.410             0.0  1.672497e+09   \n42                   0.000   2.059             0.0  1.672499e+09   \n57                   0.000   3.948             0.0  1.672498e+09   \n...                    ...     ...             ...           ...   \n2444273              0.000   8.912             0.0  1.672862e+09   \n2444283              0.000  50.861             0.0  1.672860e+09   \n2444287              0.000   0.681             0.0  1.672863e+09   \n2444295              3.646   4.945           191.0  1.672860e+09   \n2444297              0.000  16.267             0.0  1.672862e+09   \n\n             clickhouse_time                  hash  \n22       2023-01-01 00:02:57  12578648305080645191  \n38       2023-01-01 00:05:25  15408813415602945483  \n40       2023-01-01 00:05:25  12780378572809757550  \n42       2023-01-01 00:01:49   2925408390312839644  \n57       2023-01-01 00:01:49  11432841189254269889  \n...                      ...                   ...  \n2444273  2023-01-04 23:57:16   5082892337309271587  \n2444283  2023-01-04 23:59:33   8719832094409092419  \n2444287  2023-01-04 23:56:06  12679993341374806958  \n2444295  2023-01-04 23:57:16  16437214378447209594  \n2444297  2023-01-04 23:59:33  16738494056738467025  \n\n[5474413 rows x 50 columns]",
      "text/html": "<div>\n<style scoped>\n    .dataframe tbody tr th:only-of-type {\n        vertical-align: middle;\n    }\n\n    .dataframe tbody tr th {\n        vertical-align: top;\n    }\n\n    .dataframe thead th {\n        text-align: right;\n    }\n</style>\n<table border=\"1\" class=\"dataframe\">\n  <thead>\n    <tr style=\"text-align: right;\">\n      <th></th>\n      <th>ride_id</th>\n      <th>driver_id</th>\n      <th>a_t_a_result.arrival_a_t_a</th>\n      <th>a_t_a_result.boarding_a_t_a</th>\n      <th>a_t_a_result.ride_a_t_a</th>\n      <th>a_t_a_result.arrival_probe_result.probe.point.lat</th>\n      <th>a_t_a_result.arrival_probe_result.probe.point.lon</th>\n      <th>a_t_a_result.arrival_probe_result.probe.timestamp</th>\n      <th>a_t_a_result.arrival_probe_result.confidence</th>\n      <th>a_t_a_result.arrival_probe_result.h3_index</th>\n      <th>...</th>\n      <th>ride_a_d_d_result.confidence</th>\n      <th>ride_a_d_d_result.route_ratio</th>\n      <th>ride_a_d_d_result.g_p_s_ratio</th>\n      <th>total_a_d_d_confidence</th>\n      <th>in_ride_allotment</th>\n      <th>e_d_d</th>\n      <th>allotment_time</th>\n      <th>accept_time</th>\n      <th>clickhouse_time</th>\n      <th>hash</th>\n    </tr>\n  </thead>\n  <tbody>\n    <tr>\n      <th>22</th>\n      <td>5588329037</td>\n      <td>2171139</td>\n      <td>115</td>\n      <td>4.0</td>\n      <td>236</td>\n      <td>36.286480</td>\n      <td>59.610023</td>\n      <td>1.672500e+09</td>\n      <td>0.591716</td>\n      <td>8c43608e91a01ff</td>\n      <td>...</td>\n      <td>1.000000</td>\n      <td>0.0</td>\n      <td>0.958333</td>\n      <td>0.884177</td>\n      <td>0.000</td>\n      <td>0.969</td>\n      <td>0.0</td>\n      <td>1.672500e+09</td>\n      <td>2023-01-01 00:02:57</td>\n      <td>12578648305080645191</td>\n    </tr>\n    <tr>\n      <th>38</th>\n      <td>5588308483</td>\n      <td>2178977</td>\n      <td>51</td>\n      <td>0.0</td>\n      <td>628</td>\n      <td>36.309143</td>\n      <td>59.472126</td>\n      <td>1.672500e+09</td>\n      <td>1.000000</td>\n      <td>8c4360809d903ff</td>\n      <td>...</td>\n      <td>0.575673</td>\n      <td>0.0</td>\n      <td>0.158730</td>\n      <td>0.518106</td>\n      <td>0.000</td>\n      <td>7.127</td>\n      <td>0.0</td>\n      <td>1.672500e+09</td>\n      <td>2023-01-01 00:05:25</td>\n      <td>15408813415602945483</td>\n    </tr>\n    <tr>\n      <th>40</th>\n      <td>5588038088</td>\n      <td>2179919</td>\n      <td>379</td>\n      <td>36.0</td>\n      <td>715</td>\n      <td>31.884789</td>\n      <td>54.345654</td>\n      <td>1.672498e+09</td>\n      <td>0.350128</td>\n      <td>8c432e8f63889ff</td>\n      <td>...</td>\n      <td>0.827889</td>\n      <td>0.0</td>\n      <td>0.805556</td>\n      <td>0.858298</td>\n      <td>0.000</td>\n      <td>9.410</td>\n      <td>0.0</td>\n      <td>1.672497e+09</td>\n      <td>2023-01-01 00:05:25</td>\n      <td>12780378572809757550</td>\n    </tr>\n    <tr>\n      <th>42</th>\n      <td>5588231492</td>\n      <td>2180864</td>\n      <td>22</td>\n      <td>8.0</td>\n      <td>652</td>\n      <td>34.082855</td>\n      <td>49.706772</td>\n      <td>1.672499e+09</td>\n      <td>1.000000</td>\n      <td>8c2c8d7a104c1ff</td>\n      <td>...</td>\n      <td>1.000000</td>\n      <td>0.0</td>\n      <td>1.000000</td>\n      <td>1.000000</td>\n      <td>0.000</td>\n      <td>2.059</td>\n      <td>0.0</td>\n      <td>1.672499e+09</td>\n      <td>2023-01-01 00:01:49</td>\n      <td>2925408390312839644</td>\n    </tr>\n    <tr>\n      <th>57</th>\n      <td>5588081717</td>\n      <td>2186412</td>\n      <td>195</td>\n      <td>42.0</td>\n      <td>469</td>\n      <td>31.832134</td>\n      <td>54.378353</td>\n      <td>1.672498e+09</td>\n      <td>1.000000</td>\n      <td>8c432e88b3811ff</td>\n      <td>...</td>\n      <td>1.000000</td>\n      <td>0.0</td>\n      <td>0.914894</td>\n      <td>1.000000</td>\n      <td>0.000</td>\n      <td>3.948</td>\n      <td>0.0</td>\n      <td>1.672498e+09</td>\n      <td>2023-01-01 00:01:49</td>\n      <td>11432841189254269889</td>\n    </tr>\n    <tr>\n      <th>...</th>\n      <td>...</td>\n      <td>...</td>\n      <td>...</td>\n      <td>...</td>\n      <td>...</td>\n      <td>...</td>\n      <td>...</td>\n      <td>...</td>\n      <td>...</td>\n      <td>...</td>\n      <td>...</td>\n      <td>...</td>\n      <td>...</td>\n      <td>...</td>\n      <td>...</td>\n      <td>...</td>\n      <td>...</td>\n      <td>...</td>\n      <td>...</td>\n      <td>...</td>\n      <td>...</td>\n    </tr>\n    <tr>\n      <th>2444273</th>\n      <td>5617064217</td>\n      <td>4668034</td>\n      <td>116</td>\n      <td>351.0</td>\n      <td>916</td>\n      <td>31.916067</td>\n      <td>54.373272</td>\n      <td>1.672863e+09</td>\n      <td>0.769231</td>\n      <td>8c432e8f1856bff</td>\n      <td>...</td>\n      <td>0.957483</td>\n      <td>0.0</td>\n      <td>0.913043</td>\n      <td>0.963321</td>\n      <td>0.000</td>\n      <td>8.912</td>\n      <td>0.0</td>\n      <td>1.672862e+09</td>\n      <td>2023-01-04 23:57:16</td>\n      <td>5082892337309271587</td>\n    </tr>\n    <tr>\n      <th>2444283</th>\n      <td>5616939314</td>\n      <td>3030241</td>\n      <td>213</td>\n      <td>4.0</td>\n      <td>3364</td>\n      <td>35.516766</td>\n      <td>51.154713</td>\n      <td>1.672860e+09</td>\n      <td>1.000000</td>\n      <td>8c2cf3cd16a45ff</td>\n      <td>...</td>\n      <td>0.869115</td>\n      <td>0.0</td>\n      <td>0.946588</td>\n      <td>0.884703</td>\n      <td>0.000</td>\n      <td>50.861</td>\n      <td>0.0</td>\n      <td>1.672860e+09</td>\n      <td>2023-01-04 23:59:33</td>\n      <td>8719832094409092419</td>\n    </tr>\n    <tr>\n      <th>2444287</th>\n      <td>5617106478</td>\n      <td>4400023</td>\n      <td>131</td>\n      <td>84.0</td>\n      <td>212</td>\n      <td>36.280865</td>\n      <td>49.993206</td>\n      <td>1.672864e+09</td>\n      <td>0.769231</td>\n      <td>8c2cf01293851ff</td>\n      <td>...</td>\n      <td>1.000000</td>\n      <td>0.0</td>\n      <td>1.000000</td>\n      <td>1.000000</td>\n      <td>0.000</td>\n      <td>0.681</td>\n      <td>0.0</td>\n      <td>1.672863e+09</td>\n      <td>2023-01-04 23:56:06</td>\n      <td>12679993341374806958</td>\n    </tr>\n    <tr>\n      <th>2444295</th>\n      <td>5616960010</td>\n      <td>2909462</td>\n      <td>329</td>\n      <td>44.0</td>\n      <td>1842</td>\n      <td>29.446220</td>\n      <td>55.697697</td>\n      <td>1.672861e+09</td>\n      <td>0.769231</td>\n      <td>8c430391c086dff</td>\n      <td>...</td>\n      <td>0.970132</td>\n      <td>0.0</td>\n      <td>0.918919</td>\n      <td>0.980072</td>\n      <td>3.646</td>\n      <td>4.945</td>\n      <td>191.0</td>\n      <td>1.672860e+09</td>\n      <td>2023-01-04 23:57:16</td>\n      <td>16437214378447209594</td>\n    </tr>\n    <tr>\n      <th>2444297</th>\n      <td>5617041547</td>\n      <td>3701760</td>\n      <td>287</td>\n      <td>2.0</td>\n      <td>1830</td>\n      <td>35.787815</td>\n      <td>50.861763</td>\n      <td>1.672862e+09</td>\n      <td>1.000000</td>\n      <td>8c2cf3d624767ff</td>\n      <td>...</td>\n      <td>1.000000</td>\n      <td>0.0</td>\n      <td>1.000000</td>\n      <td>1.000000</td>\n      <td>0.000</td>\n      <td>16.267</td>\n      <td>0.0</td>\n      <td>1.672862e+09</td>\n      <td>2023-01-04 23:59:33</td>\n      <td>16738494056738467025</td>\n    </tr>\n  </tbody>\n</table>\n<p>5474413 rows × 50 columns</p>\n</div>"
     },
     "execution_count": 7,
     "metadata": {},
     "output_type": "execute_result"
    }
   ],
   "source": [
    "khatkesh_df = khatkesh_df[khatkesh_df['a_t_a_result.extra_destination_probe_result.confidence'] == 0]\n",
    "khatkesh_df"
   ],
   "metadata": {
    "collapsed": false,
    "pycharm": {
     "name": "#%%\n"
    }
   }
  },
  {
   "cell_type": "markdown",
   "source": [
    "For now that we don't have access to fraud rides table, maybe dropping the rides with ADD confidence = 0 can give us a better dataset"
   ],
   "metadata": {
    "collapsed": false,
    "pycharm": {
     "name": "#%% md\n"
    }
   }
  },
  {
   "cell_type": "code",
   "execution_count": 8,
   "outputs": [
    {
     "data": {
      "text/plain": "            ride_id  driver_id  a_t_a_result.arrival_a_t_a  \\\n22       5588329037    2171139                         115   \n38       5588308483    2178977                          51   \n40       5588038088    2179919                         379   \n42       5588231492    2180864                          22   \n57       5588081717    2186412                         195   \n...             ...        ...                         ...   \n2444273  5617064217    4668034                         116   \n2444283  5616939314    3030241                         213   \n2444287  5617106478    4400023                         131   \n2444295  5616960010    2909462                         329   \n2444297  5617041547    3701760                         287   \n\n         a_t_a_result.boarding_a_t_a  a_t_a_result.ride_a_t_a  \\\n22                               4.0                      236   \n38                               0.0                      628   \n40                              36.0                      715   \n42                               8.0                      652   \n57                              42.0                      469   \n...                              ...                      ...   \n2444273                        351.0                      916   \n2444283                          4.0                     3364   \n2444287                         84.0                      212   \n2444295                         44.0                     1842   \n2444297                          2.0                     1830   \n\n         a_t_a_result.arrival_probe_result.probe.point.lat  \\\n22                                               36.286480   \n38                                               36.309143   \n40                                               31.884789   \n42                                               34.082855   \n57                                               31.832134   \n...                                                    ...   \n2444273                                          31.916067   \n2444283                                          35.516766   \n2444287                                          36.280865   \n2444295                                          29.446220   \n2444297                                          35.787815   \n\n         a_t_a_result.arrival_probe_result.probe.point.lon  \\\n22                                               59.610023   \n38                                               59.472126   \n40                                               54.345654   \n42                                               49.706772   \n57                                               54.378353   \n...                                                    ...   \n2444273                                          54.373272   \n2444283                                          51.154713   \n2444287                                          49.993206   \n2444295                                          55.697697   \n2444297                                          50.861763   \n\n         a_t_a_result.arrival_probe_result.probe.timestamp  \\\n22                                            1.672500e+09   \n38                                            1.672500e+09   \n40                                            1.672498e+09   \n42                                            1.672499e+09   \n57                                            1.672498e+09   \n...                                                    ...   \n2444273                                       1.672863e+09   \n2444283                                       1.672860e+09   \n2444287                                       1.672864e+09   \n2444295                                       1.672861e+09   \n2444297                                       1.672862e+09   \n\n         a_t_a_result.arrival_probe_result.confidence  \\\n22                                           0.591716   \n38                                           1.000000   \n40                                           0.350128   \n42                                           1.000000   \n57                                           1.000000   \n...                                               ...   \n2444273                                      0.769231   \n2444283                                      1.000000   \n2444287                                      0.769231   \n2444295                                      0.769231   \n2444297                                      1.000000   \n\n        a_t_a_result.arrival_probe_result.h3_index  ...  \\\n22                                 8c43608e91a01ff  ...   \n38                                 8c4360809d903ff  ...   \n40                                 8c432e8f63889ff  ...   \n42                                 8c2c8d7a104c1ff  ...   \n57                                 8c432e88b3811ff  ...   \n...                                            ...  ...   \n2444273                            8c432e8f1856bff  ...   \n2444283                            8c2cf3cd16a45ff  ...   \n2444287                            8c2cf01293851ff  ...   \n2444295                            8c430391c086dff  ...   \n2444297                            8c2cf3d624767ff  ...   \n\n         ride_a_d_d_result.confidence  ride_a_d_d_result.route_ratio  \\\n22                           1.000000                            0.0   \n38                           0.575673                            0.0   \n40                           0.827889                            0.0   \n42                           1.000000                            0.0   \n57                           1.000000                            0.0   \n...                               ...                            ...   \n2444273                      0.957483                            0.0   \n2444283                      0.869115                            0.0   \n2444287                      1.000000                            0.0   \n2444295                      0.970132                            0.0   \n2444297                      1.000000                            0.0   \n\n         ride_a_d_d_result.g_p_s_ratio  total_a_d_d_confidence  \\\n22                            0.958333                0.884177   \n38                            0.158730                0.518106   \n40                            0.805556                0.858298   \n42                            1.000000                1.000000   \n57                            0.914894                1.000000   \n...                                ...                     ...   \n2444273                       0.913043                0.963321   \n2444283                       0.946588                0.884703   \n2444287                       1.000000                1.000000   \n2444295                       0.918919                0.980072   \n2444297                       1.000000                1.000000   \n\n         in_ride_allotment   e_d_d  allotment_time   accept_time  \\\n22                   0.000   0.969             0.0  1.672500e+09   \n38                   0.000   7.127             0.0  1.672500e+09   \n40                   0.000   9.410             0.0  1.672497e+09   \n42                   0.000   2.059             0.0  1.672499e+09   \n57                   0.000   3.948             0.0  1.672498e+09   \n...                    ...     ...             ...           ...   \n2444273              0.000   8.912             0.0  1.672862e+09   \n2444283              0.000  50.861             0.0  1.672860e+09   \n2444287              0.000   0.681             0.0  1.672863e+09   \n2444295              3.646   4.945           191.0  1.672860e+09   \n2444297              0.000  16.267             0.0  1.672862e+09   \n\n             clickhouse_time                  hash  \n22       2023-01-01 00:02:57  12578648305080645191  \n38       2023-01-01 00:05:25  15408813415602945483  \n40       2023-01-01 00:05:25  12780378572809757550  \n42       2023-01-01 00:01:49   2925408390312839644  \n57       2023-01-01 00:01:49  11432841189254269889  \n...                      ...                   ...  \n2444273  2023-01-04 23:57:16   5082892337309271587  \n2444283  2023-01-04 23:59:33   8719832094409092419  \n2444287  2023-01-04 23:56:06  12679993341374806958  \n2444295  2023-01-04 23:57:16  16437214378447209594  \n2444297  2023-01-04 23:59:33  16738494056738467025  \n\n[5439267 rows x 50 columns]",
      "text/html": "<div>\n<style scoped>\n    .dataframe tbody tr th:only-of-type {\n        vertical-align: middle;\n    }\n\n    .dataframe tbody tr th {\n        vertical-align: top;\n    }\n\n    .dataframe thead th {\n        text-align: right;\n    }\n</style>\n<table border=\"1\" class=\"dataframe\">\n  <thead>\n    <tr style=\"text-align: right;\">\n      <th></th>\n      <th>ride_id</th>\n      <th>driver_id</th>\n      <th>a_t_a_result.arrival_a_t_a</th>\n      <th>a_t_a_result.boarding_a_t_a</th>\n      <th>a_t_a_result.ride_a_t_a</th>\n      <th>a_t_a_result.arrival_probe_result.probe.point.lat</th>\n      <th>a_t_a_result.arrival_probe_result.probe.point.lon</th>\n      <th>a_t_a_result.arrival_probe_result.probe.timestamp</th>\n      <th>a_t_a_result.arrival_probe_result.confidence</th>\n      <th>a_t_a_result.arrival_probe_result.h3_index</th>\n      <th>...</th>\n      <th>ride_a_d_d_result.confidence</th>\n      <th>ride_a_d_d_result.route_ratio</th>\n      <th>ride_a_d_d_result.g_p_s_ratio</th>\n      <th>total_a_d_d_confidence</th>\n      <th>in_ride_allotment</th>\n      <th>e_d_d</th>\n      <th>allotment_time</th>\n      <th>accept_time</th>\n      <th>clickhouse_time</th>\n      <th>hash</th>\n    </tr>\n  </thead>\n  <tbody>\n    <tr>\n      <th>22</th>\n      <td>5588329037</td>\n      <td>2171139</td>\n      <td>115</td>\n      <td>4.0</td>\n      <td>236</td>\n      <td>36.286480</td>\n      <td>59.610023</td>\n      <td>1.672500e+09</td>\n      <td>0.591716</td>\n      <td>8c43608e91a01ff</td>\n      <td>...</td>\n      <td>1.000000</td>\n      <td>0.0</td>\n      <td>0.958333</td>\n      <td>0.884177</td>\n      <td>0.000</td>\n      <td>0.969</td>\n      <td>0.0</td>\n      <td>1.672500e+09</td>\n      <td>2023-01-01 00:02:57</td>\n      <td>12578648305080645191</td>\n    </tr>\n    <tr>\n      <th>38</th>\n      <td>5588308483</td>\n      <td>2178977</td>\n      <td>51</td>\n      <td>0.0</td>\n      <td>628</td>\n      <td>36.309143</td>\n      <td>59.472126</td>\n      <td>1.672500e+09</td>\n      <td>1.000000</td>\n      <td>8c4360809d903ff</td>\n      <td>...</td>\n      <td>0.575673</td>\n      <td>0.0</td>\n      <td>0.158730</td>\n      <td>0.518106</td>\n      <td>0.000</td>\n      <td>7.127</td>\n      <td>0.0</td>\n      <td>1.672500e+09</td>\n      <td>2023-01-01 00:05:25</td>\n      <td>15408813415602945483</td>\n    </tr>\n    <tr>\n      <th>40</th>\n      <td>5588038088</td>\n      <td>2179919</td>\n      <td>379</td>\n      <td>36.0</td>\n      <td>715</td>\n      <td>31.884789</td>\n      <td>54.345654</td>\n      <td>1.672498e+09</td>\n      <td>0.350128</td>\n      <td>8c432e8f63889ff</td>\n      <td>...</td>\n      <td>0.827889</td>\n      <td>0.0</td>\n      <td>0.805556</td>\n      <td>0.858298</td>\n      <td>0.000</td>\n      <td>9.410</td>\n      <td>0.0</td>\n      <td>1.672497e+09</td>\n      <td>2023-01-01 00:05:25</td>\n      <td>12780378572809757550</td>\n    </tr>\n    <tr>\n      <th>42</th>\n      <td>5588231492</td>\n      <td>2180864</td>\n      <td>22</td>\n      <td>8.0</td>\n      <td>652</td>\n      <td>34.082855</td>\n      <td>49.706772</td>\n      <td>1.672499e+09</td>\n      <td>1.000000</td>\n      <td>8c2c8d7a104c1ff</td>\n      <td>...</td>\n      <td>1.000000</td>\n      <td>0.0</td>\n      <td>1.000000</td>\n      <td>1.000000</td>\n      <td>0.000</td>\n      <td>2.059</td>\n      <td>0.0</td>\n      <td>1.672499e+09</td>\n      <td>2023-01-01 00:01:49</td>\n      <td>2925408390312839644</td>\n    </tr>\n    <tr>\n      <th>57</th>\n      <td>5588081717</td>\n      <td>2186412</td>\n      <td>195</td>\n      <td>42.0</td>\n      <td>469</td>\n      <td>31.832134</td>\n      <td>54.378353</td>\n      <td>1.672498e+09</td>\n      <td>1.000000</td>\n      <td>8c432e88b3811ff</td>\n      <td>...</td>\n      <td>1.000000</td>\n      <td>0.0</td>\n      <td>0.914894</td>\n      <td>1.000000</td>\n      <td>0.000</td>\n      <td>3.948</td>\n      <td>0.0</td>\n      <td>1.672498e+09</td>\n      <td>2023-01-01 00:01:49</td>\n      <td>11432841189254269889</td>\n    </tr>\n    <tr>\n      <th>...</th>\n      <td>...</td>\n      <td>...</td>\n      <td>...</td>\n      <td>...</td>\n      <td>...</td>\n      <td>...</td>\n      <td>...</td>\n      <td>...</td>\n      <td>...</td>\n      <td>...</td>\n      <td>...</td>\n      <td>...</td>\n      <td>...</td>\n      <td>...</td>\n      <td>...</td>\n      <td>...</td>\n      <td>...</td>\n      <td>...</td>\n      <td>...</td>\n      <td>...</td>\n      <td>...</td>\n    </tr>\n    <tr>\n      <th>2444273</th>\n      <td>5617064217</td>\n      <td>4668034</td>\n      <td>116</td>\n      <td>351.0</td>\n      <td>916</td>\n      <td>31.916067</td>\n      <td>54.373272</td>\n      <td>1.672863e+09</td>\n      <td>0.769231</td>\n      <td>8c432e8f1856bff</td>\n      <td>...</td>\n      <td>0.957483</td>\n      <td>0.0</td>\n      <td>0.913043</td>\n      <td>0.963321</td>\n      <td>0.000</td>\n      <td>8.912</td>\n      <td>0.0</td>\n      <td>1.672862e+09</td>\n      <td>2023-01-04 23:57:16</td>\n      <td>5082892337309271587</td>\n    </tr>\n    <tr>\n      <th>2444283</th>\n      <td>5616939314</td>\n      <td>3030241</td>\n      <td>213</td>\n      <td>4.0</td>\n      <td>3364</td>\n      <td>35.516766</td>\n      <td>51.154713</td>\n      <td>1.672860e+09</td>\n      <td>1.000000</td>\n      <td>8c2cf3cd16a45ff</td>\n      <td>...</td>\n      <td>0.869115</td>\n      <td>0.0</td>\n      <td>0.946588</td>\n      <td>0.884703</td>\n      <td>0.000</td>\n      <td>50.861</td>\n      <td>0.0</td>\n      <td>1.672860e+09</td>\n      <td>2023-01-04 23:59:33</td>\n      <td>8719832094409092419</td>\n    </tr>\n    <tr>\n      <th>2444287</th>\n      <td>5617106478</td>\n      <td>4400023</td>\n      <td>131</td>\n      <td>84.0</td>\n      <td>212</td>\n      <td>36.280865</td>\n      <td>49.993206</td>\n      <td>1.672864e+09</td>\n      <td>0.769231</td>\n      <td>8c2cf01293851ff</td>\n      <td>...</td>\n      <td>1.000000</td>\n      <td>0.0</td>\n      <td>1.000000</td>\n      <td>1.000000</td>\n      <td>0.000</td>\n      <td>0.681</td>\n      <td>0.0</td>\n      <td>1.672863e+09</td>\n      <td>2023-01-04 23:56:06</td>\n      <td>12679993341374806958</td>\n    </tr>\n    <tr>\n      <th>2444295</th>\n      <td>5616960010</td>\n      <td>2909462</td>\n      <td>329</td>\n      <td>44.0</td>\n      <td>1842</td>\n      <td>29.446220</td>\n      <td>55.697697</td>\n      <td>1.672861e+09</td>\n      <td>0.769231</td>\n      <td>8c430391c086dff</td>\n      <td>...</td>\n      <td>0.970132</td>\n      <td>0.0</td>\n      <td>0.918919</td>\n      <td>0.980072</td>\n      <td>3.646</td>\n      <td>4.945</td>\n      <td>191.0</td>\n      <td>1.672860e+09</td>\n      <td>2023-01-04 23:57:16</td>\n      <td>16437214378447209594</td>\n    </tr>\n    <tr>\n      <th>2444297</th>\n      <td>5617041547</td>\n      <td>3701760</td>\n      <td>287</td>\n      <td>2.0</td>\n      <td>1830</td>\n      <td>35.787815</td>\n      <td>50.861763</td>\n      <td>1.672862e+09</td>\n      <td>1.000000</td>\n      <td>8c2cf3d624767ff</td>\n      <td>...</td>\n      <td>1.000000</td>\n      <td>0.0</td>\n      <td>1.000000</td>\n      <td>1.000000</td>\n      <td>0.000</td>\n      <td>16.267</td>\n      <td>0.0</td>\n      <td>1.672862e+09</td>\n      <td>2023-01-04 23:59:33</td>\n      <td>16738494056738467025</td>\n    </tr>\n  </tbody>\n</table>\n<p>5439267 rows × 50 columns</p>\n</div>"
     },
     "execution_count": 8,
     "metadata": {},
     "output_type": "execute_result"
    }
   ],
   "source": [
    "khatkesh_df = khatkesh_df[khatkesh_df['ride_a_d_d_result.confidence'] > 0]\n",
    "khatkesh_df"
   ],
   "metadata": {
    "collapsed": false,
    "pycharm": {
     "name": "#%%\n"
    }
   }
  },
  {
   "cell_type": "markdown",
   "source": [
    "round trip"
   ],
   "metadata": {
    "collapsed": false,
    "pycharm": {
     "name": "#%% md\n"
    }
   }
  },
  {
   "cell_type": "markdown",
   "source": [
    "speed"
   ],
   "metadata": {
    "collapsed": false,
    "pycharm": {
     "name": "#%% md\n"
    }
   }
  },
  {
   "cell_type": "code",
   "execution_count": 9,
   "outputs": [],
   "source": [
    "speed = khatkesh_df['ride_a_d_d_result.distance'] * 3600 / khatkesh_df['a_t_a_result.ride_a_t_a']"
   ],
   "metadata": {
    "collapsed": false,
    "pycharm": {
     "name": "#%%\n"
    }
   }
  },
  {
   "cell_type": "code",
   "execution_count": 10,
   "outputs": [
    {
     "data": {
      "text/plain": "            ride_id  driver_id  a_t_a_result.arrival_a_t_a  \\\n22       5588329037    2171139                         115   \n38       5588308483    2178977                          51   \n40       5588038088    2179919                         379   \n42       5588231492    2180864                          22   \n57       5588081717    2186412                         195   \n...             ...        ...                         ...   \n2444273  5617064217    4668034                         116   \n2444283  5616939314    3030241                         213   \n2444287  5617106478    4400023                         131   \n2444295  5616960010    2909462                         329   \n2444297  5617041547    3701760                         287   \n\n         a_t_a_result.boarding_a_t_a  a_t_a_result.ride_a_t_a  \\\n22                               4.0                      236   \n38                               0.0                      628   \n40                              36.0                      715   \n42                               8.0                      652   \n57                              42.0                      469   \n...                              ...                      ...   \n2444273                        351.0                      916   \n2444283                          4.0                     3364   \n2444287                         84.0                      212   \n2444295                         44.0                     1842   \n2444297                          2.0                     1830   \n\n         a_t_a_result.arrival_probe_result.probe.point.lat  \\\n22                                               36.286480   \n38                                               36.309143   \n40                                               31.884789   \n42                                               34.082855   \n57                                               31.832134   \n...                                                    ...   \n2444273                                          31.916067   \n2444283                                          35.516766   \n2444287                                          36.280865   \n2444295                                          29.446220   \n2444297                                          35.787815   \n\n         a_t_a_result.arrival_probe_result.probe.point.lon  \\\n22                                               59.610023   \n38                                               59.472126   \n40                                               54.345654   \n42                                               49.706772   \n57                                               54.378353   \n...                                                    ...   \n2444273                                          54.373272   \n2444283                                          51.154713   \n2444287                                          49.993206   \n2444295                                          55.697697   \n2444297                                          50.861763   \n\n         a_t_a_result.arrival_probe_result.probe.timestamp  \\\n22                                            1.672500e+09   \n38                                            1.672500e+09   \n40                                            1.672498e+09   \n42                                            1.672499e+09   \n57                                            1.672498e+09   \n...                                                    ...   \n2444273                                       1.672863e+09   \n2444283                                       1.672860e+09   \n2444287                                       1.672864e+09   \n2444295                                       1.672861e+09   \n2444297                                       1.672862e+09   \n\n         a_t_a_result.arrival_probe_result.confidence  \\\n22                                           0.591716   \n38                                           1.000000   \n40                                           0.350128   \n42                                           1.000000   \n57                                           1.000000   \n...                                               ...   \n2444273                                      0.769231   \n2444283                                      1.000000   \n2444287                                      0.769231   \n2444295                                      0.769231   \n2444297                                      1.000000   \n\n        a_t_a_result.arrival_probe_result.h3_index  ...  \\\n22                                 8c43608e91a01ff  ...   \n38                                 8c4360809d903ff  ...   \n40                                 8c432e8f63889ff  ...   \n42                                 8c2c8d7a104c1ff  ...   \n57                                 8c432e88b3811ff  ...   \n...                                            ...  ...   \n2444273                            8c432e8f1856bff  ...   \n2444283                            8c2cf3cd16a45ff  ...   \n2444287                            8c2cf01293851ff  ...   \n2444295                            8c430391c086dff  ...   \n2444297                            8c2cf3d624767ff  ...   \n\n         ride_a_d_d_result.confidence  ride_a_d_d_result.route_ratio  \\\n22                           1.000000                            0.0   \n38                           0.575673                            0.0   \n40                           0.827889                            0.0   \n42                           1.000000                            0.0   \n57                           1.000000                            0.0   \n...                               ...                            ...   \n2444273                      0.957483                            0.0   \n2444283                      0.869115                            0.0   \n2444287                      1.000000                            0.0   \n2444295                      0.970132                            0.0   \n2444297                      1.000000                            0.0   \n\n         ride_a_d_d_result.g_p_s_ratio  total_a_d_d_confidence  \\\n22                            0.958333                0.884177   \n38                            0.158730                0.518106   \n40                            0.805556                0.858298   \n42                            1.000000                1.000000   \n57                            0.914894                1.000000   \n...                                ...                     ...   \n2444273                       0.913043                0.963321   \n2444283                       0.946588                0.884703   \n2444287                       1.000000                1.000000   \n2444295                       0.918919                0.980072   \n2444297                       1.000000                1.000000   \n\n         in_ride_allotment   e_d_d  allotment_time   accept_time  \\\n22                   0.000   0.969             0.0  1.672500e+09   \n38                   0.000   7.127             0.0  1.672500e+09   \n40                   0.000   9.410             0.0  1.672497e+09   \n42                   0.000   2.059             0.0  1.672499e+09   \n57                   0.000   3.948             0.0  1.672498e+09   \n...                    ...     ...             ...           ...   \n2444273              0.000   8.912             0.0  1.672862e+09   \n2444283              0.000  50.861             0.0  1.672860e+09   \n2444287              0.000   0.681             0.0  1.672863e+09   \n2444295              3.646   4.945           191.0  1.672860e+09   \n2444297              0.000  16.267             0.0  1.672862e+09   \n\n             clickhouse_time                  hash  \n22       2023-01-01 00:02:57  12578648305080645191  \n38       2023-01-01 00:05:25  15408813415602945483  \n40       2023-01-01 00:05:25  12780378572809757550  \n42       2023-01-01 00:01:49   2925408390312839644  \n57       2023-01-01 00:01:49  11432841189254269889  \n...                      ...                   ...  \n2444273  2023-01-04 23:57:16   5082892337309271587  \n2444283  2023-01-04 23:59:33   8719832094409092419  \n2444287  2023-01-04 23:56:06  12679993341374806958  \n2444295  2023-01-04 23:57:16  16437214378447209594  \n2444297  2023-01-04 23:59:33  16738494056738467025  \n\n[5423176 rows x 50 columns]",
      "text/html": "<div>\n<style scoped>\n    .dataframe tbody tr th:only-of-type {\n        vertical-align: middle;\n    }\n\n    .dataframe tbody tr th {\n        vertical-align: top;\n    }\n\n    .dataframe thead th {\n        text-align: right;\n    }\n</style>\n<table border=\"1\" class=\"dataframe\">\n  <thead>\n    <tr style=\"text-align: right;\">\n      <th></th>\n      <th>ride_id</th>\n      <th>driver_id</th>\n      <th>a_t_a_result.arrival_a_t_a</th>\n      <th>a_t_a_result.boarding_a_t_a</th>\n      <th>a_t_a_result.ride_a_t_a</th>\n      <th>a_t_a_result.arrival_probe_result.probe.point.lat</th>\n      <th>a_t_a_result.arrival_probe_result.probe.point.lon</th>\n      <th>a_t_a_result.arrival_probe_result.probe.timestamp</th>\n      <th>a_t_a_result.arrival_probe_result.confidence</th>\n      <th>a_t_a_result.arrival_probe_result.h3_index</th>\n      <th>...</th>\n      <th>ride_a_d_d_result.confidence</th>\n      <th>ride_a_d_d_result.route_ratio</th>\n      <th>ride_a_d_d_result.g_p_s_ratio</th>\n      <th>total_a_d_d_confidence</th>\n      <th>in_ride_allotment</th>\n      <th>e_d_d</th>\n      <th>allotment_time</th>\n      <th>accept_time</th>\n      <th>clickhouse_time</th>\n      <th>hash</th>\n    </tr>\n  </thead>\n  <tbody>\n    <tr>\n      <th>22</th>\n      <td>5588329037</td>\n      <td>2171139</td>\n      <td>115</td>\n      <td>4.0</td>\n      <td>236</td>\n      <td>36.286480</td>\n      <td>59.610023</td>\n      <td>1.672500e+09</td>\n      <td>0.591716</td>\n      <td>8c43608e91a01ff</td>\n      <td>...</td>\n      <td>1.000000</td>\n      <td>0.0</td>\n      <td>0.958333</td>\n      <td>0.884177</td>\n      <td>0.000</td>\n      <td>0.969</td>\n      <td>0.0</td>\n      <td>1.672500e+09</td>\n      <td>2023-01-01 00:02:57</td>\n      <td>12578648305080645191</td>\n    </tr>\n    <tr>\n      <th>38</th>\n      <td>5588308483</td>\n      <td>2178977</td>\n      <td>51</td>\n      <td>0.0</td>\n      <td>628</td>\n      <td>36.309143</td>\n      <td>59.472126</td>\n      <td>1.672500e+09</td>\n      <td>1.000000</td>\n      <td>8c4360809d903ff</td>\n      <td>...</td>\n      <td>0.575673</td>\n      <td>0.0</td>\n      <td>0.158730</td>\n      <td>0.518106</td>\n      <td>0.000</td>\n      <td>7.127</td>\n      <td>0.0</td>\n      <td>1.672500e+09</td>\n      <td>2023-01-01 00:05:25</td>\n      <td>15408813415602945483</td>\n    </tr>\n    <tr>\n      <th>40</th>\n      <td>5588038088</td>\n      <td>2179919</td>\n      <td>379</td>\n      <td>36.0</td>\n      <td>715</td>\n      <td>31.884789</td>\n      <td>54.345654</td>\n      <td>1.672498e+09</td>\n      <td>0.350128</td>\n      <td>8c432e8f63889ff</td>\n      <td>...</td>\n      <td>0.827889</td>\n      <td>0.0</td>\n      <td>0.805556</td>\n      <td>0.858298</td>\n      <td>0.000</td>\n      <td>9.410</td>\n      <td>0.0</td>\n      <td>1.672497e+09</td>\n      <td>2023-01-01 00:05:25</td>\n      <td>12780378572809757550</td>\n    </tr>\n    <tr>\n      <th>42</th>\n      <td>5588231492</td>\n      <td>2180864</td>\n      <td>22</td>\n      <td>8.0</td>\n      <td>652</td>\n      <td>34.082855</td>\n      <td>49.706772</td>\n      <td>1.672499e+09</td>\n      <td>1.000000</td>\n      <td>8c2c8d7a104c1ff</td>\n      <td>...</td>\n      <td>1.000000</td>\n      <td>0.0</td>\n      <td>1.000000</td>\n      <td>1.000000</td>\n      <td>0.000</td>\n      <td>2.059</td>\n      <td>0.0</td>\n      <td>1.672499e+09</td>\n      <td>2023-01-01 00:01:49</td>\n      <td>2925408390312839644</td>\n    </tr>\n    <tr>\n      <th>57</th>\n      <td>5588081717</td>\n      <td>2186412</td>\n      <td>195</td>\n      <td>42.0</td>\n      <td>469</td>\n      <td>31.832134</td>\n      <td>54.378353</td>\n      <td>1.672498e+09</td>\n      <td>1.000000</td>\n      <td>8c432e88b3811ff</td>\n      <td>...</td>\n      <td>1.000000</td>\n      <td>0.0</td>\n      <td>0.914894</td>\n      <td>1.000000</td>\n      <td>0.000</td>\n      <td>3.948</td>\n      <td>0.0</td>\n      <td>1.672498e+09</td>\n      <td>2023-01-01 00:01:49</td>\n      <td>11432841189254269889</td>\n    </tr>\n    <tr>\n      <th>...</th>\n      <td>...</td>\n      <td>...</td>\n      <td>...</td>\n      <td>...</td>\n      <td>...</td>\n      <td>...</td>\n      <td>...</td>\n      <td>...</td>\n      <td>...</td>\n      <td>...</td>\n      <td>...</td>\n      <td>...</td>\n      <td>...</td>\n      <td>...</td>\n      <td>...</td>\n      <td>...</td>\n      <td>...</td>\n      <td>...</td>\n      <td>...</td>\n      <td>...</td>\n      <td>...</td>\n    </tr>\n    <tr>\n      <th>2444273</th>\n      <td>5617064217</td>\n      <td>4668034</td>\n      <td>116</td>\n      <td>351.0</td>\n      <td>916</td>\n      <td>31.916067</td>\n      <td>54.373272</td>\n      <td>1.672863e+09</td>\n      <td>0.769231</td>\n      <td>8c432e8f1856bff</td>\n      <td>...</td>\n      <td>0.957483</td>\n      <td>0.0</td>\n      <td>0.913043</td>\n      <td>0.963321</td>\n      <td>0.000</td>\n      <td>8.912</td>\n      <td>0.0</td>\n      <td>1.672862e+09</td>\n      <td>2023-01-04 23:57:16</td>\n      <td>5082892337309271587</td>\n    </tr>\n    <tr>\n      <th>2444283</th>\n      <td>5616939314</td>\n      <td>3030241</td>\n      <td>213</td>\n      <td>4.0</td>\n      <td>3364</td>\n      <td>35.516766</td>\n      <td>51.154713</td>\n      <td>1.672860e+09</td>\n      <td>1.000000</td>\n      <td>8c2cf3cd16a45ff</td>\n      <td>...</td>\n      <td>0.869115</td>\n      <td>0.0</td>\n      <td>0.946588</td>\n      <td>0.884703</td>\n      <td>0.000</td>\n      <td>50.861</td>\n      <td>0.0</td>\n      <td>1.672860e+09</td>\n      <td>2023-01-04 23:59:33</td>\n      <td>8719832094409092419</td>\n    </tr>\n    <tr>\n      <th>2444287</th>\n      <td>5617106478</td>\n      <td>4400023</td>\n      <td>131</td>\n      <td>84.0</td>\n      <td>212</td>\n      <td>36.280865</td>\n      <td>49.993206</td>\n      <td>1.672864e+09</td>\n      <td>0.769231</td>\n      <td>8c2cf01293851ff</td>\n      <td>...</td>\n      <td>1.000000</td>\n      <td>0.0</td>\n      <td>1.000000</td>\n      <td>1.000000</td>\n      <td>0.000</td>\n      <td>0.681</td>\n      <td>0.0</td>\n      <td>1.672863e+09</td>\n      <td>2023-01-04 23:56:06</td>\n      <td>12679993341374806958</td>\n    </tr>\n    <tr>\n      <th>2444295</th>\n      <td>5616960010</td>\n      <td>2909462</td>\n      <td>329</td>\n      <td>44.0</td>\n      <td>1842</td>\n      <td>29.446220</td>\n      <td>55.697697</td>\n      <td>1.672861e+09</td>\n      <td>0.769231</td>\n      <td>8c430391c086dff</td>\n      <td>...</td>\n      <td>0.970132</td>\n      <td>0.0</td>\n      <td>0.918919</td>\n      <td>0.980072</td>\n      <td>3.646</td>\n      <td>4.945</td>\n      <td>191.0</td>\n      <td>1.672860e+09</td>\n      <td>2023-01-04 23:57:16</td>\n      <td>16437214378447209594</td>\n    </tr>\n    <tr>\n      <th>2444297</th>\n      <td>5617041547</td>\n      <td>3701760</td>\n      <td>287</td>\n      <td>2.0</td>\n      <td>1830</td>\n      <td>35.787815</td>\n      <td>50.861763</td>\n      <td>1.672862e+09</td>\n      <td>1.000000</td>\n      <td>8c2cf3d624767ff</td>\n      <td>...</td>\n      <td>1.000000</td>\n      <td>0.0</td>\n      <td>1.000000</td>\n      <td>1.000000</td>\n      <td>0.000</td>\n      <td>16.267</td>\n      <td>0.0</td>\n      <td>1.672862e+09</td>\n      <td>2023-01-04 23:59:33</td>\n      <td>16738494056738467025</td>\n    </tr>\n  </tbody>\n</table>\n<p>5423176 rows × 50 columns</p>\n</div>"
     },
     "execution_count": 10,
     "metadata": {},
     "output_type": "execute_result"
    }
   ],
   "source": [
    "khatkesh_df = khatkesh_df[(speed < 125) & (speed > 5)]\n",
    "khatkesh_df"
   ],
   "metadata": {
    "collapsed": false,
    "pycharm": {
     "name": "#%%\n"
    }
   }
  },
  {
   "cell_type": "code",
   "execution_count": 11,
   "outputs": [
    {
     "name": "stderr",
     "output_type": "stream",
     "text": [
      "/var/folders/yq/707ysz_j3jlggmtk5clx13rm0000gn/T/ipykernel_8831/1692714103.py:1: SettingWithCopyWarning: \n",
      "A value is trying to be set on a copy of a slice from a DataFrame.\n",
      "Try using .loc[row_indexer,col_indexer] = value instead\n",
      "\n",
      "See the caveats in the documentation: https://pandas.pydata.org/pandas-docs/stable/user_guide/indexing.html#returning-a-view-versus-a-copy\n",
      "  khatkesh_df['source_lat'] = khatkesh_df['a_t_a_result.boarding_probe_result.probe.point.lat']\n",
      "/var/folders/yq/707ysz_j3jlggmtk5clx13rm0000gn/T/ipykernel_8831/1692714103.py:2: SettingWithCopyWarning: \n",
      "A value is trying to be set on a copy of a slice from a DataFrame.\n",
      "Try using .loc[row_indexer,col_indexer] = value instead\n",
      "\n",
      "See the caveats in the documentation: https://pandas.pydata.org/pandas-docs/stable/user_guide/indexing.html#returning-a-view-versus-a-copy\n",
      "  khatkesh_df['source_lng'] = khatkesh_df['a_t_a_result.boarding_probe_result.probe.point.lon']\n",
      "/var/folders/yq/707ysz_j3jlggmtk5clx13rm0000gn/T/ipykernel_8831/1692714103.py:4: SettingWithCopyWarning: \n",
      "A value is trying to be set on a copy of a slice from a DataFrame.\n",
      "Try using .loc[row_indexer,col_indexer] = value instead\n",
      "\n",
      "See the caveats in the documentation: https://pandas.pydata.org/pandas-docs/stable/user_guide/indexing.html#returning-a-view-versus-a-copy\n",
      "  khatkesh_df['dest_lat'] = khatkesh_df['a_t_a_result.final_destination_probe_result.probe.point.lat']\n",
      "/var/folders/yq/707ysz_j3jlggmtk5clx13rm0000gn/T/ipykernel_8831/1692714103.py:5: SettingWithCopyWarning: \n",
      "A value is trying to be set on a copy of a slice from a DataFrame.\n",
      "Try using .loc[row_indexer,col_indexer] = value instead\n",
      "\n",
      "See the caveats in the documentation: https://pandas.pydata.org/pandas-docs/stable/user_guide/indexing.html#returning-a-view-versus-a-copy\n",
      "  khatkesh_df['dest_lng'] = khatkesh_df['a_t_a_result.final_destination_probe_result.probe.point.lon']\n"
     ]
    }
   ],
   "source": [
    "khatkesh_df['source_lat'] = khatkesh_df['a_t_a_result.boarding_probe_result.probe.point.lat']\n",
    "khatkesh_df['source_lng'] = khatkesh_df['a_t_a_result.boarding_probe_result.probe.point.lon']\n",
    "\n",
    "khatkesh_df['dest_lat'] = khatkesh_df['a_t_a_result.final_destination_probe_result.probe.point.lat']\n",
    "khatkesh_df['dest_lng'] = khatkesh_df['a_t_a_result.final_destination_probe_result.probe.point.lon']"
   ],
   "metadata": {
    "collapsed": false,
    "pycharm": {
     "name": "#%%\n"
    }
   }
  },
  {
   "cell_type": "code",
   "execution_count": 12,
   "outputs": [
    {
     "name": "stderr",
     "output_type": "stream",
     "text": [
      "/var/folders/yq/707ysz_j3jlggmtk5clx13rm0000gn/T/ipykernel_8831/1108665080.py:1: SettingWithCopyWarning: \n",
      "A value is trying to be set on a copy of a slice from a DataFrame.\n",
      "Try using .loc[row_indexer,col_indexer] = value instead\n",
      "\n",
      "See the caveats in the documentation: https://pandas.pydata.org/pandas-docs/stable/user_guide/indexing.html#returning-a-view-versus-a-copy\n",
      "  khatkesh_df['source_h3_4'] = khatkesh_df.apply(lambda row: h3.geo_to_h3(row.source_lat, row.source_lng, 4), axis=1)\n",
      "/var/folders/yq/707ysz_j3jlggmtk5clx13rm0000gn/T/ipykernel_8831/1108665080.py:2: SettingWithCopyWarning: \n",
      "A value is trying to be set on a copy of a slice from a DataFrame.\n",
      "Try using .loc[row_indexer,col_indexer] = value instead\n",
      "\n",
      "See the caveats in the documentation: https://pandas.pydata.org/pandas-docs/stable/user_guide/indexing.html#returning-a-view-versus-a-copy\n",
      "  khatkesh_df['dest_h3_4'] = khatkesh_df.apply(lambda row: h3.geo_to_h3(row.dest_lat, row.dest_lng, 4), axis=1)\n"
     ]
    }
   ],
   "source": [
    "khatkesh_df['source_h3_4'] = khatkesh_df.apply(lambda row: h3.geo_to_h3(row.source_lat, row.source_lng, 4), axis=1)\n",
    "khatkesh_df['dest_h3_4'] = khatkesh_df.apply(lambda row: h3.geo_to_h3(row.dest_lat, row.dest_lng, 4), axis=1)"
   ],
   "metadata": {
    "collapsed": false,
    "pycharm": {
     "name": "#%%\n"
    }
   }
  },
  {
   "cell_type": "code",
   "execution_count": 13,
   "outputs": [
    {
     "data": {
      "text/plain": "            ride_id  driver_id  a_t_a_result.arrival_a_t_a  \\\n220      5588248883    2258129                         180   \n240      5588234031    2265476                          58   \n283      5588176649     858277                         384   \n322      5588032652    2289478                          94   \n333      5588088078    2295632                         447   \n...             ...        ...                         ...   \n2444164  5617092473    4666116                         281   \n2444168  5617091238     951202                          58   \n2444177  5617074284    4130485                         199   \n2444189  5617092454    3019259                         161   \n2444244  5617090024    2899103                         278   \n\n         a_t_a_result.boarding_a_t_a  a_t_a_result.ride_a_t_a  \\\n220                            155.0                      637   \n240                              0.0                      726   \n283                             44.0                      848   \n322                             36.0                     2444   \n333                             64.0                     1804   \n...                              ...                      ...   \n2444164                         56.0                      408   \n2444168                        190.0                      660   \n2444177                        132.0                      822   \n2444189                         28.0                      668   \n2444244                         72.0                      676   \n\n         a_t_a_result.arrival_probe_result.probe.point.lat  \\\n220                                              35.731709   \n240                                              35.779987   \n283                                              35.761181   \n322                                              35.768532   \n333                                              35.725971   \n...                                                    ...   \n2444164                                          35.674454   \n2444168                                          35.644882   \n2444177                                          35.722481   \n2444189                                          35.763191   \n2444244                                          35.766254   \n\n         a_t_a_result.arrival_probe_result.probe.point.lon  \\\n220                                              51.525162   \n240                                              51.516701   \n283                                              51.335781   \n322                                              51.361492   \n333                                              51.338257   \n...                                                    ...   \n2444164                                          51.338238   \n2444168                                          51.462872   \n2444177                                          51.433704   \n2444189                                          51.441845   \n2444244                                          51.439732   \n\n         a_t_a_result.arrival_probe_result.probe.timestamp  \\\n220                                           1.672499e+09   \n240                                           1.672499e+09   \n283                                           1.672499e+09   \n322                                           1.672497e+09   \n333                                           1.672498e+09   \n...                                                    ...   \n2444164                                       1.672863e+09   \n2444168                                       1.672863e+09   \n2444177                                       1.672863e+09   \n2444189                                       1.672863e+09   \n2444244                                       1.672863e+09   \n\n         a_t_a_result.arrival_probe_result.confidence  \\\n220                                          0.769231   \n240                                          0.455166   \n283                                          1.000000   \n322                                          1.000000   \n333                                          1.000000   \n...                                               ...   \n2444164                                      0.769231   \n2444168                                      0.769231   \n2444177                                      1.000000   \n2444189                                      1.000000   \n2444244                                      0.769231   \n\n        a_t_a_result.arrival_probe_result.h3_index  ...  allotment_time  \\\n220                                8c2cf30e60ae9ff  ...             0.0   \n240                                8c2cf300b043dff  ...             0.0   \n283                                8c2cf30343613ff  ...             0.0   \n322                                8c2cf30352d3dff  ...             0.0   \n333                                8c2cf30367acbff  ...             0.0   \n...                                            ...  ...             ...   \n2444164                            8c2cf318e2dc5ff  ...             0.0   \n2444168                            8c2cf30aad183ff  ...             0.0   \n2444177                            8c2cf30110097ff  ...             0.0   \n2444189                            8c2cf30038ee5ff  ...             0.0   \n2444244                            8c2cf3003866bff  ...             0.0   \n\n          accept_time      clickhouse_time                  hash  source_lat  \\\n220      1.672499e+09  2023-01-01 00:02:57   1601390439652463931   35.731636   \n240      1.672499e+09  2023-01-01 00:00:37  15724325619924338916   35.779987   \n283      1.672498e+09  2023-01-01 00:01:49   5605562630295081103   35.761261   \n322      1.672497e+09  2023-01-01 00:05:25   8469526244514427004   35.768539   \n333      1.672498e+09  2023-01-01 00:04:12   6933586941731668468   35.726028   \n...               ...                  ...                   ...         ...   \n2444164  1.672863e+09  2023-01-04 23:56:06   6632874758476072829   35.674473   \n2444168  1.672863e+09  2023-01-04 23:58:25   4760001849682502101   35.645161   \n2444177  1.672863e+09  2023-01-04 23:56:06  10813885399393105322   35.722469   \n2444189  1.672863e+09  2023-01-04 23:59:33  13472319297378946851   35.763084   \n2444244  1.672863e+09  2023-01-04 23:59:33  17787772958581264877   35.766266   \n\n        source_lng   dest_lat   dest_lng      source_h3_4        dest_h3_4  \n220      51.525532  35.741768  51.544617  842cf31ffffffff  842cf31ffffffff  \n240      51.516701  35.803802  51.510651  842cf31ffffffff  842cf31ffffffff  \n283      51.335800  35.775879  51.312469  842cf31ffffffff  842cf31ffffffff  \n322      51.361496  35.697433  51.349918  842cf31ffffffff  842cf31ffffffff  \n333      51.338310  35.718754  51.428268  842cf31ffffffff  842cf31ffffffff  \n...            ...        ...        ...              ...              ...  \n2444164  51.338104  35.668514  51.368389  842cf31ffffffff  842cf31ffffffff  \n2444168  51.462368  35.668598  51.453957  842cf31ffffffff  842cf31ffffffff  \n2444177  51.433716  35.754124  51.325352  842cf31ffffffff  842cf31ffffffff  \n2444189  51.441742  35.750519  51.464474  842cf31ffffffff  842cf31ffffffff  \n2444244  51.439713  35.799107  51.461254  842cf31ffffffff  842cf31ffffffff  \n\n[1239610 rows x 56 columns]",
      "text/html": "<div>\n<style scoped>\n    .dataframe tbody tr th:only-of-type {\n        vertical-align: middle;\n    }\n\n    .dataframe tbody tr th {\n        vertical-align: top;\n    }\n\n    .dataframe thead th {\n        text-align: right;\n    }\n</style>\n<table border=\"1\" class=\"dataframe\">\n  <thead>\n    <tr style=\"text-align: right;\">\n      <th></th>\n      <th>ride_id</th>\n      <th>driver_id</th>\n      <th>a_t_a_result.arrival_a_t_a</th>\n      <th>a_t_a_result.boarding_a_t_a</th>\n      <th>a_t_a_result.ride_a_t_a</th>\n      <th>a_t_a_result.arrival_probe_result.probe.point.lat</th>\n      <th>a_t_a_result.arrival_probe_result.probe.point.lon</th>\n      <th>a_t_a_result.arrival_probe_result.probe.timestamp</th>\n      <th>a_t_a_result.arrival_probe_result.confidence</th>\n      <th>a_t_a_result.arrival_probe_result.h3_index</th>\n      <th>...</th>\n      <th>allotment_time</th>\n      <th>accept_time</th>\n      <th>clickhouse_time</th>\n      <th>hash</th>\n      <th>source_lat</th>\n      <th>source_lng</th>\n      <th>dest_lat</th>\n      <th>dest_lng</th>\n      <th>source_h3_4</th>\n      <th>dest_h3_4</th>\n    </tr>\n  </thead>\n  <tbody>\n    <tr>\n      <th>220</th>\n      <td>5588248883</td>\n      <td>2258129</td>\n      <td>180</td>\n      <td>155.0</td>\n      <td>637</td>\n      <td>35.731709</td>\n      <td>51.525162</td>\n      <td>1.672499e+09</td>\n      <td>0.769231</td>\n      <td>8c2cf30e60ae9ff</td>\n      <td>...</td>\n      <td>0.0</td>\n      <td>1.672499e+09</td>\n      <td>2023-01-01 00:02:57</td>\n      <td>1601390439652463931</td>\n      <td>35.731636</td>\n      <td>51.525532</td>\n      <td>35.741768</td>\n      <td>51.544617</td>\n      <td>842cf31ffffffff</td>\n      <td>842cf31ffffffff</td>\n    </tr>\n    <tr>\n      <th>240</th>\n      <td>5588234031</td>\n      <td>2265476</td>\n      <td>58</td>\n      <td>0.0</td>\n      <td>726</td>\n      <td>35.779987</td>\n      <td>51.516701</td>\n      <td>1.672499e+09</td>\n      <td>0.455166</td>\n      <td>8c2cf300b043dff</td>\n      <td>...</td>\n      <td>0.0</td>\n      <td>1.672499e+09</td>\n      <td>2023-01-01 00:00:37</td>\n      <td>15724325619924338916</td>\n      <td>35.779987</td>\n      <td>51.516701</td>\n      <td>35.803802</td>\n      <td>51.510651</td>\n      <td>842cf31ffffffff</td>\n      <td>842cf31ffffffff</td>\n    </tr>\n    <tr>\n      <th>283</th>\n      <td>5588176649</td>\n      <td>858277</td>\n      <td>384</td>\n      <td>44.0</td>\n      <td>848</td>\n      <td>35.761181</td>\n      <td>51.335781</td>\n      <td>1.672499e+09</td>\n      <td>1.000000</td>\n      <td>8c2cf30343613ff</td>\n      <td>...</td>\n      <td>0.0</td>\n      <td>1.672498e+09</td>\n      <td>2023-01-01 00:01:49</td>\n      <td>5605562630295081103</td>\n      <td>35.761261</td>\n      <td>51.335800</td>\n      <td>35.775879</td>\n      <td>51.312469</td>\n      <td>842cf31ffffffff</td>\n      <td>842cf31ffffffff</td>\n    </tr>\n    <tr>\n      <th>322</th>\n      <td>5588032652</td>\n      <td>2289478</td>\n      <td>94</td>\n      <td>36.0</td>\n      <td>2444</td>\n      <td>35.768532</td>\n      <td>51.361492</td>\n      <td>1.672497e+09</td>\n      <td>1.000000</td>\n      <td>8c2cf30352d3dff</td>\n      <td>...</td>\n      <td>0.0</td>\n      <td>1.672497e+09</td>\n      <td>2023-01-01 00:05:25</td>\n      <td>8469526244514427004</td>\n      <td>35.768539</td>\n      <td>51.361496</td>\n      <td>35.697433</td>\n      <td>51.349918</td>\n      <td>842cf31ffffffff</td>\n      <td>842cf31ffffffff</td>\n    </tr>\n    <tr>\n      <th>333</th>\n      <td>5588088078</td>\n      <td>2295632</td>\n      <td>447</td>\n      <td>64.0</td>\n      <td>1804</td>\n      <td>35.725971</td>\n      <td>51.338257</td>\n      <td>1.672498e+09</td>\n      <td>1.000000</td>\n      <td>8c2cf30367acbff</td>\n      <td>...</td>\n      <td>0.0</td>\n      <td>1.672498e+09</td>\n      <td>2023-01-01 00:04:12</td>\n      <td>6933586941731668468</td>\n      <td>35.726028</td>\n      <td>51.338310</td>\n      <td>35.718754</td>\n      <td>51.428268</td>\n      <td>842cf31ffffffff</td>\n      <td>842cf31ffffffff</td>\n    </tr>\n    <tr>\n      <th>...</th>\n      <td>...</td>\n      <td>...</td>\n      <td>...</td>\n      <td>...</td>\n      <td>...</td>\n      <td>...</td>\n      <td>...</td>\n      <td>...</td>\n      <td>...</td>\n      <td>...</td>\n      <td>...</td>\n      <td>...</td>\n      <td>...</td>\n      <td>...</td>\n      <td>...</td>\n      <td>...</td>\n      <td>...</td>\n      <td>...</td>\n      <td>...</td>\n      <td>...</td>\n      <td>...</td>\n    </tr>\n    <tr>\n      <th>2444164</th>\n      <td>5617092473</td>\n      <td>4666116</td>\n      <td>281</td>\n      <td>56.0</td>\n      <td>408</td>\n      <td>35.674454</td>\n      <td>51.338238</td>\n      <td>1.672863e+09</td>\n      <td>0.769231</td>\n      <td>8c2cf318e2dc5ff</td>\n      <td>...</td>\n      <td>0.0</td>\n      <td>1.672863e+09</td>\n      <td>2023-01-04 23:56:06</td>\n      <td>6632874758476072829</td>\n      <td>35.674473</td>\n      <td>51.338104</td>\n      <td>35.668514</td>\n      <td>51.368389</td>\n      <td>842cf31ffffffff</td>\n      <td>842cf31ffffffff</td>\n    </tr>\n    <tr>\n      <th>2444168</th>\n      <td>5617091238</td>\n      <td>951202</td>\n      <td>58</td>\n      <td>190.0</td>\n      <td>660</td>\n      <td>35.644882</td>\n      <td>51.462872</td>\n      <td>1.672863e+09</td>\n      <td>0.769231</td>\n      <td>8c2cf30aad183ff</td>\n      <td>...</td>\n      <td>0.0</td>\n      <td>1.672863e+09</td>\n      <td>2023-01-04 23:58:25</td>\n      <td>4760001849682502101</td>\n      <td>35.645161</td>\n      <td>51.462368</td>\n      <td>35.668598</td>\n      <td>51.453957</td>\n      <td>842cf31ffffffff</td>\n      <td>842cf31ffffffff</td>\n    </tr>\n    <tr>\n      <th>2444177</th>\n      <td>5617074284</td>\n      <td>4130485</td>\n      <td>199</td>\n      <td>132.0</td>\n      <td>822</td>\n      <td>35.722481</td>\n      <td>51.433704</td>\n      <td>1.672863e+09</td>\n      <td>1.000000</td>\n      <td>8c2cf30110097ff</td>\n      <td>...</td>\n      <td>0.0</td>\n      <td>1.672863e+09</td>\n      <td>2023-01-04 23:56:06</td>\n      <td>10813885399393105322</td>\n      <td>35.722469</td>\n      <td>51.433716</td>\n      <td>35.754124</td>\n      <td>51.325352</td>\n      <td>842cf31ffffffff</td>\n      <td>842cf31ffffffff</td>\n    </tr>\n    <tr>\n      <th>2444189</th>\n      <td>5617092454</td>\n      <td>3019259</td>\n      <td>161</td>\n      <td>28.0</td>\n      <td>668</td>\n      <td>35.763191</td>\n      <td>51.441845</td>\n      <td>1.672863e+09</td>\n      <td>1.000000</td>\n      <td>8c2cf30038ee5ff</td>\n      <td>...</td>\n      <td>0.0</td>\n      <td>1.672863e+09</td>\n      <td>2023-01-04 23:59:33</td>\n      <td>13472319297378946851</td>\n      <td>35.763084</td>\n      <td>51.441742</td>\n      <td>35.750519</td>\n      <td>51.464474</td>\n      <td>842cf31ffffffff</td>\n      <td>842cf31ffffffff</td>\n    </tr>\n    <tr>\n      <th>2444244</th>\n      <td>5617090024</td>\n      <td>2899103</td>\n      <td>278</td>\n      <td>72.0</td>\n      <td>676</td>\n      <td>35.766254</td>\n      <td>51.439732</td>\n      <td>1.672863e+09</td>\n      <td>0.769231</td>\n      <td>8c2cf3003866bff</td>\n      <td>...</td>\n      <td>0.0</td>\n      <td>1.672863e+09</td>\n      <td>2023-01-04 23:59:33</td>\n      <td>17787772958581264877</td>\n      <td>35.766266</td>\n      <td>51.439713</td>\n      <td>35.799107</td>\n      <td>51.461254</td>\n      <td>842cf31ffffffff</td>\n      <td>842cf31ffffffff</td>\n    </tr>\n  </tbody>\n</table>\n<p>1239610 rows × 56 columns</p>\n</div>"
     },
     "execution_count": 13,
     "metadata": {},
     "output_type": "execute_result"
    }
   ],
   "source": [
    "khatkesh_df = khatkesh_df[khatkesh_df['source_h3_4'] == '842cf31ffffffff']\n",
    "khatkesh_df = khatkesh_df[khatkesh_df['dest_h3_4'] == '842cf31ffffffff']\n",
    "khatkesh_df"
   ],
   "metadata": {
    "collapsed": false,
    "pycharm": {
     "name": "#%%\n"
    }
   }
  },
  {
   "cell_type": "code",
   "execution_count": 14,
   "outputs": [],
   "source": [
    "khatkesh_df['hour'] = khatkesh_df.apply(lambda row: ((row.accept_time - 1662147000) % 604800) / 3600, axis=1)\n",
    "# rides_train_p1['holiday'] = rides_train_p1.apply(lambda row: int(row.created_at.split()[0] in train_holidays), axis=1)\n",
    "# rides_train_p1\n",
    "# khatkesh_df"
   ],
   "metadata": {
    "collapsed": false,
    "pycharm": {
     "name": "#%%\n"
    }
   }
  },
  {
   "cell_type": "code",
   "execution_count": 15,
   "outputs": [],
   "source": [
    "khatkesh_df['source_h3_9'] = khatkesh_df.apply(lambda row: h3.geo_to_h3(row.source_lat, row.source_lng, 9), axis=1)\n",
    "khatkesh_df['dest_h3_9'] = khatkesh_df.apply(lambda row: h3.geo_to_h3(row.dest_lat, row.dest_lng, 9), axis=1)"
   ],
   "metadata": {
    "collapsed": false,
    "pycharm": {
     "name": "#%%\n"
    }
   }
  },
  {
   "cell_type": "code",
   "execution_count": 16,
   "outputs": [],
   "source": [
    "tmp = khatkesh_df[['ride_id', 'driver_id', 'clickhouse_time', 'source_h3_9', 'dest_h3_9', 'source_lat', 'source_lng', 'dest_lat', 'dest_lng', 'a_t_a_result.ride_a_t_a', 'hour', 'in_ride_allotment']]"
   ],
   "metadata": {
    "collapsed": false,
    "pycharm": {
     "name": "#%%\n"
    }
   }
  },
  {
   "cell_type": "code",
   "execution_count": 17,
   "outputs": [
    {
     "data": {
      "text/plain": "                id  waiting_price  waiting\n0       5589790014              1    0m-5m\n1       5589790814              1    0m-5m\n2       5589790937              1    0m-5m\n3       5589791156              1    0m-5m\n4       5589791225              1   5m-10m\n...            ...            ...      ...\n132282  5616993667              1    0m-5m\n132283  5617019619              1   5m-10m\n132284  5617031071              1    0m-5m\n132285  5617078274              1    0m-5m\n132286  5617120744              1  10m-15m\n\n[516003 rows x 3 columns]",
      "text/html": "<div>\n<style scoped>\n    .dataframe tbody tr th:only-of-type {\n        vertical-align: middle;\n    }\n\n    .dataframe tbody tr th {\n        vertical-align: top;\n    }\n\n    .dataframe thead th {\n        text-align: right;\n    }\n</style>\n<table border=\"1\" class=\"dataframe\">\n  <thead>\n    <tr style=\"text-align: right;\">\n      <th></th>\n      <th>id</th>\n      <th>waiting_price</th>\n      <th>waiting</th>\n    </tr>\n  </thead>\n  <tbody>\n    <tr>\n      <th>0</th>\n      <td>5589790014</td>\n      <td>1</td>\n      <td>0m-5m</td>\n    </tr>\n    <tr>\n      <th>1</th>\n      <td>5589790814</td>\n      <td>1</td>\n      <td>0m-5m</td>\n    </tr>\n    <tr>\n      <th>2</th>\n      <td>5589790937</td>\n      <td>1</td>\n      <td>0m-5m</td>\n    </tr>\n    <tr>\n      <th>3</th>\n      <td>5589791156</td>\n      <td>1</td>\n      <td>0m-5m</td>\n    </tr>\n    <tr>\n      <th>4</th>\n      <td>5589791225</td>\n      <td>1</td>\n      <td>5m-10m</td>\n    </tr>\n    <tr>\n      <th>...</th>\n      <td>...</td>\n      <td>...</td>\n      <td>...</td>\n    </tr>\n    <tr>\n      <th>132282</th>\n      <td>5616993667</td>\n      <td>1</td>\n      <td>0m-5m</td>\n    </tr>\n    <tr>\n      <th>132283</th>\n      <td>5617019619</td>\n      <td>1</td>\n      <td>5m-10m</td>\n    </tr>\n    <tr>\n      <th>132284</th>\n      <td>5617031071</td>\n      <td>1</td>\n      <td>0m-5m</td>\n    </tr>\n    <tr>\n      <th>132285</th>\n      <td>5617078274</td>\n      <td>1</td>\n      <td>0m-5m</td>\n    </tr>\n    <tr>\n      <th>132286</th>\n      <td>5617120744</td>\n      <td>1</td>\n      <td>10m-15m</td>\n    </tr>\n  </tbody>\n</table>\n<p>516003 rows × 3 columns</p>\n</div>"
     },
     "execution_count": 17,
     "metadata": {},
     "output_type": "execute_result"
    }
   ],
   "source": [
    "waiting_df = pd.concat((pd.read_csv('../waiting_' + d + '.csv', names=['id', 'waiting_price', 'waiting']) for d in train_dates))\n",
    "waiting_df"
   ],
   "metadata": {
    "collapsed": false,
    "pycharm": {
     "name": "#%%\n"
    }
   }
  },
  {
   "cell_type": "markdown",
   "source": [
    "**waiting**\n",
    "waiting df has 516,000 rows but only 26,000 of them is in tmp"
   ],
   "metadata": {
    "collapsed": false,
    "pycharm": {
     "name": "#%% md\n"
    }
   }
  },
  {
   "cell_type": "code",
   "execution_count": 18,
   "outputs": [
    {
     "data": {
      "text/plain": "            ride_id  driver_id      clickhouse_time      source_h3_9  \\\n220      5588248883    2258129  2023-01-01 00:02:57  892cf30e60bffff   \n240      5588234031    2265476  2023-01-01 00:00:37  892cf300b07ffff   \n283      5588176649     858277  2023-01-01 00:01:49  892cf303437ffff   \n322      5588032652    2289478  2023-01-01 00:05:25  892cf30352fffff   \n333      5588088078    2295632  2023-01-01 00:04:12  892cf303673ffff   \n...             ...        ...                  ...              ...   \n2444164  5617092473    4666116  2023-01-04 23:56:06  892cf318e2fffff   \n2444168  5617091238     951202  2023-01-04 23:58:25  892cf30aad3ffff   \n2444177  5617074284    4130485  2023-01-04 23:56:06  892cf301107ffff   \n2444189  5617092454    3019259  2023-01-04 23:59:33  892cf30038fffff   \n2444244  5617090024    2899103  2023-01-04 23:59:33  892cf300387ffff   \n\n               dest_h3_9  source_lat  source_lng   dest_lat   dest_lng  \\\n220      892cf30e057ffff   35.731636   51.525532  35.741768  51.544617   \n240      892cf300907ffff   35.779987   51.516701  35.803802  51.510651   \n283      892cf311bd7ffff   35.761261   51.335800  35.775879  51.312469   \n322      892cf3188a7ffff   35.768539   51.361496  35.697433  51.349918   \n333      892cf30111bffff   35.726028   51.338310  35.718754  51.428268   \n...                  ...         ...         ...        ...        ...   \n2444164  892cf318b4bffff   35.674473   51.338104  35.668514  51.368389   \n2444168  892cf30ac6bffff   35.645161   51.462368  35.668598  51.453957   \n2444177  892cf303413ffff   35.722469   51.433716  35.754124  51.325352   \n2444189  892cf301dc7ffff   35.763084   51.441742  35.750519  51.464474   \n2444244  892cf300c17ffff   35.766266   51.439713  35.799107  51.461254   \n\n         a_t_a_result.ride_a_t_a        hour  in_ride_allotment  \n220                          637   19.608056                0.0  \n240                          726   19.527222                0.0  \n283                          848   19.391944                0.0  \n322                         2444   19.079722                0.0  \n333                         1804   19.218889                0.0  \n...                          ...         ...                ...  \n2444164                      408  120.722500                0.0  \n2444168                      660  120.699444                0.0  \n2444177                      822  120.596667                0.0  \n2444189                      668  120.728056                0.0  \n2444244                      676  120.701667                0.0  \n\n[1212908 rows x 12 columns]",
      "text/html": "<div>\n<style scoped>\n    .dataframe tbody tr th:only-of-type {\n        vertical-align: middle;\n    }\n\n    .dataframe tbody tr th {\n        vertical-align: top;\n    }\n\n    .dataframe thead th {\n        text-align: right;\n    }\n</style>\n<table border=\"1\" class=\"dataframe\">\n  <thead>\n    <tr style=\"text-align: right;\">\n      <th></th>\n      <th>ride_id</th>\n      <th>driver_id</th>\n      <th>clickhouse_time</th>\n      <th>source_h3_9</th>\n      <th>dest_h3_9</th>\n      <th>source_lat</th>\n      <th>source_lng</th>\n      <th>dest_lat</th>\n      <th>dest_lng</th>\n      <th>a_t_a_result.ride_a_t_a</th>\n      <th>hour</th>\n      <th>in_ride_allotment</th>\n    </tr>\n  </thead>\n  <tbody>\n    <tr>\n      <th>220</th>\n      <td>5588248883</td>\n      <td>2258129</td>\n      <td>2023-01-01 00:02:57</td>\n      <td>892cf30e60bffff</td>\n      <td>892cf30e057ffff</td>\n      <td>35.731636</td>\n      <td>51.525532</td>\n      <td>35.741768</td>\n      <td>51.544617</td>\n      <td>637</td>\n      <td>19.608056</td>\n      <td>0.0</td>\n    </tr>\n    <tr>\n      <th>240</th>\n      <td>5588234031</td>\n      <td>2265476</td>\n      <td>2023-01-01 00:00:37</td>\n      <td>892cf300b07ffff</td>\n      <td>892cf300907ffff</td>\n      <td>35.779987</td>\n      <td>51.516701</td>\n      <td>35.803802</td>\n      <td>51.510651</td>\n      <td>726</td>\n      <td>19.527222</td>\n      <td>0.0</td>\n    </tr>\n    <tr>\n      <th>283</th>\n      <td>5588176649</td>\n      <td>858277</td>\n      <td>2023-01-01 00:01:49</td>\n      <td>892cf303437ffff</td>\n      <td>892cf311bd7ffff</td>\n      <td>35.761261</td>\n      <td>51.335800</td>\n      <td>35.775879</td>\n      <td>51.312469</td>\n      <td>848</td>\n      <td>19.391944</td>\n      <td>0.0</td>\n    </tr>\n    <tr>\n      <th>322</th>\n      <td>5588032652</td>\n      <td>2289478</td>\n      <td>2023-01-01 00:05:25</td>\n      <td>892cf30352fffff</td>\n      <td>892cf3188a7ffff</td>\n      <td>35.768539</td>\n      <td>51.361496</td>\n      <td>35.697433</td>\n      <td>51.349918</td>\n      <td>2444</td>\n      <td>19.079722</td>\n      <td>0.0</td>\n    </tr>\n    <tr>\n      <th>333</th>\n      <td>5588088078</td>\n      <td>2295632</td>\n      <td>2023-01-01 00:04:12</td>\n      <td>892cf303673ffff</td>\n      <td>892cf30111bffff</td>\n      <td>35.726028</td>\n      <td>51.338310</td>\n      <td>35.718754</td>\n      <td>51.428268</td>\n      <td>1804</td>\n      <td>19.218889</td>\n      <td>0.0</td>\n    </tr>\n    <tr>\n      <th>...</th>\n      <td>...</td>\n      <td>...</td>\n      <td>...</td>\n      <td>...</td>\n      <td>...</td>\n      <td>...</td>\n      <td>...</td>\n      <td>...</td>\n      <td>...</td>\n      <td>...</td>\n      <td>...</td>\n      <td>...</td>\n    </tr>\n    <tr>\n      <th>2444164</th>\n      <td>5617092473</td>\n      <td>4666116</td>\n      <td>2023-01-04 23:56:06</td>\n      <td>892cf318e2fffff</td>\n      <td>892cf318b4bffff</td>\n      <td>35.674473</td>\n      <td>51.338104</td>\n      <td>35.668514</td>\n      <td>51.368389</td>\n      <td>408</td>\n      <td>120.722500</td>\n      <td>0.0</td>\n    </tr>\n    <tr>\n      <th>2444168</th>\n      <td>5617091238</td>\n      <td>951202</td>\n      <td>2023-01-04 23:58:25</td>\n      <td>892cf30aad3ffff</td>\n      <td>892cf30ac6bffff</td>\n      <td>35.645161</td>\n      <td>51.462368</td>\n      <td>35.668598</td>\n      <td>51.453957</td>\n      <td>660</td>\n      <td>120.699444</td>\n      <td>0.0</td>\n    </tr>\n    <tr>\n      <th>2444177</th>\n      <td>5617074284</td>\n      <td>4130485</td>\n      <td>2023-01-04 23:56:06</td>\n      <td>892cf301107ffff</td>\n      <td>892cf303413ffff</td>\n      <td>35.722469</td>\n      <td>51.433716</td>\n      <td>35.754124</td>\n      <td>51.325352</td>\n      <td>822</td>\n      <td>120.596667</td>\n      <td>0.0</td>\n    </tr>\n    <tr>\n      <th>2444189</th>\n      <td>5617092454</td>\n      <td>3019259</td>\n      <td>2023-01-04 23:59:33</td>\n      <td>892cf30038fffff</td>\n      <td>892cf301dc7ffff</td>\n      <td>35.763084</td>\n      <td>51.441742</td>\n      <td>35.750519</td>\n      <td>51.464474</td>\n      <td>668</td>\n      <td>120.728056</td>\n      <td>0.0</td>\n    </tr>\n    <tr>\n      <th>2444244</th>\n      <td>5617090024</td>\n      <td>2899103</td>\n      <td>2023-01-04 23:59:33</td>\n      <td>892cf300387ffff</td>\n      <td>892cf300c17ffff</td>\n      <td>35.766266</td>\n      <td>51.439713</td>\n      <td>35.799107</td>\n      <td>51.461254</td>\n      <td>676</td>\n      <td>120.701667</td>\n      <td>0.0</td>\n    </tr>\n  </tbody>\n</table>\n<p>1212908 rows × 12 columns</p>\n</div>"
     },
     "execution_count": 18,
     "metadata": {},
     "output_type": "execute_result"
    }
   ],
   "source": [
    "tmp = tmp[~tmp['ride_id'].isin(waiting_df['id'])]\n",
    "tmp"
   ],
   "metadata": {
    "collapsed": false,
    "pycharm": {
     "name": "#%%\n"
    }
   }
  },
  {
   "cell_type": "markdown",
   "source": [
    "round trip"
   ],
   "metadata": {
    "collapsed": false,
    "pycharm": {
     "name": "#%% md\n"
    }
   }
  },
  {
   "cell_type": "code",
   "execution_count": 19,
   "outputs": [
    {
     "data": {
      "text/plain": "               id  round_trip_price\n0      5589790074            104485\n1      5589791120             94799\n2      5589791201             72106\n3      5589792038             57780\n4      5589792152            148680\n...           ...               ...\n80897  5616793924            225976\n80898  5616795001            379443\n80899  5617022831             80250\n80900  5617091705             91911\n80901  5617102374            127000\n\n[316833 rows x 2 columns]",
      "text/html": "<div>\n<style scoped>\n    .dataframe tbody tr th:only-of-type {\n        vertical-align: middle;\n    }\n\n    .dataframe tbody tr th {\n        vertical-align: top;\n    }\n\n    .dataframe thead th {\n        text-align: right;\n    }\n</style>\n<table border=\"1\" class=\"dataframe\">\n  <thead>\n    <tr style=\"text-align: right;\">\n      <th></th>\n      <th>id</th>\n      <th>round_trip_price</th>\n    </tr>\n  </thead>\n  <tbody>\n    <tr>\n      <th>0</th>\n      <td>5589790074</td>\n      <td>104485</td>\n    </tr>\n    <tr>\n      <th>1</th>\n      <td>5589791120</td>\n      <td>94799</td>\n    </tr>\n    <tr>\n      <th>2</th>\n      <td>5589791201</td>\n      <td>72106</td>\n    </tr>\n    <tr>\n      <th>3</th>\n      <td>5589792038</td>\n      <td>57780</td>\n    </tr>\n    <tr>\n      <th>4</th>\n      <td>5589792152</td>\n      <td>148680</td>\n    </tr>\n    <tr>\n      <th>...</th>\n      <td>...</td>\n      <td>...</td>\n    </tr>\n    <tr>\n      <th>80897</th>\n      <td>5616793924</td>\n      <td>225976</td>\n    </tr>\n    <tr>\n      <th>80898</th>\n      <td>5616795001</td>\n      <td>379443</td>\n    </tr>\n    <tr>\n      <th>80899</th>\n      <td>5617022831</td>\n      <td>80250</td>\n    </tr>\n    <tr>\n      <th>80900</th>\n      <td>5617091705</td>\n      <td>91911</td>\n    </tr>\n    <tr>\n      <th>80901</th>\n      <td>5617102374</td>\n      <td>127000</td>\n    </tr>\n  </tbody>\n</table>\n<p>316833 rows × 2 columns</p>\n</div>"
     },
     "execution_count": 19,
     "metadata": {},
     "output_type": "execute_result"
    }
   ],
   "source": [
    "round_trip_df = pd.concat((pd.read_csv('../round_trip_' + d + '.csv', names=['id', 'round_trip_price']) for d in train_dates))\n",
    "round_trip_df"
   ],
   "metadata": {
    "collapsed": false,
    "pycharm": {
     "name": "#%%\n"
    }
   }
  },
  {
   "cell_type": "code",
   "execution_count": 20,
   "outputs": [
    {
     "data": {
      "text/plain": "            ride_id  driver_id      clickhouse_time      source_h3_9  \\\n220      5588248883    2258129  2023-01-01 00:02:57  892cf30e60bffff   \n240      5588234031    2265476  2023-01-01 00:00:37  892cf300b07ffff   \n283      5588176649     858277  2023-01-01 00:01:49  892cf303437ffff   \n322      5588032652    2289478  2023-01-01 00:05:25  892cf30352fffff   \n333      5588088078    2295632  2023-01-01 00:04:12  892cf303673ffff   \n...             ...        ...                  ...              ...   \n2444164  5617092473    4666116  2023-01-04 23:56:06  892cf318e2fffff   \n2444168  5617091238     951202  2023-01-04 23:58:25  892cf30aad3ffff   \n2444177  5617074284    4130485  2023-01-04 23:56:06  892cf301107ffff   \n2444189  5617092454    3019259  2023-01-04 23:59:33  892cf30038fffff   \n2444244  5617090024    2899103  2023-01-04 23:59:33  892cf300387ffff   \n\n               dest_h3_9  source_lat  source_lng   dest_lat   dest_lng  \\\n220      892cf30e057ffff   35.731636   51.525532  35.741768  51.544617   \n240      892cf300907ffff   35.779987   51.516701  35.803802  51.510651   \n283      892cf311bd7ffff   35.761261   51.335800  35.775879  51.312469   \n322      892cf3188a7ffff   35.768539   51.361496  35.697433  51.349918   \n333      892cf30111bffff   35.726028   51.338310  35.718754  51.428268   \n...                  ...         ...         ...        ...        ...   \n2444164  892cf318b4bffff   35.674473   51.338104  35.668514  51.368389   \n2444168  892cf30ac6bffff   35.645161   51.462368  35.668598  51.453957   \n2444177  892cf303413ffff   35.722469   51.433716  35.754124  51.325352   \n2444189  892cf301dc7ffff   35.763084   51.441742  35.750519  51.464474   \n2444244  892cf300c17ffff   35.766266   51.439713  35.799107  51.461254   \n\n         a_t_a_result.ride_a_t_a        hour  in_ride_allotment  \n220                          637   19.608056                0.0  \n240                          726   19.527222                0.0  \n283                          848   19.391944                0.0  \n322                         2444   19.079722                0.0  \n333                         1804   19.218889                0.0  \n...                          ...         ...                ...  \n2444164                      408  120.722500                0.0  \n2444168                      660  120.699444                0.0  \n2444177                      822  120.596667                0.0  \n2444189                      668  120.728056                0.0  \n2444244                      676  120.701667                0.0  \n\n[1206138 rows x 12 columns]",
      "text/html": "<div>\n<style scoped>\n    .dataframe tbody tr th:only-of-type {\n        vertical-align: middle;\n    }\n\n    .dataframe tbody tr th {\n        vertical-align: top;\n    }\n\n    .dataframe thead th {\n        text-align: right;\n    }\n</style>\n<table border=\"1\" class=\"dataframe\">\n  <thead>\n    <tr style=\"text-align: right;\">\n      <th></th>\n      <th>ride_id</th>\n      <th>driver_id</th>\n      <th>clickhouse_time</th>\n      <th>source_h3_9</th>\n      <th>dest_h3_9</th>\n      <th>source_lat</th>\n      <th>source_lng</th>\n      <th>dest_lat</th>\n      <th>dest_lng</th>\n      <th>a_t_a_result.ride_a_t_a</th>\n      <th>hour</th>\n      <th>in_ride_allotment</th>\n    </tr>\n  </thead>\n  <tbody>\n    <tr>\n      <th>220</th>\n      <td>5588248883</td>\n      <td>2258129</td>\n      <td>2023-01-01 00:02:57</td>\n      <td>892cf30e60bffff</td>\n      <td>892cf30e057ffff</td>\n      <td>35.731636</td>\n      <td>51.525532</td>\n      <td>35.741768</td>\n      <td>51.544617</td>\n      <td>637</td>\n      <td>19.608056</td>\n      <td>0.0</td>\n    </tr>\n    <tr>\n      <th>240</th>\n      <td>5588234031</td>\n      <td>2265476</td>\n      <td>2023-01-01 00:00:37</td>\n      <td>892cf300b07ffff</td>\n      <td>892cf300907ffff</td>\n      <td>35.779987</td>\n      <td>51.516701</td>\n      <td>35.803802</td>\n      <td>51.510651</td>\n      <td>726</td>\n      <td>19.527222</td>\n      <td>0.0</td>\n    </tr>\n    <tr>\n      <th>283</th>\n      <td>5588176649</td>\n      <td>858277</td>\n      <td>2023-01-01 00:01:49</td>\n      <td>892cf303437ffff</td>\n      <td>892cf311bd7ffff</td>\n      <td>35.761261</td>\n      <td>51.335800</td>\n      <td>35.775879</td>\n      <td>51.312469</td>\n      <td>848</td>\n      <td>19.391944</td>\n      <td>0.0</td>\n    </tr>\n    <tr>\n      <th>322</th>\n      <td>5588032652</td>\n      <td>2289478</td>\n      <td>2023-01-01 00:05:25</td>\n      <td>892cf30352fffff</td>\n      <td>892cf3188a7ffff</td>\n      <td>35.768539</td>\n      <td>51.361496</td>\n      <td>35.697433</td>\n      <td>51.349918</td>\n      <td>2444</td>\n      <td>19.079722</td>\n      <td>0.0</td>\n    </tr>\n    <tr>\n      <th>333</th>\n      <td>5588088078</td>\n      <td>2295632</td>\n      <td>2023-01-01 00:04:12</td>\n      <td>892cf303673ffff</td>\n      <td>892cf30111bffff</td>\n      <td>35.726028</td>\n      <td>51.338310</td>\n      <td>35.718754</td>\n      <td>51.428268</td>\n      <td>1804</td>\n      <td>19.218889</td>\n      <td>0.0</td>\n    </tr>\n    <tr>\n      <th>...</th>\n      <td>...</td>\n      <td>...</td>\n      <td>...</td>\n      <td>...</td>\n      <td>...</td>\n      <td>...</td>\n      <td>...</td>\n      <td>...</td>\n      <td>...</td>\n      <td>...</td>\n      <td>...</td>\n      <td>...</td>\n    </tr>\n    <tr>\n      <th>2444164</th>\n      <td>5617092473</td>\n      <td>4666116</td>\n      <td>2023-01-04 23:56:06</td>\n      <td>892cf318e2fffff</td>\n      <td>892cf318b4bffff</td>\n      <td>35.674473</td>\n      <td>51.338104</td>\n      <td>35.668514</td>\n      <td>51.368389</td>\n      <td>408</td>\n      <td>120.722500</td>\n      <td>0.0</td>\n    </tr>\n    <tr>\n      <th>2444168</th>\n      <td>5617091238</td>\n      <td>951202</td>\n      <td>2023-01-04 23:58:25</td>\n      <td>892cf30aad3ffff</td>\n      <td>892cf30ac6bffff</td>\n      <td>35.645161</td>\n      <td>51.462368</td>\n      <td>35.668598</td>\n      <td>51.453957</td>\n      <td>660</td>\n      <td>120.699444</td>\n      <td>0.0</td>\n    </tr>\n    <tr>\n      <th>2444177</th>\n      <td>5617074284</td>\n      <td>4130485</td>\n      <td>2023-01-04 23:56:06</td>\n      <td>892cf301107ffff</td>\n      <td>892cf303413ffff</td>\n      <td>35.722469</td>\n      <td>51.433716</td>\n      <td>35.754124</td>\n      <td>51.325352</td>\n      <td>822</td>\n      <td>120.596667</td>\n      <td>0.0</td>\n    </tr>\n    <tr>\n      <th>2444189</th>\n      <td>5617092454</td>\n      <td>3019259</td>\n      <td>2023-01-04 23:59:33</td>\n      <td>892cf30038fffff</td>\n      <td>892cf301dc7ffff</td>\n      <td>35.763084</td>\n      <td>51.441742</td>\n      <td>35.750519</td>\n      <td>51.464474</td>\n      <td>668</td>\n      <td>120.728056</td>\n      <td>0.0</td>\n    </tr>\n    <tr>\n      <th>2444244</th>\n      <td>5617090024</td>\n      <td>2899103</td>\n      <td>2023-01-04 23:59:33</td>\n      <td>892cf300387ffff</td>\n      <td>892cf300c17ffff</td>\n      <td>35.766266</td>\n      <td>51.439713</td>\n      <td>35.799107</td>\n      <td>51.461254</td>\n      <td>676</td>\n      <td>120.701667</td>\n      <td>0.0</td>\n    </tr>\n  </tbody>\n</table>\n<p>1206138 rows × 12 columns</p>\n</div>"
     },
     "execution_count": 20,
     "metadata": {},
     "output_type": "execute_result"
    }
   ],
   "source": [
    "tmp = tmp[~tmp['ride_id'].isin(round_trip_df['id'])]\n",
    "tmp"
   ],
   "metadata": {
    "collapsed": false,
    "pycharm": {
     "name": "#%%\n"
    }
   }
  },
  {
   "cell_type": "markdown",
   "source": [
    "cash"
   ],
   "metadata": {
    "collapsed": false,
    "pycharm": {
     "name": "#%% md\n"
    }
   }
  },
  {
   "cell_type": "code",
   "execution_count": null,
   "outputs": [],
   "source": [],
   "metadata": {
    "collapsed": false,
    "pycharm": {
     "name": "#%%\n"
    }
   }
  },
  {
   "cell_type": "markdown",
   "source": [
    "No other extra destination than khatkesh"
   ],
   "metadata": {
    "collapsed": false,
    "pycharm": {
     "name": "#%% md\n"
    }
   }
  },
  {
   "cell_type": "code",
   "execution_count": 21,
   "outputs": [],
   "source": [
    "# extra_destination_df = pd.concat((pd.read_csv('../extra_destination_' + d + '.csv', names=['id', 'extra_destination_price']) for d in train_dates))\n",
    "# extra_destination_df"
   ],
   "metadata": {
    "collapsed": false,
    "pycharm": {
     "name": "#%%\n"
    }
   }
  },
  {
   "cell_type": "code",
   "execution_count": 22,
   "outputs": [],
   "source": [
    "# tmp = tmp[~tmp['ride_id'].isin(extra_destination_df['id'])]\n",
    "# tmp"
   ],
   "metadata": {
    "collapsed": false,
    "pycharm": {
     "name": "#%%\n"
    }
   }
  },
  {
   "cell_type": "code",
   "execution_count": 23,
   "outputs": [
    {
     "data": {
      "text/plain": "892cf318c73ffff    2623\n892cf318c6fffff    2503\n892cf31a977ffff    2108\n892cf302a8fffff    1846\n892cf30223bffff    1826\n                   ... \n892cf319353ffff       1\n892cf318e87ffff       1\n892cf30987bffff       1\n892cf309da3ffff       1\n892cf30e5c3ffff       1\nName: source_h3_9, Length: 5902, dtype: int64"
     },
     "execution_count": 23,
     "metadata": {},
     "output_type": "execute_result"
    }
   ],
   "source": [
    "source_h3 = tmp['source_h3_9'].value_counts()\n",
    "source_h3"
   ],
   "metadata": {
    "collapsed": false,
    "pycharm": {
     "name": "#%%\n"
    }
   }
  },
  {
   "cell_type": "code",
   "execution_count": 24,
   "outputs": [
    {
     "data": {
      "text/plain": "892cf30a54bffff    2302\n892cf31a977ffff    2143\n892cf30223bffff    2139\n892cf318c6fffff    2078\n892cf303437ffff    1999\n                   ... \n892cf318453ffff       1\n892cf30c89bffff       1\n892cf3180b7ffff       1\n892cf30548fffff       1\n892cf356d83ffff       1\nName: dest_h3_9, Length: 6102, dtype: int64"
     },
     "execution_count": 24,
     "metadata": {},
     "output_type": "execute_result"
    }
   ],
   "source": [
    "destination_h3 = tmp['dest_h3_9'].value_counts()\n",
    "destination_h3"
   ],
   "metadata": {
    "collapsed": false,
    "pycharm": {
     "name": "#%%\n"
    }
   }
  },
  {
   "cell_type": "code",
   "execution_count": 25,
   "outputs": [
    {
     "data": {
      "text/plain": "892cf318c73ffff    2623\n892cf318c6fffff    2503\n892cf31a977ffff    2108\n892cf302a8fffff    1846\n892cf30223bffff    1826\n                   ... \n892cf30226fffff     705\n892cf3011d3ffff     705\n892cf30a2b3ffff     704\n892cf30012bffff     704\n892cf30118fffff     701\nName: source_h3_9, Length: 219, dtype: int64"
     },
     "execution_count": 25,
     "metadata": {},
     "output_type": "execute_result"
    }
   ],
   "source": [
    "a = source_h3[source_h3 > 700]\n",
    "a"
   ],
   "metadata": {
    "collapsed": false,
    "pycharm": {
     "name": "#%%\n"
    }
   }
  },
  {
   "cell_type": "code",
   "execution_count": 26,
   "outputs": [
    {
     "data": {
      "text/plain": "892cf30a54bffff    2302\n892cf31a977ffff    2143\n892cf30223bffff    2139\n892cf318c6fffff    2078\n892cf303437ffff    1999\n                   ... \n892cf300ec7ffff     706\n892cf30140bffff     706\n892cf30110bffff     705\n892cf31a323ffff     702\n892cf319d67ffff     702\nName: dest_h3_9, Length: 241, dtype: int64"
     },
     "execution_count": 26,
     "metadata": {},
     "output_type": "execute_result"
    }
   ],
   "source": [
    "b = destination_h3[destination_h3 > 700]\n",
    "b"
   ],
   "metadata": {
    "collapsed": false,
    "pycharm": {
     "name": "#%%\n"
    }
   }
  },
  {
   "cell_type": "code",
   "execution_count": 27,
   "outputs": [],
   "source": [
    "# a = rides_train_p1[(rides_train_p1['source_h3_9'] == \"892cf318c73ffff\") & (rides_train_p1['dest_h3_9'] == \"892cf30a0b3ffff\")][['eta', 'a_t_a_result.ride_a_t_a']]\n",
    "# a\n",
    "# for b, c in a.items():\n",
    "#     print(b)"
   ],
   "metadata": {
    "collapsed": false,
    "pycharm": {
     "name": "#%%\n"
    }
   }
  },
  {
   "cell_type": "code",
   "execution_count": null,
   "outputs": [],
   "source": [
    "for s, _ in a.items():\n",
    "    for d, _ in b.items():\n",
    "        cluster_ata = tmp[(tmp['source_h3_9'] == s) & (tmp['dest_h3_9'] == d)]['a_t_a_result.ride_a_t_a']\n",
    "        if len(cluster_ata) > 10:\n",
    "            print(s)\n",
    "            print(d)\n",
    "            print(len(cluster_ata))"
   ],
   "metadata": {
    "collapsed": false,
    "pycharm": {
     "name": "#%%\n"
    }
   }
  },
  {
   "cell_type": "markdown",
   "source": [
    "from hotel to airport mehrabad"
   ],
   "metadata": {
    "collapsed": false,
    "pycharm": {
     "name": "#%% md\n"
    }
   }
  },
  {
   "cell_type": "code",
   "execution_count": 28,
   "outputs": [],
   "source": [
    "c = tmp[(tmp['source_h3_9'] == '892cf318c73ffff') & (tmp['dest_h3_9'] == '892cf318c6fffff')][['clickhouse_time', 'a_t_a_result.ride_a_t_a', 'hour', 'in_ride_allotment']]\n",
    "c['hour_day'] = c['hour'] % 24"
   ],
   "metadata": {
    "collapsed": false,
    "pycharm": {
     "name": "#%%\n"
    }
   }
  },
  {
   "cell_type": "code",
   "execution_count": 39,
   "outputs": [
    {
     "name": "stderr",
     "output_type": "stream",
     "text": [
      "/var/folders/yq/707ysz_j3jlggmtk5clx13rm0000gn/T/ipykernel_8831/1015060286.py:2: SettingWithCopyWarning: \n",
      "A value is trying to be set on a copy of a slice from a DataFrame.\n",
      "Try using .loc[row_indexer,col_indexer] = value instead\n",
      "\n",
      "See the caveats in the documentation: https://pandas.pydata.org/pandas-docs/stable/user_guide/indexing.html#returning-a-view-versus-a-copy\n",
      "  d['hour_day'] = d['hour'] % 24\n"
     ]
    },
    {
     "data": {
      "text/plain": "            ride_id  driver_id      clickhouse_time      source_h3_9  \\\n2924509  5594861240     909635  2023-01-01 18:58:12  892cf302a17ffff   \n1693847  5598928878     961792  2023-01-02 12:52:25  892cf302a17ffff   \n3544453  5601920388    1446856  2023-01-02 19:17:52  892cf302a17ffff   \n3650448  5602058163      29910  2023-01-02 19:43:39  892cf302a17ffff   \n1478221  5605453144    1414560  2023-01-03 12:16:45  892cf302a17ffff   \n1736131  5605894559    3189562  2023-01-03 13:20:34  892cf302a17ffff   \n2235675  5606620086      18216  2023-01-03 15:06:44  892cf302a17ffff   \n2468189  5606986344     661137  2023-01-03 15:59:42  892cf302a17ffff   \n4285180  5609844349    1474319  2023-01-03 23:45:45  892cf302a17ffff   \n807513   5611135605    3661053  2023-01-04 09:55:44  892cf302a17ffff   \n2090398  5613102413     514549  2023-01-04 14:15:30  892cf302a17ffff   \n\n               dest_h3_9  source_lat  source_lng   dest_lat   dest_lng  \\\n2924509  892cf300dcfffff   35.805809   51.434479  35.804222  51.474331   \n1693847  892cf300dcfffff   35.804073   51.433903  35.804577  51.476826   \n3544453  892cf300dcfffff   35.804993   51.435802  35.804493  51.476967   \n3650448  892cf300dcfffff   35.804863   51.433460  35.804535  51.477058   \n1478221  892cf300dcfffff   35.804832   51.434811  35.805378  51.475250   \n1736131  892cf300dcfffff   35.804825   51.434921  35.804352  51.477051   \n2235675  892cf300dcfffff   35.804714   51.434483  35.804901  51.474152   \n2468189  892cf300dcfffff   35.804958   51.434940  35.804531  51.477013   \n4285180  892cf300dcfffff   35.805031   51.436264  35.804535  51.476933   \n807513   892cf300dcfffff   35.804348   51.433971  35.803806  51.477108   \n2090398  892cf300dcfffff   35.804756   51.434368  35.805347  51.475189   \n\n         a_t_a_result.ride_a_t_a        hour  in_ride_allotment   hour_day  \n2924509                     1564   43.345556                0.0  19.345556  \n1693847                     1388   61.358611                0.0  13.358611  \n3544453                      956   67.988889                0.0  19.988889  \n3650448                     1287   68.324167                0.0  20.324167  \n1478221                     1112   84.935278                0.0  12.935278  \n1736131                     1031   85.983333                0.0  13.983333  \n2235675                     1026   87.783889                0.0  15.783889  \n2468189                      907   88.675833                0.0  16.675833  \n4285180                      672   96.435833                0.0   0.435833  \n807513                      1104  106.532500                0.0  10.532500  \n2090398                     1163  110.888056                0.0  14.888056  ",
      "text/html": "<div>\n<style scoped>\n    .dataframe tbody tr th:only-of-type {\n        vertical-align: middle;\n    }\n\n    .dataframe tbody tr th {\n        vertical-align: top;\n    }\n\n    .dataframe thead th {\n        text-align: right;\n    }\n</style>\n<table border=\"1\" class=\"dataframe\">\n  <thead>\n    <tr style=\"text-align: right;\">\n      <th></th>\n      <th>ride_id</th>\n      <th>driver_id</th>\n      <th>clickhouse_time</th>\n      <th>source_h3_9</th>\n      <th>dest_h3_9</th>\n      <th>source_lat</th>\n      <th>source_lng</th>\n      <th>dest_lat</th>\n      <th>dest_lng</th>\n      <th>a_t_a_result.ride_a_t_a</th>\n      <th>hour</th>\n      <th>in_ride_allotment</th>\n      <th>hour_day</th>\n    </tr>\n  </thead>\n  <tbody>\n    <tr>\n      <th>2924509</th>\n      <td>5594861240</td>\n      <td>909635</td>\n      <td>2023-01-01 18:58:12</td>\n      <td>892cf302a17ffff</td>\n      <td>892cf300dcfffff</td>\n      <td>35.805809</td>\n      <td>51.434479</td>\n      <td>35.804222</td>\n      <td>51.474331</td>\n      <td>1564</td>\n      <td>43.345556</td>\n      <td>0.0</td>\n      <td>19.345556</td>\n    </tr>\n    <tr>\n      <th>1693847</th>\n      <td>5598928878</td>\n      <td>961792</td>\n      <td>2023-01-02 12:52:25</td>\n      <td>892cf302a17ffff</td>\n      <td>892cf300dcfffff</td>\n      <td>35.804073</td>\n      <td>51.433903</td>\n      <td>35.804577</td>\n      <td>51.476826</td>\n      <td>1388</td>\n      <td>61.358611</td>\n      <td>0.0</td>\n      <td>13.358611</td>\n    </tr>\n    <tr>\n      <th>3544453</th>\n      <td>5601920388</td>\n      <td>1446856</td>\n      <td>2023-01-02 19:17:52</td>\n      <td>892cf302a17ffff</td>\n      <td>892cf300dcfffff</td>\n      <td>35.804993</td>\n      <td>51.435802</td>\n      <td>35.804493</td>\n      <td>51.476967</td>\n      <td>956</td>\n      <td>67.988889</td>\n      <td>0.0</td>\n      <td>19.988889</td>\n    </tr>\n    <tr>\n      <th>3650448</th>\n      <td>5602058163</td>\n      <td>29910</td>\n      <td>2023-01-02 19:43:39</td>\n      <td>892cf302a17ffff</td>\n      <td>892cf300dcfffff</td>\n      <td>35.804863</td>\n      <td>51.433460</td>\n      <td>35.804535</td>\n      <td>51.477058</td>\n      <td>1287</td>\n      <td>68.324167</td>\n      <td>0.0</td>\n      <td>20.324167</td>\n    </tr>\n    <tr>\n      <th>1478221</th>\n      <td>5605453144</td>\n      <td>1414560</td>\n      <td>2023-01-03 12:16:45</td>\n      <td>892cf302a17ffff</td>\n      <td>892cf300dcfffff</td>\n      <td>35.804832</td>\n      <td>51.434811</td>\n      <td>35.805378</td>\n      <td>51.475250</td>\n      <td>1112</td>\n      <td>84.935278</td>\n      <td>0.0</td>\n      <td>12.935278</td>\n    </tr>\n    <tr>\n      <th>1736131</th>\n      <td>5605894559</td>\n      <td>3189562</td>\n      <td>2023-01-03 13:20:34</td>\n      <td>892cf302a17ffff</td>\n      <td>892cf300dcfffff</td>\n      <td>35.804825</td>\n      <td>51.434921</td>\n      <td>35.804352</td>\n      <td>51.477051</td>\n      <td>1031</td>\n      <td>85.983333</td>\n      <td>0.0</td>\n      <td>13.983333</td>\n    </tr>\n    <tr>\n      <th>2235675</th>\n      <td>5606620086</td>\n      <td>18216</td>\n      <td>2023-01-03 15:06:44</td>\n      <td>892cf302a17ffff</td>\n      <td>892cf300dcfffff</td>\n      <td>35.804714</td>\n      <td>51.434483</td>\n      <td>35.804901</td>\n      <td>51.474152</td>\n      <td>1026</td>\n      <td>87.783889</td>\n      <td>0.0</td>\n      <td>15.783889</td>\n    </tr>\n    <tr>\n      <th>2468189</th>\n      <td>5606986344</td>\n      <td>661137</td>\n      <td>2023-01-03 15:59:42</td>\n      <td>892cf302a17ffff</td>\n      <td>892cf300dcfffff</td>\n      <td>35.804958</td>\n      <td>51.434940</td>\n      <td>35.804531</td>\n      <td>51.477013</td>\n      <td>907</td>\n      <td>88.675833</td>\n      <td>0.0</td>\n      <td>16.675833</td>\n    </tr>\n    <tr>\n      <th>4285180</th>\n      <td>5609844349</td>\n      <td>1474319</td>\n      <td>2023-01-03 23:45:45</td>\n      <td>892cf302a17ffff</td>\n      <td>892cf300dcfffff</td>\n      <td>35.805031</td>\n      <td>51.436264</td>\n      <td>35.804535</td>\n      <td>51.476933</td>\n      <td>672</td>\n      <td>96.435833</td>\n      <td>0.0</td>\n      <td>0.435833</td>\n    </tr>\n    <tr>\n      <th>807513</th>\n      <td>5611135605</td>\n      <td>3661053</td>\n      <td>2023-01-04 09:55:44</td>\n      <td>892cf302a17ffff</td>\n      <td>892cf300dcfffff</td>\n      <td>35.804348</td>\n      <td>51.433971</td>\n      <td>35.803806</td>\n      <td>51.477108</td>\n      <td>1104</td>\n      <td>106.532500</td>\n      <td>0.0</td>\n      <td>10.532500</td>\n    </tr>\n    <tr>\n      <th>2090398</th>\n      <td>5613102413</td>\n      <td>514549</td>\n      <td>2023-01-04 14:15:30</td>\n      <td>892cf302a17ffff</td>\n      <td>892cf300dcfffff</td>\n      <td>35.804756</td>\n      <td>51.434368</td>\n      <td>35.805347</td>\n      <td>51.475189</td>\n      <td>1163</td>\n      <td>110.888056</td>\n      <td>0.0</td>\n      <td>14.888056</td>\n    </tr>\n  </tbody>\n</table>\n</div>"
     },
     "execution_count": 39,
     "metadata": {},
     "output_type": "execute_result"
    }
   ],
   "source": [
    "d = tmp[(tmp['source_h3_9'] == '892cf302a17ffff') & (tmp['dest_h3_9'] == '892cf300dcfffff')]\n",
    "d['hour_day'] = d['hour'] % 24\n",
    "d"
   ],
   "metadata": {
    "collapsed": false,
    "pycharm": {
     "name": "#%%\n"
    }
   }
  },
  {
   "cell_type": "code",
   "execution_count": 30,
   "outputs": [
    {
     "data": {
      "text/plain": "1110.0"
     },
     "execution_count": 30,
     "metadata": {},
     "output_type": "execute_result"
    }
   ],
   "source": [
    "d['a_t_a_result.ride_a_t_a'].mean()"
   ],
   "metadata": {
    "collapsed": false,
    "pycharm": {
     "name": "#%%\n"
    }
   }
  },
  {
   "cell_type": "code",
   "execution_count": 31,
   "outputs": [
    {
     "data": {
      "text/plain": "Empty DataFrame\nColumns: [ride_id, driver_id, clickhouse_time, source_h3_9, dest_h3_9, source_lat, source_lng, dest_lat, dest_lng, a_t_a_result.ride_a_t_a, hour, in_ride_allotment, hour_day]\nIndex: []",
      "text/html": "<div>\n<style scoped>\n    .dataframe tbody tr th:only-of-type {\n        vertical-align: middle;\n    }\n\n    .dataframe tbody tr th {\n        vertical-align: top;\n    }\n\n    .dataframe thead th {\n        text-align: right;\n    }\n</style>\n<table border=\"1\" class=\"dataframe\">\n  <thead>\n    <tr style=\"text-align: right;\">\n      <th></th>\n      <th>ride_id</th>\n      <th>driver_id</th>\n      <th>clickhouse_time</th>\n      <th>source_h3_9</th>\n      <th>dest_h3_9</th>\n      <th>source_lat</th>\n      <th>source_lng</th>\n      <th>dest_lat</th>\n      <th>dest_lng</th>\n      <th>a_t_a_result.ride_a_t_a</th>\n      <th>hour</th>\n      <th>in_ride_allotment</th>\n      <th>hour_day</th>\n    </tr>\n  </thead>\n  <tbody>\n  </tbody>\n</table>\n</div>"
     },
     "execution_count": 31,
     "metadata": {},
     "output_type": "execute_result"
    }
   ],
   "source": [
    "d[d['in_ride_allotment'] > 0]"
   ],
   "metadata": {
    "collapsed": false,
    "pycharm": {
     "name": "#%%\n"
    }
   }
  },
  {
   "cell_type": "code",
   "execution_count": 230,
   "outputs": [
    {
     "name": "stdout",
     "output_type": "stream",
     "text": [
      "192440\n",
      "265949\n",
      "1117465\n",
      "1553855\n",
      "2563852\n",
      "3871751\n",
      "6519\n",
      "67983\n",
      "135876\n",
      "226761\n",
      "952273\n",
      "2285077\n",
      "2393800\n",
      "2457168\n",
      "3283240\n",
      "3534978\n",
      "3620546\n",
      "4406561\n",
      "64169\n",
      "105282\n",
      "222881\n",
      "731573\n",
      "1142242\n",
      "1289290\n",
      "1619607\n",
      "1711431\n",
      "1790654\n",
      "3261380\n",
      "3420898\n",
      "3901778\n",
      "84667\n",
      "98257\n",
      "125326\n",
      "1742840\n",
      "2414203\n"
     ]
    }
   ],
   "source": [
    "neigh_34_pred = np.array([])\n",
    "neigh_34_true = np.array([])\n",
    "\n",
    "neigh_10_pred = np.array([])\n",
    "neigh_10_true = np.array([])\n",
    "\n",
    "neigh_5_pred = np.array([])\n",
    "neigh_5_true = np.array([])\n",
    "\n",
    "for i, _ in c.iterrows():\n",
    "    ca_train_x = c[c.index != i]['hour_day'].to_numpy().reshape(-1, 1)\n",
    "    ca_train_y = c[c.index != i]['a_t_a_result.ride_a_t_a'].to_numpy().reshape(-1, 1)\n",
    "\n",
    "    ca_test_x = c[c.index == i]['hour_day'].to_numpy()\n",
    "    ca_test_y = c[c.index == i]['a_t_a_result.ride_a_t_a'].to_numpy()\n",
    "\n",
    "    neigh_34 = KNeighborsRegressor(n_neighbors=34)\n",
    "    neigh_34.fit(ca_train_x, ca_train_y)\n",
    "    neigh_34_pred = np.append(neigh_34_pred, neigh_34.predict([ca_test_x]))\n",
    "    neigh_34_true = np.append(neigh_34_true, ca_test_y)\n",
    "\n",
    "    neigh_10 = KNeighborsRegressor(n_neighbors=10)\n",
    "    neigh_10.fit(ca_train_x, ca_train_y)\n",
    "    neigh_10_pred = np.append(neigh_10_pred, neigh_10.predict([ca_test_x]))\n",
    "    neigh_10_true = np.append(neigh_10_true, ca_test_y)\n",
    "\n",
    "    neigh_5 = KNeighborsRegressor(n_neighbors=5)\n",
    "    neigh_5.fit(ca_train_x, ca_train_y)\n",
    "    neigh_5_pred = np.append(neigh_5_pred, neigh_5.predict([ca_test_x]))\n",
    "    neigh_5_true = np.append(neigh_5_true, ca_test_y)"
   ],
   "metadata": {
    "collapsed": false,
    "pycharm": {
     "name": "#%%\n"
    }
   }
  },
  {
   "cell_type": "code",
   "execution_count": 228,
   "outputs": [
    {
     "data": {
      "text/plain": "array([217.4, 267.2, 171. , 146.4, 205.6, 210.2, 295. , 267.6, 142.6,\n       144.6, 178. , 156.8, 233.2, 219.6, 270.6, 260.4, 187.2, 275. ,\n       273. , 164.8, 161.4, 159.4, 166.8, 160.8, 167.2, 174.4, 196.8,\n       239.8, 253.2, 213.4, 150.2, 151.4, 148.2, 177.6, 285.4])"
     },
     "execution_count": 228,
     "metadata": {},
     "output_type": "execute_result"
    }
   ],
   "source": [
    "neigh_5_pred"
   ],
   "metadata": {
    "collapsed": false,
    "pycharm": {
     "name": "#%%\n"
    }
   }
  },
  {
   "cell_type": "code",
   "execution_count": 229,
   "outputs": [
    {
     "data": {
      "text/plain": "array([156., 303., 122., 216., 442., 588., 164., 135., 148., 201., 128.,\n       188., 108., 176., 117., 168., 268., 264., 108., 153., 117., 146.,\n       108., 228., 192., 236., 124., 271., 204., 176., 214., 233., 120.,\n       140., 212.])"
     },
     "execution_count": 229,
     "metadata": {},
     "output_type": "execute_result"
    }
   ],
   "source": [
    "neigh_5_true"
   ],
   "metadata": {
    "collapsed": false,
    "pycharm": {
     "name": "#%%\n"
    }
   }
  },
  {
   "cell_type": "code",
   "execution_count": 214,
   "outputs": [],
   "source": [
    "errors_34 = neigh_34_pred - neigh_34_true\n",
    "errors_10 = neigh_10_pred - neigh_10_true\n",
    "errors_5 = neigh_5_pred - neigh_5_true"
   ],
   "metadata": {
    "collapsed": false,
    "pycharm": {
     "name": "#%%\n"
    }
   }
  },
  {
   "cell_type": "code",
   "execution_count": 215,
   "outputs": [
    {
     "name": "stdout",
     "output_type": "stream",
     "text": [
      "0.0\n",
      "-7.40285714285714\n",
      "6.234285714285712\n"
     ]
    }
   ],
   "source": [
    "print(errors_34.mean())\n",
    "print(errors_10.mean())\n",
    "print(errors_5.mean())"
   ],
   "metadata": {
    "collapsed": false,
    "pycharm": {
     "name": "#%%\n"
    }
   }
  },
  {
   "cell_type": "code",
   "execution_count": 216,
   "outputs": [
    {
     "name": "stdout",
     "output_type": "stream",
     "text": [
      "[  41.58823529 -109.73529412   76.58823529  -20.17647059 -252.82352941\n",
      " -403.11764706   33.35294118   63.20588235   49.82352941   -4.73529412\n",
      "   70.41176471    8.64705882   91.           21.           81.73529412\n",
      "   29.23529412  -73.70588235  -69.58823529   91.           44.67647059\n",
      "   81.73529412   51.88235294   91.          -32.52941176    4.52941176\n",
      "  -40.76470588   74.52941176  -76.79411765   -7.82352941   21.\n",
      "  -18.11764706  -37.67647059   78.64705882   58.05882353  -16.05882353]\n",
      "[  55.8  -83.7   46.3  -68.4 -258.8 -397.2   69.2  101.1   17.   -51.9\n",
      "   42.8   15.4  101.    26.2   98.7   42.6  -67.4  -40.8  130.8    8.4\n",
      "   40.5   13.8   64.8  -69.4  -33.8  -82.2   41.   -70.7    3.    33.8\n",
      "    5.   -79.6   47.8   23.4   16.4]\n",
      "[  61.4  -35.8   49.   -69.6 -236.4 -377.8  131.   132.6   -5.4  -56.4\n",
      "   50.   -31.2  125.2   43.6  153.6   92.4  -80.8   11.   165.    11.8\n",
      "   44.4   13.4   58.8  -67.2  -24.8  -61.6   72.8  -31.2   49.2   37.4\n",
      "  -63.8  -81.6   28.2   37.6   73.4]\n"
     ]
    }
   ],
   "source": [
    "print(errors_34)\n",
    "print(errors_10)\n",
    "print(errors_5)"
   ],
   "metadata": {
    "collapsed": false,
    "pycharm": {
     "name": "#%%\n"
    }
   }
  },
  {
   "cell_type": "code",
   "execution_count": 217,
   "outputs": [
    {
     "name": "stdout",
     "output_type": "stream",
     "text": [
      "98.5367161471588\n",
      "98.80710641219598\n",
      "103.87550224834986\n"
     ]
    }
   ],
   "source": [
    "print(errors_34.std())\n",
    "print(errors_10.std())\n",
    "print(errors_5.std())"
   ],
   "metadata": {
    "collapsed": false,
    "pycharm": {
     "name": "#%%\n"
    }
   }
  },
  {
   "cell_type": "code",
   "execution_count": 218,
   "outputs": [
    {
     "name": "stdout",
     "output_type": "stream",
     "text": [
      "0.3546551600316622\n",
      "0.34514627217903027\n",
      "0.4182907773070242\n"
     ]
    }
   ],
   "source": [
    "print(mean_absolute_percentage_error(neigh_34_true, neigh_34_pred))\n",
    "print(mean_absolute_percentage_error(neigh_10_true, neigh_10_pred))\n",
    "print(mean_absolute_percentage_error(neigh_5_true, neigh_5_pred))"
   ],
   "metadata": {
    "collapsed": false,
    "pycharm": {
     "name": "#%%\n"
    }
   }
  },
  {
   "cell_type": "code",
   "execution_count": null,
   "outputs": [],
   "source": [],
   "metadata": {
    "collapsed": false,
    "pycharm": {
     "name": "#%%\n"
    }
   }
  },
  {
   "cell_type": "code",
   "execution_count": 32,
   "outputs": [],
   "source": [
    "neigh_10_pred = np.array([])\n",
    "neigh_10_true = np.array([])\n",
    "\n",
    "neigh_5_pred = np.array([])\n",
    "neigh_5_true = np.array([])\n",
    "\n",
    "neigh_2_pred = np.array([])\n",
    "neigh_2_true = np.array([])\n",
    "\n",
    "for i, _ in d.iterrows():\n",
    "    ca_train_x = d[d.index != i]['hour_day'].to_numpy().reshape(-1, 1)\n",
    "    ca_train_y = d[d.index != i]['a_t_a_result.ride_a_t_a'].to_numpy().reshape(-1, 1)\n",
    "\n",
    "    ca_test_x = d[d.index == i]['hour_day'].to_numpy()\n",
    "    ca_test_y = d[d.index == i]['a_t_a_result.ride_a_t_a'].to_numpy()\n",
    "\n",
    "    neigh_10 = KNeighborsRegressor(n_neighbors=10)\n",
    "    neigh_10.fit(ca_train_x, ca_train_y)\n",
    "    neigh_10_pred = np.append(neigh_10_pred, neigh_10.predict([ca_test_x]))\n",
    "    neigh_10_true = np.append(neigh_10_true, ca_test_y)\n",
    "\n",
    "    neigh_5 = KNeighborsRegressor(n_neighbors=5)\n",
    "    neigh_5.fit(ca_train_x, ca_train_y)\n",
    "    neigh_5_pred = np.append(neigh_5_pred, neigh_5.predict([ca_test_x]))\n",
    "    neigh_5_true = np.append(neigh_5_true, ca_test_y)\n",
    "\n",
    "    neigh_2 = KNeighborsRegressor(n_neighbors=2)\n",
    "    neigh_2.fit(ca_train_x, ca_train_y)\n",
    "    neigh_2_pred = np.append(neigh_2_pred, neigh_2.predict([ca_test_x]))\n",
    "    neigh_2_true = np.append(neigh_2_true, ca_test_y)"
   ],
   "metadata": {
    "collapsed": false,
    "pycharm": {
     "name": "#%%\n"
    }
   }
  },
  {
   "cell_type": "code",
   "execution_count": 33,
   "outputs": [
    {
     "data": {
      "text/plain": "array([1564., 1388.,  956., 1287., 1112., 1031., 1026.,  907.,  672.,\n       1104., 1163.])"
     },
     "execution_count": 33,
     "metadata": {},
     "output_type": "execute_result"
    }
   ],
   "source": [
    "neigh_10_true"
   ],
   "metadata": {
    "collapsed": false,
    "pycharm": {
     "name": "#%%\n"
    }
   }
  },
  {
   "cell_type": "code",
   "execution_count": 34,
   "outputs": [
    {
     "data": {
      "text/plain": "array([1064.6, 1082.2, 1125.4, 1092.3, 1109.8, 1117.9, 1118.4, 1130.3,\n       1153.8, 1110.6, 1104.7])"
     },
     "execution_count": 34,
     "metadata": {},
     "output_type": "execute_result"
    }
   ],
   "source": [
    "neigh_10_pred"
   ],
   "metadata": {
    "collapsed": false,
    "pycharm": {
     "name": "#%%\n"
    }
   }
  },
  {
   "cell_type": "code",
   "execution_count": 35,
   "outputs": [
    {
     "data": {
      "text/plain": "array([1564., 1388.,  956., 1287., 1112., 1031., 1026.,  907.,  672.,\n       1104., 1163.])"
     },
     "execution_count": 35,
     "metadata": {},
     "output_type": "execute_result"
    }
   ],
   "source": [
    "neigh_5_true"
   ],
   "metadata": {
    "collapsed": false,
    "pycharm": {
     "name": "#%%\n"
    }
   }
  },
  {
   "cell_type": "code",
   "execution_count": 36,
   "outputs": [
    {
     "data": {
      "text/plain": "array([1067.8, 1087.2, 1189.4, 1123.2, 1142.4, 1119.2, 1120.2, 1148. ,\n       1159.6, 1144. , 1092.8])"
     },
     "execution_count": 36,
     "metadata": {},
     "output_type": "execute_result"
    }
   ],
   "source": [
    "neigh_5_pred"
   ],
   "metadata": {
    "collapsed": false,
    "pycharm": {
     "name": "#%%\n"
    }
   }
  },
  {
   "cell_type": "code",
   "execution_count": 37,
   "outputs": [
    {
     "data": {
      "text/plain": "array([1564., 1388.,  956., 1287., 1112., 1031., 1026.,  907.,  672.,\n       1104., 1163.])"
     },
     "execution_count": 37,
     "metadata": {},
     "output_type": "execute_result"
    }
   ],
   "source": [
    "neigh_2_true"
   ],
   "metadata": {
    "collapsed": false,
    "pycharm": {
     "name": "#%%\n"
    }
   }
  },
  {
   "cell_type": "code",
   "execution_count": 38,
   "outputs": [
    {
     "data": {
      "text/plain": "array([1121.5, 1071.5, 1425.5, 1260. , 1209.5, 1275.5, 1035. , 1094.5,\n       1108. , 1250. , 1028.5])"
     },
     "execution_count": 38,
     "metadata": {},
     "output_type": "execute_result"
    }
   ],
   "source": [
    "neigh_2_pred"
   ],
   "metadata": {
    "collapsed": false,
    "pycharm": {
     "name": "#%%\n"
    }
   }
  },
  {
   "cell_type": "code",
   "execution_count": null,
   "outputs": [],
   "source": [],
   "metadata": {
    "collapsed": false,
    "pycharm": {
     "name": "#%%\n"
    }
   }
  },
  {
   "cell_type": "code",
   "execution_count": null,
   "outputs": [],
   "source": [],
   "metadata": {
    "collapsed": false,
    "pycharm": {
     "name": "#%%\n"
    }
   }
  },
  {
   "cell_type": "code",
   "execution_count": null,
   "outputs": [],
   "source": [],
   "metadata": {
    "collapsed": false,
    "pycharm": {
     "name": "#%%\n"
    }
   }
  },
  {
   "cell_type": "code",
   "execution_count": 206,
   "outputs": [
    {
     "data": {
      "text/plain": "array([  41.58823529, -109.73529412,   76.58823529,  -20.17647059,\n       -252.82352941, -403.11764706,   33.35294118,   63.20588235,\n         49.82352941,   -4.73529412,   70.41176471,    8.64705882,\n         91.        ,   21.        ,   81.73529412,   29.23529412,\n        -73.70588235,  -69.58823529,   91.        ,   44.67647059,\n         81.73529412,   51.88235294,   91.        ,  -32.52941176,\n          4.52941176,  -40.76470588,   74.52941176,  -76.79411765,\n         -7.82352941,   21.        ,  -18.11764706,  -37.67647059,\n         78.64705882,   58.05882353,  -16.05882353])"
     },
     "execution_count": 206,
     "metadata": {},
     "output_type": "execute_result"
    }
   ],
   "source": [
    "errors"
   ],
   "metadata": {
    "collapsed": false,
    "pycharm": {
     "name": "#%%\n"
    }
   }
  },
  {
   "cell_type": "code",
   "execution_count": 178,
   "outputs": [
    {
     "data": {
      "text/plain": "11275.805351473922"
     },
     "execution_count": 178,
     "metadata": {},
     "output_type": "execute_result"
    }
   ],
   "source": [
    "errors.var()"
   ],
   "metadata": {
    "collapsed": false,
    "pycharm": {
     "name": "#%%\n"
    }
   }
  },
  {
   "cell_type": "code",
   "execution_count": 125,
   "outputs": [
    {
     "data": {
      "text/plain": "             clickhouse_time  a_t_a_result.ride_a_t_a        hour\n192440   2023-01-01 01:30:49                      156   22.746111\n265949   2023-01-01 01:33:00                      303   24.299444\n1117465  2023-01-01 05:34:01                      122   30.499167\n1553855  2023-01-01 08:18:28                      216   33.089444\n2563852  2023-01-01 17:50:44                      442   42.669167\n3871751  2023-01-01 23:55:23                      588   48.706667\n6519     2023-01-02 00:00:07                      164   48.920278\n67983    2023-01-02 02:07:49                      135   51.020278\n135876   2023-01-02 06:46:54                      148   55.707222\n226761   2023-01-02 07:32:47                      201   56.430278\n952273   2023-01-02 10:22:58                      128   59.304167\n2285077  2023-01-02 15:05:03                      188   63.921667\n2393800  2023-01-02 15:27:34                      108   64.388056\n2457168  2023-01-02 15:39:23                      176   64.542778\n3283240  2023-01-02 18:27:24                      117   67.377222\n3534978  2023-01-02 19:16:24                      168   68.165000\n3620546  2023-01-02 19:34:42                      268   68.473889\n4406561  2023-01-02 23:46:38                      264   72.601944\n64169    2023-01-03 01:25:26                      108   74.352500\n105282   2023-01-03 05:24:03                      153   78.342500\n222881   2023-01-03 07:31:22                      117   80.441944\n731573   2023-01-03 09:42:36                      146   82.620833\n1142242  2023-01-03 11:08:44                      108   84.074722\n1289290  2023-01-03 11:37:13                      228   84.476667\n1619607  2023-01-03 12:51:57                      192   85.721111\n1711431  2023-01-03 13:13:27                      236   86.040000\n1790654  2023-01-03 13:27:22                      124   86.368056\n3261380  2023-01-03 18:39:25                      271   91.513056\n3420898  2023-01-03 19:14:19                      204   92.094722\n3901778  2023-01-03 21:06:23                      176   94.004444\n84667    2023-01-04 03:02:48                      214   99.903333\n98257    2023-01-04 05:10:34                      233  102.041389\n125326   2023-01-04 06:34:41                      120  103.501667\n1742840  2023-01-04 13:02:52                      140  109.926389\n2414203  2023-01-04 23:18:51                      212  120.184444",
      "text/html": "<div>\n<style scoped>\n    .dataframe tbody tr th:only-of-type {\n        vertical-align: middle;\n    }\n\n    .dataframe tbody tr th {\n        vertical-align: top;\n    }\n\n    .dataframe thead th {\n        text-align: right;\n    }\n</style>\n<table border=\"1\" class=\"dataframe\">\n  <thead>\n    <tr style=\"text-align: right;\">\n      <th></th>\n      <th>clickhouse_time</th>\n      <th>a_t_a_result.ride_a_t_a</th>\n      <th>hour</th>\n    </tr>\n  </thead>\n  <tbody>\n    <tr>\n      <th>192440</th>\n      <td>2023-01-01 01:30:49</td>\n      <td>156</td>\n      <td>22.746111</td>\n    </tr>\n    <tr>\n      <th>265949</th>\n      <td>2023-01-01 01:33:00</td>\n      <td>303</td>\n      <td>24.299444</td>\n    </tr>\n    <tr>\n      <th>1117465</th>\n      <td>2023-01-01 05:34:01</td>\n      <td>122</td>\n      <td>30.499167</td>\n    </tr>\n    <tr>\n      <th>1553855</th>\n      <td>2023-01-01 08:18:28</td>\n      <td>216</td>\n      <td>33.089444</td>\n    </tr>\n    <tr>\n      <th>2563852</th>\n      <td>2023-01-01 17:50:44</td>\n      <td>442</td>\n      <td>42.669167</td>\n    </tr>\n    <tr>\n      <th>3871751</th>\n      <td>2023-01-01 23:55:23</td>\n      <td>588</td>\n      <td>48.706667</td>\n    </tr>\n    <tr>\n      <th>6519</th>\n      <td>2023-01-02 00:00:07</td>\n      <td>164</td>\n      <td>48.920278</td>\n    </tr>\n    <tr>\n      <th>67983</th>\n      <td>2023-01-02 02:07:49</td>\n      <td>135</td>\n      <td>51.020278</td>\n    </tr>\n    <tr>\n      <th>135876</th>\n      <td>2023-01-02 06:46:54</td>\n      <td>148</td>\n      <td>55.707222</td>\n    </tr>\n    <tr>\n      <th>226761</th>\n      <td>2023-01-02 07:32:47</td>\n      <td>201</td>\n      <td>56.430278</td>\n    </tr>\n    <tr>\n      <th>952273</th>\n      <td>2023-01-02 10:22:58</td>\n      <td>128</td>\n      <td>59.304167</td>\n    </tr>\n    <tr>\n      <th>2285077</th>\n      <td>2023-01-02 15:05:03</td>\n      <td>188</td>\n      <td>63.921667</td>\n    </tr>\n    <tr>\n      <th>2393800</th>\n      <td>2023-01-02 15:27:34</td>\n      <td>108</td>\n      <td>64.388056</td>\n    </tr>\n    <tr>\n      <th>2457168</th>\n      <td>2023-01-02 15:39:23</td>\n      <td>176</td>\n      <td>64.542778</td>\n    </tr>\n    <tr>\n      <th>3283240</th>\n      <td>2023-01-02 18:27:24</td>\n      <td>117</td>\n      <td>67.377222</td>\n    </tr>\n    <tr>\n      <th>3534978</th>\n      <td>2023-01-02 19:16:24</td>\n      <td>168</td>\n      <td>68.165000</td>\n    </tr>\n    <tr>\n      <th>3620546</th>\n      <td>2023-01-02 19:34:42</td>\n      <td>268</td>\n      <td>68.473889</td>\n    </tr>\n    <tr>\n      <th>4406561</th>\n      <td>2023-01-02 23:46:38</td>\n      <td>264</td>\n      <td>72.601944</td>\n    </tr>\n    <tr>\n      <th>64169</th>\n      <td>2023-01-03 01:25:26</td>\n      <td>108</td>\n      <td>74.352500</td>\n    </tr>\n    <tr>\n      <th>105282</th>\n      <td>2023-01-03 05:24:03</td>\n      <td>153</td>\n      <td>78.342500</td>\n    </tr>\n    <tr>\n      <th>222881</th>\n      <td>2023-01-03 07:31:22</td>\n      <td>117</td>\n      <td>80.441944</td>\n    </tr>\n    <tr>\n      <th>731573</th>\n      <td>2023-01-03 09:42:36</td>\n      <td>146</td>\n      <td>82.620833</td>\n    </tr>\n    <tr>\n      <th>1142242</th>\n      <td>2023-01-03 11:08:44</td>\n      <td>108</td>\n      <td>84.074722</td>\n    </tr>\n    <tr>\n      <th>1289290</th>\n      <td>2023-01-03 11:37:13</td>\n      <td>228</td>\n      <td>84.476667</td>\n    </tr>\n    <tr>\n      <th>1619607</th>\n      <td>2023-01-03 12:51:57</td>\n      <td>192</td>\n      <td>85.721111</td>\n    </tr>\n    <tr>\n      <th>1711431</th>\n      <td>2023-01-03 13:13:27</td>\n      <td>236</td>\n      <td>86.040000</td>\n    </tr>\n    <tr>\n      <th>1790654</th>\n      <td>2023-01-03 13:27:22</td>\n      <td>124</td>\n      <td>86.368056</td>\n    </tr>\n    <tr>\n      <th>3261380</th>\n      <td>2023-01-03 18:39:25</td>\n      <td>271</td>\n      <td>91.513056</td>\n    </tr>\n    <tr>\n      <th>3420898</th>\n      <td>2023-01-03 19:14:19</td>\n      <td>204</td>\n      <td>92.094722</td>\n    </tr>\n    <tr>\n      <th>3901778</th>\n      <td>2023-01-03 21:06:23</td>\n      <td>176</td>\n      <td>94.004444</td>\n    </tr>\n    <tr>\n      <th>84667</th>\n      <td>2023-01-04 03:02:48</td>\n      <td>214</td>\n      <td>99.903333</td>\n    </tr>\n    <tr>\n      <th>98257</th>\n      <td>2023-01-04 05:10:34</td>\n      <td>233</td>\n      <td>102.041389</td>\n    </tr>\n    <tr>\n      <th>125326</th>\n      <td>2023-01-04 06:34:41</td>\n      <td>120</td>\n      <td>103.501667</td>\n    </tr>\n    <tr>\n      <th>1742840</th>\n      <td>2023-01-04 13:02:52</td>\n      <td>140</td>\n      <td>109.926389</td>\n    </tr>\n    <tr>\n      <th>2414203</th>\n      <td>2023-01-04 23:18:51</td>\n      <td>212</td>\n      <td>120.184444</td>\n    </tr>\n  </tbody>\n</table>\n</div>"
     },
     "execution_count": 125,
     "metadata": {},
     "output_type": "execute_result"
    }
   ],
   "source": [
    "errors = []\n",
    "for i, _ in c.iterrows():\n",
    "    ca_train = c[c.index != i]['a_t_a_result.ride_a_t_a']\n",
    "    ca_test = c[c.index == i]['a_t_a_result.ride_a_t_a'].tolist()[0]\n",
    "    errors.append(mean(ca_train.tolist()) - ca_test)"
   ],
   "metadata": {
    "collapsed": false,
    "pycharm": {
     "name": "#%%\n"
    }
   }
  },
  {
   "cell_type": "code",
   "execution_count": 124,
   "outputs": [
    {
     "data": {
      "text/plain": "[41.58823529411765,\n -109.73529411764707,\n 76.58823529411765,\n -20.176470588235304,\n -252.8235294117647,\n -403.11764705882354,\n 33.35294117647058,\n 63.20588235294119,\n 49.823529411764696,\n -4.735294117647072,\n 70.41176470588235,\n 8.64705882352942,\n 91,\n 21,\n 81.73529411764707,\n 29.235294117647072,\n -73.70588235294119,\n -69.58823529411765,\n 91,\n 44.676470588235304,\n 81.73529411764707,\n 51.882352941176464,\n 91,\n -32.529411764705884,\n 4.529411764705884,\n -40.76470588235293,\n 74.52941176470588,\n -76.79411764705881,\n -7.823529411764696,\n 21,\n -18.117647058823536,\n -37.676470588235304,\n 78.64705882352942,\n 58.05882352941177,\n -16.058823529411768]"
     },
     "execution_count": 124,
     "metadata": {},
     "output_type": "execute_result"
    }
   ],
   "source": [
    "errors"
   ],
   "metadata": {
    "collapsed": false,
    "pycharm": {
     "name": "#%%\n"
    }
   }
  },
  {
   "cell_type": "code",
   "execution_count": 122,
   "outputs": [
    {
     "data": {
      "text/plain": "156"
     },
     "execution_count": 122,
     "metadata": {},
     "output_type": "execute_result"
    }
   ],
   "source": [
    "ca_test.to_list()[0]"
   ],
   "metadata": {
    "collapsed": false,
    "pycharm": {
     "name": "#%%\n"
    }
   }
  },
  {
   "cell_type": "code",
   "execution_count": 127,
   "outputs": [
    {
     "data": {
      "text/plain": "             clickhouse_time  a_t_a_result.ride_a_t_a        hour   hour_day\n192440   2023-01-01 01:30:49                      156   22.746111  22.746111\n265949   2023-01-01 01:33:00                      303   24.299444   0.299444\n1117465  2023-01-01 05:34:01                      122   30.499167   6.499167\n1553855  2023-01-01 08:18:28                      216   33.089444   9.089444\n2563852  2023-01-01 17:50:44                      442   42.669167  18.669167\n3871751  2023-01-01 23:55:23                      588   48.706667   0.706667\n6519     2023-01-02 00:00:07                      164   48.920278   0.920278\n67983    2023-01-02 02:07:49                      135   51.020278   3.020278\n135876   2023-01-02 06:46:54                      148   55.707222   7.707222\n226761   2023-01-02 07:32:47                      201   56.430278   8.430278\n952273   2023-01-02 10:22:58                      128   59.304167  11.304167\n2285077  2023-01-02 15:05:03                      188   63.921667  15.921667\n2393800  2023-01-02 15:27:34                      108   64.388056  16.388056\n2457168  2023-01-02 15:39:23                      176   64.542778  16.542778\n3283240  2023-01-02 18:27:24                      117   67.377222  19.377222\n3534978  2023-01-02 19:16:24                      168   68.165000  20.165000\n3620546  2023-01-02 19:34:42                      268   68.473889  20.473889\n4406561  2023-01-02 23:46:38                      264   72.601944   0.601944\n64169    2023-01-03 01:25:26                      108   74.352500   2.352500\n105282   2023-01-03 05:24:03                      153   78.342500   6.342500\n222881   2023-01-03 07:31:22                      117   80.441944   8.441944\n731573   2023-01-03 09:42:36                      146   82.620833  10.620833\n1142242  2023-01-03 11:08:44                      108   84.074722  12.074722\n1289290  2023-01-03 11:37:13                      228   84.476667  12.476667\n1619607  2023-01-03 12:51:57                      192   85.721111  13.721111\n1711431  2023-01-03 13:13:27                      236   86.040000  14.040000\n1790654  2023-01-03 13:27:22                      124   86.368056  14.368056\n3261380  2023-01-03 18:39:25                      271   91.513056  19.513056\n3420898  2023-01-03 19:14:19                      204   92.094722  20.094722\n3901778  2023-01-03 21:06:23                      176   94.004444  22.004444\n84667    2023-01-04 03:02:48                      214   99.903333   3.903333\n98257    2023-01-04 05:10:34                      233  102.041389   6.041389\n125326   2023-01-04 06:34:41                      120  103.501667   7.501667\n1742840  2023-01-04 13:02:52                      140  109.926389  13.926389\n2414203  2023-01-04 23:18:51                      212  120.184444   0.184444",
      "text/html": "<div>\n<style scoped>\n    .dataframe tbody tr th:only-of-type {\n        vertical-align: middle;\n    }\n\n    .dataframe tbody tr th {\n        vertical-align: top;\n    }\n\n    .dataframe thead th {\n        text-align: right;\n    }\n</style>\n<table border=\"1\" class=\"dataframe\">\n  <thead>\n    <tr style=\"text-align: right;\">\n      <th></th>\n      <th>clickhouse_time</th>\n      <th>a_t_a_result.ride_a_t_a</th>\n      <th>hour</th>\n      <th>hour_day</th>\n    </tr>\n  </thead>\n  <tbody>\n    <tr>\n      <th>192440</th>\n      <td>2023-01-01 01:30:49</td>\n      <td>156</td>\n      <td>22.746111</td>\n      <td>22.746111</td>\n    </tr>\n    <tr>\n      <th>265949</th>\n      <td>2023-01-01 01:33:00</td>\n      <td>303</td>\n      <td>24.299444</td>\n      <td>0.299444</td>\n    </tr>\n    <tr>\n      <th>1117465</th>\n      <td>2023-01-01 05:34:01</td>\n      <td>122</td>\n      <td>30.499167</td>\n      <td>6.499167</td>\n    </tr>\n    <tr>\n      <th>1553855</th>\n      <td>2023-01-01 08:18:28</td>\n      <td>216</td>\n      <td>33.089444</td>\n      <td>9.089444</td>\n    </tr>\n    <tr>\n      <th>2563852</th>\n      <td>2023-01-01 17:50:44</td>\n      <td>442</td>\n      <td>42.669167</td>\n      <td>18.669167</td>\n    </tr>\n    <tr>\n      <th>3871751</th>\n      <td>2023-01-01 23:55:23</td>\n      <td>588</td>\n      <td>48.706667</td>\n      <td>0.706667</td>\n    </tr>\n    <tr>\n      <th>6519</th>\n      <td>2023-01-02 00:00:07</td>\n      <td>164</td>\n      <td>48.920278</td>\n      <td>0.920278</td>\n    </tr>\n    <tr>\n      <th>67983</th>\n      <td>2023-01-02 02:07:49</td>\n      <td>135</td>\n      <td>51.020278</td>\n      <td>3.020278</td>\n    </tr>\n    <tr>\n      <th>135876</th>\n      <td>2023-01-02 06:46:54</td>\n      <td>148</td>\n      <td>55.707222</td>\n      <td>7.707222</td>\n    </tr>\n    <tr>\n      <th>226761</th>\n      <td>2023-01-02 07:32:47</td>\n      <td>201</td>\n      <td>56.430278</td>\n      <td>8.430278</td>\n    </tr>\n    <tr>\n      <th>952273</th>\n      <td>2023-01-02 10:22:58</td>\n      <td>128</td>\n      <td>59.304167</td>\n      <td>11.304167</td>\n    </tr>\n    <tr>\n      <th>2285077</th>\n      <td>2023-01-02 15:05:03</td>\n      <td>188</td>\n      <td>63.921667</td>\n      <td>15.921667</td>\n    </tr>\n    <tr>\n      <th>2393800</th>\n      <td>2023-01-02 15:27:34</td>\n      <td>108</td>\n      <td>64.388056</td>\n      <td>16.388056</td>\n    </tr>\n    <tr>\n      <th>2457168</th>\n      <td>2023-01-02 15:39:23</td>\n      <td>176</td>\n      <td>64.542778</td>\n      <td>16.542778</td>\n    </tr>\n    <tr>\n      <th>3283240</th>\n      <td>2023-01-02 18:27:24</td>\n      <td>117</td>\n      <td>67.377222</td>\n      <td>19.377222</td>\n    </tr>\n    <tr>\n      <th>3534978</th>\n      <td>2023-01-02 19:16:24</td>\n      <td>168</td>\n      <td>68.165000</td>\n      <td>20.165000</td>\n    </tr>\n    <tr>\n      <th>3620546</th>\n      <td>2023-01-02 19:34:42</td>\n      <td>268</td>\n      <td>68.473889</td>\n      <td>20.473889</td>\n    </tr>\n    <tr>\n      <th>4406561</th>\n      <td>2023-01-02 23:46:38</td>\n      <td>264</td>\n      <td>72.601944</td>\n      <td>0.601944</td>\n    </tr>\n    <tr>\n      <th>64169</th>\n      <td>2023-01-03 01:25:26</td>\n      <td>108</td>\n      <td>74.352500</td>\n      <td>2.352500</td>\n    </tr>\n    <tr>\n      <th>105282</th>\n      <td>2023-01-03 05:24:03</td>\n      <td>153</td>\n      <td>78.342500</td>\n      <td>6.342500</td>\n    </tr>\n    <tr>\n      <th>222881</th>\n      <td>2023-01-03 07:31:22</td>\n      <td>117</td>\n      <td>80.441944</td>\n      <td>8.441944</td>\n    </tr>\n    <tr>\n      <th>731573</th>\n      <td>2023-01-03 09:42:36</td>\n      <td>146</td>\n      <td>82.620833</td>\n      <td>10.620833</td>\n    </tr>\n    <tr>\n      <th>1142242</th>\n      <td>2023-01-03 11:08:44</td>\n      <td>108</td>\n      <td>84.074722</td>\n      <td>12.074722</td>\n    </tr>\n    <tr>\n      <th>1289290</th>\n      <td>2023-01-03 11:37:13</td>\n      <td>228</td>\n      <td>84.476667</td>\n      <td>12.476667</td>\n    </tr>\n    <tr>\n      <th>1619607</th>\n      <td>2023-01-03 12:51:57</td>\n      <td>192</td>\n      <td>85.721111</td>\n      <td>13.721111</td>\n    </tr>\n    <tr>\n      <th>1711431</th>\n      <td>2023-01-03 13:13:27</td>\n      <td>236</td>\n      <td>86.040000</td>\n      <td>14.040000</td>\n    </tr>\n    <tr>\n      <th>1790654</th>\n      <td>2023-01-03 13:27:22</td>\n      <td>124</td>\n      <td>86.368056</td>\n      <td>14.368056</td>\n    </tr>\n    <tr>\n      <th>3261380</th>\n      <td>2023-01-03 18:39:25</td>\n      <td>271</td>\n      <td>91.513056</td>\n      <td>19.513056</td>\n    </tr>\n    <tr>\n      <th>3420898</th>\n      <td>2023-01-03 19:14:19</td>\n      <td>204</td>\n      <td>92.094722</td>\n      <td>20.094722</td>\n    </tr>\n    <tr>\n      <th>3901778</th>\n      <td>2023-01-03 21:06:23</td>\n      <td>176</td>\n      <td>94.004444</td>\n      <td>22.004444</td>\n    </tr>\n    <tr>\n      <th>84667</th>\n      <td>2023-01-04 03:02:48</td>\n      <td>214</td>\n      <td>99.903333</td>\n      <td>3.903333</td>\n    </tr>\n    <tr>\n      <th>98257</th>\n      <td>2023-01-04 05:10:34</td>\n      <td>233</td>\n      <td>102.041389</td>\n      <td>6.041389</td>\n    </tr>\n    <tr>\n      <th>125326</th>\n      <td>2023-01-04 06:34:41</td>\n      <td>120</td>\n      <td>103.501667</td>\n      <td>7.501667</td>\n    </tr>\n    <tr>\n      <th>1742840</th>\n      <td>2023-01-04 13:02:52</td>\n      <td>140</td>\n      <td>109.926389</td>\n      <td>13.926389</td>\n    </tr>\n    <tr>\n      <th>2414203</th>\n      <td>2023-01-04 23:18:51</td>\n      <td>212</td>\n      <td>120.184444</td>\n      <td>0.184444</td>\n    </tr>\n  </tbody>\n</table>\n</div>"
     },
     "execution_count": 127,
     "metadata": {},
     "output_type": "execute_result"
    }
   ],
   "source": [
    "c"
   ],
   "metadata": {
    "collapsed": false,
    "pycharm": {
     "name": "#%%\n"
    }
   }
  },
  {
   "cell_type": "code",
   "execution_count": 118,
   "outputs": [
    {
     "data": {
      "text/plain": "[192440    41.588235\n Name: a_t_a_result.ride_a_t_a, dtype: float64,\n 265949   -109.735294\n Name: a_t_a_result.ride_a_t_a, dtype: float64,\n 1117465    76.588235\n Name: a_t_a_result.ride_a_t_a, dtype: float64,\n 1553855   -20.176471\n Name: a_t_a_result.ride_a_t_a, dtype: float64,\n 2563852   -252.823529\n Name: a_t_a_result.ride_a_t_a, dtype: float64,\n 3871751   -403.117647\n Name: a_t_a_result.ride_a_t_a, dtype: float64,\n 6519    33.352941\n Name: a_t_a_result.ride_a_t_a, dtype: float64,\n 67983    63.205882\n Name: a_t_a_result.ride_a_t_a, dtype: float64,\n 135876    49.823529\n Name: a_t_a_result.ride_a_t_a, dtype: float64,\n 226761   -4.735294\n Name: a_t_a_result.ride_a_t_a, dtype: float64,\n 952273    70.411765\n Name: a_t_a_result.ride_a_t_a, dtype: float64,\n 2285077    8.647059\n Name: a_t_a_result.ride_a_t_a, dtype: float64,\n 2393800    91\n Name: a_t_a_result.ride_a_t_a, dtype: int64,\n 2457168    21\n Name: a_t_a_result.ride_a_t_a, dtype: int64,\n 3283240    81.735294\n Name: a_t_a_result.ride_a_t_a, dtype: float64,\n 3534978    29.235294\n Name: a_t_a_result.ride_a_t_a, dtype: float64,\n 3620546   -73.705882\n Name: a_t_a_result.ride_a_t_a, dtype: float64,\n 4406561   -69.588235\n Name: a_t_a_result.ride_a_t_a, dtype: float64,\n 64169    91\n Name: a_t_a_result.ride_a_t_a, dtype: int64,\n 105282    44.676471\n Name: a_t_a_result.ride_a_t_a, dtype: float64,\n 222881    81.735294\n Name: a_t_a_result.ride_a_t_a, dtype: float64,\n 731573    51.882353\n Name: a_t_a_result.ride_a_t_a, dtype: float64,\n 1142242    91\n Name: a_t_a_result.ride_a_t_a, dtype: int64,\n 1289290   -32.529412\n Name: a_t_a_result.ride_a_t_a, dtype: float64,\n 1619607    4.529412\n Name: a_t_a_result.ride_a_t_a, dtype: float64,\n 1711431   -40.764706\n Name: a_t_a_result.ride_a_t_a, dtype: float64,\n 1790654    74.529412\n Name: a_t_a_result.ride_a_t_a, dtype: float64,\n 3261380   -76.794118\n Name: a_t_a_result.ride_a_t_a, dtype: float64,\n 3420898   -7.823529\n Name: a_t_a_result.ride_a_t_a, dtype: float64,\n 3901778    21\n Name: a_t_a_result.ride_a_t_a, dtype: int64,\n 84667   -18.117647\n Name: a_t_a_result.ride_a_t_a, dtype: float64,\n 98257   -37.676471\n Name: a_t_a_result.ride_a_t_a, dtype: float64,\n 125326    78.647059\n Name: a_t_a_result.ride_a_t_a, dtype: float64,\n 1742840    58.058824\n Name: a_t_a_result.ride_a_t_a, dtype: float64,\n 2414203   -16.058824\n Name: a_t_a_result.ride_a_t_a, dtype: float64]"
     },
     "execution_count": 118,
     "metadata": {},
     "output_type": "execute_result"
    }
   ],
   "source": [
    "errors"
   ],
   "metadata": {
    "collapsed": false,
    "pycharm": {
     "name": "#%%\n"
    }
   }
  },
  {
   "cell_type": "code",
   "execution_count": 95,
   "outputs": [
    {
     "name": "stdout",
     "output_type": "stream",
     "text": [
      "192440\n",
      "156\n",
      "265949\n",
      "303\n",
      "1117465\n",
      "122\n",
      "1553855\n",
      "216\n",
      "2563852\n",
      "442\n",
      "3871751\n",
      "588\n",
      "6519\n",
      "164\n",
      "67983\n",
      "135\n",
      "135876\n",
      "148\n",
      "226761\n",
      "201\n",
      "952273\n",
      "128\n",
      "2285077\n",
      "188\n",
      "2393800\n",
      "108\n",
      "2457168\n",
      "176\n",
      "3283240\n",
      "117\n",
      "3534978\n",
      "168\n",
      "3620546\n",
      "268\n",
      "4406561\n",
      "264\n",
      "64169\n",
      "108\n",
      "105282\n",
      "153\n",
      "222881\n",
      "117\n",
      "731573\n",
      "146\n",
      "1142242\n",
      "108\n",
      "1289290\n",
      "228\n",
      "1619607\n",
      "192\n",
      "1711431\n",
      "236\n",
      "1790654\n",
      "124\n",
      "3261380\n",
      "271\n",
      "3420898\n",
      "204\n",
      "3901778\n",
      "176\n",
      "84667\n",
      "214\n",
      "98257\n",
      "233\n",
      "125326\n",
      "120\n",
      "1742840\n",
      "140\n",
      "2414203\n",
      "212\n"
     ]
    }
   ],
   "source": [
    "for i, k in c.iterrows():\n",
    "    print(i)\n",
    "    print(k['a_t_a_result.ride_a_t_a'])"
   ],
   "metadata": {
    "collapsed": false,
    "pycharm": {
     "name": "#%%\n"
    }
   }
  },
  {
   "cell_type": "code",
   "execution_count": 81,
   "outputs": [
    {
     "data": {
      "text/plain": "            ride_id  driver_id      clickhouse_time      source_h3_9  \\\n192440   5589362196    3848704  2023-01-01 01:30:49  892cf318c73ffff   \n265949   5589690944    1124880  2023-01-01 01:33:00  892cf318c73ffff   \n1117465  5589964939     201475  2023-01-01 05:34:01  892cf318c73ffff   \n1553855  5590443639    2747816  2023-01-01 08:18:28  892cf318c73ffff   \n2563852  5594510384     107680  2023-01-01 17:50:44  892cf318c73ffff   \n3871751  5596434026    1286621  2023-01-01 23:55:23  892cf318c73ffff   \n6519     5596460932    3094308  2023-01-02 00:00:07  892cf318c73ffff   \n67983    5596573466    1193852  2023-01-02 02:07:49  892cf318c73ffff   \n135876   5596716176    1203548  2023-01-02 06:46:54  892cf318c73ffff   \n226761   5596886583    1477198  2023-01-02 07:32:47  892cf318c73ffff   \n952273   5598043221    1274121  2023-01-02 10:22:58  892cf318c73ffff   \n2285077  5599981725     142290  2023-01-02 15:05:03  892cf318c73ffff   \n2393800  5600169516    2882021  2023-01-02 15:27:34  892cf318c73ffff   \n2457168  5600233237    2846236  2023-01-02 15:39:23  892cf318c73ffff   \n3283240  5601667554    1696547  2023-01-02 18:27:24  892cf318c73ffff   \n3534978  5601988500    4330018  2023-01-02 19:16:24  892cf318c73ffff   \n3620546  5602118372    4320483  2023-01-02 19:34:42  892cf318c73ffff   \n4406561  5603245336    1338035  2023-01-02 23:46:38  892cf318c73ffff   \n64169    5603399547      20257  2023-01-03 01:25:26  892cf318c73ffff   \n105282   5603472926    1274168  2023-01-03 05:24:03  892cf318c73ffff   \n222881   5603723722       3297  2023-01-03 07:31:22  892cf318c73ffff   \n731573   5604495292    1375648  2023-01-03 09:42:36  892cf318c73ffff   \n1142242  5605092055    2394679  2023-01-03 11:08:44  892cf318c73ffff   \n1289290  5605244059    2674094  2023-01-03 11:37:13  892cf318c73ffff   \n1619607  5605784796      25206  2023-01-03 12:51:57  892cf318c73ffff   \n1711431  5605915865    3748211  2023-01-03 13:13:27  892cf318c73ffff   \n1790654  5606051361    4643765  2023-01-03 13:27:22  892cf318c73ffff   \n3261380  5608360518    2459970  2023-01-03 18:39:25  892cf318c73ffff   \n3420898  5608609410     344978  2023-01-03 19:14:19  892cf318c73ffff   \n3901778  5609284757    4429285  2023-01-03 21:06:23  892cf318c73ffff   \n84667    5610058611     460466  2023-01-04 03:02:48  892cf318c73ffff   \n98257    5610088007    3493195  2023-01-04 05:10:34  892cf318c73ffff   \n125326   5610156228       8373  2023-01-04 06:34:41  892cf318c73ffff   \n1742840  5612668622      61628  2023-01-04 13:02:52  892cf318c73ffff   \n2414203  5617001993    1247399  2023-01-04 23:18:51  892cf318c73ffff   \n\n               dest_h3_9  source_lat  source_lng   dest_lat   dest_lng  \\\n192440   892cf318c6fffff   35.692211   51.322262  35.689129  51.330528   \n265949   892cf318c6fffff   35.692242   51.322273  35.689735  51.331543   \n1117465  892cf318c6fffff   35.692265   51.321964  35.689533  51.329918   \n1553855  892cf318c6fffff   35.692230   51.322262  35.689167  51.330456   \n2563852  892cf318c6fffff   35.692612   51.322834  35.689350  51.330235   \n3871751  892cf318c6fffff   35.692993   51.323814  35.689087  51.330616   \n6519     892cf318c6fffff   35.692982   51.323673  35.689774  51.331501   \n67983    892cf318c6fffff   35.692314   51.321972  35.689426  51.330097   \n135876   892cf318c6fffff   35.692307   51.321896  35.688999  51.330696   \n226761   892cf318c6fffff   35.692276   51.321964  35.689236  51.331314   \n952273   892cf318c6fffff   35.692234   51.322208  35.689117  51.330566   \n2285077  892cf318c6fffff   35.692551   51.321735  35.689217  51.330395   \n2393800  892cf318c6fffff   35.692322   51.322472  35.689354  51.330200   \n2457168  892cf318c6fffff   35.692238   51.322208  35.689068  51.330620   \n3283240  892cf318c6fffff   35.692448   51.322697  35.689556  51.329933   \n3534978  892cf318c6fffff   35.692249   51.322254  35.689133  51.330536   \n3620546  892cf318c6fffff   35.692612   51.322987  35.689354  51.330235   \n4406561  892cf318c6fffff   35.692417   51.322495  35.689877  51.329517   \n64169    892cf318c6fffff   35.692688   51.322998  35.689259  51.330444   \n105282   892cf318c6fffff   35.692226   51.322193  35.689030  51.330936   \n222881   892cf318c6fffff   35.692314   51.322411  35.689293  51.330357   \n731573   892cf318c6fffff   35.692226   51.321995  35.689018  51.330826   \n1142242  892cf318c6fffff   35.692333   51.322414  35.689957  51.329437   \n1289290  892cf318c6fffff   35.692398   51.322582  35.689678  51.329720   \n1619607  892cf318c6fffff   35.692341   51.322418  35.689259  51.330265   \n1711431  892cf318c6fffff   35.692425   51.321911  35.689014  51.330765   \n1790654  892cf318c6fffff   35.692329   51.322472  35.689251  51.330376   \n3261380  892cf318c6fffff   35.692261   51.322338  35.689850  51.329525   \n3420898  892cf318c6fffff   35.692379   51.321896  35.689308  51.330303   \n3901778  892cf318c6fffff   35.692230   51.322266  35.689232  51.330383   \n84667    892cf318c6fffff   35.692234   51.322388  35.689037  51.330753   \n98257    892cf318c6fffff   35.692898   51.323498  35.688690  51.330917   \n125326   892cf318c6fffff   35.692310   51.322430  35.689018  51.330769   \n1742840  892cf318c6fffff   35.692360   51.322491  35.689018  51.330750   \n2414203  892cf318c6fffff   35.692364   51.321899  35.689869  51.329548   \n\n         a_t_a_result.ride_a_t_a        hour  \n192440                       156   22.746111  \n265949                       303   24.299444  \n1117465                      122   30.499167  \n1553855                      216   33.089444  \n2563852                      442   42.669167  \n3871751                      588   48.706667  \n6519                         164   48.920278  \n67983                        135   51.020278  \n135876                       148   55.707222  \n226761                       201   56.430278  \n952273                       128   59.304167  \n2285077                      188   63.921667  \n2393800                      108   64.388056  \n2457168                      176   64.542778  \n3283240                      117   67.377222  \n3534978                      168   68.165000  \n3620546                      268   68.473889  \n4406561                      264   72.601944  \n64169                        108   74.352500  \n105282                       153   78.342500  \n222881                       117   80.441944  \n731573                       146   82.620833  \n1142242                      108   84.074722  \n1289290                      228   84.476667  \n1619607                      192   85.721111  \n1711431                      236   86.040000  \n1790654                      124   86.368056  \n3261380                      271   91.513056  \n3420898                      204   92.094722  \n3901778                      176   94.004444  \n84667                        214   99.903333  \n98257                        233  102.041389  \n125326                       120  103.501667  \n1742840                      140  109.926389  \n2414203                      212  120.184444  ",
      "text/html": "<div>\n<style scoped>\n    .dataframe tbody tr th:only-of-type {\n        vertical-align: middle;\n    }\n\n    .dataframe tbody tr th {\n        vertical-align: top;\n    }\n\n    .dataframe thead th {\n        text-align: right;\n    }\n</style>\n<table border=\"1\" class=\"dataframe\">\n  <thead>\n    <tr style=\"text-align: right;\">\n      <th></th>\n      <th>ride_id</th>\n      <th>driver_id</th>\n      <th>clickhouse_time</th>\n      <th>source_h3_9</th>\n      <th>dest_h3_9</th>\n      <th>source_lat</th>\n      <th>source_lng</th>\n      <th>dest_lat</th>\n      <th>dest_lng</th>\n      <th>a_t_a_result.ride_a_t_a</th>\n      <th>hour</th>\n    </tr>\n  </thead>\n  <tbody>\n    <tr>\n      <th>192440</th>\n      <td>5589362196</td>\n      <td>3848704</td>\n      <td>2023-01-01 01:30:49</td>\n      <td>892cf318c73ffff</td>\n      <td>892cf318c6fffff</td>\n      <td>35.692211</td>\n      <td>51.322262</td>\n      <td>35.689129</td>\n      <td>51.330528</td>\n      <td>156</td>\n      <td>22.746111</td>\n    </tr>\n    <tr>\n      <th>265949</th>\n      <td>5589690944</td>\n      <td>1124880</td>\n      <td>2023-01-01 01:33:00</td>\n      <td>892cf318c73ffff</td>\n      <td>892cf318c6fffff</td>\n      <td>35.692242</td>\n      <td>51.322273</td>\n      <td>35.689735</td>\n      <td>51.331543</td>\n      <td>303</td>\n      <td>24.299444</td>\n    </tr>\n    <tr>\n      <th>1117465</th>\n      <td>5589964939</td>\n      <td>201475</td>\n      <td>2023-01-01 05:34:01</td>\n      <td>892cf318c73ffff</td>\n      <td>892cf318c6fffff</td>\n      <td>35.692265</td>\n      <td>51.321964</td>\n      <td>35.689533</td>\n      <td>51.329918</td>\n      <td>122</td>\n      <td>30.499167</td>\n    </tr>\n    <tr>\n      <th>1553855</th>\n      <td>5590443639</td>\n      <td>2747816</td>\n      <td>2023-01-01 08:18:28</td>\n      <td>892cf318c73ffff</td>\n      <td>892cf318c6fffff</td>\n      <td>35.692230</td>\n      <td>51.322262</td>\n      <td>35.689167</td>\n      <td>51.330456</td>\n      <td>216</td>\n      <td>33.089444</td>\n    </tr>\n    <tr>\n      <th>2563852</th>\n      <td>5594510384</td>\n      <td>107680</td>\n      <td>2023-01-01 17:50:44</td>\n      <td>892cf318c73ffff</td>\n      <td>892cf318c6fffff</td>\n      <td>35.692612</td>\n      <td>51.322834</td>\n      <td>35.689350</td>\n      <td>51.330235</td>\n      <td>442</td>\n      <td>42.669167</td>\n    </tr>\n    <tr>\n      <th>3871751</th>\n      <td>5596434026</td>\n      <td>1286621</td>\n      <td>2023-01-01 23:55:23</td>\n      <td>892cf318c73ffff</td>\n      <td>892cf318c6fffff</td>\n      <td>35.692993</td>\n      <td>51.323814</td>\n      <td>35.689087</td>\n      <td>51.330616</td>\n      <td>588</td>\n      <td>48.706667</td>\n    </tr>\n    <tr>\n      <th>6519</th>\n      <td>5596460932</td>\n      <td>3094308</td>\n      <td>2023-01-02 00:00:07</td>\n      <td>892cf318c73ffff</td>\n      <td>892cf318c6fffff</td>\n      <td>35.692982</td>\n      <td>51.323673</td>\n      <td>35.689774</td>\n      <td>51.331501</td>\n      <td>164</td>\n      <td>48.920278</td>\n    </tr>\n    <tr>\n      <th>67983</th>\n      <td>5596573466</td>\n      <td>1193852</td>\n      <td>2023-01-02 02:07:49</td>\n      <td>892cf318c73ffff</td>\n      <td>892cf318c6fffff</td>\n      <td>35.692314</td>\n      <td>51.321972</td>\n      <td>35.689426</td>\n      <td>51.330097</td>\n      <td>135</td>\n      <td>51.020278</td>\n    </tr>\n    <tr>\n      <th>135876</th>\n      <td>5596716176</td>\n      <td>1203548</td>\n      <td>2023-01-02 06:46:54</td>\n      <td>892cf318c73ffff</td>\n      <td>892cf318c6fffff</td>\n      <td>35.692307</td>\n      <td>51.321896</td>\n      <td>35.688999</td>\n      <td>51.330696</td>\n      <td>148</td>\n      <td>55.707222</td>\n    </tr>\n    <tr>\n      <th>226761</th>\n      <td>5596886583</td>\n      <td>1477198</td>\n      <td>2023-01-02 07:32:47</td>\n      <td>892cf318c73ffff</td>\n      <td>892cf318c6fffff</td>\n      <td>35.692276</td>\n      <td>51.321964</td>\n      <td>35.689236</td>\n      <td>51.331314</td>\n      <td>201</td>\n      <td>56.430278</td>\n    </tr>\n    <tr>\n      <th>952273</th>\n      <td>5598043221</td>\n      <td>1274121</td>\n      <td>2023-01-02 10:22:58</td>\n      <td>892cf318c73ffff</td>\n      <td>892cf318c6fffff</td>\n      <td>35.692234</td>\n      <td>51.322208</td>\n      <td>35.689117</td>\n      <td>51.330566</td>\n      <td>128</td>\n      <td>59.304167</td>\n    </tr>\n    <tr>\n      <th>2285077</th>\n      <td>5599981725</td>\n      <td>142290</td>\n      <td>2023-01-02 15:05:03</td>\n      <td>892cf318c73ffff</td>\n      <td>892cf318c6fffff</td>\n      <td>35.692551</td>\n      <td>51.321735</td>\n      <td>35.689217</td>\n      <td>51.330395</td>\n      <td>188</td>\n      <td>63.921667</td>\n    </tr>\n    <tr>\n      <th>2393800</th>\n      <td>5600169516</td>\n      <td>2882021</td>\n      <td>2023-01-02 15:27:34</td>\n      <td>892cf318c73ffff</td>\n      <td>892cf318c6fffff</td>\n      <td>35.692322</td>\n      <td>51.322472</td>\n      <td>35.689354</td>\n      <td>51.330200</td>\n      <td>108</td>\n      <td>64.388056</td>\n    </tr>\n    <tr>\n      <th>2457168</th>\n      <td>5600233237</td>\n      <td>2846236</td>\n      <td>2023-01-02 15:39:23</td>\n      <td>892cf318c73ffff</td>\n      <td>892cf318c6fffff</td>\n      <td>35.692238</td>\n      <td>51.322208</td>\n      <td>35.689068</td>\n      <td>51.330620</td>\n      <td>176</td>\n      <td>64.542778</td>\n    </tr>\n    <tr>\n      <th>3283240</th>\n      <td>5601667554</td>\n      <td>1696547</td>\n      <td>2023-01-02 18:27:24</td>\n      <td>892cf318c73ffff</td>\n      <td>892cf318c6fffff</td>\n      <td>35.692448</td>\n      <td>51.322697</td>\n      <td>35.689556</td>\n      <td>51.329933</td>\n      <td>117</td>\n      <td>67.377222</td>\n    </tr>\n    <tr>\n      <th>3534978</th>\n      <td>5601988500</td>\n      <td>4330018</td>\n      <td>2023-01-02 19:16:24</td>\n      <td>892cf318c73ffff</td>\n      <td>892cf318c6fffff</td>\n      <td>35.692249</td>\n      <td>51.322254</td>\n      <td>35.689133</td>\n      <td>51.330536</td>\n      <td>168</td>\n      <td>68.165000</td>\n    </tr>\n    <tr>\n      <th>3620546</th>\n      <td>5602118372</td>\n      <td>4320483</td>\n      <td>2023-01-02 19:34:42</td>\n      <td>892cf318c73ffff</td>\n      <td>892cf318c6fffff</td>\n      <td>35.692612</td>\n      <td>51.322987</td>\n      <td>35.689354</td>\n      <td>51.330235</td>\n      <td>268</td>\n      <td>68.473889</td>\n    </tr>\n    <tr>\n      <th>4406561</th>\n      <td>5603245336</td>\n      <td>1338035</td>\n      <td>2023-01-02 23:46:38</td>\n      <td>892cf318c73ffff</td>\n      <td>892cf318c6fffff</td>\n      <td>35.692417</td>\n      <td>51.322495</td>\n      <td>35.689877</td>\n      <td>51.329517</td>\n      <td>264</td>\n      <td>72.601944</td>\n    </tr>\n    <tr>\n      <th>64169</th>\n      <td>5603399547</td>\n      <td>20257</td>\n      <td>2023-01-03 01:25:26</td>\n      <td>892cf318c73ffff</td>\n      <td>892cf318c6fffff</td>\n      <td>35.692688</td>\n      <td>51.322998</td>\n      <td>35.689259</td>\n      <td>51.330444</td>\n      <td>108</td>\n      <td>74.352500</td>\n    </tr>\n    <tr>\n      <th>105282</th>\n      <td>5603472926</td>\n      <td>1274168</td>\n      <td>2023-01-03 05:24:03</td>\n      <td>892cf318c73ffff</td>\n      <td>892cf318c6fffff</td>\n      <td>35.692226</td>\n      <td>51.322193</td>\n      <td>35.689030</td>\n      <td>51.330936</td>\n      <td>153</td>\n      <td>78.342500</td>\n    </tr>\n    <tr>\n      <th>222881</th>\n      <td>5603723722</td>\n      <td>3297</td>\n      <td>2023-01-03 07:31:22</td>\n      <td>892cf318c73ffff</td>\n      <td>892cf318c6fffff</td>\n      <td>35.692314</td>\n      <td>51.322411</td>\n      <td>35.689293</td>\n      <td>51.330357</td>\n      <td>117</td>\n      <td>80.441944</td>\n    </tr>\n    <tr>\n      <th>731573</th>\n      <td>5604495292</td>\n      <td>1375648</td>\n      <td>2023-01-03 09:42:36</td>\n      <td>892cf318c73ffff</td>\n      <td>892cf318c6fffff</td>\n      <td>35.692226</td>\n      <td>51.321995</td>\n      <td>35.689018</td>\n      <td>51.330826</td>\n      <td>146</td>\n      <td>82.620833</td>\n    </tr>\n    <tr>\n      <th>1142242</th>\n      <td>5605092055</td>\n      <td>2394679</td>\n      <td>2023-01-03 11:08:44</td>\n      <td>892cf318c73ffff</td>\n      <td>892cf318c6fffff</td>\n      <td>35.692333</td>\n      <td>51.322414</td>\n      <td>35.689957</td>\n      <td>51.329437</td>\n      <td>108</td>\n      <td>84.074722</td>\n    </tr>\n    <tr>\n      <th>1289290</th>\n      <td>5605244059</td>\n      <td>2674094</td>\n      <td>2023-01-03 11:37:13</td>\n      <td>892cf318c73ffff</td>\n      <td>892cf318c6fffff</td>\n      <td>35.692398</td>\n      <td>51.322582</td>\n      <td>35.689678</td>\n      <td>51.329720</td>\n      <td>228</td>\n      <td>84.476667</td>\n    </tr>\n    <tr>\n      <th>1619607</th>\n      <td>5605784796</td>\n      <td>25206</td>\n      <td>2023-01-03 12:51:57</td>\n      <td>892cf318c73ffff</td>\n      <td>892cf318c6fffff</td>\n      <td>35.692341</td>\n      <td>51.322418</td>\n      <td>35.689259</td>\n      <td>51.330265</td>\n      <td>192</td>\n      <td>85.721111</td>\n    </tr>\n    <tr>\n      <th>1711431</th>\n      <td>5605915865</td>\n      <td>3748211</td>\n      <td>2023-01-03 13:13:27</td>\n      <td>892cf318c73ffff</td>\n      <td>892cf318c6fffff</td>\n      <td>35.692425</td>\n      <td>51.321911</td>\n      <td>35.689014</td>\n      <td>51.330765</td>\n      <td>236</td>\n      <td>86.040000</td>\n    </tr>\n    <tr>\n      <th>1790654</th>\n      <td>5606051361</td>\n      <td>4643765</td>\n      <td>2023-01-03 13:27:22</td>\n      <td>892cf318c73ffff</td>\n      <td>892cf318c6fffff</td>\n      <td>35.692329</td>\n      <td>51.322472</td>\n      <td>35.689251</td>\n      <td>51.330376</td>\n      <td>124</td>\n      <td>86.368056</td>\n    </tr>\n    <tr>\n      <th>3261380</th>\n      <td>5608360518</td>\n      <td>2459970</td>\n      <td>2023-01-03 18:39:25</td>\n      <td>892cf318c73ffff</td>\n      <td>892cf318c6fffff</td>\n      <td>35.692261</td>\n      <td>51.322338</td>\n      <td>35.689850</td>\n      <td>51.329525</td>\n      <td>271</td>\n      <td>91.513056</td>\n    </tr>\n    <tr>\n      <th>3420898</th>\n      <td>5608609410</td>\n      <td>344978</td>\n      <td>2023-01-03 19:14:19</td>\n      <td>892cf318c73ffff</td>\n      <td>892cf318c6fffff</td>\n      <td>35.692379</td>\n      <td>51.321896</td>\n      <td>35.689308</td>\n      <td>51.330303</td>\n      <td>204</td>\n      <td>92.094722</td>\n    </tr>\n    <tr>\n      <th>3901778</th>\n      <td>5609284757</td>\n      <td>4429285</td>\n      <td>2023-01-03 21:06:23</td>\n      <td>892cf318c73ffff</td>\n      <td>892cf318c6fffff</td>\n      <td>35.692230</td>\n      <td>51.322266</td>\n      <td>35.689232</td>\n      <td>51.330383</td>\n      <td>176</td>\n      <td>94.004444</td>\n    </tr>\n    <tr>\n      <th>84667</th>\n      <td>5610058611</td>\n      <td>460466</td>\n      <td>2023-01-04 03:02:48</td>\n      <td>892cf318c73ffff</td>\n      <td>892cf318c6fffff</td>\n      <td>35.692234</td>\n      <td>51.322388</td>\n      <td>35.689037</td>\n      <td>51.330753</td>\n      <td>214</td>\n      <td>99.903333</td>\n    </tr>\n    <tr>\n      <th>98257</th>\n      <td>5610088007</td>\n      <td>3493195</td>\n      <td>2023-01-04 05:10:34</td>\n      <td>892cf318c73ffff</td>\n      <td>892cf318c6fffff</td>\n      <td>35.692898</td>\n      <td>51.323498</td>\n      <td>35.688690</td>\n      <td>51.330917</td>\n      <td>233</td>\n      <td>102.041389</td>\n    </tr>\n    <tr>\n      <th>125326</th>\n      <td>5610156228</td>\n      <td>8373</td>\n      <td>2023-01-04 06:34:41</td>\n      <td>892cf318c73ffff</td>\n      <td>892cf318c6fffff</td>\n      <td>35.692310</td>\n      <td>51.322430</td>\n      <td>35.689018</td>\n      <td>51.330769</td>\n      <td>120</td>\n      <td>103.501667</td>\n    </tr>\n    <tr>\n      <th>1742840</th>\n      <td>5612668622</td>\n      <td>61628</td>\n      <td>2023-01-04 13:02:52</td>\n      <td>892cf318c73ffff</td>\n      <td>892cf318c6fffff</td>\n      <td>35.692360</td>\n      <td>51.322491</td>\n      <td>35.689018</td>\n      <td>51.330750</td>\n      <td>140</td>\n      <td>109.926389</td>\n    </tr>\n    <tr>\n      <th>2414203</th>\n      <td>5617001993</td>\n      <td>1247399</td>\n      <td>2023-01-04 23:18:51</td>\n      <td>892cf318c73ffff</td>\n      <td>892cf318c6fffff</td>\n      <td>35.692364</td>\n      <td>51.321899</td>\n      <td>35.689869</td>\n      <td>51.329548</td>\n      <td>212</td>\n      <td>120.184444</td>\n    </tr>\n  </tbody>\n</table>\n</div>"
     },
     "execution_count": 81,
     "metadata": {},
     "output_type": "execute_result"
    }
   ],
   "source": [
    "tmp[(tmp['source_h3_9'] == '892cf318c73ffff') & (tmp['dest_h3_9'] == '892cf318c6fffff')]"
   ],
   "metadata": {
    "collapsed": false,
    "pycharm": {
     "name": "#%%\n"
    }
   }
  },
  {
   "cell_type": "code",
   "execution_count": 83,
   "outputs": [
    {
     "data": {
      "text/plain": "            ride_id  driver_id      clickhouse_time      source_h3_9  \\\n2228735  5592828970    1143297  2023-01-01 16:40:28  892cf30062fffff   \n2929278  5593748856    1942229  2023-01-01 18:58:12  892cf302b0bffff   \n3073704  5593969647    3322447  2023-01-01 19:28:41  892cf3002dbffff   \n3838008  5595523377    4459664  2023-01-01 23:30:53  892cf31886bffff   \n2508493  5599018771     896961  2023-01-02 15:52:49  892cf301253ffff   \n3550259  5600740284    4577223  2023-01-02 19:17:52  892cf3022c3ffff   \n3595918  5600708567    1037715  2023-01-02 19:26:58  892cf319d4bffff   \n3860189  5601248616     727889  2023-01-02 20:30:37  892cf30058fffff   \n1553949  5604633154      19205  2023-01-03 12:39:22  892cf302a8fffff   \n2266144  5605619699    3640889  2023-01-03 15:11:11  892cf318a2bffff   \n3405519  5607269603    4641347  2023-01-03 19:09:47  892cf30183bffff   \n3462437  5607485123    4450625  2023-01-03 19:20:26  892cf305397ffff   \n3516687  5607509847     647924  2023-01-03 19:32:28  892cf30010fffff   \n3665915  5607766705    4702122  2023-01-03 20:08:32  892cf30204bffff   \n3689399  5607905407    3621518  2023-01-03 20:13:07  892cf3116d3ffff   \n3727936  5607963432    3945544  2023-01-03 20:22:09  892cf31182fffff   \n61759    5609692224    3237714  2023-01-04 01:27:45  892cf318a3bffff   \n1909025  5611214345     205483  2023-01-04 13:39:11  892cf3018b7ffff   \n\n               dest_h3_9  source_lat  source_lng   dest_lat   dest_lng  \\\n2228735  892cf3c4d6bffff   35.752815   51.414890  35.757324  51.164799   \n2929278  892cf3198b3ffff   35.813126   51.456387  35.639187  51.332417   \n3073704  892cf3035abffff   35.739311   51.413185  35.773525  51.352234   \n3838008  892cf301a4bffff   35.677761   51.352581  35.695728  51.483166   \n2508493  892cf300c7bffff   35.679119   51.412388  35.786572  51.468491   \n3550259  892cf30e3dbffff   35.777729   51.358185  35.736122  51.557514   \n3595918  892cf302b0fffff   35.641129   51.328220  35.814251  51.459660   \n3860189  892cf308ed3ffff   35.792881   51.411476  35.613861  51.493080   \n1553949  892cf30180bffff   35.805790   51.431614  35.723679  51.477634   \n2266144  892cf308edbffff   35.665855   51.360973  35.612217  51.494148   \n3405519  892cf318c77ffff   35.729504   51.483131  35.693302  51.324707   \n3462437  892cf31a363ffff   35.805374   51.571648  35.693115  51.254894   \n3516687  892cf30a597ffff   35.780224   51.444580  35.679726  51.389339   \n3665915  892cf30aeb3ffff   35.792484   51.363010  35.664749  51.446400   \n3689399  892cf3008a3ffff   35.748653   51.195988  35.793903  51.489605   \n3727936  892cf30ae73ffff   35.784946   51.307938  35.649933  51.453533   \n61759    892cf3003c7ffff   35.665051   51.357685  35.756031  51.441063   \n1909025  892cf301583ffff   35.738464   51.478802  35.733959  51.398296   \n\n         a_t_a_result.ride_a_t_a        hour  \n2228735                     9376   38.910278  \n2929278                     9357   41.127500  \n3073704                     9465   41.621389  \n3838008                    11643   45.045278  \n2508493                    11172   61.591389  \n3550259                     9034   65.638611  \n3595918                     9614   65.569167  \n3860189                     9514   66.573333  \n1553949                     9537   82.941389  \n2266144                     9872   85.337778  \n3405519                     9224   89.293056  \n3462437                     9056   89.750833  \n3516687                     9224   89.811389  \n3665915                     9424   90.299722  \n3689399                     9092   90.584444  \n3727936                     9048   90.669722  \n61759                       9889   95.576111  \n1909025                    11593  106.703333  ",
      "text/html": "<div>\n<style scoped>\n    .dataframe tbody tr th:only-of-type {\n        vertical-align: middle;\n    }\n\n    .dataframe tbody tr th {\n        vertical-align: top;\n    }\n\n    .dataframe thead th {\n        text-align: right;\n    }\n</style>\n<table border=\"1\" class=\"dataframe\">\n  <thead>\n    <tr style=\"text-align: right;\">\n      <th></th>\n      <th>ride_id</th>\n      <th>driver_id</th>\n      <th>clickhouse_time</th>\n      <th>source_h3_9</th>\n      <th>dest_h3_9</th>\n      <th>source_lat</th>\n      <th>source_lng</th>\n      <th>dest_lat</th>\n      <th>dest_lng</th>\n      <th>a_t_a_result.ride_a_t_a</th>\n      <th>hour</th>\n    </tr>\n  </thead>\n  <tbody>\n    <tr>\n      <th>2228735</th>\n      <td>5592828970</td>\n      <td>1143297</td>\n      <td>2023-01-01 16:40:28</td>\n      <td>892cf30062fffff</td>\n      <td>892cf3c4d6bffff</td>\n      <td>35.752815</td>\n      <td>51.414890</td>\n      <td>35.757324</td>\n      <td>51.164799</td>\n      <td>9376</td>\n      <td>38.910278</td>\n    </tr>\n    <tr>\n      <th>2929278</th>\n      <td>5593748856</td>\n      <td>1942229</td>\n      <td>2023-01-01 18:58:12</td>\n      <td>892cf302b0bffff</td>\n      <td>892cf3198b3ffff</td>\n      <td>35.813126</td>\n      <td>51.456387</td>\n      <td>35.639187</td>\n      <td>51.332417</td>\n      <td>9357</td>\n      <td>41.127500</td>\n    </tr>\n    <tr>\n      <th>3073704</th>\n      <td>5593969647</td>\n      <td>3322447</td>\n      <td>2023-01-01 19:28:41</td>\n      <td>892cf3002dbffff</td>\n      <td>892cf3035abffff</td>\n      <td>35.739311</td>\n      <td>51.413185</td>\n      <td>35.773525</td>\n      <td>51.352234</td>\n      <td>9465</td>\n      <td>41.621389</td>\n    </tr>\n    <tr>\n      <th>3838008</th>\n      <td>5595523377</td>\n      <td>4459664</td>\n      <td>2023-01-01 23:30:53</td>\n      <td>892cf31886bffff</td>\n      <td>892cf301a4bffff</td>\n      <td>35.677761</td>\n      <td>51.352581</td>\n      <td>35.695728</td>\n      <td>51.483166</td>\n      <td>11643</td>\n      <td>45.045278</td>\n    </tr>\n    <tr>\n      <th>2508493</th>\n      <td>5599018771</td>\n      <td>896961</td>\n      <td>2023-01-02 15:52:49</td>\n      <td>892cf301253ffff</td>\n      <td>892cf300c7bffff</td>\n      <td>35.679119</td>\n      <td>51.412388</td>\n      <td>35.786572</td>\n      <td>51.468491</td>\n      <td>11172</td>\n      <td>61.591389</td>\n    </tr>\n    <tr>\n      <th>3550259</th>\n      <td>5600740284</td>\n      <td>4577223</td>\n      <td>2023-01-02 19:17:52</td>\n      <td>892cf3022c3ffff</td>\n      <td>892cf30e3dbffff</td>\n      <td>35.777729</td>\n      <td>51.358185</td>\n      <td>35.736122</td>\n      <td>51.557514</td>\n      <td>9034</td>\n      <td>65.638611</td>\n    </tr>\n    <tr>\n      <th>3595918</th>\n      <td>5600708567</td>\n      <td>1037715</td>\n      <td>2023-01-02 19:26:58</td>\n      <td>892cf319d4bffff</td>\n      <td>892cf302b0fffff</td>\n      <td>35.641129</td>\n      <td>51.328220</td>\n      <td>35.814251</td>\n      <td>51.459660</td>\n      <td>9614</td>\n      <td>65.569167</td>\n    </tr>\n    <tr>\n      <th>3860189</th>\n      <td>5601248616</td>\n      <td>727889</td>\n      <td>2023-01-02 20:30:37</td>\n      <td>892cf30058fffff</td>\n      <td>892cf308ed3ffff</td>\n      <td>35.792881</td>\n      <td>51.411476</td>\n      <td>35.613861</td>\n      <td>51.493080</td>\n      <td>9514</td>\n      <td>66.573333</td>\n    </tr>\n    <tr>\n      <th>1553949</th>\n      <td>5604633154</td>\n      <td>19205</td>\n      <td>2023-01-03 12:39:22</td>\n      <td>892cf302a8fffff</td>\n      <td>892cf30180bffff</td>\n      <td>35.805790</td>\n      <td>51.431614</td>\n      <td>35.723679</td>\n      <td>51.477634</td>\n      <td>9537</td>\n      <td>82.941389</td>\n    </tr>\n    <tr>\n      <th>2266144</th>\n      <td>5605619699</td>\n      <td>3640889</td>\n      <td>2023-01-03 15:11:11</td>\n      <td>892cf318a2bffff</td>\n      <td>892cf308edbffff</td>\n      <td>35.665855</td>\n      <td>51.360973</td>\n      <td>35.612217</td>\n      <td>51.494148</td>\n      <td>9872</td>\n      <td>85.337778</td>\n    </tr>\n    <tr>\n      <th>3405519</th>\n      <td>5607269603</td>\n      <td>4641347</td>\n      <td>2023-01-03 19:09:47</td>\n      <td>892cf30183bffff</td>\n      <td>892cf318c77ffff</td>\n      <td>35.729504</td>\n      <td>51.483131</td>\n      <td>35.693302</td>\n      <td>51.324707</td>\n      <td>9224</td>\n      <td>89.293056</td>\n    </tr>\n    <tr>\n      <th>3462437</th>\n      <td>5607485123</td>\n      <td>4450625</td>\n      <td>2023-01-03 19:20:26</td>\n      <td>892cf305397ffff</td>\n      <td>892cf31a363ffff</td>\n      <td>35.805374</td>\n      <td>51.571648</td>\n      <td>35.693115</td>\n      <td>51.254894</td>\n      <td>9056</td>\n      <td>89.750833</td>\n    </tr>\n    <tr>\n      <th>3516687</th>\n      <td>5607509847</td>\n      <td>647924</td>\n      <td>2023-01-03 19:32:28</td>\n      <td>892cf30010fffff</td>\n      <td>892cf30a597ffff</td>\n      <td>35.780224</td>\n      <td>51.444580</td>\n      <td>35.679726</td>\n      <td>51.389339</td>\n      <td>9224</td>\n      <td>89.811389</td>\n    </tr>\n    <tr>\n      <th>3665915</th>\n      <td>5607766705</td>\n      <td>4702122</td>\n      <td>2023-01-03 20:08:32</td>\n      <td>892cf30204bffff</td>\n      <td>892cf30aeb3ffff</td>\n      <td>35.792484</td>\n      <td>51.363010</td>\n      <td>35.664749</td>\n      <td>51.446400</td>\n      <td>9424</td>\n      <td>90.299722</td>\n    </tr>\n    <tr>\n      <th>3689399</th>\n      <td>5607905407</td>\n      <td>3621518</td>\n      <td>2023-01-03 20:13:07</td>\n      <td>892cf3116d3ffff</td>\n      <td>892cf3008a3ffff</td>\n      <td>35.748653</td>\n      <td>51.195988</td>\n      <td>35.793903</td>\n      <td>51.489605</td>\n      <td>9092</td>\n      <td>90.584444</td>\n    </tr>\n    <tr>\n      <th>3727936</th>\n      <td>5607963432</td>\n      <td>3945544</td>\n      <td>2023-01-03 20:22:09</td>\n      <td>892cf31182fffff</td>\n      <td>892cf30ae73ffff</td>\n      <td>35.784946</td>\n      <td>51.307938</td>\n      <td>35.649933</td>\n      <td>51.453533</td>\n      <td>9048</td>\n      <td>90.669722</td>\n    </tr>\n    <tr>\n      <th>61759</th>\n      <td>5609692224</td>\n      <td>3237714</td>\n      <td>2023-01-04 01:27:45</td>\n      <td>892cf318a3bffff</td>\n      <td>892cf3003c7ffff</td>\n      <td>35.665051</td>\n      <td>51.357685</td>\n      <td>35.756031</td>\n      <td>51.441063</td>\n      <td>9889</td>\n      <td>95.576111</td>\n    </tr>\n    <tr>\n      <th>1909025</th>\n      <td>5611214345</td>\n      <td>205483</td>\n      <td>2023-01-04 13:39:11</td>\n      <td>892cf3018b7ffff</td>\n      <td>892cf301583ffff</td>\n      <td>35.738464</td>\n      <td>51.478802</td>\n      <td>35.733959</td>\n      <td>51.398296</td>\n      <td>11593</td>\n      <td>106.703333</td>\n    </tr>\n  </tbody>\n</table>\n</div>"
     },
     "execution_count": 83,
     "metadata": {},
     "output_type": "execute_result"
    }
   ],
   "source": [
    "tmp[tmp['a_t_a_result.ride_a_t_a'] > 9000]"
   ],
   "metadata": {
    "collapsed": false,
    "pycharm": {
     "name": "#%%\n"
    }
   }
  },
  {
   "cell_type": "code",
   "execution_count": null,
   "outputs": [],
   "source": [],
   "metadata": {
    "collapsed": false,
    "pycharm": {
     "name": "#%%\n"
    }
   }
  },
  {
   "cell_type": "code",
   "execution_count": null,
   "outputs": [],
   "source": [],
   "metadata": {
    "collapsed": false,
    "pycharm": {
     "name": "#%%\n"
    }
   }
  },
  {
   "cell_type": "markdown",
   "source": [
    "**BUG**"
   ],
   "metadata": {
    "collapsed": false,
    "pycharm": {
     "name": "#%% md\n"
    }
   }
  },
  {
   "cell_type": "code",
   "execution_count": 25,
   "outputs": [
    {
     "name": "stdout",
     "output_type": "stream",
     "text": [
      "892cf318c73ffff\n",
      "892cf318c6fffff\n",
      "35\n",
      "892cf318c73ffff\n",
      "892cf318dcbffff\n",
      "14\n",
      "892cf318c73ffff\n",
      "892cf301087ffff\n",
      "11\n",
      "892cf318c73ffff\n",
      "892cf30101bffff\n",
      "12\n",
      "892cf318c6fffff\n",
      "892cf318dcbffff\n",
      "23\n",
      "892cf318c6fffff\n",
      "892cf318c73ffff\n",
      "11\n",
      "892cf318c6fffff\n",
      "892cf318c77ffff\n",
      "14\n",
      "892cf31a977ffff\n",
      "892cf303437ffff\n",
      "11\n",
      "892cf31a977ffff\n",
      "892cf30364fffff\n",
      "12\n",
      "892cf31a977ffff\n",
      "892cf318d97ffff\n",
      "18\n",
      "892cf31a977ffff\n",
      "892cf31abd7ffff\n",
      "14\n",
      "892cf31a977ffff\n",
      "892cf311a67ffff\n",
      "12\n",
      "892cf302a8fffff\n",
      "892cf3005b3ffff\n",
      "12\n",
      "892cf302a8fffff\n",
      "892cf302a63ffff\n",
      "11\n",
      "892cf30223bffff\n",
      "892cf3022cfffff\n",
      "14\n",
      "892cf30223bffff\n",
      "892cf302233ffff\n",
      "12\n",
      "892cf30223bffff\n",
      "892cf3035afffff\n",
      "17\n",
      "892cf30223bffff\n",
      "892cf30225bffff\n",
      "11\n",
      "892cf30223bffff\n",
      "892cf302237ffff\n",
      "11\n",
      "892cf30223bffff\n",
      "892cf302267ffff\n",
      "12\n",
      "892cf300667ffff\n",
      "892cf30060bffff\n",
      "13\n",
      "892cf303437ffff\n",
      "892cf31a977ffff\n",
      "12\n",
      "892cf303437ffff\n",
      "892cf303437ffff\n",
      "12\n",
      "892cf3002cbffff\n",
      "892cf301017ffff\n",
      "12\n",
      "892cf30108fffff\n",
      "892cf30108fffff\n",
      "31\n",
      "892cf30108fffff\n",
      "892cf3010abffff\n",
      "16\n",
      "892cf30108fffff\n",
      "892cf301007ffff\n",
      "31\n",
      "892cf30108fffff\n",
      "892cf301017ffff\n",
      "12\n",
      "892cf30108fffff\n",
      "892cf301033ffff\n",
      "12\n",
      "892cf30108fffff\n",
      "892cf301097ffff\n",
      "21\n",
      "892cf30108fffff\n",
      "892cf3010d7ffff\n",
      "13\n",
      "892cf302a17ffff\n",
      "892cf3005b3ffff\n",
      "16\n",
      "892cf302a17ffff\n",
      "892cf300dcfffff\n",
      "11\n",
      "892cf300637ffff\n",
      "892cf30060bffff\n",
      "12\n",
      "892cf3005b3ffff\n",
      "892cf302a8fffff\n",
      "12\n",
      "892cf3005b3ffff\n",
      "892cf302a17ffff\n",
      "14\n",
      "892cf31abd7ffff\n",
      "892cf31a977ffff\n",
      "17\n",
      "892cf31abd7ffff\n",
      "892cf311a2fffff\n",
      "13\n",
      "892cf31abd7ffff\n",
      "892cf31a91bffff\n",
      "12\n",
      "892cf31abd7ffff\n",
      "892cf31ab87ffff\n",
      "14\n",
      "892cf30a54bffff\n",
      "892cf318dcbffff\n",
      "11\n",
      "892cf301567ffff\n",
      "892cf30118bffff\n",
      "11\n",
      "892cf301567ffff\n",
      "892cf301567ffff\n",
      "16\n",
      "892cf301063ffff\n",
      "892cf3010abffff\n",
      "22\n",
      "892cf301063ffff\n",
      "892cf301007ffff\n",
      "21\n",
      "892cf301063ffff\n",
      "892cf30119bffff\n",
      "12\n",
      "892cf301063ffff\n",
      "892cf301003ffff\n",
      "15\n",
      "892cf301063ffff\n",
      "892cf301063ffff\n",
      "13\n",
      "892cf301063ffff\n",
      "892cf30100fffff\n",
      "14\n",
      "892cf301007ffff\n",
      "892cf30108fffff\n",
      "13\n",
      "892cf301007ffff\n",
      "892cf301007ffff\n",
      "90\n",
      "892cf301007ffff\n",
      "892cf30119bffff\n",
      "18\n",
      "892cf3002dbffff\n",
      "892cf300667ffff\n",
      "21\n",
      "892cf3002dbffff\n",
      "892cf3002dbffff\n",
      "16\n",
      "892cf3002dbffff\n",
      "892cf3011d3ffff\n",
      "11\n",
      "892cf30118bffff\n",
      "892cf30118bffff\n",
      "14\n",
      "892cf30118bffff\n",
      "892cf3010abffff\n",
      "12\n",
      "892cf30118bffff\n",
      "892cf301193ffff\n",
      "14\n",
      "892cf3022cfffff\n",
      "892cf30223bffff\n",
      "13\n",
      "892cf3022cfffff\n",
      "892cf3031a7ffff\n",
      "13\n",
      "892cf302257ffff\n",
      "892cf30223bffff\n",
      "15\n",
      "892cf302257ffff\n",
      "892cf3035afffff\n",
      "12\n",
      "892cf301037ffff\n",
      "892cf301037ffff\n",
      "41\n",
      "892cf302a83ffff\n",
      "892cf3005b3ffff\n",
      "25\n",
      "892cf3031cbffff\n",
      "892cf303577ffff\n",
      "13\n",
      "892cf3010abffff\n",
      "892cf30108fffff\n",
      "17\n",
      "892cf3010abffff\n",
      "892cf3010abffff\n",
      "108\n",
      "892cf3010abffff\n",
      "892cf3010d3ffff\n",
      "11\n",
      "892cf30226bffff\n",
      "892cf30223bffff\n",
      "17\n",
      "892cf30226bffff\n",
      "892cf303577ffff\n",
      "11\n",
      "892cf30226bffff\n",
      "892cf30222bffff\n",
      "12\n",
      "892cf30226bffff\n",
      "892cf30226bffff\n",
      "11\n",
      "892cf30108bffff\n",
      "892cf30108bffff\n",
      "23\n",
      "892cf30108bffff\n",
      "892cf30154bffff\n",
      "12\n",
      "892cf302233ffff\n",
      "892cf302233ffff\n",
      "23\n",
      "892cf302233ffff\n",
      "892cf30352fffff\n",
      "15\n",
      "892cf30154fffff\n",
      "892cf301507ffff\n",
      "13\n",
      "892cf30154fffff\n",
      "892cf301553ffff\n",
      "14\n",
      "892cf3016a3ffff\n",
      "892cf301443ffff\n",
      "11\n",
      "892cf3016a3ffff\n",
      "892cf3010c3ffff\n",
      "12\n",
      "892cf3016a3ffff\n",
      "892cf3010d3ffff\n",
      "14\n",
      "892cf3016a3ffff\n",
      "892cf30140bffff\n",
      "12\n",
      "892cf301017ffff\n",
      "892cf301017ffff\n",
      "26\n",
      "892cf318d97ffff\n",
      "892cf31a977ffff\n",
      "22\n",
      "892cf300387ffff\n",
      "892cf300387ffff\n",
      "12\n",
      "892cf3014abffff\n",
      "892cf301443ffff\n",
      "14\n",
      "892cf30154bffff\n",
      "892cf30108fffff\n",
      "11\n",
      "892cf30154bffff\n",
      "892cf30154bffff\n",
      "25\n",
      "892cf301523ffff\n",
      "892cf3002cbffff\n",
      "12\n",
      "892cf301523ffff\n",
      "892cf3002d3ffff\n",
      "13\n",
      "892cf303153ffff\n",
      "892cf303577ffff\n",
      "11\n",
      "892cf303153ffff\n",
      "892cf30226bffff\n",
      "11\n",
      "892cf303153ffff\n",
      "892cf3035afffff\n",
      "18\n",
      "892cf303153ffff\n",
      "892cf303533ffff\n",
      "19\n",
      "892cf303153ffff\n",
      "892cf30353bffff\n",
      "14\n",
      "892cf301077ffff\n",
      "892cf301077ffff\n",
      "24\n",
      "892cf303577ffff\n",
      "892cf303577ffff\n",
      "11\n",
      "892cf303577ffff\n",
      "892cf30226bffff\n",
      "13\n",
      "892cf311a2fffff\n",
      "892cf303437ffff\n",
      "11\n",
      "892cf311a2fffff\n",
      "892cf311a67ffff\n",
      "14\n",
      "892cf301033ffff\n",
      "892cf30108fffff\n",
      "11\n",
      "892cf301033ffff\n",
      "892cf301033ffff\n",
      "44\n",
      "892cf301033ffff\n",
      "892cf30157bffff\n",
      "12\n",
      "892cf30119bffff\n",
      "892cf30119bffff\n",
      "13\n",
      "892cf3010c3ffff\n",
      "892cf3010c3ffff\n",
      "22\n",
      "892cf300c87ffff\n",
      "892cf300dcfffff\n",
      "13\n",
      "892cf300c87ffff\n",
      "892cf302a63ffff\n",
      "12\n",
      "892cf3035afffff\n",
      "892cf303577ffff\n",
      "13\n",
      "892cf3035afffff\n",
      "892cf303153ffff\n",
      "15\n",
      "892cf30e647ffff\n",
      "892cf30e677ffff\n",
      "11\n",
      "892cf30e647ffff\n",
      "892cf30e653ffff\n",
      "11\n",
      "892cf301003ffff\n",
      "892cf301033ffff\n",
      "16\n",
      "892cf301003ffff\n",
      "892cf301003ffff\n",
      "108\n",
      "892cf301c8bffff\n",
      "892cf301137ffff\n",
      "14\n",
      "892cf30e643ffff\n",
      "892cf30e677ffff\n",
      "11\n",
      "892cf301547ffff\n",
      "892cf301547ffff\n",
      "14\n",
      "892cf301547ffff\n",
      "892cf301517ffff\n",
      "14\n",
      "892cf3031b7ffff\n",
      "892cf30223bffff\n",
      "12\n",
      "892cf30109bffff\n",
      "892cf30109bffff\n",
      "11\n",
      "892cf3011cbffff\n",
      "892cf3010abffff\n",
      "11\n",
      "892cf3011cbffff\n",
      "892cf301077ffff\n",
      "15\n",
      "892cf3011cbffff\n",
      "892cf3011cbffff\n",
      "29\n",
      "892cf301153ffff\n",
      "892cf301007ffff\n",
      "14\n",
      "892cf301153ffff\n",
      "892cf301033ffff\n",
      "14\n",
      "892cf301153ffff\n",
      "892cf3011dbffff\n",
      "12\n",
      "892cf301097ffff\n",
      "892cf3010abffff\n",
      "11\n",
      "892cf301097ffff\n",
      "892cf30154fffff\n",
      "14\n",
      "892cf301097ffff\n",
      "892cf301097ffff\n",
      "18\n",
      "892cf303643ffff\n",
      "892cf303643ffff\n",
      "15\n",
      "892cf30152fffff\n",
      "892cf30152fffff\n",
      "12\n",
      "892cf301087ffff\n",
      "892cf301087ffff\n",
      "22\n",
      "892cf31aa2fffff\n",
      "892cf31a977ffff\n",
      "16\n",
      "892cf30157bffff\n",
      "892cf301537ffff\n",
      "11\n",
      "892cf30157bffff\n",
      "892cf301087ffff\n",
      "13\n",
      "892cf30157bffff\n",
      "892cf30157bffff\n",
      "14\n",
      "892cf30062fffff\n",
      "892cf30062fffff\n",
      "17\n",
      "892cf30062fffff\n",
      "892cf3006a7ffff\n",
      "11\n",
      "892cf30156fffff\n",
      "892cf30156fffff\n",
      "20\n",
      "892cf301193ffff\n",
      "892cf30118bffff\n",
      "12\n",
      "892cf301193ffff\n",
      "892cf301193ffff\n",
      "21\n",
      "892cf301193ffff\n",
      "892cf301033ffff\n",
      "15\n",
      "892cf3022c3ffff\n",
      "892cf30223bffff\n",
      "11\n",
      "892cf3022c3ffff\n",
      "892cf302233ffff\n",
      "11\n",
      "892cf3022c3ffff\n",
      "892cf3022c3ffff\n",
      "12\n",
      "892cf30220bffff\n",
      "892cf30223bffff\n",
      "16\n",
      "892cf30220bffff\n",
      "892cf30222bffff\n",
      "15\n",
      "892cf30152bffff\n",
      "892cf3002dbffff\n",
      "21\n",
      "892cf300ec3ffff\n",
      "892cf3003bbffff\n",
      "11\n",
      "892cf3031a7ffff\n",
      "892cf3022cfffff\n",
      "11\n",
      "892cf3031a7ffff\n",
      "892cf3035afffff\n",
      "13\n",
      "892cf30e677ffff\n",
      "892cf30e0dbffff\n",
      "14\n",
      "892cf30e677ffff\n",
      "892cf30e653ffff\n",
      "17\n",
      "892cf30e677ffff\n",
      "892cf30e637ffff\n",
      "12\n",
      "892cf30e677ffff\n",
      "892cf30e65bffff\n",
      "18\n",
      "892cf301187ffff\n",
      "892cf301187ffff\n",
      "16\n",
      "892cf301053ffff\n",
      "892cf3010c3ffff\n",
      "18\n",
      "892cf301053ffff\n",
      "892cf301003ffff\n",
      "11\n",
      "892cf301053ffff\n",
      "892cf3010d3ffff\n",
      "11\n",
      "892cf30225bffff\n",
      "892cf30223bffff\n",
      "17\n",
      "892cf30225bffff\n",
      "892cf302233ffff\n",
      "12\n",
      "892cf301067ffff\n",
      "892cf301067ffff\n",
      "17\n",
      "892cf301107ffff\n",
      "892cf301007ffff\n",
      "12\n",
      "892cf301107ffff\n",
      "892cf301107ffff\n",
      "14\n",
      "892cf301107ffff\n",
      "892cf30118fffff\n",
      "12\n",
      "892cf31a33bffff\n",
      "892cf318597ffff\n",
      "18\n",
      "892cf30018fffff\n",
      "892cf300577ffff\n",
      "13\n",
      "892cf30100fffff\n",
      "892cf30100fffff\n",
      "151\n",
      "892cf30100fffff\n",
      "892cf3010cbffff\n",
      "11\n",
      "892cf3000cbffff\n",
      "892cf3000cbffff\n",
      "12\n",
      "892cf301013ffff\n",
      "892cf301013ffff\n",
      "22\n",
      "892cf30006fffff\n",
      "892cf30003bffff\n",
      "14\n",
      "892cf30352fffff\n",
      "892cf302233ffff\n",
      "11\n",
      "892cf318d5bffff\n",
      "892cf318c6fffff\n",
      "12\n",
      "892cf301113ffff\n",
      "892cf301113ffff\n",
      "17\n",
      "892cf30014bffff\n",
      "892cf30014bffff\n",
      "11\n",
      "892cf303267ffff\n",
      "892cf3033b7ffff\n",
      "15\n",
      "892cf3010d7ffff\n",
      "892cf3010d7ffff\n",
      "12\n",
      "892cf3010a7ffff\n",
      "892cf3010a7ffff\n",
      "32\n",
      "892cf30a9b3ffff\n",
      "892cf30a997ffff\n",
      "11\n",
      "892cf3010afffff\n",
      "892cf3010afffff\n",
      "30\n",
      "892cf31a987ffff\n",
      "892cf31a977ffff\n",
      "15\n",
      "892cf30e653ffff\n",
      "892cf30e677ffff\n",
      "11\n",
      "892cf30e653ffff\n",
      "892cf30e6c7ffff\n",
      "12\n",
      "892cf3011cfffff\n",
      "892cf3011cfffff\n",
      "20\n",
      "892cf3006afffff\n",
      "892cf3006afffff\n",
      "12\n",
      "892cf3011d7ffff\n",
      "892cf3011d7ffff\n",
      "25\n",
      "892cf318cabffff\n",
      "892cf318cbbffff\n",
      "20\n",
      "892cf301393ffff\n",
      "892cf301393ffff\n",
      "13\n",
      "892cf301527ffff\n",
      "892cf301527ffff\n",
      "16\n",
      "892cf3011c3ffff\n",
      "892cf3011c3ffff\n",
      "21\n",
      "892cf30110bffff\n",
      "892cf30110bffff\n",
      "20\n",
      "892cf30352bffff\n",
      "892cf3022cfffff\n",
      "20\n",
      "892cf30352bffff\n",
      "892cf303153ffff\n",
      "13\n",
      "892cf30352bffff\n",
      "892cf30352bffff\n",
      "12\n",
      "892cf3010d3ffff\n",
      "892cf3010d3ffff\n",
      "20\n",
      "892cf30221bffff\n",
      "892cf30222bffff\n",
      "12\n",
      "892cf302a63ffff\n",
      "892cf300c87ffff\n",
      "12\n",
      "892cf303403ffff\n",
      "892cf303437ffff\n",
      "12\n",
      "892cf303403ffff\n",
      "892cf3035dbffff\n",
      "11\n",
      "892cf30347bffff\n",
      "892cf31a977ffff\n",
      "13\n",
      "892cf30347bffff\n",
      "892cf303437ffff\n",
      "15\n",
      "892cf30103bffff\n",
      "892cf30108fffff\n",
      "11\n",
      "892cf30103bffff\n",
      "892cf30103bffff\n",
      "44\n",
      "892cf3011a7ffff\n",
      "892cf300263ffff\n",
      "16\n",
      "892cf3011dbffff\n",
      "892cf3011dbffff\n",
      "30\n",
      "892cf311a67ffff\n",
      "892cf311a2fffff\n",
      "13\n",
      "892cf311a67ffff\n",
      "892cf311a67ffff\n",
      "11\n",
      "892cf30156bffff\n",
      "892cf30118bffff\n",
      "12\n",
      "892cf30226fffff\n",
      "892cf30226fffff\n",
      "13\n",
      "892cf3011d3ffff\n",
      "892cf3011d3ffff\n",
      "21\n",
      "892cf301117ffff\n",
      "892cf301193ffff\n",
      "11\n",
      "892cf301117ffff\n",
      "892cf301117ffff\n",
      "15\n",
      "892cf302267ffff\n",
      "892cf30223bffff\n",
      "20\n",
      "892cf3010c7ffff\n",
      "892cf3010c7ffff\n",
      "18\n",
      "892cf303413ffff\n",
      "892cf303437ffff\n",
      "13\n",
      "892cf31a913ffff\n",
      "892cf31a977ffff\n",
      "12\n",
      "892cf3032b3ffff\n",
      "892cf3036abffff\n",
      "14\n",
      "892cf30146fffff\n",
      "892cf30146fffff\n",
      "28\n",
      "892cf31a323ffff\n",
      "892cf318597ffff\n",
      "13\n",
      "892cf30060bffff\n",
      "892cf300667ffff\n",
      "15\n",
      "892cf30060bffff\n",
      "892cf30060bffff\n",
      "12\n",
      "892cf30101bffff\n",
      "892cf30101bffff\n",
      "17\n",
      "892cf31a32fffff\n",
      "892cf31a33bffff\n",
      "15\n",
      "892cf300263ffff\n",
      "892cf300263ffff\n",
      "14\n"
     ]
    }
   ],
   "source": [
    "# pipeline_err = []\n",
    "clustering_err = []\n",
    "\n",
    "for s, _ in a.items():\n",
    "    for d, _ in b.items():\n",
    "        cluster_ata = tmp[(tmp['source_h3_9'] == s) & (tmp['dest_h3_9'] == d)]['a_t_a_result.ride_a_t_a']\n",
    "        # cluster_eta = tmp[(tmp['source_h3_9'] == s) & (tmp['dest_h3_9'] == d)]['eta']\n",
    "        if len(cluster_ata) > 10:\n",
    "            print(s)\n",
    "            print(d)\n",
    "            print(len(cluster_ata))\n",
    "            # pipeline_err.append(cluster_eta - cluster_ata)\n",
    "            for i, _ in cluster_ata.items():\n",
    "                cluster_err = []\n",
    "                ca_train = cluster_ata[cluster_ata.index != i]\n",
    "                ca_test = cluster_ata[cluster_ata.index == i]\n",
    "\n",
    "                cluster_err.append(ca_train.mean() - ca_test)\n",
    "            clustering_err.append(cluster_err)"
   ],
   "metadata": {
    "collapsed": false,
    "pycharm": {
     "name": "#%%\n"
    }
   }
  },
  {
   "cell_type": "code",
   "execution_count": null,
   "outputs": [],
   "source": [
    "# 892cf3010abffff 892cf301003ffff 892cf30100fffff"
   ],
   "metadata": {
    "collapsed": false,
    "pycharm": {
     "name": "#%%\n"
    }
   }
  },
  {
   "cell_type": "code",
   "execution_count": 73,
   "outputs": [
    {
     "data": {
      "text/plain": "Empty DataFrame\nColumns: [ride_id, driver_id, clickhouse_time, source_h3_9, dest_h3_9, source_lat, source_lng, dest_lat, dest_lng, a_t_a_result.ride_a_t_a, hour]\nIndex: []",
      "text/html": "<div>\n<style scoped>\n    .dataframe tbody tr th:only-of-type {\n        vertical-align: middle;\n    }\n\n    .dataframe tbody tr th {\n        vertical-align: top;\n    }\n\n    .dataframe thead th {\n        text-align: right;\n    }\n</style>\n<table border=\"1\" class=\"dataframe\">\n  <thead>\n    <tr style=\"text-align: right;\">\n      <th></th>\n      <th>ride_id</th>\n      <th>driver_id</th>\n      <th>clickhouse_time</th>\n      <th>source_h3_9</th>\n      <th>dest_h3_9</th>\n      <th>source_lat</th>\n      <th>source_lng</th>\n      <th>dest_lat</th>\n      <th>dest_lng</th>\n      <th>a_t_a_result.ride_a_t_a</th>\n      <th>hour</th>\n    </tr>\n  </thead>\n  <tbody>\n  </tbody>\n</table>\n</div>"
     },
     "execution_count": 73,
     "metadata": {},
     "output_type": "execute_result"
    }
   ],
   "source": [
    "tmp[(tmp['source_h3_9'] == \"892cf30100fffff\") & (tmp['dest_h3_9'] == \"892cf30100fffff\")]"
   ],
   "metadata": {
    "collapsed": false,
    "pycharm": {
     "name": "#%%\n"
    }
   }
  },
  {
   "cell_type": "code",
   "execution_count": 69,
   "outputs": [],
   "source": [
    "hafez = tmp[(tmp['source_h3_9'] == \"892cf30100fffff\") & (tmp['dest_h3_9'] == \"892cf30100fffff\")]"
   ],
   "metadata": {
    "collapsed": false,
    "pycharm": {
     "name": "#%%\n"
    }
   }
  },
  {
   "cell_type": "code",
   "execution_count": 70,
   "outputs": [
    {
     "data": {
      "text/plain": "Empty DataFrame\nColumns: [ride_id, driver_id, clickhouse_time, source_h3_9, dest_h3_9, source_lat, source_lng, dest_lat, dest_lng, a_t_a_result.ride_a_t_a, hour]\nIndex: []",
      "text/html": "<div>\n<style scoped>\n    .dataframe tbody tr th:only-of-type {\n        vertical-align: middle;\n    }\n\n    .dataframe tbody tr th {\n        vertical-align: top;\n    }\n\n    .dataframe thead th {\n        text-align: right;\n    }\n</style>\n<table border=\"1\" class=\"dataframe\">\n  <thead>\n    <tr style=\"text-align: right;\">\n      <th></th>\n      <th>ride_id</th>\n      <th>driver_id</th>\n      <th>clickhouse_time</th>\n      <th>source_h3_9</th>\n      <th>dest_h3_9</th>\n      <th>source_lat</th>\n      <th>source_lng</th>\n      <th>dest_lat</th>\n      <th>dest_lng</th>\n      <th>a_t_a_result.ride_a_t_a</th>\n      <th>hour</th>\n    </tr>\n  </thead>\n  <tbody>\n  </tbody>\n</table>\n</div>"
     },
     "execution_count": 70,
     "metadata": {},
     "output_type": "execute_result"
    }
   ],
   "source": [
    "hafez"
   ],
   "metadata": {
    "collapsed": false,
    "pycharm": {
     "name": "#%%\n"
    }
   }
  },
  {
   "cell_type": "code",
   "execution_count": 50,
   "outputs": [
    {
     "name": "stdout",
     "output_type": "stream",
     "text": [
      "ride_id, driver_id, clickhouse_time, source_lat, source_lng, dest_lat, dest_lng, a_t_a_result.ride_a_t_a, hour\n",
      "5590030940 2341341 2023-01-01 06:39:39 35.706748962402344 51.41680908203125 35.706756591796875 51.41668701171875 216 31.5325\n",
      "ride_id, driver_id, clickhouse_time, source_lat, source_lng, dest_lat, dest_lng, a_t_a_result.ride_a_t_a, hour\n",
      "5590119427 74534 2023-01-01 07:15:22 35.70794677734375 51.415287017822266 35.70794677734375 51.415287017822266 384 32.02916666666667\n",
      "ride_id, driver_id, clickhouse_time, source_lat, source_lng, dest_lat, dest_lng, a_t_a_result.ride_a_t_a, hour\n",
      "5590213988 46434 2023-01-01 07:30:30 35.70767974853516 51.4145622253418 35.70767974853516 51.4145622253418 192 32.388888888888886\n",
      "ride_id, driver_id, clickhouse_time, source_lat, source_lng, dest_lat, dest_lng, a_t_a_result.ride_a_t_a, hour\n",
      "5590264460 46434 2023-01-01 07:40:12 35.70767974853516 51.4145622253418 35.70767974853516 51.4145622253418 195 32.55083333333334\n",
      "ride_id, driver_id, clickhouse_time, source_lat, source_lng, dest_lat, dest_lng, a_t_a_result.ride_a_t_a, hour\n",
      "5590248914 1248862 2023-01-01 07:45:05 35.70744705200195 51.41372680664063 35.707420349121094 51.413719177246094 416 32.50277777777778\n",
      "ride_id, driver_id, clickhouse_time, source_lat, source_lng, dest_lat, dest_lng, a_t_a_result.ride_a_t_a, hour\n",
      "5590266434 813113 2023-01-01 07:42:42 35.70759963989258 51.41373825073242 35.70762634277344 51.41391754150391 268 32.55694444444445\n",
      "ride_id, driver_id, clickhouse_time, source_lat, source_lng, dest_lat, dest_lng, a_t_a_result.ride_a_t_a, hour\n",
      "5590418609 3404455 2023-01-01 08:15:57 35.70752716064453 51.413536071777344 35.707523345947266 51.41364288330078 338 33.01444444444444\n",
      "ride_id, driver_id, clickhouse_time, source_lat, source_lng, dest_lat, dest_lng, a_t_a_result.ride_a_t_a, hour\n",
      "5590448368 4470242 2023-01-01 08:34:26 35.7073974609375 51.41372299194336 35.70745086669922 51.4136848449707 236 33.099444444444444\n",
      "ride_id, driver_id, clickhouse_time, source_lat, source_lng, dest_lat, dest_lng, a_t_a_result.ride_a_t_a, hour\n",
      "5590484185 2451830 2023-01-01 08:49:29 35.707603454589844 51.41373443603516 35.707603454589844 51.41373443603516 254 33.20055555555555\n",
      "ride_id, driver_id, clickhouse_time, source_lat, source_lng, dest_lat, dest_lng, a_t_a_result.ride_a_t_a, hour\n",
      "5590571677 2970121 2023-01-01 08:57:04 35.70670700073242 51.4161262512207 35.70686340332031 51.417293548583984 251 33.44444444444444\n",
      "ride_id, driver_id, clickhouse_time, source_lat, source_lng, dest_lat, dest_lng, a_t_a_result.ride_a_t_a, hour\n",
      "5590570468 4470242 2023-01-01 10:23:14 35.70771408081055 51.41376876831055 35.707542419433594 51.41362380981445 416 33.44111111111111\n",
      "ride_id, driver_id, clickhouse_time, source_lat, source_lng, dest_lat, dest_lng, a_t_a_result.ride_a_t_a, hour\n",
      "5591674743 2483064 2023-01-01 12:49:08 35.70814514160156 51.41464614868164 35.70814514160156 51.41464614868164 336 36.17305555555556\n",
      "ride_id, driver_id, clickhouse_time, source_lat, source_lng, dest_lat, dest_lng, a_t_a_result.ride_a_t_a, hour\n",
      "5591751435 3554586 2023-01-01 12:55:15 35.707496643066406 51.4134407043457 35.70750427246094 51.41344833374024 280 36.36222222222222\n",
      "ride_id, driver_id, clickhouse_time, source_lat, source_lng, dest_lat, dest_lng, a_t_a_result.ride_a_t_a, hour\n",
      "5591872459 2483064 2023-01-01 13:32:41 35.70814514160156 51.41464614868164 35.70814514160156 51.41464614868164 607 36.650555555555556\n",
      "ride_id, driver_id, clickhouse_time, source_lat, source_lng, dest_lat, dest_lng, a_t_a_result.ride_a_t_a, hour\n",
      "5596712421 74534 2023-01-02 06:51:21 35.70768737792969 51.4146614074707 35.70777130126953 51.41530990600586 289 55.681111111111115\n",
      "ride_id, driver_id, clickhouse_time, source_lat, source_lng, dest_lat, dest_lng, a_t_a_result.ride_a_t_a, hour\n",
      "5596896780 3159058 2023-01-02 07:37:51 35.70741653442383 51.413700103759766 35.707374572753906 51.413673400878906 268 56.46277777777778\n",
      "ride_id, driver_id, clickhouse_time, source_lat, source_lng, dest_lat, dest_lng, a_t_a_result.ride_a_t_a, hour\n",
      "5596931415 813113 2023-01-02 07:45:29 35.7076301574707 51.414207458496094 35.70764923095703 51.41400146484375 324 56.56944444444444\n",
      "ride_id, driver_id, clickhouse_time, source_lat, source_lng, dest_lat, dest_lng, a_t_a_result.ride_a_t_a, hour\n",
      "5597054329 156318 2023-01-02 08:07:24 35.70741653442383 51.41367721557617 35.707481384277344 51.413700103759766 499 56.918055555555554\n",
      "ride_id, driver_id, clickhouse_time, source_lat, source_lng, dest_lat, dest_lng, a_t_a_result.ride_a_t_a, hour\n",
      "5597123717 156318 2023-01-02 08:19:18 35.70751190185547 51.4136962890625 35.707481384277344 51.41363906860352 340 57.11277777777778\n",
      "ride_id, driver_id, clickhouse_time, source_lat, source_lng, dest_lat, dest_lng, a_t_a_result.ride_a_t_a, hour\n",
      "5597192590 3672815 2023-01-02 08:25:55 35.70753860473633 51.41365051269531 35.707454681396484 51.41359329223633 240 57.29638888888889\n",
      "ride_id, driver_id, clickhouse_time, source_lat, source_lng, dest_lat, dest_lng, a_t_a_result.ride_a_t_a, hour\n",
      "5597253826 3672815 2023-01-02 08:35:16 35.70769119262695 51.41373062133789 35.70754623413086 51.41368865966797 228 57.458888888888886\n",
      "ride_id, driver_id, clickhouse_time, source_lat, source_lng, dest_lat, dest_lng, a_t_a_result.ride_a_t_a, hour\n",
      "5597237405 145509 2023-01-02 08:35:16 35.70757293701172 51.41354751586914 35.70758819580078 51.41357803344727 286 57.41583333333333\n",
      "ride_id, driver_id, clickhouse_time, source_lat, source_lng, dest_lat, dest_lng, a_t_a_result.ride_a_t_a, hour\n",
      "5597243649 2360755 2023-01-02 08:35:16 35.70759963989258 51.413822174072266 35.70759963989258 51.413822174072266 238 57.43194444444445\n",
      "ride_id, driver_id, clickhouse_time, source_lat, source_lng, dest_lat, dest_lng, a_t_a_result.ride_a_t_a, hour\n",
      "5597211985 3404455 2023-01-02 08:39:17 35.70753860473633 51.41351318359375 35.70758056640625 51.41349792480469 536 57.34777777777778\n",
      "ride_id, driver_id, clickhouse_time, source_lat, source_lng, dest_lat, dest_lng, a_t_a_result.ride_a_t_a, hour\n",
      "5597302156 3159058 2023-01-02 08:43:23 35.70751953125 51.41363525390625 35.7075080871582 51.41364669799805 290 57.58777777777778\n",
      "ride_id, driver_id, clickhouse_time, source_lat, source_lng, dest_lat, dest_lng, a_t_a_result.ride_a_t_a, hour\n",
      "5597306050 3672815 2023-01-02 08:47:27 35.70760726928711 51.413761138916016 35.70758438110352 51.41375732421875 340 57.598055555555554\n",
      "ride_id, driver_id, clickhouse_time, source_lat, source_lng, dest_lat, dest_lng, a_t_a_result.ride_a_t_a, hour\n",
      "5597311142 145509 2023-01-02 08:47:27 35.70754623413086 51.4135627746582 35.707515716552734 51.41363143920898 316 57.61222222222222\n",
      "ride_id, driver_id, clickhouse_time, source_lat, source_lng, dest_lat, dest_lng, a_t_a_result.ride_a_t_a, hour\n",
      "5597323560 171359 2023-01-02 08:53:00 35.707611083984375 51.41373062133789 35.707611083984375 51.41373062133789 400 57.64333333333333\n",
      "ride_id, driver_id, clickhouse_time, source_lat, source_lng, dest_lat, dest_lng, a_t_a_result.ride_a_t_a, hour\n",
      "5597379630 77865 2023-01-02 08:58:26 35.70759963989258 51.41373062133789 35.7076416015625 51.413822174072266 316 57.78111111111111\n",
      "ride_id, driver_id, clickhouse_time, source_lat, source_lng, dest_lat, dest_lng, a_t_a_result.ride_a_t_a, hour\n",
      "5597391987 3672815 2023-01-02 09:01:17 35.707454681396484 51.41371536254883 35.70746612548828 51.41375350952149 359 57.810833333333335\n",
      "ride_id, driver_id, clickhouse_time, source_lat, source_lng, dest_lat, dest_lng, a_t_a_result.ride_a_t_a, hour\n",
      "5597439509 171359 2023-01-02 09:08:11 35.707611083984375 51.41373062133789 35.707611083984375 51.41373062133789 376 57.922222222222224\n",
      "ride_id, driver_id, clickhouse_time, source_lat, source_lng, dest_lat, dest_lng, a_t_a_result.ride_a_t_a, hour\n",
      "5597560958 232613 2023-01-02 09:22:10 35.70586013793945 51.41548156738281 35.70609664916992 51.415504455566406 414 58.20472222222222\n",
      "ride_id, driver_id, clickhouse_time, source_lat, source_lng, dest_lat, dest_lng, a_t_a_result.ride_a_t_a, hour\n",
      "5597536997 3672815 2023-01-02 09:23:40 35.70760726928711 51.41377639770508 35.707393646240234 51.4137077331543 399 58.14833333333333\n",
      "ride_id, driver_id, clickhouse_time, source_lat, source_lng, dest_lat, dest_lng, a_t_a_result.ride_a_t_a, hour\n",
      "5597554278 845252 2023-01-02 09:27:51 35.707618713378906 51.41407012939453 35.707618713378906 51.41407012939453 542 58.18861111111111\n",
      "ride_id, driver_id, clickhouse_time, source_lat, source_lng, dest_lat, dest_lng, a_t_a_result.ride_a_t_a, hour\n",
      "5597564839 2843535 2023-01-02 09:27:51 35.707618713378906 51.41407012939453 35.707618713378906 51.41407012939453 532 58.21333333333333\n",
      "ride_id, driver_id, clickhouse_time, source_lat, source_lng, dest_lat, dest_lng, a_t_a_result.ride_a_t_a, hour\n",
      "5597633565 3672815 2023-01-02 09:36:24 35.70746994018555 51.41374206542969 35.707462310791016 51.41353225708008 676 58.37138888888889\n",
      "ride_id, driver_id, clickhouse_time, source_lat, source_lng, dest_lat, dest_lng, a_t_a_result.ride_a_t_a, hour\n",
      "5597792509 3672815 2023-01-02 09:56:36 35.707542419433594 51.41365432739258 35.70764923095703 51.41372680664063 452 58.72277777777778\n",
      "ride_id, driver_id, clickhouse_time, source_lat, source_lng, dest_lat, dest_lng, a_t_a_result.ride_a_t_a, hour\n",
      "5597838280 171359 2023-01-02 10:00:59 35.707611083984375 51.41373062133789 35.707611083984375 51.41373062133789 321 58.8225\n",
      "ride_id, driver_id, clickhouse_time, source_lat, source_lng, dest_lat, dest_lng, a_t_a_result.ride_a_t_a, hour\n",
      "5597914002 3672815 2023-01-02 10:09:48 35.707645416259766 51.413761138916016 35.70747375488281 51.41373443603516 340 58.9925\n",
      "ride_id, driver_id, clickhouse_time, source_lat, source_lng, dest_lat, dest_lng, a_t_a_result.ride_a_t_a, hour\n",
      "5597846638 933304 2023-01-02 10:08:21 35.70753860473633 51.415714263916016 35.7075309753418 51.41570663452149 518 58.84111111111111\n",
      "ride_id, driver_id, clickhouse_time, source_lat, source_lng, dest_lat, dest_lng, a_t_a_result.ride_a_t_a, hour\n",
      "5597946097 171359 2023-01-02 10:14:09 35.707611083984375 51.41373062133789 35.707611083984375 51.41373062133789 286 59.06722222222222\n",
      "ride_id, driver_id, clickhouse_time, source_lat, source_lng, dest_lat, dest_lng, a_t_a_result.ride_a_t_a, hour\n",
      "5597941372 813113 2023-01-02 10:18:40 35.706756591796875 51.41667938232422 35.70673370361328 51.416805267333984 452 59.05583333333333\n",
      "ride_id, driver_id, clickhouse_time, source_lat, source_lng, dest_lat, dest_lng, a_t_a_result.ride_a_t_a, hour\n",
      "5598191179 171359 2023-01-02 10:59:58 35.707611083984375 51.41373062133789 35.707611083984375 51.41373062133789 584 59.651666666666664\n",
      "ride_id, driver_id, clickhouse_time, source_lat, source_lng, dest_lat, dest_lng, a_t_a_result.ride_a_t_a, hour\n",
      "5598919408 22045 2023-01-02 12:35:52 35.70767593383789 51.4145622253418 35.70767593383789 51.4145622253418 430 61.33166666666666\n",
      "ride_id, driver_id, clickhouse_time, source_lat, source_lng, dest_lat, dest_lng, a_t_a_result.ride_a_t_a, hour\n",
      "5599001638 171359 2023-01-02 12:40:52 35.707611083984375 51.41373062133789 35.707611083984375 51.41373062133789 252 61.524166666666666\n",
      "ride_id, driver_id, clickhouse_time, source_lat, source_lng, dest_lat, dest_lng, a_t_a_result.ride_a_t_a, hour\n",
      "5598997941 888725 2023-01-02 12:42:30 35.706966400146484 51.41536712646485 35.706966400146484 51.41536712646485 324 61.51555555555556\n",
      "ride_id, driver_id, clickhouse_time, source_lat, source_lng, dest_lat, dest_lng, a_t_a_result.ride_a_t_a, hour\n",
      "5599048905 35977 2023-01-02 12:47:34 35.70767974853516 51.41363143920898 35.70758438110352 51.41375732421875 256 61.632777777777775\n",
      "ride_id, driver_id, clickhouse_time, source_lat, source_lng, dest_lat, dest_lng, a_t_a_result.ride_a_t_a, hour\n",
      "5599119375 35977 2023-01-02 12:53:59 35.70754623413086 51.41358947753906 35.707618713378906 51.41365051269531 148 61.79833333333333\n",
      "ride_id, driver_id, clickhouse_time, source_lat, source_lng, dest_lat, dest_lng, a_t_a_result.ride_a_t_a, hour\n",
      "5599083139 171359 2023-01-02 12:55:42 35.707611083984375 51.41373062133789 35.707611083984375 51.41373062133789 350 61.71333333333333\n",
      "ride_id, driver_id, clickhouse_time, source_lat, source_lng, dest_lat, dest_lng, a_t_a_result.ride_a_t_a, hour\n",
      "5599155092 21569 2023-01-02 13:05:58 35.70719146728516 51.415069580078125 35.707176208496094 51.41507339477539 588 61.884166666666665\n",
      "ride_id, driver_id, clickhouse_time, source_lat, source_lng, dest_lat, dest_lng, a_t_a_result.ride_a_t_a, hour\n",
      "5599205473 35977 2023-01-02 13:07:42 35.70752716064453 51.41368865966797 35.70744705200195 51.41352462768555 220 62.003055555555555\n",
      "ride_id, driver_id, clickhouse_time, source_lat, source_lng, dest_lat, dest_lng, a_t_a_result.ride_a_t_a, hour\n",
      "5599265086 3672815 2023-01-02 13:17:27 35.70762634277344 51.41378021240234 35.70762634277344 51.41378021240234 246 62.14194444444445\n",
      "ride_id, driver_id, clickhouse_time, source_lat, source_lng, dest_lat, dest_lng, a_t_a_result.ride_a_t_a, hour\n",
      "5599297751 21569 2023-01-02 13:23:50 35.70713806152344 51.41407012939453 35.70716857910156 51.41413879394531 312 62.21888888888889\n",
      "ride_id, driver_id, clickhouse_time, source_lat, source_lng, dest_lat, dest_lng, a_t_a_result.ride_a_t_a, hour\n",
      "5599303374 36813 2023-01-02 13:22:21 35.70505905151367 51.41465377807617 35.705074310302734 51.414772033691406 340 62.23222222222222\n",
      "ride_id, driver_id, clickhouse_time, source_lat, source_lng, dest_lat, dest_lng, a_t_a_result.ride_a_t_a, hour\n",
      "5599376461 21569 2023-01-02 13:36:31 35.70716857910156 51.41413879394531 35.70716094970703 51.41486358642578 318 62.409166666666664\n",
      "ride_id, driver_id, clickhouse_time, source_lat, source_lng, dest_lat, dest_lng, a_t_a_result.ride_a_t_a, hour\n",
      "5599457207 21569 2023-01-02 13:58:05 35.70716094970703 51.41486358642578 35.707176208496094 51.41504287719727 1138 62.60583333333334\n",
      "ride_id, driver_id, clickhouse_time, source_lat, source_lng, dest_lat, dest_lng, a_t_a_result.ride_a_t_a, hour\n",
      "5600399626 580750 2023-01-02 16:14:00 35.706058502197266 51.41543960571289 35.7060432434082 51.415523529052734 881 64.9113888888889\n",
      "ride_id, driver_id, clickhouse_time, source_lat, source_lng, dest_lat, dest_lng, a_t_a_result.ride_a_t_a, hour\n",
      "5601351669 821228 2023-01-02 17:56:13 35.70549774169922 51.415557861328125 35.70547866821289 51.41551971435547 308 66.75972222222222\n",
      "ride_id, driver_id, clickhouse_time, source_lat, source_lng, dest_lat, dest_lng, a_t_a_result.ride_a_t_a, hour\n",
      "5603566484 1758869 2023-01-03 06:54:51 35.70768737792969 51.414512634277344 35.70767974853516 51.41447448730469 316 79.73055555555555\n",
      "ride_id, driver_id, clickhouse_time, source_lat, source_lng, dest_lat, dest_lng, a_t_a_result.ride_a_t_a, hour\n",
      "5603584130 95950 2023-01-03 07:01:47 35.70756912231445 51.41373443603516 35.70767593383789 51.41421890258789 356 79.83722222222222\n",
      "ride_id, driver_id, clickhouse_time, source_lat, source_lng, dest_lat, dest_lng, a_t_a_result.ride_a_t_a, hour\n",
      "5603818584 88986 2023-01-03 07:55:20 35.70668029785156 51.4141845703125 35.70663833618164 51.41377639770508 316 80.74277777777777\n",
      "ride_id, driver_id, clickhouse_time, source_lat, source_lng, dest_lat, dest_lng, a_t_a_result.ride_a_t_a, hour\n",
      "5603897442 156318 2023-01-03 08:10:58 35.70758819580078 51.41368865966797 35.70758819580078 51.41368865966797 352 80.98305555555555\n",
      "ride_id, driver_id, clickhouse_time, source_lat, source_lng, dest_lat, dest_lng, a_t_a_result.ride_a_t_a, hour\n",
      "5603972332 20655 2023-01-03 08:24:23 35.707637786865234 51.41401290893555 35.707637786865234 51.41401290893555 337 81.20444444444445\n",
      "ride_id, driver_id, clickhouse_time, source_lat, source_lng, dest_lat, dest_lng, a_t_a_result.ride_a_t_a, hour\n",
      "5604031366 788444 2023-01-03 08:29:41 35.70772933959961 51.41453170776367 35.70766067504883 51.41392135620117 244 81.37666666666667\n",
      "ride_id, driver_id, clickhouse_time, source_lat, source_lng, dest_lat, dest_lng, a_t_a_result.ride_a_t_a, hour\n",
      "5604038140 35977 2023-01-03 08:29:41 35.70743942260742 51.41373825073242 35.70738220214844 51.413692474365234 140 81.3963888888889\n",
      "ride_id, driver_id, clickhouse_time, source_lat, source_lng, dest_lat, dest_lng, a_t_a_result.ride_a_t_a, hour\n",
      "5604060899 3255952 2023-01-03 08:30:59 35.70741271972656 51.41525268554688 35.707420349121094 51.415225982666016 94 81.46138888888889\n",
      "ride_id, driver_id, clickhouse_time, source_lat, source_lng, dest_lat, dest_lng, a_t_a_result.ride_a_t_a, hour\n",
      "5604038808 334732 2023-01-03 08:30:59 35.707698822021484 51.4146842956543 35.7076530456543 51.41440200805664 179 81.39833333333333\n",
      "ride_id, driver_id, clickhouse_time, source_lat, source_lng, dest_lat, dest_lng, a_t_a_result.ride_a_t_a, hour\n",
      "5604056172 77865 2023-01-03 08:39:02 35.7075309753418 51.41551208496094 35.707542419433594 51.415775299072266 333 81.44805555555556\n",
      "ride_id, driver_id, clickhouse_time, source_lat, source_lng, dest_lat, dest_lng, a_t_a_result.ride_a_t_a, hour\n",
      "5604146804 35977 2023-01-03 08:48:27 35.7075080871582 51.41377258300781 35.7073974609375 51.41358947753906 204 81.705\n",
      "ride_id, driver_id, clickhouse_time, source_lat, source_lng, dest_lat, dest_lng, a_t_a_result.ride_a_t_a, hour\n",
      "5604181030 35977 2023-01-03 08:52:28 35.70750045776367 51.41373443603516 35.707462310791016 51.41353225708008 148 81.79722222222222\n",
      "ride_id, driver_id, clickhouse_time, source_lat, source_lng, dest_lat, dest_lng, a_t_a_result.ride_a_t_a, hour\n",
      "5604211348 35977 2023-01-03 08:57:57 35.70752716064453 51.41367721557617 35.70746612548828 51.41371154785156 127 81.87777777777778\n",
      "ride_id, driver_id, clickhouse_time, source_lat, source_lng, dest_lat, dest_lng, a_t_a_result.ride_a_t_a, hour\n",
      "5604171837 4470242 2023-01-03 09:03:23 35.70743560791016 51.413692474365234 35.70743560791016 51.413692474365234 464 81.7725\n",
      "ride_id, driver_id, clickhouse_time, source_lat, source_lng, dest_lat, dest_lng, a_t_a_result.ride_a_t_a, hour\n",
      "5604267329 21569 2023-01-03 09:14:24 35.70751190185547 51.413700103759766 35.70764923095703 51.41363525390625 464 82.02833333333334\n",
      "ride_id, driver_id, clickhouse_time, source_lat, source_lng, dest_lat, dest_lng, a_t_a_result.ride_a_t_a, hour\n",
      "5604272883 3672815 2023-01-03 09:11:42 35.70743560791016 51.41363906860352 35.707481384277344 51.41377639770508 236 82.04388888888889\n",
      "ride_id, driver_id, clickhouse_time, source_lat, source_lng, dest_lat, dest_lng, a_t_a_result.ride_a_t_a, hour\n",
      "5604351086 21569 2023-01-03 09:25:34 35.70764923095703 51.41363525390625 35.707576751708984 51.41377258300781 372 82.25861111111111\n",
      "ride_id, driver_id, clickhouse_time, source_lat, source_lng, dest_lat, dest_lng, a_t_a_result.ride_a_t_a, hour\n",
      "5604328123 3672815 2023-01-03 09:21:27 35.707618713378906 51.413875579833984 35.707496643066406 51.41391372680664 336 82.19527777777778\n",
      "ride_id, driver_id, clickhouse_time, source_lat, source_lng, dest_lat, dest_lng, a_t_a_result.ride_a_t_a, hour\n",
      "5604380018 1090368 2023-01-03 09:27:00 35.70761489868164 51.41531753540039 35.70761489868164 51.41531753540039 180 82.33527777777778\n",
      "ride_id, driver_id, clickhouse_time, source_lat, source_lng, dest_lat, dest_lng, a_t_a_result.ride_a_t_a, hour\n",
      "5604406644 3672815 2023-01-03 09:29:47 35.70768356323242 51.41378402709961 35.70740509033203 51.41354751586914 140 82.40333333333334\n",
      "ride_id, driver_id, clickhouse_time, source_lat, source_lng, dest_lat, dest_lng, a_t_a_result.ride_a_t_a, hour\n",
      "5604387250 22045 2023-01-03 09:31:13 35.707611083984375 51.413761138916016 35.70765686035156 51.41396331787109 262 82.35333333333334\n",
      "ride_id, driver_id, clickhouse_time, source_lat, source_lng, dest_lat, dest_lng, a_t_a_result.ride_a_t_a, hour\n",
      "5604411081 3801 2023-01-03 09:39:42 35.70509338378906 51.41486358642578 35.705101013183594 51.415000915527344 470 82.415\n",
      "ride_id, driver_id, clickhouse_time, source_lat, source_lng, dest_lat, dest_lng, a_t_a_result.ride_a_t_a, hour\n",
      "5604406997 4470242 2023-01-03 09:38:15 35.70743560791016 51.413692474365234 35.70743560791016 51.413692474365234 389 82.40444444444445\n",
      "ride_id, driver_id, clickhouse_time, source_lat, source_lng, dest_lat, dest_lng, a_t_a_result.ride_a_t_a, hour\n",
      "5604389143 171359 2023-01-03 09:42:36 35.707611083984375 51.41373062133789 35.707611083984375 51.41373062133789 603 82.35805555555555\n",
      "ride_id, driver_id, clickhouse_time, source_lat, source_lng, dest_lat, dest_lng, a_t_a_result.ride_a_t_a, hour\n",
      "5604438114 3672815 2023-01-03 09:41:07 35.707401275634766 51.41395568847656 35.707550048828125 51.41366958618164 348 82.4825\n",
      "ride_id, driver_id, clickhouse_time, source_lat, source_lng, dest_lat, dest_lng, a_t_a_result.ride_a_t_a, hour\n",
      "5604520735 3672815 2023-01-03 09:49:41 35.707542419433594 51.41359329223633 35.70750045776367 51.41372680664063 420 82.67972222222222\n",
      "ride_id, driver_id, clickhouse_time, source_lat, source_lng, dest_lat, dest_lng, a_t_a_result.ride_a_t_a, hour\n",
      "5604581474 3672815 2023-01-03 09:59:40 35.70759582519531 51.4135971069336 35.707359313964844 51.41361999511719 280 82.82138888888889\n",
      "ride_id, driver_id, clickhouse_time, source_lat, source_lng, dest_lat, dest_lng, a_t_a_result.ride_a_t_a, hour\n",
      "5604651690 4470242 2023-01-03 10:04:09 35.70743560791016 51.413692474365234 35.70743560791016 51.413692474365234 128 82.98472222222222\n",
      "ride_id, driver_id, clickhouse_time, source_lat, source_lng, dest_lat, dest_lng, a_t_a_result.ride_a_t_a, hour\n",
      "5604663111 3672815 2023-01-03 10:14:16 35.70753860473633 51.41364669799805 35.707523345947266 51.4136848449707 401 83.01194444444444\n",
      "ride_id, driver_id, clickhouse_time, source_lat, source_lng, dest_lat, dest_lng, a_t_a_result.ride_a_t_a, hour\n",
      "5604742587 171359 2023-01-03 10:21:31 35.707611083984375 51.41373825073242 35.707611083984375 51.41373825073242 259 83.20666666666666\n",
      "ride_id, driver_id, clickhouse_time, source_lat, source_lng, dest_lat, dest_lng, a_t_a_result.ride_a_t_a, hour\n",
      "5604768479 3672815 2023-01-03 10:25:58 35.70753479003906 51.41363143920898 35.707427978515625 51.41376876831055 320 83.2713888888889\n",
      "ride_id, driver_id, clickhouse_time, source_lat, source_lng, dest_lat, dest_lng, a_t_a_result.ride_a_t_a, hour\n",
      "5604860194 21569 2023-01-03 10:58:17 35.70664978027344 51.41426467895508 35.706626892089844 51.41364288330078 1093 83.5\n",
      "ride_id, driver_id, clickhouse_time, source_lat, source_lng, dest_lat, dest_lng, a_t_a_result.ride_a_t_a, hour\n",
      "5605063301 4470242 2023-01-03 11:10:17 35.70743560791016 51.413692474365234 35.70743560791016 51.413692474365234 280 83.99916666666667\n",
      "ride_id, driver_id, clickhouse_time, source_lat, source_lng, dest_lat, dest_lng, a_t_a_result.ride_a_t_a, hour\n",
      "5604995299 271807 2023-01-03 11:10:17 35.70808410644531 51.41392135620117 35.70808410644531 51.41392135620117 595 83.83111111111111\n",
      "ride_id, driver_id, clickhouse_time, source_lat, source_lng, dest_lat, dest_lng, a_t_a_result.ride_a_t_a, hour\n",
      "5605087851 21569 2023-01-03 11:28:07 35.70669937133789 51.41505813598633 35.706634521484375 51.41424179077149 1060 84.06305555555555\n",
      "ride_id, driver_id, clickhouse_time, source_lat, source_lng, dest_lat, dest_lng, a_t_a_result.ride_a_t_a, hour\n",
      "5605261834 3672815 2023-01-03 11:44:51 35.70762634277344 51.41378021240234 35.70759582519531 51.41389846801758 436 84.49388888888889\n",
      "ride_id, driver_id, clickhouse_time, source_lat, source_lng, dest_lat, dest_lng, a_t_a_result.ride_a_t_a, hour\n",
      "5605212570 4470242 2023-01-03 11:50:50 35.70743560791016 51.413692474365234 35.70743560791016 51.413692474365234 845 84.37416666666667\n",
      "ride_id, driver_id, clickhouse_time, source_lat, source_lng, dest_lat, dest_lng, a_t_a_result.ride_a_t_a, hour\n",
      "5605257105 21569 2023-01-03 11:46:17 35.70664596557617 51.41356658935547 35.70664978027344 51.414154052734375 765 84.48333333333333\n",
      "ride_id, driver_id, clickhouse_time, source_lat, source_lng, dest_lat, dest_lng, a_t_a_result.ride_a_t_a, hour\n",
      "5605377486 3672815 2023-01-03 11:54:43 35.70772171020508 51.41508865356445 35.70775604248047 51.41524887084961 239 84.76333333333334\n",
      "ride_id, driver_id, clickhouse_time, source_lat, source_lng, dest_lat, dest_lng, a_t_a_result.ride_a_t_a, hour\n",
      "5605548975 4470242 2023-01-03 12:18:23 35.70756149291992 51.413604736328125 35.70751190185547 51.41360092163086 252 85.1575\n",
      "ride_id, driver_id, clickhouse_time, source_lat, source_lng, dest_lat, dest_lng, a_t_a_result.ride_a_t_a, hour\n",
      "5605583974 171359 2023-01-03 12:35:38 35.707611083984375 51.41373825073242 35.707611083984375 51.41373825073242 627 85.2425\n",
      "ride_id, driver_id, clickhouse_time, source_lat, source_lng, dest_lat, dest_lng, a_t_a_result.ride_a_t_a, hour\n",
      "5605813962 22045 2023-01-03 13:10:08 35.70763397216797 51.41393280029297 35.707645416259766 51.41415023803711 653 85.78916666666667\n",
      "ride_id, driver_id, clickhouse_time, source_lat, source_lng, dest_lat, dest_lng, a_t_a_result.ride_a_t_a, hour\n",
      "5606125693 171359 2023-01-03 13:49:51 35.707611083984375 51.41373825073242 35.707611083984375 51.41373825073242 499 86.54472222222222\n",
      "ride_id, driver_id, clickhouse_time, source_lat, source_lng, dest_lat, dest_lng, a_t_a_result.ride_a_t_a, hour\n",
      "5606329650 171359 2023-01-03 14:17:05 35.707611083984375 51.41373825073242 35.707611083984375 51.41373825073242 419 87.03833333333333\n",
      "ride_id, driver_id, clickhouse_time, source_lat, source_lng, dest_lat, dest_lng, a_t_a_result.ride_a_t_a, hour\n",
      "5606390018 35977 2023-01-03 14:20:31 35.70757293701172 51.41370391845703 35.70753479003906 51.413673400878906 432 87.19111111111111\n",
      "ride_id, driver_id, clickhouse_time, source_lat, source_lng, dest_lat, dest_lng, a_t_a_result.ride_a_t_a, hour\n",
      "5606428546 171359 2023-01-03 14:23:58 35.707611083984375 51.41373825073242 35.707611083984375 51.41373825073242 154 87.29083333333334\n",
      "ride_id, driver_id, clickhouse_time, source_lat, source_lng, dest_lat, dest_lng, a_t_a_result.ride_a_t_a, hour\n",
      "5606467722 171359 2023-01-03 14:36:21 35.707611083984375 51.41373825073242 35.707611083984375 51.41373825073242 380 87.39305555555555\n",
      "ride_id, driver_id, clickhouse_time, source_lat, source_lng, dest_lat, dest_lng, a_t_a_result.ride_a_t_a, hour\n",
      "5606450704 35977 2023-01-03 14:39:45 35.70762252807617 51.41375350952149 35.70746612548828 51.41371536254883 583 87.34861111111111\n",
      "ride_id, driver_id, clickhouse_time, source_lat, source_lng, dest_lat, dest_lng, a_t_a_result.ride_a_t_a, hour\n",
      "5606594750 35977 2023-01-03 15:14:13 35.707496643066406 51.413692474365234 35.707542419433594 51.413692474365234 917 87.71333333333334\n",
      "ride_id, driver_id, clickhouse_time, source_lat, source_lng, dest_lat, dest_lng, a_t_a_result.ride_a_t_a, hour\n",
      "5610192384 1758869 2023-01-04 06:57:05 35.707672119140625 51.41447448730469 35.70766830444336 51.41442489624024 322 103.76333333333334\n",
      "ride_id, driver_id, clickhouse_time, source_lat, source_lng, dest_lat, dest_lng, a_t_a_result.ride_a_t_a, hour\n",
      "5610448367 4470242 2023-01-04 07:51:47 35.70743179321289 51.41367721557617 35.70738983154297 51.41377639770508 215 104.72361111111111\n",
      "ride_id, driver_id, clickhouse_time, source_lat, source_lng, dest_lat, dest_lng, a_t_a_result.ride_a_t_a, hour\n",
      "5610449693 813113 2023-01-04 07:55:39 35.707664489746094 51.41442108154297 35.70766067504883 51.41436767578125 376 104.72722222222222\n",
      "ride_id, driver_id, clickhouse_time, source_lat, source_lng, dest_lat, dest_lng, a_t_a_result.ride_a_t_a, hour\n",
      "5610520952 1291685 2023-01-04 08:09:57 35.70762634277344 51.41378784179688 35.70772933959961 51.41454315185547 412 104.93555555555555\n",
      "ride_id, driver_id, clickhouse_time, source_lat, source_lng, dest_lat, dest_lng, a_t_a_result.ride_a_t_a, hour\n",
      "5610525624 2105275 2023-01-04 08:06:09 35.70772933959961 51.41510772705078 35.7077751159668 51.41530227661133 324 104.95\n",
      "ride_id, driver_id, clickhouse_time, source_lat, source_lng, dest_lat, dest_lng, a_t_a_result.ride_a_t_a, hour\n",
      "5610499708 156318 2023-01-04 08:16:33 35.70762634277344 51.41385269165039 35.70762634277344 51.41385269165039 704 104.8711111111111\n",
      "ride_id, driver_id, clickhouse_time, source_lat, source_lng, dest_lat, dest_lng, a_t_a_result.ride_a_t_a, hour\n",
      "5610567793 4470242 2023-01-04 08:21:54 35.70750045776367 51.41371154785156 35.70753860473633 51.41365432739258 604 105.07527777777777\n",
      "ride_id, driver_id, clickhouse_time, source_lat, source_lng, dest_lat, dest_lng, a_t_a_result.ride_a_t_a, hour\n",
      "5610627492 1291685 2023-01-04 08:24:37 35.70772933959961 51.41454315185547 35.70774459838867 51.41487884521485 272 105.2475\n",
      "ride_id, driver_id, clickhouse_time, source_lat, source_lng, dest_lat, dest_lng, a_t_a_result.ride_a_t_a, hour\n",
      "5610600109 1298057 2023-01-04 08:27:20 35.7076416015625 51.41409683227539 35.7076416015625 51.41409683227539 512 105.16833333333334\n",
      "ride_id, driver_id, clickhouse_time, source_lat, source_lng, dest_lat, dest_lng, a_t_a_result.ride_a_t_a, hour\n",
      "5610675944 4470242 2023-01-04 08:39:31 35.70750427246094 51.4137077331543 35.70745849609375 51.41368103027344 456 105.385\n",
      "ride_id, driver_id, clickhouse_time, source_lat, source_lng, dest_lat, dest_lng, a_t_a_result.ride_a_t_a, hour\n",
      "5610734836 1727237 2023-01-04 08:40:52 35.70761489868164 51.41377639770508 35.707611083984375 51.41376876831055 227 105.5475\n",
      "ride_id, driver_id, clickhouse_time, source_lat, source_lng, dest_lat, dest_lng, a_t_a_result.ride_a_t_a, hour\n",
      "5610800156 346826 2023-01-04 08:53:11 35.70766830444336 51.41439056396485 35.70766830444336 51.41439056396485 269 105.72166666666666\n",
      "ride_id, driver_id, clickhouse_time, source_lat, source_lng, dest_lat, dest_lng, a_t_a_result.ride_a_t_a, hour\n",
      "5610807404 35977 2023-01-04 08:53:11 35.70753860473633 51.41367721557617 35.707462310791016 51.4135856628418 228 105.74\n",
      "ride_id, driver_id, clickhouse_time, source_lat, source_lng, dest_lat, dest_lng, a_t_a_result.ride_a_t_a, hour\n",
      "5610825870 145509 2023-01-04 08:55:59 35.707550048828125 51.413665771484375 35.70746612548828 51.41347885131836 240 105.7863888888889\n",
      "ride_id, driver_id, clickhouse_time, source_lat, source_lng, dest_lat, dest_lng, a_t_a_result.ride_a_t_a, hour\n",
      "5610896018 22045 2023-01-04 09:04:15 35.70764923095703 51.4141845703125 35.70766830444336 51.41427612304688 190 105.95805555555556\n",
      "ride_id, driver_id, clickhouse_time, source_lat, source_lng, dest_lat, dest_lng, a_t_a_result.ride_a_t_a, hour\n",
      "5610868209 35977 2023-01-04 09:00:06 35.707489013671875 51.4136962890625 35.70750045776367 51.41363525390625 180 105.89\n",
      "ride_id, driver_id, clickhouse_time, source_lat, source_lng, dest_lat, dest_lng, a_t_a_result.ride_a_t_a, hour\n",
      "5610894943 4470242 2023-01-04 09:12:44 35.70738983154297 51.41356658935547 35.70751953125 51.41375350952149 742 105.95472222222222\n",
      "ride_id, driver_id, clickhouse_time, source_lat, source_lng, dest_lat, dest_lng, a_t_a_result.ride_a_t_a, hour\n",
      "5610971029 35977 2023-01-04 09:14:03 35.70760726928711 51.41375732421875 35.7075309753418 51.41374206542969 148 106.14083333333333\n",
      "ride_id, driver_id, clickhouse_time, source_lat, source_lng, dest_lat, dest_lng, a_t_a_result.ride_a_t_a, hour\n",
      "5611045751 35977 2023-01-04 09:25:27 35.70752716064453 51.41367721557617 35.70755386352539 51.41374206542969 144 106.3225\n",
      "ride_id, driver_id, clickhouse_time, source_lat, source_lng, dest_lat, dest_lng, a_t_a_result.ride_a_t_a, hour\n",
      "5611089819 171359 2023-01-04 09:38:19 35.707611083984375 51.41373825073242 35.707611083984375 51.41373825073242 348 106.42472222222223\n",
      "ride_id, driver_id, clickhouse_time, source_lat, source_lng, dest_lat, dest_lng, a_t_a_result.ride_a_t_a, hour\n",
      "5611080180 4470242 2023-01-04 09:44:02 35.70745849609375 51.41371154785156 35.707462310791016 51.41360855102539 567 106.40305555555555\n",
      "ride_id, driver_id, clickhouse_time, source_lat, source_lng, dest_lat, dest_lng, a_t_a_result.ride_a_t_a, hour\n",
      "5611200540 205222 2023-01-04 09:45:26 35.70664596557617 51.41532897949219 35.706573486328125 51.415313720703125 142 106.66916666666667\n",
      "ride_id, driver_id, clickhouse_time, source_lat, source_lng, dest_lat, dest_lng, a_t_a_result.ride_a_t_a, hour\n",
      "5611190180 1248862 2023-01-04 09:49:51 35.70753479003906 51.41357803344727 35.70759963989258 51.413570404052734 291 106.6463888888889\n",
      "ride_id, driver_id, clickhouse_time, source_lat, source_lng, dest_lat, dest_lng, a_t_a_result.ride_a_t_a, hour\n",
      "5611163362 145509 2023-01-04 09:48:25 35.707618713378906 51.41353225708008 35.707523345947266 51.41351318359375 352 106.58805555555556\n",
      "ride_id, driver_id, clickhouse_time, source_lat, source_lng, dest_lat, dest_lng, a_t_a_result.ride_a_t_a, hour\n",
      "5611349128 4470242 2023-01-04 10:10:41 35.707542419433594 51.41362762451172 35.70746994018555 51.413719177246094 331 106.99333333333334\n",
      "ride_id, driver_id, clickhouse_time, source_lat, source_lng, dest_lat, dest_lng, a_t_a_result.ride_a_t_a, hour\n",
      "5611348998 171359 2023-01-04 10:09:10 35.707611083984375 51.41373825073242 35.707611083984375 51.41373825073242 266 106.99305555555556\n",
      "ride_id, driver_id, clickhouse_time, source_lat, source_lng, dest_lat, dest_lng, a_t_a_result.ride_a_t_a, hour\n",
      "5611473318 4470242 2023-01-04 10:28:30 35.70746612548828 51.4137077331543 35.707515716552734 51.4136848449707 316 107.28305555555555\n",
      "ride_id, driver_id, clickhouse_time, source_lat, source_lng, dest_lat, dest_lng, a_t_a_result.ride_a_t_a, hour\n",
      "5611587402 171359 2023-01-04 10:40:31 35.707611083984375 51.41373825073242 35.707611083984375 51.41373825073242 221 107.54527777777778\n",
      "ride_id, driver_id, clickhouse_time, source_lat, source_lng, dest_lat, dest_lng, a_t_a_result.ride_a_t_a, hour\n",
      "5611501753 813113 2023-01-04 10:40:31 35.70673370361328 51.41632461547852 35.70672607421875 51.41637420654297 803 107.34916666666666\n",
      "ride_id, driver_id, clickhouse_time, source_lat, source_lng, dest_lat, dest_lng, a_t_a_result.ride_a_t_a, hour\n",
      "5611345001 34520 2023-01-04 11:04:35 35.706642150878906 51.413516998291016 35.70669937133789 51.41312789916992 3536 106.99666666666667\n",
      "ride_id, driver_id, clickhouse_time, source_lat, source_lng, dest_lat, dest_lng, a_t_a_result.ride_a_t_a, hour\n",
      "5611634652 156318 2023-01-04 11:15:06 35.70743560791016 51.41374969482422 35.70754623413086 51.41356658935547 1078 107.65194444444444\n",
      "ride_id, driver_id, clickhouse_time, source_lat, source_lng, dest_lat, dest_lng, a_t_a_result.ride_a_t_a, hour\n",
      "5611797870 171359 2023-01-04 11:16:33 35.707611083984375 51.41373825073242 35.707611083984375 51.41373825073242 413 108.02\n",
      "ride_id, driver_id, clickhouse_time, source_lat, source_lng, dest_lat, dest_lng, a_t_a_result.ride_a_t_a, hour\n",
      "5611860109 4470242 2023-01-04 11:24:08 35.70762252807617 51.413700103759766 35.70762252807617 51.413700103759766 388 108.16194444444444\n",
      "ride_id, driver_id, clickhouse_time, source_lat, source_lng, dest_lat, dest_lng, a_t_a_result.ride_a_t_a, hour\n",
      "5611921699 35977 2023-01-04 11:25:44 35.707618713378906 51.41387176513672 35.707618713378906 51.41387176513672 189 108.30305555555556\n",
      "ride_id, driver_id, clickhouse_time, source_lat, source_lng, dest_lat, dest_lng, a_t_a_result.ride_a_t_a, hour\n",
      "5611976027 35977 2023-01-04 11:33:21 35.707618713378906 51.41387176513672 35.707618713378906 51.41387176513672 214 108.42527777777778\n",
      "ride_id, driver_id, clickhouse_time, source_lat, source_lng, dest_lat, dest_lng, a_t_a_result.ride_a_t_a, hour\n",
      "5611969168 4470242 2023-01-04 11:36:25 35.70762252807617 51.413700103759766 35.70762252807617 51.413700103759766 312 108.41055555555556\n",
      "ride_id, driver_id, clickhouse_time, source_lat, source_lng, dest_lat, dest_lng, a_t_a_result.ride_a_t_a, hour\n",
      "5612067749 4470242 2023-01-04 11:52:00 35.70762252807617 51.413700103759766 35.70762252807617 51.413700103759766 396 108.62444444444445\n",
      "ride_id, driver_id, clickhouse_time, source_lat, source_lng, dest_lat, dest_lng, a_t_a_result.ride_a_t_a, hour\n",
      "5612118267 20655 2023-01-04 12:00:23 35.70763397216797 51.41398239135742 35.70763397216797 51.41398239135742 472 108.73055555555555\n",
      "ride_id, driver_id, clickhouse_time, source_lat, source_lng, dest_lat, dest_lng, a_t_a_result.ride_a_t_a, hour\n",
      "5612166687 35977 2023-01-04 12:05:05 35.707618713378906 51.41387176513672 35.707496643066406 51.413604736328125 436 108.83\n",
      "ride_id, driver_id, clickhouse_time, source_lat, source_lng, dest_lat, dest_lng, a_t_a_result.ride_a_t_a, hour\n",
      "5612209090 4470242 2023-01-04 12:08:22 35.70762252807617 51.413700103759766 35.70762252807617 51.413700103759766 367 108.9175\n",
      "ride_id, driver_id, clickhouse_time, source_lat, source_lng, dest_lat, dest_lng, a_t_a_result.ride_a_t_a, hour\n",
      "5612663736 167062 2023-01-04 13:04:35 35.706905364990234 51.41535568237305 35.706722259521484 51.415164947509766 494 109.91166666666666\n",
      "ride_id, driver_id, clickhouse_time, source_lat, source_lng, dest_lat, dest_lng, a_t_a_result.ride_a_t_a, hour\n",
      "5612798635 21569 2023-01-04 13:18:40 35.70769500732422 51.41425323486328 35.707706451416016 51.41473388671875 203 110.20694444444445\n",
      "ride_id, driver_id, clickhouse_time, source_lat, source_lng, dest_lat, dest_lng, a_t_a_result.ride_a_t_a, hour\n",
      "5612845869 21569 2023-01-04 13:28:16 35.707706451416016 51.41473388671875 35.70766067504883 51.41440963745117 267 110.31194444444445\n",
      "ride_id, driver_id, clickhouse_time, source_lat, source_lng, dest_lat, dest_lng, a_t_a_result.ride_a_t_a, hour\n",
      "5612929767 21569 2023-01-04 13:50:22 35.707740783691406 51.41503143310547 35.70769500732422 51.41449737548828 795 110.50055555555555\n"
     ]
    }
   ],
   "source": [
    "for index, row in hafez.iterrows():\n",
    "    print('ride_id, driver_id, clickhouse_time, source_lat, source_lng, dest_lat, dest_lng, a_t_a_result.ride_a_t_a, hour')\n",
    "    print(row['ride_id'], row['driver_id'], row['clickhouse_time'], row['source_lat'], row['source_lng'], row['dest_lat'], row['dest_lng'], row['a_t_a_result.ride_a_t_a'], row['hour'])"
   ],
   "metadata": {
    "collapsed": false,
    "pycharm": {
     "name": "#%%\n"
    }
   }
  },
  {
   "cell_type": "code",
   "execution_count": null,
   "outputs": [],
   "source": [
    "ride_id, driver_id, clickhouse_time, source_lat, source_lng, dest_lat, dest_lng, a_t_a_result.ride_a_t_a, hour\n",
    "5599457207 21569 2023-01-02 13:58:05 35.70716094970703 51.41486358642578 35.707176208496094 51.41504287719727 1138 62.60583333333334\n",
    "\n",
    "ride_id, driver_id, clickhouse_time, source_lat, source_lng, dest_lat, dest_lng, a_t_a_result.ride_a_t_a, hour\n",
    "5605087851 21569 2023-01-03 11:28:07 35.70669937133789 51.41505813598633 35.706634521484375 51.41424179077149 1060 84.06305555555555\n",
    "\n",
    "ride_id, driver_id, clickhouse_time, source_lat, source_lng, dest_lat, dest_lng, a_t_a_result.ride_a_t_a, hour\n",
    "5611345001 34520 2023-01-04 11:04:35 35.706642150878906 51.413516998291016 35.70669937133789 51.41312789916992 3536 106.99666666666667\n",
    "\n",
    "ride_id, driver_id, clickhouse_time, source_lat, source_lng, dest_lat, dest_lng, a_t_a_result.ride_a_t_a, hour\n",
    "5611634652 156318 2023-01-04 11:15:06 35.70743560791016 51.41374969482422 35.70754623413086 51.41356658935547 1078 107.65194444444444\n",
    "\n"
   ],
   "metadata": {
    "collapsed": false,
    "pycharm": {
     "name": "#%%\n"
    }
   }
  },
  {
   "cell_type": "code",
   "execution_count": null,
   "outputs": [],
   "source": [],
   "metadata": {
    "collapsed": false,
    "pycharm": {
     "name": "#%%\n"
    }
   }
  },
  {
   "cell_type": "code",
   "execution_count": null,
   "outputs": [],
   "source": [],
   "metadata": {
    "collapsed": false,
    "pycharm": {
     "name": "#%%\n"
    }
   }
  },
  {
   "cell_type": "code",
   "execution_count": null,
   "outputs": [],
   "source": [],
   "metadata": {
    "collapsed": false,
    "pycharm": {
     "name": "#%%\n"
    }
   }
  },
  {
   "cell_type": "code",
   "execution_count": 37,
   "outputs": [
    {
     "data": {
      "text/plain": "94"
     },
     "execution_count": 37,
     "metadata": {},
     "output_type": "execute_result"
    }
   ],
   "source": [
    "hafez['a_t_a_result.ride_a_t_a'].min()"
   ],
   "metadata": {
    "collapsed": false,
    "pycharm": {
     "name": "#%%\n"
    }
   }
  },
  {
   "cell_type": "code",
   "execution_count": null,
   "outputs": [],
   "source": [],
   "metadata": {
    "collapsed": false,
    "pycharm": {
     "name": "#%%\n"
    }
   }
  },
  {
   "cell_type": "code",
   "execution_count": 51,
   "outputs": [
    {
     "data": {
      "text/plain": "           ride_id  driver_id      clickhouse_time      source_h3_9  \\\n221720  5466684604      71996  2022-12-13 14:14:58  892cf30226fffff   \n225322  5467107742    4080597  2022-12-13 14:49:50  892cf30226fffff   \n456318  5477231175      77924  2022-12-14 22:15:36  892cf30226fffff   \n212143  5491458576    4565229  2022-12-17 13:56:30  892cf30226fffff   \n7962    5495359129     376156  2022-12-18 03:49:40  892cf30226fffff   \n231507  5498356475     522645  2022-12-18 14:53:07  892cf30226fffff   \n6444    5502090175      46381  2022-12-19 01:29:58  892cf30226fffff   \n141423  5503730854    4188621  2022-12-19 11:28:27  892cf30226fffff   \n198485  5504665627    4071861  2022-12-19 13:33:22  892cf30226fffff   \n131427  5540712246      22305  2022-12-24 19:53:49  892cf30226fffff   \n156616  5546105655    3193495  2022-12-25 10:19:34  892cf30226fffff   \n169814  5546593271       1314  2022-12-25 11:29:51  892cf30226fffff   \n248465  5547058217    3439380  2022-12-25 12:27:47  892cf30226fffff   \n341322  5548544437    1085947  2022-12-25 15:37:35  892cf30226fffff   \n4886    5551924706    4639522  2022-12-26 01:54:07  892cf30226fffff   \n215087  5554566550    4486327  2022-12-26 13:09:44  892cf30226fffff   \n227176  5555544497    2654664  2022-12-26 14:51:05  892cf30226fffff   \n234790  5599537757    4592042  2023-01-02 14:18:22  892cf30226fffff   \n318325  5601112827     163217  2023-01-02 17:57:41  892cf30226fffff   \n11418   5610108121       6171  2023-01-04 06:16:19  892cf30226fffff   \n77467   5611059770     879475  2023-01-04 09:48:25  892cf30226fffff   \n206453  5612814218    1502040  2023-01-04 13:45:32  892cf30226fffff   \n\n              dest_h3_9  source_lat  source_lng   dest_lat   dest_lng  \\\n221720  892cf30226fffff   35.776077   51.382401  35.775963  51.382301   \n225322  892cf30226fffff   35.775379   51.379547  35.775421  51.379776   \n456318  892cf30226fffff   35.776566   51.379959  35.776600  51.380219   \n212143  892cf30226fffff   35.775963   51.382217  35.775986  51.382042   \n7962    892cf30226fffff   35.776703   51.380089  35.776630  51.380135   \n231507  892cf30226fffff   35.775417   51.379589  35.775417  51.379444   \n6444    892cf30226fffff   35.776661   51.380085  35.776680  51.380116   \n141423  892cf30226fffff   35.774654   51.379402  35.774872  51.379681   \n198485  892cf30226fffff   35.775826   51.381775  35.775772  51.381649   \n131427  892cf30226fffff   35.774700   51.379177  35.774796  51.379379   \n156616  892cf30226fffff   35.776661   51.380333  35.776661  51.380299   \n169814  892cf30226fffff   35.775341   51.381916  35.775639  51.381828   \n248465  892cf30226fffff   35.774197   51.381786  35.774166  51.381638   \n341322  892cf30226fffff   35.775806   51.381474  35.776024  51.382328   \n4886    892cf30226fffff   35.776588   51.380104  35.776684  51.380409   \n215087  892cf30226fffff   35.776688   51.380478  35.776585  51.381565   \n227176  892cf30226fffff   35.774715   51.379055  35.774712  51.379211   \n234790  892cf30226fffff   35.776028   51.382195  35.775887  51.381794   \n318325  892cf30226fffff   35.776043   51.382088  35.775894  51.382111   \n11418   892cf30226fffff   35.776527   51.380116  35.776627  51.380272   \n77467   892cf30226fffff   35.776218   51.378742  35.776306  51.378696   \n206453  892cf30226fffff   35.776012   51.382359  35.775982  51.382389   \n\n        a_t_a_result.ride_a_t_a        hour  \n221720                     1296  124.500000  \n225322                     1489  124.500000  \n456318                     1664  124.500000  \n212143                     1588  124.500000  \n7962                       1484  124.500000  \n231507                     1401  124.500000  \n6444                       1593  124.500000  \n141423                     1533  124.500000  \n198485                     1223  124.500000  \n131427                     1696   15.289444  \n156616                     1460   34.809167  \n169814                     1665   35.954722  \n248465                     1516   36.989167  \n341322                     1488   40.095833  \n4886                       1364   50.362222  \n215087                     1692   61.349167  \n227176                     1608   63.271389  \n234790                     1476   62.814722  \n318325                     1604   66.350833  \n11418                      1420  102.768889  \n77467                      1286  106.361667  \n206453                     1572  110.255278  ",
      "text/html": "<div>\n<style scoped>\n    .dataframe tbody tr th:only-of-type {\n        vertical-align: middle;\n    }\n\n    .dataframe tbody tr th {\n        vertical-align: top;\n    }\n\n    .dataframe thead th {\n        text-align: right;\n    }\n</style>\n<table border=\"1\" class=\"dataframe\">\n  <thead>\n    <tr style=\"text-align: right;\">\n      <th></th>\n      <th>ride_id</th>\n      <th>driver_id</th>\n      <th>clickhouse_time</th>\n      <th>source_h3_9</th>\n      <th>dest_h3_9</th>\n      <th>source_lat</th>\n      <th>source_lng</th>\n      <th>dest_lat</th>\n      <th>dest_lng</th>\n      <th>a_t_a_result.ride_a_t_a</th>\n      <th>hour</th>\n    </tr>\n  </thead>\n  <tbody>\n    <tr>\n      <th>221720</th>\n      <td>5466684604</td>\n      <td>71996</td>\n      <td>2022-12-13 14:14:58</td>\n      <td>892cf30226fffff</td>\n      <td>892cf30226fffff</td>\n      <td>35.776077</td>\n      <td>51.382401</td>\n      <td>35.775963</td>\n      <td>51.382301</td>\n      <td>1296</td>\n      <td>124.500000</td>\n    </tr>\n    <tr>\n      <th>225322</th>\n      <td>5467107742</td>\n      <td>4080597</td>\n      <td>2022-12-13 14:49:50</td>\n      <td>892cf30226fffff</td>\n      <td>892cf30226fffff</td>\n      <td>35.775379</td>\n      <td>51.379547</td>\n      <td>35.775421</td>\n      <td>51.379776</td>\n      <td>1489</td>\n      <td>124.500000</td>\n    </tr>\n    <tr>\n      <th>456318</th>\n      <td>5477231175</td>\n      <td>77924</td>\n      <td>2022-12-14 22:15:36</td>\n      <td>892cf30226fffff</td>\n      <td>892cf30226fffff</td>\n      <td>35.776566</td>\n      <td>51.379959</td>\n      <td>35.776600</td>\n      <td>51.380219</td>\n      <td>1664</td>\n      <td>124.500000</td>\n    </tr>\n    <tr>\n      <th>212143</th>\n      <td>5491458576</td>\n      <td>4565229</td>\n      <td>2022-12-17 13:56:30</td>\n      <td>892cf30226fffff</td>\n      <td>892cf30226fffff</td>\n      <td>35.775963</td>\n      <td>51.382217</td>\n      <td>35.775986</td>\n      <td>51.382042</td>\n      <td>1588</td>\n      <td>124.500000</td>\n    </tr>\n    <tr>\n      <th>7962</th>\n      <td>5495359129</td>\n      <td>376156</td>\n      <td>2022-12-18 03:49:40</td>\n      <td>892cf30226fffff</td>\n      <td>892cf30226fffff</td>\n      <td>35.776703</td>\n      <td>51.380089</td>\n      <td>35.776630</td>\n      <td>51.380135</td>\n      <td>1484</td>\n      <td>124.500000</td>\n    </tr>\n    <tr>\n      <th>231507</th>\n      <td>5498356475</td>\n      <td>522645</td>\n      <td>2022-12-18 14:53:07</td>\n      <td>892cf30226fffff</td>\n      <td>892cf30226fffff</td>\n      <td>35.775417</td>\n      <td>51.379589</td>\n      <td>35.775417</td>\n      <td>51.379444</td>\n      <td>1401</td>\n      <td>124.500000</td>\n    </tr>\n    <tr>\n      <th>6444</th>\n      <td>5502090175</td>\n      <td>46381</td>\n      <td>2022-12-19 01:29:58</td>\n      <td>892cf30226fffff</td>\n      <td>892cf30226fffff</td>\n      <td>35.776661</td>\n      <td>51.380085</td>\n      <td>35.776680</td>\n      <td>51.380116</td>\n      <td>1593</td>\n      <td>124.500000</td>\n    </tr>\n    <tr>\n      <th>141423</th>\n      <td>5503730854</td>\n      <td>4188621</td>\n      <td>2022-12-19 11:28:27</td>\n      <td>892cf30226fffff</td>\n      <td>892cf30226fffff</td>\n      <td>35.774654</td>\n      <td>51.379402</td>\n      <td>35.774872</td>\n      <td>51.379681</td>\n      <td>1533</td>\n      <td>124.500000</td>\n    </tr>\n    <tr>\n      <th>198485</th>\n      <td>5504665627</td>\n      <td>4071861</td>\n      <td>2022-12-19 13:33:22</td>\n      <td>892cf30226fffff</td>\n      <td>892cf30226fffff</td>\n      <td>35.775826</td>\n      <td>51.381775</td>\n      <td>35.775772</td>\n      <td>51.381649</td>\n      <td>1223</td>\n      <td>124.500000</td>\n    </tr>\n    <tr>\n      <th>131427</th>\n      <td>5540712246</td>\n      <td>22305</td>\n      <td>2022-12-24 19:53:49</td>\n      <td>892cf30226fffff</td>\n      <td>892cf30226fffff</td>\n      <td>35.774700</td>\n      <td>51.379177</td>\n      <td>35.774796</td>\n      <td>51.379379</td>\n      <td>1696</td>\n      <td>15.289444</td>\n    </tr>\n    <tr>\n      <th>156616</th>\n      <td>5546105655</td>\n      <td>3193495</td>\n      <td>2022-12-25 10:19:34</td>\n      <td>892cf30226fffff</td>\n      <td>892cf30226fffff</td>\n      <td>35.776661</td>\n      <td>51.380333</td>\n      <td>35.776661</td>\n      <td>51.380299</td>\n      <td>1460</td>\n      <td>34.809167</td>\n    </tr>\n    <tr>\n      <th>169814</th>\n      <td>5546593271</td>\n      <td>1314</td>\n      <td>2022-12-25 11:29:51</td>\n      <td>892cf30226fffff</td>\n      <td>892cf30226fffff</td>\n      <td>35.775341</td>\n      <td>51.381916</td>\n      <td>35.775639</td>\n      <td>51.381828</td>\n      <td>1665</td>\n      <td>35.954722</td>\n    </tr>\n    <tr>\n      <th>248465</th>\n      <td>5547058217</td>\n      <td>3439380</td>\n      <td>2022-12-25 12:27:47</td>\n      <td>892cf30226fffff</td>\n      <td>892cf30226fffff</td>\n      <td>35.774197</td>\n      <td>51.381786</td>\n      <td>35.774166</td>\n      <td>51.381638</td>\n      <td>1516</td>\n      <td>36.989167</td>\n    </tr>\n    <tr>\n      <th>341322</th>\n      <td>5548544437</td>\n      <td>1085947</td>\n      <td>2022-12-25 15:37:35</td>\n      <td>892cf30226fffff</td>\n      <td>892cf30226fffff</td>\n      <td>35.775806</td>\n      <td>51.381474</td>\n      <td>35.776024</td>\n      <td>51.382328</td>\n      <td>1488</td>\n      <td>40.095833</td>\n    </tr>\n    <tr>\n      <th>4886</th>\n      <td>5551924706</td>\n      <td>4639522</td>\n      <td>2022-12-26 01:54:07</td>\n      <td>892cf30226fffff</td>\n      <td>892cf30226fffff</td>\n      <td>35.776588</td>\n      <td>51.380104</td>\n      <td>35.776684</td>\n      <td>51.380409</td>\n      <td>1364</td>\n      <td>50.362222</td>\n    </tr>\n    <tr>\n      <th>215087</th>\n      <td>5554566550</td>\n      <td>4486327</td>\n      <td>2022-12-26 13:09:44</td>\n      <td>892cf30226fffff</td>\n      <td>892cf30226fffff</td>\n      <td>35.776688</td>\n      <td>51.380478</td>\n      <td>35.776585</td>\n      <td>51.381565</td>\n      <td>1692</td>\n      <td>61.349167</td>\n    </tr>\n    <tr>\n      <th>227176</th>\n      <td>5555544497</td>\n      <td>2654664</td>\n      <td>2022-12-26 14:51:05</td>\n      <td>892cf30226fffff</td>\n      <td>892cf30226fffff</td>\n      <td>35.774715</td>\n      <td>51.379055</td>\n      <td>35.774712</td>\n      <td>51.379211</td>\n      <td>1608</td>\n      <td>63.271389</td>\n    </tr>\n    <tr>\n      <th>234790</th>\n      <td>5599537757</td>\n      <td>4592042</td>\n      <td>2023-01-02 14:18:22</td>\n      <td>892cf30226fffff</td>\n      <td>892cf30226fffff</td>\n      <td>35.776028</td>\n      <td>51.382195</td>\n      <td>35.775887</td>\n      <td>51.381794</td>\n      <td>1476</td>\n      <td>62.814722</td>\n    </tr>\n    <tr>\n      <th>318325</th>\n      <td>5601112827</td>\n      <td>163217</td>\n      <td>2023-01-02 17:57:41</td>\n      <td>892cf30226fffff</td>\n      <td>892cf30226fffff</td>\n      <td>35.776043</td>\n      <td>51.382088</td>\n      <td>35.775894</td>\n      <td>51.382111</td>\n      <td>1604</td>\n      <td>66.350833</td>\n    </tr>\n    <tr>\n      <th>11418</th>\n      <td>5610108121</td>\n      <td>6171</td>\n      <td>2023-01-04 06:16:19</td>\n      <td>892cf30226fffff</td>\n      <td>892cf30226fffff</td>\n      <td>35.776527</td>\n      <td>51.380116</td>\n      <td>35.776627</td>\n      <td>51.380272</td>\n      <td>1420</td>\n      <td>102.768889</td>\n    </tr>\n    <tr>\n      <th>77467</th>\n      <td>5611059770</td>\n      <td>879475</td>\n      <td>2023-01-04 09:48:25</td>\n      <td>892cf30226fffff</td>\n      <td>892cf30226fffff</td>\n      <td>35.776218</td>\n      <td>51.378742</td>\n      <td>35.776306</td>\n      <td>51.378696</td>\n      <td>1286</td>\n      <td>106.361667</td>\n    </tr>\n    <tr>\n      <th>206453</th>\n      <td>5612814218</td>\n      <td>1502040</td>\n      <td>2023-01-04 13:45:32</td>\n      <td>892cf30226fffff</td>\n      <td>892cf30226fffff</td>\n      <td>35.776012</td>\n      <td>51.382359</td>\n      <td>35.775982</td>\n      <td>51.382389</td>\n      <td>1572</td>\n      <td>110.255278</td>\n    </tr>\n  </tbody>\n</table>\n</div>"
     },
     "execution_count": 51,
     "metadata": {},
     "output_type": "execute_result"
    }
   ],
   "source": [
    "tmp[(tmp['source_h3_9'] == '892cf30226fffff') & (tmp['dest_h3_9'] == '892cf30226fffff')]"
   ],
   "metadata": {
    "collapsed": false,
    "pycharm": {
     "name": "#%%\n"
    }
   }
  },
  {
   "cell_type": "code",
   "execution_count": 56,
   "outputs": [
    {
     "data": {
      "text/plain": "           ride_id  driver_id      clickhouse_time      source_h3_9  \\\n21380   5457233876    3196399  2022-12-12 07:04:16  892cf30a0b3ffff   \n182418  5491138944       9858  2022-12-17 13:24:06  892cf30a0b3ffff   \n186592  5491284990     474589  2022-12-17 13:37:45  892cf30a0b3ffff   \n96784   5517644851    2749725  2022-12-21 10:58:43  892cf30a0b3ffff   \n12534   5552046146    2218553  2022-12-26 06:55:08  892cf30a0b3ffff   \n131349  5584629955     413426  2022-12-31 11:14:31  892cf30a0b3ffff   \n136766  5584898828    2488426  2022-12-31 11:46:33  892cf30a0b3ffff   \n226689  5585887868     805705  2022-12-31 14:44:53  892cf30a0b3ffff   \n266661  5586623221    4013633  2022-12-31 20:36:39  892cf30a0b3ffff   \n190514  5599150164     384690  2023-01-02 13:29:58  892cf30a0b3ffff   \n217185  5606356854    3362420  2023-01-03 14:41:22  892cf30a0b3ffff   \n438812  5609315169     838396  2023-01-03 21:49:36  892cf30a0b3ffff   \n14755   5610128770     294076  2023-01-04 06:39:04  892cf30a0b3ffff   \n62227   5611063992    1851729  2023-01-04 09:57:09  892cf30a0b3ffff   \n146502  5611706244     415297  2023-01-04 11:21:03  892cf30a0b3ffff   \n\n              dest_h3_9  source_lat  source_lng   dest_lat   dest_lng  \\\n21380   892cf318dcbffff   35.658943   51.397915  35.704659  51.331310   \n182418  892cf318dcbffff   35.658894   51.398323  35.704544  51.331310   \n186592  892cf318dcbffff   35.659035   51.398426  35.705025  51.331272   \n96784   892cf318dcbffff   35.659149   51.399399  35.702709  51.330105   \n12534   892cf318dcbffff   35.658958   51.397888  35.704884  51.331272   \n131349  892cf318dcbffff   35.658943   51.397949  35.704918  51.331295   \n136766  892cf318dcbffff   35.658909   51.398033  35.704632  51.331322   \n226689  892cf318dcbffff   35.658951   51.397938  35.704895  51.331352   \n266661  892cf318dcbffff   35.658844   51.397991  35.704491  51.331299   \n190514  892cf318dcbffff   35.658897   51.398109  35.705025  51.331326   \n217185  892cf318dcbffff   35.658966   51.398018  35.703663  51.331352   \n438812  892cf318dcbffff   35.658962   51.398121  35.704830  51.331360   \n14755   892cf318dcbffff   35.658962   51.397892  35.705009  51.331280   \n62227   892cf318dcbffff   35.659279   51.398502  35.705017  51.331238   \n146502  892cf318dcbffff   35.658974   51.398155  35.703884  51.331310   \n\n        a_t_a_result.ride_a_t_a        hour  \n21380                      1704  124.500000  \n182418                     1686  124.500000  \n186592                     1481  124.500000  \n96784                      1593  107.498333  \n12534                      1712   55.326944  \n131349                     1619   11.646667  \n136766                     1447   12.263889  \n226689                     1616   14.480833  \n266661                     1688   16.316389  \n190514                     1796   61.895556  \n217185                     1486   87.136667  \n438812                     1576   94.100278  \n14755                      1381  103.166667  \n62227                      1524  106.378333  \n146502                     1664  107.831667  ",
      "text/html": "<div>\n<style scoped>\n    .dataframe tbody tr th:only-of-type {\n        vertical-align: middle;\n    }\n\n    .dataframe tbody tr th {\n        vertical-align: top;\n    }\n\n    .dataframe thead th {\n        text-align: right;\n    }\n</style>\n<table border=\"1\" class=\"dataframe\">\n  <thead>\n    <tr style=\"text-align: right;\">\n      <th></th>\n      <th>ride_id</th>\n      <th>driver_id</th>\n      <th>clickhouse_time</th>\n      <th>source_h3_9</th>\n      <th>dest_h3_9</th>\n      <th>source_lat</th>\n      <th>source_lng</th>\n      <th>dest_lat</th>\n      <th>dest_lng</th>\n      <th>a_t_a_result.ride_a_t_a</th>\n      <th>hour</th>\n    </tr>\n  </thead>\n  <tbody>\n    <tr>\n      <th>21380</th>\n      <td>5457233876</td>\n      <td>3196399</td>\n      <td>2022-12-12 07:04:16</td>\n      <td>892cf30a0b3ffff</td>\n      <td>892cf318dcbffff</td>\n      <td>35.658943</td>\n      <td>51.397915</td>\n      <td>35.704659</td>\n      <td>51.331310</td>\n      <td>1704</td>\n      <td>124.500000</td>\n    </tr>\n    <tr>\n      <th>182418</th>\n      <td>5491138944</td>\n      <td>9858</td>\n      <td>2022-12-17 13:24:06</td>\n      <td>892cf30a0b3ffff</td>\n      <td>892cf318dcbffff</td>\n      <td>35.658894</td>\n      <td>51.398323</td>\n      <td>35.704544</td>\n      <td>51.331310</td>\n      <td>1686</td>\n      <td>124.500000</td>\n    </tr>\n    <tr>\n      <th>186592</th>\n      <td>5491284990</td>\n      <td>474589</td>\n      <td>2022-12-17 13:37:45</td>\n      <td>892cf30a0b3ffff</td>\n      <td>892cf318dcbffff</td>\n      <td>35.659035</td>\n      <td>51.398426</td>\n      <td>35.705025</td>\n      <td>51.331272</td>\n      <td>1481</td>\n      <td>124.500000</td>\n    </tr>\n    <tr>\n      <th>96784</th>\n      <td>5517644851</td>\n      <td>2749725</td>\n      <td>2022-12-21 10:58:43</td>\n      <td>892cf30a0b3ffff</td>\n      <td>892cf318dcbffff</td>\n      <td>35.659149</td>\n      <td>51.399399</td>\n      <td>35.702709</td>\n      <td>51.330105</td>\n      <td>1593</td>\n      <td>107.498333</td>\n    </tr>\n    <tr>\n      <th>12534</th>\n      <td>5552046146</td>\n      <td>2218553</td>\n      <td>2022-12-26 06:55:08</td>\n      <td>892cf30a0b3ffff</td>\n      <td>892cf318dcbffff</td>\n      <td>35.658958</td>\n      <td>51.397888</td>\n      <td>35.704884</td>\n      <td>51.331272</td>\n      <td>1712</td>\n      <td>55.326944</td>\n    </tr>\n    <tr>\n      <th>131349</th>\n      <td>5584629955</td>\n      <td>413426</td>\n      <td>2022-12-31 11:14:31</td>\n      <td>892cf30a0b3ffff</td>\n      <td>892cf318dcbffff</td>\n      <td>35.658943</td>\n      <td>51.397949</td>\n      <td>35.704918</td>\n      <td>51.331295</td>\n      <td>1619</td>\n      <td>11.646667</td>\n    </tr>\n    <tr>\n      <th>136766</th>\n      <td>5584898828</td>\n      <td>2488426</td>\n      <td>2022-12-31 11:46:33</td>\n      <td>892cf30a0b3ffff</td>\n      <td>892cf318dcbffff</td>\n      <td>35.658909</td>\n      <td>51.398033</td>\n      <td>35.704632</td>\n      <td>51.331322</td>\n      <td>1447</td>\n      <td>12.263889</td>\n    </tr>\n    <tr>\n      <th>226689</th>\n      <td>5585887868</td>\n      <td>805705</td>\n      <td>2022-12-31 14:44:53</td>\n      <td>892cf30a0b3ffff</td>\n      <td>892cf318dcbffff</td>\n      <td>35.658951</td>\n      <td>51.397938</td>\n      <td>35.704895</td>\n      <td>51.331352</td>\n      <td>1616</td>\n      <td>14.480833</td>\n    </tr>\n    <tr>\n      <th>266661</th>\n      <td>5586623221</td>\n      <td>4013633</td>\n      <td>2022-12-31 20:36:39</td>\n      <td>892cf30a0b3ffff</td>\n      <td>892cf318dcbffff</td>\n      <td>35.658844</td>\n      <td>51.397991</td>\n      <td>35.704491</td>\n      <td>51.331299</td>\n      <td>1688</td>\n      <td>16.316389</td>\n    </tr>\n    <tr>\n      <th>190514</th>\n      <td>5599150164</td>\n      <td>384690</td>\n      <td>2023-01-02 13:29:58</td>\n      <td>892cf30a0b3ffff</td>\n      <td>892cf318dcbffff</td>\n      <td>35.658897</td>\n      <td>51.398109</td>\n      <td>35.705025</td>\n      <td>51.331326</td>\n      <td>1796</td>\n      <td>61.895556</td>\n    </tr>\n    <tr>\n      <th>217185</th>\n      <td>5606356854</td>\n      <td>3362420</td>\n      <td>2023-01-03 14:41:22</td>\n      <td>892cf30a0b3ffff</td>\n      <td>892cf318dcbffff</td>\n      <td>35.658966</td>\n      <td>51.398018</td>\n      <td>35.703663</td>\n      <td>51.331352</td>\n      <td>1486</td>\n      <td>87.136667</td>\n    </tr>\n    <tr>\n      <th>438812</th>\n      <td>5609315169</td>\n      <td>838396</td>\n      <td>2023-01-03 21:49:36</td>\n      <td>892cf30a0b3ffff</td>\n      <td>892cf318dcbffff</td>\n      <td>35.658962</td>\n      <td>51.398121</td>\n      <td>35.704830</td>\n      <td>51.331360</td>\n      <td>1576</td>\n      <td>94.100278</td>\n    </tr>\n    <tr>\n      <th>14755</th>\n      <td>5610128770</td>\n      <td>294076</td>\n      <td>2023-01-04 06:39:04</td>\n      <td>892cf30a0b3ffff</td>\n      <td>892cf318dcbffff</td>\n      <td>35.658962</td>\n      <td>51.397892</td>\n      <td>35.705009</td>\n      <td>51.331280</td>\n      <td>1381</td>\n      <td>103.166667</td>\n    </tr>\n    <tr>\n      <th>62227</th>\n      <td>5611063992</td>\n      <td>1851729</td>\n      <td>2023-01-04 09:57:09</td>\n      <td>892cf30a0b3ffff</td>\n      <td>892cf318dcbffff</td>\n      <td>35.659279</td>\n      <td>51.398502</td>\n      <td>35.705017</td>\n      <td>51.331238</td>\n      <td>1524</td>\n      <td>106.378333</td>\n    </tr>\n    <tr>\n      <th>146502</th>\n      <td>5611706244</td>\n      <td>415297</td>\n      <td>2023-01-04 11:21:03</td>\n      <td>892cf30a0b3ffff</td>\n      <td>892cf318dcbffff</td>\n      <td>35.658974</td>\n      <td>51.398155</td>\n      <td>35.703884</td>\n      <td>51.331310</td>\n      <td>1664</td>\n      <td>107.831667</td>\n    </tr>\n  </tbody>\n</table>\n</div>"
     },
     "execution_count": 56,
     "metadata": {},
     "output_type": "execute_result"
    }
   ],
   "source": [
    "tmp[(tmp['source_h3_9'] == '892cf30a0b3ffff') & (tmp['dest_h3_9'] == '892cf318dcbffff')]"
   ],
   "metadata": {
    "collapsed": false,
    "pycharm": {
     "name": "#%%\n"
    }
   }
  },
  {
   "cell_type": "code",
   "execution_count": null,
   "outputs": [],
   "source": [
    "tmp[(tmp['source_h3_9'] == '892cf30119bffff') & (tmp['dest_h3_9'] == '892cf30119bffff')]"
   ],
   "metadata": {
    "collapsed": false,
    "pycharm": {
     "name": "#%%\n"
    }
   }
  },
  {
   "cell_type": "code",
   "execution_count": 95,
   "outputs": [
    {
     "data": {
      "text/plain": "          eta   ata  a_t_a_result.ride_a_t_a           created_at  source_lat  \\\n53233    1666  1747                     1652  2022-08-02 09:58:18   35.648270   \n214880   1436  1496                     1412  2022-08-03 23:19:48   35.647678   \n2901645  1285  1164                     1132  2022-08-30 22:37:33   35.647495   \n2905323  1763  1866                     2375  2022-08-30 13:01:38   35.647343   \n2965044  1764  1919                     1899  2022-08-30 08:19:33   35.647854   \n3203059  1706  1722                     1668  2022-09-01 15:54:29   35.647499   \n3337263  1360  1146                     1020  2022-09-03 23:02:07   35.648270   \n3563476  1486  1492                     1468  2022-09-05 06:51:40   35.648270   \n3577018  1478  1797                     1814  2022-09-05 07:04:42   35.648300   \n3597576  1771  2001                     1968  2022-09-05 08:27:50   35.648281   \n3903825  1271  1050                     1052  2022-09-08 23:13:22   35.647495   \n3938645  1237  1239                     1268  2022-09-09 09:46:48   35.648270   \n3981307  1697  2725                     2744  2022-09-10 17:43:32   35.648628   \n\n         source_lng  destination_lat  destination_lng   e_d_d  \\\n53233     51.417419        35.704979        51.331409   0.000   \n214880    51.417366        35.704979        51.331409   0.000   \n2901645   51.417374        35.704979        51.331409   0.000   \n2905323   51.417465        35.704979        51.331409   0.000   \n2965044   51.417343        35.704693        51.331253   0.000   \n3203059   51.417553        35.704979        51.331409  13.824   \n3337263   51.417419        35.704979        51.331409  14.520   \n3563476   51.417419        35.704979        51.331409  14.154   \n3577018   51.417248        35.703419        51.331299  13.976   \n3597576   51.417271        35.704979        51.331409  14.151   \n3903825   51.417503        35.704979        51.331409  12.942   \n3938645   51.417419        35.704979        51.331409  14.520   \n3981307   51.417217        35.704979        51.331409  14.652   \n\n             clickhouse_time        hour  holiday      source_h3_4  \\\n53233    2022-08-02 10:36:38   81.971667        0  892cf30a393ffff   \n214880   2022-08-03 23:47:25  119.330000        0  892cf30a393ffff   \n2901645  2022-08-30 22:59:36   94.625833        0  892cf30a393ffff   \n2905323  2022-08-30 13:49:55   85.027222        0  892cf30a393ffff   \n2965044  2022-08-30 09:04:17   80.325833        0  892cf30a393ffff   \n3203059  2022-09-01 16:24:48  135.908056        0  892cf30a393ffff   \n3337263  2022-09-03 23:25:34   23.035278        0  892cf30a393ffff   \n3563476  2022-09-05 07:21:33   54.861111        0  892cf30a393ffff   \n3577018  2022-09-05 07:40:40   55.078333        0  892cf30a393ffff   \n3597576  2022-09-05 09:03:55   56.463889        0  892cf30a393ffff   \n3903825  2022-09-08 23:35:53  143.222778        0  892cf30a393ffff   \n3938645  2022-09-09 10:19:23  153.780000        0  892cf30a393ffff   \n3981307  2022-09-10 18:42:11   17.725556        0  892cf30a393ffff   \n\n               dest_h3_4  \n53233    892cf318dcbffff  \n214880   892cf318dcbffff  \n2901645  892cf318dcbffff  \n2905323  892cf318dcbffff  \n2965044  892cf318dcbffff  \n3203059  892cf318dcbffff  \n3337263  892cf318dcbffff  \n3563476  892cf318dcbffff  \n3577018  892cf318dcbffff  \n3597576  892cf318dcbffff  \n3903825  892cf318dcbffff  \n3938645  892cf318dcbffff  \n3981307  892cf318dcbffff  ",
      "text/html": "<div>\n<style scoped>\n    .dataframe tbody tr th:only-of-type {\n        vertical-align: middle;\n    }\n\n    .dataframe tbody tr th {\n        vertical-align: top;\n    }\n\n    .dataframe thead th {\n        text-align: right;\n    }\n</style>\n<table border=\"1\" class=\"dataframe\">\n  <thead>\n    <tr style=\"text-align: right;\">\n      <th></th>\n      <th>eta</th>\n      <th>ata</th>\n      <th>a_t_a_result.ride_a_t_a</th>\n      <th>created_at</th>\n      <th>source_lat</th>\n      <th>source_lng</th>\n      <th>destination_lat</th>\n      <th>destination_lng</th>\n      <th>e_d_d</th>\n      <th>clickhouse_time</th>\n      <th>hour</th>\n      <th>holiday</th>\n      <th>source_h3_4</th>\n      <th>dest_h3_4</th>\n    </tr>\n  </thead>\n  <tbody>\n    <tr>\n      <th>53233</th>\n      <td>1666</td>\n      <td>1747</td>\n      <td>1652</td>\n      <td>2022-08-02 09:58:18</td>\n      <td>35.648270</td>\n      <td>51.417419</td>\n      <td>35.704979</td>\n      <td>51.331409</td>\n      <td>0.000</td>\n      <td>2022-08-02 10:36:38</td>\n      <td>81.971667</td>\n      <td>0</td>\n      <td>892cf30a393ffff</td>\n      <td>892cf318dcbffff</td>\n    </tr>\n    <tr>\n      <th>214880</th>\n      <td>1436</td>\n      <td>1496</td>\n      <td>1412</td>\n      <td>2022-08-03 23:19:48</td>\n      <td>35.647678</td>\n      <td>51.417366</td>\n      <td>35.704979</td>\n      <td>51.331409</td>\n      <td>0.000</td>\n      <td>2022-08-03 23:47:25</td>\n      <td>119.330000</td>\n      <td>0</td>\n      <td>892cf30a393ffff</td>\n      <td>892cf318dcbffff</td>\n    </tr>\n    <tr>\n      <th>2901645</th>\n      <td>1285</td>\n      <td>1164</td>\n      <td>1132</td>\n      <td>2022-08-30 22:37:33</td>\n      <td>35.647495</td>\n      <td>51.417374</td>\n      <td>35.704979</td>\n      <td>51.331409</td>\n      <td>0.000</td>\n      <td>2022-08-30 22:59:36</td>\n      <td>94.625833</td>\n      <td>0</td>\n      <td>892cf30a393ffff</td>\n      <td>892cf318dcbffff</td>\n    </tr>\n    <tr>\n      <th>2905323</th>\n      <td>1763</td>\n      <td>1866</td>\n      <td>2375</td>\n      <td>2022-08-30 13:01:38</td>\n      <td>35.647343</td>\n      <td>51.417465</td>\n      <td>35.704979</td>\n      <td>51.331409</td>\n      <td>0.000</td>\n      <td>2022-08-30 13:49:55</td>\n      <td>85.027222</td>\n      <td>0</td>\n      <td>892cf30a393ffff</td>\n      <td>892cf318dcbffff</td>\n    </tr>\n    <tr>\n      <th>2965044</th>\n      <td>1764</td>\n      <td>1919</td>\n      <td>1899</td>\n      <td>2022-08-30 08:19:33</td>\n      <td>35.647854</td>\n      <td>51.417343</td>\n      <td>35.704693</td>\n      <td>51.331253</td>\n      <td>0.000</td>\n      <td>2022-08-30 09:04:17</td>\n      <td>80.325833</td>\n      <td>0</td>\n      <td>892cf30a393ffff</td>\n      <td>892cf318dcbffff</td>\n    </tr>\n    <tr>\n      <th>3203059</th>\n      <td>1706</td>\n      <td>1722</td>\n      <td>1668</td>\n      <td>2022-09-01 15:54:29</td>\n      <td>35.647499</td>\n      <td>51.417553</td>\n      <td>35.704979</td>\n      <td>51.331409</td>\n      <td>13.824</td>\n      <td>2022-09-01 16:24:48</td>\n      <td>135.908056</td>\n      <td>0</td>\n      <td>892cf30a393ffff</td>\n      <td>892cf318dcbffff</td>\n    </tr>\n    <tr>\n      <th>3337263</th>\n      <td>1360</td>\n      <td>1146</td>\n      <td>1020</td>\n      <td>2022-09-03 23:02:07</td>\n      <td>35.648270</td>\n      <td>51.417419</td>\n      <td>35.704979</td>\n      <td>51.331409</td>\n      <td>14.520</td>\n      <td>2022-09-03 23:25:34</td>\n      <td>23.035278</td>\n      <td>0</td>\n      <td>892cf30a393ffff</td>\n      <td>892cf318dcbffff</td>\n    </tr>\n    <tr>\n      <th>3563476</th>\n      <td>1486</td>\n      <td>1492</td>\n      <td>1468</td>\n      <td>2022-09-05 06:51:40</td>\n      <td>35.648270</td>\n      <td>51.417419</td>\n      <td>35.704979</td>\n      <td>51.331409</td>\n      <td>14.154</td>\n      <td>2022-09-05 07:21:33</td>\n      <td>54.861111</td>\n      <td>0</td>\n      <td>892cf30a393ffff</td>\n      <td>892cf318dcbffff</td>\n    </tr>\n    <tr>\n      <th>3577018</th>\n      <td>1478</td>\n      <td>1797</td>\n      <td>1814</td>\n      <td>2022-09-05 07:04:42</td>\n      <td>35.648300</td>\n      <td>51.417248</td>\n      <td>35.703419</td>\n      <td>51.331299</td>\n      <td>13.976</td>\n      <td>2022-09-05 07:40:40</td>\n      <td>55.078333</td>\n      <td>0</td>\n      <td>892cf30a393ffff</td>\n      <td>892cf318dcbffff</td>\n    </tr>\n    <tr>\n      <th>3597576</th>\n      <td>1771</td>\n      <td>2001</td>\n      <td>1968</td>\n      <td>2022-09-05 08:27:50</td>\n      <td>35.648281</td>\n      <td>51.417271</td>\n      <td>35.704979</td>\n      <td>51.331409</td>\n      <td>14.151</td>\n      <td>2022-09-05 09:03:55</td>\n      <td>56.463889</td>\n      <td>0</td>\n      <td>892cf30a393ffff</td>\n      <td>892cf318dcbffff</td>\n    </tr>\n    <tr>\n      <th>3903825</th>\n      <td>1271</td>\n      <td>1050</td>\n      <td>1052</td>\n      <td>2022-09-08 23:13:22</td>\n      <td>35.647495</td>\n      <td>51.417503</td>\n      <td>35.704979</td>\n      <td>51.331409</td>\n      <td>12.942</td>\n      <td>2022-09-08 23:35:53</td>\n      <td>143.222778</td>\n      <td>0</td>\n      <td>892cf30a393ffff</td>\n      <td>892cf318dcbffff</td>\n    </tr>\n    <tr>\n      <th>3938645</th>\n      <td>1237</td>\n      <td>1239</td>\n      <td>1268</td>\n      <td>2022-09-09 09:46:48</td>\n      <td>35.648270</td>\n      <td>51.417419</td>\n      <td>35.704979</td>\n      <td>51.331409</td>\n      <td>14.520</td>\n      <td>2022-09-09 10:19:23</td>\n      <td>153.780000</td>\n      <td>0</td>\n      <td>892cf30a393ffff</td>\n      <td>892cf318dcbffff</td>\n    </tr>\n    <tr>\n      <th>3981307</th>\n      <td>1697</td>\n      <td>2725</td>\n      <td>2744</td>\n      <td>2022-09-10 17:43:32</td>\n      <td>35.648628</td>\n      <td>51.417217</td>\n      <td>35.704979</td>\n      <td>51.331409</td>\n      <td>14.652</td>\n      <td>2022-09-10 18:42:11</td>\n      <td>17.725556</td>\n      <td>0</td>\n      <td>892cf30a393ffff</td>\n      <td>892cf318dcbffff</td>\n    </tr>\n  </tbody>\n</table>\n</div>"
     },
     "execution_count": 95,
     "metadata": {},
     "output_type": "execute_result"
    }
   ],
   "source": [
    "rides_train_p1[(rides_train_p1['source_h3_9'] == '892cf30a393ffff') & (rides_train_p1['dest_h3_9'] == '892cf318dcbffff')]("
   ],
   "metadata": {
    "collapsed": false,
    "pycharm": {
     "name": "#%%\n"
    }
   }
  },
  {
   "cell_type": "code",
   "execution_count": 106,
   "outputs": [],
   "source": [
    "nicki = [1652,\n",
    "1412,\n",
    "1132,\n",
    "2375,\n",
    "1899,\n",
    "1668,\n",
    "1020,\n",
    "1468,\n",
    "1814,\n",
    "1968,\n",
    "1052,\n",
    "1268,\n",
    "2744]"
   ],
   "metadata": {
    "collapsed": false,
    "pycharm": {
     "name": "#%%\n"
    }
   }
  },
  {
   "cell_type": "code",
   "execution_count": 107,
   "outputs": [
    {
     "data": {
      "text/plain": "1533.3"
     },
     "execution_count": 107,
     "metadata": {},
     "output_type": "execute_result"
    }
   ],
   "source": [
    "mean(nicki)"
   ],
   "metadata": {
    "collapsed": false,
    "pycharm": {
     "name": "#%%\n"
    }
   }
  },
  {
   "cell_type": "code",
   "execution_count": null,
   "outputs": [],
   "source": [
    "\n",
    "2375,\n",
    "2744"
   ],
   "metadata": {
    "collapsed": false,
    "pycharm": {
     "name": "#%%\n"
    }
   }
  },
  {
   "cell_type": "code",
   "execution_count": 110,
   "outputs": [
    {
     "data": {
      "text/plain": "2820"
     },
     "execution_count": 110,
     "metadata": {},
     "output_type": "execute_result"
    }
   ],
   "source": [
    "47 * 60"
   ],
   "metadata": {
    "collapsed": false,
    "pycharm": {
     "name": "#%%\n"
    }
   }
  },
  {
   "cell_type": "code",
   "execution_count": 98,
   "outputs": [
    {
     "data": {
      "text/plain": "3.3333333333333335"
     },
     "execution_count": 98,
     "metadata": {},
     "output_type": "execute_result"
    }
   ],
   "source": [
    "200 / 60"
   ],
   "metadata": {
    "collapsed": false,
    "pycharm": {
     "name": "#%%\n"
    }
   }
  },
  {
   "cell_type": "code",
   "execution_count": 75,
   "outputs": [
    {
     "data": {
      "text/plain": "[[-325, -302, -265, -234, -353, -642, 44],\n [-423, -150, 71, -687, -900, 75, -130],\n [-119, -623, 336, 213, -1077, -602, -126, 265],\n [14, 24, 153, -612, -135, 38, 340, 18, -336, -197, 219, -31, -1047],\n [-60, -895, -156, 72, -463, -410],\n [-252, -141, -349, -198, -1335, -185],\n [290, -199, -954, -689, -587, -23, -208]]"
     },
     "execution_count": 75,
     "metadata": {},
     "output_type": "execute_result"
    }
   ],
   "source": [
    "pipeline_err = [item.tolist() for item in pipeline_err]\n",
    "pipeline_err"
   ],
   "metadata": {
    "collapsed": false,
    "pycharm": {
     "name": "#%%\n"
    }
   }
  },
  {
   "cell_type": "code",
   "execution_count": 80,
   "outputs": [
    {
     "data": {
      "text/plain": "[-325,\n -302,\n -265,\n -234,\n -353,\n -642,\n 44,\n -423,\n -150,\n 71,\n -687,\n -900,\n 75,\n -130,\n -119,\n -623,\n 336,\n 213,\n -1077,\n -602,\n -126,\n 265,\n 14,\n 24,\n 153,\n -612,\n -135,\n 38,\n 340,\n 18,\n -336,\n -197,\n 219,\n -31,\n -1047,\n -60,\n -895,\n -156,\n 72,\n -463,\n -410,\n -252,\n -141,\n -349,\n -198,\n -1335,\n -185,\n 290,\n -199,\n -954,\n -689,\n -587,\n -23,\n -208]"
     },
     "execution_count": 80,
     "metadata": {},
     "output_type": "execute_result"
    }
   ],
   "source": [
    "pipeline_err = [item for sublist in pipeline_err for item in sublist]\n",
    "pipeline_err"
   ],
   "metadata": {
    "collapsed": false,
    "pycharm": {
     "name": "#%%\n"
    }
   }
  },
  {
   "cell_type": "code",
   "execution_count": 76,
   "outputs": [],
   "source": [
    "clustering_err = [item.tolist() for item in clustering_err]"
   ],
   "metadata": {
    "collapsed": false,
    "pycharm": {
     "name": "#%%\n"
    }
   }
  },
  {
   "cell_type": "code",
   "execution_count": 82,
   "outputs": [
    {
     "data": {
      "text/plain": "[172.83333333333326,\n 216.0,\n 69.0,\n -232.0,\n -298.5,\n -227.33333333333326,\n 300.0,\n 233.66666666666674,\n 387.66666666666674,\n 411.0,\n -466.33333333333326,\n -923.6666666666667,\n 331.66666666666674,\n 26.0,\n -129.1428571428571,\n -377.1428571428571,\n 450.2857142857142,\n 698.2857142857142,\n -971.4285714285713,\n -454.8571428571429,\n -13.71428571428578,\n 797.7142857142858,\n -0.33333333333325754,\n 259.66666666666674,\n 563.0,\n -783.5833333333333,\n -267.91666666666674,\n -17.666666666666742,\n 684.3333333333333,\n 199.0,\n -175.83333333333326,\n -342.66666666666674,\n 649.6666666666667,\n 415.66666666666674,\n -1183.3333333333333,\n 202.79999999999995,\n -591.5999999999999,\n 472.79999999999995,\n 198.0,\n 88.79999999999995,\n -370.79999999999995,\n 146.79999999999995,\n 211.5999999999999,\n 203.20000000000005,\n 300.4000000000001,\n -1130.0,\n 268.0,\n 600.1666666666667,\n 273.5,\n -720.5,\n -438.16666666666674,\n -426.5,\n 525.5,\n 186.0]"
     },
     "execution_count": 82,
     "metadata": {},
     "output_type": "execute_result"
    }
   ],
   "source": [
    "clustering_err = [item for sublist in clustering_err for item in sublist]\n",
    "clustering_err"
   ],
   "metadata": {
    "collapsed": false,
    "pycharm": {
     "name": "#%%\n"
    }
   }
  },
  {
   "cell_type": "code",
   "execution_count": 83,
   "outputs": [
    {
     "data": {
      "text/plain": "54"
     },
     "execution_count": 83,
     "metadata": {},
     "output_type": "execute_result"
    }
   ],
   "source": [
    "len(clustering_err)"
   ],
   "metadata": {
    "collapsed": false,
    "pycharm": {
     "name": "#%%\n"
    }
   }
  },
  {
   "cell_type": "code",
   "execution_count": 92,
   "outputs": [],
   "source": [
    "from statistics import mean, variance"
   ],
   "metadata": {
    "collapsed": false,
    "pycharm": {
     "name": "#%%\n"
    }
   }
  },
  {
   "cell_type": "code",
   "execution_count": 84,
   "outputs": [],
   "source": [
    "pipeline_err_abs =  [abs(ele) for ele in pipeline_err]"
   ],
   "metadata": {
    "collapsed": false,
    "pycharm": {
     "name": "#%%\n"
    }
   }
  },
  {
   "cell_type": "code",
   "execution_count": 93,
   "outputs": [
    {
     "data": {
      "text/plain": "146917.33612858143"
     },
     "execution_count": 93,
     "metadata": {},
     "output_type": "execute_result"
    }
   ],
   "source": [
    "variance(pipeline_err)"
   ],
   "metadata": {
    "collapsed": false,
    "pycharm": {
     "name": "#%%\n"
    }
   }
  },
  {
   "cell_type": "code",
   "execution_count": 86,
   "outputs": [
    {
     "data": {
      "text/plain": "390.4821869488536"
     },
     "execution_count": 86,
     "metadata": {},
     "output_type": "execute_result"
    }
   ],
   "source": [
    "clustering_err_abs = [abs(ele) for ele in clustering_err]\n",
    "mean(clustering_err_abs)"
   ],
   "metadata": {
    "collapsed": false,
    "pycharm": {
     "name": "#%%\n"
    }
   }
  },
  {
   "cell_type": "code",
   "execution_count": 88,
   "outputs": [],
   "source": [
    "pipeline_err.sort()"
   ],
   "metadata": {
    "collapsed": false,
    "pycharm": {
     "name": "#%%\n"
    }
   }
  },
  {
   "cell_type": "code",
   "execution_count": 94,
   "outputs": [
    {
     "data": {
      "text/plain": "231393.05117849653"
     },
     "execution_count": 94,
     "metadata": {},
     "output_type": "execute_result"
    }
   ],
   "source": [
    "variance(clustering_err)"
   ],
   "metadata": {
    "collapsed": false,
    "pycharm": {
     "name": "#%%\n"
    }
   }
  },
  {
   "cell_type": "code",
   "execution_count": 90,
   "outputs": [],
   "source": [
    "clustering_err.sort()"
   ],
   "metadata": {
    "collapsed": false,
    "pycharm": {
     "name": "#%%\n"
    }
   }
  },
  {
   "cell_type": "code",
   "execution_count": 91,
   "outputs": [
    {
     "data": {
      "text/plain": "[-1183.3333333333333,\n -1130.0,\n -971.4285714285713,\n -923.6666666666667,\n -783.5833333333333,\n -720.5,\n -591.5999999999999,\n -466.33333333333326,\n -454.8571428571429,\n -438.16666666666674,\n -426.5,\n -377.1428571428571,\n -370.79999999999995,\n -342.66666666666674,\n -298.5,\n -267.91666666666674,\n -232.0,\n -227.33333333333326,\n -175.83333333333326,\n -129.1428571428571,\n -17.666666666666742,\n -13.71428571428578,\n -0.33333333333325754,\n 26.0,\n 69.0,\n 88.79999999999995,\n 146.79999999999995,\n 172.83333333333326,\n 186.0,\n 198.0,\n 199.0,\n 202.79999999999995,\n 203.20000000000005,\n 211.5999999999999,\n 216.0,\n 233.66666666666674,\n 259.66666666666674,\n 268.0,\n 273.5,\n 300.0,\n 300.4000000000001,\n 331.66666666666674,\n 387.66666666666674,\n 411.0,\n 415.66666666666674,\n 450.2857142857142,\n 472.79999999999995,\n 525.5,\n 563.0,\n 600.1666666666667,\n 649.6666666666667,\n 684.3333333333333,\n 698.2857142857142,\n 797.7142857142858]"
     },
     "execution_count": 91,
     "metadata": {},
     "output_type": "execute_result"
    }
   ],
   "source": [
    "clustering_err"
   ],
   "metadata": {
    "collapsed": false,
    "pycharm": {
     "name": "#%%\n"
    }
   }
  },
  {
   "cell_type": "code",
   "execution_count": null,
   "outputs": [],
   "source": [],
   "metadata": {
    "collapsed": false,
    "pycharm": {
     "name": "#%%\n"
    }
   }
  },
  {
   "cell_type": "code",
   "execution_count": null,
   "outputs": [],
   "source": [],
   "metadata": {
    "collapsed": false,
    "pycharm": {
     "name": "#%%\n"
    }
   }
  },
  {
   "cell_type": "code",
   "execution_count": 32,
   "outputs": [
    {
     "data": {
      "text/plain": "Series([], Name: hour, dtype: float64)"
     },
     "execution_count": 32,
     "metadata": {},
     "output_type": "execute_result"
    }
   ],
   "source": [
    "rides_train_p1[(rides_train_p1['source_h3_9'] == \"892cf318c6fffff\") & (rides_train_p1['dest_h3_9'] == \"892cf30a0b3ffff\")]['hour'] % 24"
   ],
   "metadata": {
    "collapsed": false,
    "pycharm": {
     "name": "#%%\n"
    }
   }
  },
  {
   "cell_type": "code",
   "execution_count": 38,
   "outputs": [
    {
     "data": {
      "text/plain": "         eta  ata  a_t_a_result.ride_a_t_a           created_at  source_lat  \\\n833913   158  146                      128  2022-09-19 13:39:40   35.692299   \n1232074  208  177                      184  2022-09-23 17:49:25   35.692425   \n1700566  156  154                      163  2022-09-29 22:33:44   35.692219   \n2110905  159  220                      144  2022-10-03 22:42:23   35.692528   \n2162970  196  127                      172  2022-10-04 01:27:08   35.692348   \n2213949  178  142                      248  2022-10-04 22:57:44   35.692284   \n2215768  146  135                      112  2022-10-04 17:03:51   35.692463   \n\n         source_lng  destination_lat  destination_lng  e_d_d  \\\n833913    51.322430        35.688446        51.331120  0.982   \n1232074   51.323063        35.688992        51.330761  0.937   \n1700566   51.322243        35.688496        51.331047  1.001   \n2110905   51.321758        35.689651        51.329826  0.943   \n2162970   51.323105        35.689087        51.330479  0.895   \n2213949   51.321976        35.689098        51.330460  0.993   \n2215768   51.322716        35.689137        51.330883  0.951   \n\n             clickhouse_time        hour  holiday      source_h3_4  \\\n833913   2022-09-19 13:45:24   61.661111        0  892cf318c73ffff   \n1232074  2022-09-23 17:55:24  162.823611        0  892cf318c73ffff   \n1700566  2022-09-29 22:44:08  143.562222        0  892cf318c73ffff   \n2110905  2022-10-03 22:49:17   71.706389        0  892cf318c73ffff   \n2162970  2022-10-04 01:33:30   74.452222        0  892cf318c73ffff   \n2213949  2022-10-04 23:03:05   95.962222        0  892cf318c73ffff   \n2215768  2022-10-04 18:19:08   90.064167        0  892cf318c73ffff   \n\n               dest_h3_4  \n833913   892cf318c6fffff  \n1232074  892cf318c6fffff  \n1700566  892cf318c6fffff  \n2110905  892cf318c6fffff  \n2162970  892cf318c6fffff  \n2213949  892cf318c6fffff  \n2215768  892cf318c6fffff  ",
      "text/html": "<div>\n<style scoped>\n    .dataframe tbody tr th:only-of-type {\n        vertical-align: middle;\n    }\n\n    .dataframe tbody tr th {\n        vertical-align: top;\n    }\n\n    .dataframe thead th {\n        text-align: right;\n    }\n</style>\n<table border=\"1\" class=\"dataframe\">\n  <thead>\n    <tr style=\"text-align: right;\">\n      <th></th>\n      <th>eta</th>\n      <th>ata</th>\n      <th>a_t_a_result.ride_a_t_a</th>\n      <th>created_at</th>\n      <th>source_lat</th>\n      <th>source_lng</th>\n      <th>destination_lat</th>\n      <th>destination_lng</th>\n      <th>e_d_d</th>\n      <th>clickhouse_time</th>\n      <th>hour</th>\n      <th>holiday</th>\n      <th>source_h3_4</th>\n      <th>dest_h3_4</th>\n    </tr>\n  </thead>\n  <tbody>\n    <tr>\n      <th>833913</th>\n      <td>158</td>\n      <td>146</td>\n      <td>128</td>\n      <td>2022-09-19 13:39:40</td>\n      <td>35.692299</td>\n      <td>51.322430</td>\n      <td>35.688446</td>\n      <td>51.331120</td>\n      <td>0.982</td>\n      <td>2022-09-19 13:45:24</td>\n      <td>61.661111</td>\n      <td>0</td>\n      <td>892cf318c73ffff</td>\n      <td>892cf318c6fffff</td>\n    </tr>\n    <tr>\n      <th>1232074</th>\n      <td>208</td>\n      <td>177</td>\n      <td>184</td>\n      <td>2022-09-23 17:49:25</td>\n      <td>35.692425</td>\n      <td>51.323063</td>\n      <td>35.688992</td>\n      <td>51.330761</td>\n      <td>0.937</td>\n      <td>2022-09-23 17:55:24</td>\n      <td>162.823611</td>\n      <td>0</td>\n      <td>892cf318c73ffff</td>\n      <td>892cf318c6fffff</td>\n    </tr>\n    <tr>\n      <th>1700566</th>\n      <td>156</td>\n      <td>154</td>\n      <td>163</td>\n      <td>2022-09-29 22:33:44</td>\n      <td>35.692219</td>\n      <td>51.322243</td>\n      <td>35.688496</td>\n      <td>51.331047</td>\n      <td>1.001</td>\n      <td>2022-09-29 22:44:08</td>\n      <td>143.562222</td>\n      <td>0</td>\n      <td>892cf318c73ffff</td>\n      <td>892cf318c6fffff</td>\n    </tr>\n    <tr>\n      <th>2110905</th>\n      <td>159</td>\n      <td>220</td>\n      <td>144</td>\n      <td>2022-10-03 22:42:23</td>\n      <td>35.692528</td>\n      <td>51.321758</td>\n      <td>35.689651</td>\n      <td>51.329826</td>\n      <td>0.943</td>\n      <td>2022-10-03 22:49:17</td>\n      <td>71.706389</td>\n      <td>0</td>\n      <td>892cf318c73ffff</td>\n      <td>892cf318c6fffff</td>\n    </tr>\n    <tr>\n      <th>2162970</th>\n      <td>196</td>\n      <td>127</td>\n      <td>172</td>\n      <td>2022-10-04 01:27:08</td>\n      <td>35.692348</td>\n      <td>51.323105</td>\n      <td>35.689087</td>\n      <td>51.330479</td>\n      <td>0.895</td>\n      <td>2022-10-04 01:33:30</td>\n      <td>74.452222</td>\n      <td>0</td>\n      <td>892cf318c73ffff</td>\n      <td>892cf318c6fffff</td>\n    </tr>\n    <tr>\n      <th>2213949</th>\n      <td>178</td>\n      <td>142</td>\n      <td>248</td>\n      <td>2022-10-04 22:57:44</td>\n      <td>35.692284</td>\n      <td>51.321976</td>\n      <td>35.689098</td>\n      <td>51.330460</td>\n      <td>0.993</td>\n      <td>2022-10-04 23:03:05</td>\n      <td>95.962222</td>\n      <td>0</td>\n      <td>892cf318c73ffff</td>\n      <td>892cf318c6fffff</td>\n    </tr>\n    <tr>\n      <th>2215768</th>\n      <td>146</td>\n      <td>135</td>\n      <td>112</td>\n      <td>2022-10-04 17:03:51</td>\n      <td>35.692463</td>\n      <td>51.322716</td>\n      <td>35.689137</td>\n      <td>51.330883</td>\n      <td>0.951</td>\n      <td>2022-10-04 18:19:08</td>\n      <td>90.064167</td>\n      <td>0</td>\n      <td>892cf318c73ffff</td>\n      <td>892cf318c6fffff</td>\n    </tr>\n  </tbody>\n</table>\n</div>"
     },
     "execution_count": 38,
     "metadata": {},
     "output_type": "execute_result"
    }
   ],
   "source": [
    "rides_test_p1[(rides_test_p1['source_h3_9'] == \"892cf318c73ffff\") & (rides_test_p1['dest_h3_9'] == \"892cf318c6fffff\")]"
   ],
   "metadata": {
    "collapsed": false,
    "pycharm": {
     "name": "#%%\n"
    }
   }
  },
  {
   "cell_type": "code",
   "execution_count": null,
   "outputs": [],
   "source": [],
   "metadata": {
    "collapsed": false,
    "pycharm": {
     "name": "#%%\n"
    }
   }
  },
  {
   "cell_type": "code",
   "execution_count": null,
   "outputs": [],
   "source": [],
   "metadata": {
    "collapsed": false,
    "pycharm": {
     "name": "#%%\n"
    }
   }
  },
  {
   "cell_type": "code",
   "execution_count": null,
   "outputs": [],
   "source": [],
   "metadata": {
    "collapsed": false,
    "pycharm": {
     "name": "#%%\n"
    }
   }
  },
  {
   "cell_type": "code",
   "execution_count": null,
   "outputs": [],
   "source": [],
   "metadata": {
    "collapsed": false,
    "pycharm": {
     "name": "#%%\n"
    }
   }
  },
  {
   "cell_type": "code",
   "execution_count": null,
   "outputs": [],
   "source": [],
   "metadata": {
    "collapsed": false,
    "pycharm": {
     "name": "#%%\n"
    }
   }
  },
  {
   "cell_type": "code",
   "execution_count": 17,
   "outputs": [],
   "source": [
    "train_p1_geo_x = rides_train_p1[[\"eta\", \"source_lat\", \"source_lng\", \"destination_lat\", \"destination_lng\", \"hour\", \"holiday\"]]\n",
    "# train_p1_h3_x = rides_train_p1[[\"eta\", \"source_h3_9\", \"dest_h3_9\", \"hour\", \"holiday\"]]\n",
    "train_p1_geo_y = rides_train_p1[\"a_t_a_result.ride_a_t_a\"]\n",
    "# train_p1_h3_y = rides_train_p1[\"a_t_a_result.ride_a_t_a\"]"
   ],
   "metadata": {
    "collapsed": false,
    "pycharm": {
     "name": "#%%\n"
    }
   }
  },
  {
   "cell_type": "code",
   "execution_count": 18,
   "outputs": [],
   "source": [
    "test_p1_geo_x = rides_test_p1[[\"eta\", \"source_lat\", \"source_lng\", \"destination_lat\", \"destination_lng\", \"hour\", \"holiday\"]]\n",
    "# test_p1_h3_x = rides_test_p1[[\"eta\", \"source_h3_9\", \"dest_h3_9\", \"hour\", \"holiday\"]]\n",
    "test_p1_geo_y = rides_test_p1[\"a_t_a_result.ride_a_t_a\"]\n",
    "# test_p1_h3_y = rides_test_p1[\"a_t_a_result.ride_a_t_a\"]"
   ],
   "metadata": {
    "collapsed": false,
    "pycharm": {
     "name": "#%%\n"
    }
   }
  },
  {
   "cell_type": "code",
   "execution_count": 19,
   "outputs": [],
   "source": [
    "# dummy_train_rides = pd.get_dummies(train_p1_h3_x, prefix={'source_h3_9':'source_h3_9',\n",
    "#                                                              'dest_h3_9':'dest_h3_9'})\n",
    "# dummy_train_rides.describe()"
   ],
   "metadata": {
    "collapsed": false,
    "pycharm": {
     "name": "#%%\n"
    }
   }
  },
  {
   "cell_type": "code",
   "execution_count": 20,
   "outputs": [],
   "source": [
    "# print(np.count_nonzero(dummy_train_rides, axis=0))\n",
    "# print(dummy_train_rides.columns)"
   ],
   "metadata": {
    "collapsed": false,
    "pycharm": {
     "name": "#%%\n"
    }
   }
  },
  {
   "cell_type": "code",
   "execution_count": 21,
   "outputs": [],
   "source": [
    "# geo_noise = np.count_nonzero(dummy_train_rides, axis=0) < 100\n",
    "#\n",
    "# cols = dummy_train_rides.columns\n",
    "# for col, noise in zip(cols, geo_noise):\n",
    "#     if noise:\n",
    "#         # DOESN'T REINDEX\n",
    "#         # remove the rows where rides_train_p1_x is in the noisy geo (geo is 1)\n",
    "#         train_p1_h3_x = train_p1_h3_x[dummy_train_rides[col] == 0]\n",
    "#         train_p1_h3_y = train_p1_h3_y[dummy_train_rides[col] == 0]\n",
    "#\n",
    "# train_p1_h3_x.describe()"
   ],
   "metadata": {
    "collapsed": false,
    "pycharm": {
     "name": "#%%\n"
    }
   }
  },
  {
   "cell_type": "code",
   "execution_count": 22,
   "outputs": [],
   "source": [
    "# ohe = ColumnTransformer(\n",
    "#     [('OHE', OneHotEncoder(handle_unknown='ignore', sparse=False),['source_h3_9', 'dest_h3_9'])],\n",
    "#     remainder = 'passthrough'\n",
    "#     ).fit(train_p1_h3_x)"
   ],
   "metadata": {
    "collapsed": false,
    "pycharm": {
     "name": "#%%\n"
    }
   }
  },
  {
   "cell_type": "code",
   "execution_count": 23,
   "outputs": [],
   "source": [
    "# ohe.get_feature_names_out()"
   ],
   "metadata": {
    "collapsed": false,
    "pycharm": {
     "name": "#%%\n"
    }
   }
  },
  {
   "cell_type": "code",
   "execution_count": 24,
   "outputs": [],
   "source": [
    "# train_p1_h3_x = ohe.transform(train_p1_h3_x)"
   ],
   "metadata": {
    "collapsed": false,
    "pycharm": {
     "name": "#%%\n"
    }
   }
  },
  {
   "cell_type": "code",
   "execution_count": 25,
   "outputs": [],
   "source": [
    "# test_p1_h3_x = ohe.transform(test_p1_h3_x)"
   ],
   "metadata": {
    "collapsed": false,
    "pycharm": {
     "name": "#%%\n"
    }
   }
  },
  {
   "cell_type": "code",
   "execution_count": 50,
   "outputs": [],
   "source": [
    "rational_index = abs(train_p1_geo_x['eta'] - train_p1_geo_y) < 1800"
   ],
   "metadata": {
    "collapsed": false,
    "pycharm": {
     "name": "#%%\n"
    }
   }
  },
  {
   "cell_type": "code",
   "execution_count": 51,
   "outputs": [],
   "source": [
    "train_p1_geo_x = train_p1_geo_x[rational_index]\n",
    "train_p1_geo_y = train_p1_geo_y[rational_index]"
   ],
   "metadata": {
    "collapsed": false,
    "pycharm": {
     "name": "#%%\n"
    }
   }
  },
  {
   "cell_type": "code",
   "execution_count": 52,
   "outputs": [],
   "source": [
    "test_rational_index = abs(test_p1_geo_x['eta'] - test_p1_geo_y) < 1800\n",
    "test_p1_geo_x = test_p1_geo_x[test_rational_index]\n",
    "test_p1_geo_y = test_p1_geo_y[test_rational_index]"
   ],
   "metadata": {
    "collapsed": false,
    "pycharm": {
     "name": "#%%\n"
    }
   }
  },
  {
   "cell_type": "code",
   "execution_count": 53,
   "outputs": [],
   "source": [
    "train_eta = train_p1_geo_x['eta']\n",
    "test_eta = test_p1_geo_x['eta']\n",
    "\n",
    "# train_p1_geo_x = train_p1_geo_x[[\"source_lat\", \"source_lng\", \"destination_lat\", \"destination_lng\", \"hour\", \"holiday\"]]\n",
    "# test_p1_geo_x = test_p1_geo_x[[\"source_lat\", \"source_lng\", \"destination_lat\", \"destination_lng\", \"hour\", \"holiday\"]]"
   ],
   "metadata": {
    "collapsed": false,
    "pycharm": {
     "name": "#%%\n"
    }
   }
  },
  {
   "cell_type": "code",
   "execution_count": 54,
   "outputs": [],
   "source": [
    "reg_geo_p1 = LinearRegression().fit(train_p1_geo_x, train_p1_geo_y)"
   ],
   "metadata": {
    "collapsed": false,
    "pycharm": {
     "name": "#%%\n"
    }
   }
  },
  {
   "cell_type": "code",
   "execution_count": 55,
   "outputs": [
    {
     "name": "stdout",
     "output_type": "stream",
     "text": [
      "[  1.19995579  60.52077663  19.45155019 429.49508629  84.08659027\n",
      "  -0.43249748 -77.01206346]\n",
      "-22844.89730651855\n"
     ]
    }
   ],
   "source": [
    "print(reg_geo_p1.coef_)\n",
    "print(reg_geo_p1.intercept_)"
   ],
   "metadata": {
    "collapsed": false,
    "pycharm": {
     "name": "#%%\n"
    }
   }
  },
  {
   "cell_type": "code",
   "execution_count": 56,
   "outputs": [],
   "source": [
    "train_pred_geo = reg_geo_p1.predict(train_p1_geo_x)\n",
    "test_pred_geo = reg_geo_p1.predict(test_p1_geo_x)"
   ],
   "metadata": {
    "collapsed": false,
    "pycharm": {
     "name": "#%%\n"
    }
   }
  },
  {
   "cell_type": "code",
   "execution_count": 57,
   "outputs": [
    {
     "name": "stdout",
     "output_type": "stream",
     "text": [
      "ETA train MAE 303.05601677797216\n",
      "prediction train MAE 270.0441347116858\n",
      "ETA test MAE  198.93715245801377\n",
      "prediction test MAE 197.72842098826686\n",
      "ETA train MSE 186311.40376344605\n",
      "prediction train MSE 130232.03449502192\n",
      "ETA test MSE  109690.4659505515\n",
      "prediction test MSE 86595.15998340784\n",
      "ETA train explained_variance_score 0.22988020895077965\n",
      "prediction train explained_variance_score 0.24686168720432022\n",
      "ETA test explained_variance_score  0.8693451809315293\n",
      "prediction test explained_variance_score 0.8768978838276482\n",
      "ETA train median_absolute_error 202.0\n",
      "prediction train median_absolute_error 211.7969343737459\n",
      "ETA test median_absolute_error  103.0\n",
      "prediction test median_absolute_error 130.12398476009366\n",
      "ETA train r2_score -0.07744808586523355\n",
      "prediction train r2_score 0.2468616872043201\n",
      "ETA test r2_score  0.8438239267452461\n",
      "prediction test r2_score 0.8767067681600286\n",
      "ETA train MAPE 0.1617958423506161\n",
      "prediction train MAPE 0.1630260834281298\n",
      "ETA test MAPE  0.18084430516321362\n",
      "prediction test MAPE 0.2158734826585\n"
     ]
    }
   ],
   "source": [
    "print(\"ETA train MAE\", mean_absolute_error(train_p1_geo_y, train_eta))\n",
    "print(\"prediction train MAE\", mean_absolute_error(train_p1_geo_y, train_pred_geo))\n",
    "\n",
    "print(\"ETA test MAE \", mean_absolute_error(test_p1_geo_y, test_eta))\n",
    "print(\"prediction test MAE\", mean_absolute_error(test_p1_geo_y, test_pred_geo))\n",
    "\n",
    "\n",
    "print(\"ETA train MSE\", mean_squared_error(train_p1_geo_y, train_eta))\n",
    "print(\"prediction train MSE\", mean_squared_error(train_p1_geo_y, train_pred_geo))\n",
    "\n",
    "print(\"ETA test MSE \", mean_squared_error(test_p1_geo_y, test_eta))\n",
    "print(\"prediction test MSE\", mean_squared_error(test_p1_geo_y, test_pred_geo))\n",
    "\n",
    "\n",
    "print(\"ETA train explained_variance_score\", explained_variance_score(train_p1_geo_y, train_eta))\n",
    "print(\"prediction train explained_variance_score\", explained_variance_score(train_p1_geo_y, train_pred_geo))\n",
    "\n",
    "print(\"ETA test explained_variance_score \", explained_variance_score(test_p1_geo_y, test_eta))\n",
    "print(\"prediction test explained_variance_score\", explained_variance_score(test_p1_geo_y, test_pred_geo))\n",
    "\n",
    "\n",
    "print(\"ETA train median_absolute_error\", median_absolute_error(train_p1_geo_y, train_eta))\n",
    "print(\"prediction train median_absolute_error\", median_absolute_error(train_p1_geo_y, train_pred_geo))\n",
    "\n",
    "print(\"ETA test median_absolute_error \", median_absolute_error(test_p1_geo_y, test_eta))\n",
    "print(\"prediction test median_absolute_error\", median_absolute_error(test_p1_geo_y, test_pred_geo))\n",
    "\n",
    "\n",
    "print(\"ETA train r2_score\", r2_score(train_p1_geo_y, train_eta))\n",
    "print(\"prediction train r2_score\", r2_score(train_p1_geo_y, train_pred_geo))\n",
    "\n",
    "print(\"ETA test r2_score \", r2_score(test_p1_geo_y, test_eta))\n",
    "print(\"prediction test r2_score\", r2_score(test_p1_geo_y, test_pred_geo))\n",
    "\n",
    "\n",
    "print(\"ETA train MAPE\", mean_absolute_percentage_error(train_p1_geo_y, train_eta))\n",
    "print(\"prediction train MAPE\", mean_absolute_percentage_error(train_p1_geo_y, train_pred_geo))\n",
    "\n",
    "print(\"ETA test MAPE \", mean_absolute_percentage_error(test_p1_geo_y, test_eta))\n",
    "print(\"prediction test MAPE\", mean_absolute_percentage_error(test_p1_geo_y, test_pred_geo))"
   ],
   "metadata": {
    "collapsed": false,
    "pycharm": {
     "name": "#%%\n"
    }
   }
  },
  {
   "cell_type": "code",
   "execution_count": 58,
   "outputs": [
    {
     "data": {
      "text/plain": "KNeighborsRegressor(n_neighbors=50)",
      "text/html": "<style>#sk-container-id-2 {color: black;background-color: white;}#sk-container-id-2 pre{padding: 0;}#sk-container-id-2 div.sk-toggleable {background-color: white;}#sk-container-id-2 label.sk-toggleable__label {cursor: pointer;display: block;width: 100%;margin-bottom: 0;padding: 0.3em;box-sizing: border-box;text-align: center;}#sk-container-id-2 label.sk-toggleable__label-arrow:before {content: \"▸\";float: left;margin-right: 0.25em;color: #696969;}#sk-container-id-2 label.sk-toggleable__label-arrow:hover:before {color: black;}#sk-container-id-2 div.sk-estimator:hover label.sk-toggleable__label-arrow:before {color: black;}#sk-container-id-2 div.sk-toggleable__content {max-height: 0;max-width: 0;overflow: hidden;text-align: left;background-color: #f0f8ff;}#sk-container-id-2 div.sk-toggleable__content pre {margin: 0.2em;color: black;border-radius: 0.25em;background-color: #f0f8ff;}#sk-container-id-2 input.sk-toggleable__control:checked~div.sk-toggleable__content {max-height: 200px;max-width: 100%;overflow: auto;}#sk-container-id-2 input.sk-toggleable__control:checked~label.sk-toggleable__label-arrow:before {content: \"▾\";}#sk-container-id-2 div.sk-estimator input.sk-toggleable__control:checked~label.sk-toggleable__label {background-color: #d4ebff;}#sk-container-id-2 div.sk-label input.sk-toggleable__control:checked~label.sk-toggleable__label {background-color: #d4ebff;}#sk-container-id-2 input.sk-hidden--visually {border: 0;clip: rect(1px 1px 1px 1px);clip: rect(1px, 1px, 1px, 1px);height: 1px;margin: -1px;overflow: hidden;padding: 0;position: absolute;width: 1px;}#sk-container-id-2 div.sk-estimator {font-family: monospace;background-color: #f0f8ff;border: 1px dotted black;border-radius: 0.25em;box-sizing: border-box;margin-bottom: 0.5em;}#sk-container-id-2 div.sk-estimator:hover {background-color: #d4ebff;}#sk-container-id-2 div.sk-parallel-item::after {content: \"\";width: 100%;border-bottom: 1px solid gray;flex-grow: 1;}#sk-container-id-2 div.sk-label:hover label.sk-toggleable__label {background-color: #d4ebff;}#sk-container-id-2 div.sk-serial::before {content: \"\";position: absolute;border-left: 1px solid gray;box-sizing: border-box;top: 0;bottom: 0;left: 50%;z-index: 0;}#sk-container-id-2 div.sk-serial {display: flex;flex-direction: column;align-items: center;background-color: white;padding-right: 0.2em;padding-left: 0.2em;position: relative;}#sk-container-id-2 div.sk-item {position: relative;z-index: 1;}#sk-container-id-2 div.sk-parallel {display: flex;align-items: stretch;justify-content: center;background-color: white;position: relative;}#sk-container-id-2 div.sk-item::before, #sk-container-id-2 div.sk-parallel-item::before {content: \"\";position: absolute;border-left: 1px solid gray;box-sizing: border-box;top: 0;bottom: 0;left: 50%;z-index: -1;}#sk-container-id-2 div.sk-parallel-item {display: flex;flex-direction: column;z-index: 1;position: relative;background-color: white;}#sk-container-id-2 div.sk-parallel-item:first-child::after {align-self: flex-end;width: 50%;}#sk-container-id-2 div.sk-parallel-item:last-child::after {align-self: flex-start;width: 50%;}#sk-container-id-2 div.sk-parallel-item:only-child::after {width: 0;}#sk-container-id-2 div.sk-dashed-wrapped {border: 1px dashed gray;margin: 0 0.4em 0.5em 0.4em;box-sizing: border-box;padding-bottom: 0.4em;background-color: white;}#sk-container-id-2 div.sk-label label {font-family: monospace;font-weight: bold;display: inline-block;line-height: 1.2em;}#sk-container-id-2 div.sk-label-container {text-align: center;}#sk-container-id-2 div.sk-container {/* jupyter's `normalize.less` sets `[hidden] { display: none; }` but bootstrap.min.css set `[hidden] { display: none !important; }` so we also need the `!important` here to be able to override the default hidden behavior on the sphinx rendered scikit-learn.org. See: https://github.com/scikit-learn/scikit-learn/issues/21755 */display: inline-block !important;position: relative;}#sk-container-id-2 div.sk-text-repr-fallback {display: none;}</style><div id=\"sk-container-id-2\" class=\"sk-top-container\"><div class=\"sk-text-repr-fallback\"><pre>KNeighborsRegressor(n_neighbors=50)</pre><b>In a Jupyter environment, please rerun this cell to show the HTML representation or trust the notebook. <br />On GitHub, the HTML representation is unable to render, please try loading this page with nbviewer.org.</b></div><div class=\"sk-container\" hidden><div class=\"sk-item\"><div class=\"sk-estimator sk-toggleable\"><input class=\"sk-toggleable__control sk-hidden--visually\" id=\"sk-estimator-id-2\" type=\"checkbox\" checked><label for=\"sk-estimator-id-2\" class=\"sk-toggleable__label sk-toggleable__label-arrow\">KNeighborsRegressor</label><div class=\"sk-toggleable__content\"><pre>KNeighborsRegressor(n_neighbors=50)</pre></div></div></div></div></div>"
     },
     "execution_count": 58,
     "metadata": {},
     "output_type": "execute_result"
    }
   ],
   "source": [
    "from sklearn.neighbors import KNeighborsRegressor\n",
    "neigh = KNeighborsRegressor(n_neighbors=50)\n",
    "neigh.fit(train_p1_geo_x, train_p1_geo_y)"
   ],
   "metadata": {
    "collapsed": false,
    "pycharm": {
     "name": "#%%\n"
    }
   }
  },
  {
   "cell_type": "code",
   "execution_count": 59,
   "outputs": [],
   "source": [
    "train_knn_pred_geo = neigh.predict(train_p1_geo_x)"
   ],
   "metadata": {
    "collapsed": false,
    "pycharm": {
     "name": "#%%\n"
    }
   }
  },
  {
   "cell_type": "code",
   "execution_count": 60,
   "outputs": [],
   "source": [
    "test_knn_pred_geo = neigh.predict(test_p1_geo_x)"
   ],
   "metadata": {
    "collapsed": false,
    "pycharm": {
     "name": "#%%\n"
    }
   }
  },
  {
   "cell_type": "code",
   "execution_count": 61,
   "outputs": [
    {
     "name": "stdout",
     "output_type": "stream",
     "text": [
      "ETA train MAE 303.05601677797216\n",
      "prediction train MAE 248.65587185533832\n",
      "ETA test MAE  198.93715245801377\n",
      "prediction test MAE 647.6301651329711\n",
      "ETA train MSE 186311.40376344605\n",
      "prediction train MSE 110606.5244008862\n",
      "ETA test MSE  109690.4659505515\n",
      "prediction test MSE 608931.0242283179\n",
      "ETA train explained_variance_score 0.22988020895077965\n",
      "prediction train explained_variance_score 0.3603903523829256\n",
      "ETA test explained_variance_score  0.8693451809315293\n",
      "prediction test explained_variance_score 0.3848412842899378\n",
      "ETA train median_absolute_error 202.0\n",
      "prediction train median_absolute_error 194.1199999999999\n",
      "ETA test median_absolute_error  103.0\n",
      "prediction test median_absolute_error 628.02\n",
      "ETA train r2_score -0.07744808586523355\n",
      "prediction train r2_score 0.36035698517278536\n",
      "ETA test r2_score  0.8438239267452461\n",
      "prediction test r2_score 0.13301073686891396\n",
      "ETA train MAPE 0.1617958423506161\n",
      "prediction train MAPE 0.14968560751150273\n",
      "ETA test MAPE  0.18084430516321362\n",
      "prediction test MAPE 1.344012981865643\n"
     ]
    }
   ],
   "source": [
    "print(\"ETA train MAE\", mean_absolute_error(train_p1_geo_y, train_eta))\n",
    "print(\"prediction train MAE\", mean_absolute_error(train_p1_geo_y, train_knn_pred_geo))\n",
    "\n",
    "print(\"ETA test MAE \", mean_absolute_error(test_p1_geo_y, test_eta))\n",
    "print(\"prediction test MAE\", mean_absolute_error(test_p1_geo_y, test_knn_pred_geo))\n",
    "\n",
    "\n",
    "print(\"ETA train MSE\", mean_squared_error(train_p1_geo_y, train_eta))\n",
    "print(\"prediction train MSE\", mean_squared_error(train_p1_geo_y, train_knn_pred_geo))\n",
    "\n",
    "print(\"ETA test MSE \", mean_squared_error(test_p1_geo_y, test_eta))\n",
    "print(\"prediction test MSE\", mean_squared_error(test_p1_geo_y, test_knn_pred_geo))\n",
    "\n",
    "\n",
    "print(\"ETA train explained_variance_score\", explained_variance_score(train_p1_geo_y, train_eta))\n",
    "print(\"prediction train explained_variance_score\", explained_variance_score(train_p1_geo_y, train_knn_pred_geo))\n",
    "\n",
    "print(\"ETA test explained_variance_score \", explained_variance_score(test_p1_geo_y, test_eta))\n",
    "print(\"prediction test explained_variance_score\", explained_variance_score(test_p1_geo_y, test_knn_pred_geo))\n",
    "\n",
    "\n",
    "print(\"ETA train median_absolute_error\", median_absolute_error(train_p1_geo_y, train_eta))\n",
    "print(\"prediction train median_absolute_error\", median_absolute_error(train_p1_geo_y, train_knn_pred_geo))\n",
    "\n",
    "print(\"ETA test median_absolute_error \", median_absolute_error(test_p1_geo_y, test_eta))\n",
    "print(\"prediction test median_absolute_error\", median_absolute_error(test_p1_geo_y, test_knn_pred_geo))\n",
    "\n",
    "\n",
    "print(\"ETA train r2_score\", r2_score(train_p1_geo_y, train_eta))\n",
    "print(\"prediction train r2_score\", r2_score(train_p1_geo_y, train_knn_pred_geo))\n",
    "\n",
    "print(\"ETA test r2_score \", r2_score(test_p1_geo_y, test_eta))\n",
    "print(\"prediction test r2_score\", r2_score(test_p1_geo_y, test_knn_pred_geo))\n",
    "\n",
    "\n",
    "print(\"ETA train MAPE\", mean_absolute_percentage_error(train_p1_geo_y, train_eta))\n",
    "print(\"prediction train MAPE\", mean_absolute_percentage_error(train_p1_geo_y, train_knn_pred_geo))\n",
    "\n",
    "print(\"ETA test MAPE \", mean_absolute_percentage_error(test_p1_geo_y, test_eta))\n",
    "print(\"prediction test MAPE\", mean_absolute_percentage_error(test_p1_geo_y, test_knn_pred_geo))"
   ],
   "metadata": {
    "collapsed": false,
    "pycharm": {
     "name": "#%%\n"
    }
   }
  },
  {
   "cell_type": "code",
   "execution_count": null,
   "outputs": [],
   "source": [
    "from sklearn.svm import SVR\n",
    "from sklearn.pipeline import make_pipeline\n",
    "from sklearn.preprocessing import StandardScaler\n",
    "import numpy as np\n",
    "regr = make_pipeline(StandardScaler(), SVR(C=1.0, epsilon=0.2))\n",
    "regr.fit(train_p1_geo_x, train_p1_geo_y)"
   ],
   "metadata": {
    "collapsed": false,
    "pycharm": {
     "name": "#%%\n"
    }
   }
  },
  {
   "cell_type": "code",
   "execution_count": null,
   "outputs": [],
   "source": [
    "train_svm_pred_geo = regr.predict(train_p1_geo_x)\n",
    "test_svm_pred_geo = regr.predict(test_p1_geo_x)"
   ],
   "metadata": {
    "collapsed": false,
    "pycharm": {
     "name": "#%%\n"
    }
   }
  },
  {
   "cell_type": "code",
   "execution_count": null,
   "outputs": [],
   "source": [
    "print(\"ETA train MAE\", mean_absolute_error(train_p1_geo_y, train_eta))\n",
    "print(\"prediction train MAE\", mean_absolute_error(train_p1_geo_y, train_svm_pred_geo))\n",
    "\n",
    "print(\"ETA test MAE \", mean_absolute_error(test_p1_geo_y, test_eta))\n",
    "print(\"prediction test MAE\", mean_absolute_error(test_p1_geo_y, test_svm_pred_geo))\n",
    "\n",
    "\n",
    "print(\"ETA train MSE\", mean_squared_error(train_p1_geo_y, train_eta))\n",
    "print(\"prediction train MSE\", mean_squared_error(train_p1_geo_y, train_svm_pred_geo))\n",
    "\n",
    "print(\"ETA test MSE \", mean_squared_error(test_p1_geo_y, test_eta))\n",
    "print(\"prediction test MSE\", mean_squared_error(test_p1_geo_y, test_svm_pred_geo))\n",
    "\n",
    "\n",
    "print(\"ETA train explained_variance_score\", explained_variance_score(train_p1_geo_y, train_eta))\n",
    "print(\"prediction train explained_variance_score\", explained_variance_score(train_p1_geo_y, train_svm_pred_geo))\n",
    "\n",
    "print(\"ETA test explained_variance_score \", explained_variance_score(test_p1_geo_y, test_eta))\n",
    "print(\"prediction test explained_variance_score\", explained_variance_score(test_p1_geo_y, test_svm_pred_geo))\n",
    "\n",
    "\n",
    "print(\"ETA train median_absolute_error\", median_absolute_error(train_p1_geo_y, train_eta))\n",
    "print(\"prediction train median_absolute_error\", median_absolute_error(train_p1_geo_y, train_svm_pred_geo))\n",
    "\n",
    "print(\"ETA test median_absolute_error \", median_absolute_error(test_p1_geo_y, test_eta))\n",
    "print(\"prediction test median_absolute_error\", median_absolute_error(test_p1_geo_y, test_svm_pred_geo))\n",
    "\n",
    "\n",
    "print(\"ETA train r2_score\", r2_score(train_p1_geo_y, train_eta))\n",
    "print(\"prediction train r2_score\", r2_score(train_p1_geo_y, train_svm_pred_geo))\n",
    "\n",
    "print(\"ETA test r2_score \", r2_score(test_p1_geo_y, test_eta))\n",
    "print(\"prediction test r2_score\", r2_score(test_p1_geo_y, test_svm_pred_geo))\n",
    "\n",
    "\n",
    "print(\"ETA train MAPE\", mean_absolute_percentage_error(train_p1_geo_y, train_eta))\n",
    "print(\"prediction train MAPE\", mean_absolute_percentage_error(train_p1_geo_y, train_svm_pred_geo))\n",
    "\n",
    "print(\"ETA test MAPE \", mean_absolute_percentage_error(test_p1_geo_y, test_eta))\n",
    "print(\"prediction test MAPE\", mean_absolute_percentage_error(test_p1_geo_y, test_svm_pred_geo))"
   ],
   "metadata": {
    "collapsed": false,
    "pycharm": {
     "name": "#%%\n"
    }
   }
  },
  {
   "cell_type": "code",
   "execution_count": 62,
   "outputs": [
    {
     "data": {
      "text/plain": "<matplotlib.collections.PathCollection at 0x30318b640>"
     },
     "execution_count": 62,
     "metadata": {},
     "output_type": "execute_result"
    },
    {
     "data": {
      "text/plain": "<Figure size 640x480 with 1 Axes>",
      "image/png": "[encoded data removed]"
     },
     "metadata": {},
     "output_type": "display_data"
    }
   ],
   "source": [
    "plt.scatter(train_eta, train_p1_geo_y)"
   ],
   "metadata": {
    "collapsed": false,
    "pycharm": {
     "name": "#%%\n"
    }
   }
  },
  {
   "cell_type": "code",
   "execution_count": 63,
   "outputs": [],
   "source": [
    "import seaborn as sns"
   ],
   "metadata": {
    "collapsed": false,
    "pycharm": {
     "name": "#%%\n"
    }
   }
  },
  {
   "cell_type": "code",
   "execution_count": 64,
   "outputs": [
    {
     "data": {
      "text/plain": "<AxesSubplot: ylabel='Count'>"
     },
     "execution_count": 64,
     "metadata": {},
     "output_type": "execute_result"
    },
    {
     "data": {
      "text/plain": "<Figure size 640x480 with 1 Axes>",
      "image/png": "[encoded data removed]"
     },
     "metadata": {},
     "output_type": "display_data"
    }
   ],
   "source": [
    "eta_err = train_p1_geo_x['eta'] - train_p1_geo_y\n",
    "sns.histplot(eta_err)"
   ],
   "metadata": {
    "collapsed": false,
    "pycharm": {
     "name": "#%%\n"
    }
   }
  },
  {
   "cell_type": "code",
   "execution_count": 65,
   "outputs": [
    {
     "name": "stdout",
     "output_type": "stream",
     "text": [
      "-230.52753964955687\n",
      "364.9229767864145\n",
      "1.959038628268726\n",
      "-1.1453677343051023\n"
     ]
    }
   ],
   "source": [
    "print(eta_err.mean())\n",
    "print(eta_err.std())\n",
    "print(eta_err.kurtosis())\n",
    "print(eta_err.skew())"
   ],
   "metadata": {
    "collapsed": false,
    "pycharm": {
     "name": "#%%\n"
    }
   }
  },
  {
   "cell_type": "code",
   "execution_count": 66,
   "outputs": [
    {
     "data": {
      "text/plain": "<AxesSubplot: xlabel='a_t_a_result.ride_a_t_a', ylabel='Count'>"
     },
     "execution_count": 66,
     "metadata": {},
     "output_type": "execute_result"
    },
    {
     "data": {
      "text/plain": "<Figure size 640x480 with 1 Axes>",
      "image/png": "[encoded data removed]"
     },
     "metadata": {},
     "output_type": "display_data"
    }
   ],
   "source": [
    "pred_err = train_pred_geo - train_p1_geo_y\n",
    "sns.histplot(pred_err)"
   ],
   "metadata": {
    "collapsed": false,
    "pycharm": {
     "name": "#%%\n"
    }
   }
  },
  {
   "cell_type": "code",
   "execution_count": 67,
   "outputs": [
    {
     "name": "stdout",
     "output_type": "stream",
     "text": [
      "-7.815383634135306e-13\n",
      "360.8771940150293\n",
      "1.8983215137755232\n",
      "-1.0628900359362234\n"
     ]
    }
   ],
   "source": [
    "print(pred_err.mean())\n",
    "print(pred_err.std())\n",
    "print(pred_err.kurtosis())\n",
    "print(pred_err.skew())"
   ],
   "metadata": {
    "collapsed": false,
    "pycharm": {
     "name": "#%%\n"
    }
   }
  },
  {
   "cell_type": "code",
   "execution_count": 154,
   "outputs": [],
   "source": [
    "reg_h3_p1 = LinearRegression().fit(train_p1_h3_x, train_p1_h3_y)"
   ],
   "metadata": {
    "collapsed": false,
    "pycharm": {
     "name": "#%%\n"
    }
   }
  },
  {
   "cell_type": "code",
   "execution_count": 155,
   "outputs": [
    {
     "name": "stdout",
     "output_type": "stream",
     "text": [
      "[ 1.26783627e+10  1.26783627e+10  3.36497938e+11  1.26783627e+10\n",
      "  1.26783627e+10  1.26783627e+10  1.26783627e+10  1.26783627e+10\n",
      " -2.61619424e+09 -2.61619425e+09 -3.26435770e+11 -2.61619425e+09\n",
      " -2.61619425e+09 -2.61619425e+09 -2.61619424e+09 -2.61619425e+09\n",
      "  9.86321442e-01 -2.57691789e-02  8.68180725e+00]\n",
      "-10062168381.208202\n"
     ]
    }
   ],
   "source": [
    "print(reg_h3_p1.coef_)\n",
    "print(reg_h3_p1.intercept_)"
   ],
   "metadata": {
    "collapsed": false,
    "pycharm": {
     "name": "#%%\n"
    }
   }
  },
  {
   "cell_type": "code",
   "execution_count": 156,
   "outputs": [],
   "source": [
    "train_pred_h3 = reg_h3_p1.predict(train_p1_h3_x)\n",
    "test_pred_h3 = reg_h3_p1.predict(test_p1_h3_x)"
   ],
   "metadata": {
    "collapsed": false,
    "pycharm": {
     "name": "#%%\n"
    }
   }
  },
  {
   "cell_type": "code",
   "execution_count": 157,
   "outputs": [],
   "source": [
    "known_h3_index = np.count_nonzero(test_p1_h3_x[:, 0:17], axis=1) == 2"
   ],
   "metadata": {
    "collapsed": false,
    "pycharm": {
     "name": "#%%\n"
    }
   }
  },
  {
   "cell_type": "code",
   "execution_count": 158,
   "outputs": [],
   "source": [
    "test_p1_h3_y = test_p1_h3_y[known_h3_index]\n",
    "test_p1_h3_x = test_p1_h3_x[known_h3_index]\n",
    "test_pred_h3 = test_pred_h3[known_h3_index]"
   ],
   "metadata": {
    "collapsed": false,
    "pycharm": {
     "name": "#%%\n"
    }
   }
  },
  {
   "cell_type": "code",
   "execution_count": 158,
   "outputs": [],
   "source": [],
   "metadata": {
    "collapsed": false,
    "pycharm": {
     "name": "#%%\n"
    }
   }
  },
  {
   "cell_type": "code",
   "execution_count": 45,
   "outputs": [
    {
     "data": {
      "text/plain": "          eta       seldon   ata  eta - ata  seldon - ata\n2976     1526  1836.110116  4156      -2630  -2319.889884\n3358     1678  2006.297146  3904      -2226  -1897.702854\n4773     1331  1572.528030  3843      -2512  -2270.471970\n6554     1668  1976.782710  4060      -2392  -2083.217290\n8386     1334  1450.304367  3802      -2468  -2351.695633\n...       ...          ...   ...        ...           ...\n4042946  1750  2124.569817  4674      -2924  -2549.430183\n4044773  1773  2162.366582  4176      -2403  -2013.633418\n4049608  1626  1969.847027  4132      -2506  -2162.152973\n4051682  1641  2036.224360  5930      -4289  -3893.775640\n4057734  1702  1983.840546  4183      -2481  -2199.159454\n\n[2563 rows x 5 columns]",
      "text/html": "<div>\n<style scoped>\n    .dataframe tbody tr th:only-of-type {\n        vertical-align: middle;\n    }\n\n    .dataframe tbody tr th {\n        vertical-align: top;\n    }\n\n    .dataframe thead th {\n        text-align: right;\n    }\n</style>\n<table border=\"1\" class=\"dataframe\">\n  <thead>\n    <tr style=\"text-align: right;\">\n      <th></th>\n      <th>eta</th>\n      <th>seldon</th>\n      <th>ata</th>\n      <th>eta - ata</th>\n      <th>seldon - ata</th>\n    </tr>\n  </thead>\n  <tbody>\n    <tr>\n      <th>2976</th>\n      <td>1526</td>\n      <td>1836.110116</td>\n      <td>4156</td>\n      <td>-2630</td>\n      <td>-2319.889884</td>\n    </tr>\n    <tr>\n      <th>3358</th>\n      <td>1678</td>\n      <td>2006.297146</td>\n      <td>3904</td>\n      <td>-2226</td>\n      <td>-1897.702854</td>\n    </tr>\n    <tr>\n      <th>4773</th>\n      <td>1331</td>\n      <td>1572.528030</td>\n      <td>3843</td>\n      <td>-2512</td>\n      <td>-2270.471970</td>\n    </tr>\n    <tr>\n      <th>6554</th>\n      <td>1668</td>\n      <td>1976.782710</td>\n      <td>4060</td>\n      <td>-2392</td>\n      <td>-2083.217290</td>\n    </tr>\n    <tr>\n      <th>8386</th>\n      <td>1334</td>\n      <td>1450.304367</td>\n      <td>3802</td>\n      <td>-2468</td>\n      <td>-2351.695633</td>\n    </tr>\n    <tr>\n      <th>...</th>\n      <td>...</td>\n      <td>...</td>\n      <td>...</td>\n      <td>...</td>\n      <td>...</td>\n    </tr>\n    <tr>\n      <th>4042946</th>\n      <td>1750</td>\n      <td>2124.569817</td>\n      <td>4674</td>\n      <td>-2924</td>\n      <td>-2549.430183</td>\n    </tr>\n    <tr>\n      <th>4044773</th>\n      <td>1773</td>\n      <td>2162.366582</td>\n      <td>4176</td>\n      <td>-2403</td>\n      <td>-2013.633418</td>\n    </tr>\n    <tr>\n      <th>4049608</th>\n      <td>1626</td>\n      <td>1969.847027</td>\n      <td>4132</td>\n      <td>-2506</td>\n      <td>-2162.152973</td>\n    </tr>\n    <tr>\n      <th>4051682</th>\n      <td>1641</td>\n      <td>2036.224360</td>\n      <td>5930</td>\n      <td>-4289</td>\n      <td>-3893.775640</td>\n    </tr>\n    <tr>\n      <th>4057734</th>\n      <td>1702</td>\n      <td>1983.840546</td>\n      <td>4183</td>\n      <td>-2481</td>\n      <td>-2199.159454</td>\n    </tr>\n  </tbody>\n</table>\n<p>2563 rows × 5 columns</p>\n</div>"
     },
     "execution_count": 45,
     "metadata": {},
     "output_type": "execute_result"
    }
   ],
   "source": [
    "d = {'eta': train_p1_geo_x['eta'], 'seldon': train_pred_geo, 'ata': train_p1_geo_y, 'eta - ata': train_p1_geo_x['eta'] - train_p1_geo_y, 'seldon - ata': train_pred_geo - train_p1_geo_y}\n",
    "df = pd.DataFrame(data=d)\n",
    "df[abs(df['eta - ata']) > 2200]"
   ],
   "metadata": {
    "collapsed": false,
    "pycharm": {
     "name": "#%%\n"
    }
   }
  },
  {
   "cell_type": "code",
   "execution_count": 49,
   "outputs": [
    {
     "data": {
      "text/plain": "accepted_driver_id                                                          798945\ncreated_at                                                     2022-08-02 07:30:31\npassenger_id                                                              15448941\nsource_lat                                                                35.69907\nsource_lng                                                               51.396088\ndestination_lat                                                          35.739376\ndestination_lng                                                          51.147438\neta                                                                           1679\nprovider                                                             smapp-same-dc\nata                                                                          10758\nride_id                                                                 4714926571\ncity                                                                             1\ndriver_id                                                                   798945\na_t_a_result.arrival_a_t_a                                                     167\na_t_a_result.boarding_a_t_a                                                    3.0\na_t_a_result.ride_a_t_a                                                      10723\na_t_a_result.arrival_probe_result.probe.point.lat                        35.699108\na_t_a_result.arrival_probe_result.probe.point.lon                        51.396076\na_t_a_result.arrival_probe_result.probe.timestamp                     1659409427.0\na_t_a_result.arrival_probe_result.confidence                                   1.0\na_t_a_result.arrival_probe_result.h3_index                         8c2cf3016ad27ff\na_t_a_result.arrival_probe_result.k_ring_level                                   0\na_t_a_result.boarding_probe_result.probe.point.lat                       35.699108\na_t_a_result.boarding_probe_result.probe.point.lon                       51.396076\na_t_a_result.boarding_probe_result.probe.timestamp                    1659409430.0\na_t_a_result.boarding_probe_result.confidence                                  1.0\na_t_a_result.boarding_probe_result.h3_index                        8c2cf3016ad27ff\na_t_a_result.boarding_probe_result.k_ring_level                                  0\na_t_a_result.final_destination_probe_result.probe.point.lat               35.69907\na_t_a_result.final_destination_probe_result.probe.point.lon              51.396088\na_t_a_result.final_destination_probe_result.probe.timestamp             1659420301\na_t_a_result.final_destination_probe_result.confidence                         0.0\na_t_a_result.final_destination_probe_result.h3_index               8c2cf3016ad27ff\na_t_a_result.final_destination_probe_result.k_ring_level                         4\na_t_a_result.destination_probe_result.probe.point.lat                    35.738976\na_t_a_result.destination_probe_result.probe.point.lon                    51.147354\na_t_a_result.destination_probe_result.probe.timestamp                 1659411779.0\na_t_a_result.destination_probe_result.confidence                          0.591716\na_t_a_result.destination_probe_result.h3_index                     8c2cf3c4ea5e3ff\na_t_a_result.destination_probe_result.k_ring_level                               2\na_t_a_result.extra_destination_probe_result.probe.point.lat                    0.0\na_t_a_result.extra_destination_probe_result.probe.point.lon                    0.0\na_t_a_result.extra_destination_probe_result.probe.timestamp                    0.0\na_t_a_result.extra_destination_probe_result.confidence                         0.0\na_t_a_result.extra_destination_probe_result.h3_index                           NaN\na_t_a_result.extra_destination_probe_result.k_ring_level                         0\npickup_a_d_d_result.distance                                                 1.098\npickup_a_d_d_result.confidence                                                 1.0\npickup_a_d_d_result.route_ratio                                                0.0\npickup_a_d_d_result.g_p_s_ratio                                           0.000919\nride_a_d_d_result.distance                                               90.528732\nride_a_d_d_result.confidence                                              0.907817\nride_a_d_d_result.route_ratio                                                  0.0\nride_a_d_d_result.g_p_s_ratio                                              0.66636\ntotal_a_d_d_confidence                                                    0.917919\nin_ride_allotment                                                              0.0\ne_d_d                                                                          0.0\nclickhouse_time                                                2022-08-02 10:33:29\nhash                                                           8802838757405480920\nName: 38985, dtype: object"
     },
     "execution_count": 49,
     "metadata": {},
     "output_type": "execute_result"
    }
   ],
   "source": [
    "rides_with_id.loc[38985]"
   ],
   "metadata": {
    "collapsed": false,
    "pycharm": {
     "name": "#%%\n"
    }
   }
  },
  {
   "cell_type": "code",
   "execution_count": 111,
   "outputs": [
    {
     "data": {
      "text/plain": "3476.0"
     },
     "execution_count": 111,
     "metadata": {},
     "output_type": "execute_result"
    }
   ],
   "source": [
    "1659450530 - 1659447054.0"
   ],
   "metadata": {
    "collapsed": false,
    "pycharm": {
     "name": "#%%\n"
    }
   }
  },
  {
   "cell_type": "code",
   "execution_count": 100,
   "outputs": [
    {
     "data": {
      "text/plain": "602"
     },
     "execution_count": 100,
     "metadata": {},
     "output_type": "execute_result"
    }
   ],
   "source": [
    "train_p1_geo_y.loc[5]"
   ],
   "metadata": {
    "collapsed": false,
    "pycharm": {
     "name": "#%%\n"
    }
   }
  },
  {
   "cell_type": "code",
   "execution_count": 85,
   "outputs": [
    {
     "data": {
      "text/plain": "accepted_driver_id                                                          272800\ncreated_at                                                     2022-08-02 14:30:46\npassenger_id                                                              23145890\nsource_lat                                                               35.795856\nsource_lng                                                               51.451664\ndestination_lat                                                          35.810123\ndestination_lng                                                          51.459946\neta                                                                            506\nprovider                                                             smapp-same-dc\nata                                                                           1261\nride_id                                                                 4717549146\ncity                                                                             1\ndriver_id                                                                   272800\na_t_a_result.arrival_a_t_a                                                     222\na_t_a_result.boarding_a_t_a                                                    1.0\na_t_a_result.ride_a_t_a                                                       1871\na_t_a_result.arrival_probe_result.probe.point.lat                        35.795773\na_t_a_result.arrival_probe_result.probe.point.lon                        51.451824\na_t_a_result.arrival_probe_result.probe.timestamp                     1659434747.0\na_t_a_result.arrival_probe_result.confidence                                   1.0\na_t_a_result.arrival_probe_result.h3_index                         8c2cf300cd6bbff\na_t_a_result.arrival_probe_result.k_ring_level                                   0\na_t_a_result.boarding_probe_result.probe.point.lat                       35.795773\na_t_a_result.boarding_probe_result.probe.point.lon                       51.451824\na_t_a_result.boarding_probe_result.probe.timestamp                    1659434748.0\na_t_a_result.boarding_probe_result.confidence                                  1.0\na_t_a_result.boarding_probe_result.h3_index                        8c2cf300cd6bbff\na_t_a_result.boarding_probe_result.k_ring_level                                  0\na_t_a_result.final_destination_probe_result.probe.point.lat              35.809639\na_t_a_result.final_destination_probe_result.probe.point.lon              51.459507\na_t_a_result.final_destination_probe_result.probe.timestamp             1659436619\na_t_a_result.final_destination_probe_result.confidence                    0.350128\na_t_a_result.final_destination_probe_result.h3_index               8c2cf302b7a6bff\na_t_a_result.final_destination_probe_result.k_ring_level                         4\na_t_a_result.destination_probe_result.probe.point.lat                    35.809639\na_t_a_result.destination_probe_result.probe.point.lon                    51.459507\na_t_a_result.destination_probe_result.probe.timestamp                 1659436619.0\na_t_a_result.destination_probe_result.confidence                          0.350128\na_t_a_result.destination_probe_result.h3_index                     8c2cf302b7a6bff\na_t_a_result.destination_probe_result.k_ring_level                               4\na_t_a_result.extra_destination_probe_result.probe.point.lat                    0.0\na_t_a_result.extra_destination_probe_result.probe.point.lon                    0.0\na_t_a_result.extra_destination_probe_result.probe.timestamp                    0.0\na_t_a_result.extra_destination_probe_result.confidence                         0.0\na_t_a_result.extra_destination_probe_result.h3_index                           NaN\na_t_a_result.extra_destination_probe_result.k_ring_level                         0\npickup_a_d_d_result.distance                                                 1.558\npickup_a_d_d_result.confidence                                                 1.0\npickup_a_d_d_result.route_ratio                                                0.0\npickup_a_d_d_result.g_p_s_ratio                                           0.005319\nride_a_d_d_result.distance                                                   5.162\nride_a_d_d_result.confidence                                                   1.0\nride_a_d_d_result.route_ratio                                                  0.0\nride_a_d_d_result.g_p_s_ratio                                                  1.0\ntotal_a_d_d_confidence                                                         1.0\nin_ride_allotment                                                              0.0\ne_d_d                                                                          0.0\nclickhouse_time                                                2022-08-02 15:07:46\nhash                                                           6269035811203202785\nName: 1168, dtype: object"
     },
     "execution_count": 85,
     "metadata": {},
     "output_type": "execute_result"
    }
   ],
   "source": [
    "rides_with_id.loc[1168]"
   ],
   "metadata": {
    "collapsed": false,
    "pycharm": {
     "name": "#%%\n"
    }
   }
  },
  {
   "cell_type": "code",
   "execution_count": 160,
   "outputs": [],
   "source": [],
   "metadata": {
    "collapsed": false,
    "pycharm": {
     "name": "#%%\n"
    }
   }
  },
  {
   "cell_type": "code",
   "execution_count": 163,
   "outputs": [
    {
     "name": "stdout",
     "output_type": "stream",
     "text": [
      "ETA train MAE 1700.089602299952\n",
      "prediction train MAE 391.8828847826638\n",
      "ETA test MAE  1694.576439790576\n",
      "prediction test MAE 380.4741775617792\n",
      "ETA train MSE 3238072.5486344034\n",
      "prediction train MSE 341481.57597539\n",
      "ETA test MSE  3154440.089528796\n",
      "prediction test MSE 280567.6058180186\n",
      "ETA train explained_variance_score 0.07859980641326159\n",
      "prediction train explained_variance_score 0.09525520688694078\n",
      "ETA test explained_variance_score  0.09515334409077303\n",
      "prediction test explained_variance_score 0.10264539398016503\n",
      "ETA train median_absolute_error 1522.0\n",
      "prediction train median_absolute_error 320.54520771353054\n",
      "ETA test median_absolute_error  1525.0\n",
      "prediction test median_absolute_error 320.9049128872866\n",
      "ETA train r2_score -7.579172301554692\n",
      "prediction train r2_score 0.09525520688694078\n",
      "ETA test r2_score  -9.091132059069732\n",
      "prediction test r2_score 0.10245727246334457\n",
      "ETA train MAPE 0.7916681339449584\n",
      "prediction train MAPE 0.17171132174216008\n",
      "ETA test MAPE  0.7898949720861153\n",
      "prediction test MAPE 0.16996273925933755\n"
     ]
    }
   ],
   "source": [
    "print(\"ETA train MAE\", mean_absolute_error(train_p1_geo_y, train_p1_geo_x['eta']))\n",
    "print(\"prediction train MAE\", mean_absolute_error(train_p1_geo_y, train_pred_geo))\n",
    "\n",
    "print(\"ETA test MAE \", mean_absolute_error(test_p1_geo_y, test_p1_geo_x['eta']))\n",
    "print(\"prediction test MAE\", mean_absolute_error(test_p1_geo_y, test_pred_geo))\n",
    "\n",
    "\n",
    "print(\"ETA train MSE\", mean_squared_error(train_p1_geo_y, train_p1_geo_x['eta']))\n",
    "print(\"prediction train MSE\", mean_squared_error(train_p1_geo_y, train_pred_geo))\n",
    "\n",
    "print(\"ETA test MSE \", mean_squared_error(test_p1_geo_y, test_p1_geo_x['eta']))\n",
    "print(\"prediction test MSE\", mean_squared_error(test_p1_geo_y, test_pred_geo))\n",
    "\n",
    "\n",
    "print(\"ETA train explained_variance_score\", explained_variance_score(train_p1_geo_y, train_p1_geo_x['eta']))\n",
    "print(\"prediction train explained_variance_score\", explained_variance_score(train_p1_geo_y, train_pred_geo))\n",
    "\n",
    "print(\"ETA test explained_variance_score \", explained_variance_score(test_p1_geo_y, test_p1_geo_x['eta']))\n",
    "print(\"prediction test explained_variance_score\", explained_variance_score(test_p1_geo_y, test_pred_geo))\n",
    "\n",
    "\n",
    "print(\"ETA train median_absolute_error\", median_absolute_error(train_p1_geo_y, train_p1_geo_x['eta']))\n",
    "print(\"prediction train median_absolute_error\", median_absolute_error(train_p1_geo_y, train_pred_geo))\n",
    "\n",
    "print(\"ETA test median_absolute_error \", median_absolute_error(test_p1_geo_y, test_p1_geo_x['eta']))\n",
    "print(\"prediction test median_absolute_error\", median_absolute_error(test_p1_geo_y, test_pred_geo))\n",
    "\n",
    "\n",
    "print(\"ETA train r2_score\", r2_score(train_p1_geo_y, train_p1_geo_x['eta']))\n",
    "print(\"prediction train r2_score\", r2_score(train_p1_geo_y, train_pred_geo))\n",
    "\n",
    "print(\"ETA test r2_score \", r2_score(test_p1_geo_y, test_p1_geo_x['eta']))\n",
    "print(\"prediction test r2_score\", r2_score(test_p1_geo_y, test_pred_geo))\n",
    "\n",
    "\n",
    "print(\"ETA train MAPE\", mean_absolute_percentage_error(train_p1_geo_y, train_p1_geo_x['eta']))\n",
    "print(\"prediction train MAPE\", mean_absolute_percentage_error(train_p1_geo_y, train_pred_geo))\n",
    "\n",
    "print(\"ETA test MAPE \", mean_absolute_percentage_error(test_p1_geo_y, test_p1_geo_x['eta']))\n",
    "print(\"prediction test MAPE\", mean_absolute_percentage_error(test_p1_geo_y, test_pred_geo))"
   ],
   "metadata": {
    "collapsed": false,
    "pycharm": {
     "name": "#%%\n"
    }
   }
  },
  {
   "cell_type": "code",
   "execution_count": 46,
   "outputs": [
    {
     "name": "stdout",
     "output_type": "stream",
     "text": [
      "[ 0.95267888  0.03992745  0.01639903  0.14161629  0.07104881 -0.00869313\n",
      " -0.01985985]\n",
      "0.027375837176890544\n"
     ]
    }
   ],
   "source": [
    "train_p4_geo_x_normalized = (train_p4_geo_x - train_p4_geo_x.min()) / (train_p4_geo_x.max() - train_p4_geo_x.min())\n",
    "train_p4_geo_y_normalized = (train_p4_geo_y - train_p4_geo_y.min()) / (train_p4_geo_y.max() - train_p4_geo_y.min())\n",
    "# test_p4_geo_x_normalized = (test_p4_geo_x - train_p4_geo_x.min()) / (train_p4_geo_x.max() - train_p4_geo_x.min())\n",
    "# test_p4_geo_y_normalized = (test_p4_geo_y - train_p4_geo_y.min()) / (train_p4_geo_y.max() - train_p4_geo_y.min())\n",
    "\n",
    "reg_p4_geo_normalized = LinearRegression().fit(train_p4_geo_x_normalized, train_p4_geo_y_normalized)\n",
    "print(reg_p4_geo_normalized.coef_)\n",
    "print(reg_p4_geo_normalized.intercept_)"
   ],
   "metadata": {
    "collapsed": false,
    "pycharm": {
     "name": "#%%\n"
    }
   }
  },
  {
   "cell_type": "code",
   "execution_count": 39,
   "outputs": [
    {
     "name": "stdout",
     "output_type": "stream",
     "text": [
      "ETA train MAE 558.6899742605314\n",
      "prediction train MAE 468.32320172854264\n",
      "ETA test MAE  609.4802658229795\n",
      "prediction test MAE 532.3905549659162\n",
      "ETA train MSE 724259.5492995734\n",
      "prediction train MSE 474510.4137146755\n",
      "ETA test MSE  1005379.4640005743\n",
      "prediction test MSE 706504.3378821977\n",
      "ETA train explained_variance_score 0.5486781823287357\n",
      "prediction train explained_variance_score 0.5735345690702949\n",
      "ETA test explained_variance_score  0.4753275329161858\n",
      "prediction test explained_variance_score 0.5084530615897137\n",
      "ETA train median_absolute_error 353.0\n",
      "prediction train median_absolute_error 347.19482421875\n",
      "ETA test median_absolute_error  352.0\n",
      "prediction test median_absolute_error 366.8814697265625\n",
      "ETA train r2_score 0.3490729563150865\n",
      "prediction train r2_score 0.5735345690702917\n",
      "ETA test r2_score  0.2984759208241079\n",
      "prediction test r2_score 0.5070221515223838\n",
      "ETA train MAPE 0.16697790395524195\n",
      "prediction train MAPE 0.1610154609737745\n",
      "ETA test MAPE  0.1730999583791752\n",
      "prediction test MAPE 0.17448530280936583\n"
     ]
    }
   ],
   "source": [
    "print(\"ETA train MAE\", mean_absolute_error(train_p4_h3_y, train_p4_h3_x[:, 17]))\n",
    "print(\"prediction train MAE\", mean_absolute_error(train_p4_h3_y, train_pred_h3))\n",
    "\n",
    "print(\"ETA test MAE \", mean_absolute_error(test_p4_h3_y, test_p4_h3_x[:, 17]))\n",
    "print(\"prediction test MAE\", mean_absolute_error(test_p4_h3_y, test_pred_h3))\n",
    "\n",
    "\n",
    "print(\"ETA train MSE\", mean_squared_error(train_p4_h3_y, train_p4_h3_x[:, 17]))\n",
    "print(\"prediction train MSE\", mean_squared_error(train_p4_h3_y, train_pred_h3))\n",
    "\n",
    "print(\"ETA test MSE \", mean_squared_error(test_p4_h3_y, test_p4_h3_x[:, 17]))\n",
    "print(\"prediction test MSE\", mean_squared_error(test_p4_h3_y, test_pred_h3))\n",
    "\n",
    "\n",
    "print(\"ETA train explained_variance_score\", explained_variance_score(train_p4_h3_y, train_p4_h3_x[:, 17]))\n",
    "print(\"prediction train explained_variance_score\", explained_variance_score(train_p4_h3_y, train_pred_h3))\n",
    "\n",
    "print(\"ETA test explained_variance_score \", explained_variance_score(test_p4_h3_y, test_p4_h3_x[:, 17]))\n",
    "print(\"prediction test explained_variance_score\", explained_variance_score(test_p4_h3_y, test_pred_h3))\n",
    "\n",
    "\n",
    "print(\"ETA train median_absolute_error\", median_absolute_error(train_p4_h3_y, train_p4_h3_x[:, 17]))\n",
    "print(\"prediction train median_absolute_error\", median_absolute_error(train_p4_h3_y, train_pred_h3))\n",
    "\n",
    "print(\"ETA test median_absolute_error \", median_absolute_error(test_p4_h3_y, test_p4_h3_x[:, 17]))\n",
    "print(\"prediction test median_absolute_error\", median_absolute_error(test_p4_h3_y, test_pred_h3))\n",
    "\n",
    "\n",
    "print(\"ETA train r2_score\", r2_score(train_p4_h3_y, train_p4_h3_x[:, 17]))\n",
    "print(\"prediction train r2_score\", r2_score(train_p4_h3_y, train_pred_h3))\n",
    "\n",
    "print(\"ETA test r2_score \", r2_score(test_p4_h3_y, test_p4_h3_x[:, 17]))\n",
    "print(\"prediction test r2_score\", r2_score(test_p4_h3_y, test_pred_h3))\n",
    "\n",
    "\n",
    "print(\"ETA train MAPE\", mean_absolute_percentage_error(train_p4_h3_y, train_p4_h3_x[:, 17]))\n",
    "print(\"prediction train MAPE\", mean_absolute_percentage_error(train_p4_h3_y, train_pred_h3))\n",
    "\n",
    "print(\"ETA test MAPE \", mean_absolute_percentage_error(test_p4_h3_y, test_p4_h3_x[:, 17]))\n",
    "print(\"prediction test MAPE\", mean_absolute_percentage_error(test_p4_h3_y, test_pred_h3))"
   ],
   "metadata": {
    "collapsed": false,
    "pycharm": {
     "name": "#%%\n"
    }
   }
  },
  {
   "cell_type": "code",
   "execution_count": 47,
   "outputs": [
    {
     "name": "stdout",
     "output_type": "stream",
     "text": [
      "[ 3.38839243e+11  3.38839243e+11  3.38839244e+11  3.38839243e+11\n",
      "  3.38839243e+11  3.38839243e+11  3.38839243e+11 -1.81469415e+11\n",
      " -1.81469415e+11 -1.81469415e+11 -1.81469415e+11 -1.81469415e+11\n",
      " -1.81469415e+11 -1.81469415e+11 -1.81469415e+11 -1.81469415e+11\n",
      " -1.81469415e+11  1.10072538e+00 -4.58049363e-01 -1.50679642e+02]\n",
      "-17055362.3876918\n"
     ]
    }
   ],
   "source": [
    "train_p4_h3_x_normalized = (train_p4_h3_x - train_p4_h3_x.min()) / (train_p4_h3_x.max() - train_p4_h3_x.min())\n",
    "train_p4_h3_y_normalized = (train_p4_h3_y - train_p4_h3_y.min()) / (train_p4_h3_y.max() - train_p4_h3_y.min())\n",
    "# test_p4_h3_x_normalized = (test_p4_h3_x - train_p4_h3_x.min()) / (train_p4_h3_x.max() - train_p4_h3_x.min())\n",
    "# test_p4_h3_y_normalized = (test_p4_h3_y - train_p4_h3_y.min()) / (train_p4_h3_y.max() - train_p4_h3_y.min())\n",
    "\n",
    "reg_p4_h3_normalized = LinearRegression().fit(train_p4_h3_x_normalized, train_p4_h3_y_normalized)\n",
    "print(reg_p4_h3_normalized.coef_)\n",
    "print(reg_p4_h3_normalized.intercept_)"
   ],
   "metadata": {
    "collapsed": false,
    "pycharm": {
     "name": "#%%\n"
    }
   }
  },
  {
   "cell_type": "code",
   "execution_count": null,
   "outputs": [],
   "source": [
    "%set_env AWS_ACCESS_KEY_ID=SokXIEc1g9vNqCJt4CSObyk6vumoOOPQ\n",
    "%set_env AWS_SECRET_ACCESS_KEY=QNyTpGhFjUTYSP9VKmfhpUizwKr0t8gk\n",
    "%set_env MLFLOW_S3_ENDPOINT_URL=https://minio-clustered-smapp-storage.apps.private.teh-1.snappcloud.io\n",
    "\n",
    "# create experiment\n",
    "%set_env MLFLOW_TRACKING_URI=https://mlflow.apps.private.okd4.teh-1.snappcloud.io/\n",
    "# mlflow experiments create --experiment-name elahe\n",
    "\n",
    "# run script under experiment\n",
    "%set_env MLFLOW_EXPERIMENT_NAME=elahe\n",
    "# cd save/\n",
    "# python test.py"
   ],
   "metadata": {
    "collapsed": false,
    "pycharm": {
     "name": "#%%\n"
    }
   }
  },
  {
   "cell_type": "code",
   "execution_count": null,
   "outputs": [],
   "source": [
    "! echo $AWS_ACCESS_KEY_ID\n",
    "! echo $AWS_SECRET_ACCESS_KEY\n",
    "! echo $MLFLOW_S3_ENDPOINT_URL\n",
    "! echo $MLFLOW_TRACKING_URI\n",
    "! echo $MLFLOW_EXPERIMENT_NAME"
   ],
   "metadata": {
    "collapsed": false,
    "pycharm": {
     "name": "#%%\n"
    }
   }
  },
  {
   "cell_type": "code",
   "execution_count": null,
   "outputs": [],
   "source": [
    "# with mlflow.start_run(run_name=\"regression\") as run:\n",
    "#     # Log the sklearn model and register as version 1\n",
    "#     mlflow.sklearn.log_model(\n",
    "#         sk_model=reg_p4,\n",
    "#         artifact_path=\"regression\",\n",
    "#         registered_model_name=\"reg-model\"\n",
    "#     )"
   ],
   "metadata": {
    "collapsed": false,
    "pycharm": {
     "name": "#%%\n"
    }
   }
  },
  {
   "cell_type": "code",
   "execution_count": null,
   "outputs": [],
   "source": [
    "# with mlflow.start_run(run_name=\"YOUR_RUN_NAME\") as run:\n",
    "#     params = {\"n_estimators\": 5, \"random_state\": 42}\n",
    "#     sk_learn_rfr = RandomForestRegressor(**params)\n",
    "#\n",
    "#     # Log parameters and metrics using the MLflow APIs\n",
    "#     mlflow.log_params(params)\n",
    "#     mlflow.log_param(\"param_1\", randint(0, 100))\n",
    "#     mlflow.log_metrics({\"metric_1\": random(), \"metric_2\": random() + 1})\n",
    "#\n",
    "#     # Log the sklearn model and register as version 1\n",
    "#     mlflow.sklearn.log_model(\n",
    "#         sk_model=sk_learn_rfr,\n",
    "#         artifact_path=\"sklearn-model\",\n",
    "#         registered_model_name=\"sk-learn-random-forest-reg-model\"\n",
    "#     )"
   ],
   "metadata": {
    "collapsed": false,
    "pycharm": {
     "name": "#%%\n"
    }
   }
  }
 ],
 "metadata": {
  "kernelspec": {
   "display_name": "Python 3",
   "language": "python",
   "name": "python3"
  },
  "language_info": {
   "codemirror_mode": {
    "name": "ipython",
    "version": 2
   },
   "file_extension": ".py",
   "mimetype": "text/x-python",
   "name": "python",
   "nbconvert_exporter": "python",
   "pygments_lexer": "ipython2",
   "version": "2.7.6"
  }
 },
 "nbformat": 4,
 "nbformat_minor": 0
}