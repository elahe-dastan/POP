{
 "cells": [
  {
   "cell_type": "code",
   "execution_count": 1,
   "metadata": {
    "collapsed": true,
    "pycharm": {
     "name": "#%%\n"
    }
   },
   "outputs": [],
   "source": [
    "import pandas as pd\n",
    "import numpy as np\n",
    "from sklearn.linear_model import LinearRegression\n",
    "from sklearn.metrics import mean_absolute_error, mean_squared_error, explained_variance_score, median_absolute_error, r2_score, mean_absolute_percentage_error\n",
    "from sklearn.model_selection import train_test_split\n",
    "from scipy.stats import *\n",
    "import h3\n",
    "from sklearn.preprocessing import OneHotEncoder\n",
    "from sklearn.compose import ColumnTransformer\n",
    "from datetime import datetime\n",
    "from math import floor\n",
    "import matplotlib.pyplot as plt\n",
    "import mlflow\n",
    "import mlflow.sklearn"
   ]
  },
  {
   "cell_type": "code",
   "execution_count": 2,
   "outputs": [],
   "source": [
    "khatkesh_columns = ['ride_id', 'driver_id', 'a_t_a_result.arrival_a_t_a', 'a_t_a_result.boarding_a_t_a', 'a_t_a_result.ride_a_t_a', 'a_t_a_result.arrival_probe_result.probe.point.lat', 'a_t_a_result.arrival_probe_result.probe.point.lon', 'a_t_a_result.arrival_probe_result.probe.timestamp', 'a_t_a_result.arrival_probe_result.confidence', 'a_t_a_result.arrival_probe_result.h3_index', 'a_t_a_result.arrival_probe_result.k_ring_level', 'a_t_a_result.boarding_probe_result.probe.point.lat', 'a_t_a_result.boarding_probe_result.probe.point.lon', 'a_t_a_result.boarding_probe_result.probe.timestamp', 'a_t_a_result.boarding_probe_result.confidence', 'a_t_a_result.boarding_probe_result.h3_index', 'a_t_a_result.boarding_probe_result.k_ring_level', 'a_t_a_result.final_destination_probe_result.probe.point.lat', 'a_t_a_result.final_destination_probe_result.probe.point.lon', 'a_t_a_result.final_destination_probe_result.probe.timestamp', 'a_t_a_result.final_destination_probe_result.confidence', 'a_t_a_result.final_destination_probe_result.h3_index', 'a_t_a_result.final_destination_probe_result.k_ring_level',' a_t_a_result.destination_probe_result.probe.point.lat', 'a_t_a_result.destination_probe_result.probe.point.lon', 'a_t_a_result.destination_probe_result.probe.timestamp', 'a_t_a_result.destination_probe_result.confidence', 'a_t_a_result.destination_probe_result.h3_index', 'a_t_a_result.destination_probe_result.k_ring_level', 'a_t_a_result.extra_destination_probe_result.probe.point.lat', 'a_t_a_result.extra_destination_probe_result.probe.point.lon', 'a_t_a_result.extra_destination_probe_result.probe.timestamp', 'a_t_a_result.extra_destination_probe_result.confidence', 'a_t_a_result.extra_destination_probe_result.h3_index', 'a_t_a_result.extra_destination_probe_result.k_ring_level', 'pickup_a_d_d_result.distance', 'pickup_a_d_d_result.confidence', 'pickup_a_d_d_result.route_ratio', 'pickup_a_d_d_result.g_p_s_ratio', 'ride_a_d_d_result.distance', 'ride_a_d_d_result.confidence', 'ride_a_d_d_result.route_ratio', 'ride_a_d_d_result.g_p_s_ratio', 'total_a_d_d_confidence', 'in_ride_allotment', 'e_d_d', 'allotment_time', 'accept_time', 'clickhouse_time', 'hash']"
   ],
   "metadata": {
    "collapsed": false,
    "pycharm": {
     "name": "#%%\n"
    }
   }
  },
  {
   "cell_type": "code",
   "execution_count": 3,
   "outputs": [],
   "source": [
    "train_dates = ['2022-12-10','2022-12-11','2022-12-12','2022-12-13','2022-12-14','2022-12-17','2022-12-18','2022-12-19','2022-12-20','2022-12-21','2022-12-24','2022-12-25','2022-12-26', '2022-12-31', '2023-01-01', '2023-01-02', '2023-01-03', '2023-01-04']"
   ],
   "metadata": {
    "collapsed": false,
    "pycharm": {
     "name": "#%%\n"
    }
   }
  },
  {
   "cell_type": "code",
   "execution_count": 8,
   "outputs": [],
   "source": [
    "khatkesh_df = pd.concat((pd.read_csv('../khatkesh_' + d + '_.csv', names=khatkesh_columns) for d in train_dates))"
   ],
   "metadata": {
    "collapsed": false,
    "pycharm": {
     "name": "#%%\n"
    }
   }
  },
  {
   "cell_type": "code",
   "execution_count": 9,
   "outputs": [
    {
     "data": {
      "text/plain": "           ride_id  driver_id  a_t_a_result.arrival_a_t_a  \\\n0       5443806432     360874                         262   \n1       5443829081     361466                           0   \n2       5443825291     361806                         192   \n3       5443836970     365004                         151   \n4       5443733961     365763                           0   \n...            ...        ...                         ...   \n242628  5614000857    4717792                           0   \n242629  5616925900    4718330                         409   \n242630  5613953185    4718830                           0   \n242631  5613953185    4718830                           0   \n242632  5616938092    4720806                           0   \n\n        a_t_a_result.boarding_a_t_a  a_t_a_result.ride_a_t_a  \\\n0                                 1                     1516   \n1                               763                     1269   \n2                                57                     1260   \n3                                 0                     1698   \n4                              2537                     1412   \n...                             ...                      ...   \n242628                          213                     1527   \n242629                           66                     1705   \n242630                          273                     1463   \n242631                          273                     1463   \n242632                  63808457186                     1641   \n\n        a_t_a_result.arrival_probe_result.probe.point.lat  \\\n0                                               35.710258   \n1                                               35.811466   \n2                                               35.734539   \n3                                               35.742271   \n4                                               35.819595   \n...                                                   ...   \n242628                                          35.788670   \n242629                                          35.760635   \n242630                                          33.526386   \n242631                                          33.526386   \n242632                                          36.269619   \n\n        a_t_a_result.arrival_probe_result.probe.point.lon  \\\n0                                               51.320045   \n1                                               51.418381   \n2                                               51.473274   \n3                                               51.066559   \n4                                               51.450470   \n...                                                   ...   \n242628                                          51.423626   \n242629                                          51.410149   \n242630                                          48.344376   \n242631                                          48.344376   \n242632                                          59.638840   \n\n        a_t_a_result.arrival_probe_result.probe.timestamp  \\\n0                                            1.670616e+09   \n1                                            1.670617e+09   \n2                                            1.670617e+09   \n3                                            1.670617e+09   \n4                                            1.670615e+09   \n...                                                   ...   \n242628                                       1.672835e+09   \n242629                                       1.672860e+09   \n242630                                       1.672835e+09   \n242631                                       1.672835e+09   \n242632                                       1.844674e+19   \n\n        a_t_a_result.arrival_probe_result.confidence  \\\n0                                           1.000000   \n1                                           0.000000   \n2                                           1.000000   \n3                                           1.000000   \n4                                           0.000000   \n...                                              ...   \n242628                                      0.000000   \n242629                                      0.769231   \n242630                                      0.000000   \n242631                                      0.000000   \n242632                                      0.000000   \n\n       a_t_a_result.arrival_probe_result.h3_index  ...  \\\n0                                 8c2cf31ab6a49ff  ...   \n1                                 8c2cf302e2a51ff  ...   \n2                                 8c2cf30188513ff  ...   \n3                                 8c2cf3c634d25ff  ...   \n4                                 8c2cf302b8d45ff  ...   \n...                                           ...  ...   \n242628                            8c2cf30052a6bff  ...   \n242629                            8c2cf3000ca61ff  ...   \n242630                            8c2c8ccc88a35ff  ...   \n242631                            8c2c8ccc88a35ff  ...   \n242632                            8c4360bb642a7ff  ...   \n\n        ride_a_d_d_result.confidence  ride_a_d_d_result.route_ratio  \\\n0                           0.901737                            0.0   \n1                           0.951257                            0.0   \n2                           0.735487                            0.0   \n3                           0.850946                            0.0   \n4                           0.685873                            0.0   \n...                              ...                            ...   \n242628                      0.500000                            0.0   \n242629                      0.816589                            0.0   \n242630                      0.500000                            0.0   \n242631                      0.500000                            0.0   \n242632                      0.500000                            0.0   \n\n        ride_a_d_d_result.g_p_s_ratio  total_a_d_d_confidence  \\\n0                            0.677632                0.917219   \n1                            0.740157                0.924082   \n2                            0.412698                0.777593   \n3                            0.723529                0.867334   \n4                            0.669014                0.731143   \n...                               ...                     ...   \n242628                       0.000000                0.450000   \n242629                       0.678363                0.801729   \n242630                       0.000000                0.450000   \n242631                       0.000000                0.450000   \n242632                       0.000000                0.450000   \n\n        in_ride_allotment      e_d_d  allotment_time   accept_time  \\\n0                     0.0  20.246000             0.0  0.000000e+00   \n1                     0.0  15.674000             0.0  0.000000e+00   \n2                     0.0  20.546000             0.0  0.000000e+00   \n3                     0.0  18.523001             0.0  0.000000e+00   \n4                     0.0  22.882000             0.0  0.000000e+00   \n...                   ...        ...             ...           ...   \n242628                0.0   7.120000             0.0  1.672835e+09   \n242629                0.0  24.285999             0.0  1.672860e+09   \n242630                0.0   5.147000             0.0  1.672835e+09   \n242631                0.0   5.147000             0.0  1.672835e+09   \n242632                0.0  20.823000             0.0  1.844674e+19   \n\n            clickhouse_time                  hash  \n0       2022-12-10 00:01:57   3699733820762960318  \n1       2022-12-10 00:14:30   9435032856067813669  \n2       2022-12-10 00:05:19   5150927157371064959  \n3       2022-12-10 00:14:30  18093605606729942271  \n4       2022-12-10 00:16:29   3043788993308669116  \n...                     ...                   ...  \n242628  2023-01-04 23:43:09  11345780491535327200  \n242629  2023-01-04 23:28:39  10712066931512649818  \n242630  2023-01-04 23:24:53   8543118909884945008  \n242631  2023-01-04 23:16:19  10960186998857818749  \n242632  2023-01-04 23:24:53   1086404841673028346  \n\n[7032489 rows x 50 columns]",
      "text/html": "<div>\n<style scoped>\n    .dataframe tbody tr th:only-of-type {\n        vertical-align: middle;\n    }\n\n    .dataframe tbody tr th {\n        vertical-align: top;\n    }\n\n    .dataframe thead th {\n        text-align: right;\n    }\n</style>\n<table border=\"1\" class=\"dataframe\">\n  <thead>\n    <tr style=\"text-align: right;\">\n      <th></th>\n      <th>ride_id</th>\n      <th>driver_id</th>\n      <th>a_t_a_result.arrival_a_t_a</th>\n      <th>a_t_a_result.boarding_a_t_a</th>\n      <th>a_t_a_result.ride_a_t_a</th>\n      <th>a_t_a_result.arrival_probe_result.probe.point.lat</th>\n      <th>a_t_a_result.arrival_probe_result.probe.point.lon</th>\n      <th>a_t_a_result.arrival_probe_result.probe.timestamp</th>\n      <th>a_t_a_result.arrival_probe_result.confidence</th>\n      <th>a_t_a_result.arrival_probe_result.h3_index</th>\n      <th>...</th>\n      <th>ride_a_d_d_result.confidence</th>\n      <th>ride_a_d_d_result.route_ratio</th>\n      <th>ride_a_d_d_result.g_p_s_ratio</th>\n      <th>total_a_d_d_confidence</th>\n      <th>in_ride_allotment</th>\n      <th>e_d_d</th>\n      <th>allotment_time</th>\n      <th>accept_time</th>\n      <th>clickhouse_time</th>\n      <th>hash</th>\n    </tr>\n  </thead>\n  <tbody>\n    <tr>\n      <th>0</th>\n      <td>5443806432</td>\n      <td>360874</td>\n      <td>262</td>\n      <td>1</td>\n      <td>1516</td>\n      <td>35.710258</td>\n      <td>51.320045</td>\n      <td>1.670616e+09</td>\n      <td>1.000000</td>\n      <td>8c2cf31ab6a49ff</td>\n      <td>...</td>\n      <td>0.901737</td>\n      <td>0.0</td>\n      <td>0.677632</td>\n      <td>0.917219</td>\n      <td>0.0</td>\n      <td>20.246000</td>\n      <td>0.0</td>\n      <td>0.000000e+00</td>\n      <td>2022-12-10 00:01:57</td>\n      <td>3699733820762960318</td>\n    </tr>\n    <tr>\n      <th>1</th>\n      <td>5443829081</td>\n      <td>361466</td>\n      <td>0</td>\n      <td>763</td>\n      <td>1269</td>\n      <td>35.811466</td>\n      <td>51.418381</td>\n      <td>1.670617e+09</td>\n      <td>0.000000</td>\n      <td>8c2cf302e2a51ff</td>\n      <td>...</td>\n      <td>0.951257</td>\n      <td>0.0</td>\n      <td>0.740157</td>\n      <td>0.924082</td>\n      <td>0.0</td>\n      <td>15.674000</td>\n      <td>0.0</td>\n      <td>0.000000e+00</td>\n      <td>2022-12-10 00:14:30</td>\n      <td>9435032856067813669</td>\n    </tr>\n    <tr>\n      <th>2</th>\n      <td>5443825291</td>\n      <td>361806</td>\n      <td>192</td>\n      <td>57</td>\n      <td>1260</td>\n      <td>35.734539</td>\n      <td>51.473274</td>\n      <td>1.670617e+09</td>\n      <td>1.000000</td>\n      <td>8c2cf30188513ff</td>\n      <td>...</td>\n      <td>0.735487</td>\n      <td>0.0</td>\n      <td>0.412698</td>\n      <td>0.777593</td>\n      <td>0.0</td>\n      <td>20.546000</td>\n      <td>0.0</td>\n      <td>0.000000e+00</td>\n      <td>2022-12-10 00:05:19</td>\n      <td>5150927157371064959</td>\n    </tr>\n    <tr>\n      <th>3</th>\n      <td>5443836970</td>\n      <td>365004</td>\n      <td>151</td>\n      <td>0</td>\n      <td>1698</td>\n      <td>35.742271</td>\n      <td>51.066559</td>\n      <td>1.670617e+09</td>\n      <td>1.000000</td>\n      <td>8c2cf3c634d25ff</td>\n      <td>...</td>\n      <td>0.850946</td>\n      <td>0.0</td>\n      <td>0.723529</td>\n      <td>0.867334</td>\n      <td>0.0</td>\n      <td>18.523001</td>\n      <td>0.0</td>\n      <td>0.000000e+00</td>\n      <td>2022-12-10 00:14:30</td>\n      <td>18093605606729942271</td>\n    </tr>\n    <tr>\n      <th>4</th>\n      <td>5443733961</td>\n      <td>365763</td>\n      <td>0</td>\n      <td>2537</td>\n      <td>1412</td>\n      <td>35.819595</td>\n      <td>51.450470</td>\n      <td>1.670615e+09</td>\n      <td>0.000000</td>\n      <td>8c2cf302b8d45ff</td>\n      <td>...</td>\n      <td>0.685873</td>\n      <td>0.0</td>\n      <td>0.669014</td>\n      <td>0.731143</td>\n      <td>0.0</td>\n      <td>22.882000</td>\n      <td>0.0</td>\n      <td>0.000000e+00</td>\n      <td>2022-12-10 00:16:29</td>\n      <td>3043788993308669116</td>\n    </tr>\n    <tr>\n      <th>...</th>\n      <td>...</td>\n      <td>...</td>\n      <td>...</td>\n      <td>...</td>\n      <td>...</td>\n      <td>...</td>\n      <td>...</td>\n      <td>...</td>\n      <td>...</td>\n      <td>...</td>\n      <td>...</td>\n      <td>...</td>\n      <td>...</td>\n      <td>...</td>\n      <td>...</td>\n      <td>...</td>\n      <td>...</td>\n      <td>...</td>\n      <td>...</td>\n      <td>...</td>\n      <td>...</td>\n    </tr>\n    <tr>\n      <th>242628</th>\n      <td>5614000857</td>\n      <td>4717792</td>\n      <td>0</td>\n      <td>213</td>\n      <td>1527</td>\n      <td>35.788670</td>\n      <td>51.423626</td>\n      <td>1.672835e+09</td>\n      <td>0.000000</td>\n      <td>8c2cf30052a6bff</td>\n      <td>...</td>\n      <td>0.500000</td>\n      <td>0.0</td>\n      <td>0.000000</td>\n      <td>0.450000</td>\n      <td>0.0</td>\n      <td>7.120000</td>\n      <td>0.0</td>\n      <td>1.672835e+09</td>\n      <td>2023-01-04 23:43:09</td>\n      <td>11345780491535327200</td>\n    </tr>\n    <tr>\n      <th>242629</th>\n      <td>5616925900</td>\n      <td>4718330</td>\n      <td>409</td>\n      <td>66</td>\n      <td>1705</td>\n      <td>35.760635</td>\n      <td>51.410149</td>\n      <td>1.672860e+09</td>\n      <td>0.769231</td>\n      <td>8c2cf3000ca61ff</td>\n      <td>...</td>\n      <td>0.816589</td>\n      <td>0.0</td>\n      <td>0.678363</td>\n      <td>0.801729</td>\n      <td>0.0</td>\n      <td>24.285999</td>\n      <td>0.0</td>\n      <td>1.672860e+09</td>\n      <td>2023-01-04 23:28:39</td>\n      <td>10712066931512649818</td>\n    </tr>\n    <tr>\n      <th>242630</th>\n      <td>5613953185</td>\n      <td>4718830</td>\n      <td>0</td>\n      <td>273</td>\n      <td>1463</td>\n      <td>33.526386</td>\n      <td>48.344376</td>\n      <td>1.672835e+09</td>\n      <td>0.000000</td>\n      <td>8c2c8ccc88a35ff</td>\n      <td>...</td>\n      <td>0.500000</td>\n      <td>0.0</td>\n      <td>0.000000</td>\n      <td>0.450000</td>\n      <td>0.0</td>\n      <td>5.147000</td>\n      <td>0.0</td>\n      <td>1.672835e+09</td>\n      <td>2023-01-04 23:24:53</td>\n      <td>8543118909884945008</td>\n    </tr>\n    <tr>\n      <th>242631</th>\n      <td>5613953185</td>\n      <td>4718830</td>\n      <td>0</td>\n      <td>273</td>\n      <td>1463</td>\n      <td>33.526386</td>\n      <td>48.344376</td>\n      <td>1.672835e+09</td>\n      <td>0.000000</td>\n      <td>8c2c8ccc88a35ff</td>\n      <td>...</td>\n      <td>0.500000</td>\n      <td>0.0</td>\n      <td>0.000000</td>\n      <td>0.450000</td>\n      <td>0.0</td>\n      <td>5.147000</td>\n      <td>0.0</td>\n      <td>1.672835e+09</td>\n      <td>2023-01-04 23:16:19</td>\n      <td>10960186998857818749</td>\n    </tr>\n    <tr>\n      <th>242632</th>\n      <td>5616938092</td>\n      <td>4720806</td>\n      <td>0</td>\n      <td>63808457186</td>\n      <td>1641</td>\n      <td>36.269619</td>\n      <td>59.638840</td>\n      <td>1.844674e+19</td>\n      <td>0.000000</td>\n      <td>8c4360bb642a7ff</td>\n      <td>...</td>\n      <td>0.500000</td>\n      <td>0.0</td>\n      <td>0.000000</td>\n      <td>0.450000</td>\n      <td>0.0</td>\n      <td>20.823000</td>\n      <td>0.0</td>\n      <td>1.844674e+19</td>\n      <td>2023-01-04 23:24:53</td>\n      <td>1086404841673028346</td>\n    </tr>\n  </tbody>\n</table>\n<p>7032489 rows × 50 columns</p>\n</div>"
     },
     "execution_count": 9,
     "metadata": {},
     "output_type": "execute_result"
    }
   ],
   "source": [
    "khatkesh_df"
   ],
   "metadata": {
    "collapsed": false,
    "pycharm": {
     "name": "#%%\n"
    }
   }
  },
  {
   "cell_type": "markdown",
   "source": [
    "There are some duplicates in the data"
   ],
   "metadata": {
    "collapsed": false,
    "pycharm": {
     "name": "#%% md\n"
    }
   }
  },
  {
   "cell_type": "code",
   "execution_count": 10,
   "outputs": [
    {
     "data": {
      "text/plain": "6989194"
     },
     "execution_count": 10,
     "metadata": {},
     "output_type": "execute_result"
    }
   ],
   "source": [
    "khatkesh_df = khatkesh_df.drop_duplicates(subset=['ride_id', 'a_t_a_result.ride_a_t_a'])\n",
    "len(khatkesh_df)"
   ],
   "metadata": {
    "collapsed": false,
    "pycharm": {
     "name": "#%%\n"
    }
   }
  },
  {
   "cell_type": "code",
   "execution_count": 13,
   "outputs": [
    {
     "data": {
      "text/plain": "           ride_id  driver_id  a_t_a_result.arrival_a_t_a  \\\n0       5443806432     360874                         262   \n2       5443825291     361806                         192   \n3       5443836970     365004                         151   \n7       5443838188     369771                         235   \n8       5443786697     370939                         389   \n...            ...        ...                         ...   \n242615  5616954216    4711888                         740   \n242619  5617054851    4714877                         389   \n242621  5616866913    4715842                         349   \n242626  5616952551    4717352                         311   \n242629  5616925900    4718330                         409   \n\n        a_t_a_result.boarding_a_t_a  a_t_a_result.ride_a_t_a  \\\n0                                 1                     1516   \n2                                57                     1260   \n3                                 0                     1698   \n7                                 8                     1562   \n8                                96                     1796   \n...                             ...                      ...   \n242615                           71                     1424   \n242619                          108                     1224   \n242621                           34                     1618   \n242626                           16                     1755   \n242629                           66                     1705   \n\n        a_t_a_result.arrival_probe_result.probe.point.lat  \\\n0                                               35.710258   \n2                                               35.734539   \n3                                               35.742271   \n7                                               35.729809   \n8                                               35.501701   \n...                                                   ...   \n242615                                          29.779316   \n242619                                          36.244602   \n242621                                          35.676537   \n242626                                          35.505135   \n242629                                          35.760635   \n\n        a_t_a_result.arrival_probe_result.probe.point.lon  \\\n0                                               51.320045   \n2                                               51.473274   \n3                                               51.066559   \n7                                               51.489296   \n8                                               51.083099   \n...                                                   ...   \n242615                                          52.445328   \n242619                                          58.819424   \n242621                                          51.434235   \n242626                                          51.165989   \n242629                                          51.410149   \n\n        a_t_a_result.arrival_probe_result.probe.timestamp  \\\n0                                            1.670616e+09   \n2                                            1.670617e+09   \n3                                            1.670617e+09   \n7                                            1.670617e+09   \n8                                            1.670616e+09   \n...                                                   ...   \n242615                                       1.672861e+09   \n242619                                       1.672863e+09   \n242621                                       1.672859e+09   \n242626                                       1.672861e+09   \n242629                                       1.672860e+09   \n\n        a_t_a_result.arrival_probe_result.confidence  \\\n0                                           1.000000   \n2                                           1.000000   \n3                                           1.000000   \n7                                           0.769231   \n8                                           1.000000   \n...                                              ...   \n242615                                      0.591716   \n242619                                      1.000000   \n242621                                      0.769231   \n242626                                      1.000000   \n242629                                      0.769231   \n\n       a_t_a_result.arrival_probe_result.h3_index  ...  \\\n0                                 8c2cf31ab6a49ff  ...   \n2                                 8c2cf30188513ff  ...   \n3                                 8c2cf3c634d25ff  ...   \n7                                 8c2cf301821bdff  ...   \n8                                 8c2cf3c89088dff  ...   \n...                                           ...  ...   \n242615                            8c43319768e93ff  ...   \n242619                            8c4364625ba67ff  ...   \n242621                            8c2cf30acd5a7ff  ...   \n242626                            8c2cf3cd32eedff  ...   \n242629                            8c2cf3000ca61ff  ...   \n\n        ride_a_d_d_result.confidence  ride_a_d_d_result.route_ratio  \\\n0                           0.901737                            0.0   \n2                           0.735487                            0.0   \n3                           0.850946                            0.0   \n7                           0.822936                            0.0   \n8                           0.861152                            0.0   \n...                              ...                            ...   \n242615                      0.754661                            0.0   \n242619                      0.992379                            0.0   \n242621                      0.943315                            0.0   \n242626                      1.000000                            0.0   \n242629                      0.816589                            0.0   \n\n        ride_a_d_d_result.g_p_s_ratio  total_a_d_d_confidence  \\\n0                            0.677632                0.917219   \n2                            0.412698                0.777593   \n3                            0.723529                0.867334   \n7                            0.668790                0.855068   \n8                            0.650000                0.884654   \n...                               ...                     ...   \n242615                       0.433566                0.794403   \n242619                       0.983740                0.994405   \n242621                       0.938272                0.952146   \n242626                       0.982955                1.000000   \n242629                       0.678363                0.801729   \n\n        in_ride_allotment      e_d_d  allotment_time   accept_time  \\\n0                     0.0  20.246000             0.0  0.000000e+00   \n2                     0.0  20.546000             0.0  0.000000e+00   \n3                     0.0  18.523001             0.0  0.000000e+00   \n7                     0.0  24.254000             0.0  0.000000e+00   \n8                     0.0  29.129999             0.0  0.000000e+00   \n...                   ...        ...             ...           ...   \n242615                0.0  17.528999             0.0  1.672860e+09   \n242619                0.0  11.826000             0.0  1.672862e+09   \n242621                0.0  20.430000             0.0  1.672859e+09   \n242626                0.0  10.653000             0.0  1.672860e+09   \n242629                0.0  24.285999             0.0  1.672860e+09   \n\n            clickhouse_time                  hash  \n0       2022-12-10 00:01:57   3699733820762960318  \n2       2022-12-10 00:05:19   5150927157371064959  \n3       2022-12-10 00:14:30  18093605606729942271  \n7       2022-12-10 00:14:30  16478269870785257594  \n8       2022-12-10 00:07:56  15836796804698748802  \n...                     ...                   ...  \n242615  2023-01-04 23:33:30  13040001161824045813  \n242619  2023-01-04 23:59:33  14546716718104812220  \n242621  2023-01-04 23:07:30  17396459735175095542  \n242626  2023-01-04 23:31:05   8909389839838342316  \n242629  2023-01-04 23:28:39  10712066931512649818  \n\n[2523279 rows x 50 columns]",
      "text/html": "<div>\n<style scoped>\n    .dataframe tbody tr th:only-of-type {\n        vertical-align: middle;\n    }\n\n    .dataframe tbody tr th {\n        vertical-align: top;\n    }\n\n    .dataframe thead th {\n        text-align: right;\n    }\n</style>\n<table border=\"1\" class=\"dataframe\">\n  <thead>\n    <tr style=\"text-align: right;\">\n      <th></th>\n      <th>ride_id</th>\n      <th>driver_id</th>\n      <th>a_t_a_result.arrival_a_t_a</th>\n      <th>a_t_a_result.boarding_a_t_a</th>\n      <th>a_t_a_result.ride_a_t_a</th>\n      <th>a_t_a_result.arrival_probe_result.probe.point.lat</th>\n      <th>a_t_a_result.arrival_probe_result.probe.point.lon</th>\n      <th>a_t_a_result.arrival_probe_result.probe.timestamp</th>\n      <th>a_t_a_result.arrival_probe_result.confidence</th>\n      <th>a_t_a_result.arrival_probe_result.h3_index</th>\n      <th>...</th>\n      <th>ride_a_d_d_result.confidence</th>\n      <th>ride_a_d_d_result.route_ratio</th>\n      <th>ride_a_d_d_result.g_p_s_ratio</th>\n      <th>total_a_d_d_confidence</th>\n      <th>in_ride_allotment</th>\n      <th>e_d_d</th>\n      <th>allotment_time</th>\n      <th>accept_time</th>\n      <th>clickhouse_time</th>\n      <th>hash</th>\n    </tr>\n  </thead>\n  <tbody>\n    <tr>\n      <th>0</th>\n      <td>5443806432</td>\n      <td>360874</td>\n      <td>262</td>\n      <td>1</td>\n      <td>1516</td>\n      <td>35.710258</td>\n      <td>51.320045</td>\n      <td>1.670616e+09</td>\n      <td>1.000000</td>\n      <td>8c2cf31ab6a49ff</td>\n      <td>...</td>\n      <td>0.901737</td>\n      <td>0.0</td>\n      <td>0.677632</td>\n      <td>0.917219</td>\n      <td>0.0</td>\n      <td>20.246000</td>\n      <td>0.0</td>\n      <td>0.000000e+00</td>\n      <td>2022-12-10 00:01:57</td>\n      <td>3699733820762960318</td>\n    </tr>\n    <tr>\n      <th>2</th>\n      <td>5443825291</td>\n      <td>361806</td>\n      <td>192</td>\n      <td>57</td>\n      <td>1260</td>\n      <td>35.734539</td>\n      <td>51.473274</td>\n      <td>1.670617e+09</td>\n      <td>1.000000</td>\n      <td>8c2cf30188513ff</td>\n      <td>...</td>\n      <td>0.735487</td>\n      <td>0.0</td>\n      <td>0.412698</td>\n      <td>0.777593</td>\n      <td>0.0</td>\n      <td>20.546000</td>\n      <td>0.0</td>\n      <td>0.000000e+00</td>\n      <td>2022-12-10 00:05:19</td>\n      <td>5150927157371064959</td>\n    </tr>\n    <tr>\n      <th>3</th>\n      <td>5443836970</td>\n      <td>365004</td>\n      <td>151</td>\n      <td>0</td>\n      <td>1698</td>\n      <td>35.742271</td>\n      <td>51.066559</td>\n      <td>1.670617e+09</td>\n      <td>1.000000</td>\n      <td>8c2cf3c634d25ff</td>\n      <td>...</td>\n      <td>0.850946</td>\n      <td>0.0</td>\n      <td>0.723529</td>\n      <td>0.867334</td>\n      <td>0.0</td>\n      <td>18.523001</td>\n      <td>0.0</td>\n      <td>0.000000e+00</td>\n      <td>2022-12-10 00:14:30</td>\n      <td>18093605606729942271</td>\n    </tr>\n    <tr>\n      <th>7</th>\n      <td>5443838188</td>\n      <td>369771</td>\n      <td>235</td>\n      <td>8</td>\n      <td>1562</td>\n      <td>35.729809</td>\n      <td>51.489296</td>\n      <td>1.670617e+09</td>\n      <td>0.769231</td>\n      <td>8c2cf301821bdff</td>\n      <td>...</td>\n      <td>0.822936</td>\n      <td>0.0</td>\n      <td>0.668790</td>\n      <td>0.855068</td>\n      <td>0.0</td>\n      <td>24.254000</td>\n      <td>0.0</td>\n      <td>0.000000e+00</td>\n      <td>2022-12-10 00:14:30</td>\n      <td>16478269870785257594</td>\n    </tr>\n    <tr>\n      <th>8</th>\n      <td>5443786697</td>\n      <td>370939</td>\n      <td>389</td>\n      <td>96</td>\n      <td>1796</td>\n      <td>35.501701</td>\n      <td>51.083099</td>\n      <td>1.670616e+09</td>\n      <td>1.000000</td>\n      <td>8c2cf3c89088dff</td>\n      <td>...</td>\n      <td>0.861152</td>\n      <td>0.0</td>\n      <td>0.650000</td>\n      <td>0.884654</td>\n      <td>0.0</td>\n      <td>29.129999</td>\n      <td>0.0</td>\n      <td>0.000000e+00</td>\n      <td>2022-12-10 00:07:56</td>\n      <td>15836796804698748802</td>\n    </tr>\n    <tr>\n      <th>...</th>\n      <td>...</td>\n      <td>...</td>\n      <td>...</td>\n      <td>...</td>\n      <td>...</td>\n      <td>...</td>\n      <td>...</td>\n      <td>...</td>\n      <td>...</td>\n      <td>...</td>\n      <td>...</td>\n      <td>...</td>\n      <td>...</td>\n      <td>...</td>\n      <td>...</td>\n      <td>...</td>\n      <td>...</td>\n      <td>...</td>\n      <td>...</td>\n      <td>...</td>\n      <td>...</td>\n    </tr>\n    <tr>\n      <th>242615</th>\n      <td>5616954216</td>\n      <td>4711888</td>\n      <td>740</td>\n      <td>71</td>\n      <td>1424</td>\n      <td>29.779316</td>\n      <td>52.445328</td>\n      <td>1.672861e+09</td>\n      <td>0.591716</td>\n      <td>8c43319768e93ff</td>\n      <td>...</td>\n      <td>0.754661</td>\n      <td>0.0</td>\n      <td>0.433566</td>\n      <td>0.794403</td>\n      <td>0.0</td>\n      <td>17.528999</td>\n      <td>0.0</td>\n      <td>1.672860e+09</td>\n      <td>2023-01-04 23:33:30</td>\n      <td>13040001161824045813</td>\n    </tr>\n    <tr>\n      <th>242619</th>\n      <td>5617054851</td>\n      <td>4714877</td>\n      <td>389</td>\n      <td>108</td>\n      <td>1224</td>\n      <td>36.244602</td>\n      <td>58.819424</td>\n      <td>1.672863e+09</td>\n      <td>1.000000</td>\n      <td>8c4364625ba67ff</td>\n      <td>...</td>\n      <td>0.992379</td>\n      <td>0.0</td>\n      <td>0.983740</td>\n      <td>0.994405</td>\n      <td>0.0</td>\n      <td>11.826000</td>\n      <td>0.0</td>\n      <td>1.672862e+09</td>\n      <td>2023-01-04 23:59:33</td>\n      <td>14546716718104812220</td>\n    </tr>\n    <tr>\n      <th>242621</th>\n      <td>5616866913</td>\n      <td>4715842</td>\n      <td>349</td>\n      <td>34</td>\n      <td>1618</td>\n      <td>35.676537</td>\n      <td>51.434235</td>\n      <td>1.672859e+09</td>\n      <td>0.769231</td>\n      <td>8c2cf30acd5a7ff</td>\n      <td>...</td>\n      <td>0.943315</td>\n      <td>0.0</td>\n      <td>0.938272</td>\n      <td>0.952146</td>\n      <td>0.0</td>\n      <td>20.430000</td>\n      <td>0.0</td>\n      <td>1.672859e+09</td>\n      <td>2023-01-04 23:07:30</td>\n      <td>17396459735175095542</td>\n    </tr>\n    <tr>\n      <th>242626</th>\n      <td>5616952551</td>\n      <td>4717352</td>\n      <td>311</td>\n      <td>16</td>\n      <td>1755</td>\n      <td>35.505135</td>\n      <td>51.165989</td>\n      <td>1.672861e+09</td>\n      <td>1.000000</td>\n      <td>8c2cf3cd32eedff</td>\n      <td>...</td>\n      <td>1.000000</td>\n      <td>0.0</td>\n      <td>0.982955</td>\n      <td>1.000000</td>\n      <td>0.0</td>\n      <td>10.653000</td>\n      <td>0.0</td>\n      <td>1.672860e+09</td>\n      <td>2023-01-04 23:31:05</td>\n      <td>8909389839838342316</td>\n    </tr>\n    <tr>\n      <th>242629</th>\n      <td>5616925900</td>\n      <td>4718330</td>\n      <td>409</td>\n      <td>66</td>\n      <td>1705</td>\n      <td>35.760635</td>\n      <td>51.410149</td>\n      <td>1.672860e+09</td>\n      <td>0.769231</td>\n      <td>8c2cf3000ca61ff</td>\n      <td>...</td>\n      <td>0.816589</td>\n      <td>0.0</td>\n      <td>0.678363</td>\n      <td>0.801729</td>\n      <td>0.0</td>\n      <td>24.285999</td>\n      <td>0.0</td>\n      <td>1.672860e+09</td>\n      <td>2023-01-04 23:28:39</td>\n      <td>10712066931512649818</td>\n    </tr>\n  </tbody>\n</table>\n<p>2523279 rows × 50 columns</p>\n</div>"
     },
     "execution_count": 13,
     "metadata": {},
     "output_type": "execute_result"
    }
   ],
   "source": [
    "khatkesh_df = khatkesh_df[(khatkesh_df['a_t_a_result.final_destination_probe_result.confidence'] > 0) & (khatkesh_df['a_t_a_result.boarding_probe_result.confidence'] > 0)]\n",
    "khatkesh_df"
   ],
   "metadata": {
    "collapsed": false,
    "pycharm": {
     "name": "#%%\n"
    }
   }
  },
  {
   "cell_type": "code",
   "execution_count": 14,
   "outputs": [
    {
     "name": "stderr",
     "output_type": "stream",
     "text": [
      "/var/folders/yq/707ysz_j3jlggmtk5clx13rm0000gn/T/ipykernel_4445/4140863084.py:1: SettingWithCopyWarning: \n",
      "A value is trying to be set on a copy of a slice from a DataFrame.\n",
      "Try using .loc[row_indexer,col_indexer] = value instead\n",
      "\n",
      "See the caveats in the documentation: https://pandas.pydata.org/pandas-docs/stable/user_guide/indexing.html#returning-a-view-versus-a-copy\n",
      "  khatkesh_df['hour'] = khatkesh_df.apply(lambda row: ((row.accept_time - 1662147000) % 604800) / 3600, axis=1)\n"
     ]
    },
    {
     "data": {
      "text/plain": "           ride_id  driver_id  a_t_a_result.arrival_a_t_a  \\\n0       5443806432     360874                         262   \n2       5443825291     361806                         192   \n3       5443836970     365004                         151   \n7       5443838188     369771                         235   \n8       5443786697     370939                         389   \n...            ...        ...                         ...   \n242615  5616954216    4711888                         740   \n242619  5617054851    4714877                         389   \n242621  5616866913    4715842                         349   \n242626  5616952551    4717352                         311   \n242629  5616925900    4718330                         409   \n\n        a_t_a_result.boarding_a_t_a  a_t_a_result.ride_a_t_a  \\\n0                                 1                     1516   \n2                                57                     1260   \n3                                 0                     1698   \n7                                 8                     1562   \n8                                96                     1796   \n...                             ...                      ...   \n242615                           71                     1424   \n242619                          108                     1224   \n242621                           34                     1618   \n242626                           16                     1755   \n242629                           66                     1705   \n\n        a_t_a_result.arrival_probe_result.probe.point.lat  \\\n0                                               35.710258   \n2                                               35.734539   \n3                                               35.742271   \n7                                               35.729809   \n8                                               35.501701   \n...                                                   ...   \n242615                                          29.779316   \n242619                                          36.244602   \n242621                                          35.676537   \n242626                                          35.505135   \n242629                                          35.760635   \n\n        a_t_a_result.arrival_probe_result.probe.point.lon  \\\n0                                               51.320045   \n2                                               51.473274   \n3                                               51.066559   \n7                                               51.489296   \n8                                               51.083099   \n...                                                   ...   \n242615                                          52.445328   \n242619                                          58.819424   \n242621                                          51.434235   \n242626                                          51.165989   \n242629                                          51.410149   \n\n        a_t_a_result.arrival_probe_result.probe.timestamp  \\\n0                                            1.670616e+09   \n2                                            1.670617e+09   \n3                                            1.670617e+09   \n7                                            1.670617e+09   \n8                                            1.670616e+09   \n...                                                   ...   \n242615                                       1.672861e+09   \n242619                                       1.672863e+09   \n242621                                       1.672859e+09   \n242626                                       1.672861e+09   \n242629                                       1.672860e+09   \n\n        a_t_a_result.arrival_probe_result.confidence  \\\n0                                           1.000000   \n2                                           1.000000   \n3                                           1.000000   \n7                                           0.769231   \n8                                           1.000000   \n...                                              ...   \n242615                                      0.591716   \n242619                                      1.000000   \n242621                                      0.769231   \n242626                                      1.000000   \n242629                                      0.769231   \n\n       a_t_a_result.arrival_probe_result.h3_index  ...  \\\n0                                 8c2cf31ab6a49ff  ...   \n2                                 8c2cf30188513ff  ...   \n3                                 8c2cf3c634d25ff  ...   \n7                                 8c2cf301821bdff  ...   \n8                                 8c2cf3c89088dff  ...   \n...                                           ...  ...   \n242615                            8c43319768e93ff  ...   \n242619                            8c4364625ba67ff  ...   \n242621                            8c2cf30acd5a7ff  ...   \n242626                            8c2cf3cd32eedff  ...   \n242629                            8c2cf3000ca61ff  ...   \n\n        ride_a_d_d_result.route_ratio  ride_a_d_d_result.g_p_s_ratio  \\\n0                                 0.0                       0.677632   \n2                                 0.0                       0.412698   \n3                                 0.0                       0.723529   \n7                                 0.0                       0.668790   \n8                                 0.0                       0.650000   \n...                               ...                            ...   \n242615                            0.0                       0.433566   \n242619                            0.0                       0.983740   \n242621                            0.0                       0.938272   \n242626                            0.0                       0.982955   \n242629                            0.0                       0.678363   \n\n        total_a_d_d_confidence  in_ride_allotment      e_d_d allotment_time  \\\n0                     0.917219                0.0  20.246000            0.0   \n2                     0.777593                0.0  20.546000            0.0   \n3                     0.867334                0.0  18.523001            0.0   \n7                     0.855068                0.0  24.254000            0.0   \n8                     0.884654                0.0  29.129999            0.0   \n...                        ...                ...        ...            ...   \n242615                0.794403                0.0  17.528999            0.0   \n242619                0.994405                0.0  11.826000            0.0   \n242621                0.952146                0.0  20.430000            0.0   \n242626                1.000000                0.0  10.653000            0.0   \n242629                0.801729                0.0  24.285999            0.0   \n\n         accept_time      clickhouse_time                  hash        hour  \n0       0.000000e+00  2022-12-10 00:01:57   3699733820762960318  124.500000  \n2       0.000000e+00  2022-12-10 00:05:19   5150927157371064959  124.500000  \n3       0.000000e+00  2022-12-10 00:14:30  18093605606729942271  124.500000  \n7       0.000000e+00  2022-12-10 00:14:30  16478269870785257594  124.500000  \n8       0.000000e+00  2022-12-10 00:07:56  15836796804698748802  124.500000  \n...              ...                  ...                   ...         ...  \n242615  1.672860e+09  2023-01-04 23:33:30  13040001161824045813  119.923056  \n242619  1.672862e+09  2023-01-04 23:59:33  14546716718104812220  120.475556  \n242621  1.672859e+09  2023-01-04 23:07:30  17396459735175095542  119.546667  \n242626  1.672860e+09  2023-01-04 23:31:05   8909389839838342316  119.914722  \n242629  1.672860e+09  2023-01-04 23:28:39  10712066931512649818  119.803611  \n\n[2523279 rows x 51 columns]",
      "text/html": "<div>\n<style scoped>\n    .dataframe tbody tr th:only-of-type {\n        vertical-align: middle;\n    }\n\n    .dataframe tbody tr th {\n        vertical-align: top;\n    }\n\n    .dataframe thead th {\n        text-align: right;\n    }\n</style>\n<table border=\"1\" class=\"dataframe\">\n  <thead>\n    <tr style=\"text-align: right;\">\n      <th></th>\n      <th>ride_id</th>\n      <th>driver_id</th>\n      <th>a_t_a_result.arrival_a_t_a</th>\n      <th>a_t_a_result.boarding_a_t_a</th>\n      <th>a_t_a_result.ride_a_t_a</th>\n      <th>a_t_a_result.arrival_probe_result.probe.point.lat</th>\n      <th>a_t_a_result.arrival_probe_result.probe.point.lon</th>\n      <th>a_t_a_result.arrival_probe_result.probe.timestamp</th>\n      <th>a_t_a_result.arrival_probe_result.confidence</th>\n      <th>a_t_a_result.arrival_probe_result.h3_index</th>\n      <th>...</th>\n      <th>ride_a_d_d_result.route_ratio</th>\n      <th>ride_a_d_d_result.g_p_s_ratio</th>\n      <th>total_a_d_d_confidence</th>\n      <th>in_ride_allotment</th>\n      <th>e_d_d</th>\n      <th>allotment_time</th>\n      <th>accept_time</th>\n      <th>clickhouse_time</th>\n      <th>hash</th>\n      <th>hour</th>\n    </tr>\n  </thead>\n  <tbody>\n    <tr>\n      <th>0</th>\n      <td>5443806432</td>\n      <td>360874</td>\n      <td>262</td>\n      <td>1</td>\n      <td>1516</td>\n      <td>35.710258</td>\n      <td>51.320045</td>\n      <td>1.670616e+09</td>\n      <td>1.000000</td>\n      <td>8c2cf31ab6a49ff</td>\n      <td>...</td>\n      <td>0.0</td>\n      <td>0.677632</td>\n      <td>0.917219</td>\n      <td>0.0</td>\n      <td>20.246000</td>\n      <td>0.0</td>\n      <td>0.000000e+00</td>\n      <td>2022-12-10 00:01:57</td>\n      <td>3699733820762960318</td>\n      <td>124.500000</td>\n    </tr>\n    <tr>\n      <th>2</th>\n      <td>5443825291</td>\n      <td>361806</td>\n      <td>192</td>\n      <td>57</td>\n      <td>1260</td>\n      <td>35.734539</td>\n      <td>51.473274</td>\n      <td>1.670617e+09</td>\n      <td>1.000000</td>\n      <td>8c2cf30188513ff</td>\n      <td>...</td>\n      <td>0.0</td>\n      <td>0.412698</td>\n      <td>0.777593</td>\n      <td>0.0</td>\n      <td>20.546000</td>\n      <td>0.0</td>\n      <td>0.000000e+00</td>\n      <td>2022-12-10 00:05:19</td>\n      <td>5150927157371064959</td>\n      <td>124.500000</td>\n    </tr>\n    <tr>\n      <th>3</th>\n      <td>5443836970</td>\n      <td>365004</td>\n      <td>151</td>\n      <td>0</td>\n      <td>1698</td>\n      <td>35.742271</td>\n      <td>51.066559</td>\n      <td>1.670617e+09</td>\n      <td>1.000000</td>\n      <td>8c2cf3c634d25ff</td>\n      <td>...</td>\n      <td>0.0</td>\n      <td>0.723529</td>\n      <td>0.867334</td>\n      <td>0.0</td>\n      <td>18.523001</td>\n      <td>0.0</td>\n      <td>0.000000e+00</td>\n      <td>2022-12-10 00:14:30</td>\n      <td>18093605606729942271</td>\n      <td>124.500000</td>\n    </tr>\n    <tr>\n      <th>7</th>\n      <td>5443838188</td>\n      <td>369771</td>\n      <td>235</td>\n      <td>8</td>\n      <td>1562</td>\n      <td>35.729809</td>\n      <td>51.489296</td>\n      <td>1.670617e+09</td>\n      <td>0.769231</td>\n      <td>8c2cf301821bdff</td>\n      <td>...</td>\n      <td>0.0</td>\n      <td>0.668790</td>\n      <td>0.855068</td>\n      <td>0.0</td>\n      <td>24.254000</td>\n      <td>0.0</td>\n      <td>0.000000e+00</td>\n      <td>2022-12-10 00:14:30</td>\n      <td>16478269870785257594</td>\n      <td>124.500000</td>\n    </tr>\n    <tr>\n      <th>8</th>\n      <td>5443786697</td>\n      <td>370939</td>\n      <td>389</td>\n      <td>96</td>\n      <td>1796</td>\n      <td>35.501701</td>\n      <td>51.083099</td>\n      <td>1.670616e+09</td>\n      <td>1.000000</td>\n      <td>8c2cf3c89088dff</td>\n      <td>...</td>\n      <td>0.0</td>\n      <td>0.650000</td>\n      <td>0.884654</td>\n      <td>0.0</td>\n      <td>29.129999</td>\n      <td>0.0</td>\n      <td>0.000000e+00</td>\n      <td>2022-12-10 00:07:56</td>\n      <td>15836796804698748802</td>\n      <td>124.500000</td>\n    </tr>\n    <tr>\n      <th>...</th>\n      <td>...</td>\n      <td>...</td>\n      <td>...</td>\n      <td>...</td>\n      <td>...</td>\n      <td>...</td>\n      <td>...</td>\n      <td>...</td>\n      <td>...</td>\n      <td>...</td>\n      <td>...</td>\n      <td>...</td>\n      <td>...</td>\n      <td>...</td>\n      <td>...</td>\n      <td>...</td>\n      <td>...</td>\n      <td>...</td>\n      <td>...</td>\n      <td>...</td>\n      <td>...</td>\n    </tr>\n    <tr>\n      <th>242615</th>\n      <td>5616954216</td>\n      <td>4711888</td>\n      <td>740</td>\n      <td>71</td>\n      <td>1424</td>\n      <td>29.779316</td>\n      <td>52.445328</td>\n      <td>1.672861e+09</td>\n      <td>0.591716</td>\n      <td>8c43319768e93ff</td>\n      <td>...</td>\n      <td>0.0</td>\n      <td>0.433566</td>\n      <td>0.794403</td>\n      <td>0.0</td>\n      <td>17.528999</td>\n      <td>0.0</td>\n      <td>1.672860e+09</td>\n      <td>2023-01-04 23:33:30</td>\n      <td>13040001161824045813</td>\n      <td>119.923056</td>\n    </tr>\n    <tr>\n      <th>242619</th>\n      <td>5617054851</td>\n      <td>4714877</td>\n      <td>389</td>\n      <td>108</td>\n      <td>1224</td>\n      <td>36.244602</td>\n      <td>58.819424</td>\n      <td>1.672863e+09</td>\n      <td>1.000000</td>\n      <td>8c4364625ba67ff</td>\n      <td>...</td>\n      <td>0.0</td>\n      <td>0.983740</td>\n      <td>0.994405</td>\n      <td>0.0</td>\n      <td>11.826000</td>\n      <td>0.0</td>\n      <td>1.672862e+09</td>\n      <td>2023-01-04 23:59:33</td>\n      <td>14546716718104812220</td>\n      <td>120.475556</td>\n    </tr>\n    <tr>\n      <th>242621</th>\n      <td>5616866913</td>\n      <td>4715842</td>\n      <td>349</td>\n      <td>34</td>\n      <td>1618</td>\n      <td>35.676537</td>\n      <td>51.434235</td>\n      <td>1.672859e+09</td>\n      <td>0.769231</td>\n      <td>8c2cf30acd5a7ff</td>\n      <td>...</td>\n      <td>0.0</td>\n      <td>0.938272</td>\n      <td>0.952146</td>\n      <td>0.0</td>\n      <td>20.430000</td>\n      <td>0.0</td>\n      <td>1.672859e+09</td>\n      <td>2023-01-04 23:07:30</td>\n      <td>17396459735175095542</td>\n      <td>119.546667</td>\n    </tr>\n    <tr>\n      <th>242626</th>\n      <td>5616952551</td>\n      <td>4717352</td>\n      <td>311</td>\n      <td>16</td>\n      <td>1755</td>\n      <td>35.505135</td>\n      <td>51.165989</td>\n      <td>1.672861e+09</td>\n      <td>1.000000</td>\n      <td>8c2cf3cd32eedff</td>\n      <td>...</td>\n      <td>0.0</td>\n      <td>0.982955</td>\n      <td>1.000000</td>\n      <td>0.0</td>\n      <td>10.653000</td>\n      <td>0.0</td>\n      <td>1.672860e+09</td>\n      <td>2023-01-04 23:31:05</td>\n      <td>8909389839838342316</td>\n      <td>119.914722</td>\n    </tr>\n    <tr>\n      <th>242629</th>\n      <td>5616925900</td>\n      <td>4718330</td>\n      <td>409</td>\n      <td>66</td>\n      <td>1705</td>\n      <td>35.760635</td>\n      <td>51.410149</td>\n      <td>1.672860e+09</td>\n      <td>0.769231</td>\n      <td>8c2cf3000ca61ff</td>\n      <td>...</td>\n      <td>0.0</td>\n      <td>0.678363</td>\n      <td>0.801729</td>\n      <td>0.0</td>\n      <td>24.285999</td>\n      <td>0.0</td>\n      <td>1.672860e+09</td>\n      <td>2023-01-04 23:28:39</td>\n      <td>10712066931512649818</td>\n      <td>119.803611</td>\n    </tr>\n  </tbody>\n</table>\n<p>2523279 rows × 51 columns</p>\n</div>"
     },
     "execution_count": 14,
     "metadata": {},
     "output_type": "execute_result"
    }
   ],
   "source": [
    "khatkesh_df['hour'] = khatkesh_df.apply(lambda row: ((row.accept_time - 1662147000) % 604800) / 3600, axis=1)\n",
    "# rides_train_p1['holiday'] = rides_train_p1.apply(lambda row: int(row.created_at.split()[0] in train_holidays), axis=1)\n",
    "# rides_train_p1\n",
    "khatkesh_df"
   ],
   "metadata": {
    "collapsed": false,
    "pycharm": {
     "name": "#%%\n"
    }
   }
  },
  {
   "cell_type": "code",
   "execution_count": 15,
   "outputs": [
    {
     "name": "stderr",
     "output_type": "stream",
     "text": [
      "/var/folders/yq/707ysz_j3jlggmtk5clx13rm0000gn/T/ipykernel_4445/1692714103.py:1: SettingWithCopyWarning: \n",
      "A value is trying to be set on a copy of a slice from a DataFrame.\n",
      "Try using .loc[row_indexer,col_indexer] = value instead\n",
      "\n",
      "See the caveats in the documentation: https://pandas.pydata.org/pandas-docs/stable/user_guide/indexing.html#returning-a-view-versus-a-copy\n",
      "  khatkesh_df['source_lat'] = khatkesh_df['a_t_a_result.boarding_probe_result.probe.point.lat']\n",
      "/var/folders/yq/707ysz_j3jlggmtk5clx13rm0000gn/T/ipykernel_4445/1692714103.py:2: SettingWithCopyWarning: \n",
      "A value is trying to be set on a copy of a slice from a DataFrame.\n",
      "Try using .loc[row_indexer,col_indexer] = value instead\n",
      "\n",
      "See the caveats in the documentation: https://pandas.pydata.org/pandas-docs/stable/user_guide/indexing.html#returning-a-view-versus-a-copy\n",
      "  khatkesh_df['source_lng'] = khatkesh_df['a_t_a_result.boarding_probe_result.probe.point.lon']\n",
      "/var/folders/yq/707ysz_j3jlggmtk5clx13rm0000gn/T/ipykernel_4445/1692714103.py:4: SettingWithCopyWarning: \n",
      "A value is trying to be set on a copy of a slice from a DataFrame.\n",
      "Try using .loc[row_indexer,col_indexer] = value instead\n",
      "\n",
      "See the caveats in the documentation: https://pandas.pydata.org/pandas-docs/stable/user_guide/indexing.html#returning-a-view-versus-a-copy\n",
      "  khatkesh_df['dest_lat'] = khatkesh_df['a_t_a_result.final_destination_probe_result.probe.point.lat']\n",
      "/var/folders/yq/707ysz_j3jlggmtk5clx13rm0000gn/T/ipykernel_4445/1692714103.py:5: SettingWithCopyWarning: \n",
      "A value is trying to be set on a copy of a slice from a DataFrame.\n",
      "Try using .loc[row_indexer,col_indexer] = value instead\n",
      "\n",
      "See the caveats in the documentation: https://pandas.pydata.org/pandas-docs/stable/user_guide/indexing.html#returning-a-view-versus-a-copy\n",
      "  khatkesh_df['dest_lng'] = khatkesh_df['a_t_a_result.final_destination_probe_result.probe.point.lon']\n"
     ]
    }
   ],
   "source": [
    "khatkesh_df['source_lat'] = khatkesh_df['a_t_a_result.boarding_probe_result.probe.point.lat']\n",
    "khatkesh_df['source_lng'] = khatkesh_df['a_t_a_result.boarding_probe_result.probe.point.lon']\n",
    "\n",
    "khatkesh_df['dest_lat'] = khatkesh_df['a_t_a_result.final_destination_probe_result.probe.point.lat']\n",
    "khatkesh_df['dest_lng'] = khatkesh_df['a_t_a_result.final_destination_probe_result.probe.point.lon']"
   ],
   "metadata": {
    "collapsed": false,
    "pycharm": {
     "name": "#%%\n"
    }
   }
  },
  {
   "cell_type": "code",
   "execution_count": 16,
   "outputs": [
    {
     "name": "stderr",
     "output_type": "stream",
     "text": [
      "/var/folders/yq/707ysz_j3jlggmtk5clx13rm0000gn/T/ipykernel_4445/1108665080.py:1: SettingWithCopyWarning: \n",
      "A value is trying to be set on a copy of a slice from a DataFrame.\n",
      "Try using .loc[row_indexer,col_indexer] = value instead\n",
      "\n",
      "See the caveats in the documentation: https://pandas.pydata.org/pandas-docs/stable/user_guide/indexing.html#returning-a-view-versus-a-copy\n",
      "  khatkesh_df['source_h3_4'] = khatkesh_df.apply(lambda row: h3.geo_to_h3(row.source_lat, row.source_lng, 4), axis=1)\n",
      "/var/folders/yq/707ysz_j3jlggmtk5clx13rm0000gn/T/ipykernel_4445/1108665080.py:2: SettingWithCopyWarning: \n",
      "A value is trying to be set on a copy of a slice from a DataFrame.\n",
      "Try using .loc[row_indexer,col_indexer] = value instead\n",
      "\n",
      "See the caveats in the documentation: https://pandas.pydata.org/pandas-docs/stable/user_guide/indexing.html#returning-a-view-versus-a-copy\n",
      "  khatkesh_df['dest_h3_4'] = khatkesh_df.apply(lambda row: h3.geo_to_h3(row.dest_lat, row.dest_lng, 4), axis=1)\n"
     ]
    }
   ],
   "source": [
    "khatkesh_df['source_h3_4'] = khatkesh_df.apply(lambda row: h3.geo_to_h3(row.source_lat, row.source_lng, 4), axis=1)\n",
    "khatkesh_df['dest_h3_4'] = khatkesh_df.apply(lambda row: h3.geo_to_h3(row.dest_lat, row.dest_lng, 4), axis=1)"
   ],
   "metadata": {
    "collapsed": false,
    "pycharm": {
     "name": "#%%\n"
    }
   }
  },
  {
   "cell_type": "code",
   "execution_count": 17,
   "outputs": [],
   "source": [
    "khatkesh_df = khatkesh_df[khatkesh_df['source_h3_4'] == '842cf31ffffffff']\n",
    "khatkesh_df = khatkesh_df[khatkesh_df['dest_h3_4'] == '842cf31ffffffff']"
   ],
   "metadata": {
    "collapsed": false,
    "pycharm": {
     "name": "#%%\n"
    }
   }
  },
  {
   "cell_type": "code",
   "execution_count": 18,
   "outputs": [
    {
     "data": {
      "text/plain": "           ride_id  driver_id  a_t_a_result.arrival_a_t_a  \\\n0       5443806432     360874                         262   \n2       5443825291     361806                         192   \n7       5443838188     369771                         235   \n11      5443882780     374263                         243   \n17      5443835548     375777                         232   \n...            ...        ...                         ...   \n242558  5616965804    4677662                         359   \n242575  5617037112    4687898                         268   \n242598  5616908140    4705850                         587   \n242621  5616866913    4715842                         349   \n242629  5616925900    4718330                         409   \n\n        a_t_a_result.boarding_a_t_a  a_t_a_result.ride_a_t_a  \\\n0                                 1                     1516   \n2                                57                     1260   \n7                                 8                     1562   \n11                               60                     1344   \n17                              173                     1315   \n...                             ...                      ...   \n242558                          212                     1444   \n242575                           44                     1740   \n242598                           20                     1324   \n242621                           34                     1618   \n242629                           66                     1705   \n\n        a_t_a_result.arrival_probe_result.probe.point.lat  \\\n0                                               35.710258   \n2                                               35.734539   \n7                                               35.729809   \n11                                              35.692493   \n17                                              35.711147   \n...                                                   ...   \n242558                                          35.809017   \n242575                                          35.753708   \n242598                                          35.810551   \n242621                                          35.676537   \n242629                                          35.760635   \n\n        a_t_a_result.arrival_probe_result.probe.point.lon  \\\n0                                               51.320045   \n2                                               51.473274   \n7                                               51.489296   \n11                                              51.321808   \n17                                              51.412785   \n...                                                   ...   \n242558                                          51.470398   \n242575                                          51.440052   \n242598                                          51.431709   \n242621                                          51.434235   \n242629                                          51.410149   \n\n        a_t_a_result.arrival_probe_result.probe.timestamp  \\\n0                                            1.670616e+09   \n2                                            1.670617e+09   \n7                                            1.670617e+09   \n11                                           1.670618e+09   \n17                                           1.670617e+09   \n...                                                   ...   \n242558                                       1.672861e+09   \n242575                                       1.672862e+09   \n242598                                       1.672860e+09   \n242621                                       1.672859e+09   \n242629                                       1.672860e+09   \n\n        a_t_a_result.arrival_probe_result.confidence  \\\n0                                           1.000000   \n2                                           1.000000   \n7                                           0.769231   \n11                                          0.350128   \n17                                          0.591716   \n...                                              ...   \n242558                                      0.769231   \n242575                                      1.000000   \n242598                                      0.591716   \n242621                                      0.769231   \n242629                                      0.769231   \n\n       a_t_a_result.arrival_probe_result.h3_index  ...   accept_time  \\\n0                                 8c2cf31ab6a49ff  ...  0.000000e+00   \n2                                 8c2cf30188513ff  ...  0.000000e+00   \n7                                 8c2cf301821bdff  ...  0.000000e+00   \n11                                8c2cf318c7255ff  ...  0.000000e+00   \n17                                8c2cf30100659ff  ...  0.000000e+00   \n...                                           ...  ...           ...   \n242558                            8c2cf300dd621ff  ...  1.672861e+09   \n242575                            8c2cf3003cc6dff  ...  1.672862e+09   \n242598                            8c2cf302a8491ff  ...  1.672860e+09   \n242621                            8c2cf30acd5a7ff  ...  1.672859e+09   \n242629                            8c2cf3000ca61ff  ...  1.672860e+09   \n\n            clickhouse_time                  hash        hour  source_lat  \\\n0       2022-12-10 00:01:57   3699733820762960318  124.500000   35.710255   \n2       2022-12-10 00:05:19   5150927157371064959  124.500000   35.734512   \n7       2022-12-10 00:14:30  16478269870785257594  124.500000   35.729847   \n11      2022-12-10 00:35:30  13193694263517601274  124.500000   35.692268   \n17      2022-12-10 00:11:51   1619176567221809363  124.500000   35.711060   \n...                     ...                   ...         ...         ...   \n242558  2023-01-04 23:37:05   1897877006922029708  120.017778   35.808914   \n242575  2023-01-04 23:58:25   2636267426606540932  120.391944   35.753723   \n242598  2023-01-04 23:15:05  11723354840479958259  119.698333   35.810558   \n242621  2023-01-04 23:07:30  17396459735175095542  119.546667   35.676788   \n242629  2023-01-04 23:28:39  10712066931512649818  119.803611   35.760590   \n\n       source_lng   dest_lat   dest_lng      source_h3_4        dest_h3_4  \n0       51.320053  35.760868  51.435406  842cf31ffffffff  842cf31ffffffff  \n2       51.473293  35.741379  51.274155  842cf31ffffffff  842cf31ffffffff  \n7       51.489323  35.578388  51.420570  842cf31ffffffff  842cf31ffffffff  \n11      51.322098  35.744358  51.468094  842cf31ffffffff  842cf31ffffffff  \n17      51.412754  35.749416  51.398361  842cf31ffffffff  842cf31ffffffff  \n...           ...        ...        ...              ...              ...  \n242558  51.470387  35.709789  51.419357  842cf31ffffffff  842cf31ffffffff  \n242575  51.440041  35.640652  51.409794  842cf31ffffffff  842cf31ffffffff  \n242598  51.431740  35.737133  51.395176  842cf31ffffffff  842cf31ffffffff  \n242621  51.434341  35.750912  51.319927  842cf31ffffffff  842cf31ffffffff  \n242629  51.410271  35.675457  51.269032  842cf31ffffffff  842cf31ffffffff  \n\n[863667 rows x 57 columns]",
      "text/html": "<div>\n<style scoped>\n    .dataframe tbody tr th:only-of-type {\n        vertical-align: middle;\n    }\n\n    .dataframe tbody tr th {\n        vertical-align: top;\n    }\n\n    .dataframe thead th {\n        text-align: right;\n    }\n</style>\n<table border=\"1\" class=\"dataframe\">\n  <thead>\n    <tr style=\"text-align: right;\">\n      <th></th>\n      <th>ride_id</th>\n      <th>driver_id</th>\n      <th>a_t_a_result.arrival_a_t_a</th>\n      <th>a_t_a_result.boarding_a_t_a</th>\n      <th>a_t_a_result.ride_a_t_a</th>\n      <th>a_t_a_result.arrival_probe_result.probe.point.lat</th>\n      <th>a_t_a_result.arrival_probe_result.probe.point.lon</th>\n      <th>a_t_a_result.arrival_probe_result.probe.timestamp</th>\n      <th>a_t_a_result.arrival_probe_result.confidence</th>\n      <th>a_t_a_result.arrival_probe_result.h3_index</th>\n      <th>...</th>\n      <th>accept_time</th>\n      <th>clickhouse_time</th>\n      <th>hash</th>\n      <th>hour</th>\n      <th>source_lat</th>\n      <th>source_lng</th>\n      <th>dest_lat</th>\n      <th>dest_lng</th>\n      <th>source_h3_4</th>\n      <th>dest_h3_4</th>\n    </tr>\n  </thead>\n  <tbody>\n    <tr>\n      <th>0</th>\n      <td>5443806432</td>\n      <td>360874</td>\n      <td>262</td>\n      <td>1</td>\n      <td>1516</td>\n      <td>35.710258</td>\n      <td>51.320045</td>\n      <td>1.670616e+09</td>\n      <td>1.000000</td>\n      <td>8c2cf31ab6a49ff</td>\n      <td>...</td>\n      <td>0.000000e+00</td>\n      <td>2022-12-10 00:01:57</td>\n      <td>3699733820762960318</td>\n      <td>124.500000</td>\n      <td>35.710255</td>\n      <td>51.320053</td>\n      <td>35.760868</td>\n      <td>51.435406</td>\n      <td>842cf31ffffffff</td>\n      <td>842cf31ffffffff</td>\n    </tr>\n    <tr>\n      <th>2</th>\n      <td>5443825291</td>\n      <td>361806</td>\n      <td>192</td>\n      <td>57</td>\n      <td>1260</td>\n      <td>35.734539</td>\n      <td>51.473274</td>\n      <td>1.670617e+09</td>\n      <td>1.000000</td>\n      <td>8c2cf30188513ff</td>\n      <td>...</td>\n      <td>0.000000e+00</td>\n      <td>2022-12-10 00:05:19</td>\n      <td>5150927157371064959</td>\n      <td>124.500000</td>\n      <td>35.734512</td>\n      <td>51.473293</td>\n      <td>35.741379</td>\n      <td>51.274155</td>\n      <td>842cf31ffffffff</td>\n      <td>842cf31ffffffff</td>\n    </tr>\n    <tr>\n      <th>7</th>\n      <td>5443838188</td>\n      <td>369771</td>\n      <td>235</td>\n      <td>8</td>\n      <td>1562</td>\n      <td>35.729809</td>\n      <td>51.489296</td>\n      <td>1.670617e+09</td>\n      <td>0.769231</td>\n      <td>8c2cf301821bdff</td>\n      <td>...</td>\n      <td>0.000000e+00</td>\n      <td>2022-12-10 00:14:30</td>\n      <td>16478269870785257594</td>\n      <td>124.500000</td>\n      <td>35.729847</td>\n      <td>51.489323</td>\n      <td>35.578388</td>\n      <td>51.420570</td>\n      <td>842cf31ffffffff</td>\n      <td>842cf31ffffffff</td>\n    </tr>\n    <tr>\n      <th>11</th>\n      <td>5443882780</td>\n      <td>374263</td>\n      <td>243</td>\n      <td>60</td>\n      <td>1344</td>\n      <td>35.692493</td>\n      <td>51.321808</td>\n      <td>1.670618e+09</td>\n      <td>0.350128</td>\n      <td>8c2cf318c7255ff</td>\n      <td>...</td>\n      <td>0.000000e+00</td>\n      <td>2022-12-10 00:35:30</td>\n      <td>13193694263517601274</td>\n      <td>124.500000</td>\n      <td>35.692268</td>\n      <td>51.322098</td>\n      <td>35.744358</td>\n      <td>51.468094</td>\n      <td>842cf31ffffffff</td>\n      <td>842cf31ffffffff</td>\n    </tr>\n    <tr>\n      <th>17</th>\n      <td>5443835548</td>\n      <td>375777</td>\n      <td>232</td>\n      <td>173</td>\n      <td>1315</td>\n      <td>35.711147</td>\n      <td>51.412785</td>\n      <td>1.670617e+09</td>\n      <td>0.591716</td>\n      <td>8c2cf30100659ff</td>\n      <td>...</td>\n      <td>0.000000e+00</td>\n      <td>2022-12-10 00:11:51</td>\n      <td>1619176567221809363</td>\n      <td>124.500000</td>\n      <td>35.711060</td>\n      <td>51.412754</td>\n      <td>35.749416</td>\n      <td>51.398361</td>\n      <td>842cf31ffffffff</td>\n      <td>842cf31ffffffff</td>\n    </tr>\n    <tr>\n      <th>...</th>\n      <td>...</td>\n      <td>...</td>\n      <td>...</td>\n      <td>...</td>\n      <td>...</td>\n      <td>...</td>\n      <td>...</td>\n      <td>...</td>\n      <td>...</td>\n      <td>...</td>\n      <td>...</td>\n      <td>...</td>\n      <td>...</td>\n      <td>...</td>\n      <td>...</td>\n      <td>...</td>\n      <td>...</td>\n      <td>...</td>\n      <td>...</td>\n      <td>...</td>\n      <td>...</td>\n    </tr>\n    <tr>\n      <th>242558</th>\n      <td>5616965804</td>\n      <td>4677662</td>\n      <td>359</td>\n      <td>212</td>\n      <td>1444</td>\n      <td>35.809017</td>\n      <td>51.470398</td>\n      <td>1.672861e+09</td>\n      <td>0.769231</td>\n      <td>8c2cf300dd621ff</td>\n      <td>...</td>\n      <td>1.672861e+09</td>\n      <td>2023-01-04 23:37:05</td>\n      <td>1897877006922029708</td>\n      <td>120.017778</td>\n      <td>35.808914</td>\n      <td>51.470387</td>\n      <td>35.709789</td>\n      <td>51.419357</td>\n      <td>842cf31ffffffff</td>\n      <td>842cf31ffffffff</td>\n    </tr>\n    <tr>\n      <th>242575</th>\n      <td>5617037112</td>\n      <td>4687898</td>\n      <td>268</td>\n      <td>44</td>\n      <td>1740</td>\n      <td>35.753708</td>\n      <td>51.440052</td>\n      <td>1.672862e+09</td>\n      <td>1.000000</td>\n      <td>8c2cf3003cc6dff</td>\n      <td>...</td>\n      <td>1.672862e+09</td>\n      <td>2023-01-04 23:58:25</td>\n      <td>2636267426606540932</td>\n      <td>120.391944</td>\n      <td>35.753723</td>\n      <td>51.440041</td>\n      <td>35.640652</td>\n      <td>51.409794</td>\n      <td>842cf31ffffffff</td>\n      <td>842cf31ffffffff</td>\n    </tr>\n    <tr>\n      <th>242598</th>\n      <td>5616908140</td>\n      <td>4705850</td>\n      <td>587</td>\n      <td>20</td>\n      <td>1324</td>\n      <td>35.810551</td>\n      <td>51.431709</td>\n      <td>1.672860e+09</td>\n      <td>0.591716</td>\n      <td>8c2cf302a8491ff</td>\n      <td>...</td>\n      <td>1.672860e+09</td>\n      <td>2023-01-04 23:15:05</td>\n      <td>11723354840479958259</td>\n      <td>119.698333</td>\n      <td>35.810558</td>\n      <td>51.431740</td>\n      <td>35.737133</td>\n      <td>51.395176</td>\n      <td>842cf31ffffffff</td>\n      <td>842cf31ffffffff</td>\n    </tr>\n    <tr>\n      <th>242621</th>\n      <td>5616866913</td>\n      <td>4715842</td>\n      <td>349</td>\n      <td>34</td>\n      <td>1618</td>\n      <td>35.676537</td>\n      <td>51.434235</td>\n      <td>1.672859e+09</td>\n      <td>0.769231</td>\n      <td>8c2cf30acd5a7ff</td>\n      <td>...</td>\n      <td>1.672859e+09</td>\n      <td>2023-01-04 23:07:30</td>\n      <td>17396459735175095542</td>\n      <td>119.546667</td>\n      <td>35.676788</td>\n      <td>51.434341</td>\n      <td>35.750912</td>\n      <td>51.319927</td>\n      <td>842cf31ffffffff</td>\n      <td>842cf31ffffffff</td>\n    </tr>\n    <tr>\n      <th>242629</th>\n      <td>5616925900</td>\n      <td>4718330</td>\n      <td>409</td>\n      <td>66</td>\n      <td>1705</td>\n      <td>35.760635</td>\n      <td>51.410149</td>\n      <td>1.672860e+09</td>\n      <td>0.769231</td>\n      <td>8c2cf3000ca61ff</td>\n      <td>...</td>\n      <td>1.672860e+09</td>\n      <td>2023-01-04 23:28:39</td>\n      <td>10712066931512649818</td>\n      <td>119.803611</td>\n      <td>35.760590</td>\n      <td>51.410271</td>\n      <td>35.675457</td>\n      <td>51.269032</td>\n      <td>842cf31ffffffff</td>\n      <td>842cf31ffffffff</td>\n    </tr>\n  </tbody>\n</table>\n<p>863667 rows × 57 columns</p>\n</div>"
     },
     "execution_count": 18,
     "metadata": {},
     "output_type": "execute_result"
    }
   ],
   "source": [
    "khatkesh_df"
   ],
   "metadata": {
    "collapsed": false,
    "pycharm": {
     "name": "#%%\n"
    }
   }
  },
  {
   "cell_type": "code",
   "execution_count": 19,
   "outputs": [],
   "source": [
    "khatkesh_df['source_h3_9'] = khatkesh_df.apply(lambda row: h3.geo_to_h3(row.source_lat, row.source_lng, 9), axis=1)\n",
    "khatkesh_df['dest_h3_9'] = khatkesh_df.apply(lambda row: h3.geo_to_h3(row.dest_lat, row.dest_lng, 9), axis=1)"
   ],
   "metadata": {
    "collapsed": false,
    "pycharm": {
     "name": "#%%\n"
    }
   }
  },
  {
   "cell_type": "code",
   "execution_count": 50,
   "outputs": [],
   "source": [
    "tmp = khatkesh_df[['ride_id', 'driver_id', 'clickhouse_time', 'source_h3_9', 'dest_h3_9', 'source_lat', 'source_lng', 'dest_lat', 'dest_lng', 'a_t_a_result.ride_a_t_a', 'hour']]"
   ],
   "metadata": {
    "collapsed": false,
    "pycharm": {
     "name": "#%%\n"
    }
   }
  },
  {
   "cell_type": "code",
   "execution_count": 55,
   "outputs": [
    {
     "data": {
      "text/plain": "           ride_id  driver_id  a_t_a_result.arrival_a_t_a  \\\n17      5443835548     375777                         232   \n132     5443832638    4109389                         217   \n156     5443893631    2448604                         242   \n341     5443886684      81024                         425   \n433     5443839650    2042761                        1186   \n...            ...        ...                         ...   \n242028  5616969660    3657957                         380   \n242152  5616909808    4025510                         177   \n242226  5616931166    4205017                         361   \n242237  5617022637    4224797                          82   \n242318  5617010006    4390364                         191   \n\n        a_t_a_result.boarding_a_t_a  a_t_a_result.ride_a_t_a  \\\n17                              173                     1315   \n132                             216                     1710   \n156                              60                     1700   \n341                              34                     1592   \n433                               0                     1408   \n...                             ...                      ...   \n242028                          193                     1574   \n242152                           24                     1442   \n242226                          124                     1428   \n242237                            2                     1655   \n242318                          152                     1432   \n\n        a_t_a_result.arrival_probe_result.probe.point.lat  \\\n17                                              35.711147   \n132                                             35.797009   \n156                                             35.778133   \n341                                             35.805099   \n433                                             35.695847   \n...                                                   ...   \n242028                                          35.699020   \n242152                                          35.689301   \n242226                                          35.664497   \n242237                                          35.685875   \n242318                                          35.708820   \n\n        a_t_a_result.arrival_probe_result.probe.point.lon  \\\n17                                              51.412785   \n132                                             51.439880   \n156                                             51.413506   \n341                                             51.385731   \n433                                             51.324062   \n...                                                   ...   \n242028                                          51.498360   \n242152                                          51.331238   \n242226                                          51.370701   \n242237                                          51.472523   \n242318                                          51.422024   \n\n        a_t_a_result.arrival_probe_result.probe.timestamp  \\\n17                                           1.670617e+09   \n132                                          1.670617e+09   \n156                                          1.670619e+09   \n341                                          1.670619e+09   \n433                                          1.670618e+09   \n...                                                   ...   \n242028                                       1.672861e+09   \n242152                                       1.672860e+09   \n242226                                       1.672860e+09   \n242237                                       1.672862e+09   \n242318                                       1.672862e+09   \n\n        a_t_a_result.arrival_probe_result.confidence  \\\n17                                          0.591716   \n132                                         1.000000   \n156                                         1.000000   \n341                                         1.000000   \n433                                         1.000000   \n...                                              ...   \n242028                                      1.000000   \n242152                                      1.000000   \n242226                                      0.769231   \n242237                                      1.000000   \n242318                                      1.000000   \n\n       a_t_a_result.arrival_probe_result.h3_index  ...                  hash  \\\n17                                8c2cf30100659ff  ...   1619176567221809363   \n132                               8c2cf302a7103ff  ...   7934179127224673588   \n156                               8c2cf30054125ff  ...  15925056929462918846   \n341                               8c2cf3023b337ff  ...  10795194276101936265   \n433                               8c2cf318c3b2bff  ...  12795117280077306491   \n...                                           ...  ...                   ...   \n242028                            8c2cf30f4d657ff  ...  15799472329743561625   \n242152                            8c2cf318c6c17ff  ...   6814191975877546165   \n242226                            8c2cf30a48467ff  ...   1158161477198128174   \n242237                            8c2cf30ad61ddff  ...   1317394576844356935   \n242318                            8c2cf30102a8bff  ...   3167189847571175616   \n\n              hour  source_lat  source_lng   dest_lat   dest_lng  \\\n17      124.500000   35.711060   51.412754  35.749416  51.398361   \n132     124.500000   35.797024   51.439903  35.749374  51.559399   \n156     124.500000   35.778175   51.413502  35.731472  51.464077   \n341     124.500000   35.805107   51.385696  35.737679  51.352921   \n433     124.500000   35.695847   51.324062  35.763382  51.308216   \n...            ...         ...         ...        ...        ...   \n242028  120.023611   35.699013   51.498425  35.674126  51.463402   \n242152  119.712500   35.689308   51.331215  35.758923  51.230473   \n242226  119.806944   35.664898   51.370594  35.727715  51.305298   \n242237  120.298333   35.685875   51.472523  35.608387  51.434090   \n242318  120.227778   35.708820   51.422028  35.687763  51.482540   \n\n            source_h3_4        dest_h3_4      source_h3_9        dest_h3_9  \n17      842cf31ffffffff  842cf31ffffffff  892cf301017ffff  892cf30061bffff  \n132     842cf31ffffffff  842cf31ffffffff  892cf302a73ffff  892cf30e02fffff  \n156     842cf31ffffffff  842cf31ffffffff  892cf30054bffff  892cf301c67ffff  \n341     842cf31ffffffff  842cf31ffffffff  892cf3023b3ffff  892cf303043ffff  \n433     842cf31ffffffff  842cf31ffffffff  892cf318c3bffff  892cf311a3bffff  \n...                 ...              ...              ...              ...  \n242028  842cf31ffffffff  842cf31ffffffff  892cf30f4d7ffff  892cf30a88fffff  \n242152  842cf31ffffffff  842cf31ffffffff  892cf318c6fffff  892cf311047ffff  \n242226  842cf31ffffffff  842cf31ffffffff  892cf30a487ffff  892cf31a94bffff  \n242237  842cf31ffffffff  842cf31ffffffff  892cf30ad63ffff  892cf30844bffff  \n242318  842cf31ffffffff  842cf31ffffffff  892cf30102bffff  892cf30a983ffff  \n\n[25438 rows x 59 columns]",
      "text/html": "<div>\n<style scoped>\n    .dataframe tbody tr th:only-of-type {\n        vertical-align: middle;\n    }\n\n    .dataframe tbody tr th {\n        vertical-align: top;\n    }\n\n    .dataframe thead th {\n        text-align: right;\n    }\n</style>\n<table border=\"1\" class=\"dataframe\">\n  <thead>\n    <tr style=\"text-align: right;\">\n      <th></th>\n      <th>ride_id</th>\n      <th>driver_id</th>\n      <th>a_t_a_result.arrival_a_t_a</th>\n      <th>a_t_a_result.boarding_a_t_a</th>\n      <th>a_t_a_result.ride_a_t_a</th>\n      <th>a_t_a_result.arrival_probe_result.probe.point.lat</th>\n      <th>a_t_a_result.arrival_probe_result.probe.point.lon</th>\n      <th>a_t_a_result.arrival_probe_result.probe.timestamp</th>\n      <th>a_t_a_result.arrival_probe_result.confidence</th>\n      <th>a_t_a_result.arrival_probe_result.h3_index</th>\n      <th>...</th>\n      <th>hash</th>\n      <th>hour</th>\n      <th>source_lat</th>\n      <th>source_lng</th>\n      <th>dest_lat</th>\n      <th>dest_lng</th>\n      <th>source_h3_4</th>\n      <th>dest_h3_4</th>\n      <th>source_h3_9</th>\n      <th>dest_h3_9</th>\n    </tr>\n  </thead>\n  <tbody>\n    <tr>\n      <th>17</th>\n      <td>5443835548</td>\n      <td>375777</td>\n      <td>232</td>\n      <td>173</td>\n      <td>1315</td>\n      <td>35.711147</td>\n      <td>51.412785</td>\n      <td>1.670617e+09</td>\n      <td>0.591716</td>\n      <td>8c2cf30100659ff</td>\n      <td>...</td>\n      <td>1619176567221809363</td>\n      <td>124.500000</td>\n      <td>35.711060</td>\n      <td>51.412754</td>\n      <td>35.749416</td>\n      <td>51.398361</td>\n      <td>842cf31ffffffff</td>\n      <td>842cf31ffffffff</td>\n      <td>892cf301017ffff</td>\n      <td>892cf30061bffff</td>\n    </tr>\n    <tr>\n      <th>132</th>\n      <td>5443832638</td>\n      <td>4109389</td>\n      <td>217</td>\n      <td>216</td>\n      <td>1710</td>\n      <td>35.797009</td>\n      <td>51.439880</td>\n      <td>1.670617e+09</td>\n      <td>1.000000</td>\n      <td>8c2cf302a7103ff</td>\n      <td>...</td>\n      <td>7934179127224673588</td>\n      <td>124.500000</td>\n      <td>35.797024</td>\n      <td>51.439903</td>\n      <td>35.749374</td>\n      <td>51.559399</td>\n      <td>842cf31ffffffff</td>\n      <td>842cf31ffffffff</td>\n      <td>892cf302a73ffff</td>\n      <td>892cf30e02fffff</td>\n    </tr>\n    <tr>\n      <th>156</th>\n      <td>5443893631</td>\n      <td>2448604</td>\n      <td>242</td>\n      <td>60</td>\n      <td>1700</td>\n      <td>35.778133</td>\n      <td>51.413506</td>\n      <td>1.670619e+09</td>\n      <td>1.000000</td>\n      <td>8c2cf30054125ff</td>\n      <td>...</td>\n      <td>15925056929462918846</td>\n      <td>124.500000</td>\n      <td>35.778175</td>\n      <td>51.413502</td>\n      <td>35.731472</td>\n      <td>51.464077</td>\n      <td>842cf31ffffffff</td>\n      <td>842cf31ffffffff</td>\n      <td>892cf30054bffff</td>\n      <td>892cf301c67ffff</td>\n    </tr>\n    <tr>\n      <th>341</th>\n      <td>5443886684</td>\n      <td>81024</td>\n      <td>425</td>\n      <td>34</td>\n      <td>1592</td>\n      <td>35.805099</td>\n      <td>51.385731</td>\n      <td>1.670619e+09</td>\n      <td>1.000000</td>\n      <td>8c2cf3023b337ff</td>\n      <td>...</td>\n      <td>10795194276101936265</td>\n      <td>124.500000</td>\n      <td>35.805107</td>\n      <td>51.385696</td>\n      <td>35.737679</td>\n      <td>51.352921</td>\n      <td>842cf31ffffffff</td>\n      <td>842cf31ffffffff</td>\n      <td>892cf3023b3ffff</td>\n      <td>892cf303043ffff</td>\n    </tr>\n    <tr>\n      <th>433</th>\n      <td>5443839650</td>\n      <td>2042761</td>\n      <td>1186</td>\n      <td>0</td>\n      <td>1408</td>\n      <td>35.695847</td>\n      <td>51.324062</td>\n      <td>1.670618e+09</td>\n      <td>1.000000</td>\n      <td>8c2cf318c3b2bff</td>\n      <td>...</td>\n      <td>12795117280077306491</td>\n      <td>124.500000</td>\n      <td>35.695847</td>\n      <td>51.324062</td>\n      <td>35.763382</td>\n      <td>51.308216</td>\n      <td>842cf31ffffffff</td>\n      <td>842cf31ffffffff</td>\n      <td>892cf318c3bffff</td>\n      <td>892cf311a3bffff</td>\n    </tr>\n    <tr>\n      <th>...</th>\n      <td>...</td>\n      <td>...</td>\n      <td>...</td>\n      <td>...</td>\n      <td>...</td>\n      <td>...</td>\n      <td>...</td>\n      <td>...</td>\n      <td>...</td>\n      <td>...</td>\n      <td>...</td>\n      <td>...</td>\n      <td>...</td>\n      <td>...</td>\n      <td>...</td>\n      <td>...</td>\n      <td>...</td>\n      <td>...</td>\n      <td>...</td>\n      <td>...</td>\n      <td>...</td>\n    </tr>\n    <tr>\n      <th>242028</th>\n      <td>5616969660</td>\n      <td>3657957</td>\n      <td>380</td>\n      <td>193</td>\n      <td>1574</td>\n      <td>35.699020</td>\n      <td>51.498360</td>\n      <td>1.672861e+09</td>\n      <td>1.000000</td>\n      <td>8c2cf30f4d657ff</td>\n      <td>...</td>\n      <td>15799472329743561625</td>\n      <td>120.023611</td>\n      <td>35.699013</td>\n      <td>51.498425</td>\n      <td>35.674126</td>\n      <td>51.463402</td>\n      <td>842cf31ffffffff</td>\n      <td>842cf31ffffffff</td>\n      <td>892cf30f4d7ffff</td>\n      <td>892cf30a88fffff</td>\n    </tr>\n    <tr>\n      <th>242152</th>\n      <td>5616909808</td>\n      <td>4025510</td>\n      <td>177</td>\n      <td>24</td>\n      <td>1442</td>\n      <td>35.689301</td>\n      <td>51.331238</td>\n      <td>1.672860e+09</td>\n      <td>1.000000</td>\n      <td>8c2cf318c6c17ff</td>\n      <td>...</td>\n      <td>6814191975877546165</td>\n      <td>119.712500</td>\n      <td>35.689308</td>\n      <td>51.331215</td>\n      <td>35.758923</td>\n      <td>51.230473</td>\n      <td>842cf31ffffffff</td>\n      <td>842cf31ffffffff</td>\n      <td>892cf318c6fffff</td>\n      <td>892cf311047ffff</td>\n    </tr>\n    <tr>\n      <th>242226</th>\n      <td>5616931166</td>\n      <td>4205017</td>\n      <td>361</td>\n      <td>124</td>\n      <td>1428</td>\n      <td>35.664497</td>\n      <td>51.370701</td>\n      <td>1.672860e+09</td>\n      <td>0.769231</td>\n      <td>8c2cf30a48467ff</td>\n      <td>...</td>\n      <td>1158161477198128174</td>\n      <td>119.806944</td>\n      <td>35.664898</td>\n      <td>51.370594</td>\n      <td>35.727715</td>\n      <td>51.305298</td>\n      <td>842cf31ffffffff</td>\n      <td>842cf31ffffffff</td>\n      <td>892cf30a487ffff</td>\n      <td>892cf31a94bffff</td>\n    </tr>\n    <tr>\n      <th>242237</th>\n      <td>5617022637</td>\n      <td>4224797</td>\n      <td>82</td>\n      <td>2</td>\n      <td>1655</td>\n      <td>35.685875</td>\n      <td>51.472523</td>\n      <td>1.672862e+09</td>\n      <td>1.000000</td>\n      <td>8c2cf30ad61ddff</td>\n      <td>...</td>\n      <td>1317394576844356935</td>\n      <td>120.298333</td>\n      <td>35.685875</td>\n      <td>51.472523</td>\n      <td>35.608387</td>\n      <td>51.434090</td>\n      <td>842cf31ffffffff</td>\n      <td>842cf31ffffffff</td>\n      <td>892cf30ad63ffff</td>\n      <td>892cf30844bffff</td>\n    </tr>\n    <tr>\n      <th>242318</th>\n      <td>5617010006</td>\n      <td>4390364</td>\n      <td>191</td>\n      <td>152</td>\n      <td>1432</td>\n      <td>35.708820</td>\n      <td>51.422024</td>\n      <td>1.672862e+09</td>\n      <td>1.000000</td>\n      <td>8c2cf30102a8bff</td>\n      <td>...</td>\n      <td>3167189847571175616</td>\n      <td>120.227778</td>\n      <td>35.708820</td>\n      <td>51.422028</td>\n      <td>35.687763</td>\n      <td>51.482540</td>\n      <td>842cf31ffffffff</td>\n      <td>842cf31ffffffff</td>\n      <td>892cf30102bffff</td>\n      <td>892cf30a983ffff</td>\n    </tr>\n  </tbody>\n</table>\n<p>25438 rows × 59 columns</p>\n</div>"
     },
     "execution_count": 55,
     "metadata": {},
     "output_type": "execute_result"
    }
   ],
   "source": [
    "khatkesh_df[khatkesh_df['a_t_a_result.extra_destination_probe_result.confidence'] > 0]"
   ],
   "metadata": {
    "collapsed": false,
    "pycharm": {
     "name": "#%%\n"
    }
   }
  },
  {
   "cell_type": "code",
   "execution_count": 21,
   "outputs": [
    {
     "data": {
      "text/plain": "892cf318c73ffff    3079\n892cf318c6fffff    2603\n892cf30a0b3ffff    1695\n892cf302a8fffff    1625\n892cf30a54bffff    1619\n                   ... \n892cf3190d7ffff       1\n892cf309573ffff       1\n892cf30801bffff       1\n892cf31b3dbffff       1\n892cf30e58bffff       1\nName: source_h3_9, Length: 5804, dtype: int64"
     },
     "execution_count": 21,
     "metadata": {},
     "output_type": "execute_result"
    }
   ],
   "source": [
    "source_h3 = tmp['source_h3_9'].value_counts()\n",
    "source_h3"
   ],
   "metadata": {
    "collapsed": false,
    "pycharm": {
     "name": "#%%\n"
    }
   }
  },
  {
   "cell_type": "code",
   "execution_count": 22,
   "outputs": [
    {
     "data": {
      "text/plain": "892cf318c6fffff    2557\n892cf300667ffff    2266\n892cf30a54bffff    2201\n892cf318dcbffff    2032\n892cf3002dbffff    1774\n                   ... \n892cf3c490fffff       1\n892cf30cc47ffff       1\n892cf31a563ffff       1\n892cf318223ffff       1\n892cf319227ffff       1\nName: dest_h3_9, Length: 5991, dtype: int64"
     },
     "execution_count": 22,
     "metadata": {},
     "output_type": "execute_result"
    }
   ],
   "source": [
    "destination_h3 = tmp['dest_h3_9'].value_counts()\n",
    "destination_h3"
   ],
   "metadata": {
    "collapsed": false,
    "pycharm": {
     "name": "#%%\n"
    }
   }
  },
  {
   "cell_type": "code",
   "execution_count": 23,
   "outputs": [],
   "source": [
    "# a = rides_train_p1[(rides_train_p1['source_h3_9'] == \"892cf318c73ffff\") & (rides_train_p1['dest_h3_9'] == \"892cf30a0b3ffff\")][['eta', 'a_t_a_result.ride_a_t_a']]\n",
    "# a"
   ],
   "metadata": {
    "collapsed": false,
    "pycharm": {
     "name": "#%%\n"
    }
   }
  },
  {
   "cell_type": "code",
   "execution_count": 24,
   "outputs": [],
   "source": [
    "# for b, c in a.items():\n",
    "#     print(b)"
   ],
   "metadata": {
    "collapsed": false,
    "pycharm": {
     "name": "#%%\n"
    }
   }
  },
  {
   "cell_type": "code",
   "execution_count": 37,
   "outputs": [
    {
     "data": {
      "text/plain": "892cf318c73ffff    3079\n892cf318c6fffff    2603\n892cf30a0b3ffff    1695\n892cf302a8fffff    1625\n892cf30a54bffff    1619\n                   ... \n892cf3010d3ffff     608\n892cf3006a3ffff     605\n892cf318db7ffff     604\n892cf301ecbffff     603\n892cf30352fffff     601\nName: source_h3_9, Length: 134, dtype: int64"
     },
     "execution_count": 37,
     "metadata": {},
     "output_type": "execute_result"
    }
   ],
   "source": [
    "source_h3 = source_h3[source_h3 > 600]\n",
    "source_h3"
   ],
   "metadata": {
    "collapsed": false,
    "pycharm": {
     "name": "#%%\n"
    }
   }
  },
  {
   "cell_type": "code",
   "execution_count": 38,
   "outputs": [
    {
     "data": {
      "text/plain": "892cf318c6fffff    2557\n892cf300667ffff    2266\n892cf30a54bffff    2201\n892cf318dcbffff    2032\n892cf3002dbffff    1774\n                   ... \n892cf301053ffff     603\n892cf301073ffff     603\n892cf302267ffff     603\n892cf30352fffff     602\n892cf31899bffff     601\nName: dest_h3_9, Length: 197, dtype: int64"
     },
     "execution_count": 38,
     "metadata": {},
     "output_type": "execute_result"
    }
   ],
   "source": [
    "destination_h3 = destination_h3[destination_h3 > 600]\n",
    "destination_h3"
   ],
   "metadata": {
    "collapsed": false,
    "pycharm": {
     "name": "#%%\n"
    }
   }
  },
  {
   "cell_type": "code",
   "execution_count": 39,
   "outputs": [
    {
     "name": "stdout",
     "output_type": "stream",
     "text": [
      "892cf318c73ffff\n",
      "892cf3006a7ffff\n",
      "11\n",
      "892cf318c73ffff\n",
      "892cf301087ffff\n",
      "15\n",
      "892cf318c6fffff\n",
      "892cf301077ffff\n",
      "11\n",
      "892cf318c6fffff\n",
      "892cf30100fffff\n",
      "11\n",
      "892cf30a0b3ffff\n",
      "892cf318dcbffff\n",
      "15\n",
      "892cf30a54bffff\n",
      "892cf318dcbffff\n",
      "11\n",
      "892cf30a393ffff\n",
      "892cf318dcbffff\n",
      "11\n",
      "892cf31a977ffff\n",
      "892cf31a977ffff\n",
      "13\n",
      "892cf3002dbffff\n",
      "892cf3002dbffff\n",
      "11\n",
      "892cf301017ffff\n",
      "892cf318dcbffff\n",
      "11\n",
      "892cf30118bffff\n",
      "892cf30118bffff\n",
      "14\n",
      "892cf301007ffff\n",
      "892cf301007ffff\n",
      "11\n",
      "892cf3002cbffff\n",
      "892cf318dcbffff\n",
      "11\n",
      "892cf301033ffff\n",
      "892cf301033ffff\n",
      "12\n",
      "892cf301003ffff\n",
      "892cf301003ffff\n",
      "11\n",
      "892cf300c87ffff\n",
      "892cf3005b3ffff\n",
      "11\n",
      "892cf3010abffff\n",
      "892cf3010abffff\n",
      "11\n",
      "892cf30222bffff\n",
      "892cf30222bffff\n",
      "11\n",
      "892cf30220bffff\n",
      "892cf300053ffff\n",
      "11\n",
      "892cf30062fffff\n",
      "892cf30062fffff\n",
      "13\n",
      "892cf318d97ffff\n",
      "892cf311b8fffff\n",
      "11\n",
      "892cf30119bffff\n",
      "892cf30119bffff\n",
      "12\n",
      "892cf30226fffff\n",
      "892cf30226fffff\n",
      "22\n",
      "892cf301637ffff\n",
      "892cf300303ffff\n",
      "11\n"
     ]
    }
   ],
   "source": [
    "# pipeline_err = []\n",
    "clustering_err = []\n",
    "\n",
    "for s, _ in source_h3.items():\n",
    "    for d, _ in destination_h3.items():\n",
    "        cluster_ata = tmp[(tmp['source_h3_9'] == s) & (tmp['dest_h3_9'] == d)]['a_t_a_result.ride_a_t_a']\n",
    "        # cluster_eta = tmp[(tmp['source_h3_9'] == s) & (tmp['dest_h3_9'] == d)]['eta']\n",
    "        if len(cluster_ata) > 10:\n",
    "            print(s)\n",
    "            print(d)\n",
    "            print(len(cluster_ata))\n",
    "            # pipeline_err.append(cluster_eta - cluster_ata)\n",
    "            for i, _ in cluster_ata.items():\n",
    "                ca_train = cluster_ata[cluster_ata.index != i]\n",
    "                ca_test = cluster_ata[cluster_ata.index == i]\n",
    "\n",
    "                clustering_err.append(ca_train.mean()- ca_test)"
   ],
   "metadata": {
    "collapsed": false,
    "pycharm": {
     "name": "#%%\n"
    }
   }
  },
  {
   "cell_type": "code",
   "execution_count": 40,
   "outputs": [
    {
     "data": {
      "text/plain": "[246826   -292.1\n Name: a_t_a_result.ride_a_t_a, dtype: float64,\n 217604   -240.4\n Name: a_t_a_result.ride_a_t_a, dtype: float64,\n 453409    191.9\n Name: a_t_a_result.ride_a_t_a, dtype: float64,\n 127179   -181.0\n Name: a_t_a_result.ride_a_t_a, dtype: float64,\n 254303    117.1\n Name: a_t_a_result.ride_a_t_a, dtype: float64,\n 403342    45.6\n Name: a_t_a_result.ride_a_t_a, dtype: float64,\n 429165    205.1\n Name: a_t_a_result.ride_a_t_a, dtype: float64,\n 169454   -146.9\n Name: a_t_a_result.ride_a_t_a, dtype: float64,\n 381951    231.5\n Name: a_t_a_result.ride_a_t_a, dtype: float64,\n 2758    18.1\n Name: a_t_a_result.ride_a_t_a, dtype: float64,\n 429419    51.1\n Name: a_t_a_result.ride_a_t_a, dtype: float64,\n 235093   -280.571429\n Name: a_t_a_result.ride_a_t_a, dtype: float64,\n 5867    273.357143\n Name: a_t_a_result.ride_a_t_a, dtype: float64,\n 267    265.857143\n Name: a_t_a_result.ride_a_t_a, dtype: float64,\n 195225   -207.714286\n Name: a_t_a_result.ride_a_t_a, dtype: float64,\n 186209   -20.214286\n Name: a_t_a_result.ride_a_t_a, dtype: float64,\n 450296    203.714286\n Name: a_t_a_result.ride_a_t_a, dtype: float64,\n 67328    78.357143\n Name: a_t_a_result.ride_a_t_a, dtype: float64,\n 115772   -103.785714\n Name: a_t_a_result.ride_a_t_a, dtype: float64,\n 120192   -238.785714\n Name: a_t_a_result.ride_a_t_a, dtype: float64,\n 254959    125.5\n Name: a_t_a_result.ride_a_t_a, dtype: float64,\n 331021   -80.214286\n Name: a_t_a_result.ride_a_t_a, dtype: float64,\n 423533    126.571429\n Name: a_t_a_result.ride_a_t_a, dtype: float64,\n 103265   -321.285714\n Name: a_t_a_result.ride_a_t_a, dtype: float64,\n 220928    225.142857\n Name: a_t_a_result.ride_a_t_a, dtype: float64,\n 436309   -45.928571\n Name: a_t_a_result.ride_a_t_a, dtype: float64,\n 273173   -172.5\n Name: a_t_a_result.ride_a_t_a, dtype: float64,\n 70137    153.1\n Name: a_t_a_result.ride_a_t_a, dtype: float64,\n 49403    43.1\n Name: a_t_a_result.ride_a_t_a, dtype: float64,\n 96281    31.0\n Name: a_t_a_result.ride_a_t_a, dtype: float64,\n 267569   -176.9\n Name: a_t_a_result.ride_a_t_a, dtype: float64,\n 52900    34.3\n Name: a_t_a_result.ride_a_t_a, dtype: float64,\n 180340    34.3\n Name: a_t_a_result.ride_a_t_a, dtype: float64,\n 153383    91.5\n Name: a_t_a_result.ride_a_t_a, dtype: float64,\n 37336    64.0\n Name: a_t_a_result.ride_a_t_a, dtype: float64,\n 401233    100.3\n Name: a_t_a_result.ride_a_t_a, dtype: float64,\n 114070   -202.2\n Name: a_t_a_result.ride_a_t_a, dtype: float64,\n 76591   -154.6\n Name: a_t_a_result.ride_a_t_a, dtype: float64,\n 99031   -13.8\n Name: a_t_a_result.ride_a_t_a, dtype: float64,\n 33025    61.0\n Name: a_t_a_result.ride_a_t_a, dtype: float64,\n 140257   -75.4\n Name: a_t_a_result.ride_a_t_a, dtype: float64,\n 184922   -141.4\n Name: a_t_a_result.ride_a_t_a, dtype: float64,\n 407227    316.2\n Name: a_t_a_result.ride_a_t_a, dtype: float64,\n 399176    254.6\n Name: a_t_a_result.ride_a_t_a, dtype: float64,\n 168467   -149.1\n Name: a_t_a_result.ride_a_t_a, dtype: float64,\n 115770    84.1\n Name: a_t_a_result.ride_a_t_a, dtype: float64,\n 133243   -41.3\n Name: a_t_a_result.ride_a_t_a, dtype: float64,\n 143380   -140.3\n Name: a_t_a_result.ride_a_t_a, dtype: float64,\n 21380   -113.357143\n Name: a_t_a_result.ride_a_t_a, dtype: float64,\n 182418   -94.071429\n Name: a_t_a_result.ride_a_t_a, dtype: float64,\n 186592    125.571429\n Name: a_t_a_result.ride_a_t_a, dtype: float64,\n 96784    5.571429\n Name: a_t_a_result.ride_a_t_a, dtype: float64,\n 12534   -121.928571\n Name: a_t_a_result.ride_a_t_a, dtype: float64,\n 131349   -22.285714\n Name: a_t_a_result.ride_a_t_a, dtype: float64,\n 136766    162.0\n Name: a_t_a_result.ride_a_t_a, dtype: float64,\n 226689   -19.071429\n Name: a_t_a_result.ride_a_t_a, dtype: float64,\n 266661   -96.214286\n Name: a_t_a_result.ride_a_t_a, dtype: float64,\n 190514   -211.928571\n Name: a_t_a_result.ride_a_t_a, dtype: float64,\n 217185    120.214286\n Name: a_t_a_result.ride_a_t_a, dtype: float64,\n 438812    23.785714\n Name: a_t_a_result.ride_a_t_a, dtype: float64,\n 14755    232.714286\n Name: a_t_a_result.ride_a_t_a, dtype: float64,\n 62227    79.5\n Name: a_t_a_result.ride_a_t_a, dtype: float64,\n 146502   -70.5\n Name: a_t_a_result.ride_a_t_a, dtype: float64,\n 24805   -98.8\n Name: a_t_a_result.ride_a_t_a, dtype: float64,\n 7759   -73.5\n Name: a_t_a_result.ride_a_t_a, dtype: float64,\n 443611    234.5\n Name: a_t_a_result.ride_a_t_a, dtype: float64,\n 29274    66.2\n Name: a_t_a_result.ride_a_t_a, dtype: float64,\n 65521    138.8\n Name: a_t_a_result.ride_a_t_a, dtype: float64,\n 13821    192.7\n Name: a_t_a_result.ride_a_t_a, dtype: float64,\n 166621   -192.3\n Name: a_t_a_result.ride_a_t_a, dtype: float64,\n 182260   -50.4\n Name: a_t_a_result.ride_a_t_a, dtype: float64,\n 188606   -112.0\n Name: a_t_a_result.ride_a_t_a, dtype: float64,\n 366407    9.0\n Name: a_t_a_result.ride_a_t_a, dtype: float64,\n 244030   -114.2\n Name: a_t_a_result.ride_a_t_a, dtype: float64,\n 425304    52.6\n Name: a_t_a_result.ride_a_t_a, dtype: float64,\n 457095   -256.5\n Name: a_t_a_result.ride_a_t_a, dtype: float64,\n 4033    297.9\n Name: a_t_a_result.ride_a_t_a, dtype: float64,\n 11123    60.3\n Name: a_t_a_result.ride_a_t_a, dtype: float64,\n 161684   -259.8\n Name: a_t_a_result.ride_a_t_a, dtype: float64,\n 452724    246.2\n Name: a_t_a_result.ride_a_t_a, dtype: float64,\n 57796    344.1\n Name: a_t_a_result.ride_a_t_a, dtype: float64,\n 106771    88.9\n Name: a_t_a_result.ride_a_t_a, dtype: float64,\n 135034   -141.0\n Name: a_t_a_result.ride_a_t_a, dtype: float64,\n 89844   -230.1\n Name: a_t_a_result.ride_a_t_a, dtype: float64,\n 60672   -202.6\n Name: a_t_a_result.ride_a_t_a, dtype: float64,\n 97094    49.75\n Name: a_t_a_result.ride_a_t_a, dtype: float64,\n 319395    110.416667\n Name: a_t_a_result.ride_a_t_a, dtype: float64,\n 221997    150.5\n Name: a_t_a_result.ride_a_t_a, dtype: float64,\n 473072    30.25\n Name: a_t_a_result.ride_a_t_a, dtype: float64,\n 315257   -127.916667\n Name: a_t_a_result.ride_a_t_a, dtype: float64,\n 185    154.833333\n Name: a_t_a_result.ride_a_t_a, dtype: float64,\n 161680    58.416667\n Name: a_t_a_result.ride_a_t_a, dtype: float64,\n 191142    123.416667\n Name: a_t_a_result.ride_a_t_a, dtype: float64,\n 282672   -105.166667\n Name: a_t_a_result.ride_a_t_a, dtype: float64,\n 222596   -67.25\n Name: a_t_a_result.ride_a_t_a, dtype: float64,\n 306362   -143.083333\n Name: a_t_a_result.ride_a_t_a, dtype: float64,\n 353132   -114.916667\n Name: a_t_a_result.ride_a_t_a, dtype: float64,\n 197952   -119.25\n Name: a_t_a_result.ride_a_t_a, dtype: float64,\n 217518   -219.2\n Name: a_t_a_result.ride_a_t_a, dtype: float64,\n 218034    4.1\n Name: a_t_a_result.ride_a_t_a, dtype: float64,\n 8948   -52.0\n Name: a_t_a_result.ride_a_t_a, dtype: float64,\n 106426   -176.3\n Name: a_t_a_result.ride_a_t_a, dtype: float64,\n 117029   -27.8\n Name: a_t_a_result.ride_a_t_a, dtype: float64,\n 136141    272.5\n Name: a_t_a_result.ride_a_t_a, dtype: float64,\n 244199    317.6\n Name: a_t_a_result.ride_a_t_a, dtype: float64,\n 191630   -130.1\n Name: a_t_a_result.ride_a_t_a, dtype: float64,\n 222368   -206.0\n Name: a_t_a_result.ride_a_t_a, dtype: float64,\n 99    84.4\n Name: a_t_a_result.ride_a_t_a, dtype: float64,\n 121707    132.8\n Name: a_t_a_result.ride_a_t_a, dtype: float64,\n 94415   -85.6\n Name: a_t_a_result.ride_a_t_a, dtype: float64,\n 254909    0.2\n Name: a_t_a_result.ride_a_t_a, dtype: float64,\n 269117   -156.0\n Name: a_t_a_result.ride_a_t_a, dtype: float64,\n 417413   -19.6\n Name: a_t_a_result.ride_a_t_a, dtype: float64,\n 150335    121.2\n Name: a_t_a_result.ride_a_t_a, dtype: float64,\n 16399    303.8\n Name: a_t_a_result.ride_a_t_a, dtype: float64,\n 111423   -41.6\n Name: a_t_a_result.ride_a_t_a, dtype: float64,\n 260360   -58.1\n Name: a_t_a_result.ride_a_t_a, dtype: float64,\n 137342   -171.4\n Name: a_t_a_result.ride_a_t_a, dtype: float64,\n 251432   -173.6\n Name: a_t_a_result.ride_a_t_a, dtype: float64,\n 194861    280.7\n Name: a_t_a_result.ride_a_t_a, dtype: float64,\n 98177    101.384615\n Name: a_t_a_result.ride_a_t_a, dtype: float64,\n 218422   -145.230769\n Name: a_t_a_result.ride_a_t_a, dtype: float64,\n 212992   -326.153846\n Name: a_t_a_result.ride_a_t_a, dtype: float64,\n 263924    320.0\n Name: a_t_a_result.ride_a_t_a, dtype: float64,\n 256973   -11.692308\n Name: a_t_a_result.ride_a_t_a, dtype: float64,\n 57929    113.230769\n Name: a_t_a_result.ride_a_t_a, dtype: float64,\n 245620    311.384615\n Name: a_t_a_result.ride_a_t_a, dtype: float64,\n 130780    164.923077\n Name: a_t_a_result.ride_a_t_a, dtype: float64,\n 39932    48.615385\n Name: a_t_a_result.ride_a_t_a, dtype: float64,\n 342837    190.769231\n Name: a_t_a_result.ride_a_t_a, dtype: float64,\n 202820   -214.153846\n Name: a_t_a_result.ride_a_t_a, dtype: float64,\n 150617   -261.538462\n Name: a_t_a_result.ride_a_t_a, dtype: float64,\n 24489    30.307692\n Name: a_t_a_result.ride_a_t_a, dtype: float64,\n 95490   -321.846154\n Name: a_t_a_result.ride_a_t_a, dtype: float64,\n 102187    259.8\n Name: a_t_a_result.ride_a_t_a, dtype: float64,\n 259892    0.2\n Name: a_t_a_result.ride_a_t_a, dtype: float64,\n 66111    134.4\n Name: a_t_a_result.ride_a_t_a, dtype: float64,\n 206396   -311.1\n Name: a_t_a_result.ride_a_t_a, dtype: float64,\n 234343   -105.4\n Name: a_t_a_result.ride_a_t_a, dtype: float64,\n 192281    38.7\n Name: a_t_a_result.ride_a_t_a, dtype: float64,\n 84942   -319.9\n Name: a_t_a_result.ride_a_t_a, dtype: float64,\n 187055   -181.3\n Name: a_t_a_result.ride_a_t_a, dtype: float64,\n 213898    24.4\n Name: a_t_a_result.ride_a_t_a, dtype: float64,\n 92178    165.2\n Name: a_t_a_result.ride_a_t_a, dtype: float64,\n 111408    295.0\n Name: a_t_a_result.ride_a_t_a, dtype: float64,\n 215121   -183.0\n Name: a_t_a_result.ride_a_t_a, dtype: float64,\n 448913    172.3\n Name: a_t_a_result.ride_a_t_a, dtype: float64,\n 74978    139.3\n Name: a_t_a_result.ride_a_t_a, dtype: float64,\n 172688    21.6\n Name: a_t_a_result.ride_a_t_a, dtype: float64,\n 45403    18.3\n Name: a_t_a_result.ride_a_t_a, dtype: float64,\n 178558   -118.1\n Name: a_t_a_result.ride_a_t_a, dtype: float64,\n 90683   -146.7\n Name: a_t_a_result.ride_a_t_a, dtype: float64,\n 51304    170.1\n Name: a_t_a_result.ride_a_t_a, dtype: float64,\n 106973    29.3\n Name: a_t_a_result.ride_a_t_a, dtype: float64,\n 428374    178.9\n Name: a_t_a_result.ride_a_t_a, dtype: float64,\n 432705   -282.0\n Name: a_t_a_result.ride_a_t_a, dtype: float64,\n 202210   -317.181818\n Name: a_t_a_result.ride_a_t_a, dtype: float64,\n 7495    266.454545\n Name: a_t_a_result.ride_a_t_a, dtype: float64,\n 74225    31.909091\n Name: a_t_a_result.ride_a_t_a, dtype: float64,\n 108965    322.090909\n Name: a_t_a_result.ride_a_t_a, dtype: float64,\n 182104   -35.727273\n Name: a_t_a_result.ride_a_t_a, dtype: float64,\n 304393    276.272727\n Name: a_t_a_result.ride_a_t_a, dtype: float64,\n 305381   -157.909091\n Name: a_t_a_result.ride_a_t_a, dtype: float64,\n 316153    101.727273\n Name: a_t_a_result.ride_a_t_a, dtype: float64,\n 205979   -104.454545\n Name: a_t_a_result.ride_a_t_a, dtype: float64,\n 283222   -289.909091\n Name: a_t_a_result.ride_a_t_a, dtype: float64,\n 190821   -267.0\n Name: a_t_a_result.ride_a_t_a, dtype: float64,\n 427418    173.727273\n Name: a_t_a_result.ride_a_t_a, dtype: float64,\n 24819    47.6\n Name: a_t_a_result.ride_a_t_a, dtype: float64,\n 35850   -345.1\n Name: a_t_a_result.ride_a_t_a, dtype: float64,\n 248880    72.9\n Name: a_t_a_result.ride_a_t_a, dtype: float64,\n 168774    167.5\n Name: a_t_a_result.ride_a_t_a, dtype: float64,\n 68906    215.9\n Name: a_t_a_result.ride_a_t_a, dtype: float64,\n 58938   -78.9\n Name: a_t_a_result.ride_a_t_a, dtype: float64,\n 81265    225.8\n Name: a_t_a_result.ride_a_t_a, dtype: float64,\n 96934    98.2\n Name: a_t_a_result.ride_a_t_a, dtype: float64,\n 124879   -47.0\n Name: a_t_a_result.ride_a_t_a, dtype: float64,\n 138608   -224.1\n Name: a_t_a_result.ride_a_t_a, dtype: float64,\n 210471   -132.8\n Name: a_t_a_result.ride_a_t_a, dtype: float64,\n 162276   -20.3\n Name: a_t_a_result.ride_a_t_a, dtype: float64,\n 251148   -327.2\n Name: a_t_a_result.ride_a_t_a, dtype: float64,\n 191535    182.1\n Name: a_t_a_result.ride_a_t_a, dtype: float64,\n 305970   -206.2\n Name: a_t_a_result.ride_a_t_a, dtype: float64,\n 225833    196.4\n Name: a_t_a_result.ride_a_t_a, dtype: float64,\n 290560    57.8\n Name: a_t_a_result.ride_a_t_a, dtype: float64,\n 344290    73.2\n Name: a_t_a_result.ride_a_t_a, dtype: float64,\n 352340    157.9\n Name: a_t_a_result.ride_a_t_a, dtype: float64,\n 158964   -338.2\n Name: a_t_a_result.ride_a_t_a, dtype: float64,\n 127415    28.1\n Name: a_t_a_result.ride_a_t_a, dtype: float64,\n 252289    196.4\n Name: a_t_a_result.ride_a_t_a, dtype: float64,\n 67978    152.4\n Name: a_t_a_result.ride_a_t_a, dtype: float64,\n 73929    109.5\n Name: a_t_a_result.ride_a_t_a, dtype: float64,\n 200062   -328.3\n Name: a_t_a_result.ride_a_t_a, dtype: float64,\n 112832   -278.8\n Name: a_t_a_result.ride_a_t_a, dtype: float64,\n 294949    55.6\n Name: a_t_a_result.ride_a_t_a, dtype: float64,\n 202194   -228.2\n Name: a_t_a_result.ride_a_t_a, dtype: float64,\n 113164   -111.6\n Name: a_t_a_result.ride_a_t_a, dtype: float64,\n 18607    247.0\n Name: a_t_a_result.ride_a_t_a, dtype: float64,\n 185750    42.4\n Name: a_t_a_result.ride_a_t_a, dtype: float64,\n 327577    161.2\n Name: a_t_a_result.ride_a_t_a, dtype: float64,\n 87980    178.8\n Name: a_t_a_result.ride_a_t_a, dtype: float64,\n 216811   -43.3\n Name: a_t_a_result.ride_a_t_a, dtype: float64,\n 466584    204.2\n Name: a_t_a_result.ride_a_t_a, dtype: float64,\n 246516   -90.6\n Name: a_t_a_result.ride_a_t_a, dtype: float64,\n 182574    18.3\n Name: a_t_a_result.ride_a_t_a, dtype: float64,\n 321235   -96.1\n Name: a_t_a_result.ride_a_t_a, dtype: float64,\n 196987    225.1\n Name: a_t_a_result.ride_a_t_a, dtype: float64,\n 192946   -278.7\n Name: a_t_a_result.ride_a_t_a, dtype: float64,\n 329498    270.2\n Name: a_t_a_result.ride_a_t_a, dtype: float64,\n 92043   -228.1\n Name: a_t_a_result.ride_a_t_a, dtype: float64,\n 97977    198.7\n Name: a_t_a_result.ride_a_t_a, dtype: float64,\n 146241   -179.7\n Name: a_t_a_result.ride_a_t_a, dtype: float64,\n 60463   -298.2\n Name: a_t_a_result.ride_a_t_a, dtype: float64,\n 111053    123.1\n Name: a_t_a_result.ride_a_t_a, dtype: float64,\n 149596    234.2\n Name: a_t_a_result.ride_a_t_a, dtype: float64,\n 72051    228.7\n Name: a_t_a_result.ride_a_t_a, dtype: float64,\n 237649    115.4\n Name: a_t_a_result.ride_a_t_a, dtype: float64,\n 203619    31.8\n Name: a_t_a_result.ride_a_t_a, dtype: float64,\n 63979   -126.6\n Name: a_t_a_result.ride_a_t_a, dtype: float64,\n 232326   -13.3\n Name: a_t_a_result.ride_a_t_a, dtype: float64,\n 122000   -56.2\n Name: a_t_a_result.ride_a_t_a, dtype: float64,\n 195297   -376.3\n Name: a_t_a_result.ride_a_t_a, dtype: float64,\n 184783    137.4\n Name: a_t_a_result.ride_a_t_a, dtype: float64,\n 27918    223.833333\n Name: a_t_a_result.ride_a_t_a, dtype: float64,\n 76591    126.333333\n Name: a_t_a_result.ride_a_t_a, dtype: float64,\n 128715   -185.666667\n Name: a_t_a_result.ride_a_t_a, dtype: float64,\n 90017    138.25\n Name: a_t_a_result.ride_a_t_a, dtype: float64,\n 112889   -76.25\n Name: a_t_a_result.ride_a_t_a, dtype: float64,\n 138000    118.75\n Name: a_t_a_result.ride_a_t_a, dtype: float64,\n 125698   -86.0\n Name: a_t_a_result.ride_a_t_a, dtype: float64,\n 127466    192.416667\n Name: a_t_a_result.ride_a_t_a, dtype: float64,\n 274818   -257.166667\n Name: a_t_a_result.ride_a_t_a, dtype: float64,\n 227591   -190.0\n Name: a_t_a_result.ride_a_t_a, dtype: float64,\n 228793   -31.833333\n Name: a_t_a_result.ride_a_t_a, dtype: float64,\n 235431    113.333333\n Name: a_t_a_result.ride_a_t_a, dtype: float64,\n 177073   -86.0\n Name: a_t_a_result.ride_a_t_a, dtype: float64,\n 147194    81.3\n Name: a_t_a_result.ride_a_t_a, dtype: float64,\n 74154    16.4\n Name: a_t_a_result.ride_a_t_a, dtype: float64,\n 84954   -242.1\n Name: a_t_a_result.ride_a_t_a, dtype: float64,\n 31019   -167.3\n Name: a_t_a_result.ride_a_t_a, dtype: float64,\n 89513   -143.1\n Name: a_t_a_result.ride_a_t_a, dtype: float64,\n 202253    257.3\n Name: a_t_a_result.ride_a_t_a, dtype: float64,\n 25029   -234.4\n Name: a_t_a_result.ride_a_t_a, dtype: float64,\n 39981    208.9\n Name: a_t_a_result.ride_a_t_a, dtype: float64,\n 47756   -46.3\n Name: a_t_a_result.ride_a_t_a, dtype: float64,\n 74353    186.9\n Name: a_t_a_result.ride_a_t_a, dtype: float64,\n 88887    82.4\n Name: a_t_a_result.ride_a_t_a, dtype: float64,\n 291698   -306.272727\n Name: a_t_a_result.ride_a_t_a, dtype: float64,\n 160423   -61.909091\n Name: a_t_a_result.ride_a_t_a, dtype: float64,\n 23899    287.181818\n Name: a_t_a_result.ride_a_t_a, dtype: float64,\n 111390   -53.181818\n Name: a_t_a_result.ride_a_t_a, dtype: float64,\n 109203   -257.181818\n Name: a_t_a_result.ride_a_t_a, dtype: float64,\n 156534    178.090909\n Name: a_t_a_result.ride_a_t_a, dtype: float64,\n 195977    123.545455\n Name: a_t_a_result.ride_a_t_a, dtype: float64,\n 242817   -22.636364\n Name: a_t_a_result.ride_a_t_a, dtype: float64,\n 248307    173.727273\n Name: a_t_a_result.ride_a_t_a, dtype: float64,\n 125094    239.181818\n Name: a_t_a_result.ride_a_t_a, dtype: float64,\n 197708   -186.272727\n Name: a_t_a_result.ride_a_t_a, dtype: float64,\n 68218   -114.272727\n Name: a_t_a_result.ride_a_t_a, dtype: float64,\n 221720    219.333333\n Name: a_t_a_result.ride_a_t_a, dtype: float64,\n 225322    17.142857\n Name: a_t_a_result.ride_a_t_a, dtype: float64,\n 456318   -166.190476\n Name: a_t_a_result.ride_a_t_a, dtype: float64,\n 212143   -86.571429\n Name: a_t_a_result.ride_a_t_a, dtype: float64,\n 7962    22.380952\n Name: a_t_a_result.ride_a_t_a, dtype: float64,\n 231507    109.333333\n Name: a_t_a_result.ride_a_t_a, dtype: float64,\n 6444   -91.809524\n Name: a_t_a_result.ride_a_t_a, dtype: float64,\n 141423   -28.952381\n Name: a_t_a_result.ride_a_t_a, dtype: float64,\n 198485    295.809524\n Name: a_t_a_result.ride_a_t_a, dtype: float64,\n 131427   -199.714286\n Name: a_t_a_result.ride_a_t_a, dtype: float64,\n 156616    47.52381\n Name: a_t_a_result.ride_a_t_a, dtype: float64,\n 169814   -167.238095\n Name: a_t_a_result.ride_a_t_a, dtype: float64,\n 248465   -11.142857\n Name: a_t_a_result.ride_a_t_a, dtype: float64,\n 341322    18.190476\n Name: a_t_a_result.ride_a_t_a, dtype: float64,\n 4886    148.095238\n Name: a_t_a_result.ride_a_t_a, dtype: float64,\n 215087   -195.52381\n Name: a_t_a_result.ride_a_t_a, dtype: float64,\n 227176   -107.52381\n Name: a_t_a_result.ride_a_t_a, dtype: float64,\n 234790    30.761905\n Name: a_t_a_result.ride_a_t_a, dtype: float64,\n 318325   -103.333333\n Name: a_t_a_result.ride_a_t_a, dtype: float64,\n 11418    89.428571\n Name: a_t_a_result.ride_a_t_a, dtype: float64,\n 77467    229.809524\n Name: a_t_a_result.ride_a_t_a, dtype: float64,\n 206453   -69.809524\n Name: a_t_a_result.ride_a_t_a, dtype: float64,\n 91672    30.8\n Name: a_t_a_result.ride_a_t_a, dtype: float64,\n 93541    8.8\n Name: a_t_a_result.ride_a_t_a, dtype: float64,\n 82437   -22.0\n Name: a_t_a_result.ride_a_t_a, dtype: float64,\n 103498   -71.5\n Name: a_t_a_result.ride_a_t_a, dtype: float64,\n 106669   -144.1\n Name: a_t_a_result.ride_a_t_a, dtype: float64,\n 165845    64.9\n Name: a_t_a_result.ride_a_t_a, dtype: float64,\n 93568    101.2\n Name: a_t_a_result.ride_a_t_a, dtype: float64,\n 99330    118.8\n Name: a_t_a_result.ride_a_t_a, dtype: float64,\n 98204    106.7\n Name: a_t_a_result.ride_a_t_a, dtype: float64,\n 98274   -9.9\n Name: a_t_a_result.ride_a_t_a, dtype: float64,\n 99582   -183.7\n Name: a_t_a_result.ride_a_t_a, dtype: float64]"
     },
     "execution_count": 40,
     "metadata": {},
     "output_type": "execute_result"
    }
   ],
   "source": [
    "clustering_err"
   ],
   "metadata": {
    "collapsed": false,
    "pycharm": {
     "name": "#%%\n"
    }
   }
  },
  {
   "cell_type": "code",
   "execution_count": 51,
   "outputs": [
    {
     "data": {
      "text/plain": "           ride_id  driver_id      clickhouse_time      source_h3_9  \\\n221720  5466684604      71996  2022-12-13 14:14:58  892cf30226fffff   \n225322  5467107742    4080597  2022-12-13 14:49:50  892cf30226fffff   \n456318  5477231175      77924  2022-12-14 22:15:36  892cf30226fffff   \n212143  5491458576    4565229  2022-12-17 13:56:30  892cf30226fffff   \n7962    5495359129     376156  2022-12-18 03:49:40  892cf30226fffff   \n231507  5498356475     522645  2022-12-18 14:53:07  892cf30226fffff   \n6444    5502090175      46381  2022-12-19 01:29:58  892cf30226fffff   \n141423  5503730854    4188621  2022-12-19 11:28:27  892cf30226fffff   \n198485  5504665627    4071861  2022-12-19 13:33:22  892cf30226fffff   \n131427  5540712246      22305  2022-12-24 19:53:49  892cf30226fffff   \n156616  5546105655    3193495  2022-12-25 10:19:34  892cf30226fffff   \n169814  5546593271       1314  2022-12-25 11:29:51  892cf30226fffff   \n248465  5547058217    3439380  2022-12-25 12:27:47  892cf30226fffff   \n341322  5548544437    1085947  2022-12-25 15:37:35  892cf30226fffff   \n4886    5551924706    4639522  2022-12-26 01:54:07  892cf30226fffff   \n215087  5554566550    4486327  2022-12-26 13:09:44  892cf30226fffff   \n227176  5555544497    2654664  2022-12-26 14:51:05  892cf30226fffff   \n234790  5599537757    4592042  2023-01-02 14:18:22  892cf30226fffff   \n318325  5601112827     163217  2023-01-02 17:57:41  892cf30226fffff   \n11418   5610108121       6171  2023-01-04 06:16:19  892cf30226fffff   \n77467   5611059770     879475  2023-01-04 09:48:25  892cf30226fffff   \n206453  5612814218    1502040  2023-01-04 13:45:32  892cf30226fffff   \n\n              dest_h3_9  source_lat  source_lng   dest_lat   dest_lng  \\\n221720  892cf30226fffff   35.776077   51.382401  35.775963  51.382301   \n225322  892cf30226fffff   35.775379   51.379547  35.775421  51.379776   \n456318  892cf30226fffff   35.776566   51.379959  35.776600  51.380219   \n212143  892cf30226fffff   35.775963   51.382217  35.775986  51.382042   \n7962    892cf30226fffff   35.776703   51.380089  35.776630  51.380135   \n231507  892cf30226fffff   35.775417   51.379589  35.775417  51.379444   \n6444    892cf30226fffff   35.776661   51.380085  35.776680  51.380116   \n141423  892cf30226fffff   35.774654   51.379402  35.774872  51.379681   \n198485  892cf30226fffff   35.775826   51.381775  35.775772  51.381649   \n131427  892cf30226fffff   35.774700   51.379177  35.774796  51.379379   \n156616  892cf30226fffff   35.776661   51.380333  35.776661  51.380299   \n169814  892cf30226fffff   35.775341   51.381916  35.775639  51.381828   \n248465  892cf30226fffff   35.774197   51.381786  35.774166  51.381638   \n341322  892cf30226fffff   35.775806   51.381474  35.776024  51.382328   \n4886    892cf30226fffff   35.776588   51.380104  35.776684  51.380409   \n215087  892cf30226fffff   35.776688   51.380478  35.776585  51.381565   \n227176  892cf30226fffff   35.774715   51.379055  35.774712  51.379211   \n234790  892cf30226fffff   35.776028   51.382195  35.775887  51.381794   \n318325  892cf30226fffff   35.776043   51.382088  35.775894  51.382111   \n11418   892cf30226fffff   35.776527   51.380116  35.776627  51.380272   \n77467   892cf30226fffff   35.776218   51.378742  35.776306  51.378696   \n206453  892cf30226fffff   35.776012   51.382359  35.775982  51.382389   \n\n        a_t_a_result.ride_a_t_a        hour  \n221720                     1296  124.500000  \n225322                     1489  124.500000  \n456318                     1664  124.500000  \n212143                     1588  124.500000  \n7962                       1484  124.500000  \n231507                     1401  124.500000  \n6444                       1593  124.500000  \n141423                     1533  124.500000  \n198485                     1223  124.500000  \n131427                     1696   15.289444  \n156616                     1460   34.809167  \n169814                     1665   35.954722  \n248465                     1516   36.989167  \n341322                     1488   40.095833  \n4886                       1364   50.362222  \n215087                     1692   61.349167  \n227176                     1608   63.271389  \n234790                     1476   62.814722  \n318325                     1604   66.350833  \n11418                      1420  102.768889  \n77467                      1286  106.361667  \n206453                     1572  110.255278  ",
      "text/html": "<div>\n<style scoped>\n    .dataframe tbody tr th:only-of-type {\n        vertical-align: middle;\n    }\n\n    .dataframe tbody tr th {\n        vertical-align: top;\n    }\n\n    .dataframe thead th {\n        text-align: right;\n    }\n</style>\n<table border=\"1\" class=\"dataframe\">\n  <thead>\n    <tr style=\"text-align: right;\">\n      <th></th>\n      <th>ride_id</th>\n      <th>driver_id</th>\n      <th>clickhouse_time</th>\n      <th>source_h3_9</th>\n      <th>dest_h3_9</th>\n      <th>source_lat</th>\n      <th>source_lng</th>\n      <th>dest_lat</th>\n      <th>dest_lng</th>\n      <th>a_t_a_result.ride_a_t_a</th>\n      <th>hour</th>\n    </tr>\n  </thead>\n  <tbody>\n    <tr>\n      <th>221720</th>\n      <td>5466684604</td>\n      <td>71996</td>\n      <td>2022-12-13 14:14:58</td>\n      <td>892cf30226fffff</td>\n      <td>892cf30226fffff</td>\n      <td>35.776077</td>\n      <td>51.382401</td>\n      <td>35.775963</td>\n      <td>51.382301</td>\n      <td>1296</td>\n      <td>124.500000</td>\n    </tr>\n    <tr>\n      <th>225322</th>\n      <td>5467107742</td>\n      <td>4080597</td>\n      <td>2022-12-13 14:49:50</td>\n      <td>892cf30226fffff</td>\n      <td>892cf30226fffff</td>\n      <td>35.775379</td>\n      <td>51.379547</td>\n      <td>35.775421</td>\n      <td>51.379776</td>\n      <td>1489</td>\n      <td>124.500000</td>\n    </tr>\n    <tr>\n      <th>456318</th>\n      <td>5477231175</td>\n      <td>77924</td>\n      <td>2022-12-14 22:15:36</td>\n      <td>892cf30226fffff</td>\n      <td>892cf30226fffff</td>\n      <td>35.776566</td>\n      <td>51.379959</td>\n      <td>35.776600</td>\n      <td>51.380219</td>\n      <td>1664</td>\n      <td>124.500000</td>\n    </tr>\n    <tr>\n      <th>212143</th>\n      <td>5491458576</td>\n      <td>4565229</td>\n      <td>2022-12-17 13:56:30</td>\n      <td>892cf30226fffff</td>\n      <td>892cf30226fffff</td>\n      <td>35.775963</td>\n      <td>51.382217</td>\n      <td>35.775986</td>\n      <td>51.382042</td>\n      <td>1588</td>\n      <td>124.500000</td>\n    </tr>\n    <tr>\n      <th>7962</th>\n      <td>5495359129</td>\n      <td>376156</td>\n      <td>2022-12-18 03:49:40</td>\n      <td>892cf30226fffff</td>\n      <td>892cf30226fffff</td>\n      <td>35.776703</td>\n      <td>51.380089</td>\n      <td>35.776630</td>\n      <td>51.380135</td>\n      <td>1484</td>\n      <td>124.500000</td>\n    </tr>\n    <tr>\n      <th>231507</th>\n      <td>5498356475</td>\n      <td>522645</td>\n      <td>2022-12-18 14:53:07</td>\n      <td>892cf30226fffff</td>\n      <td>892cf30226fffff</td>\n      <td>35.775417</td>\n      <td>51.379589</td>\n      <td>35.775417</td>\n      <td>51.379444</td>\n      <td>1401</td>\n      <td>124.500000</td>\n    </tr>\n    <tr>\n      <th>6444</th>\n      <td>5502090175</td>\n      <td>46381</td>\n      <td>2022-12-19 01:29:58</td>\n      <td>892cf30226fffff</td>\n      <td>892cf30226fffff</td>\n      <td>35.776661</td>\n      <td>51.380085</td>\n      <td>35.776680</td>\n      <td>51.380116</td>\n      <td>1593</td>\n      <td>124.500000</td>\n    </tr>\n    <tr>\n      <th>141423</th>\n      <td>5503730854</td>\n      <td>4188621</td>\n      <td>2022-12-19 11:28:27</td>\n      <td>892cf30226fffff</td>\n      <td>892cf30226fffff</td>\n      <td>35.774654</td>\n      <td>51.379402</td>\n      <td>35.774872</td>\n      <td>51.379681</td>\n      <td>1533</td>\n      <td>124.500000</td>\n    </tr>\n    <tr>\n      <th>198485</th>\n      <td>5504665627</td>\n      <td>4071861</td>\n      <td>2022-12-19 13:33:22</td>\n      <td>892cf30226fffff</td>\n      <td>892cf30226fffff</td>\n      <td>35.775826</td>\n      <td>51.381775</td>\n      <td>35.775772</td>\n      <td>51.381649</td>\n      <td>1223</td>\n      <td>124.500000</td>\n    </tr>\n    <tr>\n      <th>131427</th>\n      <td>5540712246</td>\n      <td>22305</td>\n      <td>2022-12-24 19:53:49</td>\n      <td>892cf30226fffff</td>\n      <td>892cf30226fffff</td>\n      <td>35.774700</td>\n      <td>51.379177</td>\n      <td>35.774796</td>\n      <td>51.379379</td>\n      <td>1696</td>\n      <td>15.289444</td>\n    </tr>\n    <tr>\n      <th>156616</th>\n      <td>5546105655</td>\n      <td>3193495</td>\n      <td>2022-12-25 10:19:34</td>\n      <td>892cf30226fffff</td>\n      <td>892cf30226fffff</td>\n      <td>35.776661</td>\n      <td>51.380333</td>\n      <td>35.776661</td>\n      <td>51.380299</td>\n      <td>1460</td>\n      <td>34.809167</td>\n    </tr>\n    <tr>\n      <th>169814</th>\n      <td>5546593271</td>\n      <td>1314</td>\n      <td>2022-12-25 11:29:51</td>\n      <td>892cf30226fffff</td>\n      <td>892cf30226fffff</td>\n      <td>35.775341</td>\n      <td>51.381916</td>\n      <td>35.775639</td>\n      <td>51.381828</td>\n      <td>1665</td>\n      <td>35.954722</td>\n    </tr>\n    <tr>\n      <th>248465</th>\n      <td>5547058217</td>\n      <td>3439380</td>\n      <td>2022-12-25 12:27:47</td>\n      <td>892cf30226fffff</td>\n      <td>892cf30226fffff</td>\n      <td>35.774197</td>\n      <td>51.381786</td>\n      <td>35.774166</td>\n      <td>51.381638</td>\n      <td>1516</td>\n      <td>36.989167</td>\n    </tr>\n    <tr>\n      <th>341322</th>\n      <td>5548544437</td>\n      <td>1085947</td>\n      <td>2022-12-25 15:37:35</td>\n      <td>892cf30226fffff</td>\n      <td>892cf30226fffff</td>\n      <td>35.775806</td>\n      <td>51.381474</td>\n      <td>35.776024</td>\n      <td>51.382328</td>\n      <td>1488</td>\n      <td>40.095833</td>\n    </tr>\n    <tr>\n      <th>4886</th>\n      <td>5551924706</td>\n      <td>4639522</td>\n      <td>2022-12-26 01:54:07</td>\n      <td>892cf30226fffff</td>\n      <td>892cf30226fffff</td>\n      <td>35.776588</td>\n      <td>51.380104</td>\n      <td>35.776684</td>\n      <td>51.380409</td>\n      <td>1364</td>\n      <td>50.362222</td>\n    </tr>\n    <tr>\n      <th>215087</th>\n      <td>5554566550</td>\n      <td>4486327</td>\n      <td>2022-12-26 13:09:44</td>\n      <td>892cf30226fffff</td>\n      <td>892cf30226fffff</td>\n      <td>35.776688</td>\n      <td>51.380478</td>\n      <td>35.776585</td>\n      <td>51.381565</td>\n      <td>1692</td>\n      <td>61.349167</td>\n    </tr>\n    <tr>\n      <th>227176</th>\n      <td>5555544497</td>\n      <td>2654664</td>\n      <td>2022-12-26 14:51:05</td>\n      <td>892cf30226fffff</td>\n      <td>892cf30226fffff</td>\n      <td>35.774715</td>\n      <td>51.379055</td>\n      <td>35.774712</td>\n      <td>51.379211</td>\n      <td>1608</td>\n      <td>63.271389</td>\n    </tr>\n    <tr>\n      <th>234790</th>\n      <td>5599537757</td>\n      <td>4592042</td>\n      <td>2023-01-02 14:18:22</td>\n      <td>892cf30226fffff</td>\n      <td>892cf30226fffff</td>\n      <td>35.776028</td>\n      <td>51.382195</td>\n      <td>35.775887</td>\n      <td>51.381794</td>\n      <td>1476</td>\n      <td>62.814722</td>\n    </tr>\n    <tr>\n      <th>318325</th>\n      <td>5601112827</td>\n      <td>163217</td>\n      <td>2023-01-02 17:57:41</td>\n      <td>892cf30226fffff</td>\n      <td>892cf30226fffff</td>\n      <td>35.776043</td>\n      <td>51.382088</td>\n      <td>35.775894</td>\n      <td>51.382111</td>\n      <td>1604</td>\n      <td>66.350833</td>\n    </tr>\n    <tr>\n      <th>11418</th>\n      <td>5610108121</td>\n      <td>6171</td>\n      <td>2023-01-04 06:16:19</td>\n      <td>892cf30226fffff</td>\n      <td>892cf30226fffff</td>\n      <td>35.776527</td>\n      <td>51.380116</td>\n      <td>35.776627</td>\n      <td>51.380272</td>\n      <td>1420</td>\n      <td>102.768889</td>\n    </tr>\n    <tr>\n      <th>77467</th>\n      <td>5611059770</td>\n      <td>879475</td>\n      <td>2023-01-04 09:48:25</td>\n      <td>892cf30226fffff</td>\n      <td>892cf30226fffff</td>\n      <td>35.776218</td>\n      <td>51.378742</td>\n      <td>35.776306</td>\n      <td>51.378696</td>\n      <td>1286</td>\n      <td>106.361667</td>\n    </tr>\n    <tr>\n      <th>206453</th>\n      <td>5612814218</td>\n      <td>1502040</td>\n      <td>2023-01-04 13:45:32</td>\n      <td>892cf30226fffff</td>\n      <td>892cf30226fffff</td>\n      <td>35.776012</td>\n      <td>51.382359</td>\n      <td>35.775982</td>\n      <td>51.382389</td>\n      <td>1572</td>\n      <td>110.255278</td>\n    </tr>\n  </tbody>\n</table>\n</div>"
     },
     "execution_count": 51,
     "metadata": {},
     "output_type": "execute_result"
    }
   ],
   "source": [
    "tmp[(tmp['source_h3_9'] == '892cf30226fffff') & (tmp['dest_h3_9'] == '892cf30226fffff')]"
   ],
   "metadata": {
    "collapsed": false,
    "pycharm": {
     "name": "#%%\n"
    }
   }
  },
  {
   "cell_type": "code",
   "execution_count": 56,
   "outputs": [
    {
     "data": {
      "text/plain": "           ride_id  driver_id      clickhouse_time      source_h3_9  \\\n21380   5457233876    3196399  2022-12-12 07:04:16  892cf30a0b3ffff   \n182418  5491138944       9858  2022-12-17 13:24:06  892cf30a0b3ffff   \n186592  5491284990     474589  2022-12-17 13:37:45  892cf30a0b3ffff   \n96784   5517644851    2749725  2022-12-21 10:58:43  892cf30a0b3ffff   \n12534   5552046146    2218553  2022-12-26 06:55:08  892cf30a0b3ffff   \n131349  5584629955     413426  2022-12-31 11:14:31  892cf30a0b3ffff   \n136766  5584898828    2488426  2022-12-31 11:46:33  892cf30a0b3ffff   \n226689  5585887868     805705  2022-12-31 14:44:53  892cf30a0b3ffff   \n266661  5586623221    4013633  2022-12-31 20:36:39  892cf30a0b3ffff   \n190514  5599150164     384690  2023-01-02 13:29:58  892cf30a0b3ffff   \n217185  5606356854    3362420  2023-01-03 14:41:22  892cf30a0b3ffff   \n438812  5609315169     838396  2023-01-03 21:49:36  892cf30a0b3ffff   \n14755   5610128770     294076  2023-01-04 06:39:04  892cf30a0b3ffff   \n62227   5611063992    1851729  2023-01-04 09:57:09  892cf30a0b3ffff   \n146502  5611706244     415297  2023-01-04 11:21:03  892cf30a0b3ffff   \n\n              dest_h3_9  source_lat  source_lng   dest_lat   dest_lng  \\\n21380   892cf318dcbffff   35.658943   51.397915  35.704659  51.331310   \n182418  892cf318dcbffff   35.658894   51.398323  35.704544  51.331310   \n186592  892cf318dcbffff   35.659035   51.398426  35.705025  51.331272   \n96784   892cf318dcbffff   35.659149   51.399399  35.702709  51.330105   \n12534   892cf318dcbffff   35.658958   51.397888  35.704884  51.331272   \n131349  892cf318dcbffff   35.658943   51.397949  35.704918  51.331295   \n136766  892cf318dcbffff   35.658909   51.398033  35.704632  51.331322   \n226689  892cf318dcbffff   35.658951   51.397938  35.704895  51.331352   \n266661  892cf318dcbffff   35.658844   51.397991  35.704491  51.331299   \n190514  892cf318dcbffff   35.658897   51.398109  35.705025  51.331326   \n217185  892cf318dcbffff   35.658966   51.398018  35.703663  51.331352   \n438812  892cf318dcbffff   35.658962   51.398121  35.704830  51.331360   \n14755   892cf318dcbffff   35.658962   51.397892  35.705009  51.331280   \n62227   892cf318dcbffff   35.659279   51.398502  35.705017  51.331238   \n146502  892cf318dcbffff   35.658974   51.398155  35.703884  51.331310   \n\n        a_t_a_result.ride_a_t_a        hour  \n21380                      1704  124.500000  \n182418                     1686  124.500000  \n186592                     1481  124.500000  \n96784                      1593  107.498333  \n12534                      1712   55.326944  \n131349                     1619   11.646667  \n136766                     1447   12.263889  \n226689                     1616   14.480833  \n266661                     1688   16.316389  \n190514                     1796   61.895556  \n217185                     1486   87.136667  \n438812                     1576   94.100278  \n14755                      1381  103.166667  \n62227                      1524  106.378333  \n146502                     1664  107.831667  ",
      "text/html": "<div>\n<style scoped>\n    .dataframe tbody tr th:only-of-type {\n        vertical-align: middle;\n    }\n\n    .dataframe tbody tr th {\n        vertical-align: top;\n    }\n\n    .dataframe thead th {\n        text-align: right;\n    }\n</style>\n<table border=\"1\" class=\"dataframe\">\n  <thead>\n    <tr style=\"text-align: right;\">\n      <th></th>\n      <th>ride_id</th>\n      <th>driver_id</th>\n      <th>clickhouse_time</th>\n      <th>source_h3_9</th>\n      <th>dest_h3_9</th>\n      <th>source_lat</th>\n      <th>source_lng</th>\n      <th>dest_lat</th>\n      <th>dest_lng</th>\n      <th>a_t_a_result.ride_a_t_a</th>\n      <th>hour</th>\n    </tr>\n  </thead>\n  <tbody>\n    <tr>\n      <th>21380</th>\n      <td>5457233876</td>\n      <td>3196399</td>\n      <td>2022-12-12 07:04:16</td>\n      <td>892cf30a0b3ffff</td>\n      <td>892cf318dcbffff</td>\n      <td>35.658943</td>\n      <td>51.397915</td>\n      <td>35.704659</td>\n      <td>51.331310</td>\n      <td>1704</td>\n      <td>124.500000</td>\n    </tr>\n    <tr>\n      <th>182418</th>\n      <td>5491138944</td>\n      <td>9858</td>\n      <td>2022-12-17 13:24:06</td>\n      <td>892cf30a0b3ffff</td>\n      <td>892cf318dcbffff</td>\n      <td>35.658894</td>\n      <td>51.398323</td>\n      <td>35.704544</td>\n      <td>51.331310</td>\n      <td>1686</td>\n      <td>124.500000</td>\n    </tr>\n    <tr>\n      <th>186592</th>\n      <td>5491284990</td>\n      <td>474589</td>\n      <td>2022-12-17 13:37:45</td>\n      <td>892cf30a0b3ffff</td>\n      <td>892cf318dcbffff</td>\n      <td>35.659035</td>\n      <td>51.398426</td>\n      <td>35.705025</td>\n      <td>51.331272</td>\n      <td>1481</td>\n      <td>124.500000</td>\n    </tr>\n    <tr>\n      <th>96784</th>\n      <td>5517644851</td>\n      <td>2749725</td>\n      <td>2022-12-21 10:58:43</td>\n      <td>892cf30a0b3ffff</td>\n      <td>892cf318dcbffff</td>\n      <td>35.659149</td>\n      <td>51.399399</td>\n      <td>35.702709</td>\n      <td>51.330105</td>\n      <td>1593</td>\n      <td>107.498333</td>\n    </tr>\n    <tr>\n      <th>12534</th>\n      <td>5552046146</td>\n      <td>2218553</td>\n      <td>2022-12-26 06:55:08</td>\n      <td>892cf30a0b3ffff</td>\n      <td>892cf318dcbffff</td>\n      <td>35.658958</td>\n      <td>51.397888</td>\n      <td>35.704884</td>\n      <td>51.331272</td>\n      <td>1712</td>\n      <td>55.326944</td>\n    </tr>\n    <tr>\n      <th>131349</th>\n      <td>5584629955</td>\n      <td>413426</td>\n      <td>2022-12-31 11:14:31</td>\n      <td>892cf30a0b3ffff</td>\n      <td>892cf318dcbffff</td>\n      <td>35.658943</td>\n      <td>51.397949</td>\n      <td>35.704918</td>\n      <td>51.331295</td>\n      <td>1619</td>\n      <td>11.646667</td>\n    </tr>\n    <tr>\n      <th>136766</th>\n      <td>5584898828</td>\n      <td>2488426</td>\n      <td>2022-12-31 11:46:33</td>\n      <td>892cf30a0b3ffff</td>\n      <td>892cf318dcbffff</td>\n      <td>35.658909</td>\n      <td>51.398033</td>\n      <td>35.704632</td>\n      <td>51.331322</td>\n      <td>1447</td>\n      <td>12.263889</td>\n    </tr>\n    <tr>\n      <th>226689</th>\n      <td>5585887868</td>\n      <td>805705</td>\n      <td>2022-12-31 14:44:53</td>\n      <td>892cf30a0b3ffff</td>\n      <td>892cf318dcbffff</td>\n      <td>35.658951</td>\n      <td>51.397938</td>\n      <td>35.704895</td>\n      <td>51.331352</td>\n      <td>1616</td>\n      <td>14.480833</td>\n    </tr>\n    <tr>\n      <th>266661</th>\n      <td>5586623221</td>\n      <td>4013633</td>\n      <td>2022-12-31 20:36:39</td>\n      <td>892cf30a0b3ffff</td>\n      <td>892cf318dcbffff</td>\n      <td>35.658844</td>\n      <td>51.397991</td>\n      <td>35.704491</td>\n      <td>51.331299</td>\n      <td>1688</td>\n      <td>16.316389</td>\n    </tr>\n    <tr>\n      <th>190514</th>\n      <td>5599150164</td>\n      <td>384690</td>\n      <td>2023-01-02 13:29:58</td>\n      <td>892cf30a0b3ffff</td>\n      <td>892cf318dcbffff</td>\n      <td>35.658897</td>\n      <td>51.398109</td>\n      <td>35.705025</td>\n      <td>51.331326</td>\n      <td>1796</td>\n      <td>61.895556</td>\n    </tr>\n    <tr>\n      <th>217185</th>\n      <td>5606356854</td>\n      <td>3362420</td>\n      <td>2023-01-03 14:41:22</td>\n      <td>892cf30a0b3ffff</td>\n      <td>892cf318dcbffff</td>\n      <td>35.658966</td>\n      <td>51.398018</td>\n      <td>35.703663</td>\n      <td>51.331352</td>\n      <td>1486</td>\n      <td>87.136667</td>\n    </tr>\n    <tr>\n      <th>438812</th>\n      <td>5609315169</td>\n      <td>838396</td>\n      <td>2023-01-03 21:49:36</td>\n      <td>892cf30a0b3ffff</td>\n      <td>892cf318dcbffff</td>\n      <td>35.658962</td>\n      <td>51.398121</td>\n      <td>35.704830</td>\n      <td>51.331360</td>\n      <td>1576</td>\n      <td>94.100278</td>\n    </tr>\n    <tr>\n      <th>14755</th>\n      <td>5610128770</td>\n      <td>294076</td>\n      <td>2023-01-04 06:39:04</td>\n      <td>892cf30a0b3ffff</td>\n      <td>892cf318dcbffff</td>\n      <td>35.658962</td>\n      <td>51.397892</td>\n      <td>35.705009</td>\n      <td>51.331280</td>\n      <td>1381</td>\n      <td>103.166667</td>\n    </tr>\n    <tr>\n      <th>62227</th>\n      <td>5611063992</td>\n      <td>1851729</td>\n      <td>2023-01-04 09:57:09</td>\n      <td>892cf30a0b3ffff</td>\n      <td>892cf318dcbffff</td>\n      <td>35.659279</td>\n      <td>51.398502</td>\n      <td>35.705017</td>\n      <td>51.331238</td>\n      <td>1524</td>\n      <td>106.378333</td>\n    </tr>\n    <tr>\n      <th>146502</th>\n      <td>5611706244</td>\n      <td>415297</td>\n      <td>2023-01-04 11:21:03</td>\n      <td>892cf30a0b3ffff</td>\n      <td>892cf318dcbffff</td>\n      <td>35.658974</td>\n      <td>51.398155</td>\n      <td>35.703884</td>\n      <td>51.331310</td>\n      <td>1664</td>\n      <td>107.831667</td>\n    </tr>\n  </tbody>\n</table>\n</div>"
     },
     "execution_count": 56,
     "metadata": {},
     "output_type": "execute_result"
    }
   ],
   "source": [
    "tmp[(tmp['source_h3_9'] == '892cf30a0b3ffff') & (tmp['dest_h3_9'] == '892cf318dcbffff')]"
   ],
   "metadata": {
    "collapsed": false,
    "pycharm": {
     "name": "#%%\n"
    }
   }
  },
  {
   "cell_type": "code",
   "execution_count": null,
   "outputs": [],
   "source": [
    "tmp[(tmp['source_h3_9'] == '892cf30119bffff') & (tmp['dest_h3_9'] == '892cf30119bffff')]"
   ],
   "metadata": {
    "collapsed": false,
    "pycharm": {
     "name": "#%%\n"
    }
   }
  },
  {
   "cell_type": "code",
   "execution_count": 95,
   "outputs": [
    {
     "data": {
      "text/plain": "          eta   ata  a_t_a_result.ride_a_t_a           created_at  source_lat  \\\n53233    1666  1747                     1652  2022-08-02 09:58:18   35.648270   \n214880   1436  1496                     1412  2022-08-03 23:19:48   35.647678   \n2901645  1285  1164                     1132  2022-08-30 22:37:33   35.647495   \n2905323  1763  1866                     2375  2022-08-30 13:01:38   35.647343   \n2965044  1764  1919                     1899  2022-08-30 08:19:33   35.647854   \n3203059  1706  1722                     1668  2022-09-01 15:54:29   35.647499   \n3337263  1360  1146                     1020  2022-09-03 23:02:07   35.648270   \n3563476  1486  1492                     1468  2022-09-05 06:51:40   35.648270   \n3577018  1478  1797                     1814  2022-09-05 07:04:42   35.648300   \n3597576  1771  2001                     1968  2022-09-05 08:27:50   35.648281   \n3903825  1271  1050                     1052  2022-09-08 23:13:22   35.647495   \n3938645  1237  1239                     1268  2022-09-09 09:46:48   35.648270   \n3981307  1697  2725                     2744  2022-09-10 17:43:32   35.648628   \n\n         source_lng  destination_lat  destination_lng   e_d_d  \\\n53233     51.417419        35.704979        51.331409   0.000   \n214880    51.417366        35.704979        51.331409   0.000   \n2901645   51.417374        35.704979        51.331409   0.000   \n2905323   51.417465        35.704979        51.331409   0.000   \n2965044   51.417343        35.704693        51.331253   0.000   \n3203059   51.417553        35.704979        51.331409  13.824   \n3337263   51.417419        35.704979        51.331409  14.520   \n3563476   51.417419        35.704979        51.331409  14.154   \n3577018   51.417248        35.703419        51.331299  13.976   \n3597576   51.417271        35.704979        51.331409  14.151   \n3903825   51.417503        35.704979        51.331409  12.942   \n3938645   51.417419        35.704979        51.331409  14.520   \n3981307   51.417217        35.704979        51.331409  14.652   \n\n             clickhouse_time        hour  holiday      source_h3_4  \\\n53233    2022-08-02 10:36:38   81.971667        0  892cf30a393ffff   \n214880   2022-08-03 23:47:25  119.330000        0  892cf30a393ffff   \n2901645  2022-08-30 22:59:36   94.625833        0  892cf30a393ffff   \n2905323  2022-08-30 13:49:55   85.027222        0  892cf30a393ffff   \n2965044  2022-08-30 09:04:17   80.325833        0  892cf30a393ffff   \n3203059  2022-09-01 16:24:48  135.908056        0  892cf30a393ffff   \n3337263  2022-09-03 23:25:34   23.035278        0  892cf30a393ffff   \n3563476  2022-09-05 07:21:33   54.861111        0  892cf30a393ffff   \n3577018  2022-09-05 07:40:40   55.078333        0  892cf30a393ffff   \n3597576  2022-09-05 09:03:55   56.463889        0  892cf30a393ffff   \n3903825  2022-09-08 23:35:53  143.222778        0  892cf30a393ffff   \n3938645  2022-09-09 10:19:23  153.780000        0  892cf30a393ffff   \n3981307  2022-09-10 18:42:11   17.725556        0  892cf30a393ffff   \n\n               dest_h3_4  \n53233    892cf318dcbffff  \n214880   892cf318dcbffff  \n2901645  892cf318dcbffff  \n2905323  892cf318dcbffff  \n2965044  892cf318dcbffff  \n3203059  892cf318dcbffff  \n3337263  892cf318dcbffff  \n3563476  892cf318dcbffff  \n3577018  892cf318dcbffff  \n3597576  892cf318dcbffff  \n3903825  892cf318dcbffff  \n3938645  892cf318dcbffff  \n3981307  892cf318dcbffff  ",
      "text/html": "<div>\n<style scoped>\n    .dataframe tbody tr th:only-of-type {\n        vertical-align: middle;\n    }\n\n    .dataframe tbody tr th {\n        vertical-align: top;\n    }\n\n    .dataframe thead th {\n        text-align: right;\n    }\n</style>\n<table border=\"1\" class=\"dataframe\">\n  <thead>\n    <tr style=\"text-align: right;\">\n      <th></th>\n      <th>eta</th>\n      <th>ata</th>\n      <th>a_t_a_result.ride_a_t_a</th>\n      <th>created_at</th>\n      <th>source_lat</th>\n      <th>source_lng</th>\n      <th>destination_lat</th>\n      <th>destination_lng</th>\n      <th>e_d_d</th>\n      <th>clickhouse_time</th>\n      <th>hour</th>\n      <th>holiday</th>\n      <th>source_h3_4</th>\n      <th>dest_h3_4</th>\n    </tr>\n  </thead>\n  <tbody>\n    <tr>\n      <th>53233</th>\n      <td>1666</td>\n      <td>1747</td>\n      <td>1652</td>\n      <td>2022-08-02 09:58:18</td>\n      <td>35.648270</td>\n      <td>51.417419</td>\n      <td>35.704979</td>\n      <td>51.331409</td>\n      <td>0.000</td>\n      <td>2022-08-02 10:36:38</td>\n      <td>81.971667</td>\n      <td>0</td>\n      <td>892cf30a393ffff</td>\n      <td>892cf318dcbffff</td>\n    </tr>\n    <tr>\n      <th>214880</th>\n      <td>1436</td>\n      <td>1496</td>\n      <td>1412</td>\n      <td>2022-08-03 23:19:48</td>\n      <td>35.647678</td>\n      <td>51.417366</td>\n      <td>35.704979</td>\n      <td>51.331409</td>\n      <td>0.000</td>\n      <td>2022-08-03 23:47:25</td>\n      <td>119.330000</td>\n      <td>0</td>\n      <td>892cf30a393ffff</td>\n      <td>892cf318dcbffff</td>\n    </tr>\n    <tr>\n      <th>2901645</th>\n      <td>1285</td>\n      <td>1164</td>\n      <td>1132</td>\n      <td>2022-08-30 22:37:33</td>\n      <td>35.647495</td>\n      <td>51.417374</td>\n      <td>35.704979</td>\n      <td>51.331409</td>\n      <td>0.000</td>\n      <td>2022-08-30 22:59:36</td>\n      <td>94.625833</td>\n      <td>0</td>\n      <td>892cf30a393ffff</td>\n      <td>892cf318dcbffff</td>\n    </tr>\n    <tr>\n      <th>2905323</th>\n      <td>1763</td>\n      <td>1866</td>\n      <td>2375</td>\n      <td>2022-08-30 13:01:38</td>\n      <td>35.647343</td>\n      <td>51.417465</td>\n      <td>35.704979</td>\n      <td>51.331409</td>\n      <td>0.000</td>\n      <td>2022-08-30 13:49:55</td>\n      <td>85.027222</td>\n      <td>0</td>\n      <td>892cf30a393ffff</td>\n      <td>892cf318dcbffff</td>\n    </tr>\n    <tr>\n      <th>2965044</th>\n      <td>1764</td>\n      <td>1919</td>\n      <td>1899</td>\n      <td>2022-08-30 08:19:33</td>\n      <td>35.647854</td>\n      <td>51.417343</td>\n      <td>35.704693</td>\n      <td>51.331253</td>\n      <td>0.000</td>\n      <td>2022-08-30 09:04:17</td>\n      <td>80.325833</td>\n      <td>0</td>\n      <td>892cf30a393ffff</td>\n      <td>892cf318dcbffff</td>\n    </tr>\n    <tr>\n      <th>3203059</th>\n      <td>1706</td>\n      <td>1722</td>\n      <td>1668</td>\n      <td>2022-09-01 15:54:29</td>\n      <td>35.647499</td>\n      <td>51.417553</td>\n      <td>35.704979</td>\n      <td>51.331409</td>\n      <td>13.824</td>\n      <td>2022-09-01 16:24:48</td>\n      <td>135.908056</td>\n      <td>0</td>\n      <td>892cf30a393ffff</td>\n      <td>892cf318dcbffff</td>\n    </tr>\n    <tr>\n      <th>3337263</th>\n      <td>1360</td>\n      <td>1146</td>\n      <td>1020</td>\n      <td>2022-09-03 23:02:07</td>\n      <td>35.648270</td>\n      <td>51.417419</td>\n      <td>35.704979</td>\n      <td>51.331409</td>\n      <td>14.520</td>\n      <td>2022-09-03 23:25:34</td>\n      <td>23.035278</td>\n      <td>0</td>\n      <td>892cf30a393ffff</td>\n      <td>892cf318dcbffff</td>\n    </tr>\n    <tr>\n      <th>3563476</th>\n      <td>1486</td>\n      <td>1492</td>\n      <td>1468</td>\n      <td>2022-09-05 06:51:40</td>\n      <td>35.648270</td>\n      <td>51.417419</td>\n      <td>35.704979</td>\n      <td>51.331409</td>\n      <td>14.154</td>\n      <td>2022-09-05 07:21:33</td>\n      <td>54.861111</td>\n      <td>0</td>\n      <td>892cf30a393ffff</td>\n      <td>892cf318dcbffff</td>\n    </tr>\n    <tr>\n      <th>3577018</th>\n      <td>1478</td>\n      <td>1797</td>\n      <td>1814</td>\n      <td>2022-09-05 07:04:42</td>\n      <td>35.648300</td>\n      <td>51.417248</td>\n      <td>35.703419</td>\n      <td>51.331299</td>\n      <td>13.976</td>\n      <td>2022-09-05 07:40:40</td>\n      <td>55.078333</td>\n      <td>0</td>\n      <td>892cf30a393ffff</td>\n      <td>892cf318dcbffff</td>\n    </tr>\n    <tr>\n      <th>3597576</th>\n      <td>1771</td>\n      <td>2001</td>\n      <td>1968</td>\n      <td>2022-09-05 08:27:50</td>\n      <td>35.648281</td>\n      <td>51.417271</td>\n      <td>35.704979</td>\n      <td>51.331409</td>\n      <td>14.151</td>\n      <td>2022-09-05 09:03:55</td>\n      <td>56.463889</td>\n      <td>0</td>\n      <td>892cf30a393ffff</td>\n      <td>892cf318dcbffff</td>\n    </tr>\n    <tr>\n      <th>3903825</th>\n      <td>1271</td>\n      <td>1050</td>\n      <td>1052</td>\n      <td>2022-09-08 23:13:22</td>\n      <td>35.647495</td>\n      <td>51.417503</td>\n      <td>35.704979</td>\n      <td>51.331409</td>\n      <td>12.942</td>\n      <td>2022-09-08 23:35:53</td>\n      <td>143.222778</td>\n      <td>0</td>\n      <td>892cf30a393ffff</td>\n      <td>892cf318dcbffff</td>\n    </tr>\n    <tr>\n      <th>3938645</th>\n      <td>1237</td>\n      <td>1239</td>\n      <td>1268</td>\n      <td>2022-09-09 09:46:48</td>\n      <td>35.648270</td>\n      <td>51.417419</td>\n      <td>35.704979</td>\n      <td>51.331409</td>\n      <td>14.520</td>\n      <td>2022-09-09 10:19:23</td>\n      <td>153.780000</td>\n      <td>0</td>\n      <td>892cf30a393ffff</td>\n      <td>892cf318dcbffff</td>\n    </tr>\n    <tr>\n      <th>3981307</th>\n      <td>1697</td>\n      <td>2725</td>\n      <td>2744</td>\n      <td>2022-09-10 17:43:32</td>\n      <td>35.648628</td>\n      <td>51.417217</td>\n      <td>35.704979</td>\n      <td>51.331409</td>\n      <td>14.652</td>\n      <td>2022-09-10 18:42:11</td>\n      <td>17.725556</td>\n      <td>0</td>\n      <td>892cf30a393ffff</td>\n      <td>892cf318dcbffff</td>\n    </tr>\n  </tbody>\n</table>\n</div>"
     },
     "execution_count": 95,
     "metadata": {},
     "output_type": "execute_result"
    }
   ],
   "source": [
    "rides_train_p1[(rides_train_p1['source_h3_9'] == '892cf30a393ffff') & (rides_train_p1['dest_h3_9'] == '892cf318dcbffff')]("
   ],
   "metadata": {
    "collapsed": false,
    "pycharm": {
     "name": "#%%\n"
    }
   }
  },
  {
   "cell_type": "code",
   "execution_count": 106,
   "outputs": [],
   "source": [
    "nicki = [1652,\n",
    "1412,\n",
    "1132,\n",
    "2375,\n",
    "1899,\n",
    "1668,\n",
    "1020,\n",
    "1468,\n",
    "1814,\n",
    "1968,\n",
    "1052,\n",
    "1268,\n",
    "2744]"
   ],
   "metadata": {
    "collapsed": false,
    "pycharm": {
     "name": "#%%\n"
    }
   }
  },
  {
   "cell_type": "code",
   "execution_count": 107,
   "outputs": [
    {
     "data": {
      "text/plain": "1533.3"
     },
     "execution_count": 107,
     "metadata": {},
     "output_type": "execute_result"
    }
   ],
   "source": [
    "mean(nicki)"
   ],
   "metadata": {
    "collapsed": false,
    "pycharm": {
     "name": "#%%\n"
    }
   }
  },
  {
   "cell_type": "code",
   "execution_count": null,
   "outputs": [],
   "source": [
    "\n",
    "2375,\n",
    "2744"
   ],
   "metadata": {
    "collapsed": false,
    "pycharm": {
     "name": "#%%\n"
    }
   }
  },
  {
   "cell_type": "code",
   "execution_count": 110,
   "outputs": [
    {
     "data": {
      "text/plain": "2820"
     },
     "execution_count": 110,
     "metadata": {},
     "output_type": "execute_result"
    }
   ],
   "source": [
    "47 * 60"
   ],
   "metadata": {
    "collapsed": false,
    "pycharm": {
     "name": "#%%\n"
    }
   }
  },
  {
   "cell_type": "code",
   "execution_count": 98,
   "outputs": [
    {
     "data": {
      "text/plain": "3.3333333333333335"
     },
     "execution_count": 98,
     "metadata": {},
     "output_type": "execute_result"
    }
   ],
   "source": [
    "200 / 60"
   ],
   "metadata": {
    "collapsed": false,
    "pycharm": {
     "name": "#%%\n"
    }
   }
  },
  {
   "cell_type": "code",
   "execution_count": 75,
   "outputs": [
    {
     "data": {
      "text/plain": "[[-325, -302, -265, -234, -353, -642, 44],\n [-423, -150, 71, -687, -900, 75, -130],\n [-119, -623, 336, 213, -1077, -602, -126, 265],\n [14, 24, 153, -612, -135, 38, 340, 18, -336, -197, 219, -31, -1047],\n [-60, -895, -156, 72, -463, -410],\n [-252, -141, -349, -198, -1335, -185],\n [290, -199, -954, -689, -587, -23, -208]]"
     },
     "execution_count": 75,
     "metadata": {},
     "output_type": "execute_result"
    }
   ],
   "source": [
    "pipeline_err = [item.tolist() for item in pipeline_err]\n",
    "pipeline_err"
   ],
   "metadata": {
    "collapsed": false,
    "pycharm": {
     "name": "#%%\n"
    }
   }
  },
  {
   "cell_type": "code",
   "execution_count": 80,
   "outputs": [
    {
     "data": {
      "text/plain": "[-325,\n -302,\n -265,\n -234,\n -353,\n -642,\n 44,\n -423,\n -150,\n 71,\n -687,\n -900,\n 75,\n -130,\n -119,\n -623,\n 336,\n 213,\n -1077,\n -602,\n -126,\n 265,\n 14,\n 24,\n 153,\n -612,\n -135,\n 38,\n 340,\n 18,\n -336,\n -197,\n 219,\n -31,\n -1047,\n -60,\n -895,\n -156,\n 72,\n -463,\n -410,\n -252,\n -141,\n -349,\n -198,\n -1335,\n -185,\n 290,\n -199,\n -954,\n -689,\n -587,\n -23,\n -208]"
     },
     "execution_count": 80,
     "metadata": {},
     "output_type": "execute_result"
    }
   ],
   "source": [
    "pipeline_err = [item for sublist in pipeline_err for item in sublist]\n",
    "pipeline_err"
   ],
   "metadata": {
    "collapsed": false,
    "pycharm": {
     "name": "#%%\n"
    }
   }
  },
  {
   "cell_type": "code",
   "execution_count": 76,
   "outputs": [],
   "source": [
    "clustering_err = [item.tolist() for item in clustering_err]"
   ],
   "metadata": {
    "collapsed": false,
    "pycharm": {
     "name": "#%%\n"
    }
   }
  },
  {
   "cell_type": "code",
   "execution_count": 82,
   "outputs": [
    {
     "data": {
      "text/plain": "[172.83333333333326,\n 216.0,\n 69.0,\n -232.0,\n -298.5,\n -227.33333333333326,\n 300.0,\n 233.66666666666674,\n 387.66666666666674,\n 411.0,\n -466.33333333333326,\n -923.6666666666667,\n 331.66666666666674,\n 26.0,\n -129.1428571428571,\n -377.1428571428571,\n 450.2857142857142,\n 698.2857142857142,\n -971.4285714285713,\n -454.8571428571429,\n -13.71428571428578,\n 797.7142857142858,\n -0.33333333333325754,\n 259.66666666666674,\n 563.0,\n -783.5833333333333,\n -267.91666666666674,\n -17.666666666666742,\n 684.3333333333333,\n 199.0,\n -175.83333333333326,\n -342.66666666666674,\n 649.6666666666667,\n 415.66666666666674,\n -1183.3333333333333,\n 202.79999999999995,\n -591.5999999999999,\n 472.79999999999995,\n 198.0,\n 88.79999999999995,\n -370.79999999999995,\n 146.79999999999995,\n 211.5999999999999,\n 203.20000000000005,\n 300.4000000000001,\n -1130.0,\n 268.0,\n 600.1666666666667,\n 273.5,\n -720.5,\n -438.16666666666674,\n -426.5,\n 525.5,\n 186.0]"
     },
     "execution_count": 82,
     "metadata": {},
     "output_type": "execute_result"
    }
   ],
   "source": [
    "clustering_err = [item for sublist in clustering_err for item in sublist]\n",
    "clustering_err"
   ],
   "metadata": {
    "collapsed": false,
    "pycharm": {
     "name": "#%%\n"
    }
   }
  },
  {
   "cell_type": "code",
   "execution_count": 83,
   "outputs": [
    {
     "data": {
      "text/plain": "54"
     },
     "execution_count": 83,
     "metadata": {},
     "output_type": "execute_result"
    }
   ],
   "source": [
    "len(clustering_err)"
   ],
   "metadata": {
    "collapsed": false,
    "pycharm": {
     "name": "#%%\n"
    }
   }
  },
  {
   "cell_type": "code",
   "execution_count": 92,
   "outputs": [],
   "source": [
    "from statistics import mean, variance"
   ],
   "metadata": {
    "collapsed": false,
    "pycharm": {
     "name": "#%%\n"
    }
   }
  },
  {
   "cell_type": "code",
   "execution_count": 84,
   "outputs": [],
   "source": [
    "pipeline_err_abs =  [abs(ele) for ele in pipeline_err]"
   ],
   "metadata": {
    "collapsed": false,
    "pycharm": {
     "name": "#%%\n"
    }
   }
  },
  {
   "cell_type": "code",
   "execution_count": 93,
   "outputs": [
    {
     "data": {
      "text/plain": "146917.33612858143"
     },
     "execution_count": 93,
     "metadata": {},
     "output_type": "execute_result"
    }
   ],
   "source": [
    "variance(pipeline_err)"
   ],
   "metadata": {
    "collapsed": false,
    "pycharm": {
     "name": "#%%\n"
    }
   }
  },
  {
   "cell_type": "code",
   "execution_count": 86,
   "outputs": [
    {
     "data": {
      "text/plain": "390.4821869488536"
     },
     "execution_count": 86,
     "metadata": {},
     "output_type": "execute_result"
    }
   ],
   "source": [
    "clustering_err_abs = [abs(ele) for ele in clustering_err]\n",
    "mean(clustering_err_abs)"
   ],
   "metadata": {
    "collapsed": false,
    "pycharm": {
     "name": "#%%\n"
    }
   }
  },
  {
   "cell_type": "code",
   "execution_count": 88,
   "outputs": [],
   "source": [
    "pipeline_err.sort()"
   ],
   "metadata": {
    "collapsed": false,
    "pycharm": {
     "name": "#%%\n"
    }
   }
  },
  {
   "cell_type": "code",
   "execution_count": 94,
   "outputs": [
    {
     "data": {
      "text/plain": "231393.05117849653"
     },
     "execution_count": 94,
     "metadata": {},
     "output_type": "execute_result"
    }
   ],
   "source": [
    "variance(clustering_err)"
   ],
   "metadata": {
    "collapsed": false,
    "pycharm": {
     "name": "#%%\n"
    }
   }
  },
  {
   "cell_type": "code",
   "execution_count": 90,
   "outputs": [],
   "source": [
    "clustering_err.sort()"
   ],
   "metadata": {
    "collapsed": false,
    "pycharm": {
     "name": "#%%\n"
    }
   }
  },
  {
   "cell_type": "code",
   "execution_count": 91,
   "outputs": [
    {
     "data": {
      "text/plain": "[-1183.3333333333333,\n -1130.0,\n -971.4285714285713,\n -923.6666666666667,\n -783.5833333333333,\n -720.5,\n -591.5999999999999,\n -466.33333333333326,\n -454.8571428571429,\n -438.16666666666674,\n -426.5,\n -377.1428571428571,\n -370.79999999999995,\n -342.66666666666674,\n -298.5,\n -267.91666666666674,\n -232.0,\n -227.33333333333326,\n -175.83333333333326,\n -129.1428571428571,\n -17.666666666666742,\n -13.71428571428578,\n -0.33333333333325754,\n 26.0,\n 69.0,\n 88.79999999999995,\n 146.79999999999995,\n 172.83333333333326,\n 186.0,\n 198.0,\n 199.0,\n 202.79999999999995,\n 203.20000000000005,\n 211.5999999999999,\n 216.0,\n 233.66666666666674,\n 259.66666666666674,\n 268.0,\n 273.5,\n 300.0,\n 300.4000000000001,\n 331.66666666666674,\n 387.66666666666674,\n 411.0,\n 415.66666666666674,\n 450.2857142857142,\n 472.79999999999995,\n 525.5,\n 563.0,\n 600.1666666666667,\n 649.6666666666667,\n 684.3333333333333,\n 698.2857142857142,\n 797.7142857142858]"
     },
     "execution_count": 91,
     "metadata": {},
     "output_type": "execute_result"
    }
   ],
   "source": [
    "clustering_err"
   ],
   "metadata": {
    "collapsed": false,
    "pycharm": {
     "name": "#%%\n"
    }
   }
  },
  {
   "cell_type": "code",
   "execution_count": null,
   "outputs": [],
   "source": [],
   "metadata": {
    "collapsed": false,
    "pycharm": {
     "name": "#%%\n"
    }
   }
  },
  {
   "cell_type": "code",
   "execution_count": null,
   "outputs": [],
   "source": [],
   "metadata": {
    "collapsed": false,
    "pycharm": {
     "name": "#%%\n"
    }
   }
  },
  {
   "cell_type": "code",
   "execution_count": 32,
   "outputs": [
    {
     "data": {
      "text/plain": "Series([], Name: hour, dtype: float64)"
     },
     "execution_count": 32,
     "metadata": {},
     "output_type": "execute_result"
    }
   ],
   "source": [
    "rides_train_p1[(rides_train_p1['source_h3_9'] == \"892cf318c6fffff\") & (rides_train_p1['dest_h3_9'] == \"892cf30a0b3ffff\")]['hour'] % 24"
   ],
   "metadata": {
    "collapsed": false,
    "pycharm": {
     "name": "#%%\n"
    }
   }
  },
  {
   "cell_type": "code",
   "execution_count": 38,
   "outputs": [
    {
     "data": {
      "text/plain": "         eta  ata  a_t_a_result.ride_a_t_a           created_at  source_lat  \\\n833913   158  146                      128  2022-09-19 13:39:40   35.692299   \n1232074  208  177                      184  2022-09-23 17:49:25   35.692425   \n1700566  156  154                      163  2022-09-29 22:33:44   35.692219   \n2110905  159  220                      144  2022-10-03 22:42:23   35.692528   \n2162970  196  127                      172  2022-10-04 01:27:08   35.692348   \n2213949  178  142                      248  2022-10-04 22:57:44   35.692284   \n2215768  146  135                      112  2022-10-04 17:03:51   35.692463   \n\n         source_lng  destination_lat  destination_lng  e_d_d  \\\n833913    51.322430        35.688446        51.331120  0.982   \n1232074   51.323063        35.688992        51.330761  0.937   \n1700566   51.322243        35.688496        51.331047  1.001   \n2110905   51.321758        35.689651        51.329826  0.943   \n2162970   51.323105        35.689087        51.330479  0.895   \n2213949   51.321976        35.689098        51.330460  0.993   \n2215768   51.322716        35.689137        51.330883  0.951   \n\n             clickhouse_time        hour  holiday      source_h3_4  \\\n833913   2022-09-19 13:45:24   61.661111        0  892cf318c73ffff   \n1232074  2022-09-23 17:55:24  162.823611        0  892cf318c73ffff   \n1700566  2022-09-29 22:44:08  143.562222        0  892cf318c73ffff   \n2110905  2022-10-03 22:49:17   71.706389        0  892cf318c73ffff   \n2162970  2022-10-04 01:33:30   74.452222        0  892cf318c73ffff   \n2213949  2022-10-04 23:03:05   95.962222        0  892cf318c73ffff   \n2215768  2022-10-04 18:19:08   90.064167        0  892cf318c73ffff   \n\n               dest_h3_4  \n833913   892cf318c6fffff  \n1232074  892cf318c6fffff  \n1700566  892cf318c6fffff  \n2110905  892cf318c6fffff  \n2162970  892cf318c6fffff  \n2213949  892cf318c6fffff  \n2215768  892cf318c6fffff  ",
      "text/html": "<div>\n<style scoped>\n    .dataframe tbody tr th:only-of-type {\n        vertical-align: middle;\n    }\n\n    .dataframe tbody tr th {\n        vertical-align: top;\n    }\n\n    .dataframe thead th {\n        text-align: right;\n    }\n</style>\n<table border=\"1\" class=\"dataframe\">\n  <thead>\n    <tr style=\"text-align: right;\">\n      <th></th>\n      <th>eta</th>\n      <th>ata</th>\n      <th>a_t_a_result.ride_a_t_a</th>\n      <th>created_at</th>\n      <th>source_lat</th>\n      <th>source_lng</th>\n      <th>destination_lat</th>\n      <th>destination_lng</th>\n      <th>e_d_d</th>\n      <th>clickhouse_time</th>\n      <th>hour</th>\n      <th>holiday</th>\n      <th>source_h3_4</th>\n      <th>dest_h3_4</th>\n    </tr>\n  </thead>\n  <tbody>\n    <tr>\n      <th>833913</th>\n      <td>158</td>\n      <td>146</td>\n      <td>128</td>\n      <td>2022-09-19 13:39:40</td>\n      <td>35.692299</td>\n      <td>51.322430</td>\n      <td>35.688446</td>\n      <td>51.331120</td>\n      <td>0.982</td>\n      <td>2022-09-19 13:45:24</td>\n      <td>61.661111</td>\n      <td>0</td>\n      <td>892cf318c73ffff</td>\n      <td>892cf318c6fffff</td>\n    </tr>\n    <tr>\n      <th>1232074</th>\n      <td>208</td>\n      <td>177</td>\n      <td>184</td>\n      <td>2022-09-23 17:49:25</td>\n      <td>35.692425</td>\n      <td>51.323063</td>\n      <td>35.688992</td>\n      <td>51.330761</td>\n      <td>0.937</td>\n      <td>2022-09-23 17:55:24</td>\n      <td>162.823611</td>\n      <td>0</td>\n      <td>892cf318c73ffff</td>\n      <td>892cf318c6fffff</td>\n    </tr>\n    <tr>\n      <th>1700566</th>\n      <td>156</td>\n      <td>154</td>\n      <td>163</td>\n      <td>2022-09-29 22:33:44</td>\n      <td>35.692219</td>\n      <td>51.322243</td>\n      <td>35.688496</td>\n      <td>51.331047</td>\n      <td>1.001</td>\n      <td>2022-09-29 22:44:08</td>\n      <td>143.562222</td>\n      <td>0</td>\n      <td>892cf318c73ffff</td>\n      <td>892cf318c6fffff</td>\n    </tr>\n    <tr>\n      <th>2110905</th>\n      <td>159</td>\n      <td>220</td>\n      <td>144</td>\n      <td>2022-10-03 22:42:23</td>\n      <td>35.692528</td>\n      <td>51.321758</td>\n      <td>35.689651</td>\n      <td>51.329826</td>\n      <td>0.943</td>\n      <td>2022-10-03 22:49:17</td>\n      <td>71.706389</td>\n      <td>0</td>\n      <td>892cf318c73ffff</td>\n      <td>892cf318c6fffff</td>\n    </tr>\n    <tr>\n      <th>2162970</th>\n      <td>196</td>\n      <td>127</td>\n      <td>172</td>\n      <td>2022-10-04 01:27:08</td>\n      <td>35.692348</td>\n      <td>51.323105</td>\n      <td>35.689087</td>\n      <td>51.330479</td>\n      <td>0.895</td>\n      <td>2022-10-04 01:33:30</td>\n      <td>74.452222</td>\n      <td>0</td>\n      <td>892cf318c73ffff</td>\n      <td>892cf318c6fffff</td>\n    </tr>\n    <tr>\n      <th>2213949</th>\n      <td>178</td>\n      <td>142</td>\n      <td>248</td>\n      <td>2022-10-04 22:57:44</td>\n      <td>35.692284</td>\n      <td>51.321976</td>\n      <td>35.689098</td>\n      <td>51.330460</td>\n      <td>0.993</td>\n      <td>2022-10-04 23:03:05</td>\n      <td>95.962222</td>\n      <td>0</td>\n      <td>892cf318c73ffff</td>\n      <td>892cf318c6fffff</td>\n    </tr>\n    <tr>\n      <th>2215768</th>\n      <td>146</td>\n      <td>135</td>\n      <td>112</td>\n      <td>2022-10-04 17:03:51</td>\n      <td>35.692463</td>\n      <td>51.322716</td>\n      <td>35.689137</td>\n      <td>51.330883</td>\n      <td>0.951</td>\n      <td>2022-10-04 18:19:08</td>\n      <td>90.064167</td>\n      <td>0</td>\n      <td>892cf318c73ffff</td>\n      <td>892cf318c6fffff</td>\n    </tr>\n  </tbody>\n</table>\n</div>"
     },
     "execution_count": 38,
     "metadata": {},
     "output_type": "execute_result"
    }
   ],
   "source": [
    "rides_test_p1[(rides_test_p1['source_h3_9'] == \"892cf318c73ffff\") & (rides_test_p1['dest_h3_9'] == \"892cf318c6fffff\")]"
   ],
   "metadata": {
    "collapsed": false,
    "pycharm": {
     "name": "#%%\n"
    }
   }
  },
  {
   "cell_type": "code",
   "execution_count": null,
   "outputs": [],
   "source": [],
   "metadata": {
    "collapsed": false,
    "pycharm": {
     "name": "#%%\n"
    }
   }
  },
  {
   "cell_type": "code",
   "execution_count": null,
   "outputs": [],
   "source": [],
   "metadata": {
    "collapsed": false,
    "pycharm": {
     "name": "#%%\n"
    }
   }
  },
  {
   "cell_type": "code",
   "execution_count": null,
   "outputs": [],
   "source": [],
   "metadata": {
    "collapsed": false,
    "pycharm": {
     "name": "#%%\n"
    }
   }
  },
  {
   "cell_type": "code",
   "execution_count": null,
   "outputs": [],
   "source": [],
   "metadata": {
    "collapsed": false,
    "pycharm": {
     "name": "#%%\n"
    }
   }
  },
  {
   "cell_type": "code",
   "execution_count": null,
   "outputs": [],
   "source": [],
   "metadata": {
    "collapsed": false,
    "pycharm": {
     "name": "#%%\n"
    }
   }
  },
  {
   "cell_type": "code",
   "execution_count": 17,
   "outputs": [],
   "source": [
    "train_p1_geo_x = rides_train_p1[[\"eta\", \"source_lat\", \"source_lng\", \"destination_lat\", \"destination_lng\", \"hour\", \"holiday\"]]\n",
    "# train_p1_h3_x = rides_train_p1[[\"eta\", \"source_h3_9\", \"dest_h3_9\", \"hour\", \"holiday\"]]\n",
    "train_p1_geo_y = rides_train_p1[\"a_t_a_result.ride_a_t_a\"]\n",
    "# train_p1_h3_y = rides_train_p1[\"a_t_a_result.ride_a_t_a\"]"
   ],
   "metadata": {
    "collapsed": false,
    "pycharm": {
     "name": "#%%\n"
    }
   }
  },
  {
   "cell_type": "code",
   "execution_count": 18,
   "outputs": [],
   "source": [
    "test_p1_geo_x = rides_test_p1[[\"eta\", \"source_lat\", \"source_lng\", \"destination_lat\", \"destination_lng\", \"hour\", \"holiday\"]]\n",
    "# test_p1_h3_x = rides_test_p1[[\"eta\", \"source_h3_9\", \"dest_h3_9\", \"hour\", \"holiday\"]]\n",
    "test_p1_geo_y = rides_test_p1[\"a_t_a_result.ride_a_t_a\"]\n",
    "# test_p1_h3_y = rides_test_p1[\"a_t_a_result.ride_a_t_a\"]"
   ],
   "metadata": {
    "collapsed": false,
    "pycharm": {
     "name": "#%%\n"
    }
   }
  },
  {
   "cell_type": "code",
   "execution_count": 19,
   "outputs": [],
   "source": [
    "# dummy_train_rides = pd.get_dummies(train_p1_h3_x, prefix={'source_h3_9':'source_h3_9',\n",
    "#                                                              'dest_h3_9':'dest_h3_9'})\n",
    "# dummy_train_rides.describe()"
   ],
   "metadata": {
    "collapsed": false,
    "pycharm": {
     "name": "#%%\n"
    }
   }
  },
  {
   "cell_type": "code",
   "execution_count": 20,
   "outputs": [],
   "source": [
    "# print(np.count_nonzero(dummy_train_rides, axis=0))\n",
    "# print(dummy_train_rides.columns)"
   ],
   "metadata": {
    "collapsed": false,
    "pycharm": {
     "name": "#%%\n"
    }
   }
  },
  {
   "cell_type": "code",
   "execution_count": 21,
   "outputs": [],
   "source": [
    "# geo_noise = np.count_nonzero(dummy_train_rides, axis=0) < 100\n",
    "#\n",
    "# cols = dummy_train_rides.columns\n",
    "# for col, noise in zip(cols, geo_noise):\n",
    "#     if noise:\n",
    "#         # DOESN'T REINDEX\n",
    "#         # remove the rows where rides_train_p1_x is in the noisy geo (geo is 1)\n",
    "#         train_p1_h3_x = train_p1_h3_x[dummy_train_rides[col] == 0]\n",
    "#         train_p1_h3_y = train_p1_h3_y[dummy_train_rides[col] == 0]\n",
    "#\n",
    "# train_p1_h3_x.describe()"
   ],
   "metadata": {
    "collapsed": false,
    "pycharm": {
     "name": "#%%\n"
    }
   }
  },
  {
   "cell_type": "code",
   "execution_count": 22,
   "outputs": [],
   "source": [
    "# ohe = ColumnTransformer(\n",
    "#     [('OHE', OneHotEncoder(handle_unknown='ignore', sparse=False),['source_h3_9', 'dest_h3_9'])],\n",
    "#     remainder = 'passthrough'\n",
    "#     ).fit(train_p1_h3_x)"
   ],
   "metadata": {
    "collapsed": false,
    "pycharm": {
     "name": "#%%\n"
    }
   }
  },
  {
   "cell_type": "code",
   "execution_count": 23,
   "outputs": [],
   "source": [
    "# ohe.get_feature_names_out()"
   ],
   "metadata": {
    "collapsed": false,
    "pycharm": {
     "name": "#%%\n"
    }
   }
  },
  {
   "cell_type": "code",
   "execution_count": 24,
   "outputs": [],
   "source": [
    "# train_p1_h3_x = ohe.transform(train_p1_h3_x)"
   ],
   "metadata": {
    "collapsed": false,
    "pycharm": {
     "name": "#%%\n"
    }
   }
  },
  {
   "cell_type": "code",
   "execution_count": 25,
   "outputs": [],
   "source": [
    "# test_p1_h3_x = ohe.transform(test_p1_h3_x)"
   ],
   "metadata": {
    "collapsed": false,
    "pycharm": {
     "name": "#%%\n"
    }
   }
  },
  {
   "cell_type": "code",
   "execution_count": 50,
   "outputs": [],
   "source": [
    "rational_index = abs(train_p1_geo_x['eta'] - train_p1_geo_y) < 1800"
   ],
   "metadata": {
    "collapsed": false,
    "pycharm": {
     "name": "#%%\n"
    }
   }
  },
  {
   "cell_type": "code",
   "execution_count": 51,
   "outputs": [],
   "source": [
    "train_p1_geo_x = train_p1_geo_x[rational_index]\n",
    "train_p1_geo_y = train_p1_geo_y[rational_index]"
   ],
   "metadata": {
    "collapsed": false,
    "pycharm": {
     "name": "#%%\n"
    }
   }
  },
  {
   "cell_type": "code",
   "execution_count": 52,
   "outputs": [],
   "source": [
    "test_rational_index = abs(test_p1_geo_x['eta'] - test_p1_geo_y) < 1800\n",
    "test_p1_geo_x = test_p1_geo_x[test_rational_index]\n",
    "test_p1_geo_y = test_p1_geo_y[test_rational_index]"
   ],
   "metadata": {
    "collapsed": false,
    "pycharm": {
     "name": "#%%\n"
    }
   }
  },
  {
   "cell_type": "code",
   "execution_count": 53,
   "outputs": [],
   "source": [
    "train_eta = train_p1_geo_x['eta']\n",
    "test_eta = test_p1_geo_x['eta']\n",
    "\n",
    "# train_p1_geo_x = train_p1_geo_x[[\"source_lat\", \"source_lng\", \"destination_lat\", \"destination_lng\", \"hour\", \"holiday\"]]\n",
    "# test_p1_geo_x = test_p1_geo_x[[\"source_lat\", \"source_lng\", \"destination_lat\", \"destination_lng\", \"hour\", \"holiday\"]]"
   ],
   "metadata": {
    "collapsed": false,
    "pycharm": {
     "name": "#%%\n"
    }
   }
  },
  {
   "cell_type": "code",
   "execution_count": 54,
   "outputs": [],
   "source": [
    "reg_geo_p1 = LinearRegression().fit(train_p1_geo_x, train_p1_geo_y)"
   ],
   "metadata": {
    "collapsed": false,
    "pycharm": {
     "name": "#%%\n"
    }
   }
  },
  {
   "cell_type": "code",
   "execution_count": 55,
   "outputs": [
    {
     "name": "stdout",
     "output_type": "stream",
     "text": [
      "[  1.19995579  60.52077663  19.45155019 429.49508629  84.08659027\n",
      "  -0.43249748 -77.01206346]\n",
      "-22844.89730651855\n"
     ]
    }
   ],
   "source": [
    "print(reg_geo_p1.coef_)\n",
    "print(reg_geo_p1.intercept_)"
   ],
   "metadata": {
    "collapsed": false,
    "pycharm": {
     "name": "#%%\n"
    }
   }
  },
  {
   "cell_type": "code",
   "execution_count": 56,
   "outputs": [],
   "source": [
    "train_pred_geo = reg_geo_p1.predict(train_p1_geo_x)\n",
    "test_pred_geo = reg_geo_p1.predict(test_p1_geo_x)"
   ],
   "metadata": {
    "collapsed": false,
    "pycharm": {
     "name": "#%%\n"
    }
   }
  },
  {
   "cell_type": "code",
   "execution_count": 57,
   "outputs": [
    {
     "name": "stdout",
     "output_type": "stream",
     "text": [
      "ETA train MAE 303.05601677797216\n",
      "prediction train MAE 270.0441347116858\n",
      "ETA test MAE  198.93715245801377\n",
      "prediction test MAE 197.72842098826686\n",
      "ETA train MSE 186311.40376344605\n",
      "prediction train MSE 130232.03449502192\n",
      "ETA test MSE  109690.4659505515\n",
      "prediction test MSE 86595.15998340784\n",
      "ETA train explained_variance_score 0.22988020895077965\n",
      "prediction train explained_variance_score 0.24686168720432022\n",
      "ETA test explained_variance_score  0.8693451809315293\n",
      "prediction test explained_variance_score 0.8768978838276482\n",
      "ETA train median_absolute_error 202.0\n",
      "prediction train median_absolute_error 211.7969343737459\n",
      "ETA test median_absolute_error  103.0\n",
      "prediction test median_absolute_error 130.12398476009366\n",
      "ETA train r2_score -0.07744808586523355\n",
      "prediction train r2_score 0.2468616872043201\n",
      "ETA test r2_score  0.8438239267452461\n",
      "prediction test r2_score 0.8767067681600286\n",
      "ETA train MAPE 0.1617958423506161\n",
      "prediction train MAPE 0.1630260834281298\n",
      "ETA test MAPE  0.18084430516321362\n",
      "prediction test MAPE 0.2158734826585\n"
     ]
    }
   ],
   "source": [
    "print(\"ETA train MAE\", mean_absolute_error(train_p1_geo_y, train_eta))\n",
    "print(\"prediction train MAE\", mean_absolute_error(train_p1_geo_y, train_pred_geo))\n",
    "\n",
    "print(\"ETA test MAE \", mean_absolute_error(test_p1_geo_y, test_eta))\n",
    "print(\"prediction test MAE\", mean_absolute_error(test_p1_geo_y, test_pred_geo))\n",
    "\n",
    "\n",
    "print(\"ETA train MSE\", mean_squared_error(train_p1_geo_y, train_eta))\n",
    "print(\"prediction train MSE\", mean_squared_error(train_p1_geo_y, train_pred_geo))\n",
    "\n",
    "print(\"ETA test MSE \", mean_squared_error(test_p1_geo_y, test_eta))\n",
    "print(\"prediction test MSE\", mean_squared_error(test_p1_geo_y, test_pred_geo))\n",
    "\n",
    "\n",
    "print(\"ETA train explained_variance_score\", explained_variance_score(train_p1_geo_y, train_eta))\n",
    "print(\"prediction train explained_variance_score\", explained_variance_score(train_p1_geo_y, train_pred_geo))\n",
    "\n",
    "print(\"ETA test explained_variance_score \", explained_variance_score(test_p1_geo_y, test_eta))\n",
    "print(\"prediction test explained_variance_score\", explained_variance_score(test_p1_geo_y, test_pred_geo))\n",
    "\n",
    "\n",
    "print(\"ETA train median_absolute_error\", median_absolute_error(train_p1_geo_y, train_eta))\n",
    "print(\"prediction train median_absolute_error\", median_absolute_error(train_p1_geo_y, train_pred_geo))\n",
    "\n",
    "print(\"ETA test median_absolute_error \", median_absolute_error(test_p1_geo_y, test_eta))\n",
    "print(\"prediction test median_absolute_error\", median_absolute_error(test_p1_geo_y, test_pred_geo))\n",
    "\n",
    "\n",
    "print(\"ETA train r2_score\", r2_score(train_p1_geo_y, train_eta))\n",
    "print(\"prediction train r2_score\", r2_score(train_p1_geo_y, train_pred_geo))\n",
    "\n",
    "print(\"ETA test r2_score \", r2_score(test_p1_geo_y, test_eta))\n",
    "print(\"prediction test r2_score\", r2_score(test_p1_geo_y, test_pred_geo))\n",
    "\n",
    "\n",
    "print(\"ETA train MAPE\", mean_absolute_percentage_error(train_p1_geo_y, train_eta))\n",
    "print(\"prediction train MAPE\", mean_absolute_percentage_error(train_p1_geo_y, train_pred_geo))\n",
    "\n",
    "print(\"ETA test MAPE \", mean_absolute_percentage_error(test_p1_geo_y, test_eta))\n",
    "print(\"prediction test MAPE\", mean_absolute_percentage_error(test_p1_geo_y, test_pred_geo))"
   ],
   "metadata": {
    "collapsed": false,
    "pycharm": {
     "name": "#%%\n"
    }
   }
  },
  {
   "cell_type": "code",
   "execution_count": 58,
   "outputs": [
    {
     "data": {
      "text/plain": "KNeighborsRegressor(n_neighbors=50)",
      "text/html": "<style>#sk-container-id-2 {color: black;background-color: white;}#sk-container-id-2 pre{padding: 0;}#sk-container-id-2 div.sk-toggleable {background-color: white;}#sk-container-id-2 label.sk-toggleable__label {cursor: pointer;display: block;width: 100%;margin-bottom: 0;padding: 0.3em;box-sizing: border-box;text-align: center;}#sk-container-id-2 label.sk-toggleable__label-arrow:before {content: \"▸\";float: left;margin-right: 0.25em;color: #696969;}#sk-container-id-2 label.sk-toggleable__label-arrow:hover:before {color: black;}#sk-container-id-2 div.sk-estimator:hover label.sk-toggleable__label-arrow:before {color: black;}#sk-container-id-2 div.sk-toggleable__content {max-height: 0;max-width: 0;overflow: hidden;text-align: left;background-color: #f0f8ff;}#sk-container-id-2 div.sk-toggleable__content pre {margin: 0.2em;color: black;border-radius: 0.25em;background-color: #f0f8ff;}#sk-container-id-2 input.sk-toggleable__control:checked~div.sk-toggleable__content {max-height: 200px;max-width: 100%;overflow: auto;}#sk-container-id-2 input.sk-toggleable__control:checked~label.sk-toggleable__label-arrow:before {content: \"▾\";}#sk-container-id-2 div.sk-estimator input.sk-toggleable__control:checked~label.sk-toggleable__label {background-color: #d4ebff;}#sk-container-id-2 div.sk-label input.sk-toggleable__control:checked~label.sk-toggleable__label {background-color: #d4ebff;}#sk-container-id-2 input.sk-hidden--visually {border: 0;clip: rect(1px 1px 1px 1px);clip: rect(1px, 1px, 1px, 1px);height: 1px;margin: -1px;overflow: hidden;padding: 0;position: absolute;width: 1px;}#sk-container-id-2 div.sk-estimator {font-family: monospace;background-color: #f0f8ff;border: 1px dotted black;border-radius: 0.25em;box-sizing: border-box;margin-bottom: 0.5em;}#sk-container-id-2 div.sk-estimator:hover {background-color: #d4ebff;}#sk-container-id-2 div.sk-parallel-item::after {content: \"\";width: 100%;border-bottom: 1px solid gray;flex-grow: 1;}#sk-container-id-2 div.sk-label:hover label.sk-toggleable__label {background-color: #d4ebff;}#sk-container-id-2 div.sk-serial::before {content: \"\";position: absolute;border-left: 1px solid gray;box-sizing: border-box;top: 0;bottom: 0;left: 50%;z-index: 0;}#sk-container-id-2 div.sk-serial {display: flex;flex-direction: column;align-items: center;background-color: white;padding-right: 0.2em;padding-left: 0.2em;position: relative;}#sk-container-id-2 div.sk-item {position: relative;z-index: 1;}#sk-container-id-2 div.sk-parallel {display: flex;align-items: stretch;justify-content: center;background-color: white;position: relative;}#sk-container-id-2 div.sk-item::before, #sk-container-id-2 div.sk-parallel-item::before {content: \"\";position: absolute;border-left: 1px solid gray;box-sizing: border-box;top: 0;bottom: 0;left: 50%;z-index: -1;}#sk-container-id-2 div.sk-parallel-item {display: flex;flex-direction: column;z-index: 1;position: relative;background-color: white;}#sk-container-id-2 div.sk-parallel-item:first-child::after {align-self: flex-end;width: 50%;}#sk-container-id-2 div.sk-parallel-item:last-child::after {align-self: flex-start;width: 50%;}#sk-container-id-2 div.sk-parallel-item:only-child::after {width: 0;}#sk-container-id-2 div.sk-dashed-wrapped {border: 1px dashed gray;margin: 0 0.4em 0.5em 0.4em;box-sizing: border-box;padding-bottom: 0.4em;background-color: white;}#sk-container-id-2 div.sk-label label {font-family: monospace;font-weight: bold;display: inline-block;line-height: 1.2em;}#sk-container-id-2 div.sk-label-container {text-align: center;}#sk-container-id-2 div.sk-container {/* jupyter's `normalize.less` sets `[hidden] { display: none; }` but bootstrap.min.css set `[hidden] { display: none !important; }` so we also need the `!important` here to be able to override the default hidden behavior on the sphinx rendered scikit-learn.org. See: https://github.com/scikit-learn/scikit-learn/issues/21755 */display: inline-block !important;position: relative;}#sk-container-id-2 div.sk-text-repr-fallback {display: none;}</style><div id=\"sk-container-id-2\" class=\"sk-top-container\"><div class=\"sk-text-repr-fallback\"><pre>KNeighborsRegressor(n_neighbors=50)</pre><b>In a Jupyter environment, please rerun this cell to show the HTML representation or trust the notebook. <br />On GitHub, the HTML representation is unable to render, please try loading this page with nbviewer.org.</b></div><div class=\"sk-container\" hidden><div class=\"sk-item\"><div class=\"sk-estimator sk-toggleable\"><input class=\"sk-toggleable__control sk-hidden--visually\" id=\"sk-estimator-id-2\" type=\"checkbox\" checked><label for=\"sk-estimator-id-2\" class=\"sk-toggleable__label sk-toggleable__label-arrow\">KNeighborsRegressor</label><div class=\"sk-toggleable__content\"><pre>KNeighborsRegressor(n_neighbors=50)</pre></div></div></div></div></div>"
     },
     "execution_count": 58,
     "metadata": {},
     "output_type": "execute_result"
    }
   ],
   "source": [
    "from sklearn.neighbors import KNeighborsRegressor\n",
    "neigh = KNeighborsRegressor(n_neighbors=50)\n",
    "neigh.fit(train_p1_geo_x, train_p1_geo_y)"
   ],
   "metadata": {
    "collapsed": false,
    "pycharm": {
     "name": "#%%\n"
    }
   }
  },
  {
   "cell_type": "code",
   "execution_count": 59,
   "outputs": [],
   "source": [
    "train_knn_pred_geo = neigh.predict(train_p1_geo_x)"
   ],
   "metadata": {
    "collapsed": false,
    "pycharm": {
     "name": "#%%\n"
    }
   }
  },
  {
   "cell_type": "code",
   "execution_count": 60,
   "outputs": [],
   "source": [
    "test_knn_pred_geo = neigh.predict(test_p1_geo_x)"
   ],
   "metadata": {
    "collapsed": false,
    "pycharm": {
     "name": "#%%\n"
    }
   }
  },
  {
   "cell_type": "code",
   "execution_count": 61,
   "outputs": [
    {
     "name": "stdout",
     "output_type": "stream",
     "text": [
      "ETA train MAE 303.05601677797216\n",
      "prediction train MAE 248.65587185533832\n",
      "ETA test MAE  198.93715245801377\n",
      "prediction test MAE 647.6301651329711\n",
      "ETA train MSE 186311.40376344605\n",
      "prediction train MSE 110606.5244008862\n",
      "ETA test MSE  109690.4659505515\n",
      "prediction test MSE 608931.0242283179\n",
      "ETA train explained_variance_score 0.22988020895077965\n",
      "prediction train explained_variance_score 0.3603903523829256\n",
      "ETA test explained_variance_score  0.8693451809315293\n",
      "prediction test explained_variance_score 0.3848412842899378\n",
      "ETA train median_absolute_error 202.0\n",
      "prediction train median_absolute_error 194.1199999999999\n",
      "ETA test median_absolute_error  103.0\n",
      "prediction test median_absolute_error 628.02\n",
      "ETA train r2_score -0.07744808586523355\n",
      "prediction train r2_score 0.36035698517278536\n",
      "ETA test r2_score  0.8438239267452461\n",
      "prediction test r2_score 0.13301073686891396\n",
      "ETA train MAPE 0.1617958423506161\n",
      "prediction train MAPE 0.14968560751150273\n",
      "ETA test MAPE  0.18084430516321362\n",
      "prediction test MAPE 1.344012981865643\n"
     ]
    }
   ],
   "source": [
    "print(\"ETA train MAE\", mean_absolute_error(train_p1_geo_y, train_eta))\n",
    "print(\"prediction train MAE\", mean_absolute_error(train_p1_geo_y, train_knn_pred_geo))\n",
    "\n",
    "print(\"ETA test MAE \", mean_absolute_error(test_p1_geo_y, test_eta))\n",
    "print(\"prediction test MAE\", mean_absolute_error(test_p1_geo_y, test_knn_pred_geo))\n",
    "\n",
    "\n",
    "print(\"ETA train MSE\", mean_squared_error(train_p1_geo_y, train_eta))\n",
    "print(\"prediction train MSE\", mean_squared_error(train_p1_geo_y, train_knn_pred_geo))\n",
    "\n",
    "print(\"ETA test MSE \", mean_squared_error(test_p1_geo_y, test_eta))\n",
    "print(\"prediction test MSE\", mean_squared_error(test_p1_geo_y, test_knn_pred_geo))\n",
    "\n",
    "\n",
    "print(\"ETA train explained_variance_score\", explained_variance_score(train_p1_geo_y, train_eta))\n",
    "print(\"prediction train explained_variance_score\", explained_variance_score(train_p1_geo_y, train_knn_pred_geo))\n",
    "\n",
    "print(\"ETA test explained_variance_score \", explained_variance_score(test_p1_geo_y, test_eta))\n",
    "print(\"prediction test explained_variance_score\", explained_variance_score(test_p1_geo_y, test_knn_pred_geo))\n",
    "\n",
    "\n",
    "print(\"ETA train median_absolute_error\", median_absolute_error(train_p1_geo_y, train_eta))\n",
    "print(\"prediction train median_absolute_error\", median_absolute_error(train_p1_geo_y, train_knn_pred_geo))\n",
    "\n",
    "print(\"ETA test median_absolute_error \", median_absolute_error(test_p1_geo_y, test_eta))\n",
    "print(\"prediction test median_absolute_error\", median_absolute_error(test_p1_geo_y, test_knn_pred_geo))\n",
    "\n",
    "\n",
    "print(\"ETA train r2_score\", r2_score(train_p1_geo_y, train_eta))\n",
    "print(\"prediction train r2_score\", r2_score(train_p1_geo_y, train_knn_pred_geo))\n",
    "\n",
    "print(\"ETA test r2_score \", r2_score(test_p1_geo_y, test_eta))\n",
    "print(\"prediction test r2_score\", r2_score(test_p1_geo_y, test_knn_pred_geo))\n",
    "\n",
    "\n",
    "print(\"ETA train MAPE\", mean_absolute_percentage_error(train_p1_geo_y, train_eta))\n",
    "print(\"prediction train MAPE\", mean_absolute_percentage_error(train_p1_geo_y, train_knn_pred_geo))\n",
    "\n",
    "print(\"ETA test MAPE \", mean_absolute_percentage_error(test_p1_geo_y, test_eta))\n",
    "print(\"prediction test MAPE\", mean_absolute_percentage_error(test_p1_geo_y, test_knn_pred_geo))"
   ],
   "metadata": {
    "collapsed": false,
    "pycharm": {
     "name": "#%%\n"
    }
   }
  },
  {
   "cell_type": "code",
   "execution_count": null,
   "outputs": [],
   "source": [
    "from sklearn.svm import SVR\n",
    "from sklearn.pipeline import make_pipeline\n",
    "from sklearn.preprocessing import StandardScaler\n",
    "import numpy as np\n",
    "regr = make_pipeline(StandardScaler(), SVR(C=1.0, epsilon=0.2))\n",
    "regr.fit(train_p1_geo_x, train_p1_geo_y)"
   ],
   "metadata": {
    "collapsed": false,
    "pycharm": {
     "name": "#%%\n",
     "is_executing": true
    }
   }
  },
  {
   "cell_type": "code",
   "execution_count": null,
   "outputs": [],
   "source": [
    "train_svm_pred_geo = regr.predict(train_p1_geo_x)\n",
    "test_svm_pred_geo = regr.predict(test_p1_geo_x)"
   ],
   "metadata": {
    "collapsed": false,
    "pycharm": {
     "name": "#%%\n",
     "is_executing": true
    }
   }
  },
  {
   "cell_type": "code",
   "execution_count": null,
   "outputs": [],
   "source": [
    "print(\"ETA train MAE\", mean_absolute_error(train_p1_geo_y, train_eta))\n",
    "print(\"prediction train MAE\", mean_absolute_error(train_p1_geo_y, train_svm_pred_geo))\n",
    "\n",
    "print(\"ETA test MAE \", mean_absolute_error(test_p1_geo_y, test_eta))\n",
    "print(\"prediction test MAE\", mean_absolute_error(test_p1_geo_y, test_svm_pred_geo))\n",
    "\n",
    "\n",
    "print(\"ETA train MSE\", mean_squared_error(train_p1_geo_y, train_eta))\n",
    "print(\"prediction train MSE\", mean_squared_error(train_p1_geo_y, train_svm_pred_geo))\n",
    "\n",
    "print(\"ETA test MSE \", mean_squared_error(test_p1_geo_y, test_eta))\n",
    "print(\"prediction test MSE\", mean_squared_error(test_p1_geo_y, test_svm_pred_geo))\n",
    "\n",
    "\n",
    "print(\"ETA train explained_variance_score\", explained_variance_score(train_p1_geo_y, train_eta))\n",
    "print(\"prediction train explained_variance_score\", explained_variance_score(train_p1_geo_y, train_svm_pred_geo))\n",
    "\n",
    "print(\"ETA test explained_variance_score \", explained_variance_score(test_p1_geo_y, test_eta))\n",
    "print(\"prediction test explained_variance_score\", explained_variance_score(test_p1_geo_y, test_svm_pred_geo))\n",
    "\n",
    "\n",
    "print(\"ETA train median_absolute_error\", median_absolute_error(train_p1_geo_y, train_eta))\n",
    "print(\"prediction train median_absolute_error\", median_absolute_error(train_p1_geo_y, train_svm_pred_geo))\n",
    "\n",
    "print(\"ETA test median_absolute_error \", median_absolute_error(test_p1_geo_y, test_eta))\n",
    "print(\"prediction test median_absolute_error\", median_absolute_error(test_p1_geo_y, test_svm_pred_geo))\n",
    "\n",
    "\n",
    "print(\"ETA train r2_score\", r2_score(train_p1_geo_y, train_eta))\n",
    "print(\"prediction train r2_score\", r2_score(train_p1_geo_y, train_svm_pred_geo))\n",
    "\n",
    "print(\"ETA test r2_score \", r2_score(test_p1_geo_y, test_eta))\n",
    "print(\"prediction test r2_score\", r2_score(test_p1_geo_y, test_svm_pred_geo))\n",
    "\n",
    "\n",
    "print(\"ETA train MAPE\", mean_absolute_percentage_error(train_p1_geo_y, train_eta))\n",
    "print(\"prediction train MAPE\", mean_absolute_percentage_error(train_p1_geo_y, train_svm_pred_geo))\n",
    "\n",
    "print(\"ETA test MAPE \", mean_absolute_percentage_error(test_p1_geo_y, test_eta))\n",
    "print(\"prediction test MAPE\", mean_absolute_percentage_error(test_p1_geo_y, test_svm_pred_geo))"
   ],
   "metadata": {
    "collapsed": false,
    "pycharm": {
     "name": "#%%\n",
     "is_executing": true
    }
   }
  },
  {
   "cell_type": "code",
   "execution_count": 62,
   "outputs": [
    {
     "data": {
      "text/plain": "<matplotlib.collections.PathCollection at 0x30318b640>"
     },
     "execution_count": 62,
     "metadata": {},
     "output_type": "execute_result"
    },
    {
     "data": {
      "text/plain": "<Figure size 640x480 with 1 Axes>",
      "image/png": "[encoded data removed]"
     },
     "metadata": {},
     "output_type": "display_data"
    }
   ],
   "source": [
    "plt.scatter(train_eta, train_p1_geo_y)"
   ],
   "metadata": {
    "collapsed": false,
    "pycharm": {
     "name": "#%%\n"
    }
   }
  },
  {
   "cell_type": "code",
   "execution_count": 63,
   "outputs": [],
   "source": [
    "import seaborn as sns"
   ],
   "metadata": {
    "collapsed": false,
    "pycharm": {
     "name": "#%%\n"
    }
   }
  },
  {
   "cell_type": "code",
   "execution_count": 64,
   "outputs": [
    {
     "data": {
      "text/plain": "<AxesSubplot: ylabel='Count'>"
     },
     "execution_count": 64,
     "metadata": {},
     "output_type": "execute_result"
    },
    {
     "data": {
      "text/plain": "<Figure size 640x480 with 1 Axes>",
      "image/png": "[encoded data removed]"
     },
     "metadata": {},
     "output_type": "display_data"
    }
   ],
   "source": [
    "eta_err = train_p1_geo_x['eta'] - train_p1_geo_y\n",
    "sns.histplot(eta_err)"
   ],
   "metadata": {
    "collapsed": false,
    "pycharm": {
     "name": "#%%\n"
    }
   }
  },
  {
   "cell_type": "code",
   "execution_count": 65,
   "outputs": [
    {
     "name": "stdout",
     "output_type": "stream",
     "text": [
      "-230.52753964955687\n",
      "364.9229767864145\n",
      "1.959038628268726\n",
      "-1.1453677343051023\n"
     ]
    }
   ],
   "source": [
    "print(eta_err.mean())\n",
    "print(eta_err.std())\n",
    "print(eta_err.kurtosis())\n",
    "print(eta_err.skew())"
   ],
   "metadata": {
    "collapsed": false,
    "pycharm": {
     "name": "#%%\n"
    }
   }
  },
  {
   "cell_type": "code",
   "execution_count": 66,
   "outputs": [
    {
     "data": {
      "text/plain": "<AxesSubplot: xlabel='a_t_a_result.ride_a_t_a', ylabel='Count'>"
     },
     "execution_count": 66,
     "metadata": {},
     "output_type": "execute_result"
    },
    {
     "data": {
      "text/plain": "<Figure size 640x480 with 1 Axes>",
      "image/png": "[encoded data removed]"
     },
     "metadata": {},
     "output_type": "display_data"
    }
   ],
   "source": [
    "pred_err = train_pred_geo - train_p1_geo_y\n",
    "sns.histplot(pred_err)"
   ],
   "metadata": {
    "collapsed": false,
    "pycharm": {
     "name": "#%%\n"
    }
   }
  },
  {
   "cell_type": "code",
   "execution_count": 67,
   "outputs": [
    {
     "name": "stdout",
     "output_type": "stream",
     "text": [
      "-7.815383634135306e-13\n",
      "360.8771940150293\n",
      "1.8983215137755232\n",
      "-1.0628900359362234\n"
     ]
    }
   ],
   "source": [
    "print(pred_err.mean())\n",
    "print(pred_err.std())\n",
    "print(pred_err.kurtosis())\n",
    "print(pred_err.skew())"
   ],
   "metadata": {
    "collapsed": false,
    "pycharm": {
     "name": "#%%\n"
    }
   }
  },
  {
   "cell_type": "code",
   "execution_count": 154,
   "outputs": [],
   "source": [
    "reg_h3_p1 = LinearRegression().fit(train_p1_h3_x, train_p1_h3_y)"
   ],
   "metadata": {
    "collapsed": false,
    "pycharm": {
     "name": "#%%\n"
    }
   }
  },
  {
   "cell_type": "code",
   "execution_count": 155,
   "outputs": [
    {
     "name": "stdout",
     "output_type": "stream",
     "text": [
      "[ 1.26783627e+10  1.26783627e+10  3.36497938e+11  1.26783627e+10\n",
      "  1.26783627e+10  1.26783627e+10  1.26783627e+10  1.26783627e+10\n",
      " -2.61619424e+09 -2.61619425e+09 -3.26435770e+11 -2.61619425e+09\n",
      " -2.61619425e+09 -2.61619425e+09 -2.61619424e+09 -2.61619425e+09\n",
      "  9.86321442e-01 -2.57691789e-02  8.68180725e+00]\n",
      "-10062168381.208202\n"
     ]
    }
   ],
   "source": [
    "print(reg_h3_p1.coef_)\n",
    "print(reg_h3_p1.intercept_)"
   ],
   "metadata": {
    "collapsed": false,
    "pycharm": {
     "name": "#%%\n"
    }
   }
  },
  {
   "cell_type": "code",
   "execution_count": 156,
   "outputs": [],
   "source": [
    "train_pred_h3 = reg_h3_p1.predict(train_p1_h3_x)\n",
    "test_pred_h3 = reg_h3_p1.predict(test_p1_h3_x)"
   ],
   "metadata": {
    "collapsed": false,
    "pycharm": {
     "name": "#%%\n"
    }
   }
  },
  {
   "cell_type": "code",
   "execution_count": 157,
   "outputs": [],
   "source": [
    "known_h3_index = np.count_nonzero(test_p1_h3_x[:, 0:17], axis=1) == 2"
   ],
   "metadata": {
    "collapsed": false,
    "pycharm": {
     "name": "#%%\n"
    }
   }
  },
  {
   "cell_type": "code",
   "execution_count": 158,
   "outputs": [],
   "source": [
    "test_p1_h3_y = test_p1_h3_y[known_h3_index]\n",
    "test_p1_h3_x = test_p1_h3_x[known_h3_index]\n",
    "test_pred_h3 = test_pred_h3[known_h3_index]"
   ],
   "metadata": {
    "collapsed": false,
    "pycharm": {
     "name": "#%%\n"
    }
   }
  },
  {
   "cell_type": "code",
   "execution_count": 158,
   "outputs": [],
   "source": [],
   "metadata": {
    "collapsed": false,
    "pycharm": {
     "name": "#%%\n"
    }
   }
  },
  {
   "cell_type": "code",
   "execution_count": 45,
   "outputs": [
    {
     "data": {
      "text/plain": "          eta       seldon   ata  eta - ata  seldon - ata\n2976     1526  1836.110116  4156      -2630  -2319.889884\n3358     1678  2006.297146  3904      -2226  -1897.702854\n4773     1331  1572.528030  3843      -2512  -2270.471970\n6554     1668  1976.782710  4060      -2392  -2083.217290\n8386     1334  1450.304367  3802      -2468  -2351.695633\n...       ...          ...   ...        ...           ...\n4042946  1750  2124.569817  4674      -2924  -2549.430183\n4044773  1773  2162.366582  4176      -2403  -2013.633418\n4049608  1626  1969.847027  4132      -2506  -2162.152973\n4051682  1641  2036.224360  5930      -4289  -3893.775640\n4057734  1702  1983.840546  4183      -2481  -2199.159454\n\n[2563 rows x 5 columns]",
      "text/html": "<div>\n<style scoped>\n    .dataframe tbody tr th:only-of-type {\n        vertical-align: middle;\n    }\n\n    .dataframe tbody tr th {\n        vertical-align: top;\n    }\n\n    .dataframe thead th {\n        text-align: right;\n    }\n</style>\n<table border=\"1\" class=\"dataframe\">\n  <thead>\n    <tr style=\"text-align: right;\">\n      <th></th>\n      <th>eta</th>\n      <th>seldon</th>\n      <th>ata</th>\n      <th>eta - ata</th>\n      <th>seldon - ata</th>\n    </tr>\n  </thead>\n  <tbody>\n    <tr>\n      <th>2976</th>\n      <td>1526</td>\n      <td>1836.110116</td>\n      <td>4156</td>\n      <td>-2630</td>\n      <td>-2319.889884</td>\n    </tr>\n    <tr>\n      <th>3358</th>\n      <td>1678</td>\n      <td>2006.297146</td>\n      <td>3904</td>\n      <td>-2226</td>\n      <td>-1897.702854</td>\n    </tr>\n    <tr>\n      <th>4773</th>\n      <td>1331</td>\n      <td>1572.528030</td>\n      <td>3843</td>\n      <td>-2512</td>\n      <td>-2270.471970</td>\n    </tr>\n    <tr>\n      <th>6554</th>\n      <td>1668</td>\n      <td>1976.782710</td>\n      <td>4060</td>\n      <td>-2392</td>\n      <td>-2083.217290</td>\n    </tr>\n    <tr>\n      <th>8386</th>\n      <td>1334</td>\n      <td>1450.304367</td>\n      <td>3802</td>\n      <td>-2468</td>\n      <td>-2351.695633</td>\n    </tr>\n    <tr>\n      <th>...</th>\n      <td>...</td>\n      <td>...</td>\n      <td>...</td>\n      <td>...</td>\n      <td>...</td>\n    </tr>\n    <tr>\n      <th>4042946</th>\n      <td>1750</td>\n      <td>2124.569817</td>\n      <td>4674</td>\n      <td>-2924</td>\n      <td>-2549.430183</td>\n    </tr>\n    <tr>\n      <th>4044773</th>\n      <td>1773</td>\n      <td>2162.366582</td>\n      <td>4176</td>\n      <td>-2403</td>\n      <td>-2013.633418</td>\n    </tr>\n    <tr>\n      <th>4049608</th>\n      <td>1626</td>\n      <td>1969.847027</td>\n      <td>4132</td>\n      <td>-2506</td>\n      <td>-2162.152973</td>\n    </tr>\n    <tr>\n      <th>4051682</th>\n      <td>1641</td>\n      <td>2036.224360</td>\n      <td>5930</td>\n      <td>-4289</td>\n      <td>-3893.775640</td>\n    </tr>\n    <tr>\n      <th>4057734</th>\n      <td>1702</td>\n      <td>1983.840546</td>\n      <td>4183</td>\n      <td>-2481</td>\n      <td>-2199.159454</td>\n    </tr>\n  </tbody>\n</table>\n<p>2563 rows × 5 columns</p>\n</div>"
     },
     "execution_count": 45,
     "metadata": {},
     "output_type": "execute_result"
    }
   ],
   "source": [
    "d = {'eta': train_p1_geo_x['eta'], 'seldon': train_pred_geo, 'ata': train_p1_geo_y, 'eta - ata': train_p1_geo_x['eta'] - train_p1_geo_y, 'seldon - ata': train_pred_geo - train_p1_geo_y}\n",
    "df = pd.DataFrame(data=d)\n",
    "df[abs(df['eta - ata']) > 2200]"
   ],
   "metadata": {
    "collapsed": false,
    "pycharm": {
     "name": "#%%\n"
    }
   }
  },
  {
   "cell_type": "code",
   "execution_count": 49,
   "outputs": [
    {
     "data": {
      "text/plain": "accepted_driver_id                                                          798945\ncreated_at                                                     2022-08-02 07:30:31\npassenger_id                                                              15448941\nsource_lat                                                                35.69907\nsource_lng                                                               51.396088\ndestination_lat                                                          35.739376\ndestination_lng                                                          51.147438\neta                                                                           1679\nprovider                                                             smapp-same-dc\nata                                                                          10758\nride_id                                                                 4714926571\ncity                                                                             1\ndriver_id                                                                   798945\na_t_a_result.arrival_a_t_a                                                     167\na_t_a_result.boarding_a_t_a                                                    3.0\na_t_a_result.ride_a_t_a                                                      10723\na_t_a_result.arrival_probe_result.probe.point.lat                        35.699108\na_t_a_result.arrival_probe_result.probe.point.lon                        51.396076\na_t_a_result.arrival_probe_result.probe.timestamp                     1659409427.0\na_t_a_result.arrival_probe_result.confidence                                   1.0\na_t_a_result.arrival_probe_result.h3_index                         8c2cf3016ad27ff\na_t_a_result.arrival_probe_result.k_ring_level                                   0\na_t_a_result.boarding_probe_result.probe.point.lat                       35.699108\na_t_a_result.boarding_probe_result.probe.point.lon                       51.396076\na_t_a_result.boarding_probe_result.probe.timestamp                    1659409430.0\na_t_a_result.boarding_probe_result.confidence                                  1.0\na_t_a_result.boarding_probe_result.h3_index                        8c2cf3016ad27ff\na_t_a_result.boarding_probe_result.k_ring_level                                  0\na_t_a_result.final_destination_probe_result.probe.point.lat               35.69907\na_t_a_result.final_destination_probe_result.probe.point.lon              51.396088\na_t_a_result.final_destination_probe_result.probe.timestamp             1659420301\na_t_a_result.final_destination_probe_result.confidence                         0.0\na_t_a_result.final_destination_probe_result.h3_index               8c2cf3016ad27ff\na_t_a_result.final_destination_probe_result.k_ring_level                         4\na_t_a_result.destination_probe_result.probe.point.lat                    35.738976\na_t_a_result.destination_probe_result.probe.point.lon                    51.147354\na_t_a_result.destination_probe_result.probe.timestamp                 1659411779.0\na_t_a_result.destination_probe_result.confidence                          0.591716\na_t_a_result.destination_probe_result.h3_index                     8c2cf3c4ea5e3ff\na_t_a_result.destination_probe_result.k_ring_level                               2\na_t_a_result.extra_destination_probe_result.probe.point.lat                    0.0\na_t_a_result.extra_destination_probe_result.probe.point.lon                    0.0\na_t_a_result.extra_destination_probe_result.probe.timestamp                    0.0\na_t_a_result.extra_destination_probe_result.confidence                         0.0\na_t_a_result.extra_destination_probe_result.h3_index                           NaN\na_t_a_result.extra_destination_probe_result.k_ring_level                         0\npickup_a_d_d_result.distance                                                 1.098\npickup_a_d_d_result.confidence                                                 1.0\npickup_a_d_d_result.route_ratio                                                0.0\npickup_a_d_d_result.g_p_s_ratio                                           0.000919\nride_a_d_d_result.distance                                               90.528732\nride_a_d_d_result.confidence                                              0.907817\nride_a_d_d_result.route_ratio                                                  0.0\nride_a_d_d_result.g_p_s_ratio                                              0.66636\ntotal_a_d_d_confidence                                                    0.917919\nin_ride_allotment                                                              0.0\ne_d_d                                                                          0.0\nclickhouse_time                                                2022-08-02 10:33:29\nhash                                                           8802838757405480920\nName: 38985, dtype: object"
     },
     "execution_count": 49,
     "metadata": {},
     "output_type": "execute_result"
    }
   ],
   "source": [
    "rides_with_id.loc[38985]"
   ],
   "metadata": {
    "collapsed": false,
    "pycharm": {
     "name": "#%%\n"
    }
   }
  },
  {
   "cell_type": "code",
   "execution_count": 111,
   "outputs": [
    {
     "data": {
      "text/plain": "3476.0"
     },
     "execution_count": 111,
     "metadata": {},
     "output_type": "execute_result"
    }
   ],
   "source": [
    "1659450530 - 1659447054.0"
   ],
   "metadata": {
    "collapsed": false,
    "pycharm": {
     "name": "#%%\n"
    }
   }
  },
  {
   "cell_type": "code",
   "execution_count": 100,
   "outputs": [
    {
     "data": {
      "text/plain": "602"
     },
     "execution_count": 100,
     "metadata": {},
     "output_type": "execute_result"
    }
   ],
   "source": [
    "train_p1_geo_y.loc[5]"
   ],
   "metadata": {
    "collapsed": false,
    "pycharm": {
     "name": "#%%\n"
    }
   }
  },
  {
   "cell_type": "code",
   "execution_count": 85,
   "outputs": [
    {
     "data": {
      "text/plain": "accepted_driver_id                                                          272800\ncreated_at                                                     2022-08-02 14:30:46\npassenger_id                                                              23145890\nsource_lat                                                               35.795856\nsource_lng                                                               51.451664\ndestination_lat                                                          35.810123\ndestination_lng                                                          51.459946\neta                                                                            506\nprovider                                                             smapp-same-dc\nata                                                                           1261\nride_id                                                                 4717549146\ncity                                                                             1\ndriver_id                                                                   272800\na_t_a_result.arrival_a_t_a                                                     222\na_t_a_result.boarding_a_t_a                                                    1.0\na_t_a_result.ride_a_t_a                                                       1871\na_t_a_result.arrival_probe_result.probe.point.lat                        35.795773\na_t_a_result.arrival_probe_result.probe.point.lon                        51.451824\na_t_a_result.arrival_probe_result.probe.timestamp                     1659434747.0\na_t_a_result.arrival_probe_result.confidence                                   1.0\na_t_a_result.arrival_probe_result.h3_index                         8c2cf300cd6bbff\na_t_a_result.arrival_probe_result.k_ring_level                                   0\na_t_a_result.boarding_probe_result.probe.point.lat                       35.795773\na_t_a_result.boarding_probe_result.probe.point.lon                       51.451824\na_t_a_result.boarding_probe_result.probe.timestamp                    1659434748.0\na_t_a_result.boarding_probe_result.confidence                                  1.0\na_t_a_result.boarding_probe_result.h3_index                        8c2cf300cd6bbff\na_t_a_result.boarding_probe_result.k_ring_level                                  0\na_t_a_result.final_destination_probe_result.probe.point.lat              35.809639\na_t_a_result.final_destination_probe_result.probe.point.lon              51.459507\na_t_a_result.final_destination_probe_result.probe.timestamp             1659436619\na_t_a_result.final_destination_probe_result.confidence                    0.350128\na_t_a_result.final_destination_probe_result.h3_index               8c2cf302b7a6bff\na_t_a_result.final_destination_probe_result.k_ring_level                         4\na_t_a_result.destination_probe_result.probe.point.lat                    35.809639\na_t_a_result.destination_probe_result.probe.point.lon                    51.459507\na_t_a_result.destination_probe_result.probe.timestamp                 1659436619.0\na_t_a_result.destination_probe_result.confidence                          0.350128\na_t_a_result.destination_probe_result.h3_index                     8c2cf302b7a6bff\na_t_a_result.destination_probe_result.k_ring_level                               4\na_t_a_result.extra_destination_probe_result.probe.point.lat                    0.0\na_t_a_result.extra_destination_probe_result.probe.point.lon                    0.0\na_t_a_result.extra_destination_probe_result.probe.timestamp                    0.0\na_t_a_result.extra_destination_probe_result.confidence                         0.0\na_t_a_result.extra_destination_probe_result.h3_index                           NaN\na_t_a_result.extra_destination_probe_result.k_ring_level                         0\npickup_a_d_d_result.distance                                                 1.558\npickup_a_d_d_result.confidence                                                 1.0\npickup_a_d_d_result.route_ratio                                                0.0\npickup_a_d_d_result.g_p_s_ratio                                           0.005319\nride_a_d_d_result.distance                                                   5.162\nride_a_d_d_result.confidence                                                   1.0\nride_a_d_d_result.route_ratio                                                  0.0\nride_a_d_d_result.g_p_s_ratio                                                  1.0\ntotal_a_d_d_confidence                                                         1.0\nin_ride_allotment                                                              0.0\ne_d_d                                                                          0.0\nclickhouse_time                                                2022-08-02 15:07:46\nhash                                                           6269035811203202785\nName: 1168, dtype: object"
     },
     "execution_count": 85,
     "metadata": {},
     "output_type": "execute_result"
    }
   ],
   "source": [
    "rides_with_id.loc[1168]"
   ],
   "metadata": {
    "collapsed": false,
    "pycharm": {
     "name": "#%%\n"
    }
   }
  },
  {
   "cell_type": "code",
   "execution_count": 160,
   "outputs": [],
   "source": [],
   "metadata": {
    "collapsed": false,
    "pycharm": {
     "name": "#%%\n"
    }
   }
  },
  {
   "cell_type": "code",
   "execution_count": 163,
   "outputs": [
    {
     "name": "stdout",
     "output_type": "stream",
     "text": [
      "ETA train MAE 1700.089602299952\n",
      "prediction train MAE 391.8828847826638\n",
      "ETA test MAE  1694.576439790576\n",
      "prediction test MAE 380.4741775617792\n",
      "ETA train MSE 3238072.5486344034\n",
      "prediction train MSE 341481.57597539\n",
      "ETA test MSE  3154440.089528796\n",
      "prediction test MSE 280567.6058180186\n",
      "ETA train explained_variance_score 0.07859980641326159\n",
      "prediction train explained_variance_score 0.09525520688694078\n",
      "ETA test explained_variance_score  0.09515334409077303\n",
      "prediction test explained_variance_score 0.10264539398016503\n",
      "ETA train median_absolute_error 1522.0\n",
      "prediction train median_absolute_error 320.54520771353054\n",
      "ETA test median_absolute_error  1525.0\n",
      "prediction test median_absolute_error 320.9049128872866\n",
      "ETA train r2_score -7.579172301554692\n",
      "prediction train r2_score 0.09525520688694078\n",
      "ETA test r2_score  -9.091132059069732\n",
      "prediction test r2_score 0.10245727246334457\n",
      "ETA train MAPE 0.7916681339449584\n",
      "prediction train MAPE 0.17171132174216008\n",
      "ETA test MAPE  0.7898949720861153\n",
      "prediction test MAPE 0.16996273925933755\n"
     ]
    }
   ],
   "source": [
    "print(\"ETA train MAE\", mean_absolute_error(train_p1_geo_y, train_p1_geo_x['eta']))\n",
    "print(\"prediction train MAE\", mean_absolute_error(train_p1_geo_y, train_pred_geo))\n",
    "\n",
    "print(\"ETA test MAE \", mean_absolute_error(test_p1_geo_y, test_p1_geo_x['eta']))\n",
    "print(\"prediction test MAE\", mean_absolute_error(test_p1_geo_y, test_pred_geo))\n",
    "\n",
    "\n",
    "print(\"ETA train MSE\", mean_squared_error(train_p1_geo_y, train_p1_geo_x['eta']))\n",
    "print(\"prediction train MSE\", mean_squared_error(train_p1_geo_y, train_pred_geo))\n",
    "\n",
    "print(\"ETA test MSE \", mean_squared_error(test_p1_geo_y, test_p1_geo_x['eta']))\n",
    "print(\"prediction test MSE\", mean_squared_error(test_p1_geo_y, test_pred_geo))\n",
    "\n",
    "\n",
    "print(\"ETA train explained_variance_score\", explained_variance_score(train_p1_geo_y, train_p1_geo_x['eta']))\n",
    "print(\"prediction train explained_variance_score\", explained_variance_score(train_p1_geo_y, train_pred_geo))\n",
    "\n",
    "print(\"ETA test explained_variance_score \", explained_variance_score(test_p1_geo_y, test_p1_geo_x['eta']))\n",
    "print(\"prediction test explained_variance_score\", explained_variance_score(test_p1_geo_y, test_pred_geo))\n",
    "\n",
    "\n",
    "print(\"ETA train median_absolute_error\", median_absolute_error(train_p1_geo_y, train_p1_geo_x['eta']))\n",
    "print(\"prediction train median_absolute_error\", median_absolute_error(train_p1_geo_y, train_pred_geo))\n",
    "\n",
    "print(\"ETA test median_absolute_error \", median_absolute_error(test_p1_geo_y, test_p1_geo_x['eta']))\n",
    "print(\"prediction test median_absolute_error\", median_absolute_error(test_p1_geo_y, test_pred_geo))\n",
    "\n",
    "\n",
    "print(\"ETA train r2_score\", r2_score(train_p1_geo_y, train_p1_geo_x['eta']))\n",
    "print(\"prediction train r2_score\", r2_score(train_p1_geo_y, train_pred_geo))\n",
    "\n",
    "print(\"ETA test r2_score \", r2_score(test_p1_geo_y, test_p1_geo_x['eta']))\n",
    "print(\"prediction test r2_score\", r2_score(test_p1_geo_y, test_pred_geo))\n",
    "\n",
    "\n",
    "print(\"ETA train MAPE\", mean_absolute_percentage_error(train_p1_geo_y, train_p1_geo_x['eta']))\n",
    "print(\"prediction train MAPE\", mean_absolute_percentage_error(train_p1_geo_y, train_pred_geo))\n",
    "\n",
    "print(\"ETA test MAPE \", mean_absolute_percentage_error(test_p1_geo_y, test_p1_geo_x['eta']))\n",
    "print(\"prediction test MAPE\", mean_absolute_percentage_error(test_p1_geo_y, test_pred_geo))"
   ],
   "metadata": {
    "collapsed": false,
    "pycharm": {
     "name": "#%%\n"
    }
   }
  },
  {
   "cell_type": "code",
   "execution_count": 46,
   "outputs": [
    {
     "name": "stdout",
     "output_type": "stream",
     "text": [
      "[ 0.95267888  0.03992745  0.01639903  0.14161629  0.07104881 -0.00869313\n",
      " -0.01985985]\n",
      "0.027375837176890544\n"
     ]
    }
   ],
   "source": [
    "train_p4_geo_x_normalized = (train_p4_geo_x - train_p4_geo_x.min()) / (train_p4_geo_x.max() - train_p4_geo_x.min())\n",
    "train_p4_geo_y_normalized = (train_p4_geo_y - train_p4_geo_y.min()) / (train_p4_geo_y.max() - train_p4_geo_y.min())\n",
    "# test_p4_geo_x_normalized = (test_p4_geo_x - train_p4_geo_x.min()) / (train_p4_geo_x.max() - train_p4_geo_x.min())\n",
    "# test_p4_geo_y_normalized = (test_p4_geo_y - train_p4_geo_y.min()) / (train_p4_geo_y.max() - train_p4_geo_y.min())\n",
    "\n",
    "reg_p4_geo_normalized = LinearRegression().fit(train_p4_geo_x_normalized, train_p4_geo_y_normalized)\n",
    "print(reg_p4_geo_normalized.coef_)\n",
    "print(reg_p4_geo_normalized.intercept_)"
   ],
   "metadata": {
    "collapsed": false,
    "pycharm": {
     "name": "#%%\n"
    }
   }
  },
  {
   "cell_type": "code",
   "execution_count": 39,
   "outputs": [
    {
     "name": "stdout",
     "output_type": "stream",
     "text": [
      "ETA train MAE 558.6899742605314\n",
      "prediction train MAE 468.32320172854264\n",
      "ETA test MAE  609.4802658229795\n",
      "prediction test MAE 532.3905549659162\n",
      "ETA train MSE 724259.5492995734\n",
      "prediction train MSE 474510.4137146755\n",
      "ETA test MSE  1005379.4640005743\n",
      "prediction test MSE 706504.3378821977\n",
      "ETA train explained_variance_score 0.5486781823287357\n",
      "prediction train explained_variance_score 0.5735345690702949\n",
      "ETA test explained_variance_score  0.4753275329161858\n",
      "prediction test explained_variance_score 0.5084530615897137\n",
      "ETA train median_absolute_error 353.0\n",
      "prediction train median_absolute_error 347.19482421875\n",
      "ETA test median_absolute_error  352.0\n",
      "prediction test median_absolute_error 366.8814697265625\n",
      "ETA train r2_score 0.3490729563150865\n",
      "prediction train r2_score 0.5735345690702917\n",
      "ETA test r2_score  0.2984759208241079\n",
      "prediction test r2_score 0.5070221515223838\n",
      "ETA train MAPE 0.16697790395524195\n",
      "prediction train MAPE 0.1610154609737745\n",
      "ETA test MAPE  0.1730999583791752\n",
      "prediction test MAPE 0.17448530280936583\n"
     ]
    }
   ],
   "source": [
    "print(\"ETA train MAE\", mean_absolute_error(train_p4_h3_y, train_p4_h3_x[:, 17]))\n",
    "print(\"prediction train MAE\", mean_absolute_error(train_p4_h3_y, train_pred_h3))\n",
    "\n",
    "print(\"ETA test MAE \", mean_absolute_error(test_p4_h3_y, test_p4_h3_x[:, 17]))\n",
    "print(\"prediction test MAE\", mean_absolute_error(test_p4_h3_y, test_pred_h3))\n",
    "\n",
    "\n",
    "print(\"ETA train MSE\", mean_squared_error(train_p4_h3_y, train_p4_h3_x[:, 17]))\n",
    "print(\"prediction train MSE\", mean_squared_error(train_p4_h3_y, train_pred_h3))\n",
    "\n",
    "print(\"ETA test MSE \", mean_squared_error(test_p4_h3_y, test_p4_h3_x[:, 17]))\n",
    "print(\"prediction test MSE\", mean_squared_error(test_p4_h3_y, test_pred_h3))\n",
    "\n",
    "\n",
    "print(\"ETA train explained_variance_score\", explained_variance_score(train_p4_h3_y, train_p4_h3_x[:, 17]))\n",
    "print(\"prediction train explained_variance_score\", explained_variance_score(train_p4_h3_y, train_pred_h3))\n",
    "\n",
    "print(\"ETA test explained_variance_score \", explained_variance_score(test_p4_h3_y, test_p4_h3_x[:, 17]))\n",
    "print(\"prediction test explained_variance_score\", explained_variance_score(test_p4_h3_y, test_pred_h3))\n",
    "\n",
    "\n",
    "print(\"ETA train median_absolute_error\", median_absolute_error(train_p4_h3_y, train_p4_h3_x[:, 17]))\n",
    "print(\"prediction train median_absolute_error\", median_absolute_error(train_p4_h3_y, train_pred_h3))\n",
    "\n",
    "print(\"ETA test median_absolute_error \", median_absolute_error(test_p4_h3_y, test_p4_h3_x[:, 17]))\n",
    "print(\"prediction test median_absolute_error\", median_absolute_error(test_p4_h3_y, test_pred_h3))\n",
    "\n",
    "\n",
    "print(\"ETA train r2_score\", r2_score(train_p4_h3_y, train_p4_h3_x[:, 17]))\n",
    "print(\"prediction train r2_score\", r2_score(train_p4_h3_y, train_pred_h3))\n",
    "\n",
    "print(\"ETA test r2_score \", r2_score(test_p4_h3_y, test_p4_h3_x[:, 17]))\n",
    "print(\"prediction test r2_score\", r2_score(test_p4_h3_y, test_pred_h3))\n",
    "\n",
    "\n",
    "print(\"ETA train MAPE\", mean_absolute_percentage_error(train_p4_h3_y, train_p4_h3_x[:, 17]))\n",
    "print(\"prediction train MAPE\", mean_absolute_percentage_error(train_p4_h3_y, train_pred_h3))\n",
    "\n",
    "print(\"ETA test MAPE \", mean_absolute_percentage_error(test_p4_h3_y, test_p4_h3_x[:, 17]))\n",
    "print(\"prediction test MAPE\", mean_absolute_percentage_error(test_p4_h3_y, test_pred_h3))"
   ],
   "metadata": {
    "collapsed": false,
    "pycharm": {
     "name": "#%%\n"
    }
   }
  },
  {
   "cell_type": "code",
   "execution_count": 47,
   "outputs": [
    {
     "name": "stdout",
     "output_type": "stream",
     "text": [
      "[ 3.38839243e+11  3.38839243e+11  3.38839244e+11  3.38839243e+11\n",
      "  3.38839243e+11  3.38839243e+11  3.38839243e+11 -1.81469415e+11\n",
      " -1.81469415e+11 -1.81469415e+11 -1.81469415e+11 -1.81469415e+11\n",
      " -1.81469415e+11 -1.81469415e+11 -1.81469415e+11 -1.81469415e+11\n",
      " -1.81469415e+11  1.10072538e+00 -4.58049363e-01 -1.50679642e+02]\n",
      "-17055362.3876918\n"
     ]
    }
   ],
   "source": [
    "train_p4_h3_x_normalized = (train_p4_h3_x - train_p4_h3_x.min()) / (train_p4_h3_x.max() - train_p4_h3_x.min())\n",
    "train_p4_h3_y_normalized = (train_p4_h3_y - train_p4_h3_y.min()) / (train_p4_h3_y.max() - train_p4_h3_y.min())\n",
    "# test_p4_h3_x_normalized = (test_p4_h3_x - train_p4_h3_x.min()) / (train_p4_h3_x.max() - train_p4_h3_x.min())\n",
    "# test_p4_h3_y_normalized = (test_p4_h3_y - train_p4_h3_y.min()) / (train_p4_h3_y.max() - train_p4_h3_y.min())\n",
    "\n",
    "reg_p4_h3_normalized = LinearRegression().fit(train_p4_h3_x_normalized, train_p4_h3_y_normalized)\n",
    "print(reg_p4_h3_normalized.coef_)\n",
    "print(reg_p4_h3_normalized.intercept_)"
   ],
   "metadata": {
    "collapsed": false,
    "pycharm": {
     "name": "#%%\n"
    }
   }
  },
  {
   "cell_type": "code",
   "execution_count": null,
   "outputs": [],
   "source": [
    "%set_env AWS_ACCESS_KEY_ID=SokXIEc1g9vNqCJt4CSObyk6vumoOOPQ\n",
    "%set_env AWS_SECRET_ACCESS_KEY=QNyTpGhFjUTYSP9VKmfhpUizwKr0t8gk\n",
    "%set_env MLFLOW_S3_ENDPOINT_URL=https://minio-clustered-smapp-storage.apps.private.teh-1.snappcloud.io\n",
    "\n",
    "# create experiment\n",
    "%set_env MLFLOW_TRACKING_URI=https://mlflow.apps.private.okd4.teh-1.snappcloud.io/\n",
    "# mlflow experiments create --experiment-name elahe\n",
    "\n",
    "# run script under experiment\n",
    "%set_env MLFLOW_EXPERIMENT_NAME=elahe\n",
    "# cd save/\n",
    "# python test.py"
   ],
   "metadata": {
    "collapsed": false,
    "pycharm": {
     "name": "#%%\n"
    }
   }
  },
  {
   "cell_type": "code",
   "execution_count": null,
   "outputs": [],
   "source": [
    "! echo $AWS_ACCESS_KEY_ID\n",
    "! echo $AWS_SECRET_ACCESS_KEY\n",
    "! echo $MLFLOW_S3_ENDPOINT_URL\n",
    "! echo $MLFLOW_TRACKING_URI\n",
    "! echo $MLFLOW_EXPERIMENT_NAME"
   ],
   "metadata": {
    "collapsed": false,
    "pycharm": {
     "name": "#%%\n"
    }
   }
  },
  {
   "cell_type": "code",
   "execution_count": null,
   "outputs": [],
   "source": [
    "# with mlflow.start_run(run_name=\"regression\") as run:\n",
    "#     # Log the sklearn model and register as version 1\n",
    "#     mlflow.sklearn.log_model(\n",
    "#         sk_model=reg_p4,\n",
    "#         artifact_path=\"regression\",\n",
    "#         registered_model_name=\"reg-model\"\n",
    "#     )"
   ],
   "metadata": {
    "collapsed": false,
    "pycharm": {
     "name": "#%%\n"
    }
   }
  },
  {
   "cell_type": "code",
   "execution_count": null,
   "outputs": [],
   "source": [
    "# with mlflow.start_run(run_name=\"YOUR_RUN_NAME\") as run:\n",
    "#     params = {\"n_estimators\": 5, \"random_state\": 42}\n",
    "#     sk_learn_rfr = RandomForestRegressor(**params)\n",
    "#\n",
    "#     # Log parameters and metrics using the MLflow APIs\n",
    "#     mlflow.log_params(params)\n",
    "#     mlflow.log_param(\"param_1\", randint(0, 100))\n",
    "#     mlflow.log_metrics({\"metric_1\": random(), \"metric_2\": random() + 1})\n",
    "#\n",
    "#     # Log the sklearn model and register as version 1\n",
    "#     mlflow.sklearn.log_model(\n",
    "#         sk_model=sk_learn_rfr,\n",
    "#         artifact_path=\"sklearn-model\",\n",
    "#         registered_model_name=\"sk-learn-random-forest-reg-model\"\n",
    "#     )"
   ],
   "metadata": {
    "collapsed": false,
    "pycharm": {
     "name": "#%%\n"
    }
   }
  }
 ],
 "metadata": {
  "kernelspec": {
   "display_name": "Python 3",
   "language": "python",
   "name": "python3"
  },
  "language_info": {
   "codemirror_mode": {
    "name": "ipython",
    "version": 2
   },
   "file_extension": ".py",
   "mimetype": "text/x-python",
   "name": "python",
   "nbconvert_exporter": "python",
   "pygments_lexer": "ipython2",
   "version": "2.7.6"
  }
 },
 "nbformat": 4,
 "nbformat_minor": 0
}