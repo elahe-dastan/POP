{
 "cells": [
  {
   "cell_type": "code",
   "execution_count": 154,
   "outputs": [],
   "source": [
    "import pandas as pd\n",
    "from matplotlib import pyplot as plt\n",
    "import numpy as np"
   ],
   "metadata": {
    "collapsed": false,
    "pycharm": {
     "name": "#%%\n"
    }
   }
  },
  {
   "cell_type": "code",
   "execution_count": 4,
   "outputs": [
    {
     "data": {
      "text/plain": "       accepted_driver_id  passenger_id    source_lat    source_lng  \\\ncount        2.426000e+04  2.426000e+04  24260.000000  24260.000000   \nmean         2.010495e+06  2.376807e+07     35.693980     51.401119   \nstd          1.440427e+06  1.800928e+07      0.096191      0.143753   \nmin          1.010000e+02  1.375000e+03     35.249897     50.903470   \n25%          5.573940e+05  5.043194e+06     35.663319     51.331473   \n50%          1.992264e+06  2.400925e+07     35.723982     51.404408   \n75%          3.323714e+06  3.831664e+07     35.755246     51.465694   \nmax          4.346548e+06  5.750996e+07     35.839420     52.794230   \n\n       destination_lat  destination_lng           eta           ata  \\\ncount     24260.000000     24260.000000  24260.000000  24260.000000   \nmean         35.694668        51.397562   1003.226051   1236.469992   \nstd           0.095899         0.152071    725.298062   1034.221594   \nmin          34.636840        50.016300     24.000000    120.000000   \n25%          35.661003        51.330028    464.000000    504.000000   \n50%          35.723633        51.401817    799.000000    905.000000   \n75%          35.754699        51.470322   1347.000000   1650.000000   \nmax          36.259760        52.792877   7794.000000   9088.000000   \n\n                 id     city  \ncount  2.426000e+04  24260.0  \nmean   4.956898e+09      1.0  \nstd    3.405802e+05      0.0  \nmin    4.956287e+09      1.0  \n25%    4.956594e+09      1.0  \n50%    4.956982e+09      1.0  \n75%    4.957167e+09      1.0  \nmax    4.957626e+09      1.0  ",
      "text/html": "<div>\n<style scoped>\n    .dataframe tbody tr th:only-of-type {\n        vertical-align: middle;\n    }\n\n    .dataframe tbody tr th {\n        vertical-align: top;\n    }\n\n    .dataframe thead th {\n        text-align: right;\n    }\n</style>\n<table border=\"1\" class=\"dataframe\">\n  <thead>\n    <tr style=\"text-align: right;\">\n      <th></th>\n      <th>accepted_driver_id</th>\n      <th>passenger_id</th>\n      <th>source_lat</th>\n      <th>source_lng</th>\n      <th>destination_lat</th>\n      <th>destination_lng</th>\n      <th>eta</th>\n      <th>ata</th>\n      <th>id</th>\n      <th>city</th>\n    </tr>\n  </thead>\n  <tbody>\n    <tr>\n      <th>count</th>\n      <td>2.426000e+04</td>\n      <td>2.426000e+04</td>\n      <td>24260.000000</td>\n      <td>24260.000000</td>\n      <td>24260.000000</td>\n      <td>24260.000000</td>\n      <td>24260.000000</td>\n      <td>24260.000000</td>\n      <td>2.426000e+04</td>\n      <td>24260.0</td>\n    </tr>\n    <tr>\n      <th>mean</th>\n      <td>2.010495e+06</td>\n      <td>2.376807e+07</td>\n      <td>35.693980</td>\n      <td>51.401119</td>\n      <td>35.694668</td>\n      <td>51.397562</td>\n      <td>1003.226051</td>\n      <td>1236.469992</td>\n      <td>4.956898e+09</td>\n      <td>1.0</td>\n    </tr>\n    <tr>\n      <th>std</th>\n      <td>1.440427e+06</td>\n      <td>1.800928e+07</td>\n      <td>0.096191</td>\n      <td>0.143753</td>\n      <td>0.095899</td>\n      <td>0.152071</td>\n      <td>725.298062</td>\n      <td>1034.221594</td>\n      <td>3.405802e+05</td>\n      <td>0.0</td>\n    </tr>\n    <tr>\n      <th>min</th>\n      <td>1.010000e+02</td>\n      <td>1.375000e+03</td>\n      <td>35.249897</td>\n      <td>50.903470</td>\n      <td>34.636840</td>\n      <td>50.016300</td>\n      <td>24.000000</td>\n      <td>120.000000</td>\n      <td>4.956287e+09</td>\n      <td>1.0</td>\n    </tr>\n    <tr>\n      <th>25%</th>\n      <td>5.573940e+05</td>\n      <td>5.043194e+06</td>\n      <td>35.663319</td>\n      <td>51.331473</td>\n      <td>35.661003</td>\n      <td>51.330028</td>\n      <td>464.000000</td>\n      <td>504.000000</td>\n      <td>4.956594e+09</td>\n      <td>1.0</td>\n    </tr>\n    <tr>\n      <th>50%</th>\n      <td>1.992264e+06</td>\n      <td>2.400925e+07</td>\n      <td>35.723982</td>\n      <td>51.404408</td>\n      <td>35.723633</td>\n      <td>51.401817</td>\n      <td>799.000000</td>\n      <td>905.000000</td>\n      <td>4.956982e+09</td>\n      <td>1.0</td>\n    </tr>\n    <tr>\n      <th>75%</th>\n      <td>3.323714e+06</td>\n      <td>3.831664e+07</td>\n      <td>35.755246</td>\n      <td>51.465694</td>\n      <td>35.754699</td>\n      <td>51.470322</td>\n      <td>1347.000000</td>\n      <td>1650.000000</td>\n      <td>4.957167e+09</td>\n      <td>1.0</td>\n    </tr>\n    <tr>\n      <th>max</th>\n      <td>4.346548e+06</td>\n      <td>5.750996e+07</td>\n      <td>35.839420</td>\n      <td>52.794230</td>\n      <td>36.259760</td>\n      <td>52.792877</td>\n      <td>7794.000000</td>\n      <td>9088.000000</td>\n      <td>4.957626e+09</td>\n      <td>1.0</td>\n    </tr>\n  </tbody>\n</table>\n</div>"
     },
     "execution_count": 4,
     "metadata": {},
     "output_type": "execute_result"
    }
   ],
   "source": [
    "rides = pd.read_csv(\"../big_query_24.csv\")\n",
    "rides.describe()"
   ],
   "metadata": {
    "collapsed": false,
    "pycharm": {
     "name": "#%%\n"
    }
   }
  },
  {
   "cell_type": "code",
   "execution_count": 5,
   "outputs": [
    {
     "data": {
      "text/plain": "   accepted_driver_id                 created_at  passenger_id  source_lat  \\\n0             1961099  2022-09-14 12:56:04+00:00      21560373   35.637950   \n1             2869659  2022-09-14 14:26:07+00:00       9840229   35.744210   \n2               62966  2022-09-14 14:19:54+00:00      34214260   35.677704   \n3             3499299  2022-09-14 12:45:06+00:00      33119545   35.560932   \n4              572589  2022-09-14 14:50:31+00:00      38845947   35.600070   \n\n   source_lng  destination_lat  destination_lng   eta       provider   ata  \\\n0   51.393005        35.613758        51.440968   893  smapp-same-dc  1034   \n1   51.140186        35.753910        51.145374   238  smapp-same-dc   423   \n2   51.332360        35.785572        51.339230  1826  smapp-same-dc  2075   \n3   51.252415        35.543705        51.268753   474  smapp-same-dc   297   \n4   51.441227        35.591473        51.437397   352  smapp-same-dc   790   \n\n           id  city  \n0  4956482158     1  \n1  4957175352     1  \n2  4957128356     1  \n3  4956401484     1  \n4  4957359146     1  ",
      "text/html": "<div>\n<style scoped>\n    .dataframe tbody tr th:only-of-type {\n        vertical-align: middle;\n    }\n\n    .dataframe tbody tr th {\n        vertical-align: top;\n    }\n\n    .dataframe thead th {\n        text-align: right;\n    }\n</style>\n<table border=\"1\" class=\"dataframe\">\n  <thead>\n    <tr style=\"text-align: right;\">\n      <th></th>\n      <th>accepted_driver_id</th>\n      <th>created_at</th>\n      <th>passenger_id</th>\n      <th>source_lat</th>\n      <th>source_lng</th>\n      <th>destination_lat</th>\n      <th>destination_lng</th>\n      <th>eta</th>\n      <th>provider</th>\n      <th>ata</th>\n      <th>id</th>\n      <th>city</th>\n    </tr>\n  </thead>\n  <tbody>\n    <tr>\n      <th>0</th>\n      <td>1961099</td>\n      <td>2022-09-14 12:56:04+00:00</td>\n      <td>21560373</td>\n      <td>35.637950</td>\n      <td>51.393005</td>\n      <td>35.613758</td>\n      <td>51.440968</td>\n      <td>893</td>\n      <td>smapp-same-dc</td>\n      <td>1034</td>\n      <td>4956482158</td>\n      <td>1</td>\n    </tr>\n    <tr>\n      <th>1</th>\n      <td>2869659</td>\n      <td>2022-09-14 14:26:07+00:00</td>\n      <td>9840229</td>\n      <td>35.744210</td>\n      <td>51.140186</td>\n      <td>35.753910</td>\n      <td>51.145374</td>\n      <td>238</td>\n      <td>smapp-same-dc</td>\n      <td>423</td>\n      <td>4957175352</td>\n      <td>1</td>\n    </tr>\n    <tr>\n      <th>2</th>\n      <td>62966</td>\n      <td>2022-09-14 14:19:54+00:00</td>\n      <td>34214260</td>\n      <td>35.677704</td>\n      <td>51.332360</td>\n      <td>35.785572</td>\n      <td>51.339230</td>\n      <td>1826</td>\n      <td>smapp-same-dc</td>\n      <td>2075</td>\n      <td>4957128356</td>\n      <td>1</td>\n    </tr>\n    <tr>\n      <th>3</th>\n      <td>3499299</td>\n      <td>2022-09-14 12:45:06+00:00</td>\n      <td>33119545</td>\n      <td>35.560932</td>\n      <td>51.252415</td>\n      <td>35.543705</td>\n      <td>51.268753</td>\n      <td>474</td>\n      <td>smapp-same-dc</td>\n      <td>297</td>\n      <td>4956401484</td>\n      <td>1</td>\n    </tr>\n    <tr>\n      <th>4</th>\n      <td>572589</td>\n      <td>2022-09-14 14:50:31+00:00</td>\n      <td>38845947</td>\n      <td>35.600070</td>\n      <td>51.441227</td>\n      <td>35.591473</td>\n      <td>51.437397</td>\n      <td>352</td>\n      <td>smapp-same-dc</td>\n      <td>790</td>\n      <td>4957359146</td>\n      <td>1</td>\n    </tr>\n  </tbody>\n</table>\n</div>"
     },
     "execution_count": 5,
     "metadata": {},
     "output_type": "execute_result"
    }
   ],
   "source": [
    "rides.head()"
   ],
   "metadata": {
    "collapsed": false,
    "pycharm": {
     "name": "#%%\n"
    }
   }
  },
  {
   "cell_type": "code",
   "execution_count": 12,
   "outputs": [],
   "source": [
    "rides.rename(columns={'id': 'ride_id'}, inplace=True)"
   ],
   "metadata": {
    "collapsed": false,
    "pycharm": {
     "name": "#%%\n"
    }
   }
  },
  {
   "cell_type": "code",
   "execution_count": 11,
   "outputs": [
    {
     "data": {
      "text/plain": "            ride_id     driver_id  a_t_a_result.arrival_a_t_a  \\\ncount  5.028590e+05  5.028590e+05               502859.000000   \nmean   4.956607e+09  2.379701e+06                  186.070441   \nstd    4.392595e+05  1.344870e+06                  146.035298   \nmin    4.873587e+09  1.000000e+00                    0.000000   \n25%    4.956373e+09  1.199125e+06                   91.000000   \n50%    4.956612e+09  2.438832e+06                  170.000000   \n75%    4.956863e+09  3.616538e+06                  258.000000   \nmax    4.957263e+09  4.346386e+06                 7954.000000   \n\n       a_t_a_result.boarding_a_t_a  a_t_a_result.ride_a_t_a  \\\ncount                 5.028590e+05             5.028590e+05   \nmean                  2.013937e+16             7.155686e+07   \nstd                   6.091805e+17             2.135430e+09   \nmin                   0.000000e+00             1.000000e+00   \n25%                   8.000000e+00             4.020000e+02   \n50%                   3.600000e+01             6.840000e+02   \n75%                   1.240000e+02             1.172000e+03   \nmax                   1.844674e+19             6.379876e+10   \n\n       a_t_a_result.arrival_probe_result.probe.point.lat  \\\ncount                                      502859.000000   \nmean                                           34.603114   \nstd                                             2.544448   \nmin                                            25.277332   \n25%                                            32.695423   \n50%                                            35.707092   \n75%                                            36.264671   \nmax                                            39.661167   \n\n       a_t_a_result.arrival_probe_result.probe.point.lon  \\\ncount                                      502859.000000   \nmean                                           51.913875   \nstd                                             3.538870   \nmin                                            44.829102   \n25%                                            50.836760   \n50%                                            51.409603   \n75%                                            52.524117   \nmax                                            61.168961   \n\n       a_t_a_result.arrival_probe_result.probe.timestamp  \\\ncount                                       5.028590e+05   \nmean                                        2.457812e+15   \nstd                                         2.129146e+17   \nmin                                         1.662865e+09   \n25%                                         1.663160e+09   \n50%                                         1.663161e+09   \n75%                                         1.663163e+09   \nmax                                         1.844674e+19   \n\n       a_t_a_result.arrival_probe_result.confidence  \\\ncount                                 502859.000000   \nmean                                       0.734051   \nstd                                        0.341657   \nmin                                        0.000000   \n25%                                        0.591716   \n50%                                        0.769231   \n75%                                        1.000000   \nmax                                        1.000000   \n\n       a_t_a_result.arrival_probe_result.k_ring_level  ...  \\\ncount                                   502859.000000  ...   \nmean                                         1.158275  ...   \nstd                                          1.439362  ...   \nmin                                          0.000000  ...   \n25%                                          0.000000  ...   \n50%                                          1.000000  ...   \n75%                                          2.000000  ...   \nmax                                          4.000000  ...   \n\n       pickup_a_d_d_result.route_ratio  pickup_a_d_d_result.g_p_s_ratio  \\\ncount                    502859.000000                    502859.000000   \nmean                          0.000326                         0.015392   \nstd                           0.015817                         0.017221   \nmin                           0.000000                         0.000000   \n25%                           0.000000                         0.005714   \n50%                           0.000000                         0.011905   \n75%                           0.000000                         0.020833   \nmax                           1.000000                         1.000000   \n\n       ride_a_d_d_result.distance  ride_a_d_d_result.confidence  \\\ncount               502859.000000                 502859.000000   \nmean                    13.564964                      0.857177   \nstd                     17.250296                      0.189048   \nmin                      0.000000                      0.000000   \n25%                      4.603000                      0.750032   \n50%                      8.623000                      0.957293   \n75%                     16.327728                      1.000000   \nmax                   1784.723999                      1.000000   \n\n       ride_a_d_d_result.route_ratio  ride_a_d_d_result.g_p_s_ratio  \\\ncount                  502859.000000                  502859.000000   \nmean                        0.000125                       0.707576   \nstd                         0.005345                       0.344261   \nmin                         0.000000                       0.000000   \n25%                         0.000000                       0.482860   \n50%                         0.000000                       0.884615   \n75%                         0.000000                       0.975610   \nmax                         1.000000                       1.000000   \n\n       total_a_d_d_confidence  in_ride_allotment          e_d_d        hash\\n  \ncount           502859.000000      502859.000000  502859.000000  5.028590e+05  \nmean                 0.867706           0.046938       8.377787  9.240882e+18  \nstd                  0.178898           0.332769      12.547627  5.326126e+18  \nmin                  0.000000           0.000000       0.000000  4.062941e+13  \n25%                  0.792329           0.000000       2.784000  4.635700e+18  \n50%                  0.957387           0.000000       5.180000  9.246887e+18  \n75%                  1.000000           0.000000       9.833000  1.385216e+19  \nmax                  1.000000          34.022999    1741.516968  1.844670e+19  \n\n[8 rows x 42 columns]",
      "text/html": "<div>\n<style scoped>\n    .dataframe tbody tr th:only-of-type {\n        vertical-align: middle;\n    }\n\n    .dataframe tbody tr th {\n        vertical-align: top;\n    }\n\n    .dataframe thead th {\n        text-align: right;\n    }\n</style>\n<table border=\"1\" class=\"dataframe\">\n  <thead>\n    <tr style=\"text-align: right;\">\n      <th></th>\n      <th>ride_id</th>\n      <th>driver_id</th>\n      <th>a_t_a_result.arrival_a_t_a</th>\n      <th>a_t_a_result.boarding_a_t_a</th>\n      <th>a_t_a_result.ride_a_t_a</th>\n      <th>a_t_a_result.arrival_probe_result.probe.point.lat</th>\n      <th>a_t_a_result.arrival_probe_result.probe.point.lon</th>\n      <th>a_t_a_result.arrival_probe_result.probe.timestamp</th>\n      <th>a_t_a_result.arrival_probe_result.confidence</th>\n      <th>a_t_a_result.arrival_probe_result.k_ring_level</th>\n      <th>...</th>\n      <th>pickup_a_d_d_result.route_ratio</th>\n      <th>pickup_a_d_d_result.g_p_s_ratio</th>\n      <th>ride_a_d_d_result.distance</th>\n      <th>ride_a_d_d_result.confidence</th>\n      <th>ride_a_d_d_result.route_ratio</th>\n      <th>ride_a_d_d_result.g_p_s_ratio</th>\n      <th>total_a_d_d_confidence</th>\n      <th>in_ride_allotment</th>\n      <th>e_d_d</th>\n      <th>hash\\n</th>\n    </tr>\n  </thead>\n  <tbody>\n    <tr>\n      <th>count</th>\n      <td>5.028590e+05</td>\n      <td>5.028590e+05</td>\n      <td>502859.000000</td>\n      <td>5.028590e+05</td>\n      <td>5.028590e+05</td>\n      <td>502859.000000</td>\n      <td>502859.000000</td>\n      <td>5.028590e+05</td>\n      <td>502859.000000</td>\n      <td>502859.000000</td>\n      <td>...</td>\n      <td>502859.000000</td>\n      <td>502859.000000</td>\n      <td>502859.000000</td>\n      <td>502859.000000</td>\n      <td>502859.000000</td>\n      <td>502859.000000</td>\n      <td>502859.000000</td>\n      <td>502859.000000</td>\n      <td>502859.000000</td>\n      <td>5.028590e+05</td>\n    </tr>\n    <tr>\n      <th>mean</th>\n      <td>4.956607e+09</td>\n      <td>2.379701e+06</td>\n      <td>186.070441</td>\n      <td>2.013937e+16</td>\n      <td>7.155686e+07</td>\n      <td>34.603114</td>\n      <td>51.913875</td>\n      <td>2.457812e+15</td>\n      <td>0.734051</td>\n      <td>1.158275</td>\n      <td>...</td>\n      <td>0.000326</td>\n      <td>0.015392</td>\n      <td>13.564964</td>\n      <td>0.857177</td>\n      <td>0.000125</td>\n      <td>0.707576</td>\n      <td>0.867706</td>\n      <td>0.046938</td>\n      <td>8.377787</td>\n      <td>9.240882e+18</td>\n    </tr>\n    <tr>\n      <th>std</th>\n      <td>4.392595e+05</td>\n      <td>1.344870e+06</td>\n      <td>146.035298</td>\n      <td>6.091805e+17</td>\n      <td>2.135430e+09</td>\n      <td>2.544448</td>\n      <td>3.538870</td>\n      <td>2.129146e+17</td>\n      <td>0.341657</td>\n      <td>1.439362</td>\n      <td>...</td>\n      <td>0.015817</td>\n      <td>0.017221</td>\n      <td>17.250296</td>\n      <td>0.189048</td>\n      <td>0.005345</td>\n      <td>0.344261</td>\n      <td>0.178898</td>\n      <td>0.332769</td>\n      <td>12.547627</td>\n      <td>5.326126e+18</td>\n    </tr>\n    <tr>\n      <th>min</th>\n      <td>4.873587e+09</td>\n      <td>1.000000e+00</td>\n      <td>0.000000</td>\n      <td>0.000000e+00</td>\n      <td>1.000000e+00</td>\n      <td>25.277332</td>\n      <td>44.829102</td>\n      <td>1.662865e+09</td>\n      <td>0.000000</td>\n      <td>0.000000</td>\n      <td>...</td>\n      <td>0.000000</td>\n      <td>0.000000</td>\n      <td>0.000000</td>\n      <td>0.000000</td>\n      <td>0.000000</td>\n      <td>0.000000</td>\n      <td>0.000000</td>\n      <td>0.000000</td>\n      <td>0.000000</td>\n      <td>4.062941e+13</td>\n    </tr>\n    <tr>\n      <th>25%</th>\n      <td>4.956373e+09</td>\n      <td>1.199125e+06</td>\n      <td>91.000000</td>\n      <td>8.000000e+00</td>\n      <td>4.020000e+02</td>\n      <td>32.695423</td>\n      <td>50.836760</td>\n      <td>1.663160e+09</td>\n      <td>0.591716</td>\n      <td>0.000000</td>\n      <td>...</td>\n      <td>0.000000</td>\n      <td>0.005714</td>\n      <td>4.603000</td>\n      <td>0.750032</td>\n      <td>0.000000</td>\n      <td>0.482860</td>\n      <td>0.792329</td>\n      <td>0.000000</td>\n      <td>2.784000</td>\n      <td>4.635700e+18</td>\n    </tr>\n    <tr>\n      <th>50%</th>\n      <td>4.956612e+09</td>\n      <td>2.438832e+06</td>\n      <td>170.000000</td>\n      <td>3.600000e+01</td>\n      <td>6.840000e+02</td>\n      <td>35.707092</td>\n      <td>51.409603</td>\n      <td>1.663161e+09</td>\n      <td>0.769231</td>\n      <td>1.000000</td>\n      <td>...</td>\n      <td>0.000000</td>\n      <td>0.011905</td>\n      <td>8.623000</td>\n      <td>0.957293</td>\n      <td>0.000000</td>\n      <td>0.884615</td>\n      <td>0.957387</td>\n      <td>0.000000</td>\n      <td>5.180000</td>\n      <td>9.246887e+18</td>\n    </tr>\n    <tr>\n      <th>75%</th>\n      <td>4.956863e+09</td>\n      <td>3.616538e+06</td>\n      <td>258.000000</td>\n      <td>1.240000e+02</td>\n      <td>1.172000e+03</td>\n      <td>36.264671</td>\n      <td>52.524117</td>\n      <td>1.663163e+09</td>\n      <td>1.000000</td>\n      <td>2.000000</td>\n      <td>...</td>\n      <td>0.000000</td>\n      <td>0.020833</td>\n      <td>16.327728</td>\n      <td>1.000000</td>\n      <td>0.000000</td>\n      <td>0.975610</td>\n      <td>1.000000</td>\n      <td>0.000000</td>\n      <td>9.833000</td>\n      <td>1.385216e+19</td>\n    </tr>\n    <tr>\n      <th>max</th>\n      <td>4.957263e+09</td>\n      <td>4.346386e+06</td>\n      <td>7954.000000</td>\n      <td>1.844674e+19</td>\n      <td>6.379876e+10</td>\n      <td>39.661167</td>\n      <td>61.168961</td>\n      <td>1.844674e+19</td>\n      <td>1.000000</td>\n      <td>4.000000</td>\n      <td>...</td>\n      <td>1.000000</td>\n      <td>1.000000</td>\n      <td>1784.723999</td>\n      <td>1.000000</td>\n      <td>1.000000</td>\n      <td>1.000000</td>\n      <td>1.000000</td>\n      <td>34.022999</td>\n      <td>1741.516968</td>\n      <td>1.844670e+19</td>\n    </tr>\n  </tbody>\n</table>\n<p>8 rows × 42 columns</p>\n</div>"
     },
     "execution_count": 11,
     "metadata": {},
     "output_type": "execute_result"
    }
   ],
   "source": [
    "khatkesh = pd.read_csv(\"../khatkesh.csv\")\n",
    "khatkesh.describe()"
   ],
   "metadata": {
    "collapsed": false,
    "pycharm": {
     "name": "#%%\n"
    }
   }
  },
  {
   "cell_type": "code",
   "execution_count": 13,
   "outputs": [],
   "source": [
    "rides_khatkesh = pd.merge(rides, khatkesh, on=\"ride_id\")"
   ],
   "metadata": {
    "collapsed": false,
    "pycharm": {
     "name": "#%%\n"
    }
   }
  },
  {
   "cell_type": "code",
   "execution_count": 14,
   "outputs": [
    {
     "data": {
      "text/plain": "       accepted_driver_id  passenger_id    source_lat    source_lng  \\\ncount        1.506300e+04  1.506300e+04  15063.000000  15063.000000   \nmean         1.981823e+06  2.391234e+07     35.693123     51.402332   \nstd          1.436073e+06  1.795970e+07      0.097267      0.146990   \nmin          1.010000e+02  1.375000e+03     35.249897     50.903470   \n25%          5.346035e+05  5.211465e+06     35.662340     51.330618   \n50%          1.940900e+06  2.427381e+07     35.724340     51.404480   \n75%          3.289352e+06  3.849748e+07     35.754384     51.468884   \nmax          4.346206e+06  5.750970e+07     35.832066     52.781403   \n\n       destination_lat  destination_lng           eta           ata  \\\ncount     15063.000000     15063.000000  15063.000000  15063.000000   \nmean         35.694000        51.399399    867.554870   1088.631083   \nstd           0.097062         0.152614    633.272365    951.193802   \nmin          34.641853        50.535954     24.000000    120.000000   \n25%          35.660725        51.330080    410.000000    436.000000   \n50%          35.724358        51.402800    689.000000    775.000000   \n75%          35.754307        51.472001   1138.000000   1392.000000   \nmax          36.048410        52.792877   5231.000000   6709.000000   \n\n            ride_id     city  ...  pickup_a_d_d_result.route_ratio  \\\ncount  1.506300e+04  15063.0  ...                     15063.000000   \nmean   4.956710e+09      1.0  ...                         0.000208   \nstd    2.752267e+05      0.0  ...                         0.011839   \nmin    4.956287e+09      1.0  ...                         0.000000   \n25%    4.956454e+09      1.0  ...                         0.000000   \n50%    4.956690e+09      1.0  ...                         0.000000   \n75%    4.956964e+09      1.0  ...                         0.000000   \nmax    4.957246e+09      1.0  ...                         1.000000   \n\n       pickup_a_d_d_result.g_p_s_ratio  ride_a_d_d_result.distance  \\\ncount                     15063.000000                15063.000000   \nmean                          0.014827                   13.534466   \nstd                           0.015742                   14.004605   \nmin                           0.000000                    0.000000   \n25%                           0.005319                    4.448000   \n50%                           0.011236                    8.968000   \n75%                           0.020000                   17.646500   \nmax                           0.500000                  159.207718   \n\n       ride_a_d_d_result.confidence  ride_a_d_d_result.route_ratio  \\\ncount                  15063.000000                   15063.000000   \nmean                       0.876051                       0.000115   \nstd                        0.174419                       0.002896   \nmin                        0.000000                       0.000000   \n25%                        0.813760                       0.000000   \n50%                        0.965429                       0.000000   \n75%                        1.000000                       0.000000   \nmax                        1.000000                       0.204274   \n\n       ride_a_d_d_result.g_p_s_ratio  total_a_d_d_confidence  \\\ncount                   15063.000000            15063.000000   \nmean                        0.738491                0.883905   \nstd                         0.321243                0.164876   \nmin                         0.000000                0.000000   \n25%                         0.582005                0.835089   \n50%                         0.900990                0.963664   \n75%                         0.974576                1.000000   \nmax                         1.000000                1.000000   \n\n       in_ride_allotment         e_d_d        hash\\n  \ncount       15063.000000  15063.000000  1.506300e+04  \nmean            0.015693      8.121885  9.220426e+18  \nstd             0.146355      8.625966  5.339763e+18  \nmin             0.000000      0.232000  3.680090e+14  \n25%             0.000000      2.646000  4.576592e+18  \n50%             0.000000      5.365000  9.171676e+18  \n75%             0.000000     10.529500  1.387260e+19  \nmax             4.430000    116.138000  1.844592e+19  \n\n[8 rows x 51 columns]",
      "text/html": "<div>\n<style scoped>\n    .dataframe tbody tr th:only-of-type {\n        vertical-align: middle;\n    }\n\n    .dataframe tbody tr th {\n        vertical-align: top;\n    }\n\n    .dataframe thead th {\n        text-align: right;\n    }\n</style>\n<table border=\"1\" class=\"dataframe\">\n  <thead>\n    <tr style=\"text-align: right;\">\n      <th></th>\n      <th>accepted_driver_id</th>\n      <th>passenger_id</th>\n      <th>source_lat</th>\n      <th>source_lng</th>\n      <th>destination_lat</th>\n      <th>destination_lng</th>\n      <th>eta</th>\n      <th>ata</th>\n      <th>ride_id</th>\n      <th>city</th>\n      <th>...</th>\n      <th>pickup_a_d_d_result.route_ratio</th>\n      <th>pickup_a_d_d_result.g_p_s_ratio</th>\n      <th>ride_a_d_d_result.distance</th>\n      <th>ride_a_d_d_result.confidence</th>\n      <th>ride_a_d_d_result.route_ratio</th>\n      <th>ride_a_d_d_result.g_p_s_ratio</th>\n      <th>total_a_d_d_confidence</th>\n      <th>in_ride_allotment</th>\n      <th>e_d_d</th>\n      <th>hash\\n</th>\n    </tr>\n  </thead>\n  <tbody>\n    <tr>\n      <th>count</th>\n      <td>1.506300e+04</td>\n      <td>1.506300e+04</td>\n      <td>15063.000000</td>\n      <td>15063.000000</td>\n      <td>15063.000000</td>\n      <td>15063.000000</td>\n      <td>15063.000000</td>\n      <td>15063.000000</td>\n      <td>1.506300e+04</td>\n      <td>15063.0</td>\n      <td>...</td>\n      <td>15063.000000</td>\n      <td>15063.000000</td>\n      <td>15063.000000</td>\n      <td>15063.000000</td>\n      <td>15063.000000</td>\n      <td>15063.000000</td>\n      <td>15063.000000</td>\n      <td>15063.000000</td>\n      <td>15063.000000</td>\n      <td>1.506300e+04</td>\n    </tr>\n    <tr>\n      <th>mean</th>\n      <td>1.981823e+06</td>\n      <td>2.391234e+07</td>\n      <td>35.693123</td>\n      <td>51.402332</td>\n      <td>35.694000</td>\n      <td>51.399399</td>\n      <td>867.554870</td>\n      <td>1088.631083</td>\n      <td>4.956710e+09</td>\n      <td>1.0</td>\n      <td>...</td>\n      <td>0.000208</td>\n      <td>0.014827</td>\n      <td>13.534466</td>\n      <td>0.876051</td>\n      <td>0.000115</td>\n      <td>0.738491</td>\n      <td>0.883905</td>\n      <td>0.015693</td>\n      <td>8.121885</td>\n      <td>9.220426e+18</td>\n    </tr>\n    <tr>\n      <th>std</th>\n      <td>1.436073e+06</td>\n      <td>1.795970e+07</td>\n      <td>0.097267</td>\n      <td>0.146990</td>\n      <td>0.097062</td>\n      <td>0.152614</td>\n      <td>633.272365</td>\n      <td>951.193802</td>\n      <td>2.752267e+05</td>\n      <td>0.0</td>\n      <td>...</td>\n      <td>0.011839</td>\n      <td>0.015742</td>\n      <td>14.004605</td>\n      <td>0.174419</td>\n      <td>0.002896</td>\n      <td>0.321243</td>\n      <td>0.164876</td>\n      <td>0.146355</td>\n      <td>8.625966</td>\n      <td>5.339763e+18</td>\n    </tr>\n    <tr>\n      <th>min</th>\n      <td>1.010000e+02</td>\n      <td>1.375000e+03</td>\n      <td>35.249897</td>\n      <td>50.903470</td>\n      <td>34.641853</td>\n      <td>50.535954</td>\n      <td>24.000000</td>\n      <td>120.000000</td>\n      <td>4.956287e+09</td>\n      <td>1.0</td>\n      <td>...</td>\n      <td>0.000000</td>\n      <td>0.000000</td>\n      <td>0.000000</td>\n      <td>0.000000</td>\n      <td>0.000000</td>\n      <td>0.000000</td>\n      <td>0.000000</td>\n      <td>0.000000</td>\n      <td>0.232000</td>\n      <td>3.680090e+14</td>\n    </tr>\n    <tr>\n      <th>25%</th>\n      <td>5.346035e+05</td>\n      <td>5.211465e+06</td>\n      <td>35.662340</td>\n      <td>51.330618</td>\n      <td>35.660725</td>\n      <td>51.330080</td>\n      <td>410.000000</td>\n      <td>436.000000</td>\n      <td>4.956454e+09</td>\n      <td>1.0</td>\n      <td>...</td>\n      <td>0.000000</td>\n      <td>0.005319</td>\n      <td>4.448000</td>\n      <td>0.813760</td>\n      <td>0.000000</td>\n      <td>0.582005</td>\n      <td>0.835089</td>\n      <td>0.000000</td>\n      <td>2.646000</td>\n      <td>4.576592e+18</td>\n    </tr>\n    <tr>\n      <th>50%</th>\n      <td>1.940900e+06</td>\n      <td>2.427381e+07</td>\n      <td>35.724340</td>\n      <td>51.404480</td>\n      <td>35.724358</td>\n      <td>51.402800</td>\n      <td>689.000000</td>\n      <td>775.000000</td>\n      <td>4.956690e+09</td>\n      <td>1.0</td>\n      <td>...</td>\n      <td>0.000000</td>\n      <td>0.011236</td>\n      <td>8.968000</td>\n      <td>0.965429</td>\n      <td>0.000000</td>\n      <td>0.900990</td>\n      <td>0.963664</td>\n      <td>0.000000</td>\n      <td>5.365000</td>\n      <td>9.171676e+18</td>\n    </tr>\n    <tr>\n      <th>75%</th>\n      <td>3.289352e+06</td>\n      <td>3.849748e+07</td>\n      <td>35.754384</td>\n      <td>51.468884</td>\n      <td>35.754307</td>\n      <td>51.472001</td>\n      <td>1138.000000</td>\n      <td>1392.000000</td>\n      <td>4.956964e+09</td>\n      <td>1.0</td>\n      <td>...</td>\n      <td>0.000000</td>\n      <td>0.020000</td>\n      <td>17.646500</td>\n      <td>1.000000</td>\n      <td>0.000000</td>\n      <td>0.974576</td>\n      <td>1.000000</td>\n      <td>0.000000</td>\n      <td>10.529500</td>\n      <td>1.387260e+19</td>\n    </tr>\n    <tr>\n      <th>max</th>\n      <td>4.346206e+06</td>\n      <td>5.750970e+07</td>\n      <td>35.832066</td>\n      <td>52.781403</td>\n      <td>36.048410</td>\n      <td>52.792877</td>\n      <td>5231.000000</td>\n      <td>6709.000000</td>\n      <td>4.957246e+09</td>\n      <td>1.0</td>\n      <td>...</td>\n      <td>1.000000</td>\n      <td>0.500000</td>\n      <td>159.207718</td>\n      <td>1.000000</td>\n      <td>0.204274</td>\n      <td>1.000000</td>\n      <td>1.000000</td>\n      <td>4.430000</td>\n      <td>116.138000</td>\n      <td>1.844592e+19</td>\n    </tr>\n  </tbody>\n</table>\n<p>8 rows × 51 columns</p>\n</div>"
     },
     "execution_count": 14,
     "metadata": {},
     "output_type": "execute_result"
    }
   ],
   "source": [
    "rides_khatkesh.describe()"
   ],
   "metadata": {
    "collapsed": false,
    "pycharm": {
     "name": "#%%\n"
    }
   }
  },
  {
   "cell_type": "code",
   "execution_count": 17,
   "outputs": [
    {
     "name": "stdout",
     "output_type": "stream",
     "text": [
      "0.029861557648385287\n"
     ]
    }
   ],
   "source": [
    "ata_correlation = rides_khatkesh['ata']. corr(rides_khatkesh['a_t_a_result.ride_a_t_a'])\n",
    "print(ata_correlation)"
   ],
   "metadata": {
    "collapsed": false,
    "pycharm": {
     "name": "#%%\n"
    }
   }
  },
  {
   "cell_type": "code",
   "execution_count": 19,
   "outputs": [
    {
     "name": "stdout",
     "output_type": "stream",
     "text": [
      "0.02394591304411403\n"
     ]
    }
   ],
   "source": [
    "eta_ata_correlation = rides_khatkesh['eta']. corr(rides_khatkesh['a_t_a_result.ride_a_t_a'])\n",
    "print(eta_ata_correlation)"
   ],
   "metadata": {
    "collapsed": false,
    "pycharm": {
     "name": "#%%\n"
    }
   }
  },
  {
   "cell_type": "code",
   "execution_count": 20,
   "outputs": [
    {
     "name": "stdout",
     "output_type": "stream",
     "text": [
      "0.9128214504435221\n"
     ]
    }
   ],
   "source": [
    "eta_ata_correlation = rides_khatkesh['eta']. corr(rides_khatkesh['ata'])\n",
    "print(eta_ata_correlation)"
   ],
   "metadata": {
    "collapsed": false,
    "pycharm": {
     "name": "#%%\n"
    }
   }
  },
  {
   "cell_type": "code",
   "execution_count": 29,
   "outputs": [
    {
     "data": {
      "text/plain": "0.913461390825758"
     },
     "execution_count": 29,
     "metadata": {},
     "output_type": "execute_result"
    }
   ],
   "source": [
    "(rides_khatkesh['eta'] /rides_khatkesh['ata']).mean()"
   ],
   "metadata": {
    "collapsed": false,
    "pycharm": {
     "name": "#%%\n"
    }
   }
  },
  {
   "cell_type": "code",
   "execution_count": 21,
   "outputs": [
    {
     "data": {
      "text/plain": "0         893\n1         238\n2         474\n3         589\n4         355\n         ... \n15058    1072\n15059     511\n15060    1855\n15061     434\n15062    1436\nName: eta, Length: 15063, dtype: int64"
     },
     "execution_count": 21,
     "metadata": {},
     "output_type": "execute_result"
    }
   ],
   "source": [
    "rides_khatkesh['eta']"
   ],
   "metadata": {
    "collapsed": false,
    "pycharm": {
     "name": "#%%\n"
    }
   }
  },
  {
   "cell_type": "code",
   "execution_count": 61,
   "outputs": [
    {
     "data": {
      "text/plain": "0        1011\n1         365\n2         518\n3         544\n4          36\n         ... \n15058    1015\n15059     599\n15060    1792\n15061     388\n15062    1714\nName: a_t_a_result.ride_a_t_a, Length: 15063, dtype: int64"
     },
     "execution_count": 61,
     "metadata": {},
     "output_type": "execute_result"
    }
   ],
   "source": [
    "rides_khatkesh['a_t_a_result.ride_a_t_a']"
   ],
   "metadata": {
    "collapsed": false,
    "pycharm": {
     "name": "#%%\n"
    }
   }
  },
  {
   "cell_type": "code",
   "execution_count": 27,
   "outputs": [
    {
     "data": {
      "text/plain": "       source_lat  source_lng  destination_lat  destination_lng   eta   ata  \\\n0       35.637950   51.393005        35.613758        51.440968   893  1034   \n1       35.744210   51.140186        35.753910        51.145374   238   423   \n2       35.560932   51.252415        35.543705        51.268753   474   297   \n3       35.786938   51.374763        35.782070        51.354286   589   531   \n4       35.624187   51.403316        35.637610        51.408955   355   131   \n...           ...         ...              ...              ...   ...   ...   \n15058   35.726765   51.378155        35.766630        51.398106  1072  1061   \n15059   35.701633   51.377520        35.695020        51.397842   511   738   \n15060   35.447790   51.179874        35.623560        51.401276  1855  1827   \n15061   35.757343   51.514366        35.778550        51.489235   434   388   \n15062   35.708958   51.342392        35.762096        51.417522  1436  1729   \n\n       a_t_a_result.ride_a_t_a  \n0                         1011  \n1                          365  \n2                          518  \n3                          544  \n4                           36  \n...                        ...  \n15058                     1015  \n15059                      599  \n15060                     1792  \n15061                      388  \n15062                     1714  \n\n[15063 rows x 7 columns]",
      "text/html": "<div>\n<style scoped>\n    .dataframe tbody tr th:only-of-type {\n        vertical-align: middle;\n    }\n\n    .dataframe tbody tr th {\n        vertical-align: top;\n    }\n\n    .dataframe thead th {\n        text-align: right;\n    }\n</style>\n<table border=\"1\" class=\"dataframe\">\n  <thead>\n    <tr style=\"text-align: right;\">\n      <th></th>\n      <th>source_lat</th>\n      <th>source_lng</th>\n      <th>destination_lat</th>\n      <th>destination_lng</th>\n      <th>eta</th>\n      <th>ata</th>\n      <th>a_t_a_result.ride_a_t_a</th>\n    </tr>\n  </thead>\n  <tbody>\n    <tr>\n      <th>0</th>\n      <td>35.637950</td>\n      <td>51.393005</td>\n      <td>35.613758</td>\n      <td>51.440968</td>\n      <td>893</td>\n      <td>1034</td>\n      <td>1011</td>\n    </tr>\n    <tr>\n      <th>1</th>\n      <td>35.744210</td>\n      <td>51.140186</td>\n      <td>35.753910</td>\n      <td>51.145374</td>\n      <td>238</td>\n      <td>423</td>\n      <td>365</td>\n    </tr>\n    <tr>\n      <th>2</th>\n      <td>35.560932</td>\n      <td>51.252415</td>\n      <td>35.543705</td>\n      <td>51.268753</td>\n      <td>474</td>\n      <td>297</td>\n      <td>518</td>\n    </tr>\n    <tr>\n      <th>3</th>\n      <td>35.786938</td>\n      <td>51.374763</td>\n      <td>35.782070</td>\n      <td>51.354286</td>\n      <td>589</td>\n      <td>531</td>\n      <td>544</td>\n    </tr>\n    <tr>\n      <th>4</th>\n      <td>35.624187</td>\n      <td>51.403316</td>\n      <td>35.637610</td>\n      <td>51.408955</td>\n      <td>355</td>\n      <td>131</td>\n      <td>36</td>\n    </tr>\n    <tr>\n      <th>...</th>\n      <td>...</td>\n      <td>...</td>\n      <td>...</td>\n      <td>...</td>\n      <td>...</td>\n      <td>...</td>\n      <td>...</td>\n    </tr>\n    <tr>\n      <th>15058</th>\n      <td>35.726765</td>\n      <td>51.378155</td>\n      <td>35.766630</td>\n      <td>51.398106</td>\n      <td>1072</td>\n      <td>1061</td>\n      <td>1015</td>\n    </tr>\n    <tr>\n      <th>15059</th>\n      <td>35.701633</td>\n      <td>51.377520</td>\n      <td>35.695020</td>\n      <td>51.397842</td>\n      <td>511</td>\n      <td>738</td>\n      <td>599</td>\n    </tr>\n    <tr>\n      <th>15060</th>\n      <td>35.447790</td>\n      <td>51.179874</td>\n      <td>35.623560</td>\n      <td>51.401276</td>\n      <td>1855</td>\n      <td>1827</td>\n      <td>1792</td>\n    </tr>\n    <tr>\n      <th>15061</th>\n      <td>35.757343</td>\n      <td>51.514366</td>\n      <td>35.778550</td>\n      <td>51.489235</td>\n      <td>434</td>\n      <td>388</td>\n      <td>388</td>\n    </tr>\n    <tr>\n      <th>15062</th>\n      <td>35.708958</td>\n      <td>51.342392</td>\n      <td>35.762096</td>\n      <td>51.417522</td>\n      <td>1436</td>\n      <td>1729</td>\n      <td>1714</td>\n    </tr>\n  </tbody>\n</table>\n<p>15063 rows × 7 columns</p>\n</div>"
     },
     "execution_count": 27,
     "metadata": {},
     "output_type": "execute_result"
    }
   ],
   "source": [
    "rides_khatkesh[['source_lat', 'source_lng', 'destination_lat', 'destination_lng', 'eta', 'ata', 'a_t_a_result.ride_a_t_a']]"
   ],
   "metadata": {
    "collapsed": false,
    "pycharm": {
     "name": "#%%\n"
    }
   }
  },
  {
   "cell_type": "code",
   "execution_count": 64,
   "outputs": [
    {
     "data": {
      "text/plain": "<AxesSubplot: >"
     },
     "execution_count": 64,
     "metadata": {},
     "output_type": "execute_result"
    },
    {
     "data": {
      "text/plain": "<Figure size 640x480 with 1 Axes>",
      "image/png": "[encoded data removed]"
     },
     "metadata": {},
     "output_type": "display_data"
    }
   ],
   "source": [
    "(rides_khatkesh['eta'] - rides_khatkesh['ata']).hist(bins=100)"
   ],
   "metadata": {
    "collapsed": false,
    "pycharm": {
     "name": "#%%\n"
    }
   }
  },
  {
   "cell_type": "code",
   "execution_count": 65,
   "outputs": [
    {
     "data": {
      "text/plain": "<AxesSubplot: >"
     },
     "execution_count": 65,
     "metadata": {},
     "output_type": "execute_result"
    },
    {
     "data": {
      "text/plain": "<Figure size 640x480 with 1 Axes>",
      "image/png": "[encoded data removed]"
     },
     "metadata": {},
     "output_type": "display_data"
    }
   ],
   "source": [
    "a = rides_khatkesh[rides_khatkesh['a_t_a_result.ride_a_t_a'] < 7200]\n",
    "(a['eta'] - a['a_t_a_result.ride_a_t_a']).hist(bins=100)"
   ],
   "metadata": {
    "collapsed": false,
    "pycharm": {
     "name": "#%%\n"
    }
   }
  },
  {
   "cell_type": "code",
   "execution_count": 38,
   "outputs": [
    {
     "data": {
      "text/plain": "24"
     },
     "execution_count": 38,
     "metadata": {},
     "output_type": "execute_result"
    }
   ],
   "source": [
    "rides_khatkesh['eta'].min()"
   ],
   "metadata": {
    "collapsed": false,
    "pycharm": {
     "name": "#%%\n"
    }
   }
  },
  {
   "cell_type": "code",
   "execution_count": 56,
   "outputs": [
    {
     "data": {
      "text/plain": "accepted_driver_id                                             1839\ncreated_at                                                     1839\npassenger_id                                                   1839\nsource_lat                                                     1839\nsource_lng                                                     1839\ndestination_lat                                                1839\ndestination_lng                                                1839\neta                                                            1839\nprovider                                                       1839\nata                                                            1839\nride_id                                                        1839\ncity                                                           1839\ndriver_id                                                      1839\na_t_a_result.arrival_a_t_a                                     1839\na_t_a_result.boarding_a_t_a                                    1839\na_t_a_result.ride_a_t_a                                        1839\na_t_a_result.arrival_probe_result.probe.point.lat              1839\na_t_a_result.arrival_probe_result.probe.point.lon              1839\na_t_a_result.arrival_probe_result.probe.timestamp              1839\na_t_a_result.arrival_probe_result.confidence                   1839\na_t_a_result.arrival_probe_result.h3_index                     1839\na_t_a_result.arrival_probe_result.k_ring_level                 1839\na_t_a_result.boarding_probe_result.probe.point.lat             1839\na_t_a_result.boarding_probe_result.probe.point.lon             1839\na_t_a_result.boarding_probe_result.probe.timestamp             1839\na_t_a_result.boarding_probe_result.confidence                  1839\na_t_a_result.boarding_probe_result.h3_index                    1839\na_t_a_result.boarding_probe_result.k_ring_level                1839\na_t_a_result.final_destination_probe_result.probe.point.lat    1839\na_t_a_result.final_destination_probe_result.probe.point.lon    1839\na_t_a_result.final_destination_probe_result.probe.timestamp    1839\na_t_a_result.final_destination_probe_result.confidence         1839\na_t_a_result.final_destination_probe_result.h3_index           1839\na_t_a_result.final_destination_probe_result.k_ring_level       1839\na_t_a_result.destination_probe_result.probe.point.lat          1839\na_t_a_result.destination_probe_result.probe.point.lon          1839\na_t_a_result.destination_probe_result.probe.timestamp          1839\na_t_a_result.destination_probe_result.confidence               1839\na_t_a_result.destination_probe_result.h3_index                 1839\na_t_a_result.destination_probe_result.k_ring_level             1839\na_t_a_result.extra_destination_probe_result.probe.point.lat    1839\na_t_a_result.extra_destination_probe_result.probe.point.lon    1839\na_t_a_result.extra_destination_probe_result.probe.timestamp    1839\na_t_a_result.extra_destination_probe_result.confidence         1839\na_t_a_result.extra_destination_probe_result.h3_index              0\na_t_a_result.extra_destination_probe_result.k_ring_level       1839\npickup_a_d_d_result.distance                                   1839\npickup_a_d_d_result.confidence                                 1839\npickup_a_d_d_result.route_ratio                                1839\npickup_a_d_d_result.g_p_s_ratio                                1839\nride_a_d_d_result.distance                                     1839\nride_a_d_d_result.confidence                                   1839\nride_a_d_d_result.route_ratio                                  1839\nride_a_d_d_result.g_p_s_ratio                                  1839\ntotal_a_d_d_confidence                                         1839\nin_ride_allotment                                              1839\ne_d_d                                                          1839\nclickhouse_time                                                1839\nhash\\n                                                         1839\ndtype: int64"
     },
     "execution_count": 56,
     "metadata": {},
     "output_type": "execute_result"
    }
   ],
   "source": [
    "p1 = rides_khatkesh[rides_khatkesh['a_t_a_result.ride_a_t_a'] <= 300].count()\n",
    "p1"
   ],
   "metadata": {
    "collapsed": false,
    "pycharm": {
     "name": "#%%\n"
    }
   }
  },
  {
   "cell_type": "code",
   "execution_count": 58,
   "outputs": [
    {
     "data": {
      "text/plain": "accepted_driver_id                                             1920\ncreated_at                                                     1920\npassenger_id                                                   1920\nsource_lat                                                     1920\nsource_lng                                                     1920\ndestination_lat                                                1920\ndestination_lng                                                1920\neta                                                            1920\nprovider                                                       1920\nata                                                            1920\nride_id                                                        1920\ncity                                                           1920\ndriver_id                                                      1920\na_t_a_result.arrival_a_t_a                                     1920\na_t_a_result.boarding_a_t_a                                    1920\na_t_a_result.ride_a_t_a                                        1920\na_t_a_result.arrival_probe_result.probe.point.lat              1920\na_t_a_result.arrival_probe_result.probe.point.lon              1920\na_t_a_result.arrival_probe_result.probe.timestamp              1920\na_t_a_result.arrival_probe_result.confidence                   1920\na_t_a_result.arrival_probe_result.h3_index                     1920\na_t_a_result.arrival_probe_result.k_ring_level                 1920\na_t_a_result.boarding_probe_result.probe.point.lat             1920\na_t_a_result.boarding_probe_result.probe.point.lon             1920\na_t_a_result.boarding_probe_result.probe.timestamp             1920\na_t_a_result.boarding_probe_result.confidence                  1920\na_t_a_result.boarding_probe_result.h3_index                    1920\na_t_a_result.boarding_probe_result.k_ring_level                1920\na_t_a_result.final_destination_probe_result.probe.point.lat    1920\na_t_a_result.final_destination_probe_result.probe.point.lon    1920\na_t_a_result.final_destination_probe_result.probe.timestamp    1920\na_t_a_result.final_destination_probe_result.confidence         1920\na_t_a_result.final_destination_probe_result.h3_index           1920\na_t_a_result.final_destination_probe_result.k_ring_level       1920\na_t_a_result.destination_probe_result.probe.point.lat          1920\na_t_a_result.destination_probe_result.probe.point.lon          1920\na_t_a_result.destination_probe_result.probe.timestamp          1920\na_t_a_result.destination_probe_result.confidence               1920\na_t_a_result.destination_probe_result.h3_index                 1920\na_t_a_result.destination_probe_result.k_ring_level             1920\na_t_a_result.extra_destination_probe_result.probe.point.lat    1920\na_t_a_result.extra_destination_probe_result.probe.point.lon    1920\na_t_a_result.extra_destination_probe_result.probe.timestamp    1920\na_t_a_result.extra_destination_probe_result.confidence         1920\na_t_a_result.extra_destination_probe_result.h3_index              0\na_t_a_result.extra_destination_probe_result.k_ring_level       1920\npickup_a_d_d_result.distance                                   1920\npickup_a_d_d_result.confidence                                 1920\npickup_a_d_d_result.route_ratio                                1920\npickup_a_d_d_result.g_p_s_ratio                                1920\nride_a_d_d_result.distance                                     1920\nride_a_d_d_result.confidence                                   1920\nride_a_d_d_result.route_ratio                                  1920\nride_a_d_d_result.g_p_s_ratio                                  1920\ntotal_a_d_d_confidence                                         1920\nin_ride_allotment                                              1920\ne_d_d                                                          1920\nclickhouse_time                                                1920\nhash\\n                                                         1920\ndtype: int64"
     },
     "execution_count": 58,
     "metadata": {},
     "output_type": "execute_result"
    }
   ],
   "source": [
    "p1_ata = rides_khatkesh[rides_khatkesh['ata'] <= 300].count()\n",
    "p1_ata"
   ],
   "metadata": {
    "collapsed": false,
    "pycharm": {
     "name": "#%%\n"
    }
   }
  },
  {
   "cell_type": "code",
   "execution_count": 59,
   "outputs": [
    {
     "data": {
      "text/plain": "accepted_driver_id                                             2058\ncreated_at                                                     2058\npassenger_id                                                   2058\nsource_lat                                                     2058\nsource_lng                                                     2058\ndestination_lat                                                2058\ndestination_lng                                                2058\neta                                                            2058\nprovider                                                       2058\nata                                                            2058\nride_id                                                        2058\ncity                                                           2058\ndriver_id                                                      2058\na_t_a_result.arrival_a_t_a                                     2058\na_t_a_result.boarding_a_t_a                                    2058\na_t_a_result.ride_a_t_a                                        2058\na_t_a_result.arrival_probe_result.probe.point.lat              2058\na_t_a_result.arrival_probe_result.probe.point.lon              2058\na_t_a_result.arrival_probe_result.probe.timestamp              2058\na_t_a_result.arrival_probe_result.confidence                   2058\na_t_a_result.arrival_probe_result.h3_index                     2058\na_t_a_result.arrival_probe_result.k_ring_level                 2058\na_t_a_result.boarding_probe_result.probe.point.lat             2058\na_t_a_result.boarding_probe_result.probe.point.lon             2058\na_t_a_result.boarding_probe_result.probe.timestamp             2058\na_t_a_result.boarding_probe_result.confidence                  2058\na_t_a_result.boarding_probe_result.h3_index                    2058\na_t_a_result.boarding_probe_result.k_ring_level                2058\na_t_a_result.final_destination_probe_result.probe.point.lat    2058\na_t_a_result.final_destination_probe_result.probe.point.lon    2058\na_t_a_result.final_destination_probe_result.probe.timestamp    2058\na_t_a_result.final_destination_probe_result.confidence         2058\na_t_a_result.final_destination_probe_result.h3_index           2058\na_t_a_result.final_destination_probe_result.k_ring_level       2058\na_t_a_result.destination_probe_result.probe.point.lat          2058\na_t_a_result.destination_probe_result.probe.point.lon          2058\na_t_a_result.destination_probe_result.probe.timestamp          2058\na_t_a_result.destination_probe_result.confidence               2058\na_t_a_result.destination_probe_result.h3_index                 2058\na_t_a_result.destination_probe_result.k_ring_level             2058\na_t_a_result.extra_destination_probe_result.probe.point.lat    2058\na_t_a_result.extra_destination_probe_result.probe.point.lon    2058\na_t_a_result.extra_destination_probe_result.probe.timestamp    2058\na_t_a_result.extra_destination_probe_result.confidence         2058\na_t_a_result.extra_destination_probe_result.h3_index              0\na_t_a_result.extra_destination_probe_result.k_ring_level       2058\npickup_a_d_d_result.distance                                   2058\npickup_a_d_d_result.confidence                                 2058\npickup_a_d_d_result.route_ratio                                2058\npickup_a_d_d_result.g_p_s_ratio                                2058\nride_a_d_d_result.distance                                     2058\nride_a_d_d_result.confidence                                   2058\nride_a_d_d_result.route_ratio                                  2058\nride_a_d_d_result.g_p_s_ratio                                  2058\ntotal_a_d_d_confidence                                         2058\nin_ride_allotment                                              2058\ne_d_d                                                          2058\nclickhouse_time                                                2058\nhash\\n                                                         2058\ndtype: int64"
     },
     "execution_count": 59,
     "metadata": {},
     "output_type": "execute_result"
    }
   ],
   "source": [
    "p1_eta = rides_khatkesh[rides_khatkesh['eta'] <= 300].count()\n",
    "p1_eta"
   ],
   "metadata": {
    "collapsed": false,
    "pycharm": {
     "name": "#%%\n"
    }
   }
  },
  {
   "cell_type": "code",
   "execution_count": 57,
   "outputs": [
    {
     "data": {
      "text/plain": "accepted_driver_id                                             3955\ncreated_at                                                     3955\npassenger_id                                                   3955\nsource_lat                                                     3955\nsource_lng                                                     3955\ndestination_lat                                                3955\ndestination_lng                                                3955\neta                                                            3955\nprovider                                                       3955\nata                                                            3955\nride_id                                                        3955\ncity                                                           3955\ndriver_id                                                      3955\na_t_a_result.arrival_a_t_a                                     3955\na_t_a_result.boarding_a_t_a                                    3955\na_t_a_result.ride_a_t_a                                        3955\na_t_a_result.arrival_probe_result.probe.point.lat              3955\na_t_a_result.arrival_probe_result.probe.point.lon              3955\na_t_a_result.arrival_probe_result.probe.timestamp              3955\na_t_a_result.arrival_probe_result.confidence                   3955\na_t_a_result.arrival_probe_result.h3_index                     3955\na_t_a_result.arrival_probe_result.k_ring_level                 3955\na_t_a_result.boarding_probe_result.probe.point.lat             3955\na_t_a_result.boarding_probe_result.probe.point.lon             3955\na_t_a_result.boarding_probe_result.probe.timestamp             3955\na_t_a_result.boarding_probe_result.confidence                  3955\na_t_a_result.boarding_probe_result.h3_index                    3955\na_t_a_result.boarding_probe_result.k_ring_level                3955\na_t_a_result.final_destination_probe_result.probe.point.lat    3955\na_t_a_result.final_destination_probe_result.probe.point.lon    3955\na_t_a_result.final_destination_probe_result.probe.timestamp    3955\na_t_a_result.final_destination_probe_result.confidence         3955\na_t_a_result.final_destination_probe_result.h3_index           3955\na_t_a_result.final_destination_probe_result.k_ring_level       3955\na_t_a_result.destination_probe_result.probe.point.lat          3955\na_t_a_result.destination_probe_result.probe.point.lon          3955\na_t_a_result.destination_probe_result.probe.timestamp          3955\na_t_a_result.destination_probe_result.confidence               3955\na_t_a_result.destination_probe_result.h3_index                 3955\na_t_a_result.destination_probe_result.k_ring_level             3955\na_t_a_result.extra_destination_probe_result.probe.point.lat    3955\na_t_a_result.extra_destination_probe_result.probe.point.lon    3955\na_t_a_result.extra_destination_probe_result.probe.timestamp    3955\na_t_a_result.extra_destination_probe_result.confidence         3955\na_t_a_result.extra_destination_probe_result.h3_index              0\na_t_a_result.extra_destination_probe_result.k_ring_level       3955\npickup_a_d_d_result.distance                                   3955\npickup_a_d_d_result.confidence                                 3955\npickup_a_d_d_result.route_ratio                                3955\npickup_a_d_d_result.g_p_s_ratio                                3955\nride_a_d_d_result.distance                                     3955\nride_a_d_d_result.confidence                                   3955\nride_a_d_d_result.route_ratio                                  3955\nride_a_d_d_result.g_p_s_ratio                                  3955\ntotal_a_d_d_confidence                                         3955\nin_ride_allotment                                              3955\ne_d_d                                                          3955\nclickhouse_time                                                3955\nhash\\n                                                         3955\ndtype: int64"
     },
     "execution_count": 57,
     "metadata": {},
     "output_type": "execute_result"
    }
   ],
   "source": [
    "p2 = rides_khatkesh.loc[(rides_khatkesh['a_t_a_result.ride_a_t_a'] > 300) & (rides_khatkesh['a_t_a_result.ride_a_t_a'] <= 600)].count()\n",
    "p2"
   ],
   "metadata": {
    "collapsed": false,
    "pycharm": {
     "name": "#%%\n"
    }
   }
  },
  {
   "cell_type": "code",
   "execution_count": 70,
   "outputs": [
    {
     "data": {
      "text/plain": "accepted_driver_id                                             1977\ncreated_at                                                     1977\npassenger_id                                                   1977\nsource_lat                                                     1977\nsource_lng                                                     1977\ndestination_lat                                                1977\ndestination_lng                                                1977\neta                                                            1977\nprovider                                                       1977\nata                                                            1977\nride_id                                                        1977\ncity                                                           1977\ndriver_id                                                      1977\na_t_a_result.arrival_a_t_a                                     1977\na_t_a_result.boarding_a_t_a                                    1977\na_t_a_result.ride_a_t_a                                        1977\na_t_a_result.arrival_probe_result.probe.point.lat              1977\na_t_a_result.arrival_probe_result.probe.point.lon              1977\na_t_a_result.arrival_probe_result.probe.timestamp              1977\na_t_a_result.arrival_probe_result.confidence                   1977\na_t_a_result.arrival_probe_result.h3_index                     1977\na_t_a_result.arrival_probe_result.k_ring_level                 1977\na_t_a_result.boarding_probe_result.probe.point.lat             1977\na_t_a_result.boarding_probe_result.probe.point.lon             1977\na_t_a_result.boarding_probe_result.probe.timestamp             1977\na_t_a_result.boarding_probe_result.confidence                  1977\na_t_a_result.boarding_probe_result.h3_index                    1977\na_t_a_result.boarding_probe_result.k_ring_level                1977\na_t_a_result.final_destination_probe_result.probe.point.lat    1977\na_t_a_result.final_destination_probe_result.probe.point.lon    1977\na_t_a_result.final_destination_probe_result.probe.timestamp    1977\na_t_a_result.final_destination_probe_result.confidence         1977\na_t_a_result.final_destination_probe_result.h3_index           1977\na_t_a_result.final_destination_probe_result.k_ring_level       1977\na_t_a_result.destination_probe_result.probe.point.lat          1977\na_t_a_result.destination_probe_result.probe.point.lon          1977\na_t_a_result.destination_probe_result.probe.timestamp          1977\na_t_a_result.destination_probe_result.confidence               1977\na_t_a_result.destination_probe_result.h3_index                 1977\na_t_a_result.destination_probe_result.k_ring_level             1977\na_t_a_result.extra_destination_probe_result.probe.point.lat    1977\na_t_a_result.extra_destination_probe_result.probe.point.lon    1977\na_t_a_result.extra_destination_probe_result.probe.timestamp    1977\na_t_a_result.extra_destination_probe_result.confidence         1977\na_t_a_result.extra_destination_probe_result.h3_index              0\na_t_a_result.extra_destination_probe_result.k_ring_level       1977\npickup_a_d_d_result.distance                                   1977\npickup_a_d_d_result.confidence                                 1977\npickup_a_d_d_result.route_ratio                                1977\npickup_a_d_d_result.g_p_s_ratio                                1977\nride_a_d_d_result.distance                                     1977\nride_a_d_d_result.confidence                                   1977\nride_a_d_d_result.route_ratio                                  1977\nride_a_d_d_result.g_p_s_ratio                                  1977\ntotal_a_d_d_confidence                                         1977\nin_ride_allotment                                              1977\ne_d_d                                                          1977\nclickhouse_time                                                1977\nhash\\n                                                         1977\ndtype: int64"
     },
     "execution_count": 70,
     "metadata": {},
     "output_type": "execute_result"
    }
   ],
   "source": [
    "rides_khatkesh[((rides_khatkesh['eta'] - rides_khatkesh['ata']) > 600) | ((rides_khatkesh['eta'] - rides_khatkesh['ata']) < -600)].count()"
   ],
   "metadata": {
    "collapsed": false,
    "pycharm": {
     "name": "#%%\n"
    }
   }
  },
  {
   "cell_type": "code",
   "execution_count": 71,
   "outputs": [
    {
     "data": {
      "text/plain": "accepted_driver_id                                             1974\ncreated_at                                                     1974\npassenger_id                                                   1974\nsource_lat                                                     1974\nsource_lng                                                     1974\ndestination_lat                                                1974\ndestination_lng                                                1974\neta                                                            1974\nprovider                                                       1974\nata                                                            1974\nride_id                                                        1974\ncity                                                           1974\ndriver_id                                                      1974\na_t_a_result.arrival_a_t_a                                     1974\na_t_a_result.boarding_a_t_a                                    1974\na_t_a_result.ride_a_t_a                                        1974\na_t_a_result.arrival_probe_result.probe.point.lat              1974\na_t_a_result.arrival_probe_result.probe.point.lon              1974\na_t_a_result.arrival_probe_result.probe.timestamp              1974\na_t_a_result.arrival_probe_result.confidence                   1974\na_t_a_result.arrival_probe_result.h3_index                     1974\na_t_a_result.arrival_probe_result.k_ring_level                 1974\na_t_a_result.boarding_probe_result.probe.point.lat             1974\na_t_a_result.boarding_probe_result.probe.point.lon             1974\na_t_a_result.boarding_probe_result.probe.timestamp             1974\na_t_a_result.boarding_probe_result.confidence                  1974\na_t_a_result.boarding_probe_result.h3_index                    1974\na_t_a_result.boarding_probe_result.k_ring_level                1974\na_t_a_result.final_destination_probe_result.probe.point.lat    1974\na_t_a_result.final_destination_probe_result.probe.point.lon    1974\na_t_a_result.final_destination_probe_result.probe.timestamp    1974\na_t_a_result.final_destination_probe_result.confidence         1974\na_t_a_result.final_destination_probe_result.h3_index           1974\na_t_a_result.final_destination_probe_result.k_ring_level       1974\na_t_a_result.destination_probe_result.probe.point.lat          1974\na_t_a_result.destination_probe_result.probe.point.lon          1974\na_t_a_result.destination_probe_result.probe.timestamp          1974\na_t_a_result.destination_probe_result.confidence               1974\na_t_a_result.destination_probe_result.h3_index                 1974\na_t_a_result.destination_probe_result.k_ring_level             1974\na_t_a_result.extra_destination_probe_result.probe.point.lat    1974\na_t_a_result.extra_destination_probe_result.probe.point.lon    1974\na_t_a_result.extra_destination_probe_result.probe.timestamp    1974\na_t_a_result.extra_destination_probe_result.confidence         1974\na_t_a_result.extra_destination_probe_result.h3_index              0\na_t_a_result.extra_destination_probe_result.k_ring_level       1974\npickup_a_d_d_result.distance                                   1974\npickup_a_d_d_result.confidence                                 1974\npickup_a_d_d_result.route_ratio                                1974\npickup_a_d_d_result.g_p_s_ratio                                1974\nride_a_d_d_result.distance                                     1974\nride_a_d_d_result.confidence                                   1974\nride_a_d_d_result.route_ratio                                  1974\nride_a_d_d_result.g_p_s_ratio                                  1974\ntotal_a_d_d_confidence                                         1974\nin_ride_allotment                                              1974\ne_d_d                                                          1974\nclickhouse_time                                                1974\nhash\\n                                                         1974\ndtype: int64"
     },
     "execution_count": 71,
     "metadata": {},
     "output_type": "execute_result"
    }
   ],
   "source": [
    "rides_khatkesh[((rides_khatkesh['eta'] - rides_khatkesh['a_t_a_result.ride_a_t_a']) > 600) | ((rides_khatkesh['eta'] - rides_khatkesh['a_t_a_result.ride_a_t_a']) < -600)].count()"
   ],
   "metadata": {
    "collapsed": false,
    "pycharm": {
     "name": "#%%\n"
    }
   }
  },
  {
   "cell_type": "code",
   "execution_count": 79,
   "outputs": [],
   "source": [
    "b = rides_khatkesh[((rides_khatkesh['eta'] - rides_khatkesh['a_t_a_result.ride_a_t_a']) > 600) | ((rides_khatkesh['eta'] - rides_khatkesh['a_t_a_result.ride_a_t_a']) < -600)]\n",
    "\n",
    "c = b[((b['eta'] - b['ata']) > 600) | ((b['eta'] - b['ata']) < -600)]\n",
    "\n",
    "d = c[((c['a_t_a_result.ride_a_t_a'] - c['ata']) > 600) | ((c['a_t_a_result.ride_a_t_a'] - c['ata']) < -600)][['eta', 'ata', 'a_t_a_result.ride_a_t_a', 'source_lat', 'source_lng', 'destination_lat', 'destination_lng']]"
   ],
   "metadata": {
    "collapsed": false,
    "pycharm": {
     "name": "#%%\n"
    }
   }
  },
  {
   "cell_type": "code",
   "execution_count": 80,
   "outputs": [
    {
     "data": {
      "text/plain": "        eta   ata  a_t_a_result.ride_a_t_a  source_lat  source_lng  \\\n171    1329  2752                     2135   35.718834   51.474160   \n214    1631  4189                     2761   35.776512   51.365723   \n313    1701  2802                     3656   35.759247   51.410020   \n327    1160  2309                     3004   35.735233   51.391674   \n507     973  2539                     1904   35.705654   51.420105   \n568    1529   415                     2289   35.714600   51.415770   \n1385   1152  2530              63798760706   35.730957   51.458908   \n1811    821  1445                     2092   35.785500   51.454450   \n1911   2375  5534                     4618   35.772330   51.377758   \n2200   1169  4019                     4820   35.763077   51.768400   \n2464   2026   821                     2692   35.764460   51.398827   \n2942   2759  3550                     5700   35.666110   51.326256   \n3112   1843  2453                     3147   35.749260   51.378910   \n3924   2131  3047              63798761226   35.805477   51.502990   \n4164   1524  4743                     3576   35.717697   51.428295   \n4678   2712  5172              63798762564   35.763115   51.443610   \n5113   2008  1018                     4122   35.601444   51.347920   \n5427    522  1199                     3073   35.721558   51.342450   \n5864   1814  2554                     3570   35.739445   51.311810   \n6194   2575  3336              63798762674   35.512634   51.147385   \n7645   4142  5238                     5869   35.408432   51.154970   \n7886   2971  5098                     3773   35.679817   51.408684   \n8093   2751  3577                     4532   35.471786   51.122414   \n8250   2619  4075              63798762645   35.735320   51.151554   \n8414   2888  5127                     4160   35.768230   51.455150   \n8679   1241  2438                     4490   35.770676   51.420097   \n8737   1301   698                     1974   35.735700   51.389862   \n8889   1165  3468                     2530   35.720505   51.407450   \n9182   1843  5231                     3032   35.719830   51.405457   \n9294    931   323                     1683   35.704918   51.412660   \n9377   1362  2021                     2670   35.732270   51.333310   \n9623   2427  4653                     3578   35.742650   51.333893   \n9667   1145  3013                     1988   35.719143   51.491604   \n9964   1579  4216                     3084   35.728360   51.340034   \n10841  1735  2479              63798762926   35.711224   51.421650   \n10851  1961  3540                     2587   35.756985   51.445866   \n11536   471  1884                     1117   35.638840   51.364418   \n12313  3925  5684                     6812   35.765804   51.427814   \n12631  1245  4013                     2152   35.725030   51.500900   \n12750  1508  3093                     2248   35.603596   51.334713   \n12927  2060  3400              63798761775   35.791560   51.477364   \n13279  1595  5625                     2716   35.717087   51.482956   \n13298  1778   702                     2722   35.739204   51.436874   \n13470  1800  2441                     3263   35.727654   51.403730   \n13655  1048  3894                     3138   35.710240   51.455795   \n13999  1690   995                     2592   35.659008   51.397808   \n14013  2452  4142                     5252   35.717020   51.469204   \n14379  2625  3318                     4014   35.485447   51.690990   \n14562  1539   832                     2840   35.689426   51.357710   \n\n       destination_lat  destination_lng  \n171          35.649970        51.489162  \n214          35.690258        51.375090  \n313          35.688576        51.451190  \n327          35.699738        51.377700  \n507          35.765476        51.425350  \n568          35.694195        51.363320  \n1385         35.776184        51.421830  \n1811         35.771748        51.429000  \n1911         35.749718        51.544216  \n2200         35.726864        51.865490  \n2464         35.710533        51.343613  \n2942         35.754192        51.511320  \n3112         35.755505        51.454594  \n3924         35.675210        51.467130  \n4164         35.752660        51.357680  \n4678         35.665764        51.354282  \n5113         35.696840        51.491640  \n5427         35.727580        51.380640  \n5864         35.759735        51.445904  \n6194         35.545170        51.446210  \n7645         34.641853        50.878930  \n7886         35.633556        51.137367  \n8093         35.664270        51.410828  \n8250         35.555317        51.223812  \n8414         35.620377        51.342250  \n8679         35.766117        51.347275  \n8737         35.687570        51.355614  \n8889         35.723470        51.336094  \n9182         35.726784        51.525204  \n9294         35.726790        51.384132  \n9377         35.695290        51.386276  \n9623         35.648270        51.417420  \n9667         35.727210        51.414406  \n9964         35.792652        51.408245  \n10841        35.654194        51.389420  \n10851        35.731686        51.362520  \n11536        35.658817        51.397940  \n12313        35.698128        50.999157  \n12631        35.638145        51.489017  \n12750        35.676945        51.460270  \n12927        35.660374        51.480793  \n13279        35.768963        51.400143  \n13298        35.680090        51.447983  \n13470        35.810368        51.393307  \n13655        35.720367        51.406734  \n13999        35.729954        51.471058  \n14013        35.719820        51.319706  \n14379        35.658410        51.397736  \n14562        35.702965        51.439040  ",
      "text/html": "<div>\n<style scoped>\n    .dataframe tbody tr th:only-of-type {\n        vertical-align: middle;\n    }\n\n    .dataframe tbody tr th {\n        vertical-align: top;\n    }\n\n    .dataframe thead th {\n        text-align: right;\n    }\n</style>\n<table border=\"1\" class=\"dataframe\">\n  <thead>\n    <tr style=\"text-align: right;\">\n      <th></th>\n      <th>eta</th>\n      <th>ata</th>\n      <th>a_t_a_result.ride_a_t_a</th>\n      <th>source_lat</th>\n      <th>source_lng</th>\n      <th>destination_lat</th>\n      <th>destination_lng</th>\n    </tr>\n  </thead>\n  <tbody>\n    <tr>\n      <th>171</th>\n      <td>1329</td>\n      <td>2752</td>\n      <td>2135</td>\n      <td>35.718834</td>\n      <td>51.474160</td>\n      <td>35.649970</td>\n      <td>51.489162</td>\n    </tr>\n    <tr>\n      <th>214</th>\n      <td>1631</td>\n      <td>4189</td>\n      <td>2761</td>\n      <td>35.776512</td>\n      <td>51.365723</td>\n      <td>35.690258</td>\n      <td>51.375090</td>\n    </tr>\n    <tr>\n      <th>313</th>\n      <td>1701</td>\n      <td>2802</td>\n      <td>3656</td>\n      <td>35.759247</td>\n      <td>51.410020</td>\n      <td>35.688576</td>\n      <td>51.451190</td>\n    </tr>\n    <tr>\n      <th>327</th>\n      <td>1160</td>\n      <td>2309</td>\n      <td>3004</td>\n      <td>35.735233</td>\n      <td>51.391674</td>\n      <td>35.699738</td>\n      <td>51.377700</td>\n    </tr>\n    <tr>\n      <th>507</th>\n      <td>973</td>\n      <td>2539</td>\n      <td>1904</td>\n      <td>35.705654</td>\n      <td>51.420105</td>\n      <td>35.765476</td>\n      <td>51.425350</td>\n    </tr>\n    <tr>\n      <th>568</th>\n      <td>1529</td>\n      <td>415</td>\n      <td>2289</td>\n      <td>35.714600</td>\n      <td>51.415770</td>\n      <td>35.694195</td>\n      <td>51.363320</td>\n    </tr>\n    <tr>\n      <th>1385</th>\n      <td>1152</td>\n      <td>2530</td>\n      <td>63798760706</td>\n      <td>35.730957</td>\n      <td>51.458908</td>\n      <td>35.776184</td>\n      <td>51.421830</td>\n    </tr>\n    <tr>\n      <th>1811</th>\n      <td>821</td>\n      <td>1445</td>\n      <td>2092</td>\n      <td>35.785500</td>\n      <td>51.454450</td>\n      <td>35.771748</td>\n      <td>51.429000</td>\n    </tr>\n    <tr>\n      <th>1911</th>\n      <td>2375</td>\n      <td>5534</td>\n      <td>4618</td>\n      <td>35.772330</td>\n      <td>51.377758</td>\n      <td>35.749718</td>\n      <td>51.544216</td>\n    </tr>\n    <tr>\n      <th>2200</th>\n      <td>1169</td>\n      <td>4019</td>\n      <td>4820</td>\n      <td>35.763077</td>\n      <td>51.768400</td>\n      <td>35.726864</td>\n      <td>51.865490</td>\n    </tr>\n    <tr>\n      <th>2464</th>\n      <td>2026</td>\n      <td>821</td>\n      <td>2692</td>\n      <td>35.764460</td>\n      <td>51.398827</td>\n      <td>35.710533</td>\n      <td>51.343613</td>\n    </tr>\n    <tr>\n      <th>2942</th>\n      <td>2759</td>\n      <td>3550</td>\n      <td>5700</td>\n      <td>35.666110</td>\n      <td>51.326256</td>\n      <td>35.754192</td>\n      <td>51.511320</td>\n    </tr>\n    <tr>\n      <th>3112</th>\n      <td>1843</td>\n      <td>2453</td>\n      <td>3147</td>\n      <td>35.749260</td>\n      <td>51.378910</td>\n      <td>35.755505</td>\n      <td>51.454594</td>\n    </tr>\n    <tr>\n      <th>3924</th>\n      <td>2131</td>\n      <td>3047</td>\n      <td>63798761226</td>\n      <td>35.805477</td>\n      <td>51.502990</td>\n      <td>35.675210</td>\n      <td>51.467130</td>\n    </tr>\n    <tr>\n      <th>4164</th>\n      <td>1524</td>\n      <td>4743</td>\n      <td>3576</td>\n      <td>35.717697</td>\n      <td>51.428295</td>\n      <td>35.752660</td>\n      <td>51.357680</td>\n    </tr>\n    <tr>\n      <th>4678</th>\n      <td>2712</td>\n      <td>5172</td>\n      <td>63798762564</td>\n      <td>35.763115</td>\n      <td>51.443610</td>\n      <td>35.665764</td>\n      <td>51.354282</td>\n    </tr>\n    <tr>\n      <th>5113</th>\n      <td>2008</td>\n      <td>1018</td>\n      <td>4122</td>\n      <td>35.601444</td>\n      <td>51.347920</td>\n      <td>35.696840</td>\n      <td>51.491640</td>\n    </tr>\n    <tr>\n      <th>5427</th>\n      <td>522</td>\n      <td>1199</td>\n      <td>3073</td>\n      <td>35.721558</td>\n      <td>51.342450</td>\n      <td>35.727580</td>\n      <td>51.380640</td>\n    </tr>\n    <tr>\n      <th>5864</th>\n      <td>1814</td>\n      <td>2554</td>\n      <td>3570</td>\n      <td>35.739445</td>\n      <td>51.311810</td>\n      <td>35.759735</td>\n      <td>51.445904</td>\n    </tr>\n    <tr>\n      <th>6194</th>\n      <td>2575</td>\n      <td>3336</td>\n      <td>63798762674</td>\n      <td>35.512634</td>\n      <td>51.147385</td>\n      <td>35.545170</td>\n      <td>51.446210</td>\n    </tr>\n    <tr>\n      <th>7645</th>\n      <td>4142</td>\n      <td>5238</td>\n      <td>5869</td>\n      <td>35.408432</td>\n      <td>51.154970</td>\n      <td>34.641853</td>\n      <td>50.878930</td>\n    </tr>\n    <tr>\n      <th>7886</th>\n      <td>2971</td>\n      <td>5098</td>\n      <td>3773</td>\n      <td>35.679817</td>\n      <td>51.408684</td>\n      <td>35.633556</td>\n      <td>51.137367</td>\n    </tr>\n    <tr>\n      <th>8093</th>\n      <td>2751</td>\n      <td>3577</td>\n      <td>4532</td>\n      <td>35.471786</td>\n      <td>51.122414</td>\n      <td>35.664270</td>\n      <td>51.410828</td>\n    </tr>\n    <tr>\n      <th>8250</th>\n      <td>2619</td>\n      <td>4075</td>\n      <td>63798762645</td>\n      <td>35.735320</td>\n      <td>51.151554</td>\n      <td>35.555317</td>\n      <td>51.223812</td>\n    </tr>\n    <tr>\n      <th>8414</th>\n      <td>2888</td>\n      <td>5127</td>\n      <td>4160</td>\n      <td>35.768230</td>\n      <td>51.455150</td>\n      <td>35.620377</td>\n      <td>51.342250</td>\n    </tr>\n    <tr>\n      <th>8679</th>\n      <td>1241</td>\n      <td>2438</td>\n      <td>4490</td>\n      <td>35.770676</td>\n      <td>51.420097</td>\n      <td>35.766117</td>\n      <td>51.347275</td>\n    </tr>\n    <tr>\n      <th>8737</th>\n      <td>1301</td>\n      <td>698</td>\n      <td>1974</td>\n      <td>35.735700</td>\n      <td>51.389862</td>\n      <td>35.687570</td>\n      <td>51.355614</td>\n    </tr>\n    <tr>\n      <th>8889</th>\n      <td>1165</td>\n      <td>3468</td>\n      <td>2530</td>\n      <td>35.720505</td>\n      <td>51.407450</td>\n      <td>35.723470</td>\n      <td>51.336094</td>\n    </tr>\n    <tr>\n      <th>9182</th>\n      <td>1843</td>\n      <td>5231</td>\n      <td>3032</td>\n      <td>35.719830</td>\n      <td>51.405457</td>\n      <td>35.726784</td>\n      <td>51.525204</td>\n    </tr>\n    <tr>\n      <th>9294</th>\n      <td>931</td>\n      <td>323</td>\n      <td>1683</td>\n      <td>35.704918</td>\n      <td>51.412660</td>\n      <td>35.726790</td>\n      <td>51.384132</td>\n    </tr>\n    <tr>\n      <th>9377</th>\n      <td>1362</td>\n      <td>2021</td>\n      <td>2670</td>\n      <td>35.732270</td>\n      <td>51.333310</td>\n      <td>35.695290</td>\n      <td>51.386276</td>\n    </tr>\n    <tr>\n      <th>9623</th>\n      <td>2427</td>\n      <td>4653</td>\n      <td>3578</td>\n      <td>35.742650</td>\n      <td>51.333893</td>\n      <td>35.648270</td>\n      <td>51.417420</td>\n    </tr>\n    <tr>\n      <th>9667</th>\n      <td>1145</td>\n      <td>3013</td>\n      <td>1988</td>\n      <td>35.719143</td>\n      <td>51.491604</td>\n      <td>35.727210</td>\n      <td>51.414406</td>\n    </tr>\n    <tr>\n      <th>9964</th>\n      <td>1579</td>\n      <td>4216</td>\n      <td>3084</td>\n      <td>35.728360</td>\n      <td>51.340034</td>\n      <td>35.792652</td>\n      <td>51.408245</td>\n    </tr>\n    <tr>\n      <th>10841</th>\n      <td>1735</td>\n      <td>2479</td>\n      <td>63798762926</td>\n      <td>35.711224</td>\n      <td>51.421650</td>\n      <td>35.654194</td>\n      <td>51.389420</td>\n    </tr>\n    <tr>\n      <th>10851</th>\n      <td>1961</td>\n      <td>3540</td>\n      <td>2587</td>\n      <td>35.756985</td>\n      <td>51.445866</td>\n      <td>35.731686</td>\n      <td>51.362520</td>\n    </tr>\n    <tr>\n      <th>11536</th>\n      <td>471</td>\n      <td>1884</td>\n      <td>1117</td>\n      <td>35.638840</td>\n      <td>51.364418</td>\n      <td>35.658817</td>\n      <td>51.397940</td>\n    </tr>\n    <tr>\n      <th>12313</th>\n      <td>3925</td>\n      <td>5684</td>\n      <td>6812</td>\n      <td>35.765804</td>\n      <td>51.427814</td>\n      <td>35.698128</td>\n      <td>50.999157</td>\n    </tr>\n    <tr>\n      <th>12631</th>\n      <td>1245</td>\n      <td>4013</td>\n      <td>2152</td>\n      <td>35.725030</td>\n      <td>51.500900</td>\n      <td>35.638145</td>\n      <td>51.489017</td>\n    </tr>\n    <tr>\n      <th>12750</th>\n      <td>1508</td>\n      <td>3093</td>\n      <td>2248</td>\n      <td>35.603596</td>\n      <td>51.334713</td>\n      <td>35.676945</td>\n      <td>51.460270</td>\n    </tr>\n    <tr>\n      <th>12927</th>\n      <td>2060</td>\n      <td>3400</td>\n      <td>63798761775</td>\n      <td>35.791560</td>\n      <td>51.477364</td>\n      <td>35.660374</td>\n      <td>51.480793</td>\n    </tr>\n    <tr>\n      <th>13279</th>\n      <td>1595</td>\n      <td>5625</td>\n      <td>2716</td>\n      <td>35.717087</td>\n      <td>51.482956</td>\n      <td>35.768963</td>\n      <td>51.400143</td>\n    </tr>\n    <tr>\n      <th>13298</th>\n      <td>1778</td>\n      <td>702</td>\n      <td>2722</td>\n      <td>35.739204</td>\n      <td>51.436874</td>\n      <td>35.680090</td>\n      <td>51.447983</td>\n    </tr>\n    <tr>\n      <th>13470</th>\n      <td>1800</td>\n      <td>2441</td>\n      <td>3263</td>\n      <td>35.727654</td>\n      <td>51.403730</td>\n      <td>35.810368</td>\n      <td>51.393307</td>\n    </tr>\n    <tr>\n      <th>13655</th>\n      <td>1048</td>\n      <td>3894</td>\n      <td>3138</td>\n      <td>35.710240</td>\n      <td>51.455795</td>\n      <td>35.720367</td>\n      <td>51.406734</td>\n    </tr>\n    <tr>\n      <th>13999</th>\n      <td>1690</td>\n      <td>995</td>\n      <td>2592</td>\n      <td>35.659008</td>\n      <td>51.397808</td>\n      <td>35.729954</td>\n      <td>51.471058</td>\n    </tr>\n    <tr>\n      <th>14013</th>\n      <td>2452</td>\n      <td>4142</td>\n      <td>5252</td>\n      <td>35.717020</td>\n      <td>51.469204</td>\n      <td>35.719820</td>\n      <td>51.319706</td>\n    </tr>\n    <tr>\n      <th>14379</th>\n      <td>2625</td>\n      <td>3318</td>\n      <td>4014</td>\n      <td>35.485447</td>\n      <td>51.690990</td>\n      <td>35.658410</td>\n      <td>51.397736</td>\n    </tr>\n    <tr>\n      <th>14562</th>\n      <td>1539</td>\n      <td>832</td>\n      <td>2840</td>\n      <td>35.689426</td>\n      <td>51.357710</td>\n      <td>35.702965</td>\n      <td>51.439040</td>\n    </tr>\n  </tbody>\n</table>\n</div>"
     },
     "execution_count": 80,
     "metadata": {},
     "output_type": "execute_result"
    }
   ],
   "source": [
    "d"
   ],
   "metadata": {
    "collapsed": false,
    "pycharm": {
     "name": "#%%\n"
    }
   }
  },
  {
   "cell_type": "code",
   "execution_count": 81,
   "outputs": [
    {
     "data": {
      "text/plain": "eta                        49\nata                        49\na_t_a_result.ride_a_t_a    49\nsource_lat                 49\nsource_lng                 49\ndestination_lat            49\ndestination_lng            49\ndtype: int64"
     },
     "execution_count": 81,
     "metadata": {},
     "output_type": "execute_result"
    }
   ],
   "source": [
    "d.count()"
   ],
   "metadata": {
    "collapsed": false,
    "pycharm": {
     "name": "#%%\n"
    }
   }
  },
  {
   "cell_type": "code",
   "execution_count": 82,
   "outputs": [
    {
     "data": {
      "text/plain": "1642"
     },
     "execution_count": 82,
     "metadata": {},
     "output_type": "execute_result"
    }
   ],
   "source": [
    "e = rides_khatkesh[rides_khatkesh['a_t_a_result.ride_a_t_a'] < 11000]\n",
    "(e['eta'] - e['a_t_a_result.ride_a_t_a']).max()"
   ],
   "metadata": {
    "collapsed": false,
    "pycharm": {
     "name": "#%%\n"
    }
   }
  },
  {
   "cell_type": "code",
   "execution_count": 91,
   "outputs": [
    {
     "data": {
      "text/plain": "        eta   ata  a_t_a_result.ride_a_t_a  source_lat  source_lng  \\\n16     3035  5805                     5805   35.828030   51.426610   \n34     3535  6709                     6790   35.749702   51.410843   \n37     2003  3737                     3752   35.706070   51.338432   \n154    1756  3518                     3483   35.776638   51.465336   \n191    2102  3671                     3641   35.743100   51.528090   \n...     ...   ...                      ...         ...         ...   \n14960  3687  5235                     5488   35.738693   51.836540   \n14997  2104  3708                     3796   35.759884   51.409576   \n14998  2284  3561                     3490   35.685875   51.374360   \n15019  2117  3445                     3559   35.783707   51.374203   \n15025  2134  4072                     4337   35.777378   51.447437   \n\n       destination_lat  destination_lng                 created_at  \\\n16           35.648270        51.417420  2022-09-14 12:42:48+00:00   \n34           35.738445        51.836777  2022-09-14 12:32:22+00:00   \n37           35.716774        51.455433  2022-09-14 12:44:52+00:00   \n154          35.678722        51.474854  2022-09-14 12:42:43+00:00   \n191          35.589200        51.439342  2022-09-14 12:54:01+00:00   \n...                ...              ...                        ...   \n14960        35.658997        51.397835  2022-09-14 13:01:26+00:00   \n14997        35.729088        51.242054  2022-09-14 12:50:56+00:00   \n14998        35.753460        51.525593  2022-09-14 13:20:05+00:00   \n15019        35.672913        51.265650  2022-09-14 12:51:23+00:00   \n15025        35.732320        51.333805  2022-09-14 13:03:11+00:00   \n\n       ride_a_d_d_result.distance  ride_a_d_d_result.confidence  \\\n16                      30.186001                      0.507089   \n34                      47.250999                      0.513650   \n37                      28.611000                      0.934378   \n154                     34.250000                      0.939153   \n191                     47.351295                      0.911411   \n...                           ...                           ...   \n14960                   89.657997                      0.858641   \n14997                   44.249001                      0.981457   \n14998                   39.756527                      0.851521   \n15019                   31.664425                      0.659431   \n15025                   31.188000                      0.935777   \n\n       ride_a_d_d_result.route_ratio  ride_a_d_d_result.g_p_s_ratio  \n16                          0.002385                       0.018868  \n34                          0.000000                       0.040877  \n37                          0.000000                       0.827128  \n154                         0.000000                       0.893983  \n191                         0.000000                       0.931507  \n...                              ...                            ...  \n14960                       0.000000                       0.887067  \n14997                       0.000000                       0.957895  \n14998                       0.000000                       0.882522  \n15019                       0.000000                       0.233146  \n15025                       0.000000                       0.723502  \n\n[670 rows x 12 columns]",
      "text/html": "<div>\n<style scoped>\n    .dataframe tbody tr th:only-of-type {\n        vertical-align: middle;\n    }\n\n    .dataframe tbody tr th {\n        vertical-align: top;\n    }\n\n    .dataframe thead th {\n        text-align: right;\n    }\n</style>\n<table border=\"1\" class=\"dataframe\">\n  <thead>\n    <tr style=\"text-align: right;\">\n      <th></th>\n      <th>eta</th>\n      <th>ata</th>\n      <th>a_t_a_result.ride_a_t_a</th>\n      <th>source_lat</th>\n      <th>source_lng</th>\n      <th>destination_lat</th>\n      <th>destination_lng</th>\n      <th>created_at</th>\n      <th>ride_a_d_d_result.distance</th>\n      <th>ride_a_d_d_result.confidence</th>\n      <th>ride_a_d_d_result.route_ratio</th>\n      <th>ride_a_d_d_result.g_p_s_ratio</th>\n    </tr>\n  </thead>\n  <tbody>\n    <tr>\n      <th>16</th>\n      <td>3035</td>\n      <td>5805</td>\n      <td>5805</td>\n      <td>35.828030</td>\n      <td>51.426610</td>\n      <td>35.648270</td>\n      <td>51.417420</td>\n      <td>2022-09-14 12:42:48+00:00</td>\n      <td>30.186001</td>\n      <td>0.507089</td>\n      <td>0.002385</td>\n      <td>0.018868</td>\n    </tr>\n    <tr>\n      <th>34</th>\n      <td>3535</td>\n      <td>6709</td>\n      <td>6790</td>\n      <td>35.749702</td>\n      <td>51.410843</td>\n      <td>35.738445</td>\n      <td>51.836777</td>\n      <td>2022-09-14 12:32:22+00:00</td>\n      <td>47.250999</td>\n      <td>0.513650</td>\n      <td>0.000000</td>\n      <td>0.040877</td>\n    </tr>\n    <tr>\n      <th>37</th>\n      <td>2003</td>\n      <td>3737</td>\n      <td>3752</td>\n      <td>35.706070</td>\n      <td>51.338432</td>\n      <td>35.716774</td>\n      <td>51.455433</td>\n      <td>2022-09-14 12:44:52+00:00</td>\n      <td>28.611000</td>\n      <td>0.934378</td>\n      <td>0.000000</td>\n      <td>0.827128</td>\n    </tr>\n    <tr>\n      <th>154</th>\n      <td>1756</td>\n      <td>3518</td>\n      <td>3483</td>\n      <td>35.776638</td>\n      <td>51.465336</td>\n      <td>35.678722</td>\n      <td>51.474854</td>\n      <td>2022-09-14 12:42:43+00:00</td>\n      <td>34.250000</td>\n      <td>0.939153</td>\n      <td>0.000000</td>\n      <td>0.893983</td>\n    </tr>\n    <tr>\n      <th>191</th>\n      <td>2102</td>\n      <td>3671</td>\n      <td>3641</td>\n      <td>35.743100</td>\n      <td>51.528090</td>\n      <td>35.589200</td>\n      <td>51.439342</td>\n      <td>2022-09-14 12:54:01+00:00</td>\n      <td>47.351295</td>\n      <td>0.911411</td>\n      <td>0.000000</td>\n      <td>0.931507</td>\n    </tr>\n    <tr>\n      <th>...</th>\n      <td>...</td>\n      <td>...</td>\n      <td>...</td>\n      <td>...</td>\n      <td>...</td>\n      <td>...</td>\n      <td>...</td>\n      <td>...</td>\n      <td>...</td>\n      <td>...</td>\n      <td>...</td>\n      <td>...</td>\n    </tr>\n    <tr>\n      <th>14960</th>\n      <td>3687</td>\n      <td>5235</td>\n      <td>5488</td>\n      <td>35.738693</td>\n      <td>51.836540</td>\n      <td>35.658997</td>\n      <td>51.397835</td>\n      <td>2022-09-14 13:01:26+00:00</td>\n      <td>89.657997</td>\n      <td>0.858641</td>\n      <td>0.000000</td>\n      <td>0.887067</td>\n    </tr>\n    <tr>\n      <th>14997</th>\n      <td>2104</td>\n      <td>3708</td>\n      <td>3796</td>\n      <td>35.759884</td>\n      <td>51.409576</td>\n      <td>35.729088</td>\n      <td>51.242054</td>\n      <td>2022-09-14 12:50:56+00:00</td>\n      <td>44.249001</td>\n      <td>0.981457</td>\n      <td>0.000000</td>\n      <td>0.957895</td>\n    </tr>\n    <tr>\n      <th>14998</th>\n      <td>2284</td>\n      <td>3561</td>\n      <td>3490</td>\n      <td>35.685875</td>\n      <td>51.374360</td>\n      <td>35.753460</td>\n      <td>51.525593</td>\n      <td>2022-09-14 13:20:05+00:00</td>\n      <td>39.756527</td>\n      <td>0.851521</td>\n      <td>0.000000</td>\n      <td>0.882522</td>\n    </tr>\n    <tr>\n      <th>15019</th>\n      <td>2117</td>\n      <td>3445</td>\n      <td>3559</td>\n      <td>35.783707</td>\n      <td>51.374203</td>\n      <td>35.672913</td>\n      <td>51.265650</td>\n      <td>2022-09-14 12:51:23+00:00</td>\n      <td>31.664425</td>\n      <td>0.659431</td>\n      <td>0.000000</td>\n      <td>0.233146</td>\n    </tr>\n    <tr>\n      <th>15025</th>\n      <td>2134</td>\n      <td>4072</td>\n      <td>4337</td>\n      <td>35.777378</td>\n      <td>51.447437</td>\n      <td>35.732320</td>\n      <td>51.333805</td>\n      <td>2022-09-14 13:03:11+00:00</td>\n      <td>31.188000</td>\n      <td>0.935777</td>\n      <td>0.000000</td>\n      <td>0.723502</td>\n    </tr>\n  </tbody>\n</table>\n<p>670 rows × 12 columns</p>\n</div>"
     },
     "execution_count": 91,
     "metadata": {},
     "output_type": "execute_result"
    }
   ],
   "source": [
    "f = e[((e['eta'] - e['a_t_a_result.ride_a_t_a']) > 1200) | ((e['eta'] - e['a_t_a_result.ride_a_t_a']) < -1200)][['eta', 'ata', 'a_t_a_result.ride_a_t_a', 'source_lat', 'source_lng', 'destination_lat', 'destination_lng', 'created_at', 'ride_a_d_d_result.distance', 'ride_a_d_d_result.confidence', 'ride_a_d_d_result.route_ratio', 'ride_a_d_d_result.g_p_s_ratio']]\n",
    "f"
   ],
   "metadata": {
    "collapsed": false,
    "pycharm": {
     "name": "#%%\n"
    }
   }
  },
  {
   "cell_type": "code",
   "execution_count": 92,
   "outputs": [
    {
     "data": {
      "text/plain": "accepted_driver_id                                             15063\ncreated_at                                                     15063\npassenger_id                                                   15063\nsource_lat                                                     15063\nsource_lng                                                     15063\ndestination_lat                                                15063\ndestination_lng                                                15063\neta                                                            15063\nprovider                                                       15063\nata                                                            15063\nride_id                                                        15063\ncity                                                           15063\ndriver_id                                                      15063\na_t_a_result.arrival_a_t_a                                     15063\na_t_a_result.boarding_a_t_a                                    15063\na_t_a_result.ride_a_t_a                                        15063\na_t_a_result.arrival_probe_result.probe.point.lat              15063\na_t_a_result.arrival_probe_result.probe.point.lon              15063\na_t_a_result.arrival_probe_result.probe.timestamp              15063\na_t_a_result.arrival_probe_result.confidence                   15063\na_t_a_result.arrival_probe_result.h3_index                     15063\na_t_a_result.arrival_probe_result.k_ring_level                 15063\na_t_a_result.boarding_probe_result.probe.point.lat             15063\na_t_a_result.boarding_probe_result.probe.point.lon             15063\na_t_a_result.boarding_probe_result.probe.timestamp             15063\na_t_a_result.boarding_probe_result.confidence                  15063\na_t_a_result.boarding_probe_result.h3_index                    15063\na_t_a_result.boarding_probe_result.k_ring_level                15063\na_t_a_result.final_destination_probe_result.probe.point.lat    15063\na_t_a_result.final_destination_probe_result.probe.point.lon    15063\na_t_a_result.final_destination_probe_result.probe.timestamp    15063\na_t_a_result.final_destination_probe_result.confidence         15063\na_t_a_result.final_destination_probe_result.h3_index           15063\na_t_a_result.final_destination_probe_result.k_ring_level       15063\na_t_a_result.destination_probe_result.probe.point.lat          15063\na_t_a_result.destination_probe_result.probe.point.lon          15063\na_t_a_result.destination_probe_result.probe.timestamp          15063\na_t_a_result.destination_probe_result.confidence               15063\na_t_a_result.destination_probe_result.h3_index                 15063\na_t_a_result.destination_probe_result.k_ring_level             15063\na_t_a_result.extra_destination_probe_result.probe.point.lat    15063\na_t_a_result.extra_destination_probe_result.probe.point.lon    15063\na_t_a_result.extra_destination_probe_result.probe.timestamp    15063\na_t_a_result.extra_destination_probe_result.confidence         15063\na_t_a_result.extra_destination_probe_result.h3_index               0\na_t_a_result.extra_destination_probe_result.k_ring_level       15063\npickup_a_d_d_result.distance                                   15063\npickup_a_d_d_result.confidence                                 15063\npickup_a_d_d_result.route_ratio                                15063\npickup_a_d_d_result.g_p_s_ratio                                15063\nride_a_d_d_result.distance                                     15063\nride_a_d_d_result.confidence                                   15063\nride_a_d_d_result.route_ratio                                  15063\nride_a_d_d_result.g_p_s_ratio                                  15063\ntotal_a_d_d_confidence                                         15063\nin_ride_allotment                                              15063\ne_d_d                                                          15063\nclickhouse_time                                                15063\nhash\\n                                                         15063\ndtype: int64"
     },
     "execution_count": 92,
     "metadata": {},
     "output_type": "execute_result"
    }
   ],
   "source": [
    "rides_khatkesh.count()"
   ],
   "metadata": {
    "collapsed": false,
    "pycharm": {
     "name": "#%%\n"
    }
   }
  },
  {
   "cell_type": "code",
   "execution_count": 93,
   "outputs": [
    {
     "data": {
      "text/plain": "accepted_driver_id                                             13022\ncreated_at                                                     13022\npassenger_id                                                   13022\nsource_lat                                                     13022\nsource_lng                                                     13022\ndestination_lat                                                13022\ndestination_lng                                                13022\neta                                                            13022\nprovider                                                       13022\nata                                                            13022\nride_id                                                        13022\ncity                                                           13022\ndriver_id                                                      13022\na_t_a_result.arrival_a_t_a                                     13022\na_t_a_result.boarding_a_t_a                                    13022\na_t_a_result.ride_a_t_a                                        13022\na_t_a_result.arrival_probe_result.probe.point.lat              13022\na_t_a_result.arrival_probe_result.probe.point.lon              13022\na_t_a_result.arrival_probe_result.probe.timestamp              13022\na_t_a_result.arrival_probe_result.confidence                   13022\na_t_a_result.arrival_probe_result.h3_index                     13022\na_t_a_result.arrival_probe_result.k_ring_level                 13022\na_t_a_result.boarding_probe_result.probe.point.lat             13022\na_t_a_result.boarding_probe_result.probe.point.lon             13022\na_t_a_result.boarding_probe_result.probe.timestamp             13022\na_t_a_result.boarding_probe_result.confidence                  13022\na_t_a_result.boarding_probe_result.h3_index                    13022\na_t_a_result.boarding_probe_result.k_ring_level                13022\na_t_a_result.final_destination_probe_result.probe.point.lat    13022\na_t_a_result.final_destination_probe_result.probe.point.lon    13022\na_t_a_result.final_destination_probe_result.probe.timestamp    13022\na_t_a_result.final_destination_probe_result.confidence         13022\na_t_a_result.final_destination_probe_result.h3_index           13022\na_t_a_result.final_destination_probe_result.k_ring_level       13022\na_t_a_result.destination_probe_result.probe.point.lat          13022\na_t_a_result.destination_probe_result.probe.point.lon          13022\na_t_a_result.destination_probe_result.probe.timestamp          13022\na_t_a_result.destination_probe_result.confidence               13022\na_t_a_result.destination_probe_result.h3_index                 13022\na_t_a_result.destination_probe_result.k_ring_level             13022\na_t_a_result.extra_destination_probe_result.probe.point.lat    13022\na_t_a_result.extra_destination_probe_result.probe.point.lon    13022\na_t_a_result.extra_destination_probe_result.probe.timestamp    13022\na_t_a_result.extra_destination_probe_result.confidence         13022\na_t_a_result.extra_destination_probe_result.h3_index               0\na_t_a_result.extra_destination_probe_result.k_ring_level       13022\npickup_a_d_d_result.distance                                   13022\npickup_a_d_d_result.confidence                                 13022\npickup_a_d_d_result.route_ratio                                13022\npickup_a_d_d_result.g_p_s_ratio                                13022\nride_a_d_d_result.distance                                     13022\nride_a_d_d_result.confidence                                   13022\nride_a_d_d_result.route_ratio                                  13022\nride_a_d_d_result.g_p_s_ratio                                  13022\ntotal_a_d_d_confidence                                         13022\nin_ride_allotment                                              13022\ne_d_d                                                          13022\nclickhouse_time                                                13022\nhash\\n                                                         13022\ndtype: int64"
     },
     "execution_count": 93,
     "metadata": {},
     "output_type": "execute_result"
    }
   ],
   "source": [
    "rides_khatkesh_conf = rides_khatkesh[rides_khatkesh['ride_a_d_d_result.confidence'] > 0.6]\n",
    "rides_khatkesh_conf.count()"
   ],
   "metadata": {
    "collapsed": false,
    "pycharm": {
     "name": "#%%\n"
    }
   }
  },
  {
   "cell_type": "code",
   "execution_count": 111,
   "outputs": [
    {
     "data": {
      "text/plain": "accepted_driver_id                                             12466\ncreated_at                                                     12466\npassenger_id                                                   12466\nsource_lat                                                     12466\nsource_lng                                                     12466\ndestination_lat                                                12466\ndestination_lng                                                12466\neta                                                            12466\nprovider                                                       12466\nata                                                            12466\nride_id                                                        12466\ncity                                                           12466\ndriver_id                                                      12466\na_t_a_result.arrival_a_t_a                                     12466\na_t_a_result.boarding_a_t_a                                    12466\na_t_a_result.ride_a_t_a                                        12466\na_t_a_result.arrival_probe_result.probe.point.lat              12466\na_t_a_result.arrival_probe_result.probe.point.lon              12466\na_t_a_result.arrival_probe_result.probe.timestamp              12466\na_t_a_result.arrival_probe_result.confidence                   12466\na_t_a_result.arrival_probe_result.h3_index                     12466\na_t_a_result.arrival_probe_result.k_ring_level                 12466\na_t_a_result.boarding_probe_result.probe.point.lat             12466\na_t_a_result.boarding_probe_result.probe.point.lon             12466\na_t_a_result.boarding_probe_result.probe.timestamp             12466\na_t_a_result.boarding_probe_result.confidence                  12466\na_t_a_result.boarding_probe_result.h3_index                    12466\na_t_a_result.boarding_probe_result.k_ring_level                12466\na_t_a_result.final_destination_probe_result.probe.point.lat    12466\na_t_a_result.final_destination_probe_result.probe.point.lon    12466\na_t_a_result.final_destination_probe_result.probe.timestamp    12466\na_t_a_result.final_destination_probe_result.confidence         12466\na_t_a_result.final_destination_probe_result.h3_index           12466\na_t_a_result.final_destination_probe_result.k_ring_level       12466\na_t_a_result.destination_probe_result.probe.point.lat          12466\na_t_a_result.destination_probe_result.probe.point.lon          12466\na_t_a_result.destination_probe_result.probe.timestamp          12466\na_t_a_result.destination_probe_result.confidence               12466\na_t_a_result.destination_probe_result.h3_index                 12466\na_t_a_result.destination_probe_result.k_ring_level             12466\na_t_a_result.extra_destination_probe_result.probe.point.lat    12466\na_t_a_result.extra_destination_probe_result.probe.point.lon    12466\na_t_a_result.extra_destination_probe_result.probe.timestamp    12466\na_t_a_result.extra_destination_probe_result.confidence         12466\na_t_a_result.extra_destination_probe_result.h3_index               0\na_t_a_result.extra_destination_probe_result.k_ring_level       12466\npickup_a_d_d_result.distance                                   12466\npickup_a_d_d_result.confidence                                 12466\npickup_a_d_d_result.route_ratio                                12466\npickup_a_d_d_result.g_p_s_ratio                                12466\nride_a_d_d_result.distance                                     12466\nride_a_d_d_result.confidence                                   12466\nride_a_d_d_result.route_ratio                                  12466\nride_a_d_d_result.g_p_s_ratio                                  12466\ntotal_a_d_d_confidence                                         12466\nin_ride_allotment                                              12466\ne_d_d                                                          12466\nclickhouse_time                                                12466\nhash\\n                                                         12466\ndtype: int64"
     },
     "execution_count": 111,
     "metadata": {},
     "output_type": "execute_result"
    }
   ],
   "source": [
    "rides_khatkesh_conf_e_kha = rides_khatkesh_conf[((rides_khatkesh_conf['eta'] - rides_khatkesh_conf['a_t_a_result.ride_a_t_a']) > -1200) & ((rides_khatkesh_conf['eta'] - rides_khatkesh_conf['a_t_a_result.ride_a_t_a']) < 1200)]\n",
    "\n",
    "rides_khatkesh_conf_e_kha.count()"
   ],
   "metadata": {
    "collapsed": false,
    "pycharm": {
     "name": "#%%\n"
    }
   }
  },
  {
   "cell_type": "code",
   "execution_count": 112,
   "outputs": [
    {
     "data": {
      "text/plain": "accepted_driver_id                                             12393\ncreated_at                                                     12393\npassenger_id                                                   12393\nsource_lat                                                     12393\nsource_lng                                                     12393\ndestination_lat                                                12393\ndestination_lng                                                12393\neta                                                            12393\nprovider                                                       12393\nata                                                            12393\nride_id                                                        12393\ncity                                                           12393\ndriver_id                                                      12393\na_t_a_result.arrival_a_t_a                                     12393\na_t_a_result.boarding_a_t_a                                    12393\na_t_a_result.ride_a_t_a                                        12393\na_t_a_result.arrival_probe_result.probe.point.lat              12393\na_t_a_result.arrival_probe_result.probe.point.lon              12393\na_t_a_result.arrival_probe_result.probe.timestamp              12393\na_t_a_result.arrival_probe_result.confidence                   12393\na_t_a_result.arrival_probe_result.h3_index                     12393\na_t_a_result.arrival_probe_result.k_ring_level                 12393\na_t_a_result.boarding_probe_result.probe.point.lat             12393\na_t_a_result.boarding_probe_result.probe.point.lon             12393\na_t_a_result.boarding_probe_result.probe.timestamp             12393\na_t_a_result.boarding_probe_result.confidence                  12393\na_t_a_result.boarding_probe_result.h3_index                    12393\na_t_a_result.boarding_probe_result.k_ring_level                12393\na_t_a_result.final_destination_probe_result.probe.point.lat    12393\na_t_a_result.final_destination_probe_result.probe.point.lon    12393\na_t_a_result.final_destination_probe_result.probe.timestamp    12393\na_t_a_result.final_destination_probe_result.confidence         12393\na_t_a_result.final_destination_probe_result.h3_index           12393\na_t_a_result.final_destination_probe_result.k_ring_level       12393\na_t_a_result.destination_probe_result.probe.point.lat          12393\na_t_a_result.destination_probe_result.probe.point.lon          12393\na_t_a_result.destination_probe_result.probe.timestamp          12393\na_t_a_result.destination_probe_result.confidence               12393\na_t_a_result.destination_probe_result.h3_index                 12393\na_t_a_result.destination_probe_result.k_ring_level             12393\na_t_a_result.extra_destination_probe_result.probe.point.lat    12393\na_t_a_result.extra_destination_probe_result.probe.point.lon    12393\na_t_a_result.extra_destination_probe_result.probe.timestamp    12393\na_t_a_result.extra_destination_probe_result.confidence         12393\na_t_a_result.extra_destination_probe_result.h3_index               0\na_t_a_result.extra_destination_probe_result.k_ring_level       12393\npickup_a_d_d_result.distance                                   12393\npickup_a_d_d_result.confidence                                 12393\npickup_a_d_d_result.route_ratio                                12393\npickup_a_d_d_result.g_p_s_ratio                                12393\nride_a_d_d_result.distance                                     12393\nride_a_d_d_result.confidence                                   12393\nride_a_d_d_result.route_ratio                                  12393\nride_a_d_d_result.g_p_s_ratio                                  12393\ntotal_a_d_d_confidence                                         12393\nin_ride_allotment                                              12393\ne_d_d                                                          12393\nclickhouse_time                                                12393\nhash\\n                                                         12393\ndtype: int64"
     },
     "execution_count": 112,
     "metadata": {},
     "output_type": "execute_result"
    }
   ],
   "source": [
    "rides_khatkesh_conf_e_kha_eta_ata = rides_khatkesh_conf_e_kha[((rides_khatkesh_conf_e_kha['eta'] - rides_khatkesh_conf_e_kha['ata']) > -1200) & ((rides_khatkesh_conf_e_kha['eta'] - rides_khatkesh_conf_e_kha['ata']) < 1200)]\n",
    "\n",
    "rides_khatkesh_conf_e_kha_eta_ata.count()"
   ],
   "metadata": {
    "collapsed": false,
    "pycharm": {
     "name": "#%%\n"
    }
   }
  },
  {
   "cell_type": "code",
   "execution_count": 114,
   "outputs": [
    {
     "data": {
      "text/plain": "accepted_driver_id                                             12380\ncreated_at                                                     12380\npassenger_id                                                   12380\nsource_lat                                                     12380\nsource_lng                                                     12380\ndestination_lat                                                12380\ndestination_lng                                                12380\neta                                                            12380\nprovider                                                       12380\nata                                                            12380\nride_id                                                        12380\ncity                                                           12380\ndriver_id                                                      12380\na_t_a_result.arrival_a_t_a                                     12380\na_t_a_result.boarding_a_t_a                                    12380\na_t_a_result.ride_a_t_a                                        12380\na_t_a_result.arrival_probe_result.probe.point.lat              12380\na_t_a_result.arrival_probe_result.probe.point.lon              12380\na_t_a_result.arrival_probe_result.probe.timestamp              12380\na_t_a_result.arrival_probe_result.confidence                   12380\na_t_a_result.arrival_probe_result.h3_index                     12380\na_t_a_result.arrival_probe_result.k_ring_level                 12380\na_t_a_result.boarding_probe_result.probe.point.lat             12380\na_t_a_result.boarding_probe_result.probe.point.lon             12380\na_t_a_result.boarding_probe_result.probe.timestamp             12380\na_t_a_result.boarding_probe_result.confidence                  12380\na_t_a_result.boarding_probe_result.h3_index                    12380\na_t_a_result.boarding_probe_result.k_ring_level                12380\na_t_a_result.final_destination_probe_result.probe.point.lat    12380\na_t_a_result.final_destination_probe_result.probe.point.lon    12380\na_t_a_result.final_destination_probe_result.probe.timestamp    12380\na_t_a_result.final_destination_probe_result.confidence         12380\na_t_a_result.final_destination_probe_result.h3_index           12380\na_t_a_result.final_destination_probe_result.k_ring_level       12380\na_t_a_result.destination_probe_result.probe.point.lat          12380\na_t_a_result.destination_probe_result.probe.point.lon          12380\na_t_a_result.destination_probe_result.probe.timestamp          12380\na_t_a_result.destination_probe_result.confidence               12380\na_t_a_result.destination_probe_result.h3_index                 12380\na_t_a_result.destination_probe_result.k_ring_level             12380\na_t_a_result.extra_destination_probe_result.probe.point.lat    12380\na_t_a_result.extra_destination_probe_result.probe.point.lon    12380\na_t_a_result.extra_destination_probe_result.probe.timestamp    12380\na_t_a_result.extra_destination_probe_result.confidence         12380\na_t_a_result.extra_destination_probe_result.h3_index               0\na_t_a_result.extra_destination_probe_result.k_ring_level       12380\npickup_a_d_d_result.distance                                   12380\npickup_a_d_d_result.confidence                                 12380\npickup_a_d_d_result.route_ratio                                12380\npickup_a_d_d_result.g_p_s_ratio                                12380\nride_a_d_d_result.distance                                     12380\nride_a_d_d_result.confidence                                   12380\nride_a_d_d_result.route_ratio                                  12380\nride_a_d_d_result.g_p_s_ratio                                  12380\ntotal_a_d_d_confidence                                         12380\nin_ride_allotment                                              12380\ne_d_d                                                          12380\nclickhouse_time                                                12380\nhash\\n                                                         12380\ndtype: int64"
     },
     "execution_count": 114,
     "metadata": {},
     "output_type": "execute_result"
    }
   ],
   "source": [
    "rides_khatkesh_conf_e_kha_eta_ata_ata_kha = rides_khatkesh_conf_e_kha_eta_ata[((rides_khatkesh_conf_e_kha_eta_ata['a_t_a_result.ride_a_t_a'] - rides_khatkesh_conf_e_kha_eta_ata['ata']) > -1200) & ((rides_khatkesh_conf_e_kha_eta_ata['a_t_a_result.ride_a_t_a'] - rides_khatkesh_conf_e_kha_eta_ata['ata']) < 1200)]\n",
    "\n",
    "rides_khatkesh_conf_e_kha_eta_ata_ata_kha.count()"
   ],
   "metadata": {
    "collapsed": false,
    "pycharm": {
     "name": "#%%\n"
    }
   }
  },
  {
   "cell_type": "code",
   "execution_count": 115,
   "outputs": [],
   "source": [
    "g = rides_khatkesh_conf_e_kha_eta_ata_ata_kha[['eta', 'ata', 'a_t_a_result.ride_a_t_a', 'source_lat', 'source_lng', 'destination_lat', 'destination_lng', 'e_d_d']]"
   ],
   "metadata": {
    "collapsed": false,
    "pycharm": {
     "name": "#%%\n"
    }
   }
  },
  {
   "cell_type": "code",
   "execution_count": 116,
   "outputs": [
    {
     "data": {
      "text/plain": "        eta   ata  a_t_a_result.ride_a_t_a  source_lat  source_lng  \\\n0       893  1034                     1011   35.637950   51.393005   \n1       238   423                      365   35.744210   51.140186   \n2       474   297                      518   35.560932   51.252415   \n3       589   531                      544   35.786938   51.374763   \n5       775   733                      704   35.724785   51.527237   \n...     ...   ...                      ...         ...         ...   \n15057   968   722                      714   35.758770   51.315450   \n15058  1072  1061                     1015   35.726765   51.378155   \n15059   511   738                      599   35.701633   51.377520   \n15060  1855  1827                     1792   35.447790   51.179874   \n15062  1436  1729                     1714   35.708958   51.342392   \n\n       destination_lat  destination_lng   e_d_d  \n0            35.613758        51.440968   7.503  \n1            35.753910        51.145374   1.591  \n2            35.543705        51.268753   5.655  \n3            35.782070        51.354286   4.008  \n5            35.753140        51.514698   8.049  \n...                ...              ...     ...  \n15057        35.752953        51.374073  10.613  \n15058        35.766630        51.398106   7.722  \n15059        35.695020        51.397842   3.185  \n15060        35.623560        51.401276  35.070  \n15062        35.762096        51.417522  14.727  \n\n[12380 rows x 8 columns]",
      "text/html": "<div>\n<style scoped>\n    .dataframe tbody tr th:only-of-type {\n        vertical-align: middle;\n    }\n\n    .dataframe tbody tr th {\n        vertical-align: top;\n    }\n\n    .dataframe thead th {\n        text-align: right;\n    }\n</style>\n<table border=\"1\" class=\"dataframe\">\n  <thead>\n    <tr style=\"text-align: right;\">\n      <th></th>\n      <th>eta</th>\n      <th>ata</th>\n      <th>a_t_a_result.ride_a_t_a</th>\n      <th>source_lat</th>\n      <th>source_lng</th>\n      <th>destination_lat</th>\n      <th>destination_lng</th>\n      <th>e_d_d</th>\n    </tr>\n  </thead>\n  <tbody>\n    <tr>\n      <th>0</th>\n      <td>893</td>\n      <td>1034</td>\n      <td>1011</td>\n      <td>35.637950</td>\n      <td>51.393005</td>\n      <td>35.613758</td>\n      <td>51.440968</td>\n      <td>7.503</td>\n    </tr>\n    <tr>\n      <th>1</th>\n      <td>238</td>\n      <td>423</td>\n      <td>365</td>\n      <td>35.744210</td>\n      <td>51.140186</td>\n      <td>35.753910</td>\n      <td>51.145374</td>\n      <td>1.591</td>\n    </tr>\n    <tr>\n      <th>2</th>\n      <td>474</td>\n      <td>297</td>\n      <td>518</td>\n      <td>35.560932</td>\n      <td>51.252415</td>\n      <td>35.543705</td>\n      <td>51.268753</td>\n      <td>5.655</td>\n    </tr>\n    <tr>\n      <th>3</th>\n      <td>589</td>\n      <td>531</td>\n      <td>544</td>\n      <td>35.786938</td>\n      <td>51.374763</td>\n      <td>35.782070</td>\n      <td>51.354286</td>\n      <td>4.008</td>\n    </tr>\n    <tr>\n      <th>5</th>\n      <td>775</td>\n      <td>733</td>\n      <td>704</td>\n      <td>35.724785</td>\n      <td>51.527237</td>\n      <td>35.753140</td>\n      <td>51.514698</td>\n      <td>8.049</td>\n    </tr>\n    <tr>\n      <th>...</th>\n      <td>...</td>\n      <td>...</td>\n      <td>...</td>\n      <td>...</td>\n      <td>...</td>\n      <td>...</td>\n      <td>...</td>\n      <td>...</td>\n    </tr>\n    <tr>\n      <th>15057</th>\n      <td>968</td>\n      <td>722</td>\n      <td>714</td>\n      <td>35.758770</td>\n      <td>51.315450</td>\n      <td>35.752953</td>\n      <td>51.374073</td>\n      <td>10.613</td>\n    </tr>\n    <tr>\n      <th>15058</th>\n      <td>1072</td>\n      <td>1061</td>\n      <td>1015</td>\n      <td>35.726765</td>\n      <td>51.378155</td>\n      <td>35.766630</td>\n      <td>51.398106</td>\n      <td>7.722</td>\n    </tr>\n    <tr>\n      <th>15059</th>\n      <td>511</td>\n      <td>738</td>\n      <td>599</td>\n      <td>35.701633</td>\n      <td>51.377520</td>\n      <td>35.695020</td>\n      <td>51.397842</td>\n      <td>3.185</td>\n    </tr>\n    <tr>\n      <th>15060</th>\n      <td>1855</td>\n      <td>1827</td>\n      <td>1792</td>\n      <td>35.447790</td>\n      <td>51.179874</td>\n      <td>35.623560</td>\n      <td>51.401276</td>\n      <td>35.070</td>\n    </tr>\n    <tr>\n      <th>15062</th>\n      <td>1436</td>\n      <td>1729</td>\n      <td>1714</td>\n      <td>35.708958</td>\n      <td>51.342392</td>\n      <td>35.762096</td>\n      <td>51.417522</td>\n      <td>14.727</td>\n    </tr>\n  </tbody>\n</table>\n<p>12380 rows × 8 columns</p>\n</div>"
     },
     "execution_count": 116,
     "metadata": {},
     "output_type": "execute_result"
    }
   ],
   "source": [
    "g"
   ],
   "metadata": {
    "collapsed": false,
    "pycharm": {
     "name": "#%%\n"
    }
   }
  },
  {
   "cell_type": "code",
   "execution_count": 117,
   "outputs": [
    {
     "data": {
      "text/plain": "0.9429696031179793"
     },
     "execution_count": 117,
     "metadata": {},
     "output_type": "execute_result"
    }
   ],
   "source": [
    "g['eta'].corr(g['a_t_a_result.ride_a_t_a'])"
   ],
   "metadata": {
    "collapsed": false,
    "pycharm": {
     "name": "#%%\n"
    }
   }
  },
  {
   "cell_type": "code",
   "execution_count": 118,
   "outputs": [
    {
     "data": {
      "text/plain": "0.8402505664791503"
     },
     "execution_count": 118,
     "metadata": {},
     "output_type": "execute_result"
    }
   ],
   "source": [
    "g['e_d_d'].corr(g['a_t_a_result.ride_a_t_a'])"
   ],
   "metadata": {
    "collapsed": false,
    "pycharm": {
     "name": "#%%\n"
    }
   }
  },
  {
   "cell_type": "code",
   "execution_count": 145,
   "outputs": [],
   "source": [
    "from sklearn.linear_model import LinearRegression\n",
    "from sklearn.metrics import mean_absolute_error"
   ],
   "metadata": {
    "collapsed": false,
    "pycharm": {
     "name": "#%%\n"
    }
   }
  },
  {
   "cell_type": "code",
   "execution_count": 131,
   "outputs": [],
   "source": [
    "eta_num = g[\"eta\"].to_numpy().reshape(-1,1)\n",
    "ata_num = g[\"a_t_a_result.ride_a_t_a\"].to_numpy().reshape(-1, 1)"
   ],
   "metadata": {
    "collapsed": false,
    "pycharm": {
     "name": "#%%\n"
    }
   }
  },
  {
   "cell_type": "code",
   "execution_count": 132,
   "outputs": [],
   "source": [
    "reg = LinearRegression().fit(eta_num, ata_num)"
   ],
   "metadata": {
    "collapsed": false,
    "pycharm": {
     "name": "#%%\n"
    }
   }
  },
  {
   "cell_type": "code",
   "execution_count": 138,
   "outputs": [
    {
     "data": {
      "text/plain": "array([[1057.33055089],\n       [ 261.43769191],\n       [ 548.20214186],\n       [ 687.93905603],\n       [ 913.94832591],\n       [2505.73404386],\n       [ 180.02575061],\n       [1895.75203592]])"
     },
     "execution_count": 138,
     "metadata": {},
     "output_type": "execute_result"
    }
   ],
   "source": [
    "# 1034\n",
    "# 423\n",
    "# 297\n",
    "# 531\n",
    "# 733\n",
    "# 1874\n",
    "# 168\n",
    "# 2061\n",
    "reg.predict(np.array([893,\n",
    "238,\n",
    "474,\n",
    "589,\n",
    "775,\n",
    "2085,\n",
    "171,\n",
    "1583]).reshape(-1,1))"
   ],
   "metadata": {
    "collapsed": false,
    "pycharm": {
     "name": "#%%\n"
    }
   }
  },
  {
   "cell_type": "code",
   "execution_count": 139,
   "outputs": [],
   "source": [
    "g_p1 = g[g['a_t_a_result.ride_a_t_a'] <= 600]"
   ],
   "metadata": {
    "collapsed": false,
    "pycharm": {
     "name": "#%%\n"
    }
   }
  },
  {
   "cell_type": "code",
   "execution_count": 140,
   "outputs": [
    {
     "data": {
      "text/plain": "       eta  ata  a_t_a_result.ride_a_t_a  source_lat  source_lng  \\\n1      238  423                      365   35.744210   51.140186   \n2      474  297                      518   35.560932   51.252415   \n3      589  531                      544   35.786938   51.374763   \n7      171  168                      288   35.759277   52.781403   \n9      263  748                      564   35.723510   51.335050   \n...    ...  ...                      ...         ...         ...   \n15049  533  549                      471   35.594456   51.423588   \n15050  497  408                      588   35.802494   51.447010   \n15051  224  186                      217   35.758090   51.289840   \n15055  364  263                      360   35.788994   51.370846   \n15059  511  738                      599   35.701633   51.377520   \n\n       destination_lat  destination_lng  e_d_d  \n1            35.753910        51.145374  1.591  \n2            35.543705        51.268753  5.655  \n3            35.782070        51.354286  4.008  \n7            35.758213        52.772823  1.195  \n9            35.729170        51.328740  1.464  \n...                ...              ...    ...  \n15049        35.584995        51.457115  4.994  \n15050        35.794760        51.455900  2.385  \n15051        35.768238        51.291153  1.252  \n15055        35.790504        51.360767  2.103  \n15059        35.695020        51.397842  3.185  \n\n[4999 rows x 8 columns]",
      "text/html": "<div>\n<style scoped>\n    .dataframe tbody tr th:only-of-type {\n        vertical-align: middle;\n    }\n\n    .dataframe tbody tr th {\n        vertical-align: top;\n    }\n\n    .dataframe thead th {\n        text-align: right;\n    }\n</style>\n<table border=\"1\" class=\"dataframe\">\n  <thead>\n    <tr style=\"text-align: right;\">\n      <th></th>\n      <th>eta</th>\n      <th>ata</th>\n      <th>a_t_a_result.ride_a_t_a</th>\n      <th>source_lat</th>\n      <th>source_lng</th>\n      <th>destination_lat</th>\n      <th>destination_lng</th>\n      <th>e_d_d</th>\n    </tr>\n  </thead>\n  <tbody>\n    <tr>\n      <th>1</th>\n      <td>238</td>\n      <td>423</td>\n      <td>365</td>\n      <td>35.744210</td>\n      <td>51.140186</td>\n      <td>35.753910</td>\n      <td>51.145374</td>\n      <td>1.591</td>\n    </tr>\n    <tr>\n      <th>2</th>\n      <td>474</td>\n      <td>297</td>\n      <td>518</td>\n      <td>35.560932</td>\n      <td>51.252415</td>\n      <td>35.543705</td>\n      <td>51.268753</td>\n      <td>5.655</td>\n    </tr>\n    <tr>\n      <th>3</th>\n      <td>589</td>\n      <td>531</td>\n      <td>544</td>\n      <td>35.786938</td>\n      <td>51.374763</td>\n      <td>35.782070</td>\n      <td>51.354286</td>\n      <td>4.008</td>\n    </tr>\n    <tr>\n      <th>7</th>\n      <td>171</td>\n      <td>168</td>\n      <td>288</td>\n      <td>35.759277</td>\n      <td>52.781403</td>\n      <td>35.758213</td>\n      <td>52.772823</td>\n      <td>1.195</td>\n    </tr>\n    <tr>\n      <th>9</th>\n      <td>263</td>\n      <td>748</td>\n      <td>564</td>\n      <td>35.723510</td>\n      <td>51.335050</td>\n      <td>35.729170</td>\n      <td>51.328740</td>\n      <td>1.464</td>\n    </tr>\n    <tr>\n      <th>...</th>\n      <td>...</td>\n      <td>...</td>\n      <td>...</td>\n      <td>...</td>\n      <td>...</td>\n      <td>...</td>\n      <td>...</td>\n      <td>...</td>\n    </tr>\n    <tr>\n      <th>15049</th>\n      <td>533</td>\n      <td>549</td>\n      <td>471</td>\n      <td>35.594456</td>\n      <td>51.423588</td>\n      <td>35.584995</td>\n      <td>51.457115</td>\n      <td>4.994</td>\n    </tr>\n    <tr>\n      <th>15050</th>\n      <td>497</td>\n      <td>408</td>\n      <td>588</td>\n      <td>35.802494</td>\n      <td>51.447010</td>\n      <td>35.794760</td>\n      <td>51.455900</td>\n      <td>2.385</td>\n    </tr>\n    <tr>\n      <th>15051</th>\n      <td>224</td>\n      <td>186</td>\n      <td>217</td>\n      <td>35.758090</td>\n      <td>51.289840</td>\n      <td>35.768238</td>\n      <td>51.291153</td>\n      <td>1.252</td>\n    </tr>\n    <tr>\n      <th>15055</th>\n      <td>364</td>\n      <td>263</td>\n      <td>360</td>\n      <td>35.788994</td>\n      <td>51.370846</td>\n      <td>35.790504</td>\n      <td>51.360767</td>\n      <td>2.103</td>\n    </tr>\n    <tr>\n      <th>15059</th>\n      <td>511</td>\n      <td>738</td>\n      <td>599</td>\n      <td>35.701633</td>\n      <td>51.377520</td>\n      <td>35.695020</td>\n      <td>51.397842</td>\n      <td>3.185</td>\n    </tr>\n  </tbody>\n</table>\n<p>4999 rows × 8 columns</p>\n</div>"
     },
     "execution_count": 140,
     "metadata": {},
     "output_type": "execute_result"
    }
   ],
   "source": [
    "g_p1"
   ],
   "metadata": {
    "collapsed": false,
    "pycharm": {
     "name": "#%%\n"
    }
   }
  },
  {
   "cell_type": "code",
   "execution_count": 141,
   "outputs": [],
   "source": [
    "p1_eta_num = g_p1[\"eta\"].to_numpy().reshape(-1, 1)\n",
    "p1_ata_num = g_p1[\"a_t_a_result.ride_a_t_a\"].to_numpy().reshape(-1, 1)\n",
    "reg_p1 = LinearRegression().fit(p1_eta_num, p1_ata_num)"
   ],
   "metadata": {
    "collapsed": false,
    "pycharm": {
     "name": "#%%\n"
    }
   }
  },
  {
   "cell_type": "code",
   "execution_count": 213,
   "outputs": [
    {
     "data": {
      "text/plain": "4999"
     },
     "execution_count": 213,
     "metadata": {},
     "output_type": "execute_result"
    }
   ],
   "source": [
    "len(p1_eta_num)"
   ],
   "metadata": {
    "collapsed": false,
    "pycharm": {
     "name": "#%%\n"
    }
   }
  },
  {
   "cell_type": "code",
   "execution_count": 142,
   "outputs": [
    {
     "data": {
      "text/plain": "array([[292.92868479],\n       [437.51621481],\n       [507.97200275],\n       [251.88053009],\n       [308.24516043],\n       [251.88053009],\n       [490.20489101],\n       [357.25788247]])"
     },
     "execution_count": 142,
     "metadata": {},
     "output_type": "execute_result"
    }
   ],
   "source": [
    "reg_p1.predict(np.array([238,\n",
    "474,\n",
    "589,\n",
    "171,\n",
    "263,\n",
    "171,\n",
    "560,\n",
    "343]).reshape(-1,1))"
   ],
   "metadata": {
    "collapsed": false,
    "pycharm": {
     "name": "#%%\n"
    }
   }
  },
  {
   "cell_type": "code",
   "execution_count": 143,
   "outputs": [
    {
     "data": {
      "text/plain": "array([[0.61265903]])"
     },
     "execution_count": 143,
     "metadata": {},
     "output_type": "execute_result"
    }
   ],
   "source": [
    "reg_p1.coef_"
   ],
   "metadata": {
    "collapsed": false,
    "pycharm": {
     "name": "#%%\n"
    }
   }
  },
  {
   "cell_type": "code",
   "execution_count": 144,
   "outputs": [
    {
     "data": {
      "text/plain": "array([147.11583673])"
     },
     "execution_count": 144,
     "metadata": {},
     "output_type": "execute_result"
    }
   ],
   "source": [
    "reg_p1.intercept_"
   ],
   "metadata": {
    "collapsed": false,
    "pycharm": {
     "name": "#%%\n"
    }
   }
  },
  {
   "cell_type": "code",
   "execution_count": 147,
   "outputs": [],
   "source": [
    "p1_prediction = reg_p1.predict(p1_eta_num).reshape(-1,1)"
   ],
   "metadata": {
    "collapsed": false,
    "pycharm": {
     "name": "#%%\n"
    }
   }
  },
  {
   "cell_type": "code",
   "execution_count": 146,
   "outputs": [
    {
     "data": {
      "text/plain": "77.03640728145629"
     },
     "execution_count": 146,
     "metadata": {},
     "output_type": "execute_result"
    }
   ],
   "source": [
    "mean_absolute_error(p1_ata_num, p1_eta_num)"
   ],
   "metadata": {
    "collapsed": false,
    "pycharm": {
     "name": "#%%\n"
    }
   }
  },
  {
   "cell_type": "code",
   "execution_count": 148,
   "outputs": [
    {
     "data": {
      "text/plain": "array([[292.92868479],\n       [437.51621481],\n       [507.97200275],\n       ...,\n       [284.35145844],\n       [370.12372201],\n       [460.18459876]])"
     },
     "execution_count": 148,
     "metadata": {},
     "output_type": "execute_result"
    }
   ],
   "source": [
    "p1_prediction"
   ],
   "metadata": {
    "collapsed": false,
    "pycharm": {
     "name": "#%%\n"
    }
   }
  },
  {
   "cell_type": "code",
   "execution_count": 149,
   "outputs": [
    {
     "data": {
      "text/plain": "69.86999948400516"
     },
     "execution_count": 149,
     "metadata": {},
     "output_type": "execute_result"
    }
   ],
   "source": [
    "mean_absolute_error(p1_ata_num, p1_prediction)"
   ],
   "metadata": {
    "collapsed": false,
    "pycharm": {
     "name": "#%%\n"
    }
   }
  },
  {
   "cell_type": "code",
   "execution_count": 191,
   "outputs": [
    {
     "data": {
      "text/plain": "array([[<AxesSubplot: title={'center': 'Column_A'}>]], dtype=object)"
     },
     "execution_count": 191,
     "metadata": {},
     "output_type": "execute_result"
    },
    {
     "data": {
      "text/plain": "<Figure size 640x480 with 1 Axes>",
      "image/png": "[encoded data removed]"
     },
     "metadata": {},
     "output_type": "display_data"
    }
   ],
   "source": [
    "df = pd.DataFrame((p1_eta_num - p1_ata_num), columns = ['Column_A'])\n",
    "df.hist(bins=500)"
   ],
   "metadata": {
    "collapsed": false,
    "pycharm": {
     "name": "#%%\n"
    }
   }
  },
  {
   "cell_type": "code",
   "execution_count": 192,
   "outputs": [
    {
     "data": {
      "text/plain": "array([[<AxesSubplot: title={'center': 'Column_A'}>]], dtype=object)"
     },
     "execution_count": 192,
     "metadata": {},
     "output_type": "execute_result"
    },
    {
     "data": {
      "text/plain": "<Figure size 640x480 with 1 Axes>",
      "image/png": "[encoded data removed]"
     },
     "metadata": {},
     "output_type": "display_data"
    }
   ],
   "source": [
    "df_pre = pd.DataFrame((p1_prediction - p1_ata_num), columns = ['Column_A'])\n",
    "df_pre.hist(bins=500)"
   ],
   "metadata": {
    "collapsed": false,
    "pycharm": {
     "name": "#%%\n"
    }
   }
  },
  {
   "cell_type": "code",
   "execution_count": 193,
   "outputs": [],
   "source": [
    "from sklearn.metrics import r2_score"
   ],
   "metadata": {
    "collapsed": false,
    "pycharm": {
     "name": "#%%\n"
    }
   }
  },
  {
   "cell_type": "code",
   "execution_count": 194,
   "outputs": [
    {
     "data": {
      "text/plain": "0.3064859794736057"
     },
     "execution_count": 194,
     "metadata": {},
     "output_type": "execute_result"
    }
   ],
   "source": [
    "r2_score(p1_ata_num, p1_eta_num)"
   ],
   "metadata": {
    "collapsed": false,
    "pycharm": {
     "name": "#%%\n"
    }
   }
  },
  {
   "cell_type": "code",
   "execution_count": 231,
   "outputs": [
    {
     "data": {
      "text/plain": "0.5114578766538469"
     },
     "execution_count": 231,
     "metadata": {},
     "output_type": "execute_result"
    }
   ],
   "source": [
    "r2_score(p1_ata_num, p1_prediction)"
   ],
   "metadata": {
    "collapsed": false,
    "pycharm": {
     "name": "#%%\n"
    }
   }
  },
  {
   "cell_type": "code",
   "execution_count": 198,
   "outputs": [
    {
     "data": {
      "text/plain": "11270.187136927285"
     },
     "execution_count": 198,
     "metadata": {},
     "output_type": "execute_result"
    }
   ],
   "source": [
    "np.var((p1_eta_num - p1_ata_num))"
   ],
   "metadata": {
    "collapsed": false,
    "pycharm": {
     "name": "#%%\n"
    }
   }
  },
  {
   "cell_type": "code",
   "execution_count": 199,
   "outputs": [
    {
     "data": {
      "text/plain": "7945.351500174846"
     },
     "execution_count": 199,
     "metadata": {},
     "output_type": "execute_result"
    }
   ],
   "source": [
    "np.var((p1_prediction - p1_ata_num))"
   ],
   "metadata": {
    "collapsed": false,
    "pycharm": {
     "name": "#%%\n"
    }
   }
  },
  {
   "cell_type": "code",
   "execution_count": 204,
   "outputs": [],
   "source": [
    "under_200_index = ((p1_eta_num - p1_ata_num) < 200) & ((p1_eta_num - p1_ata_num) > -200)\n",
    "p1_eta_under_200 = p1_eta_num[under_200_index]\n",
    "p1_ata_num_under_200 = p1_ata_num[under_200_index]\n",
    "p1_prediction_under_200 = p1_prediction[under_200_index]"
   ],
   "metadata": {
    "collapsed": false,
    "pycharm": {
     "name": "#%%\n"
    }
   }
  },
  {
   "cell_type": "code",
   "execution_count": 206,
   "outputs": [
    {
     "data": {
      "text/plain": "(4684,)"
     },
     "execution_count": 206,
     "metadata": {},
     "output_type": "execute_result"
    }
   ],
   "source": [
    "p1_prediction_under_200.shape"
   ],
   "metadata": {
    "collapsed": false,
    "pycharm": {
     "name": "#%%\n"
    }
   }
  },
  {
   "cell_type": "code",
   "execution_count": 203,
   "outputs": [
    {
     "data": {
      "text/plain": "(4999, 1)"
     },
     "execution_count": 203,
     "metadata": {},
     "output_type": "execute_result"
    }
   ],
   "source": [
    "(p1_eta_num - p1_ata_num).shape"
   ],
   "metadata": {
    "collapsed": false,
    "pycharm": {
     "name": "#%%\n"
    }
   }
  },
  {
   "cell_type": "code",
   "execution_count": 207,
   "outputs": [
    {
     "data": {
      "text/plain": "63.48953885567891"
     },
     "execution_count": 207,
     "metadata": {},
     "output_type": "execute_result"
    }
   ],
   "source": [
    "mean_absolute_error(p1_ata_num_under_200, p1_eta_under_200)"
   ],
   "metadata": {
    "collapsed": false,
    "pycharm": {
     "name": "#%%\n"
    }
   }
  },
  {
   "cell_type": "code",
   "execution_count": 208,
   "outputs": [
    {
     "data": {
      "text/plain": "43.831397251309035"
     },
     "execution_count": 208,
     "metadata": {},
     "output_type": "execute_result"
    }
   ],
   "source": [
    "mean_absolute_error(p1_prediction_under_200, p1_eta_under_200)"
   ],
   "metadata": {
    "collapsed": false,
    "pycharm": {
     "name": "#%%\n"
    }
   }
  },
  {
   "cell_type": "code",
   "execution_count": 209,
   "outputs": [],
   "source": [
    "under_p_200_index = ((p1_prediction - p1_ata_num) < 200) & ((p1_prediction - p1_ata_num) > -200)\n",
    "p1_eta_under_p_200 = p1_eta_num[under_p_200_index]\n",
    "p1_ata_num_under_p_200 = p1_ata_num[under_p_200_index]\n",
    "p1_prediction_under_p_200 = p1_prediction[under_p_200_index]"
   ],
   "metadata": {
    "collapsed": false,
    "pycharm": {
     "name": "#%%\n"
    }
   }
  },
  {
   "cell_type": "code",
   "execution_count": 210,
   "outputs": [
    {
     "data": {
      "text/plain": "69.77065732536575"
     },
     "execution_count": 210,
     "metadata": {},
     "output_type": "execute_result"
    }
   ],
   "source": [
    "mean_absolute_error(p1_ata_num_under_p_200, p1_eta_under_p_200)"
   ],
   "metadata": {
    "collapsed": false,
    "pycharm": {
     "name": "#%%\n"
    }
   }
  },
  {
   "cell_type": "code",
   "execution_count": 211,
   "outputs": [
    {
     "data": {
      "text/plain": "45.67812451639645"
     },
     "execution_count": 211,
     "metadata": {},
     "output_type": "execute_result"
    }
   ],
   "source": [
    "mean_absolute_error(p1_prediction_under_p_200, p1_eta_under_p_200)"
   ],
   "metadata": {
    "collapsed": false,
    "pycharm": {
     "name": "#%%\n"
    }
   }
  },
  {
   "cell_type": "code",
   "execution_count": 218,
   "outputs": [
    {
     "data": {
      "text/plain": "        eta   ata  a_t_a_result.ride_a_t_a  source_lat  source_lng  \\\n0       893  1034                     1011   35.637950   51.393005   \n5       775   733                      704   35.724785   51.527237   \n12      367   292                      762   35.715878   51.873882   \n22      750   869                      848   35.637566   51.409330   \n23      867   782                      728   35.731450   51.375084   \n...     ...   ...                      ...         ...         ...   \n15052   549   528                      618   35.711430   51.344887   \n15053   880   894                      876   35.515156   50.932438   \n15056   830  1048                     1020   35.697853   51.385170   \n15057   968   722                      714   35.758770   51.315450   \n15058  1072  1061                     1015   35.726765   51.378155   \n\n       destination_lat  destination_lng   e_d_d  \n0            35.613758        51.440968   7.503  \n5            35.753140        51.514698   8.049  \n12           35.730324        51.874020   2.535  \n22           35.630497        51.375670   4.085  \n23           35.718678        51.397945   4.882  \n...                ...              ...     ...  \n15052        35.692715        51.361830   3.692  \n15053        35.479990        50.967420   6.685  \n15056        35.667183        51.388470   5.313  \n15057        35.752953        51.374073  10.613  \n15058        35.766630        51.398106   7.722  \n\n[4138 rows x 8 columns]",
      "text/html": "<div>\n<style scoped>\n    .dataframe tbody tr th:only-of-type {\n        vertical-align: middle;\n    }\n\n    .dataframe tbody tr th {\n        vertical-align: top;\n    }\n\n    .dataframe thead th {\n        text-align: right;\n    }\n</style>\n<table border=\"1\" class=\"dataframe\">\n  <thead>\n    <tr style=\"text-align: right;\">\n      <th></th>\n      <th>eta</th>\n      <th>ata</th>\n      <th>a_t_a_result.ride_a_t_a</th>\n      <th>source_lat</th>\n      <th>source_lng</th>\n      <th>destination_lat</th>\n      <th>destination_lng</th>\n      <th>e_d_d</th>\n    </tr>\n  </thead>\n  <tbody>\n    <tr>\n      <th>0</th>\n      <td>893</td>\n      <td>1034</td>\n      <td>1011</td>\n      <td>35.637950</td>\n      <td>51.393005</td>\n      <td>35.613758</td>\n      <td>51.440968</td>\n      <td>7.503</td>\n    </tr>\n    <tr>\n      <th>5</th>\n      <td>775</td>\n      <td>733</td>\n      <td>704</td>\n      <td>35.724785</td>\n      <td>51.527237</td>\n      <td>35.753140</td>\n      <td>51.514698</td>\n      <td>8.049</td>\n    </tr>\n    <tr>\n      <th>12</th>\n      <td>367</td>\n      <td>292</td>\n      <td>762</td>\n      <td>35.715878</td>\n      <td>51.873882</td>\n      <td>35.730324</td>\n      <td>51.874020</td>\n      <td>2.535</td>\n    </tr>\n    <tr>\n      <th>22</th>\n      <td>750</td>\n      <td>869</td>\n      <td>848</td>\n      <td>35.637566</td>\n      <td>51.409330</td>\n      <td>35.630497</td>\n      <td>51.375670</td>\n      <td>4.085</td>\n    </tr>\n    <tr>\n      <th>23</th>\n      <td>867</td>\n      <td>782</td>\n      <td>728</td>\n      <td>35.731450</td>\n      <td>51.375084</td>\n      <td>35.718678</td>\n      <td>51.397945</td>\n      <td>4.882</td>\n    </tr>\n    <tr>\n      <th>...</th>\n      <td>...</td>\n      <td>...</td>\n      <td>...</td>\n      <td>...</td>\n      <td>...</td>\n      <td>...</td>\n      <td>...</td>\n      <td>...</td>\n    </tr>\n    <tr>\n      <th>15052</th>\n      <td>549</td>\n      <td>528</td>\n      <td>618</td>\n      <td>35.711430</td>\n      <td>51.344887</td>\n      <td>35.692715</td>\n      <td>51.361830</td>\n      <td>3.692</td>\n    </tr>\n    <tr>\n      <th>15053</th>\n      <td>880</td>\n      <td>894</td>\n      <td>876</td>\n      <td>35.515156</td>\n      <td>50.932438</td>\n      <td>35.479990</td>\n      <td>50.967420</td>\n      <td>6.685</td>\n    </tr>\n    <tr>\n      <th>15056</th>\n      <td>830</td>\n      <td>1048</td>\n      <td>1020</td>\n      <td>35.697853</td>\n      <td>51.385170</td>\n      <td>35.667183</td>\n      <td>51.388470</td>\n      <td>5.313</td>\n    </tr>\n    <tr>\n      <th>15057</th>\n      <td>968</td>\n      <td>722</td>\n      <td>714</td>\n      <td>35.758770</td>\n      <td>51.315450</td>\n      <td>35.752953</td>\n      <td>51.374073</td>\n      <td>10.613</td>\n    </tr>\n    <tr>\n      <th>15058</th>\n      <td>1072</td>\n      <td>1061</td>\n      <td>1015</td>\n      <td>35.726765</td>\n      <td>51.378155</td>\n      <td>35.766630</td>\n      <td>51.398106</td>\n      <td>7.722</td>\n    </tr>\n  </tbody>\n</table>\n<p>4138 rows × 8 columns</p>\n</div>"
     },
     "execution_count": 218,
     "metadata": {},
     "output_type": "execute_result"
    }
   ],
   "source": [
    "g_p2 = g[(g['a_t_a_result.ride_a_t_a'] > 600) & (g['a_t_a_result.ride_a_t_a'] <= 1200)]\n",
    "g_p2"
   ],
   "metadata": {
    "collapsed": false,
    "pycharm": {
     "name": "#%%\n"
    }
   }
  },
  {
   "cell_type": "code",
   "execution_count": 217,
   "outputs": [
    {
     "data": {
      "text/plain": "4138"
     },
     "execution_count": 217,
     "metadata": {},
     "output_type": "execute_result"
    }
   ],
   "source": [
    "p2_eta_num = g_p2[\"eta\"].to_numpy().reshape(-1, 1)\n",
    "p2_ata_num = g_p2[\"a_t_a_result.ride_a_t_a\"].to_numpy().reshape(-1, 1)\n",
    "reg_p2 = LinearRegression().fit(p2_eta_num, p2_ata_num)\n",
    "len(p2_eta_num)"
   ],
   "metadata": {
    "collapsed": false,
    "pycharm": {
     "name": "#%%\n"
    }
   }
  },
  {
   "cell_type": "code",
   "execution_count": 222,
   "outputs": [
    {
     "name": "stdout",
     "output_type": "stream",
     "text": [
      "[[919.85644994]\n",
      " [864.37216834]\n",
      " [672.5282116 ]\n",
      " [852.61702393]\n",
      " [907.63109976]\n",
      " [731.77413941]\n",
      " [940.07529832]\n",
      " [961.23455826]]\n",
      "[[0.47020578]]\n",
      "[499.96269169]\n"
     ]
    }
   ],
   "source": [
    "prediction = reg_p2.predict(np.array([893,\n",
    "775,\n",
    "367,\n",
    "750,\n",
    "867,\n",
    "493,\n",
    "936,\n",
    "981]).reshape(-1, 1))\n",
    "print(prediction)\n",
    "print(reg_p2.coef_)\n",
    "print(reg_p2.intercept_)"
   ],
   "metadata": {
    "collapsed": false,
    "pycharm": {
     "name": "#%%\n"
    }
   }
  },
  {
   "cell_type": "code",
   "execution_count": 223,
   "outputs": [
    {
     "data": {
      "text/plain": "150.9171097148381"
     },
     "execution_count": 223,
     "metadata": {},
     "output_type": "execute_result"
    }
   ],
   "source": [
    "p2_prediction = reg_p2.predict(p2_eta_num).reshape(-1, 1)\n",
    "mean_absolute_error(p2_ata_num, p2_eta_num)"
   ],
   "metadata": {
    "collapsed": false,
    "pycharm": {
     "name": "#%%\n"
    }
   }
  },
  {
   "cell_type": "code",
   "execution_count": 225,
   "outputs": [
    {
     "name": "stdout",
     "output_type": "stream",
     "text": [
      "[[ 919.85644994]\n",
      " [ 864.37216834]\n",
      " [ 672.5282116 ]\n",
      " ...\n",
      " [ 890.23348603]\n",
      " [ 955.12188317]\n",
      " [1004.0232839 ]]\n"
     ]
    },
    {
     "data": {
      "text/plain": "109.86365366038719"
     },
     "execution_count": 225,
     "metadata": {},
     "output_type": "execute_result"
    }
   ],
   "source": [
    "print(p2_prediction)\n",
    "mean_absolute_error(p2_ata_num, p2_prediction)"
   ],
   "metadata": {
    "collapsed": false,
    "pycharm": {
     "name": "#%%\n"
    }
   }
  },
  {
   "cell_type": "code",
   "execution_count": 226,
   "outputs": [
    {
     "data": {
      "text/plain": "array([[<AxesSubplot: title={'center': 'Column_A'}>]], dtype=object)"
     },
     "execution_count": 226,
     "metadata": {},
     "output_type": "execute_result"
    },
    {
     "data": {
      "text/plain": "<Figure size 640x480 with 1 Axes>",
      "image/png": "[encoded data removed]"
     },
     "metadata": {},
     "output_type": "display_data"
    }
   ],
   "source": [
    "df_p2 = pd.DataFrame((p2_eta_num - p2_ata_num), columns=['Column_A'])\n",
    "df_p2.hist(bins=500)"
   ],
   "metadata": {
    "collapsed": false,
    "pycharm": {
     "name": "#%%\n"
    }
   }
  },
  {
   "cell_type": "code",
   "execution_count": 227,
   "outputs": [
    {
     "data": {
      "text/plain": "array([[<AxesSubplot: title={'center': 'Column_A'}>]], dtype=object)"
     },
     "execution_count": 227,
     "metadata": {},
     "output_type": "execute_result"
    },
    {
     "data": {
      "text/plain": "<Figure size 640x480 with 1 Axes>",
      "image/png": "[encoded data removed]"
     },
     "metadata": {},
     "output_type": "display_data"
    }
   ],
   "source": [
    "df_pre_p2 = pd.DataFrame((p2_prediction - p2_ata_num), columns=['Column_A'])\n",
    "df_pre_p2.hist(bins=500)"
   ],
   "metadata": {
    "collapsed": false,
    "pycharm": {
     "name": "#%%\n"
    }
   }
  },
  {
   "cell_type": "code",
   "execution_count": 234,
   "outputs": [
    {
     "name": "stdout",
     "output_type": "stream",
     "text": [
      "-0.4108326796983546\n",
      "0.3477085052826363\n"
     ]
    }
   ],
   "source": [
    "print(r2_score(p2_ata_num, p2_eta_num))\n",
    "print(r2_score(p2_ata_num, p2_prediction))"
   ],
   "metadata": {
    "collapsed": false,
    "pycharm": {
     "name": "#%%\n"
    }
   }
  },
  {
   "cell_type": "code",
   "execution_count": 235,
   "outputs": [
    {
     "name": "stdout",
     "output_type": "stream",
     "text": [
      "31031.5515445151\n",
      "18507.241534447523\n"
     ]
    }
   ],
   "source": [
    "print(np.var((p2_eta_num - p2_ata_num)))\n",
    "print(np.var((p2_prediction - p2_ata_num)))"
   ],
   "metadata": {
    "collapsed": false,
    "pycharm": {
     "name": "#%%\n"
    }
   }
  },
  {
   "cell_type": "code",
   "execution_count": 237,
   "outputs": [],
   "source": [
    "# under_200_index = ((p1_eta_num - p1_ata_num) < 200) & ((p1_eta_num - p1_ata_num) > -200)\n",
    "# p1_eta_under_200 = p1_eta_num[under_200_index]\n",
    "# p1_ata_num_under_200 = p1_ata_num[under_200_index]\n",
    "# p1_prediction_under_200 = p1_prediction[under_200_index]\n",
    "# p1_prediction_under_200.shape\n",
    "# (p1_eta_num - p1_ata_num).shape\n",
    "# mean_absolute_error(p1_ata_num_under_200, p1_eta_under_200)\n",
    "# mean_absolute_error(p1_prediction_under_200, p1_eta_under_200)\n",
    "# under_p_200_index = ((p1_prediction - p1_ata_num) < 200) & ((p1_prediction - p1_ata_num) > -200)\n",
    "# p1_eta_under_p_200 = p1_eta_num[under_p_200_index]\n",
    "# p1_ata_num_under_p_200 = p1_ata_num[under_p_200_index]\n",
    "# p1_prediction_under_p_200 = p1_prediction[under_p_200_index]\n",
    "# mean_absolute_error(p1_ata_num_under_p_200, p1_eta_under_p_200)\n",
    "# mean_absolute_error(p1_prediction_under_p_200, p1_eta_under_p_200)"
   ],
   "metadata": {
    "collapsed": false,
    "pycharm": {
     "name": "#%%\n"
    }
   }
  },
  {
   "cell_type": "code",
   "execution_count": 238,
   "outputs": [
    {
     "data": {
      "text/plain": "       eta  ata  a_t_a_result.ride_a_t_a  source_lat  source_lng  \\\n1      238  423                      365   35.744210   51.140186   \n2      474  297                      518   35.560932   51.252415   \n3      589  531                      544   35.786938   51.374763   \n7      171  168                      288   35.759277   52.781403   \n9      263  748                      564   35.723510   51.335050   \n...    ...  ...                      ...         ...         ...   \n15050  497  408                      588   35.802494   51.447010   \n15051  224  186                      217   35.758090   51.289840   \n15052  549  528                      618   35.711430   51.344887   \n15055  364  263                      360   35.788994   51.370846   \n15059  511  738                      599   35.701633   51.377520   \n\n       destination_lat  destination_lng  e_d_d  \n1            35.753910        51.145374  1.591  \n2            35.543705        51.268753  5.655  \n3            35.782070        51.354286  4.008  \n7            35.758213        52.772823  1.195  \n9            35.729170        51.328740  1.464  \n...                ...              ...    ...  \n15050        35.794760        51.455900  2.385  \n15051        35.768238        51.291153  1.252  \n15052        35.692715        51.361830  3.692  \n15055        35.790504        51.360767  2.103  \n15059        35.695020        51.397842  3.185  \n\n[5597 rows x 8 columns]",
      "text/html": "<div>\n<style scoped>\n    .dataframe tbody tr th:only-of-type {\n        vertical-align: middle;\n    }\n\n    .dataframe tbody tr th {\n        vertical-align: top;\n    }\n\n    .dataframe thead th {\n        text-align: right;\n    }\n</style>\n<table border=\"1\" class=\"dataframe\">\n  <thead>\n    <tr style=\"text-align: right;\">\n      <th></th>\n      <th>eta</th>\n      <th>ata</th>\n      <th>a_t_a_result.ride_a_t_a</th>\n      <th>source_lat</th>\n      <th>source_lng</th>\n      <th>destination_lat</th>\n      <th>destination_lng</th>\n      <th>e_d_d</th>\n    </tr>\n  </thead>\n  <tbody>\n    <tr>\n      <th>1</th>\n      <td>238</td>\n      <td>423</td>\n      <td>365</td>\n      <td>35.744210</td>\n      <td>51.140186</td>\n      <td>35.753910</td>\n      <td>51.145374</td>\n      <td>1.591</td>\n    </tr>\n    <tr>\n      <th>2</th>\n      <td>474</td>\n      <td>297</td>\n      <td>518</td>\n      <td>35.560932</td>\n      <td>51.252415</td>\n      <td>35.543705</td>\n      <td>51.268753</td>\n      <td>5.655</td>\n    </tr>\n    <tr>\n      <th>3</th>\n      <td>589</td>\n      <td>531</td>\n      <td>544</td>\n      <td>35.786938</td>\n      <td>51.374763</td>\n      <td>35.782070</td>\n      <td>51.354286</td>\n      <td>4.008</td>\n    </tr>\n    <tr>\n      <th>7</th>\n      <td>171</td>\n      <td>168</td>\n      <td>288</td>\n      <td>35.759277</td>\n      <td>52.781403</td>\n      <td>35.758213</td>\n      <td>52.772823</td>\n      <td>1.195</td>\n    </tr>\n    <tr>\n      <th>9</th>\n      <td>263</td>\n      <td>748</td>\n      <td>564</td>\n      <td>35.723510</td>\n      <td>51.335050</td>\n      <td>35.729170</td>\n      <td>51.328740</td>\n      <td>1.464</td>\n    </tr>\n    <tr>\n      <th>...</th>\n      <td>...</td>\n      <td>...</td>\n      <td>...</td>\n      <td>...</td>\n      <td>...</td>\n      <td>...</td>\n      <td>...</td>\n      <td>...</td>\n    </tr>\n    <tr>\n      <th>15050</th>\n      <td>497</td>\n      <td>408</td>\n      <td>588</td>\n      <td>35.802494</td>\n      <td>51.447010</td>\n      <td>35.794760</td>\n      <td>51.455900</td>\n      <td>2.385</td>\n    </tr>\n    <tr>\n      <th>15051</th>\n      <td>224</td>\n      <td>186</td>\n      <td>217</td>\n      <td>35.758090</td>\n      <td>51.289840</td>\n      <td>35.768238</td>\n      <td>51.291153</td>\n      <td>1.252</td>\n    </tr>\n    <tr>\n      <th>15052</th>\n      <td>549</td>\n      <td>528</td>\n      <td>618</td>\n      <td>35.711430</td>\n      <td>51.344887</td>\n      <td>35.692715</td>\n      <td>51.361830</td>\n      <td>3.692</td>\n    </tr>\n    <tr>\n      <th>15055</th>\n      <td>364</td>\n      <td>263</td>\n      <td>360</td>\n      <td>35.788994</td>\n      <td>51.370846</td>\n      <td>35.790504</td>\n      <td>51.360767</td>\n      <td>2.103</td>\n    </tr>\n    <tr>\n      <th>15059</th>\n      <td>511</td>\n      <td>738</td>\n      <td>599</td>\n      <td>35.701633</td>\n      <td>51.377520</td>\n      <td>35.695020</td>\n      <td>51.397842</td>\n      <td>3.185</td>\n    </tr>\n  </tbody>\n</table>\n<p>5597 rows × 8 columns</p>\n</div>"
     },
     "execution_count": 238,
     "metadata": {},
     "output_type": "execute_result"
    }
   ],
   "source": [
    "g_p1_eta = g[g['eta'] <= 600]\n",
    "g_p1_eta"
   ],
   "metadata": {
    "collapsed": false,
    "pycharm": {
     "name": "#%%\n"
    }
   }
  },
  {
   "cell_type": "code",
   "execution_count": 240,
   "outputs": [
    {
     "data": {
      "text/plain": "5597"
     },
     "execution_count": 240,
     "metadata": {},
     "output_type": "execute_result"
    }
   ],
   "source": [
    "p1_eta_num_e = g_p1_eta[\"eta\"].to_numpy().reshape(-1, 1)\n",
    "p1_ata_num_e = g_p1_eta[\"a_t_a_result.ride_a_t_a\"].to_numpy().reshape(-1, 1)\n",
    "reg_p1_eta = LinearRegression().fit(p1_eta_num_e, p1_ata_num_e)\n",
    "len(p1_eta_num_e)"
   ],
   "metadata": {
    "collapsed": false,
    "pycharm": {
     "name": "#%%\n"
    }
   }
  },
  {
   "cell_type": "code",
   "execution_count": 243,
   "outputs": [
    {
     "data": {
      "text/plain": "array([[291.83088702],\n       [531.30842038],\n       [648.00298112],\n       [223.8436212 ],\n       [317.19926979],\n       [422.73174212],\n       [223.8436212 ],\n       [618.57565711]])"
     },
     "execution_count": 243,
     "metadata": {},
     "output_type": "execute_result"
    }
   ],
   "source": [
    "reg_p1_eta.predict(np.array([238,\n",
    "474,\n",
    "589,\n",
    "171,\n",
    "263,\n",
    "367,\n",
    "171,\n",
    "560]).reshape(-1, 1))\n"
   ],
   "metadata": {
    "collapsed": false,
    "pycharm": {
     "name": "#%%\n"
    }
   }
  },
  {
   "cell_type": "code",
   "execution_count": 244,
   "outputs": [
    {
     "name": "stdout",
     "output_type": "stream",
     "text": [
      "[[1.01473531]]\n",
      "[50.32388305]\n"
     ]
    }
   ],
   "source": [
    "print(reg_p1_eta.coef_)\n",
    "print(reg_p1_eta.intercept_)"
   ],
   "metadata": {
    "collapsed": false,
    "pycharm": {
     "name": "#%%\n"
    }
   }
  },
  {
   "cell_type": "code",
   "execution_count": 242,
   "outputs": [
    {
     "data": {
      "text/plain": "array([[291.83088702],\n       [531.30842038],\n       [648.00298112],\n       ...,\n       [607.41356869],\n       [419.68753619],\n       [568.85362688]])"
     },
     "execution_count": 242,
     "metadata": {},
     "output_type": "execute_result"
    }
   ],
   "source": [
    "p1_prediction_eta = reg_p1_eta.predict(p1_eta_num_e).reshape(-1, 1)\n",
    "p1_prediction_eta"
   ],
   "metadata": {
    "collapsed": false,
    "pycharm": {
     "name": "#%%\n"
    }
   }
  },
  {
   "cell_type": "code",
   "execution_count": 245,
   "outputs": [
    {
     "name": "stdout",
     "output_type": "stream",
     "text": [
      "101.94407718420582\n",
      "101.31225938539757\n"
     ]
    }
   ],
   "source": [
    "print(mean_absolute_error(p1_ata_num_e, p1_eta_num_e))\n",
    "print(mean_absolute_error(p1_ata_num_e, p1_prediction_eta))"
   ],
   "metadata": {
    "collapsed": false,
    "pycharm": {
     "name": "#%%\n"
    }
   }
  },
  {
   "cell_type": "code",
   "execution_count": 246,
   "outputs": [
    {
     "data": {
      "text/plain": "array([[<AxesSubplot: title={'center': 'Column_A'}>]], dtype=object)"
     },
     "execution_count": 246,
     "metadata": {},
     "output_type": "execute_result"
    },
    {
     "data": {
      "text/plain": "<Figure size 640x480 with 1 Axes>",
      "image/png": "[encoded data removed]"
     },
     "metadata": {},
     "output_type": "display_data"
    }
   ],
   "source": [
    "df = pd.DataFrame((p1_eta_num_e - p1_ata_num_e), columns=['Column_A'])\n",
    "df.hist(bins=500)"
   ],
   "metadata": {
    "collapsed": false,
    "pycharm": {
     "name": "#%%\n"
    }
   }
  },
  {
   "cell_type": "code",
   "execution_count": 247,
   "outputs": [
    {
     "data": {
      "text/plain": "array([[<AxesSubplot: title={'center': 'Column_A'}>]], dtype=object)"
     },
     "execution_count": 247,
     "metadata": {},
     "output_type": "execute_result"
    },
    {
     "data": {
      "text/plain": "<Figure size 640x480 with 1 Axes>",
      "image/png": "[encoded data removed]"
     },
     "metadata": {},
     "output_type": "display_data"
    }
   ],
   "source": [
    "df_pre = pd.DataFrame((p1_prediction_eta - p1_ata_num_e), columns=['Column_A'])\n",
    "df_pre.hist(bins=500)"
   ],
   "metadata": {
    "collapsed": false,
    "pycharm": {
     "name": "#%%\n"
    }
   }
  },
  {
   "cell_type": "code",
   "execution_count": 248,
   "outputs": [
    {
     "name": "stdout",
     "output_type": "stream",
     "text": [
      "0.37656266612670275\n",
      "0.4561389560340441\n"
     ]
    }
   ],
   "source": [
    "print(r2_score(p1_ata_num_e, p1_eta_num_e))\n",
    "print(r2_score(p1_ata_num_e, p1_prediction_eta))"
   ],
   "metadata": {
    "collapsed": false,
    "pycharm": {
     "name": "#%%\n"
    }
   }
  },
  {
   "cell_type": "code",
   "execution_count": 249,
   "outputs": [
    {
     "name": "stdout",
     "output_type": "stream",
     "text": [
      "21346.760554329736\n",
      "21342.985897751096\n"
     ]
    }
   ],
   "source": [
    "print(np.var((p1_eta_num_e - p1_ata_num_e)))\n",
    "print(np.var((p1_prediction_eta - p1_ata_num_e)))"
   ],
   "metadata": {
    "collapsed": false,
    "pycharm": {
     "name": "#%%\n"
    }
   }
  },
  {
   "cell_type": "code",
   "execution_count": 250,
   "outputs": [],
   "source": [
    "# under_200_index = ((p1_eta_num - p1_ata_num) < 200) & ((p1_eta_num - p1_ata_num) > -200)\n",
    "# p1_eta_under_200 = p1_eta_num[under_200_index]\n",
    "# p1_ata_num_under_200 = p1_ata_num[under_200_index]\n",
    "# p1_prediction_under_200 = p1_prediction[under_200_index]\n",
    "# p1_prediction_under_200.shape\n",
    "# (p1_eta_num - p1_ata_num).shape\n",
    "# mean_absolute_error(p1_ata_num_under_200, p1_eta_under_200)\n",
    "# mean_absolute_error(p1_prediction_under_200, p1_eta_under_200)\n",
    "# under_p_200_index = ((p1_prediction - p1_ata_num) < 200) & ((p1_prediction - p1_ata_num) > -200)\n",
    "# p1_eta_under_p_200 = p1_eta_num[under_p_200_index]\n",
    "# p1_ata_num_under_p_200 = p1_ata_num[under_p_200_index]\n",
    "# p1_prediction_under_p_200 = p1_prediction[under_p_200_index]\n",
    "# mean_absolute_error(p1_ata_num_under_p_200, p1_eta_under_p_200)\n",
    "# mean_absolute_error(p1_prediction_under_p_200, p1_eta_under_p_200)"
   ],
   "metadata": {
    "collapsed": false,
    "pycharm": {
     "name": "#%%\n"
    }
   }
  },
  {
   "cell_type": "code",
   "execution_count": 252,
   "outputs": [
    {
     "data": {
      "text/plain": "        eta   ata  a_t_a_result.ride_a_t_a  source_lat  source_lng  \\\n0       893  1034                     1011   35.637950   51.393005   \n5       775   733                      704   35.724785   51.527237   \n22      750   869                      848   35.637566   51.409330   \n23      867   782                      728   35.731450   51.375084   \n31      936  1133                     1139   35.726230   51.390118   \n...     ...   ...                      ...         ...         ...   \n15047   767   822                      768   35.487140   51.055576   \n15053   880   894                      876   35.515156   50.932438   \n15056   830  1048                     1020   35.697853   51.385170   \n15057   968   722                      714   35.758770   51.315450   \n15058  1072  1061                     1015   35.726765   51.378155   \n\n       destination_lat  destination_lng   e_d_d  \n0            35.613758        51.440968   7.503  \n5            35.753140        51.514698   8.049  \n22           35.630497        51.375670   4.085  \n23           35.718678        51.397945   4.882  \n31           35.736538        51.336100   6.785  \n...                ...              ...     ...  \n15047        35.467857        50.976063  10.083  \n15053        35.479990        50.967420   6.685  \n15056        35.667183        51.388470   5.313  \n15057        35.752953        51.374073  10.613  \n15058        35.766630        51.398106   7.722  \n\n[4420 rows x 8 columns]",
      "text/html": "<div>\n<style scoped>\n    .dataframe tbody tr th:only-of-type {\n        vertical-align: middle;\n    }\n\n    .dataframe tbody tr th {\n        vertical-align: top;\n    }\n\n    .dataframe thead th {\n        text-align: right;\n    }\n</style>\n<table border=\"1\" class=\"dataframe\">\n  <thead>\n    <tr style=\"text-align: right;\">\n      <th></th>\n      <th>eta</th>\n      <th>ata</th>\n      <th>a_t_a_result.ride_a_t_a</th>\n      <th>source_lat</th>\n      <th>source_lng</th>\n      <th>destination_lat</th>\n      <th>destination_lng</th>\n      <th>e_d_d</th>\n    </tr>\n  </thead>\n  <tbody>\n    <tr>\n      <th>0</th>\n      <td>893</td>\n      <td>1034</td>\n      <td>1011</td>\n      <td>35.637950</td>\n      <td>51.393005</td>\n      <td>35.613758</td>\n      <td>51.440968</td>\n      <td>7.503</td>\n    </tr>\n    <tr>\n      <th>5</th>\n      <td>775</td>\n      <td>733</td>\n      <td>704</td>\n      <td>35.724785</td>\n      <td>51.527237</td>\n      <td>35.753140</td>\n      <td>51.514698</td>\n      <td>8.049</td>\n    </tr>\n    <tr>\n      <th>22</th>\n      <td>750</td>\n      <td>869</td>\n      <td>848</td>\n      <td>35.637566</td>\n      <td>51.409330</td>\n      <td>35.630497</td>\n      <td>51.375670</td>\n      <td>4.085</td>\n    </tr>\n    <tr>\n      <th>23</th>\n      <td>867</td>\n      <td>782</td>\n      <td>728</td>\n      <td>35.731450</td>\n      <td>51.375084</td>\n      <td>35.718678</td>\n      <td>51.397945</td>\n      <td>4.882</td>\n    </tr>\n    <tr>\n      <th>31</th>\n      <td>936</td>\n      <td>1133</td>\n      <td>1139</td>\n      <td>35.726230</td>\n      <td>51.390118</td>\n      <td>35.736538</td>\n      <td>51.336100</td>\n      <td>6.785</td>\n    </tr>\n    <tr>\n      <th>...</th>\n      <td>...</td>\n      <td>...</td>\n      <td>...</td>\n      <td>...</td>\n      <td>...</td>\n      <td>...</td>\n      <td>...</td>\n      <td>...</td>\n    </tr>\n    <tr>\n      <th>15047</th>\n      <td>767</td>\n      <td>822</td>\n      <td>768</td>\n      <td>35.487140</td>\n      <td>51.055576</td>\n      <td>35.467857</td>\n      <td>50.976063</td>\n      <td>10.083</td>\n    </tr>\n    <tr>\n      <th>15053</th>\n      <td>880</td>\n      <td>894</td>\n      <td>876</td>\n      <td>35.515156</td>\n      <td>50.932438</td>\n      <td>35.479990</td>\n      <td>50.967420</td>\n      <td>6.685</td>\n    </tr>\n    <tr>\n      <th>15056</th>\n      <td>830</td>\n      <td>1048</td>\n      <td>1020</td>\n      <td>35.697853</td>\n      <td>51.385170</td>\n      <td>35.667183</td>\n      <td>51.388470</td>\n      <td>5.313</td>\n    </tr>\n    <tr>\n      <th>15057</th>\n      <td>968</td>\n      <td>722</td>\n      <td>714</td>\n      <td>35.758770</td>\n      <td>51.315450</td>\n      <td>35.752953</td>\n      <td>51.374073</td>\n      <td>10.613</td>\n    </tr>\n    <tr>\n      <th>15058</th>\n      <td>1072</td>\n      <td>1061</td>\n      <td>1015</td>\n      <td>35.726765</td>\n      <td>51.378155</td>\n      <td>35.766630</td>\n      <td>51.398106</td>\n      <td>7.722</td>\n    </tr>\n  </tbody>\n</table>\n<p>4420 rows × 8 columns</p>\n</div>"
     },
     "execution_count": 252,
     "metadata": {},
     "output_type": "execute_result"
    }
   ],
   "source": [
    "g_p2_eta = g[(g['eta'] > 600) & (g['eta'] <= 1200)]\n",
    "g_p2_eta"
   ],
   "metadata": {
    "collapsed": false,
    "pycharm": {
     "name": "#%%\n"
    }
   }
  },
  {
   "cell_type": "code",
   "execution_count": 253,
   "outputs": [
    {
     "data": {
      "text/plain": "4420"
     },
     "execution_count": 253,
     "metadata": {},
     "output_type": "execute_result"
    }
   ],
   "source": [
    "p2_eta_num_e = g_p2_eta[\"eta\"].to_numpy().reshape(-1, 1)\n",
    "p2_ata_num_e = g_p2_eta[\"a_t_a_result.ride_a_t_a\"].to_numpy().reshape(-1, 1)\n",
    "reg_p2_eta = LinearRegression().fit(p2_eta_num_e, p2_ata_num_e)\n",
    "len(p2_eta_num_e)"
   ],
   "metadata": {
    "collapsed": false,
    "pycharm": {
     "name": "#%%\n"
    }
   }
  },
  {
   "cell_type": "code",
   "execution_count": 256,
   "outputs": [
    {
     "data": {
      "text/plain": "array([[1037.61685233],\n       [ 887.06567429],\n       [ 855.16923826],\n       [1004.44455887],\n       [1092.4787223 ],\n       [1149.89230715],\n       [ 934.27239961],\n       [1354.02949772]])"
     },
     "execution_count": 256,
     "metadata": {},
     "output_type": "execute_result"
    }
   ],
   "source": [
    "reg_p2_eta.predict(np.array([893,\n",
    "775,\n",
    "750,\n",
    "867,\n",
    "936,\n",
    "981,\n",
    "812,\n",
    "1141]).reshape(-1, 1))"
   ],
   "metadata": {
    "collapsed": false,
    "pycharm": {
     "name": "#%%\n"
    }
   }
  },
  {
   "cell_type": "code",
   "execution_count": 257,
   "outputs": [
    {
     "name": "stdout",
     "output_type": "stream",
     "text": [
      "[[1.27585744]]\n",
      "[-101.72384253]\n"
     ]
    }
   ],
   "source": [
    "print(reg_p2_eta.coef_)\n",
    "print(reg_p2_eta.intercept_)"
   ],
   "metadata": {
    "collapsed": false,
    "pycharm": {
     "name": "#%%\n"
    }
   }
  },
  {
   "cell_type": "code",
   "execution_count": 258,
   "outputs": [
    {
     "data": {
      "text/plain": "array([[1037.61685233],\n       [ 887.06567429],\n       [ 855.16923826],\n       ...,\n       [ 957.23783355],\n       [1133.30616041],\n       [1265.99533428]])"
     },
     "execution_count": 258,
     "metadata": {},
     "output_type": "execute_result"
    }
   ],
   "source": [
    "p2_prediction_eta = reg_p2_eta.predict(p2_eta_num_e).reshape(-1, 1)\n",
    "p2_prediction_eta"
   ],
   "metadata": {
    "collapsed": false,
    "pycharm": {
     "name": "#%%\n"
    }
   }
  },
  {
   "cell_type": "code",
   "execution_count": 259,
   "outputs": [
    {
     "name": "stdout",
     "output_type": "stream",
     "text": [
      "195.86108597285067\n",
      "179.20731266203256\n"
     ]
    }
   ],
   "source": [
    "print(mean_absolute_error(p2_ata_num_e, p2_eta_num_e))\n",
    "print(mean_absolute_error(p2_ata_num_e, p2_prediction_eta))"
   ],
   "metadata": {
    "collapsed": false,
    "pycharm": {
     "name": "#%%\n"
    }
   }
  },
  {
   "cell_type": "code",
   "execution_count": 260,
   "outputs": [
    {
     "data": {
      "text/plain": "array([[<AxesSubplot: title={'center': 'Column_A'}>]], dtype=object)"
     },
     "execution_count": 260,
     "metadata": {},
     "output_type": "execute_result"
    },
    {
     "data": {
      "text/plain": "<Figure size 640x480 with 1 Axes>",
      "image/png": "[encoded data removed]"
     },
     "metadata": {},
     "output_type": "display_data"
    }
   ],
   "source": [
    "df_p2_eta = pd.DataFrame((p2_eta_num_e - p2_ata_num_e), columns=['Column_A'])\n",
    "df_p2_eta.hist(bins=500)"
   ],
   "metadata": {
    "collapsed": false,
    "pycharm": {
     "name": "#%%\n"
    }
   }
  },
  {
   "cell_type": "code",
   "execution_count": 261,
   "outputs": [
    {
     "data": {
      "text/plain": "array([[<AxesSubplot: title={'center': 'Column_A'}>]], dtype=object)"
     },
     "execution_count": 261,
     "metadata": {},
     "output_type": "execute_result"
    },
    {
     "data": {
      "text/plain": "<Figure size 640x480 with 1 Axes>",
      "image/png": "[encoded data removed]"
     },
     "metadata": {},
     "output_type": "display_data"
    }
   ],
   "source": [
    "df_pre_p2_eta = pd.DataFrame((p2_prediction_eta - p2_ata_num_e), columns=['Column_A'])\n",
    "df_pre_p2_eta.hist(bins=500)"
   ],
   "metadata": {
    "collapsed": false,
    "pycharm": {
     "name": "#%%\n"
    }
   }
  },
  {
   "cell_type": "code",
   "execution_count": 262,
   "outputs": [
    {
     "name": "stdout",
     "output_type": "stream",
     "text": [
      "0.24749875310535485\n",
      "0.4389283015619243\n",
      "60663.33928134149\n",
      "58523.07471287895\n"
     ]
    }
   ],
   "source": [
    "print(r2_score(p2_ata_num_e, p2_eta_num_e))\n",
    "print(r2_score(p2_ata_num_e, p2_prediction_eta))\n",
    "print(np.var((p2_eta_num_e - p2_ata_num_e)))\n",
    "print(np.var((p2_prediction_eta - p2_ata_num_e)))"
   ],
   "metadata": {
    "collapsed": false,
    "pycharm": {
     "name": "#%%\n"
    }
   }
  },
  {
   "cell_type": "code",
   "execution_count": null,
   "outputs": [],
   "source": [],
   "metadata": {
    "collapsed": false,
    "pycharm": {
     "name": "#%%\n"
    }
   }
  }
 ],
 "metadata": {
  "kernelspec": {
   "display_name": "Python 3",
   "language": "python",
   "name": "python3"
  },
  "language_info": {
   "codemirror_mode": {
    "name": "ipython",
    "version": 2
   },
   "file_extension": ".py",
   "mimetype": "text/x-python",
   "name": "python",
   "nbconvert_exporter": "python",
   "pygments_lexer": "ipython2",
   "version": "2.7.6"
  }
 },
 "nbformat": 4,
 "nbformat_minor": 0
}