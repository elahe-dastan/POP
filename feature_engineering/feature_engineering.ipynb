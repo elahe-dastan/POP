{
 "cells": [
  {
   "cell_type": "code",
   "execution_count": 93,
   "outputs": [],
   "source": [
    "import pandas as pd\n",
    "import numpy as np"
   ],
   "metadata": {
    "collapsed": false,
    "pycharm": {
     "name": "#%%\n"
    }
   }
  },
  {
   "cell_type": "code",
   "execution_count": 94,
   "outputs": [
    {
     "data": {
      "text/plain": "       accepted_driver_id  passenger_id    source_lat    source_lng  \\\ncount        2.426000e+04  2.426000e+04  24260.000000  24260.000000   \nmean         2.010495e+06  2.376807e+07     35.693980     51.401119   \nstd          1.440427e+06  1.800928e+07      0.096191      0.143753   \nmin          1.010000e+02  1.375000e+03     35.249897     50.903470   \n25%          5.573940e+05  5.043194e+06     35.663319     51.331473   \n50%          1.992264e+06  2.400925e+07     35.723982     51.404408   \n75%          3.323714e+06  3.831664e+07     35.755246     51.465694   \nmax          4.346548e+06  5.750996e+07     35.839420     52.794230   \n\n       destination_lat  destination_lng           eta           ata  \\\ncount     24260.000000     24260.000000  24260.000000  24260.000000   \nmean         35.694668        51.397562   1003.226051   1236.469992   \nstd           0.095899         0.152071    725.298062   1034.221594   \nmin          34.636840        50.016300     24.000000    120.000000   \n25%          35.661003        51.330028    464.000000    504.000000   \n50%          35.723633        51.401817    799.000000    905.000000   \n75%          35.754699        51.470322   1347.000000   1650.000000   \nmax          36.259760        52.792877   7794.000000   9088.000000   \n\n                 id     city  \ncount  2.426000e+04  24260.0  \nmean   4.956898e+09      1.0  \nstd    3.405802e+05      0.0  \nmin    4.956287e+09      1.0  \n25%    4.956594e+09      1.0  \n50%    4.956982e+09      1.0  \n75%    4.957167e+09      1.0  \nmax    4.957626e+09      1.0  ",
      "text/html": "<div>\n<style scoped>\n    .dataframe tbody tr th:only-of-type {\n        vertical-align: middle;\n    }\n\n    .dataframe tbody tr th {\n        vertical-align: top;\n    }\n\n    .dataframe thead th {\n        text-align: right;\n    }\n</style>\n<table border=\"1\" class=\"dataframe\">\n  <thead>\n    <tr style=\"text-align: right;\">\n      <th></th>\n      <th>accepted_driver_id</th>\n      <th>passenger_id</th>\n      <th>source_lat</th>\n      <th>source_lng</th>\n      <th>destination_lat</th>\n      <th>destination_lng</th>\n      <th>eta</th>\n      <th>ata</th>\n      <th>id</th>\n      <th>city</th>\n    </tr>\n  </thead>\n  <tbody>\n    <tr>\n      <th>count</th>\n      <td>2.426000e+04</td>\n      <td>2.426000e+04</td>\n      <td>24260.000000</td>\n      <td>24260.000000</td>\n      <td>24260.000000</td>\n      <td>24260.000000</td>\n      <td>24260.000000</td>\n      <td>24260.000000</td>\n      <td>2.426000e+04</td>\n      <td>24260.0</td>\n    </tr>\n    <tr>\n      <th>mean</th>\n      <td>2.010495e+06</td>\n      <td>2.376807e+07</td>\n      <td>35.693980</td>\n      <td>51.401119</td>\n      <td>35.694668</td>\n      <td>51.397562</td>\n      <td>1003.226051</td>\n      <td>1236.469992</td>\n      <td>4.956898e+09</td>\n      <td>1.0</td>\n    </tr>\n    <tr>\n      <th>std</th>\n      <td>1.440427e+06</td>\n      <td>1.800928e+07</td>\n      <td>0.096191</td>\n      <td>0.143753</td>\n      <td>0.095899</td>\n      <td>0.152071</td>\n      <td>725.298062</td>\n      <td>1034.221594</td>\n      <td>3.405802e+05</td>\n      <td>0.0</td>\n    </tr>\n    <tr>\n      <th>min</th>\n      <td>1.010000e+02</td>\n      <td>1.375000e+03</td>\n      <td>35.249897</td>\n      <td>50.903470</td>\n      <td>34.636840</td>\n      <td>50.016300</td>\n      <td>24.000000</td>\n      <td>120.000000</td>\n      <td>4.956287e+09</td>\n      <td>1.0</td>\n    </tr>\n    <tr>\n      <th>25%</th>\n      <td>5.573940e+05</td>\n      <td>5.043194e+06</td>\n      <td>35.663319</td>\n      <td>51.331473</td>\n      <td>35.661003</td>\n      <td>51.330028</td>\n      <td>464.000000</td>\n      <td>504.000000</td>\n      <td>4.956594e+09</td>\n      <td>1.0</td>\n    </tr>\n    <tr>\n      <th>50%</th>\n      <td>1.992264e+06</td>\n      <td>2.400925e+07</td>\n      <td>35.723982</td>\n      <td>51.404408</td>\n      <td>35.723633</td>\n      <td>51.401817</td>\n      <td>799.000000</td>\n      <td>905.000000</td>\n      <td>4.956982e+09</td>\n      <td>1.0</td>\n    </tr>\n    <tr>\n      <th>75%</th>\n      <td>3.323714e+06</td>\n      <td>3.831664e+07</td>\n      <td>35.755246</td>\n      <td>51.465694</td>\n      <td>35.754699</td>\n      <td>51.470322</td>\n      <td>1347.000000</td>\n      <td>1650.000000</td>\n      <td>4.957167e+09</td>\n      <td>1.0</td>\n    </tr>\n    <tr>\n      <th>max</th>\n      <td>4.346548e+06</td>\n      <td>5.750996e+07</td>\n      <td>35.839420</td>\n      <td>52.794230</td>\n      <td>36.259760</td>\n      <td>52.792877</td>\n      <td>7794.000000</td>\n      <td>9088.000000</td>\n      <td>4.957626e+09</td>\n      <td>1.0</td>\n    </tr>\n  </tbody>\n</table>\n</div>"
     },
     "execution_count": 94,
     "metadata": {},
     "output_type": "execute_result"
    }
   ],
   "source": [
    "rides = pd.read_csv(\"../big_query_24.csv\")\n",
    "rides.describe()"
   ],
   "metadata": {
    "collapsed": false,
    "pycharm": {
     "name": "#%%\n"
    }
   }
  },
  {
   "cell_type": "code",
   "execution_count": 95,
   "outputs": [],
   "source": [
    "rides.rename(columns={'id': 'ride_id'}, inplace=True)"
   ],
   "metadata": {
    "collapsed": false,
    "pycharm": {
     "name": "#%%\n"
    }
   }
  },
  {
   "cell_type": "code",
   "execution_count": 96,
   "outputs": [
    {
     "data": {
      "text/plain": "         4956357421       2303267              0           471          3483  \\\ncount  5.028580e+05  5.028580e+05  502858.000000  5.028580e+05  5.028580e+05   \nmean   4.956607e+09  2.379702e+06     186.070811  2.013941e+16  7.155700e+07   \nstd    4.392598e+05  1.344871e+06     146.035207  6.091811e+17  2.135432e+09   \nmin    4.873587e+09  1.000000e+00       0.000000  0.000000e+00  1.000000e+00   \n25%    4.956373e+09  1.199125e+06      91.000000  8.000000e+00  4.020000e+02   \n50%    4.956612e+09  2.438834e+06     170.000000  3.600000e+01  6.840000e+02   \n75%    4.956863e+09  3.616538e+06     258.000000  1.240000e+02  1.172000e+03   \nmax    4.957263e+09  4.346386e+06    7954.000000  1.844674e+19  6.379876e+10   \n\n       35.75701904296875  51.15105056762695    1663159629            0.0  \\\ncount      502858.000000      502858.000000  5.028580e+05  502858.000000   \nmean           34.603112          51.913877  2.457816e+15       0.734052   \nstd             2.544450           3.538874  2.129148e+17       0.341655   \nmin            25.277332          44.829102  1.662865e+09       0.000000   \n25%            32.695421          50.836757  1.663160e+09       0.591716   \n50%            35.707090          51.409605  1.663161e+09       0.769231   \n75%            36.264671          52.524118  1.663163e+09       1.000000   \nmax            39.661167          61.168961  1.844674e+19       1.000000   \n\n                   4  ...          0.0.9         0.0.10  27.2189998626709  \\\ncount  502858.000000  ...  502858.000000  502858.000000     502858.000000   \nmean        1.158269  ...       0.000326       0.015392         13.564937   \nstd         1.439358  ...       0.015817       0.017221         17.250303   \nmin         0.000000  ...       0.000000       0.000000          0.000000   \n25%         0.000000  ...       0.000000       0.005714          4.603000   \n50%         1.000000  ...       0.000000       0.011905          8.623000   \n75%         2.000000  ...       0.000000       0.020833         16.327343   \nmax         4.000000  ...       1.000000       1.000000       1784.723999   \n\n                 0.5         0.0.11         0.0.12  0.44999998807907104  \\\ncount  502858.000000  502858.000000  502858.000000        502858.000000   \nmean        0.857178       0.000125       0.707577             0.867707   \nstd         0.189047       0.005345       0.344260             0.178897   \nmin         0.000000       0.000000       0.000000             0.000000   \n25%         0.750034       0.000000       0.482880             0.792336   \n50%         0.957293       0.000000       0.884615             0.957387   \n75%         1.000000       0.000000       0.975610             1.000000   \nmax         1.000000       1.000000       1.000000             1.000000   \n\n              0.0.13  22.547000885009766  8019372149383439335  \ncount  502858.000000       502858.000000         5.028580e+05  \nmean        0.046938            8.377759         9.240884e+18  \nstd         0.332769           12.547624         5.326131e+18  \nmin         0.000000            0.000000         4.062941e+13  \n25%         0.000000            2.784000         4.635696e+18  \n50%         0.000000            5.180000         9.246912e+18  \n75%         0.000000            9.833000         1.385219e+19  \nmax        34.022999         1741.516968         1.844670e+19  \n\n[8 rows x 42 columns]",
      "text/html": "<div>\n<style scoped>\n    .dataframe tbody tr th:only-of-type {\n        vertical-align: middle;\n    }\n\n    .dataframe tbody tr th {\n        vertical-align: top;\n    }\n\n    .dataframe thead th {\n        text-align: right;\n    }\n</style>\n<table border=\"1\" class=\"dataframe\">\n  <thead>\n    <tr style=\"text-align: right;\">\n      <th></th>\n      <th>4956357421</th>\n      <th>2303267</th>\n      <th>0</th>\n      <th>471</th>\n      <th>3483</th>\n      <th>35.75701904296875</th>\n      <th>51.15105056762695</th>\n      <th>1663159629</th>\n      <th>0.0</th>\n      <th>4</th>\n      <th>...</th>\n      <th>0.0.9</th>\n      <th>0.0.10</th>\n      <th>27.2189998626709</th>\n      <th>0.5</th>\n      <th>0.0.11</th>\n      <th>0.0.12</th>\n      <th>0.44999998807907104</th>\n      <th>0.0.13</th>\n      <th>22.547000885009766</th>\n      <th>8019372149383439335</th>\n    </tr>\n  </thead>\n  <tbody>\n    <tr>\n      <th>count</th>\n      <td>5.028580e+05</td>\n      <td>5.028580e+05</td>\n      <td>502858.000000</td>\n      <td>5.028580e+05</td>\n      <td>5.028580e+05</td>\n      <td>502858.000000</td>\n      <td>502858.000000</td>\n      <td>5.028580e+05</td>\n      <td>502858.000000</td>\n      <td>502858.000000</td>\n      <td>...</td>\n      <td>502858.000000</td>\n      <td>502858.000000</td>\n      <td>502858.000000</td>\n      <td>502858.000000</td>\n      <td>502858.000000</td>\n      <td>502858.000000</td>\n      <td>502858.000000</td>\n      <td>502858.000000</td>\n      <td>502858.000000</td>\n      <td>5.028580e+05</td>\n    </tr>\n    <tr>\n      <th>mean</th>\n      <td>4.956607e+09</td>\n      <td>2.379702e+06</td>\n      <td>186.070811</td>\n      <td>2.013941e+16</td>\n      <td>7.155700e+07</td>\n      <td>34.603112</td>\n      <td>51.913877</td>\n      <td>2.457816e+15</td>\n      <td>0.734052</td>\n      <td>1.158269</td>\n      <td>...</td>\n      <td>0.000326</td>\n      <td>0.015392</td>\n      <td>13.564937</td>\n      <td>0.857178</td>\n      <td>0.000125</td>\n      <td>0.707577</td>\n      <td>0.867707</td>\n      <td>0.046938</td>\n      <td>8.377759</td>\n      <td>9.240884e+18</td>\n    </tr>\n    <tr>\n      <th>std</th>\n      <td>4.392598e+05</td>\n      <td>1.344871e+06</td>\n      <td>146.035207</td>\n      <td>6.091811e+17</td>\n      <td>2.135432e+09</td>\n      <td>2.544450</td>\n      <td>3.538874</td>\n      <td>2.129148e+17</td>\n      <td>0.341655</td>\n      <td>1.439358</td>\n      <td>...</td>\n      <td>0.015817</td>\n      <td>0.017221</td>\n      <td>17.250303</td>\n      <td>0.189047</td>\n      <td>0.005345</td>\n      <td>0.344260</td>\n      <td>0.178897</td>\n      <td>0.332769</td>\n      <td>12.547624</td>\n      <td>5.326131e+18</td>\n    </tr>\n    <tr>\n      <th>min</th>\n      <td>4.873587e+09</td>\n      <td>1.000000e+00</td>\n      <td>0.000000</td>\n      <td>0.000000e+00</td>\n      <td>1.000000e+00</td>\n      <td>25.277332</td>\n      <td>44.829102</td>\n      <td>1.662865e+09</td>\n      <td>0.000000</td>\n      <td>0.000000</td>\n      <td>...</td>\n      <td>0.000000</td>\n      <td>0.000000</td>\n      <td>0.000000</td>\n      <td>0.000000</td>\n      <td>0.000000</td>\n      <td>0.000000</td>\n      <td>0.000000</td>\n      <td>0.000000</td>\n      <td>0.000000</td>\n      <td>4.062941e+13</td>\n    </tr>\n    <tr>\n      <th>25%</th>\n      <td>4.956373e+09</td>\n      <td>1.199125e+06</td>\n      <td>91.000000</td>\n      <td>8.000000e+00</td>\n      <td>4.020000e+02</td>\n      <td>32.695421</td>\n      <td>50.836757</td>\n      <td>1.663160e+09</td>\n      <td>0.591716</td>\n      <td>0.000000</td>\n      <td>...</td>\n      <td>0.000000</td>\n      <td>0.005714</td>\n      <td>4.603000</td>\n      <td>0.750034</td>\n      <td>0.000000</td>\n      <td>0.482880</td>\n      <td>0.792336</td>\n      <td>0.000000</td>\n      <td>2.784000</td>\n      <td>4.635696e+18</td>\n    </tr>\n    <tr>\n      <th>50%</th>\n      <td>4.956612e+09</td>\n      <td>2.438834e+06</td>\n      <td>170.000000</td>\n      <td>3.600000e+01</td>\n      <td>6.840000e+02</td>\n      <td>35.707090</td>\n      <td>51.409605</td>\n      <td>1.663161e+09</td>\n      <td>0.769231</td>\n      <td>1.000000</td>\n      <td>...</td>\n      <td>0.000000</td>\n      <td>0.011905</td>\n      <td>8.623000</td>\n      <td>0.957293</td>\n      <td>0.000000</td>\n      <td>0.884615</td>\n      <td>0.957387</td>\n      <td>0.000000</td>\n      <td>5.180000</td>\n      <td>9.246912e+18</td>\n    </tr>\n    <tr>\n      <th>75%</th>\n      <td>4.956863e+09</td>\n      <td>3.616538e+06</td>\n      <td>258.000000</td>\n      <td>1.240000e+02</td>\n      <td>1.172000e+03</td>\n      <td>36.264671</td>\n      <td>52.524118</td>\n      <td>1.663163e+09</td>\n      <td>1.000000</td>\n      <td>2.000000</td>\n      <td>...</td>\n      <td>0.000000</td>\n      <td>0.020833</td>\n      <td>16.327343</td>\n      <td>1.000000</td>\n      <td>0.000000</td>\n      <td>0.975610</td>\n      <td>1.000000</td>\n      <td>0.000000</td>\n      <td>9.833000</td>\n      <td>1.385219e+19</td>\n    </tr>\n    <tr>\n      <th>max</th>\n      <td>4.957263e+09</td>\n      <td>4.346386e+06</td>\n      <td>7954.000000</td>\n      <td>1.844674e+19</td>\n      <td>6.379876e+10</td>\n      <td>39.661167</td>\n      <td>61.168961</td>\n      <td>1.844674e+19</td>\n      <td>1.000000</td>\n      <td>4.000000</td>\n      <td>...</td>\n      <td>1.000000</td>\n      <td>1.000000</td>\n      <td>1784.723999</td>\n      <td>1.000000</td>\n      <td>1.000000</td>\n      <td>1.000000</td>\n      <td>1.000000</td>\n      <td>34.022999</td>\n      <td>1741.516968</td>\n      <td>1.844670e+19</td>\n    </tr>\n  </tbody>\n</table>\n<p>8 rows × 42 columns</p>\n</div>"
     },
     "execution_count": 96,
     "metadata": {},
     "output_type": "execute_result"
    }
   ],
   "source": [
    "khatkesh = pd.read_csv(\"../khatkesh.csv\")\n",
    "khatkesh.describe()"
   ],
   "metadata": {
    "collapsed": false,
    "pycharm": {
     "name": "#%%\n"
    }
   }
  },
  {
   "cell_type": "code",
   "execution_count": 97,
   "outputs": [
    {
     "ename": "KeyError",
     "evalue": "'ride_id'",
     "output_type": "error",
     "traceback": [
      "\u001B[0;31m---------------------------------------------------------------------------\u001B[0m",
      "\u001B[0;31mKeyError\u001B[0m                                  Traceback (most recent call last)",
      "Cell \u001B[0;32mIn [97], line 1\u001B[0m\n\u001B[0;32m----> 1\u001B[0m rides_khatkesh \u001B[38;5;241m=\u001B[39m \u001B[43mpd\u001B[49m\u001B[38;5;241;43m.\u001B[39;49m\u001B[43mmerge\u001B[49m\u001B[43m(\u001B[49m\u001B[43mrides\u001B[49m\u001B[43m,\u001B[49m\u001B[43m \u001B[49m\u001B[43mkhatkesh\u001B[49m\u001B[43m,\u001B[49m\u001B[43m \u001B[49m\u001B[43mon\u001B[49m\u001B[38;5;241;43m=\u001B[39;49m\u001B[38;5;124;43m\"\u001B[39;49m\u001B[38;5;124;43mride_id\u001B[39;49m\u001B[38;5;124;43m\"\u001B[39;49m\u001B[43m)\u001B[49m\n",
      "File \u001B[0;32m~/.local/share/virtualenvs/POP-wXztIGuF/lib/python3.9/site-packages/pandas/core/reshape/merge.py:111\u001B[0m, in \u001B[0;36mmerge\u001B[0;34m(left, right, how, on, left_on, right_on, left_index, right_index, sort, suffixes, copy, indicator, validate)\u001B[0m\n\u001B[1;32m     94\u001B[0m \u001B[38;5;129m@Substitution\u001B[39m(\u001B[38;5;124m\"\u001B[39m\u001B[38;5;130;01m\\n\u001B[39;00m\u001B[38;5;124mleft : DataFrame or named Series\u001B[39m\u001B[38;5;124m\"\u001B[39m)\n\u001B[1;32m     95\u001B[0m \u001B[38;5;129m@Appender\u001B[39m(_merge_doc, indents\u001B[38;5;241m=\u001B[39m\u001B[38;5;241m0\u001B[39m)\n\u001B[1;32m     96\u001B[0m \u001B[38;5;28;01mdef\u001B[39;00m \u001B[38;5;21mmerge\u001B[39m(\n\u001B[0;32m   (...)\u001B[0m\n\u001B[1;32m    109\u001B[0m     validate: \u001B[38;5;28mstr\u001B[39m \u001B[38;5;241m|\u001B[39m \u001B[38;5;28;01mNone\u001B[39;00m \u001B[38;5;241m=\u001B[39m \u001B[38;5;28;01mNone\u001B[39;00m,\n\u001B[1;32m    110\u001B[0m ) \u001B[38;5;241m-\u001B[39m\u001B[38;5;241m>\u001B[39m DataFrame:\n\u001B[0;32m--> 111\u001B[0m     op \u001B[38;5;241m=\u001B[39m \u001B[43m_MergeOperation\u001B[49m\u001B[43m(\u001B[49m\n\u001B[1;32m    112\u001B[0m \u001B[43m        \u001B[49m\u001B[43mleft\u001B[49m\u001B[43m,\u001B[49m\n\u001B[1;32m    113\u001B[0m \u001B[43m        \u001B[49m\u001B[43mright\u001B[49m\u001B[43m,\u001B[49m\n\u001B[1;32m    114\u001B[0m \u001B[43m        \u001B[49m\u001B[43mhow\u001B[49m\u001B[38;5;241;43m=\u001B[39;49m\u001B[43mhow\u001B[49m\u001B[43m,\u001B[49m\n\u001B[1;32m    115\u001B[0m \u001B[43m        \u001B[49m\u001B[43mon\u001B[49m\u001B[38;5;241;43m=\u001B[39;49m\u001B[43mon\u001B[49m\u001B[43m,\u001B[49m\n\u001B[1;32m    116\u001B[0m \u001B[43m        \u001B[49m\u001B[43mleft_on\u001B[49m\u001B[38;5;241;43m=\u001B[39;49m\u001B[43mleft_on\u001B[49m\u001B[43m,\u001B[49m\n\u001B[1;32m    117\u001B[0m \u001B[43m        \u001B[49m\u001B[43mright_on\u001B[49m\u001B[38;5;241;43m=\u001B[39;49m\u001B[43mright_on\u001B[49m\u001B[43m,\u001B[49m\n\u001B[1;32m    118\u001B[0m \u001B[43m        \u001B[49m\u001B[43mleft_index\u001B[49m\u001B[38;5;241;43m=\u001B[39;49m\u001B[43mleft_index\u001B[49m\u001B[43m,\u001B[49m\n\u001B[1;32m    119\u001B[0m \u001B[43m        \u001B[49m\u001B[43mright_index\u001B[49m\u001B[38;5;241;43m=\u001B[39;49m\u001B[43mright_index\u001B[49m\u001B[43m,\u001B[49m\n\u001B[1;32m    120\u001B[0m \u001B[43m        \u001B[49m\u001B[43msort\u001B[49m\u001B[38;5;241;43m=\u001B[39;49m\u001B[43msort\u001B[49m\u001B[43m,\u001B[49m\n\u001B[1;32m    121\u001B[0m \u001B[43m        \u001B[49m\u001B[43msuffixes\u001B[49m\u001B[38;5;241;43m=\u001B[39;49m\u001B[43msuffixes\u001B[49m\u001B[43m,\u001B[49m\n\u001B[1;32m    122\u001B[0m \u001B[43m        \u001B[49m\u001B[43mindicator\u001B[49m\u001B[38;5;241;43m=\u001B[39;49m\u001B[43mindicator\u001B[49m\u001B[43m,\u001B[49m\n\u001B[1;32m    123\u001B[0m \u001B[43m        \u001B[49m\u001B[43mvalidate\u001B[49m\u001B[38;5;241;43m=\u001B[39;49m\u001B[43mvalidate\u001B[49m\u001B[43m,\u001B[49m\n\u001B[1;32m    124\u001B[0m \u001B[43m    \u001B[49m\u001B[43m)\u001B[49m\n\u001B[1;32m    125\u001B[0m     \u001B[38;5;28;01mreturn\u001B[39;00m op\u001B[38;5;241m.\u001B[39mget_result(copy\u001B[38;5;241m=\u001B[39mcopy)\n",
      "File \u001B[0;32m~/.local/share/virtualenvs/POP-wXztIGuF/lib/python3.9/site-packages/pandas/core/reshape/merge.py:706\u001B[0m, in \u001B[0;36m_MergeOperation.__init__\u001B[0;34m(self, left, right, how, on, left_on, right_on, axis, left_index, right_index, sort, suffixes, indicator, validate)\u001B[0m\n\u001B[1;32m    699\u001B[0m \u001B[38;5;28mself\u001B[39m\u001B[38;5;241m.\u001B[39m_cross \u001B[38;5;241m=\u001B[39m cross_col\n\u001B[1;32m    701\u001B[0m \u001B[38;5;66;03m# note this function has side effects\u001B[39;00m\n\u001B[1;32m    702\u001B[0m (\n\u001B[1;32m    703\u001B[0m     \u001B[38;5;28mself\u001B[39m\u001B[38;5;241m.\u001B[39mleft_join_keys,\n\u001B[1;32m    704\u001B[0m     \u001B[38;5;28mself\u001B[39m\u001B[38;5;241m.\u001B[39mright_join_keys,\n\u001B[1;32m    705\u001B[0m     \u001B[38;5;28mself\u001B[39m\u001B[38;5;241m.\u001B[39mjoin_names,\n\u001B[0;32m--> 706\u001B[0m ) \u001B[38;5;241m=\u001B[39m \u001B[38;5;28;43mself\u001B[39;49m\u001B[38;5;241;43m.\u001B[39;49m\u001B[43m_get_merge_keys\u001B[49m\u001B[43m(\u001B[49m\u001B[43m)\u001B[49m\n\u001B[1;32m    708\u001B[0m \u001B[38;5;66;03m# validate the merge keys dtypes. We may need to coerce\u001B[39;00m\n\u001B[1;32m    709\u001B[0m \u001B[38;5;66;03m# to avoid incompatible dtypes\u001B[39;00m\n\u001B[1;32m    710\u001B[0m \u001B[38;5;28mself\u001B[39m\u001B[38;5;241m.\u001B[39m_maybe_coerce_merge_keys()\n",
      "File \u001B[0;32m~/.local/share/virtualenvs/POP-wXztIGuF/lib/python3.9/site-packages/pandas/core/reshape/merge.py:1165\u001B[0m, in \u001B[0;36m_MergeOperation._get_merge_keys\u001B[0;34m(self)\u001B[0m\n\u001B[1;32m   1163\u001B[0m rk \u001B[38;5;241m=\u001B[39m cast(Hashable, rk)\n\u001B[1;32m   1164\u001B[0m \u001B[38;5;28;01mif\u001B[39;00m rk \u001B[38;5;129;01mis\u001B[39;00m \u001B[38;5;129;01mnot\u001B[39;00m \u001B[38;5;28;01mNone\u001B[39;00m:\n\u001B[0;32m-> 1165\u001B[0m     right_keys\u001B[38;5;241m.\u001B[39mappend(\u001B[43mright\u001B[49m\u001B[38;5;241;43m.\u001B[39;49m\u001B[43m_get_label_or_level_values\u001B[49m\u001B[43m(\u001B[49m\u001B[43mrk\u001B[49m\u001B[43m)\u001B[49m)\n\u001B[1;32m   1166\u001B[0m \u001B[38;5;28;01melse\u001B[39;00m:\n\u001B[1;32m   1167\u001B[0m     \u001B[38;5;66;03m# work-around for merge_asof(right_index=True)\u001B[39;00m\n\u001B[1;32m   1168\u001B[0m     right_keys\u001B[38;5;241m.\u001B[39mappend(right\u001B[38;5;241m.\u001B[39mindex)\n",
      "File \u001B[0;32m~/.local/share/virtualenvs/POP-wXztIGuF/lib/python3.9/site-packages/pandas/core/generic.py:1849\u001B[0m, in \u001B[0;36mNDFrame._get_label_or_level_values\u001B[0;34m(self, key, axis)\u001B[0m\n\u001B[1;32m   1843\u001B[0m     values \u001B[38;5;241m=\u001B[39m (\n\u001B[1;32m   1844\u001B[0m         \u001B[38;5;28mself\u001B[39m\u001B[38;5;241m.\u001B[39maxes[axis]\n\u001B[1;32m   1845\u001B[0m         \u001B[38;5;241m.\u001B[39mget_level_values(key)  \u001B[38;5;66;03m# type: ignore[assignment]\u001B[39;00m\n\u001B[1;32m   1846\u001B[0m         \u001B[38;5;241m.\u001B[39m_values\n\u001B[1;32m   1847\u001B[0m     )\n\u001B[1;32m   1848\u001B[0m \u001B[38;5;28;01melse\u001B[39;00m:\n\u001B[0;32m-> 1849\u001B[0m     \u001B[38;5;28;01mraise\u001B[39;00m \u001B[38;5;167;01mKeyError\u001B[39;00m(key)\n\u001B[1;32m   1851\u001B[0m \u001B[38;5;66;03m# Check for duplicates\u001B[39;00m\n\u001B[1;32m   1852\u001B[0m \u001B[38;5;28;01mif\u001B[39;00m values\u001B[38;5;241m.\u001B[39mndim \u001B[38;5;241m>\u001B[39m \u001B[38;5;241m1\u001B[39m:\n",
      "\u001B[0;31mKeyError\u001B[0m: 'ride_id'"
     ]
    }
   ],
   "source": [
    "rides_khatkesh = pd.merge(rides, khatkesh, on=\"ride_id\")"
   ],
   "metadata": {
    "collapsed": false,
    "pycharm": {
     "name": "#%%\n"
    }
   }
  },
  {
   "cell_type": "code",
   "execution_count": null,
   "outputs": [],
   "source": [
    "rides_khatkesh.describe()"
   ],
   "metadata": {
    "collapsed": false,
    "pycharm": {
     "name": "#%%\n"
    }
   }
  },
  {
   "cell_type": "code",
   "execution_count": 98,
   "outputs": [
    {
     "name": "stdout",
     "output_type": "stream",
     "text": [
      "0.029861557648385287\n"
     ]
    }
   ],
   "source": [
    "ata_correlation = rides_khatkesh['ata'].corr(rides_khatkesh['a_t_a_result.ride_a_t_a'])\n",
    "print(ata_correlation)"
   ],
   "metadata": {
    "collapsed": false,
    "pycharm": {
     "name": "#%%\n"
    }
   }
  },
  {
   "cell_type": "code",
   "execution_count": 99,
   "outputs": [
    {
     "name": "stdout",
     "output_type": "stream",
     "text": [
      "0.02394591304411403\n"
     ]
    }
   ],
   "source": [
    "eta_ata_correlation = rides_khatkesh['eta'].corr(rides_khatkesh['a_t_a_result.ride_a_t_a'])\n",
    "print(eta_ata_correlation)"
   ],
   "metadata": {
    "collapsed": false,
    "pycharm": {
     "name": "#%%\n"
    }
   }
  },
  {
   "cell_type": "code",
   "execution_count": 100,
   "outputs": [
    {
     "name": "stdout",
     "output_type": "stream",
     "text": [
      "0.9128214504435221\n"
     ]
    }
   ],
   "source": [
    "eta_ata_correlation = rides_khatkesh['eta'].corr(rides_khatkesh['ata'])\n",
    "print(eta_ata_correlation)"
   ],
   "metadata": {
    "collapsed": false,
    "pycharm": {
     "name": "#%%\n"
    }
   }
  },
  {
   "cell_type": "code",
   "execution_count": 101,
   "outputs": [
    {
     "data": {
      "text/plain": "0.913461390825758"
     },
     "execution_count": 101,
     "metadata": {},
     "output_type": "execute_result"
    }
   ],
   "source": [
    "(rides_khatkesh['eta'] /rides_khatkesh['ata']).mean()"
   ],
   "metadata": {
    "collapsed": false,
    "pycharm": {
     "name": "#%%\n"
    }
   }
  },
  {
   "cell_type": "code",
   "execution_count": 102,
   "outputs": [
    {
     "data": {
      "text/plain": "       source_lat  source_lng  destination_lat  destination_lng   eta   ata  \\\n0       35.637950   51.393005        35.613758        51.440968   893  1034   \n1       35.744210   51.140186        35.753910        51.145374   238   423   \n2       35.560932   51.252415        35.543705        51.268753   474   297   \n3       35.786938   51.374763        35.782070        51.354286   589   531   \n4       35.624187   51.403316        35.637610        51.408955   355   131   \n...           ...         ...              ...              ...   ...   ...   \n15058   35.726765   51.378155        35.766630        51.398106  1072  1061   \n15059   35.701633   51.377520        35.695020        51.397842   511   738   \n15060   35.447790   51.179874        35.623560        51.401276  1855  1827   \n15061   35.757343   51.514366        35.778550        51.489235   434   388   \n15062   35.708958   51.342392        35.762096        51.417522  1436  1729   \n\n       a_t_a_result.ride_a_t_a  \n0                         1011  \n1                          365  \n2                          518  \n3                          544  \n4                           36  \n...                        ...  \n15058                     1015  \n15059                      599  \n15060                     1792  \n15061                      388  \n15062                     1714  \n\n[15063 rows x 7 columns]",
      "text/html": "<div>\n<style scoped>\n    .dataframe tbody tr th:only-of-type {\n        vertical-align: middle;\n    }\n\n    .dataframe tbody tr th {\n        vertical-align: top;\n    }\n\n    .dataframe thead th {\n        text-align: right;\n    }\n</style>\n<table border=\"1\" class=\"dataframe\">\n  <thead>\n    <tr style=\"text-align: right;\">\n      <th></th>\n      <th>source_lat</th>\n      <th>source_lng</th>\n      <th>destination_lat</th>\n      <th>destination_lng</th>\n      <th>eta</th>\n      <th>ata</th>\n      <th>a_t_a_result.ride_a_t_a</th>\n    </tr>\n  </thead>\n  <tbody>\n    <tr>\n      <th>0</th>\n      <td>35.637950</td>\n      <td>51.393005</td>\n      <td>35.613758</td>\n      <td>51.440968</td>\n      <td>893</td>\n      <td>1034</td>\n      <td>1011</td>\n    </tr>\n    <tr>\n      <th>1</th>\n      <td>35.744210</td>\n      <td>51.140186</td>\n      <td>35.753910</td>\n      <td>51.145374</td>\n      <td>238</td>\n      <td>423</td>\n      <td>365</td>\n    </tr>\n    <tr>\n      <th>2</th>\n      <td>35.560932</td>\n      <td>51.252415</td>\n      <td>35.543705</td>\n      <td>51.268753</td>\n      <td>474</td>\n      <td>297</td>\n      <td>518</td>\n    </tr>\n    <tr>\n      <th>3</th>\n      <td>35.786938</td>\n      <td>51.374763</td>\n      <td>35.782070</td>\n      <td>51.354286</td>\n      <td>589</td>\n      <td>531</td>\n      <td>544</td>\n    </tr>\n    <tr>\n      <th>4</th>\n      <td>35.624187</td>\n      <td>51.403316</td>\n      <td>35.637610</td>\n      <td>51.408955</td>\n      <td>355</td>\n      <td>131</td>\n      <td>36</td>\n    </tr>\n    <tr>\n      <th>...</th>\n      <td>...</td>\n      <td>...</td>\n      <td>...</td>\n      <td>...</td>\n      <td>...</td>\n      <td>...</td>\n      <td>...</td>\n    </tr>\n    <tr>\n      <th>15058</th>\n      <td>35.726765</td>\n      <td>51.378155</td>\n      <td>35.766630</td>\n      <td>51.398106</td>\n      <td>1072</td>\n      <td>1061</td>\n      <td>1015</td>\n    </tr>\n    <tr>\n      <th>15059</th>\n      <td>35.701633</td>\n      <td>51.377520</td>\n      <td>35.695020</td>\n      <td>51.397842</td>\n      <td>511</td>\n      <td>738</td>\n      <td>599</td>\n    </tr>\n    <tr>\n      <th>15060</th>\n      <td>35.447790</td>\n      <td>51.179874</td>\n      <td>35.623560</td>\n      <td>51.401276</td>\n      <td>1855</td>\n      <td>1827</td>\n      <td>1792</td>\n    </tr>\n    <tr>\n      <th>15061</th>\n      <td>35.757343</td>\n      <td>51.514366</td>\n      <td>35.778550</td>\n      <td>51.489235</td>\n      <td>434</td>\n      <td>388</td>\n      <td>388</td>\n    </tr>\n    <tr>\n      <th>15062</th>\n      <td>35.708958</td>\n      <td>51.342392</td>\n      <td>35.762096</td>\n      <td>51.417522</td>\n      <td>1436</td>\n      <td>1729</td>\n      <td>1714</td>\n    </tr>\n  </tbody>\n</table>\n<p>15063 rows × 7 columns</p>\n</div>"
     },
     "execution_count": 102,
     "metadata": {},
     "output_type": "execute_result"
    }
   ],
   "source": [
    "rides_khatkesh[['source_lat', 'source_lng', 'destination_lat', 'destination_lng', 'eta', 'ata', 'a_t_a_result.ride_a_t_a']]"
   ],
   "metadata": {
    "collapsed": false,
    "pycharm": {
     "name": "#%%\n"
    }
   }
  },
  {
   "cell_type": "code",
   "execution_count": 103,
   "outputs": [
    {
     "data": {
      "text/plain": "<AxesSubplot: >"
     },
     "execution_count": 103,
     "metadata": {},
     "output_type": "execute_result"
    },
    {
     "data": {
      "text/plain": "<Figure size 640x480 with 1 Axes>",
      "image/png": "[encoded data removed]"
     },
     "metadata": {},
     "output_type": "display_data"
    }
   ],
   "source": [
    "(rides_khatkesh['eta'] - rides_khatkesh['ata']).hist(bins=100)"
   ],
   "metadata": {
    "collapsed": false,
    "pycharm": {
     "name": "#%%\n"
    }
   }
  },
  {
   "cell_type": "code",
   "execution_count": 104,
   "outputs": [
    {
     "data": {
      "text/plain": "<AxesSubplot: >"
     },
     "execution_count": 104,
     "metadata": {},
     "output_type": "execute_result"
    },
    {
     "data": {
      "text/plain": "<Figure size 640x480 with 1 Axes>",
      "image/png": "[encoded data removed]"
     },
     "metadata": {},
     "output_type": "display_data"
    }
   ],
   "source": [
    "a = rides_khatkesh[rides_khatkesh['a_t_a_result.ride_a_t_a'] < 7200]\n",
    "(a['eta'] - a['a_t_a_result.ride_a_t_a']).hist(bins=100)"
   ],
   "metadata": {
    "collapsed": false,
    "pycharm": {
     "name": "#%%\n"
    }
   }
  },
  {
   "cell_type": "code",
   "execution_count": 105,
   "outputs": [
    {
     "data": {
      "text/plain": "24"
     },
     "execution_count": 105,
     "metadata": {},
     "output_type": "execute_result"
    }
   ],
   "source": [
    "rides_khatkesh['eta'].min()"
   ],
   "metadata": {
    "collapsed": false,
    "pycharm": {
     "name": "#%%\n"
    }
   }
  },
  {
   "cell_type": "code",
   "execution_count": 106,
   "outputs": [],
   "source": [
    "b = rides_khatkesh[((rides_khatkesh['eta'] - rides_khatkesh['a_t_a_result.ride_a_t_a']) > 600) | ((rides_khatkesh['eta'] - rides_khatkesh['a_t_a_result.ride_a_t_a']) < -600)]\n",
    "\n",
    "c = b[((b['eta'] - b['ata']) > 600) | ((b['eta'] - b['ata']) < -600)]\n",
    "\n",
    "d = c[((c['a_t_a_result.ride_a_t_a'] - c['ata']) > 600) | ((c['a_t_a_result.ride_a_t_a'] - c['ata']) < -600)][['eta', 'ata', 'a_t_a_result.ride_a_t_a', 'source_lat', 'source_lng', 'destination_lat', 'destination_lng']]"
   ],
   "metadata": {
    "collapsed": false,
    "pycharm": {
     "name": "#%%\n"
    }
   }
  },
  {
   "cell_type": "code",
   "execution_count": 107,
   "outputs": [
    {
     "data": {
      "text/plain": "eta                        49\nata                        49\na_t_a_result.ride_a_t_a    49\nsource_lat                 49\nsource_lng                 49\ndestination_lat            49\ndestination_lng            49\ndtype: int64"
     },
     "execution_count": 107,
     "metadata": {},
     "output_type": "execute_result"
    }
   ],
   "source": [
    "d.count()"
   ],
   "metadata": {
    "collapsed": false,
    "pycharm": {
     "name": "#%%\n"
    }
   }
  },
  {
   "cell_type": "code",
   "execution_count": 108,
   "outputs": [
    {
     "data": {
      "text/plain": "       accepted_driver_id  passenger_id    source_lat    source_lng  \\\ncount        1.431400e+04  1.431400e+04  14314.000000  14314.000000   \nmean         1.980299e+06  2.372658e+07     35.694601     51.400947   \nstd          1.437208e+06  1.795372e+07      0.095782      0.142208   \nmin          1.010000e+02  1.375000e+03     35.249897     50.903470   \n25%          5.314055e+05  5.056045e+06     35.664489     51.331163   \n50%          1.935360e+06  2.401134e+07     35.724758     51.404336   \n75%          3.291454e+06  3.825565e+07     35.754653     51.466925   \nmax          4.346206e+06  5.750927e+07     35.828438     52.773940   \n\n       destination_lat  destination_lng           eta           ata  \\\ncount     14314.000000     14314.000000  14314.000000  14314.000000   \nmean         35.695543        51.397840    902.663337   1132.744516   \nstd           0.095551         0.148314    628.103121    952.000888   \nmin          34.641853        50.535954    181.000000    120.000000   \n25%          35.663728        51.330590    444.000000    476.000000   \n50%          35.724820        51.402598    719.000000    810.500000   \n75%          35.754650        51.470549   1170.000000   1443.000000   \nmax          36.048410        52.792877   5231.000000   6709.000000   \n\n            ride_id     city  ...  pickup_a_d_d_result.route_ratio  \\\ncount  1.431400e+04  14314.0  ...                     14314.000000   \nmean   4.956706e+09      1.0  ...                         0.000074   \nstd    2.738054e+05      0.0  ...                         0.002724   \nmin    4.956287e+09      1.0  ...                         0.000000   \n25%    4.956451e+09      1.0  ...                         0.000000   \n50%    4.956685e+09      1.0  ...                         0.000000   \n75%    4.956957e+09      1.0  ...                         0.000000   \nmax    4.957224e+09      1.0  ...                         0.156830   \n\n       pickup_a_d_d_result.g_p_s_ratio  ride_a_d_d_result.distance  \\\ncount                     14314.000000                14314.000000   \nmean                          0.013369                   14.138394   \nstd                           0.010659                   14.102775   \nmin                           0.000000                    0.194000   \n25%                           0.005348                    4.956000   \n50%                           0.010870                    9.593000   \n75%                           0.018868                   18.395999   \nmax                           0.052632                  159.207718   \n\n       ride_a_d_d_result.confidence  ride_a_d_d_result.route_ratio  \\\ncount                  14314.000000                   14314.000000   \nmean                       0.878035                       0.000087   \nstd                        0.168137                       0.001919   \nmin                        0.015032                       0.000000   \n25%                        0.817145                       0.000000   \n50%                        0.963780                       0.000000   \n75%                        1.000000                       0.000000   \nmax                        1.000000                       0.075890   \n\n       ride_a_d_d_result.g_p_s_ratio  total_a_d_d_confidence  \\\ncount                   14314.000000            14314.000000   \nmean                        0.740149                0.886102   \nstd                         0.319382                0.158786   \nmin                         0.000000                0.062460   \n25%                         0.589102                0.836708   \n50%                         0.901639                0.963172   \n75%                         0.973684                1.000000   \nmax                         1.000000                1.000000   \n\n       in_ride_allotment         e_d_d        hash\\n  \ncount       14314.000000  14314.000000  1.431400e+04  \nmean            0.015762      8.475427  9.206828e+18  \nstd             0.147553      8.689244  5.339666e+18  \nmin             0.000000      0.598000  3.680090e+14  \n25%             0.000000      2.954000  4.553286e+18  \n50%             0.000000      5.729500  9.150920e+18  \n75%             0.000000     10.868250  1.386922e+19  \nmax             4.430000    116.138000  1.844592e+19  \n\n[8 rows x 51 columns]",
      "text/html": "<div>\n<style scoped>\n    .dataframe tbody tr th:only-of-type {\n        vertical-align: middle;\n    }\n\n    .dataframe tbody tr th {\n        vertical-align: top;\n    }\n\n    .dataframe thead th {\n        text-align: right;\n    }\n</style>\n<table border=\"1\" class=\"dataframe\">\n  <thead>\n    <tr style=\"text-align: right;\">\n      <th></th>\n      <th>accepted_driver_id</th>\n      <th>passenger_id</th>\n      <th>source_lat</th>\n      <th>source_lng</th>\n      <th>destination_lat</th>\n      <th>destination_lng</th>\n      <th>eta</th>\n      <th>ata</th>\n      <th>ride_id</th>\n      <th>city</th>\n      <th>...</th>\n      <th>pickup_a_d_d_result.route_ratio</th>\n      <th>pickup_a_d_d_result.g_p_s_ratio</th>\n      <th>ride_a_d_d_result.distance</th>\n      <th>ride_a_d_d_result.confidence</th>\n      <th>ride_a_d_d_result.route_ratio</th>\n      <th>ride_a_d_d_result.g_p_s_ratio</th>\n      <th>total_a_d_d_confidence</th>\n      <th>in_ride_allotment</th>\n      <th>e_d_d</th>\n      <th>hash\\n</th>\n    </tr>\n  </thead>\n  <tbody>\n    <tr>\n      <th>count</th>\n      <td>1.431400e+04</td>\n      <td>1.431400e+04</td>\n      <td>14314.000000</td>\n      <td>14314.000000</td>\n      <td>14314.000000</td>\n      <td>14314.000000</td>\n      <td>14314.000000</td>\n      <td>14314.000000</td>\n      <td>1.431400e+04</td>\n      <td>14314.0</td>\n      <td>...</td>\n      <td>14314.000000</td>\n      <td>14314.000000</td>\n      <td>14314.000000</td>\n      <td>14314.000000</td>\n      <td>14314.000000</td>\n      <td>14314.000000</td>\n      <td>14314.000000</td>\n      <td>14314.000000</td>\n      <td>14314.000000</td>\n      <td>1.431400e+04</td>\n    </tr>\n    <tr>\n      <th>mean</th>\n      <td>1.980299e+06</td>\n      <td>2.372658e+07</td>\n      <td>35.694601</td>\n      <td>51.400947</td>\n      <td>35.695543</td>\n      <td>51.397840</td>\n      <td>902.663337</td>\n      <td>1132.744516</td>\n      <td>4.956706e+09</td>\n      <td>1.0</td>\n      <td>...</td>\n      <td>0.000074</td>\n      <td>0.013369</td>\n      <td>14.138394</td>\n      <td>0.878035</td>\n      <td>0.000087</td>\n      <td>0.740149</td>\n      <td>0.886102</td>\n      <td>0.015762</td>\n      <td>8.475427</td>\n      <td>9.206828e+18</td>\n    </tr>\n    <tr>\n      <th>std</th>\n      <td>1.437208e+06</td>\n      <td>1.795372e+07</td>\n      <td>0.095782</td>\n      <td>0.142208</td>\n      <td>0.095551</td>\n      <td>0.148314</td>\n      <td>628.103121</td>\n      <td>952.000888</td>\n      <td>2.738054e+05</td>\n      <td>0.0</td>\n      <td>...</td>\n      <td>0.002724</td>\n      <td>0.010659</td>\n      <td>14.102775</td>\n      <td>0.168137</td>\n      <td>0.001919</td>\n      <td>0.319382</td>\n      <td>0.158786</td>\n      <td>0.147553</td>\n      <td>8.689244</td>\n      <td>5.339666e+18</td>\n    </tr>\n    <tr>\n      <th>min</th>\n      <td>1.010000e+02</td>\n      <td>1.375000e+03</td>\n      <td>35.249897</td>\n      <td>50.903470</td>\n      <td>34.641853</td>\n      <td>50.535954</td>\n      <td>181.000000</td>\n      <td>120.000000</td>\n      <td>4.956287e+09</td>\n      <td>1.0</td>\n      <td>...</td>\n      <td>0.000000</td>\n      <td>0.000000</td>\n      <td>0.194000</td>\n      <td>0.015032</td>\n      <td>0.000000</td>\n      <td>0.000000</td>\n      <td>0.062460</td>\n      <td>0.000000</td>\n      <td>0.598000</td>\n      <td>3.680090e+14</td>\n    </tr>\n    <tr>\n      <th>25%</th>\n      <td>5.314055e+05</td>\n      <td>5.056045e+06</td>\n      <td>35.664489</td>\n      <td>51.331163</td>\n      <td>35.663728</td>\n      <td>51.330590</td>\n      <td>444.000000</td>\n      <td>476.000000</td>\n      <td>4.956451e+09</td>\n      <td>1.0</td>\n      <td>...</td>\n      <td>0.000000</td>\n      <td>0.005348</td>\n      <td>4.956000</td>\n      <td>0.817145</td>\n      <td>0.000000</td>\n      <td>0.589102</td>\n      <td>0.836708</td>\n      <td>0.000000</td>\n      <td>2.954000</td>\n      <td>4.553286e+18</td>\n    </tr>\n    <tr>\n      <th>50%</th>\n      <td>1.935360e+06</td>\n      <td>2.401134e+07</td>\n      <td>35.724758</td>\n      <td>51.404336</td>\n      <td>35.724820</td>\n      <td>51.402598</td>\n      <td>719.000000</td>\n      <td>810.500000</td>\n      <td>4.956685e+09</td>\n      <td>1.0</td>\n      <td>...</td>\n      <td>0.000000</td>\n      <td>0.010870</td>\n      <td>9.593000</td>\n      <td>0.963780</td>\n      <td>0.000000</td>\n      <td>0.901639</td>\n      <td>0.963172</td>\n      <td>0.000000</td>\n      <td>5.729500</td>\n      <td>9.150920e+18</td>\n    </tr>\n    <tr>\n      <th>75%</th>\n      <td>3.291454e+06</td>\n      <td>3.825565e+07</td>\n      <td>35.754653</td>\n      <td>51.466925</td>\n      <td>35.754650</td>\n      <td>51.470549</td>\n      <td>1170.000000</td>\n      <td>1443.000000</td>\n      <td>4.956957e+09</td>\n      <td>1.0</td>\n      <td>...</td>\n      <td>0.000000</td>\n      <td>0.018868</td>\n      <td>18.395999</td>\n      <td>1.000000</td>\n      <td>0.000000</td>\n      <td>0.973684</td>\n      <td>1.000000</td>\n      <td>0.000000</td>\n      <td>10.868250</td>\n      <td>1.386922e+19</td>\n    </tr>\n    <tr>\n      <th>max</th>\n      <td>4.346206e+06</td>\n      <td>5.750927e+07</td>\n      <td>35.828438</td>\n      <td>52.773940</td>\n      <td>36.048410</td>\n      <td>52.792877</td>\n      <td>5231.000000</td>\n      <td>6709.000000</td>\n      <td>4.957224e+09</td>\n      <td>1.0</td>\n      <td>...</td>\n      <td>0.156830</td>\n      <td>0.052632</td>\n      <td>159.207718</td>\n      <td>1.000000</td>\n      <td>0.075890</td>\n      <td>1.000000</td>\n      <td>1.000000</td>\n      <td>4.430000</td>\n      <td>116.138000</td>\n      <td>1.844592e+19</td>\n    </tr>\n  </tbody>\n</table>\n<p>8 rows × 51 columns</p>\n</div>"
     },
     "execution_count": 108,
     "metadata": {},
     "output_type": "execute_result"
    }
   ],
   "source": [
    "rides = rides_khatkesh[(rides_khatkesh['eta'] > 180) &\n",
    "                       (rides_khatkesh['eta'] < 10800) &\n",
    "                       (rides_khatkesh['a_t_a_result.ride_a_t_a'] > 180) &\n",
    "                       (rides_khatkesh['a_t_a_result.ride_a_t_a'] < 10800)]\n",
    "rides.describe()"
   ],
   "metadata": {
    "collapsed": false,
    "pycharm": {
     "name": "#%%\n"
    }
   }
  },
  {
   "cell_type": "code",
   "execution_count": 109,
   "outputs": [
    {
     "data": {
      "text/plain": "       accepted_driver_id  passenger_id    source_lat    source_lng  \\\ncount        1.243500e+04  1.243500e+04  12435.000000  12435.000000   \nmean         1.984667e+06  2.368107e+07     35.694305     51.400390   \nstd          1.440237e+06  1.796537e+07      0.095661      0.143475   \nmin          1.010000e+02  1.375000e+03     35.249897     50.903470   \n25%          5.351490e+05  5.018804e+06     35.664346     51.330320   \n50%          1.938937e+06  2.397690e+07     35.724570     51.403110   \n75%          3.300775e+06  3.826664e+07     35.754391     51.466616   \nmax          4.346206e+06  5.750927e+07     35.828438     52.773940   \n\n       destination_lat  destination_lng           eta           ata  \\\ncount     12435.000000     12435.000000  12435.000000  12435.000000   \nmean         35.695317        51.397322    896.198633   1122.913470   \nstd           0.095143         0.149095    622.199853    942.565978   \nmin          34.641853        50.535954    181.000000    120.000000   \n25%          35.663137        51.329190    443.500000    475.000000   \n50%          35.724545        51.401720    714.000000    804.000000   \n75%          35.754288        51.469811   1158.000000   1425.000000   \nmax          36.048410        52.792877   5231.000000   6596.000000   \n\n            ride_id     city  ...  pickup_a_d_d_result.route_ratio  \\\ncount  1.243500e+04  12435.0  ...                     12435.000000   \nmean   4.956707e+09      1.0  ...                         0.000079   \nstd    2.737140e+05      0.0  ...                         0.002849   \nmin    4.956287e+09      1.0  ...                         0.000000   \n25%    4.956454e+09      1.0  ...                         0.000000   \n50%    4.956685e+09      1.0  ...                         0.000000   \n75%    4.956959e+09      1.0  ...                         0.000000   \nmax    4.957224e+09      1.0  ...                         0.156830   \n\n       pickup_a_d_d_result.g_p_s_ratio  ride_a_d_d_result.distance  \\\ncount                     12435.000000                12435.000000   \nmean                          0.014224                   14.802611   \nstd                           0.010544                   14.496755   \nmin                           0.000000                    0.194000   \n25%                           0.006211                    5.310000   \n50%                           0.011628                   10.170000   \n75%                           0.020000                   19.242001   \nmax                           0.052632                  159.207718   \n\n       ride_a_d_d_result.confidence  ride_a_d_d_result.route_ratio  \\\ncount                  12435.000000                   12435.000000   \nmean                       0.932249                       0.000045   \nstd                        0.099332                       0.001173   \nmin                        0.600579                       0.000000   \n25%                        0.907555                       0.000000   \n50%                        0.978110                       0.000000   \n75%                        1.000000                       0.000000   \nmax                        1.000000                       0.067175   \n\n       ride_a_d_d_result.g_p_s_ratio  total_a_d_d_confidence  \\\ncount                   12435.000000            12435.000000   \nmean                        0.827725                0.936971   \nstd                         0.221447                0.089059   \nmin                         0.016854                0.540521   \n25%                         0.766667                0.906503   \n50%                         0.924528                0.976122   \n75%                         0.979167                1.000000   \nmax                         1.000000                1.000000   \n\n       in_ride_allotment         e_d_d        hash\\n  \ncount       12435.000000  12435.000000  1.243500e+04  \nmean            0.017408      8.390454  9.226360e+18  \nstd             0.155708      8.574203  5.348107e+18  \nmin             0.000000      0.598000  3.680090e+14  \n25%             0.000000      2.951500  4.552304e+18  \n50%             0.000000      5.682000  9.185595e+18  \n75%             0.000000     10.783000  1.389922e+19  \nmax             4.430000    116.138000  1.844592e+19  \n\n[8 rows x 51 columns]",
      "text/html": "<div>\n<style scoped>\n    .dataframe tbody tr th:only-of-type {\n        vertical-align: middle;\n    }\n\n    .dataframe tbody tr th {\n        vertical-align: top;\n    }\n\n    .dataframe thead th {\n        text-align: right;\n    }\n</style>\n<table border=\"1\" class=\"dataframe\">\n  <thead>\n    <tr style=\"text-align: right;\">\n      <th></th>\n      <th>accepted_driver_id</th>\n      <th>passenger_id</th>\n      <th>source_lat</th>\n      <th>source_lng</th>\n      <th>destination_lat</th>\n      <th>destination_lng</th>\n      <th>eta</th>\n      <th>ata</th>\n      <th>ride_id</th>\n      <th>city</th>\n      <th>...</th>\n      <th>pickup_a_d_d_result.route_ratio</th>\n      <th>pickup_a_d_d_result.g_p_s_ratio</th>\n      <th>ride_a_d_d_result.distance</th>\n      <th>ride_a_d_d_result.confidence</th>\n      <th>ride_a_d_d_result.route_ratio</th>\n      <th>ride_a_d_d_result.g_p_s_ratio</th>\n      <th>total_a_d_d_confidence</th>\n      <th>in_ride_allotment</th>\n      <th>e_d_d</th>\n      <th>hash\\n</th>\n    </tr>\n  </thead>\n  <tbody>\n    <tr>\n      <th>count</th>\n      <td>1.243500e+04</td>\n      <td>1.243500e+04</td>\n      <td>12435.000000</td>\n      <td>12435.000000</td>\n      <td>12435.000000</td>\n      <td>12435.000000</td>\n      <td>12435.000000</td>\n      <td>12435.000000</td>\n      <td>1.243500e+04</td>\n      <td>12435.0</td>\n      <td>...</td>\n      <td>12435.000000</td>\n      <td>12435.000000</td>\n      <td>12435.000000</td>\n      <td>12435.000000</td>\n      <td>12435.000000</td>\n      <td>12435.000000</td>\n      <td>12435.000000</td>\n      <td>12435.000000</td>\n      <td>12435.000000</td>\n      <td>1.243500e+04</td>\n    </tr>\n    <tr>\n      <th>mean</th>\n      <td>1.984667e+06</td>\n      <td>2.368107e+07</td>\n      <td>35.694305</td>\n      <td>51.400390</td>\n      <td>35.695317</td>\n      <td>51.397322</td>\n      <td>896.198633</td>\n      <td>1122.913470</td>\n      <td>4.956707e+09</td>\n      <td>1.0</td>\n      <td>...</td>\n      <td>0.000079</td>\n      <td>0.014224</td>\n      <td>14.802611</td>\n      <td>0.932249</td>\n      <td>0.000045</td>\n      <td>0.827725</td>\n      <td>0.936971</td>\n      <td>0.017408</td>\n      <td>8.390454</td>\n      <td>9.226360e+18</td>\n    </tr>\n    <tr>\n      <th>std</th>\n      <td>1.440237e+06</td>\n      <td>1.796537e+07</td>\n      <td>0.095661</td>\n      <td>0.143475</td>\n      <td>0.095143</td>\n      <td>0.149095</td>\n      <td>622.199853</td>\n      <td>942.565978</td>\n      <td>2.737140e+05</td>\n      <td>0.0</td>\n      <td>...</td>\n      <td>0.002849</td>\n      <td>0.010544</td>\n      <td>14.496755</td>\n      <td>0.099332</td>\n      <td>0.001173</td>\n      <td>0.221447</td>\n      <td>0.089059</td>\n      <td>0.155708</td>\n      <td>8.574203</td>\n      <td>5.348107e+18</td>\n    </tr>\n    <tr>\n      <th>min</th>\n      <td>1.010000e+02</td>\n      <td>1.375000e+03</td>\n      <td>35.249897</td>\n      <td>50.903470</td>\n      <td>34.641853</td>\n      <td>50.535954</td>\n      <td>181.000000</td>\n      <td>120.000000</td>\n      <td>4.956287e+09</td>\n      <td>1.0</td>\n      <td>...</td>\n      <td>0.000000</td>\n      <td>0.000000</td>\n      <td>0.194000</td>\n      <td>0.600579</td>\n      <td>0.000000</td>\n      <td>0.016854</td>\n      <td>0.540521</td>\n      <td>0.000000</td>\n      <td>0.598000</td>\n      <td>3.680090e+14</td>\n    </tr>\n    <tr>\n      <th>25%</th>\n      <td>5.351490e+05</td>\n      <td>5.018804e+06</td>\n      <td>35.664346</td>\n      <td>51.330320</td>\n      <td>35.663137</td>\n      <td>51.329190</td>\n      <td>443.500000</td>\n      <td>475.000000</td>\n      <td>4.956454e+09</td>\n      <td>1.0</td>\n      <td>...</td>\n      <td>0.000000</td>\n      <td>0.006211</td>\n      <td>5.310000</td>\n      <td>0.907555</td>\n      <td>0.000000</td>\n      <td>0.766667</td>\n      <td>0.906503</td>\n      <td>0.000000</td>\n      <td>2.951500</td>\n      <td>4.552304e+18</td>\n    </tr>\n    <tr>\n      <th>50%</th>\n      <td>1.938937e+06</td>\n      <td>2.397690e+07</td>\n      <td>35.724570</td>\n      <td>51.403110</td>\n      <td>35.724545</td>\n      <td>51.401720</td>\n      <td>714.000000</td>\n      <td>804.000000</td>\n      <td>4.956685e+09</td>\n      <td>1.0</td>\n      <td>...</td>\n      <td>0.000000</td>\n      <td>0.011628</td>\n      <td>10.170000</td>\n      <td>0.978110</td>\n      <td>0.000000</td>\n      <td>0.924528</td>\n      <td>0.976122</td>\n      <td>0.000000</td>\n      <td>5.682000</td>\n      <td>9.185595e+18</td>\n    </tr>\n    <tr>\n      <th>75%</th>\n      <td>3.300775e+06</td>\n      <td>3.826664e+07</td>\n      <td>35.754391</td>\n      <td>51.466616</td>\n      <td>35.754288</td>\n      <td>51.469811</td>\n      <td>1158.000000</td>\n      <td>1425.000000</td>\n      <td>4.956959e+09</td>\n      <td>1.0</td>\n      <td>...</td>\n      <td>0.000000</td>\n      <td>0.020000</td>\n      <td>19.242001</td>\n      <td>1.000000</td>\n      <td>0.000000</td>\n      <td>0.979167</td>\n      <td>1.000000</td>\n      <td>0.000000</td>\n      <td>10.783000</td>\n      <td>1.389922e+19</td>\n    </tr>\n    <tr>\n      <th>max</th>\n      <td>4.346206e+06</td>\n      <td>5.750927e+07</td>\n      <td>35.828438</td>\n      <td>52.773940</td>\n      <td>36.048410</td>\n      <td>52.792877</td>\n      <td>5231.000000</td>\n      <td>6596.000000</td>\n      <td>4.957224e+09</td>\n      <td>1.0</td>\n      <td>...</td>\n      <td>0.156830</td>\n      <td>0.052632</td>\n      <td>159.207718</td>\n      <td>1.000000</td>\n      <td>0.067175</td>\n      <td>1.000000</td>\n      <td>1.000000</td>\n      <td>4.430000</td>\n      <td>116.138000</td>\n      <td>1.844592e+19</td>\n    </tr>\n  </tbody>\n</table>\n<p>8 rows × 51 columns</p>\n</div>"
     },
     "execution_count": 109,
     "metadata": {},
     "output_type": "execute_result"
    }
   ],
   "source": [
    "rides = rides[rides['ride_a_d_d_result.confidence'] > 0.6]\n",
    "rides.describe()"
   ],
   "metadata": {
    "collapsed": false,
    "pycharm": {
     "name": "#%%\n"
    }
   }
  },
  {
   "cell_type": "code",
   "execution_count": 110,
   "outputs": [
    {
     "data": {
      "text/plain": "       accepted_driver_id  passenger_id    source_lat    source_lng  \\\ncount        1.187900e+04  1.187900e+04  11879.000000  11879.000000   \nmean         1.976337e+06  2.380756e+07     35.692010     51.399394   \nstd          1.438702e+06  1.797766e+07      0.096423      0.145375   \nmin          1.010000e+02  1.375000e+03     35.249897     50.903470   \n25%          5.256965e+05  5.083280e+06     35.661075     51.327842   \n50%          1.927552e+06  2.416122e+07     35.723225     51.401130   \n75%          3.286004e+06  3.847533e+07     35.752987     51.467498   \nmax          4.346206e+06  5.750927e+07     35.828438     52.773940   \n\n       destination_lat  destination_lng           eta           ata  \\\ncount     11879.000000     11879.000000  11879.000000  11879.000000   \nmean         35.694254        51.397879    845.525802   1004.652917   \nstd           0.095640         0.150344    570.364503    755.677141   \nmin          35.211980        50.535954    181.000000    120.000000   \n25%          35.661700        51.328783    432.000000    463.000000   \n50%          35.724415        51.401790    687.000000    773.000000   \n75%          35.753855        51.471038   1081.000000   1295.000000   \nmax          36.048410        52.792877   5231.000000   5851.000000   \n\n            ride_id     city  ...  pickup_a_d_d_result.route_ratio  \\\ncount  1.187900e+04  11879.0  ...                     11879.000000   \nmean   4.956718e+09      1.0  ...                         0.000083   \nstd    2.732458e+05      0.0  ...                         0.002915   \nmin    4.956287e+09      1.0  ...                         0.000000   \n25%    4.956468e+09      1.0  ...                         0.000000   \n50%    4.956704e+09      1.0  ...                         0.000000   \n75%    4.956973e+09      1.0  ...                         0.000000   \nmax    4.957224e+09      1.0  ...                         0.156830   \n\n       pickup_a_d_d_result.g_p_s_ratio  ride_a_d_d_result.distance  \\\ncount                     11879.000000                11879.000000   \nmean                          0.014762                   13.796100   \nstd                           0.010481                   13.259004   \nmin                           0.000000                    0.194000   \n25%                           0.006944                    5.135000   \n50%                           0.012195                    9.613905   \n75%                           0.020408                   17.831000   \nmax                           0.052632                  159.207718   \n\n       ride_a_d_d_result.confidence  ride_a_d_d_result.route_ratio  \\\ncount                  11879.000000                   11879.000000   \nmean                       0.933852                       0.000046   \nstd                        0.098514                       0.001197   \nmin                        0.600579                       0.000000   \n25%                        0.910158                       0.000000   \n50%                        0.980324                       0.000000   \n75%                        1.000000                       0.000000   \nmax                        1.000000                       0.067175   \n\n       ride_a_d_d_result.g_p_s_ratio  total_a_d_d_confidence  \\\ncount                   11879.000000            11879.000000   \nmean                        0.831055                0.938563   \nstd                         0.219607                0.088052   \nmin                         0.016854                0.540521   \n25%                         0.774194                0.909452   \n50%                         0.926829                0.977657   \n75%                         0.981132                1.000000   \nmax                         1.000000                1.000000   \n\n       in_ride_allotment         e_d_d        hash\\n  \ncount       11879.000000  11879.000000  1.187900e+04  \nmean            0.017396      7.830518  9.226176e+18  \nstd             0.156191      7.902970  5.344619e+18  \nmin             0.000000      0.598000  3.680090e+14  \n25%             0.000000      2.863500  4.556804e+18  \n50%             0.000000      5.363000  9.196628e+18  \n75%             0.000000      9.939500  1.387429e+19  \nmax             4.430000    116.138000  1.844592e+19  \n\n[8 rows x 51 columns]",
      "text/html": "<div>\n<style scoped>\n    .dataframe tbody tr th:only-of-type {\n        vertical-align: middle;\n    }\n\n    .dataframe tbody tr th {\n        vertical-align: top;\n    }\n\n    .dataframe thead th {\n        text-align: right;\n    }\n</style>\n<table border=\"1\" class=\"dataframe\">\n  <thead>\n    <tr style=\"text-align: right;\">\n      <th></th>\n      <th>accepted_driver_id</th>\n      <th>passenger_id</th>\n      <th>source_lat</th>\n      <th>source_lng</th>\n      <th>destination_lat</th>\n      <th>destination_lng</th>\n      <th>eta</th>\n      <th>ata</th>\n      <th>ride_id</th>\n      <th>city</th>\n      <th>...</th>\n      <th>pickup_a_d_d_result.route_ratio</th>\n      <th>pickup_a_d_d_result.g_p_s_ratio</th>\n      <th>ride_a_d_d_result.distance</th>\n      <th>ride_a_d_d_result.confidence</th>\n      <th>ride_a_d_d_result.route_ratio</th>\n      <th>ride_a_d_d_result.g_p_s_ratio</th>\n      <th>total_a_d_d_confidence</th>\n      <th>in_ride_allotment</th>\n      <th>e_d_d</th>\n      <th>hash\\n</th>\n    </tr>\n  </thead>\n  <tbody>\n    <tr>\n      <th>count</th>\n      <td>1.187900e+04</td>\n      <td>1.187900e+04</td>\n      <td>11879.000000</td>\n      <td>11879.000000</td>\n      <td>11879.000000</td>\n      <td>11879.000000</td>\n      <td>11879.000000</td>\n      <td>11879.000000</td>\n      <td>1.187900e+04</td>\n      <td>11879.0</td>\n      <td>...</td>\n      <td>11879.000000</td>\n      <td>11879.000000</td>\n      <td>11879.000000</td>\n      <td>11879.000000</td>\n      <td>11879.000000</td>\n      <td>11879.000000</td>\n      <td>11879.000000</td>\n      <td>11879.000000</td>\n      <td>11879.000000</td>\n      <td>1.187900e+04</td>\n    </tr>\n    <tr>\n      <th>mean</th>\n      <td>1.976337e+06</td>\n      <td>2.380756e+07</td>\n      <td>35.692010</td>\n      <td>51.399394</td>\n      <td>35.694254</td>\n      <td>51.397879</td>\n      <td>845.525802</td>\n      <td>1004.652917</td>\n      <td>4.956718e+09</td>\n      <td>1.0</td>\n      <td>...</td>\n      <td>0.000083</td>\n      <td>0.014762</td>\n      <td>13.796100</td>\n      <td>0.933852</td>\n      <td>0.000046</td>\n      <td>0.831055</td>\n      <td>0.938563</td>\n      <td>0.017396</td>\n      <td>7.830518</td>\n      <td>9.226176e+18</td>\n    </tr>\n    <tr>\n      <th>std</th>\n      <td>1.438702e+06</td>\n      <td>1.797766e+07</td>\n      <td>0.096423</td>\n      <td>0.145375</td>\n      <td>0.095640</td>\n      <td>0.150344</td>\n      <td>570.364503</td>\n      <td>755.677141</td>\n      <td>2.732458e+05</td>\n      <td>0.0</td>\n      <td>...</td>\n      <td>0.002915</td>\n      <td>0.010481</td>\n      <td>13.259004</td>\n      <td>0.098514</td>\n      <td>0.001197</td>\n      <td>0.219607</td>\n      <td>0.088052</td>\n      <td>0.156191</td>\n      <td>7.902970</td>\n      <td>5.344619e+18</td>\n    </tr>\n    <tr>\n      <th>min</th>\n      <td>1.010000e+02</td>\n      <td>1.375000e+03</td>\n      <td>35.249897</td>\n      <td>50.903470</td>\n      <td>35.211980</td>\n      <td>50.535954</td>\n      <td>181.000000</td>\n      <td>120.000000</td>\n      <td>4.956287e+09</td>\n      <td>1.0</td>\n      <td>...</td>\n      <td>0.000000</td>\n      <td>0.000000</td>\n      <td>0.194000</td>\n      <td>0.600579</td>\n      <td>0.000000</td>\n      <td>0.016854</td>\n      <td>0.540521</td>\n      <td>0.000000</td>\n      <td>0.598000</td>\n      <td>3.680090e+14</td>\n    </tr>\n    <tr>\n      <th>25%</th>\n      <td>5.256965e+05</td>\n      <td>5.083280e+06</td>\n      <td>35.661075</td>\n      <td>51.327842</td>\n      <td>35.661700</td>\n      <td>51.328783</td>\n      <td>432.000000</td>\n      <td>463.000000</td>\n      <td>4.956468e+09</td>\n      <td>1.0</td>\n      <td>...</td>\n      <td>0.000000</td>\n      <td>0.006944</td>\n      <td>5.135000</td>\n      <td>0.910158</td>\n      <td>0.000000</td>\n      <td>0.774194</td>\n      <td>0.909452</td>\n      <td>0.000000</td>\n      <td>2.863500</td>\n      <td>4.556804e+18</td>\n    </tr>\n    <tr>\n      <th>50%</th>\n      <td>1.927552e+06</td>\n      <td>2.416122e+07</td>\n      <td>35.723225</td>\n      <td>51.401130</td>\n      <td>35.724415</td>\n      <td>51.401790</td>\n      <td>687.000000</td>\n      <td>773.000000</td>\n      <td>4.956704e+09</td>\n      <td>1.0</td>\n      <td>...</td>\n      <td>0.000000</td>\n      <td>0.012195</td>\n      <td>9.613905</td>\n      <td>0.980324</td>\n      <td>0.000000</td>\n      <td>0.926829</td>\n      <td>0.977657</td>\n      <td>0.000000</td>\n      <td>5.363000</td>\n      <td>9.196628e+18</td>\n    </tr>\n    <tr>\n      <th>75%</th>\n      <td>3.286004e+06</td>\n      <td>3.847533e+07</td>\n      <td>35.752987</td>\n      <td>51.467498</td>\n      <td>35.753855</td>\n      <td>51.471038</td>\n      <td>1081.000000</td>\n      <td>1295.000000</td>\n      <td>4.956973e+09</td>\n      <td>1.0</td>\n      <td>...</td>\n      <td>0.000000</td>\n      <td>0.020408</td>\n      <td>17.831000</td>\n      <td>1.000000</td>\n      <td>0.000000</td>\n      <td>0.981132</td>\n      <td>1.000000</td>\n      <td>0.000000</td>\n      <td>9.939500</td>\n      <td>1.387429e+19</td>\n    </tr>\n    <tr>\n      <th>max</th>\n      <td>4.346206e+06</td>\n      <td>5.750927e+07</td>\n      <td>35.828438</td>\n      <td>52.773940</td>\n      <td>36.048410</td>\n      <td>52.792877</td>\n      <td>5231.000000</td>\n      <td>5851.000000</td>\n      <td>4.957224e+09</td>\n      <td>1.0</td>\n      <td>...</td>\n      <td>0.156830</td>\n      <td>0.052632</td>\n      <td>159.207718</td>\n      <td>1.000000</td>\n      <td>0.067175</td>\n      <td>1.000000</td>\n      <td>1.000000</td>\n      <td>4.430000</td>\n      <td>116.138000</td>\n      <td>1.844592e+19</td>\n    </tr>\n  </tbody>\n</table>\n<p>8 rows × 51 columns</p>\n</div>"
     },
     "execution_count": 110,
     "metadata": {},
     "output_type": "execute_result"
    }
   ],
   "source": [
    "e = rides[((rides['eta'] - rides['a_t_a_result.ride_a_t_a']) > -1200) &\n",
    "          ((rides['eta'] - rides['a_t_a_result.ride_a_t_a']) < 1200)]\n",
    "e.describe()"
   ],
   "metadata": {
    "collapsed": false,
    "pycharm": {
     "name": "#%%\n"
    }
   }
  },
  {
   "cell_type": "code",
   "execution_count": 111,
   "outputs": [
    {
     "data": {
      "text/plain": "       accepted_driver_id  passenger_id    source_lat    source_lng  \\\ncount        1.186100e+04  1.186100e+04  11861.000000  11861.000000   \nmean         1.974680e+06  2.379314e+07     35.692104     51.399437   \nstd          1.438828e+06  1.797776e+07      0.096476      0.145396   \nmin          1.010000e+02  1.375000e+03     35.249897     50.903470   \n25%          5.217930e+05  5.052724e+06     35.661373     51.327934   \n50%          1.922085e+06  2.413395e+07     35.723366     51.400870   \n75%          3.283477e+06  3.846591e+07     35.753020     51.467426   \nmax          4.346206e+06  5.750927e+07     35.828438     52.773940   \n\n       destination_lat  destination_lng           eta           ata  \\\ncount     11861.000000     11861.000000  11861.000000  11861.000000   \nmean         35.694194        51.397945    844.972178    998.499115   \nstd           0.096153         0.150357    570.447699    744.082730   \nmin          34.641853        50.535954    181.000000    120.000000   \n25%          35.661716        51.328740    432.000000    462.000000   \n50%          35.724445        51.401802    687.000000    772.000000   \n75%          35.753860        51.471035   1080.000000   1291.000000   \nmax          36.048410        52.792877   5231.000000   5851.000000   \n\n            ride_id     city  ...  pickup_a_d_d_result.route_ratio  \\\ncount  1.186100e+04  11861.0  ...                     11861.000000   \nmean   4.956719e+09      1.0  ...                         0.000083   \nstd    2.732913e+05      0.0  ...                         0.002917   \nmin    4.956287e+09      1.0  ...                         0.000000   \n25%    4.956468e+09      1.0  ...                         0.000000   \n50%    4.956705e+09      1.0  ...                         0.000000   \n75%    4.956974e+09      1.0  ...                         0.000000   \nmax    4.957224e+09      1.0  ...                         0.156830   \n\n       pickup_a_d_d_result.g_p_s_ratio  ride_a_d_d_result.distance  \\\ncount                     11861.000000                11861.000000   \nmean                          0.014772                   13.779109   \nstd                           0.010486                   13.266258   \nmin                           0.000000                    0.194000   \n25%                           0.006944                    5.128000   \n50%                           0.012195                    9.594000   \n75%                           0.020408                   17.787001   \nmax                           0.052632                  159.207718   \n\n       ride_a_d_d_result.confidence  ride_a_d_d_result.route_ratio  \\\ncount                  11861.000000                   11861.000000   \nmean                       0.933567                       0.000046   \nstd                        0.098815                       0.001198   \nmin                        0.600579                       0.000000   \n25%                        0.909811                       0.000000   \n50%                        0.980323                       0.000000   \n75%                        1.000000                       0.000000   \nmax                        1.000000                       0.067175   \n\n       ride_a_d_d_result.g_p_s_ratio  total_a_d_d_confidence  \\\ncount                   11861.000000            11861.000000   \nmean                        0.830262                0.938296   \nstd                         0.220333                0.088339   \nmin                         0.016854                0.540521   \n25%                         0.772152                0.908910   \n50%                         0.926471                0.977589   \n75%                         0.981132                1.000000   \nmax                         1.000000                1.000000   \n\n       in_ride_allotment         e_d_d        hash\\n  \ncount       11861.000000  11861.000000  1.186100e+04  \nmean            0.017423      7.829453  9.223333e+18  \nstd             0.156309      7.959367  5.342256e+18  \nmin             0.000000      0.598000  3.680090e+14  \n25%             0.000000      2.861000  4.564280e+18  \n50%             0.000000      5.350000  9.182712e+18  \n75%             0.000000      9.931000  1.386905e+19  \nmax             4.430000    116.138000  1.844592e+19  \n\n[8 rows x 51 columns]",
      "text/html": "<div>\n<style scoped>\n    .dataframe tbody tr th:only-of-type {\n        vertical-align: middle;\n    }\n\n    .dataframe tbody tr th {\n        vertical-align: top;\n    }\n\n    .dataframe thead th {\n        text-align: right;\n    }\n</style>\n<table border=\"1\" class=\"dataframe\">\n  <thead>\n    <tr style=\"text-align: right;\">\n      <th></th>\n      <th>accepted_driver_id</th>\n      <th>passenger_id</th>\n      <th>source_lat</th>\n      <th>source_lng</th>\n      <th>destination_lat</th>\n      <th>destination_lng</th>\n      <th>eta</th>\n      <th>ata</th>\n      <th>ride_id</th>\n      <th>city</th>\n      <th>...</th>\n      <th>pickup_a_d_d_result.route_ratio</th>\n      <th>pickup_a_d_d_result.g_p_s_ratio</th>\n      <th>ride_a_d_d_result.distance</th>\n      <th>ride_a_d_d_result.confidence</th>\n      <th>ride_a_d_d_result.route_ratio</th>\n      <th>ride_a_d_d_result.g_p_s_ratio</th>\n      <th>total_a_d_d_confidence</th>\n      <th>in_ride_allotment</th>\n      <th>e_d_d</th>\n      <th>hash\\n</th>\n    </tr>\n  </thead>\n  <tbody>\n    <tr>\n      <th>count</th>\n      <td>1.186100e+04</td>\n      <td>1.186100e+04</td>\n      <td>11861.000000</td>\n      <td>11861.000000</td>\n      <td>11861.000000</td>\n      <td>11861.000000</td>\n      <td>11861.000000</td>\n      <td>11861.000000</td>\n      <td>1.186100e+04</td>\n      <td>11861.0</td>\n      <td>...</td>\n      <td>11861.000000</td>\n      <td>11861.000000</td>\n      <td>11861.000000</td>\n      <td>11861.000000</td>\n      <td>11861.000000</td>\n      <td>11861.000000</td>\n      <td>11861.000000</td>\n      <td>11861.000000</td>\n      <td>11861.000000</td>\n      <td>1.186100e+04</td>\n    </tr>\n    <tr>\n      <th>mean</th>\n      <td>1.974680e+06</td>\n      <td>2.379314e+07</td>\n      <td>35.692104</td>\n      <td>51.399437</td>\n      <td>35.694194</td>\n      <td>51.397945</td>\n      <td>844.972178</td>\n      <td>998.499115</td>\n      <td>4.956719e+09</td>\n      <td>1.0</td>\n      <td>...</td>\n      <td>0.000083</td>\n      <td>0.014772</td>\n      <td>13.779109</td>\n      <td>0.933567</td>\n      <td>0.000046</td>\n      <td>0.830262</td>\n      <td>0.938296</td>\n      <td>0.017423</td>\n      <td>7.829453</td>\n      <td>9.223333e+18</td>\n    </tr>\n    <tr>\n      <th>std</th>\n      <td>1.438828e+06</td>\n      <td>1.797776e+07</td>\n      <td>0.096476</td>\n      <td>0.145396</td>\n      <td>0.096153</td>\n      <td>0.150357</td>\n      <td>570.447699</td>\n      <td>744.082730</td>\n      <td>2.732913e+05</td>\n      <td>0.0</td>\n      <td>...</td>\n      <td>0.002917</td>\n      <td>0.010486</td>\n      <td>13.266258</td>\n      <td>0.098815</td>\n      <td>0.001198</td>\n      <td>0.220333</td>\n      <td>0.088339</td>\n      <td>0.156309</td>\n      <td>7.959367</td>\n      <td>5.342256e+18</td>\n    </tr>\n    <tr>\n      <th>min</th>\n      <td>1.010000e+02</td>\n      <td>1.375000e+03</td>\n      <td>35.249897</td>\n      <td>50.903470</td>\n      <td>34.641853</td>\n      <td>50.535954</td>\n      <td>181.000000</td>\n      <td>120.000000</td>\n      <td>4.956287e+09</td>\n      <td>1.0</td>\n      <td>...</td>\n      <td>0.000000</td>\n      <td>0.000000</td>\n      <td>0.194000</td>\n      <td>0.600579</td>\n      <td>0.000000</td>\n      <td>0.016854</td>\n      <td>0.540521</td>\n      <td>0.000000</td>\n      <td>0.598000</td>\n      <td>3.680090e+14</td>\n    </tr>\n    <tr>\n      <th>25%</th>\n      <td>5.217930e+05</td>\n      <td>5.052724e+06</td>\n      <td>35.661373</td>\n      <td>51.327934</td>\n      <td>35.661716</td>\n      <td>51.328740</td>\n      <td>432.000000</td>\n      <td>462.000000</td>\n      <td>4.956468e+09</td>\n      <td>1.0</td>\n      <td>...</td>\n      <td>0.000000</td>\n      <td>0.006944</td>\n      <td>5.128000</td>\n      <td>0.909811</td>\n      <td>0.000000</td>\n      <td>0.772152</td>\n      <td>0.908910</td>\n      <td>0.000000</td>\n      <td>2.861000</td>\n      <td>4.564280e+18</td>\n    </tr>\n    <tr>\n      <th>50%</th>\n      <td>1.922085e+06</td>\n      <td>2.413395e+07</td>\n      <td>35.723366</td>\n      <td>51.400870</td>\n      <td>35.724445</td>\n      <td>51.401802</td>\n      <td>687.000000</td>\n      <td>772.000000</td>\n      <td>4.956705e+09</td>\n      <td>1.0</td>\n      <td>...</td>\n      <td>0.000000</td>\n      <td>0.012195</td>\n      <td>9.594000</td>\n      <td>0.980323</td>\n      <td>0.000000</td>\n      <td>0.926471</td>\n      <td>0.977589</td>\n      <td>0.000000</td>\n      <td>5.350000</td>\n      <td>9.182712e+18</td>\n    </tr>\n    <tr>\n      <th>75%</th>\n      <td>3.283477e+06</td>\n      <td>3.846591e+07</td>\n      <td>35.753020</td>\n      <td>51.467426</td>\n      <td>35.753860</td>\n      <td>51.471035</td>\n      <td>1080.000000</td>\n      <td>1291.000000</td>\n      <td>4.956974e+09</td>\n      <td>1.0</td>\n      <td>...</td>\n      <td>0.000000</td>\n      <td>0.020408</td>\n      <td>17.787001</td>\n      <td>1.000000</td>\n      <td>0.000000</td>\n      <td>0.981132</td>\n      <td>1.000000</td>\n      <td>0.000000</td>\n      <td>9.931000</td>\n      <td>1.386905e+19</td>\n    </tr>\n    <tr>\n      <th>max</th>\n      <td>4.346206e+06</td>\n      <td>5.750927e+07</td>\n      <td>35.828438</td>\n      <td>52.773940</td>\n      <td>36.048410</td>\n      <td>52.792877</td>\n      <td>5231.000000</td>\n      <td>5851.000000</td>\n      <td>4.957224e+09</td>\n      <td>1.0</td>\n      <td>...</td>\n      <td>0.156830</td>\n      <td>0.052632</td>\n      <td>159.207718</td>\n      <td>1.000000</td>\n      <td>0.067175</td>\n      <td>1.000000</td>\n      <td>1.000000</td>\n      <td>4.430000</td>\n      <td>116.138000</td>\n      <td>1.844592e+19</td>\n    </tr>\n  </tbody>\n</table>\n<p>8 rows × 51 columns</p>\n</div>"
     },
     "execution_count": 111,
     "metadata": {},
     "output_type": "execute_result"
    }
   ],
   "source": [
    "f = rides[((rides['eta'] - rides['ata']) > -1200) &\n",
    "          ((rides['eta'] - rides['ata']) < 1200)]\n",
    "f.describe()"
   ],
   "metadata": {
    "collapsed": false,
    "pycharm": {
     "name": "#%%\n"
    }
   }
  },
  {
   "cell_type": "code",
   "execution_count": 112,
   "outputs": [
    {
     "data": {
      "text/plain": "accepted_driver_id                                             12394\ncreated_at                                                     12394\npassenger_id                                                   12394\nsource_lat                                                     12394\nsource_lng                                                     12394\ndestination_lat                                                12394\ndestination_lng                                                12394\neta                                                            12394\nprovider                                                       12394\nata                                                            12394\nride_id                                                        12394\ncity                                                           12394\ndriver_id                                                      12394\na_t_a_result.arrival_a_t_a                                     12394\na_t_a_result.boarding_a_t_a                                    12394\na_t_a_result.ride_a_t_a                                        12394\na_t_a_result.arrival_probe_result.probe.point.lat              12394\na_t_a_result.arrival_probe_result.probe.point.lon              12394\na_t_a_result.arrival_probe_result.probe.timestamp              12394\na_t_a_result.arrival_probe_result.confidence                   12394\na_t_a_result.arrival_probe_result.h3_index                     12394\na_t_a_result.arrival_probe_result.k_ring_level                 12394\na_t_a_result.boarding_probe_result.probe.point.lat             12394\na_t_a_result.boarding_probe_result.probe.point.lon             12394\na_t_a_result.boarding_probe_result.probe.timestamp             12394\na_t_a_result.boarding_probe_result.confidence                  12394\na_t_a_result.boarding_probe_result.h3_index                    12394\na_t_a_result.boarding_probe_result.k_ring_level                12394\na_t_a_result.final_destination_probe_result.probe.point.lat    12394\na_t_a_result.final_destination_probe_result.probe.point.lon    12394\na_t_a_result.final_destination_probe_result.probe.timestamp    12394\na_t_a_result.final_destination_probe_result.confidence         12394\na_t_a_result.final_destination_probe_result.h3_index           12394\na_t_a_result.final_destination_probe_result.k_ring_level       12394\na_t_a_result.destination_probe_result.probe.point.lat          12394\na_t_a_result.destination_probe_result.probe.point.lon          12394\na_t_a_result.destination_probe_result.probe.timestamp          12394\na_t_a_result.destination_probe_result.confidence               12394\na_t_a_result.destination_probe_result.h3_index                 12394\na_t_a_result.destination_probe_result.k_ring_level             12394\na_t_a_result.extra_destination_probe_result.probe.point.lat    12394\na_t_a_result.extra_destination_probe_result.probe.point.lon    12394\na_t_a_result.extra_destination_probe_result.probe.timestamp    12394\na_t_a_result.extra_destination_probe_result.confidence         12394\na_t_a_result.extra_destination_probe_result.h3_index               0\na_t_a_result.extra_destination_probe_result.k_ring_level       12394\npickup_a_d_d_result.distance                                   12394\npickup_a_d_d_result.confidence                                 12394\npickup_a_d_d_result.route_ratio                                12394\npickup_a_d_d_result.g_p_s_ratio                                12394\nride_a_d_d_result.distance                                     12394\nride_a_d_d_result.confidence                                   12394\nride_a_d_d_result.route_ratio                                  12394\nride_a_d_d_result.g_p_s_ratio                                  12394\ntotal_a_d_d_confidence                                         12394\nin_ride_allotment                                              12394\ne_d_d                                                          12394\nclickhouse_time                                                12394\nhash\\n                                                         12394\ndtype: int64"
     },
     "execution_count": 112,
     "metadata": {},
     "output_type": "execute_result"
    }
   ],
   "source": [
    "g = rides[((rides['a_t_a_result.ride_a_t_a'] - rides['ata']) > -1200) &\n",
    "          ((rides['a_t_a_result.ride_a_t_a'] - rides['ata']) < 1200)]\n",
    "\n",
    "g.count()"
   ],
   "metadata": {
    "collapsed": false,
    "pycharm": {
     "name": "#%%\n"
    }
   }
  },
  {
   "cell_type": "code",
   "execution_count": 113,
   "outputs": [],
   "source": [
    "rides = rides[['eta', 'ata', 'a_t_a_result.ride_a_t_a', 'source_lat', 'source_lng', 'destination_lat', 'destination_lng', 'e_d_d']]"
   ],
   "metadata": {
    "collapsed": false,
    "pycharm": {
     "name": "#%%\n"
    }
   }
  },
  {
   "cell_type": "code",
   "execution_count": 114,
   "outputs": [
    {
     "data": {
      "text/plain": "0.9173144178383825"
     },
     "execution_count": 114,
     "metadata": {},
     "output_type": "execute_result"
    }
   ],
   "source": [
    "rides['eta'].corr(rides['a_t_a_result.ride_a_t_a'])"
   ],
   "metadata": {
    "collapsed": false,
    "pycharm": {
     "name": "#%%\n"
    }
   }
  },
  {
   "cell_type": "code",
   "execution_count": 115,
   "outputs": [
    {
     "data": {
      "text/plain": "0.808001607808261"
     },
     "execution_count": 115,
     "metadata": {},
     "output_type": "execute_result"
    }
   ],
   "source": [
    "rides['e_d_d'].corr(rides['a_t_a_result.ride_a_t_a'])"
   ],
   "metadata": {
    "collapsed": false,
    "pycharm": {
     "name": "#%%\n"
    }
   }
  },
  {
   "cell_type": "code",
   "execution_count": 116,
   "outputs": [
    {
     "data": {
      "text/plain": "0.9060041449606843"
     },
     "execution_count": 116,
     "metadata": {},
     "output_type": "execute_result"
    }
   ],
   "source": [
    "rides['e_d_d'].corr(rides['eta'])"
   ],
   "metadata": {
    "collapsed": false,
    "pycharm": {
     "name": "#%%\n"
    }
   }
  },
  {
   "cell_type": "code",
   "execution_count": 117,
   "outputs": [],
   "source": [
    "from sklearn.linear_model import LinearRegression\n",
    "from sklearn.metrics import mean_absolute_error, mean_squared_error, explained_variance_score, median_absolute_error, r2_score, mean_absolute_percentage_error"
   ],
   "metadata": {
    "collapsed": false,
    "pycharm": {
     "name": "#%%\n"
    }
   }
  },
  {
   "cell_type": "code",
   "execution_count": 169,
   "outputs": [],
   "source": [
    "eta_edd = rides[[\"eta\", \"e_d_d\"]].to_numpy().reshape(-1, 2)\n",
    "ata = rides[\"a_t_a_result.ride_a_t_a\"].to_numpy().reshape(-1, 1)\n",
    "eta = rides[\"eta\"].to_numpy().reshape(-1, 1)\n",
    "eta_eta = np.tile(eta, (1, 2))"
   ],
   "metadata": {
    "collapsed": false,
    "pycharm": {
     "name": "#%%\n"
    }
   }
  },
  {
   "cell_type": "code",
   "execution_count": 123,
   "outputs": [],
   "source": [
    "from sklearn.model_selection import train_test_split"
   ],
   "metadata": {
    "collapsed": false,
    "pycharm": {
     "name": "#%%\n"
    }
   }
  },
  {
   "cell_type": "code",
   "execution_count": 210,
   "outputs": [],
   "source": [
    "from scipy.stats import *"
   ],
   "metadata": {
    "collapsed": false,
    "pycharm": {
     "name": "#%%\n"
    }
   }
  },
  {
   "cell_type": "code",
   "execution_count": 231,
   "outputs": [],
   "source": [
    "feature_mean = np.mean(eta_edd, axis=0)\n",
    "feature_std = np.std(eta_edd, axis=0, ddof=1)"
   ],
   "metadata": {
    "collapsed": false,
    "pycharm": {
     "name": "#%%\n"
    }
   }
  },
  {
   "cell_type": "code",
   "execution_count": 232,
   "outputs": [
    {
     "data": {
      "text/plain": "array([[-0.01542253, -0.31050844],\n       [-3.17357178, -2.37903875],\n       [-2.03567373, -0.95709898],\n       ...,\n       [-1.85727446, -1.8213193 ],\n       [ 4.6229585 ,  9.33481911],\n       [ 2.6027073 ,  2.21707348]])"
     },
     "execution_count": 232,
     "metadata": {},
     "output_type": "execute_result"
    }
   ],
   "source": [
    "feature_zscore = ((eta_edd - feature_mean) * 3) / feature_std\n",
    "feature_zscore"
   ],
   "metadata": {
    "collapsed": false,
    "pycharm": {
     "name": "#%%\n"
    }
   }
  },
  {
   "cell_type": "code",
   "execution_count": 241,
   "outputs": [
    {
     "name": "stdout",
     "output_type": "stream",
     "text": [
      "[1122.71170084]\n",
      "[937.99499777]\n"
     ]
    },
    {
     "data": {
      "text/plain": "array([[-0.3572888 ],\n       [-2.42339789],\n       [-1.93405627],\n       ...,\n       [-1.67499305],\n       [ 2.14059233],\n       [ 1.89112405]])"
     },
     "execution_count": 241,
     "metadata": {},
     "output_type": "execute_result"
    }
   ],
   "source": [
    "target_mean = np.mean(ata, axis=0)\n",
    "# print(target_mean)\n",
    "target_std = np.std(ata, axis=0, ddof=1)\n",
    "# print(target_std)\n",
    "target_zscore = ((ata - target_mean) * 3) / target_std\n",
    "target_zscore"
   ],
   "metadata": {
    "collapsed": false,
    "pycharm": {
     "name": "#%%\n"
    }
   }
  },
  {
   "cell_type": "code",
   "execution_count": 243,
   "outputs": [
    {
     "data": {
      "text/plain": "array([[<AxesSubplot: title={'center': 'ATA'}>]], dtype=object)"
     },
     "execution_count": 243,
     "metadata": {},
     "output_type": "execute_result"
    },
    {
     "data": {
      "text/plain": "<Figure size 640x480 with 1 Axes>",
      "image/png": "[encoded data removed]"
     },
     "metadata": {},
     "output_type": "display_data"
    }
   ],
   "source": [
    "ata_df = pd.DataFrame(ata, columns = ['ATA'])\n",
    "ata_df.hist(bins=500)"
   ],
   "metadata": {
    "collapsed": false,
    "pycharm": {
     "name": "#%%\n"
    }
   }
  },
  {
   "cell_type": "code",
   "execution_count": 245,
   "outputs": [
    {
     "data": {
      "text/plain": "array([[<AxesSubplot: title={'center': 'target_zscore ATA'}>]],\n      dtype=object)"
     },
     "execution_count": 245,
     "metadata": {},
     "output_type": "execute_result"
    },
    {
     "data": {
      "text/plain": "<Figure size 640x480 with 1 Axes>",
      "image/png": "[encoded data removed]"
     },
     "metadata": {},
     "output_type": "display_data"
    }
   ],
   "source": [
    "target_zscore_df = pd.DataFrame(target_zscore, columns = ['target_zscore ATA'])\n",
    "target_zscore_df.hist(bins=500)"
   ],
   "metadata": {
    "collapsed": false,
    "pycharm": {
     "name": "#%%\n"
    }
   }
  },
  {
   "cell_type": "code",
   "execution_count": 246,
   "outputs": [],
   "source": [
    "from sklearn.preprocessing import RobustScaler"
   ],
   "metadata": {
    "collapsed": false,
    "pycharm": {
     "name": "#%%\n"
    }
   }
  },
  {
   "cell_type": "code",
   "execution_count": 247,
   "outputs": [
    {
     "data": {
      "text/plain": "array([[<AxesSubplot: title={'center': 'target_zscore ATA'}>]],\n      dtype=object)"
     },
     "execution_count": 247,
     "metadata": {},
     "output_type": "execute_result"
    },
    {
     "data": {
      "text/plain": "<Figure size 640x480 with 1 Axes>",
      "image/png": "[encoded data removed]"
     },
     "metadata": {},
     "output_type": "display_data"
    }
   ],
   "source": [
    "robust_ata = RobustScaler().fit(ata).transform(ata)\n",
    "\n",
    "robust_ata_df = pd.DataFrame(robust_ata, columns = ['target_zscore ATA'])\n",
    "robust_ata_df.hist(bins=500)"
   ],
   "metadata": {
    "collapsed": false,
    "pycharm": {
     "name": "#%%\n"
    }
   }
  },
  {
   "cell_type": "code",
   "execution_count": 254,
   "outputs": [
    {
     "data": {
      "text/plain": "array([[<AxesSubplot: title={'center': 'robust_eta'}>]], dtype=object)"
     },
     "execution_count": 254,
     "metadata": {},
     "output_type": "execute_result"
    },
    {
     "data": {
      "text/plain": "<Figure size 640x480 with 1 Axes>",
      "image/png": "[encoded data removed]"
     },
     "metadata": {},
     "output_type": "display_data"
    }
   ],
   "source": [
    "eta_a = eta_edd[:, 0].reshape(-1, 1)\n",
    "robust_eta = RobustScaler().fit(eta_a).transform(eta_a)\n",
    "\n",
    "robust_eta_df = pd.DataFrame(robust_eta, columns = ['robust_eta'])\n",
    "robust_eta_df.hist(bins=500)"
   ],
   "metadata": {
    "collapsed": false,
    "pycharm": {
     "name": "#%%\n"
    }
   }
  },
  {
   "cell_type": "code",
   "execution_count": 255,
   "outputs": [
    {
     "data": {
      "text/plain": "array([[<AxesSubplot: title={'center': 'robust_edd'}>]], dtype=object)"
     },
     "execution_count": 255,
     "metadata": {},
     "output_type": "execute_result"
    },
    {
     "data": {
      "text/plain": "<Figure size 640x480 with 1 Axes>",
      "image/png": "[encoded data removed]"
     },
     "metadata": {},
     "output_type": "display_data"
    }
   ],
   "source": [
    "edd_a = eta_edd[:, 1].reshape(-1, 1)\n",
    "robust_edd = RobustScaler().fit(edd_a).transform(edd_a)\n",
    "\n",
    "robust_edd_df = pd.DataFrame(robust_edd, columns = ['robust_edd'])\n",
    "robust_edd_df.hist(bins=500)"
   ],
   "metadata": {
    "collapsed": false,
    "pycharm": {
     "name": "#%%\n"
    }
   }
  },
  {
   "cell_type": "code",
   "execution_count": 256,
   "outputs": [
    {
     "data": {
      "text/plain": "array([[<AxesSubplot: title={'center': 'robust_edd'}>]], dtype=object)"
     },
     "execution_count": 256,
     "metadata": {},
     "output_type": "execute_result"
    },
    {
     "data": {
      "text/plain": "<Figure size 640x480 with 1 Axes>",
      "image/png": "[encoded data removed]"
     },
     "metadata": {},
     "output_type": "display_data"
    }
   ],
   "source": [
    "edd_df = pd.DataFrame(edd_a, columns = ['robust_edd'])\n",
    "edd_df.hist(bins=500)"
   ],
   "metadata": {
    "collapsed": false,
    "pycharm": {
     "name": "#%%\n"
    }
   }
  },
  {
   "cell_type": "code",
   "execution_count": 248,
   "outputs": [],
   "source": [
    "from sklearn.preprocessing import MinMaxScaler"
   ],
   "metadata": {
    "collapsed": false,
    "pycharm": {
     "name": "#%%\n"
    }
   }
  },
  {
   "cell_type": "code",
   "execution_count": 249,
   "outputs": [
    {
     "data": {
      "text/plain": "array([[<AxesSubplot: title={'center': 'target_zscore ATA'}>]],\n      dtype=object)"
     },
     "execution_count": 249,
     "metadata": {},
     "output_type": "execute_result"
    },
    {
     "data": {
      "text/plain": "<Figure size 640x480 with 1 Axes>",
      "image/png": "[encoded data removed]"
     },
     "metadata": {},
     "output_type": "display_data"
    }
   ],
   "source": [
    "minmaxscaled_ata = MinMaxScaler().fit(ata).transform(ata)\n",
    "minmaxscaled_ata_df = pd.DataFrame(minmaxscaled_ata, columns = ['target_zscore ATA'])\n",
    "minmaxscaled_ata_df.hist(bins=500)"
   ],
   "metadata": {
    "collapsed": false,
    "pycharm": {
     "name": "#%%\n"
    }
   }
  },
  {
   "cell_type": "code",
   "execution_count": 236,
   "outputs": [
    {
     "name": "stdout",
     "output_type": "stream",
     "text": [
      "11813\n",
      "622\n"
     ]
    }
   ],
   "source": [
    "eta_train, eta_test, ata_train, ata_test = train_test_split(feature_zscore, target_zscore, test_size=0.05, random_state=73)\n",
    "print(len(eta_train))\n",
    "print(len(eta_test))"
   ],
   "metadata": {
    "collapsed": false,
    "pycharm": {
     "name": "#%%\n"
    }
   }
  },
  {
   "cell_type": "code",
   "execution_count": 237,
   "outputs": [],
   "source": [
    "reg = LinearRegression().fit(eta_train, ata_train)"
   ],
   "metadata": {
    "collapsed": false,
    "pycharm": {
     "name": "#%%\n"
    }
   }
  },
  {
   "cell_type": "code",
   "execution_count": 238,
   "outputs": [
    {
     "name": "stdout",
     "output_type": "stream",
     "text": [
      "[[ 1.02932999 -0.12462106]]\n",
      "[-0.00092287]\n"
     ]
    }
   ],
   "source": [
    "print(reg.coef_)\n",
    "print(reg.intercept_)"
   ],
   "metadata": {
    "collapsed": false,
    "pycharm": {
     "name": "#%%\n"
    }
   }
  },
  {
   "cell_type": "code",
   "execution_count": 239,
   "outputs": [],
   "source": [
    "ata_train_pred = reg.predict(eta_train)\n",
    "ata_test_pred = reg.predict(eta_test)"
   ],
   "metadata": {
    "collapsed": false,
    "pycharm": {
     "name": "#%%\n"
    }
   }
  },
  {
   "cell_type": "code",
   "execution_count": 240,
   "outputs": [
    {
     "name": "stdout",
     "output_type": "stream",
     "text": [
      "ETA train MAE 0.7925271618869091\n",
      "prediction train MAE 0.7463635041889981\n",
      "ETA test MAE  0.8004737546728347\n",
      "prediction test MAE 0.7496273310489244\n",
      "ETA train MSE 1.4913276731242677\n",
      "prediction train MSE 1.4034167595616567\n",
      "ETA test MSE  1.4292149712845577\n",
      "prediction test MSE 1.3341537638676257\n",
      "ETA train explained_variance_score 0.834183261753225\n",
      "prediction train explained_variance_score 0.8439577081318685\n",
      "ETA test explained_variance_score  0.843040581355819\n",
      "prediction test explained_variance_score 0.8534707297310548\n",
      "ETA train median_absolute_error 0.4963738121531618\n",
      "prediction train median_absolute_error 0.4635360084059825\n",
      "ETA test median_absolute_error  0.5328075594101533\n",
      "prediction test median_absolute_error 0.47974009255880845\n",
      "ETA train r2_score 0.8341831202633186\n",
      "prediction train r2_score 0.8439577081318685\n",
      "ETA test r2_score  0.8429901571858647\n",
      "prediction test r2_score 0.8534333344084203\n",
      "ETA train MAPE 1.947603152225108\n",
      "prediction train MAPE 1.8097379854668105\n",
      "ETA test MAPE  1.4001669681450777\n",
      "prediction test MAPE 1.3209528020385914\n"
     ]
    }
   ],
   "source": [
    "print(\"ETA train MAE\", mean_absolute_error(ata_train, eta_train[:, 0]))\n",
    "print(\"prediction train MAE\", mean_absolute_error(ata_train, ata_train_pred))\n",
    "\n",
    "print(\"ETA test MAE \", mean_absolute_error(ata_test, eta_test[:, 0]))\n",
    "print(\"prediction test MAE\", mean_absolute_error(ata_test, ata_test_pred))\n",
    "\n",
    "\n",
    "print(\"ETA train MSE\", mean_squared_error(ata_train, eta_train[:, 0]))\n",
    "print(\"prediction train MSE\", mean_squared_error(ata_train, ata_train_pred))\n",
    "\n",
    "print(\"ETA test MSE \", mean_squared_error(ata_test, eta_test[:, 0]))\n",
    "print(\"prediction test MSE\", mean_squared_error(ata_test, ata_test_pred))\n",
    "\n",
    "\n",
    "print(\"ETA train explained_variance_score\", explained_variance_score(ata_train, eta_train[:, 0]))\n",
    "print(\"prediction train explained_variance_score\", explained_variance_score(ata_train, ata_train_pred))\n",
    "\n",
    "print(\"ETA test explained_variance_score \", explained_variance_score(ata_test, eta_test[:, 0]))\n",
    "print(\"prediction test explained_variance_score\", explained_variance_score(ata_test, ata_test_pred))\n",
    "\n",
    "\n",
    "print(\"ETA train median_absolute_error\", median_absolute_error(ata_train, eta_train[:, 0]))\n",
    "print(\"prediction train median_absolute_error\", median_absolute_error(ata_train, ata_train_pred))\n",
    "\n",
    "print(\"ETA test median_absolute_error \", median_absolute_error(ata_test, eta_test[:, 0]))\n",
    "print(\"prediction test median_absolute_error\", median_absolute_error(ata_test, ata_test_pred))\n",
    "\n",
    "\n",
    "print(\"ETA train r2_score\", r2_score(ata_train, eta_train[:, 0]))\n",
    "print(\"prediction train r2_score\", r2_score(ata_train, ata_train_pred))\n",
    "\n",
    "print(\"ETA test r2_score \", r2_score(ata_test, eta_test[:, 0]))\n",
    "print(\"prediction test r2_score\", r2_score(ata_test, ata_test_pred))\n",
    "\n",
    "\n",
    "print(\"ETA train MAPE\", mean_absolute_percentage_error(ata_train, eta_train[:, 0]))\n",
    "print(\"prediction train MAPE\", mean_absolute_percentage_error(ata_train, ata_train_pred))\n",
    "\n",
    "print(\"ETA test MAPE \", mean_absolute_percentage_error(ata_test, eta_test[:, 0]))\n",
    "print(\"prediction test MAPE\", mean_absolute_percentage_error(ata_test, ata_test_pred))"
   ],
   "metadata": {
    "collapsed": false,
    "pycharm": {
     "name": "#%%\n"
    }
   }
  },
  {
   "cell_type": "code",
   "execution_count": 157,
   "outputs": [
    {
     "data": {
      "text/plain": "array([[<AxesSubplot: title={'center': 'ATA - ETA (Train data)'}>]],\n      dtype=object)"
     },
     "execution_count": 157,
     "metadata": {},
     "output_type": "execute_result"
    },
    {
     "data": {
      "text/plain": "<Figure size 640x480 with 1 Axes>",
      "image/png": "[encoded data removed]"
     },
     "metadata": {},
     "output_type": "display_data"
    }
   ],
   "source": [
    "p1_train_df = pd.DataFrame(abs(ata_train - eta_train[:, 0].reshape(-1, 1)), columns = ['ATA - ETA (Train data)'])\n",
    "p1_train_df.hist(bins=500)"
   ],
   "metadata": {
    "collapsed": false,
    "pycharm": {
     "name": "#%%\n"
    }
   }
  },
  {
   "cell_type": "code",
   "execution_count": 162,
   "outputs": [
    {
     "data": {
      "text/plain": "array([[<AxesSubplot: title={'center': 'ATA - ETA (Train data)'}>]],\n      dtype=object)"
     },
     "execution_count": 162,
     "metadata": {},
     "output_type": "execute_result"
    },
    {
     "data": {
      "text/plain": "<Figure size 640x480 with 1 Axes>",
      "image/png": "[encoded data removed]"
     },
     "metadata": {},
     "output_type": "display_data"
    }
   ],
   "source": [
    "p1_train_df = pd.DataFrame(abs(ata_train - ata_train_pred), columns = ['ATA - ETA (Train data)'])\n",
    "p1_train_df.hist(bins=500)"
   ],
   "metadata": {
    "collapsed": false,
    "pycharm": {
     "name": "#%%\n"
    }
   }
  },
  {
   "cell_type": "code",
   "execution_count": 192,
   "outputs": [
    {
     "data": {
      "text/plain": "               eta          ata  a_t_a_result.ride_a_t_a   source_lat  \\\ncount  1148.000000  1148.000000              1148.000000  1148.000000   \nmean   2354.763066  3187.810976              3198.094077    35.696545   \nstd     525.103566   980.587093               964.847180     0.098258   \nmin    1801.000000   634.000000               643.000000    35.305310   \n25%    1979.750000  2450.750000              2463.250000    35.658965   \n50%    2200.500000  3025.500000              3040.500000    35.725855   \n75%    2567.250000  3773.000000              3759.500000    35.762264   \nmax    5231.000000  6596.000000              6812.000000    35.827988   \n\n        source_lng  destination_lat  destination_lng        e_d_d  \ncount  1148.000000      1148.000000      1148.000000  1148.000000  \nmean     51.380268        35.698584        51.348391    27.291320  \nstd       0.131829         0.092436         0.176534    13.290805  \nmin      50.912144        34.641853        50.535954     6.048000  \n25%      51.315663        35.657081        51.286649    17.794499  \n50%      51.397116        35.717691        51.389088    23.650000  \n75%      51.442613        35.753304        51.454609    34.283249  \nmax      52.028034        36.048410        51.937244   116.138000  ",
      "text/html": "<div>\n<style scoped>\n    .dataframe tbody tr th:only-of-type {\n        vertical-align: middle;\n    }\n\n    .dataframe tbody tr th {\n        vertical-align: top;\n    }\n\n    .dataframe thead th {\n        text-align: right;\n    }\n</style>\n<table border=\"1\" class=\"dataframe\">\n  <thead>\n    <tr style=\"text-align: right;\">\n      <th></th>\n      <th>eta</th>\n      <th>ata</th>\n      <th>a_t_a_result.ride_a_t_a</th>\n      <th>source_lat</th>\n      <th>source_lng</th>\n      <th>destination_lat</th>\n      <th>destination_lng</th>\n      <th>e_d_d</th>\n    </tr>\n  </thead>\n  <tbody>\n    <tr>\n      <th>count</th>\n      <td>1148.000000</td>\n      <td>1148.000000</td>\n      <td>1148.000000</td>\n      <td>1148.000000</td>\n      <td>1148.000000</td>\n      <td>1148.000000</td>\n      <td>1148.000000</td>\n      <td>1148.000000</td>\n    </tr>\n    <tr>\n      <th>mean</th>\n      <td>2354.763066</td>\n      <td>3187.810976</td>\n      <td>3198.094077</td>\n      <td>35.696545</td>\n      <td>51.380268</td>\n      <td>35.698584</td>\n      <td>51.348391</td>\n      <td>27.291320</td>\n    </tr>\n    <tr>\n      <th>std</th>\n      <td>525.103566</td>\n      <td>980.587093</td>\n      <td>964.847180</td>\n      <td>0.098258</td>\n      <td>0.131829</td>\n      <td>0.092436</td>\n      <td>0.176534</td>\n      <td>13.290805</td>\n    </tr>\n    <tr>\n      <th>min</th>\n      <td>1801.000000</td>\n      <td>634.000000</td>\n      <td>643.000000</td>\n      <td>35.305310</td>\n      <td>50.912144</td>\n      <td>34.641853</td>\n      <td>50.535954</td>\n      <td>6.048000</td>\n    </tr>\n    <tr>\n      <th>25%</th>\n      <td>1979.750000</td>\n      <td>2450.750000</td>\n      <td>2463.250000</td>\n      <td>35.658965</td>\n      <td>51.315663</td>\n      <td>35.657081</td>\n      <td>51.286649</td>\n      <td>17.794499</td>\n    </tr>\n    <tr>\n      <th>50%</th>\n      <td>2200.500000</td>\n      <td>3025.500000</td>\n      <td>3040.500000</td>\n      <td>35.725855</td>\n      <td>51.397116</td>\n      <td>35.717691</td>\n      <td>51.389088</td>\n      <td>23.650000</td>\n    </tr>\n    <tr>\n      <th>75%</th>\n      <td>2567.250000</td>\n      <td>3773.000000</td>\n      <td>3759.500000</td>\n      <td>35.762264</td>\n      <td>51.442613</td>\n      <td>35.753304</td>\n      <td>51.454609</td>\n      <td>34.283249</td>\n    </tr>\n    <tr>\n      <th>max</th>\n      <td>5231.000000</td>\n      <td>6596.000000</td>\n      <td>6812.000000</td>\n      <td>35.827988</td>\n      <td>52.028034</td>\n      <td>36.048410</td>\n      <td>51.937244</td>\n      <td>116.138000</td>\n    </tr>\n  </tbody>\n</table>\n</div>"
     },
     "execution_count": 192,
     "metadata": {},
     "output_type": "execute_result"
    }
   ],
   "source": [
    "# HERE\n",
    "rides_p2 = rides[rides['eta'] > 1800]\n",
    "rides_p2.describe()"
   ],
   "metadata": {
    "collapsed": false,
    "pycharm": {
     "name": "#%%\n"
    }
   }
  },
  {
   "cell_type": "code",
   "execution_count": 194,
   "outputs": [
    {
     "name": "stdout",
     "output_type": "stream",
     "text": [
      "1090\n",
      "58\n"
     ]
    }
   ],
   "source": [
    "p2_eta_edd = rides_p2[[\"eta\", \"e_d_d\"]].to_numpy().reshape(-1, 2)\n",
    "p2_eta = rides_p2[\"eta\"].to_numpy().reshape(-1, 1)\n",
    "p2_ata = rides_p2[\"a_t_a_result.ride_a_t_a\"].to_numpy().reshape(-1, 1)\n",
    "\n",
    "p2_eta_train, p2_eta_test, p2_ata_train, p2_ata_test = train_test_split(p2_eta_edd, p2_ata, test_size=0.05, random_state=73)\n",
    "print(len(p2_eta_train))\n",
    "print(len(p2_eta_test))"
   ],
   "metadata": {
    "collapsed": false,
    "pycharm": {
     "name": "#%%\n"
    }
   }
  },
  {
   "cell_type": "code",
   "execution_count": 244,
   "outputs": [
    {
     "data": {
      "text/plain": "array([[<AxesSubplot: title={'center': 'P4 ATA'}>]], dtype=object)"
     },
     "execution_count": 244,
     "metadata": {},
     "output_type": "execute_result"
    },
    {
     "data": {
      "text/plain": "<Figure size 640x480 with 1 Axes>",
      "image/png": "[encoded data removed]"
     },
     "metadata": {},
     "output_type": "display_data"
    }
   ],
   "source": [
    "p2_ata_df = pd.DataFrame(p2_ata, columns = ['P4 ATA'])\n",
    "p2_ata_df.hist(bins=500)"
   ],
   "metadata": {
    "collapsed": false,
    "pycharm": {
     "name": "#%%\n"
    }
   }
  },
  {
   "cell_type": "code",
   "execution_count": 195,
   "outputs": [],
   "source": [
    "reg_p2 = LinearRegression().fit(p2_eta_train, p2_ata_train)"
   ],
   "metadata": {
    "collapsed": false,
    "pycharm": {
     "name": "#%%\n"
    }
   }
  },
  {
   "cell_type": "code",
   "execution_count": 196,
   "outputs": [],
   "source": [
    "p2_ata_train_pred = reg_p2.predict(p2_eta_train)\n",
    "p2_ata_test_pred = reg_p2.predict(p2_eta_test)"
   ],
   "metadata": {
    "collapsed": false,
    "pycharm": {
     "name": "#%%\n"
    }
   }
  },
  {
   "cell_type": "code",
   "execution_count": 197,
   "outputs": [
    {
     "name": "stdout",
     "output_type": "stream",
     "text": [
      "[[  1.6193566  -22.14114576]]\n",
      "[-6.95410624]\n"
     ]
    }
   ],
   "source": [
    "print(reg_p2.coef_)\n",
    "print(reg_p2.intercept_)"
   ],
   "metadata": {
    "collapsed": false,
    "pycharm": {
     "name": "#%%\n"
    }
   }
  },
  {
   "cell_type": "code",
   "execution_count": 199,
   "outputs": [
    {
     "name": "stdout",
     "output_type": "stream",
     "text": [
      "p1 ETA train MAE 894.7\n",
      "p1 prediction train MAE 556.4703348973285\n",
      "p1 ETA test MAE  921.3965517241379\n",
      "p1 prediction test MAE 702.6741831243231\n",
      "p1 ETA train MSE 1278331.1403669724\n",
      "p1 prediction train MSE 525888.6045934805\n",
      "p1 ETA test MSE  1433092.4655172413\n",
      "p1 prediction test MSE 878786.4003566415\n",
      "p1 ETA train explained_variance_score 0.3918970695359938\n",
      "p1 prediction train explained_variance_score 0.4287992248018999\n",
      "p1 ETA test explained_variance_score  0.21839702919065196\n",
      "p1 prediction test explained_variance_score 0.19877454927847393\n",
      "p1 ETA train median_absolute_error 731.5\n",
      "p1 prediction train median_absolute_error 437.54777832831314\n",
      "p1 ETA test median_absolute_error  694.0\n",
      "p1 prediction test median_absolute_error 534.8478009289843\n",
      "p1 ETA train r2_score -0.38847606120297784\n",
      "p1 prediction train r2_score 0.4287992248018999\n",
      "p1 ETA test r2_score  -0.31549159768053325\n",
      "p1 prediction test r2_score 0.1933276089007706\n",
      "p1 ETA train MAPE 0.2564183214570339\n",
      "p1 prediction train MAPE 0.1925041794892429\n",
      "p1 ETA test MAPE  0.307574922241658\n",
      "p1 prediction test MAPE 0.3073194893033657\n"
     ]
    }
   ],
   "source": [
    "print(\"p1 ETA train MAE\", mean_absolute_error(p2_ata_train, p2_eta_train[:, 0]))\n",
    "print(\"p1 prediction train MAE\", mean_absolute_error(p2_ata_train, p2_ata_train_pred))\n",
    "\n",
    "print(\"p1 ETA test MAE \", mean_absolute_error(p2_ata_test, p2_eta_test[:, 0]))\n",
    "print(\"p1 prediction test MAE\", mean_absolute_error(p2_ata_test, p2_ata_test_pred))\n",
    "\n",
    "\n",
    "print(\"p1 ETA train MSE\", mean_squared_error(p2_ata_train, p2_eta_train[:, 0]))\n",
    "print(\"p1 prediction train MSE\", mean_squared_error(p2_ata_train, p2_ata_train_pred))\n",
    "\n",
    "print(\"p1 ETA test MSE \", mean_squared_error(p2_ata_test, p2_eta_test[:, 0]))\n",
    "print(\"p1 prediction test MSE\", mean_squared_error(p2_ata_test, p2_ata_test_pred))\n",
    "\n",
    "\n",
    "print(\"p1 ETA train explained_variance_score\", explained_variance_score(p2_ata_train, p2_eta_train[:, 0]))\n",
    "print(\"p1 prediction train explained_variance_score\", explained_variance_score(p2_ata_train, p2_ata_train_pred))\n",
    "\n",
    "print(\"p1 ETA test explained_variance_score \", explained_variance_score(p2_ata_test, p2_eta_test[:, 0]))\n",
    "print(\"p1 prediction test explained_variance_score\", explained_variance_score(p2_ata_test, p2_ata_test_pred))\n",
    "\n",
    "\n",
    "print(\"p1 ETA train median_absolute_error\", median_absolute_error(p2_ata_train, p2_eta_train[:, 0]))\n",
    "print(\"p1 prediction train median_absolute_error\", median_absolute_error(p2_ata_train, p2_ata_train_pred))\n",
    "\n",
    "print(\"p1 ETA test median_absolute_error \", median_absolute_error(p2_ata_test, p2_eta_test[:, 0]))\n",
    "print(\"p1 prediction test median_absolute_error\", median_absolute_error(p2_ata_test, p2_ata_test_pred))\n",
    "\n",
    "\n",
    "print(\"p1 ETA train r2_score\", r2_score(p2_ata_train, p2_eta_train[:, 0]))\n",
    "print(\"p1 prediction train r2_score\", r2_score(p2_ata_train, p2_ata_train_pred))\n",
    "\n",
    "print(\"p1 ETA test r2_score \", r2_score(p2_ata_test, p2_eta_test[:, 0]))\n",
    "print(\"p1 prediction test r2_score\", r2_score(p2_ata_test, p2_ata_test_pred))\n",
    "\n",
    "\n",
    "print(\"p1 ETA train MAPE\", mean_absolute_percentage_error(p2_ata_train, p2_eta_train[:, 0]))\n",
    "print(\"p1 prediction train MAPE\", mean_absolute_percentage_error(p2_ata_train, p2_ata_train_pred))\n",
    "\n",
    "print(\"p1 ETA test MAPE \", mean_absolute_percentage_error(p2_ata_test, p2_eta_test[:, 0]))\n",
    "print(\"p1 prediction test MAPE\", mean_absolute_percentage_error(p2_ata_test, p2_ata_test_pred))"
   ],
   "metadata": {
    "collapsed": false,
    "pycharm": {
     "name": "#%%\n"
    }
   }
  },
  {
   "cell_type": "code",
   "execution_count": 202,
   "outputs": [
    {
     "data": {
      "text/plain": "array([[<AxesSubplot: title={'center': 'ETA - ATA (Train data)'}>]],\n      dtype=object)"
     },
     "execution_count": 202,
     "metadata": {},
     "output_type": "execute_result"
    },
    {
     "data": {
      "text/plain": "<Figure size 640x480 with 1 Axes>",
      "image/png": "[encoded data removed]"
     },
     "metadata": {},
     "output_type": "display_data"
    }
   ],
   "source": [
    "p1_train_df = pd.DataFrame((p2_eta_train[:, 0].reshape(-1, 1) - p2_ata_train), columns = ['ETA - ATA (Train data)'])\n",
    "p1_train_df.hist(bins=500)"
   ],
   "metadata": {
    "collapsed": false,
    "pycharm": {
     "name": "#%%\n"
    }
   }
  },
  {
   "cell_type": "code",
   "execution_count": 203,
   "outputs": [
    {
     "data": {
      "text/plain": "array([[<AxesSubplot: title={'center': 'ETA - ATA (Prediction on train data)'}>]],\n      dtype=object)"
     },
     "execution_count": 203,
     "metadata": {},
     "output_type": "execute_result"
    },
    {
     "data": {
      "text/plain": "<Figure size 640x480 with 1 Axes>",
      "image/png": "[encoded data removed]"
     },
     "metadata": {},
     "output_type": "display_data"
    }
   ],
   "source": [
    "df_pre = pd.DataFrame((p2_ata_train_pred[:, 0].reshape(-1, 1) - p2_ata_train), columns = ['ETA - ATA (Prediction on train data)'])\n",
    "df_pre.hist(bins=500)"
   ],
   "metadata": {
    "collapsed": false,
    "pycharm": {
     "name": "#%%\n"
    }
   }
  },
  {
   "cell_type": "code",
   "execution_count": 204,
   "outputs": [],
   "source": [
    "under_200_index = ((p1_eta_num - p1_ata_num) < 200) & ((p1_eta_num - p1_ata_num) > -200)\n",
    "p1_eta_under_200 = p1_eta_num[under_200_index]\n",
    "p1_ata_num_under_200 = p1_ata_num[under_200_index]\n",
    "p1_prediction_under_200 = p1_prediction[under_200_index]"
   ],
   "metadata": {
    "collapsed": false,
    "pycharm": {
     "name": "#%%\n"
    }
   }
  },
  {
   "cell_type": "code",
   "execution_count": 206,
   "outputs": [
    {
     "data": {
      "text/plain": "(4684,)"
     },
     "execution_count": 206,
     "metadata": {},
     "output_type": "execute_result"
    }
   ],
   "source": [
    "p1_prediction_under_200.shape"
   ],
   "metadata": {
    "collapsed": false,
    "pycharm": {
     "name": "#%%\n"
    }
   }
  },
  {
   "cell_type": "code",
   "execution_count": 203,
   "outputs": [
    {
     "data": {
      "text/plain": "(4999, 1)"
     },
     "execution_count": 203,
     "metadata": {},
     "output_type": "execute_result"
    }
   ],
   "source": [
    "(p1_eta_num - p1_ata_num).shape"
   ],
   "metadata": {
    "collapsed": false,
    "pycharm": {
     "name": "#%%\n"
    }
   }
  },
  {
   "cell_type": "code",
   "execution_count": 207,
   "outputs": [
    {
     "data": {
      "text/plain": "63.48953885567891"
     },
     "execution_count": 207,
     "metadata": {},
     "output_type": "execute_result"
    }
   ],
   "source": [
    "mean_absolute_error(p1_ata_num_under_200, p1_eta_under_200)"
   ],
   "metadata": {
    "collapsed": false,
    "pycharm": {
     "name": "#%%\n"
    }
   }
  },
  {
   "cell_type": "code",
   "execution_count": 208,
   "outputs": [
    {
     "data": {
      "text/plain": "43.831397251309035"
     },
     "execution_count": 208,
     "metadata": {},
     "output_type": "execute_result"
    }
   ],
   "source": [
    "mean_absolute_error(p1_prediction_under_200, p1_eta_under_200)"
   ],
   "metadata": {
    "collapsed": false,
    "pycharm": {
     "name": "#%%\n"
    }
   }
  },
  {
   "cell_type": "code",
   "execution_count": 209,
   "outputs": [],
   "source": [
    "under_p_200_index = ((p1_prediction - p1_ata_num) < 200) & ((p1_prediction - p1_ata_num) > -200)\n",
    "p1_eta_under_p_200 = p1_eta_num[under_p_200_index]\n",
    "p1_ata_num_under_p_200 = p1_ata_num[under_p_200_index]\n",
    "p1_prediction_under_p_200 = p1_prediction[under_p_200_index]"
   ],
   "metadata": {
    "collapsed": false,
    "pycharm": {
     "name": "#%%\n"
    }
   }
  },
  {
   "cell_type": "code",
   "execution_count": 210,
   "outputs": [
    {
     "data": {
      "text/plain": "69.77065732536575"
     },
     "execution_count": 210,
     "metadata": {},
     "output_type": "execute_result"
    }
   ],
   "source": [
    "mean_absolute_error(p1_ata_num_under_p_200, p1_eta_under_p_200)"
   ],
   "metadata": {
    "collapsed": false,
    "pycharm": {
     "name": "#%%\n"
    }
   }
  },
  {
   "cell_type": "code",
   "execution_count": 211,
   "outputs": [
    {
     "data": {
      "text/plain": "45.67812451639645"
     },
     "execution_count": 211,
     "metadata": {},
     "output_type": "execute_result"
    }
   ],
   "source": [
    "mean_absolute_error(p1_prediction_under_p_200, p1_eta_under_p_200)"
   ],
   "metadata": {
    "collapsed": false,
    "pycharm": {
     "name": "#%%\n"
    }
   }
  },
  {
   "cell_type": "code",
   "execution_count": 218,
   "outputs": [
    {
     "data": {
      "text/plain": "        eta   ata  a_t_a_result.ride_a_t_a  source_lat  source_lng  \\\n0       893  1034                     1011   35.637950   51.393005   \n5       775   733                      704   35.724785   51.527237   \n12      367   292                      762   35.715878   51.873882   \n22      750   869                      848   35.637566   51.409330   \n23      867   782                      728   35.731450   51.375084   \n...     ...   ...                      ...         ...         ...   \n15052   549   528                      618   35.711430   51.344887   \n15053   880   894                      876   35.515156   50.932438   \n15056   830  1048                     1020   35.697853   51.385170   \n15057   968   722                      714   35.758770   51.315450   \n15058  1072  1061                     1015   35.726765   51.378155   \n\n       destination_lat  destination_lng   e_d_d  \n0            35.613758        51.440968   7.503  \n5            35.753140        51.514698   8.049  \n12           35.730324        51.874020   2.535  \n22           35.630497        51.375670   4.085  \n23           35.718678        51.397945   4.882  \n...                ...              ...     ...  \n15052        35.692715        51.361830   3.692  \n15053        35.479990        50.967420   6.685  \n15056        35.667183        51.388470   5.313  \n15057        35.752953        51.374073  10.613  \n15058        35.766630        51.398106   7.722  \n\n[4138 rows x 8 columns]",
      "text/html": "<div>\n<style scoped>\n    .dataframe tbody tr th:only-of-type {\n        vertical-align: middle;\n    }\n\n    .dataframe tbody tr th {\n        vertical-align: top;\n    }\n\n    .dataframe thead th {\n        text-align: right;\n    }\n</style>\n<table border=\"1\" class=\"dataframe\">\n  <thead>\n    <tr style=\"text-align: right;\">\n      <th></th>\n      <th>eta</th>\n      <th>ata</th>\n      <th>a_t_a_result.ride_a_t_a</th>\n      <th>source_lat</th>\n      <th>source_lng</th>\n      <th>destination_lat</th>\n      <th>destination_lng</th>\n      <th>e_d_d</th>\n    </tr>\n  </thead>\n  <tbody>\n    <tr>\n      <th>0</th>\n      <td>893</td>\n      <td>1034</td>\n      <td>1011</td>\n      <td>35.637950</td>\n      <td>51.393005</td>\n      <td>35.613758</td>\n      <td>51.440968</td>\n      <td>7.503</td>\n    </tr>\n    <tr>\n      <th>5</th>\n      <td>775</td>\n      <td>733</td>\n      <td>704</td>\n      <td>35.724785</td>\n      <td>51.527237</td>\n      <td>35.753140</td>\n      <td>51.514698</td>\n      <td>8.049</td>\n    </tr>\n    <tr>\n      <th>12</th>\n      <td>367</td>\n      <td>292</td>\n      <td>762</td>\n      <td>35.715878</td>\n      <td>51.873882</td>\n      <td>35.730324</td>\n      <td>51.874020</td>\n      <td>2.535</td>\n    </tr>\n    <tr>\n      <th>22</th>\n      <td>750</td>\n      <td>869</td>\n      <td>848</td>\n      <td>35.637566</td>\n      <td>51.409330</td>\n      <td>35.630497</td>\n      <td>51.375670</td>\n      <td>4.085</td>\n    </tr>\n    <tr>\n      <th>23</th>\n      <td>867</td>\n      <td>782</td>\n      <td>728</td>\n      <td>35.731450</td>\n      <td>51.375084</td>\n      <td>35.718678</td>\n      <td>51.397945</td>\n      <td>4.882</td>\n    </tr>\n    <tr>\n      <th>...</th>\n      <td>...</td>\n      <td>...</td>\n      <td>...</td>\n      <td>...</td>\n      <td>...</td>\n      <td>...</td>\n      <td>...</td>\n      <td>...</td>\n    </tr>\n    <tr>\n      <th>15052</th>\n      <td>549</td>\n      <td>528</td>\n      <td>618</td>\n      <td>35.711430</td>\n      <td>51.344887</td>\n      <td>35.692715</td>\n      <td>51.361830</td>\n      <td>3.692</td>\n    </tr>\n    <tr>\n      <th>15053</th>\n      <td>880</td>\n      <td>894</td>\n      <td>876</td>\n      <td>35.515156</td>\n      <td>50.932438</td>\n      <td>35.479990</td>\n      <td>50.967420</td>\n      <td>6.685</td>\n    </tr>\n    <tr>\n      <th>15056</th>\n      <td>830</td>\n      <td>1048</td>\n      <td>1020</td>\n      <td>35.697853</td>\n      <td>51.385170</td>\n      <td>35.667183</td>\n      <td>51.388470</td>\n      <td>5.313</td>\n    </tr>\n    <tr>\n      <th>15057</th>\n      <td>968</td>\n      <td>722</td>\n      <td>714</td>\n      <td>35.758770</td>\n      <td>51.315450</td>\n      <td>35.752953</td>\n      <td>51.374073</td>\n      <td>10.613</td>\n    </tr>\n    <tr>\n      <th>15058</th>\n      <td>1072</td>\n      <td>1061</td>\n      <td>1015</td>\n      <td>35.726765</td>\n      <td>51.378155</td>\n      <td>35.766630</td>\n      <td>51.398106</td>\n      <td>7.722</td>\n    </tr>\n  </tbody>\n</table>\n<p>4138 rows × 8 columns</p>\n</div>"
     },
     "execution_count": 218,
     "metadata": {},
     "output_type": "execute_result"
    }
   ],
   "source": [
    "g_p2 = g[(g['a_t_a_result.ride_a_t_a'] > 600) & (g['a_t_a_result.ride_a_t_a'] <= 1200)]\n",
    "g_p2"
   ],
   "metadata": {
    "collapsed": false,
    "pycharm": {
     "name": "#%%\n"
    }
   }
  },
  {
   "cell_type": "code",
   "execution_count": 217,
   "outputs": [
    {
     "data": {
      "text/plain": "4138"
     },
     "execution_count": 217,
     "metadata": {},
     "output_type": "execute_result"
    }
   ],
   "source": [
    "p2_eta_num = g_p2[\"eta\"].to_numpy().reshape(-1, 1)\n",
    "p2_ata_num = g_p2[\"a_t_a_result.ride_a_t_a\"].to_numpy().reshape(-1, 1)\n",
    "reg_p2 = LinearRegression().fit(p2_eta_num, p2_ata_num)\n",
    "len(p2_eta_num)"
   ],
   "metadata": {
    "collapsed": false,
    "pycharm": {
     "name": "#%%\n"
    }
   }
  },
  {
   "cell_type": "code",
   "execution_count": 222,
   "outputs": [
    {
     "name": "stdout",
     "output_type": "stream",
     "text": [
      "[[919.85644994]\n",
      " [864.37216834]\n",
      " [672.5282116 ]\n",
      " [852.61702393]\n",
      " [907.63109976]\n",
      " [731.77413941]\n",
      " [940.07529832]\n",
      " [961.23455826]]\n",
      "[[0.47020578]]\n",
      "[499.96269169]\n"
     ]
    }
   ],
   "source": [
    "prediction = reg_p2.predict(np.array([893,\n",
    "775,\n",
    "367,\n",
    "750,\n",
    "867,\n",
    "493,\n",
    "936,\n",
    "981]).reshape(-1, 1))\n",
    "print(prediction)\n",
    "print(reg_p2.coef_)\n",
    "print(reg_p2.intercept_)"
   ],
   "metadata": {
    "collapsed": false,
    "pycharm": {
     "name": "#%%\n"
    }
   }
  },
  {
   "cell_type": "code",
   "execution_count": 223,
   "outputs": [
    {
     "data": {
      "text/plain": "150.9171097148381"
     },
     "execution_count": 223,
     "metadata": {},
     "output_type": "execute_result"
    }
   ],
   "source": [
    "p2_prediction = reg_p2.predict(p2_eta_num).reshape(-1, 1)\n",
    "mean_absolute_error(p2_ata_num, p2_eta_num)"
   ],
   "metadata": {
    "collapsed": false,
    "pycharm": {
     "name": "#%%\n"
    }
   }
  },
  {
   "cell_type": "code",
   "execution_count": 225,
   "outputs": [
    {
     "name": "stdout",
     "output_type": "stream",
     "text": [
      "[[ 919.85644994]\n",
      " [ 864.37216834]\n",
      " [ 672.5282116 ]\n",
      " ...\n",
      " [ 890.23348603]\n",
      " [ 955.12188317]\n",
      " [1004.0232839 ]]\n"
     ]
    },
    {
     "data": {
      "text/plain": "109.86365366038719"
     },
     "execution_count": 225,
     "metadata": {},
     "output_type": "execute_result"
    }
   ],
   "source": [
    "print(p2_prediction)\n",
    "mean_absolute_error(p2_ata_num, p2_prediction)"
   ],
   "metadata": {
    "collapsed": false,
    "pycharm": {
     "name": "#%%\n"
    }
   }
  },
  {
   "cell_type": "code",
   "execution_count": 226,
   "outputs": [
    {
     "data": {
      "text/plain": "array([[<AxesSubplot: title={'center': 'Column_A'}>]], dtype=object)"
     },
     "execution_count": 226,
     "metadata": {},
     "output_type": "execute_result"
    },
    {
     "data": {
      "text/plain": "<Figure size 640x480 with 1 Axes>",
      "image/png": "[encoded data removed]"
     },
     "metadata": {},
     "output_type": "display_data"
    }
   ],
   "source": [
    "df_p2 = pd.DataFrame((p2_eta_num - p2_ata_num), columns=['Column_A'])\n",
    "df_p2.hist(bins=500)"
   ],
   "metadata": {
    "collapsed": false,
    "pycharm": {
     "name": "#%%\n"
    }
   }
  },
  {
   "cell_type": "code",
   "execution_count": 227,
   "outputs": [
    {
     "data": {
      "text/plain": "array([[<AxesSubplot: title={'center': 'Column_A'}>]], dtype=object)"
     },
     "execution_count": 227,
     "metadata": {},
     "output_type": "execute_result"
    },
    {
     "data": {
      "text/plain": "<Figure size 640x480 with 1 Axes>",
      "image/png": "[encoded data removed]"
     },
     "metadata": {},
     "output_type": "display_data"
    }
   ],
   "source": [
    "df_pre_p2 = pd.DataFrame((p2_prediction - p2_ata_num), columns=['Column_A'])\n",
    "df_pre_p2.hist(bins=500)"
   ],
   "metadata": {
    "collapsed": false,
    "pycharm": {
     "name": "#%%\n"
    }
   }
  },
  {
   "cell_type": "code",
   "execution_count": 234,
   "outputs": [
    {
     "name": "stdout",
     "output_type": "stream",
     "text": [
      "-0.4108326796983546\n",
      "0.3477085052826363\n"
     ]
    }
   ],
   "source": [
    "print(r2_score(p2_ata_num, p2_eta_num))\n",
    "print(r2_score(p2_ata_num, p2_prediction))"
   ],
   "metadata": {
    "collapsed": false,
    "pycharm": {
     "name": "#%%\n"
    }
   }
  },
  {
   "cell_type": "code",
   "execution_count": 235,
   "outputs": [
    {
     "name": "stdout",
     "output_type": "stream",
     "text": [
      "31031.5515445151\n",
      "18507.241534447523\n"
     ]
    }
   ],
   "source": [
    "print(np.var((p2_eta_num - p2_ata_num)))\n",
    "print(np.var((p2_prediction - p2_ata_num)))"
   ],
   "metadata": {
    "collapsed": false,
    "pycharm": {
     "name": "#%%\n"
    }
   }
  },
  {
   "cell_type": "code",
   "execution_count": 237,
   "outputs": [],
   "source": [
    "# under_200_index = ((p1_eta_num - p1_ata_num) < 200) & ((p1_eta_num - p1_ata_num) > -200)\n",
    "# p1_eta_under_200 = p1_eta_num[under_200_index]\n",
    "# p1_ata_num_under_200 = p1_ata_num[under_200_index]\n",
    "# p1_prediction_under_200 = p1_prediction[under_200_index]\n",
    "# p1_prediction_under_200.shape\n",
    "# (p1_eta_num - p1_ata_num).shape\n",
    "# mean_absolute_error(p1_ata_num_under_200, p1_eta_under_200)\n",
    "# mean_absolute_error(p1_prediction_under_200, p1_eta_under_200)\n",
    "# under_p_200_index = ((p1_prediction - p1_ata_num) < 200) & ((p1_prediction - p1_ata_num) > -200)\n",
    "# p1_eta_under_p_200 = p1_eta_num[under_p_200_index]\n",
    "# p1_ata_num_under_p_200 = p1_ata_num[under_p_200_index]\n",
    "# p1_prediction_under_p_200 = p1_prediction[under_p_200_index]\n",
    "# mean_absolute_error(p1_ata_num_under_p_200, p1_eta_under_p_200)\n",
    "# mean_absolute_error(p1_prediction_under_p_200, p1_eta_under_p_200)"
   ],
   "metadata": {
    "collapsed": false,
    "pycharm": {
     "name": "#%%\n"
    }
   }
  },
  {
   "cell_type": "code",
   "execution_count": 238,
   "outputs": [
    {
     "data": {
      "text/plain": "       eta  ata  a_t_a_result.ride_a_t_a  source_lat  source_lng  \\\n1      238  423                      365   35.744210   51.140186   \n2      474  297                      518   35.560932   51.252415   \n3      589  531                      544   35.786938   51.374763   \n7      171  168                      288   35.759277   52.781403   \n9      263  748                      564   35.723510   51.335050   \n...    ...  ...                      ...         ...         ...   \n15050  497  408                      588   35.802494   51.447010   \n15051  224  186                      217   35.758090   51.289840   \n15052  549  528                      618   35.711430   51.344887   \n15055  364  263                      360   35.788994   51.370846   \n15059  511  738                      599   35.701633   51.377520   \n\n       destination_lat  destination_lng  e_d_d  \n1            35.753910        51.145374  1.591  \n2            35.543705        51.268753  5.655  \n3            35.782070        51.354286  4.008  \n7            35.758213        52.772823  1.195  \n9            35.729170        51.328740  1.464  \n...                ...              ...    ...  \n15050        35.794760        51.455900  2.385  \n15051        35.768238        51.291153  1.252  \n15052        35.692715        51.361830  3.692  \n15055        35.790504        51.360767  2.103  \n15059        35.695020        51.397842  3.185  \n\n[5597 rows x 8 columns]",
      "text/html": "<div>\n<style scoped>\n    .dataframe tbody tr th:only-of-type {\n        vertical-align: middle;\n    }\n\n    .dataframe tbody tr th {\n        vertical-align: top;\n    }\n\n    .dataframe thead th {\n        text-align: right;\n    }\n</style>\n<table border=\"1\" class=\"dataframe\">\n  <thead>\n    <tr style=\"text-align: right;\">\n      <th></th>\n      <th>eta</th>\n      <th>ata</th>\n      <th>a_t_a_result.ride_a_t_a</th>\n      <th>source_lat</th>\n      <th>source_lng</th>\n      <th>destination_lat</th>\n      <th>destination_lng</th>\n      <th>e_d_d</th>\n    </tr>\n  </thead>\n  <tbody>\n    <tr>\n      <th>1</th>\n      <td>238</td>\n      <td>423</td>\n      <td>365</td>\n      <td>35.744210</td>\n      <td>51.140186</td>\n      <td>35.753910</td>\n      <td>51.145374</td>\n      <td>1.591</td>\n    </tr>\n    <tr>\n      <th>2</th>\n      <td>474</td>\n      <td>297</td>\n      <td>518</td>\n      <td>35.560932</td>\n      <td>51.252415</td>\n      <td>35.543705</td>\n      <td>51.268753</td>\n      <td>5.655</td>\n    </tr>\n    <tr>\n      <th>3</th>\n      <td>589</td>\n      <td>531</td>\n      <td>544</td>\n      <td>35.786938</td>\n      <td>51.374763</td>\n      <td>35.782070</td>\n      <td>51.354286</td>\n      <td>4.008</td>\n    </tr>\n    <tr>\n      <th>7</th>\n      <td>171</td>\n      <td>168</td>\n      <td>288</td>\n      <td>35.759277</td>\n      <td>52.781403</td>\n      <td>35.758213</td>\n      <td>52.772823</td>\n      <td>1.195</td>\n    </tr>\n    <tr>\n      <th>9</th>\n      <td>263</td>\n      <td>748</td>\n      <td>564</td>\n      <td>35.723510</td>\n      <td>51.335050</td>\n      <td>35.729170</td>\n      <td>51.328740</td>\n      <td>1.464</td>\n    </tr>\n    <tr>\n      <th>...</th>\n      <td>...</td>\n      <td>...</td>\n      <td>...</td>\n      <td>...</td>\n      <td>...</td>\n      <td>...</td>\n      <td>...</td>\n      <td>...</td>\n    </tr>\n    <tr>\n      <th>15050</th>\n      <td>497</td>\n      <td>408</td>\n      <td>588</td>\n      <td>35.802494</td>\n      <td>51.447010</td>\n      <td>35.794760</td>\n      <td>51.455900</td>\n      <td>2.385</td>\n    </tr>\n    <tr>\n      <th>15051</th>\n      <td>224</td>\n      <td>186</td>\n      <td>217</td>\n      <td>35.758090</td>\n      <td>51.289840</td>\n      <td>35.768238</td>\n      <td>51.291153</td>\n      <td>1.252</td>\n    </tr>\n    <tr>\n      <th>15052</th>\n      <td>549</td>\n      <td>528</td>\n      <td>618</td>\n      <td>35.711430</td>\n      <td>51.344887</td>\n      <td>35.692715</td>\n      <td>51.361830</td>\n      <td>3.692</td>\n    </tr>\n    <tr>\n      <th>15055</th>\n      <td>364</td>\n      <td>263</td>\n      <td>360</td>\n      <td>35.788994</td>\n      <td>51.370846</td>\n      <td>35.790504</td>\n      <td>51.360767</td>\n      <td>2.103</td>\n    </tr>\n    <tr>\n      <th>15059</th>\n      <td>511</td>\n      <td>738</td>\n      <td>599</td>\n      <td>35.701633</td>\n      <td>51.377520</td>\n      <td>35.695020</td>\n      <td>51.397842</td>\n      <td>3.185</td>\n    </tr>\n  </tbody>\n</table>\n<p>5597 rows × 8 columns</p>\n</div>"
     },
     "execution_count": 238,
     "metadata": {},
     "output_type": "execute_result"
    }
   ],
   "source": [
    "g_p1_eta = g[g['eta'] <= 600]\n",
    "g_p1_eta"
   ],
   "metadata": {
    "collapsed": false,
    "pycharm": {
     "name": "#%%\n"
    }
   }
  },
  {
   "cell_type": "code",
   "execution_count": 240,
   "outputs": [
    {
     "data": {
      "text/plain": "5597"
     },
     "execution_count": 240,
     "metadata": {},
     "output_type": "execute_result"
    }
   ],
   "source": [
    "p1_eta_num_e = g_p1_eta[\"eta\"].to_numpy().reshape(-1, 1)\n",
    "p1_ata_num_e = g_p1_eta[\"a_t_a_result.ride_a_t_a\"].to_numpy().reshape(-1, 1)\n",
    "reg_p1_eta = LinearRegression().fit(p1_eta_num_e, p1_ata_num_e)\n",
    "len(p1_eta_num_e)"
   ],
   "metadata": {
    "collapsed": false,
    "pycharm": {
     "name": "#%%\n"
    }
   }
  },
  {
   "cell_type": "code",
   "execution_count": 243,
   "outputs": [
    {
     "data": {
      "text/plain": "array([[291.83088702],\n       [531.30842038],\n       [648.00298112],\n       [223.8436212 ],\n       [317.19926979],\n       [422.73174212],\n       [223.8436212 ],\n       [618.57565711]])"
     },
     "execution_count": 243,
     "metadata": {},
     "output_type": "execute_result"
    }
   ],
   "source": [
    "reg_p1_eta.predict(np.array([238,\n",
    "474,\n",
    "589,\n",
    "171,\n",
    "263,\n",
    "367,\n",
    "171,\n",
    "560]).reshape(-1, 1))\n"
   ],
   "metadata": {
    "collapsed": false,
    "pycharm": {
     "name": "#%%\n"
    }
   }
  },
  {
   "cell_type": "code",
   "execution_count": 244,
   "outputs": [
    {
     "name": "stdout",
     "output_type": "stream",
     "text": [
      "[[1.01473531]]\n",
      "[50.32388305]\n"
     ]
    }
   ],
   "source": [
    "print(reg_p1_eta.coef_)\n",
    "print(reg_p1_eta.intercept_)"
   ],
   "metadata": {
    "collapsed": false,
    "pycharm": {
     "name": "#%%\n"
    }
   }
  },
  {
   "cell_type": "code",
   "execution_count": 242,
   "outputs": [
    {
     "data": {
      "text/plain": "array([[291.83088702],\n       [531.30842038],\n       [648.00298112],\n       ...,\n       [607.41356869],\n       [419.68753619],\n       [568.85362688]])"
     },
     "execution_count": 242,
     "metadata": {},
     "output_type": "execute_result"
    }
   ],
   "source": [
    "p1_prediction_eta = reg_p1_eta.predict(p1_eta_num_e).reshape(-1, 1)\n",
    "p1_prediction_eta"
   ],
   "metadata": {
    "collapsed": false,
    "pycharm": {
     "name": "#%%\n"
    }
   }
  },
  {
   "cell_type": "code",
   "execution_count": 245,
   "outputs": [
    {
     "name": "stdout",
     "output_type": "stream",
     "text": [
      "101.94407718420582\n",
      "101.31225938539757\n"
     ]
    }
   ],
   "source": [
    "print(mean_absolute_error(p1_ata_num_e, p1_eta_num_e))\n",
    "print(mean_absolute_error(p1_ata_num_e, p1_prediction_eta))"
   ],
   "metadata": {
    "collapsed": false,
    "pycharm": {
     "name": "#%%\n"
    }
   }
  },
  {
   "cell_type": "code",
   "execution_count": 246,
   "outputs": [
    {
     "data": {
      "text/plain": "array([[<AxesSubplot: title={'center': 'Column_A'}>]], dtype=object)"
     },
     "execution_count": 246,
     "metadata": {},
     "output_type": "execute_result"
    },
    {
     "data": {
      "text/plain": "<Figure size 640x480 with 1 Axes>",
      "image/png": "[encoded data removed]"
     },
     "metadata": {},
     "output_type": "display_data"
    }
   ],
   "source": [
    "df = pd.DataFrame((p1_eta_num_e - p1_ata_num_e), columns=['Column_A'])\n",
    "df.hist(bins=500)"
   ],
   "metadata": {
    "collapsed": false,
    "pycharm": {
     "name": "#%%\n"
    }
   }
  },
  {
   "cell_type": "code",
   "execution_count": 247,
   "outputs": [
    {
     "data": {
      "text/plain": "array([[<AxesSubplot: title={'center': 'Column_A'}>]], dtype=object)"
     },
     "execution_count": 247,
     "metadata": {},
     "output_type": "execute_result"
    },
    {
     "data": {
      "text/plain": "<Figure size 640x480 with 1 Axes>",
      "image/png": "[encoded data removed]"
     },
     "metadata": {},
     "output_type": "display_data"
    }
   ],
   "source": [
    "df_pre = pd.DataFrame((p1_prediction_eta - p1_ata_num_e), columns=['Column_A'])\n",
    "df_pre.hist(bins=500)"
   ],
   "metadata": {
    "collapsed": false,
    "pycharm": {
     "name": "#%%\n"
    }
   }
  },
  {
   "cell_type": "code",
   "execution_count": 248,
   "outputs": [
    {
     "name": "stdout",
     "output_type": "stream",
     "text": [
      "0.37656266612670275\n",
      "0.4561389560340441\n"
     ]
    }
   ],
   "source": [
    "print(r2_score(p1_ata_num_e, p1_eta_num_e))\n",
    "print(r2_score(p1_ata_num_e, p1_prediction_eta))"
   ],
   "metadata": {
    "collapsed": false,
    "pycharm": {
     "name": "#%%\n"
    }
   }
  },
  {
   "cell_type": "code",
   "execution_count": 249,
   "outputs": [
    {
     "name": "stdout",
     "output_type": "stream",
     "text": [
      "21346.760554329736\n",
      "21342.985897751096\n"
     ]
    }
   ],
   "source": [
    "print(np.var((p1_eta_num_e - p1_ata_num_e)))\n",
    "print(np.var((p1_prediction_eta - p1_ata_num_e)))"
   ],
   "metadata": {
    "collapsed": false,
    "pycharm": {
     "name": "#%%\n"
    }
   }
  },
  {
   "cell_type": "code",
   "execution_count": 250,
   "outputs": [],
   "source": [
    "# under_200_index = ((p1_eta_num - p1_ata_num) < 200) & ((p1_eta_num - p1_ata_num) > -200)\n",
    "# p1_eta_under_200 = p1_eta_num[under_200_index]\n",
    "# p1_ata_num_under_200 = p1_ata_num[under_200_index]\n",
    "# p1_prediction_under_200 = p1_prediction[under_200_index]\n",
    "# p1_prediction_under_200.shape\n",
    "# (p1_eta_num - p1_ata_num).shape\n",
    "# mean_absolute_error(p1_ata_num_under_200, p1_eta_under_200)\n",
    "# mean_absolute_error(p1_prediction_under_200, p1_eta_under_200)\n",
    "# under_p_200_index = ((p1_prediction - p1_ata_num) < 200) & ((p1_prediction - p1_ata_num) > -200)\n",
    "# p1_eta_under_p_200 = p1_eta_num[under_p_200_index]\n",
    "# p1_ata_num_under_p_200 = p1_ata_num[under_p_200_index]\n",
    "# p1_prediction_under_p_200 = p1_prediction[under_p_200_index]\n",
    "# mean_absolute_error(p1_ata_num_under_p_200, p1_eta_under_p_200)\n",
    "# mean_absolute_error(p1_prediction_under_p_200, p1_eta_under_p_200)"
   ],
   "metadata": {
    "collapsed": false,
    "pycharm": {
     "name": "#%%\n"
    }
   }
  },
  {
   "cell_type": "code",
   "execution_count": 252,
   "outputs": [
    {
     "data": {
      "text/plain": "        eta   ata  a_t_a_result.ride_a_t_a  source_lat  source_lng  \\\n0       893  1034                     1011   35.637950   51.393005   \n5       775   733                      704   35.724785   51.527237   \n22      750   869                      848   35.637566   51.409330   \n23      867   782                      728   35.731450   51.375084   \n31      936  1133                     1139   35.726230   51.390118   \n...     ...   ...                      ...         ...         ...   \n15047   767   822                      768   35.487140   51.055576   \n15053   880   894                      876   35.515156   50.932438   \n15056   830  1048                     1020   35.697853   51.385170   \n15057   968   722                      714   35.758770   51.315450   \n15058  1072  1061                     1015   35.726765   51.378155   \n\n       destination_lat  destination_lng   e_d_d  \n0            35.613758        51.440968   7.503  \n5            35.753140        51.514698   8.049  \n22           35.630497        51.375670   4.085  \n23           35.718678        51.397945   4.882  \n31           35.736538        51.336100   6.785  \n...                ...              ...     ...  \n15047        35.467857        50.976063  10.083  \n15053        35.479990        50.967420   6.685  \n15056        35.667183        51.388470   5.313  \n15057        35.752953        51.374073  10.613  \n15058        35.766630        51.398106   7.722  \n\n[4420 rows x 8 columns]",
      "text/html": "<div>\n<style scoped>\n    .dataframe tbody tr th:only-of-type {\n        vertical-align: middle;\n    }\n\n    .dataframe tbody tr th {\n        vertical-align: top;\n    }\n\n    .dataframe thead th {\n        text-align: right;\n    }\n</style>\n<table border=\"1\" class=\"dataframe\">\n  <thead>\n    <tr style=\"text-align: right;\">\n      <th></th>\n      <th>eta</th>\n      <th>ata</th>\n      <th>a_t_a_result.ride_a_t_a</th>\n      <th>source_lat</th>\n      <th>source_lng</th>\n      <th>destination_lat</th>\n      <th>destination_lng</th>\n      <th>e_d_d</th>\n    </tr>\n  </thead>\n  <tbody>\n    <tr>\n      <th>0</th>\n      <td>893</td>\n      <td>1034</td>\n      <td>1011</td>\n      <td>35.637950</td>\n      <td>51.393005</td>\n      <td>35.613758</td>\n      <td>51.440968</td>\n      <td>7.503</td>\n    </tr>\n    <tr>\n      <th>5</th>\n      <td>775</td>\n      <td>733</td>\n      <td>704</td>\n      <td>35.724785</td>\n      <td>51.527237</td>\n      <td>35.753140</td>\n      <td>51.514698</td>\n      <td>8.049</td>\n    </tr>\n    <tr>\n      <th>22</th>\n      <td>750</td>\n      <td>869</td>\n      <td>848</td>\n      <td>35.637566</td>\n      <td>51.409330</td>\n      <td>35.630497</td>\n      <td>51.375670</td>\n      <td>4.085</td>\n    </tr>\n    <tr>\n      <th>23</th>\n      <td>867</td>\n      <td>782</td>\n      <td>728</td>\n      <td>35.731450</td>\n      <td>51.375084</td>\n      <td>35.718678</td>\n      <td>51.397945</td>\n      <td>4.882</td>\n    </tr>\n    <tr>\n      <th>31</th>\n      <td>936</td>\n      <td>1133</td>\n      <td>1139</td>\n      <td>35.726230</td>\n      <td>51.390118</td>\n      <td>35.736538</td>\n      <td>51.336100</td>\n      <td>6.785</td>\n    </tr>\n    <tr>\n      <th>...</th>\n      <td>...</td>\n      <td>...</td>\n      <td>...</td>\n      <td>...</td>\n      <td>...</td>\n      <td>...</td>\n      <td>...</td>\n      <td>...</td>\n    </tr>\n    <tr>\n      <th>15047</th>\n      <td>767</td>\n      <td>822</td>\n      <td>768</td>\n      <td>35.487140</td>\n      <td>51.055576</td>\n      <td>35.467857</td>\n      <td>50.976063</td>\n      <td>10.083</td>\n    </tr>\n    <tr>\n      <th>15053</th>\n      <td>880</td>\n      <td>894</td>\n      <td>876</td>\n      <td>35.515156</td>\n      <td>50.932438</td>\n      <td>35.479990</td>\n      <td>50.967420</td>\n      <td>6.685</td>\n    </tr>\n    <tr>\n      <th>15056</th>\n      <td>830</td>\n      <td>1048</td>\n      <td>1020</td>\n      <td>35.697853</td>\n      <td>51.385170</td>\n      <td>35.667183</td>\n      <td>51.388470</td>\n      <td>5.313</td>\n    </tr>\n    <tr>\n      <th>15057</th>\n      <td>968</td>\n      <td>722</td>\n      <td>714</td>\n      <td>35.758770</td>\n      <td>51.315450</td>\n      <td>35.752953</td>\n      <td>51.374073</td>\n      <td>10.613</td>\n    </tr>\n    <tr>\n      <th>15058</th>\n      <td>1072</td>\n      <td>1061</td>\n      <td>1015</td>\n      <td>35.726765</td>\n      <td>51.378155</td>\n      <td>35.766630</td>\n      <td>51.398106</td>\n      <td>7.722</td>\n    </tr>\n  </tbody>\n</table>\n<p>4420 rows × 8 columns</p>\n</div>"
     },
     "execution_count": 252,
     "metadata": {},
     "output_type": "execute_result"
    }
   ],
   "source": [
    "g_p2_eta = g[(g['eta'] > 600) & (g['eta'] <= 1200)]\n",
    "g_p2_eta"
   ],
   "metadata": {
    "collapsed": false,
    "pycharm": {
     "name": "#%%\n"
    }
   }
  },
  {
   "cell_type": "code",
   "execution_count": 253,
   "outputs": [
    {
     "data": {
      "text/plain": "4420"
     },
     "execution_count": 253,
     "metadata": {},
     "output_type": "execute_result"
    }
   ],
   "source": [
    "p2_eta_num_e = g_p2_eta[\"eta\"].to_numpy().reshape(-1, 1)\n",
    "p2_ata_num_e = g_p2_eta[\"a_t_a_result.ride_a_t_a\"].to_numpy().reshape(-1, 1)\n",
    "reg_p2_eta = LinearRegression().fit(p2_eta_num_e, p2_ata_num_e)\n",
    "len(p2_eta_num_e)"
   ],
   "metadata": {
    "collapsed": false,
    "pycharm": {
     "name": "#%%\n"
    }
   }
  },
  {
   "cell_type": "code",
   "execution_count": 256,
   "outputs": [
    {
     "data": {
      "text/plain": "array([[1037.61685233],\n       [ 887.06567429],\n       [ 855.16923826],\n       [1004.44455887],\n       [1092.4787223 ],\n       [1149.89230715],\n       [ 934.27239961],\n       [1354.02949772]])"
     },
     "execution_count": 256,
     "metadata": {},
     "output_type": "execute_result"
    }
   ],
   "source": [
    "reg_p2_eta.predict(np.array([893,\n",
    "775,\n",
    "750,\n",
    "867,\n",
    "936,\n",
    "981,\n",
    "812,\n",
    "1141]).reshape(-1, 1))"
   ],
   "metadata": {
    "collapsed": false,
    "pycharm": {
     "name": "#%%\n"
    }
   }
  },
  {
   "cell_type": "code",
   "execution_count": 257,
   "outputs": [
    {
     "name": "stdout",
     "output_type": "stream",
     "text": [
      "[[1.27585744]]\n",
      "[-101.72384253]\n"
     ]
    }
   ],
   "source": [
    "print(reg_p2_eta.coef_)\n",
    "print(reg_p2_eta.intercept_)"
   ],
   "metadata": {
    "collapsed": false,
    "pycharm": {
     "name": "#%%\n"
    }
   }
  },
  {
   "cell_type": "code",
   "execution_count": 258,
   "outputs": [
    {
     "data": {
      "text/plain": "array([[1037.61685233],\n       [ 887.06567429],\n       [ 855.16923826],\n       ...,\n       [ 957.23783355],\n       [1133.30616041],\n       [1265.99533428]])"
     },
     "execution_count": 258,
     "metadata": {},
     "output_type": "execute_result"
    }
   ],
   "source": [
    "p2_prediction_eta = reg_p2_eta.predict(p2_eta_num_e).reshape(-1, 1)\n",
    "p2_prediction_eta"
   ],
   "metadata": {
    "collapsed": false,
    "pycharm": {
     "name": "#%%\n"
    }
   }
  },
  {
   "cell_type": "code",
   "execution_count": 259,
   "outputs": [
    {
     "name": "stdout",
     "output_type": "stream",
     "text": [
      "195.86108597285067\n",
      "179.20731266203256\n"
     ]
    }
   ],
   "source": [
    "print(mean_absolute_error(p2_ata_num_e, p2_eta_num_e))\n",
    "print(mean_absolute_error(p2_ata_num_e, p2_prediction_eta))"
   ],
   "metadata": {
    "collapsed": false,
    "pycharm": {
     "name": "#%%\n"
    }
   }
  },
  {
   "cell_type": "code",
   "execution_count": 260,
   "outputs": [
    {
     "data": {
      "text/plain": "array([[<AxesSubplot: title={'center': 'Column_A'}>]], dtype=object)"
     },
     "execution_count": 260,
     "metadata": {},
     "output_type": "execute_result"
    },
    {
     "data": {
      "text/plain": "<Figure size 640x480 with 1 Axes>",
      "image/png": "[encoded data removed]"
     },
     "metadata": {},
     "output_type": "display_data"
    }
   ],
   "source": [
    "df_p2_eta = pd.DataFrame((p2_eta_num_e - p2_ata_num_e), columns=['Column_A'])\n",
    "df_p2_eta.hist(bins=500)"
   ],
   "metadata": {
    "collapsed": false,
    "pycharm": {
     "name": "#%%\n"
    }
   }
  },
  {
   "cell_type": "code",
   "execution_count": 261,
   "outputs": [
    {
     "data": {
      "text/plain": "array([[<AxesSubplot: title={'center': 'Column_A'}>]], dtype=object)"
     },
     "execution_count": 261,
     "metadata": {},
     "output_type": "execute_result"
    },
    {
     "data": {
      "text/plain": "<Figure size 640x480 with 1 Axes>",
      "image/png": "[encoded data removed]"
     },
     "metadata": {},
     "output_type": "display_data"
    }
   ],
   "source": [
    "df_pre_p2_eta = pd.DataFrame((p2_prediction_eta - p2_ata_num_e), columns=['Column_A'])\n",
    "df_pre_p2_eta.hist(bins=500)"
   ],
   "metadata": {
    "collapsed": false,
    "pycharm": {
     "name": "#%%\n"
    }
   }
  },
  {
   "cell_type": "code",
   "execution_count": 262,
   "outputs": [
    {
     "name": "stdout",
     "output_type": "stream",
     "text": [
      "0.24749875310535485\n",
      "0.4389283015619243\n",
      "60663.33928134149\n",
      "58523.07471287895\n"
     ]
    }
   ],
   "source": [
    "print(r2_score(p2_ata_num_e, p2_eta_num_e))\n",
    "print(r2_score(p2_ata_num_e, p2_prediction_eta))\n",
    "print(np.var((p2_eta_num_e - p2_ata_num_e)))\n",
    "print(np.var((p2_prediction_eta - p2_ata_num_e)))"
   ],
   "metadata": {
    "collapsed": false,
    "pycharm": {
     "name": "#%%\n"
    }
   }
  },
  {
   "cell_type": "code",
   "execution_count": null,
   "outputs": [],
   "source": [],
   "metadata": {
    "collapsed": false,
    "pycharm": {
     "name": "#%%\n"
    }
   }
  }
 ],
 "metadata": {
  "kernelspec": {
   "display_name": "Python 3",
   "language": "python",
   "name": "python3"
  },
  "language_info": {
   "codemirror_mode": {
    "name": "ipython",
    "version": 2
   },
   "file_extension": ".py",
   "mimetype": "text/x-python",
   "name": "python",
   "nbconvert_exporter": "python",
   "pygments_lexer": "ipython2",
   "version": "2.7.6"
  }
 },
 "nbformat": 4,
 "nbformat_minor": 0
}