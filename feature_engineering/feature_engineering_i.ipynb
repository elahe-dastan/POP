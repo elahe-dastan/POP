{
 "cells": [
  {
   "cell_type": "code",
   "execution_count": 1,
   "metadata": {
    "collapsed": true,
    "pycharm": {
     "name": "#%%\n"
    }
   },
   "outputs": [],
   "source": [
    "import pandas as pd\n",
    "import numpy as np\n",
    "from sklearn.linear_model import LinearRegression\n",
    "from sklearn.metrics import mean_absolute_error, mean_squared_error, explained_variance_score, median_absolute_error, r2_score, mean_absolute_percentage_error\n",
    "from sklearn.model_selection import train_test_split\n",
    "from scipy.stats import *\n",
    "import h3\n",
    "from sklearn.preprocessing import OneHotEncoder\n",
    "from sklearn.compose import ColumnTransformer\n",
    "from datetime import datetime\n",
    "from math import floor\n",
    "import matplotlib.pyplot as plt"
   ]
  },
  {
   "cell_type": "code",
   "execution_count": 2,
   "outputs": [],
   "source": [
    "ride_columns = ['accepted_driver_id', 'created_at', 'passenger_id', 'source_lat',\n",
    "       'source_lng', 'destination_lat', 'destination_lng', 'eta', 'provider',\n",
    "       'ata', 'id', 'city']\n",
    "\n",
    "khatkesh_columns = ['ride_id','driver_id','a_t_a_result.arrival_a_t_a','a_t_a_result.boarding_a_t_a','a_t_a_result.ride_a_t_a','a_t_a_result.arrival_probe_result.probe.point.lat','a_t_a_result.arrival_probe_result.probe.point.lon','a_t_a_result.arrival_probe_result.probe.timestamp','a_t_a_result.arrival_probe_result.confidence','a_t_a_result.arrival_probe_result.h3_index', 'a_t_a_result.arrival_probe_result.k_ring_level','a_t_a_result.boarding_probe_result.probe.point.lat','a_t_a_result.boarding_probe_result.probe.point.lon','a_t_a_result.boarding_probe_result.probe.timestamp','a_t_a_result.boarding_probe_result.confidence','a_t_a_result.boarding_probe_result.h3_index','a_t_a_result.boarding_probe_result.k_ring_level','a_t_a_result.final_destination_probe_result.probe.point.lat','a_t_a_result.final_destination_probe_result.probe.point.lon','a_t_a_result.final_destination_probe_result.probe.timestamp','a_t_a_result.final_destination_probe_result.confidence','a_t_a_result.final_destination_probe_result.h3_index','a_t_a_result.final_destination_probe_result.k_ring_level','a_t_a_result.destination_probe_result.probe.point.lat','a_t_a_result.destination_probe_result.probe.point.lon','a_t_a_result.destination_probe_result.probe.timestamp','a_t_a_result.destination_probe_result.confidence','a_t_a_result.destination_probe_result.h3_index','a_t_a_result.destination_probe_result.k_ring_level','a_t_a_result.extra_destination_probe_result.probe.point.lat','a_t_a_result.extra_destination_probe_result.probe.point.lon','a_t_a_result.extra_destination_probe_result.probe.timestamp','a_t_a_result.extra_destination_probe_result.confidence','a_t_a_result.extra_destination_probe_result.h3_index','a_t_a_result.extra_destination_probe_result.k_ring_level','pickup_a_d_d_result.distance','pickup_a_d_d_result.confidence','pickup_a_d_d_result.route_ratio','pickup_a_d_d_result.g_p_s_ratio','ride_a_d_d_result.distance','ride_a_d_d_result.confidence','ride_a_d_d_result.route_ratio','ride_a_d_d_result.g_p_s_ratio','total_a_d_d_confidence','in_ride_allotment','e_d_d','clickhouse_time','hash']\n",
    "\n",
    "dates = ['2022-09-03', '2022-09-04', '2022-09-05' , '2022-09-06', '2022-09-07', '2022-09-08', '2022-09-09',\n",
    "         '2022-09-10', '2022-09-11', '2022-09-12', '2022-09-13', '2022-09-14', '2022-09-15', '2022-09-16']\n"
   ],
   "metadata": {
    "collapsed": false,
    "pycharm": {
     "name": "#%%\n"
    }
   }
  },
  {
   "cell_type": "code",
   "execution_count": 3,
   "outputs": [
    {
     "name": "stdout",
     "output_type": "stream",
     "text": [
      "<class 'pandas.core.frame.DataFrame'>\n",
      "RangeIndex: 1356410 entries, 0 to 1356409\n",
      "Data columns (total 61 columns):\n",
      " #   Column                                                       Non-Null Count    Dtype  \n",
      "---  ------                                                       --------------    -----  \n",
      " 0   Unnamed: 0.1                                                 1356410 non-null  int64  \n",
      " 1   Unnamed: 0                                                   1356410 non-null  float64\n",
      " 2   accepted_driver_id                                           1356410 non-null  int64  \n",
      " 3   created_at                                                   1356410 non-null  object \n",
      " 4   passenger_id                                                 1356410 non-null  int64  \n",
      " 5   source_lat                                                   1356410 non-null  float64\n",
      " 6   source_lng                                                   1356410 non-null  float64\n",
      " 7   destination_lat                                              1356410 non-null  float64\n",
      " 8   destination_lng                                              1356410 non-null  float64\n",
      " 9   eta                                                          1356410 non-null  int64  \n",
      " 10  provider                                                     1356410 non-null  object \n",
      " 11  ata                                                          1356410 non-null  int64  \n",
      " 12  ride_id                                                      1356410 non-null  int64  \n",
      " 13  city                                                         1356410 non-null  int64  \n",
      " 14  driver_id                                                    1356410 non-null  int64  \n",
      " 15  a_t_a_result.arrival_a_t_a                                   1356410 non-null  int64  \n",
      " 16  a_t_a_result.boarding_a_t_a                                  1356410 non-null  float64\n",
      " 17  a_t_a_result.ride_a_t_a                                      1356410 non-null  int64  \n",
      " 18  a_t_a_result.arrival_probe_result.probe.point.lat            1356410 non-null  float64\n",
      " 19  a_t_a_result.arrival_probe_result.probe.point.lon            1356410 non-null  float64\n",
      " 20  a_t_a_result.arrival_probe_result.probe.timestamp            1356410 non-null  float64\n",
      " 21  a_t_a_result.arrival_probe_result.confidence                 1356410 non-null  float64\n",
      " 22  a_t_a_result.arrival_probe_result.h3_index                   1356410 non-null  object \n",
      " 23  a_t_a_result.arrival_probe_result.k_ring_level               1356410 non-null  int64  \n",
      " 24  a_t_a_result.boarding_probe_result.probe.point.lat           1356410 non-null  float64\n",
      " 25  a_t_a_result.boarding_probe_result.probe.point.lon           1356410 non-null  float64\n",
      " 26  a_t_a_result.boarding_probe_result.probe.timestamp           1356410 non-null  float64\n",
      " 27  a_t_a_result.boarding_probe_result.confidence                1356410 non-null  float64\n",
      " 28  a_t_a_result.boarding_probe_result.h3_index                  1356410 non-null  object \n",
      " 29  a_t_a_result.boarding_probe_result.k_ring_level              1356410 non-null  int64  \n",
      " 30  a_t_a_result.final_destination_probe_result.probe.point.lat  1356410 non-null  float64\n",
      " 31  a_t_a_result.final_destination_probe_result.probe.point.lon  1356410 non-null  float64\n",
      " 32  a_t_a_result.final_destination_probe_result.probe.timestamp  1356410 non-null  int64  \n",
      " 33  a_t_a_result.final_destination_probe_result.confidence       1356410 non-null  float64\n",
      " 34  a_t_a_result.final_destination_probe_result.h3_index         1356410 non-null  object \n",
      " 35  a_t_a_result.final_destination_probe_result.k_ring_level     1356410 non-null  int64  \n",
      " 36  a_t_a_result.destination_probe_result.probe.point.lat        1356410 non-null  float64\n",
      " 37  a_t_a_result.destination_probe_result.probe.point.lon        1356410 non-null  float64\n",
      " 38  a_t_a_result.destination_probe_result.probe.timestamp        1356410 non-null  float64\n",
      " 39  a_t_a_result.destination_probe_result.confidence             1356410 non-null  float64\n",
      " 40  a_t_a_result.destination_probe_result.h3_index               1356410 non-null  object \n",
      " 41  a_t_a_result.destination_probe_result.k_ring_level           1356410 non-null  int64  \n",
      " 42  a_t_a_result.extra_destination_probe_result.probe.point.lat  1356410 non-null  float64\n",
      " 43  a_t_a_result.extra_destination_probe_result.probe.point.lon  1356410 non-null  float64\n",
      " 44  a_t_a_result.extra_destination_probe_result.probe.timestamp  1356410 non-null  float64\n",
      " 45  a_t_a_result.extra_destination_probe_result.confidence       1356410 non-null  float64\n",
      " 46  a_t_a_result.extra_destination_probe_result.h3_index         0 non-null        float64\n",
      " 47  a_t_a_result.extra_destination_probe_result.k_ring_level     1356410 non-null  int64  \n",
      " 48  pickup_a_d_d_result.distance                                 1356410 non-null  float64\n",
      " 49  pickup_a_d_d_result.confidence                               1356410 non-null  float64\n",
      " 50  pickup_a_d_d_result.route_ratio                              1356410 non-null  float64\n",
      " 51  pickup_a_d_d_result.g_p_s_ratio                              1356410 non-null  float64\n",
      " 52  ride_a_d_d_result.distance                                   1356410 non-null  float64\n",
      " 53  ride_a_d_d_result.confidence                                 1356410 non-null  float64\n",
      " 54  ride_a_d_d_result.route_ratio                                1356410 non-null  float64\n",
      " 55  ride_a_d_d_result.g_p_s_ratio                                1356410 non-null  float64\n",
      " 56  total_a_d_d_confidence                                       1356410 non-null  float64\n",
      " 57  in_ride_allotment                                            1356410 non-null  float64\n",
      " 58  e_d_d                                                        1356410 non-null  float64\n",
      " 59  clickhouse_time                                              1356410 non-null  object \n",
      " 60  hash                                                         1356410 non-null  uint64 \n",
      "dtypes: float64(37), int64(16), object(7), uint64(1)\n",
      "memory usage: 631.3+ MB\n"
     ]
    }
   ],
   "source": [
    "# rides_khatkesh.to_csv('../ride_khatkesh_1.csv')\n",
    "\n",
    "rides_khatkesh = pd.read_csv('../ride_khatkesh_1.csv')\n",
    "rides_khatkesh.info()"
   ],
   "metadata": {
    "collapsed": false,
    "pycharm": {
     "name": "#%%\n"
    }
   }
  },
  {
   "cell_type": "code",
   "execution_count": 4,
   "outputs": [
    {
     "data": {
      "text/plain": "       Unnamed: 0.1    Unnamed: 0  accepted_driver_id  passenger_id  \\\ncount  1.304773e+06  1.304773e+06        1.304773e+06  1.304773e+06   \nmean   6.776261e+05  5.335049e+04        1.887709e+06  2.312404e+07   \nstd    3.917375e+05  3.332452e+04        1.436909e+06  1.807453e+07   \nmin    0.000000e+00  0.000000e+00        0.000000e+00  3.800000e+01   \n25%    3.381880e+05  2.457100e+04        4.385930e+05  4.471473e+06   \n50%    6.769530e+05  5.063700e+04        1.779187e+06  2.294847e+07   \n75%    1.016971e+06  8.023200e+04        3.201126e+06  3.773902e+07   \nmax    1.356422e+06  1.244230e+05        4.350712e+06  5.758165e+07   \n\n         source_lat    source_lng  destination_lat  destination_lng  \\\ncount  1.304773e+06  1.304773e+06     1.304773e+06     1.304773e+06   \nmean   3.569881e+01  5.140256e+01     3.570100e+01     5.139414e+01   \nstd    8.998554e-02  1.301368e-01     9.047574e-02     1.421605e-01   \nmin    3.518616e+01  5.090034e+01     3.452721e+01     4.985955e+01   \n25%    3.567223e+01  5.133963e+01     3.567519e+01     5.133597e+01   \n50%    3.572297e+01  5.140762e+01     3.572369e+01     5.140681e+01   \n75%    3.575577e+01  5.146061e+01     3.575684e+01     5.145822e+01   \nmax    3.583987e+01  5.282693e+01     3.646163e+01     5.340880e+01   \n\n                eta           ata  ...  pickup_a_d_d_result.route_ratio  \\\ncount  1.304773e+06  1.304773e+06  ...                     1.304773e+06   \nmean   1.046471e+03  1.212058e+03  ...                     1.521520e-04   \nstd    7.314098e+02  9.865582e+02  ...                     9.815981e-03   \nmin    1.810000e+02  1.200000e+02  ...                     0.000000e+00   \n25%    5.240000e+02  5.470000e+02  ...                     0.000000e+00   \n50%    8.560000e+02  9.320000e+02  ...                     0.000000e+00   \n75%    1.349000e+03  1.552000e+03  ...                     0.000000e+00   \nmax    1.055900e+04  2.709500e+04  ...                     1.000000e+00   \n\n       pickup_a_d_d_result.g_p_s_ratio  ride_a_d_d_result.distance  \\\ncount                     1.304773e+06                1.304773e+06   \nmean                      1.220451e-02                1.922243e+01   \nstd                       9.958596e-03                1.894511e+01   \nmin                       0.000000e+00                0.000000e+00   \n25%                       5.263158e-03                6.708000e+00   \n50%                       9.523810e-03                1.356200e+01   \n75%                       1.666667e-02                2.485989e+01   \nmax                       5.263158e-02                1.344062e+03   \n\n       ride_a_d_d_result.confidence  ride_a_d_d_result.route_ratio  \\\ncount                  1.304773e+06                   1.304773e+06   \nmean                   8.722293e-01                   4.876285e-05   \nstd                    1.746976e-01                   1.562254e-03   \nmin                    0.000000e+00                   0.000000e+00   \n25%                    8.000000e-01                   0.000000e+00   \n50%                    9.625540e-01                   0.000000e+00   \n75%                    1.000000e+00                   0.000000e+00   \nmax                    1.000000e+00                   2.357488e-01   \n\n       ride_a_d_d_result.g_p_s_ratio  total_a_d_d_confidence  \\\ncount                   1.304773e+06            1.304773e+06   \nmean                    7.477702e-01            8.807183e-01   \nstd                     3.280260e-01            1.654017e-01   \nmin                     0.000000e+00            0.000000e+00   \n25%                     5.862069e-01            8.232145e-01   \n50%                     9.230769e-01            9.624756e-01   \n75%                     9.888889e-01            1.000000e+00   \nmax                     1.000000e+00            1.000000e+00   \n\n       in_ride_allotment         e_d_d          hash  \ncount       1.304773e+06  1.304773e+06  1.304773e+06  \nmean        2.221006e-02  1.156276e+01  9.223152e+18  \nstd         2.185958e-01  1.170856e+01  5.321857e+18  \nmin         0.000000e+00  3.300000e-01  1.078058e+13  \n25%         0.000000e+00  4.029000e+00  4.618518e+18  \n50%         0.000000e+00  8.184000e+00  9.217212e+18  \n75%         0.000000e+00  1.458900e+01  1.382945e+19  \nmax         5.509900e+01  2.247880e+02  1.844673e+19  \n\n[8 rows x 54 columns]",
      "text/html": "<div>\n<style scoped>\n    .dataframe tbody tr th:only-of-type {\n        vertical-align: middle;\n    }\n\n    .dataframe tbody tr th {\n        vertical-align: top;\n    }\n\n    .dataframe thead th {\n        text-align: right;\n    }\n</style>\n<table border=\"1\" class=\"dataframe\">\n  <thead>\n    <tr style=\"text-align: right;\">\n      <th></th>\n      <th>Unnamed: 0.1</th>\n      <th>Unnamed: 0</th>\n      <th>accepted_driver_id</th>\n      <th>passenger_id</th>\n      <th>source_lat</th>\n      <th>source_lng</th>\n      <th>destination_lat</th>\n      <th>destination_lng</th>\n      <th>eta</th>\n      <th>ata</th>\n      <th>...</th>\n      <th>pickup_a_d_d_result.route_ratio</th>\n      <th>pickup_a_d_d_result.g_p_s_ratio</th>\n      <th>ride_a_d_d_result.distance</th>\n      <th>ride_a_d_d_result.confidence</th>\n      <th>ride_a_d_d_result.route_ratio</th>\n      <th>ride_a_d_d_result.g_p_s_ratio</th>\n      <th>total_a_d_d_confidence</th>\n      <th>in_ride_allotment</th>\n      <th>e_d_d</th>\n      <th>hash</th>\n    </tr>\n  </thead>\n  <tbody>\n    <tr>\n      <th>count</th>\n      <td>1.304773e+06</td>\n      <td>1.304773e+06</td>\n      <td>1.304773e+06</td>\n      <td>1.304773e+06</td>\n      <td>1.304773e+06</td>\n      <td>1.304773e+06</td>\n      <td>1.304773e+06</td>\n      <td>1.304773e+06</td>\n      <td>1.304773e+06</td>\n      <td>1.304773e+06</td>\n      <td>...</td>\n      <td>1.304773e+06</td>\n      <td>1.304773e+06</td>\n      <td>1.304773e+06</td>\n      <td>1.304773e+06</td>\n      <td>1.304773e+06</td>\n      <td>1.304773e+06</td>\n      <td>1.304773e+06</td>\n      <td>1.304773e+06</td>\n      <td>1.304773e+06</td>\n      <td>1.304773e+06</td>\n    </tr>\n    <tr>\n      <th>mean</th>\n      <td>6.776261e+05</td>\n      <td>5.335049e+04</td>\n      <td>1.887709e+06</td>\n      <td>2.312404e+07</td>\n      <td>3.569881e+01</td>\n      <td>5.140256e+01</td>\n      <td>3.570100e+01</td>\n      <td>5.139414e+01</td>\n      <td>1.046471e+03</td>\n      <td>1.212058e+03</td>\n      <td>...</td>\n      <td>1.521520e-04</td>\n      <td>1.220451e-02</td>\n      <td>1.922243e+01</td>\n      <td>8.722293e-01</td>\n      <td>4.876285e-05</td>\n      <td>7.477702e-01</td>\n      <td>8.807183e-01</td>\n      <td>2.221006e-02</td>\n      <td>1.156276e+01</td>\n      <td>9.223152e+18</td>\n    </tr>\n    <tr>\n      <th>std</th>\n      <td>3.917375e+05</td>\n      <td>3.332452e+04</td>\n      <td>1.436909e+06</td>\n      <td>1.807453e+07</td>\n      <td>8.998554e-02</td>\n      <td>1.301368e-01</td>\n      <td>9.047574e-02</td>\n      <td>1.421605e-01</td>\n      <td>7.314098e+02</td>\n      <td>9.865582e+02</td>\n      <td>...</td>\n      <td>9.815981e-03</td>\n      <td>9.958596e-03</td>\n      <td>1.894511e+01</td>\n      <td>1.746976e-01</td>\n      <td>1.562254e-03</td>\n      <td>3.280260e-01</td>\n      <td>1.654017e-01</td>\n      <td>2.185958e-01</td>\n      <td>1.170856e+01</td>\n      <td>5.321857e+18</td>\n    </tr>\n    <tr>\n      <th>min</th>\n      <td>0.000000e+00</td>\n      <td>0.000000e+00</td>\n      <td>0.000000e+00</td>\n      <td>3.800000e+01</td>\n      <td>3.518616e+01</td>\n      <td>5.090034e+01</td>\n      <td>3.452721e+01</td>\n      <td>4.985955e+01</td>\n      <td>1.810000e+02</td>\n      <td>1.200000e+02</td>\n      <td>...</td>\n      <td>0.000000e+00</td>\n      <td>0.000000e+00</td>\n      <td>0.000000e+00</td>\n      <td>0.000000e+00</td>\n      <td>0.000000e+00</td>\n      <td>0.000000e+00</td>\n      <td>0.000000e+00</td>\n      <td>0.000000e+00</td>\n      <td>3.300000e-01</td>\n      <td>1.078058e+13</td>\n    </tr>\n    <tr>\n      <th>25%</th>\n      <td>3.381880e+05</td>\n      <td>2.457100e+04</td>\n      <td>4.385930e+05</td>\n      <td>4.471473e+06</td>\n      <td>3.567223e+01</td>\n      <td>5.133963e+01</td>\n      <td>3.567519e+01</td>\n      <td>5.133597e+01</td>\n      <td>5.240000e+02</td>\n      <td>5.470000e+02</td>\n      <td>...</td>\n      <td>0.000000e+00</td>\n      <td>5.263158e-03</td>\n      <td>6.708000e+00</td>\n      <td>8.000000e-01</td>\n      <td>0.000000e+00</td>\n      <td>5.862069e-01</td>\n      <td>8.232145e-01</td>\n      <td>0.000000e+00</td>\n      <td>4.029000e+00</td>\n      <td>4.618518e+18</td>\n    </tr>\n    <tr>\n      <th>50%</th>\n      <td>6.769530e+05</td>\n      <td>5.063700e+04</td>\n      <td>1.779187e+06</td>\n      <td>2.294847e+07</td>\n      <td>3.572297e+01</td>\n      <td>5.140762e+01</td>\n      <td>3.572369e+01</td>\n      <td>5.140681e+01</td>\n      <td>8.560000e+02</td>\n      <td>9.320000e+02</td>\n      <td>...</td>\n      <td>0.000000e+00</td>\n      <td>9.523810e-03</td>\n      <td>1.356200e+01</td>\n      <td>9.625540e-01</td>\n      <td>0.000000e+00</td>\n      <td>9.230769e-01</td>\n      <td>9.624756e-01</td>\n      <td>0.000000e+00</td>\n      <td>8.184000e+00</td>\n      <td>9.217212e+18</td>\n    </tr>\n    <tr>\n      <th>75%</th>\n      <td>1.016971e+06</td>\n      <td>8.023200e+04</td>\n      <td>3.201126e+06</td>\n      <td>3.773902e+07</td>\n      <td>3.575577e+01</td>\n      <td>5.146061e+01</td>\n      <td>3.575684e+01</td>\n      <td>5.145822e+01</td>\n      <td>1.349000e+03</td>\n      <td>1.552000e+03</td>\n      <td>...</td>\n      <td>0.000000e+00</td>\n      <td>1.666667e-02</td>\n      <td>2.485989e+01</td>\n      <td>1.000000e+00</td>\n      <td>0.000000e+00</td>\n      <td>9.888889e-01</td>\n      <td>1.000000e+00</td>\n      <td>0.000000e+00</td>\n      <td>1.458900e+01</td>\n      <td>1.382945e+19</td>\n    </tr>\n    <tr>\n      <th>max</th>\n      <td>1.356422e+06</td>\n      <td>1.244230e+05</td>\n      <td>4.350712e+06</td>\n      <td>5.758165e+07</td>\n      <td>3.583987e+01</td>\n      <td>5.282693e+01</td>\n      <td>3.646163e+01</td>\n      <td>5.340880e+01</td>\n      <td>1.055900e+04</td>\n      <td>2.709500e+04</td>\n      <td>...</td>\n      <td>1.000000e+00</td>\n      <td>5.263158e-02</td>\n      <td>1.344062e+03</td>\n      <td>1.000000e+00</td>\n      <td>2.357488e-01</td>\n      <td>1.000000e+00</td>\n      <td>1.000000e+00</td>\n      <td>5.509900e+01</td>\n      <td>2.247880e+02</td>\n      <td>1.844673e+19</td>\n    </tr>\n  </tbody>\n</table>\n<p>8 rows × 54 columns</p>\n</div>"
     },
     "execution_count": 4,
     "metadata": {},
     "output_type": "execute_result"
    }
   ],
   "source": [
    "rides = rides_khatkesh[(rides_khatkesh['eta'] > 180) &\n",
    "                       (rides_khatkesh['eta'] < 10800) &\n",
    "                       (rides_khatkesh['a_t_a_result.ride_a_t_a'] > 180) &\n",
    "                       (rides_khatkesh['a_t_a_result.ride_a_t_a'] < 10800)]\n",
    "rides.describe()"
   ],
   "metadata": {
    "collapsed": false,
    "pycharm": {
     "name": "#%%\n"
    }
   }
  },
  {
   "cell_type": "code",
   "execution_count": 5,
   "outputs": [
    {
     "data": {
      "text/plain": "       Unnamed: 0.1    Unnamed: 0  accepted_driver_id  passenger_id  \\\ncount  1.122161e+06  1.122161e+06        1.122161e+06  1.122161e+06   \nmean   6.771143e+05  5.339750e+04        1.905365e+06  2.314064e+07   \nstd    3.921005e+05  3.330513e+04        1.440748e+06  1.806817e+07   \nmin    0.000000e+00  0.000000e+00        0.000000e+00  3.800000e+01   \n25%    3.371850e+05  2.465700e+04        4.491760e+05  4.487216e+06   \n50%    6.769710e+05  5.070000e+04        1.809660e+06  2.299294e+07   \n75%    1.017076e+06  8.025700e+04        3.225940e+06  3.776165e+07   \nmax    1.356422e+06  1.244220e+05        4.350712e+06  5.758165e+07   \n\n         source_lat    source_lng  destination_lat  destination_lng  \\\ncount  1.122161e+06  1.122161e+06     1.122161e+06     1.122161e+06   \nmean   3.569854e+01  5.140213e+01     3.570073e+01     5.139398e+01   \nstd    9.024166e-02  1.307453e-01     9.043371e-02     1.422515e-01   \nmin    3.518616e+01  5.090034e+01     3.452721e+01     4.992399e+01   \n25%    3.567175e+01  5.133850e+01     3.567473e+01     5.133565e+01   \n50%    3.572295e+01  5.140703e+01     3.572367e+01     5.140628e+01   \n75%    3.575573e+01  5.146032e+01     3.575677e+01     5.145801e+01   \nmax    3.583967e+01  5.282693e+01     3.646163e+01     5.281060e+01   \n\n                eta           ata  ...  pickup_a_d_d_result.route_ratio  \\\ncount  1.122161e+06  1.122161e+06  ...                     1.122161e+06   \nmean   1.036433e+03  1.200448e+03  ...                     1.092608e-04   \nstd    7.237808e+02  9.760965e+02  ...                     8.078303e-03   \nmin    1.810000e+02  1.200000e+02  ...                     0.000000e+00   \n25%    5.190000e+02  5.430000e+02  ...                     0.000000e+00   \n50%    8.470000e+02  9.230000e+02  ...                     0.000000e+00   \n75%    1.336000e+03  1.536000e+03  ...                     0.000000e+00   \nmax    9.199000e+03  2.301700e+04  ...                     1.000000e+00   \n\n       pickup_a_d_d_result.g_p_s_ratio  ride_a_d_d_result.distance  \\\ncount                     1.122161e+06                1.122161e+06   \nmean                      1.304499e-02                2.014186e+01   \nstd                       9.942246e-03                1.936953e+01   \nmin                       0.000000e+00                1.000000e-01   \n25%                       5.952381e-03                7.162000e+00   \n50%                       1.020408e-02                1.446800e+01   \n75%                       1.754386e-02                2.607400e+01   \nmax                       5.263158e-02                2.794880e+02   \n\n       ride_a_d_d_result.confidence  ride_a_d_d_result.route_ratio  \\\ncount                  1.122161e+06                   1.122161e+06   \nmean                   9.307232e-01                   2.833662e-05   \nstd                    1.009482e-01                   1.121238e-03   \nmin                    6.000000e-01                   0.000000e+00   \n25%                    9.031330e-01                   0.000000e+00   \n50%                    9.791426e-01                   0.000000e+00   \n75%                    1.000000e+00                   0.000000e+00   \nmax                    1.000000e+00                   2.357488e-01   \n\n       ride_a_d_d_result.g_p_s_ratio  total_a_d_d_confidence  \\\ncount                   1.122161e+06            1.122161e+06   \nmean                    8.444126e-01            9.356969e-01   \nstd                     2.204519e-01            9.135201e-02   \nmin                     0.000000e+00            6.431787e-02   \n25%                     7.941176e-01            9.035648e-01   \n50%                     9.486803e-01            9.779251e-01   \n75%                     9.950000e-01            1.000000e+00   \nmax                     1.000000e+00            1.000000e+00   \n\n       in_ride_allotment         e_d_d          hash  \ncount       1.122161e+06  1.122161e+06  1.122161e+06  \nmean        2.491458e-02  1.140162e+01  9.222249e+18  \nstd         2.301024e-01  1.149971e+01  5.321995e+18  \nmin         0.000000e+00  3.300000e-01  1.078058e+13  \n25%         0.000000e+00  3.983000e+00  4.616192e+18  \n50%         0.000000e+00  8.075000e+00  9.216023e+18  \n75%         0.000000e+00  1.443300e+01  1.382889e+19  \nmax         5.509900e+01  1.973990e+02  1.844673e+19  \n\n[8 rows x 54 columns]",
      "text/html": "<div>\n<style scoped>\n    .dataframe tbody tr th:only-of-type {\n        vertical-align: middle;\n    }\n\n    .dataframe tbody tr th {\n        vertical-align: top;\n    }\n\n    .dataframe thead th {\n        text-align: right;\n    }\n</style>\n<table border=\"1\" class=\"dataframe\">\n  <thead>\n    <tr style=\"text-align: right;\">\n      <th></th>\n      <th>Unnamed: 0.1</th>\n      <th>Unnamed: 0</th>\n      <th>accepted_driver_id</th>\n      <th>passenger_id</th>\n      <th>source_lat</th>\n      <th>source_lng</th>\n      <th>destination_lat</th>\n      <th>destination_lng</th>\n      <th>eta</th>\n      <th>ata</th>\n      <th>...</th>\n      <th>pickup_a_d_d_result.route_ratio</th>\n      <th>pickup_a_d_d_result.g_p_s_ratio</th>\n      <th>ride_a_d_d_result.distance</th>\n      <th>ride_a_d_d_result.confidence</th>\n      <th>ride_a_d_d_result.route_ratio</th>\n      <th>ride_a_d_d_result.g_p_s_ratio</th>\n      <th>total_a_d_d_confidence</th>\n      <th>in_ride_allotment</th>\n      <th>e_d_d</th>\n      <th>hash</th>\n    </tr>\n  </thead>\n  <tbody>\n    <tr>\n      <th>count</th>\n      <td>1.122161e+06</td>\n      <td>1.122161e+06</td>\n      <td>1.122161e+06</td>\n      <td>1.122161e+06</td>\n      <td>1.122161e+06</td>\n      <td>1.122161e+06</td>\n      <td>1.122161e+06</td>\n      <td>1.122161e+06</td>\n      <td>1.122161e+06</td>\n      <td>1.122161e+06</td>\n      <td>...</td>\n      <td>1.122161e+06</td>\n      <td>1.122161e+06</td>\n      <td>1.122161e+06</td>\n      <td>1.122161e+06</td>\n      <td>1.122161e+06</td>\n      <td>1.122161e+06</td>\n      <td>1.122161e+06</td>\n      <td>1.122161e+06</td>\n      <td>1.122161e+06</td>\n      <td>1.122161e+06</td>\n    </tr>\n    <tr>\n      <th>mean</th>\n      <td>6.771143e+05</td>\n      <td>5.339750e+04</td>\n      <td>1.905365e+06</td>\n      <td>2.314064e+07</td>\n      <td>3.569854e+01</td>\n      <td>5.140213e+01</td>\n      <td>3.570073e+01</td>\n      <td>5.139398e+01</td>\n      <td>1.036433e+03</td>\n      <td>1.200448e+03</td>\n      <td>...</td>\n      <td>1.092608e-04</td>\n      <td>1.304499e-02</td>\n      <td>2.014186e+01</td>\n      <td>9.307232e-01</td>\n      <td>2.833662e-05</td>\n      <td>8.444126e-01</td>\n      <td>9.356969e-01</td>\n      <td>2.491458e-02</td>\n      <td>1.140162e+01</td>\n      <td>9.222249e+18</td>\n    </tr>\n    <tr>\n      <th>std</th>\n      <td>3.921005e+05</td>\n      <td>3.330513e+04</td>\n      <td>1.440748e+06</td>\n      <td>1.806817e+07</td>\n      <td>9.024166e-02</td>\n      <td>1.307453e-01</td>\n      <td>9.043371e-02</td>\n      <td>1.422515e-01</td>\n      <td>7.237808e+02</td>\n      <td>9.760965e+02</td>\n      <td>...</td>\n      <td>8.078303e-03</td>\n      <td>9.942246e-03</td>\n      <td>1.936953e+01</td>\n      <td>1.009482e-01</td>\n      <td>1.121238e-03</td>\n      <td>2.204519e-01</td>\n      <td>9.135201e-02</td>\n      <td>2.301024e-01</td>\n      <td>1.149971e+01</td>\n      <td>5.321995e+18</td>\n    </tr>\n    <tr>\n      <th>min</th>\n      <td>0.000000e+00</td>\n      <td>0.000000e+00</td>\n      <td>0.000000e+00</td>\n      <td>3.800000e+01</td>\n      <td>3.518616e+01</td>\n      <td>5.090034e+01</td>\n      <td>3.452721e+01</td>\n      <td>4.992399e+01</td>\n      <td>1.810000e+02</td>\n      <td>1.200000e+02</td>\n      <td>...</td>\n      <td>0.000000e+00</td>\n      <td>0.000000e+00</td>\n      <td>1.000000e-01</td>\n      <td>6.000000e-01</td>\n      <td>0.000000e+00</td>\n      <td>0.000000e+00</td>\n      <td>6.431787e-02</td>\n      <td>0.000000e+00</td>\n      <td>3.300000e-01</td>\n      <td>1.078058e+13</td>\n    </tr>\n    <tr>\n      <th>25%</th>\n      <td>3.371850e+05</td>\n      <td>2.465700e+04</td>\n      <td>4.491760e+05</td>\n      <td>4.487216e+06</td>\n      <td>3.567175e+01</td>\n      <td>5.133850e+01</td>\n      <td>3.567473e+01</td>\n      <td>5.133565e+01</td>\n      <td>5.190000e+02</td>\n      <td>5.430000e+02</td>\n      <td>...</td>\n      <td>0.000000e+00</td>\n      <td>5.952381e-03</td>\n      <td>7.162000e+00</td>\n      <td>9.031330e-01</td>\n      <td>0.000000e+00</td>\n      <td>7.941176e-01</td>\n      <td>9.035648e-01</td>\n      <td>0.000000e+00</td>\n      <td>3.983000e+00</td>\n      <td>4.616192e+18</td>\n    </tr>\n    <tr>\n      <th>50%</th>\n      <td>6.769710e+05</td>\n      <td>5.070000e+04</td>\n      <td>1.809660e+06</td>\n      <td>2.299294e+07</td>\n      <td>3.572295e+01</td>\n      <td>5.140703e+01</td>\n      <td>3.572367e+01</td>\n      <td>5.140628e+01</td>\n      <td>8.470000e+02</td>\n      <td>9.230000e+02</td>\n      <td>...</td>\n      <td>0.000000e+00</td>\n      <td>1.020408e-02</td>\n      <td>1.446800e+01</td>\n      <td>9.791426e-01</td>\n      <td>0.000000e+00</td>\n      <td>9.486803e-01</td>\n      <td>9.779251e-01</td>\n      <td>0.000000e+00</td>\n      <td>8.075000e+00</td>\n      <td>9.216023e+18</td>\n    </tr>\n    <tr>\n      <th>75%</th>\n      <td>1.017076e+06</td>\n      <td>8.025700e+04</td>\n      <td>3.225940e+06</td>\n      <td>3.776165e+07</td>\n      <td>3.575573e+01</td>\n      <td>5.146032e+01</td>\n      <td>3.575677e+01</td>\n      <td>5.145801e+01</td>\n      <td>1.336000e+03</td>\n      <td>1.536000e+03</td>\n      <td>...</td>\n      <td>0.000000e+00</td>\n      <td>1.754386e-02</td>\n      <td>2.607400e+01</td>\n      <td>1.000000e+00</td>\n      <td>0.000000e+00</td>\n      <td>9.950000e-01</td>\n      <td>1.000000e+00</td>\n      <td>0.000000e+00</td>\n      <td>1.443300e+01</td>\n      <td>1.382889e+19</td>\n    </tr>\n    <tr>\n      <th>max</th>\n      <td>1.356422e+06</td>\n      <td>1.244220e+05</td>\n      <td>4.350712e+06</td>\n      <td>5.758165e+07</td>\n      <td>3.583967e+01</td>\n      <td>5.282693e+01</td>\n      <td>3.646163e+01</td>\n      <td>5.281060e+01</td>\n      <td>9.199000e+03</td>\n      <td>2.301700e+04</td>\n      <td>...</td>\n      <td>1.000000e+00</td>\n      <td>5.263158e-02</td>\n      <td>2.794880e+02</td>\n      <td>1.000000e+00</td>\n      <td>2.357488e-01</td>\n      <td>1.000000e+00</td>\n      <td>1.000000e+00</td>\n      <td>5.509900e+01</td>\n      <td>1.973990e+02</td>\n      <td>1.844673e+19</td>\n    </tr>\n  </tbody>\n</table>\n<p>8 rows × 54 columns</p>\n</div>"
     },
     "execution_count": 5,
     "metadata": {},
     "output_type": "execute_result"
    }
   ],
   "source": [
    "rides = rides[rides['ride_a_d_d_result.confidence'] > 0.6]\n",
    "rides.describe()"
   ],
   "metadata": {
    "collapsed": false,
    "pycharm": {
     "name": "#%%\n"
    }
   }
  },
  {
   "cell_type": "code",
   "execution_count": 6,
   "outputs": [
    {
     "data": {
      "text/plain": "          eta   ata  a_t_a_result.ride_a_t_a           created_at  source_lat  \\\n0         285   276                      288  2022-09-03 16:49:38   35.701385   \n1        2090  2420                     2414  2022-09-03 13:05:36   35.712814   \n2         457   371                      359  2022-09-03 21:40:08   35.747662   \n3        2123  3890                     2920  2022-09-03 17:34:40   35.734798   \n4         272   302                      290  2022-09-03 20:55:37   35.497204   \n...       ...   ...                      ...                  ...         ...   \n1356405   641   523                      500  2022-09-16 22:20:51   35.692471   \n1356406   962   920                      886  2022-09-16 21:48:34   35.760612   \n1356407  1338  1972                     1692  2022-09-16 12:43:04   35.709476   \n1356408  1984  1944                     1931  2022-09-16 05:42:47   35.768810   \n1356409   448   457                      437  2022-09-16 10:23:48   35.680775   \n\n         source_lng  destination_lat  destination_lng      e_d_d  \\\n0         51.418598        35.697102        51.428875   1.791000   \n1         51.375633        35.741585        51.065804  37.113998   \n2         51.800034        35.755596        51.802029   3.564000   \n3         51.386841        35.668949        51.365444  13.958000   \n4         51.229351        35.504349        51.224445   1.868000   \n...             ...              ...              ...        ...   \n1356405   51.485405        35.678619        51.464706   3.449000   \n1356406   51.427483        35.716057        51.451225   8.640000   \n1356407   51.349098        35.813549        51.430065  17.261999   \n1356408   51.302879        35.815525        50.971333  42.470001   \n1356409   51.397083        35.698784        51.400398   3.114000   \n\n             clickhouse_time  \n0        2022-09-03 16:57:01  \n1        2022-09-03 14:12:31  \n2        2022-09-03 21:49:52  \n3        2022-09-03 18:47:51  \n4        2022-09-03 21:03:36  \n...                      ...  \n1356405  2022-09-16 23:09:24  \n1356406  2022-09-16 22:43:34  \n1356407  2022-09-16 13:25:15  \n1356408  2022-09-16 06:27:14  \n1356409  2022-09-16 10:38:11  \n\n[1122161 rows x 10 columns]",
      "text/html": "<div>\n<style scoped>\n    .dataframe tbody tr th:only-of-type {\n        vertical-align: middle;\n    }\n\n    .dataframe tbody tr th {\n        vertical-align: top;\n    }\n\n    .dataframe thead th {\n        text-align: right;\n    }\n</style>\n<table border=\"1\" class=\"dataframe\">\n  <thead>\n    <tr style=\"text-align: right;\">\n      <th></th>\n      <th>eta</th>\n      <th>ata</th>\n      <th>a_t_a_result.ride_a_t_a</th>\n      <th>created_at</th>\n      <th>source_lat</th>\n      <th>source_lng</th>\n      <th>destination_lat</th>\n      <th>destination_lng</th>\n      <th>e_d_d</th>\n      <th>clickhouse_time</th>\n    </tr>\n  </thead>\n  <tbody>\n    <tr>\n      <th>0</th>\n      <td>285</td>\n      <td>276</td>\n      <td>288</td>\n      <td>2022-09-03 16:49:38</td>\n      <td>35.701385</td>\n      <td>51.418598</td>\n      <td>35.697102</td>\n      <td>51.428875</td>\n      <td>1.791000</td>\n      <td>2022-09-03 16:57:01</td>\n    </tr>\n    <tr>\n      <th>1</th>\n      <td>2090</td>\n      <td>2420</td>\n      <td>2414</td>\n      <td>2022-09-03 13:05:36</td>\n      <td>35.712814</td>\n      <td>51.375633</td>\n      <td>35.741585</td>\n      <td>51.065804</td>\n      <td>37.113998</td>\n      <td>2022-09-03 14:12:31</td>\n    </tr>\n    <tr>\n      <th>2</th>\n      <td>457</td>\n      <td>371</td>\n      <td>359</td>\n      <td>2022-09-03 21:40:08</td>\n      <td>35.747662</td>\n      <td>51.800034</td>\n      <td>35.755596</td>\n      <td>51.802029</td>\n      <td>3.564000</td>\n      <td>2022-09-03 21:49:52</td>\n    </tr>\n    <tr>\n      <th>3</th>\n      <td>2123</td>\n      <td>3890</td>\n      <td>2920</td>\n      <td>2022-09-03 17:34:40</td>\n      <td>35.734798</td>\n      <td>51.386841</td>\n      <td>35.668949</td>\n      <td>51.365444</td>\n      <td>13.958000</td>\n      <td>2022-09-03 18:47:51</td>\n    </tr>\n    <tr>\n      <th>4</th>\n      <td>272</td>\n      <td>302</td>\n      <td>290</td>\n      <td>2022-09-03 20:55:37</td>\n      <td>35.497204</td>\n      <td>51.229351</td>\n      <td>35.504349</td>\n      <td>51.224445</td>\n      <td>1.868000</td>\n      <td>2022-09-03 21:03:36</td>\n    </tr>\n    <tr>\n      <th>...</th>\n      <td>...</td>\n      <td>...</td>\n      <td>...</td>\n      <td>...</td>\n      <td>...</td>\n      <td>...</td>\n      <td>...</td>\n      <td>...</td>\n      <td>...</td>\n      <td>...</td>\n    </tr>\n    <tr>\n      <th>1356405</th>\n      <td>641</td>\n      <td>523</td>\n      <td>500</td>\n      <td>2022-09-16 22:20:51</td>\n      <td>35.692471</td>\n      <td>51.485405</td>\n      <td>35.678619</td>\n      <td>51.464706</td>\n      <td>3.449000</td>\n      <td>2022-09-16 23:09:24</td>\n    </tr>\n    <tr>\n      <th>1356406</th>\n      <td>962</td>\n      <td>920</td>\n      <td>886</td>\n      <td>2022-09-16 21:48:34</td>\n      <td>35.760612</td>\n      <td>51.427483</td>\n      <td>35.716057</td>\n      <td>51.451225</td>\n      <td>8.640000</td>\n      <td>2022-09-16 22:43:34</td>\n    </tr>\n    <tr>\n      <th>1356407</th>\n      <td>1338</td>\n      <td>1972</td>\n      <td>1692</td>\n      <td>2022-09-16 12:43:04</td>\n      <td>35.709476</td>\n      <td>51.349098</td>\n      <td>35.813549</td>\n      <td>51.430065</td>\n      <td>17.261999</td>\n      <td>2022-09-16 13:25:15</td>\n    </tr>\n    <tr>\n      <th>1356408</th>\n      <td>1984</td>\n      <td>1944</td>\n      <td>1931</td>\n      <td>2022-09-16 05:42:47</td>\n      <td>35.768810</td>\n      <td>51.302879</td>\n      <td>35.815525</td>\n      <td>50.971333</td>\n      <td>42.470001</td>\n      <td>2022-09-16 06:27:14</td>\n    </tr>\n    <tr>\n      <th>1356409</th>\n      <td>448</td>\n      <td>457</td>\n      <td>437</td>\n      <td>2022-09-16 10:23:48</td>\n      <td>35.680775</td>\n      <td>51.397083</td>\n      <td>35.698784</td>\n      <td>51.400398</td>\n      <td>3.114000</td>\n      <td>2022-09-16 10:38:11</td>\n    </tr>\n  </tbody>\n</table>\n<p>1122161 rows × 10 columns</p>\n</div>"
     },
     "execution_count": 6,
     "metadata": {},
     "output_type": "execute_result"
    }
   ],
   "source": [
    "rides = rides[['eta', 'ata', 'a_t_a_result.ride_a_t_a', 'created_at', 'source_lat', 'source_lng', 'destination_lat', 'destination_lng', 'e_d_d', 'clickhouse_time']]\n",
    "rides"
   ],
   "metadata": {
    "collapsed": false,
    "pycharm": {
     "name": "#%%\n"
    }
   }
  },
  {
   "cell_type": "code",
   "execution_count": 7,
   "outputs": [],
   "source": [
    "rides['source_h3_4'] = rides.apply(lambda row: h3.geo_to_h3(row.source_lat, row.source_lng, 4), axis=1)\n",
    "rides['dest_h3_4'] = rides.apply(lambda row: h3.geo_to_h3(row.destination_lat, row.destination_lng, 4), axis=1)"
   ],
   "metadata": {
    "collapsed": false,
    "pycharm": {
     "name": "#%%\n"
    }
   }
  },
  {
   "cell_type": "code",
   "execution_count": 8,
   "outputs": [],
   "source": [
    "rides['hour'] = rides.apply(lambda row: ((datetime.timestamp(datetime.strptime(row.created_at,\"%Y-%m-%d %H:%M:%S\")) - 1662147000) % 604800) / 3600, axis=1)"
   ],
   "metadata": {
    "collapsed": false,
    "pycharm": {
     "name": "#%%\n"
    }
   }
  },
  {
   "cell_type": "code",
   "execution_count": 9,
   "outputs": [
    {
     "data": {
      "text/plain": "          eta   ata  a_t_a_result.ride_a_t_a           created_at  source_lat  \\\n1        2090  2420                     2414  2022-09-03 13:05:36   35.712814   \n3        2123  3890                     2920  2022-09-03 17:34:40   35.734798   \n25       2848  3345                     3135  2022-09-03 14:42:13   35.520863   \n78       1861  2069                     1972  2022-09-03 18:23:31   35.601696   \n89       2406  2888                     2838  2022-09-03 10:00:43   35.679237   \n...       ...   ...                      ...                  ...         ...   \n1356391  2558  2496                     2372  2022-09-16 20:19:43   35.653946   \n1356392  2178  2268                     2334  2022-09-16 18:09:07   35.776619   \n1356402  2762  2808                     2752  2022-09-16 10:42:56   35.688828   \n1356403  1965  2522                     2541  2022-09-16 16:31:16   35.740398   \n1356408  1984  1944                     1931  2022-09-16 05:42:47   35.768810   \n\n         source_lng  destination_lat  destination_lng      e_d_d  \\\n1         51.375633        35.741585        51.065804  37.113998   \n3         51.386841        35.668949        51.365444  13.958000   \n25        51.650261        35.707249        51.333420  44.354000   \n78        51.427177        35.688931        51.253670  27.337000   \n89        51.237087        35.725376        51.414917  22.056999   \n...             ...              ...              ...        ...   \n1356391   51.444736        35.792713        51.350319  27.334999   \n1356392   51.351257        35.646591        51.494701  29.782000   \n1356402   51.331177        35.433765        51.577980  46.405998   \n1356403   51.137367        35.808010        51.427395  36.848000   \n1356408   51.302879        35.815525        50.971333  42.470001   \n\n             clickhouse_time      source_h3_4        dest_h3_4        hour  \n1        2022-09-03 14:12:31  842cf31ffffffff  842cf3dffffffff   13.093333  \n3        2022-09-03 18:47:51  842cf31ffffffff  842cf31ffffffff   17.577778  \n25       2022-09-03 15:46:50  842cf37ffffffff  842cf31ffffffff   14.703611  \n78       2022-09-03 19:17:07  842cf31ffffffff  842cf31ffffffff   18.391944  \n89       2022-09-03 10:58:52  842cf31ffffffff  842cf31ffffffff   10.011944  \n...                      ...              ...              ...         ...  \n1356391  2022-09-16 21:45:01  842cf31ffffffff  842cf31ffffffff  164.328611  \n1356392  2022-09-16 19:01:47  842cf31ffffffff  842cf31ffffffff  162.151944  \n1356402  2022-09-16 11:33:39  842cf31ffffffff  842cf35ffffffff  154.715556  \n1356403  2022-09-16 17:47:54  842cf3dffffffff  842cf31ffffffff  160.521111  \n1356408  2022-09-16 06:27:14  842cf31ffffffff  842cf3dffffffff  149.713056  \n\n[144627 rows x 13 columns]",
      "text/html": "<div>\n<style scoped>\n    .dataframe tbody tr th:only-of-type {\n        vertical-align: middle;\n    }\n\n    .dataframe tbody tr th {\n        vertical-align: top;\n    }\n\n    .dataframe thead th {\n        text-align: right;\n    }\n</style>\n<table border=\"1\" class=\"dataframe\">\n  <thead>\n    <tr style=\"text-align: right;\">\n      <th></th>\n      <th>eta</th>\n      <th>ata</th>\n      <th>a_t_a_result.ride_a_t_a</th>\n      <th>created_at</th>\n      <th>source_lat</th>\n      <th>source_lng</th>\n      <th>destination_lat</th>\n      <th>destination_lng</th>\n      <th>e_d_d</th>\n      <th>clickhouse_time</th>\n      <th>source_h3_4</th>\n      <th>dest_h3_4</th>\n      <th>hour</th>\n    </tr>\n  </thead>\n  <tbody>\n    <tr>\n      <th>1</th>\n      <td>2090</td>\n      <td>2420</td>\n      <td>2414</td>\n      <td>2022-09-03 13:05:36</td>\n      <td>35.712814</td>\n      <td>51.375633</td>\n      <td>35.741585</td>\n      <td>51.065804</td>\n      <td>37.113998</td>\n      <td>2022-09-03 14:12:31</td>\n      <td>842cf31ffffffff</td>\n      <td>842cf3dffffffff</td>\n      <td>13.093333</td>\n    </tr>\n    <tr>\n      <th>3</th>\n      <td>2123</td>\n      <td>3890</td>\n      <td>2920</td>\n      <td>2022-09-03 17:34:40</td>\n      <td>35.734798</td>\n      <td>51.386841</td>\n      <td>35.668949</td>\n      <td>51.365444</td>\n      <td>13.958000</td>\n      <td>2022-09-03 18:47:51</td>\n      <td>842cf31ffffffff</td>\n      <td>842cf31ffffffff</td>\n      <td>17.577778</td>\n    </tr>\n    <tr>\n      <th>25</th>\n      <td>2848</td>\n      <td>3345</td>\n      <td>3135</td>\n      <td>2022-09-03 14:42:13</td>\n      <td>35.520863</td>\n      <td>51.650261</td>\n      <td>35.707249</td>\n      <td>51.333420</td>\n      <td>44.354000</td>\n      <td>2022-09-03 15:46:50</td>\n      <td>842cf37ffffffff</td>\n      <td>842cf31ffffffff</td>\n      <td>14.703611</td>\n    </tr>\n    <tr>\n      <th>78</th>\n      <td>1861</td>\n      <td>2069</td>\n      <td>1972</td>\n      <td>2022-09-03 18:23:31</td>\n      <td>35.601696</td>\n      <td>51.427177</td>\n      <td>35.688931</td>\n      <td>51.253670</td>\n      <td>27.337000</td>\n      <td>2022-09-03 19:17:07</td>\n      <td>842cf31ffffffff</td>\n      <td>842cf31ffffffff</td>\n      <td>18.391944</td>\n    </tr>\n    <tr>\n      <th>89</th>\n      <td>2406</td>\n      <td>2888</td>\n      <td>2838</td>\n      <td>2022-09-03 10:00:43</td>\n      <td>35.679237</td>\n      <td>51.237087</td>\n      <td>35.725376</td>\n      <td>51.414917</td>\n      <td>22.056999</td>\n      <td>2022-09-03 10:58:52</td>\n      <td>842cf31ffffffff</td>\n      <td>842cf31ffffffff</td>\n      <td>10.011944</td>\n    </tr>\n    <tr>\n      <th>...</th>\n      <td>...</td>\n      <td>...</td>\n      <td>...</td>\n      <td>...</td>\n      <td>...</td>\n      <td>...</td>\n      <td>...</td>\n      <td>...</td>\n      <td>...</td>\n      <td>...</td>\n      <td>...</td>\n      <td>...</td>\n      <td>...</td>\n    </tr>\n    <tr>\n      <th>1356391</th>\n      <td>2558</td>\n      <td>2496</td>\n      <td>2372</td>\n      <td>2022-09-16 20:19:43</td>\n      <td>35.653946</td>\n      <td>51.444736</td>\n      <td>35.792713</td>\n      <td>51.350319</td>\n      <td>27.334999</td>\n      <td>2022-09-16 21:45:01</td>\n      <td>842cf31ffffffff</td>\n      <td>842cf31ffffffff</td>\n      <td>164.328611</td>\n    </tr>\n    <tr>\n      <th>1356392</th>\n      <td>2178</td>\n      <td>2268</td>\n      <td>2334</td>\n      <td>2022-09-16 18:09:07</td>\n      <td>35.776619</td>\n      <td>51.351257</td>\n      <td>35.646591</td>\n      <td>51.494701</td>\n      <td>29.782000</td>\n      <td>2022-09-16 19:01:47</td>\n      <td>842cf31ffffffff</td>\n      <td>842cf31ffffffff</td>\n      <td>162.151944</td>\n    </tr>\n    <tr>\n      <th>1356402</th>\n      <td>2762</td>\n      <td>2808</td>\n      <td>2752</td>\n      <td>2022-09-16 10:42:56</td>\n      <td>35.688828</td>\n      <td>51.331177</td>\n      <td>35.433765</td>\n      <td>51.577980</td>\n      <td>46.405998</td>\n      <td>2022-09-16 11:33:39</td>\n      <td>842cf31ffffffff</td>\n      <td>842cf35ffffffff</td>\n      <td>154.715556</td>\n    </tr>\n    <tr>\n      <th>1356403</th>\n      <td>1965</td>\n      <td>2522</td>\n      <td>2541</td>\n      <td>2022-09-16 16:31:16</td>\n      <td>35.740398</td>\n      <td>51.137367</td>\n      <td>35.808010</td>\n      <td>51.427395</td>\n      <td>36.848000</td>\n      <td>2022-09-16 17:47:54</td>\n      <td>842cf3dffffffff</td>\n      <td>842cf31ffffffff</td>\n      <td>160.521111</td>\n    </tr>\n    <tr>\n      <th>1356408</th>\n      <td>1984</td>\n      <td>1944</td>\n      <td>1931</td>\n      <td>2022-09-16 05:42:47</td>\n      <td>35.768810</td>\n      <td>51.302879</td>\n      <td>35.815525</td>\n      <td>50.971333</td>\n      <td>42.470001</td>\n      <td>2022-09-16 06:27:14</td>\n      <td>842cf31ffffffff</td>\n      <td>842cf3dffffffff</td>\n      <td>149.713056</td>\n    </tr>\n  </tbody>\n</table>\n<p>144627 rows × 13 columns</p>\n</div>"
     },
     "execution_count": 9,
     "metadata": {},
     "output_type": "execute_result"
    }
   ],
   "source": [
    "rides_p4 = rides[rides['eta'] > 1800]\n",
    "rides_p4"
   ],
   "metadata": {
    "collapsed": false,
    "pycharm": {
     "name": "#%%\n"
    }
   }
  },
  {
   "cell_type": "code",
   "execution_count": 10,
   "outputs": [
    {
     "data": {
      "text/plain": "                 eta            ata  a_t_a_result.ride_a_t_a     source_lat  \\\ncount  144627.000000  144627.000000            144627.000000  144627.000000   \nmean     2500.013905    2982.588929              2959.880921      35.681130   \nstd       685.246434    1179.463180              1110.769291       0.104595   \nmin      1801.000000     200.000000               181.000000      35.186329   \n25%      2004.000000    2201.000000              2199.000000      35.640226   \n50%      2295.000000    2696.000000              2683.000000      35.712849   \n75%      2782.000000    3447.000000              3420.000000      35.754604   \nmax      9199.000000   23017.000000             10795.000000      35.839512   \n\n          source_lng  destination_lat  destination_lng          e_d_d  \\\ncount  144627.000000    144627.000000    144627.000000  144627.000000   \nmean       51.394440        35.692676        51.338136      32.811295   \nstd         0.152128         0.107629         0.205757      16.583169   \nmin        50.901100        34.527206        49.923988       0.330000   \n25%        51.318096        35.652702        51.239277      20.645000   \n50%        51.401207        35.716225        51.382721      28.868000   \n75%        51.459459        35.758848        51.451906      41.401001   \nmax        52.796974        36.461632        52.806713     197.399002   \n\n                hour  \ncount  144627.000000  \nmean       77.579149  \nstd        43.098320  \nmin         0.001389  \n25%        40.692917  \n50%        79.888611  \n75%       113.054444  \nmax       167.333333  ",
      "text/html": "<div>\n<style scoped>\n    .dataframe tbody tr th:only-of-type {\n        vertical-align: middle;\n    }\n\n    .dataframe tbody tr th {\n        vertical-align: top;\n    }\n\n    .dataframe thead th {\n        text-align: right;\n    }\n</style>\n<table border=\"1\" class=\"dataframe\">\n  <thead>\n    <tr style=\"text-align: right;\">\n      <th></th>\n      <th>eta</th>\n      <th>ata</th>\n      <th>a_t_a_result.ride_a_t_a</th>\n      <th>source_lat</th>\n      <th>source_lng</th>\n      <th>destination_lat</th>\n      <th>destination_lng</th>\n      <th>e_d_d</th>\n      <th>hour</th>\n    </tr>\n  </thead>\n  <tbody>\n    <tr>\n      <th>count</th>\n      <td>144627.000000</td>\n      <td>144627.000000</td>\n      <td>144627.000000</td>\n      <td>144627.000000</td>\n      <td>144627.000000</td>\n      <td>144627.000000</td>\n      <td>144627.000000</td>\n      <td>144627.000000</td>\n      <td>144627.000000</td>\n    </tr>\n    <tr>\n      <th>mean</th>\n      <td>2500.013905</td>\n      <td>2982.588929</td>\n      <td>2959.880921</td>\n      <td>35.681130</td>\n      <td>51.394440</td>\n      <td>35.692676</td>\n      <td>51.338136</td>\n      <td>32.811295</td>\n      <td>77.579149</td>\n    </tr>\n    <tr>\n      <th>std</th>\n      <td>685.246434</td>\n      <td>1179.463180</td>\n      <td>1110.769291</td>\n      <td>0.104595</td>\n      <td>0.152128</td>\n      <td>0.107629</td>\n      <td>0.205757</td>\n      <td>16.583169</td>\n      <td>43.098320</td>\n    </tr>\n    <tr>\n      <th>min</th>\n      <td>1801.000000</td>\n      <td>200.000000</td>\n      <td>181.000000</td>\n      <td>35.186329</td>\n      <td>50.901100</td>\n      <td>34.527206</td>\n      <td>49.923988</td>\n      <td>0.330000</td>\n      <td>0.001389</td>\n    </tr>\n    <tr>\n      <th>25%</th>\n      <td>2004.000000</td>\n      <td>2201.000000</td>\n      <td>2199.000000</td>\n      <td>35.640226</td>\n      <td>51.318096</td>\n      <td>35.652702</td>\n      <td>51.239277</td>\n      <td>20.645000</td>\n      <td>40.692917</td>\n    </tr>\n    <tr>\n      <th>50%</th>\n      <td>2295.000000</td>\n      <td>2696.000000</td>\n      <td>2683.000000</td>\n      <td>35.712849</td>\n      <td>51.401207</td>\n      <td>35.716225</td>\n      <td>51.382721</td>\n      <td>28.868000</td>\n      <td>79.888611</td>\n    </tr>\n    <tr>\n      <th>75%</th>\n      <td>2782.000000</td>\n      <td>3447.000000</td>\n      <td>3420.000000</td>\n      <td>35.754604</td>\n      <td>51.459459</td>\n      <td>35.758848</td>\n      <td>51.451906</td>\n      <td>41.401001</td>\n      <td>113.054444</td>\n    </tr>\n    <tr>\n      <th>max</th>\n      <td>9199.000000</td>\n      <td>23017.000000</td>\n      <td>10795.000000</td>\n      <td>35.839512</td>\n      <td>52.796974</td>\n      <td>36.461632</td>\n      <td>52.806713</td>\n      <td>197.399002</td>\n      <td>167.333333</td>\n    </tr>\n  </tbody>\n</table>\n</div>"
     },
     "execution_count": 10,
     "metadata": {},
     "output_type": "execute_result"
    }
   ],
   "source": [
    "rides_p4.describe()"
   ],
   "metadata": {
    "collapsed": false,
    "pycharm": {
     "name": "#%%\n"
    }
   }
  },
  {
   "cell_type": "code",
   "execution_count": 11,
   "outputs": [
    {
     "name": "stdout",
     "output_type": "stream",
     "text": [
      "<class 'pandas.core.frame.DataFrame'>\n",
      "Int64Index: 72291 entries, 1 to 624446\n",
      "Data columns (total 13 columns):\n",
      " #   Column                   Non-Null Count  Dtype  \n",
      "---  ------                   --------------  -----  \n",
      " 0   eta                      72291 non-null  int64  \n",
      " 1   ata                      72291 non-null  int64  \n",
      " 2   a_t_a_result.ride_a_t_a  72291 non-null  int64  \n",
      " 3   created_at               72291 non-null  object \n",
      " 4   source_lat               72291 non-null  float64\n",
      " 5   source_lng               72291 non-null  float64\n",
      " 6   destination_lat          72291 non-null  float64\n",
      " 7   destination_lng          72291 non-null  float64\n",
      " 8   e_d_d                    72291 non-null  float64\n",
      " 9   clickhouse_time          72291 non-null  object \n",
      " 10  source_h3_4              72291 non-null  object \n",
      " 11  dest_h3_4                72291 non-null  object \n",
      " 12  hour                     72291 non-null  float64\n",
      "dtypes: float64(6), int64(3), object(4)\n",
      "memory usage: 7.7+ MB\n"
     ]
    }
   ],
   "source": [
    "rides_p4_train = rides_p4[rides_p4['created_at'] < '2022-09-10']\n",
    "rides_p4_train.info()"
   ],
   "metadata": {
    "collapsed": false,
    "pycharm": {
     "name": "#%%\n"
    }
   }
  },
  {
   "cell_type": "code",
   "execution_count": 26,
   "outputs": [
    {
     "name": "stderr",
     "output_type": "stream",
     "text": [
      "/var/folders/yq/707ysz_j3jlggmtk5clx13rm0000gn/T/ipykernel_4003/4252110193.py:1: FutureWarning: The default value of numeric_only in DataFrame.kurt is deprecated. In a future version, it will default to False. In addition, specifying 'numeric_only=None' is deprecated. Select only valid columns or specify the value of numeric_only to silence this warning.\n",
      "  rides_p4_train.kurtosis()\n"
     ]
    },
    {
     "data": {
      "text/plain": "eta                         5.740670\nata                        13.220761\na_t_a_result.ride_a_t_a     4.720379\nsource_lat                  1.458937\nsource_lng                  3.042471\ndestination_lat             8.722788\ndestination_lng             2.237643\ne_d_d                       5.271672\nhour                       -0.974869\ndtype: float64"
     },
     "execution_count": 26,
     "metadata": {},
     "output_type": "execute_result"
    }
   ],
   "source": [
    "rides_p4_train.kurtosis()"
   ],
   "metadata": {
    "collapsed": false,
    "pycharm": {
     "name": "#%%\n"
    }
   }
  },
  {
   "cell_type": "code",
   "execution_count": 27,
   "outputs": [
    {
     "name": "stdout",
     "output_type": "stream",
     "text": [
      "<class 'pandas.core.frame.DataFrame'>\n",
      "Int64Index: 9665 entries, 744344 to 853010\n",
      "Data columns (total 13 columns):\n",
      " #   Column                   Non-Null Count  Dtype  \n",
      "---  ------                   --------------  -----  \n",
      " 0   eta                      9665 non-null   int64  \n",
      " 1   ata                      9665 non-null   int64  \n",
      " 2   a_t_a_result.ride_a_t_a  9665 non-null   int64  \n",
      " 3   created_at               9665 non-null   object \n",
      " 4   source_lat               9665 non-null   float64\n",
      " 5   source_lng               9665 non-null   float64\n",
      " 6   destination_lat          9665 non-null   float64\n",
      " 7   destination_lng          9665 non-null   float64\n",
      " 8   e_d_d                    9665 non-null   float64\n",
      " 9   clickhouse_time          9665 non-null   object \n",
      " 10  source_h3_4              9665 non-null   object \n",
      " 11  dest_h3_4                9665 non-null   object \n",
      " 12  hour                     9665 non-null   float64\n",
      "dtypes: float64(6), int64(3), object(4)\n",
      "memory usage: 1.0+ MB\n"
     ]
    }
   ],
   "source": [
    "rides_p4_test = rides_p4[(rides_p4['created_at'] >= '2022-09-11') & (rides_p4['created_at'] < '2022-09-12')]\n",
    "rides_p4_test.info()"
   ],
   "metadata": {
    "collapsed": false,
    "pycharm": {
     "name": "#%%\n"
    }
   }
  },
  {
   "cell_type": "code",
   "execution_count": 28,
   "outputs": [],
   "source": [
    "# , \"e_d_d\"\n",
    "p4_eta_edd_h3_hour_train = rides_p4_train[[\"eta\", \"source_h3_4\", \"dest_h3_4\", \"hour\"]]\n",
    "p4_ata_train = rides_p4_train[\"a_t_a_result.ride_a_t_a\"]\n",
    "\n",
    "p4_eta_edd_h3_hour_test = rides_p4_test[[\"eta\", \"source_h3_4\", \"dest_h3_4\", \"hour\"]]\n",
    "p4_ata_test = rides_p4_test[\"a_t_a_result.ride_a_t_a\"]"
   ],
   "metadata": {
    "collapsed": false,
    "pycharm": {
     "name": "#%%\n"
    }
   }
  },
  {
   "cell_type": "code",
   "execution_count": 29,
   "outputs": [
    {
     "data": {
      "text/plain": "                eta          hour  source_h3_4_842cd59ffffffff  \\\ncount  72291.000000  72291.000000                 72291.000000   \nmean    2496.536263     73.200242                     0.002158   \nstd      676.590008     39.429742                     0.046404   \nmin     1801.000000      0.014444                     0.000000   \n25%     2007.000000     40.504583                     0.000000   \n50%     2301.000000     70.232222                     0.000000   \n75%     2773.000000    107.242639                     0.000000   \nmax     9199.000000    167.333333                     1.000000   \n\n       source_h3_4_842cd5bffffffff  source_h3_4_842cf31ffffffff  \\\ncount                 72291.000000                 72291.000000   \nmean                      0.000069                     0.807791   \nstd                       0.008316                     0.394039   \nmin                       0.000000                     0.000000   \n25%                       0.000000                     1.000000   \n50%                       0.000000                     1.000000   \n75%                       0.000000                     1.000000   \nmax                       1.000000                     1.000000   \n\n       source_h3_4_842cf33ffffffff  source_h3_4_842cf35ffffffff  \\\ncount                 72291.000000                 72291.000000   \nmean                      0.026933                     0.071019   \nstd                       0.161888                     0.256858   \nmin                       0.000000                     0.000000   \n25%                       0.000000                     0.000000   \n50%                       0.000000                     0.000000   \n75%                       0.000000                     0.000000   \nmax                       1.000000                     1.000000   \n\n       source_h3_4_842cf37ffffffff  source_h3_4_842cf3dffffffff  \\\ncount                 72291.000000                 72291.000000   \nmean                      0.029105                     0.062401   \nstd                       0.168101                     0.241883   \nmin                       0.000000                     0.000000   \n25%                       0.000000                     0.000000   \n50%                       0.000000                     0.000000   \n75%                       0.000000                     0.000000   \nmax                       1.000000                     1.000000   \n\n       dest_h3_4_842cd4bffffffff  ...  dest_h3_4_842cf05ffffffff  \\\ncount               72291.000000  ...               72291.000000   \nmean                    0.000678  ...                   0.000207   \nstd                     0.026026  ...                   0.014403   \nmin                     0.000000  ...                   0.000000   \n25%                     0.000000  ...                   0.000000   \n50%                     0.000000  ...                   0.000000   \n75%                     0.000000  ...                   0.000000   \nmax                     1.000000  ...                   1.000000   \n\n       dest_h3_4_842cf07ffffffff  dest_h3_4_842cf21ffffffff  \\\ncount               72291.000000               72291.000000   \nmean                    0.004288                   0.000124   \nstd                     0.065344                   0.011157   \nmin                     0.000000                   0.000000   \n25%                     0.000000                   0.000000   \n50%                     0.000000                   0.000000   \n75%                     0.000000                   0.000000   \nmax                     1.000000                   1.000000   \n\n       dest_h3_4_842cf27ffffffff  dest_h3_4_842cf31ffffffff  \\\ncount               72291.000000               72291.000000   \nmean                    0.000484                   0.719024   \nstd                     0.021998                   0.449479   \nmin                     0.000000                   0.000000   \n25%                     0.000000                   0.000000   \n50%                     0.000000                   1.000000   \n75%                     0.000000                   1.000000   \nmax                     1.000000                   1.000000   \n\n       dest_h3_4_842cf33ffffffff  dest_h3_4_842cf35ffffffff  \\\ncount               72291.000000               72291.000000   \nmean                    0.020196                   0.056812   \nstd                     0.140672                   0.231485   \nmin                     0.000000                   0.000000   \n25%                     0.000000                   0.000000   \n50%                     0.000000                   0.000000   \n75%                     0.000000                   0.000000   \nmax                     1.000000                   1.000000   \n\n       dest_h3_4_842cf37ffffffff  dest_h3_4_842cf39ffffffff  \\\ncount               72291.000000               72291.000000   \nmean                    0.021413                   0.021358   \nstd                     0.144759                   0.144576   \nmin                     0.000000                   0.000000   \n25%                     0.000000                   0.000000   \n50%                     0.000000                   0.000000   \n75%                     0.000000                   0.000000   \nmax                     1.000000                   1.000000   \n\n       dest_h3_4_842cf3dffffffff  \ncount               72291.000000  \nmean                    0.152813  \nstd                     0.359810  \nmin                     0.000000  \n25%                     0.000000  \n50%                     0.000000  \n75%                     0.000000  \nmax                     1.000000  \n\n[8 rows x 24 columns]",
      "text/html": "<div>\n<style scoped>\n    .dataframe tbody tr th:only-of-type {\n        vertical-align: middle;\n    }\n\n    .dataframe tbody tr th {\n        vertical-align: top;\n    }\n\n    .dataframe thead th {\n        text-align: right;\n    }\n</style>\n<table border=\"1\" class=\"dataframe\">\n  <thead>\n    <tr style=\"text-align: right;\">\n      <th></th>\n      <th>eta</th>\n      <th>hour</th>\n      <th>source_h3_4_842cd59ffffffff</th>\n      <th>source_h3_4_842cd5bffffffff</th>\n      <th>source_h3_4_842cf31ffffffff</th>\n      <th>source_h3_4_842cf33ffffffff</th>\n      <th>source_h3_4_842cf35ffffffff</th>\n      <th>source_h3_4_842cf37ffffffff</th>\n      <th>source_h3_4_842cf3dffffffff</th>\n      <th>dest_h3_4_842cd4bffffffff</th>\n      <th>...</th>\n      <th>dest_h3_4_842cf05ffffffff</th>\n      <th>dest_h3_4_842cf07ffffffff</th>\n      <th>dest_h3_4_842cf21ffffffff</th>\n      <th>dest_h3_4_842cf27ffffffff</th>\n      <th>dest_h3_4_842cf31ffffffff</th>\n      <th>dest_h3_4_842cf33ffffffff</th>\n      <th>dest_h3_4_842cf35ffffffff</th>\n      <th>dest_h3_4_842cf37ffffffff</th>\n      <th>dest_h3_4_842cf39ffffffff</th>\n      <th>dest_h3_4_842cf3dffffffff</th>\n    </tr>\n  </thead>\n  <tbody>\n    <tr>\n      <th>count</th>\n      <td>72291.000000</td>\n      <td>72291.000000</td>\n      <td>72291.000000</td>\n      <td>72291.000000</td>\n      <td>72291.000000</td>\n      <td>72291.000000</td>\n      <td>72291.000000</td>\n      <td>72291.000000</td>\n      <td>72291.000000</td>\n      <td>72291.000000</td>\n      <td>...</td>\n      <td>72291.000000</td>\n      <td>72291.000000</td>\n      <td>72291.000000</td>\n      <td>72291.000000</td>\n      <td>72291.000000</td>\n      <td>72291.000000</td>\n      <td>72291.000000</td>\n      <td>72291.000000</td>\n      <td>72291.000000</td>\n      <td>72291.000000</td>\n    </tr>\n    <tr>\n      <th>mean</th>\n      <td>2496.536263</td>\n      <td>73.200242</td>\n      <td>0.002158</td>\n      <td>0.000069</td>\n      <td>0.807791</td>\n      <td>0.026933</td>\n      <td>0.071019</td>\n      <td>0.029105</td>\n      <td>0.062401</td>\n      <td>0.000678</td>\n      <td>...</td>\n      <td>0.000207</td>\n      <td>0.004288</td>\n      <td>0.000124</td>\n      <td>0.000484</td>\n      <td>0.719024</td>\n      <td>0.020196</td>\n      <td>0.056812</td>\n      <td>0.021413</td>\n      <td>0.021358</td>\n      <td>0.152813</td>\n    </tr>\n    <tr>\n      <th>std</th>\n      <td>676.590008</td>\n      <td>39.429742</td>\n      <td>0.046404</td>\n      <td>0.008316</td>\n      <td>0.394039</td>\n      <td>0.161888</td>\n      <td>0.256858</td>\n      <td>0.168101</td>\n      <td>0.241883</td>\n      <td>0.026026</td>\n      <td>...</td>\n      <td>0.014403</td>\n      <td>0.065344</td>\n      <td>0.011157</td>\n      <td>0.021998</td>\n      <td>0.449479</td>\n      <td>0.140672</td>\n      <td>0.231485</td>\n      <td>0.144759</td>\n      <td>0.144576</td>\n      <td>0.359810</td>\n    </tr>\n    <tr>\n      <th>min</th>\n      <td>1801.000000</td>\n      <td>0.014444</td>\n      <td>0.000000</td>\n      <td>0.000000</td>\n      <td>0.000000</td>\n      <td>0.000000</td>\n      <td>0.000000</td>\n      <td>0.000000</td>\n      <td>0.000000</td>\n      <td>0.000000</td>\n      <td>...</td>\n      <td>0.000000</td>\n      <td>0.000000</td>\n      <td>0.000000</td>\n      <td>0.000000</td>\n      <td>0.000000</td>\n      <td>0.000000</td>\n      <td>0.000000</td>\n      <td>0.000000</td>\n      <td>0.000000</td>\n      <td>0.000000</td>\n    </tr>\n    <tr>\n      <th>25%</th>\n      <td>2007.000000</td>\n      <td>40.504583</td>\n      <td>0.000000</td>\n      <td>0.000000</td>\n      <td>1.000000</td>\n      <td>0.000000</td>\n      <td>0.000000</td>\n      <td>0.000000</td>\n      <td>0.000000</td>\n      <td>0.000000</td>\n      <td>...</td>\n      <td>0.000000</td>\n      <td>0.000000</td>\n      <td>0.000000</td>\n      <td>0.000000</td>\n      <td>0.000000</td>\n      <td>0.000000</td>\n      <td>0.000000</td>\n      <td>0.000000</td>\n      <td>0.000000</td>\n      <td>0.000000</td>\n    </tr>\n    <tr>\n      <th>50%</th>\n      <td>2301.000000</td>\n      <td>70.232222</td>\n      <td>0.000000</td>\n      <td>0.000000</td>\n      <td>1.000000</td>\n      <td>0.000000</td>\n      <td>0.000000</td>\n      <td>0.000000</td>\n      <td>0.000000</td>\n      <td>0.000000</td>\n      <td>...</td>\n      <td>0.000000</td>\n      <td>0.000000</td>\n      <td>0.000000</td>\n      <td>0.000000</td>\n      <td>1.000000</td>\n      <td>0.000000</td>\n      <td>0.000000</td>\n      <td>0.000000</td>\n      <td>0.000000</td>\n      <td>0.000000</td>\n    </tr>\n    <tr>\n      <th>75%</th>\n      <td>2773.000000</td>\n      <td>107.242639</td>\n      <td>0.000000</td>\n      <td>0.000000</td>\n      <td>1.000000</td>\n      <td>0.000000</td>\n      <td>0.000000</td>\n      <td>0.000000</td>\n      <td>0.000000</td>\n      <td>0.000000</td>\n      <td>...</td>\n      <td>0.000000</td>\n      <td>0.000000</td>\n      <td>0.000000</td>\n      <td>0.000000</td>\n      <td>1.000000</td>\n      <td>0.000000</td>\n      <td>0.000000</td>\n      <td>0.000000</td>\n      <td>0.000000</td>\n      <td>0.000000</td>\n    </tr>\n    <tr>\n      <th>max</th>\n      <td>9199.000000</td>\n      <td>167.333333</td>\n      <td>1.000000</td>\n      <td>1.000000</td>\n      <td>1.000000</td>\n      <td>1.000000</td>\n      <td>1.000000</td>\n      <td>1.000000</td>\n      <td>1.000000</td>\n      <td>1.000000</td>\n      <td>...</td>\n      <td>1.000000</td>\n      <td>1.000000</td>\n      <td>1.000000</td>\n      <td>1.000000</td>\n      <td>1.000000</td>\n      <td>1.000000</td>\n      <td>1.000000</td>\n      <td>1.000000</td>\n      <td>1.000000</td>\n      <td>1.000000</td>\n    </tr>\n  </tbody>\n</table>\n<p>8 rows × 24 columns</p>\n</div>"
     },
     "execution_count": 29,
     "metadata": {},
     "output_type": "execute_result"
    }
   ],
   "source": [
    "p4_dummy_train_rides = pd.get_dummies(p4_eta_edd_h3_hour_train, prefix={'source_h3_4': 'source_h3_4',\n",
    "                                                             'dest_h3_4': 'dest_h3_4'},\n",
    "                                   drop_first=True)\n",
    "p4_dummy_train_rides.describe()"
   ],
   "metadata": {
    "collapsed": false,
    "pycharm": {
     "name": "#%%\n"
    }
   }
  },
  {
   "cell_type": "code",
   "execution_count": 30,
   "outputs": [
    {
     "name": "stderr",
     "output_type": "stream",
     "text": [
      "/var/folders/yq/707ysz_j3jlggmtk5clx13rm0000gn/T/ipykernel_4003/3944072537.py:7: UserWarning: Boolean Series key will be reindexed to match DataFrame index.\n",
      "  p4_eta_edd_h3_hour_train = p4_eta_edd_h3_hour_train[p4_dummy_train_rides[col] == 0]\n"
     ]
    },
    {
     "data": {
      "text/plain": "                eta          hour\ncount  72266.000000  72266.000000\nmean    2495.300958     73.196969\nstd      672.907099     39.426985\nmin     1801.000000      0.014444\n25%     2007.000000     40.501806\n50%     2301.000000     70.229306\n75%     2772.000000    107.197222\nmax     9199.000000    167.333333",
      "text/html": "<div>\n<style scoped>\n    .dataframe tbody tr th:only-of-type {\n        vertical-align: middle;\n    }\n\n    .dataframe tbody tr th {\n        vertical-align: top;\n    }\n\n    .dataframe thead th {\n        text-align: right;\n    }\n</style>\n<table border=\"1\" class=\"dataframe\">\n  <thead>\n    <tr style=\"text-align: right;\">\n      <th></th>\n      <th>eta</th>\n      <th>hour</th>\n    </tr>\n  </thead>\n  <tbody>\n    <tr>\n      <th>count</th>\n      <td>72266.000000</td>\n      <td>72266.000000</td>\n    </tr>\n    <tr>\n      <th>mean</th>\n      <td>2495.300958</td>\n      <td>73.196969</td>\n    </tr>\n    <tr>\n      <th>std</th>\n      <td>672.907099</td>\n      <td>39.426985</td>\n    </tr>\n    <tr>\n      <th>min</th>\n      <td>1801.000000</td>\n      <td>0.014444</td>\n    </tr>\n    <tr>\n      <th>25%</th>\n      <td>2007.000000</td>\n      <td>40.501806</td>\n    </tr>\n    <tr>\n      <th>50%</th>\n      <td>2301.000000</td>\n      <td>70.229306</td>\n    </tr>\n    <tr>\n      <th>75%</th>\n      <td>2772.000000</td>\n      <td>107.197222</td>\n    </tr>\n    <tr>\n      <th>max</th>\n      <td>9199.000000</td>\n      <td>167.333333</td>\n    </tr>\n  </tbody>\n</table>\n</div>"
     },
     "execution_count": 30,
     "metadata": {},
     "output_type": "execute_result"
    }
   ],
   "source": [
    "p4_geo_noise = np.count_nonzero(p4_dummy_train_rides, axis=0) < 12\n",
    "\n",
    "p4_cols = p4_dummy_train_rides.columns\n",
    "for col, noise in zip(p4_cols, p4_geo_noise):\n",
    "    if noise:\n",
    "        # DOESN'T REINDEX\n",
    "        p4_eta_edd_h3_hour_train = p4_eta_edd_h3_hour_train[p4_dummy_train_rides[col] == 0]\n",
    "        p4_ata_train = p4_ata_train[p4_dummy_train_rides[col] == 0]\n",
    "\n",
    "p4_eta_edd_h3_hour_train.describe()"
   ],
   "metadata": {
    "collapsed": false,
    "pycharm": {
     "name": "#%%\n"
    }
   }
  },
  {
   "cell_type": "code",
   "execution_count": 31,
   "outputs": [
    {
     "name": "stdout",
     "output_type": "stream",
     "text": [
      "[72291 72291   156     5 58396  1947  5134  2104  4511    49     1   139\n",
      "    10    30    15   310     9    35 51979  1460  4107  1548  1544 11047]\n",
      "Index(['eta', 'hour', 'source_h3_4_842cd59ffffffff',\n",
      "       'source_h3_4_842cd5bffffffff', 'source_h3_4_842cf31ffffffff',\n",
      "       'source_h3_4_842cf33ffffffff', 'source_h3_4_842cf35ffffffff',\n",
      "       'source_h3_4_842cf37ffffffff', 'source_h3_4_842cf3dffffffff',\n",
      "       'dest_h3_4_842cd4bffffffff', 'dest_h3_4_842cd4dffffffff',\n",
      "       'dest_h3_4_842cd59ffffffff', 'dest_h3_4_842cd5bffffffff',\n",
      "       'dest_h3_4_842cf01ffffffff', 'dest_h3_4_842cf05ffffffff',\n",
      "       'dest_h3_4_842cf07ffffffff', 'dest_h3_4_842cf21ffffffff',\n",
      "       'dest_h3_4_842cf27ffffffff', 'dest_h3_4_842cf31ffffffff',\n",
      "       'dest_h3_4_842cf33ffffffff', 'dest_h3_4_842cf35ffffffff',\n",
      "       'dest_h3_4_842cf37ffffffff', 'dest_h3_4_842cf39ffffffff',\n",
      "       'dest_h3_4_842cf3dffffffff'],\n",
      "      dtype='object')\n"
     ]
    }
   ],
   "source": [
    "print(np.count_nonzero(p4_dummy_train_rides, axis=0))\n",
    "print(p4_dummy_train_rides.columns)"
   ],
   "metadata": {
    "collapsed": false,
    "pycharm": {
     "name": "#%%\n"
    }
   }
  },
  {
   "cell_type": "code",
   "execution_count": 32,
   "outputs": [],
   "source": [
    "p4_ohe = ColumnTransformer(\n",
    "    [('OHE', OneHotEncoder(handle_unknown='ignore', sparse=False), ['source_h3_4', 'dest_h3_4'])],\n",
    "    remainder='passthrough'\n",
    ").fit(p4_eta_edd_h3_hour_train)"
   ],
   "metadata": {
    "collapsed": false,
    "pycharm": {
     "name": "#%%\n"
    }
   }
  },
  {
   "cell_type": "code",
   "execution_count": 33,
   "outputs": [],
   "source": [
    "p4_eta_edd_h3_hour_train_transformed = p4_ohe.transform(p4_eta_edd_h3_hour_train)\n",
    "p4_eta_edd_h3_hour_test_transformed = p4_ohe.transform(p4_eta_edd_h3_hour_test)"
   ],
   "metadata": {
    "collapsed": false,
    "pycharm": {
     "name": "#%%\n"
    }
   }
  },
  {
   "cell_type": "code",
   "execution_count": 34,
   "outputs": [
    {
     "name": "stdout",
     "output_type": "stream",
     "text": [
      "[-199.08782086   86.64385208  178.32076968   29.38154765  -47.38258353\n",
      "  -16.34516611  -31.5305989  -139.16280192  243.83746188  112.50891574\n",
      " -348.76602038 -482.22989598   26.76389974 -235.57312236  327.58525014\n",
      "  106.52249518   98.29753766   84.0148583   122.11381383   84.08760819\n",
      "    1.31683271   -0.59060994]\n",
      "-626.9493646598585\n"
     ]
    }
   ],
   "source": [
    "p4_reg = LinearRegression().fit(p4_eta_edd_h3_hour_train_transformed, p4_ata_train)\n",
    "print(p4_reg.coef_)\n",
    "print(p4_reg.intercept_)"
   ],
   "metadata": {
    "collapsed": false,
    "pycharm": {
     "name": "#%%\n"
    }
   }
  },
  {
   "cell_type": "code",
   "execution_count": 35,
   "outputs": [],
   "source": [
    "p4_ata_train_pred = p4_reg.predict(p4_eta_edd_h3_hour_train_transformed)\n",
    "p4_ata_test_pred = p4_reg.predict(p4_eta_edd_h3_hour_test_transformed)"
   ],
   "metadata": {
    "collapsed": false,
    "pycharm": {
     "name": "#%%\n"
    }
   }
  },
  {
   "cell_type": "code",
   "execution_count": 36,
   "outputs": [
    {
     "data": {
      "text/plain": "array([[0.00000000e+00, 0.00000000e+00, 1.00000000e+00, ...,\n        1.00000000e+00, 2.09000000e+03, 1.30933333e+01],\n       [0.00000000e+00, 0.00000000e+00, 1.00000000e+00, ...,\n        0.00000000e+00, 2.12300000e+03, 1.75777778e+01],\n       [0.00000000e+00, 0.00000000e+00, 0.00000000e+00, ...,\n        0.00000000e+00, 2.84800000e+03, 1.47036111e+01],\n       ...,\n       [0.00000000e+00, 0.00000000e+00, 0.00000000e+00, ...,\n        0.00000000e+00, 2.03700000e+03, 1.58537500e+02],\n       [0.00000000e+00, 0.00000000e+00, 0.00000000e+00, ...,\n        0.00000000e+00, 2.64600000e+03, 1.60884722e+02],\n       [0.00000000e+00, 0.00000000e+00, 0.00000000e+00, ...,\n        0.00000000e+00, 2.04300000e+03, 1.55229444e+02]])"
     },
     "execution_count": 36,
     "metadata": {},
     "output_type": "execute_result"
    }
   ],
   "source": [
    "p4_eta_edd_h3_hour_train_transformed"
   ],
   "metadata": {
    "collapsed": false,
    "pycharm": {
     "name": "#%%\n"
    }
   }
  },
  {
   "cell_type": "code",
   "execution_count": 37,
   "outputs": [
    {
     "name": "stdout",
     "output_type": "stream",
     "text": [
      "ETA train MAE 616.7792184429745\n",
      "prediction train MAE 521.1043181931957\n",
      "ETA test MAE  485.21841696844285\n",
      "prediction test MAE 514.5163165661949\n",
      "ETA train MSE 893344.2813356211\n",
      "prediction train MSE 584049.4871283422\n",
      "ETA test MSE  632557.4671495085\n",
      "prediction test MSE 528622.1835456861\n",
      "ETA train explained_variance_score 0.5127943786899665\n",
      "prediction train explained_variance_score 0.5430104019149594\n",
      "ETA test explained_variance_score  0.5407372581466507\n",
      "prediction test explained_variance_score 0.5457731260912995\n",
      "ETA train median_absolute_error 381.0\n",
      "prediction train median_absolute_error 387.36651711700597\n",
      "ETA test median_absolute_error  291.0\n",
      "prediction test median_absolute_error 410.7760906223539\n",
      "ETA train r2_score 0.30100264947339284\n",
      "prediction train r2_score 0.5430104019149595\n",
      "ETA test r2_score  0.4261405950299586\n",
      "prediction test r2_score 0.5204312217346858\n",
      "ETA train MAPE 0.17819401492228237\n",
      "prediction train MAPE 0.1762711342349406\n",
      "ETA test MAPE  0.15091827623303933\n",
      "prediction test MAPE 0.1910503922559521\n"
     ]
    }
   ],
   "source": [
    "print(\"ETA train MAE\", mean_absolute_error(p4_ata_train, p4_eta_edd_h3_hour_train_transformed[:, 20]))\n",
    "print(\"prediction train MAE\", mean_absolute_error(p4_ata_train, p4_ata_train_pred))\n",
    "\n",
    "print(\"ETA test MAE \", mean_absolute_error(p4_ata_test, p4_eta_edd_h3_hour_test_transformed[:, 20]))\n",
    "print(\"prediction test MAE\", mean_absolute_error(p4_ata_test, p4_ata_test_pred))\n",
    "\n",
    "print(\"ETA train MSE\", mean_squared_error(p4_ata_train, p4_eta_edd_h3_hour_train_transformed[:, 20]))\n",
    "print(\"prediction train MSE\", mean_squared_error(p4_ata_train, p4_ata_train_pred))\n",
    "\n",
    "print(\"ETA test MSE \", mean_squared_error(p4_ata_test, p4_eta_edd_h3_hour_test_transformed[:, 20]))\n",
    "print(\"prediction test MSE\", mean_squared_error(p4_ata_test, p4_ata_test_pred))\n",
    "\n",
    "print(\"ETA train explained_variance_score\", explained_variance_score(p4_ata_train, p4_eta_edd_h3_hour_train_transformed[:, 20]))\n",
    "print(\"prediction train explained_variance_score\", explained_variance_score(p4_ata_train, p4_ata_train_pred))\n",
    "\n",
    "print(\"ETA test explained_variance_score \", explained_variance_score(p4_ata_test, p4_eta_edd_h3_hour_test_transformed[:, 20]))\n",
    "print(\"prediction test explained_variance_score\", explained_variance_score(p4_ata_test, p4_ata_test_pred))\n",
    "\n",
    "print(\"ETA train median_absolute_error\", median_absolute_error(p4_ata_train, p4_eta_edd_h3_hour_train_transformed[:, 20]))\n",
    "print(\"prediction train median_absolute_error\", median_absolute_error(p4_ata_train, p4_ata_train_pred))\n",
    "\n",
    "print(\"ETA test median_absolute_error \", median_absolute_error(p4_ata_test, p4_eta_edd_h3_hour_test_transformed[:, 20]))\n",
    "print(\"prediction test median_absolute_error\", median_absolute_error(p4_ata_test, p4_ata_test_pred))\n",
    "\n",
    "print(\"ETA train r2_score\", r2_score(p4_ata_train, p4_eta_edd_h3_hour_train_transformed[:, 20]))\n",
    "print(\"prediction train r2_score\", r2_score(p4_ata_train, p4_ata_train_pred))\n",
    "\n",
    "print(\"ETA test r2_score \", r2_score(p4_ata_test, p4_eta_edd_h3_hour_test_transformed[:, 20]))\n",
    "print(\"prediction test r2_score\", r2_score(p4_ata_test, p4_ata_test_pred))\n",
    "\n",
    "print(\"ETA train MAPE\", mean_absolute_percentage_error(p4_ata_train, p4_eta_edd_h3_hour_train_transformed[:, 20]))\n",
    "print(\"prediction train MAPE\", mean_absolute_percentage_error(p4_ata_train, p4_ata_train_pred))\n",
    "\n",
    "print(\"ETA test MAPE \", mean_absolute_percentage_error(p4_ata_test, p4_eta_edd_h3_hour_test_transformed[:, 20]))\n",
    "print(\"prediction test MAPE\", mean_absolute_percentage_error(p4_ata_test, p4_ata_test_pred))"
   ],
   "metadata": {
    "collapsed": false,
    "pycharm": {
     "name": "#%%\n"
    }
   }
  },
  {
   "cell_type": "code",
   "execution_count": 105,
   "outputs": [
    {
     "data": {
      "text/plain": "<AxesSubplot: >"
     },
     "execution_count": 105,
     "metadata": {},
     "output_type": "execute_result"
    },
    {
     "data": {
      "text/plain": "<Figure size 640x480 with 1 Axes>",
      "image/png": "[encoded data removed]"
     },
     "metadata": {},
     "output_type": "display_data"
    }
   ],
   "source": [
    "p4_ata_train.hist(bins=100)"
   ],
   "metadata": {
    "collapsed": false,
    "pycharm": {
     "name": "#%%\n"
    }
   }
  },
  {
   "cell_type": "code",
   "execution_count": 108,
   "outputs": [
    {
     "data": {
      "text/plain": "<AxesSubplot: >"
     },
     "execution_count": 108,
     "metadata": {},
     "output_type": "execute_result"
    },
    {
     "data": {
      "text/plain": "<Figure size 640x480 with 1 Axes>",
      "image/png": "[encoded data removed]"
     },
     "metadata": {},
     "output_type": "display_data"
    }
   ],
   "source": [
    "pd.Series(p4_eta_edd_h3_hour_train_transformed[:, 20]).hist(bins=100)"
   ],
   "metadata": {
    "collapsed": false,
    "pycharm": {
     "name": "#%%\n"
    }
   }
  },
  {
   "cell_type": "code",
   "execution_count": 110,
   "outputs": [
    {
     "data": {
      "text/plain": "<AxesSubplot: >"
     },
     "execution_count": 110,
     "metadata": {},
     "output_type": "execute_result"
    },
    {
     "data": {
      "text/plain": "<Figure size 640x480 with 1 Axes>",
      "image/png": "[encoded data removed]"
     },
     "metadata": {},
     "output_type": "display_data"
    }
   ],
   "source": [
    "pd.Series(p4_ata_train_pred).hist(bins=100)"
   ],
   "metadata": {
    "collapsed": false,
    "pycharm": {
     "name": "#%%\n"
    }
   }
  },
  {
   "cell_type": "code",
   "execution_count": 42,
   "outputs": [
    {
     "data": {
      "text/plain": "array([10384.93212894, 11295.37934212, 10795.75623542, 10370.39314336,\n       10800.30462468, 10741.94658946])"
     },
     "execution_count": 42,
     "metadata": {},
     "output_type": "execute_result"
    }
   ],
   "source": [
    "p4_ata_test_pred[p4_ata_test_pred < 0]"
   ],
   "metadata": {
    "collapsed": false,
    "pycharm": {
     "name": "#%%\n"
    }
   }
  },
  {
   "cell_type": "code",
   "execution_count": null,
   "outputs": [],
   "source": [],
   "metadata": {
    "collapsed": false,
    "pycharm": {
     "name": "#%%\n"
    }
   }
  }
 ],
 "metadata": {
  "kernelspec": {
   "display_name": "Python 3",
   "language": "python",
   "name": "python3"
  },
  "language_info": {
   "codemirror_mode": {
    "name": "ipython",
    "version": 2
   },
   "file_extension": ".py",
   "mimetype": "text/x-python",
   "name": "python",
   "nbconvert_exporter": "python",
   "pygments_lexer": "ipython2",
   "version": "2.7.6"
  }
 },
 "nbformat": 4,
 "nbformat_minor": 0
}