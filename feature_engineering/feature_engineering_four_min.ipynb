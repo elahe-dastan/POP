{
 "cells": [
  {
   "cell_type": "code",
   "execution_count": 51,
   "metadata": {
    "collapsed": true,
    "pycharm": {
     "name": "#%%\n"
    }
   },
   "outputs": [],
   "source": [
    "import pandas as pd\n",
    "import numpy as np\n",
    "from sklearn.linear_model import LinearRegression\n",
    "from sklearn.metrics import mean_absolute_error, mean_squared_error, explained_variance_score, median_absolute_error, r2_score, mean_absolute_percentage_error\n",
    "from sklearn.model_selection import train_test_split\n",
    "from scipy.stats import *\n",
    "import h3\n",
    "from sklearn.preprocessing import OneHotEncoder\n",
    "from sklearn.compose import ColumnTransformer\n",
    "from datetime import datetime\n",
    "from math import floor\n",
    "import matplotlib.pyplot as plt\n",
    "import mlflow\n",
    "import mlflow.sklearn"
   ]
  },
  {
   "cell_type": "code",
   "execution_count": 52,
   "outputs": [],
   "source": [
    "ride_columns = ['accepted_driver_id', 'created_at', 'passenger_id', 'source_lat',\n",
    "       'source_lng', 'destination_lat', 'destination_lng', 'eta', 'provider',\n",
    "       'ata', 'id', 'city']\n",
    "\n",
    "khatkesh_columns = ['ride_id','driver_id','a_t_a_result.arrival_a_t_a','a_t_a_result.boarding_a_t_a','a_t_a_result.ride_a_t_a','a_t_a_result.arrival_probe_result.probe.point.lat','a_t_a_result.arrival_probe_result.probe.point.lon','a_t_a_result.arrival_probe_result.probe.timestamp','a_t_a_result.arrival_probe_result.confidence','a_t_a_result.arrival_probe_result.h3_index', 'a_t_a_result.arrival_probe_result.k_ring_level','a_t_a_result.boarding_probe_result.probe.point.lat','a_t_a_result.boarding_probe_result.probe.point.lon','a_t_a_result.boarding_probe_result.probe.timestamp','a_t_a_result.boarding_probe_result.confidence','a_t_a_result.boarding_probe_result.h3_index','a_t_a_result.boarding_probe_result.k_ring_level','a_t_a_result.final_destination_probe_result.probe.point.lat','a_t_a_result.final_destination_probe_result.probe.point.lon','a_t_a_result.final_destination_probe_result.probe.timestamp','a_t_a_result.final_destination_probe_result.confidence','a_t_a_result.final_destination_probe_result.h3_index','a_t_a_result.final_destination_probe_result.k_ring_level','a_t_a_result.destination_probe_result.probe.point.lat','a_t_a_result.destination_probe_result.probe.point.lon','a_t_a_result.destination_probe_result.probe.timestamp','a_t_a_result.destination_probe_result.confidence','a_t_a_result.destination_probe_result.h3_index','a_t_a_result.destination_probe_result.k_ring_level','a_t_a_result.extra_destination_probe_result.probe.point.lat','a_t_a_result.extra_destination_probe_result.probe.point.lon','a_t_a_result.extra_destination_probe_result.probe.timestamp','a_t_a_result.extra_destination_probe_result.confidence','a_t_a_result.extra_destination_probe_result.h3_index','a_t_a_result.extra_destination_probe_result.k_ring_level','pickup_a_d_d_result.distance','pickup_a_d_d_result.confidence','pickup_a_d_d_result.route_ratio','pickup_a_d_d_result.g_p_s_ratio','ride_a_d_d_result.distance','ride_a_d_d_result.confidence','ride_a_d_d_result.route_ratio','ride_a_d_d_result.g_p_s_ratio','total_a_d_d_confidence','in_ride_allotment','e_d_d','clickhouse_time','hash']\n",
    "\n",
    "train_dates = ['2022-08-02', '2022-08-03', '2022-08-04', '2022-08-05', '2022-08-06', '2022-08-07', '2022-08-08',\n",
    "               '2022-08-09', '2022-08-10', '2022-08-11', '2022-08-12', '2022-08-13', '2022-08-14', '2022-08-15',\n",
    "               '2022-08-16', '2022-08-17', '2022-08-18', '2022-08-19', '2022-08-20', '2022-08-21', '2022-08-22',\n",
    "               '2022-08-23', '2022-08-24', '2022-08-25', '2022-08-26', '2022-08-27', '2022-08-28', '2022-08-29',\n",
    "               '2022-08-30', '2022-08-31', '2022-09-01', '2022-09-02', '2022-09-03', '2022-09-04', '2022-09-05',\n",
    "               '2022-09-06', '2022-09-07', '2022-09-08', '2022-09-09', '2022-09-10']\n",
    "\n",
    "train_holidays = ['2022-08-07', '2022-08-08']\n",
    "\n",
    "test_dates = ['2022-09-11', '2022-09-12', '2022-09-13', '2022-09-14', '2022-09-15', '2022-09-16', '2022-09-17',\n",
    "              '2022-09-18', '2022-09-19', '2022-09-20', '2022-09-21', '2022-09-22', '2022-09-23', '2022-09-24',\n",
    "              '2022-09-25', '2022-09-26', '2022-09-27', '2022-09-28', '2022-09-29', '2022-09-30', '2022-10-01',\n",
    "              '2022-10-02', '2022-10-03', '2022-10-04', '2022-10-05', '2022-10-06', '2022-10-07', '2022-10-08',\n",
    "              '2022-10-09']\n",
    "\n",
    "test_holidays = ['2022-09-17', '2022-09-25', '2022-09-27', '2022-10-05']"
   ],
   "metadata": {
    "collapsed": false,
    "pycharm": {
     "name": "#%%\n"
    }
   }
  },
  {
   "cell_type": "code",
   "execution_count": 53,
   "outputs": [
    {
     "name": "stdout",
     "output_type": "stream",
     "text": [
      "<class 'pandas.core.frame.DataFrame'>\n",
      "RangeIndex: 4063341 entries, 0 to 4063340\n",
      "Data columns (total 59 columns):\n",
      " #   Column                                                       Dtype  \n",
      "---  ------                                                       -----  \n",
      " 0   accepted_driver_id                                           int64  \n",
      " 1   created_at                                                   object \n",
      " 2   passenger_id                                                 int64  \n",
      " 3   source_lat                                                   float64\n",
      " 4   source_lng                                                   float64\n",
      " 5   destination_lat                                              float64\n",
      " 6   destination_lng                                              float64\n",
      " 7   eta                                                          int64  \n",
      " 8   provider                                                     object \n",
      " 9   ata                                                          int64  \n",
      " 10  ride_id                                                      int64  \n",
      " 11  city                                                         int64  \n",
      " 12  driver_id                                                    int64  \n",
      " 13  a_t_a_result.arrival_a_t_a                                   int64  \n",
      " 14  a_t_a_result.boarding_a_t_a                                  float64\n",
      " 15  a_t_a_result.ride_a_t_a                                      int64  \n",
      " 16  a_t_a_result.arrival_probe_result.probe.point.lat            float64\n",
      " 17  a_t_a_result.arrival_probe_result.probe.point.lon            float64\n",
      " 18  a_t_a_result.arrival_probe_result.probe.timestamp            float64\n",
      " 19  a_t_a_result.arrival_probe_result.confidence                 float64\n",
      " 20  a_t_a_result.arrival_probe_result.h3_index                   object \n",
      " 21  a_t_a_result.arrival_probe_result.k_ring_level               int64  \n",
      " 22  a_t_a_result.boarding_probe_result.probe.point.lat           float64\n",
      " 23  a_t_a_result.boarding_probe_result.probe.point.lon           float64\n",
      " 24  a_t_a_result.boarding_probe_result.probe.timestamp           float64\n",
      " 25  a_t_a_result.boarding_probe_result.confidence                float64\n",
      " 26  a_t_a_result.boarding_probe_result.h3_index                  object \n",
      " 27  a_t_a_result.boarding_probe_result.k_ring_level              int64  \n",
      " 28  a_t_a_result.final_destination_probe_result.probe.point.lat  float64\n",
      " 29  a_t_a_result.final_destination_probe_result.probe.point.lon  float64\n",
      " 30  a_t_a_result.final_destination_probe_result.probe.timestamp  int64  \n",
      " 31  a_t_a_result.final_destination_probe_result.confidence       float64\n",
      " 32  a_t_a_result.final_destination_probe_result.h3_index         object \n",
      " 33  a_t_a_result.final_destination_probe_result.k_ring_level     int64  \n",
      " 34  a_t_a_result.destination_probe_result.probe.point.lat        float64\n",
      " 35  a_t_a_result.destination_probe_result.probe.point.lon        float64\n",
      " 36  a_t_a_result.destination_probe_result.probe.timestamp        float64\n",
      " 37  a_t_a_result.destination_probe_result.confidence             float64\n",
      " 38  a_t_a_result.destination_probe_result.h3_index               object \n",
      " 39  a_t_a_result.destination_probe_result.k_ring_level           int64  \n",
      " 40  a_t_a_result.extra_destination_probe_result.probe.point.lat  float64\n",
      " 41  a_t_a_result.extra_destination_probe_result.probe.point.lon  float64\n",
      " 42  a_t_a_result.extra_destination_probe_result.probe.timestamp  float64\n",
      " 43  a_t_a_result.extra_destination_probe_result.confidence       float64\n",
      " 44  a_t_a_result.extra_destination_probe_result.h3_index         float64\n",
      " 45  a_t_a_result.extra_destination_probe_result.k_ring_level     int64  \n",
      " 46  pickup_a_d_d_result.distance                                 float64\n",
      " 47  pickup_a_d_d_result.confidence                               float64\n",
      " 48  pickup_a_d_d_result.route_ratio                              float64\n",
      " 49  pickup_a_d_d_result.g_p_s_ratio                              float64\n",
      " 50  ride_a_d_d_result.distance                                   float64\n",
      " 51  ride_a_d_d_result.confidence                                 float64\n",
      " 52  ride_a_d_d_result.route_ratio                                float64\n",
      " 53  ride_a_d_d_result.g_p_s_ratio                                float64\n",
      " 54  total_a_d_d_confidence                                       float64\n",
      " 55  in_ride_allotment                                            float64\n",
      " 56  e_d_d                                                        float64\n",
      " 57  clickhouse_time                                              object \n",
      " 58  hash                                                         uint64 \n",
      "dtypes: float64(36), int64(15), object(7), uint64(1)\n",
      "memory usage: 1.8+ GB\n"
     ]
    }
   ],
   "source": [
    "rides_train = pd.read_csv('../rides_train.csv')\n",
    "rides_train.info()"
   ],
   "metadata": {
    "collapsed": false,
    "pycharm": {
     "name": "#%%\n"
    }
   }
  },
  {
   "cell_type": "code",
   "execution_count": 54,
   "outputs": [
    {
     "name": "stdout",
     "output_type": "stream",
     "text": [
      "<class 'pandas.core.frame.DataFrame'>\n",
      "RangeIndex: 2729988 entries, 0 to 2729987\n",
      "Data columns (total 59 columns):\n",
      " #   Column                                                       Dtype  \n",
      "---  ------                                                       -----  \n",
      " 0   accepted_driver_id                                           int64  \n",
      " 1   created_at                                                   object \n",
      " 2   passenger_id                                                 int64  \n",
      " 3   source_lat                                                   float64\n",
      " 4   source_lng                                                   float64\n",
      " 5   destination_lat                                              float64\n",
      " 6   destination_lng                                              float64\n",
      " 7   eta                                                          int64  \n",
      " 8   provider                                                     object \n",
      " 9   ata                                                          int64  \n",
      " 10  ride_id                                                      int64  \n",
      " 11  city                                                         int64  \n",
      " 12  driver_id                                                    int64  \n",
      " 13  a_t_a_result.arrival_a_t_a                                   int64  \n",
      " 14  a_t_a_result.boarding_a_t_a                                  float64\n",
      " 15  a_t_a_result.ride_a_t_a                                      int64  \n",
      " 16  a_t_a_result.arrival_probe_result.probe.point.lat            float64\n",
      " 17  a_t_a_result.arrival_probe_result.probe.point.lon            float64\n",
      " 18  a_t_a_result.arrival_probe_result.probe.timestamp            float64\n",
      " 19  a_t_a_result.arrival_probe_result.confidence                 float64\n",
      " 20  a_t_a_result.arrival_probe_result.h3_index                   object \n",
      " 21  a_t_a_result.arrival_probe_result.k_ring_level               int64  \n",
      " 22  a_t_a_result.boarding_probe_result.probe.point.lat           float64\n",
      " 23  a_t_a_result.boarding_probe_result.probe.point.lon           float64\n",
      " 24  a_t_a_result.boarding_probe_result.probe.timestamp           float64\n",
      " 25  a_t_a_result.boarding_probe_result.confidence                float64\n",
      " 26  a_t_a_result.boarding_probe_result.h3_index                  object \n",
      " 27  a_t_a_result.boarding_probe_result.k_ring_level              int64  \n",
      " 28  a_t_a_result.final_destination_probe_result.probe.point.lat  float64\n",
      " 29  a_t_a_result.final_destination_probe_result.probe.point.lon  float64\n",
      " 30  a_t_a_result.final_destination_probe_result.probe.timestamp  int64  \n",
      " 31  a_t_a_result.final_destination_probe_result.confidence       float64\n",
      " 32  a_t_a_result.final_destination_probe_result.h3_index         object \n",
      " 33  a_t_a_result.final_destination_probe_result.k_ring_level     int64  \n",
      " 34  a_t_a_result.destination_probe_result.probe.point.lat        float64\n",
      " 35  a_t_a_result.destination_probe_result.probe.point.lon        float64\n",
      " 36  a_t_a_result.destination_probe_result.probe.timestamp        float64\n",
      " 37  a_t_a_result.destination_probe_result.confidence             float64\n",
      " 38  a_t_a_result.destination_probe_result.h3_index               object \n",
      " 39  a_t_a_result.destination_probe_result.k_ring_level           int64  \n",
      " 40  a_t_a_result.extra_destination_probe_result.probe.point.lat  float64\n",
      " 41  a_t_a_result.extra_destination_probe_result.probe.point.lon  float64\n",
      " 42  a_t_a_result.extra_destination_probe_result.probe.timestamp  float64\n",
      " 43  a_t_a_result.extra_destination_probe_result.confidence       float64\n",
      " 44  a_t_a_result.extra_destination_probe_result.h3_index         float64\n",
      " 45  a_t_a_result.extra_destination_probe_result.k_ring_level     int64  \n",
      " 46  pickup_a_d_d_result.distance                                 float64\n",
      " 47  pickup_a_d_d_result.confidence                               float64\n",
      " 48  pickup_a_d_d_result.route_ratio                              float64\n",
      " 49  pickup_a_d_d_result.g_p_s_ratio                              float64\n",
      " 50  ride_a_d_d_result.distance                                   float64\n",
      " 51  ride_a_d_d_result.confidence                                 float64\n",
      " 52  ride_a_d_d_result.route_ratio                                float64\n",
      " 53  ride_a_d_d_result.g_p_s_ratio                                float64\n",
      " 54  total_a_d_d_confidence                                       float64\n",
      " 55  in_ride_allotment                                            float64\n",
      " 56  e_d_d                                                        float64\n",
      " 57  clickhouse_time                                              object \n",
      " 58  hash                                                         uint64 \n",
      "dtypes: float64(36), int64(15), object(7), uint64(1)\n",
      "memory usage: 1.2+ GB\n"
     ]
    }
   ],
   "source": [
    "rides_test = pd.read_csv('../rides_test.csv')\n",
    "rides_test.info()"
   ],
   "metadata": {
    "collapsed": false,
    "pycharm": {
     "name": "#%%\n"
    }
   }
  },
  {
   "cell_type": "code",
   "execution_count": 60,
   "outputs": [
    {
     "data": {
      "text/plain": "         accepted_driver_id           created_at  passenger_id  source_lat  \\\n3                     97781  2022-08-02 16:39:54      55660849   35.725231   \n12                   317478  2022-08-02 08:08:58        267068   35.700920   \n67                   128376  2022-08-02 09:01:08      45347698   35.754314   \n75                  1341800  2022-08-02 19:04:33      13109179   35.789753   \n79                    43045  2022-08-02 19:35:41      41508816   35.746120   \n...                     ...                  ...           ...         ...   \n4063276             4284303  2022-09-10 18:07:26      37444795   35.489132   \n4063297              237886  2022-09-10 10:42:29      54124557   35.704048   \n4063303             1139525  2022-09-10 17:03:54      19769556   35.777199   \n4063312             4279185  2022-09-10 05:52:04       5498507   35.784218   \n4063316               16676  2022-09-10 11:05:23        177080   35.708820   \n\n         source_lng  destination_lat  destination_lng  eta       provider  \\\n3         51.300682        35.723122        51.305210  233  smapp-same-dc   \n12        51.394260        35.702213        51.402920  233  smapp-same-dc   \n67        51.367249        35.762852        51.361256  239  smapp-same-dc   \n75        51.360275        35.781090        51.362698  221  smapp-same-dc   \n79        51.785847        35.749157        51.782898   73  smapp-same-dc   \n...             ...              ...              ...  ...            ...   \n4063276   51.683571        35.492367        51.688053  140  smapp-same-dc   \n4063297   51.371464        35.707951        51.368633  143  smapp-same-dc   \n4063303   51.363144        35.779930        51.363510  197  smapp-same-dc   \n4063312   51.312340        35.779770        51.316925  150  smapp-same-dc   \n4063316   51.420483        35.707069        51.431095  222  smapp-same-dc   \n\n         ata  ...  pickup_a_d_d_result.g_p_s_ratio  \\\n3        225  ...                         0.029412   \n12       202  ...                         0.055556   \n67       304  ...                         0.035714   \n75       232  ...                         0.055556   \n79       379  ...                         0.033333   \n...      ...  ...                              ...   \n4063276  203  ...                         0.000000   \n4063297  137  ...                         0.066667   \n4063303  249  ...                         0.052632   \n4063312  325  ...                         0.000000   \n4063316  187  ...                         0.000000   \n\n         ride_a_d_d_result.distance  ride_a_d_d_result.confidence  \\\n3                             1.867                      0.829941   \n12                            2.470                      1.000000   \n67                            4.840                      1.000000   \n75                            2.938                      1.000000   \n79                            2.180                      1.000000   \n...                             ...                           ...   \n4063276                       0.802                      0.500000   \n4063297                       1.420                      1.000000   \n4063303                       2.058                      1.000000   \n4063312                       1.570                      1.000000   \n4063316                       1.332                      0.500000   \n\n         ride_a_d_d_result.route_ratio  ride_a_d_d_result.g_p_s_ratio  \\\n3                                  0.0                       0.264706   \n12                                 0.0                       1.000000   \n67                                 0.0                       0.928571   \n75                                 0.0                       1.000000   \n79                                 0.0                       1.000000   \n...                                ...                            ...   \n4063276                            0.0                       0.000000   \n4063297                            0.0                       0.933333   \n4063303                            0.0                       1.000000   \n4063312                            0.0                       1.000000   \n4063316                            0.0                       0.000000   \n\n         total_a_d_d_confidence  in_ride_allotment  e_d_d  \\\n3                      0.910896                0.0  0.000   \n12                     1.000000                0.0  0.000   \n67                     1.000000                0.0  0.000   \n75                     1.000000                0.0  0.000   \n79                     1.000000                0.0  0.000   \n...                         ...                ...    ...   \n4063276                0.450000                0.0  0.784   \n4063297                1.000000                0.0  0.766   \n4063303                1.000000                0.0  1.029   \n4063312                1.000000                0.0  0.890   \n4063316                0.643441                0.0  1.331   \n\n             clickhouse_time                  hash  \n3        2022-08-02 16:48:34   9945354151016190877  \n12       2022-08-02 08:14:56  16899282084104980555  \n67       2022-08-02 09:12:18   9512960679721799369  \n75       2022-08-02 19:11:20   8906128359908797622  \n79       2022-08-02 19:44:35   4470384800396366848  \n...                      ...                   ...  \n4063276  2022-09-10 18:14:28  16070131232940133704  \n4063297  2022-09-10 10:45:51  18439648283932156752  \n4063303  2022-09-10 17:12:21   1459795819409952963  \n4063312  2022-09-10 06:06:43  13508718859067842401  \n4063316  2022-09-10 11:13:57   9737840727064377264  \n\n[232457 rows x 59 columns]",
      "text/html": "<div>\n<style scoped>\n    .dataframe tbody tr th:only-of-type {\n        vertical-align: middle;\n    }\n\n    .dataframe tbody tr th {\n        vertical-align: top;\n    }\n\n    .dataframe thead th {\n        text-align: right;\n    }\n</style>\n<table border=\"1\" class=\"dataframe\">\n  <thead>\n    <tr style=\"text-align: right;\">\n      <th></th>\n      <th>accepted_driver_id</th>\n      <th>created_at</th>\n      <th>passenger_id</th>\n      <th>source_lat</th>\n      <th>source_lng</th>\n      <th>destination_lat</th>\n      <th>destination_lng</th>\n      <th>eta</th>\n      <th>provider</th>\n      <th>ata</th>\n      <th>...</th>\n      <th>pickup_a_d_d_result.g_p_s_ratio</th>\n      <th>ride_a_d_d_result.distance</th>\n      <th>ride_a_d_d_result.confidence</th>\n      <th>ride_a_d_d_result.route_ratio</th>\n      <th>ride_a_d_d_result.g_p_s_ratio</th>\n      <th>total_a_d_d_confidence</th>\n      <th>in_ride_allotment</th>\n      <th>e_d_d</th>\n      <th>clickhouse_time</th>\n      <th>hash</th>\n    </tr>\n  </thead>\n  <tbody>\n    <tr>\n      <th>3</th>\n      <td>97781</td>\n      <td>2022-08-02 16:39:54</td>\n      <td>55660849</td>\n      <td>35.725231</td>\n      <td>51.300682</td>\n      <td>35.723122</td>\n      <td>51.305210</td>\n      <td>233</td>\n      <td>smapp-same-dc</td>\n      <td>225</td>\n      <td>...</td>\n      <td>0.029412</td>\n      <td>1.867</td>\n      <td>0.829941</td>\n      <td>0.0</td>\n      <td>0.264706</td>\n      <td>0.910896</td>\n      <td>0.0</td>\n      <td>0.000</td>\n      <td>2022-08-02 16:48:34</td>\n      <td>9945354151016190877</td>\n    </tr>\n    <tr>\n      <th>12</th>\n      <td>317478</td>\n      <td>2022-08-02 08:08:58</td>\n      <td>267068</td>\n      <td>35.700920</td>\n      <td>51.394260</td>\n      <td>35.702213</td>\n      <td>51.402920</td>\n      <td>233</td>\n      <td>smapp-same-dc</td>\n      <td>202</td>\n      <td>...</td>\n      <td>0.055556</td>\n      <td>2.470</td>\n      <td>1.000000</td>\n      <td>0.0</td>\n      <td>1.000000</td>\n      <td>1.000000</td>\n      <td>0.0</td>\n      <td>0.000</td>\n      <td>2022-08-02 08:14:56</td>\n      <td>16899282084104980555</td>\n    </tr>\n    <tr>\n      <th>67</th>\n      <td>128376</td>\n      <td>2022-08-02 09:01:08</td>\n      <td>45347698</td>\n      <td>35.754314</td>\n      <td>51.367249</td>\n      <td>35.762852</td>\n      <td>51.361256</td>\n      <td>239</td>\n      <td>smapp-same-dc</td>\n      <td>304</td>\n      <td>...</td>\n      <td>0.035714</td>\n      <td>4.840</td>\n      <td>1.000000</td>\n      <td>0.0</td>\n      <td>0.928571</td>\n      <td>1.000000</td>\n      <td>0.0</td>\n      <td>0.000</td>\n      <td>2022-08-02 09:12:18</td>\n      <td>9512960679721799369</td>\n    </tr>\n    <tr>\n      <th>75</th>\n      <td>1341800</td>\n      <td>2022-08-02 19:04:33</td>\n      <td>13109179</td>\n      <td>35.789753</td>\n      <td>51.360275</td>\n      <td>35.781090</td>\n      <td>51.362698</td>\n      <td>221</td>\n      <td>smapp-same-dc</td>\n      <td>232</td>\n      <td>...</td>\n      <td>0.055556</td>\n      <td>2.938</td>\n      <td>1.000000</td>\n      <td>0.0</td>\n      <td>1.000000</td>\n      <td>1.000000</td>\n      <td>0.0</td>\n      <td>0.000</td>\n      <td>2022-08-02 19:11:20</td>\n      <td>8906128359908797622</td>\n    </tr>\n    <tr>\n      <th>79</th>\n      <td>43045</td>\n      <td>2022-08-02 19:35:41</td>\n      <td>41508816</td>\n      <td>35.746120</td>\n      <td>51.785847</td>\n      <td>35.749157</td>\n      <td>51.782898</td>\n      <td>73</td>\n      <td>smapp-same-dc</td>\n      <td>379</td>\n      <td>...</td>\n      <td>0.033333</td>\n      <td>2.180</td>\n      <td>1.000000</td>\n      <td>0.0</td>\n      <td>1.000000</td>\n      <td>1.000000</td>\n      <td>0.0</td>\n      <td>0.000</td>\n      <td>2022-08-02 19:44:35</td>\n      <td>4470384800396366848</td>\n    </tr>\n    <tr>\n      <th>...</th>\n      <td>...</td>\n      <td>...</td>\n      <td>...</td>\n      <td>...</td>\n      <td>...</td>\n      <td>...</td>\n      <td>...</td>\n      <td>...</td>\n      <td>...</td>\n      <td>...</td>\n      <td>...</td>\n      <td>...</td>\n      <td>...</td>\n      <td>...</td>\n      <td>...</td>\n      <td>...</td>\n      <td>...</td>\n      <td>...</td>\n      <td>...</td>\n      <td>...</td>\n      <td>...</td>\n    </tr>\n    <tr>\n      <th>4063276</th>\n      <td>4284303</td>\n      <td>2022-09-10 18:07:26</td>\n      <td>37444795</td>\n      <td>35.489132</td>\n      <td>51.683571</td>\n      <td>35.492367</td>\n      <td>51.688053</td>\n      <td>140</td>\n      <td>smapp-same-dc</td>\n      <td>203</td>\n      <td>...</td>\n      <td>0.000000</td>\n      <td>0.802</td>\n      <td>0.500000</td>\n      <td>0.0</td>\n      <td>0.000000</td>\n      <td>0.450000</td>\n      <td>0.0</td>\n      <td>0.784</td>\n      <td>2022-09-10 18:14:28</td>\n      <td>16070131232940133704</td>\n    </tr>\n    <tr>\n      <th>4063297</th>\n      <td>237886</td>\n      <td>2022-09-10 10:42:29</td>\n      <td>54124557</td>\n      <td>35.704048</td>\n      <td>51.371464</td>\n      <td>35.707951</td>\n      <td>51.368633</td>\n      <td>143</td>\n      <td>smapp-same-dc</td>\n      <td>137</td>\n      <td>...</td>\n      <td>0.066667</td>\n      <td>1.420</td>\n      <td>1.000000</td>\n      <td>0.0</td>\n      <td>0.933333</td>\n      <td>1.000000</td>\n      <td>0.0</td>\n      <td>0.766</td>\n      <td>2022-09-10 10:45:51</td>\n      <td>18439648283932156752</td>\n    </tr>\n    <tr>\n      <th>4063303</th>\n      <td>1139525</td>\n      <td>2022-09-10 17:03:54</td>\n      <td>19769556</td>\n      <td>35.777199</td>\n      <td>51.363144</td>\n      <td>35.779930</td>\n      <td>51.363510</td>\n      <td>197</td>\n      <td>smapp-same-dc</td>\n      <td>249</td>\n      <td>...</td>\n      <td>0.052632</td>\n      <td>2.058</td>\n      <td>1.000000</td>\n      <td>0.0</td>\n      <td>1.000000</td>\n      <td>1.000000</td>\n      <td>0.0</td>\n      <td>1.029</td>\n      <td>2022-09-10 17:12:21</td>\n      <td>1459795819409952963</td>\n    </tr>\n    <tr>\n      <th>4063312</th>\n      <td>4279185</td>\n      <td>2022-09-10 05:52:04</td>\n      <td>5498507</td>\n      <td>35.784218</td>\n      <td>51.312340</td>\n      <td>35.779770</td>\n      <td>51.316925</td>\n      <td>150</td>\n      <td>smapp-same-dc</td>\n      <td>325</td>\n      <td>...</td>\n      <td>0.000000</td>\n      <td>1.570</td>\n      <td>1.000000</td>\n      <td>0.0</td>\n      <td>1.000000</td>\n      <td>1.000000</td>\n      <td>0.0</td>\n      <td>0.890</td>\n      <td>2022-09-10 06:06:43</td>\n      <td>13508718859067842401</td>\n    </tr>\n    <tr>\n      <th>4063316</th>\n      <td>16676</td>\n      <td>2022-09-10 11:05:23</td>\n      <td>177080</td>\n      <td>35.708820</td>\n      <td>51.420483</td>\n      <td>35.707069</td>\n      <td>51.431095</td>\n      <td>222</td>\n      <td>smapp-same-dc</td>\n      <td>187</td>\n      <td>...</td>\n      <td>0.000000</td>\n      <td>1.332</td>\n      <td>0.500000</td>\n      <td>0.0</td>\n      <td>0.000000</td>\n      <td>0.643441</td>\n      <td>0.0</td>\n      <td>1.331</td>\n      <td>2022-09-10 11:13:57</td>\n      <td>9737840727064377264</td>\n    </tr>\n  </tbody>\n</table>\n<p>232457 rows × 59 columns</p>\n</div>"
     },
     "execution_count": 60,
     "metadata": {},
     "output_type": "execute_result"
    }
   ],
   "source": [
    "rides_train_p1 = rides_train[rides_train['eta'] < 240]\n",
    "rides_train_p1"
   ],
   "metadata": {
    "collapsed": false,
    "pycharm": {
     "name": "#%%\n"
    }
   }
  },
  {
   "cell_type": "code",
   "execution_count": 61,
   "outputs": [
    {
     "data": {
      "text/plain": "         accepted_driver_id           created_at  passenger_id  source_lat  \\\n50                  1690514  2022-09-11 12:10:02      43075200   35.746696   \n53                    27168  2022-09-11 21:22:04      18840025   35.734932   \n59                  3365732  2022-09-11 10:41:43      32047881   35.488155   \n63                  1160390  2022-09-11 15:28:42      35519269   35.651768   \n108                 2869046  2022-09-11 14:04:19       9434159   35.477215   \n...                     ...                  ...           ...         ...   \n2729883             1157008  2022-10-09 12:50:43       2027439   35.691677   \n2729886             3156638  2022-10-09 21:40:46      17497503   35.484001   \n2729892               55585  2022-10-09 16:07:42      44955461   35.764099   \n2729915             4383171  2022-10-09 15:01:06       1725940   35.771122   \n2729982             4155893  2022-10-09 21:45:38      45817892   35.613960   \n\n         source_lng  destination_lat  destination_lng  eta       provider  \\\n50        51.809055        35.741589        51.815136  197  smapp-same-dc   \n53        51.700504        35.732224        51.701290  230  smapp-same-dc   \n59        51.678314        35.478748        51.689297  204  smapp-same-dc   \n63        51.309757        35.656479        51.313698  201  smapp-same-dc   \n108       50.953491        35.475529        50.964859  231  smapp-same-dc   \n...             ...              ...              ...  ...            ...   \n2729883   51.477333        35.686195        51.478199  182  smapp-same-dc   \n2729886   51.075790        35.492088        51.065224  239  smapp-same-dc   \n2729892   51.279369        35.765148        51.287888  227  smapp-same-dc   \n2729915   51.371490        35.768410        51.367290  199  smapp-same-dc   \n2729982   51.454670        35.612125        51.445740  219  smapp-same-dc   \n\n         ata  ...  pickup_a_d_d_result.g_p_s_ratio  \\\n50       194  ...                         0.058824   \n53       125  ...                         0.000000   \n59       313  ...                         0.026316   \n63       260  ...                         0.040000   \n108      225  ...                         0.041667   \n...      ...  ...                              ...   \n2729883  215  ...                         0.047619   \n2729886  346  ...                         0.033333   \n2729892  249  ...                         0.043478   \n2729915  222  ...                         0.000000   \n2729982  318  ...                         0.031250   \n\n         ride_a_d_d_result.distance  ride_a_d_d_result.confidence  \\\n50                            2.454                      1.000000   \n53                            3.102                      0.757576   \n59                            3.446                      1.000000   \n63                            1.912                      1.000000   \n108                           3.320                      1.000000   \n...                             ...                           ...   \n2729883                       1.532                      1.000000   \n2729886                       1.542                      0.500000   \n2729892                       1.644                      1.000000   \n2729915                       2.476                      1.000000   \n2729982                       3.664                      1.000000   \n\n         ride_a_d_d_result.route_ratio  ride_a_d_d_result.g_p_s_ratio  \\\n50                                 0.0                       1.000000   \n53                                 0.0                       0.666667   \n59                                 0.0                       1.000000   \n63                                 0.0                       0.880000   \n108                                0.0                       0.916667   \n...                                ...                            ...   \n2729883                            0.0                       1.000000   \n2729886                            0.0                       0.066667   \n2729892                            0.0                       0.782609   \n2729915                            0.0                       0.666667   \n2729982                            0.0                       0.656250   \n\n         total_a_d_d_confidence  in_ride_allotment  e_d_d  \\\n50                     1.000000                0.0  1.312   \n53                     0.699548                0.0  1.924   \n59                     1.000000                0.0  1.764   \n63                     1.000000                0.0  0.922   \n108                    1.000000                0.0  1.326   \n...                         ...                ...    ...   \n2729883                1.000000                0.0  0.826   \n2729886                0.536262                0.0  1.534   \n2729892                1.000000                0.0  1.049   \n2729915                1.000000                0.0  1.238   \n2729982                1.000000                0.0  2.142   \n\n             clickhouse_time                  hash  \n50       2022-09-11 12:16:16  12648055841766204422  \n53       2022-09-11 21:37:58   2448778779504100720  \n59       2022-09-11 10:55:26   1420230050478445563  \n63       2022-09-11 15:44:24  11054509764042103124  \n108      2022-09-11 14:13:22  15446015075719135459  \n...                      ...                   ...  \n2729883  2022-10-09 12:59:07  11199559009340634732  \n2729886  2022-10-09 21:52:45   8589969394506579023  \n2729892  2022-10-09 16:17:18  17766747890812418945  \n2729915  2022-10-09 15:16:52  12056520275120392057  \n2729982  2022-10-09 21:54:04   8684864164647837727  \n\n[162559 rows x 59 columns]",
      "text/html": "<div>\n<style scoped>\n    .dataframe tbody tr th:only-of-type {\n        vertical-align: middle;\n    }\n\n    .dataframe tbody tr th {\n        vertical-align: top;\n    }\n\n    .dataframe thead th {\n        text-align: right;\n    }\n</style>\n<table border=\"1\" class=\"dataframe\">\n  <thead>\n    <tr style=\"text-align: right;\">\n      <th></th>\n      <th>accepted_driver_id</th>\n      <th>created_at</th>\n      <th>passenger_id</th>\n      <th>source_lat</th>\n      <th>source_lng</th>\n      <th>destination_lat</th>\n      <th>destination_lng</th>\n      <th>eta</th>\n      <th>provider</th>\n      <th>ata</th>\n      <th>...</th>\n      <th>pickup_a_d_d_result.g_p_s_ratio</th>\n      <th>ride_a_d_d_result.distance</th>\n      <th>ride_a_d_d_result.confidence</th>\n      <th>ride_a_d_d_result.route_ratio</th>\n      <th>ride_a_d_d_result.g_p_s_ratio</th>\n      <th>total_a_d_d_confidence</th>\n      <th>in_ride_allotment</th>\n      <th>e_d_d</th>\n      <th>clickhouse_time</th>\n      <th>hash</th>\n    </tr>\n  </thead>\n  <tbody>\n    <tr>\n      <th>50</th>\n      <td>1690514</td>\n      <td>2022-09-11 12:10:02</td>\n      <td>43075200</td>\n      <td>35.746696</td>\n      <td>51.809055</td>\n      <td>35.741589</td>\n      <td>51.815136</td>\n      <td>197</td>\n      <td>smapp-same-dc</td>\n      <td>194</td>\n      <td>...</td>\n      <td>0.058824</td>\n      <td>2.454</td>\n      <td>1.000000</td>\n      <td>0.0</td>\n      <td>1.000000</td>\n      <td>1.000000</td>\n      <td>0.0</td>\n      <td>1.312</td>\n      <td>2022-09-11 12:16:16</td>\n      <td>12648055841766204422</td>\n    </tr>\n    <tr>\n      <th>53</th>\n      <td>27168</td>\n      <td>2022-09-11 21:22:04</td>\n      <td>18840025</td>\n      <td>35.734932</td>\n      <td>51.700504</td>\n      <td>35.732224</td>\n      <td>51.701290</td>\n      <td>230</td>\n      <td>smapp-same-dc</td>\n      <td>125</td>\n      <td>...</td>\n      <td>0.000000</td>\n      <td>3.102</td>\n      <td>0.757576</td>\n      <td>0.0</td>\n      <td>0.666667</td>\n      <td>0.699548</td>\n      <td>0.0</td>\n      <td>1.924</td>\n      <td>2022-09-11 21:37:58</td>\n      <td>2448778779504100720</td>\n    </tr>\n    <tr>\n      <th>59</th>\n      <td>3365732</td>\n      <td>2022-09-11 10:41:43</td>\n      <td>32047881</td>\n      <td>35.488155</td>\n      <td>51.678314</td>\n      <td>35.478748</td>\n      <td>51.689297</td>\n      <td>204</td>\n      <td>smapp-same-dc</td>\n      <td>313</td>\n      <td>...</td>\n      <td>0.026316</td>\n      <td>3.446</td>\n      <td>1.000000</td>\n      <td>0.0</td>\n      <td>1.000000</td>\n      <td>1.000000</td>\n      <td>0.0</td>\n      <td>1.764</td>\n      <td>2022-09-11 10:55:26</td>\n      <td>1420230050478445563</td>\n    </tr>\n    <tr>\n      <th>63</th>\n      <td>1160390</td>\n      <td>2022-09-11 15:28:42</td>\n      <td>35519269</td>\n      <td>35.651768</td>\n      <td>51.309757</td>\n      <td>35.656479</td>\n      <td>51.313698</td>\n      <td>201</td>\n      <td>smapp-same-dc</td>\n      <td>260</td>\n      <td>...</td>\n      <td>0.040000</td>\n      <td>1.912</td>\n      <td>1.000000</td>\n      <td>0.0</td>\n      <td>0.880000</td>\n      <td>1.000000</td>\n      <td>0.0</td>\n      <td>0.922</td>\n      <td>2022-09-11 15:44:24</td>\n      <td>11054509764042103124</td>\n    </tr>\n    <tr>\n      <th>108</th>\n      <td>2869046</td>\n      <td>2022-09-11 14:04:19</td>\n      <td>9434159</td>\n      <td>35.477215</td>\n      <td>50.953491</td>\n      <td>35.475529</td>\n      <td>50.964859</td>\n      <td>231</td>\n      <td>smapp-same-dc</td>\n      <td>225</td>\n      <td>...</td>\n      <td>0.041667</td>\n      <td>3.320</td>\n      <td>1.000000</td>\n      <td>0.0</td>\n      <td>0.916667</td>\n      <td>1.000000</td>\n      <td>0.0</td>\n      <td>1.326</td>\n      <td>2022-09-11 14:13:22</td>\n      <td>15446015075719135459</td>\n    </tr>\n    <tr>\n      <th>...</th>\n      <td>...</td>\n      <td>...</td>\n      <td>...</td>\n      <td>...</td>\n      <td>...</td>\n      <td>...</td>\n      <td>...</td>\n      <td>...</td>\n      <td>...</td>\n      <td>...</td>\n      <td>...</td>\n      <td>...</td>\n      <td>...</td>\n      <td>...</td>\n      <td>...</td>\n      <td>...</td>\n      <td>...</td>\n      <td>...</td>\n      <td>...</td>\n      <td>...</td>\n      <td>...</td>\n    </tr>\n    <tr>\n      <th>2729883</th>\n      <td>1157008</td>\n      <td>2022-10-09 12:50:43</td>\n      <td>2027439</td>\n      <td>35.691677</td>\n      <td>51.477333</td>\n      <td>35.686195</td>\n      <td>51.478199</td>\n      <td>182</td>\n      <td>smapp-same-dc</td>\n      <td>215</td>\n      <td>...</td>\n      <td>0.047619</td>\n      <td>1.532</td>\n      <td>1.000000</td>\n      <td>0.0</td>\n      <td>1.000000</td>\n      <td>1.000000</td>\n      <td>0.0</td>\n      <td>0.826</td>\n      <td>2022-10-09 12:59:07</td>\n      <td>11199559009340634732</td>\n    </tr>\n    <tr>\n      <th>2729886</th>\n      <td>3156638</td>\n      <td>2022-10-09 21:40:46</td>\n      <td>17497503</td>\n      <td>35.484001</td>\n      <td>51.075790</td>\n      <td>35.492088</td>\n      <td>51.065224</td>\n      <td>239</td>\n      <td>smapp-same-dc</td>\n      <td>346</td>\n      <td>...</td>\n      <td>0.033333</td>\n      <td>1.542</td>\n      <td>0.500000</td>\n      <td>0.0</td>\n      <td>0.066667</td>\n      <td>0.536262</td>\n      <td>0.0</td>\n      <td>1.534</td>\n      <td>2022-10-09 21:52:45</td>\n      <td>8589969394506579023</td>\n    </tr>\n    <tr>\n      <th>2729892</th>\n      <td>55585</td>\n      <td>2022-10-09 16:07:42</td>\n      <td>44955461</td>\n      <td>35.764099</td>\n      <td>51.279369</td>\n      <td>35.765148</td>\n      <td>51.287888</td>\n      <td>227</td>\n      <td>smapp-same-dc</td>\n      <td>249</td>\n      <td>...</td>\n      <td>0.043478</td>\n      <td>1.644</td>\n      <td>1.000000</td>\n      <td>0.0</td>\n      <td>0.782609</td>\n      <td>1.000000</td>\n      <td>0.0</td>\n      <td>1.049</td>\n      <td>2022-10-09 16:17:18</td>\n      <td>17766747890812418945</td>\n    </tr>\n    <tr>\n      <th>2729915</th>\n      <td>4383171</td>\n      <td>2022-10-09 15:01:06</td>\n      <td>1725940</td>\n      <td>35.771122</td>\n      <td>51.371490</td>\n      <td>35.768410</td>\n      <td>51.367290</td>\n      <td>199</td>\n      <td>smapp-same-dc</td>\n      <td>222</td>\n      <td>...</td>\n      <td>0.000000</td>\n      <td>2.476</td>\n      <td>1.000000</td>\n      <td>0.0</td>\n      <td>0.666667</td>\n      <td>1.000000</td>\n      <td>0.0</td>\n      <td>1.238</td>\n      <td>2022-10-09 15:16:52</td>\n      <td>12056520275120392057</td>\n    </tr>\n    <tr>\n      <th>2729982</th>\n      <td>4155893</td>\n      <td>2022-10-09 21:45:38</td>\n      <td>45817892</td>\n      <td>35.613960</td>\n      <td>51.454670</td>\n      <td>35.612125</td>\n      <td>51.445740</td>\n      <td>219</td>\n      <td>smapp-same-dc</td>\n      <td>318</td>\n      <td>...</td>\n      <td>0.031250</td>\n      <td>3.664</td>\n      <td>1.000000</td>\n      <td>0.0</td>\n      <td>0.656250</td>\n      <td>1.000000</td>\n      <td>0.0</td>\n      <td>2.142</td>\n      <td>2022-10-09 21:54:04</td>\n      <td>8684864164647837727</td>\n    </tr>\n  </tbody>\n</table>\n<p>162559 rows × 59 columns</p>\n</div>"
     },
     "execution_count": 61,
     "metadata": {},
     "output_type": "execute_result"
    }
   ],
   "source": [
    "rides_test_p1 = rides_test[(rides_test['eta'] < 240)]\n",
    "rides_test_p1"
   ],
   "metadata": {
    "collapsed": false,
    "pycharm": {
     "name": "#%%\n"
    }
   }
  },
  {
   "cell_type": "markdown",
   "source": [
    "There are some duplicates in the data"
   ],
   "metadata": {
    "collapsed": false,
    "pycharm": {
     "name": "#%% md\n"
    }
   }
  },
  {
   "cell_type": "code",
   "execution_count": 62,
   "outputs": [
    {
     "data": {
      "text/plain": "232411"
     },
     "execution_count": 62,
     "metadata": {},
     "output_type": "execute_result"
    }
   ],
   "source": [
    "rides_train_p1 = rides_train_p1.drop_duplicates(subset=['ride_id', 'ata'])\n",
    "len(rides_train_p1)"
   ],
   "metadata": {
    "collapsed": false,
    "pycharm": {
     "name": "#%%\n"
    }
   }
  },
  {
   "cell_type": "code",
   "execution_count": 63,
   "outputs": [
    {
     "data": {
      "text/plain": "162559"
     },
     "execution_count": 63,
     "metadata": {},
     "output_type": "execute_result"
    }
   ],
   "source": [
    "rides_test_p1 = rides_test_p1.drop_duplicates(subset=['ride_id', 'ata'])\n",
    "len(rides_test_p1)"
   ],
   "metadata": {
    "collapsed": false,
    "pycharm": {
     "name": "#%%\n"
    }
   }
  },
  {
   "cell_type": "code",
   "execution_count": 64,
   "outputs": [
    {
     "data": {
      "text/plain": "       accepted_driver_id  passenger_id     source_lat     source_lng  \\\ncount        2.322280e+05  2.322280e+05  232228.000000  232228.000000   \nmean         1.923511e+06  2.590200e+07      35.668948      51.418101   \nstd          1.431258e+06  1.772264e+07       0.112351       0.187586   \nmin          1.900000e+01  1.030000e+02      35.217724      50.901066   \n25%          4.577808e+05  7.614255e+06      35.626866      51.323916   \n50%          1.862157e+06  2.757620e+07      35.707870      51.414223   \n75%          3.239144e+06  4.051945e+07      35.744762      51.489441   \nmax          4.330375e+06  5.737892e+07      35.839733      52.803043   \n\n       destination_lat  destination_lng            eta            ata  \\\ncount    232228.000000    232228.000000  232228.000000  232228.000000   \nmean         35.669316        51.418124     178.480399     236.316211   \nstd           0.112563         0.187633      45.302575     128.011024   \nmin          35.207340        50.900864       1.000000     120.000000   \n25%          35.627147        51.324116     150.000000     160.000000   \n50%          35.708294        51.414305     187.000000     207.000000   \n75%          35.745228        51.489704     216.000000     268.000000   \nmax          35.837448        52.808331     239.000000    4323.000000   \n\n            ride_id      city  ...  pickup_a_d_d_result.route_ratio  \\\ncount  2.322280e+05  232228.0  ...                    232228.000000   \nmean   4.822754e+09       1.0  ...                         0.000641   \nstd    6.059008e+07       0.0  ...                         0.023885   \nmin    4.714483e+09       1.0  ...                         0.000000   \n25%    4.770892e+09       1.0  ...                         0.000000   \n50%    4.823336e+09       1.0  ...                         0.000000   \n75%    4.871796e+09       1.0  ...                         0.000000   \nmax    4.933913e+09       1.0  ...                         1.000000   \n\n       pickup_a_d_d_result.g_p_s_ratio  ride_a_d_d_result.distance  \\\ncount                    232228.000000               232228.000000   \nmean                          0.038209                    2.229508   \nstd                           0.032175                    3.059080   \nmin                           0.000000                    0.000000   \n25%                           0.023810                    1.392000   \n50%                           0.038462                    2.014000   \n75%                           0.050000                    2.734000   \nmax                           1.000000                  619.523132   \n\n       ride_a_d_d_result.confidence  ride_a_d_d_result.route_ratio  \\\ncount                 232228.000000                  232228.000000   \nmean                       0.890991                       0.000405   \nstd                        0.198648                       0.011016   \nmin                        0.000000                       0.000000   \n25%                        0.865836                       0.000000   \n50%                        1.000000                       0.000000   \n75%                        1.000000                       0.000000   \nmax                        1.000000                       1.000000   \n\n       ride_a_d_d_result.g_p_s_ratio  total_a_d_d_confidence  \\\ncount                  232228.000000           232228.000000   \nmean                        0.757957                0.897022   \nstd                         0.339123                0.184022   \nmin                         0.000000                0.000000   \n25%                         0.619048                0.889497   \n50%                         0.944444                1.000000   \n75%                         1.000000                1.000000   \nmax                         1.000000                1.000000   \n\n       in_ride_allotment          e_d_d          hash  \ncount      232228.000000  232228.000000  2.322280e+05  \nmean            0.089825       0.295535  9.221692e+18  \nstd             0.557880       0.591383  5.322468e+18  \nmin             0.000000       0.000000  1.864321e+13  \n25%             0.000000       0.000000  4.610033e+18  \n50%             0.000000       0.000000  9.224361e+18  \n75%             0.000000       0.000000  1.382584e+19  \nmax            15.503000      13.686000  1.844674e+19  \n\n[8 rows x 52 columns]",
      "text/html": "<div>\n<style scoped>\n    .dataframe tbody tr th:only-of-type {\n        vertical-align: middle;\n    }\n\n    .dataframe tbody tr th {\n        vertical-align: top;\n    }\n\n    .dataframe thead th {\n        text-align: right;\n    }\n</style>\n<table border=\"1\" class=\"dataframe\">\n  <thead>\n    <tr style=\"text-align: right;\">\n      <th></th>\n      <th>accepted_driver_id</th>\n      <th>passenger_id</th>\n      <th>source_lat</th>\n      <th>source_lng</th>\n      <th>destination_lat</th>\n      <th>destination_lng</th>\n      <th>eta</th>\n      <th>ata</th>\n      <th>ride_id</th>\n      <th>city</th>\n      <th>...</th>\n      <th>pickup_a_d_d_result.route_ratio</th>\n      <th>pickup_a_d_d_result.g_p_s_ratio</th>\n      <th>ride_a_d_d_result.distance</th>\n      <th>ride_a_d_d_result.confidence</th>\n      <th>ride_a_d_d_result.route_ratio</th>\n      <th>ride_a_d_d_result.g_p_s_ratio</th>\n      <th>total_a_d_d_confidence</th>\n      <th>in_ride_allotment</th>\n      <th>e_d_d</th>\n      <th>hash</th>\n    </tr>\n  </thead>\n  <tbody>\n    <tr>\n      <th>count</th>\n      <td>2.322280e+05</td>\n      <td>2.322280e+05</td>\n      <td>232228.000000</td>\n      <td>232228.000000</td>\n      <td>232228.000000</td>\n      <td>232228.000000</td>\n      <td>232228.000000</td>\n      <td>232228.000000</td>\n      <td>2.322280e+05</td>\n      <td>232228.0</td>\n      <td>...</td>\n      <td>232228.000000</td>\n      <td>232228.000000</td>\n      <td>232228.000000</td>\n      <td>232228.000000</td>\n      <td>232228.000000</td>\n      <td>232228.000000</td>\n      <td>232228.000000</td>\n      <td>232228.000000</td>\n      <td>232228.000000</td>\n      <td>2.322280e+05</td>\n    </tr>\n    <tr>\n      <th>mean</th>\n      <td>1.923511e+06</td>\n      <td>2.590200e+07</td>\n      <td>35.668948</td>\n      <td>51.418101</td>\n      <td>35.669316</td>\n      <td>51.418124</td>\n      <td>178.480399</td>\n      <td>236.316211</td>\n      <td>4.822754e+09</td>\n      <td>1.0</td>\n      <td>...</td>\n      <td>0.000641</td>\n      <td>0.038209</td>\n      <td>2.229508</td>\n      <td>0.890991</td>\n      <td>0.000405</td>\n      <td>0.757957</td>\n      <td>0.897022</td>\n      <td>0.089825</td>\n      <td>0.295535</td>\n      <td>9.221692e+18</td>\n    </tr>\n    <tr>\n      <th>std</th>\n      <td>1.431258e+06</td>\n      <td>1.772264e+07</td>\n      <td>0.112351</td>\n      <td>0.187586</td>\n      <td>0.112563</td>\n      <td>0.187633</td>\n      <td>45.302575</td>\n      <td>128.011024</td>\n      <td>6.059008e+07</td>\n      <td>0.0</td>\n      <td>...</td>\n      <td>0.023885</td>\n      <td>0.032175</td>\n      <td>3.059080</td>\n      <td>0.198648</td>\n      <td>0.011016</td>\n      <td>0.339123</td>\n      <td>0.184022</td>\n      <td>0.557880</td>\n      <td>0.591383</td>\n      <td>5.322468e+18</td>\n    </tr>\n    <tr>\n      <th>min</th>\n      <td>1.900000e+01</td>\n      <td>1.030000e+02</td>\n      <td>35.217724</td>\n      <td>50.901066</td>\n      <td>35.207340</td>\n      <td>50.900864</td>\n      <td>1.000000</td>\n      <td>120.000000</td>\n      <td>4.714483e+09</td>\n      <td>1.0</td>\n      <td>...</td>\n      <td>0.000000</td>\n      <td>0.000000</td>\n      <td>0.000000</td>\n      <td>0.000000</td>\n      <td>0.000000</td>\n      <td>0.000000</td>\n      <td>0.000000</td>\n      <td>0.000000</td>\n      <td>0.000000</td>\n      <td>1.864321e+13</td>\n    </tr>\n    <tr>\n      <th>25%</th>\n      <td>4.577808e+05</td>\n      <td>7.614255e+06</td>\n      <td>35.626866</td>\n      <td>51.323916</td>\n      <td>35.627147</td>\n      <td>51.324116</td>\n      <td>150.000000</td>\n      <td>160.000000</td>\n      <td>4.770892e+09</td>\n      <td>1.0</td>\n      <td>...</td>\n      <td>0.000000</td>\n      <td>0.023810</td>\n      <td>1.392000</td>\n      <td>0.865836</td>\n      <td>0.000000</td>\n      <td>0.619048</td>\n      <td>0.889497</td>\n      <td>0.000000</td>\n      <td>0.000000</td>\n      <td>4.610033e+18</td>\n    </tr>\n    <tr>\n      <th>50%</th>\n      <td>1.862157e+06</td>\n      <td>2.757620e+07</td>\n      <td>35.707870</td>\n      <td>51.414223</td>\n      <td>35.708294</td>\n      <td>51.414305</td>\n      <td>187.000000</td>\n      <td>207.000000</td>\n      <td>4.823336e+09</td>\n      <td>1.0</td>\n      <td>...</td>\n      <td>0.000000</td>\n      <td>0.038462</td>\n      <td>2.014000</td>\n      <td>1.000000</td>\n      <td>0.000000</td>\n      <td>0.944444</td>\n      <td>1.000000</td>\n      <td>0.000000</td>\n      <td>0.000000</td>\n      <td>9.224361e+18</td>\n    </tr>\n    <tr>\n      <th>75%</th>\n      <td>3.239144e+06</td>\n      <td>4.051945e+07</td>\n      <td>35.744762</td>\n      <td>51.489441</td>\n      <td>35.745228</td>\n      <td>51.489704</td>\n      <td>216.000000</td>\n      <td>268.000000</td>\n      <td>4.871796e+09</td>\n      <td>1.0</td>\n      <td>...</td>\n      <td>0.000000</td>\n      <td>0.050000</td>\n      <td>2.734000</td>\n      <td>1.000000</td>\n      <td>0.000000</td>\n      <td>1.000000</td>\n      <td>1.000000</td>\n      <td>0.000000</td>\n      <td>0.000000</td>\n      <td>1.382584e+19</td>\n    </tr>\n    <tr>\n      <th>max</th>\n      <td>4.330375e+06</td>\n      <td>5.737892e+07</td>\n      <td>35.839733</td>\n      <td>52.803043</td>\n      <td>35.837448</td>\n      <td>52.808331</td>\n      <td>239.000000</td>\n      <td>4323.000000</td>\n      <td>4.933913e+09</td>\n      <td>1.0</td>\n      <td>...</td>\n      <td>1.000000</td>\n      <td>1.000000</td>\n      <td>619.523132</td>\n      <td>1.000000</td>\n      <td>1.000000</td>\n      <td>1.000000</td>\n      <td>1.000000</td>\n      <td>15.503000</td>\n      <td>13.686000</td>\n      <td>1.844674e+19</td>\n    </tr>\n  </tbody>\n</table>\n<p>8 rows × 52 columns</p>\n</div>"
     },
     "execution_count": 64,
     "metadata": {},
     "output_type": "execute_result"
    }
   ],
   "source": [
    "rides_train_p1 = rides_train_p1[(rides_train_p1['a_t_a_result.ride_a_t_a'] < 10800)]\n",
    "rides_train_p1.describe()"
   ],
   "metadata": {
    "collapsed": false,
    "pycharm": {
     "name": "#%%\n"
    }
   }
  },
  {
   "cell_type": "code",
   "execution_count": 65,
   "outputs": [
    {
     "data": {
      "text/plain": "         accepted_driver_id           created_at  passenger_id  source_lat  \\\n18338                372873  2022-08-02 23:15:11      49519334   35.683479   \n18488               3871336  2022-08-02 11:52:25      30538586   35.662914   \n25397                 24045  2022-08-02 23:33:08      39812667   35.667412   \n26414                998718  2022-08-02 13:48:05      34238240   35.797268   \n26504               3342710  2022-08-02 08:22:03      53112431   35.662800   \n...                     ...                  ...           ...         ...   \n4039637             1606059  2022-09-10 08:16:11      43779440   35.706417   \n4050450             3333335  2022-09-10 20:40:38      49174248   35.756664   \n4052249             3085630  2022-09-10 13:00:02      50315920   35.680958   \n4053525             4318712  2022-09-10 16:55:36      38542589   35.489143   \n4059356              505901  2022-09-10 19:45:44      26595999   35.509781   \n\n         source_lng  destination_lat  destination_lng  eta       provider  \\\n18338     51.355721        35.683502        51.356110   74  smapp-same-dc   \n18488     51.415485        35.662846        51.415092  123  smapp-same-dc   \n25397     51.451019        35.667976        51.451019   92  smapp-same-dc   \n26414     51.425831        35.797348        51.425652  141  smapp-same-dc   \n26504     51.417221        35.662384        51.417370  237  smapp-same-dc   \n...             ...              ...              ...  ...            ...   \n4039637   51.405659        35.706669        51.413498  105  smapp-same-dc   \n4050450   52.765163        35.755009        52.773922  201  smapp-same-dc   \n4052249   51.401711        35.690468        51.403320  156  smapp-same-dc   \n4053525   50.906822        35.493786        50.904297  138  smapp-same-dc   \n4059356   50.930843        35.515568        50.931885  196  smapp-same-dc   \n\n         ata  ...  pickup_a_d_d_result.g_p_s_ratio  \\\n18338    124  ...                         0.500000   \n18488    301  ...                         0.333333   \n25397    130  ...                         0.500000   \n26414    182  ...                         0.500000   \n26504    306  ...                         0.333333   \n...      ...  ...                              ...   \n4039637  266  ...                         0.333333   \n4050450  178  ...                         0.000000   \n4052249  192  ...                         0.333333   \n4053525  134  ...                         0.000000   \n4059356  122  ...                         0.500000   \n\n         ride_a_d_d_result.distance  ride_a_d_d_result.confidence  \\\n18338                      0.000000                           0.0   \n18488                      0.000000                           0.0   \n25397                      0.000000                           0.0   \n26414                      0.000000                           0.0   \n26504                      0.000000                           0.0   \n...                             ...                           ...   \n4039637                    0.827000                           0.5   \n4050450                    0.796869                           0.0   \n4052249                    1.197000                           0.5   \n4053525                    0.608061                           0.0   \n4059356                    0.652162                           0.0   \n\n         ride_a_d_d_result.route_ratio  ride_a_d_d_result.g_p_s_ratio  \\\n18338                              0.0                            1.0   \n18488                              0.0                            1.0   \n25397                              0.0                            1.0   \n26414                              0.0                            1.0   \n26504                              0.0                            1.0   \n...                                ...                            ...   \n4039637                            0.0                            1.0   \n4050450                            0.0                            1.0   \n4052249                            0.0                            1.0   \n4053525                            0.0                            1.0   \n4059356                            0.0                            1.0   \n\n         total_a_d_d_confidence  in_ride_allotment  e_d_d  \\\n18338                  0.000000                0.0  0.000   \n18488                  0.000000                0.0  0.000   \n25397                  0.000000                0.0  0.000   \n26414                  0.900000                0.0  0.000   \n26504                  0.000000                0.0  0.000   \n...                         ...                ...    ...   \n4039637                0.450000                0.0  0.710   \n4050450                0.750804                0.0  1.571   \n4052249                0.450000                0.0  1.068   \n4053525                0.000000                0.0  0.830   \n4059356                0.712550                0.0  0.878   \n\n             clickhouse_time                  hash  \n18338    2022-08-02 23:19:44  17795666483608234790  \n18488    2022-08-02 12:02:00   8728229997523743126  \n25397    2022-08-02 23:36:20   8264576610560297475  \n26414    2022-08-02 14:06:40   5156568694006343705  \n26504    2022-08-02 08:30:58   6783633920058987929  \n...                      ...                   ...  \n4039637  2022-09-10 08:24:10   9040607523112238520  \n4050450  2022-09-10 20:54:48  11796572611123707306  \n4052249  2022-09-10 13:05:13   1023573232163488917  \n4053525  2022-09-10 16:59:38   5684002367920122253  \n4059356  2022-09-10 20:02:42   1030696138792145532  \n\n[647 rows x 59 columns]",
      "text/html": "<div>\n<style scoped>\n    .dataframe tbody tr th:only-of-type {\n        vertical-align: middle;\n    }\n\n    .dataframe tbody tr th {\n        vertical-align: top;\n    }\n\n    .dataframe thead th {\n        text-align: right;\n    }\n</style>\n<table border=\"1\" class=\"dataframe\">\n  <thead>\n    <tr style=\"text-align: right;\">\n      <th></th>\n      <th>accepted_driver_id</th>\n      <th>created_at</th>\n      <th>passenger_id</th>\n      <th>source_lat</th>\n      <th>source_lng</th>\n      <th>destination_lat</th>\n      <th>destination_lng</th>\n      <th>eta</th>\n      <th>provider</th>\n      <th>ata</th>\n      <th>...</th>\n      <th>pickup_a_d_d_result.g_p_s_ratio</th>\n      <th>ride_a_d_d_result.distance</th>\n      <th>ride_a_d_d_result.confidence</th>\n      <th>ride_a_d_d_result.route_ratio</th>\n      <th>ride_a_d_d_result.g_p_s_ratio</th>\n      <th>total_a_d_d_confidence</th>\n      <th>in_ride_allotment</th>\n      <th>e_d_d</th>\n      <th>clickhouse_time</th>\n      <th>hash</th>\n    </tr>\n  </thead>\n  <tbody>\n    <tr>\n      <th>18338</th>\n      <td>372873</td>\n      <td>2022-08-02 23:15:11</td>\n      <td>49519334</td>\n      <td>35.683479</td>\n      <td>51.355721</td>\n      <td>35.683502</td>\n      <td>51.356110</td>\n      <td>74</td>\n      <td>smapp-same-dc</td>\n      <td>124</td>\n      <td>...</td>\n      <td>0.500000</td>\n      <td>0.000000</td>\n      <td>0.0</td>\n      <td>0.0</td>\n      <td>1.0</td>\n      <td>0.000000</td>\n      <td>0.0</td>\n      <td>0.000</td>\n      <td>2022-08-02 23:19:44</td>\n      <td>17795666483608234790</td>\n    </tr>\n    <tr>\n      <th>18488</th>\n      <td>3871336</td>\n      <td>2022-08-02 11:52:25</td>\n      <td>30538586</td>\n      <td>35.662914</td>\n      <td>51.415485</td>\n      <td>35.662846</td>\n      <td>51.415092</td>\n      <td>123</td>\n      <td>smapp-same-dc</td>\n      <td>301</td>\n      <td>...</td>\n      <td>0.333333</td>\n      <td>0.000000</td>\n      <td>0.0</td>\n      <td>0.0</td>\n      <td>1.0</td>\n      <td>0.000000</td>\n      <td>0.0</td>\n      <td>0.000</td>\n      <td>2022-08-02 12:02:00</td>\n      <td>8728229997523743126</td>\n    </tr>\n    <tr>\n      <th>25397</th>\n      <td>24045</td>\n      <td>2022-08-02 23:33:08</td>\n      <td>39812667</td>\n      <td>35.667412</td>\n      <td>51.451019</td>\n      <td>35.667976</td>\n      <td>51.451019</td>\n      <td>92</td>\n      <td>smapp-same-dc</td>\n      <td>130</td>\n      <td>...</td>\n      <td>0.500000</td>\n      <td>0.000000</td>\n      <td>0.0</td>\n      <td>0.0</td>\n      <td>1.0</td>\n      <td>0.000000</td>\n      <td>0.0</td>\n      <td>0.000</td>\n      <td>2022-08-02 23:36:20</td>\n      <td>8264576610560297475</td>\n    </tr>\n    <tr>\n      <th>26414</th>\n      <td>998718</td>\n      <td>2022-08-02 13:48:05</td>\n      <td>34238240</td>\n      <td>35.797268</td>\n      <td>51.425831</td>\n      <td>35.797348</td>\n      <td>51.425652</td>\n      <td>141</td>\n      <td>smapp-same-dc</td>\n      <td>182</td>\n      <td>...</td>\n      <td>0.500000</td>\n      <td>0.000000</td>\n      <td>0.0</td>\n      <td>0.0</td>\n      <td>1.0</td>\n      <td>0.900000</td>\n      <td>0.0</td>\n      <td>0.000</td>\n      <td>2022-08-02 14:06:40</td>\n      <td>5156568694006343705</td>\n    </tr>\n    <tr>\n      <th>26504</th>\n      <td>3342710</td>\n      <td>2022-08-02 08:22:03</td>\n      <td>53112431</td>\n      <td>35.662800</td>\n      <td>51.417221</td>\n      <td>35.662384</td>\n      <td>51.417370</td>\n      <td>237</td>\n      <td>smapp-same-dc</td>\n      <td>306</td>\n      <td>...</td>\n      <td>0.333333</td>\n      <td>0.000000</td>\n      <td>0.0</td>\n      <td>0.0</td>\n      <td>1.0</td>\n      <td>0.000000</td>\n      <td>0.0</td>\n      <td>0.000</td>\n      <td>2022-08-02 08:30:58</td>\n      <td>6783633920058987929</td>\n    </tr>\n    <tr>\n      <th>...</th>\n      <td>...</td>\n      <td>...</td>\n      <td>...</td>\n      <td>...</td>\n      <td>...</td>\n      <td>...</td>\n      <td>...</td>\n      <td>...</td>\n      <td>...</td>\n      <td>...</td>\n      <td>...</td>\n      <td>...</td>\n      <td>...</td>\n      <td>...</td>\n      <td>...</td>\n      <td>...</td>\n      <td>...</td>\n      <td>...</td>\n      <td>...</td>\n      <td>...</td>\n      <td>...</td>\n    </tr>\n    <tr>\n      <th>4039637</th>\n      <td>1606059</td>\n      <td>2022-09-10 08:16:11</td>\n      <td>43779440</td>\n      <td>35.706417</td>\n      <td>51.405659</td>\n      <td>35.706669</td>\n      <td>51.413498</td>\n      <td>105</td>\n      <td>smapp-same-dc</td>\n      <td>266</td>\n      <td>...</td>\n      <td>0.333333</td>\n      <td>0.827000</td>\n      <td>0.5</td>\n      <td>0.0</td>\n      <td>1.0</td>\n      <td>0.450000</td>\n      <td>0.0</td>\n      <td>0.710</td>\n      <td>2022-09-10 08:24:10</td>\n      <td>9040607523112238520</td>\n    </tr>\n    <tr>\n      <th>4050450</th>\n      <td>3333335</td>\n      <td>2022-09-10 20:40:38</td>\n      <td>49174248</td>\n      <td>35.756664</td>\n      <td>52.765163</td>\n      <td>35.755009</td>\n      <td>52.773922</td>\n      <td>201</td>\n      <td>smapp-same-dc</td>\n      <td>178</td>\n      <td>...</td>\n      <td>0.000000</td>\n      <td>0.796869</td>\n      <td>0.0</td>\n      <td>0.0</td>\n      <td>1.0</td>\n      <td>0.750804</td>\n      <td>0.0</td>\n      <td>1.571</td>\n      <td>2022-09-10 20:54:48</td>\n      <td>11796572611123707306</td>\n    </tr>\n    <tr>\n      <th>4052249</th>\n      <td>3085630</td>\n      <td>2022-09-10 13:00:02</td>\n      <td>50315920</td>\n      <td>35.680958</td>\n      <td>51.401711</td>\n      <td>35.690468</td>\n      <td>51.403320</td>\n      <td>156</td>\n      <td>smapp-same-dc</td>\n      <td>192</td>\n      <td>...</td>\n      <td>0.333333</td>\n      <td>1.197000</td>\n      <td>0.5</td>\n      <td>0.0</td>\n      <td>1.0</td>\n      <td>0.450000</td>\n      <td>0.0</td>\n      <td>1.068</td>\n      <td>2022-09-10 13:05:13</td>\n      <td>1023573232163488917</td>\n    </tr>\n    <tr>\n      <th>4053525</th>\n      <td>4318712</td>\n      <td>2022-09-10 16:55:36</td>\n      <td>38542589</td>\n      <td>35.489143</td>\n      <td>50.906822</td>\n      <td>35.493786</td>\n      <td>50.904297</td>\n      <td>138</td>\n      <td>smapp-same-dc</td>\n      <td>134</td>\n      <td>...</td>\n      <td>0.000000</td>\n      <td>0.608061</td>\n      <td>0.0</td>\n      <td>0.0</td>\n      <td>1.0</td>\n      <td>0.000000</td>\n      <td>0.0</td>\n      <td>0.830</td>\n      <td>2022-09-10 16:59:38</td>\n      <td>5684002367920122253</td>\n    </tr>\n    <tr>\n      <th>4059356</th>\n      <td>505901</td>\n      <td>2022-09-10 19:45:44</td>\n      <td>26595999</td>\n      <td>35.509781</td>\n      <td>50.930843</td>\n      <td>35.515568</td>\n      <td>50.931885</td>\n      <td>196</td>\n      <td>smapp-same-dc</td>\n      <td>122</td>\n      <td>...</td>\n      <td>0.500000</td>\n      <td>0.652162</td>\n      <td>0.0</td>\n      <td>0.0</td>\n      <td>1.0</td>\n      <td>0.712550</td>\n      <td>0.0</td>\n      <td>0.878</td>\n      <td>2022-09-10 20:02:42</td>\n      <td>1030696138792145532</td>\n    </tr>\n  </tbody>\n</table>\n<p>647 rows × 59 columns</p>\n</div>"
     },
     "execution_count": 65,
     "metadata": {},
     "output_type": "execute_result"
    }
   ],
   "source": [
    "rides_train_p1[rides_train_p1['a_t_a_result.ride_a_t_a'] < 30]"
   ],
   "metadata": {
    "collapsed": false,
    "pycharm": {
     "name": "#%%\n"
    }
   }
  },
  {
   "cell_type": "code",
   "execution_count": 66,
   "outputs": [
    {
     "data": {
      "text/plain": "       accepted_driver_id  passenger_id     source_lat     source_lng  \\\ncount        1.175620e+05  1.175620e+05  117562.000000  117562.000000   \nmean         1.946067e+06  2.524746e+07      35.670908      51.414961   \nstd          1.440342e+06  1.754220e+07       0.111706       0.185219   \nmin          4.300000e+01  1.380000e+02      35.217724      50.901066   \n25%          4.665155e+05  7.033883e+06      35.629670      51.322985   \n50%          1.901142e+06  2.673653e+07      35.711018      51.411415   \n75%          3.284067e+06  3.951193e+07      35.745377      51.488274   \nmax          4.329836e+06  5.737755e+07      35.832851      52.794163   \n\n       destination_lat  destination_lng            eta            ata  \\\ncount    117562.000000    117562.000000  117562.000000  117562.000000   \nmean         35.671288        51.414952     180.314472     249.295376   \nstd           0.111940         0.185284      43.507625     137.183002   \nmin          35.207340        50.901020       1.000000     120.000000   \n25%          35.629894        51.322808     152.000000     170.000000   \n50%          35.711092        51.411711     189.000000     219.000000   \n75%          35.745869        51.488541     216.000000     281.000000   \nmax          35.832851        52.805916     239.000000    3743.000000   \n\n            ride_id      city  ...  pickup_a_d_d_result.route_ratio  \\\ncount  1.175620e+05  117562.0  ...                    117562.000000   \nmean   4.822811e+09       1.0  ...                         0.000076   \nstd    6.051207e+07       0.0  ...                         0.007309   \nmin    4.714488e+09       1.0  ...                         0.000000   \n25%    4.770865e+09       1.0  ...                         0.000000   \n50%    4.822882e+09       1.0  ...                         0.000000   \n75%    4.872073e+09       1.0  ...                         0.000000   \nmax    4.933906e+09       1.0  ...                         1.000000   \n\n       pickup_a_d_d_result.g_p_s_ratio  ride_a_d_d_result.distance  \\\ncount                    117562.000000               117562.000000   \nmean                          0.047515                    2.350975   \nstd                           0.027435                    2.145426   \nmin                           0.002342                    0.000000   \n25%                           0.034483                    1.602000   \n50%                           0.043478                    2.178000   \n75%                           0.055556                    2.858000   \nmax                           1.000000                  619.523132   \n\n       ride_a_d_d_result.confidence  ride_a_d_d_result.route_ratio  \\\ncount                 117562.000000                  117562.000000   \nmean                       0.967465                       0.000085   \nstd                        0.115291                       0.004210   \nmin                        0.000000                       0.000000   \n25%                        1.000000                       0.000000   \n50%                        1.000000                       0.000000   \n75%                        1.000000                       0.000000   \nmax                        1.000000                       1.000000   \n\n       ride_a_d_d_result.g_p_s_ratio  total_a_d_d_confidence  \\\ncount                  117562.000000           117562.000000   \nmean                        0.912040                0.969388   \nstd                         0.180063                0.093347   \nmin                         0.012658                0.000000   \n25%                         0.916667                1.000000   \n50%                         1.000000                1.000000   \n75%                         1.000000                1.000000   \nmax                         1.000000                1.000000   \n\n       in_ride_allotment          e_d_d          hash  \ncount      117562.000000  117562.000000  1.175620e+05  \nmean            0.082610       0.300369  9.228097e+18  \nstd             0.530481       0.598538  5.324420e+18  \nmin             0.000000       0.000000  1.069351e+14  \n25%             0.000000       0.000000  4.616764e+18  \n50%             0.000000       0.000000  9.221631e+18  \n75%             0.000000       0.000000  1.382698e+19  \nmax            15.503000      12.681000  1.844668e+19  \n\n[8 rows x 52 columns]",
      "text/html": "<div>\n<style scoped>\n    .dataframe tbody tr th:only-of-type {\n        vertical-align: middle;\n    }\n\n    .dataframe tbody tr th {\n        vertical-align: top;\n    }\n\n    .dataframe thead th {\n        text-align: right;\n    }\n</style>\n<table border=\"1\" class=\"dataframe\">\n  <thead>\n    <tr style=\"text-align: right;\">\n      <th></th>\n      <th>accepted_driver_id</th>\n      <th>passenger_id</th>\n      <th>source_lat</th>\n      <th>source_lng</th>\n      <th>destination_lat</th>\n      <th>destination_lng</th>\n      <th>eta</th>\n      <th>ata</th>\n      <th>ride_id</th>\n      <th>city</th>\n      <th>...</th>\n      <th>pickup_a_d_d_result.route_ratio</th>\n      <th>pickup_a_d_d_result.g_p_s_ratio</th>\n      <th>ride_a_d_d_result.distance</th>\n      <th>ride_a_d_d_result.confidence</th>\n      <th>ride_a_d_d_result.route_ratio</th>\n      <th>ride_a_d_d_result.g_p_s_ratio</th>\n      <th>total_a_d_d_confidence</th>\n      <th>in_ride_allotment</th>\n      <th>e_d_d</th>\n      <th>hash</th>\n    </tr>\n  </thead>\n  <tbody>\n    <tr>\n      <th>count</th>\n      <td>1.175620e+05</td>\n      <td>1.175620e+05</td>\n      <td>117562.000000</td>\n      <td>117562.000000</td>\n      <td>117562.000000</td>\n      <td>117562.000000</td>\n      <td>117562.000000</td>\n      <td>117562.000000</td>\n      <td>1.175620e+05</td>\n      <td>117562.0</td>\n      <td>...</td>\n      <td>117562.000000</td>\n      <td>117562.000000</td>\n      <td>117562.000000</td>\n      <td>117562.000000</td>\n      <td>117562.000000</td>\n      <td>117562.000000</td>\n      <td>117562.000000</td>\n      <td>117562.000000</td>\n      <td>117562.000000</td>\n      <td>1.175620e+05</td>\n    </tr>\n    <tr>\n      <th>mean</th>\n      <td>1.946067e+06</td>\n      <td>2.524746e+07</td>\n      <td>35.670908</td>\n      <td>51.414961</td>\n      <td>35.671288</td>\n      <td>51.414952</td>\n      <td>180.314472</td>\n      <td>249.295376</td>\n      <td>4.822811e+09</td>\n      <td>1.0</td>\n      <td>...</td>\n      <td>0.000076</td>\n      <td>0.047515</td>\n      <td>2.350975</td>\n      <td>0.967465</td>\n      <td>0.000085</td>\n      <td>0.912040</td>\n      <td>0.969388</td>\n      <td>0.082610</td>\n      <td>0.300369</td>\n      <td>9.228097e+18</td>\n    </tr>\n    <tr>\n      <th>std</th>\n      <td>1.440342e+06</td>\n      <td>1.754220e+07</td>\n      <td>0.111706</td>\n      <td>0.185219</td>\n      <td>0.111940</td>\n      <td>0.185284</td>\n      <td>43.507625</td>\n      <td>137.183002</td>\n      <td>6.051207e+07</td>\n      <td>0.0</td>\n      <td>...</td>\n      <td>0.007309</td>\n      <td>0.027435</td>\n      <td>2.145426</td>\n      <td>0.115291</td>\n      <td>0.004210</td>\n      <td>0.180063</td>\n      <td>0.093347</td>\n      <td>0.530481</td>\n      <td>0.598538</td>\n      <td>5.324420e+18</td>\n    </tr>\n    <tr>\n      <th>min</th>\n      <td>4.300000e+01</td>\n      <td>1.380000e+02</td>\n      <td>35.217724</td>\n      <td>50.901066</td>\n      <td>35.207340</td>\n      <td>50.901020</td>\n      <td>1.000000</td>\n      <td>120.000000</td>\n      <td>4.714488e+09</td>\n      <td>1.0</td>\n      <td>...</td>\n      <td>0.000000</td>\n      <td>0.002342</td>\n      <td>0.000000</td>\n      <td>0.000000</td>\n      <td>0.000000</td>\n      <td>0.012658</td>\n      <td>0.000000</td>\n      <td>0.000000</td>\n      <td>0.000000</td>\n      <td>1.069351e+14</td>\n    </tr>\n    <tr>\n      <th>25%</th>\n      <td>4.665155e+05</td>\n      <td>7.033883e+06</td>\n      <td>35.629670</td>\n      <td>51.322985</td>\n      <td>35.629894</td>\n      <td>51.322808</td>\n      <td>152.000000</td>\n      <td>170.000000</td>\n      <td>4.770865e+09</td>\n      <td>1.0</td>\n      <td>...</td>\n      <td>0.000000</td>\n      <td>0.034483</td>\n      <td>1.602000</td>\n      <td>1.000000</td>\n      <td>0.000000</td>\n      <td>0.916667</td>\n      <td>1.000000</td>\n      <td>0.000000</td>\n      <td>0.000000</td>\n      <td>4.616764e+18</td>\n    </tr>\n    <tr>\n      <th>50%</th>\n      <td>1.901142e+06</td>\n      <td>2.673653e+07</td>\n      <td>35.711018</td>\n      <td>51.411415</td>\n      <td>35.711092</td>\n      <td>51.411711</td>\n      <td>189.000000</td>\n      <td>219.000000</td>\n      <td>4.822882e+09</td>\n      <td>1.0</td>\n      <td>...</td>\n      <td>0.000000</td>\n      <td>0.043478</td>\n      <td>2.178000</td>\n      <td>1.000000</td>\n      <td>0.000000</td>\n      <td>1.000000</td>\n      <td>1.000000</td>\n      <td>0.000000</td>\n      <td>0.000000</td>\n      <td>9.221631e+18</td>\n    </tr>\n    <tr>\n      <th>75%</th>\n      <td>3.284067e+06</td>\n      <td>3.951193e+07</td>\n      <td>35.745377</td>\n      <td>51.488274</td>\n      <td>35.745869</td>\n      <td>51.488541</td>\n      <td>216.000000</td>\n      <td>281.000000</td>\n      <td>4.872073e+09</td>\n      <td>1.0</td>\n      <td>...</td>\n      <td>0.000000</td>\n      <td>0.055556</td>\n      <td>2.858000</td>\n      <td>1.000000</td>\n      <td>0.000000</td>\n      <td>1.000000</td>\n      <td>1.000000</td>\n      <td>0.000000</td>\n      <td>0.000000</td>\n      <td>1.382698e+19</td>\n    </tr>\n    <tr>\n      <th>max</th>\n      <td>4.329836e+06</td>\n      <td>5.737755e+07</td>\n      <td>35.832851</td>\n      <td>52.794163</td>\n      <td>35.832851</td>\n      <td>52.805916</td>\n      <td>239.000000</td>\n      <td>3743.000000</td>\n      <td>4.933906e+09</td>\n      <td>1.0</td>\n      <td>...</td>\n      <td>1.000000</td>\n      <td>1.000000</td>\n      <td>619.523132</td>\n      <td>1.000000</td>\n      <td>1.000000</td>\n      <td>1.000000</td>\n      <td>1.000000</td>\n      <td>15.503000</td>\n      <td>12.681000</td>\n      <td>1.844668e+19</td>\n    </tr>\n  </tbody>\n</table>\n<p>8 rows × 52 columns</p>\n</div>"
     },
     "execution_count": 66,
     "metadata": {},
     "output_type": "execute_result"
    }
   ],
   "source": [
    "rides_train_p1 = rides_train_p1[(rides_train_p1['a_t_a_result.destination_probe_result.confidence'] > 0.5) & (rides_train_p1['a_t_a_result.boarding_probe_result.confidence'] > 0.5)]\n",
    "rides_train_p1.describe()"
   ],
   "metadata": {
    "collapsed": false,
    "pycharm": {
     "name": "#%%\n"
    }
   }
  },
  {
   "cell_type": "code",
   "execution_count": 67,
   "outputs": [
    {
     "data": {
      "text/plain": "       accepted_driver_id  passenger_id    source_lat    source_lng  \\\ncount        8.357500e+04  8.357500e+04  83575.000000  83575.000000   \nmean         2.018377e+06  2.606091e+07     35.668232     51.417440   \nstd          1.473202e+06  1.784367e+07      0.112669      0.189318   \nmin          0.000000e+00  1.380000e+02     35.211025     50.901463   \n25%          5.078470e+05  7.682872e+06     35.625462     51.323105   \n50%          1.997329e+06  2.772010e+07     35.707874     51.414288   \n75%          3.378086e+06  4.073212e+07     35.744417     51.490284   \nmax          4.420757e+06  5.813774e+07     35.834793     52.805283   \n\n       destination_lat  destination_lng           eta           ata  \\\ncount     83575.000000     83575.000000  83575.000000  83575.000000   \nmean         35.668629        51.417474    179.265271    253.692097   \nstd           0.112879         0.189412     44.431462    142.485594   \nmin          35.216919        50.900726      1.000000    120.000000   \n25%          35.625826        51.323259    151.000000    172.000000   \n50%          35.708263        51.414360    188.000000    221.000000   \n75%          35.744976        51.490744    216.000000    285.000000   \nmax          35.828857        52.805771    239.000000   3211.000000   \n\n            ride_id     city  ...  pickup_a_d_d_result.route_ratio  \\\ncount  8.357500e+04  83575.0  ...                     83575.000000   \nmean   5.010283e+09      1.0  ...                         0.000084   \nstd    4.408985e+07      0.0  ...                         0.007314   \nmin    4.933929e+09      1.0  ...                         0.000000   \n25%    4.972321e+09      1.0  ...                         0.000000   \n50%    5.011510e+09      1.0  ...                         0.000000   \n75%    5.049265e+09      1.0  ...                         0.000000   \nmax    5.083667e+09      1.0  ...                         1.000000   \n\n       pickup_a_d_d_result.g_p_s_ratio  ride_a_d_d_result.distance  \\\ncount                     83575.000000                83575.000000   \nmean                          0.047958                    2.362244   \nstd                           0.030259                    1.320627   \nmin                           0.003650                    0.000000   \n25%                           0.033333                    1.598000   \n50%                           0.043478                    2.184000   \n75%                           0.055556                    2.870000   \nmax                           1.000000                   90.205673   \n\n       ride_a_d_d_result.confidence  ride_a_d_d_result.route_ratio  \\\ncount                  83575.000000                   83575.000000   \nmean                       0.966205                       0.000093   \nstd                        0.119080                       0.003575   \nmin                        0.000000                       0.000000   \n25%                        1.000000                       0.000000   \n50%                        1.000000                       0.000000   \n75%                        1.000000                       0.000000   \nmax                        1.000000                       0.361546   \n\n       ride_a_d_d_result.g_p_s_ratio  total_a_d_d_confidence  \\\ncount                   83575.000000            83575.000000   \nmean                        0.916630                0.967303   \nstd                         0.175771                0.099305   \nmin                         0.026316                0.000000   \n25%                         0.923077                1.000000   \n50%                         1.000000                1.000000   \n75%                         1.000000                1.000000   \nmax                         1.000000                1.000000   \n\n       in_ride_allotment         e_d_d          hash  \ncount       83575.000000  83575.000000  8.357500e+04  \nmean            0.018147      1.256835  9.229568e+18  \nstd             0.159708      0.585131  5.331364e+18  \nmin             0.000000      0.173000  7.706330e+14  \n25%             0.000000      0.896000  4.615187e+18  \n50%             0.000000      1.168000  9.237169e+18  \n75%             0.000000      1.495000  1.385622e+19  \nmax             5.486000     31.106001  1.844646e+19  \n\n[8 rows x 52 columns]",
      "text/html": "<div>\n<style scoped>\n    .dataframe tbody tr th:only-of-type {\n        vertical-align: middle;\n    }\n\n    .dataframe tbody tr th {\n        vertical-align: top;\n    }\n\n    .dataframe thead th {\n        text-align: right;\n    }\n</style>\n<table border=\"1\" class=\"dataframe\">\n  <thead>\n    <tr style=\"text-align: right;\">\n      <th></th>\n      <th>accepted_driver_id</th>\n      <th>passenger_id</th>\n      <th>source_lat</th>\n      <th>source_lng</th>\n      <th>destination_lat</th>\n      <th>destination_lng</th>\n      <th>eta</th>\n      <th>ata</th>\n      <th>ride_id</th>\n      <th>city</th>\n      <th>...</th>\n      <th>pickup_a_d_d_result.route_ratio</th>\n      <th>pickup_a_d_d_result.g_p_s_ratio</th>\n      <th>ride_a_d_d_result.distance</th>\n      <th>ride_a_d_d_result.confidence</th>\n      <th>ride_a_d_d_result.route_ratio</th>\n      <th>ride_a_d_d_result.g_p_s_ratio</th>\n      <th>total_a_d_d_confidence</th>\n      <th>in_ride_allotment</th>\n      <th>e_d_d</th>\n      <th>hash</th>\n    </tr>\n  </thead>\n  <tbody>\n    <tr>\n      <th>count</th>\n      <td>8.357500e+04</td>\n      <td>8.357500e+04</td>\n      <td>83575.000000</td>\n      <td>83575.000000</td>\n      <td>83575.000000</td>\n      <td>83575.000000</td>\n      <td>83575.000000</td>\n      <td>83575.000000</td>\n      <td>8.357500e+04</td>\n      <td>83575.0</td>\n      <td>...</td>\n      <td>83575.000000</td>\n      <td>83575.000000</td>\n      <td>83575.000000</td>\n      <td>83575.000000</td>\n      <td>83575.000000</td>\n      <td>83575.000000</td>\n      <td>83575.000000</td>\n      <td>83575.000000</td>\n      <td>83575.000000</td>\n      <td>8.357500e+04</td>\n    </tr>\n    <tr>\n      <th>mean</th>\n      <td>2.018377e+06</td>\n      <td>2.606091e+07</td>\n      <td>35.668232</td>\n      <td>51.417440</td>\n      <td>35.668629</td>\n      <td>51.417474</td>\n      <td>179.265271</td>\n      <td>253.692097</td>\n      <td>5.010283e+09</td>\n      <td>1.0</td>\n      <td>...</td>\n      <td>0.000084</td>\n      <td>0.047958</td>\n      <td>2.362244</td>\n      <td>0.966205</td>\n      <td>0.000093</td>\n      <td>0.916630</td>\n      <td>0.967303</td>\n      <td>0.018147</td>\n      <td>1.256835</td>\n      <td>9.229568e+18</td>\n    </tr>\n    <tr>\n      <th>std</th>\n      <td>1.473202e+06</td>\n      <td>1.784367e+07</td>\n      <td>0.112669</td>\n      <td>0.189318</td>\n      <td>0.112879</td>\n      <td>0.189412</td>\n      <td>44.431462</td>\n      <td>142.485594</td>\n      <td>4.408985e+07</td>\n      <td>0.0</td>\n      <td>...</td>\n      <td>0.007314</td>\n      <td>0.030259</td>\n      <td>1.320627</td>\n      <td>0.119080</td>\n      <td>0.003575</td>\n      <td>0.175771</td>\n      <td>0.099305</td>\n      <td>0.159708</td>\n      <td>0.585131</td>\n      <td>5.331364e+18</td>\n    </tr>\n    <tr>\n      <th>min</th>\n      <td>0.000000e+00</td>\n      <td>1.380000e+02</td>\n      <td>35.211025</td>\n      <td>50.901463</td>\n      <td>35.216919</td>\n      <td>50.900726</td>\n      <td>1.000000</td>\n      <td>120.000000</td>\n      <td>4.933929e+09</td>\n      <td>1.0</td>\n      <td>...</td>\n      <td>0.000000</td>\n      <td>0.003650</td>\n      <td>0.000000</td>\n      <td>0.000000</td>\n      <td>0.000000</td>\n      <td>0.026316</td>\n      <td>0.000000</td>\n      <td>0.000000</td>\n      <td>0.173000</td>\n      <td>7.706330e+14</td>\n    </tr>\n    <tr>\n      <th>25%</th>\n      <td>5.078470e+05</td>\n      <td>7.682872e+06</td>\n      <td>35.625462</td>\n      <td>51.323105</td>\n      <td>35.625826</td>\n      <td>51.323259</td>\n      <td>151.000000</td>\n      <td>172.000000</td>\n      <td>4.972321e+09</td>\n      <td>1.0</td>\n      <td>...</td>\n      <td>0.000000</td>\n      <td>0.033333</td>\n      <td>1.598000</td>\n      <td>1.000000</td>\n      <td>0.000000</td>\n      <td>0.923077</td>\n      <td>1.000000</td>\n      <td>0.000000</td>\n      <td>0.896000</td>\n      <td>4.615187e+18</td>\n    </tr>\n    <tr>\n      <th>50%</th>\n      <td>1.997329e+06</td>\n      <td>2.772010e+07</td>\n      <td>35.707874</td>\n      <td>51.414288</td>\n      <td>35.708263</td>\n      <td>51.414360</td>\n      <td>188.000000</td>\n      <td>221.000000</td>\n      <td>5.011510e+09</td>\n      <td>1.0</td>\n      <td>...</td>\n      <td>0.000000</td>\n      <td>0.043478</td>\n      <td>2.184000</td>\n      <td>1.000000</td>\n      <td>0.000000</td>\n      <td>1.000000</td>\n      <td>1.000000</td>\n      <td>0.000000</td>\n      <td>1.168000</td>\n      <td>9.237169e+18</td>\n    </tr>\n    <tr>\n      <th>75%</th>\n      <td>3.378086e+06</td>\n      <td>4.073212e+07</td>\n      <td>35.744417</td>\n      <td>51.490284</td>\n      <td>35.744976</td>\n      <td>51.490744</td>\n      <td>216.000000</td>\n      <td>285.000000</td>\n      <td>5.049265e+09</td>\n      <td>1.0</td>\n      <td>...</td>\n      <td>0.000000</td>\n      <td>0.055556</td>\n      <td>2.870000</td>\n      <td>1.000000</td>\n      <td>0.000000</td>\n      <td>1.000000</td>\n      <td>1.000000</td>\n      <td>0.000000</td>\n      <td>1.495000</td>\n      <td>1.385622e+19</td>\n    </tr>\n    <tr>\n      <th>max</th>\n      <td>4.420757e+06</td>\n      <td>5.813774e+07</td>\n      <td>35.834793</td>\n      <td>52.805283</td>\n      <td>35.828857</td>\n      <td>52.805771</td>\n      <td>239.000000</td>\n      <td>3211.000000</td>\n      <td>5.083667e+09</td>\n      <td>1.0</td>\n      <td>...</td>\n      <td>1.000000</td>\n      <td>1.000000</td>\n      <td>90.205673</td>\n      <td>1.000000</td>\n      <td>0.361546</td>\n      <td>1.000000</td>\n      <td>1.000000</td>\n      <td>5.486000</td>\n      <td>31.106001</td>\n      <td>1.844646e+19</td>\n    </tr>\n  </tbody>\n</table>\n<p>8 rows × 52 columns</p>\n</div>"
     },
     "execution_count": 67,
     "metadata": {},
     "output_type": "execute_result"
    }
   ],
   "source": [
    "rides_test_p1 = rides_test_p1[(rides_test_p1['a_t_a_result.destination_probe_result.confidence'] > 0.5) & (rides_test_p1['a_t_a_result.boarding_probe_result.confidence'] > 0.5)]\n",
    "rides_test_p1.describe()"
   ],
   "metadata": {
    "collapsed": false,
    "pycharm": {
     "name": "#%%\n"
    }
   }
  },
  {
   "cell_type": "code",
   "execution_count": 68,
   "outputs": [],
   "source": [
    "rides_with_id = rides_train_p1"
   ],
   "metadata": {
    "collapsed": false,
    "pycharm": {
     "name": "#%%\n"
    }
   }
  },
  {
   "cell_type": "code",
   "execution_count": 69,
   "outputs": [
    {
     "data": {
      "text/plain": "         eta  ata  a_t_a_result.ride_a_t_a           created_at  source_lat  \\\n12       233  202                      180  2022-08-02 08:08:58   35.700920   \n75       221  232                      172  2022-08-02 19:04:33   35.789753   \n86       229  205                      188  2022-08-02 09:46:00   35.656780   \n91       231  301                      296  2022-08-02 23:12:35   35.668369   \n110      225  242                      248  2022-08-02 19:10:55   35.669849   \n...      ...  ...                      ...                  ...         ...   \n4063219  119  305                      276  2022-09-10 12:22:36   35.666042   \n4063222   91  240                      192  2022-09-10 18:34:43   35.693901   \n4063234  216  432                      312  2022-09-10 23:04:05   35.480900   \n4063297  143  137                      147  2022-09-10 10:42:29   35.704048   \n4063303  197  249                      188  2022-09-10 17:03:54   35.777199   \n\n         source_lng  destination_lat  destination_lng  e_d_d  \\\n12        51.394260        35.702213        51.402920  0.000   \n75        51.360275        35.781090        51.362698  0.000   \n86        51.431511        35.644650        51.438038  0.000   \n91        51.399590        35.676445        51.396301  0.000   \n110       51.437366        35.665779        51.437080  0.000   \n...             ...              ...              ...    ...   \n4063219   51.410290        35.664806        51.406162  0.758   \n4063222   51.383869        35.696499        51.382183  0.489   \n4063234   51.678635        35.475414        51.687286  1.275   \n4063297   51.371464        35.707951        51.368633  0.766   \n4063303   51.363144        35.779930        51.363510  1.029   \n\n             clickhouse_time  \n12       2022-08-02 08:14:56  \n75       2022-08-02 19:11:20  \n86       2022-08-02 09:51:54  \n91       2022-08-02 23:22:02  \n110      2022-08-02 19:19:02  \n...                      ...  \n4063219  2022-09-10 12:30:08  \n4063222  2022-09-10 18:42:11  \n4063234  2022-09-10 23:17:21  \n4063297  2022-09-10 10:45:51  \n4063303  2022-09-10 17:12:21  \n\n[117562 rows x 10 columns]",
      "text/html": "<div>\n<style scoped>\n    .dataframe tbody tr th:only-of-type {\n        vertical-align: middle;\n    }\n\n    .dataframe tbody tr th {\n        vertical-align: top;\n    }\n\n    .dataframe thead th {\n        text-align: right;\n    }\n</style>\n<table border=\"1\" class=\"dataframe\">\n  <thead>\n    <tr style=\"text-align: right;\">\n      <th></th>\n      <th>eta</th>\n      <th>ata</th>\n      <th>a_t_a_result.ride_a_t_a</th>\n      <th>created_at</th>\n      <th>source_lat</th>\n      <th>source_lng</th>\n      <th>destination_lat</th>\n      <th>destination_lng</th>\n      <th>e_d_d</th>\n      <th>clickhouse_time</th>\n    </tr>\n  </thead>\n  <tbody>\n    <tr>\n      <th>12</th>\n      <td>233</td>\n      <td>202</td>\n      <td>180</td>\n      <td>2022-08-02 08:08:58</td>\n      <td>35.700920</td>\n      <td>51.394260</td>\n      <td>35.702213</td>\n      <td>51.402920</td>\n      <td>0.000</td>\n      <td>2022-08-02 08:14:56</td>\n    </tr>\n    <tr>\n      <th>75</th>\n      <td>221</td>\n      <td>232</td>\n      <td>172</td>\n      <td>2022-08-02 19:04:33</td>\n      <td>35.789753</td>\n      <td>51.360275</td>\n      <td>35.781090</td>\n      <td>51.362698</td>\n      <td>0.000</td>\n      <td>2022-08-02 19:11:20</td>\n    </tr>\n    <tr>\n      <th>86</th>\n      <td>229</td>\n      <td>205</td>\n      <td>188</td>\n      <td>2022-08-02 09:46:00</td>\n      <td>35.656780</td>\n      <td>51.431511</td>\n      <td>35.644650</td>\n      <td>51.438038</td>\n      <td>0.000</td>\n      <td>2022-08-02 09:51:54</td>\n    </tr>\n    <tr>\n      <th>91</th>\n      <td>231</td>\n      <td>301</td>\n      <td>296</td>\n      <td>2022-08-02 23:12:35</td>\n      <td>35.668369</td>\n      <td>51.399590</td>\n      <td>35.676445</td>\n      <td>51.396301</td>\n      <td>0.000</td>\n      <td>2022-08-02 23:22:02</td>\n    </tr>\n    <tr>\n      <th>110</th>\n      <td>225</td>\n      <td>242</td>\n      <td>248</td>\n      <td>2022-08-02 19:10:55</td>\n      <td>35.669849</td>\n      <td>51.437366</td>\n      <td>35.665779</td>\n      <td>51.437080</td>\n      <td>0.000</td>\n      <td>2022-08-02 19:19:02</td>\n    </tr>\n    <tr>\n      <th>...</th>\n      <td>...</td>\n      <td>...</td>\n      <td>...</td>\n      <td>...</td>\n      <td>...</td>\n      <td>...</td>\n      <td>...</td>\n      <td>...</td>\n      <td>...</td>\n      <td>...</td>\n    </tr>\n    <tr>\n      <th>4063219</th>\n      <td>119</td>\n      <td>305</td>\n      <td>276</td>\n      <td>2022-09-10 12:22:36</td>\n      <td>35.666042</td>\n      <td>51.410290</td>\n      <td>35.664806</td>\n      <td>51.406162</td>\n      <td>0.758</td>\n      <td>2022-09-10 12:30:08</td>\n    </tr>\n    <tr>\n      <th>4063222</th>\n      <td>91</td>\n      <td>240</td>\n      <td>192</td>\n      <td>2022-09-10 18:34:43</td>\n      <td>35.693901</td>\n      <td>51.383869</td>\n      <td>35.696499</td>\n      <td>51.382183</td>\n      <td>0.489</td>\n      <td>2022-09-10 18:42:11</td>\n    </tr>\n    <tr>\n      <th>4063234</th>\n      <td>216</td>\n      <td>432</td>\n      <td>312</td>\n      <td>2022-09-10 23:04:05</td>\n      <td>35.480900</td>\n      <td>51.678635</td>\n      <td>35.475414</td>\n      <td>51.687286</td>\n      <td>1.275</td>\n      <td>2022-09-10 23:17:21</td>\n    </tr>\n    <tr>\n      <th>4063297</th>\n      <td>143</td>\n      <td>137</td>\n      <td>147</td>\n      <td>2022-09-10 10:42:29</td>\n      <td>35.704048</td>\n      <td>51.371464</td>\n      <td>35.707951</td>\n      <td>51.368633</td>\n      <td>0.766</td>\n      <td>2022-09-10 10:45:51</td>\n    </tr>\n    <tr>\n      <th>4063303</th>\n      <td>197</td>\n      <td>249</td>\n      <td>188</td>\n      <td>2022-09-10 17:03:54</td>\n      <td>35.777199</td>\n      <td>51.363144</td>\n      <td>35.779930</td>\n      <td>51.363510</td>\n      <td>1.029</td>\n      <td>2022-09-10 17:12:21</td>\n    </tr>\n  </tbody>\n</table>\n<p>117562 rows × 10 columns</p>\n</div>"
     },
     "execution_count": 69,
     "metadata": {},
     "output_type": "execute_result"
    }
   ],
   "source": [
    "rides_train_p1 = rides_train_p1[['eta', 'ata', 'a_t_a_result.ride_a_t_a', 'created_at', 'source_lat', 'source_lng', 'destination_lat', 'destination_lng', 'e_d_d', 'clickhouse_time']]\n",
    "rides_train_p1"
   ],
   "metadata": {
    "collapsed": false,
    "pycharm": {
     "name": "#%%\n"
    }
   }
  },
  {
   "cell_type": "code",
   "execution_count": 70,
   "outputs": [
    {
     "data": {
      "text/plain": "         eta  ata  a_t_a_result.ride_a_t_a           created_at  source_lat  \\\n50       197  194                      168  2022-09-11 12:10:02   35.746696   \n108      231  225                      236  2022-09-11 14:04:19   35.477215   \n129      239  326                      287  2022-09-11 00:27:14   35.743793   \n197       99  162                      105  2022-09-11 16:57:39   35.637093   \n264      176  123                      148  2022-09-11 14:12:00   35.724400   \n...      ...  ...                      ...                  ...         ...   \n2729852  219  317                       24  2022-10-09 14:32:09   35.711395   \n2729868  171  816                      604  2022-10-09 14:16:45   35.748600   \n2729878  230  269                      380  2022-10-09 16:59:23   35.423866   \n2729883  182  215                      209  2022-10-09 12:50:43   35.691677   \n2729886  239  346                      292  2022-10-09 21:40:46   35.484001   \n\n         source_lng  destination_lat  destination_lng  e_d_d  \\\n50        51.809055        35.741589        51.815136  1.312   \n108       50.953491        35.475529        50.964859  1.326   \n129       51.451809        35.750114        51.452038  1.733   \n197       51.370960        35.637955        51.375969  0.674   \n264       51.464272        35.724892        51.467640  0.939   \n...             ...              ...              ...    ...   \n2729852   51.414448        35.708839        51.421368  0.992   \n2729868   51.235535        35.753651        51.242142  2.800   \n2729878   51.592743        35.424473        51.582977  1.667   \n2729883   51.477333        35.686195        51.478199  0.826   \n2729886   51.075790        35.492088        51.065224  1.534   \n\n             clickhouse_time  \n50       2022-09-11 12:16:16  \n108      2022-09-11 14:13:22  \n129      2022-09-11 00:35:53  \n197      2022-09-11 18:16:04  \n264      2022-09-11 14:17:21  \n...                      ...  \n2729852  2022-10-09 14:40:25  \n2729868  2022-10-09 14:36:12  \n2729878  2022-10-09 17:13:00  \n2729883  2022-10-09 12:59:07  \n2729886  2022-10-09 21:52:45  \n\n[83575 rows x 10 columns]",
      "text/html": "<div>\n<style scoped>\n    .dataframe tbody tr th:only-of-type {\n        vertical-align: middle;\n    }\n\n    .dataframe tbody tr th {\n        vertical-align: top;\n    }\n\n    .dataframe thead th {\n        text-align: right;\n    }\n</style>\n<table border=\"1\" class=\"dataframe\">\n  <thead>\n    <tr style=\"text-align: right;\">\n      <th></th>\n      <th>eta</th>\n      <th>ata</th>\n      <th>a_t_a_result.ride_a_t_a</th>\n      <th>created_at</th>\n      <th>source_lat</th>\n      <th>source_lng</th>\n      <th>destination_lat</th>\n      <th>destination_lng</th>\n      <th>e_d_d</th>\n      <th>clickhouse_time</th>\n    </tr>\n  </thead>\n  <tbody>\n    <tr>\n      <th>50</th>\n      <td>197</td>\n      <td>194</td>\n      <td>168</td>\n      <td>2022-09-11 12:10:02</td>\n      <td>35.746696</td>\n      <td>51.809055</td>\n      <td>35.741589</td>\n      <td>51.815136</td>\n      <td>1.312</td>\n      <td>2022-09-11 12:16:16</td>\n    </tr>\n    <tr>\n      <th>108</th>\n      <td>231</td>\n      <td>225</td>\n      <td>236</td>\n      <td>2022-09-11 14:04:19</td>\n      <td>35.477215</td>\n      <td>50.953491</td>\n      <td>35.475529</td>\n      <td>50.964859</td>\n      <td>1.326</td>\n      <td>2022-09-11 14:13:22</td>\n    </tr>\n    <tr>\n      <th>129</th>\n      <td>239</td>\n      <td>326</td>\n      <td>287</td>\n      <td>2022-09-11 00:27:14</td>\n      <td>35.743793</td>\n      <td>51.451809</td>\n      <td>35.750114</td>\n      <td>51.452038</td>\n      <td>1.733</td>\n      <td>2022-09-11 00:35:53</td>\n    </tr>\n    <tr>\n      <th>197</th>\n      <td>99</td>\n      <td>162</td>\n      <td>105</td>\n      <td>2022-09-11 16:57:39</td>\n      <td>35.637093</td>\n      <td>51.370960</td>\n      <td>35.637955</td>\n      <td>51.375969</td>\n      <td>0.674</td>\n      <td>2022-09-11 18:16:04</td>\n    </tr>\n    <tr>\n      <th>264</th>\n      <td>176</td>\n      <td>123</td>\n      <td>148</td>\n      <td>2022-09-11 14:12:00</td>\n      <td>35.724400</td>\n      <td>51.464272</td>\n      <td>35.724892</td>\n      <td>51.467640</td>\n      <td>0.939</td>\n      <td>2022-09-11 14:17:21</td>\n    </tr>\n    <tr>\n      <th>...</th>\n      <td>...</td>\n      <td>...</td>\n      <td>...</td>\n      <td>...</td>\n      <td>...</td>\n      <td>...</td>\n      <td>...</td>\n      <td>...</td>\n      <td>...</td>\n      <td>...</td>\n    </tr>\n    <tr>\n      <th>2729852</th>\n      <td>219</td>\n      <td>317</td>\n      <td>24</td>\n      <td>2022-10-09 14:32:09</td>\n      <td>35.711395</td>\n      <td>51.414448</td>\n      <td>35.708839</td>\n      <td>51.421368</td>\n      <td>0.992</td>\n      <td>2022-10-09 14:40:25</td>\n    </tr>\n    <tr>\n      <th>2729868</th>\n      <td>171</td>\n      <td>816</td>\n      <td>604</td>\n      <td>2022-10-09 14:16:45</td>\n      <td>35.748600</td>\n      <td>51.235535</td>\n      <td>35.753651</td>\n      <td>51.242142</td>\n      <td>2.800</td>\n      <td>2022-10-09 14:36:12</td>\n    </tr>\n    <tr>\n      <th>2729878</th>\n      <td>230</td>\n      <td>269</td>\n      <td>380</td>\n      <td>2022-10-09 16:59:23</td>\n      <td>35.423866</td>\n      <td>51.592743</td>\n      <td>35.424473</td>\n      <td>51.582977</td>\n      <td>1.667</td>\n      <td>2022-10-09 17:13:00</td>\n    </tr>\n    <tr>\n      <th>2729883</th>\n      <td>182</td>\n      <td>215</td>\n      <td>209</td>\n      <td>2022-10-09 12:50:43</td>\n      <td>35.691677</td>\n      <td>51.477333</td>\n      <td>35.686195</td>\n      <td>51.478199</td>\n      <td>0.826</td>\n      <td>2022-10-09 12:59:07</td>\n    </tr>\n    <tr>\n      <th>2729886</th>\n      <td>239</td>\n      <td>346</td>\n      <td>292</td>\n      <td>2022-10-09 21:40:46</td>\n      <td>35.484001</td>\n      <td>51.075790</td>\n      <td>35.492088</td>\n      <td>51.065224</td>\n      <td>1.534</td>\n      <td>2022-10-09 21:52:45</td>\n    </tr>\n  </tbody>\n</table>\n<p>83575 rows × 10 columns</p>\n</div>"
     },
     "execution_count": 70,
     "metadata": {},
     "output_type": "execute_result"
    }
   ],
   "source": [
    "rides_test_p1 = rides_test_p1[['eta', 'ata', 'a_t_a_result.ride_a_t_a', 'created_at', 'source_lat', 'source_lng', 'destination_lat', 'destination_lng', 'e_d_d', 'clickhouse_time']]\n",
    "rides_test_p1"
   ],
   "metadata": {
    "collapsed": false,
    "pycharm": {
     "name": "#%%\n"
    }
   }
  },
  {
   "cell_type": "code",
   "execution_count": 71,
   "outputs": [
    {
     "name": "stderr",
     "output_type": "stream",
     "text": [
      "/var/folders/yq/707ysz_j3jlggmtk5clx13rm0000gn/T/ipykernel_56041/1174177227.py:3: SettingWithCopyWarning: \n",
      "A value is trying to be set on a copy of a slice from a DataFrame.\n",
      "Try using .loc[row_indexer,col_indexer] = value instead\n",
      "\n",
      "See the caveats in the documentation: https://pandas.pydata.org/pandas-docs/stable/user_guide/indexing.html#returning-a-view-versus-a-copy\n",
      "  rides_train_p1['hour'] = rides_train_p1.apply(lambda row: ((datetime.timestamp(datetime.strptime(row.created_at,\"%Y-%m-%d %H:%M:%S\")) - 1662147000) % 604800) / 3600, axis=1)\n",
      "/var/folders/yq/707ysz_j3jlggmtk5clx13rm0000gn/T/ipykernel_56041/1174177227.py:4: SettingWithCopyWarning: \n",
      "A value is trying to be set on a copy of a slice from a DataFrame.\n",
      "Try using .loc[row_indexer,col_indexer] = value instead\n",
      "\n",
      "See the caveats in the documentation: https://pandas.pydata.org/pandas-docs/stable/user_guide/indexing.html#returning-a-view-versus-a-copy\n",
      "  rides_train_p1['holiday'] = rides_train_p1.apply(lambda row: int(row.created_at.split()[0] in train_holidays), axis=1)\n"
     ]
    },
    {
     "data": {
      "text/plain": "         eta  ata  a_t_a_result.ride_a_t_a           created_at  source_lat  \\\n12       233  202                      180  2022-08-02 08:08:58   35.700920   \n75       221  232                      172  2022-08-02 19:04:33   35.789753   \n86       229  205                      188  2022-08-02 09:46:00   35.656780   \n91       231  301                      296  2022-08-02 23:12:35   35.668369   \n110      225  242                      248  2022-08-02 19:10:55   35.669849   \n...      ...  ...                      ...                  ...         ...   \n4063219  119  305                      276  2022-09-10 12:22:36   35.666042   \n4063222   91  240                      192  2022-09-10 18:34:43   35.693901   \n4063234  216  432                      312  2022-09-10 23:04:05   35.480900   \n4063297  143  137                      147  2022-09-10 10:42:29   35.704048   \n4063303  197  249                      188  2022-09-10 17:03:54   35.777199   \n\n         source_lng  destination_lat  destination_lng  e_d_d  \\\n12        51.394260        35.702213        51.402920  0.000   \n75        51.360275        35.781090        51.362698  0.000   \n86        51.431511        35.644650        51.438038  0.000   \n91        51.399590        35.676445        51.396301  0.000   \n110       51.437366        35.665779        51.437080  0.000   \n...             ...              ...              ...    ...   \n4063219   51.410290        35.664806        51.406162  0.758   \n4063222   51.383869        35.696499        51.382183  0.489   \n4063234   51.678635        35.475414        51.687286  1.275   \n4063297   51.371464        35.707951        51.368633  0.766   \n4063303   51.363144        35.779930        51.363510  1.029   \n\n             clickhouse_time       hour  holiday  \n12       2022-08-02 08:14:56  80.149444        0  \n75       2022-08-02 19:11:20  91.075833        0  \n86       2022-08-02 09:51:54  81.766667        0  \n91       2022-08-02 23:22:02  95.209722        0  \n110      2022-08-02 19:19:02  91.181944        0  \n...                      ...        ...      ...  \n4063219  2022-09-10 12:30:08  12.376667        0  \n4063222  2022-09-10 18:42:11  18.578611        0  \n4063234  2022-09-10 23:17:21  23.068056        0  \n4063297  2022-09-10 10:45:51  10.708056        0  \n4063303  2022-09-10 17:12:21  17.065000        0  \n\n[117562 rows x 12 columns]",
      "text/html": "<div>\n<style scoped>\n    .dataframe tbody tr th:only-of-type {\n        vertical-align: middle;\n    }\n\n    .dataframe tbody tr th {\n        vertical-align: top;\n    }\n\n    .dataframe thead th {\n        text-align: right;\n    }\n</style>\n<table border=\"1\" class=\"dataframe\">\n  <thead>\n    <tr style=\"text-align: right;\">\n      <th></th>\n      <th>eta</th>\n      <th>ata</th>\n      <th>a_t_a_result.ride_a_t_a</th>\n      <th>created_at</th>\n      <th>source_lat</th>\n      <th>source_lng</th>\n      <th>destination_lat</th>\n      <th>destination_lng</th>\n      <th>e_d_d</th>\n      <th>clickhouse_time</th>\n      <th>hour</th>\n      <th>holiday</th>\n    </tr>\n  </thead>\n  <tbody>\n    <tr>\n      <th>12</th>\n      <td>233</td>\n      <td>202</td>\n      <td>180</td>\n      <td>2022-08-02 08:08:58</td>\n      <td>35.700920</td>\n      <td>51.394260</td>\n      <td>35.702213</td>\n      <td>51.402920</td>\n      <td>0.000</td>\n      <td>2022-08-02 08:14:56</td>\n      <td>80.149444</td>\n      <td>0</td>\n    </tr>\n    <tr>\n      <th>75</th>\n      <td>221</td>\n      <td>232</td>\n      <td>172</td>\n      <td>2022-08-02 19:04:33</td>\n      <td>35.789753</td>\n      <td>51.360275</td>\n      <td>35.781090</td>\n      <td>51.362698</td>\n      <td>0.000</td>\n      <td>2022-08-02 19:11:20</td>\n      <td>91.075833</td>\n      <td>0</td>\n    </tr>\n    <tr>\n      <th>86</th>\n      <td>229</td>\n      <td>205</td>\n      <td>188</td>\n      <td>2022-08-02 09:46:00</td>\n      <td>35.656780</td>\n      <td>51.431511</td>\n      <td>35.644650</td>\n      <td>51.438038</td>\n      <td>0.000</td>\n      <td>2022-08-02 09:51:54</td>\n      <td>81.766667</td>\n      <td>0</td>\n    </tr>\n    <tr>\n      <th>91</th>\n      <td>231</td>\n      <td>301</td>\n      <td>296</td>\n      <td>2022-08-02 23:12:35</td>\n      <td>35.668369</td>\n      <td>51.399590</td>\n      <td>35.676445</td>\n      <td>51.396301</td>\n      <td>0.000</td>\n      <td>2022-08-02 23:22:02</td>\n      <td>95.209722</td>\n      <td>0</td>\n    </tr>\n    <tr>\n      <th>110</th>\n      <td>225</td>\n      <td>242</td>\n      <td>248</td>\n      <td>2022-08-02 19:10:55</td>\n      <td>35.669849</td>\n      <td>51.437366</td>\n      <td>35.665779</td>\n      <td>51.437080</td>\n      <td>0.000</td>\n      <td>2022-08-02 19:19:02</td>\n      <td>91.181944</td>\n      <td>0</td>\n    </tr>\n    <tr>\n      <th>...</th>\n      <td>...</td>\n      <td>...</td>\n      <td>...</td>\n      <td>...</td>\n      <td>...</td>\n      <td>...</td>\n      <td>...</td>\n      <td>...</td>\n      <td>...</td>\n      <td>...</td>\n      <td>...</td>\n      <td>...</td>\n    </tr>\n    <tr>\n      <th>4063219</th>\n      <td>119</td>\n      <td>305</td>\n      <td>276</td>\n      <td>2022-09-10 12:22:36</td>\n      <td>35.666042</td>\n      <td>51.410290</td>\n      <td>35.664806</td>\n      <td>51.406162</td>\n      <td>0.758</td>\n      <td>2022-09-10 12:30:08</td>\n      <td>12.376667</td>\n      <td>0</td>\n    </tr>\n    <tr>\n      <th>4063222</th>\n      <td>91</td>\n      <td>240</td>\n      <td>192</td>\n      <td>2022-09-10 18:34:43</td>\n      <td>35.693901</td>\n      <td>51.383869</td>\n      <td>35.696499</td>\n      <td>51.382183</td>\n      <td>0.489</td>\n      <td>2022-09-10 18:42:11</td>\n      <td>18.578611</td>\n      <td>0</td>\n    </tr>\n    <tr>\n      <th>4063234</th>\n      <td>216</td>\n      <td>432</td>\n      <td>312</td>\n      <td>2022-09-10 23:04:05</td>\n      <td>35.480900</td>\n      <td>51.678635</td>\n      <td>35.475414</td>\n      <td>51.687286</td>\n      <td>1.275</td>\n      <td>2022-09-10 23:17:21</td>\n      <td>23.068056</td>\n      <td>0</td>\n    </tr>\n    <tr>\n      <th>4063297</th>\n      <td>143</td>\n      <td>137</td>\n      <td>147</td>\n      <td>2022-09-10 10:42:29</td>\n      <td>35.704048</td>\n      <td>51.371464</td>\n      <td>35.707951</td>\n      <td>51.368633</td>\n      <td>0.766</td>\n      <td>2022-09-10 10:45:51</td>\n      <td>10.708056</td>\n      <td>0</td>\n    </tr>\n    <tr>\n      <th>4063303</th>\n      <td>197</td>\n      <td>249</td>\n      <td>188</td>\n      <td>2022-09-10 17:03:54</td>\n      <td>35.777199</td>\n      <td>51.363144</td>\n      <td>35.779930</td>\n      <td>51.363510</td>\n      <td>1.029</td>\n      <td>2022-09-10 17:12:21</td>\n      <td>17.065000</td>\n      <td>0</td>\n    </tr>\n  </tbody>\n</table>\n<p>117562 rows × 12 columns</p>\n</div>"
     },
     "execution_count": 71,
     "metadata": {},
     "output_type": "execute_result"
    }
   ],
   "source": [
    "# rides_train_p1['source_h3_4'] = rides_train_p1.apply(lambda row: h3.geo_to_h3(row.source_lat, row.source_lng, 4), axis=1)\n",
    "# rides_train_p1['dest_h3_4'] = rides_train_p1.apply(lambda row: h3.geo_to_h3(row.destination_lat, row.destination_lng, 4), axis=1)\n",
    "rides_train_p1['hour'] = rides_train_p1.apply(lambda row: ((datetime.timestamp(datetime.strptime(row.created_at,\"%Y-%m-%d %H:%M:%S\")) - 1662147000) % 604800) / 3600, axis=1)\n",
    "rides_train_p1['holiday'] = rides_train_p1.apply(lambda row: int(row.created_at.split()[0] in train_holidays), axis=1)\n",
    "rides_train_p1"
   ],
   "metadata": {
    "collapsed": false,
    "pycharm": {
     "name": "#%%\n"
    }
   }
  },
  {
   "cell_type": "code",
   "execution_count": 72,
   "outputs": [
    {
     "data": {
      "text/plain": "         eta  ata  a_t_a_result.ride_a_t_a           created_at  source_lat  \\\n50       197  194                      168  2022-09-11 12:10:02   35.746696   \n108      231  225                      236  2022-09-11 14:04:19   35.477215   \n129      239  326                      287  2022-09-11 00:27:14   35.743793   \n197       99  162                      105  2022-09-11 16:57:39   35.637093   \n264      176  123                      148  2022-09-11 14:12:00   35.724400   \n...      ...  ...                      ...                  ...         ...   \n2729852  219  317                       24  2022-10-09 14:32:09   35.711395   \n2729868  171  816                      604  2022-10-09 14:16:45   35.748600   \n2729878  230  269                      380  2022-10-09 16:59:23   35.423866   \n2729883  182  215                      209  2022-10-09 12:50:43   35.691677   \n2729886  239  346                      292  2022-10-09 21:40:46   35.484001   \n\n         source_lng  destination_lat  destination_lng  e_d_d  \\\n50        51.809055        35.741589        51.815136  1.312   \n108       50.953491        35.475529        50.964859  1.326   \n129       51.451809        35.750114        51.452038  1.733   \n197       51.370960        35.637955        51.375969  0.674   \n264       51.464272        35.724892        51.467640  0.939   \n...             ...              ...              ...    ...   \n2729852   51.414448        35.708839        51.421368  0.992   \n2729868   51.235535        35.753651        51.242142  2.800   \n2729878   51.592743        35.424473        51.582977  1.667   \n2729883   51.477333        35.686195        51.478199  0.826   \n2729886   51.075790        35.492088        51.065224  1.534   \n\n             clickhouse_time       hour  holiday  \n50       2022-09-11 12:16:16  36.167222        0  \n108      2022-09-11 14:13:22  38.071944        0  \n129      2022-09-11 00:35:53  24.453889        0  \n197      2022-09-11 18:16:04  40.960833        0  \n264      2022-09-11 14:17:21  38.200000        0  \n...                      ...        ...      ...  \n2729852  2022-10-09 14:40:25  39.535833        0  \n2729868  2022-10-09 14:36:12  39.279167        0  \n2729878  2022-10-09 17:13:00  41.989722        0  \n2729883  2022-10-09 12:59:07  37.845278        0  \n2729886  2022-10-09 21:52:45  46.679444        0  \n\n[83575 rows x 12 columns]",
      "text/html": "<div>\n<style scoped>\n    .dataframe tbody tr th:only-of-type {\n        vertical-align: middle;\n    }\n\n    .dataframe tbody tr th {\n        vertical-align: top;\n    }\n\n    .dataframe thead th {\n        text-align: right;\n    }\n</style>\n<table border=\"1\" class=\"dataframe\">\n  <thead>\n    <tr style=\"text-align: right;\">\n      <th></th>\n      <th>eta</th>\n      <th>ata</th>\n      <th>a_t_a_result.ride_a_t_a</th>\n      <th>created_at</th>\n      <th>source_lat</th>\n      <th>source_lng</th>\n      <th>destination_lat</th>\n      <th>destination_lng</th>\n      <th>e_d_d</th>\n      <th>clickhouse_time</th>\n      <th>hour</th>\n      <th>holiday</th>\n    </tr>\n  </thead>\n  <tbody>\n    <tr>\n      <th>50</th>\n      <td>197</td>\n      <td>194</td>\n      <td>168</td>\n      <td>2022-09-11 12:10:02</td>\n      <td>35.746696</td>\n      <td>51.809055</td>\n      <td>35.741589</td>\n      <td>51.815136</td>\n      <td>1.312</td>\n      <td>2022-09-11 12:16:16</td>\n      <td>36.167222</td>\n      <td>0</td>\n    </tr>\n    <tr>\n      <th>108</th>\n      <td>231</td>\n      <td>225</td>\n      <td>236</td>\n      <td>2022-09-11 14:04:19</td>\n      <td>35.477215</td>\n      <td>50.953491</td>\n      <td>35.475529</td>\n      <td>50.964859</td>\n      <td>1.326</td>\n      <td>2022-09-11 14:13:22</td>\n      <td>38.071944</td>\n      <td>0</td>\n    </tr>\n    <tr>\n      <th>129</th>\n      <td>239</td>\n      <td>326</td>\n      <td>287</td>\n      <td>2022-09-11 00:27:14</td>\n      <td>35.743793</td>\n      <td>51.451809</td>\n      <td>35.750114</td>\n      <td>51.452038</td>\n      <td>1.733</td>\n      <td>2022-09-11 00:35:53</td>\n      <td>24.453889</td>\n      <td>0</td>\n    </tr>\n    <tr>\n      <th>197</th>\n      <td>99</td>\n      <td>162</td>\n      <td>105</td>\n      <td>2022-09-11 16:57:39</td>\n      <td>35.637093</td>\n      <td>51.370960</td>\n      <td>35.637955</td>\n      <td>51.375969</td>\n      <td>0.674</td>\n      <td>2022-09-11 18:16:04</td>\n      <td>40.960833</td>\n      <td>0</td>\n    </tr>\n    <tr>\n      <th>264</th>\n      <td>176</td>\n      <td>123</td>\n      <td>148</td>\n      <td>2022-09-11 14:12:00</td>\n      <td>35.724400</td>\n      <td>51.464272</td>\n      <td>35.724892</td>\n      <td>51.467640</td>\n      <td>0.939</td>\n      <td>2022-09-11 14:17:21</td>\n      <td>38.200000</td>\n      <td>0</td>\n    </tr>\n    <tr>\n      <th>...</th>\n      <td>...</td>\n      <td>...</td>\n      <td>...</td>\n      <td>...</td>\n      <td>...</td>\n      <td>...</td>\n      <td>...</td>\n      <td>...</td>\n      <td>...</td>\n      <td>...</td>\n      <td>...</td>\n      <td>...</td>\n    </tr>\n    <tr>\n      <th>2729852</th>\n      <td>219</td>\n      <td>317</td>\n      <td>24</td>\n      <td>2022-10-09 14:32:09</td>\n      <td>35.711395</td>\n      <td>51.414448</td>\n      <td>35.708839</td>\n      <td>51.421368</td>\n      <td>0.992</td>\n      <td>2022-10-09 14:40:25</td>\n      <td>39.535833</td>\n      <td>0</td>\n    </tr>\n    <tr>\n      <th>2729868</th>\n      <td>171</td>\n      <td>816</td>\n      <td>604</td>\n      <td>2022-10-09 14:16:45</td>\n      <td>35.748600</td>\n      <td>51.235535</td>\n      <td>35.753651</td>\n      <td>51.242142</td>\n      <td>2.800</td>\n      <td>2022-10-09 14:36:12</td>\n      <td>39.279167</td>\n      <td>0</td>\n    </tr>\n    <tr>\n      <th>2729878</th>\n      <td>230</td>\n      <td>269</td>\n      <td>380</td>\n      <td>2022-10-09 16:59:23</td>\n      <td>35.423866</td>\n      <td>51.592743</td>\n      <td>35.424473</td>\n      <td>51.582977</td>\n      <td>1.667</td>\n      <td>2022-10-09 17:13:00</td>\n      <td>41.989722</td>\n      <td>0</td>\n    </tr>\n    <tr>\n      <th>2729883</th>\n      <td>182</td>\n      <td>215</td>\n      <td>209</td>\n      <td>2022-10-09 12:50:43</td>\n      <td>35.691677</td>\n      <td>51.477333</td>\n      <td>35.686195</td>\n      <td>51.478199</td>\n      <td>0.826</td>\n      <td>2022-10-09 12:59:07</td>\n      <td>37.845278</td>\n      <td>0</td>\n    </tr>\n    <tr>\n      <th>2729886</th>\n      <td>239</td>\n      <td>346</td>\n      <td>292</td>\n      <td>2022-10-09 21:40:46</td>\n      <td>35.484001</td>\n      <td>51.075790</td>\n      <td>35.492088</td>\n      <td>51.065224</td>\n      <td>1.534</td>\n      <td>2022-10-09 21:52:45</td>\n      <td>46.679444</td>\n      <td>0</td>\n    </tr>\n  </tbody>\n</table>\n<p>83575 rows × 12 columns</p>\n</div>"
     },
     "execution_count": 72,
     "metadata": {},
     "output_type": "execute_result"
    }
   ],
   "source": [
    "# rides_test_p1['source_h3_4'] = rides_test_p1.apply(lambda row: h3.geo_to_h3(row.source_lat, row.source_lng, 4), axis=1)\n",
    "# rides_test_p1['dest_h3_4'] = rides_test_p1.apply(lambda row: h3.geo_to_h3(row.destination_lat, row.destination_lng, 4), axis=1)\n",
    "rides_test_p1['hour'] = rides_test_p1.apply(lambda row: ((datetime.timestamp(datetime.strptime(row.created_at,\"%Y-%m-%d %H:%M:%S\")) - 1662147000) % 604800) / 3600, axis=1)\n",
    "rides_test_p1['holiday'] = rides_test_p1.apply(lambda row: int(row.created_at.split()[0] in test_holidays), axis=1)\n",
    "rides_test_p1"
   ],
   "metadata": {
    "collapsed": false,
    "pycharm": {
     "name": "#%%\n"
    }
   }
  },
  {
   "cell_type": "code",
   "execution_count": 96,
   "outputs": [],
   "source": [
    "train_p1_geo_x = rides_train_p1[[\"eta\", \"source_lat\", \"source_lng\", \"destination_lat\", \"destination_lng\", \"hour\", \"holiday\"]]\n",
    "# train_p1_h3_x = rides_train_p1[[\"eta\", \"source_h3_4\", \"dest_h3_4\", \"hour\", \"holiday\"]]\n",
    "train_p1_geo_y = rides_train_p1[\"a_t_a_result.ride_a_t_a\"]\n",
    "# train_p1_h3_y = rides_train_p1[\"a_t_a_result.ride_a_t_a\"]"
   ],
   "metadata": {
    "collapsed": false,
    "pycharm": {
     "name": "#%%\n"
    }
   }
  },
  {
   "cell_type": "code",
   "execution_count": 97,
   "outputs": [],
   "source": [
    "test_p1_geo_x = rides_test_p1[[\"eta\", \"source_lat\", \"source_lng\", \"destination_lat\", \"destination_lng\", \"hour\", \"holiday\"]]\n",
    "# test_p1_h3_x = rides_test_p1[[\"eta\", \"source_h3_4\", \"dest_h3_4\", \"hour\", \"holiday\"]]\n",
    "test_p1_geo_y = rides_test_p1[\"a_t_a_result.ride_a_t_a\"]\n",
    "# test_p1_h3_y = rides_test_p1[\"a_t_a_result.ride_a_t_a\"]"
   ],
   "metadata": {
    "collapsed": false,
    "pycharm": {
     "name": "#%%\n"
    }
   }
  },
  {
   "cell_type": "code",
   "execution_count": 98,
   "outputs": [],
   "source": [
    "# dummy_train_rides = pd.get_dummies(train_p1_h3_x, prefix={'source_h3_4':'source_h3_4',\n",
    "#                                                              'dest_h3_4':'dest_h3_4'})\n",
    "# dummy_train_rides.describe()"
   ],
   "metadata": {
    "collapsed": false,
    "pycharm": {
     "name": "#%%\n"
    }
   }
  },
  {
   "cell_type": "code",
   "execution_count": 99,
   "outputs": [],
   "source": [
    "# print(np.count_nonzero(dummy_train_rides, axis=0))\n",
    "# print(dummy_train_rides.columns)"
   ],
   "metadata": {
    "collapsed": false,
    "pycharm": {
     "name": "#%%\n"
    }
   }
  },
  {
   "cell_type": "code",
   "execution_count": 100,
   "outputs": [],
   "source": [
    "# geo_noise = np.count_nonzero(dummy_train_rides, axis=0) < 100\n",
    "#\n",
    "# cols = dummy_train_rides.columns\n",
    "# for col, noise in zip(cols, geo_noise):\n",
    "#     if noise:\n",
    "#         # DOESN'T REINDEX\n",
    "#         # remove the rows where rides_train_p1_x is in the noisy geo (geo is 1)\n",
    "#         train_p1_h3_x = train_p1_h3_x[dummy_train_rides[col] == 0]\n",
    "#         train_p1_h3_y = train_p1_h3_y[dummy_train_rides[col] == 0]\n",
    "#\n",
    "# train_p1_h3_x.describe()"
   ],
   "metadata": {
    "collapsed": false,
    "pycharm": {
     "name": "#%%\n"
    }
   }
  },
  {
   "cell_type": "code",
   "execution_count": 101,
   "outputs": [],
   "source": [
    "# ohe = ColumnTransformer(\n",
    "#     [('OHE', OneHotEncoder(handle_unknown='ignore', sparse=False),['source_h3_4', 'dest_h3_4'])],\n",
    "#     remainder = 'passthrough'\n",
    "#     ).fit(train_p1_h3_x)"
   ],
   "metadata": {
    "collapsed": false,
    "pycharm": {
     "name": "#%%\n"
    }
   }
  },
  {
   "cell_type": "code",
   "execution_count": 102,
   "outputs": [],
   "source": [
    "# ohe.get_feature_names_out()"
   ],
   "metadata": {
    "collapsed": false,
    "pycharm": {
     "name": "#%%\n"
    }
   }
  },
  {
   "cell_type": "code",
   "execution_count": 103,
   "outputs": [],
   "source": [
    "# train_p1_h3_x = ohe.transform(train_p1_h3_x)"
   ],
   "metadata": {
    "collapsed": false,
    "pycharm": {
     "name": "#%%\n"
    }
   }
  },
  {
   "cell_type": "code",
   "execution_count": 104,
   "outputs": [],
   "source": [
    "# test_p1_h3_x = ohe.transform(test_p1_h3_x)"
   ],
   "metadata": {
    "collapsed": false,
    "pycharm": {
     "name": "#%%\n"
    }
   }
  },
  {
   "cell_type": "code",
   "execution_count": 105,
   "outputs": [],
   "source": [
    "train_p1_geo_x = train_p1_geo_x"
   ],
   "metadata": {
    "collapsed": false,
    "pycharm": {
     "name": "#%%\n"
    }
   }
  },
  {
   "cell_type": "code",
   "execution_count": 106,
   "outputs": [
    {
     "data": {
      "text/plain": "         eta  source_lat  source_lng  destination_lat  destination_lng  \\\n57930    204   35.750336   51.312141        35.758568        51.316292   \n67821    200   35.307747   51.714966        35.303715        51.726273   \n96564    184   35.582455   51.434765        35.585747        51.428162   \n137437   220   35.742451   51.440407        35.743649        51.447483   \n149238   210   35.642624   51.451149        35.638569        51.457859   \n...      ...         ...         ...              ...              ...   \n3969697  219   35.469601   50.976524        35.477013        50.988403   \n3982789  196   35.700195   51.394398        35.703911        51.387062   \n3988781  173   35.761906   51.449863        35.765755        51.442642   \n4011371  167   35.811558   51.456036        35.808960        51.462925   \n4050014  227   35.710773   51.403011        35.705940        51.398792   \n\n               hour  holiday  \n57930     87.725833        0  \n67821     83.683056        0  \n96564     83.721667        0  \n137437   106.272500        0  \n149238    97.773333        0  \n...             ...      ...  \n3969697   22.452778        0  \n3982789   13.794444        0  \n3988781    7.951667        0  \n4011371   15.348611        0  \n4050014   12.420833        0  \n\n[158 rows x 7 columns]",
      "text/html": "<div>\n<style scoped>\n    .dataframe tbody tr th:only-of-type {\n        vertical-align: middle;\n    }\n\n    .dataframe tbody tr th {\n        vertical-align: top;\n    }\n\n    .dataframe thead th {\n        text-align: right;\n    }\n</style>\n<table border=\"1\" class=\"dataframe\">\n  <thead>\n    <tr style=\"text-align: right;\">\n      <th></th>\n      <th>eta</th>\n      <th>source_lat</th>\n      <th>source_lng</th>\n      <th>destination_lat</th>\n      <th>destination_lng</th>\n      <th>hour</th>\n      <th>holiday</th>\n    </tr>\n  </thead>\n  <tbody>\n    <tr>\n      <th>57930</th>\n      <td>204</td>\n      <td>35.750336</td>\n      <td>51.312141</td>\n      <td>35.758568</td>\n      <td>51.316292</td>\n      <td>87.725833</td>\n      <td>0</td>\n    </tr>\n    <tr>\n      <th>67821</th>\n      <td>200</td>\n      <td>35.307747</td>\n      <td>51.714966</td>\n      <td>35.303715</td>\n      <td>51.726273</td>\n      <td>83.683056</td>\n      <td>0</td>\n    </tr>\n    <tr>\n      <th>96564</th>\n      <td>184</td>\n      <td>35.582455</td>\n      <td>51.434765</td>\n      <td>35.585747</td>\n      <td>51.428162</td>\n      <td>83.721667</td>\n      <td>0</td>\n    </tr>\n    <tr>\n      <th>137437</th>\n      <td>220</td>\n      <td>35.742451</td>\n      <td>51.440407</td>\n      <td>35.743649</td>\n      <td>51.447483</td>\n      <td>106.272500</td>\n      <td>0</td>\n    </tr>\n    <tr>\n      <th>149238</th>\n      <td>210</td>\n      <td>35.642624</td>\n      <td>51.451149</td>\n      <td>35.638569</td>\n      <td>51.457859</td>\n      <td>97.773333</td>\n      <td>0</td>\n    </tr>\n    <tr>\n      <th>...</th>\n      <td>...</td>\n      <td>...</td>\n      <td>...</td>\n      <td>...</td>\n      <td>...</td>\n      <td>...</td>\n      <td>...</td>\n    </tr>\n    <tr>\n      <th>3969697</th>\n      <td>219</td>\n      <td>35.469601</td>\n      <td>50.976524</td>\n      <td>35.477013</td>\n      <td>50.988403</td>\n      <td>22.452778</td>\n      <td>0</td>\n    </tr>\n    <tr>\n      <th>3982789</th>\n      <td>196</td>\n      <td>35.700195</td>\n      <td>51.394398</td>\n      <td>35.703911</td>\n      <td>51.387062</td>\n      <td>13.794444</td>\n      <td>0</td>\n    </tr>\n    <tr>\n      <th>3988781</th>\n      <td>173</td>\n      <td>35.761906</td>\n      <td>51.449863</td>\n      <td>35.765755</td>\n      <td>51.442642</td>\n      <td>7.951667</td>\n      <td>0</td>\n    </tr>\n    <tr>\n      <th>4011371</th>\n      <td>167</td>\n      <td>35.811558</td>\n      <td>51.456036</td>\n      <td>35.808960</td>\n      <td>51.462925</td>\n      <td>15.348611</td>\n      <td>0</td>\n    </tr>\n    <tr>\n      <th>4050014</th>\n      <td>227</td>\n      <td>35.710773</td>\n      <td>51.403011</td>\n      <td>35.705940</td>\n      <td>51.398792</td>\n      <td>12.420833</td>\n      <td>0</td>\n    </tr>\n  </tbody>\n</table>\n<p>158 rows × 7 columns</p>\n</div>"
     },
     "execution_count": 106,
     "metadata": {},
     "output_type": "execute_result"
    }
   ],
   "source": [
    "train_p1_geo_x[abs(train_p1_geo_x['eta'] - train_p1_geo_y) > 1200]"
   ],
   "metadata": {
    "collapsed": false,
    "pycharm": {
     "name": "#%%\n"
    }
   }
  },
  {
   "cell_type": "code",
   "execution_count": 107,
   "outputs": [],
   "source": [
    "rational_index = abs(train_p1_geo_x['eta'] - train_p1_geo_y) < 1200"
   ],
   "metadata": {
    "collapsed": false,
    "pycharm": {
     "name": "#%%\n"
    }
   }
  },
  {
   "cell_type": "code",
   "execution_count": 108,
   "outputs": [],
   "source": [
    "train_p1_geo_x = train_p1_geo_x[rational_index]\n",
    "train_p1_geo_y = train_p1_geo_y[rational_index]"
   ],
   "metadata": {
    "collapsed": false,
    "pycharm": {
     "name": "#%%\n"
    }
   }
  },
  {
   "cell_type": "code",
   "execution_count": 109,
   "outputs": [],
   "source": [
    "test_rational_index = abs(test_p1_geo_x['eta'] - test_p1_geo_y) < 1200\n",
    "test_p1_geo_x = test_p1_geo_x[test_rational_index]\n",
    "test_p1_geo_y = test_p1_geo_y[test_rational_index]"
   ],
   "metadata": {
    "collapsed": false,
    "pycharm": {
     "name": "#%%\n"
    }
   }
  },
  {
   "cell_type": "code",
   "execution_count": 110,
   "outputs": [],
   "source": [
    "train_eta = train_p1_geo_x['eta']\n",
    "test_eta = test_p1_geo_x['eta']\n",
    "\n",
    "# train_p1_geo_x = train_p1_geo_x[[\"source_lat\", \"source_lng\", \"destination_lat\", \"destination_lng\", \"hour\", \"holiday\"]]\n",
    "# test_p1_geo_x = test_p1_geo_x[[\"source_lat\", \"source_lng\", \"destination_lat\", \"destination_lng\", \"hour\", \"holiday\"]]"
   ],
   "metadata": {
    "collapsed": false,
    "pycharm": {
     "name": "#%%\n"
    }
   }
  },
  {
   "cell_type": "code",
   "execution_count": 111,
   "outputs": [],
   "source": [
    "reg_geo_p1 = LinearRegression().fit(train_p1_geo_x, train_p1_geo_y)"
   ],
   "metadata": {
    "collapsed": false,
    "pycharm": {
     "name": "#%%\n"
    }
   }
  },
  {
   "cell_type": "code",
   "execution_count": 112,
   "outputs": [
    {
     "name": "stdout",
     "output_type": "stream",
     "text": [
      "[ 7.49037768e-01  3.80826772e+02 -6.71492675e+01 -4.16489345e+02\n",
      "  8.87284871e+01  2.33110835e-02  1.65502660e+01]\n",
      "276.2614924240204\n"
     ]
    }
   ],
   "source": [
    "print(reg_geo_p1.coef_)\n",
    "print(reg_geo_p1.intercept_)"
   ],
   "metadata": {
    "collapsed": false,
    "pycharm": {
     "name": "#%%\n"
    }
   }
  },
  {
   "cell_type": "code",
   "execution_count": 113,
   "outputs": [],
   "source": [
    "train_pred_geo = reg_geo_p1.predict(train_p1_geo_x)\n",
    "test_pred_geo = reg_geo_p1.predict(test_p1_geo_x)"
   ],
   "metadata": {
    "collapsed": false,
    "pycharm": {
     "name": "#%%\n"
    }
   }
  },
  {
   "cell_type": "code",
   "execution_count": 114,
   "outputs": [
    {
     "name": "stdout",
     "output_type": "stream",
     "text": [
      "ETA train MAE 85.36194134732503\n",
      "prediction train MAE 79.99119796725861\n",
      "ETA test MAE  88.19396618861052\n",
      "prediction test MAE 82.69420908785025\n",
      "ETA train MSE 20113.18526783813\n",
      "prediction train MSE 14992.4037915279\n",
      "ETA test MSE  21865.363370595354\n",
      "prediction test MSE 16383.736459760676\n",
      "ETA train explained_variance_score 0.05838924324797656\n",
      "prediction train explained_variance_score 0.06827066893402967\n",
      "ETA test explained_variance_score  0.04865176824613571\n",
      "prediction test explained_variance_score 0.05903326186411495\n",
      "ETA train median_absolute_error 48.0\n",
      "prediction train median_absolute_error 61.54443013809157\n",
      "ETA test median_absolute_error  49.0\n",
      "prediction test median_absolute_error 62.65692715471573\n",
      "ETA train r2_score -0.24996931217918594\n",
      "prediction train r2_score 0.06827066893402967\n",
      "ETA test r2_score  -0.25585175453360476\n",
      "prediction test r2_score 0.058989149639437244\n",
      "ETA train MAPE 0.2935081330060359\n",
      "prediction train MAPE 0.36658696566648313\n",
      "ETA test MAPE  0.3075215737648861\n",
      "prediction test MAPE 0.3859608632595537\n"
     ]
    }
   ],
   "source": [
    "print(\"ETA train MAE\", mean_absolute_error(train_p1_geo_y, train_eta))\n",
    "print(\"prediction train MAE\", mean_absolute_error(train_p1_geo_y, train_pred_geo))\n",
    "\n",
    "print(\"ETA test MAE \", mean_absolute_error(test_p1_geo_y, test_eta))\n",
    "print(\"prediction test MAE\", mean_absolute_error(test_p1_geo_y, test_pred_geo))\n",
    "\n",
    "\n",
    "print(\"ETA train MSE\", mean_squared_error(train_p1_geo_y, train_eta))\n",
    "print(\"prediction train MSE\", mean_squared_error(train_p1_geo_y, train_pred_geo))\n",
    "\n",
    "print(\"ETA test MSE \", mean_squared_error(test_p1_geo_y, test_eta))\n",
    "print(\"prediction test MSE\", mean_squared_error(test_p1_geo_y, test_pred_geo))\n",
    "\n",
    "\n",
    "print(\"ETA train explained_variance_score\", explained_variance_score(train_p1_geo_y, train_eta))\n",
    "print(\"prediction train explained_variance_score\", explained_variance_score(train_p1_geo_y, train_pred_geo))\n",
    "\n",
    "print(\"ETA test explained_variance_score \", explained_variance_score(test_p1_geo_y, test_eta))\n",
    "print(\"prediction test explained_variance_score\", explained_variance_score(test_p1_geo_y, test_pred_geo))\n",
    "\n",
    "\n",
    "print(\"ETA train median_absolute_error\", median_absolute_error(train_p1_geo_y, train_eta))\n",
    "print(\"prediction train median_absolute_error\", median_absolute_error(train_p1_geo_y, train_pred_geo))\n",
    "\n",
    "print(\"ETA test median_absolute_error \", median_absolute_error(test_p1_geo_y, test_eta))\n",
    "print(\"prediction test median_absolute_error\", median_absolute_error(test_p1_geo_y, test_pred_geo))\n",
    "\n",
    "\n",
    "print(\"ETA train r2_score\", r2_score(train_p1_geo_y, train_eta))\n",
    "print(\"prediction train r2_score\", r2_score(train_p1_geo_y, train_pred_geo))\n",
    "\n",
    "print(\"ETA test r2_score \", r2_score(test_p1_geo_y, test_eta))\n",
    "print(\"prediction test r2_score\", r2_score(test_p1_geo_y, test_pred_geo))\n",
    "\n",
    "\n",
    "print(\"ETA train MAPE\", mean_absolute_percentage_error(train_p1_geo_y, train_eta))\n",
    "print(\"prediction train MAPE\", mean_absolute_percentage_error(train_p1_geo_y, train_pred_geo))\n",
    "\n",
    "print(\"ETA test MAPE \", mean_absolute_percentage_error(test_p1_geo_y, test_eta))\n",
    "print(\"prediction test MAPE\", mean_absolute_percentage_error(test_p1_geo_y, test_pred_geo))"
   ],
   "metadata": {
    "collapsed": false,
    "pycharm": {
     "name": "#%%\n"
    }
   }
  },
  {
   "cell_type": "code",
   "execution_count": 115,
   "outputs": [
    {
     "data": {
      "text/plain": "KNeighborsRegressor(n_neighbors=50)",
      "text/html": "<style>#sk-container-id-4 {color: black;background-color: white;}#sk-container-id-4 pre{padding: 0;}#sk-container-id-4 div.sk-toggleable {background-color: white;}#sk-container-id-4 label.sk-toggleable__label {cursor: pointer;display: block;width: 100%;margin-bottom: 0;padding: 0.3em;box-sizing: border-box;text-align: center;}#sk-container-id-4 label.sk-toggleable__label-arrow:before {content: \"▸\";float: left;margin-right: 0.25em;color: #696969;}#sk-container-id-4 label.sk-toggleable__label-arrow:hover:before {color: black;}#sk-container-id-4 div.sk-estimator:hover label.sk-toggleable__label-arrow:before {color: black;}#sk-container-id-4 div.sk-toggleable__content {max-height: 0;max-width: 0;overflow: hidden;text-align: left;background-color: #f0f8ff;}#sk-container-id-4 div.sk-toggleable__content pre {margin: 0.2em;color: black;border-radius: 0.25em;background-color: #f0f8ff;}#sk-container-id-4 input.sk-toggleable__control:checked~div.sk-toggleable__content {max-height: 200px;max-width: 100%;overflow: auto;}#sk-container-id-4 input.sk-toggleable__control:checked~label.sk-toggleable__label-arrow:before {content: \"▾\";}#sk-container-id-4 div.sk-estimator input.sk-toggleable__control:checked~label.sk-toggleable__label {background-color: #d4ebff;}#sk-container-id-4 div.sk-label input.sk-toggleable__control:checked~label.sk-toggleable__label {background-color: #d4ebff;}#sk-container-id-4 input.sk-hidden--visually {border: 0;clip: rect(1px 1px 1px 1px);clip: rect(1px, 1px, 1px, 1px);height: 1px;margin: -1px;overflow: hidden;padding: 0;position: absolute;width: 1px;}#sk-container-id-4 div.sk-estimator {font-family: monospace;background-color: #f0f8ff;border: 1px dotted black;border-radius: 0.25em;box-sizing: border-box;margin-bottom: 0.5em;}#sk-container-id-4 div.sk-estimator:hover {background-color: #d4ebff;}#sk-container-id-4 div.sk-parallel-item::after {content: \"\";width: 100%;border-bottom: 1px solid gray;flex-grow: 1;}#sk-container-id-4 div.sk-label:hover label.sk-toggleable__label {background-color: #d4ebff;}#sk-container-id-4 div.sk-serial::before {content: \"\";position: absolute;border-left: 1px solid gray;box-sizing: border-box;top: 0;bottom: 0;left: 50%;z-index: 0;}#sk-container-id-4 div.sk-serial {display: flex;flex-direction: column;align-items: center;background-color: white;padding-right: 0.2em;padding-left: 0.2em;position: relative;}#sk-container-id-4 div.sk-item {position: relative;z-index: 1;}#sk-container-id-4 div.sk-parallel {display: flex;align-items: stretch;justify-content: center;background-color: white;position: relative;}#sk-container-id-4 div.sk-item::before, #sk-container-id-4 div.sk-parallel-item::before {content: \"\";position: absolute;border-left: 1px solid gray;box-sizing: border-box;top: 0;bottom: 0;left: 50%;z-index: -1;}#sk-container-id-4 div.sk-parallel-item {display: flex;flex-direction: column;z-index: 1;position: relative;background-color: white;}#sk-container-id-4 div.sk-parallel-item:first-child::after {align-self: flex-end;width: 50%;}#sk-container-id-4 div.sk-parallel-item:last-child::after {align-self: flex-start;width: 50%;}#sk-container-id-4 div.sk-parallel-item:only-child::after {width: 0;}#sk-container-id-4 div.sk-dashed-wrapped {border: 1px dashed gray;margin: 0 0.4em 0.5em 0.4em;box-sizing: border-box;padding-bottom: 0.4em;background-color: white;}#sk-container-id-4 div.sk-label label {font-family: monospace;font-weight: bold;display: inline-block;line-height: 1.2em;}#sk-container-id-4 div.sk-label-container {text-align: center;}#sk-container-id-4 div.sk-container {/* jupyter's `normalize.less` sets `[hidden] { display: none; }` but bootstrap.min.css set `[hidden] { display: none !important; }` so we also need the `!important` here to be able to override the default hidden behavior on the sphinx rendered scikit-learn.org. See: https://github.com/scikit-learn/scikit-learn/issues/21755 */display: inline-block !important;position: relative;}#sk-container-id-4 div.sk-text-repr-fallback {display: none;}</style><div id=\"sk-container-id-4\" class=\"sk-top-container\"><div class=\"sk-text-repr-fallback\"><pre>KNeighborsRegressor(n_neighbors=50)</pre><b>In a Jupyter environment, please rerun this cell to show the HTML representation or trust the notebook. <br />On GitHub, the HTML representation is unable to render, please try loading this page with nbviewer.org.</b></div><div class=\"sk-container\" hidden><div class=\"sk-item\"><div class=\"sk-estimator sk-toggleable\"><input class=\"sk-toggleable__control sk-hidden--visually\" id=\"sk-estimator-id-4\" type=\"checkbox\" checked><label for=\"sk-estimator-id-4\" class=\"sk-toggleable__label sk-toggleable__label-arrow\">KNeighborsRegressor</label><div class=\"sk-toggleable__content\"><pre>KNeighborsRegressor(n_neighbors=50)</pre></div></div></div></div></div>"
     },
     "execution_count": 115,
     "metadata": {},
     "output_type": "execute_result"
    }
   ],
   "source": [
    "from sklearn.neighbors import KNeighborsRegressor\n",
    "neigh = KNeighborsRegressor(n_neighbors=50)\n",
    "neigh.fit(train_p1_geo_x, train_p1_geo_y)"
   ],
   "metadata": {
    "collapsed": false,
    "pycharm": {
     "name": "#%%\n"
    }
   }
  },
  {
   "cell_type": "code",
   "execution_count": 116,
   "outputs": [],
   "source": [
    "train_knn_pred_geo = neigh.predict(train_p1_geo_x)"
   ],
   "metadata": {
    "collapsed": false,
    "pycharm": {
     "name": "#%%\n"
    }
   }
  },
  {
   "cell_type": "code",
   "execution_count": 117,
   "outputs": [],
   "source": [
    "test_knn_pred_geo = neigh.predict(test_p1_geo_x)"
   ],
   "metadata": {
    "collapsed": false,
    "pycharm": {
     "name": "#%%\n"
    }
   }
  },
  {
   "cell_type": "code",
   "execution_count": 118,
   "outputs": [
    {
     "name": "stdout",
     "output_type": "stream",
     "text": [
      "ETA train MAE 85.36194134732503\n",
      "prediction train MAE 79.4045314003901\n",
      "ETA test MAE  88.19396618861052\n",
      "prediction test MAE 83.63212105963122\n",
      "ETA train MSE 20113.18526783813\n",
      "prediction train MSE 14676.667326947352\n",
      "ETA test MSE  21865.363370595354\n",
      "prediction test MSE 16680.831023509818\n",
      "ETA train explained_variance_score 0.05838924324797656\n",
      "prediction train explained_variance_score 0.08789743437413544\n",
      "ETA test explained_variance_score  0.04865176824613571\n",
      "prediction test explained_variance_score 0.04205210627116873\n",
      "ETA train median_absolute_error 48.0\n",
      "prediction train median_absolute_error 60.25999999999999\n",
      "ETA test median_absolute_error  49.0\n",
      "prediction test median_absolute_error 62.66\n",
      "ETA train r2_score -0.24996931217918594\n",
      "prediction train r2_score 0.0878926674492383\n",
      "ETA test r2_score  -0.25585175453360476\n",
      "prediction test r2_score 0.04192532486675993\n",
      "ETA train MAPE 0.2935081330060359\n",
      "prediction train MAPE 0.3626707769678984\n",
      "ETA test MAPE  0.3075215737648861\n",
      "prediction test MAPE 0.38866826694490275\n"
     ]
    }
   ],
   "source": [
    "print(\"ETA train MAE\", mean_absolute_error(train_p1_geo_y, train_eta))\n",
    "print(\"prediction train MAE\", mean_absolute_error(train_p1_geo_y, train_knn_pred_geo))\n",
    "\n",
    "print(\"ETA test MAE \", mean_absolute_error(test_p1_geo_y, test_eta))\n",
    "print(\"prediction test MAE\", mean_absolute_error(test_p1_geo_y, test_knn_pred_geo))\n",
    "\n",
    "\n",
    "print(\"ETA train MSE\", mean_squared_error(train_p1_geo_y, train_eta))\n",
    "print(\"prediction train MSE\", mean_squared_error(train_p1_geo_y, train_knn_pred_geo))\n",
    "\n",
    "print(\"ETA test MSE \", mean_squared_error(test_p1_geo_y, test_eta))\n",
    "print(\"prediction test MSE\", mean_squared_error(test_p1_geo_y, test_knn_pred_geo))\n",
    "\n",
    "\n",
    "print(\"ETA train explained_variance_score\", explained_variance_score(train_p1_geo_y, train_eta))\n",
    "print(\"prediction train explained_variance_score\", explained_variance_score(train_p1_geo_y, train_knn_pred_geo))\n",
    "\n",
    "print(\"ETA test explained_variance_score \", explained_variance_score(test_p1_geo_y, test_eta))\n",
    "print(\"prediction test explained_variance_score\", explained_variance_score(test_p1_geo_y, test_knn_pred_geo))\n",
    "\n",
    "\n",
    "print(\"ETA train median_absolute_error\", median_absolute_error(train_p1_geo_y, train_eta))\n",
    "print(\"prediction train median_absolute_error\", median_absolute_error(train_p1_geo_y, train_knn_pred_geo))\n",
    "\n",
    "print(\"ETA test median_absolute_error \", median_absolute_error(test_p1_geo_y, test_eta))\n",
    "print(\"prediction test median_absolute_error\", median_absolute_error(test_p1_geo_y, test_knn_pred_geo))\n",
    "\n",
    "\n",
    "print(\"ETA train r2_score\", r2_score(train_p1_geo_y, train_eta))\n",
    "print(\"prediction train r2_score\", r2_score(train_p1_geo_y, train_knn_pred_geo))\n",
    "\n",
    "print(\"ETA test r2_score \", r2_score(test_p1_geo_y, test_eta))\n",
    "print(\"prediction test r2_score\", r2_score(test_p1_geo_y, test_knn_pred_geo))\n",
    "\n",
    "\n",
    "print(\"ETA train MAPE\", mean_absolute_percentage_error(train_p1_geo_y, train_eta))\n",
    "print(\"prediction train MAPE\", mean_absolute_percentage_error(train_p1_geo_y, train_knn_pred_geo))\n",
    "\n",
    "print(\"ETA test MAPE \", mean_absolute_percentage_error(test_p1_geo_y, test_eta))\n",
    "print(\"prediction test MAPE\", mean_absolute_percentage_error(test_p1_geo_y, test_knn_pred_geo))"
   ],
   "metadata": {
    "collapsed": false,
    "pycharm": {
     "name": "#%%\n"
    }
   }
  },
  {
   "cell_type": "code",
   "execution_count": 119,
   "outputs": [
    {
     "data": {
      "text/plain": "<matplotlib.collections.PathCollection at 0x33eebc3d0>"
     },
     "execution_count": 119,
     "metadata": {},
     "output_type": "execute_result"
    },
    {
     "data": {
      "text/plain": "<Figure size 640x480 with 1 Axes>",
      "image/png": "[encoded data removed]"
     },
     "metadata": {},
     "output_type": "display_data"
    }
   ],
   "source": [
    "plt.scatter(train_eta, train_p1_geo_y)"
   ],
   "metadata": {
    "collapsed": false,
    "pycharm": {
     "name": "#%%\n"
    }
   }
  },
  {
   "cell_type": "code",
   "execution_count": 120,
   "outputs": [],
   "source": [
    "import seaborn as sns"
   ],
   "metadata": {
    "collapsed": false,
    "pycharm": {
     "name": "#%%\n"
    }
   }
  },
  {
   "cell_type": "code",
   "execution_count": 121,
   "outputs": [
    {
     "data": {
      "text/plain": "<AxesSubplot: ylabel='Count'>"
     },
     "execution_count": 121,
     "metadata": {},
     "output_type": "execute_result"
    },
    {
     "data": {
      "text/plain": "<Figure size 640x480 with 1 Axes>",
      "image/png": "[encoded data removed]"
     },
     "metadata": {},
     "output_type": "display_data"
    }
   ],
   "source": [
    "eta_err = train_p1_geo_x['eta'] - train_p1_geo_y\n",
    "sns.histplot(eta_err)"
   ],
   "metadata": {
    "collapsed": false,
    "pycharm": {
     "name": "#%%\n"
    }
   }
  },
  {
   "cell_type": "code",
   "execution_count": 122,
   "outputs": [
    {
     "name": "stdout",
     "output_type": "stream",
     "text": [
      "-70.43990357997666\n",
      "123.09156879026898\n",
      "14.366472773059506\n",
      "-2.959254456125847\n"
     ]
    }
   ],
   "source": [
    "print(eta_err.mean())\n",
    "print(eta_err.std())\n",
    "print(eta_err.kurtosis())\n",
    "print(eta_err.skew())"
   ],
   "metadata": {
    "collapsed": false,
    "pycharm": {
     "name": "#%%\n"
    }
   }
  },
  {
   "cell_type": "code",
   "execution_count": 123,
   "outputs": [
    {
     "data": {
      "text/plain": "<AxesSubplot: xlabel='a_t_a_result.ride_a_t_a', ylabel='Count'>"
     },
     "execution_count": 123,
     "metadata": {},
     "output_type": "execute_result"
    },
    {
     "data": {
      "text/plain": "<Figure size 640x480 with 1 Axes>",
      "image/png": "[encoded data removed]"
     },
     "metadata": {},
     "output_type": "display_data"
    }
   ],
   "source": [
    "pred_err = train_pred_geo - train_p1_geo_y\n",
    "sns.histplot(pred_err)"
   ],
   "metadata": {
    "collapsed": false,
    "pycharm": {
     "name": "#%%\n"
    }
   }
  },
  {
   "cell_type": "code",
   "execution_count": 124,
   "outputs": [
    {
     "name": "stdout",
     "output_type": "stream",
     "text": [
      "1.0837739135970347e-13\n",
      "122.44399329065602\n",
      "14.808795900835666\n",
      "-3.020112452387905\n"
     ]
    }
   ],
   "source": [
    "print(pred_err.mean())\n",
    "print(pred_err.std())\n",
    "print(pred_err.kurtosis())\n",
    "print(pred_err.skew())"
   ],
   "metadata": {
    "collapsed": false,
    "pycharm": {
     "name": "#%%\n"
    }
   }
  },
  {
   "cell_type": "code",
   "execution_count": 154,
   "outputs": [],
   "source": [
    "reg_h3_p1 = LinearRegression().fit(train_p1_h3_x, train_p1_h3_y)"
   ],
   "metadata": {
    "collapsed": false,
    "pycharm": {
     "name": "#%%\n"
    }
   }
  },
  {
   "cell_type": "code",
   "execution_count": 155,
   "outputs": [
    {
     "name": "stdout",
     "output_type": "stream",
     "text": [
      "[ 1.26783627e+10  1.26783627e+10  3.36497938e+11  1.26783627e+10\n",
      "  1.26783627e+10  1.26783627e+10  1.26783627e+10  1.26783627e+10\n",
      " -2.61619424e+09 -2.61619425e+09 -3.26435770e+11 -2.61619425e+09\n",
      " -2.61619425e+09 -2.61619425e+09 -2.61619424e+09 -2.61619425e+09\n",
      "  9.86321442e-01 -2.57691789e-02  8.68180725e+00]\n",
      "-10062168381.208202\n"
     ]
    }
   ],
   "source": [
    "print(reg_h3_p1.coef_)\n",
    "print(reg_h3_p1.intercept_)"
   ],
   "metadata": {
    "collapsed": false,
    "pycharm": {
     "name": "#%%\n"
    }
   }
  },
  {
   "cell_type": "code",
   "execution_count": 156,
   "outputs": [],
   "source": [
    "train_pred_h3 = reg_h3_p1.predict(train_p1_h3_x)\n",
    "test_pred_h3 = reg_h3_p1.predict(test_p1_h3_x)"
   ],
   "metadata": {
    "collapsed": false,
    "pycharm": {
     "name": "#%%\n"
    }
   }
  },
  {
   "cell_type": "code",
   "execution_count": 157,
   "outputs": [],
   "source": [
    "known_h3_index = np.count_nonzero(test_p1_h3_x[:, 0:17], axis=1) == 2"
   ],
   "metadata": {
    "collapsed": false,
    "pycharm": {
     "name": "#%%\n"
    }
   }
  },
  {
   "cell_type": "code",
   "execution_count": 158,
   "outputs": [],
   "source": [
    "test_p1_h3_y = test_p1_h3_y[known_h3_index]\n",
    "test_p1_h3_x = test_p1_h3_x[known_h3_index]\n",
    "test_pred_h3 = test_pred_h3[known_h3_index]"
   ],
   "metadata": {
    "collapsed": false,
    "pycharm": {
     "name": "#%%\n"
    }
   }
  },
  {
   "cell_type": "code",
   "execution_count": 158,
   "outputs": [],
   "source": [],
   "metadata": {
    "collapsed": false,
    "pycharm": {
     "name": "#%%\n"
    }
   }
  },
  {
   "cell_type": "code",
   "execution_count": 106,
   "outputs": [
    {
     "data": {
      "text/plain": "         eta      seldon   ata  eta - ata  seldon - ata\n30431    487  550.287697  2692      -2205  -2141.712303\n33650    573  623.498899  2860      -2287  -2236.501101\n48047    497  552.241702  2784      -2287  -2231.758298\n57240    479  533.668282  3476      -2997  -2942.331718\n62110    385  441.807240  2666      -2281  -2224.192760\n...      ...         ...   ...        ...           ...\n3981253  257  317.214866  2487      -2230  -2169.785134\n3991984  561  617.029826  2900      -2339  -2282.970174\n4019586  541  586.472797  4093      -3552  -3506.527203\n4046754  564  615.140795  4954      -4390  -4338.859205\n4059653  578  629.777294  3802      -3224  -3172.222706\n\n[272 rows x 5 columns]",
      "text/html": "<div>\n<style scoped>\n    .dataframe tbody tr th:only-of-type {\n        vertical-align: middle;\n    }\n\n    .dataframe tbody tr th {\n        vertical-align: top;\n    }\n\n    .dataframe thead th {\n        text-align: right;\n    }\n</style>\n<table border=\"1\" class=\"dataframe\">\n  <thead>\n    <tr style=\"text-align: right;\">\n      <th></th>\n      <th>eta</th>\n      <th>seldon</th>\n      <th>ata</th>\n      <th>eta - ata</th>\n      <th>seldon - ata</th>\n    </tr>\n  </thead>\n  <tbody>\n    <tr>\n      <th>30431</th>\n      <td>487</td>\n      <td>550.287697</td>\n      <td>2692</td>\n      <td>-2205</td>\n      <td>-2141.712303</td>\n    </tr>\n    <tr>\n      <th>33650</th>\n      <td>573</td>\n      <td>623.498899</td>\n      <td>2860</td>\n      <td>-2287</td>\n      <td>-2236.501101</td>\n    </tr>\n    <tr>\n      <th>48047</th>\n      <td>497</td>\n      <td>552.241702</td>\n      <td>2784</td>\n      <td>-2287</td>\n      <td>-2231.758298</td>\n    </tr>\n    <tr>\n      <th>57240</th>\n      <td>479</td>\n      <td>533.668282</td>\n      <td>3476</td>\n      <td>-2997</td>\n      <td>-2942.331718</td>\n    </tr>\n    <tr>\n      <th>62110</th>\n      <td>385</td>\n      <td>441.807240</td>\n      <td>2666</td>\n      <td>-2281</td>\n      <td>-2224.192760</td>\n    </tr>\n    <tr>\n      <th>...</th>\n      <td>...</td>\n      <td>...</td>\n      <td>...</td>\n      <td>...</td>\n      <td>...</td>\n    </tr>\n    <tr>\n      <th>3981253</th>\n      <td>257</td>\n      <td>317.214866</td>\n      <td>2487</td>\n      <td>-2230</td>\n      <td>-2169.785134</td>\n    </tr>\n    <tr>\n      <th>3991984</th>\n      <td>561</td>\n      <td>617.029826</td>\n      <td>2900</td>\n      <td>-2339</td>\n      <td>-2282.970174</td>\n    </tr>\n    <tr>\n      <th>4019586</th>\n      <td>541</td>\n      <td>586.472797</td>\n      <td>4093</td>\n      <td>-3552</td>\n      <td>-3506.527203</td>\n    </tr>\n    <tr>\n      <th>4046754</th>\n      <td>564</td>\n      <td>615.140795</td>\n      <td>4954</td>\n      <td>-4390</td>\n      <td>-4338.859205</td>\n    </tr>\n    <tr>\n      <th>4059653</th>\n      <td>578</td>\n      <td>629.777294</td>\n      <td>3802</td>\n      <td>-3224</td>\n      <td>-3172.222706</td>\n    </tr>\n  </tbody>\n</table>\n<p>272 rows × 5 columns</p>\n</div>"
     },
     "execution_count": 106,
     "metadata": {},
     "output_type": "execute_result"
    }
   ],
   "source": [
    "d = {'eta': train_p1_geo_x['eta'], 'seldon': train_pred_geo, 'ata': train_p1_geo_y, 'eta - ata': train_p1_geo_x['eta'] - train_p1_geo_y, 'seldon - ata': train_pred_geo - train_p1_geo_y}\n",
    "df = pd.DataFrame(data=d)\n",
    "df[abs(df['eta - ata']) > 2200]"
   ],
   "metadata": {
    "collapsed": false,
    "pycharm": {
     "name": "#%%\n"
    }
   }
  },
  {
   "cell_type": "code",
   "execution_count": 110,
   "outputs": [
    {
     "data": {
      "text/plain": "accepted_driver_id                                                          780959\ncreated_at                                                     2022-08-02 17:55:13\npassenger_id                                                              33690008\nsource_lat                                                                35.74675\nsource_lng                                                               51.395435\ndestination_lat                                                           35.74765\ndestination_lng                                                          51.412968\neta                                                                            479\nprovider                                                             smapp-same-dc\nata                                                                           3529\nride_id                                                                 4718717919\ncity                                                                             1\ndriver_id                                                                   780959\na_t_a_result.arrival_a_t_a                                                     239\na_t_a_result.boarding_a_t_a                                                   67.0\na_t_a_result.ride_a_t_a                                                       3476\na_t_a_result.arrival_probe_result.probe.point.lat                        35.746738\na_t_a_result.arrival_probe_result.probe.point.lon                        51.395477\na_t_a_result.arrival_probe_result.probe.timestamp                     1659446987.0\na_t_a_result.arrival_probe_result.confidence                                   1.0\na_t_a_result.arrival_probe_result.h3_index                         8c2cf3006cdadff\na_t_a_result.arrival_probe_result.k_ring_level                                   0\na_t_a_result.boarding_probe_result.probe.point.lat                       35.746712\na_t_a_result.boarding_probe_result.probe.point.lon                       51.395443\na_t_a_result.boarding_probe_result.probe.timestamp                    1659447054.0\na_t_a_result.boarding_probe_result.confidence                                  1.0\na_t_a_result.boarding_probe_result.h3_index                        8c2cf3006cdadff\na_t_a_result.boarding_probe_result.k_ring_level                                  0\na_t_a_result.final_destination_probe_result.probe.point.lat              35.746658\na_t_a_result.final_destination_probe_result.probe.point.lon               51.39563\na_t_a_result.final_destination_probe_result.probe.timestamp             1659450530\na_t_a_result.final_destination_probe_result.confidence                    0.769231\na_t_a_result.final_destination_probe_result.h3_index               8c2cf3006cda5ff\na_t_a_result.final_destination_probe_result.k_ring_level                         1\na_t_a_result.destination_probe_result.probe.point.lat                    35.747742\na_t_a_result.destination_probe_result.probe.point.lon                    51.412891\na_t_a_result.destination_probe_result.probe.timestamp                 1659448026.0\na_t_a_result.destination_probe_result.confidence                          0.769231\na_t_a_result.destination_probe_result.h3_index                     8c2cf300665b9ff\na_t_a_result.destination_probe_result.k_ring_level                               1\na_t_a_result.extra_destination_probe_result.probe.point.lat                    0.0\na_t_a_result.extra_destination_probe_result.probe.point.lon                    0.0\na_t_a_result.extra_destination_probe_result.probe.timestamp                    0.0\na_t_a_result.extra_destination_probe_result.confidence                         0.0\na_t_a_result.extra_destination_probe_result.h3_index                           NaN\na_t_a_result.extra_destination_probe_result.k_ring_level                         0\npickup_a_d_d_result.distance                                                 0.484\npickup_a_d_d_result.confidence                                                 1.0\npickup_a_d_d_result.route_ratio                                                0.0\npickup_a_d_d_result.g_p_s_ratio                                           0.002874\nride_a_d_d_result.distance                                                  14.526\nride_a_d_d_result.confidence                                                   1.0\nride_a_d_d_result.route_ratio                                                  0.0\nride_a_d_d_result.g_p_s_ratio                                             0.988506\ntotal_a_d_d_confidence                                                         1.0\nin_ride_allotment                                                              0.0\ne_d_d                                                                          0.0\nclickhouse_time                                                2022-08-02 18:59:44\nhash                                                           8767344062732958884\nName: 57240, dtype: object"
     },
     "execution_count": 110,
     "metadata": {},
     "output_type": "execute_result"
    }
   ],
   "source": [
    "rides_with_id.loc[57240]"
   ],
   "metadata": {
    "collapsed": false,
    "pycharm": {
     "name": "#%%\n"
    }
   }
  },
  {
   "cell_type": "code",
   "execution_count": 111,
   "outputs": [
    {
     "data": {
      "text/plain": "3476.0"
     },
     "execution_count": 111,
     "metadata": {},
     "output_type": "execute_result"
    }
   ],
   "source": [
    "1659450530 - 1659447054.0"
   ],
   "metadata": {
    "collapsed": false,
    "pycharm": {
     "name": "#%%\n"
    }
   }
  },
  {
   "cell_type": "code",
   "execution_count": 100,
   "outputs": [
    {
     "data": {
      "text/plain": "602"
     },
     "execution_count": 100,
     "metadata": {},
     "output_type": "execute_result"
    }
   ],
   "source": [
    "train_p1_geo_y.loc[5]"
   ],
   "metadata": {
    "collapsed": false,
    "pycharm": {
     "name": "#%%\n"
    }
   }
  },
  {
   "cell_type": "code",
   "execution_count": 85,
   "outputs": [
    {
     "data": {
      "text/plain": "accepted_driver_id                                                          272800\ncreated_at                                                     2022-08-02 14:30:46\npassenger_id                                                              23145890\nsource_lat                                                               35.795856\nsource_lng                                                               51.451664\ndestination_lat                                                          35.810123\ndestination_lng                                                          51.459946\neta                                                                            506\nprovider                                                             smapp-same-dc\nata                                                                           1261\nride_id                                                                 4717549146\ncity                                                                             1\ndriver_id                                                                   272800\na_t_a_result.arrival_a_t_a                                                     222\na_t_a_result.boarding_a_t_a                                                    1.0\na_t_a_result.ride_a_t_a                                                       1871\na_t_a_result.arrival_probe_result.probe.point.lat                        35.795773\na_t_a_result.arrival_probe_result.probe.point.lon                        51.451824\na_t_a_result.arrival_probe_result.probe.timestamp                     1659434747.0\na_t_a_result.arrival_probe_result.confidence                                   1.0\na_t_a_result.arrival_probe_result.h3_index                         8c2cf300cd6bbff\na_t_a_result.arrival_probe_result.k_ring_level                                   0\na_t_a_result.boarding_probe_result.probe.point.lat                       35.795773\na_t_a_result.boarding_probe_result.probe.point.lon                       51.451824\na_t_a_result.boarding_probe_result.probe.timestamp                    1659434748.0\na_t_a_result.boarding_probe_result.confidence                                  1.0\na_t_a_result.boarding_probe_result.h3_index                        8c2cf300cd6bbff\na_t_a_result.boarding_probe_result.k_ring_level                                  0\na_t_a_result.final_destination_probe_result.probe.point.lat              35.809639\na_t_a_result.final_destination_probe_result.probe.point.lon              51.459507\na_t_a_result.final_destination_probe_result.probe.timestamp             1659436619\na_t_a_result.final_destination_probe_result.confidence                    0.350128\na_t_a_result.final_destination_probe_result.h3_index               8c2cf302b7a6bff\na_t_a_result.final_destination_probe_result.k_ring_level                         4\na_t_a_result.destination_probe_result.probe.point.lat                    35.809639\na_t_a_result.destination_probe_result.probe.point.lon                    51.459507\na_t_a_result.destination_probe_result.probe.timestamp                 1659436619.0\na_t_a_result.destination_probe_result.confidence                          0.350128\na_t_a_result.destination_probe_result.h3_index                     8c2cf302b7a6bff\na_t_a_result.destination_probe_result.k_ring_level                               4\na_t_a_result.extra_destination_probe_result.probe.point.lat                    0.0\na_t_a_result.extra_destination_probe_result.probe.point.lon                    0.0\na_t_a_result.extra_destination_probe_result.probe.timestamp                    0.0\na_t_a_result.extra_destination_probe_result.confidence                         0.0\na_t_a_result.extra_destination_probe_result.h3_index                           NaN\na_t_a_result.extra_destination_probe_result.k_ring_level                         0\npickup_a_d_d_result.distance                                                 1.558\npickup_a_d_d_result.confidence                                                 1.0\npickup_a_d_d_result.route_ratio                                                0.0\npickup_a_d_d_result.g_p_s_ratio                                           0.005319\nride_a_d_d_result.distance                                                   5.162\nride_a_d_d_result.confidence                                                   1.0\nride_a_d_d_result.route_ratio                                                  0.0\nride_a_d_d_result.g_p_s_ratio                                                  1.0\ntotal_a_d_d_confidence                                                         1.0\nin_ride_allotment                                                              0.0\ne_d_d                                                                          0.0\nclickhouse_time                                                2022-08-02 15:07:46\nhash                                                           6269035811203202785\nName: 1168, dtype: object"
     },
     "execution_count": 85,
     "metadata": {},
     "output_type": "execute_result"
    }
   ],
   "source": [
    "rides_with_id.loc[1168]"
   ],
   "metadata": {
    "collapsed": false,
    "pycharm": {
     "name": "#%%\n"
    }
   }
  },
  {
   "cell_type": "code",
   "execution_count": 160,
   "outputs": [],
   "source": [],
   "metadata": {
    "collapsed": false,
    "pycharm": {
     "name": "#%%\n"
    }
   }
  },
  {
   "cell_type": "code",
   "execution_count": 163,
   "outputs": [
    {
     "name": "stdout",
     "output_type": "stream",
     "text": [
      "ETA train MAE 1700.089602299952\n",
      "prediction train MAE 391.8828847826638\n",
      "ETA test MAE  1694.576439790576\n",
      "prediction test MAE 380.4741775617792\n",
      "ETA train MSE 3238072.5486344034\n",
      "prediction train MSE 341481.57597539\n",
      "ETA test MSE  3154440.089528796\n",
      "prediction test MSE 280567.6058180186\n",
      "ETA train explained_variance_score 0.07859980641326159\n",
      "prediction train explained_variance_score 0.09525520688694078\n",
      "ETA test explained_variance_score  0.09515334409077303\n",
      "prediction test explained_variance_score 0.10264539398016503\n",
      "ETA train median_absolute_error 1522.0\n",
      "prediction train median_absolute_error 320.54520771353054\n",
      "ETA test median_absolute_error  1525.0\n",
      "prediction test median_absolute_error 320.9049128872866\n",
      "ETA train r2_score -7.579172301554692\n",
      "prediction train r2_score 0.09525520688694078\n",
      "ETA test r2_score  -9.091132059069732\n",
      "prediction test r2_score 0.10245727246334457\n",
      "ETA train MAPE 0.7916681339449584\n",
      "prediction train MAPE 0.17171132174216008\n",
      "ETA test MAPE  0.7898949720861153\n",
      "prediction test MAPE 0.16996273925933755\n"
     ]
    }
   ],
   "source": [
    "print(\"ETA train MAE\", mean_absolute_error(train_p1_geo_y, train_p1_geo_x['eta']))\n",
    "print(\"prediction train MAE\", mean_absolute_error(train_p1_geo_y, train_pred_geo))\n",
    "\n",
    "print(\"ETA test MAE \", mean_absolute_error(test_p1_geo_y, test_p1_geo_x['eta']))\n",
    "print(\"prediction test MAE\", mean_absolute_error(test_p1_geo_y, test_pred_geo))\n",
    "\n",
    "\n",
    "print(\"ETA train MSE\", mean_squared_error(train_p1_geo_y, train_p1_geo_x['eta']))\n",
    "print(\"prediction train MSE\", mean_squared_error(train_p1_geo_y, train_pred_geo))\n",
    "\n",
    "print(\"ETA test MSE \", mean_squared_error(test_p1_geo_y, test_p1_geo_x['eta']))\n",
    "print(\"prediction test MSE\", mean_squared_error(test_p1_geo_y, test_pred_geo))\n",
    "\n",
    "\n",
    "print(\"ETA train explained_variance_score\", explained_variance_score(train_p1_geo_y, train_p1_geo_x['eta']))\n",
    "print(\"prediction train explained_variance_score\", explained_variance_score(train_p1_geo_y, train_pred_geo))\n",
    "\n",
    "print(\"ETA test explained_variance_score \", explained_variance_score(test_p1_geo_y, test_p1_geo_x['eta']))\n",
    "print(\"prediction test explained_variance_score\", explained_variance_score(test_p1_geo_y, test_pred_geo))\n",
    "\n",
    "\n",
    "print(\"ETA train median_absolute_error\", median_absolute_error(train_p1_geo_y, train_p1_geo_x['eta']))\n",
    "print(\"prediction train median_absolute_error\", median_absolute_error(train_p1_geo_y, train_pred_geo))\n",
    "\n",
    "print(\"ETA test median_absolute_error \", median_absolute_error(test_p1_geo_y, test_p1_geo_x['eta']))\n",
    "print(\"prediction test median_absolute_error\", median_absolute_error(test_p1_geo_y, test_pred_geo))\n",
    "\n",
    "\n",
    "print(\"ETA train r2_score\", r2_score(train_p1_geo_y, train_p1_geo_x['eta']))\n",
    "print(\"prediction train r2_score\", r2_score(train_p1_geo_y, train_pred_geo))\n",
    "\n",
    "print(\"ETA test r2_score \", r2_score(test_p1_geo_y, test_p1_geo_x['eta']))\n",
    "print(\"prediction test r2_score\", r2_score(test_p1_geo_y, test_pred_geo))\n",
    "\n",
    "\n",
    "print(\"ETA train MAPE\", mean_absolute_percentage_error(train_p1_geo_y, train_p1_geo_x['eta']))\n",
    "print(\"prediction train MAPE\", mean_absolute_percentage_error(train_p1_geo_y, train_pred_geo))\n",
    "\n",
    "print(\"ETA test MAPE \", mean_absolute_percentage_error(test_p1_geo_y, test_p1_geo_x['eta']))\n",
    "print(\"prediction test MAPE\", mean_absolute_percentage_error(test_p1_geo_y, test_pred_geo))"
   ],
   "metadata": {
    "collapsed": false,
    "pycharm": {
     "name": "#%%\n"
    }
   }
  },
  {
   "cell_type": "code",
   "execution_count": 46,
   "outputs": [
    {
     "name": "stdout",
     "output_type": "stream",
     "text": [
      "[ 0.95267888  0.03992745  0.01639903  0.14161629  0.07104881 -0.00869313\n",
      " -0.01985985]\n",
      "0.027375837176890544\n"
     ]
    }
   ],
   "source": [
    "train_p4_geo_x_normalized = (train_p4_geo_x - train_p4_geo_x.min()) / (train_p4_geo_x.max() - train_p4_geo_x.min())\n",
    "train_p4_geo_y_normalized = (train_p4_geo_y - train_p4_geo_y.min()) / (train_p4_geo_y.max() - train_p4_geo_y.min())\n",
    "# test_p4_geo_x_normalized = (test_p4_geo_x - train_p4_geo_x.min()) / (train_p4_geo_x.max() - train_p4_geo_x.min())\n",
    "# test_p4_geo_y_normalized = (test_p4_geo_y - train_p4_geo_y.min()) / (train_p4_geo_y.max() - train_p4_geo_y.min())\n",
    "\n",
    "reg_p4_geo_normalized = LinearRegression().fit(train_p4_geo_x_normalized, train_p4_geo_y_normalized)\n",
    "print(reg_p4_geo_normalized.coef_)\n",
    "print(reg_p4_geo_normalized.intercept_)"
   ],
   "metadata": {
    "collapsed": false,
    "pycharm": {
     "name": "#%%\n"
    }
   }
  },
  {
   "cell_type": "code",
   "execution_count": 39,
   "outputs": [
    {
     "name": "stdout",
     "output_type": "stream",
     "text": [
      "ETA train MAE 558.6899742605314\n",
      "prediction train MAE 468.32320172854264\n",
      "ETA test MAE  609.4802658229795\n",
      "prediction test MAE 532.3905549659162\n",
      "ETA train MSE 724259.5492995734\n",
      "prediction train MSE 474510.4137146755\n",
      "ETA test MSE  1005379.4640005743\n",
      "prediction test MSE 706504.3378821977\n",
      "ETA train explained_variance_score 0.5486781823287357\n",
      "prediction train explained_variance_score 0.5735345690702949\n",
      "ETA test explained_variance_score  0.4753275329161858\n",
      "prediction test explained_variance_score 0.5084530615897137\n",
      "ETA train median_absolute_error 353.0\n",
      "prediction train median_absolute_error 347.19482421875\n",
      "ETA test median_absolute_error  352.0\n",
      "prediction test median_absolute_error 366.8814697265625\n",
      "ETA train r2_score 0.3490729563150865\n",
      "prediction train r2_score 0.5735345690702917\n",
      "ETA test r2_score  0.2984759208241079\n",
      "prediction test r2_score 0.5070221515223838\n",
      "ETA train MAPE 0.16697790395524195\n",
      "prediction train MAPE 0.1610154609737745\n",
      "ETA test MAPE  0.1730999583791752\n",
      "prediction test MAPE 0.17448530280936583\n"
     ]
    }
   ],
   "source": [
    "print(\"ETA train MAE\", mean_absolute_error(train_p4_h3_y, train_p4_h3_x[:, 17]))\n",
    "print(\"prediction train MAE\", mean_absolute_error(train_p4_h3_y, train_pred_h3))\n",
    "\n",
    "print(\"ETA test MAE \", mean_absolute_error(test_p4_h3_y, test_p4_h3_x[:, 17]))\n",
    "print(\"prediction test MAE\", mean_absolute_error(test_p4_h3_y, test_pred_h3))\n",
    "\n",
    "\n",
    "print(\"ETA train MSE\", mean_squared_error(train_p4_h3_y, train_p4_h3_x[:, 17]))\n",
    "print(\"prediction train MSE\", mean_squared_error(train_p4_h3_y, train_pred_h3))\n",
    "\n",
    "print(\"ETA test MSE \", mean_squared_error(test_p4_h3_y, test_p4_h3_x[:, 17]))\n",
    "print(\"prediction test MSE\", mean_squared_error(test_p4_h3_y, test_pred_h3))\n",
    "\n",
    "\n",
    "print(\"ETA train explained_variance_score\", explained_variance_score(train_p4_h3_y, train_p4_h3_x[:, 17]))\n",
    "print(\"prediction train explained_variance_score\", explained_variance_score(train_p4_h3_y, train_pred_h3))\n",
    "\n",
    "print(\"ETA test explained_variance_score \", explained_variance_score(test_p4_h3_y, test_p4_h3_x[:, 17]))\n",
    "print(\"prediction test explained_variance_score\", explained_variance_score(test_p4_h3_y, test_pred_h3))\n",
    "\n",
    "\n",
    "print(\"ETA train median_absolute_error\", median_absolute_error(train_p4_h3_y, train_p4_h3_x[:, 17]))\n",
    "print(\"prediction train median_absolute_error\", median_absolute_error(train_p4_h3_y, train_pred_h3))\n",
    "\n",
    "print(\"ETA test median_absolute_error \", median_absolute_error(test_p4_h3_y, test_p4_h3_x[:, 17]))\n",
    "print(\"prediction test median_absolute_error\", median_absolute_error(test_p4_h3_y, test_pred_h3))\n",
    "\n",
    "\n",
    "print(\"ETA train r2_score\", r2_score(train_p4_h3_y, train_p4_h3_x[:, 17]))\n",
    "print(\"prediction train r2_score\", r2_score(train_p4_h3_y, train_pred_h3))\n",
    "\n",
    "print(\"ETA test r2_score \", r2_score(test_p4_h3_y, test_p4_h3_x[:, 17]))\n",
    "print(\"prediction test r2_score\", r2_score(test_p4_h3_y, test_pred_h3))\n",
    "\n",
    "\n",
    "print(\"ETA train MAPE\", mean_absolute_percentage_error(train_p4_h3_y, train_p4_h3_x[:, 17]))\n",
    "print(\"prediction train MAPE\", mean_absolute_percentage_error(train_p4_h3_y, train_pred_h3))\n",
    "\n",
    "print(\"ETA test MAPE \", mean_absolute_percentage_error(test_p4_h3_y, test_p4_h3_x[:, 17]))\n",
    "print(\"prediction test MAPE\", mean_absolute_percentage_error(test_p4_h3_y, test_pred_h3))"
   ],
   "metadata": {
    "collapsed": false,
    "pycharm": {
     "name": "#%%\n"
    }
   }
  },
  {
   "cell_type": "code",
   "execution_count": 47,
   "outputs": [
    {
     "name": "stdout",
     "output_type": "stream",
     "text": [
      "[ 3.38839243e+11  3.38839243e+11  3.38839244e+11  3.38839243e+11\n",
      "  3.38839243e+11  3.38839243e+11  3.38839243e+11 -1.81469415e+11\n",
      " -1.81469415e+11 -1.81469415e+11 -1.81469415e+11 -1.81469415e+11\n",
      " -1.81469415e+11 -1.81469415e+11 -1.81469415e+11 -1.81469415e+11\n",
      " -1.81469415e+11  1.10072538e+00 -4.58049363e-01 -1.50679642e+02]\n",
      "-17055362.3876918\n"
     ]
    }
   ],
   "source": [
    "train_p4_h3_x_normalized = (train_p4_h3_x - train_p4_h3_x.min()) / (train_p4_h3_x.max() - train_p4_h3_x.min())\n",
    "train_p4_h3_y_normalized = (train_p4_h3_y - train_p4_h3_y.min()) / (train_p4_h3_y.max() - train_p4_h3_y.min())\n",
    "# test_p4_h3_x_normalized = (test_p4_h3_x - train_p4_h3_x.min()) / (train_p4_h3_x.max() - train_p4_h3_x.min())\n",
    "# test_p4_h3_y_normalized = (test_p4_h3_y - train_p4_h3_y.min()) / (train_p4_h3_y.max() - train_p4_h3_y.min())\n",
    "\n",
    "reg_p4_h3_normalized = LinearRegression().fit(train_p4_h3_x_normalized, train_p4_h3_y_normalized)\n",
    "print(reg_p4_h3_normalized.coef_)\n",
    "print(reg_p4_h3_normalized.intercept_)"
   ],
   "metadata": {
    "collapsed": false,
    "pycharm": {
     "name": "#%%\n"
    }
   }
  },
  {
   "cell_type": "code",
   "execution_count": null,
   "outputs": [],
   "source": [
    "%set_env AWS_ACCESS_KEY_ID=SokXIEc1g9vNqCJt4CSObyk6vumoOOPQ\n",
    "%set_env AWS_SECRET_ACCESS_KEY=QNyTpGhFjUTYSP9VKmfhpUizwKr0t8gk\n",
    "%set_env MLFLOW_S3_ENDPOINT_URL=https://minio-clustered-smapp-storage.apps.private.teh-1.snappcloud.io\n",
    "\n",
    "# create experiment\n",
    "%set_env MLFLOW_TRACKING_URI=https://mlflow.apps.private.okd4.teh-1.snappcloud.io/\n",
    "# mlflow experiments create --experiment-name elahe\n",
    "\n",
    "# run script under experiment\n",
    "%set_env MLFLOW_EXPERIMENT_NAME=elahe\n",
    "# cd save/\n",
    "# python test.py"
   ],
   "metadata": {
    "collapsed": false,
    "pycharm": {
     "name": "#%%\n"
    }
   }
  },
  {
   "cell_type": "code",
   "execution_count": null,
   "outputs": [],
   "source": [
    "! echo $AWS_ACCESS_KEY_ID\n",
    "! echo $AWS_SECRET_ACCESS_KEY\n",
    "! echo $MLFLOW_S3_ENDPOINT_URL\n",
    "! echo $MLFLOW_TRACKING_URI\n",
    "! echo $MLFLOW_EXPERIMENT_NAME"
   ],
   "metadata": {
    "collapsed": false,
    "pycharm": {
     "name": "#%%\n"
    }
   }
  },
  {
   "cell_type": "code",
   "execution_count": null,
   "outputs": [],
   "source": [
    "# with mlflow.start_run(run_name=\"regression\") as run:\n",
    "#     # Log the sklearn model and register as version 1\n",
    "#     mlflow.sklearn.log_model(\n",
    "#         sk_model=reg_p4,\n",
    "#         artifact_path=\"regression\",\n",
    "#         registered_model_name=\"reg-model\"\n",
    "#     )"
   ],
   "metadata": {
    "collapsed": false,
    "pycharm": {
     "name": "#%%\n"
    }
   }
  },
  {
   "cell_type": "code",
   "execution_count": null,
   "outputs": [],
   "source": [
    "# with mlflow.start_run(run_name=\"YOUR_RUN_NAME\") as run:\n",
    "#     params = {\"n_estimators\": 5, \"random_state\": 42}\n",
    "#     sk_learn_rfr = RandomForestRegressor(**params)\n",
    "#\n",
    "#     # Log parameters and metrics using the MLflow APIs\n",
    "#     mlflow.log_params(params)\n",
    "#     mlflow.log_param(\"param_1\", randint(0, 100))\n",
    "#     mlflow.log_metrics({\"metric_1\": random(), \"metric_2\": random() + 1})\n",
    "#\n",
    "#     # Log the sklearn model and register as version 1\n",
    "#     mlflow.sklearn.log_model(\n",
    "#         sk_model=sk_learn_rfr,\n",
    "#         artifact_path=\"sklearn-model\",\n",
    "#         registered_model_name=\"sk-learn-random-forest-reg-model\"\n",
    "#     )"
   ],
   "metadata": {
    "collapsed": false,
    "pycharm": {
     "name": "#%%\n"
    }
   }
  }
 ],
 "metadata": {
  "kernelspec": {
   "display_name": "Python 3",
   "language": "python",
   "name": "python3"
  },
  "language_info": {
   "codemirror_mode": {
    "name": "ipython",
    "version": 2
   },
   "file_extension": ".py",
   "mimetype": "text/x-python",
   "name": "python",
   "nbconvert_exporter": "python",
   "pygments_lexer": "ipython2",
   "version": "2.7.6"
  }
 },
 "nbformat": 4,
 "nbformat_minor": 0
}