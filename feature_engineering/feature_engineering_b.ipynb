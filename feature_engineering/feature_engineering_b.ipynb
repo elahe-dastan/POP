{
 "cells": [
  {
   "cell_type": "code",
   "execution_count": 1,
   "metadata": {
    "collapsed": true,
    "pycharm": {
     "name": "#%%\n"
    }
   },
   "outputs": [],
   "source": [
    "import pandas as pd\n",
    "import numpy as np\n",
    "from sklearn.linear_model import LinearRegression\n",
    "from sklearn.metrics import mean_absolute_error, mean_squared_error, explained_variance_score, median_absolute_error, r2_score, mean_absolute_percentage_error\n",
    "from sklearn.model_selection import train_test_split\n",
    "from scipy.stats import *\n",
    "import h3\n",
    "from sklearn.preprocessing import OneHotEncoder\n",
    "from sklearn.compose import ColumnTransformer"
   ]
  },
  {
   "cell_type": "code",
   "execution_count": 2,
   "outputs": [
    {
     "data": {
      "text/plain": "       accepted_driver_id  passenger_id    source_lat    source_lng  \\\ncount        2.426000e+04  2.426000e+04  24260.000000  24260.000000   \nmean         2.010495e+06  2.376807e+07     35.693980     51.401119   \nstd          1.440427e+06  1.800928e+07      0.096191      0.143753   \nmin          1.010000e+02  1.375000e+03     35.249897     50.903470   \n25%          5.573940e+05  5.043194e+06     35.663319     51.331473   \n50%          1.992264e+06  2.400925e+07     35.723982     51.404408   \n75%          3.323714e+06  3.831664e+07     35.755246     51.465694   \nmax          4.346548e+06  5.750996e+07     35.839420     52.794230   \n\n       destination_lat  destination_lng           eta           ata  \\\ncount     24260.000000     24260.000000  24260.000000  24260.000000   \nmean         35.694668        51.397562   1003.226051   1236.469992   \nstd           0.095899         0.152071    725.298062   1034.221594   \nmin          34.636840        50.016300     24.000000    120.000000   \n25%          35.661003        51.330028    464.000000    504.000000   \n50%          35.723633        51.401817    799.000000    905.000000   \n75%          35.754699        51.470322   1347.000000   1650.000000   \nmax          36.259760        52.792877   7794.000000   9088.000000   \n\n            ride_id     city  \ncount  2.426000e+04  24260.0  \nmean   4.956898e+09      1.0  \nstd    3.405802e+05      0.0  \nmin    4.956287e+09      1.0  \n25%    4.956594e+09      1.0  \n50%    4.956982e+09      1.0  \n75%    4.957167e+09      1.0  \nmax    4.957626e+09      1.0  ",
      "text/html": "<div>\n<style scoped>\n    .dataframe tbody tr th:only-of-type {\n        vertical-align: middle;\n    }\n\n    .dataframe tbody tr th {\n        vertical-align: top;\n    }\n\n    .dataframe thead th {\n        text-align: right;\n    }\n</style>\n<table border=\"1\" class=\"dataframe\">\n  <thead>\n    <tr style=\"text-align: right;\">\n      <th></th>\n      <th>accepted_driver_id</th>\n      <th>passenger_id</th>\n      <th>source_lat</th>\n      <th>source_lng</th>\n      <th>destination_lat</th>\n      <th>destination_lng</th>\n      <th>eta</th>\n      <th>ata</th>\n      <th>ride_id</th>\n      <th>city</th>\n    </tr>\n  </thead>\n  <tbody>\n    <tr>\n      <th>count</th>\n      <td>2.426000e+04</td>\n      <td>2.426000e+04</td>\n      <td>24260.000000</td>\n      <td>24260.000000</td>\n      <td>24260.000000</td>\n      <td>24260.000000</td>\n      <td>24260.000000</td>\n      <td>24260.000000</td>\n      <td>2.426000e+04</td>\n      <td>24260.0</td>\n    </tr>\n    <tr>\n      <th>mean</th>\n      <td>2.010495e+06</td>\n      <td>2.376807e+07</td>\n      <td>35.693980</td>\n      <td>51.401119</td>\n      <td>35.694668</td>\n      <td>51.397562</td>\n      <td>1003.226051</td>\n      <td>1236.469992</td>\n      <td>4.956898e+09</td>\n      <td>1.0</td>\n    </tr>\n    <tr>\n      <th>std</th>\n      <td>1.440427e+06</td>\n      <td>1.800928e+07</td>\n      <td>0.096191</td>\n      <td>0.143753</td>\n      <td>0.095899</td>\n      <td>0.152071</td>\n      <td>725.298062</td>\n      <td>1034.221594</td>\n      <td>3.405802e+05</td>\n      <td>0.0</td>\n    </tr>\n    <tr>\n      <th>min</th>\n      <td>1.010000e+02</td>\n      <td>1.375000e+03</td>\n      <td>35.249897</td>\n      <td>50.903470</td>\n      <td>34.636840</td>\n      <td>50.016300</td>\n      <td>24.000000</td>\n      <td>120.000000</td>\n      <td>4.956287e+09</td>\n      <td>1.0</td>\n    </tr>\n    <tr>\n      <th>25%</th>\n      <td>5.573940e+05</td>\n      <td>5.043194e+06</td>\n      <td>35.663319</td>\n      <td>51.331473</td>\n      <td>35.661003</td>\n      <td>51.330028</td>\n      <td>464.000000</td>\n      <td>504.000000</td>\n      <td>4.956594e+09</td>\n      <td>1.0</td>\n    </tr>\n    <tr>\n      <th>50%</th>\n      <td>1.992264e+06</td>\n      <td>2.400925e+07</td>\n      <td>35.723982</td>\n      <td>51.404408</td>\n      <td>35.723633</td>\n      <td>51.401817</td>\n      <td>799.000000</td>\n      <td>905.000000</td>\n      <td>4.956982e+09</td>\n      <td>1.0</td>\n    </tr>\n    <tr>\n      <th>75%</th>\n      <td>3.323714e+06</td>\n      <td>3.831664e+07</td>\n      <td>35.755246</td>\n      <td>51.465694</td>\n      <td>35.754699</td>\n      <td>51.470322</td>\n      <td>1347.000000</td>\n      <td>1650.000000</td>\n      <td>4.957167e+09</td>\n      <td>1.0</td>\n    </tr>\n    <tr>\n      <th>max</th>\n      <td>4.346548e+06</td>\n      <td>5.750996e+07</td>\n      <td>35.839420</td>\n      <td>52.794230</td>\n      <td>36.259760</td>\n      <td>52.792877</td>\n      <td>7794.000000</td>\n      <td>9088.000000</td>\n      <td>4.957626e+09</td>\n      <td>1.0</td>\n    </tr>\n  </tbody>\n</table>\n</div>"
     },
     "execution_count": 2,
     "metadata": {},
     "output_type": "execute_result"
    }
   ],
   "source": [
    "rides = pd.read_csv(\"../rides_2022-09-14_17to19.csv\")\n",
    "rides.rename(columns={'id': 'ride_id'}, inplace=True)\n",
    "rides.describe()"
   ],
   "metadata": {
    "collapsed": false,
    "pycharm": {
     "name": "#%%\n"
    }
   }
  },
  {
   "cell_type": "code",
   "execution_count": 3,
   "outputs": [
    {
     "data": {
      "text/plain": "            ride_id     driver_id  a_t_a_result.arrival_a_t_a  \\\ncount  6.098400e+05  6.098400e+05               609840.000000   \nmean   4.956710e+09  2.384851e+06                  186.565196   \nstd    4.912347e+05  1.344603e+06                  146.839880   \nmin    4.844714e+09  1.000000e+00                    0.000000   \n25%    4.956423e+09  1.207348e+06                   91.000000   \n50%    4.956712e+09  2.445052e+06                  170.000000   \n75%    4.957015e+09  3.622817e+06                  260.000000   \nmax    4.957470e+09  4.346548e+06                 7954.000000   \n\n       a_t_a_result.boarding_a_t_a  a_t_a_result.ride_a_t_a  \\\ncount                 6.098400e+05             6.098400e+05   \nmean                  1.932879e+16             6.883807e+07   \nstd                   5.968084e+17             2.094513e+09   \nmin                   0.000000e+00             1.000000e+00   \n25%                   8.000000e+00             4.080000e+02   \n50%                   3.600000e+01             6.960000e+02   \n75%                   1.240000e+02             1.193000e+03   \nmax                   1.844674e+19             6.379876e+10   \n\n       a_t_a_result.arrival_probe_result.probe.point.lat  \\\ncount                                      609840.000000   \nmean                                           34.591887   \nstd                                             2.550840   \nmin                                            25.277332   \n25%                                            32.688224   \n50%                                            35.706343   \n75%                                            36.262882   \nmax                                            39.661167   \n\n       a_t_a_result.arrival_probe_result.probe.point.lon  \\\ncount                                      609840.000000   \nmean                                           51.914119   \nstd                                             3.542795   \nmin                                            44.829102   \n25%                                            50.834740   \n50%                                            51.409451   \n75%                                            52.525059   \nmax                                            61.168961   \n\n       a_t_a_result.arrival_probe_result.probe.timestamp  \\\ncount                                       6.098400e+05   \nmean                                        2.359385e+15   \nstd                                         2.086083e+17   \nmin                                         1.662865e+09   \n25%                                         1.663160e+09   \n50%                                         1.663162e+09   \n75%                                         1.663165e+09   \nmax                                         1.844674e+19   \n\n       a_t_a_result.arrival_probe_result.confidence  \\\ncount                                 609840.000000   \nmean                                       0.732979   \nstd                                        0.342170   \nmin                                        0.000000   \n25%                                        0.591716   \n50%                                        0.769231   \n75%                                        1.000000   \nmax                                        1.000000   \n\n       a_t_a_result.arrival_probe_result.k_ring_level  ...  \\\ncount                                   609840.000000  ...   \nmean                                         1.162698  ...   \nstd                                          1.441072  ...   \nmin                                          0.000000  ...   \n25%                                          0.000000  ...   \n50%                                          1.000000  ...   \n75%                                          2.000000  ...   \nmax                                          4.000000  ...   \n\n       pickup_a_d_d_result.route_ratio  pickup_a_d_d_result.g_p_s_ratio  \\\ncount                    609840.000000                    609840.000000   \nmean                          0.000335                         0.015180   \nstd                           0.016178                         0.017419   \nmin                           0.000000                         0.000000   \n25%                           0.000000                         0.005618   \n50%                           0.000000                         0.011765   \n75%                           0.000000                         0.020833   \nmax                           1.000000                         1.000000   \n\n       ride_a_d_d_result.distance  ride_a_d_d_result.confidence  \\\ncount               609840.000000                 609840.000000   \nmean                    13.615310                      0.856565   \nstd                     17.575679                      0.189884   \nmin                      0.000000                      0.000000   \n25%                      4.604000                      0.745633   \n50%                      8.639000                      0.958135   \n75%                     16.389000                      1.000000   \nmax                   1888.735107                      1.000000   \n\n       ride_a_d_d_result.route_ratio  ride_a_d_d_result.g_p_s_ratio  \\\ncount                  609840.000000                  609840.000000   \nmean                        0.000126                       0.706963   \nstd                         0.005198                       0.346683   \nmin                         0.000000                       0.000000   \n25%                         0.000000                       0.474879   \n50%                         0.000000                       0.886792   \n75%                         0.000000                       0.978723   \nmax                         1.000000                       1.000000   \n\n       total_a_d_d_confidence  in_ride_allotment          e_d_d          hash  \ncount           609840.000000      609840.000000  609840.000000  6.098400e+05  \nmean                 0.867031           0.044672       8.404534  9.236962e+18  \nstd                  0.179733           0.323489      12.480039  5.326899e+18  \nmin                  0.000000           0.000000       0.000000  2.465604e+13  \n25%                  0.788933           0.000000       2.787000  4.629244e+18  \n50%                  0.957863           0.000000       5.191000  9.238150e+18  \n75%                  1.000000           0.000000       9.871000  1.385267e+19  \nmax                  1.000000          34.022999    1741.516968  1.844671e+19  \n\n[8 rows x 42 columns]",
      "text/html": "<div>\n<style scoped>\n    .dataframe tbody tr th:only-of-type {\n        vertical-align: middle;\n    }\n\n    .dataframe tbody tr th {\n        vertical-align: top;\n    }\n\n    .dataframe thead th {\n        text-align: right;\n    }\n</style>\n<table border=\"1\" class=\"dataframe\">\n  <thead>\n    <tr style=\"text-align: right;\">\n      <th></th>\n      <th>ride_id</th>\n      <th>driver_id</th>\n      <th>a_t_a_result.arrival_a_t_a</th>\n      <th>a_t_a_result.boarding_a_t_a</th>\n      <th>a_t_a_result.ride_a_t_a</th>\n      <th>a_t_a_result.arrival_probe_result.probe.point.lat</th>\n      <th>a_t_a_result.arrival_probe_result.probe.point.lon</th>\n      <th>a_t_a_result.arrival_probe_result.probe.timestamp</th>\n      <th>a_t_a_result.arrival_probe_result.confidence</th>\n      <th>a_t_a_result.arrival_probe_result.k_ring_level</th>\n      <th>...</th>\n      <th>pickup_a_d_d_result.route_ratio</th>\n      <th>pickup_a_d_d_result.g_p_s_ratio</th>\n      <th>ride_a_d_d_result.distance</th>\n      <th>ride_a_d_d_result.confidence</th>\n      <th>ride_a_d_d_result.route_ratio</th>\n      <th>ride_a_d_d_result.g_p_s_ratio</th>\n      <th>total_a_d_d_confidence</th>\n      <th>in_ride_allotment</th>\n      <th>e_d_d</th>\n      <th>hash</th>\n    </tr>\n  </thead>\n  <tbody>\n    <tr>\n      <th>count</th>\n      <td>6.098400e+05</td>\n      <td>6.098400e+05</td>\n      <td>609840.000000</td>\n      <td>6.098400e+05</td>\n      <td>6.098400e+05</td>\n      <td>609840.000000</td>\n      <td>609840.000000</td>\n      <td>6.098400e+05</td>\n      <td>609840.000000</td>\n      <td>609840.000000</td>\n      <td>...</td>\n      <td>609840.000000</td>\n      <td>609840.000000</td>\n      <td>609840.000000</td>\n      <td>609840.000000</td>\n      <td>609840.000000</td>\n      <td>609840.000000</td>\n      <td>609840.000000</td>\n      <td>609840.000000</td>\n      <td>609840.000000</td>\n      <td>6.098400e+05</td>\n    </tr>\n    <tr>\n      <th>mean</th>\n      <td>4.956710e+09</td>\n      <td>2.384851e+06</td>\n      <td>186.565196</td>\n      <td>1.932879e+16</td>\n      <td>6.883807e+07</td>\n      <td>34.591887</td>\n      <td>51.914119</td>\n      <td>2.359385e+15</td>\n      <td>0.732979</td>\n      <td>1.162698</td>\n      <td>...</td>\n      <td>0.000335</td>\n      <td>0.015180</td>\n      <td>13.615310</td>\n      <td>0.856565</td>\n      <td>0.000126</td>\n      <td>0.706963</td>\n      <td>0.867031</td>\n      <td>0.044672</td>\n      <td>8.404534</td>\n      <td>9.236962e+18</td>\n    </tr>\n    <tr>\n      <th>std</th>\n      <td>4.912347e+05</td>\n      <td>1.344603e+06</td>\n      <td>146.839880</td>\n      <td>5.968084e+17</td>\n      <td>2.094513e+09</td>\n      <td>2.550840</td>\n      <td>3.542795</td>\n      <td>2.086083e+17</td>\n      <td>0.342170</td>\n      <td>1.441072</td>\n      <td>...</td>\n      <td>0.016178</td>\n      <td>0.017419</td>\n      <td>17.575679</td>\n      <td>0.189884</td>\n      <td>0.005198</td>\n      <td>0.346683</td>\n      <td>0.179733</td>\n      <td>0.323489</td>\n      <td>12.480039</td>\n      <td>5.326899e+18</td>\n    </tr>\n    <tr>\n      <th>min</th>\n      <td>4.844714e+09</td>\n      <td>1.000000e+00</td>\n      <td>0.000000</td>\n      <td>0.000000e+00</td>\n      <td>1.000000e+00</td>\n      <td>25.277332</td>\n      <td>44.829102</td>\n      <td>1.662865e+09</td>\n      <td>0.000000</td>\n      <td>0.000000</td>\n      <td>...</td>\n      <td>0.000000</td>\n      <td>0.000000</td>\n      <td>0.000000</td>\n      <td>0.000000</td>\n      <td>0.000000</td>\n      <td>0.000000</td>\n      <td>0.000000</td>\n      <td>0.000000</td>\n      <td>0.000000</td>\n      <td>2.465604e+13</td>\n    </tr>\n    <tr>\n      <th>25%</th>\n      <td>4.956423e+09</td>\n      <td>1.207348e+06</td>\n      <td>91.000000</td>\n      <td>8.000000e+00</td>\n      <td>4.080000e+02</td>\n      <td>32.688224</td>\n      <td>50.834740</td>\n      <td>1.663160e+09</td>\n      <td>0.591716</td>\n      <td>0.000000</td>\n      <td>...</td>\n      <td>0.000000</td>\n      <td>0.005618</td>\n      <td>4.604000</td>\n      <td>0.745633</td>\n      <td>0.000000</td>\n      <td>0.474879</td>\n      <td>0.788933</td>\n      <td>0.000000</td>\n      <td>2.787000</td>\n      <td>4.629244e+18</td>\n    </tr>\n    <tr>\n      <th>50%</th>\n      <td>4.956712e+09</td>\n      <td>2.445052e+06</td>\n      <td>170.000000</td>\n      <td>3.600000e+01</td>\n      <td>6.960000e+02</td>\n      <td>35.706343</td>\n      <td>51.409451</td>\n      <td>1.663162e+09</td>\n      <td>0.769231</td>\n      <td>1.000000</td>\n      <td>...</td>\n      <td>0.000000</td>\n      <td>0.011765</td>\n      <td>8.639000</td>\n      <td>0.958135</td>\n      <td>0.000000</td>\n      <td>0.886792</td>\n      <td>0.957863</td>\n      <td>0.000000</td>\n      <td>5.191000</td>\n      <td>9.238150e+18</td>\n    </tr>\n    <tr>\n      <th>75%</th>\n      <td>4.957015e+09</td>\n      <td>3.622817e+06</td>\n      <td>260.000000</td>\n      <td>1.240000e+02</td>\n      <td>1.193000e+03</td>\n      <td>36.262882</td>\n      <td>52.525059</td>\n      <td>1.663165e+09</td>\n      <td>1.000000</td>\n      <td>2.000000</td>\n      <td>...</td>\n      <td>0.000000</td>\n      <td>0.020833</td>\n      <td>16.389000</td>\n      <td>1.000000</td>\n      <td>0.000000</td>\n      <td>0.978723</td>\n      <td>1.000000</td>\n      <td>0.000000</td>\n      <td>9.871000</td>\n      <td>1.385267e+19</td>\n    </tr>\n    <tr>\n      <th>max</th>\n      <td>4.957470e+09</td>\n      <td>4.346548e+06</td>\n      <td>7954.000000</td>\n      <td>1.844674e+19</td>\n      <td>6.379876e+10</td>\n      <td>39.661167</td>\n      <td>61.168961</td>\n      <td>1.844674e+19</td>\n      <td>1.000000</td>\n      <td>4.000000</td>\n      <td>...</td>\n      <td>1.000000</td>\n      <td>1.000000</td>\n      <td>1888.735107</td>\n      <td>1.000000</td>\n      <td>1.000000</td>\n      <td>1.000000</td>\n      <td>1.000000</td>\n      <td>34.022999</td>\n      <td>1741.516968</td>\n      <td>1.844671e+19</td>\n    </tr>\n  </tbody>\n</table>\n<p>8 rows × 42 columns</p>\n</div>"
     },
     "execution_count": 3,
     "metadata": {},
     "output_type": "execute_result"
    }
   ],
   "source": [
    "khatkesh_columns = ['ride_id','driver_id','a_t_a_result.arrival_a_t_a','a_t_a_result.boarding_a_t_a','a_t_a_result.ride_a_t_a','a_t_a_result.arrival_probe_result.probe.point.lat','a_t_a_result.arrival_probe_result.probe.point.lon','a_t_a_result.arrival_probe_result.probe.timestamp','a_t_a_result.arrival_probe_result.confidence','a_t_a_result.arrival_probe_result.h3_index', 'a_t_a_result.arrival_probe_result.k_ring_level','a_t_a_result.boarding_probe_result.probe.point.lat','a_t_a_result.boarding_probe_result.probe.point.lon','a_t_a_result.boarding_probe_result.probe.timestamp','a_t_a_result.boarding_probe_result.confidence','a_t_a_result.boarding_probe_result.h3_index','a_t_a_result.boarding_probe_result.k_ring_level','a_t_a_result.final_destination_probe_result.probe.point.lat','a_t_a_result.final_destination_probe_result.probe.point.lon','a_t_a_result.final_destination_probe_result.probe.timestamp','a_t_a_result.final_destination_probe_result.confidence','a_t_a_result.final_destination_probe_result.h3_index','a_t_a_result.final_destination_probe_result.k_ring_level','a_t_a_result.destination_probe_result.probe.point.lat','a_t_a_result.destination_probe_result.probe.point.lon','a_t_a_result.destination_probe_result.probe.timestamp','a_t_a_result.destination_probe_result.confidence','a_t_a_result.destination_probe_result.h3_index','a_t_a_result.destination_probe_result.k_ring_level','a_t_a_result.extra_destination_probe_result.probe.point.lat','a_t_a_result.extra_destination_probe_result.probe.point.lon','a_t_a_result.extra_destination_probe_result.probe.timestamp','a_t_a_result.extra_destination_probe_result.confidence','a_t_a_result.extra_destination_probe_result.h3_index','a_t_a_result.extra_destination_probe_result.k_ring_level','pickup_a_d_d_result.distance','pickup_a_d_d_result.confidence','pickup_a_d_d_result.route_ratio','pickup_a_d_d_result.g_p_s_ratio','ride_a_d_d_result.distance','ride_a_d_d_result.confidence','ride_a_d_d_result.route_ratio','ride_a_d_d_result.g_p_s_ratio','total_a_d_d_confidence','in_ride_allotment','e_d_d','clickhouse_time','hash']\n",
    "\n",
    "khatkesh = pd.read_csv(\"../khatkesh_2022-09-14_17to20.csv\", names=khatkesh_columns)\n",
    "khatkesh.describe()"
   ],
   "metadata": {
    "collapsed": false,
    "pycharm": {
     "name": "#%%\n"
    }
   }
  },
  {
   "cell_type": "code",
   "execution_count": 4,
   "outputs": [
    {
     "data": {
      "text/plain": "       accepted_driver_id  passenger_id    source_lat    source_lng  \\\ncount        2.082500e+04  2.082500e+04  20825.000000  20825.000000   \nmean         1.999775e+06  2.383175e+07     35.693529     51.401175   \nstd          1.436861e+06  1.797496e+07      0.096443      0.144898   \nmin          1.010000e+02  1.375000e+03     35.249897     50.903470   \n25%          5.483600e+05  5.111832e+06     35.662746     51.331078   \n50%          1.975867e+06  2.410657e+07     35.723858     51.404060   \n75%          3.310593e+06  3.833837e+07     35.754833     51.466557   \nmax          4.346548e+06  5.750996e+07     35.839420     52.794230   \n\n       destination_lat  destination_lng           eta           ata  \\\ncount     20825.000000     20825.000000  20825.000000  20825.000000   \nmean         35.694669        51.398380    942.397935   1162.141945   \nstd           0.096133         0.151682    670.597667    974.159366   \nmin          34.641853        50.016300     24.000000    120.000000   \n25%          35.660850        51.330456    447.000000    483.000000   \n50%          35.723995        51.402237    762.000000    861.000000   \n75%          35.754784        51.470547   1253.000000   1522.000000   \nmax          36.259760        52.792877   6541.000000   8672.000000   \n\n            ride_id     city  ...  pickup_a_d_d_result.route_ratio  \\\ncount  2.082500e+04  20825.0  ...                     20825.000000   \nmean   4.956832e+09      1.0  ...                         0.000215   \nstd    3.145274e+05      0.0  ...                         0.012298   \nmin    4.956287e+09      1.0  ...                         0.000000   \n25%    4.956540e+09      1.0  ...                         0.000000   \n50%    4.956874e+09      1.0  ...                         0.000000   \n75%    4.957101e+09      1.0  ...                         0.000000   \nmax    4.957458e+09      1.0  ...                         1.000000   \n\n       pickup_a_d_d_result.g_p_s_ratio  ride_a_d_d_result.distance  \\\ncount                     20825.000000                20825.000000   \nmean                          0.013655                   14.471063   \nstd                           0.014508                   14.610381   \nmin                           0.000000                    0.000000   \n25%                           0.005076                    4.884000   \n50%                           0.010000                    9.970000   \n75%                           0.018182                   19.007999   \nmax                           0.500000                  220.848297   \n\n       ride_a_d_d_result.confidence  ride_a_d_d_result.route_ratio  \\\ncount                  20825.000000                   20825.000000   \nmean                       0.873934                       0.000118   \nstd                        0.175027                       0.002828   \nmin                        0.000000                       0.000000   \n25%                        0.803479                       0.000000   \n50%                        0.964556                       0.000000   \n75%                        1.000000                       0.000000   \nmax                        1.000000                       0.204274   \n\n       ride_a_d_d_result.g_p_s_ratio  total_a_d_d_confidence  \\\ncount                   20825.000000            20825.000000   \nmean                        0.736780                0.882062   \nstd                         0.325293                0.165155   \nmin                         0.000000                0.000000   \n25%                         0.567164                0.827302   \n50%                         0.904639                0.963044   \n75%                         0.978947                1.000000   \nmax                         1.000000                1.000000   \n\n       in_ride_allotment         e_d_d          hash  \ncount       20825.000000  20825.000000  2.082500e+04  \nmean            0.014971      8.667095  9.189144e+18  \nstd             0.146202      8.962879  5.342897e+18  \nmin             0.000000      0.209000  3.680090e+14  \n25%             0.000000      2.923000  4.565318e+18  \n50%             0.000000      5.987000  9.109705e+18  \n75%             0.000000     11.234000  1.383284e+19  \nmax             4.430000    143.080002  1.844592e+19  \n\n[8 rows x 51 columns]",
      "text/html": "<div>\n<style scoped>\n    .dataframe tbody tr th:only-of-type {\n        vertical-align: middle;\n    }\n\n    .dataframe tbody tr th {\n        vertical-align: top;\n    }\n\n    .dataframe thead th {\n        text-align: right;\n    }\n</style>\n<table border=\"1\" class=\"dataframe\">\n  <thead>\n    <tr style=\"text-align: right;\">\n      <th></th>\n      <th>accepted_driver_id</th>\n      <th>passenger_id</th>\n      <th>source_lat</th>\n      <th>source_lng</th>\n      <th>destination_lat</th>\n      <th>destination_lng</th>\n      <th>eta</th>\n      <th>ata</th>\n      <th>ride_id</th>\n      <th>city</th>\n      <th>...</th>\n      <th>pickup_a_d_d_result.route_ratio</th>\n      <th>pickup_a_d_d_result.g_p_s_ratio</th>\n      <th>ride_a_d_d_result.distance</th>\n      <th>ride_a_d_d_result.confidence</th>\n      <th>ride_a_d_d_result.route_ratio</th>\n      <th>ride_a_d_d_result.g_p_s_ratio</th>\n      <th>total_a_d_d_confidence</th>\n      <th>in_ride_allotment</th>\n      <th>e_d_d</th>\n      <th>hash</th>\n    </tr>\n  </thead>\n  <tbody>\n    <tr>\n      <th>count</th>\n      <td>2.082500e+04</td>\n      <td>2.082500e+04</td>\n      <td>20825.000000</td>\n      <td>20825.000000</td>\n      <td>20825.000000</td>\n      <td>20825.000000</td>\n      <td>20825.000000</td>\n      <td>20825.000000</td>\n      <td>2.082500e+04</td>\n      <td>20825.0</td>\n      <td>...</td>\n      <td>20825.000000</td>\n      <td>20825.000000</td>\n      <td>20825.000000</td>\n      <td>20825.000000</td>\n      <td>20825.000000</td>\n      <td>20825.000000</td>\n      <td>20825.000000</td>\n      <td>20825.000000</td>\n      <td>20825.000000</td>\n      <td>2.082500e+04</td>\n    </tr>\n    <tr>\n      <th>mean</th>\n      <td>1.999775e+06</td>\n      <td>2.383175e+07</td>\n      <td>35.693529</td>\n      <td>51.401175</td>\n      <td>35.694669</td>\n      <td>51.398380</td>\n      <td>942.397935</td>\n      <td>1162.141945</td>\n      <td>4.956832e+09</td>\n      <td>1.0</td>\n      <td>...</td>\n      <td>0.000215</td>\n      <td>0.013655</td>\n      <td>14.471063</td>\n      <td>0.873934</td>\n      <td>0.000118</td>\n      <td>0.736780</td>\n      <td>0.882062</td>\n      <td>0.014971</td>\n      <td>8.667095</td>\n      <td>9.189144e+18</td>\n    </tr>\n    <tr>\n      <th>std</th>\n      <td>1.436861e+06</td>\n      <td>1.797496e+07</td>\n      <td>0.096443</td>\n      <td>0.144898</td>\n      <td>0.096133</td>\n      <td>0.151682</td>\n      <td>670.597667</td>\n      <td>974.159366</td>\n      <td>3.145274e+05</td>\n      <td>0.0</td>\n      <td>...</td>\n      <td>0.012298</td>\n      <td>0.014508</td>\n      <td>14.610381</td>\n      <td>0.175027</td>\n      <td>0.002828</td>\n      <td>0.325293</td>\n      <td>0.165155</td>\n      <td>0.146202</td>\n      <td>8.962879</td>\n      <td>5.342897e+18</td>\n    </tr>\n    <tr>\n      <th>min</th>\n      <td>1.010000e+02</td>\n      <td>1.375000e+03</td>\n      <td>35.249897</td>\n      <td>50.903470</td>\n      <td>34.641853</td>\n      <td>50.016300</td>\n      <td>24.000000</td>\n      <td>120.000000</td>\n      <td>4.956287e+09</td>\n      <td>1.0</td>\n      <td>...</td>\n      <td>0.000000</td>\n      <td>0.000000</td>\n      <td>0.000000</td>\n      <td>0.000000</td>\n      <td>0.000000</td>\n      <td>0.000000</td>\n      <td>0.000000</td>\n      <td>0.000000</td>\n      <td>0.209000</td>\n      <td>3.680090e+14</td>\n    </tr>\n    <tr>\n      <th>25%</th>\n      <td>5.483600e+05</td>\n      <td>5.111832e+06</td>\n      <td>35.662746</td>\n      <td>51.331078</td>\n      <td>35.660850</td>\n      <td>51.330456</td>\n      <td>447.000000</td>\n      <td>483.000000</td>\n      <td>4.956540e+09</td>\n      <td>1.0</td>\n      <td>...</td>\n      <td>0.000000</td>\n      <td>0.005076</td>\n      <td>4.884000</td>\n      <td>0.803479</td>\n      <td>0.000000</td>\n      <td>0.567164</td>\n      <td>0.827302</td>\n      <td>0.000000</td>\n      <td>2.923000</td>\n      <td>4.565318e+18</td>\n    </tr>\n    <tr>\n      <th>50%</th>\n      <td>1.975867e+06</td>\n      <td>2.410657e+07</td>\n      <td>35.723858</td>\n      <td>51.404060</td>\n      <td>35.723995</td>\n      <td>51.402237</td>\n      <td>762.000000</td>\n      <td>861.000000</td>\n      <td>4.956874e+09</td>\n      <td>1.0</td>\n      <td>...</td>\n      <td>0.000000</td>\n      <td>0.010000</td>\n      <td>9.970000</td>\n      <td>0.964556</td>\n      <td>0.000000</td>\n      <td>0.904639</td>\n      <td>0.963044</td>\n      <td>0.000000</td>\n      <td>5.987000</td>\n      <td>9.109705e+18</td>\n    </tr>\n    <tr>\n      <th>75%</th>\n      <td>3.310593e+06</td>\n      <td>3.833837e+07</td>\n      <td>35.754833</td>\n      <td>51.466557</td>\n      <td>35.754784</td>\n      <td>51.470547</td>\n      <td>1253.000000</td>\n      <td>1522.000000</td>\n      <td>4.957101e+09</td>\n      <td>1.0</td>\n      <td>...</td>\n      <td>0.000000</td>\n      <td>0.018182</td>\n      <td>19.007999</td>\n      <td>1.000000</td>\n      <td>0.000000</td>\n      <td>0.978947</td>\n      <td>1.000000</td>\n      <td>0.000000</td>\n      <td>11.234000</td>\n      <td>1.383284e+19</td>\n    </tr>\n    <tr>\n      <th>max</th>\n      <td>4.346548e+06</td>\n      <td>5.750996e+07</td>\n      <td>35.839420</td>\n      <td>52.794230</td>\n      <td>36.259760</td>\n      <td>52.792877</td>\n      <td>6541.000000</td>\n      <td>8672.000000</td>\n      <td>4.957458e+09</td>\n      <td>1.0</td>\n      <td>...</td>\n      <td>1.000000</td>\n      <td>0.500000</td>\n      <td>220.848297</td>\n      <td>1.000000</td>\n      <td>0.204274</td>\n      <td>1.000000</td>\n      <td>1.000000</td>\n      <td>4.430000</td>\n      <td>143.080002</td>\n      <td>1.844592e+19</td>\n    </tr>\n  </tbody>\n</table>\n<p>8 rows × 51 columns</p>\n</div>"
     },
     "execution_count": 4,
     "metadata": {},
     "output_type": "execute_result"
    }
   ],
   "source": [
    "rides_khatkesh = pd.merge(rides, khatkesh, on=\"ride_id\")\n",
    "rides_khatkesh.describe()"
   ],
   "metadata": {
    "collapsed": false,
    "pycharm": {
     "name": "#%%\n"
    }
   }
  },
  {
   "cell_type": "code",
   "execution_count": 5,
   "outputs": [
    {
     "data": {
      "text/plain": "       accepted_driver_id  passenger_id    source_lat    source_lng  \\\ncount        1.995100e+04  1.995100e+04  19951.000000  19951.000000   \nmean         1.998629e+06  2.367655e+07     35.694714     51.399828   \nstd          1.437602e+06  1.796485e+07      0.095208      0.140696   \nmin          1.010000e+02  1.375000e+03     35.249897     50.903470   \n25%          5.474410e+05  4.983128e+06     35.664698     51.331452   \n50%          1.972606e+06  2.393345e+07     35.724102     51.403915   \n75%          3.311235e+06  3.817876e+07     35.755157     51.465082   \nmax          4.346331e+06  5.750996e+07     35.839420     52.794230   \n\n       destination_lat  destination_lng           eta           ata  \\\ncount     19951.000000     19951.000000  19951.000000  19951.000000   \nmean         35.695908        51.396894    975.000702   1202.144404   \nstd           0.094870         0.147962    664.787487    973.012366   \nmin          34.641853        50.016300    181.000000    120.000000   \n25%          35.663388        51.330749    482.000000    525.000000   \n50%          35.724280        51.401997    792.000000    897.000000   \n75%          35.755127        51.469389   1280.000000   1561.000000   \nmax          36.259760        52.792877   6541.000000   8672.000000   \n\n            ride_id     city  ...  pickup_a_d_d_result.route_ratio  \\\ncount  1.995100e+04  19951.0  ...                     19951.000000   \nmean   4.956830e+09      1.0  ...                         0.000120   \nstd    3.139771e+05      0.0  ...                         0.007574   \nmin    4.956287e+09      1.0  ...                         0.000000   \n25%    4.956539e+09      1.0  ...                         0.000000   \n50%    4.956872e+09      1.0  ...                         0.000000   \n75%    4.957101e+09      1.0  ...                         0.000000   \nmax    4.957442e+09      1.0  ...                         1.000000   \n\n       pickup_a_d_d_result.g_p_s_ratio  ride_a_d_d_result.distance  \\\ncount                     19951.000000                19951.000000   \nmean                          0.012422                   15.017412   \nstd                           0.010151                   14.682233   \nmin                           0.000000                    0.194000   \n25%                           0.005102                    5.404000   \n50%                           0.009804                   10.496239   \n75%                           0.017241                   19.606633   \nmax                           0.052632                  220.848297   \n\n       ride_a_d_d_result.confidence  ride_a_d_d_result.route_ratio  \\\ncount                  19951.000000                   19951.000000   \nmean                       0.875576                       0.000096   \nstd                        0.169591                       0.002098   \nmin                        0.015032                       0.000000   \n25%                        0.805343                       0.000000   \n50%                        0.963008                       0.000000   \n75%                        1.000000                       0.000000   \nmax                        1.000000                       0.099045   \n\n       ride_a_d_d_result.g_p_s_ratio  total_a_d_d_confidence  \\\ncount                   19951.000000            19951.000000   \nmean                        0.738031                0.883830   \nstd                         0.323891                0.160056   \nmin                         0.000000                0.027182   \n25%                         0.571429                0.828412   \n50%                         0.904762                0.962616   \n75%                         0.977859                1.000000   \nmax                         1.000000                1.000000   \n\n       in_ride_allotment         e_d_d          hash  \ncount       19951.000000  19951.000000  1.995100e+04  \nmean            0.015057      8.987522  9.172071e+18  \nstd             0.147448      9.010713  5.344776e+18  \nmin             0.000000      0.598000  3.680090e+14  \n25%             0.000000      3.209500  4.540209e+18  \n50%             0.000000      6.310000  9.085335e+18  \n75%             0.000000     11.529000  1.382678e+19  \nmax             4.430000    143.080002  1.844592e+19  \n\n[8 rows x 51 columns]",
      "text/html": "<div>\n<style scoped>\n    .dataframe tbody tr th:only-of-type {\n        vertical-align: middle;\n    }\n\n    .dataframe tbody tr th {\n        vertical-align: top;\n    }\n\n    .dataframe thead th {\n        text-align: right;\n    }\n</style>\n<table border=\"1\" class=\"dataframe\">\n  <thead>\n    <tr style=\"text-align: right;\">\n      <th></th>\n      <th>accepted_driver_id</th>\n      <th>passenger_id</th>\n      <th>source_lat</th>\n      <th>source_lng</th>\n      <th>destination_lat</th>\n      <th>destination_lng</th>\n      <th>eta</th>\n      <th>ata</th>\n      <th>ride_id</th>\n      <th>city</th>\n      <th>...</th>\n      <th>pickup_a_d_d_result.route_ratio</th>\n      <th>pickup_a_d_d_result.g_p_s_ratio</th>\n      <th>ride_a_d_d_result.distance</th>\n      <th>ride_a_d_d_result.confidence</th>\n      <th>ride_a_d_d_result.route_ratio</th>\n      <th>ride_a_d_d_result.g_p_s_ratio</th>\n      <th>total_a_d_d_confidence</th>\n      <th>in_ride_allotment</th>\n      <th>e_d_d</th>\n      <th>hash</th>\n    </tr>\n  </thead>\n  <tbody>\n    <tr>\n      <th>count</th>\n      <td>1.995100e+04</td>\n      <td>1.995100e+04</td>\n      <td>19951.000000</td>\n      <td>19951.000000</td>\n      <td>19951.000000</td>\n      <td>19951.000000</td>\n      <td>19951.000000</td>\n      <td>19951.000000</td>\n      <td>1.995100e+04</td>\n      <td>19951.0</td>\n      <td>...</td>\n      <td>19951.000000</td>\n      <td>19951.000000</td>\n      <td>19951.000000</td>\n      <td>19951.000000</td>\n      <td>19951.000000</td>\n      <td>19951.000000</td>\n      <td>19951.000000</td>\n      <td>19951.000000</td>\n      <td>19951.000000</td>\n      <td>1.995100e+04</td>\n    </tr>\n    <tr>\n      <th>mean</th>\n      <td>1.998629e+06</td>\n      <td>2.367655e+07</td>\n      <td>35.694714</td>\n      <td>51.399828</td>\n      <td>35.695908</td>\n      <td>51.396894</td>\n      <td>975.000702</td>\n      <td>1202.144404</td>\n      <td>4.956830e+09</td>\n      <td>1.0</td>\n      <td>...</td>\n      <td>0.000120</td>\n      <td>0.012422</td>\n      <td>15.017412</td>\n      <td>0.875576</td>\n      <td>0.000096</td>\n      <td>0.738031</td>\n      <td>0.883830</td>\n      <td>0.015057</td>\n      <td>8.987522</td>\n      <td>9.172071e+18</td>\n    </tr>\n    <tr>\n      <th>std</th>\n      <td>1.437602e+06</td>\n      <td>1.796485e+07</td>\n      <td>0.095208</td>\n      <td>0.140696</td>\n      <td>0.094870</td>\n      <td>0.147962</td>\n      <td>664.787487</td>\n      <td>973.012366</td>\n      <td>3.139771e+05</td>\n      <td>0.0</td>\n      <td>...</td>\n      <td>0.007574</td>\n      <td>0.010151</td>\n      <td>14.682233</td>\n      <td>0.169591</td>\n      <td>0.002098</td>\n      <td>0.323891</td>\n      <td>0.160056</td>\n      <td>0.147448</td>\n      <td>9.010713</td>\n      <td>5.344776e+18</td>\n    </tr>\n    <tr>\n      <th>min</th>\n      <td>1.010000e+02</td>\n      <td>1.375000e+03</td>\n      <td>35.249897</td>\n      <td>50.903470</td>\n      <td>34.641853</td>\n      <td>50.016300</td>\n      <td>181.000000</td>\n      <td>120.000000</td>\n      <td>4.956287e+09</td>\n      <td>1.0</td>\n      <td>...</td>\n      <td>0.000000</td>\n      <td>0.000000</td>\n      <td>0.194000</td>\n      <td>0.015032</td>\n      <td>0.000000</td>\n      <td>0.000000</td>\n      <td>0.027182</td>\n      <td>0.000000</td>\n      <td>0.598000</td>\n      <td>3.680090e+14</td>\n    </tr>\n    <tr>\n      <th>25%</th>\n      <td>5.474410e+05</td>\n      <td>4.983128e+06</td>\n      <td>35.664698</td>\n      <td>51.331452</td>\n      <td>35.663388</td>\n      <td>51.330749</td>\n      <td>482.000000</td>\n      <td>525.000000</td>\n      <td>4.956539e+09</td>\n      <td>1.0</td>\n      <td>...</td>\n      <td>0.000000</td>\n      <td>0.005102</td>\n      <td>5.404000</td>\n      <td>0.805343</td>\n      <td>0.000000</td>\n      <td>0.571429</td>\n      <td>0.828412</td>\n      <td>0.000000</td>\n      <td>3.209500</td>\n      <td>4.540209e+18</td>\n    </tr>\n    <tr>\n      <th>50%</th>\n      <td>1.972606e+06</td>\n      <td>2.393345e+07</td>\n      <td>35.724102</td>\n      <td>51.403915</td>\n      <td>35.724280</td>\n      <td>51.401997</td>\n      <td>792.000000</td>\n      <td>897.000000</td>\n      <td>4.956872e+09</td>\n      <td>1.0</td>\n      <td>...</td>\n      <td>0.000000</td>\n      <td>0.009804</td>\n      <td>10.496239</td>\n      <td>0.963008</td>\n      <td>0.000000</td>\n      <td>0.904762</td>\n      <td>0.962616</td>\n      <td>0.000000</td>\n      <td>6.310000</td>\n      <td>9.085335e+18</td>\n    </tr>\n    <tr>\n      <th>75%</th>\n      <td>3.311235e+06</td>\n      <td>3.817876e+07</td>\n      <td>35.755157</td>\n      <td>51.465082</td>\n      <td>35.755127</td>\n      <td>51.469389</td>\n      <td>1280.000000</td>\n      <td>1561.000000</td>\n      <td>4.957101e+09</td>\n      <td>1.0</td>\n      <td>...</td>\n      <td>0.000000</td>\n      <td>0.017241</td>\n      <td>19.606633</td>\n      <td>1.000000</td>\n      <td>0.000000</td>\n      <td>0.977859</td>\n      <td>1.000000</td>\n      <td>0.000000</td>\n      <td>11.529000</td>\n      <td>1.382678e+19</td>\n    </tr>\n    <tr>\n      <th>max</th>\n      <td>4.346331e+06</td>\n      <td>5.750996e+07</td>\n      <td>35.839420</td>\n      <td>52.794230</td>\n      <td>36.259760</td>\n      <td>52.792877</td>\n      <td>6541.000000</td>\n      <td>8672.000000</td>\n      <td>4.957442e+09</td>\n      <td>1.0</td>\n      <td>...</td>\n      <td>1.000000</td>\n      <td>0.052632</td>\n      <td>220.848297</td>\n      <td>1.000000</td>\n      <td>0.099045</td>\n      <td>1.000000</td>\n      <td>1.000000</td>\n      <td>4.430000</td>\n      <td>143.080002</td>\n      <td>1.844592e+19</td>\n    </tr>\n  </tbody>\n</table>\n<p>8 rows × 51 columns</p>\n</div>"
     },
     "execution_count": 5,
     "metadata": {},
     "output_type": "execute_result"
    }
   ],
   "source": [
    "rides = rides_khatkesh[(rides_khatkesh['eta'] > 180) &\n",
    "                       (rides_khatkesh['eta'] < 10800) &\n",
    "                       (rides_khatkesh['a_t_a_result.ride_a_t_a'] > 180) &\n",
    "                       (rides_khatkesh['a_t_a_result.ride_a_t_a'] < 10800)]\n",
    "rides.describe()"
   ],
   "metadata": {
    "collapsed": false,
    "pycharm": {
     "name": "#%%\n"
    }
   }
  },
  {
   "cell_type": "code",
   "execution_count": 6,
   "outputs": [
    {
     "data": {
      "text/plain": "       accepted_driver_id  passenger_id    source_lat    source_lng  \\\ncount        1.726400e+04  1.726400e+04  17264.000000  17264.000000   \nmean         2.004751e+06  2.366595e+07     35.694460     51.399300   \nstd          1.439244e+06  1.795832e+07      0.095280      0.141639   \nmin          1.010000e+02  1.375000e+03     35.249897     50.903470   \n25%          5.545290e+05  5.014237e+06     35.664250     51.330625   \n50%          1.975852e+06  2.389992e+07     35.724190     51.402439   \n75%          3.321656e+06  3.820608e+07     35.755235     51.464877   \nmax          4.346206e+06  5.750996e+07     35.839420     52.794230   \n\n       destination_lat  destination_lng           eta           ata  \\\ncount     17264.000000     17264.000000  17264.000000  17264.000000   \nmean         35.695705        51.396517    968.105827   1192.088740   \nstd           0.094679         0.148424    661.319188    965.774165   \nmin          34.641853        50.016300    181.000000    120.000000   \n25%          35.663042        51.329991    479.000000    522.000000   \n50%          35.724215        51.400720    784.000000    887.000000   \n75%          35.754804        51.468814   1266.000000   1545.000000   \nmax          36.259760        52.792877   6541.000000   8672.000000   \n\n            ride_id     city  ...  pickup_a_d_d_result.route_ratio  \\\ncount  1.726400e+04  17264.0  ...                     17264.000000   \nmean   4.956830e+09      1.0  ...                         0.000067   \nstd    3.136741e+05      0.0  ...                         0.002537   \nmin    4.956287e+09      1.0  ...                         0.000000   \n25%    4.956540e+09      1.0  ...                         0.000000   \n50%    4.956871e+09      1.0  ...                         0.000000   \n75%    4.957100e+09      1.0  ...                         0.000000   \nmax    4.957432e+09      1.0  ...                         0.156830   \n\n       pickup_a_d_d_result.g_p_s_ratio  ride_a_d_d_result.distance  \\\ncount                     17264.000000                17264.000000   \nmean                          0.013237                   15.755814   \nstd                           0.010083                   15.128015   \nmin                           0.000000                    0.194000   \n25%                           0.005814                    5.767500   \n50%                           0.010526                   11.204000   \n75%                           0.018182                   20.626437   \nmax                           0.052632                  220.848297   \n\n       ride_a_d_d_result.confidence  ride_a_d_d_result.route_ratio  \\\ncount                  17264.000000                   17264.000000   \nmean                       0.930941                       0.000056   \nstd                        0.100924                       0.001438   \nmin                        0.600579                       0.000000   \n25%                        0.905261                       0.000000   \n50%                        0.978166                       0.000000   \n75%                        1.000000                       0.000000   \nmax                        1.000000                       0.093853   \n\n       ride_a_d_d_result.g_p_s_ratio  total_a_d_d_confidence  \\\ncount                   17264.000000            17264.000000   \nmean                        0.828822                0.935722   \nstd                         0.224497                0.090770   \nmin                         0.016854                0.518909   \n25%                         0.765652                0.903373   \n50%                         0.930403                0.976414   \n75%                         0.983607                1.000000   \nmax                         1.000000                1.000000   \n\n       in_ride_allotment         e_d_d          hash  \ncount       17264.000000  17264.000000  1.726400e+04  \nmean            0.016814      8.906675  9.202475e+18  \nstd             0.156545      8.928459  5.359270e+18  \nmin             0.000000      0.598000  3.680090e+14  \n25%             0.000000      3.197750  4.546019e+18  \n50%             0.000000      6.251000  9.122385e+18  \n75%             0.000000     11.436500  1.388810e+19  \nmax             4.430000    143.080002  1.844592e+19  \n\n[8 rows x 51 columns]",
      "text/html": "<div>\n<style scoped>\n    .dataframe tbody tr th:only-of-type {\n        vertical-align: middle;\n    }\n\n    .dataframe tbody tr th {\n        vertical-align: top;\n    }\n\n    .dataframe thead th {\n        text-align: right;\n    }\n</style>\n<table border=\"1\" class=\"dataframe\">\n  <thead>\n    <tr style=\"text-align: right;\">\n      <th></th>\n      <th>accepted_driver_id</th>\n      <th>passenger_id</th>\n      <th>source_lat</th>\n      <th>source_lng</th>\n      <th>destination_lat</th>\n      <th>destination_lng</th>\n      <th>eta</th>\n      <th>ata</th>\n      <th>ride_id</th>\n      <th>city</th>\n      <th>...</th>\n      <th>pickup_a_d_d_result.route_ratio</th>\n      <th>pickup_a_d_d_result.g_p_s_ratio</th>\n      <th>ride_a_d_d_result.distance</th>\n      <th>ride_a_d_d_result.confidence</th>\n      <th>ride_a_d_d_result.route_ratio</th>\n      <th>ride_a_d_d_result.g_p_s_ratio</th>\n      <th>total_a_d_d_confidence</th>\n      <th>in_ride_allotment</th>\n      <th>e_d_d</th>\n      <th>hash</th>\n    </tr>\n  </thead>\n  <tbody>\n    <tr>\n      <th>count</th>\n      <td>1.726400e+04</td>\n      <td>1.726400e+04</td>\n      <td>17264.000000</td>\n      <td>17264.000000</td>\n      <td>17264.000000</td>\n      <td>17264.000000</td>\n      <td>17264.000000</td>\n      <td>17264.000000</td>\n      <td>1.726400e+04</td>\n      <td>17264.0</td>\n      <td>...</td>\n      <td>17264.000000</td>\n      <td>17264.000000</td>\n      <td>17264.000000</td>\n      <td>17264.000000</td>\n      <td>17264.000000</td>\n      <td>17264.000000</td>\n      <td>17264.000000</td>\n      <td>17264.000000</td>\n      <td>17264.000000</td>\n      <td>1.726400e+04</td>\n    </tr>\n    <tr>\n      <th>mean</th>\n      <td>2.004751e+06</td>\n      <td>2.366595e+07</td>\n      <td>35.694460</td>\n      <td>51.399300</td>\n      <td>35.695705</td>\n      <td>51.396517</td>\n      <td>968.105827</td>\n      <td>1192.088740</td>\n      <td>4.956830e+09</td>\n      <td>1.0</td>\n      <td>...</td>\n      <td>0.000067</td>\n      <td>0.013237</td>\n      <td>15.755814</td>\n      <td>0.930941</td>\n      <td>0.000056</td>\n      <td>0.828822</td>\n      <td>0.935722</td>\n      <td>0.016814</td>\n      <td>8.906675</td>\n      <td>9.202475e+18</td>\n    </tr>\n    <tr>\n      <th>std</th>\n      <td>1.439244e+06</td>\n      <td>1.795832e+07</td>\n      <td>0.095280</td>\n      <td>0.141639</td>\n      <td>0.094679</td>\n      <td>0.148424</td>\n      <td>661.319188</td>\n      <td>965.774165</td>\n      <td>3.136741e+05</td>\n      <td>0.0</td>\n      <td>...</td>\n      <td>0.002537</td>\n      <td>0.010083</td>\n      <td>15.128015</td>\n      <td>0.100924</td>\n      <td>0.001438</td>\n      <td>0.224497</td>\n      <td>0.090770</td>\n      <td>0.156545</td>\n      <td>8.928459</td>\n      <td>5.359270e+18</td>\n    </tr>\n    <tr>\n      <th>min</th>\n      <td>1.010000e+02</td>\n      <td>1.375000e+03</td>\n      <td>35.249897</td>\n      <td>50.903470</td>\n      <td>34.641853</td>\n      <td>50.016300</td>\n      <td>181.000000</td>\n      <td>120.000000</td>\n      <td>4.956287e+09</td>\n      <td>1.0</td>\n      <td>...</td>\n      <td>0.000000</td>\n      <td>0.000000</td>\n      <td>0.194000</td>\n      <td>0.600579</td>\n      <td>0.000000</td>\n      <td>0.016854</td>\n      <td>0.518909</td>\n      <td>0.000000</td>\n      <td>0.598000</td>\n      <td>3.680090e+14</td>\n    </tr>\n    <tr>\n      <th>25%</th>\n      <td>5.545290e+05</td>\n      <td>5.014237e+06</td>\n      <td>35.664250</td>\n      <td>51.330625</td>\n      <td>35.663042</td>\n      <td>51.329991</td>\n      <td>479.000000</td>\n      <td>522.000000</td>\n      <td>4.956540e+09</td>\n      <td>1.0</td>\n      <td>...</td>\n      <td>0.000000</td>\n      <td>0.005814</td>\n      <td>5.767500</td>\n      <td>0.905261</td>\n      <td>0.000000</td>\n      <td>0.765652</td>\n      <td>0.903373</td>\n      <td>0.000000</td>\n      <td>3.197750</td>\n      <td>4.546019e+18</td>\n    </tr>\n    <tr>\n      <th>50%</th>\n      <td>1.975852e+06</td>\n      <td>2.389992e+07</td>\n      <td>35.724190</td>\n      <td>51.402439</td>\n      <td>35.724215</td>\n      <td>51.400720</td>\n      <td>784.000000</td>\n      <td>887.000000</td>\n      <td>4.956871e+09</td>\n      <td>1.0</td>\n      <td>...</td>\n      <td>0.000000</td>\n      <td>0.010526</td>\n      <td>11.204000</td>\n      <td>0.978166</td>\n      <td>0.000000</td>\n      <td>0.930403</td>\n      <td>0.976414</td>\n      <td>0.000000</td>\n      <td>6.251000</td>\n      <td>9.122385e+18</td>\n    </tr>\n    <tr>\n      <th>75%</th>\n      <td>3.321656e+06</td>\n      <td>3.820608e+07</td>\n      <td>35.755235</td>\n      <td>51.464877</td>\n      <td>35.754804</td>\n      <td>51.468814</td>\n      <td>1266.000000</td>\n      <td>1545.000000</td>\n      <td>4.957100e+09</td>\n      <td>1.0</td>\n      <td>...</td>\n      <td>0.000000</td>\n      <td>0.018182</td>\n      <td>20.626437</td>\n      <td>1.000000</td>\n      <td>0.000000</td>\n      <td>0.983607</td>\n      <td>1.000000</td>\n      <td>0.000000</td>\n      <td>11.436500</td>\n      <td>1.388810e+19</td>\n    </tr>\n    <tr>\n      <th>max</th>\n      <td>4.346206e+06</td>\n      <td>5.750996e+07</td>\n      <td>35.839420</td>\n      <td>52.794230</td>\n      <td>36.259760</td>\n      <td>52.792877</td>\n      <td>6541.000000</td>\n      <td>8672.000000</td>\n      <td>4.957432e+09</td>\n      <td>1.0</td>\n      <td>...</td>\n      <td>0.156830</td>\n      <td>0.052632</td>\n      <td>220.848297</td>\n      <td>1.000000</td>\n      <td>0.093853</td>\n      <td>1.000000</td>\n      <td>1.000000</td>\n      <td>4.430000</td>\n      <td>143.080002</td>\n      <td>1.844592e+19</td>\n    </tr>\n  </tbody>\n</table>\n<p>8 rows × 51 columns</p>\n</div>"
     },
     "execution_count": 6,
     "metadata": {},
     "output_type": "execute_result"
    }
   ],
   "source": [
    "rides = rides[rides['ride_a_d_d_result.confidence'] > 0.6]\n",
    "rides.describe()"
   ],
   "metadata": {
    "collapsed": false,
    "pycharm": {
     "name": "#%%\n"
    }
   }
  },
  {
   "cell_type": "code",
   "execution_count": 7,
   "outputs": [],
   "source": [
    "rides = rides[['eta', 'ata', 'a_t_a_result.ride_a_t_a', 'source_lat', 'source_lng', 'destination_lat', 'destination_lng', 'e_d_d']]"
   ],
   "metadata": {
    "collapsed": false,
    "pycharm": {
     "name": "#%%\n"
    }
   }
  },
  {
   "cell_type": "code",
   "execution_count": 8,
   "outputs": [],
   "source": [
    "rides['source_h3_4'] = rides.apply(lambda row: h3.geo_to_h3(row.source_lat, row.source_lng, 4), axis=1)\n",
    "rides['dest_h3_4'] = rides.apply(lambda row: h3.geo_to_h3(row.destination_lat, row.destination_lng, 4), axis=1)"
   ],
   "metadata": {
    "collapsed": false,
    "pycharm": {
     "name": "#%%\n"
    }
   }
  },
  {
   "cell_type": "code",
   "execution_count": 10,
   "outputs": [],
   "source": [
    "# eta_edd_h3 = rides[[\"eta\", \"e_d_d\", \"source_h3_4\", \"dest_h3_4\"]]\n",
    "# ata = rides[\"a_t_a_result.ride_a_t_a\"]"
   ],
   "metadata": {
    "collapsed": false,
    "pycharm": {
     "name": "#%%\n"
    }
   }
  },
  {
   "cell_type": "code",
   "execution_count": 11,
   "outputs": [
    {
     "name": "stdout",
     "output_type": "stream",
     "text": [
      "11813\n",
      "622\n"
     ]
    }
   ],
   "source": [
    "# eta_edd_h3_train, eta_edd_h3_test, ata_train, ata_test = train_test_split(eta_edd_h3, ata, test_size=0.05, random_state=73)\n",
    "# print(len(eta_edd_h3_train))\n",
    "# print(len(eta_edd_h3_test))"
   ],
   "metadata": {
    "collapsed": false,
    "pycharm": {
     "name": "#%%\n"
    }
   }
  },
  {
   "cell_type": "code",
   "execution_count": 12,
   "outputs": [
    {
     "data": {
      "text/plain": "                eta         e_d_d  source_h3_4_842cd59ffffffff  \\\ncount  11813.000000  11813.000000                 11813.000000   \nmean     896.309490      8.395520                     0.003894   \nstd      622.467211      8.574888                     0.062283   \nmin      181.000000      0.689000                     0.000000   \n25%      444.000000      2.956000                     0.000000   \n50%      714.000000      5.683000                     0.000000   \n75%     1156.000000     10.777000                     0.000000   \nmax     5231.000000    116.138000                     1.000000   \n\n       source_h3_4_842cd5bffffffff  source_h3_4_842cf31ffffffff  \\\ncount                 11813.000000                 11813.000000   \nmean                      0.000423                     0.843139   \nstd                       0.020570                     0.363685   \nmin                       0.000000                     0.000000   \n25%                       0.000000                     1.000000   \n50%                       0.000000                     1.000000   \n75%                       0.000000                     1.000000   \nmax                       1.000000                     1.000000   \n\n       source_h3_4_842cf33ffffffff  source_h3_4_842cf35ffffffff  \\\ncount                 11813.000000                 11813.000000   \nmean                      0.021163                     0.054008   \nstd                       0.143934                     0.226044   \nmin                       0.000000                     0.000000   \n25%                       0.000000                     0.000000   \n50%                       0.000000                     0.000000   \n75%                       0.000000                     0.000000   \nmax                       1.000000                     1.000000   \n\n       source_h3_4_842cf37ffffffff  source_h3_4_842cf3dffffffff  \\\ncount                 11813.000000                 11813.000000   \nmean                      0.024972                     0.051299   \nstd                       0.156048                     0.220617   \nmin                       0.000000                     0.000000   \n25%                       0.000000                     0.000000   \n50%                       0.000000                     0.000000   \n75%                       0.000000                     0.000000   \nmax                       1.000000                     1.000000   \n\n       dest_h3_4_842cd59ffffffff  dest_h3_4_842cd5bffffffff  \\\ncount               11813.000000               11813.000000   \nmean                    0.003555                   0.000423   \nstd                     0.059524                   0.020570   \nmin                     0.000000                   0.000000   \n25%                     0.000000                   0.000000   \n50%                     0.000000                   0.000000   \n75%                     0.000000                   0.000000   \nmax                     1.000000                   1.000000   \n\n       dest_h3_4_842cf07ffffffff  dest_h3_4_842cf27ffffffff  \\\ncount               11813.000000               11813.000000   \nmean                    0.000254                   0.000085   \nstd                     0.015935                   0.009201   \nmin                     0.000000                   0.000000   \n25%                     0.000000                   0.000000   \n50%                     0.000000                   0.000000   \n75%                     0.000000                   0.000000   \nmax                     1.000000                   1.000000   \n\n       dest_h3_4_842cf31ffffffff  dest_h3_4_842cf33ffffffff  \\\ncount               11813.000000               11813.000000   \nmean                    0.836367                   0.021248   \nstd                     0.369958                   0.144215   \nmin                     0.000000                   0.000000   \n25%                     1.000000                   0.000000   \n50%                     1.000000                   0.000000   \n75%                     1.000000                   0.000000   \nmax                     1.000000                   1.000000   \n\n       dest_h3_4_842cf35ffffffff  dest_h3_4_842cf37ffffffff  \\\ncount               11813.000000               11813.000000   \nmean                    0.050876                   0.024719   \nstd                     0.219754                   0.155273   \nmin                     0.000000                   0.000000   \n25%                     0.000000                   0.000000   \n50%                     0.000000                   0.000000   \n75%                     0.000000                   0.000000   \nmax                     1.000000                   1.000000   \n\n       dest_h3_4_842cf39ffffffff  dest_h3_4_842cf3dffffffff  \ncount               11813.000000               11813.000000  \nmean                    0.002032                   0.059680  \nstd                     0.045030                   0.236903  \nmin                     0.000000                   0.000000  \n25%                     0.000000                   0.000000  \n50%                     0.000000                   0.000000  \n75%                     0.000000                   0.000000  \nmax                     1.000000                   1.000000  ",
      "text/html": "<div>\n<style scoped>\n    .dataframe tbody tr th:only-of-type {\n        vertical-align: middle;\n    }\n\n    .dataframe tbody tr th {\n        vertical-align: top;\n    }\n\n    .dataframe thead th {\n        text-align: right;\n    }\n</style>\n<table border=\"1\" class=\"dataframe\">\n  <thead>\n    <tr style=\"text-align: right;\">\n      <th></th>\n      <th>eta</th>\n      <th>e_d_d</th>\n      <th>source_h3_4_842cd59ffffffff</th>\n      <th>source_h3_4_842cd5bffffffff</th>\n      <th>source_h3_4_842cf31ffffffff</th>\n      <th>source_h3_4_842cf33ffffffff</th>\n      <th>source_h3_4_842cf35ffffffff</th>\n      <th>source_h3_4_842cf37ffffffff</th>\n      <th>source_h3_4_842cf3dffffffff</th>\n      <th>dest_h3_4_842cd59ffffffff</th>\n      <th>dest_h3_4_842cd5bffffffff</th>\n      <th>dest_h3_4_842cf07ffffffff</th>\n      <th>dest_h3_4_842cf27ffffffff</th>\n      <th>dest_h3_4_842cf31ffffffff</th>\n      <th>dest_h3_4_842cf33ffffffff</th>\n      <th>dest_h3_4_842cf35ffffffff</th>\n      <th>dest_h3_4_842cf37ffffffff</th>\n      <th>dest_h3_4_842cf39ffffffff</th>\n      <th>dest_h3_4_842cf3dffffffff</th>\n    </tr>\n  </thead>\n  <tbody>\n    <tr>\n      <th>count</th>\n      <td>11813.000000</td>\n      <td>11813.000000</td>\n      <td>11813.000000</td>\n      <td>11813.000000</td>\n      <td>11813.000000</td>\n      <td>11813.000000</td>\n      <td>11813.000000</td>\n      <td>11813.000000</td>\n      <td>11813.000000</td>\n      <td>11813.000000</td>\n      <td>11813.000000</td>\n      <td>11813.000000</td>\n      <td>11813.000000</td>\n      <td>11813.000000</td>\n      <td>11813.000000</td>\n      <td>11813.000000</td>\n      <td>11813.000000</td>\n      <td>11813.000000</td>\n      <td>11813.000000</td>\n    </tr>\n    <tr>\n      <th>mean</th>\n      <td>896.309490</td>\n      <td>8.395520</td>\n      <td>0.003894</td>\n      <td>0.000423</td>\n      <td>0.843139</td>\n      <td>0.021163</td>\n      <td>0.054008</td>\n      <td>0.024972</td>\n      <td>0.051299</td>\n      <td>0.003555</td>\n      <td>0.000423</td>\n      <td>0.000254</td>\n      <td>0.000085</td>\n      <td>0.836367</td>\n      <td>0.021248</td>\n      <td>0.050876</td>\n      <td>0.024719</td>\n      <td>0.002032</td>\n      <td>0.059680</td>\n    </tr>\n    <tr>\n      <th>std</th>\n      <td>622.467211</td>\n      <td>8.574888</td>\n      <td>0.062283</td>\n      <td>0.020570</td>\n      <td>0.363685</td>\n      <td>0.143934</td>\n      <td>0.226044</td>\n      <td>0.156048</td>\n      <td>0.220617</td>\n      <td>0.059524</td>\n      <td>0.020570</td>\n      <td>0.015935</td>\n      <td>0.009201</td>\n      <td>0.369958</td>\n      <td>0.144215</td>\n      <td>0.219754</td>\n      <td>0.155273</td>\n      <td>0.045030</td>\n      <td>0.236903</td>\n    </tr>\n    <tr>\n      <th>min</th>\n      <td>181.000000</td>\n      <td>0.689000</td>\n      <td>0.000000</td>\n      <td>0.000000</td>\n      <td>0.000000</td>\n      <td>0.000000</td>\n      <td>0.000000</td>\n      <td>0.000000</td>\n      <td>0.000000</td>\n      <td>0.000000</td>\n      <td>0.000000</td>\n      <td>0.000000</td>\n      <td>0.000000</td>\n      <td>0.000000</td>\n      <td>0.000000</td>\n      <td>0.000000</td>\n      <td>0.000000</td>\n      <td>0.000000</td>\n      <td>0.000000</td>\n    </tr>\n    <tr>\n      <th>25%</th>\n      <td>444.000000</td>\n      <td>2.956000</td>\n      <td>0.000000</td>\n      <td>0.000000</td>\n      <td>1.000000</td>\n      <td>0.000000</td>\n      <td>0.000000</td>\n      <td>0.000000</td>\n      <td>0.000000</td>\n      <td>0.000000</td>\n      <td>0.000000</td>\n      <td>0.000000</td>\n      <td>0.000000</td>\n      <td>1.000000</td>\n      <td>0.000000</td>\n      <td>0.000000</td>\n      <td>0.000000</td>\n      <td>0.000000</td>\n      <td>0.000000</td>\n    </tr>\n    <tr>\n      <th>50%</th>\n      <td>714.000000</td>\n      <td>5.683000</td>\n      <td>0.000000</td>\n      <td>0.000000</td>\n      <td>1.000000</td>\n      <td>0.000000</td>\n      <td>0.000000</td>\n      <td>0.000000</td>\n      <td>0.000000</td>\n      <td>0.000000</td>\n      <td>0.000000</td>\n      <td>0.000000</td>\n      <td>0.000000</td>\n      <td>1.000000</td>\n      <td>0.000000</td>\n      <td>0.000000</td>\n      <td>0.000000</td>\n      <td>0.000000</td>\n      <td>0.000000</td>\n    </tr>\n    <tr>\n      <th>75%</th>\n      <td>1156.000000</td>\n      <td>10.777000</td>\n      <td>0.000000</td>\n      <td>0.000000</td>\n      <td>1.000000</td>\n      <td>0.000000</td>\n      <td>0.000000</td>\n      <td>0.000000</td>\n      <td>0.000000</td>\n      <td>0.000000</td>\n      <td>0.000000</td>\n      <td>0.000000</td>\n      <td>0.000000</td>\n      <td>1.000000</td>\n      <td>0.000000</td>\n      <td>0.000000</td>\n      <td>0.000000</td>\n      <td>0.000000</td>\n      <td>0.000000</td>\n    </tr>\n    <tr>\n      <th>max</th>\n      <td>5231.000000</td>\n      <td>116.138000</td>\n      <td>1.000000</td>\n      <td>1.000000</td>\n      <td>1.000000</td>\n      <td>1.000000</td>\n      <td>1.000000</td>\n      <td>1.000000</td>\n      <td>1.000000</td>\n      <td>1.000000</td>\n      <td>1.000000</td>\n      <td>1.000000</td>\n      <td>1.000000</td>\n      <td>1.000000</td>\n      <td>1.000000</td>\n      <td>1.000000</td>\n      <td>1.000000</td>\n      <td>1.000000</td>\n      <td>1.000000</td>\n    </tr>\n  </tbody>\n</table>\n</div>"
     },
     "execution_count": 12,
     "metadata": {},
     "output_type": "execute_result"
    }
   ],
   "source": [
    "# dummy_train_rides = pd.get_dummies(eta_edd_h3_train, prefix={'source_h3_4':'source_h3_4',\n",
    "#                                                        'dest_h3_4':'dest_h3_4'},\n",
    "#                           drop_first=True)\n",
    "# dummy_train_rides.describe()"
   ],
   "metadata": {
    "collapsed": false,
    "pycharm": {
     "name": "#%%\n"
    }
   }
  },
  {
   "cell_type": "code",
   "execution_count": 13,
   "outputs": [
    {
     "name": "stderr",
     "output_type": "stream",
     "text": [
      "/var/folders/yq/707ysz_j3jlggmtk5clx13rm0000gn/T/ipykernel_46750/592031391.py:7: UserWarning: Boolean Series key will be reindexed to match DataFrame index.\n",
      "  eta_edd_h3_train = eta_edd_h3_train[dummy_train_rides[col] == 0]\n"
     ]
    },
    {
     "data": {
      "text/plain": "                eta         e_d_d\ncount  11804.000000  11804.000000\nmean     895.475008      8.373800\nstd      619.786057      8.472199\nmin      181.000000      0.689000\n25%      444.000000      2.954750\n50%      714.000000      5.683000\n75%     1156.000000     10.772000\nmax     5231.000000    116.138000",
      "text/html": "<div>\n<style scoped>\n    .dataframe tbody tr th:only-of-type {\n        vertical-align: middle;\n    }\n\n    .dataframe tbody tr th {\n        vertical-align: top;\n    }\n\n    .dataframe thead th {\n        text-align: right;\n    }\n</style>\n<table border=\"1\" class=\"dataframe\">\n  <thead>\n    <tr style=\"text-align: right;\">\n      <th></th>\n      <th>eta</th>\n      <th>e_d_d</th>\n    </tr>\n  </thead>\n  <tbody>\n    <tr>\n      <th>count</th>\n      <td>11804.000000</td>\n      <td>11804.000000</td>\n    </tr>\n    <tr>\n      <th>mean</th>\n      <td>895.475008</td>\n      <td>8.373800</td>\n    </tr>\n    <tr>\n      <th>std</th>\n      <td>619.786057</td>\n      <td>8.472199</td>\n    </tr>\n    <tr>\n      <th>min</th>\n      <td>181.000000</td>\n      <td>0.689000</td>\n    </tr>\n    <tr>\n      <th>25%</th>\n      <td>444.000000</td>\n      <td>2.954750</td>\n    </tr>\n    <tr>\n      <th>50%</th>\n      <td>714.000000</td>\n      <td>5.683000</td>\n    </tr>\n    <tr>\n      <th>75%</th>\n      <td>1156.000000</td>\n      <td>10.772000</td>\n    </tr>\n    <tr>\n      <th>max</th>\n      <td>5231.000000</td>\n      <td>116.138000</td>\n    </tr>\n  </tbody>\n</table>\n</div>"
     },
     "execution_count": 13,
     "metadata": {},
     "output_type": "execute_result"
    }
   ],
   "source": [
    "# geo_noise = np.count_nonzero(dummy_train_rides, axis=0) < 10\n",
    "#\n",
    "# cols = dummy_train_rides.columns\n",
    "# for col, noise in zip(cols, geo_noise):\n",
    "#     if noise:\n",
    "#         # DOESN'T REINDEX\n",
    "#         eta_edd_h3_train = eta_edd_h3_train[dummy_train_rides[col] == 0]\n",
    "#         ata_train = ata_train[dummy_train_rides[col] == 0]\n",
    "#\n",
    "# eta_edd_h3_train.describe()"
   ],
   "metadata": {
    "collapsed": false,
    "pycharm": {
     "name": "#%%\n"
    }
   }
  },
  {
   "cell_type": "code",
   "execution_count": 14,
   "outputs": [
    {
     "name": "stdout",
     "output_type": "stream",
     "text": [
      "[11813 11813    46     5  9960   250   638   295   606    42     5     3\n",
      "     1  9880   251   601   292    24   705]\n",
      "Index(['eta', 'e_d_d', 'source_h3_4_842cd59ffffffff',\n",
      "       'source_h3_4_842cd5bffffffff', 'source_h3_4_842cf31ffffffff',\n",
      "       'source_h3_4_842cf33ffffffff', 'source_h3_4_842cf35ffffffff',\n",
      "       'source_h3_4_842cf37ffffffff', 'source_h3_4_842cf3dffffffff',\n",
      "       'dest_h3_4_842cd59ffffffff', 'dest_h3_4_842cd5bffffffff',\n",
      "       'dest_h3_4_842cf07ffffffff', 'dest_h3_4_842cf27ffffffff',\n",
      "       'dest_h3_4_842cf31ffffffff', 'dest_h3_4_842cf33ffffffff',\n",
      "       'dest_h3_4_842cf35ffffffff', 'dest_h3_4_842cf37ffffffff',\n",
      "       'dest_h3_4_842cf39ffffffff', 'dest_h3_4_842cf3dffffffff'],\n",
      "      dtype='object')\n"
     ]
    }
   ],
   "source": [
    "# print(np.count_nonzero(dummy_train_rides, axis=0))\n",
    "# print(dummy_train_rides.columns)"
   ],
   "metadata": {
    "collapsed": false,
    "pycharm": {
     "name": "#%%\n"
    }
   }
  },
  {
   "cell_type": "code",
   "execution_count": 15,
   "outputs": [],
   "source": [
    "# ohe = ColumnTransformer(\n",
    "#     [('OHE', OneHotEncoder(handle_unknown='ignore', sparse=False),['source_h3_4', 'dest_h3_4'])],\n",
    "#     remainder = 'passthrough'\n",
    "#     ).fit(eta_edd_h3_train)"
   ],
   "metadata": {
    "collapsed": false,
    "pycharm": {
     "name": "#%%\n"
    }
   }
  },
  {
   "cell_type": "code",
   "execution_count": 16,
   "outputs": [],
   "source": [
    "# eta_edd_h3_train_transformed = ohe.transform(eta_edd_h3_train)"
   ],
   "metadata": {
    "collapsed": false,
    "pycharm": {
     "name": "#%%\n"
    }
   }
  },
  {
   "cell_type": "code",
   "execution_count": 17,
   "outputs": [],
   "source": [
    "# eta_edd_h3_test_transformed = ohe.transform(eta_edd_h3_test)"
   ],
   "metadata": {
    "collapsed": false,
    "pycharm": {
     "name": "#%%\n"
    }
   }
  },
  {
   "cell_type": "code",
   "execution_count": 18,
   "outputs": [],
   "source": [
    "# reg = LinearRegression().fit(eta_edd_h3_train_transformed, ata_train)"
   ],
   "metadata": {
    "collapsed": false,
    "pycharm": {
     "name": "#%%\n"
    }
   }
  },
  {
   "cell_type": "code",
   "execution_count": 19,
   "outputs": [
    {
     "name": "stdout",
     "output_type": "stream",
     "text": [
      "[ -25.75887343  224.94473332  -19.01559462   89.69035555 -118.84195984\n",
      "  -79.42441842  -71.59424257  117.64382932 -155.64796364   39.22240546\n",
      " -111.21523618   62.08345633  121.00354353  -72.53872651   -0.55130831\n",
      "    1.53506348  -12.22265237]\n",
      "-161.57924243144953\n"
     ]
    }
   ],
   "source": [
    "# print(reg.coef_)\n",
    "# print(reg.intercept_)"
   ],
   "metadata": {
    "collapsed": false,
    "pycharm": {
     "name": "#%%\n"
    }
   }
  },
  {
   "cell_type": "code",
   "execution_count": 20,
   "outputs": [],
   "source": [
    "# ata_train_pred = reg.predict(eta_edd_h3_train_transformed)\n",
    "# ata_test_pred = reg.predict(eta_edd_h3_test_transformed)"
   ],
   "metadata": {
    "collapsed": false,
    "pycharm": {
     "name": "#%%\n"
    }
   }
  },
  {
   "cell_type": "code",
   "execution_count": 21,
   "outputs": [
    {
     "data": {
      "text/plain": "array([[0.00000000e+00, 0.00000000e+00, 1.00000000e+00, ...,\n        0.00000000e+00, 1.79100000e+03, 1.66520004e+01],\n       [0.00000000e+00, 0.00000000e+00, 1.00000000e+00, ...,\n        0.00000000e+00, 1.63700000e+03, 1.57670002e+01],\n       [0.00000000e+00, 0.00000000e+00, 1.00000000e+00, ...,\n        0.00000000e+00, 1.76800000e+03, 2.09650002e+01],\n       ...,\n       [0.00000000e+00, 0.00000000e+00, 1.00000000e+00, ...,\n        0.00000000e+00, 7.09000000e+02, 5.75500011e+00],\n       [0.00000000e+00, 0.00000000e+00, 1.00000000e+00, ...,\n        0.00000000e+00, 1.09800000e+03, 5.74200010e+00],\n       [0.00000000e+00, 0.00000000e+00, 1.00000000e+00, ...,\n        0.00000000e+00, 4.83000000e+02, 3.08599997e+00]])"
     },
     "execution_count": 21,
     "metadata": {},
     "output_type": "execute_result"
    }
   ],
   "source": [
    "# eta_edd_h3_train_transformed"
   ],
   "metadata": {
    "collapsed": false,
    "pycharm": {
     "name": "#%%\n"
    }
   }
  },
  {
   "cell_type": "code",
   "execution_count": 22,
   "outputs": [
    {
     "name": "stdout",
     "output_type": "stream",
     "text": [
      "ETA train MAE 278.5157573703829\n",
      "prediction train MAE 234.0541220760237\n",
      "ETA test MAE  284.29421221864953\n",
      "prediction test MAE 234.43059718522406\n",
      "ETA train MSE 246574.0464249407\n",
      "prediction train MSE 136276.85342773492\n",
      "ETA test MSE  252857.3199356913\n",
      "prediction test MSE 129113.47477425056\n",
      "ETA train explained_variance_score 0.7758751853508523\n",
      "prediction train explained_variance_score 0.8438333836678524\n",
      "ETA test explained_variance_score  0.7764103810242154\n",
      "prediction test explained_variance_score 0.8549435481180574\n",
      "ETA train median_absolute_error 122.5\n",
      "prediction train median_absolute_error 147.08303153043994\n",
      "ETA test median_absolute_error  124.0\n",
      "prediction test median_absolute_error 150.57483889916506\n",
      "ETA train r2_score 0.7174381889736823\n",
      "prediction train r2_score 0.8438333836678525\n",
      "ETA test r2_score  0.7158508788156106\n",
      "prediction test r2_score 0.8549083712526228\n",
      "ETA train MAPE 0.21066943334957403\n",
      "prediction train MAPE 0.2367096356321409\n",
      "ETA test MAPE  0.21635844837406298\n",
      "prediction test MAPE 0.23707406574723403\n"
     ]
    }
   ],
   "source": [
    "# print(\"ETA train MAE\", mean_absolute_error(ata_train, eta_edd_h3_train_transformed[:, 15]))\n",
    "# print(\"prediction train MAE\", mean_absolute_error(ata_train, ata_train_pred))\n",
    "#\n",
    "# print(\"ETA test MAE \", mean_absolute_error(ata_test, eta_edd_h3_test_transformed[:, 15]))\n",
    "# print(\"prediction test MAE\", mean_absolute_error(ata_test, ata_test_pred))\n",
    "#\n",
    "#\n",
    "# print(\"ETA train MSE\", mean_squared_error(ata_train, eta_edd_h3_train_transformed[:, 15]))\n",
    "# print(\"prediction train MSE\", mean_squared_error(ata_train, ata_train_pred))\n",
    "#\n",
    "# print(\"ETA test MSE \", mean_squared_error(ata_test, eta_edd_h3_test_transformed[:, 15]))\n",
    "# print(\"prediction test MSE\", mean_squared_error(ata_test, ata_test_pred))\n",
    "#\n",
    "#\n",
    "# print(\"ETA train explained_variance_score\", explained_variance_score(ata_train, eta_edd_h3_train_transformed[:, 15]))\n",
    "# print(\"prediction train explained_variance_score\", explained_variance_score(ata_train, ata_train_pred))\n",
    "#\n",
    "# print(\"ETA test explained_variance_score \", explained_variance_score(ata_test, eta_edd_h3_test_transformed[:, 15]))\n",
    "# print(\"prediction test explained_variance_score\", explained_variance_score(ata_test, ata_test_pred))\n",
    "#\n",
    "#\n",
    "# print(\"ETA train median_absolute_error\", median_absolute_error(ata_train, eta_edd_h3_train_transformed[:, 15]))\n",
    "# print(\"prediction train median_absolute_error\", median_absolute_error(ata_train, ata_train_pred))\n",
    "#\n",
    "# print(\"ETA test median_absolute_error \", median_absolute_error(ata_test, eta_edd_h3_test_transformed[:, 15]))\n",
    "# print(\"prediction test median_absolute_error\", median_absolute_error(ata_test, ata_test_pred))\n",
    "#\n",
    "#\n",
    "# print(\"ETA train r2_score\", r2_score(ata_train, eta_edd_h3_train_transformed[:, 15]))\n",
    "# print(\"prediction train r2_score\", r2_score(ata_train, ata_train_pred))\n",
    "#\n",
    "# print(\"ETA test r2_score \", r2_score(ata_test, eta_edd_h3_test_transformed[:, 15]))\n",
    "# print(\"prediction test r2_score\", r2_score(ata_test, ata_test_pred))\n",
    "#\n",
    "#\n",
    "# print(\"ETA train MAPE\", mean_absolute_percentage_error(ata_train, eta_edd_h3_train_transformed[:, 15]))\n",
    "# print(\"prediction train MAPE\", mean_absolute_percentage_error(ata_train, ata_train_pred))\n",
    "#\n",
    "# print(\"ETA test MAPE \", mean_absolute_percentage_error(ata_test, eta_edd_h3_test_transformed[:, 15]))\n",
    "# print(\"prediction test MAPE\", mean_absolute_percentage_error(ata_test, ata_test_pred))"
   ],
   "metadata": {
    "collapsed": false,
    "pycharm": {
     "name": "#%%\n"
    }
   }
  },
  {
   "cell_type": "code",
   "execution_count": 9,
   "outputs": [
    {
     "data": {
      "text/plain": "        eta   ata  a_t_a_result.ride_a_t_a  source_lat  source_lng  \\\n2      1826  2075                     2060   35.677704   51.332360   \n7      2085  1874                     1879   35.780780   51.329643   \n11     1846  2102                     2500   35.713715   51.315964   \n18     2913  4069                     4036   35.564354   51.237858   \n20     1969  2271                     2258   35.709396   51.389660   \n...     ...   ...                      ...         ...         ...   \n20772  2134  4072                     4337   35.777378   51.447437   \n20781  1891  3041                     3008   35.710052   51.389904   \n20788  3148  3542                     3460   35.670616   51.357600   \n20796  2694  1947                     1969   35.704956   51.229440   \n20821  1855  1827                     1792   35.447790   51.179874   \n\n       destination_lat  destination_lng      e_d_d      source_h3_4  \\\n2            35.785572        51.339230  13.912000  842cf31ffffffff   \n7            35.723328        51.423737  17.827000  842cf31ffffffff   \n11           35.805560        51.411820  20.403000  842cf31ffffffff   \n18           35.669804        51.036410  37.376999  842cf35ffffffff   \n20           35.789024        51.338500  16.684000  842cf31ffffffff   \n...                ...              ...        ...              ...   \n20772        35.732320        51.333805  17.971001  842cf31ffffffff   \n20781        35.675682        51.483303  12.630000  842cf31ffffffff   \n20788        35.725754        51.582650  41.417000  842cf31ffffffff   \n20796        35.818474        50.953747  35.577999  842cf31ffffffff   \n20821        35.623560        51.401276  35.070000  842cf35ffffffff   \n\n             dest_h3_4  \n2      842cf31ffffffff  \n7      842cf31ffffffff  \n11     842cf31ffffffff  \n18     842cf3dffffffff  \n20     842cf31ffffffff  \n...                ...  \n20772  842cf31ffffffff  \n20781  842cf31ffffffff  \n20788  842cf31ffffffff  \n20796  842cf3dffffffff  \n20821  842cf31ffffffff  \n\n[1958 rows x 10 columns]",
      "text/html": "<div>\n<style scoped>\n    .dataframe tbody tr th:only-of-type {\n        vertical-align: middle;\n    }\n\n    .dataframe tbody tr th {\n        vertical-align: top;\n    }\n\n    .dataframe thead th {\n        text-align: right;\n    }\n</style>\n<table border=\"1\" class=\"dataframe\">\n  <thead>\n    <tr style=\"text-align: right;\">\n      <th></th>\n      <th>eta</th>\n      <th>ata</th>\n      <th>a_t_a_result.ride_a_t_a</th>\n      <th>source_lat</th>\n      <th>source_lng</th>\n      <th>destination_lat</th>\n      <th>destination_lng</th>\n      <th>e_d_d</th>\n      <th>source_h3_4</th>\n      <th>dest_h3_4</th>\n    </tr>\n  </thead>\n  <tbody>\n    <tr>\n      <th>2</th>\n      <td>1826</td>\n      <td>2075</td>\n      <td>2060</td>\n      <td>35.677704</td>\n      <td>51.332360</td>\n      <td>35.785572</td>\n      <td>51.339230</td>\n      <td>13.912000</td>\n      <td>842cf31ffffffff</td>\n      <td>842cf31ffffffff</td>\n    </tr>\n    <tr>\n      <th>7</th>\n      <td>2085</td>\n      <td>1874</td>\n      <td>1879</td>\n      <td>35.780780</td>\n      <td>51.329643</td>\n      <td>35.723328</td>\n      <td>51.423737</td>\n      <td>17.827000</td>\n      <td>842cf31ffffffff</td>\n      <td>842cf31ffffffff</td>\n    </tr>\n    <tr>\n      <th>11</th>\n      <td>1846</td>\n      <td>2102</td>\n      <td>2500</td>\n      <td>35.713715</td>\n      <td>51.315964</td>\n      <td>35.805560</td>\n      <td>51.411820</td>\n      <td>20.403000</td>\n      <td>842cf31ffffffff</td>\n      <td>842cf31ffffffff</td>\n    </tr>\n    <tr>\n      <th>18</th>\n      <td>2913</td>\n      <td>4069</td>\n      <td>4036</td>\n      <td>35.564354</td>\n      <td>51.237858</td>\n      <td>35.669804</td>\n      <td>51.036410</td>\n      <td>37.376999</td>\n      <td>842cf35ffffffff</td>\n      <td>842cf3dffffffff</td>\n    </tr>\n    <tr>\n      <th>20</th>\n      <td>1969</td>\n      <td>2271</td>\n      <td>2258</td>\n      <td>35.709396</td>\n      <td>51.389660</td>\n      <td>35.789024</td>\n      <td>51.338500</td>\n      <td>16.684000</td>\n      <td>842cf31ffffffff</td>\n      <td>842cf31ffffffff</td>\n    </tr>\n    <tr>\n      <th>...</th>\n      <td>...</td>\n      <td>...</td>\n      <td>...</td>\n      <td>...</td>\n      <td>...</td>\n      <td>...</td>\n      <td>...</td>\n      <td>...</td>\n      <td>...</td>\n      <td>...</td>\n    </tr>\n    <tr>\n      <th>20772</th>\n      <td>2134</td>\n      <td>4072</td>\n      <td>4337</td>\n      <td>35.777378</td>\n      <td>51.447437</td>\n      <td>35.732320</td>\n      <td>51.333805</td>\n      <td>17.971001</td>\n      <td>842cf31ffffffff</td>\n      <td>842cf31ffffffff</td>\n    </tr>\n    <tr>\n      <th>20781</th>\n      <td>1891</td>\n      <td>3041</td>\n      <td>3008</td>\n      <td>35.710052</td>\n      <td>51.389904</td>\n      <td>35.675682</td>\n      <td>51.483303</td>\n      <td>12.630000</td>\n      <td>842cf31ffffffff</td>\n      <td>842cf31ffffffff</td>\n    </tr>\n    <tr>\n      <th>20788</th>\n      <td>3148</td>\n      <td>3542</td>\n      <td>3460</td>\n      <td>35.670616</td>\n      <td>51.357600</td>\n      <td>35.725754</td>\n      <td>51.582650</td>\n      <td>41.417000</td>\n      <td>842cf31ffffffff</td>\n      <td>842cf31ffffffff</td>\n    </tr>\n    <tr>\n      <th>20796</th>\n      <td>2694</td>\n      <td>1947</td>\n      <td>1969</td>\n      <td>35.704956</td>\n      <td>51.229440</td>\n      <td>35.818474</td>\n      <td>50.953747</td>\n      <td>35.577999</td>\n      <td>842cf31ffffffff</td>\n      <td>842cf3dffffffff</td>\n    </tr>\n    <tr>\n      <th>20821</th>\n      <td>1855</td>\n      <td>1827</td>\n      <td>1792</td>\n      <td>35.447790</td>\n      <td>51.179874</td>\n      <td>35.623560</td>\n      <td>51.401276</td>\n      <td>35.070000</td>\n      <td>842cf35ffffffff</td>\n      <td>842cf31ffffffff</td>\n    </tr>\n  </tbody>\n</table>\n<p>1958 rows × 10 columns</p>\n</div>"
     },
     "execution_count": 9,
     "metadata": {},
     "output_type": "execute_result"
    }
   ],
   "source": [
    "rides_p4 = rides[rides['eta'] > 1800]\n",
    "rides_p4"
   ],
   "metadata": {
    "collapsed": false,
    "pycharm": {
     "name": "#%%\n"
    }
   }
  },
  {
   "cell_type": "code",
   "execution_count": 21,
   "outputs": [],
   "source": [
    "p4_eta_edd_h3 = rides_p4[[\"eta\", \"source_h3_4\", \"dest_h3_4\"]]\n",
    "p4_ata = rides_p4[\"a_t_a_result.ride_a_t_a\"]"
   ],
   "metadata": {
    "collapsed": false,
    "pycharm": {
     "name": "#%%\n"
    }
   }
  },
  {
   "cell_type": "code",
   "execution_count": 22,
   "outputs": [
    {
     "name": "stdout",
     "output_type": "stream",
     "text": [
      "1860\n",
      "98\n"
     ]
    }
   ],
   "source": [
    "p4_eta_edd_h3_train, p4_eta_edd_h3_test, p4_ata_train, p4_ata_test = train_test_split(p4_eta_edd_h3, p4_ata, test_size=0.05, random_state=73)\n",
    "print(len(p4_eta_edd_h3_train))\n",
    "print(len(p4_eta_edd_h3_test))"
   ],
   "metadata": {
    "collapsed": false,
    "pycharm": {
     "name": "#%%\n"
    }
   }
  },
  {
   "cell_type": "code",
   "execution_count": 23,
   "outputs": [
    {
     "data": {
      "text/plain": "               eta  source_h3_4_842cf31ffffffff  source_h3_4_842cf33ffffffff  \\\ncount  1860.000000                  1860.000000                  1860.000000   \nmean   2369.126882                     0.844086                     0.016129   \nstd     541.964843                     0.362871                     0.126006   \nmin    1801.000000                     0.000000                     0.000000   \n25%    1979.000000                     1.000000                     0.000000   \n50%    2210.000000                     1.000000                     0.000000   \n75%    2588.250000                     1.000000                     0.000000   \nmax    6541.000000                     1.000000                     1.000000   \n\n       source_h3_4_842cf35ffffffff  source_h3_4_842cf37ffffffff  \\\ncount                  1860.000000                  1860.000000   \nmean                      0.061290                     0.019355   \nstd                       0.239927                     0.137806   \nmin                       0.000000                     0.000000   \n25%                       0.000000                     0.000000   \n50%                       0.000000                     0.000000   \n75%                       0.000000                     0.000000   \nmax                       1.000000                     1.000000   \n\n       source_h3_4_842cf3dffffffff  dest_h3_4_842cd59ffffffff  \\\ncount                  1860.000000                1860.000000   \nmean                      0.058065                   0.000538   \nstd                       0.233928                   0.023187   \nmin                       0.000000                   0.000000   \n25%                       0.000000                   0.000000   \n50%                       0.000000                   0.000000   \n75%                       0.000000                   0.000000   \nmax                       1.000000                   1.000000   \n\n       dest_h3_4_842cf01ffffffff  dest_h3_4_842cf07ffffffff  \\\ncount                1860.000000                1860.000000   \nmean                    0.000538                   0.001613   \nstd                     0.023187                   0.040139   \nmin                     0.000000                   0.000000   \n25%                     0.000000                   0.000000   \n50%                     0.000000                   0.000000   \n75%                     0.000000                   0.000000   \nmax                     1.000000                   1.000000   \n\n       dest_h3_4_842cf27ffffffff  dest_h3_4_842cf31ffffffff  \\\ncount                1860.000000                1860.000000   \nmean                    0.000538                   0.787634   \nstd                     0.023187                   0.409092   \nmin                     0.000000                   0.000000   \n25%                     0.000000                   1.000000   \n50%                     0.000000                   1.000000   \n75%                     0.000000                   1.000000   \nmax                     1.000000                   1.000000   \n\n       dest_h3_4_842cf33ffffffff  dest_h3_4_842cf35ffffffff  \\\ncount                1860.000000                1860.000000   \nmean                    0.016667                   0.035484   \nstd                     0.128054                   0.185049   \nmin                     0.000000                   0.000000   \n25%                     0.000000                   0.000000   \n50%                     0.000000                   0.000000   \n75%                     0.000000                   0.000000   \nmax                     1.000000                   1.000000   \n\n       dest_h3_4_842cf37ffffffff  dest_h3_4_842cf39ffffffff  \\\ncount                1860.000000                1860.000000   \nmean                    0.012903                   0.022581   \nstd                     0.112887                   0.148602   \nmin                     0.000000                   0.000000   \n25%                     0.000000                   0.000000   \n50%                     0.000000                   0.000000   \n75%                     0.000000                   0.000000   \nmax                     1.000000                   1.000000   \n\n       dest_h3_4_842cf3dffffffff  \ncount                1860.000000  \nmean                    0.120968  \nstd                     0.326177  \nmin                     0.000000  \n25%                     0.000000  \n50%                     0.000000  \n75%                     0.000000  \nmax                     1.000000  ",
      "text/html": "<div>\n<style scoped>\n    .dataframe tbody tr th:only-of-type {\n        vertical-align: middle;\n    }\n\n    .dataframe tbody tr th {\n        vertical-align: top;\n    }\n\n    .dataframe thead th {\n        text-align: right;\n    }\n</style>\n<table border=\"1\" class=\"dataframe\">\n  <thead>\n    <tr style=\"text-align: right;\">\n      <th></th>\n      <th>eta</th>\n      <th>source_h3_4_842cf31ffffffff</th>\n      <th>source_h3_4_842cf33ffffffff</th>\n      <th>source_h3_4_842cf35ffffffff</th>\n      <th>source_h3_4_842cf37ffffffff</th>\n      <th>source_h3_4_842cf3dffffffff</th>\n      <th>dest_h3_4_842cd59ffffffff</th>\n      <th>dest_h3_4_842cf01ffffffff</th>\n      <th>dest_h3_4_842cf07ffffffff</th>\n      <th>dest_h3_4_842cf27ffffffff</th>\n      <th>dest_h3_4_842cf31ffffffff</th>\n      <th>dest_h3_4_842cf33ffffffff</th>\n      <th>dest_h3_4_842cf35ffffffff</th>\n      <th>dest_h3_4_842cf37ffffffff</th>\n      <th>dest_h3_4_842cf39ffffffff</th>\n      <th>dest_h3_4_842cf3dffffffff</th>\n    </tr>\n  </thead>\n  <tbody>\n    <tr>\n      <th>count</th>\n      <td>1860.000000</td>\n      <td>1860.000000</td>\n      <td>1860.000000</td>\n      <td>1860.000000</td>\n      <td>1860.000000</td>\n      <td>1860.000000</td>\n      <td>1860.000000</td>\n      <td>1860.000000</td>\n      <td>1860.000000</td>\n      <td>1860.000000</td>\n      <td>1860.000000</td>\n      <td>1860.000000</td>\n      <td>1860.000000</td>\n      <td>1860.000000</td>\n      <td>1860.000000</td>\n      <td>1860.000000</td>\n    </tr>\n    <tr>\n      <th>mean</th>\n      <td>2369.126882</td>\n      <td>0.844086</td>\n      <td>0.016129</td>\n      <td>0.061290</td>\n      <td>0.019355</td>\n      <td>0.058065</td>\n      <td>0.000538</td>\n      <td>0.000538</td>\n      <td>0.001613</td>\n      <td>0.000538</td>\n      <td>0.787634</td>\n      <td>0.016667</td>\n      <td>0.035484</td>\n      <td>0.012903</td>\n      <td>0.022581</td>\n      <td>0.120968</td>\n    </tr>\n    <tr>\n      <th>std</th>\n      <td>541.964843</td>\n      <td>0.362871</td>\n      <td>0.126006</td>\n      <td>0.239927</td>\n      <td>0.137806</td>\n      <td>0.233928</td>\n      <td>0.023187</td>\n      <td>0.023187</td>\n      <td>0.040139</td>\n      <td>0.023187</td>\n      <td>0.409092</td>\n      <td>0.128054</td>\n      <td>0.185049</td>\n      <td>0.112887</td>\n      <td>0.148602</td>\n      <td>0.326177</td>\n    </tr>\n    <tr>\n      <th>min</th>\n      <td>1801.000000</td>\n      <td>0.000000</td>\n      <td>0.000000</td>\n      <td>0.000000</td>\n      <td>0.000000</td>\n      <td>0.000000</td>\n      <td>0.000000</td>\n      <td>0.000000</td>\n      <td>0.000000</td>\n      <td>0.000000</td>\n      <td>0.000000</td>\n      <td>0.000000</td>\n      <td>0.000000</td>\n      <td>0.000000</td>\n      <td>0.000000</td>\n      <td>0.000000</td>\n    </tr>\n    <tr>\n      <th>25%</th>\n      <td>1979.000000</td>\n      <td>1.000000</td>\n      <td>0.000000</td>\n      <td>0.000000</td>\n      <td>0.000000</td>\n      <td>0.000000</td>\n      <td>0.000000</td>\n      <td>0.000000</td>\n      <td>0.000000</td>\n      <td>0.000000</td>\n      <td>1.000000</td>\n      <td>0.000000</td>\n      <td>0.000000</td>\n      <td>0.000000</td>\n      <td>0.000000</td>\n      <td>0.000000</td>\n    </tr>\n    <tr>\n      <th>50%</th>\n      <td>2210.000000</td>\n      <td>1.000000</td>\n      <td>0.000000</td>\n      <td>0.000000</td>\n      <td>0.000000</td>\n      <td>0.000000</td>\n      <td>0.000000</td>\n      <td>0.000000</td>\n      <td>0.000000</td>\n      <td>0.000000</td>\n      <td>1.000000</td>\n      <td>0.000000</td>\n      <td>0.000000</td>\n      <td>0.000000</td>\n      <td>0.000000</td>\n      <td>0.000000</td>\n    </tr>\n    <tr>\n      <th>75%</th>\n      <td>2588.250000</td>\n      <td>1.000000</td>\n      <td>0.000000</td>\n      <td>0.000000</td>\n      <td>0.000000</td>\n      <td>0.000000</td>\n      <td>0.000000</td>\n      <td>0.000000</td>\n      <td>0.000000</td>\n      <td>0.000000</td>\n      <td>1.000000</td>\n      <td>0.000000</td>\n      <td>0.000000</td>\n      <td>0.000000</td>\n      <td>0.000000</td>\n      <td>0.000000</td>\n    </tr>\n    <tr>\n      <th>max</th>\n      <td>6541.000000</td>\n      <td>1.000000</td>\n      <td>1.000000</td>\n      <td>1.000000</td>\n      <td>1.000000</td>\n      <td>1.000000</td>\n      <td>1.000000</td>\n      <td>1.000000</td>\n      <td>1.000000</td>\n      <td>1.000000</td>\n      <td>1.000000</td>\n      <td>1.000000</td>\n      <td>1.000000</td>\n      <td>1.000000</td>\n      <td>1.000000</td>\n      <td>1.000000</td>\n    </tr>\n  </tbody>\n</table>\n</div>"
     },
     "execution_count": 23,
     "metadata": {},
     "output_type": "execute_result"
    }
   ],
   "source": [
    "p4_dummy_train_rides = pd.get_dummies(p4_eta_edd_h3_train, prefix={'source_h3_4': 'source_h3_4',\n",
    "                                                             'dest_h3_4': 'dest_h3_4'},\n",
    "                                   drop_first=True)\n",
    "p4_dummy_train_rides.describe()"
   ],
   "metadata": {
    "collapsed": false,
    "pycharm": {
     "name": "#%%\n"
    }
   }
  },
  {
   "cell_type": "code",
   "execution_count": 24,
   "outputs": [
    {
     "name": "stderr",
     "output_type": "stream",
     "text": [
      "/var/folders/yq/707ysz_j3jlggmtk5clx13rm0000gn/T/ipykernel_54626/2647439264.py:7: UserWarning: Boolean Series key will be reindexed to match DataFrame index.\n",
      "  p4_eta_edd_h3_train = p4_eta_edd_h3_train[p4_dummy_train_rides[col] == 0]\n"
     ]
    },
    {
     "data": {
      "text/plain": "               eta\ncount  1854.000000\nmean   2361.861920\nstd     525.054525\nmin    1801.000000\n25%    1978.250000\n50%    2208.000000\n75%    2585.750000\nmax    5231.000000",
      "text/html": "<div>\n<style scoped>\n    .dataframe tbody tr th:only-of-type {\n        vertical-align: middle;\n    }\n\n    .dataframe tbody tr th {\n        vertical-align: top;\n    }\n\n    .dataframe thead th {\n        text-align: right;\n    }\n</style>\n<table border=\"1\" class=\"dataframe\">\n  <thead>\n    <tr style=\"text-align: right;\">\n      <th></th>\n      <th>eta</th>\n    </tr>\n  </thead>\n  <tbody>\n    <tr>\n      <th>count</th>\n      <td>1854.000000</td>\n    </tr>\n    <tr>\n      <th>mean</th>\n      <td>2361.861920</td>\n    </tr>\n    <tr>\n      <th>std</th>\n      <td>525.054525</td>\n    </tr>\n    <tr>\n      <th>min</th>\n      <td>1801.000000</td>\n    </tr>\n    <tr>\n      <th>25%</th>\n      <td>1978.250000</td>\n    </tr>\n    <tr>\n      <th>50%</th>\n      <td>2208.000000</td>\n    </tr>\n    <tr>\n      <th>75%</th>\n      <td>2585.750000</td>\n    </tr>\n    <tr>\n      <th>max</th>\n      <td>5231.000000</td>\n    </tr>\n  </tbody>\n</table>\n</div>"
     },
     "execution_count": 24,
     "metadata": {},
     "output_type": "execute_result"
    }
   ],
   "source": [
    "p4_geo_noise = np.count_nonzero(p4_dummy_train_rides, axis=0) < 10\n",
    "\n",
    "p4_cols = p4_dummy_train_rides.columns\n",
    "for col, noise in zip(p4_cols, p4_geo_noise):\n",
    "    if noise:\n",
    "        # DOESN'T REINDEX\n",
    "        p4_eta_edd_h3_train = p4_eta_edd_h3_train[p4_dummy_train_rides[col] == 0]\n",
    "        p4_ata_train = p4_ata_train[p4_dummy_train_rides[col] == 0]\n",
    "\n",
    "p4_eta_edd_h3_train.describe()"
   ],
   "metadata": {
    "collapsed": false,
    "pycharm": {
     "name": "#%%\n"
    }
   }
  },
  {
   "cell_type": "code",
   "execution_count": 25,
   "outputs": [
    {
     "name": "stdout",
     "output_type": "stream",
     "text": [
      "[1860 1570   30  114   36  108    1    1    3    1 1465   31   66   24\n",
      "   42  225]\n",
      "Index(['eta', 'source_h3_4_842cf31ffffffff', 'source_h3_4_842cf33ffffffff',\n",
      "       'source_h3_4_842cf35ffffffff', 'source_h3_4_842cf37ffffffff',\n",
      "       'source_h3_4_842cf3dffffffff', 'dest_h3_4_842cd59ffffffff',\n",
      "       'dest_h3_4_842cf01ffffffff', 'dest_h3_4_842cf07ffffffff',\n",
      "       'dest_h3_4_842cf27ffffffff', 'dest_h3_4_842cf31ffffffff',\n",
      "       'dest_h3_4_842cf33ffffffff', 'dest_h3_4_842cf35ffffffff',\n",
      "       'dest_h3_4_842cf37ffffffff', 'dest_h3_4_842cf39ffffffff',\n",
      "       'dest_h3_4_842cf3dffffffff'],\n",
      "      dtype='object')\n"
     ]
    }
   ],
   "source": [
    "print(np.count_nonzero(p4_dummy_train_rides, axis=0))\n",
    "print(p4_dummy_train_rides.columns)"
   ],
   "metadata": {
    "collapsed": false,
    "pycharm": {
     "name": "#%%\n"
    }
   }
  },
  {
   "cell_type": "code",
   "execution_count": 26,
   "outputs": [],
   "source": [
    "p4_ohe = ColumnTransformer(\n",
    "    [('OHE', OneHotEncoder(handle_unknown='ignore', sparse=False), ['source_h3_4', 'dest_h3_4'])],\n",
    "    remainder='passthrough'\n",
    ").fit(p4_eta_edd_h3_train)"
   ],
   "metadata": {
    "collapsed": false,
    "pycharm": {
     "name": "#%%\n"
    }
   }
  },
  {
   "cell_type": "code",
   "execution_count": 27,
   "outputs": [],
   "source": [
    "p4_eta_edd_h3_train_transformed = p4_ohe.transform(p4_eta_edd_h3_train)\n",
    "p4_eta_edd_h3_test_transformed = p4_ohe.transform(p4_eta_edd_h3_test)"
   ],
   "metadata": {
    "collapsed": false,
    "pycharm": {
     "name": "#%%\n"
    }
   }
  },
  {
   "cell_type": "code",
   "execution_count": 28,
   "outputs": [
    {
     "name": "stdout",
     "output_type": "stream",
     "text": [
      "[ 600.86377725  195.68473626  -47.7876749  -332.85178434 -199.32540932\n",
      " -216.58364495  368.01465972  202.72331235 -247.29678868  -88.98770215\n",
      "  -40.35822013  -85.39666873 -108.69859238    1.45952628]\n",
      "-629.6304105979962\n"
     ]
    }
   ],
   "source": [
    "p4_reg = LinearRegression().fit(p4_eta_edd_h3_train_transformed, p4_ata_train)\n",
    "print(p4_reg.coef_)\n",
    "print(p4_reg.intercept_)"
   ],
   "metadata": {
    "collapsed": false,
    "pycharm": {
     "name": "#%%\n"
    }
   }
  },
  {
   "cell_type": "code",
   "execution_count": 29,
   "outputs": [],
   "source": [
    "p4_ata_train_pred = p4_reg.predict(p4_eta_edd_h3_train_transformed)\n",
    "p4_ata_test_pred = p4_reg.predict(p4_eta_edd_h3_test_transformed)"
   ],
   "metadata": {
    "collapsed": false,
    "pycharm": {
     "name": "#%%\n"
    }
   }
  },
  {
   "cell_type": "code",
   "execution_count": 30,
   "outputs": [
    {
     "data": {
      "text/plain": "array([[0.000e+00, 1.000e+00, 0.000e+00, ..., 0.000e+00, 0.000e+00,\n        1.814e+03],\n       [0.000e+00, 1.000e+00, 0.000e+00, ..., 0.000e+00, 0.000e+00,\n        2.764e+03],\n       [0.000e+00, 0.000e+00, 0.000e+00, ..., 0.000e+00, 0.000e+00,\n        2.491e+03],\n       ...,\n       [0.000e+00, 1.000e+00, 0.000e+00, ..., 0.000e+00, 0.000e+00,\n        2.561e+03],\n       [0.000e+00, 1.000e+00, 0.000e+00, ..., 0.000e+00, 0.000e+00,\n        1.820e+03],\n       [0.000e+00, 1.000e+00, 0.000e+00, ..., 0.000e+00, 0.000e+00,\n        2.180e+03]])"
     },
     "execution_count": 30,
     "metadata": {},
     "output_type": "execute_result"
    }
   ],
   "source": [
    "p4_eta_edd_h3_train_transformed"
   ],
   "metadata": {
    "collapsed": false,
    "pycharm": {
     "name": "#%%\n"
    }
   }
  },
  {
   "cell_type": "code",
   "execution_count": 31,
   "outputs": [
    {
     "name": "stdout",
     "output_type": "stream",
     "text": [
      "ETA train MAE 800.4816612729234\n",
      "prediction train MAE 558.7984343258079\n",
      "ETA test MAE  819.6224489795918\n",
      "prediction test MAE 629.4560778036163\n",
      "ETA train MSE 1130700.4795037757\n",
      "prediction train MSE 541856.5510142327\n",
      "ETA test MSE  1193228.663265306\n",
      "prediction test MSE 619514.2438497327\n",
      "ETA train explained_variance_score 0.4215992034822401\n",
      "prediction train explained_variance_score 0.48614946586327235\n",
      "ETA test explained_variance_score  0.5047123312921313\n",
      "prediction test explained_variance_score 0.5302767059262432\n",
      "ETA train median_absolute_error 613.5\n",
      "prediction train median_absolute_error 439.16264793568416\n",
      "ETA test median_absolute_error  561.0\n",
      "prediction test median_absolute_error 513.8574018037546\n",
      "ETA train r2_score -0.07225988917942971\n",
      "prediction train r2_score 0.48614946586327235\n",
      "ETA test r2_score  0.09302577917044452\n",
      "prediction test r2_score 0.5291066449319013\n",
      "ETA train MAPE 0.23463506170168916\n",
      "prediction train MAPE 0.199524369758749\n",
      "ETA test MAPE  0.2363923695013324\n",
      "prediction test MAPE 0.22473878806925116\n"
     ]
    }
   ],
   "source": [
    "print(\"ETA train MAE\", mean_absolute_error(p4_ata_train, p4_eta_edd_h3_train_transformed[:, 13]))\n",
    "print(\"prediction train MAE\", mean_absolute_error(p4_ata_train, p4_ata_train_pred))\n",
    "\n",
    "print(\"ETA test MAE \", mean_absolute_error(p4_ata_test, p4_eta_edd_h3_test_transformed[:, 13]))\n",
    "print(\"prediction test MAE\", mean_absolute_error(p4_ata_test, p4_ata_test_pred))\n",
    "\n",
    "print(\"ETA train MSE\", mean_squared_error(p4_ata_train, p4_eta_edd_h3_train_transformed[:, 13]))\n",
    "print(\"prediction train MSE\", mean_squared_error(p4_ata_train, p4_ata_train_pred))\n",
    "\n",
    "print(\"ETA test MSE \", mean_squared_error(p4_ata_test, p4_eta_edd_h3_test_transformed[:, 13]))\n",
    "print(\"prediction test MSE\", mean_squared_error(p4_ata_test, p4_ata_test_pred))\n",
    "\n",
    "print(\"ETA train explained_variance_score\", explained_variance_score(p4_ata_train, p4_eta_edd_h3_train_transformed[:, 13]))\n",
    "print(\"prediction train explained_variance_score\", explained_variance_score(p4_ata_train, p4_ata_train_pred))\n",
    "\n",
    "print(\"ETA test explained_variance_score \", explained_variance_score(p4_ata_test, p4_eta_edd_h3_test_transformed[:, 13]))\n",
    "print(\"prediction test explained_variance_score\", explained_variance_score(p4_ata_test, p4_ata_test_pred))\n",
    "\n",
    "print(\"ETA train median_absolute_error\", median_absolute_error(p4_ata_train, p4_eta_edd_h3_train_transformed[:, 13]))\n",
    "print(\"prediction train median_absolute_error\", median_absolute_error(p4_ata_train, p4_ata_train_pred))\n",
    "\n",
    "print(\"ETA test median_absolute_error \", median_absolute_error(p4_ata_test, p4_eta_edd_h3_test_transformed[:, 13]))\n",
    "print(\"prediction test median_absolute_error\", median_absolute_error(p4_ata_test, p4_ata_test_pred))\n",
    "\n",
    "print(\"ETA train r2_score\", r2_score(p4_ata_train, p4_eta_edd_h3_train_transformed[:, 13]))\n",
    "print(\"prediction train r2_score\", r2_score(p4_ata_train, p4_ata_train_pred))\n",
    "\n",
    "print(\"ETA test r2_score \", r2_score(p4_ata_test, p4_eta_edd_h3_test_transformed[:, 13]))\n",
    "print(\"prediction test r2_score\", r2_score(p4_ata_test, p4_ata_test_pred))\n",
    "\n",
    "print(\"ETA train MAPE\", mean_absolute_percentage_error(p4_ata_train, p4_eta_edd_h3_train_transformed[:, 13]))\n",
    "print(\"prediction train MAPE\", mean_absolute_percentage_error(p4_ata_train, p4_ata_train_pred))\n",
    "\n",
    "print(\"ETA test MAPE \", mean_absolute_percentage_error(p4_ata_test, p4_eta_edd_h3_test_transformed[:, 13]))\n",
    "print(\"prediction test MAPE\", mean_absolute_percentage_error(p4_ata_test, p4_ata_test_pred))"
   ],
   "metadata": {
    "collapsed": false,
    "pycharm": {
     "name": "#%%\n"
    }
   }
  },
  {
   "cell_type": "code",
   "execution_count": 64,
   "outputs": [],
   "source": [],
   "metadata": {
    "collapsed": false,
    "pycharm": {
     "name": "#%%\n"
    }
   }
  }
 ],
 "metadata": {
  "kernelspec": {
   "display_name": "Python 3",
   "language": "python",
   "name": "python3"
  },
  "language_info": {
   "codemirror_mode": {
    "name": "ipython",
    "version": 2
   },
   "file_extension": ".py",
   "mimetype": "text/x-python",
   "name": "python",
   "nbconvert_exporter": "python",
   "pygments_lexer": "ipython2",
   "version": "2.7.6"
  }
 },
 "nbformat": 4,
 "nbformat_minor": 0
}