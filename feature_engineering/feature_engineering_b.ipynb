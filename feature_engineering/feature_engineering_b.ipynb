{
 "cells": [
  {
   "cell_type": "code",
   "execution_count": 1,
   "metadata": {
    "collapsed": true,
    "pycharm": {
     "name": "#%%\n"
    }
   },
   "outputs": [],
   "source": [
    "import pandas as pd\n",
    "import numpy as np\n",
    "from sklearn.linear_model import LinearRegression\n",
    "from sklearn.metrics import mean_absolute_error, mean_squared_error, explained_variance_score, median_absolute_error, r2_score, mean_absolute_percentage_error\n",
    "from sklearn.model_selection import train_test_split\n",
    "from scipy.stats import *\n",
    "import h3\n",
    "from sklearn.preprocessing import OneHotEncoder\n",
    "from sklearn.compose import ColumnTransformer"
   ]
  },
  {
   "cell_type": "code",
   "execution_count": 2,
   "outputs": [
    {
     "data": {
      "text/plain": "       accepted_driver_id  passenger_id    source_lat    source_lng  \\\ncount        2.426000e+04  2.426000e+04  24260.000000  24260.000000   \nmean         2.010495e+06  2.376807e+07     35.693980     51.401119   \nstd          1.440427e+06  1.800928e+07      0.096191      0.143753   \nmin          1.010000e+02  1.375000e+03     35.249897     50.903470   \n25%          5.573940e+05  5.043194e+06     35.663319     51.331473   \n50%          1.992264e+06  2.400925e+07     35.723982     51.404408   \n75%          3.323714e+06  3.831664e+07     35.755246     51.465694   \nmax          4.346548e+06  5.750996e+07     35.839420     52.794230   \n\n       destination_lat  destination_lng           eta           ata  \\\ncount     24260.000000     24260.000000  24260.000000  24260.000000   \nmean         35.694668        51.397562   1003.226051   1236.469992   \nstd           0.095899         0.152071    725.298062   1034.221594   \nmin          34.636840        50.016300     24.000000    120.000000   \n25%          35.661003        51.330028    464.000000    504.000000   \n50%          35.723633        51.401817    799.000000    905.000000   \n75%          35.754699        51.470322   1347.000000   1650.000000   \nmax          36.259760        52.792877   7794.000000   9088.000000   \n\n            ride_id     city  \ncount  2.426000e+04  24260.0  \nmean   4.956898e+09      1.0  \nstd    3.405802e+05      0.0  \nmin    4.956287e+09      1.0  \n25%    4.956594e+09      1.0  \n50%    4.956982e+09      1.0  \n75%    4.957167e+09      1.0  \nmax    4.957626e+09      1.0  ",
      "text/html": "<div>\n<style scoped>\n    .dataframe tbody tr th:only-of-type {\n        vertical-align: middle;\n    }\n\n    .dataframe tbody tr th {\n        vertical-align: top;\n    }\n\n    .dataframe thead th {\n        text-align: right;\n    }\n</style>\n<table border=\"1\" class=\"dataframe\">\n  <thead>\n    <tr style=\"text-align: right;\">\n      <th></th>\n      <th>accepted_driver_id</th>\n      <th>passenger_id</th>\n      <th>source_lat</th>\n      <th>source_lng</th>\n      <th>destination_lat</th>\n      <th>destination_lng</th>\n      <th>eta</th>\n      <th>ata</th>\n      <th>ride_id</th>\n      <th>city</th>\n    </tr>\n  </thead>\n  <tbody>\n    <tr>\n      <th>count</th>\n      <td>2.426000e+04</td>\n      <td>2.426000e+04</td>\n      <td>24260.000000</td>\n      <td>24260.000000</td>\n      <td>24260.000000</td>\n      <td>24260.000000</td>\n      <td>24260.000000</td>\n      <td>24260.000000</td>\n      <td>2.426000e+04</td>\n      <td>24260.0</td>\n    </tr>\n    <tr>\n      <th>mean</th>\n      <td>2.010495e+06</td>\n      <td>2.376807e+07</td>\n      <td>35.693980</td>\n      <td>51.401119</td>\n      <td>35.694668</td>\n      <td>51.397562</td>\n      <td>1003.226051</td>\n      <td>1236.469992</td>\n      <td>4.956898e+09</td>\n      <td>1.0</td>\n    </tr>\n    <tr>\n      <th>std</th>\n      <td>1.440427e+06</td>\n      <td>1.800928e+07</td>\n      <td>0.096191</td>\n      <td>0.143753</td>\n      <td>0.095899</td>\n      <td>0.152071</td>\n      <td>725.298062</td>\n      <td>1034.221594</td>\n      <td>3.405802e+05</td>\n      <td>0.0</td>\n    </tr>\n    <tr>\n      <th>min</th>\n      <td>1.010000e+02</td>\n      <td>1.375000e+03</td>\n      <td>35.249897</td>\n      <td>50.903470</td>\n      <td>34.636840</td>\n      <td>50.016300</td>\n      <td>24.000000</td>\n      <td>120.000000</td>\n      <td>4.956287e+09</td>\n      <td>1.0</td>\n    </tr>\n    <tr>\n      <th>25%</th>\n      <td>5.573940e+05</td>\n      <td>5.043194e+06</td>\n      <td>35.663319</td>\n      <td>51.331473</td>\n      <td>35.661003</td>\n      <td>51.330028</td>\n      <td>464.000000</td>\n      <td>504.000000</td>\n      <td>4.956594e+09</td>\n      <td>1.0</td>\n    </tr>\n    <tr>\n      <th>50%</th>\n      <td>1.992264e+06</td>\n      <td>2.400925e+07</td>\n      <td>35.723982</td>\n      <td>51.404408</td>\n      <td>35.723633</td>\n      <td>51.401817</td>\n      <td>799.000000</td>\n      <td>905.000000</td>\n      <td>4.956982e+09</td>\n      <td>1.0</td>\n    </tr>\n    <tr>\n      <th>75%</th>\n      <td>3.323714e+06</td>\n      <td>3.831664e+07</td>\n      <td>35.755246</td>\n      <td>51.465694</td>\n      <td>35.754699</td>\n      <td>51.470322</td>\n      <td>1347.000000</td>\n      <td>1650.000000</td>\n      <td>4.957167e+09</td>\n      <td>1.0</td>\n    </tr>\n    <tr>\n      <th>max</th>\n      <td>4.346548e+06</td>\n      <td>5.750996e+07</td>\n      <td>35.839420</td>\n      <td>52.794230</td>\n      <td>36.259760</td>\n      <td>52.792877</td>\n      <td>7794.000000</td>\n      <td>9088.000000</td>\n      <td>4.957626e+09</td>\n      <td>1.0</td>\n    </tr>\n  </tbody>\n</table>\n</div>"
     },
     "execution_count": 2,
     "metadata": {},
     "output_type": "execute_result"
    }
   ],
   "source": [
    "rides = pd.read_csv(\"../big_query_24_14.csv\")\n",
    "rides.rename(columns={'id': 'ride_id'}, inplace=True)\n",
    "rides.describe()"
   ],
   "metadata": {
    "collapsed": false,
    "pycharm": {
     "name": "#%%\n"
    }
   }
  },
  {
   "cell_type": "code",
   "execution_count": 3,
   "outputs": [
    {
     "data": {
      "text/plain": "            ride_id     driver_id  a_t_a_result.arrival_a_t_a  \\\ncount  5.028590e+05  5.028590e+05               502859.000000   \nmean   4.956607e+09  2.379701e+06                  186.070441   \nstd    4.392595e+05  1.344870e+06                  146.035298   \nmin    4.873587e+09  1.000000e+00                    0.000000   \n25%    4.956373e+09  1.199125e+06                   91.000000   \n50%    4.956612e+09  2.438832e+06                  170.000000   \n75%    4.956863e+09  3.616538e+06                  258.000000   \nmax    4.957263e+09  4.346386e+06                 7954.000000   \n\n       a_t_a_result.boarding_a_t_a  a_t_a_result.ride_a_t_a  \\\ncount                 5.028590e+05             5.028590e+05   \nmean                  2.013937e+16             7.155686e+07   \nstd                   6.091805e+17             2.135430e+09   \nmin                   0.000000e+00             1.000000e+00   \n25%                   8.000000e+00             4.020000e+02   \n50%                   3.600000e+01             6.840000e+02   \n75%                   1.240000e+02             1.172000e+03   \nmax                   1.844674e+19             6.379876e+10   \n\n       a_t_a_result.arrival_probe_result.probe.point.lat  \\\ncount                                      502859.000000   \nmean                                           34.603114   \nstd                                             2.544448   \nmin                                            25.277332   \n25%                                            32.695423   \n50%                                            35.707092   \n75%                                            36.264671   \nmax                                            39.661167   \n\n       a_t_a_result.arrival_probe_result.probe.point.lon  \\\ncount                                      502859.000000   \nmean                                           51.913875   \nstd                                             3.538870   \nmin                                            44.829102   \n25%                                            50.836760   \n50%                                            51.409603   \n75%                                            52.524117   \nmax                                            61.168961   \n\n       a_t_a_result.arrival_probe_result.probe.timestamp  \\\ncount                                       5.028590e+05   \nmean                                        2.457812e+15   \nstd                                         2.129146e+17   \nmin                                         1.662865e+09   \n25%                                         1.663160e+09   \n50%                                         1.663161e+09   \n75%                                         1.663163e+09   \nmax                                         1.844674e+19   \n\n       a_t_a_result.arrival_probe_result.confidence  \\\ncount                                 502859.000000   \nmean                                       0.734051   \nstd                                        0.341657   \nmin                                        0.000000   \n25%                                        0.591716   \n50%                                        0.769231   \n75%                                        1.000000   \nmax                                        1.000000   \n\n       a_t_a_result.arrival_probe_result.k_ring_level  ...  \\\ncount                                   502859.000000  ...   \nmean                                         1.158275  ...   \nstd                                          1.439362  ...   \nmin                                          0.000000  ...   \n25%                                          0.000000  ...   \n50%                                          1.000000  ...   \n75%                                          2.000000  ...   \nmax                                          4.000000  ...   \n\n       pickup_a_d_d_result.route_ratio  pickup_a_d_d_result.g_p_s_ratio  \\\ncount                    502859.000000                    502859.000000   \nmean                          0.000326                         0.015392   \nstd                           0.015817                         0.017221   \nmin                           0.000000                         0.000000   \n25%                           0.000000                         0.005714   \n50%                           0.000000                         0.011905   \n75%                           0.000000                         0.020833   \nmax                           1.000000                         1.000000   \n\n       ride_a_d_d_result.distance  ride_a_d_d_result.confidence  \\\ncount               502859.000000                 502859.000000   \nmean                    13.564964                      0.857177   \nstd                     17.250296                      0.189048   \nmin                      0.000000                      0.000000   \n25%                      4.603000                      0.750032   \n50%                      8.623000                      0.957293   \n75%                     16.327728                      1.000000   \nmax                   1784.723999                      1.000000   \n\n       ride_a_d_d_result.route_ratio  ride_a_d_d_result.g_p_s_ratio  \\\ncount                  502859.000000                  502859.000000   \nmean                        0.000125                       0.707576   \nstd                         0.005345                       0.344261   \nmin                         0.000000                       0.000000   \n25%                         0.000000                       0.482860   \n50%                         0.000000                       0.884615   \n75%                         0.000000                       0.975610   \nmax                         1.000000                       1.000000   \n\n       total_a_d_d_confidence  in_ride_allotment          e_d_d          hash  \ncount           502859.000000      502859.000000  502859.000000  5.028590e+05  \nmean                 0.867706           0.046938       8.377787  9.240882e+18  \nstd                  0.178898           0.332769      12.547627  5.326126e+18  \nmin                  0.000000           0.000000       0.000000  4.062941e+13  \n25%                  0.792329           0.000000       2.784000  4.635700e+18  \n50%                  0.957387           0.000000       5.180000  9.246887e+18  \n75%                  1.000000           0.000000       9.833000  1.385216e+19  \nmax                  1.000000          34.022999    1741.516968  1.844670e+19  \n\n[8 rows x 42 columns]",
      "text/html": "<div>\n<style scoped>\n    .dataframe tbody tr th:only-of-type {\n        vertical-align: middle;\n    }\n\n    .dataframe tbody tr th {\n        vertical-align: top;\n    }\n\n    .dataframe thead th {\n        text-align: right;\n    }\n</style>\n<table border=\"1\" class=\"dataframe\">\n  <thead>\n    <tr style=\"text-align: right;\">\n      <th></th>\n      <th>ride_id</th>\n      <th>driver_id</th>\n      <th>a_t_a_result.arrival_a_t_a</th>\n      <th>a_t_a_result.boarding_a_t_a</th>\n      <th>a_t_a_result.ride_a_t_a</th>\n      <th>a_t_a_result.arrival_probe_result.probe.point.lat</th>\n      <th>a_t_a_result.arrival_probe_result.probe.point.lon</th>\n      <th>a_t_a_result.arrival_probe_result.probe.timestamp</th>\n      <th>a_t_a_result.arrival_probe_result.confidence</th>\n      <th>a_t_a_result.arrival_probe_result.k_ring_level</th>\n      <th>...</th>\n      <th>pickup_a_d_d_result.route_ratio</th>\n      <th>pickup_a_d_d_result.g_p_s_ratio</th>\n      <th>ride_a_d_d_result.distance</th>\n      <th>ride_a_d_d_result.confidence</th>\n      <th>ride_a_d_d_result.route_ratio</th>\n      <th>ride_a_d_d_result.g_p_s_ratio</th>\n      <th>total_a_d_d_confidence</th>\n      <th>in_ride_allotment</th>\n      <th>e_d_d</th>\n      <th>hash</th>\n    </tr>\n  </thead>\n  <tbody>\n    <tr>\n      <th>count</th>\n      <td>5.028590e+05</td>\n      <td>5.028590e+05</td>\n      <td>502859.000000</td>\n      <td>5.028590e+05</td>\n      <td>5.028590e+05</td>\n      <td>502859.000000</td>\n      <td>502859.000000</td>\n      <td>5.028590e+05</td>\n      <td>502859.000000</td>\n      <td>502859.000000</td>\n      <td>...</td>\n      <td>502859.000000</td>\n      <td>502859.000000</td>\n      <td>502859.000000</td>\n      <td>502859.000000</td>\n      <td>502859.000000</td>\n      <td>502859.000000</td>\n      <td>502859.000000</td>\n      <td>502859.000000</td>\n      <td>502859.000000</td>\n      <td>5.028590e+05</td>\n    </tr>\n    <tr>\n      <th>mean</th>\n      <td>4.956607e+09</td>\n      <td>2.379701e+06</td>\n      <td>186.070441</td>\n      <td>2.013937e+16</td>\n      <td>7.155686e+07</td>\n      <td>34.603114</td>\n      <td>51.913875</td>\n      <td>2.457812e+15</td>\n      <td>0.734051</td>\n      <td>1.158275</td>\n      <td>...</td>\n      <td>0.000326</td>\n      <td>0.015392</td>\n      <td>13.564964</td>\n      <td>0.857177</td>\n      <td>0.000125</td>\n      <td>0.707576</td>\n      <td>0.867706</td>\n      <td>0.046938</td>\n      <td>8.377787</td>\n      <td>9.240882e+18</td>\n    </tr>\n    <tr>\n      <th>std</th>\n      <td>4.392595e+05</td>\n      <td>1.344870e+06</td>\n      <td>146.035298</td>\n      <td>6.091805e+17</td>\n      <td>2.135430e+09</td>\n      <td>2.544448</td>\n      <td>3.538870</td>\n      <td>2.129146e+17</td>\n      <td>0.341657</td>\n      <td>1.439362</td>\n      <td>...</td>\n      <td>0.015817</td>\n      <td>0.017221</td>\n      <td>17.250296</td>\n      <td>0.189048</td>\n      <td>0.005345</td>\n      <td>0.344261</td>\n      <td>0.178898</td>\n      <td>0.332769</td>\n      <td>12.547627</td>\n      <td>5.326126e+18</td>\n    </tr>\n    <tr>\n      <th>min</th>\n      <td>4.873587e+09</td>\n      <td>1.000000e+00</td>\n      <td>0.000000</td>\n      <td>0.000000e+00</td>\n      <td>1.000000e+00</td>\n      <td>25.277332</td>\n      <td>44.829102</td>\n      <td>1.662865e+09</td>\n      <td>0.000000</td>\n      <td>0.000000</td>\n      <td>...</td>\n      <td>0.000000</td>\n      <td>0.000000</td>\n      <td>0.000000</td>\n      <td>0.000000</td>\n      <td>0.000000</td>\n      <td>0.000000</td>\n      <td>0.000000</td>\n      <td>0.000000</td>\n      <td>0.000000</td>\n      <td>4.062941e+13</td>\n    </tr>\n    <tr>\n      <th>25%</th>\n      <td>4.956373e+09</td>\n      <td>1.199125e+06</td>\n      <td>91.000000</td>\n      <td>8.000000e+00</td>\n      <td>4.020000e+02</td>\n      <td>32.695423</td>\n      <td>50.836760</td>\n      <td>1.663160e+09</td>\n      <td>0.591716</td>\n      <td>0.000000</td>\n      <td>...</td>\n      <td>0.000000</td>\n      <td>0.005714</td>\n      <td>4.603000</td>\n      <td>0.750032</td>\n      <td>0.000000</td>\n      <td>0.482860</td>\n      <td>0.792329</td>\n      <td>0.000000</td>\n      <td>2.784000</td>\n      <td>4.635700e+18</td>\n    </tr>\n    <tr>\n      <th>50%</th>\n      <td>4.956612e+09</td>\n      <td>2.438832e+06</td>\n      <td>170.000000</td>\n      <td>3.600000e+01</td>\n      <td>6.840000e+02</td>\n      <td>35.707092</td>\n      <td>51.409603</td>\n      <td>1.663161e+09</td>\n      <td>0.769231</td>\n      <td>1.000000</td>\n      <td>...</td>\n      <td>0.000000</td>\n      <td>0.011905</td>\n      <td>8.623000</td>\n      <td>0.957293</td>\n      <td>0.000000</td>\n      <td>0.884615</td>\n      <td>0.957387</td>\n      <td>0.000000</td>\n      <td>5.180000</td>\n      <td>9.246887e+18</td>\n    </tr>\n    <tr>\n      <th>75%</th>\n      <td>4.956863e+09</td>\n      <td>3.616538e+06</td>\n      <td>258.000000</td>\n      <td>1.240000e+02</td>\n      <td>1.172000e+03</td>\n      <td>36.264671</td>\n      <td>52.524117</td>\n      <td>1.663163e+09</td>\n      <td>1.000000</td>\n      <td>2.000000</td>\n      <td>...</td>\n      <td>0.000000</td>\n      <td>0.020833</td>\n      <td>16.327728</td>\n      <td>1.000000</td>\n      <td>0.000000</td>\n      <td>0.975610</td>\n      <td>1.000000</td>\n      <td>0.000000</td>\n      <td>9.833000</td>\n      <td>1.385216e+19</td>\n    </tr>\n    <tr>\n      <th>max</th>\n      <td>4.957263e+09</td>\n      <td>4.346386e+06</td>\n      <td>7954.000000</td>\n      <td>1.844674e+19</td>\n      <td>6.379876e+10</td>\n      <td>39.661167</td>\n      <td>61.168961</td>\n      <td>1.844674e+19</td>\n      <td>1.000000</td>\n      <td>4.000000</td>\n      <td>...</td>\n      <td>1.000000</td>\n      <td>1.000000</td>\n      <td>1784.723999</td>\n      <td>1.000000</td>\n      <td>1.000000</td>\n      <td>1.000000</td>\n      <td>1.000000</td>\n      <td>34.022999</td>\n      <td>1741.516968</td>\n      <td>1.844670e+19</td>\n    </tr>\n  </tbody>\n</table>\n<p>8 rows × 42 columns</p>\n</div>"
     },
     "execution_count": 3,
     "metadata": {},
     "output_type": "execute_result"
    }
   ],
   "source": [
    "columns = ['ride_id','driver_id','a_t_a_result.arrival_a_t_a','a_t_a_result.boarding_a_t_a','a_t_a_result.ride_a_t_a','a_t_a_result.arrival_probe_result.probe.point.lat','a_t_a_result.arrival_probe_result.probe.point.lon','a_t_a_result.arrival_probe_result.probe.timestamp','a_t_a_result.arrival_probe_result.confidence','a_t_a_result.arrival_probe_result.h3_index', 'a_t_a_result.arrival_probe_result.k_ring_level','a_t_a_result.boarding_probe_result.probe.point.lat','a_t_a_result.boarding_probe_result.probe.point.lon','a_t_a_result.boarding_probe_result.probe.timestamp','a_t_a_result.boarding_probe_result.confidence','a_t_a_result.boarding_probe_result.h3_index','a_t_a_result.boarding_probe_result.k_ring_level','a_t_a_result.final_destination_probe_result.probe.point.lat','a_t_a_result.final_destination_probe_result.probe.point.lon','a_t_a_result.final_destination_probe_result.probe.timestamp','a_t_a_result.final_destination_probe_result.confidence','a_t_a_result.final_destination_probe_result.h3_index','a_t_a_result.final_destination_probe_result.k_ring_level','a_t_a_result.destination_probe_result.probe.point.lat','a_t_a_result.destination_probe_result.probe.point.lon','a_t_a_result.destination_probe_result.probe.timestamp','a_t_a_result.destination_probe_result.confidence','a_t_a_result.destination_probe_result.h3_index','a_t_a_result.destination_probe_result.k_ring_level','a_t_a_result.extra_destination_probe_result.probe.point.lat','a_t_a_result.extra_destination_probe_result.probe.point.lon','a_t_a_result.extra_destination_probe_result.probe.timestamp','a_t_a_result.extra_destination_probe_result.confidence','a_t_a_result.extra_destination_probe_result.h3_index','a_t_a_result.extra_destination_probe_result.k_ring_level','pickup_a_d_d_result.distance','pickup_a_d_d_result.confidence','pickup_a_d_d_result.route_ratio','pickup_a_d_d_result.g_p_s_ratio','ride_a_d_d_result.distance','ride_a_d_d_result.confidence','ride_a_d_d_result.route_ratio','ride_a_d_d_result.g_p_s_ratio','total_a_d_d_confidence','in_ride_allotment','e_d_d','clickhouse_time','hash']\n",
    "khatkesh = pd.read_csv(\"../khatkesh_14_1.csv\", names=columns)\n",
    "khatkesh.describe()"
   ],
   "metadata": {
    "collapsed": false,
    "pycharm": {
     "name": "#%%\n"
    }
   }
  },
  {
   "cell_type": "code",
   "execution_count": 4,
   "outputs": [
    {
     "data": {
      "text/plain": "       accepted_driver_id  passenger_id    source_lat    source_lng  \\\ncount        1.506300e+04  1.506300e+04  15063.000000  15063.000000   \nmean         1.981823e+06  2.391234e+07     35.693123     51.402332   \nstd          1.436073e+06  1.795970e+07      0.097267      0.146990   \nmin          1.010000e+02  1.375000e+03     35.249897     50.903470   \n25%          5.346035e+05  5.211465e+06     35.662340     51.330618   \n50%          1.940900e+06  2.427381e+07     35.724340     51.404480   \n75%          3.289352e+06  3.849748e+07     35.754384     51.468884   \nmax          4.346206e+06  5.750970e+07     35.832066     52.781403   \n\n       destination_lat  destination_lng           eta           ata  \\\ncount     15063.000000     15063.000000  15063.000000  15063.000000   \nmean         35.694000        51.399399    867.554870   1088.631083   \nstd           0.097062         0.152614    633.272365    951.193802   \nmin          34.641853        50.535954     24.000000    120.000000   \n25%          35.660725        51.330080    410.000000    436.000000   \n50%          35.724358        51.402800    689.000000    775.000000   \n75%          35.754307        51.472001   1138.000000   1392.000000   \nmax          36.048410        52.792877   5231.000000   6709.000000   \n\n            ride_id     city  ...  pickup_a_d_d_result.route_ratio  \\\ncount  1.506300e+04  15063.0  ...                     15063.000000   \nmean   4.956710e+09      1.0  ...                         0.000208   \nstd    2.752267e+05      0.0  ...                         0.011839   \nmin    4.956287e+09      1.0  ...                         0.000000   \n25%    4.956454e+09      1.0  ...                         0.000000   \n50%    4.956690e+09      1.0  ...                         0.000000   \n75%    4.956964e+09      1.0  ...                         0.000000   \nmax    4.957246e+09      1.0  ...                         1.000000   \n\n       pickup_a_d_d_result.g_p_s_ratio  ride_a_d_d_result.distance  \\\ncount                     15063.000000                15063.000000   \nmean                          0.014827                   13.534466   \nstd                           0.015742                   14.004605   \nmin                           0.000000                    0.000000   \n25%                           0.005319                    4.448000   \n50%                           0.011236                    8.968000   \n75%                           0.020000                   17.646500   \nmax                           0.500000                  159.207718   \n\n       ride_a_d_d_result.confidence  ride_a_d_d_result.route_ratio  \\\ncount                  15063.000000                   15063.000000   \nmean                       0.876051                       0.000115   \nstd                        0.174419                       0.002896   \nmin                        0.000000                       0.000000   \n25%                        0.813760                       0.000000   \n50%                        0.965429                       0.000000   \n75%                        1.000000                       0.000000   \nmax                        1.000000                       0.204274   \n\n       ride_a_d_d_result.g_p_s_ratio  total_a_d_d_confidence  \\\ncount                   15063.000000            15063.000000   \nmean                        0.738491                0.883905   \nstd                         0.321243                0.164876   \nmin                         0.000000                0.000000   \n25%                         0.582005                0.835089   \n50%                         0.900990                0.963664   \n75%                         0.974576                1.000000   \nmax                         1.000000                1.000000   \n\n       in_ride_allotment         e_d_d          hash  \ncount       15063.000000  15063.000000  1.506300e+04  \nmean            0.015693      8.121885  9.220426e+18  \nstd             0.146355      8.625966  5.339763e+18  \nmin             0.000000      0.232000  3.680090e+14  \n25%             0.000000      2.646000  4.576592e+18  \n50%             0.000000      5.365000  9.171676e+18  \n75%             0.000000     10.529500  1.387260e+19  \nmax             4.430000    116.138000  1.844592e+19  \n\n[8 rows x 51 columns]",
      "text/html": "<div>\n<style scoped>\n    .dataframe tbody tr th:only-of-type {\n        vertical-align: middle;\n    }\n\n    .dataframe tbody tr th {\n        vertical-align: top;\n    }\n\n    .dataframe thead th {\n        text-align: right;\n    }\n</style>\n<table border=\"1\" class=\"dataframe\">\n  <thead>\n    <tr style=\"text-align: right;\">\n      <th></th>\n      <th>accepted_driver_id</th>\n      <th>passenger_id</th>\n      <th>source_lat</th>\n      <th>source_lng</th>\n      <th>destination_lat</th>\n      <th>destination_lng</th>\n      <th>eta</th>\n      <th>ata</th>\n      <th>ride_id</th>\n      <th>city</th>\n      <th>...</th>\n      <th>pickup_a_d_d_result.route_ratio</th>\n      <th>pickup_a_d_d_result.g_p_s_ratio</th>\n      <th>ride_a_d_d_result.distance</th>\n      <th>ride_a_d_d_result.confidence</th>\n      <th>ride_a_d_d_result.route_ratio</th>\n      <th>ride_a_d_d_result.g_p_s_ratio</th>\n      <th>total_a_d_d_confidence</th>\n      <th>in_ride_allotment</th>\n      <th>e_d_d</th>\n      <th>hash</th>\n    </tr>\n  </thead>\n  <tbody>\n    <tr>\n      <th>count</th>\n      <td>1.506300e+04</td>\n      <td>1.506300e+04</td>\n      <td>15063.000000</td>\n      <td>15063.000000</td>\n      <td>15063.000000</td>\n      <td>15063.000000</td>\n      <td>15063.000000</td>\n      <td>15063.000000</td>\n      <td>1.506300e+04</td>\n      <td>15063.0</td>\n      <td>...</td>\n      <td>15063.000000</td>\n      <td>15063.000000</td>\n      <td>15063.000000</td>\n      <td>15063.000000</td>\n      <td>15063.000000</td>\n      <td>15063.000000</td>\n      <td>15063.000000</td>\n      <td>15063.000000</td>\n      <td>15063.000000</td>\n      <td>1.506300e+04</td>\n    </tr>\n    <tr>\n      <th>mean</th>\n      <td>1.981823e+06</td>\n      <td>2.391234e+07</td>\n      <td>35.693123</td>\n      <td>51.402332</td>\n      <td>35.694000</td>\n      <td>51.399399</td>\n      <td>867.554870</td>\n      <td>1088.631083</td>\n      <td>4.956710e+09</td>\n      <td>1.0</td>\n      <td>...</td>\n      <td>0.000208</td>\n      <td>0.014827</td>\n      <td>13.534466</td>\n      <td>0.876051</td>\n      <td>0.000115</td>\n      <td>0.738491</td>\n      <td>0.883905</td>\n      <td>0.015693</td>\n      <td>8.121885</td>\n      <td>9.220426e+18</td>\n    </tr>\n    <tr>\n      <th>std</th>\n      <td>1.436073e+06</td>\n      <td>1.795970e+07</td>\n      <td>0.097267</td>\n      <td>0.146990</td>\n      <td>0.097062</td>\n      <td>0.152614</td>\n      <td>633.272365</td>\n      <td>951.193802</td>\n      <td>2.752267e+05</td>\n      <td>0.0</td>\n      <td>...</td>\n      <td>0.011839</td>\n      <td>0.015742</td>\n      <td>14.004605</td>\n      <td>0.174419</td>\n      <td>0.002896</td>\n      <td>0.321243</td>\n      <td>0.164876</td>\n      <td>0.146355</td>\n      <td>8.625966</td>\n      <td>5.339763e+18</td>\n    </tr>\n    <tr>\n      <th>min</th>\n      <td>1.010000e+02</td>\n      <td>1.375000e+03</td>\n      <td>35.249897</td>\n      <td>50.903470</td>\n      <td>34.641853</td>\n      <td>50.535954</td>\n      <td>24.000000</td>\n      <td>120.000000</td>\n      <td>4.956287e+09</td>\n      <td>1.0</td>\n      <td>...</td>\n      <td>0.000000</td>\n      <td>0.000000</td>\n      <td>0.000000</td>\n      <td>0.000000</td>\n      <td>0.000000</td>\n      <td>0.000000</td>\n      <td>0.000000</td>\n      <td>0.000000</td>\n      <td>0.232000</td>\n      <td>3.680090e+14</td>\n    </tr>\n    <tr>\n      <th>25%</th>\n      <td>5.346035e+05</td>\n      <td>5.211465e+06</td>\n      <td>35.662340</td>\n      <td>51.330618</td>\n      <td>35.660725</td>\n      <td>51.330080</td>\n      <td>410.000000</td>\n      <td>436.000000</td>\n      <td>4.956454e+09</td>\n      <td>1.0</td>\n      <td>...</td>\n      <td>0.000000</td>\n      <td>0.005319</td>\n      <td>4.448000</td>\n      <td>0.813760</td>\n      <td>0.000000</td>\n      <td>0.582005</td>\n      <td>0.835089</td>\n      <td>0.000000</td>\n      <td>2.646000</td>\n      <td>4.576592e+18</td>\n    </tr>\n    <tr>\n      <th>50%</th>\n      <td>1.940900e+06</td>\n      <td>2.427381e+07</td>\n      <td>35.724340</td>\n      <td>51.404480</td>\n      <td>35.724358</td>\n      <td>51.402800</td>\n      <td>689.000000</td>\n      <td>775.000000</td>\n      <td>4.956690e+09</td>\n      <td>1.0</td>\n      <td>...</td>\n      <td>0.000000</td>\n      <td>0.011236</td>\n      <td>8.968000</td>\n      <td>0.965429</td>\n      <td>0.000000</td>\n      <td>0.900990</td>\n      <td>0.963664</td>\n      <td>0.000000</td>\n      <td>5.365000</td>\n      <td>9.171676e+18</td>\n    </tr>\n    <tr>\n      <th>75%</th>\n      <td>3.289352e+06</td>\n      <td>3.849748e+07</td>\n      <td>35.754384</td>\n      <td>51.468884</td>\n      <td>35.754307</td>\n      <td>51.472001</td>\n      <td>1138.000000</td>\n      <td>1392.000000</td>\n      <td>4.956964e+09</td>\n      <td>1.0</td>\n      <td>...</td>\n      <td>0.000000</td>\n      <td>0.020000</td>\n      <td>17.646500</td>\n      <td>1.000000</td>\n      <td>0.000000</td>\n      <td>0.974576</td>\n      <td>1.000000</td>\n      <td>0.000000</td>\n      <td>10.529500</td>\n      <td>1.387260e+19</td>\n    </tr>\n    <tr>\n      <th>max</th>\n      <td>4.346206e+06</td>\n      <td>5.750970e+07</td>\n      <td>35.832066</td>\n      <td>52.781403</td>\n      <td>36.048410</td>\n      <td>52.792877</td>\n      <td>5231.000000</td>\n      <td>6709.000000</td>\n      <td>4.957246e+09</td>\n      <td>1.0</td>\n      <td>...</td>\n      <td>1.000000</td>\n      <td>0.500000</td>\n      <td>159.207718</td>\n      <td>1.000000</td>\n      <td>0.204274</td>\n      <td>1.000000</td>\n      <td>1.000000</td>\n      <td>4.430000</td>\n      <td>116.138000</td>\n      <td>1.844592e+19</td>\n    </tr>\n  </tbody>\n</table>\n<p>8 rows × 51 columns</p>\n</div>"
     },
     "execution_count": 4,
     "metadata": {},
     "output_type": "execute_result"
    }
   ],
   "source": [
    "rides_khatkesh = pd.merge(rides, khatkesh, on=\"ride_id\")\n",
    "rides_khatkesh.describe()"
   ],
   "metadata": {
    "collapsed": false,
    "pycharm": {
     "name": "#%%\n"
    }
   }
  },
  {
   "cell_type": "code",
   "execution_count": 5,
   "outputs": [
    {
     "data": {
      "text/plain": "       accepted_driver_id  passenger_id    source_lat    source_lng  \\\ncount        1.431400e+04  1.431400e+04  14314.000000  14314.000000   \nmean         1.980299e+06  2.372658e+07     35.694601     51.400947   \nstd          1.437208e+06  1.795372e+07      0.095782      0.142208   \nmin          1.010000e+02  1.375000e+03     35.249897     50.903470   \n25%          5.314055e+05  5.056045e+06     35.664489     51.331163   \n50%          1.935360e+06  2.401134e+07     35.724758     51.404336   \n75%          3.291454e+06  3.825565e+07     35.754653     51.466925   \nmax          4.346206e+06  5.750927e+07     35.828438     52.773940   \n\n       destination_lat  destination_lng           eta           ata  \\\ncount     14314.000000     14314.000000  14314.000000  14314.000000   \nmean         35.695543        51.397840    902.663337   1132.744516   \nstd           0.095551         0.148314    628.103121    952.000888   \nmin          34.641853        50.535954    181.000000    120.000000   \n25%          35.663728        51.330590    444.000000    476.000000   \n50%          35.724820        51.402598    719.000000    810.500000   \n75%          35.754650        51.470549   1170.000000   1443.000000   \nmax          36.048410        52.792877   5231.000000   6709.000000   \n\n            ride_id     city  ...  pickup_a_d_d_result.route_ratio  \\\ncount  1.431400e+04  14314.0  ...                     14314.000000   \nmean   4.956706e+09      1.0  ...                         0.000074   \nstd    2.738054e+05      0.0  ...                         0.002724   \nmin    4.956287e+09      1.0  ...                         0.000000   \n25%    4.956451e+09      1.0  ...                         0.000000   \n50%    4.956685e+09      1.0  ...                         0.000000   \n75%    4.956957e+09      1.0  ...                         0.000000   \nmax    4.957224e+09      1.0  ...                         0.156830   \n\n       pickup_a_d_d_result.g_p_s_ratio  ride_a_d_d_result.distance  \\\ncount                     14314.000000                14314.000000   \nmean                          0.013369                   14.138394   \nstd                           0.010659                   14.102775   \nmin                           0.000000                    0.194000   \n25%                           0.005348                    4.956000   \n50%                           0.010870                    9.593000   \n75%                           0.018868                   18.395999   \nmax                           0.052632                  159.207718   \n\n       ride_a_d_d_result.confidence  ride_a_d_d_result.route_ratio  \\\ncount                  14314.000000                   14314.000000   \nmean                       0.878035                       0.000087   \nstd                        0.168137                       0.001919   \nmin                        0.015032                       0.000000   \n25%                        0.817145                       0.000000   \n50%                        0.963780                       0.000000   \n75%                        1.000000                       0.000000   \nmax                        1.000000                       0.075890   \n\n       ride_a_d_d_result.g_p_s_ratio  total_a_d_d_confidence  \\\ncount                   14314.000000            14314.000000   \nmean                        0.740149                0.886102   \nstd                         0.319382                0.158786   \nmin                         0.000000                0.062460   \n25%                         0.589102                0.836708   \n50%                         0.901639                0.963172   \n75%                         0.973684                1.000000   \nmax                         1.000000                1.000000   \n\n       in_ride_allotment         e_d_d          hash  \ncount       14314.000000  14314.000000  1.431400e+04  \nmean            0.015762      8.475427  9.206828e+18  \nstd             0.147553      8.689244  5.339666e+18  \nmin             0.000000      0.598000  3.680090e+14  \n25%             0.000000      2.954000  4.553286e+18  \n50%             0.000000      5.729500  9.150920e+18  \n75%             0.000000     10.868250  1.386922e+19  \nmax             4.430000    116.138000  1.844592e+19  \n\n[8 rows x 51 columns]",
      "text/html": "<div>\n<style scoped>\n    .dataframe tbody tr th:only-of-type {\n        vertical-align: middle;\n    }\n\n    .dataframe tbody tr th {\n        vertical-align: top;\n    }\n\n    .dataframe thead th {\n        text-align: right;\n    }\n</style>\n<table border=\"1\" class=\"dataframe\">\n  <thead>\n    <tr style=\"text-align: right;\">\n      <th></th>\n      <th>accepted_driver_id</th>\n      <th>passenger_id</th>\n      <th>source_lat</th>\n      <th>source_lng</th>\n      <th>destination_lat</th>\n      <th>destination_lng</th>\n      <th>eta</th>\n      <th>ata</th>\n      <th>ride_id</th>\n      <th>city</th>\n      <th>...</th>\n      <th>pickup_a_d_d_result.route_ratio</th>\n      <th>pickup_a_d_d_result.g_p_s_ratio</th>\n      <th>ride_a_d_d_result.distance</th>\n      <th>ride_a_d_d_result.confidence</th>\n      <th>ride_a_d_d_result.route_ratio</th>\n      <th>ride_a_d_d_result.g_p_s_ratio</th>\n      <th>total_a_d_d_confidence</th>\n      <th>in_ride_allotment</th>\n      <th>e_d_d</th>\n      <th>hash</th>\n    </tr>\n  </thead>\n  <tbody>\n    <tr>\n      <th>count</th>\n      <td>1.431400e+04</td>\n      <td>1.431400e+04</td>\n      <td>14314.000000</td>\n      <td>14314.000000</td>\n      <td>14314.000000</td>\n      <td>14314.000000</td>\n      <td>14314.000000</td>\n      <td>14314.000000</td>\n      <td>1.431400e+04</td>\n      <td>14314.0</td>\n      <td>...</td>\n      <td>14314.000000</td>\n      <td>14314.000000</td>\n      <td>14314.000000</td>\n      <td>14314.000000</td>\n      <td>14314.000000</td>\n      <td>14314.000000</td>\n      <td>14314.000000</td>\n      <td>14314.000000</td>\n      <td>14314.000000</td>\n      <td>1.431400e+04</td>\n    </tr>\n    <tr>\n      <th>mean</th>\n      <td>1.980299e+06</td>\n      <td>2.372658e+07</td>\n      <td>35.694601</td>\n      <td>51.400947</td>\n      <td>35.695543</td>\n      <td>51.397840</td>\n      <td>902.663337</td>\n      <td>1132.744516</td>\n      <td>4.956706e+09</td>\n      <td>1.0</td>\n      <td>...</td>\n      <td>0.000074</td>\n      <td>0.013369</td>\n      <td>14.138394</td>\n      <td>0.878035</td>\n      <td>0.000087</td>\n      <td>0.740149</td>\n      <td>0.886102</td>\n      <td>0.015762</td>\n      <td>8.475427</td>\n      <td>9.206828e+18</td>\n    </tr>\n    <tr>\n      <th>std</th>\n      <td>1.437208e+06</td>\n      <td>1.795372e+07</td>\n      <td>0.095782</td>\n      <td>0.142208</td>\n      <td>0.095551</td>\n      <td>0.148314</td>\n      <td>628.103121</td>\n      <td>952.000888</td>\n      <td>2.738054e+05</td>\n      <td>0.0</td>\n      <td>...</td>\n      <td>0.002724</td>\n      <td>0.010659</td>\n      <td>14.102775</td>\n      <td>0.168137</td>\n      <td>0.001919</td>\n      <td>0.319382</td>\n      <td>0.158786</td>\n      <td>0.147553</td>\n      <td>8.689244</td>\n      <td>5.339666e+18</td>\n    </tr>\n    <tr>\n      <th>min</th>\n      <td>1.010000e+02</td>\n      <td>1.375000e+03</td>\n      <td>35.249897</td>\n      <td>50.903470</td>\n      <td>34.641853</td>\n      <td>50.535954</td>\n      <td>181.000000</td>\n      <td>120.000000</td>\n      <td>4.956287e+09</td>\n      <td>1.0</td>\n      <td>...</td>\n      <td>0.000000</td>\n      <td>0.000000</td>\n      <td>0.194000</td>\n      <td>0.015032</td>\n      <td>0.000000</td>\n      <td>0.000000</td>\n      <td>0.062460</td>\n      <td>0.000000</td>\n      <td>0.598000</td>\n      <td>3.680090e+14</td>\n    </tr>\n    <tr>\n      <th>25%</th>\n      <td>5.314055e+05</td>\n      <td>5.056045e+06</td>\n      <td>35.664489</td>\n      <td>51.331163</td>\n      <td>35.663728</td>\n      <td>51.330590</td>\n      <td>444.000000</td>\n      <td>476.000000</td>\n      <td>4.956451e+09</td>\n      <td>1.0</td>\n      <td>...</td>\n      <td>0.000000</td>\n      <td>0.005348</td>\n      <td>4.956000</td>\n      <td>0.817145</td>\n      <td>0.000000</td>\n      <td>0.589102</td>\n      <td>0.836708</td>\n      <td>0.000000</td>\n      <td>2.954000</td>\n      <td>4.553286e+18</td>\n    </tr>\n    <tr>\n      <th>50%</th>\n      <td>1.935360e+06</td>\n      <td>2.401134e+07</td>\n      <td>35.724758</td>\n      <td>51.404336</td>\n      <td>35.724820</td>\n      <td>51.402598</td>\n      <td>719.000000</td>\n      <td>810.500000</td>\n      <td>4.956685e+09</td>\n      <td>1.0</td>\n      <td>...</td>\n      <td>0.000000</td>\n      <td>0.010870</td>\n      <td>9.593000</td>\n      <td>0.963780</td>\n      <td>0.000000</td>\n      <td>0.901639</td>\n      <td>0.963172</td>\n      <td>0.000000</td>\n      <td>5.729500</td>\n      <td>9.150920e+18</td>\n    </tr>\n    <tr>\n      <th>75%</th>\n      <td>3.291454e+06</td>\n      <td>3.825565e+07</td>\n      <td>35.754653</td>\n      <td>51.466925</td>\n      <td>35.754650</td>\n      <td>51.470549</td>\n      <td>1170.000000</td>\n      <td>1443.000000</td>\n      <td>4.956957e+09</td>\n      <td>1.0</td>\n      <td>...</td>\n      <td>0.000000</td>\n      <td>0.018868</td>\n      <td>18.395999</td>\n      <td>1.000000</td>\n      <td>0.000000</td>\n      <td>0.973684</td>\n      <td>1.000000</td>\n      <td>0.000000</td>\n      <td>10.868250</td>\n      <td>1.386922e+19</td>\n    </tr>\n    <tr>\n      <th>max</th>\n      <td>4.346206e+06</td>\n      <td>5.750927e+07</td>\n      <td>35.828438</td>\n      <td>52.773940</td>\n      <td>36.048410</td>\n      <td>52.792877</td>\n      <td>5231.000000</td>\n      <td>6709.000000</td>\n      <td>4.957224e+09</td>\n      <td>1.0</td>\n      <td>...</td>\n      <td>0.156830</td>\n      <td>0.052632</td>\n      <td>159.207718</td>\n      <td>1.000000</td>\n      <td>0.075890</td>\n      <td>1.000000</td>\n      <td>1.000000</td>\n      <td>4.430000</td>\n      <td>116.138000</td>\n      <td>1.844592e+19</td>\n    </tr>\n  </tbody>\n</table>\n<p>8 rows × 51 columns</p>\n</div>"
     },
     "execution_count": 5,
     "metadata": {},
     "output_type": "execute_result"
    }
   ],
   "source": [
    "rides = rides_khatkesh[(rides_khatkesh['eta'] > 180) &\n",
    "                       (rides_khatkesh['eta'] < 10800) &\n",
    "                       (rides_khatkesh['a_t_a_result.ride_a_t_a'] > 180) &\n",
    "                       (rides_khatkesh['a_t_a_result.ride_a_t_a'] < 10800)]\n",
    "rides.describe()"
   ],
   "metadata": {
    "collapsed": false,
    "pycharm": {
     "name": "#%%\n"
    }
   }
  },
  {
   "cell_type": "code",
   "execution_count": 6,
   "outputs": [
    {
     "data": {
      "text/plain": "       accepted_driver_id  passenger_id    source_lat    source_lng  \\\ncount        1.243500e+04  1.243500e+04  12435.000000  12435.000000   \nmean         1.984667e+06  2.368107e+07     35.694305     51.400390   \nstd          1.440237e+06  1.796537e+07      0.095661      0.143475   \nmin          1.010000e+02  1.375000e+03     35.249897     50.903470   \n25%          5.351490e+05  5.018804e+06     35.664346     51.330320   \n50%          1.938937e+06  2.397690e+07     35.724570     51.403110   \n75%          3.300775e+06  3.826664e+07     35.754391     51.466616   \nmax          4.346206e+06  5.750927e+07     35.828438     52.773940   \n\n       destination_lat  destination_lng           eta           ata  \\\ncount     12435.000000     12435.000000  12435.000000  12435.000000   \nmean         35.695317        51.397322    896.198633   1122.913470   \nstd           0.095143         0.149095    622.199853    942.565978   \nmin          34.641853        50.535954    181.000000    120.000000   \n25%          35.663137        51.329190    443.500000    475.000000   \n50%          35.724545        51.401720    714.000000    804.000000   \n75%          35.754288        51.469811   1158.000000   1425.000000   \nmax          36.048410        52.792877   5231.000000   6596.000000   \n\n            ride_id     city  ...  pickup_a_d_d_result.route_ratio  \\\ncount  1.243500e+04  12435.0  ...                     12435.000000   \nmean   4.956707e+09      1.0  ...                         0.000079   \nstd    2.737140e+05      0.0  ...                         0.002849   \nmin    4.956287e+09      1.0  ...                         0.000000   \n25%    4.956454e+09      1.0  ...                         0.000000   \n50%    4.956685e+09      1.0  ...                         0.000000   \n75%    4.956959e+09      1.0  ...                         0.000000   \nmax    4.957224e+09      1.0  ...                         0.156830   \n\n       pickup_a_d_d_result.g_p_s_ratio  ride_a_d_d_result.distance  \\\ncount                     12435.000000                12435.000000   \nmean                          0.014224                   14.802611   \nstd                           0.010544                   14.496755   \nmin                           0.000000                    0.194000   \n25%                           0.006211                    5.310000   \n50%                           0.011628                   10.170000   \n75%                           0.020000                   19.242001   \nmax                           0.052632                  159.207718   \n\n       ride_a_d_d_result.confidence  ride_a_d_d_result.route_ratio  \\\ncount                  12435.000000                   12435.000000   \nmean                       0.932249                       0.000045   \nstd                        0.099332                       0.001173   \nmin                        0.600579                       0.000000   \n25%                        0.907555                       0.000000   \n50%                        0.978110                       0.000000   \n75%                        1.000000                       0.000000   \nmax                        1.000000                       0.067175   \n\n       ride_a_d_d_result.g_p_s_ratio  total_a_d_d_confidence  \\\ncount                   12435.000000            12435.000000   \nmean                        0.827725                0.936971   \nstd                         0.221447                0.089059   \nmin                         0.016854                0.540521   \n25%                         0.766667                0.906503   \n50%                         0.924528                0.976122   \n75%                         0.979167                1.000000   \nmax                         1.000000                1.000000   \n\n       in_ride_allotment         e_d_d          hash  \ncount       12435.000000  12435.000000  1.243500e+04  \nmean            0.017408      8.390454  9.226360e+18  \nstd             0.155708      8.574203  5.348107e+18  \nmin             0.000000      0.598000  3.680090e+14  \n25%             0.000000      2.951500  4.552304e+18  \n50%             0.000000      5.682000  9.185595e+18  \n75%             0.000000     10.783000  1.389922e+19  \nmax             4.430000    116.138000  1.844592e+19  \n\n[8 rows x 51 columns]",
      "text/html": "<div>\n<style scoped>\n    .dataframe tbody tr th:only-of-type {\n        vertical-align: middle;\n    }\n\n    .dataframe tbody tr th {\n        vertical-align: top;\n    }\n\n    .dataframe thead th {\n        text-align: right;\n    }\n</style>\n<table border=\"1\" class=\"dataframe\">\n  <thead>\n    <tr style=\"text-align: right;\">\n      <th></th>\n      <th>accepted_driver_id</th>\n      <th>passenger_id</th>\n      <th>source_lat</th>\n      <th>source_lng</th>\n      <th>destination_lat</th>\n      <th>destination_lng</th>\n      <th>eta</th>\n      <th>ata</th>\n      <th>ride_id</th>\n      <th>city</th>\n      <th>...</th>\n      <th>pickup_a_d_d_result.route_ratio</th>\n      <th>pickup_a_d_d_result.g_p_s_ratio</th>\n      <th>ride_a_d_d_result.distance</th>\n      <th>ride_a_d_d_result.confidence</th>\n      <th>ride_a_d_d_result.route_ratio</th>\n      <th>ride_a_d_d_result.g_p_s_ratio</th>\n      <th>total_a_d_d_confidence</th>\n      <th>in_ride_allotment</th>\n      <th>e_d_d</th>\n      <th>hash</th>\n    </tr>\n  </thead>\n  <tbody>\n    <tr>\n      <th>count</th>\n      <td>1.243500e+04</td>\n      <td>1.243500e+04</td>\n      <td>12435.000000</td>\n      <td>12435.000000</td>\n      <td>12435.000000</td>\n      <td>12435.000000</td>\n      <td>12435.000000</td>\n      <td>12435.000000</td>\n      <td>1.243500e+04</td>\n      <td>12435.0</td>\n      <td>...</td>\n      <td>12435.000000</td>\n      <td>12435.000000</td>\n      <td>12435.000000</td>\n      <td>12435.000000</td>\n      <td>12435.000000</td>\n      <td>12435.000000</td>\n      <td>12435.000000</td>\n      <td>12435.000000</td>\n      <td>12435.000000</td>\n      <td>1.243500e+04</td>\n    </tr>\n    <tr>\n      <th>mean</th>\n      <td>1.984667e+06</td>\n      <td>2.368107e+07</td>\n      <td>35.694305</td>\n      <td>51.400390</td>\n      <td>35.695317</td>\n      <td>51.397322</td>\n      <td>896.198633</td>\n      <td>1122.913470</td>\n      <td>4.956707e+09</td>\n      <td>1.0</td>\n      <td>...</td>\n      <td>0.000079</td>\n      <td>0.014224</td>\n      <td>14.802611</td>\n      <td>0.932249</td>\n      <td>0.000045</td>\n      <td>0.827725</td>\n      <td>0.936971</td>\n      <td>0.017408</td>\n      <td>8.390454</td>\n      <td>9.226360e+18</td>\n    </tr>\n    <tr>\n      <th>std</th>\n      <td>1.440237e+06</td>\n      <td>1.796537e+07</td>\n      <td>0.095661</td>\n      <td>0.143475</td>\n      <td>0.095143</td>\n      <td>0.149095</td>\n      <td>622.199853</td>\n      <td>942.565978</td>\n      <td>2.737140e+05</td>\n      <td>0.0</td>\n      <td>...</td>\n      <td>0.002849</td>\n      <td>0.010544</td>\n      <td>14.496755</td>\n      <td>0.099332</td>\n      <td>0.001173</td>\n      <td>0.221447</td>\n      <td>0.089059</td>\n      <td>0.155708</td>\n      <td>8.574203</td>\n      <td>5.348107e+18</td>\n    </tr>\n    <tr>\n      <th>min</th>\n      <td>1.010000e+02</td>\n      <td>1.375000e+03</td>\n      <td>35.249897</td>\n      <td>50.903470</td>\n      <td>34.641853</td>\n      <td>50.535954</td>\n      <td>181.000000</td>\n      <td>120.000000</td>\n      <td>4.956287e+09</td>\n      <td>1.0</td>\n      <td>...</td>\n      <td>0.000000</td>\n      <td>0.000000</td>\n      <td>0.194000</td>\n      <td>0.600579</td>\n      <td>0.000000</td>\n      <td>0.016854</td>\n      <td>0.540521</td>\n      <td>0.000000</td>\n      <td>0.598000</td>\n      <td>3.680090e+14</td>\n    </tr>\n    <tr>\n      <th>25%</th>\n      <td>5.351490e+05</td>\n      <td>5.018804e+06</td>\n      <td>35.664346</td>\n      <td>51.330320</td>\n      <td>35.663137</td>\n      <td>51.329190</td>\n      <td>443.500000</td>\n      <td>475.000000</td>\n      <td>4.956454e+09</td>\n      <td>1.0</td>\n      <td>...</td>\n      <td>0.000000</td>\n      <td>0.006211</td>\n      <td>5.310000</td>\n      <td>0.907555</td>\n      <td>0.000000</td>\n      <td>0.766667</td>\n      <td>0.906503</td>\n      <td>0.000000</td>\n      <td>2.951500</td>\n      <td>4.552304e+18</td>\n    </tr>\n    <tr>\n      <th>50%</th>\n      <td>1.938937e+06</td>\n      <td>2.397690e+07</td>\n      <td>35.724570</td>\n      <td>51.403110</td>\n      <td>35.724545</td>\n      <td>51.401720</td>\n      <td>714.000000</td>\n      <td>804.000000</td>\n      <td>4.956685e+09</td>\n      <td>1.0</td>\n      <td>...</td>\n      <td>0.000000</td>\n      <td>0.011628</td>\n      <td>10.170000</td>\n      <td>0.978110</td>\n      <td>0.000000</td>\n      <td>0.924528</td>\n      <td>0.976122</td>\n      <td>0.000000</td>\n      <td>5.682000</td>\n      <td>9.185595e+18</td>\n    </tr>\n    <tr>\n      <th>75%</th>\n      <td>3.300775e+06</td>\n      <td>3.826664e+07</td>\n      <td>35.754391</td>\n      <td>51.466616</td>\n      <td>35.754288</td>\n      <td>51.469811</td>\n      <td>1158.000000</td>\n      <td>1425.000000</td>\n      <td>4.956959e+09</td>\n      <td>1.0</td>\n      <td>...</td>\n      <td>0.000000</td>\n      <td>0.020000</td>\n      <td>19.242001</td>\n      <td>1.000000</td>\n      <td>0.000000</td>\n      <td>0.979167</td>\n      <td>1.000000</td>\n      <td>0.000000</td>\n      <td>10.783000</td>\n      <td>1.389922e+19</td>\n    </tr>\n    <tr>\n      <th>max</th>\n      <td>4.346206e+06</td>\n      <td>5.750927e+07</td>\n      <td>35.828438</td>\n      <td>52.773940</td>\n      <td>36.048410</td>\n      <td>52.792877</td>\n      <td>5231.000000</td>\n      <td>6596.000000</td>\n      <td>4.957224e+09</td>\n      <td>1.0</td>\n      <td>...</td>\n      <td>0.156830</td>\n      <td>0.052632</td>\n      <td>159.207718</td>\n      <td>1.000000</td>\n      <td>0.067175</td>\n      <td>1.000000</td>\n      <td>1.000000</td>\n      <td>4.430000</td>\n      <td>116.138000</td>\n      <td>1.844592e+19</td>\n    </tr>\n  </tbody>\n</table>\n<p>8 rows × 51 columns</p>\n</div>"
     },
     "execution_count": 6,
     "metadata": {},
     "output_type": "execute_result"
    }
   ],
   "source": [
    "rides = rides[rides['ride_a_d_d_result.confidence'] > 0.6]\n",
    "rides.describe()"
   ],
   "metadata": {
    "collapsed": false,
    "pycharm": {
     "name": "#%%\n"
    }
   }
  },
  {
   "cell_type": "code",
   "execution_count": 7,
   "outputs": [],
   "source": [
    "rides = rides[['eta', 'ata', 'a_t_a_result.ride_a_t_a', 'source_lat', 'source_lng', 'destination_lat', 'destination_lng', 'e_d_d']]"
   ],
   "metadata": {
    "collapsed": false,
    "pycharm": {
     "name": "#%%\n"
    }
   }
  },
  {
   "cell_type": "code",
   "execution_count": 8,
   "outputs": [],
   "source": [
    "rides['source_h3_4'] = rides.apply(lambda row: h3.geo_to_h3(row.source_lat, row.source_lng, 4), axis=1)\n",
    "rides['dest_h3_4'] = rides.apply(lambda row: h3.geo_to_h3(row.destination_lat, row.destination_lng, 4), axis=1)"
   ],
   "metadata": {
    "collapsed": false,
    "pycharm": {
     "name": "#%%\n"
    }
   }
  },
  {
   "cell_type": "code",
   "execution_count": 10,
   "outputs": [],
   "source": [
    "eta_edd_h3 = rides[[\"eta\", \"e_d_d\", \"source_h3_4\", \"dest_h3_4\"]]\n",
    "ata = rides[\"a_t_a_result.ride_a_t_a\"]"
   ],
   "metadata": {
    "collapsed": false,
    "pycharm": {
     "name": "#%%\n"
    }
   }
  },
  {
   "cell_type": "code",
   "execution_count": 11,
   "outputs": [
    {
     "name": "stdout",
     "output_type": "stream",
     "text": [
      "11813\n",
      "622\n"
     ]
    }
   ],
   "source": [
    "eta_edd_h3_train, eta_edd_h3_test, ata_train, ata_test = train_test_split(eta_edd_h3, ata, test_size=0.05, random_state=73)\n",
    "print(len(eta_edd_h3_train))\n",
    "print(len(eta_edd_h3_test))"
   ],
   "metadata": {
    "collapsed": false,
    "pycharm": {
     "name": "#%%\n"
    }
   }
  },
  {
   "cell_type": "code",
   "execution_count": 12,
   "outputs": [
    {
     "data": {
      "text/plain": "                eta         e_d_d  source_h3_4_842cd59ffffffff  \\\ncount  11813.000000  11813.000000                 11813.000000   \nmean     896.309490      8.395520                     0.003894   \nstd      622.467211      8.574888                     0.062283   \nmin      181.000000      0.689000                     0.000000   \n25%      444.000000      2.956000                     0.000000   \n50%      714.000000      5.683000                     0.000000   \n75%     1156.000000     10.777000                     0.000000   \nmax     5231.000000    116.138000                     1.000000   \n\n       source_h3_4_842cd5bffffffff  source_h3_4_842cf31ffffffff  \\\ncount                 11813.000000                 11813.000000   \nmean                      0.000423                     0.843139   \nstd                       0.020570                     0.363685   \nmin                       0.000000                     0.000000   \n25%                       0.000000                     1.000000   \n50%                       0.000000                     1.000000   \n75%                       0.000000                     1.000000   \nmax                       1.000000                     1.000000   \n\n       source_h3_4_842cf33ffffffff  source_h3_4_842cf35ffffffff  \\\ncount                 11813.000000                 11813.000000   \nmean                      0.021163                     0.054008   \nstd                       0.143934                     0.226044   \nmin                       0.000000                     0.000000   \n25%                       0.000000                     0.000000   \n50%                       0.000000                     0.000000   \n75%                       0.000000                     0.000000   \nmax                       1.000000                     1.000000   \n\n       source_h3_4_842cf37ffffffff  source_h3_4_842cf3dffffffff  \\\ncount                 11813.000000                 11813.000000   \nmean                      0.024972                     0.051299   \nstd                       0.156048                     0.220617   \nmin                       0.000000                     0.000000   \n25%                       0.000000                     0.000000   \n50%                       0.000000                     0.000000   \n75%                       0.000000                     0.000000   \nmax                       1.000000                     1.000000   \n\n       dest_h3_4_842cd59ffffffff  dest_h3_4_842cd5bffffffff  \\\ncount               11813.000000               11813.000000   \nmean                    0.003555                   0.000423   \nstd                     0.059524                   0.020570   \nmin                     0.000000                   0.000000   \n25%                     0.000000                   0.000000   \n50%                     0.000000                   0.000000   \n75%                     0.000000                   0.000000   \nmax                     1.000000                   1.000000   \n\n       dest_h3_4_842cf07ffffffff  dest_h3_4_842cf27ffffffff  \\\ncount               11813.000000               11813.000000   \nmean                    0.000254                   0.000085   \nstd                     0.015935                   0.009201   \nmin                     0.000000                   0.000000   \n25%                     0.000000                   0.000000   \n50%                     0.000000                   0.000000   \n75%                     0.000000                   0.000000   \nmax                     1.000000                   1.000000   \n\n       dest_h3_4_842cf31ffffffff  dest_h3_4_842cf33ffffffff  \\\ncount               11813.000000               11813.000000   \nmean                    0.836367                   0.021248   \nstd                     0.369958                   0.144215   \nmin                     0.000000                   0.000000   \n25%                     1.000000                   0.000000   \n50%                     1.000000                   0.000000   \n75%                     1.000000                   0.000000   \nmax                     1.000000                   1.000000   \n\n       dest_h3_4_842cf35ffffffff  dest_h3_4_842cf37ffffffff  \\\ncount               11813.000000               11813.000000   \nmean                    0.050876                   0.024719   \nstd                     0.219754                   0.155273   \nmin                     0.000000                   0.000000   \n25%                     0.000000                   0.000000   \n50%                     0.000000                   0.000000   \n75%                     0.000000                   0.000000   \nmax                     1.000000                   1.000000   \n\n       dest_h3_4_842cf39ffffffff  dest_h3_4_842cf3dffffffff  \ncount               11813.000000               11813.000000  \nmean                    0.002032                   0.059680  \nstd                     0.045030                   0.236903  \nmin                     0.000000                   0.000000  \n25%                     0.000000                   0.000000  \n50%                     0.000000                   0.000000  \n75%                     0.000000                   0.000000  \nmax                     1.000000                   1.000000  ",
      "text/html": "<div>\n<style scoped>\n    .dataframe tbody tr th:only-of-type {\n        vertical-align: middle;\n    }\n\n    .dataframe tbody tr th {\n        vertical-align: top;\n    }\n\n    .dataframe thead th {\n        text-align: right;\n    }\n</style>\n<table border=\"1\" class=\"dataframe\">\n  <thead>\n    <tr style=\"text-align: right;\">\n      <th></th>\n      <th>eta</th>\n      <th>e_d_d</th>\n      <th>source_h3_4_842cd59ffffffff</th>\n      <th>source_h3_4_842cd5bffffffff</th>\n      <th>source_h3_4_842cf31ffffffff</th>\n      <th>source_h3_4_842cf33ffffffff</th>\n      <th>source_h3_4_842cf35ffffffff</th>\n      <th>source_h3_4_842cf37ffffffff</th>\n      <th>source_h3_4_842cf3dffffffff</th>\n      <th>dest_h3_4_842cd59ffffffff</th>\n      <th>dest_h3_4_842cd5bffffffff</th>\n      <th>dest_h3_4_842cf07ffffffff</th>\n      <th>dest_h3_4_842cf27ffffffff</th>\n      <th>dest_h3_4_842cf31ffffffff</th>\n      <th>dest_h3_4_842cf33ffffffff</th>\n      <th>dest_h3_4_842cf35ffffffff</th>\n      <th>dest_h3_4_842cf37ffffffff</th>\n      <th>dest_h3_4_842cf39ffffffff</th>\n      <th>dest_h3_4_842cf3dffffffff</th>\n    </tr>\n  </thead>\n  <tbody>\n    <tr>\n      <th>count</th>\n      <td>11813.000000</td>\n      <td>11813.000000</td>\n      <td>11813.000000</td>\n      <td>11813.000000</td>\n      <td>11813.000000</td>\n      <td>11813.000000</td>\n      <td>11813.000000</td>\n      <td>11813.000000</td>\n      <td>11813.000000</td>\n      <td>11813.000000</td>\n      <td>11813.000000</td>\n      <td>11813.000000</td>\n      <td>11813.000000</td>\n      <td>11813.000000</td>\n      <td>11813.000000</td>\n      <td>11813.000000</td>\n      <td>11813.000000</td>\n      <td>11813.000000</td>\n      <td>11813.000000</td>\n    </tr>\n    <tr>\n      <th>mean</th>\n      <td>896.309490</td>\n      <td>8.395520</td>\n      <td>0.003894</td>\n      <td>0.000423</td>\n      <td>0.843139</td>\n      <td>0.021163</td>\n      <td>0.054008</td>\n      <td>0.024972</td>\n      <td>0.051299</td>\n      <td>0.003555</td>\n      <td>0.000423</td>\n      <td>0.000254</td>\n      <td>0.000085</td>\n      <td>0.836367</td>\n      <td>0.021248</td>\n      <td>0.050876</td>\n      <td>0.024719</td>\n      <td>0.002032</td>\n      <td>0.059680</td>\n    </tr>\n    <tr>\n      <th>std</th>\n      <td>622.467211</td>\n      <td>8.574888</td>\n      <td>0.062283</td>\n      <td>0.020570</td>\n      <td>0.363685</td>\n      <td>0.143934</td>\n      <td>0.226044</td>\n      <td>0.156048</td>\n      <td>0.220617</td>\n      <td>0.059524</td>\n      <td>0.020570</td>\n      <td>0.015935</td>\n      <td>0.009201</td>\n      <td>0.369958</td>\n      <td>0.144215</td>\n      <td>0.219754</td>\n      <td>0.155273</td>\n      <td>0.045030</td>\n      <td>0.236903</td>\n    </tr>\n    <tr>\n      <th>min</th>\n      <td>181.000000</td>\n      <td>0.689000</td>\n      <td>0.000000</td>\n      <td>0.000000</td>\n      <td>0.000000</td>\n      <td>0.000000</td>\n      <td>0.000000</td>\n      <td>0.000000</td>\n      <td>0.000000</td>\n      <td>0.000000</td>\n      <td>0.000000</td>\n      <td>0.000000</td>\n      <td>0.000000</td>\n      <td>0.000000</td>\n      <td>0.000000</td>\n      <td>0.000000</td>\n      <td>0.000000</td>\n      <td>0.000000</td>\n      <td>0.000000</td>\n    </tr>\n    <tr>\n      <th>25%</th>\n      <td>444.000000</td>\n      <td>2.956000</td>\n      <td>0.000000</td>\n      <td>0.000000</td>\n      <td>1.000000</td>\n      <td>0.000000</td>\n      <td>0.000000</td>\n      <td>0.000000</td>\n      <td>0.000000</td>\n      <td>0.000000</td>\n      <td>0.000000</td>\n      <td>0.000000</td>\n      <td>0.000000</td>\n      <td>1.000000</td>\n      <td>0.000000</td>\n      <td>0.000000</td>\n      <td>0.000000</td>\n      <td>0.000000</td>\n      <td>0.000000</td>\n    </tr>\n    <tr>\n      <th>50%</th>\n      <td>714.000000</td>\n      <td>5.683000</td>\n      <td>0.000000</td>\n      <td>0.000000</td>\n      <td>1.000000</td>\n      <td>0.000000</td>\n      <td>0.000000</td>\n      <td>0.000000</td>\n      <td>0.000000</td>\n      <td>0.000000</td>\n      <td>0.000000</td>\n      <td>0.000000</td>\n      <td>0.000000</td>\n      <td>1.000000</td>\n      <td>0.000000</td>\n      <td>0.000000</td>\n      <td>0.000000</td>\n      <td>0.000000</td>\n      <td>0.000000</td>\n    </tr>\n    <tr>\n      <th>75%</th>\n      <td>1156.000000</td>\n      <td>10.777000</td>\n      <td>0.000000</td>\n      <td>0.000000</td>\n      <td>1.000000</td>\n      <td>0.000000</td>\n      <td>0.000000</td>\n      <td>0.000000</td>\n      <td>0.000000</td>\n      <td>0.000000</td>\n      <td>0.000000</td>\n      <td>0.000000</td>\n      <td>0.000000</td>\n      <td>1.000000</td>\n      <td>0.000000</td>\n      <td>0.000000</td>\n      <td>0.000000</td>\n      <td>0.000000</td>\n      <td>0.000000</td>\n    </tr>\n    <tr>\n      <th>max</th>\n      <td>5231.000000</td>\n      <td>116.138000</td>\n      <td>1.000000</td>\n      <td>1.000000</td>\n      <td>1.000000</td>\n      <td>1.000000</td>\n      <td>1.000000</td>\n      <td>1.000000</td>\n      <td>1.000000</td>\n      <td>1.000000</td>\n      <td>1.000000</td>\n      <td>1.000000</td>\n      <td>1.000000</td>\n      <td>1.000000</td>\n      <td>1.000000</td>\n      <td>1.000000</td>\n      <td>1.000000</td>\n      <td>1.000000</td>\n      <td>1.000000</td>\n    </tr>\n  </tbody>\n</table>\n</div>"
     },
     "execution_count": 12,
     "metadata": {},
     "output_type": "execute_result"
    }
   ],
   "source": [
    "dummy_train_rides = pd.get_dummies(eta_edd_h3_train, prefix={'source_h3_4':'source_h3_4',\n",
    "                                                       'dest_h3_4':'dest_h3_4'},\n",
    "                          drop_first=True)\n",
    "dummy_train_rides.describe()"
   ],
   "metadata": {
    "collapsed": false,
    "pycharm": {
     "name": "#%%\n"
    }
   }
  },
  {
   "cell_type": "code",
   "execution_count": 13,
   "outputs": [
    {
     "name": "stderr",
     "output_type": "stream",
     "text": [
      "/var/folders/yq/707ysz_j3jlggmtk5clx13rm0000gn/T/ipykernel_46750/592031391.py:7: UserWarning: Boolean Series key will be reindexed to match DataFrame index.\n",
      "  eta_edd_h3_train = eta_edd_h3_train[dummy_train_rides[col] == 0]\n"
     ]
    },
    {
     "data": {
      "text/plain": "                eta         e_d_d\ncount  11804.000000  11804.000000\nmean     895.475008      8.373800\nstd      619.786057      8.472199\nmin      181.000000      0.689000\n25%      444.000000      2.954750\n50%      714.000000      5.683000\n75%     1156.000000     10.772000\nmax     5231.000000    116.138000",
      "text/html": "<div>\n<style scoped>\n    .dataframe tbody tr th:only-of-type {\n        vertical-align: middle;\n    }\n\n    .dataframe tbody tr th {\n        vertical-align: top;\n    }\n\n    .dataframe thead th {\n        text-align: right;\n    }\n</style>\n<table border=\"1\" class=\"dataframe\">\n  <thead>\n    <tr style=\"text-align: right;\">\n      <th></th>\n      <th>eta</th>\n      <th>e_d_d</th>\n    </tr>\n  </thead>\n  <tbody>\n    <tr>\n      <th>count</th>\n      <td>11804.000000</td>\n      <td>11804.000000</td>\n    </tr>\n    <tr>\n      <th>mean</th>\n      <td>895.475008</td>\n      <td>8.373800</td>\n    </tr>\n    <tr>\n      <th>std</th>\n      <td>619.786057</td>\n      <td>8.472199</td>\n    </tr>\n    <tr>\n      <th>min</th>\n      <td>181.000000</td>\n      <td>0.689000</td>\n    </tr>\n    <tr>\n      <th>25%</th>\n      <td>444.000000</td>\n      <td>2.954750</td>\n    </tr>\n    <tr>\n      <th>50%</th>\n      <td>714.000000</td>\n      <td>5.683000</td>\n    </tr>\n    <tr>\n      <th>75%</th>\n      <td>1156.000000</td>\n      <td>10.772000</td>\n    </tr>\n    <tr>\n      <th>max</th>\n      <td>5231.000000</td>\n      <td>116.138000</td>\n    </tr>\n  </tbody>\n</table>\n</div>"
     },
     "execution_count": 13,
     "metadata": {},
     "output_type": "execute_result"
    }
   ],
   "source": [
    "geo_noise = np.count_nonzero(dummy_train_rides, axis=0) < 10\n",
    "\n",
    "cols = dummy_train_rides.columns\n",
    "for col, noise in zip(cols, geo_noise):\n",
    "    if noise:\n",
    "        # DOESN'T REINDEX\n",
    "        eta_edd_h3_train = eta_edd_h3_train[dummy_train_rides[col] == 0]\n",
    "        ata_train = ata_train[dummy_train_rides[col] == 0]\n",
    "\n",
    "eta_edd_h3_train.describe()"
   ],
   "metadata": {
    "collapsed": false,
    "pycharm": {
     "name": "#%%\n"
    }
   }
  },
  {
   "cell_type": "code",
   "execution_count": 14,
   "outputs": [
    {
     "name": "stdout",
     "output_type": "stream",
     "text": [
      "[11813 11813    46     5  9960   250   638   295   606    42     5     3\n",
      "     1  9880   251   601   292    24   705]\n",
      "Index(['eta', 'e_d_d', 'source_h3_4_842cd59ffffffff',\n",
      "       'source_h3_4_842cd5bffffffff', 'source_h3_4_842cf31ffffffff',\n",
      "       'source_h3_4_842cf33ffffffff', 'source_h3_4_842cf35ffffffff',\n",
      "       'source_h3_4_842cf37ffffffff', 'source_h3_4_842cf3dffffffff',\n",
      "       'dest_h3_4_842cd59ffffffff', 'dest_h3_4_842cd5bffffffff',\n",
      "       'dest_h3_4_842cf07ffffffff', 'dest_h3_4_842cf27ffffffff',\n",
      "       'dest_h3_4_842cf31ffffffff', 'dest_h3_4_842cf33ffffffff',\n",
      "       'dest_h3_4_842cf35ffffffff', 'dest_h3_4_842cf37ffffffff',\n",
      "       'dest_h3_4_842cf39ffffffff', 'dest_h3_4_842cf3dffffffff'],\n",
      "      dtype='object')\n"
     ]
    }
   ],
   "source": [
    "print(np.count_nonzero(dummy_train_rides, axis=0))\n",
    "print(dummy_train_rides.columns)"
   ],
   "metadata": {
    "collapsed": false,
    "pycharm": {
     "name": "#%%\n"
    }
   }
  },
  {
   "cell_type": "code",
   "execution_count": 15,
   "outputs": [],
   "source": [
    "ohe = ColumnTransformer(\n",
    "    [('OHE', OneHotEncoder(handle_unknown='ignore', sparse=False),['source_h3_4', 'dest_h3_4'])],\n",
    "    remainder = 'passthrough'\n",
    "    ).fit(eta_edd_h3_train)"
   ],
   "metadata": {
    "collapsed": false,
    "pycharm": {
     "name": "#%%\n"
    }
   }
  },
  {
   "cell_type": "code",
   "execution_count": 16,
   "outputs": [],
   "source": [
    "eta_edd_h3_train_transformed = ohe.transform(eta_edd_h3_train)"
   ],
   "metadata": {
    "collapsed": false,
    "pycharm": {
     "name": "#%%\n"
    }
   }
  },
  {
   "cell_type": "code",
   "execution_count": 17,
   "outputs": [],
   "source": [
    "eta_edd_h3_test_transformed = ohe.transform(eta_edd_h3_test)"
   ],
   "metadata": {
    "collapsed": false,
    "pycharm": {
     "name": "#%%\n"
    }
   }
  },
  {
   "cell_type": "code",
   "execution_count": 18,
   "outputs": [],
   "source": [
    "reg = LinearRegression().fit(eta_edd_h3_train_transformed, ata_train)"
   ],
   "metadata": {
    "collapsed": false,
    "pycharm": {
     "name": "#%%\n"
    }
   }
  },
  {
   "cell_type": "code",
   "execution_count": 19,
   "outputs": [
    {
     "name": "stdout",
     "output_type": "stream",
     "text": [
      "[ -25.75887343  224.94473332  -19.01559462   89.69035555 -118.84195984\n",
      "  -79.42441842  -71.59424257  117.64382932 -155.64796364   39.22240546\n",
      " -111.21523618   62.08345633  121.00354353  -72.53872651   -0.55130831\n",
      "    1.53506348  -12.22265237]\n",
      "-161.57924243144953\n"
     ]
    }
   ],
   "source": [
    "print(reg.coef_)\n",
    "print(reg.intercept_)"
   ],
   "metadata": {
    "collapsed": false,
    "pycharm": {
     "name": "#%%\n"
    }
   }
  },
  {
   "cell_type": "code",
   "execution_count": 20,
   "outputs": [],
   "source": [
    "ata_train_pred = reg.predict(eta_edd_h3_train_transformed)\n",
    "ata_test_pred = reg.predict(eta_edd_h3_test_transformed)"
   ],
   "metadata": {
    "collapsed": false,
    "pycharm": {
     "name": "#%%\n"
    }
   }
  },
  {
   "cell_type": "code",
   "execution_count": 21,
   "outputs": [
    {
     "data": {
      "text/plain": "array([[0.00000000e+00, 0.00000000e+00, 1.00000000e+00, ...,\n        0.00000000e+00, 1.79100000e+03, 1.66520004e+01],\n       [0.00000000e+00, 0.00000000e+00, 1.00000000e+00, ...,\n        0.00000000e+00, 1.63700000e+03, 1.57670002e+01],\n       [0.00000000e+00, 0.00000000e+00, 1.00000000e+00, ...,\n        0.00000000e+00, 1.76800000e+03, 2.09650002e+01],\n       ...,\n       [0.00000000e+00, 0.00000000e+00, 1.00000000e+00, ...,\n        0.00000000e+00, 7.09000000e+02, 5.75500011e+00],\n       [0.00000000e+00, 0.00000000e+00, 1.00000000e+00, ...,\n        0.00000000e+00, 1.09800000e+03, 5.74200010e+00],\n       [0.00000000e+00, 0.00000000e+00, 1.00000000e+00, ...,\n        0.00000000e+00, 4.83000000e+02, 3.08599997e+00]])"
     },
     "execution_count": 21,
     "metadata": {},
     "output_type": "execute_result"
    }
   ],
   "source": [
    "eta_edd_h3_train_transformed"
   ],
   "metadata": {
    "collapsed": false,
    "pycharm": {
     "name": "#%%\n"
    }
   }
  },
  {
   "cell_type": "code",
   "execution_count": 22,
   "outputs": [
    {
     "name": "stdout",
     "output_type": "stream",
     "text": [
      "ETA train MAE 278.5157573703829\n",
      "prediction train MAE 234.0541220760237\n",
      "ETA test MAE  284.29421221864953\n",
      "prediction test MAE 234.43059718522406\n",
      "ETA train MSE 246574.0464249407\n",
      "prediction train MSE 136276.85342773492\n",
      "ETA test MSE  252857.3199356913\n",
      "prediction test MSE 129113.47477425056\n",
      "ETA train explained_variance_score 0.7758751853508523\n",
      "prediction train explained_variance_score 0.8438333836678524\n",
      "ETA test explained_variance_score  0.7764103810242154\n",
      "prediction test explained_variance_score 0.8549435481180574\n",
      "ETA train median_absolute_error 122.5\n",
      "prediction train median_absolute_error 147.08303153043994\n",
      "ETA test median_absolute_error  124.0\n",
      "prediction test median_absolute_error 150.57483889916506\n",
      "ETA train r2_score 0.7174381889736823\n",
      "prediction train r2_score 0.8438333836678525\n",
      "ETA test r2_score  0.7158508788156106\n",
      "prediction test r2_score 0.8549083712526228\n",
      "ETA train MAPE 0.21066943334957403\n",
      "prediction train MAPE 0.2367096356321409\n",
      "ETA test MAPE  0.21635844837406298\n",
      "prediction test MAPE 0.23707406574723403\n"
     ]
    }
   ],
   "source": [
    "print(\"ETA train MAE\", mean_absolute_error(ata_train, eta_edd_h3_train_transformed[:, 15]))\n",
    "print(\"prediction train MAE\", mean_absolute_error(ata_train, ata_train_pred))\n",
    "\n",
    "print(\"ETA test MAE \", mean_absolute_error(ata_test, eta_edd_h3_test_transformed[:, 15]))\n",
    "print(\"prediction test MAE\", mean_absolute_error(ata_test, ata_test_pred))\n",
    "\n",
    "\n",
    "print(\"ETA train MSE\", mean_squared_error(ata_train, eta_edd_h3_train_transformed[:, 15]))\n",
    "print(\"prediction train MSE\", mean_squared_error(ata_train, ata_train_pred))\n",
    "\n",
    "print(\"ETA test MSE \", mean_squared_error(ata_test, eta_edd_h3_test_transformed[:, 15]))\n",
    "print(\"prediction test MSE\", mean_squared_error(ata_test, ata_test_pred))\n",
    "\n",
    "\n",
    "print(\"ETA train explained_variance_score\", explained_variance_score(ata_train, eta_edd_h3_train_transformed[:, 15]))\n",
    "print(\"prediction train explained_variance_score\", explained_variance_score(ata_train, ata_train_pred))\n",
    "\n",
    "print(\"ETA test explained_variance_score \", explained_variance_score(ata_test, eta_edd_h3_test_transformed[:, 15]))\n",
    "print(\"prediction test explained_variance_score\", explained_variance_score(ata_test, ata_test_pred))\n",
    "\n",
    "\n",
    "print(\"ETA train median_absolute_error\", median_absolute_error(ata_train, eta_edd_h3_train_transformed[:, 15]))\n",
    "print(\"prediction train median_absolute_error\", median_absolute_error(ata_train, ata_train_pred))\n",
    "\n",
    "print(\"ETA test median_absolute_error \", median_absolute_error(ata_test, eta_edd_h3_test_transformed[:, 15]))\n",
    "print(\"prediction test median_absolute_error\", median_absolute_error(ata_test, ata_test_pred))\n",
    "\n",
    "\n",
    "print(\"ETA train r2_score\", r2_score(ata_train, eta_edd_h3_train_transformed[:, 15]))\n",
    "print(\"prediction train r2_score\", r2_score(ata_train, ata_train_pred))\n",
    "\n",
    "print(\"ETA test r2_score \", r2_score(ata_test, eta_edd_h3_test_transformed[:, 15]))\n",
    "print(\"prediction test r2_score\", r2_score(ata_test, ata_test_pred))\n",
    "\n",
    "\n",
    "print(\"ETA train MAPE\", mean_absolute_percentage_error(ata_train, eta_edd_h3_train_transformed[:, 15]))\n",
    "print(\"prediction train MAPE\", mean_absolute_percentage_error(ata_train, ata_train_pred))\n",
    "\n",
    "print(\"ETA test MAPE \", mean_absolute_percentage_error(ata_test, eta_edd_h3_test_transformed[:, 15]))\n",
    "print(\"prediction test MAPE\", mean_absolute_percentage_error(ata_test, ata_test_pred))"
   ],
   "metadata": {
    "collapsed": false,
    "pycharm": {
     "name": "#%%\n"
    }
   }
  },
  {
   "cell_type": "code",
   "execution_count": 40,
   "outputs": [
    {
     "data": {
      "text/plain": "        eta   ata  a_t_a_result.ride_a_t_a  source_lat  source_lng  \\\n6      2085  1874                     1879   35.780780   51.329643   \n10     1846  2102                     2500   35.713715   51.315964   \n15     2913  4069                     4036   35.564354   51.237858   \n30     2584  2611                     2572   35.475560   51.087612   \n37     2003  3737                     3752   35.706070   51.338432   \n...     ...   ...                      ...         ...         ...   \n15019  2117  3445                     3559   35.783707   51.374203   \n15025  2134  4072                     4337   35.777378   51.447437   \n15032  1891  3041                     3008   35.710052   51.389904   \n15039  2694  1947                     1969   35.704956   51.229440   \n15060  1855  1827                     1792   35.447790   51.179874   \n\n       destination_lat  destination_lng      e_d_d      source_h3_4  \\\n6            35.723328        51.423737  17.827000  842cf31ffffffff   \n10           35.805560        51.411820  20.403000  842cf31ffffffff   \n15           35.669804        51.036410  37.376999  842cf35ffffffff   \n30           35.649170        51.344048  47.419998  842cf3dffffffff   \n37           35.716774        51.455433  15.448000  842cf31ffffffff   \n...                ...              ...        ...              ...   \n15019        35.672913        51.265650  26.542000  842cf31ffffffff   \n15025        35.732320        51.333805  17.971001  842cf31ffffffff   \n15032        35.675682        51.483303  12.630000  842cf31ffffffff   \n15039        35.818474        50.953747  35.577999  842cf31ffffffff   \n15060        35.623560        51.401276  35.070000  842cf35ffffffff   \n\n             dest_h3_4  \n6      842cf31ffffffff  \n10     842cf31ffffffff  \n15     842cf3dffffffff  \n30     842cf31ffffffff  \n37     842cf31ffffffff  \n...                ...  \n15019  842cf31ffffffff  \n15025  842cf31ffffffff  \n15032  842cf31ffffffff  \n15039  842cf3dffffffff  \n15060  842cf31ffffffff  \n\n[1148 rows x 10 columns]",
      "text/html": "<div>\n<style scoped>\n    .dataframe tbody tr th:only-of-type {\n        vertical-align: middle;\n    }\n\n    .dataframe tbody tr th {\n        vertical-align: top;\n    }\n\n    .dataframe thead th {\n        text-align: right;\n    }\n</style>\n<table border=\"1\" class=\"dataframe\">\n  <thead>\n    <tr style=\"text-align: right;\">\n      <th></th>\n      <th>eta</th>\n      <th>ata</th>\n      <th>a_t_a_result.ride_a_t_a</th>\n      <th>source_lat</th>\n      <th>source_lng</th>\n      <th>destination_lat</th>\n      <th>destination_lng</th>\n      <th>e_d_d</th>\n      <th>source_h3_4</th>\n      <th>dest_h3_4</th>\n    </tr>\n  </thead>\n  <tbody>\n    <tr>\n      <th>6</th>\n      <td>2085</td>\n      <td>1874</td>\n      <td>1879</td>\n      <td>35.780780</td>\n      <td>51.329643</td>\n      <td>35.723328</td>\n      <td>51.423737</td>\n      <td>17.827000</td>\n      <td>842cf31ffffffff</td>\n      <td>842cf31ffffffff</td>\n    </tr>\n    <tr>\n      <th>10</th>\n      <td>1846</td>\n      <td>2102</td>\n      <td>2500</td>\n      <td>35.713715</td>\n      <td>51.315964</td>\n      <td>35.805560</td>\n      <td>51.411820</td>\n      <td>20.403000</td>\n      <td>842cf31ffffffff</td>\n      <td>842cf31ffffffff</td>\n    </tr>\n    <tr>\n      <th>15</th>\n      <td>2913</td>\n      <td>4069</td>\n      <td>4036</td>\n      <td>35.564354</td>\n      <td>51.237858</td>\n      <td>35.669804</td>\n      <td>51.036410</td>\n      <td>37.376999</td>\n      <td>842cf35ffffffff</td>\n      <td>842cf3dffffffff</td>\n    </tr>\n    <tr>\n      <th>30</th>\n      <td>2584</td>\n      <td>2611</td>\n      <td>2572</td>\n      <td>35.475560</td>\n      <td>51.087612</td>\n      <td>35.649170</td>\n      <td>51.344048</td>\n      <td>47.419998</td>\n      <td>842cf3dffffffff</td>\n      <td>842cf31ffffffff</td>\n    </tr>\n    <tr>\n      <th>37</th>\n      <td>2003</td>\n      <td>3737</td>\n      <td>3752</td>\n      <td>35.706070</td>\n      <td>51.338432</td>\n      <td>35.716774</td>\n      <td>51.455433</td>\n      <td>15.448000</td>\n      <td>842cf31ffffffff</td>\n      <td>842cf31ffffffff</td>\n    </tr>\n    <tr>\n      <th>...</th>\n      <td>...</td>\n      <td>...</td>\n      <td>...</td>\n      <td>...</td>\n      <td>...</td>\n      <td>...</td>\n      <td>...</td>\n      <td>...</td>\n      <td>...</td>\n      <td>...</td>\n    </tr>\n    <tr>\n      <th>15019</th>\n      <td>2117</td>\n      <td>3445</td>\n      <td>3559</td>\n      <td>35.783707</td>\n      <td>51.374203</td>\n      <td>35.672913</td>\n      <td>51.265650</td>\n      <td>26.542000</td>\n      <td>842cf31ffffffff</td>\n      <td>842cf31ffffffff</td>\n    </tr>\n    <tr>\n      <th>15025</th>\n      <td>2134</td>\n      <td>4072</td>\n      <td>4337</td>\n      <td>35.777378</td>\n      <td>51.447437</td>\n      <td>35.732320</td>\n      <td>51.333805</td>\n      <td>17.971001</td>\n      <td>842cf31ffffffff</td>\n      <td>842cf31ffffffff</td>\n    </tr>\n    <tr>\n      <th>15032</th>\n      <td>1891</td>\n      <td>3041</td>\n      <td>3008</td>\n      <td>35.710052</td>\n      <td>51.389904</td>\n      <td>35.675682</td>\n      <td>51.483303</td>\n      <td>12.630000</td>\n      <td>842cf31ffffffff</td>\n      <td>842cf31ffffffff</td>\n    </tr>\n    <tr>\n      <th>15039</th>\n      <td>2694</td>\n      <td>1947</td>\n      <td>1969</td>\n      <td>35.704956</td>\n      <td>51.229440</td>\n      <td>35.818474</td>\n      <td>50.953747</td>\n      <td>35.577999</td>\n      <td>842cf31ffffffff</td>\n      <td>842cf3dffffffff</td>\n    </tr>\n    <tr>\n      <th>15060</th>\n      <td>1855</td>\n      <td>1827</td>\n      <td>1792</td>\n      <td>35.447790</td>\n      <td>51.179874</td>\n      <td>35.623560</td>\n      <td>51.401276</td>\n      <td>35.070000</td>\n      <td>842cf35ffffffff</td>\n      <td>842cf31ffffffff</td>\n    </tr>\n  </tbody>\n</table>\n<p>1148 rows × 10 columns</p>\n</div>"
     },
     "execution_count": 40,
     "metadata": {},
     "output_type": "execute_result"
    }
   ],
   "source": [
    "rides_p4 = rides[rides['eta'] > 1800]\n",
    "rides_p4"
   ],
   "metadata": {
    "collapsed": false,
    "pycharm": {
     "name": "#%%\n"
    }
   }
  },
  {
   "cell_type": "code",
   "execution_count": 41,
   "outputs": [],
   "source": [
    "p4_eta_edd_h3 = rides_p4[[\"eta\", \"e_d_d\", \"source_h3_4\", \"dest_h3_4\"]]\n",
    "p4_ata = rides_p4[\"a_t_a_result.ride_a_t_a\"]"
   ],
   "metadata": {
    "collapsed": false,
    "pycharm": {
     "name": "#%%\n"
    }
   }
  },
  {
   "cell_type": "code",
   "execution_count": 42,
   "outputs": [
    {
     "name": "stdout",
     "output_type": "stream",
     "text": [
      "1090\n",
      "58\n"
     ]
    }
   ],
   "source": [
    "p4_eta_edd_h3_train, p4_eta_edd_h3_test, p4_ata_train, p4_ata_test = train_test_split(p4_eta_edd_h3, p4_ata, test_size=0.05, random_state=73)\n",
    "print(len(p4_eta_edd_h3_train))\n",
    "print(len(p4_eta_edd_h3_test))"
   ],
   "metadata": {
    "collapsed": false,
    "pycharm": {
     "name": "#%%\n"
    }
   }
  },
  {
   "cell_type": "code",
   "execution_count": 44,
   "outputs": [
    {
     "data": {
      "text/plain": "               eta        e_d_d  source_h3_4_842cf31ffffffff  \\\ncount  1090.000000  1090.000000                  1090.000000   \nmean   2357.476147    27.349061                     0.826606   \nstd     525.858334    13.373414                     0.378762   \nmin    1801.000000     6.048000                     0.000000   \n25%    1981.000000    17.807750                     1.000000   \n50%    2203.500000    23.676000                     1.000000   \n75%    2568.750000    34.504000                     1.000000   \nmax    5231.000000   116.138000                     1.000000   \n\n       source_h3_4_842cf33ffffffff  source_h3_4_842cf35ffffffff  \\\ncount                  1090.000000                  1090.000000   \nmean                      0.017431                     0.066972   \nstd                       0.130932                     0.250089   \nmin                       0.000000                     0.000000   \n25%                       0.000000                     0.000000   \n50%                       0.000000                     0.000000   \n75%                       0.000000                     0.000000   \nmax                       1.000000                     1.000000   \n\n       source_h3_4_842cf37ffffffff  source_h3_4_842cf3dffffffff  \\\ncount                  1090.000000                  1090.000000   \nmean                      0.022018                     0.065138   \nstd                       0.146810                     0.246882   \nmin                       0.000000                     0.000000   \n25%                       0.000000                     0.000000   \n50%                       0.000000                     0.000000   \n75%                       0.000000                     0.000000   \nmax                       1.000000                     1.000000   \n\n       dest_h3_4_842cf27ffffffff  dest_h3_4_842cf31ffffffff  \\\ncount                1090.000000                1090.000000   \nmean                    0.000917                   0.762385   \nstd                     0.030289                   0.425817   \nmin                     0.000000                   0.000000   \n25%                     0.000000                   1.000000   \n50%                     0.000000                   1.000000   \n75%                     0.000000                   1.000000   \nmax                     1.000000                   1.000000   \n\n       dest_h3_4_842cf33ffffffff  dest_h3_4_842cf35ffffffff  \\\ncount                1090.000000                1090.000000   \nmean                    0.015596                   0.040367   \nstd                     0.123964                   0.196909   \nmin                     0.000000                   0.000000   \n25%                     0.000000                   0.000000   \n50%                     0.000000                   0.000000   \n75%                     0.000000                   0.000000   \nmax                     1.000000                   1.000000   \n\n       dest_h3_4_842cf37ffffffff  dest_h3_4_842cf39ffffffff  \\\ncount                1090.000000                1090.000000   \nmean                    0.014679                   0.023853   \nstd                     0.120319                   0.152662   \nmin                     0.000000                   0.000000   \n25%                     0.000000                   0.000000   \n50%                     0.000000                   0.000000   \n75%                     0.000000                   0.000000   \nmax                     1.000000                   1.000000   \n\n       dest_h3_4_842cf3dffffffff  \ncount                1090.000000  \nmean                    0.139450  \nstd                     0.346574  \nmin                     0.000000  \n25%                     0.000000  \n50%                     0.000000  \n75%                     0.000000  \nmax                     1.000000  ",
      "text/html": "<div>\n<style scoped>\n    .dataframe tbody tr th:only-of-type {\n        vertical-align: middle;\n    }\n\n    .dataframe tbody tr th {\n        vertical-align: top;\n    }\n\n    .dataframe thead th {\n        text-align: right;\n    }\n</style>\n<table border=\"1\" class=\"dataframe\">\n  <thead>\n    <tr style=\"text-align: right;\">\n      <th></th>\n      <th>eta</th>\n      <th>e_d_d</th>\n      <th>source_h3_4_842cf31ffffffff</th>\n      <th>source_h3_4_842cf33ffffffff</th>\n      <th>source_h3_4_842cf35ffffffff</th>\n      <th>source_h3_4_842cf37ffffffff</th>\n      <th>source_h3_4_842cf3dffffffff</th>\n      <th>dest_h3_4_842cf27ffffffff</th>\n      <th>dest_h3_4_842cf31ffffffff</th>\n      <th>dest_h3_4_842cf33ffffffff</th>\n      <th>dest_h3_4_842cf35ffffffff</th>\n      <th>dest_h3_4_842cf37ffffffff</th>\n      <th>dest_h3_4_842cf39ffffffff</th>\n      <th>dest_h3_4_842cf3dffffffff</th>\n    </tr>\n  </thead>\n  <tbody>\n    <tr>\n      <th>count</th>\n      <td>1090.000000</td>\n      <td>1090.000000</td>\n      <td>1090.000000</td>\n      <td>1090.000000</td>\n      <td>1090.000000</td>\n      <td>1090.000000</td>\n      <td>1090.000000</td>\n      <td>1090.000000</td>\n      <td>1090.000000</td>\n      <td>1090.000000</td>\n      <td>1090.000000</td>\n      <td>1090.000000</td>\n      <td>1090.000000</td>\n      <td>1090.000000</td>\n    </tr>\n    <tr>\n      <th>mean</th>\n      <td>2357.476147</td>\n      <td>27.349061</td>\n      <td>0.826606</td>\n      <td>0.017431</td>\n      <td>0.066972</td>\n      <td>0.022018</td>\n      <td>0.065138</td>\n      <td>0.000917</td>\n      <td>0.762385</td>\n      <td>0.015596</td>\n      <td>0.040367</td>\n      <td>0.014679</td>\n      <td>0.023853</td>\n      <td>0.139450</td>\n    </tr>\n    <tr>\n      <th>std</th>\n      <td>525.858334</td>\n      <td>13.373414</td>\n      <td>0.378762</td>\n      <td>0.130932</td>\n      <td>0.250089</td>\n      <td>0.146810</td>\n      <td>0.246882</td>\n      <td>0.030289</td>\n      <td>0.425817</td>\n      <td>0.123964</td>\n      <td>0.196909</td>\n      <td>0.120319</td>\n      <td>0.152662</td>\n      <td>0.346574</td>\n    </tr>\n    <tr>\n      <th>min</th>\n      <td>1801.000000</td>\n      <td>6.048000</td>\n      <td>0.000000</td>\n      <td>0.000000</td>\n      <td>0.000000</td>\n      <td>0.000000</td>\n      <td>0.000000</td>\n      <td>0.000000</td>\n      <td>0.000000</td>\n      <td>0.000000</td>\n      <td>0.000000</td>\n      <td>0.000000</td>\n      <td>0.000000</td>\n      <td>0.000000</td>\n    </tr>\n    <tr>\n      <th>25%</th>\n      <td>1981.000000</td>\n      <td>17.807750</td>\n      <td>1.000000</td>\n      <td>0.000000</td>\n      <td>0.000000</td>\n      <td>0.000000</td>\n      <td>0.000000</td>\n      <td>0.000000</td>\n      <td>1.000000</td>\n      <td>0.000000</td>\n      <td>0.000000</td>\n      <td>0.000000</td>\n      <td>0.000000</td>\n      <td>0.000000</td>\n    </tr>\n    <tr>\n      <th>50%</th>\n      <td>2203.500000</td>\n      <td>23.676000</td>\n      <td>1.000000</td>\n      <td>0.000000</td>\n      <td>0.000000</td>\n      <td>0.000000</td>\n      <td>0.000000</td>\n      <td>0.000000</td>\n      <td>1.000000</td>\n      <td>0.000000</td>\n      <td>0.000000</td>\n      <td>0.000000</td>\n      <td>0.000000</td>\n      <td>0.000000</td>\n    </tr>\n    <tr>\n      <th>75%</th>\n      <td>2568.750000</td>\n      <td>34.504000</td>\n      <td>1.000000</td>\n      <td>0.000000</td>\n      <td>0.000000</td>\n      <td>0.000000</td>\n      <td>0.000000</td>\n      <td>0.000000</td>\n      <td>1.000000</td>\n      <td>0.000000</td>\n      <td>0.000000</td>\n      <td>0.000000</td>\n      <td>0.000000</td>\n      <td>0.000000</td>\n    </tr>\n    <tr>\n      <th>max</th>\n      <td>5231.000000</td>\n      <td>116.138000</td>\n      <td>1.000000</td>\n      <td>1.000000</td>\n      <td>1.000000</td>\n      <td>1.000000</td>\n      <td>1.000000</td>\n      <td>1.000000</td>\n      <td>1.000000</td>\n      <td>1.000000</td>\n      <td>1.000000</td>\n      <td>1.000000</td>\n      <td>1.000000</td>\n      <td>1.000000</td>\n    </tr>\n  </tbody>\n</table>\n</div>"
     },
     "execution_count": 44,
     "metadata": {},
     "output_type": "execute_result"
    }
   ],
   "source": [
    "p4_dummy_train_rides = pd.get_dummies(p4_eta_edd_h3_train, prefix={'source_h3_4': 'source_h3_4',\n",
    "                                                             'dest_h3_4': 'dest_h3_4'},\n",
    "                                   drop_first=True)\n",
    "p4_dummy_train_rides.describe()"
   ],
   "metadata": {
    "collapsed": false,
    "pycharm": {
     "name": "#%%\n"
    }
   }
  },
  {
   "cell_type": "code",
   "execution_count": 45,
   "outputs": [
    {
     "data": {
      "text/plain": "               eta        e_d_d\ncount  1089.000000  1089.000000\nmean   2355.837466    27.272992\nstd     523.308234    13.141520\nmin    1801.000000     6.048000\n25%    1981.000000    17.805000\n50%    2203.000000    23.663000\n75%    2568.000000    34.471001\nmax    5231.000000   116.138000",
      "text/html": "<div>\n<style scoped>\n    .dataframe tbody tr th:only-of-type {\n        vertical-align: middle;\n    }\n\n    .dataframe tbody tr th {\n        vertical-align: top;\n    }\n\n    .dataframe thead th {\n        text-align: right;\n    }\n</style>\n<table border=\"1\" class=\"dataframe\">\n  <thead>\n    <tr style=\"text-align: right;\">\n      <th></th>\n      <th>eta</th>\n      <th>e_d_d</th>\n    </tr>\n  </thead>\n  <tbody>\n    <tr>\n      <th>count</th>\n      <td>1089.000000</td>\n      <td>1089.000000</td>\n    </tr>\n    <tr>\n      <th>mean</th>\n      <td>2355.837466</td>\n      <td>27.272992</td>\n    </tr>\n    <tr>\n      <th>std</th>\n      <td>523.308234</td>\n      <td>13.141520</td>\n    </tr>\n    <tr>\n      <th>min</th>\n      <td>1801.000000</td>\n      <td>6.048000</td>\n    </tr>\n    <tr>\n      <th>25%</th>\n      <td>1981.000000</td>\n      <td>17.805000</td>\n    </tr>\n    <tr>\n      <th>50%</th>\n      <td>2203.000000</td>\n      <td>23.663000</td>\n    </tr>\n    <tr>\n      <th>75%</th>\n      <td>2568.000000</td>\n      <td>34.471001</td>\n    </tr>\n    <tr>\n      <th>max</th>\n      <td>5231.000000</td>\n      <td>116.138000</td>\n    </tr>\n  </tbody>\n</table>\n</div>"
     },
     "execution_count": 45,
     "metadata": {},
     "output_type": "execute_result"
    }
   ],
   "source": [
    "p4_geo_noise = np.count_nonzero(p4_dummy_train_rides, axis=0) < 10\n",
    "\n",
    "p4_cols = p4_dummy_train_rides.columns\n",
    "for col, noise in zip(p4_cols, p4_geo_noise):\n",
    "    if noise:\n",
    "        # DOESN'T REINDEX\n",
    "        p4_eta_edd_h3_train = p4_eta_edd_h3_train[p4_dummy_train_rides[col] == 0]\n",
    "        p4_ata_train = p4_ata_train[p4_dummy_train_rides[col] == 0]\n",
    "\n",
    "p4_eta_edd_h3_train.describe()"
   ],
   "metadata": {
    "collapsed": false,
    "pycharm": {
     "name": "#%%\n"
    }
   }
  },
  {
   "cell_type": "code",
   "execution_count": 46,
   "outputs": [
    {
     "name": "stdout",
     "output_type": "stream",
     "text": [
      "[1090 1090  901   19   73   24   71    1  831   17   44   16   26  152]\n",
      "Index(['eta', 'e_d_d', 'source_h3_4_842cf31ffffffff',\n",
      "       'source_h3_4_842cf33ffffffff', 'source_h3_4_842cf35ffffffff',\n",
      "       'source_h3_4_842cf37ffffffff', 'source_h3_4_842cf3dffffffff',\n",
      "       'dest_h3_4_842cf27ffffffff', 'dest_h3_4_842cf31ffffffff',\n",
      "       'dest_h3_4_842cf33ffffffff', 'dest_h3_4_842cf35ffffffff',\n",
      "       'dest_h3_4_842cf37ffffffff', 'dest_h3_4_842cf39ffffffff',\n",
      "       'dest_h3_4_842cf3dffffffff'],\n",
      "      dtype='object')\n"
     ]
    }
   ],
   "source": [
    "print(np.count_nonzero(p4_dummy_train_rides, axis=0))\n",
    "print(p4_dummy_train_rides.columns)"
   ],
   "metadata": {
    "collapsed": false,
    "pycharm": {
     "name": "#%%\n"
    }
   }
  },
  {
   "cell_type": "code",
   "execution_count": 47,
   "outputs": [],
   "source": [
    "p4_ohe = ColumnTransformer(\n",
    "    [('OHE', OneHotEncoder(handle_unknown='ignore', sparse=False), ['source_h3_4', 'dest_h3_4'])],\n",
    "    remainder='passthrough'\n",
    ").fit(p4_eta_edd_h3_train)"
   ],
   "metadata": {
    "collapsed": false,
    "pycharm": {
     "name": "#%%\n"
    }
   }
  },
  {
   "cell_type": "code",
   "execution_count": 48,
   "outputs": [],
   "source": [
    "p4_eta_edd_h3_train_transformed = p4_ohe.transform(p4_eta_edd_h3_train)\n",
    "p4_eta_edd_h3_test_transformed = p4_ohe.transform(p4_eta_edd_h3_test)"
   ],
   "metadata": {
    "collapsed": false,
    "pycharm": {
     "name": "#%%\n"
    }
   }
  },
  {
   "cell_type": "code",
   "execution_count": 49,
   "outputs": [
    {
     "name": "stdout",
     "output_type": "stream",
     "text": [
      "[ 633.47733001  237.17766398  -38.66121995 -312.17971403 -218.23673935\n",
      " -301.57732067  397.2119181   288.28817461 -308.11913622  -60.03807356\n",
      " -117.14415868 -118.23176186  -81.96696239    1.44165079   -4.67415288]\n",
      "-415.63403749689314\n"
     ]
    }
   ],
   "source": [
    "p4_reg = LinearRegression().fit(p4_eta_edd_h3_train_transformed, p4_ata_train)\n",
    "print(p4_reg.coef_)\n",
    "print(p4_reg.intercept_)"
   ],
   "metadata": {
    "collapsed": false,
    "pycharm": {
     "name": "#%%\n"
    }
   }
  },
  {
   "cell_type": "code",
   "execution_count": 50,
   "outputs": [],
   "source": [
    "p4_ata_train_pred = p4_reg.predict(p4_eta_edd_h3_train_transformed)\n",
    "p4_ata_test_pred = p4_reg.predict(p4_eta_edd_h3_test_transformed)"
   ],
   "metadata": {
    "collapsed": false,
    "pycharm": {
     "name": "#%%\n"
    }
   }
  },
  {
   "cell_type": "code",
   "execution_count": 51,
   "outputs": [
    {
     "data": {
      "text/plain": "array([[0.00000000e+00, 1.00000000e+00, 0.00000000e+00, ...,\n        0.00000000e+00, 2.49900000e+03, 4.10480003e+01],\n       [0.00000000e+00, 1.00000000e+00, 0.00000000e+00, ...,\n        0.00000000e+00, 3.23700000e+03, 4.52099991e+01],\n       [0.00000000e+00, 1.00000000e+00, 0.00000000e+00, ...,\n        1.00000000e+00, 2.06700000e+03, 3.12380009e+01],\n       ...,\n       [0.00000000e+00, 1.00000000e+00, 0.00000000e+00, ...,\n        0.00000000e+00, 3.39600000e+03, 5.25239983e+01],\n       [0.00000000e+00, 1.00000000e+00, 0.00000000e+00, ...,\n        0.00000000e+00, 2.37800000e+03, 2.30039997e+01],\n       [0.00000000e+00, 1.00000000e+00, 0.00000000e+00, ...,\n        0.00000000e+00, 2.43200000e+03, 2.25939999e+01]])"
     },
     "execution_count": 51,
     "metadata": {},
     "output_type": "execute_result"
    }
   ],
   "source": [
    "p4_eta_edd_h3_train_transformed"
   ],
   "metadata": {
    "collapsed": false,
    "pycharm": {
     "name": "#%%\n"
    }
   }
  },
  {
   "cell_type": "code",
   "execution_count": 52,
   "outputs": [
    {
     "name": "stdout",
     "output_type": "stream",
     "text": [
      "ETA train MAE 893.9357208448117\n",
      "prediction train MAE 531.4817678260782\n",
      "ETA test MAE  921.3965517241379\n",
      "prediction test MAE 686.751834832589\n",
      "ETA train MSE 1276766.2203856749\n",
      "prediction train MSE 481447.75653419277\n",
      "ETA test MSE  1433092.4655172413\n",
      "prediction test MSE 804401.4516166177\n",
      "ETA train explained_variance_score 0.38833909844007064\n",
      "prediction train explained_variance_score 0.4738247845946859\n",
      "ETA test explained_variance_score  0.21839702919065196\n",
      "prediction test explained_variance_score 0.26677186431703703\n",
      "ETA train median_absolute_error 730.0\n",
      "prediction train median_absolute_error 424.77749194156377\n",
      "ETA test median_absolute_error  694.0\n",
      "prediction test median_absolute_error 585.620734480683\n",
      "ETA train r2_score -0.3953803541837655\n",
      "prediction train r2_score 0.4738247845946859\n",
      "ETA test r2_score  -0.31549159768053325\n",
      "prediction test r2_score 0.2616084612643903\n",
      "ETA train MAPE 0.2563835743090772\n",
      "prediction train MAPE 0.1843560061832306\n",
      "ETA test MAPE  0.307574922241658\n",
      "prediction test MAPE 0.2980713604272982\n"
     ]
    }
   ],
   "source": [
    "print(\"ETA train MAE\", mean_absolute_error(p4_ata_train, p4_eta_edd_h3_train_transformed[:, 13]))\n",
    "print(\"prediction train MAE\", mean_absolute_error(p4_ata_train, p4_ata_train_pred))\n",
    "\n",
    "print(\"ETA test MAE \", mean_absolute_error(p4_ata_test, p4_eta_edd_h3_test_transformed[:, 13]))\n",
    "print(\"prediction test MAE\", mean_absolute_error(p4_ata_test, p4_ata_test_pred))\n",
    "\n",
    "print(\"ETA train MSE\", mean_squared_error(p4_ata_train, p4_eta_edd_h3_train_transformed[:, 13]))\n",
    "print(\"prediction train MSE\", mean_squared_error(p4_ata_train, p4_ata_train_pred))\n",
    "\n",
    "print(\"ETA test MSE \", mean_squared_error(p4_ata_test, p4_eta_edd_h3_test_transformed[:, 13]))\n",
    "print(\"prediction test MSE\", mean_squared_error(p4_ata_test, p4_ata_test_pred))\n",
    "\n",
    "print(\"ETA train explained_variance_score\", explained_variance_score(p4_ata_train, p4_eta_edd_h3_train_transformed[:, 13]))\n",
    "print(\"prediction train explained_variance_score\", explained_variance_score(p4_ata_train, p4_ata_train_pred))\n",
    "\n",
    "print(\"ETA test explained_variance_score \", explained_variance_score(p4_ata_test, p4_eta_edd_h3_test_transformed[:, 13]))\n",
    "print(\"prediction test explained_variance_score\", explained_variance_score(p4_ata_test, p4_ata_test_pred))\n",
    "\n",
    "print(\"ETA train median_absolute_error\", median_absolute_error(p4_ata_train, p4_eta_edd_h3_train_transformed[:, 13]))\n",
    "print(\"prediction train median_absolute_error\", median_absolute_error(p4_ata_train, p4_ata_train_pred))\n",
    "\n",
    "print(\"ETA test median_absolute_error \", median_absolute_error(p4_ata_test, p4_eta_edd_h3_test_transformed[:, 13]))\n",
    "print(\"prediction test median_absolute_error\", median_absolute_error(p4_ata_test, p4_ata_test_pred))\n",
    "\n",
    "print(\"ETA train r2_score\", r2_score(p4_ata_train, p4_eta_edd_h3_train_transformed[:, 13]))\n",
    "print(\"prediction train r2_score\", r2_score(p4_ata_train, p4_ata_train_pred))\n",
    "\n",
    "print(\"ETA test r2_score \", r2_score(p4_ata_test, p4_eta_edd_h3_test_transformed[:, 13]))\n",
    "print(\"prediction test r2_score\", r2_score(p4_ata_test, p4_ata_test_pred))\n",
    "\n",
    "print(\"ETA train MAPE\", mean_absolute_percentage_error(p4_ata_train, p4_eta_edd_h3_train_transformed[:, 13]))\n",
    "print(\"prediction train MAPE\", mean_absolute_percentage_error(p4_ata_train, p4_ata_train_pred))\n",
    "\n",
    "print(\"ETA test MAPE \", mean_absolute_percentage_error(p4_ata_test, p4_eta_edd_h3_test_transformed[:, 13]))\n",
    "print(\"prediction test MAPE\", mean_absolute_percentage_error(p4_ata_test, p4_ata_test_pred))"
   ],
   "metadata": {
    "collapsed": false,
    "pycharm": {
     "name": "#%%\n"
    }
   }
  },
  {
   "cell_type": "code",
   "execution_count": 64,
   "outputs": [],
   "source": [],
   "metadata": {
    "collapsed": false,
    "pycharm": {
     "name": "#%%\n"
    }
   }
  }
 ],
 "metadata": {
  "kernelspec": {
   "display_name": "Python 3",
   "language": "python",
   "name": "python3"
  },
  "language_info": {
   "codemirror_mode": {
    "name": "ipython",
    "version": 2
   },
   "file_extension": ".py",
   "mimetype": "text/x-python",
   "name": "python",
   "nbconvert_exporter": "python",
   "pygments_lexer": "ipython2",
   "version": "2.7.6"
  }
 },
 "nbformat": 4,
 "nbformat_minor": 0
}